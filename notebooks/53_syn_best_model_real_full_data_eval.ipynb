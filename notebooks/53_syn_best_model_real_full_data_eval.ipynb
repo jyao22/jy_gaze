{
 "cells": [
  {
   "cell_type": "code",
   "execution_count": 1,
   "id": "9132df96",
   "metadata": {},
   "outputs": [],
   "source": [
    "# Use the best model for each checkpoint folder to test maes for all data folds"
   ]
  },
  {
   "cell_type": "code",
   "execution_count": 2,
   "id": "662efc9c",
   "metadata": {},
   "outputs": [],
   "source": [
    "import os, argparse\n",
    "import numpy as np\n",
    "import matplotlib.pyplot as plt\n",
    "from datetime import datetime\n",
    "from pytz import timezone\n",
    "from pathlib import Path\n",
    "import torch\n",
    "import torch.nn as nn\n",
    "from torch.autograd import Variable\n",
    "from torch.utils.data import DataLoader\n",
    "from torchvision import transforms\n",
    "import torch.backends.cudnn as cudnn\n",
    "import torchvision\n",
    "import wandb\n",
    "\n",
    "import datasets\n",
    "# from utils import select_device, natural_keys, gazeto3d, angular, getArch\n",
    "from utils import select_device, natural_keys, gazeto3d, angular, getArch\n",
    "from model import L2CS"
   ]
  },
  {
   "cell_type": "code",
   "execution_count": 3,
   "id": "ed29c578",
   "metadata": {},
   "outputs": [],
   "source": [
    "args = argparse.Namespace()\n",
    "args.gazeMpiimage_dir = '/project/data/Image'  #real data \n",
    "args.gazeMpiilabel_dir = '/project/data/Label'  #real label\n",
    "# args.output = '/project/results/soutput1/snapshots/'\n",
    "args.dataset = 'mpiigaze'\n",
    "args.snapshot='/project/results/soutput1/snapshots/'\n",
    "# args.evalpath = '/project/results/sroutput1/evaluation/'\n",
    "args.gpu_id = '0,1,2,3'\n",
    "args.gpu_id = '0'\n",
    "args.batch_size = 20\n",
    "args.arch = 'ResNet50'\n",
    "args.bins=35\n",
    "args.angle = 180\n",
    "args.bin_width = 4\n"
   ]
  },
  {
   "cell_type": "code",
   "execution_count": 4,
   "id": "d0e11321",
   "metadata": {},
   "outputs": [],
   "source": [
    "batch_size=args.batch_size\n",
    "arch=args.arch\n",
    "data_set=args.dataset\n",
    "# evalpath =args.evalpath\n",
    "snapshot_path = args.snapshot\n",
    "bins=args.bins\n",
    "angle=args.angle\n",
    "bin_width=args.bin_width\n",
    "gazeMpiimage_dir = args.gazeMpiimage_dir\n",
    "gazeMpiilabel_dir=args.gazeMpiilabel_dir"
   ]
  },
  {
   "cell_type": "code",
   "execution_count": 5,
   "id": "0504fda4",
   "metadata": {},
   "outputs": [],
   "source": [
    "# args = parse_args()\n",
    "cudnn.enabled = True\n",
    "gpu = select_device(args.gpu_id, batch_size=args.batch_size)\n",
    "transformations = transforms.Compose([\n",
    "    transforms.Resize(448),\n",
    "    transforms.ToTensor(),\n",
    "    transforms.Normalize(\n",
    "        mean=[0.485, 0.456, 0.406],\n",
    "        std=[0.229, 0.224, 0.225]\n",
    "    )\n",
    "])\n",
    "\n",
    "model_used= getArch(arch, bins)  #resnet50 and 28 bins"
   ]
  },
  {
   "cell_type": "code",
   "execution_count": 6,
   "id": "2a3aa734",
   "metadata": {},
   "outputs": [
    {
     "name": "stdout",
     "output_type": "stream",
     "text": [
      "fold   best_epoch error(degree)\n",
      " 0        34         2.818   \n",
      " 1        60         2.734   \n",
      " 2        36         3.001   \n",
      " 3        59         3.617   \n",
      " 4        57         3.239   \n",
      " 5        36         2.433   \n",
      " 6        49         3.298   \n",
      " 7        41         3.077   \n",
      " 8        29         4.815   \n",
      " 9        32         4.783   \n",
      " 10       30         2.987   \n",
      " 11       39         2.451   \n",
      " 12       8          3.177   \n",
      " 13       51         2.539   \n",
      " 14       10         3.189   \n"
     ]
    }
   ],
   "source": [
    "#read the fold epoch table\n",
    "dfile = Path(snapshot_path).parent/\"syn_syn_all_MAE.npy\"\n",
    "all_MAE = np.load(dfile)\n",
    "best_epoch = {}\n",
    "best_epoch_error = {}\n",
    "print(f\"fold   best_epoch error(degree)\")\n",
    "for idx, fdata in enumerate(all_MAE):\n",
    "#     print(idx, type(idx))\n",
    "    epoch_min_error = np.argmin(fdata)+1\n",
    "    print(f'{idx:^4} {np.argmin(fdata)+1:^12} {fdata.min():^11.3f}')\n",
    "    best_epoch[idx+1] = epoch_min_error\n",
    "    best_epoch_error[idx+1]=fdata.min()"
   ]
  },
  {
   "cell_type": "code",
   "execution_count": 7,
   "id": "6e2eff08",
   "metadata": {},
   "outputs": [
    {
     "name": "stdout",
     "output_type": "stream",
     "text": [
      "0:60 1:60 2:60 3:60 4:60 5:60 6:60 7:60 8:60 9:60 10:60 11:60 12:60 13:60 14:60 "
     ]
    }
   ],
   "source": [
    "# check if we have the correct number of checkpoint files \n",
    "ppath = snapshot_path\n",
    "for fold in range(15):\n",
    "    foldstr = f\"fold{fold:0>2}\"\n",
    "    cpath =os.path.join(ppath, foldstr)\n",
    "    files = os.listdir(cpath)\n",
    "    print(f'{fold}:{len(files)}',end=\" \")"
   ]
  },
  {
   "cell_type": "code",
   "execution_count": 8,
   "id": "72df5465",
   "metadata": {},
   "outputs": [
    {
     "name": "stdout",
     "output_type": "stream",
     "text": [
      "06/28/2022 13:17:43\n"
     ]
    }
   ],
   "source": [
    "def get_now():\n",
    "    now = datetime.utcnow()\n",
    "    now = now.astimezone(timezone('US/Pacific'))\n",
    "    date_format='%m/%d/%Y %H:%M:%S'\n",
    "    now = now.strftime(date_format) \n",
    "    return now\n",
    "print(get_now())"
   ]
  },
  {
   "cell_type": "code",
   "execution_count": 9,
   "id": "aac76d00",
   "metadata": {},
   "outputs": [
    {
     "name": "stdout",
     "output_type": "stream",
     "text": [
      "['/project/data/Label/p00.label', '/project/data/Label/p01.label', '/project/data/Label/p02.label', '/project/data/Label/p03.label', '/project/data/Label/p04.label', '/project/data/Label/p05.label', '/project/data/Label/p06.label', '/project/data/Label/p07.label', '/project/data/Label/p08.label', '/project/data/Label/p09.label', '/project/data/Label/p10.label', '/project/data/Label/p11.label', '/project/data/Label/p12.label', '/project/data/Label/p13.label', '/project/data/Label/p14.label']\n"
     ]
    },
    {
     "name": "stderr",
     "output_type": "stream",
     "text": [
      "\u001b[34m\u001b[1mwandb\u001b[0m: Currently logged in as: \u001b[33msynthesis-ai\u001b[0m (use `wandb login --relogin` to force relogin)\n"
     ]
    },
    {
     "data": {
      "text/html": [
       "wandb version 0.12.19 is available!  To upgrade, please run:\n",
       " $ pip install wandb --upgrade"
      ],
      "text/plain": [
       "<IPython.core.display.HTML object>"
      ]
     },
     "metadata": {},
     "output_type": "display_data"
    },
    {
     "data": {
      "text/html": [
       "Tracking run with wandb version 0.12.15"
      ],
      "text/plain": [
       "<IPython.core.display.HTML object>"
      ]
     },
     "metadata": {},
     "output_type": "display_data"
    },
    {
     "data": {
      "text/html": [
       "Run data is saved locally in <code>/project/notebooks/wandb/run-20220628_201746-2al4es1p</code>"
      ],
      "text/plain": [
       "<IPython.core.display.HTML object>"
      ]
     },
     "metadata": {},
     "output_type": "display_data"
    },
    {
     "data": {
      "text/html": [
       "Syncing run <strong><a href=\"https://wandb.ai/synthesis-ai/53_best_checkpoint_model_all_real_data_folds/runs/2al4es1p\" target=\"_blank\">curious-sun-6</a></strong> to <a href=\"https://wandb.ai/synthesis-ai/53_best_checkpoint_model_all_real_data_folds\" target=\"_blank\">Weights & Biases</a> (<a href=\"https://wandb.me/run\" target=\"_blank\">docs</a>)<br/>"
      ],
      "text/plain": [
       "<IPython.core.display.HTML object>"
      ]
     },
     "metadata": {},
     "output_type": "display_data"
    },
    {
     "name": "stdout",
     "output_type": "stream",
     "text": [
      "cfold=fold00\n",
      "0 items removed from dataset that have an angle > 180\n",
      "\n",
      "test configuration: gpu_id=cuda:0, batch_size=20\n",
      "model_arch=ResNet50 Start testing dataset=mpiigaze\n",
      "cFOLD=0 dFOLD=0--06/28/2022 13:17:52----\n",
      "[cfold0---dfold 0] Total Num:3000, MAE:4.168029126390015  06/28/2022 13:18:07\n",
      "0 items removed from dataset that have an angle > 180\n",
      "\n",
      "test configuration: gpu_id=cuda:0, batch_size=20\n",
      "model_arch=ResNet50 Start testing dataset=mpiigaze\n",
      "cFOLD=0 dFOLD=1--06/28/2022 13:18:07----\n",
      "[cfold0---dfold 1] Total Num:3000, MAE:5.940425395884837  06/28/2022 13:18:20\n",
      "0 items removed from dataset that have an angle > 180\n",
      "\n",
      "test configuration: gpu_id=cuda:0, batch_size=20\n",
      "model_arch=ResNet50 Start testing dataset=mpiigaze\n",
      "cFOLD=0 dFOLD=2--06/28/2022 13:18:20----\n",
      "[cfold0---dfold 2] Total Num:3000, MAE:6.201332691154562  06/28/2022 13:18:33\n",
      "0 items removed from dataset that have an angle > 180\n",
      "\n",
      "test configuration: gpu_id=cuda:0, batch_size=20\n",
      "model_arch=ResNet50 Start testing dataset=mpiigaze\n",
      "cFOLD=0 dFOLD=3--06/28/2022 13:18:33----\n",
      "[cfold0---dfold 3] Total Num:3000, MAE:6.9062733808350325  06/28/2022 13:18:46\n",
      "0 items removed from dataset that have an angle > 180\n",
      "\n",
      "test configuration: gpu_id=cuda:0, batch_size=20\n",
      "model_arch=ResNet50 Start testing dataset=mpiigaze\n",
      "cFOLD=0 dFOLD=4--06/28/2022 13:18:46----\n",
      "[cfold0---dfold 4] Total Num:3000, MAE:5.983644242903728  06/28/2022 13:18:59\n",
      "0 items removed from dataset that have an angle > 180\n",
      "\n",
      "test configuration: gpu_id=cuda:0, batch_size=20\n",
      "model_arch=ResNet50 Start testing dataset=mpiigaze\n",
      "cFOLD=0 dFOLD=5--06/28/2022 13:18:59----\n",
      "[cfold0---dfold 5] Total Num:3000, MAE:6.057898339903024  06/28/2022 13:19:11\n",
      "0 items removed from dataset that have an angle > 180\n",
      "\n",
      "test configuration: gpu_id=cuda:0, batch_size=20\n",
      "model_arch=ResNet50 Start testing dataset=mpiigaze\n",
      "cFOLD=0 dFOLD=6--06/28/2022 13:19:11----\n",
      "[cfold0---dfold 6] Total Num:3000, MAE:10.143943476943301  06/28/2022 13:19:25\n",
      "0 items removed from dataset that have an angle > 180\n",
      "\n",
      "test configuration: gpu_id=cuda:0, batch_size=20\n",
      "model_arch=ResNet50 Start testing dataset=mpiigaze\n",
      "cFOLD=0 dFOLD=7--06/28/2022 13:19:25----\n",
      "[cfold0---dfold 7] Total Num:3000, MAE:6.759560414051888  06/28/2022 13:19:38\n",
      "0 items removed from dataset that have an angle > 180\n",
      "\n",
      "test configuration: gpu_id=cuda:0, batch_size=20\n",
      "model_arch=ResNet50 Start testing dataset=mpiigaze\n",
      "cFOLD=0 dFOLD=8--06/28/2022 13:19:38----\n",
      "[cfold0---dfold 8] Total Num:3000, MAE:7.425216994859313  06/28/2022 13:19:50\n",
      "0 items removed from dataset that have an angle > 180\n",
      "\n",
      "test configuration: gpu_id=cuda:0, batch_size=20\n",
      "model_arch=ResNet50 Start testing dataset=mpiigaze\n",
      "cFOLD=0 dFOLD=9--06/28/2022 13:19:50----\n",
      "[cfold0---dfold 9] Total Num:3000, MAE:7.7126325586816264  06/28/2022 13:20:03\n",
      "0 items removed from dataset that have an angle > 180\n",
      "\n",
      "test configuration: gpu_id=cuda:0, batch_size=20\n",
      "model_arch=ResNet50 Start testing dataset=mpiigaze\n",
      "cFOLD=0 dFOLD=10--06/28/2022 13:20:03----\n",
      "[cfold0---dfold 10] Total Num:3000, MAE:8.064016669211245  06/28/2022 13:20:16\n",
      "0 items removed from dataset that have an angle > 180\n",
      "\n",
      "test configuration: gpu_id=cuda:0, batch_size=20\n",
      "model_arch=ResNet50 Start testing dataset=mpiigaze\n",
      "cFOLD=0 dFOLD=11--06/28/2022 13:20:16----\n",
      "[cfold0---dfold 11] Total Num:3000, MAE:8.074110459206965  06/28/2022 13:20:29\n",
      "0 items removed from dataset that have an angle > 180\n",
      "\n",
      "test configuration: gpu_id=cuda:0, batch_size=20\n",
      "model_arch=ResNet50 Start testing dataset=mpiigaze\n",
      "cFOLD=0 dFOLD=12--06/28/2022 13:20:29----\n",
      "[cfold0---dfold 12] Total Num:3000, MAE:7.561054191464771  06/28/2022 13:20:42\n",
      "0 items removed from dataset that have an angle > 180\n",
      "\n",
      "test configuration: gpu_id=cuda:0, batch_size=20\n",
      "model_arch=ResNet50 Start testing dataset=mpiigaze\n",
      "cFOLD=0 dFOLD=13--06/28/2022 13:20:42----\n",
      "[cfold0---dfold 13] Total Num:3000, MAE:7.333368061658078  06/28/2022 13:20:55\n",
      "0 items removed from dataset that have an angle > 180\n",
      "\n",
      "test configuration: gpu_id=cuda:0, batch_size=20\n",
      "model_arch=ResNet50 Start testing dataset=mpiigaze\n",
      "cFOLD=0 dFOLD=14--06/28/2022 13:20:55----\n",
      "[cfold0---dfold 14] Total Num:3000, MAE:5.797785860555207  06/28/2022 13:21:08\n",
      "[cfold0--] MAE for this fold best model:6.9419527909135725  06/28/2022 13:21:08\n"
     ]
    },
    {
     "data": {
      "text/html": [
       "Finishing last run (ID:2al4es1p) before initializing another..."
      ],
      "text/plain": [
       "<IPython.core.display.HTML object>"
      ]
     },
     "metadata": {},
     "output_type": "display_data"
    },
    {
     "data": {
      "text/html": [
       "Waiting for W&B process to finish... <strong style=\"color:green\">(success).</strong>"
      ],
      "text/plain": [
       "<IPython.core.display.HTML object>"
      ]
     },
     "metadata": {},
     "output_type": "display_data"
    },
    {
     "data": {
      "application/vnd.jupyter.widget-view+json": {
       "model_id": "",
       "version_major": 2,
       "version_minor": 0
      },
      "text/plain": [
       "VBox(children=(Label(value='0.001 MB of 0.001 MB uploaded (0.000 MB deduped)\\r'), FloatProgress(value=1.0, max…"
      ]
     },
     "metadata": {},
     "output_type": "display_data"
    },
    {
     "data": {
      "text/html": [
       "<style>\n",
       "    table.wandb td:nth-child(1) { padding: 0 10px; text-align: right }\n",
       "    .wandb-row { display: flex; flex-direction: row; flex-wrap: wrap; width: 100% }\n",
       "    .wandb-col { display: flex; flex-direction: column; flex-basis: 100%; flex: 1; padding: 10px; }\n",
       "    </style>\n",
       "<div class=\"wandb-row\"><div class=\"wandb-col\"><h3>Run history:</h3><br/><table class=\"wandb\"><tr><td>data fold</td><td>▁▁▂▃▃▃▄▅▅▅▆▇▇▇█</td></tr><tr><td>dfold_0_avg_mae</td><td>▁</td></tr><tr><td>dfold_10_avg_mae</td><td>▁</td></tr><tr><td>dfold_11_avg_mae</td><td>▁</td></tr><tr><td>dfold_12_avg_mae</td><td>▁</td></tr><tr><td>dfold_13_avg_mae</td><td>▁</td></tr><tr><td>dfold_14_avg_mae</td><td>▁</td></tr><tr><td>dfold_1_avg_mae</td><td>▁</td></tr><tr><td>dfold_2_avg_mae</td><td>▁</td></tr><tr><td>dfold_3_avg_mae</td><td>▁</td></tr><tr><td>dfold_4_avg_mae</td><td>▁</td></tr><tr><td>dfold_5_avg_mae</td><td>▁</td></tr><tr><td>dfold_6_avg_mae</td><td>▁</td></tr><tr><td>dfold_7_avg_mae</td><td>▁</td></tr><tr><td>dfold_8_avg_mae</td><td>▁</td></tr><tr><td>dfold_9_avg_mae</td><td>▁</td></tr></table><br/></div><div class=\"wandb-col\"><h3>Run summary:</h3><br/><table class=\"wandb\"><tr><td>data fold</td><td>14</td></tr><tr><td>dfold_0_avg_mae</td><td>4.16803</td></tr><tr><td>dfold_10_avg_mae</td><td>8.06402</td></tr><tr><td>dfold_11_avg_mae</td><td>8.07411</td></tr><tr><td>dfold_12_avg_mae</td><td>7.56105</td></tr><tr><td>dfold_13_avg_mae</td><td>7.33337</td></tr><tr><td>dfold_14_avg_mae</td><td>5.79779</td></tr><tr><td>dfold_1_avg_mae</td><td>5.94043</td></tr><tr><td>dfold_2_avg_mae</td><td>6.20133</td></tr><tr><td>dfold_3_avg_mae</td><td>6.90627</td></tr><tr><td>dfold_4_avg_mae</td><td>5.98364</td></tr><tr><td>dfold_5_avg_mae</td><td>6.0579</td></tr><tr><td>dfold_6_avg_mae</td><td>10.14394</td></tr><tr><td>dfold_7_avg_mae</td><td>6.75956</td></tr><tr><td>dfold_8_avg_mae</td><td>7.42522</td></tr><tr><td>dfold_9_avg_mae</td><td>7.71263</td></tr></table><br/></div></div>"
      ],
      "text/plain": [
       "<IPython.core.display.HTML object>"
      ]
     },
     "metadata": {},
     "output_type": "display_data"
    },
    {
     "data": {
      "text/html": [
       "Synced <strong style=\"color:#cdcd00\">curious-sun-6</strong>: <a href=\"https://wandb.ai/synthesis-ai/53_best_checkpoint_model_all_real_data_folds/runs/2al4es1p\" target=\"_blank\">https://wandb.ai/synthesis-ai/53_best_checkpoint_model_all_real_data_folds/runs/2al4es1p</a><br/>Synced 5 W&B file(s), 0 media file(s), 0 artifact file(s) and 0 other file(s)"
      ],
      "text/plain": [
       "<IPython.core.display.HTML object>"
      ]
     },
     "metadata": {},
     "output_type": "display_data"
    },
    {
     "data": {
      "text/html": [
       "Find logs at: <code>./wandb/run-20220628_201746-2al4es1p/logs</code>"
      ],
      "text/plain": [
       "<IPython.core.display.HTML object>"
      ]
     },
     "metadata": {},
     "output_type": "display_data"
    },
    {
     "data": {
      "text/html": [
       "Successfully finished last run (ID:2al4es1p). Initializing new run:<br/>"
      ],
      "text/plain": [
       "<IPython.core.display.HTML object>"
      ]
     },
     "metadata": {},
     "output_type": "display_data"
    },
    {
     "data": {
      "text/html": [
       "wandb version 0.12.19 is available!  To upgrade, please run:\n",
       " $ pip install wandb --upgrade"
      ],
      "text/plain": [
       "<IPython.core.display.HTML object>"
      ]
     },
     "metadata": {},
     "output_type": "display_data"
    },
    {
     "data": {
      "text/html": [
       "Tracking run with wandb version 0.12.15"
      ],
      "text/plain": [
       "<IPython.core.display.HTML object>"
      ]
     },
     "metadata": {},
     "output_type": "display_data"
    },
    {
     "data": {
      "text/html": [
       "Run data is saved locally in <code>/project/notebooks/wandb/run-20220628_202108-240o2qel</code>"
      ],
      "text/plain": [
       "<IPython.core.display.HTML object>"
      ]
     },
     "metadata": {},
     "output_type": "display_data"
    },
    {
     "data": {
      "text/html": [
       "Syncing run <strong><a href=\"https://wandb.ai/synthesis-ai/53_best_checkpoint_model_all_real_data_folds/runs/240o2qel\" target=\"_blank\">rosy-wildflower-7</a></strong> to <a href=\"https://wandb.ai/synthesis-ai/53_best_checkpoint_model_all_real_data_folds\" target=\"_blank\">Weights & Biases</a> (<a href=\"https://wandb.me/run\" target=\"_blank\">docs</a>)<br/>"
      ],
      "text/plain": [
       "<IPython.core.display.HTML object>"
      ]
     },
     "metadata": {},
     "output_type": "display_data"
    },
    {
     "name": "stdout",
     "output_type": "stream",
     "text": [
      "cfold=fold01\n",
      "0 items removed from dataset that have an angle > 180\n",
      "\n",
      "test configuration: gpu_id=cuda:0, batch_size=20\n",
      "model_arch=ResNet50 Start testing dataset=mpiigaze\n",
      "cFOLD=1 dFOLD=0--06/28/2022 13:21:17----\n",
      "[cfold1---dfold 0] Total Num:3000, MAE:5.544240323905396  06/28/2022 13:21:30\n",
      "0 items removed from dataset that have an angle > 180\n",
      "\n",
      "test configuration: gpu_id=cuda:0, batch_size=20\n",
      "model_arch=ResNet50 Start testing dataset=mpiigaze\n",
      "cFOLD=1 dFOLD=1--06/28/2022 13:21:30----\n",
      "[cfold1---dfold 1] Total Num:3000, MAE:5.940533345465822  06/28/2022 13:21:43\n",
      "0 items removed from dataset that have an angle > 180\n",
      "\n",
      "test configuration: gpu_id=cuda:0, batch_size=20\n",
      "model_arch=ResNet50 Start testing dataset=mpiigaze\n",
      "cFOLD=1 dFOLD=2--06/28/2022 13:21:43----\n",
      "[cfold1---dfold 2] Total Num:3000, MAE:5.705364661758208  06/28/2022 13:21:56\n",
      "0 items removed from dataset that have an angle > 180\n",
      "\n",
      "test configuration: gpu_id=cuda:0, batch_size=20\n",
      "model_arch=ResNet50 Start testing dataset=mpiigaze\n",
      "cFOLD=1 dFOLD=3--06/28/2022 13:21:56----\n",
      "[cfold1---dfold 3] Total Num:3000, MAE:8.583590335266944  06/28/2022 13:22:09\n",
      "0 items removed from dataset that have an angle > 180\n",
      "\n",
      "test configuration: gpu_id=cuda:0, batch_size=20\n",
      "model_arch=ResNet50 Start testing dataset=mpiigaze\n",
      "cFOLD=1 dFOLD=4--06/28/2022 13:22:09----\n",
      "[cfold1---dfold 4] Total Num:3000, MAE:5.5027263085023685  06/28/2022 13:22:22\n",
      "0 items removed from dataset that have an angle > 180\n",
      "\n",
      "test configuration: gpu_id=cuda:0, batch_size=20\n",
      "model_arch=ResNet50 Start testing dataset=mpiigaze\n",
      "cFOLD=1 dFOLD=5--06/28/2022 13:22:22----\n",
      "[cfold1---dfold 5] Total Num:3000, MAE:6.193230474334038  06/28/2022 13:22:35\n",
      "0 items removed from dataset that have an angle > 180\n",
      "\n",
      "test configuration: gpu_id=cuda:0, batch_size=20\n",
      "model_arch=ResNet50 Start testing dataset=mpiigaze\n",
      "cFOLD=1 dFOLD=6--06/28/2022 13:22:35----\n",
      "[cfold1---dfold 6] Total Num:3000, MAE:10.96850973785385  06/28/2022 13:22:48\n",
      "0 items removed from dataset that have an angle > 180\n",
      "\n",
      "test configuration: gpu_id=cuda:0, batch_size=20\n",
      "model_arch=ResNet50 Start testing dataset=mpiigaze\n",
      "cFOLD=1 dFOLD=7--06/28/2022 13:22:48----\n",
      "[cfold1---dfold 7] Total Num:3000, MAE:7.185720475405082  06/28/2022 13:23:01\n",
      "0 items removed from dataset that have an angle > 180\n",
      "\n",
      "test configuration: gpu_id=cuda:0, batch_size=20\n",
      "model_arch=ResNet50 Start testing dataset=mpiigaze\n",
      "cFOLD=1 dFOLD=8--06/28/2022 13:23:01----\n",
      "[cfold1---dfold 8] Total Num:3000, MAE:6.938839000758016  06/28/2022 13:23:14\n",
      "0 items removed from dataset that have an angle > 180\n",
      "\n",
      "test configuration: gpu_id=cuda:0, batch_size=20\n",
      "model_arch=ResNet50 Start testing dataset=mpiigaze\n",
      "cFOLD=1 dFOLD=9--06/28/2022 13:23:14----\n",
      "[cfold1---dfold 9] Total Num:3000, MAE:8.789037861323369  06/28/2022 13:23:27\n",
      "0 items removed from dataset that have an angle > 180\n",
      "\n",
      "test configuration: gpu_id=cuda:0, batch_size=20\n",
      "model_arch=ResNet50 Start testing dataset=mpiigaze\n",
      "cFOLD=1 dFOLD=10--06/28/2022 13:23:27----\n",
      "[cfold1---dfold 10] Total Num:3000, MAE:10.357794327048815  06/28/2022 13:23:39\n",
      "0 items removed from dataset that have an angle > 180\n",
      "\n",
      "test configuration: gpu_id=cuda:0, batch_size=20\n",
      "model_arch=ResNet50 Start testing dataset=mpiigaze\n",
      "cFOLD=1 dFOLD=11--06/28/2022 13:23:39----\n",
      "[cfold1---dfold 11] Total Num:3000, MAE:6.409874788908777  06/28/2022 13:23:52\n",
      "0 items removed from dataset that have an angle > 180\n",
      "\n",
      "test configuration: gpu_id=cuda:0, batch_size=20\n",
      "model_arch=ResNet50 Start testing dataset=mpiigaze\n",
      "cFOLD=1 dFOLD=12--06/28/2022 13:23:52----\n",
      "[cfold1---dfold 12] Total Num:3000, MAE:8.373212108583422  06/28/2022 13:24:05\n",
      "0 items removed from dataset that have an angle > 180\n",
      "\n",
      "test configuration: gpu_id=cuda:0, batch_size=20\n",
      "model_arch=ResNet50 Start testing dataset=mpiigaze\n",
      "cFOLD=1 dFOLD=13--06/28/2022 13:24:05----\n",
      "[cfold1---dfold 13] Total Num:3000, MAE:8.388063278174062  06/28/2022 13:24:18\n",
      "0 items removed from dataset that have an angle > 180\n",
      "\n",
      "test configuration: gpu_id=cuda:0, batch_size=20\n",
      "model_arch=ResNet50 Start testing dataset=mpiigaze\n",
      "cFOLD=1 dFOLD=14--06/28/2022 13:24:18----\n",
      "[cfold1---dfold 14] Total Num:3000, MAE:6.012317434409217  06/28/2022 13:24:31\n",
      "[cfold1--] MAE for this fold best model:7.392870297446492  06/28/2022 13:24:31\n"
     ]
    },
    {
     "data": {
      "text/html": [
       "Finishing last run (ID:240o2qel) before initializing another..."
      ],
      "text/plain": [
       "<IPython.core.display.HTML object>"
      ]
     },
     "metadata": {},
     "output_type": "display_data"
    },
    {
     "data": {
      "text/html": [
       "Waiting for W&B process to finish... <strong style=\"color:green\">(success).</strong>"
      ],
      "text/plain": [
       "<IPython.core.display.HTML object>"
      ]
     },
     "metadata": {},
     "output_type": "display_data"
    },
    {
     "data": {
      "application/vnd.jupyter.widget-view+json": {
       "model_id": "",
       "version_major": 2,
       "version_minor": 0
      },
      "text/plain": [
       "VBox(children=(Label(value='0.001 MB of 0.001 MB uploaded (0.000 MB deduped)\\r'), FloatProgress(value=1.0, max…"
      ]
     },
     "metadata": {},
     "output_type": "display_data"
    },
    {
     "data": {
      "text/html": [
       "<style>\n",
       "    table.wandb td:nth-child(1) { padding: 0 10px; text-align: right }\n",
       "    .wandb-row { display: flex; flex-direction: row; flex-wrap: wrap; width: 100% }\n",
       "    .wandb-col { display: flex; flex-direction: column; flex-basis: 100%; flex: 1; padding: 10px; }\n",
       "    </style>\n",
       "<div class=\"wandb-row\"><div class=\"wandb-col\"><h3>Run history:</h3><br/><table class=\"wandb\"><tr><td>data fold</td><td>▁▁▂▃▃▃▄▅▅▅▆▇▇▇█</td></tr><tr><td>dfold_0_avg_mae</td><td>▁</td></tr><tr><td>dfold_10_avg_mae</td><td>▁</td></tr><tr><td>dfold_11_avg_mae</td><td>▁</td></tr><tr><td>dfold_12_avg_mae</td><td>▁</td></tr><tr><td>dfold_13_avg_mae</td><td>▁</td></tr><tr><td>dfold_14_avg_mae</td><td>▁</td></tr><tr><td>dfold_1_avg_mae</td><td>▁</td></tr><tr><td>dfold_2_avg_mae</td><td>▁</td></tr><tr><td>dfold_3_avg_mae</td><td>▁</td></tr><tr><td>dfold_4_avg_mae</td><td>▁</td></tr><tr><td>dfold_5_avg_mae</td><td>▁</td></tr><tr><td>dfold_6_avg_mae</td><td>▁</td></tr><tr><td>dfold_7_avg_mae</td><td>▁</td></tr><tr><td>dfold_8_avg_mae</td><td>▁</td></tr><tr><td>dfold_9_avg_mae</td><td>▁</td></tr></table><br/></div><div class=\"wandb-col\"><h3>Run summary:</h3><br/><table class=\"wandb\"><tr><td>data fold</td><td>14</td></tr><tr><td>dfold_0_avg_mae</td><td>5.54424</td></tr><tr><td>dfold_10_avg_mae</td><td>10.35779</td></tr><tr><td>dfold_11_avg_mae</td><td>6.40987</td></tr><tr><td>dfold_12_avg_mae</td><td>8.37321</td></tr><tr><td>dfold_13_avg_mae</td><td>8.38806</td></tr><tr><td>dfold_14_avg_mae</td><td>6.01232</td></tr><tr><td>dfold_1_avg_mae</td><td>5.94053</td></tr><tr><td>dfold_2_avg_mae</td><td>5.70536</td></tr><tr><td>dfold_3_avg_mae</td><td>8.58359</td></tr><tr><td>dfold_4_avg_mae</td><td>5.50273</td></tr><tr><td>dfold_5_avg_mae</td><td>6.19323</td></tr><tr><td>dfold_6_avg_mae</td><td>10.96851</td></tr><tr><td>dfold_7_avg_mae</td><td>7.18572</td></tr><tr><td>dfold_8_avg_mae</td><td>6.93884</td></tr><tr><td>dfold_9_avg_mae</td><td>8.78904</td></tr></table><br/></div></div>"
      ],
      "text/plain": [
       "<IPython.core.display.HTML object>"
      ]
     },
     "metadata": {},
     "output_type": "display_data"
    },
    {
     "data": {
      "text/html": [
       "Synced <strong style=\"color:#cdcd00\">rosy-wildflower-7</strong>: <a href=\"https://wandb.ai/synthesis-ai/53_best_checkpoint_model_all_real_data_folds/runs/240o2qel\" target=\"_blank\">https://wandb.ai/synthesis-ai/53_best_checkpoint_model_all_real_data_folds/runs/240o2qel</a><br/>Synced 5 W&B file(s), 0 media file(s), 0 artifact file(s) and 0 other file(s)"
      ],
      "text/plain": [
       "<IPython.core.display.HTML object>"
      ]
     },
     "metadata": {},
     "output_type": "display_data"
    },
    {
     "data": {
      "text/html": [
       "Find logs at: <code>./wandb/run-20220628_202108-240o2qel/logs</code>"
      ],
      "text/plain": [
       "<IPython.core.display.HTML object>"
      ]
     },
     "metadata": {},
     "output_type": "display_data"
    },
    {
     "data": {
      "text/html": [
       "Successfully finished last run (ID:240o2qel). Initializing new run:<br/>"
      ],
      "text/plain": [
       "<IPython.core.display.HTML object>"
      ]
     },
     "metadata": {},
     "output_type": "display_data"
    },
    {
     "data": {
      "text/html": [
       "wandb version 0.12.19 is available!  To upgrade, please run:\n",
       " $ pip install wandb --upgrade"
      ],
      "text/plain": [
       "<IPython.core.display.HTML object>"
      ]
     },
     "metadata": {},
     "output_type": "display_data"
    },
    {
     "data": {
      "text/html": [
       "Tracking run with wandb version 0.12.15"
      ],
      "text/plain": [
       "<IPython.core.display.HTML object>"
      ]
     },
     "metadata": {},
     "output_type": "display_data"
    },
    {
     "data": {
      "text/html": [
       "Run data is saved locally in <code>/project/notebooks/wandb/run-20220628_202431-18ij9ird</code>"
      ],
      "text/plain": [
       "<IPython.core.display.HTML object>"
      ]
     },
     "metadata": {},
     "output_type": "display_data"
    },
    {
     "data": {
      "text/html": [
       "Syncing run <strong><a href=\"https://wandb.ai/synthesis-ai/53_best_checkpoint_model_all_real_data_folds/runs/18ij9ird\" target=\"_blank\">bright-galaxy-8</a></strong> to <a href=\"https://wandb.ai/synthesis-ai/53_best_checkpoint_model_all_real_data_folds\" target=\"_blank\">Weights & Biases</a> (<a href=\"https://wandb.me/run\" target=\"_blank\">docs</a>)<br/>"
      ],
      "text/plain": [
       "<IPython.core.display.HTML object>"
      ]
     },
     "metadata": {},
     "output_type": "display_data"
    },
    {
     "name": "stdout",
     "output_type": "stream",
     "text": [
      "cfold=fold02\n",
      "0 items removed from dataset that have an angle > 180\n",
      "\n",
      "test configuration: gpu_id=cuda:0, batch_size=20\n",
      "model_arch=ResNet50 Start testing dataset=mpiigaze\n",
      "cFOLD=2 dFOLD=0--06/28/2022 13:24:39----\n",
      "[cfold2---dfold 0] Total Num:3000, MAE:4.342412238734725  06/28/2022 13:24:52\n",
      "0 items removed from dataset that have an angle > 180\n",
      "\n",
      "test configuration: gpu_id=cuda:0, batch_size=20\n",
      "model_arch=ResNet50 Start testing dataset=mpiigaze\n",
      "cFOLD=2 dFOLD=1--06/28/2022 13:24:52----\n",
      "[cfold2---dfold 1] Total Num:3000, MAE:7.06441255942315  06/28/2022 13:25:05\n",
      "0 items removed from dataset that have an angle > 180\n",
      "\n",
      "test configuration: gpu_id=cuda:0, batch_size=20\n",
      "model_arch=ResNet50 Start testing dataset=mpiigaze\n",
      "cFOLD=2 dFOLD=2--06/28/2022 13:25:05----\n",
      "[cfold2---dfold 2] Total Num:3000, MAE:6.174765973449772  06/28/2022 13:25:18\n",
      "0 items removed from dataset that have an angle > 180\n",
      "\n",
      "test configuration: gpu_id=cuda:0, batch_size=20\n",
      "model_arch=ResNet50 Start testing dataset=mpiigaze\n",
      "cFOLD=2 dFOLD=3--06/28/2022 13:25:18----\n",
      "[cfold2---dfold 3] Total Num:3000, MAE:6.331733824358714  06/28/2022 13:25:31\n",
      "0 items removed from dataset that have an angle > 180\n",
      "\n",
      "test configuration: gpu_id=cuda:0, batch_size=20\n",
      "model_arch=ResNet50 Start testing dataset=mpiigaze\n",
      "cFOLD=2 dFOLD=4--06/28/2022 13:25:31----\n",
      "[cfold2---dfold 4] Total Num:3000, MAE:6.128803349345232  06/28/2022 13:25:44\n",
      "0 items removed from dataset that have an angle > 180\n",
      "\n",
      "test configuration: gpu_id=cuda:0, batch_size=20\n",
      "model_arch=ResNet50 Start testing dataset=mpiigaze\n",
      "cFOLD=2 dFOLD=5--06/28/2022 13:25:44----\n",
      "[cfold2---dfold 5] Total Num:3000, MAE:6.202605389994254  06/28/2022 13:25:58\n",
      "0 items removed from dataset that have an angle > 180\n",
      "\n",
      "test configuration: gpu_id=cuda:0, batch_size=20\n",
      "model_arch=ResNet50 Start testing dataset=mpiigaze\n",
      "cFOLD=2 dFOLD=6--06/28/2022 13:25:58----\n",
      "[cfold2---dfold 6] Total Num:3000, MAE:9.695070165504326  06/28/2022 13:26:10\n",
      "0 items removed from dataset that have an angle > 180\n",
      "\n",
      "test configuration: gpu_id=cuda:0, batch_size=20\n",
      "model_arch=ResNet50 Start testing dataset=mpiigaze\n",
      "cFOLD=2 dFOLD=7--06/28/2022 13:26:10----\n",
      "[cfold2---dfold 7] Total Num:3000, MAE:7.0126412535330385  06/28/2022 13:26:23\n",
      "0 items removed from dataset that have an angle > 180\n",
      "\n",
      "test configuration: gpu_id=cuda:0, batch_size=20\n",
      "model_arch=ResNet50 Start testing dataset=mpiigaze\n",
      "cFOLD=2 dFOLD=8--06/28/2022 13:26:23----\n",
      "[cfold2---dfold 8] Total Num:3000, MAE:7.216413795068548  06/28/2022 13:26:36\n",
      "0 items removed from dataset that have an angle > 180\n",
      "\n",
      "test configuration: gpu_id=cuda:0, batch_size=20\n",
      "model_arch=ResNet50 Start testing dataset=mpiigaze\n",
      "cFOLD=2 dFOLD=9--06/28/2022 13:26:36----\n",
      "[cfold2---dfold 9] Total Num:3000, MAE:7.55631835532058  06/28/2022 13:26:49\n",
      "0 items removed from dataset that have an angle > 180\n",
      "\n",
      "test configuration: gpu_id=cuda:0, batch_size=20\n",
      "model_arch=ResNet50 Start testing dataset=mpiigaze\n",
      "cFOLD=2 dFOLD=10--06/28/2022 13:26:49----\n",
      "[cfold2---dfold 10] Total Num:3000, MAE:9.656021098621771  06/28/2022 13:27:02\n",
      "0 items removed from dataset that have an angle > 180\n",
      "\n",
      "test configuration: gpu_id=cuda:0, batch_size=20\n",
      "model_arch=ResNet50 Start testing dataset=mpiigaze\n",
      "cFOLD=2 dFOLD=11--06/28/2022 13:27:02----\n",
      "[cfold2---dfold 11] Total Num:3000, MAE:7.88272594979628  06/28/2022 13:27:15\n",
      "0 items removed from dataset that have an angle > 180\n",
      "\n",
      "test configuration: gpu_id=cuda:0, batch_size=20\n",
      "model_arch=ResNet50 Start testing dataset=mpiigaze\n",
      "cFOLD=2 dFOLD=12--06/28/2022 13:27:15----\n",
      "[cfold2---dfold 12] Total Num:3000, MAE:8.329053503675679  06/28/2022 13:27:28\n",
      "0 items removed from dataset that have an angle > 180\n",
      "\n",
      "test configuration: gpu_id=cuda:0, batch_size=20\n",
      "model_arch=ResNet50 Start testing dataset=mpiigaze\n",
      "cFOLD=2 dFOLD=13--06/28/2022 13:27:28----\n",
      "[cfold2---dfold 13] Total Num:3000, MAE:7.628482877601006  06/28/2022 13:27:40\n",
      "0 items removed from dataset that have an angle > 180\n",
      "\n",
      "test configuration: gpu_id=cuda:0, batch_size=20\n",
      "model_arch=ResNet50 Start testing dataset=mpiigaze\n",
      "cFOLD=2 dFOLD=14--06/28/2022 13:27:41----\n",
      "[cfold2---dfold 14] Total Num:3000, MAE:6.336030197782541  06/28/2022 13:27:53\n",
      "[cfold2--] MAE for this fold best model:7.170499368813974  06/28/2022 13:27:53\n"
     ]
    },
    {
     "data": {
      "text/html": [
       "Finishing last run (ID:18ij9ird) before initializing another..."
      ],
      "text/plain": [
       "<IPython.core.display.HTML object>"
      ]
     },
     "metadata": {},
     "output_type": "display_data"
    },
    {
     "data": {
      "text/html": [
       "Waiting for W&B process to finish... <strong style=\"color:green\">(success).</strong>"
      ],
      "text/plain": [
       "<IPython.core.display.HTML object>"
      ]
     },
     "metadata": {},
     "output_type": "display_data"
    },
    {
     "data": {
      "application/vnd.jupyter.widget-view+json": {
       "model_id": "",
       "version_major": 2,
       "version_minor": 0
      },
      "text/plain": [
       "VBox(children=(Label(value='0.001 MB of 0.001 MB uploaded (0.000 MB deduped)\\r'), FloatProgress(value=1.0, max…"
      ]
     },
     "metadata": {},
     "output_type": "display_data"
    },
    {
     "data": {
      "text/html": [
       "<style>\n",
       "    table.wandb td:nth-child(1) { padding: 0 10px; text-align: right }\n",
       "    .wandb-row { display: flex; flex-direction: row; flex-wrap: wrap; width: 100% }\n",
       "    .wandb-col { display: flex; flex-direction: column; flex-basis: 100%; flex: 1; padding: 10px; }\n",
       "    </style>\n",
       "<div class=\"wandb-row\"><div class=\"wandb-col\"><h3>Run history:</h3><br/><table class=\"wandb\"><tr><td>data fold</td><td>▁▁▂▃▃▃▄▅▅▅▆▇▇▇█</td></tr><tr><td>dfold_0_avg_mae</td><td>▁</td></tr><tr><td>dfold_10_avg_mae</td><td>▁</td></tr><tr><td>dfold_11_avg_mae</td><td>▁</td></tr><tr><td>dfold_12_avg_mae</td><td>▁</td></tr><tr><td>dfold_13_avg_mae</td><td>▁</td></tr><tr><td>dfold_14_avg_mae</td><td>▁</td></tr><tr><td>dfold_1_avg_mae</td><td>▁</td></tr><tr><td>dfold_2_avg_mae</td><td>▁</td></tr><tr><td>dfold_3_avg_mae</td><td>▁</td></tr><tr><td>dfold_4_avg_mae</td><td>▁</td></tr><tr><td>dfold_5_avg_mae</td><td>▁</td></tr><tr><td>dfold_6_avg_mae</td><td>▁</td></tr><tr><td>dfold_7_avg_mae</td><td>▁</td></tr><tr><td>dfold_8_avg_mae</td><td>▁</td></tr><tr><td>dfold_9_avg_mae</td><td>▁</td></tr></table><br/></div><div class=\"wandb-col\"><h3>Run summary:</h3><br/><table class=\"wandb\"><tr><td>data fold</td><td>14</td></tr><tr><td>dfold_0_avg_mae</td><td>4.34241</td></tr><tr><td>dfold_10_avg_mae</td><td>9.65602</td></tr><tr><td>dfold_11_avg_mae</td><td>7.88273</td></tr><tr><td>dfold_12_avg_mae</td><td>8.32905</td></tr><tr><td>dfold_13_avg_mae</td><td>7.62848</td></tr><tr><td>dfold_14_avg_mae</td><td>6.33603</td></tr><tr><td>dfold_1_avg_mae</td><td>7.06441</td></tr><tr><td>dfold_2_avg_mae</td><td>6.17477</td></tr><tr><td>dfold_3_avg_mae</td><td>6.33173</td></tr><tr><td>dfold_4_avg_mae</td><td>6.1288</td></tr><tr><td>dfold_5_avg_mae</td><td>6.20261</td></tr><tr><td>dfold_6_avg_mae</td><td>9.69507</td></tr><tr><td>dfold_7_avg_mae</td><td>7.01264</td></tr><tr><td>dfold_8_avg_mae</td><td>7.21641</td></tr><tr><td>dfold_9_avg_mae</td><td>7.55632</td></tr></table><br/></div></div>"
      ],
      "text/plain": [
       "<IPython.core.display.HTML object>"
      ]
     },
     "metadata": {},
     "output_type": "display_data"
    },
    {
     "data": {
      "text/html": [
       "Synced <strong style=\"color:#cdcd00\">bright-galaxy-8</strong>: <a href=\"https://wandb.ai/synthesis-ai/53_best_checkpoint_model_all_real_data_folds/runs/18ij9ird\" target=\"_blank\">https://wandb.ai/synthesis-ai/53_best_checkpoint_model_all_real_data_folds/runs/18ij9ird</a><br/>Synced 5 W&B file(s), 0 media file(s), 0 artifact file(s) and 0 other file(s)"
      ],
      "text/plain": [
       "<IPython.core.display.HTML object>"
      ]
     },
     "metadata": {},
     "output_type": "display_data"
    },
    {
     "data": {
      "text/html": [
       "Find logs at: <code>./wandb/run-20220628_202431-18ij9ird/logs</code>"
      ],
      "text/plain": [
       "<IPython.core.display.HTML object>"
      ]
     },
     "metadata": {},
     "output_type": "display_data"
    },
    {
     "data": {
      "text/html": [
       "Successfully finished last run (ID:18ij9ird). Initializing new run:<br/>"
      ],
      "text/plain": [
       "<IPython.core.display.HTML object>"
      ]
     },
     "metadata": {},
     "output_type": "display_data"
    },
    {
     "data": {
      "text/html": [
       "wandb version 0.12.19 is available!  To upgrade, please run:\n",
       " $ pip install wandb --upgrade"
      ],
      "text/plain": [
       "<IPython.core.display.HTML object>"
      ]
     },
     "metadata": {},
     "output_type": "display_data"
    },
    {
     "data": {
      "text/html": [
       "Tracking run with wandb version 0.12.15"
      ],
      "text/plain": [
       "<IPython.core.display.HTML object>"
      ]
     },
     "metadata": {},
     "output_type": "display_data"
    },
    {
     "data": {
      "text/html": [
       "Run data is saved locally in <code>/project/notebooks/wandb/run-20220628_202753-35s8666j</code>"
      ],
      "text/plain": [
       "<IPython.core.display.HTML object>"
      ]
     },
     "metadata": {},
     "output_type": "display_data"
    },
    {
     "data": {
      "text/html": [
       "Syncing run <strong><a href=\"https://wandb.ai/synthesis-ai/53_best_checkpoint_model_all_real_data_folds/runs/35s8666j\" target=\"_blank\">playful-voice-9</a></strong> to <a href=\"https://wandb.ai/synthesis-ai/53_best_checkpoint_model_all_real_data_folds\" target=\"_blank\">Weights & Biases</a> (<a href=\"https://wandb.me/run\" target=\"_blank\">docs</a>)<br/>"
      ],
      "text/plain": [
       "<IPython.core.display.HTML object>"
      ]
     },
     "metadata": {},
     "output_type": "display_data"
    },
    {
     "name": "stdout",
     "output_type": "stream",
     "text": [
      "cfold=fold03\n",
      "0 items removed from dataset that have an angle > 180\n",
      "\n",
      "test configuration: gpu_id=cuda:0, batch_size=20\n",
      "model_arch=ResNet50 Start testing dataset=mpiigaze\n",
      "cFOLD=3 dFOLD=0--06/28/2022 13:28:03----\n",
      "[cfold3---dfold 0] Total Num:3000, MAE:4.93138716733896  06/28/2022 13:28:16\n",
      "0 items removed from dataset that have an angle > 180\n",
      "\n",
      "test configuration: gpu_id=cuda:0, batch_size=20\n",
      "model_arch=ResNet50 Start testing dataset=mpiigaze\n",
      "cFOLD=3 dFOLD=1--06/28/2022 13:28:16----\n",
      "[cfold3---dfold 1] Total Num:3000, MAE:5.555879971415686  06/28/2022 13:28:28\n",
      "0 items removed from dataset that have an angle > 180\n",
      "\n",
      "test configuration: gpu_id=cuda:0, batch_size=20\n",
      "model_arch=ResNet50 Start testing dataset=mpiigaze\n",
      "cFOLD=3 dFOLD=2--06/28/2022 13:28:28----\n",
      "[cfold3---dfold 2] Total Num:3000, MAE:5.605687315349447  06/28/2022 13:28:41\n",
      "0 items removed from dataset that have an angle > 180\n",
      "\n",
      "test configuration: gpu_id=cuda:0, batch_size=20\n",
      "model_arch=ResNet50 Start testing dataset=mpiigaze\n",
      "cFOLD=3 dFOLD=3--06/28/2022 13:28:41----\n",
      "[cfold3---dfold 3] Total Num:3000, MAE:8.32728199977039  06/28/2022 13:28:54\n",
      "0 items removed from dataset that have an angle > 180\n",
      "\n",
      "test configuration: gpu_id=cuda:0, batch_size=20\n",
      "model_arch=ResNet50 Start testing dataset=mpiigaze\n",
      "cFOLD=3 dFOLD=4--06/28/2022 13:28:54----\n",
      "[cfold3---dfold 4] Total Num:3000, MAE:5.830396565235089  06/28/2022 13:29:07\n",
      "0 items removed from dataset that have an angle > 180\n",
      "\n",
      "test configuration: gpu_id=cuda:0, batch_size=20\n",
      "model_arch=ResNet50 Start testing dataset=mpiigaze\n",
      "cFOLD=3 dFOLD=5--06/28/2022 13:29:07----\n",
      "[cfold3---dfold 5] Total Num:3000, MAE:6.045145623912517  06/28/2022 13:29:20\n",
      "0 items removed from dataset that have an angle > 180\n",
      "\n",
      "test configuration: gpu_id=cuda:0, batch_size=20\n",
      "model_arch=ResNet50 Start testing dataset=mpiigaze\n",
      "cFOLD=3 dFOLD=6--06/28/2022 13:29:20----\n",
      "[cfold3---dfold 6] Total Num:3000, MAE:11.109597327622069  06/28/2022 13:29:33\n",
      "0 items removed from dataset that have an angle > 180\n",
      "\n",
      "test configuration: gpu_id=cuda:0, batch_size=20\n",
      "model_arch=ResNet50 Start testing dataset=mpiigaze\n",
      "cFOLD=3 dFOLD=7--06/28/2022 13:29:33----\n",
      "[cfold3---dfold 7] Total Num:3000, MAE:6.9321678218440015  06/28/2022 13:29:46\n",
      "0 items removed from dataset that have an angle > 180\n",
      "\n",
      "test configuration: gpu_id=cuda:0, batch_size=20\n",
      "model_arch=ResNet50 Start testing dataset=mpiigaze\n",
      "cFOLD=3 dFOLD=8--06/28/2022 13:29:46----\n",
      "[cfold3---dfold 8] Total Num:3000, MAE:6.827414664152055  06/28/2022 13:29:59\n",
      "0 items removed from dataset that have an angle > 180\n",
      "\n",
      "test configuration: gpu_id=cuda:0, batch_size=20\n",
      "model_arch=ResNet50 Start testing dataset=mpiigaze\n",
      "cFOLD=3 dFOLD=9--06/28/2022 13:29:59----\n",
      "[cfold3---dfold 9] Total Num:3000, MAE:6.649224144505264  06/28/2022 13:30:12\n",
      "0 items removed from dataset that have an angle > 180\n",
      "\n",
      "test configuration: gpu_id=cuda:0, batch_size=20\n",
      "model_arch=ResNet50 Start testing dataset=mpiigaze\n",
      "cFOLD=3 dFOLD=10--06/28/2022 13:30:12----\n",
      "[cfold3---dfold 10] Total Num:3000, MAE:8.629637130375192  06/28/2022 13:30:25\n",
      "0 items removed from dataset that have an angle > 180\n",
      "\n",
      "test configuration: gpu_id=cuda:0, batch_size=20\n",
      "model_arch=ResNet50 Start testing dataset=mpiigaze\n",
      "cFOLD=3 dFOLD=11--06/28/2022 13:30:25----\n",
      "[cfold3---dfold 11] Total Num:3000, MAE:8.024042069159048  06/28/2022 13:30:37\n",
      "0 items removed from dataset that have an angle > 180\n",
      "\n",
      "test configuration: gpu_id=cuda:0, batch_size=20\n",
      "model_arch=ResNet50 Start testing dataset=mpiigaze\n",
      "cFOLD=3 dFOLD=12--06/28/2022 13:30:37----\n",
      "[cfold3---dfold 12] Total Num:3000, MAE:8.441638223518524  06/28/2022 13:30:50\n",
      "0 items removed from dataset that have an angle > 180\n",
      "\n",
      "test configuration: gpu_id=cuda:0, batch_size=20\n",
      "model_arch=ResNet50 Start testing dataset=mpiigaze\n",
      "cFOLD=3 dFOLD=13--06/28/2022 13:30:50----\n",
      "[cfold3---dfold 13] Total Num:3000, MAE:9.099934852939434  06/28/2022 13:31:03\n",
      "0 items removed from dataset that have an angle > 180\n",
      "\n",
      "test configuration: gpu_id=cuda:0, batch_size=20\n",
      "model_arch=ResNet50 Start testing dataset=mpiigaze\n",
      "cFOLD=3 dFOLD=14--06/28/2022 13:31:03----\n",
      "[cfold3---dfold 14] Total Num:3000, MAE:6.419595421436365  06/28/2022 13:31:16\n",
      "[cfold3--] MAE for this fold best model:7.228602019904938  06/28/2022 13:31:16\n"
     ]
    },
    {
     "data": {
      "text/html": [
       "Finishing last run (ID:35s8666j) before initializing another..."
      ],
      "text/plain": [
       "<IPython.core.display.HTML object>"
      ]
     },
     "metadata": {},
     "output_type": "display_data"
    },
    {
     "data": {
      "text/html": [
       "Waiting for W&B process to finish... <strong style=\"color:green\">(success).</strong>"
      ],
      "text/plain": [
       "<IPython.core.display.HTML object>"
      ]
     },
     "metadata": {},
     "output_type": "display_data"
    },
    {
     "data": {
      "application/vnd.jupyter.widget-view+json": {
       "model_id": "",
       "version_major": 2,
       "version_minor": 0
      },
      "text/plain": [
       "VBox(children=(Label(value='0.001 MB of 0.001 MB uploaded (0.000 MB deduped)\\r'), FloatProgress(value=1.0, max…"
      ]
     },
     "metadata": {},
     "output_type": "display_data"
    },
    {
     "data": {
      "text/html": [
       "<style>\n",
       "    table.wandb td:nth-child(1) { padding: 0 10px; text-align: right }\n",
       "    .wandb-row { display: flex; flex-direction: row; flex-wrap: wrap; width: 100% }\n",
       "    .wandb-col { display: flex; flex-direction: column; flex-basis: 100%; flex: 1; padding: 10px; }\n",
       "    </style>\n",
       "<div class=\"wandb-row\"><div class=\"wandb-col\"><h3>Run history:</h3><br/><table class=\"wandb\"><tr><td>data fold</td><td>▁▁▂▃▃▃▄▅▅▅▆▇▇▇█</td></tr><tr><td>dfold_0_avg_mae</td><td>▁</td></tr><tr><td>dfold_10_avg_mae</td><td>▁</td></tr><tr><td>dfold_11_avg_mae</td><td>▁</td></tr><tr><td>dfold_12_avg_mae</td><td>▁</td></tr><tr><td>dfold_13_avg_mae</td><td>▁</td></tr><tr><td>dfold_14_avg_mae</td><td>▁</td></tr><tr><td>dfold_1_avg_mae</td><td>▁</td></tr><tr><td>dfold_2_avg_mae</td><td>▁</td></tr><tr><td>dfold_3_avg_mae</td><td>▁</td></tr><tr><td>dfold_4_avg_mae</td><td>▁</td></tr><tr><td>dfold_5_avg_mae</td><td>▁</td></tr><tr><td>dfold_6_avg_mae</td><td>▁</td></tr><tr><td>dfold_7_avg_mae</td><td>▁</td></tr><tr><td>dfold_8_avg_mae</td><td>▁</td></tr><tr><td>dfold_9_avg_mae</td><td>▁</td></tr></table><br/></div><div class=\"wandb-col\"><h3>Run summary:</h3><br/><table class=\"wandb\"><tr><td>data fold</td><td>14</td></tr><tr><td>dfold_0_avg_mae</td><td>4.93139</td></tr><tr><td>dfold_10_avg_mae</td><td>8.62964</td></tr><tr><td>dfold_11_avg_mae</td><td>8.02404</td></tr><tr><td>dfold_12_avg_mae</td><td>8.44164</td></tr><tr><td>dfold_13_avg_mae</td><td>9.09993</td></tr><tr><td>dfold_14_avg_mae</td><td>6.4196</td></tr><tr><td>dfold_1_avg_mae</td><td>5.55588</td></tr><tr><td>dfold_2_avg_mae</td><td>5.60569</td></tr><tr><td>dfold_3_avg_mae</td><td>8.32728</td></tr><tr><td>dfold_4_avg_mae</td><td>5.8304</td></tr><tr><td>dfold_5_avg_mae</td><td>6.04515</td></tr><tr><td>dfold_6_avg_mae</td><td>11.1096</td></tr><tr><td>dfold_7_avg_mae</td><td>6.93217</td></tr><tr><td>dfold_8_avg_mae</td><td>6.82741</td></tr><tr><td>dfold_9_avg_mae</td><td>6.64922</td></tr></table><br/></div></div>"
      ],
      "text/plain": [
       "<IPython.core.display.HTML object>"
      ]
     },
     "metadata": {},
     "output_type": "display_data"
    },
    {
     "data": {
      "text/html": [
       "Synced <strong style=\"color:#cdcd00\">playful-voice-9</strong>: <a href=\"https://wandb.ai/synthesis-ai/53_best_checkpoint_model_all_real_data_folds/runs/35s8666j\" target=\"_blank\">https://wandb.ai/synthesis-ai/53_best_checkpoint_model_all_real_data_folds/runs/35s8666j</a><br/>Synced 5 W&B file(s), 0 media file(s), 0 artifact file(s) and 0 other file(s)"
      ],
      "text/plain": [
       "<IPython.core.display.HTML object>"
      ]
     },
     "metadata": {},
     "output_type": "display_data"
    },
    {
     "data": {
      "text/html": [
       "Find logs at: <code>./wandb/run-20220628_202753-35s8666j/logs</code>"
      ],
      "text/plain": [
       "<IPython.core.display.HTML object>"
      ]
     },
     "metadata": {},
     "output_type": "display_data"
    },
    {
     "data": {
      "text/html": [
       "Successfully finished last run (ID:35s8666j). Initializing new run:<br/>"
      ],
      "text/plain": [
       "<IPython.core.display.HTML object>"
      ]
     },
     "metadata": {},
     "output_type": "display_data"
    },
    {
     "data": {
      "text/html": [
       "wandb version 0.12.19 is available!  To upgrade, please run:\n",
       " $ pip install wandb --upgrade"
      ],
      "text/plain": [
       "<IPython.core.display.HTML object>"
      ]
     },
     "metadata": {},
     "output_type": "display_data"
    },
    {
     "data": {
      "text/html": [
       "Tracking run with wandb version 0.12.15"
      ],
      "text/plain": [
       "<IPython.core.display.HTML object>"
      ]
     },
     "metadata": {},
     "output_type": "display_data"
    },
    {
     "data": {
      "text/html": [
       "Run data is saved locally in <code>/project/notebooks/wandb/run-20220628_203116-1mgkfr82</code>"
      ],
      "text/plain": [
       "<IPython.core.display.HTML object>"
      ]
     },
     "metadata": {},
     "output_type": "display_data"
    },
    {
     "data": {
      "text/html": [
       "Syncing run <strong><a href=\"https://wandb.ai/synthesis-ai/53_best_checkpoint_model_all_real_data_folds/runs/1mgkfr82\" target=\"_blank\">rich-energy-10</a></strong> to <a href=\"https://wandb.ai/synthesis-ai/53_best_checkpoint_model_all_real_data_folds\" target=\"_blank\">Weights & Biases</a> (<a href=\"https://wandb.me/run\" target=\"_blank\">docs</a>)<br/>"
      ],
      "text/plain": [
       "<IPython.core.display.HTML object>"
      ]
     },
     "metadata": {},
     "output_type": "display_data"
    },
    {
     "name": "stdout",
     "output_type": "stream",
     "text": [
      "cfold=fold04\n",
      "0 items removed from dataset that have an angle > 180\n",
      "\n",
      "test configuration: gpu_id=cuda:0, batch_size=20\n",
      "model_arch=ResNet50 Start testing dataset=mpiigaze\n",
      "cFOLD=4 dFOLD=0--06/28/2022 13:31:25----\n",
      "[cfold4---dfold 0] Total Num:3000, MAE:5.605363902677599  06/28/2022 13:31:38\n",
      "0 items removed from dataset that have an angle > 180\n",
      "\n",
      "test configuration: gpu_id=cuda:0, batch_size=20\n",
      "model_arch=ResNet50 Start testing dataset=mpiigaze\n",
      "cFOLD=4 dFOLD=1--06/28/2022 13:31:38----\n",
      "[cfold4---dfold 1] Total Num:3000, MAE:8.219337023197891  06/28/2022 13:31:51\n",
      "0 items removed from dataset that have an angle > 180\n",
      "\n",
      "test configuration: gpu_id=cuda:0, batch_size=20\n",
      "model_arch=ResNet50 Start testing dataset=mpiigaze\n",
      "cFOLD=4 dFOLD=2--06/28/2022 13:31:51----\n",
      "[cfold4---dfold 2] Total Num:3000, MAE:5.995232337598611  06/28/2022 13:32:03\n",
      "0 items removed from dataset that have an angle > 180\n",
      "\n",
      "test configuration: gpu_id=cuda:0, batch_size=20\n",
      "model_arch=ResNet50 Start testing dataset=mpiigaze\n",
      "cFOLD=4 dFOLD=3--06/28/2022 13:32:03----\n",
      "[cfold4---dfold 3] Total Num:3000, MAE:9.069440327692101  06/28/2022 13:32:16\n",
      "0 items removed from dataset that have an angle > 180\n",
      "\n",
      "test configuration: gpu_id=cuda:0, batch_size=20\n",
      "model_arch=ResNet50 Start testing dataset=mpiigaze\n",
      "cFOLD=4 dFOLD=4--06/28/2022 13:32:16----\n",
      "[cfold4---dfold 4] Total Num:3000, MAE:5.9224152635262906  06/28/2022 13:32:29\n",
      "0 items removed from dataset that have an angle > 180\n",
      "\n",
      "test configuration: gpu_id=cuda:0, batch_size=20\n",
      "model_arch=ResNet50 Start testing dataset=mpiigaze\n",
      "cFOLD=4 dFOLD=5--06/28/2022 13:32:29----\n",
      "[cfold4---dfold 5] Total Num:3000, MAE:6.414050948273807  06/28/2022 13:32:42\n",
      "0 items removed from dataset that have an angle > 180\n",
      "\n",
      "test configuration: gpu_id=cuda:0, batch_size=20\n",
      "model_arch=ResNet50 Start testing dataset=mpiigaze\n",
      "cFOLD=4 dFOLD=6--06/28/2022 13:32:42----\n",
      "[cfold4---dfold 6] Total Num:3000, MAE:11.056082587895013  06/28/2022 13:32:55\n",
      "0 items removed from dataset that have an angle > 180\n",
      "\n",
      "test configuration: gpu_id=cuda:0, batch_size=20\n",
      "model_arch=ResNet50 Start testing dataset=mpiigaze\n",
      "cFOLD=4 dFOLD=7--06/28/2022 13:32:55----\n",
      "[cfold4---dfold 7] Total Num:3000, MAE:8.084216432738328  06/28/2022 13:33:08\n",
      "0 items removed from dataset that have an angle > 180\n",
      "\n",
      "test configuration: gpu_id=cuda:0, batch_size=20\n",
      "model_arch=ResNet50 Start testing dataset=mpiigaze\n",
      "cFOLD=4 dFOLD=8--06/28/2022 13:33:08----\n",
      "[cfold4---dfold 8] Total Num:3000, MAE:7.346469297678078  06/28/2022 13:33:21\n",
      "0 items removed from dataset that have an angle > 180\n",
      "\n",
      "test configuration: gpu_id=cuda:0, batch_size=20\n",
      "model_arch=ResNet50 Start testing dataset=mpiigaze\n",
      "cFOLD=4 dFOLD=9--06/28/2022 13:33:21----\n",
      "[cfold4---dfold 9] Total Num:3000, MAE:8.350453789987613  06/28/2022 13:33:34\n",
      "0 items removed from dataset that have an angle > 180\n",
      "\n",
      "test configuration: gpu_id=cuda:0, batch_size=20\n",
      "model_arch=ResNet50 Start testing dataset=mpiigaze\n",
      "cFOLD=4 dFOLD=10--06/28/2022 13:33:34----\n",
      "[cfold4---dfold 10] Total Num:3000, MAE:10.743392899279183  06/28/2022 13:33:46\n",
      "0 items removed from dataset that have an angle > 180\n",
      "\n",
      "test configuration: gpu_id=cuda:0, batch_size=20\n",
      "model_arch=ResNet50 Start testing dataset=mpiigaze\n",
      "cFOLD=4 dFOLD=11--06/28/2022 13:33:46----\n",
      "[cfold4---dfold 11] Total Num:3000, MAE:7.972941061778544  06/28/2022 13:33:59\n",
      "0 items removed from dataset that have an angle > 180\n",
      "\n",
      "test configuration: gpu_id=cuda:0, batch_size=20\n",
      "model_arch=ResNet50 Start testing dataset=mpiigaze\n",
      "cFOLD=4 dFOLD=12--06/28/2022 13:33:59----\n",
      "[cfold4---dfold 12] Total Num:3000, MAE:8.778009675093196  06/28/2022 13:34:12\n",
      "0 items removed from dataset that have an angle > 180\n",
      "\n",
      "test configuration: gpu_id=cuda:0, batch_size=20\n",
      "model_arch=ResNet50 Start testing dataset=mpiigaze\n",
      "cFOLD=4 dFOLD=13--06/28/2022 13:34:12----\n",
      "[cfold4---dfold 13] Total Num:3000, MAE:9.062995722910905  06/28/2022 13:34:25\n",
      "0 items removed from dataset that have an angle > 180\n",
      "\n",
      "test configuration: gpu_id=cuda:0, batch_size=20\n",
      "model_arch=ResNet50 Start testing dataset=mpiigaze\n",
      "cFOLD=4 dFOLD=14--06/28/2022 13:34:25----\n",
      "[cfold4---dfold 14] Total Num:3000, MAE:5.9690000351723365  06/28/2022 13:34:38\n",
      "[cfold4--] MAE for this fold best model:7.905960087033301  06/28/2022 13:34:38\n"
     ]
    },
    {
     "data": {
      "text/html": [
       "Finishing last run (ID:1mgkfr82) before initializing another..."
      ],
      "text/plain": [
       "<IPython.core.display.HTML object>"
      ]
     },
     "metadata": {},
     "output_type": "display_data"
    },
    {
     "data": {
      "text/html": [
       "Waiting for W&B process to finish... <strong style=\"color:green\">(success).</strong>"
      ],
      "text/plain": [
       "<IPython.core.display.HTML object>"
      ]
     },
     "metadata": {},
     "output_type": "display_data"
    },
    {
     "data": {
      "application/vnd.jupyter.widget-view+json": {
       "model_id": "",
       "version_major": 2,
       "version_minor": 0
      },
      "text/plain": [
       "VBox(children=(Label(value='0.001 MB of 0.001 MB uploaded (0.000 MB deduped)\\r'), FloatProgress(value=1.0, max…"
      ]
     },
     "metadata": {},
     "output_type": "display_data"
    },
    {
     "data": {
      "text/html": [
       "<style>\n",
       "    table.wandb td:nth-child(1) { padding: 0 10px; text-align: right }\n",
       "    .wandb-row { display: flex; flex-direction: row; flex-wrap: wrap; width: 100% }\n",
       "    .wandb-col { display: flex; flex-direction: column; flex-basis: 100%; flex: 1; padding: 10px; }\n",
       "    </style>\n",
       "<div class=\"wandb-row\"><div class=\"wandb-col\"><h3>Run history:</h3><br/><table class=\"wandb\"><tr><td>data fold</td><td>▁▁▂▃▃▃▄▅▅▅▆▇▇▇█</td></tr><tr><td>dfold_0_avg_mae</td><td>▁</td></tr><tr><td>dfold_10_avg_mae</td><td>▁</td></tr><tr><td>dfold_11_avg_mae</td><td>▁</td></tr><tr><td>dfold_12_avg_mae</td><td>▁</td></tr><tr><td>dfold_13_avg_mae</td><td>▁</td></tr><tr><td>dfold_14_avg_mae</td><td>▁</td></tr><tr><td>dfold_1_avg_mae</td><td>▁</td></tr><tr><td>dfold_2_avg_mae</td><td>▁</td></tr><tr><td>dfold_3_avg_mae</td><td>▁</td></tr><tr><td>dfold_4_avg_mae</td><td>▁</td></tr><tr><td>dfold_5_avg_mae</td><td>▁</td></tr><tr><td>dfold_6_avg_mae</td><td>▁</td></tr><tr><td>dfold_7_avg_mae</td><td>▁</td></tr><tr><td>dfold_8_avg_mae</td><td>▁</td></tr><tr><td>dfold_9_avg_mae</td><td>▁</td></tr></table><br/></div><div class=\"wandb-col\"><h3>Run summary:</h3><br/><table class=\"wandb\"><tr><td>data fold</td><td>14</td></tr><tr><td>dfold_0_avg_mae</td><td>5.60536</td></tr><tr><td>dfold_10_avg_mae</td><td>10.74339</td></tr><tr><td>dfold_11_avg_mae</td><td>7.97294</td></tr><tr><td>dfold_12_avg_mae</td><td>8.77801</td></tr><tr><td>dfold_13_avg_mae</td><td>9.063</td></tr><tr><td>dfold_14_avg_mae</td><td>5.969</td></tr><tr><td>dfold_1_avg_mae</td><td>8.21934</td></tr><tr><td>dfold_2_avg_mae</td><td>5.99523</td></tr><tr><td>dfold_3_avg_mae</td><td>9.06944</td></tr><tr><td>dfold_4_avg_mae</td><td>5.92242</td></tr><tr><td>dfold_5_avg_mae</td><td>6.41405</td></tr><tr><td>dfold_6_avg_mae</td><td>11.05608</td></tr><tr><td>dfold_7_avg_mae</td><td>8.08422</td></tr><tr><td>dfold_8_avg_mae</td><td>7.34647</td></tr><tr><td>dfold_9_avg_mae</td><td>8.35045</td></tr></table><br/></div></div>"
      ],
      "text/plain": [
       "<IPython.core.display.HTML object>"
      ]
     },
     "metadata": {},
     "output_type": "display_data"
    },
    {
     "data": {
      "text/html": [
       "Synced <strong style=\"color:#cdcd00\">rich-energy-10</strong>: <a href=\"https://wandb.ai/synthesis-ai/53_best_checkpoint_model_all_real_data_folds/runs/1mgkfr82\" target=\"_blank\">https://wandb.ai/synthesis-ai/53_best_checkpoint_model_all_real_data_folds/runs/1mgkfr82</a><br/>Synced 5 W&B file(s), 0 media file(s), 0 artifact file(s) and 0 other file(s)"
      ],
      "text/plain": [
       "<IPython.core.display.HTML object>"
      ]
     },
     "metadata": {},
     "output_type": "display_data"
    },
    {
     "data": {
      "text/html": [
       "Find logs at: <code>./wandb/run-20220628_203116-1mgkfr82/logs</code>"
      ],
      "text/plain": [
       "<IPython.core.display.HTML object>"
      ]
     },
     "metadata": {},
     "output_type": "display_data"
    },
    {
     "data": {
      "text/html": [
       "Successfully finished last run (ID:1mgkfr82). Initializing new run:<br/>"
      ],
      "text/plain": [
       "<IPython.core.display.HTML object>"
      ]
     },
     "metadata": {},
     "output_type": "display_data"
    },
    {
     "data": {
      "text/html": [
       "wandb version 0.12.19 is available!  To upgrade, please run:\n",
       " $ pip install wandb --upgrade"
      ],
      "text/plain": [
       "<IPython.core.display.HTML object>"
      ]
     },
     "metadata": {},
     "output_type": "display_data"
    },
    {
     "data": {
      "text/html": [
       "Tracking run with wandb version 0.12.15"
      ],
      "text/plain": [
       "<IPython.core.display.HTML object>"
      ]
     },
     "metadata": {},
     "output_type": "display_data"
    },
    {
     "data": {
      "text/html": [
       "Run data is saved locally in <code>/project/notebooks/wandb/run-20220628_203438-2g8e40e8</code>"
      ],
      "text/plain": [
       "<IPython.core.display.HTML object>"
      ]
     },
     "metadata": {},
     "output_type": "display_data"
    },
    {
     "data": {
      "text/html": [
       "Syncing run <strong><a href=\"https://wandb.ai/synthesis-ai/53_best_checkpoint_model_all_real_data_folds/runs/2g8e40e8\" target=\"_blank\">magic-surf-11</a></strong> to <a href=\"https://wandb.ai/synthesis-ai/53_best_checkpoint_model_all_real_data_folds\" target=\"_blank\">Weights & Biases</a> (<a href=\"https://wandb.me/run\" target=\"_blank\">docs</a>)<br/>"
      ],
      "text/plain": [
       "<IPython.core.display.HTML object>"
      ]
     },
     "metadata": {},
     "output_type": "display_data"
    },
    {
     "name": "stdout",
     "output_type": "stream",
     "text": [
      "cfold=fold05\n",
      "0 items removed from dataset that have an angle > 180\n",
      "\n",
      "test configuration: gpu_id=cuda:0, batch_size=20\n",
      "model_arch=ResNet50 Start testing dataset=mpiigaze\n",
      "cFOLD=5 dFOLD=0--06/28/2022 13:34:47----\n",
      "[cfold5---dfold 0] Total Num:3000, MAE:4.331754078400599  06/28/2022 13:35:00\n",
      "0 items removed from dataset that have an angle > 180\n",
      "\n",
      "test configuration: gpu_id=cuda:0, batch_size=20\n",
      "model_arch=ResNet50 Start testing dataset=mpiigaze\n",
      "cFOLD=5 dFOLD=1--06/28/2022 13:35:00----\n",
      "[cfold5---dfold 1] Total Num:3000, MAE:6.240157466618977  06/28/2022 13:35:12\n",
      "0 items removed from dataset that have an angle > 180\n",
      "\n",
      "test configuration: gpu_id=cuda:0, batch_size=20\n",
      "model_arch=ResNet50 Start testing dataset=mpiigaze\n",
      "cFOLD=5 dFOLD=2--06/28/2022 13:35:12----\n",
      "[cfold5---dfold 2] Total Num:3000, MAE:6.4560775444610154  06/28/2022 13:35:25\n",
      "0 items removed from dataset that have an angle > 180\n",
      "\n",
      "test configuration: gpu_id=cuda:0, batch_size=20\n",
      "model_arch=ResNet50 Start testing dataset=mpiigaze\n",
      "cFOLD=5 dFOLD=3--06/28/2022 13:35:25----\n",
      "[cfold5---dfold 3] Total Num:3000, MAE:6.699246818819178  06/28/2022 13:35:39\n",
      "0 items removed from dataset that have an angle > 180\n",
      "\n",
      "test configuration: gpu_id=cuda:0, batch_size=20\n",
      "model_arch=ResNet50 Start testing dataset=mpiigaze\n",
      "cFOLD=5 dFOLD=4--06/28/2022 13:35:39----\n",
      "[cfold5---dfold 4] Total Num:3000, MAE:5.869625191780563  06/28/2022 13:35:52\n",
      "0 items removed from dataset that have an angle > 180\n",
      "\n",
      "test configuration: gpu_id=cuda:0, batch_size=20\n",
      "model_arch=ResNet50 Start testing dataset=mpiigaze\n",
      "cFOLD=5 dFOLD=5--06/28/2022 13:35:52----\n",
      "[cfold5---dfold 5] Total Num:3000, MAE:5.968764115749526  06/28/2022 13:36:05\n",
      "0 items removed from dataset that have an angle > 180\n",
      "\n",
      "test configuration: gpu_id=cuda:0, batch_size=20\n",
      "model_arch=ResNet50 Start testing dataset=mpiigaze\n",
      "cFOLD=5 dFOLD=6--06/28/2022 13:36:05----\n",
      "[cfold5---dfold 6] Total Num:3000, MAE:10.032160444660557  06/28/2022 13:36:18\n",
      "0 items removed from dataset that have an angle > 180\n",
      "\n",
      "test configuration: gpu_id=cuda:0, batch_size=20\n",
      "model_arch=ResNet50 Start testing dataset=mpiigaze\n",
      "cFOLD=5 dFOLD=7--06/28/2022 13:36:18----\n",
      "[cfold5---dfold 7] Total Num:3000, MAE:7.160480426884534  06/28/2022 13:36:30\n",
      "0 items removed from dataset that have an angle > 180\n",
      "\n",
      "test configuration: gpu_id=cuda:0, batch_size=20\n",
      "model_arch=ResNet50 Start testing dataset=mpiigaze\n",
      "cFOLD=5 dFOLD=8--06/28/2022 13:36:31----\n",
      "[cfold5---dfold 8] Total Num:3000, MAE:7.97353884586569  06/28/2022 13:36:43\n",
      "0 items removed from dataset that have an angle > 180\n",
      "\n",
      "test configuration: gpu_id=cuda:0, batch_size=20\n",
      "model_arch=ResNet50 Start testing dataset=mpiigaze\n",
      "cFOLD=5 dFOLD=9--06/28/2022 13:36:43----\n",
      "[cfold5---dfold 9] Total Num:3000, MAE:8.576874698515464  06/28/2022 13:36:56\n",
      "0 items removed from dataset that have an angle > 180\n",
      "\n",
      "test configuration: gpu_id=cuda:0, batch_size=20\n",
      "model_arch=ResNet50 Start testing dataset=mpiigaze\n",
      "cFOLD=5 dFOLD=10--06/28/2022 13:36:56----\n",
      "[cfold5---dfold 10] Total Num:3000, MAE:8.260084202273621  06/28/2022 13:37:09\n",
      "0 items removed from dataset that have an angle > 180\n",
      "\n",
      "test configuration: gpu_id=cuda:0, batch_size=20\n",
      "model_arch=ResNet50 Start testing dataset=mpiigaze\n",
      "cFOLD=5 dFOLD=11--06/28/2022 13:37:09----\n",
      "[cfold5---dfold 11] Total Num:3000, MAE:7.9790595603037  06/28/2022 13:37:22\n",
      "0 items removed from dataset that have an angle > 180\n",
      "\n",
      "test configuration: gpu_id=cuda:0, batch_size=20\n",
      "model_arch=ResNet50 Start testing dataset=mpiigaze\n",
      "cFOLD=5 dFOLD=12--06/28/2022 13:37:22----\n",
      "[cfold5---dfold 12] Total Num:3000, MAE:7.441114953903637  06/28/2022 13:37:35\n",
      "0 items removed from dataset that have an angle > 180\n",
      "\n",
      "test configuration: gpu_id=cuda:0, batch_size=20\n",
      "model_arch=ResNet50 Start testing dataset=mpiigaze\n",
      "cFOLD=5 dFOLD=13--06/28/2022 13:37:35----\n",
      "[cfold5---dfold 13] Total Num:3000, MAE:7.464157345273635  06/28/2022 13:37:48\n",
      "0 items removed from dataset that have an angle > 180\n",
      "\n",
      "test configuration: gpu_id=cuda:0, batch_size=20\n",
      "model_arch=ResNet50 Start testing dataset=mpiigaze\n",
      "cFOLD=5 dFOLD=14--06/28/2022 13:37:48----\n",
      "[cfold5---dfold 14] Total Num:3000, MAE:5.9290968562313875  06/28/2022 13:38:01\n",
      "[cfold5--] MAE for this fold best model:7.092146169982805  06/28/2022 13:38:01\n"
     ]
    },
    {
     "data": {
      "text/html": [
       "Finishing last run (ID:2g8e40e8) before initializing another..."
      ],
      "text/plain": [
       "<IPython.core.display.HTML object>"
      ]
     },
     "metadata": {},
     "output_type": "display_data"
    },
    {
     "data": {
      "text/html": [
       "Waiting for W&B process to finish... <strong style=\"color:green\">(success).</strong>"
      ],
      "text/plain": [
       "<IPython.core.display.HTML object>"
      ]
     },
     "metadata": {},
     "output_type": "display_data"
    },
    {
     "data": {
      "application/vnd.jupyter.widget-view+json": {
       "model_id": "",
       "version_major": 2,
       "version_minor": 0
      },
      "text/plain": [
       "VBox(children=(Label(value='0.001 MB of 0.001 MB uploaded (0.000 MB deduped)\\r'), FloatProgress(value=1.0, max…"
      ]
     },
     "metadata": {},
     "output_type": "display_data"
    },
    {
     "data": {
      "text/html": [
       "<style>\n",
       "    table.wandb td:nth-child(1) { padding: 0 10px; text-align: right }\n",
       "    .wandb-row { display: flex; flex-direction: row; flex-wrap: wrap; width: 100% }\n",
       "    .wandb-col { display: flex; flex-direction: column; flex-basis: 100%; flex: 1; padding: 10px; }\n",
       "    </style>\n",
       "<div class=\"wandb-row\"><div class=\"wandb-col\"><h3>Run history:</h3><br/><table class=\"wandb\"><tr><td>data fold</td><td>▁▁▂▃▃▃▄▅▅▅▆▇▇▇█</td></tr><tr><td>dfold_0_avg_mae</td><td>▁</td></tr><tr><td>dfold_10_avg_mae</td><td>▁</td></tr><tr><td>dfold_11_avg_mae</td><td>▁</td></tr><tr><td>dfold_12_avg_mae</td><td>▁</td></tr><tr><td>dfold_13_avg_mae</td><td>▁</td></tr><tr><td>dfold_14_avg_mae</td><td>▁</td></tr><tr><td>dfold_1_avg_mae</td><td>▁</td></tr><tr><td>dfold_2_avg_mae</td><td>▁</td></tr><tr><td>dfold_3_avg_mae</td><td>▁</td></tr><tr><td>dfold_4_avg_mae</td><td>▁</td></tr><tr><td>dfold_5_avg_mae</td><td>▁</td></tr><tr><td>dfold_6_avg_mae</td><td>▁</td></tr><tr><td>dfold_7_avg_mae</td><td>▁</td></tr><tr><td>dfold_8_avg_mae</td><td>▁</td></tr><tr><td>dfold_9_avg_mae</td><td>▁</td></tr></table><br/></div><div class=\"wandb-col\"><h3>Run summary:</h3><br/><table class=\"wandb\"><tr><td>data fold</td><td>14</td></tr><tr><td>dfold_0_avg_mae</td><td>4.33175</td></tr><tr><td>dfold_10_avg_mae</td><td>8.26008</td></tr><tr><td>dfold_11_avg_mae</td><td>7.97906</td></tr><tr><td>dfold_12_avg_mae</td><td>7.44111</td></tr><tr><td>dfold_13_avg_mae</td><td>7.46416</td></tr><tr><td>dfold_14_avg_mae</td><td>5.9291</td></tr><tr><td>dfold_1_avg_mae</td><td>6.24016</td></tr><tr><td>dfold_2_avg_mae</td><td>6.45608</td></tr><tr><td>dfold_3_avg_mae</td><td>6.69925</td></tr><tr><td>dfold_4_avg_mae</td><td>5.86963</td></tr><tr><td>dfold_5_avg_mae</td><td>5.96876</td></tr><tr><td>dfold_6_avg_mae</td><td>10.03216</td></tr><tr><td>dfold_7_avg_mae</td><td>7.16048</td></tr><tr><td>dfold_8_avg_mae</td><td>7.97354</td></tr><tr><td>dfold_9_avg_mae</td><td>8.57687</td></tr></table><br/></div></div>"
      ],
      "text/plain": [
       "<IPython.core.display.HTML object>"
      ]
     },
     "metadata": {},
     "output_type": "display_data"
    },
    {
     "data": {
      "text/html": [
       "Synced <strong style=\"color:#cdcd00\">magic-surf-11</strong>: <a href=\"https://wandb.ai/synthesis-ai/53_best_checkpoint_model_all_real_data_folds/runs/2g8e40e8\" target=\"_blank\">https://wandb.ai/synthesis-ai/53_best_checkpoint_model_all_real_data_folds/runs/2g8e40e8</a><br/>Synced 5 W&B file(s), 0 media file(s), 0 artifact file(s) and 0 other file(s)"
      ],
      "text/plain": [
       "<IPython.core.display.HTML object>"
      ]
     },
     "metadata": {},
     "output_type": "display_data"
    },
    {
     "data": {
      "text/html": [
       "Find logs at: <code>./wandb/run-20220628_203438-2g8e40e8/logs</code>"
      ],
      "text/plain": [
       "<IPython.core.display.HTML object>"
      ]
     },
     "metadata": {},
     "output_type": "display_data"
    },
    {
     "data": {
      "text/html": [
       "Successfully finished last run (ID:2g8e40e8). Initializing new run:<br/>"
      ],
      "text/plain": [
       "<IPython.core.display.HTML object>"
      ]
     },
     "metadata": {},
     "output_type": "display_data"
    },
    {
     "data": {
      "text/html": [
       "wandb version 0.12.19 is available!  To upgrade, please run:\n",
       " $ pip install wandb --upgrade"
      ],
      "text/plain": [
       "<IPython.core.display.HTML object>"
      ]
     },
     "metadata": {},
     "output_type": "display_data"
    },
    {
     "data": {
      "text/html": [
       "Tracking run with wandb version 0.12.15"
      ],
      "text/plain": [
       "<IPython.core.display.HTML object>"
      ]
     },
     "metadata": {},
     "output_type": "display_data"
    },
    {
     "data": {
      "text/html": [
       "Run data is saved locally in <code>/project/notebooks/wandb/run-20220628_203801-1qwimwik</code>"
      ],
      "text/plain": [
       "<IPython.core.display.HTML object>"
      ]
     },
     "metadata": {},
     "output_type": "display_data"
    },
    {
     "data": {
      "text/html": [
       "Syncing run <strong><a href=\"https://wandb.ai/synthesis-ai/53_best_checkpoint_model_all_real_data_folds/runs/1qwimwik\" target=\"_blank\">magic-gorge-12</a></strong> to <a href=\"https://wandb.ai/synthesis-ai/53_best_checkpoint_model_all_real_data_folds\" target=\"_blank\">Weights & Biases</a> (<a href=\"https://wandb.me/run\" target=\"_blank\">docs</a>)<br/>"
      ],
      "text/plain": [
       "<IPython.core.display.HTML object>"
      ]
     },
     "metadata": {},
     "output_type": "display_data"
    },
    {
     "name": "stdout",
     "output_type": "stream",
     "text": [
      "cfold=fold06\n",
      "0 items removed from dataset that have an angle > 180\n",
      "\n",
      "test configuration: gpu_id=cuda:0, batch_size=20\n",
      "model_arch=ResNet50 Start testing dataset=mpiigaze\n",
      "cFOLD=6 dFOLD=0--06/28/2022 13:38:10----\n",
      "[cfold6---dfold 0] Total Num:3000, MAE:4.76361955322918  06/28/2022 13:38:23\n",
      "0 items removed from dataset that have an angle > 180\n",
      "\n",
      "test configuration: gpu_id=cuda:0, batch_size=20\n",
      "model_arch=ResNet50 Start testing dataset=mpiigaze\n",
      "cFOLD=6 dFOLD=1--06/28/2022 13:38:23----\n",
      "[cfold6---dfold 1] Total Num:3000, MAE:6.974030097973017  06/28/2022 13:38:36\n",
      "0 items removed from dataset that have an angle > 180\n",
      "\n",
      "test configuration: gpu_id=cuda:0, batch_size=20\n",
      "model_arch=ResNet50 Start testing dataset=mpiigaze\n",
      "cFOLD=6 dFOLD=2--06/28/2022 13:38:36----\n",
      "[cfold6---dfold 2] Total Num:3000, MAE:5.594911667264717  06/28/2022 13:38:48\n",
      "0 items removed from dataset that have an angle > 180\n",
      "\n",
      "test configuration: gpu_id=cuda:0, batch_size=20\n",
      "model_arch=ResNet50 Start testing dataset=mpiigaze\n",
      "cFOLD=6 dFOLD=3--06/28/2022 13:38:48----\n",
      "[cfold6---dfold 3] Total Num:3000, MAE:7.067409074500544  06/28/2022 13:39:01\n",
      "0 items removed from dataset that have an angle > 180\n",
      "\n",
      "test configuration: gpu_id=cuda:0, batch_size=20\n",
      "model_arch=ResNet50 Start testing dataset=mpiigaze\n",
      "cFOLD=6 dFOLD=4--06/28/2022 13:39:01----\n",
      "[cfold6---dfold 4] Total Num:3000, MAE:6.091609571724254  06/28/2022 13:39:14\n",
      "0 items removed from dataset that have an angle > 180\n",
      "\n",
      "test configuration: gpu_id=cuda:0, batch_size=20\n",
      "model_arch=ResNet50 Start testing dataset=mpiigaze\n",
      "cFOLD=6 dFOLD=5--06/28/2022 13:39:14----\n",
      "[cfold6---dfold 5] Total Num:3000, MAE:6.023366861099263  06/28/2022 13:39:27\n",
      "0 items removed from dataset that have an angle > 180\n",
      "\n",
      "test configuration: gpu_id=cuda:0, batch_size=20\n",
      "model_arch=ResNet50 Start testing dataset=mpiigaze\n",
      "cFOLD=6 dFOLD=6--06/28/2022 13:39:27----\n",
      "[cfold6---dfold 6] Total Num:3000, MAE:9.817824911588758  06/28/2022 13:39:40\n",
      "0 items removed from dataset that have an angle > 180\n",
      "\n",
      "test configuration: gpu_id=cuda:0, batch_size=20\n",
      "model_arch=ResNet50 Start testing dataset=mpiigaze\n",
      "cFOLD=6 dFOLD=7--06/28/2022 13:39:40----\n",
      "[cfold6---dfold 7] Total Num:3000, MAE:7.023522882140707  06/28/2022 13:39:53\n",
      "0 items removed from dataset that have an angle > 180\n",
      "\n",
      "test configuration: gpu_id=cuda:0, batch_size=20\n",
      "model_arch=ResNet50 Start testing dataset=mpiigaze\n",
      "cFOLD=6 dFOLD=8--06/28/2022 13:39:53----\n",
      "[cfold6---dfold 8] Total Num:3000, MAE:6.961476038808117  06/28/2022 13:40:06\n",
      "0 items removed from dataset that have an angle > 180\n",
      "\n",
      "test configuration: gpu_id=cuda:0, batch_size=20\n",
      "model_arch=ResNet50 Start testing dataset=mpiigaze\n",
      "cFOLD=6 dFOLD=9--06/28/2022 13:40:06----\n",
      "[cfold6---dfold 9] Total Num:3000, MAE:7.908280420606866  06/28/2022 13:40:19\n",
      "0 items removed from dataset that have an angle > 180\n",
      "\n",
      "test configuration: gpu_id=cuda:0, batch_size=20\n",
      "model_arch=ResNet50 Start testing dataset=mpiigaze\n",
      "cFOLD=6 dFOLD=10--06/28/2022 13:40:19----\n",
      "[cfold6---dfold 10] Total Num:3000, MAE:9.790437073540712  06/28/2022 13:40:32\n",
      "0 items removed from dataset that have an angle > 180\n",
      "\n",
      "test configuration: gpu_id=cuda:0, batch_size=20\n",
      "model_arch=ResNet50 Start testing dataset=mpiigaze\n",
      "cFOLD=6 dFOLD=11--06/28/2022 13:40:32----\n",
      "[cfold6---dfold 11] Total Num:3000, MAE:7.5417274781001575  06/28/2022 13:40:45\n",
      "0 items removed from dataset that have an angle > 180\n",
      "\n",
      "test configuration: gpu_id=cuda:0, batch_size=20\n",
      "model_arch=ResNet50 Start testing dataset=mpiigaze\n",
      "cFOLD=6 dFOLD=12--06/28/2022 13:40:45----\n",
      "[cfold6---dfold 12] Total Num:3000, MAE:7.83548360970959  06/28/2022 13:40:57\n",
      "0 items removed from dataset that have an angle > 180\n",
      "\n",
      "test configuration: gpu_id=cuda:0, batch_size=20\n",
      "model_arch=ResNet50 Start testing dataset=mpiigaze\n",
      "cFOLD=6 dFOLD=13--06/28/2022 13:40:57----\n",
      "[cfold6---dfold 13] Total Num:3000, MAE:7.930868914607776  06/28/2022 13:41:10\n",
      "0 items removed from dataset that have an angle > 180\n",
      "\n",
      "test configuration: gpu_id=cuda:0, batch_size=20\n",
      "model_arch=ResNet50 Start testing dataset=mpiigaze\n",
      "cFOLD=6 dFOLD=14--06/28/2022 13:41:10----\n",
      "[cfold6---dfold 14] Total Num:3000, MAE:6.191642242123798  06/28/2022 13:41:23\n",
      "[cfold6--] MAE for this fold best model:7.167747359801164  06/28/2022 13:41:23\n"
     ]
    },
    {
     "data": {
      "text/html": [
       "Finishing last run (ID:1qwimwik) before initializing another..."
      ],
      "text/plain": [
       "<IPython.core.display.HTML object>"
      ]
     },
     "metadata": {},
     "output_type": "display_data"
    },
    {
     "data": {
      "text/html": [
       "Waiting for W&B process to finish... <strong style=\"color:green\">(success).</strong>"
      ],
      "text/plain": [
       "<IPython.core.display.HTML object>"
      ]
     },
     "metadata": {},
     "output_type": "display_data"
    },
    {
     "data": {
      "application/vnd.jupyter.widget-view+json": {
       "model_id": "",
       "version_major": 2,
       "version_minor": 0
      },
      "text/plain": [
       "VBox(children=(Label(value='0.001 MB of 0.001 MB uploaded (0.000 MB deduped)\\r'), FloatProgress(value=1.0, max…"
      ]
     },
     "metadata": {},
     "output_type": "display_data"
    },
    {
     "data": {
      "text/html": [
       "<style>\n",
       "    table.wandb td:nth-child(1) { padding: 0 10px; text-align: right }\n",
       "    .wandb-row { display: flex; flex-direction: row; flex-wrap: wrap; width: 100% }\n",
       "    .wandb-col { display: flex; flex-direction: column; flex-basis: 100%; flex: 1; padding: 10px; }\n",
       "    </style>\n",
       "<div class=\"wandb-row\"><div class=\"wandb-col\"><h3>Run history:</h3><br/><table class=\"wandb\"><tr><td>data fold</td><td>▁▁▂▃▃▃▄▅▅▅▆▇▇▇█</td></tr><tr><td>dfold_0_avg_mae</td><td>▁</td></tr><tr><td>dfold_10_avg_mae</td><td>▁</td></tr><tr><td>dfold_11_avg_mae</td><td>▁</td></tr><tr><td>dfold_12_avg_mae</td><td>▁</td></tr><tr><td>dfold_13_avg_mae</td><td>▁</td></tr><tr><td>dfold_14_avg_mae</td><td>▁</td></tr><tr><td>dfold_1_avg_mae</td><td>▁</td></tr><tr><td>dfold_2_avg_mae</td><td>▁</td></tr><tr><td>dfold_3_avg_mae</td><td>▁</td></tr><tr><td>dfold_4_avg_mae</td><td>▁</td></tr><tr><td>dfold_5_avg_mae</td><td>▁</td></tr><tr><td>dfold_6_avg_mae</td><td>▁</td></tr><tr><td>dfold_7_avg_mae</td><td>▁</td></tr><tr><td>dfold_8_avg_mae</td><td>▁</td></tr><tr><td>dfold_9_avg_mae</td><td>▁</td></tr></table><br/></div><div class=\"wandb-col\"><h3>Run summary:</h3><br/><table class=\"wandb\"><tr><td>data fold</td><td>14</td></tr><tr><td>dfold_0_avg_mae</td><td>4.76362</td></tr><tr><td>dfold_10_avg_mae</td><td>9.79044</td></tr><tr><td>dfold_11_avg_mae</td><td>7.54173</td></tr><tr><td>dfold_12_avg_mae</td><td>7.83548</td></tr><tr><td>dfold_13_avg_mae</td><td>7.93087</td></tr><tr><td>dfold_14_avg_mae</td><td>6.19164</td></tr><tr><td>dfold_1_avg_mae</td><td>6.97403</td></tr><tr><td>dfold_2_avg_mae</td><td>5.59491</td></tr><tr><td>dfold_3_avg_mae</td><td>7.06741</td></tr><tr><td>dfold_4_avg_mae</td><td>6.09161</td></tr><tr><td>dfold_5_avg_mae</td><td>6.02337</td></tr><tr><td>dfold_6_avg_mae</td><td>9.81782</td></tr><tr><td>dfold_7_avg_mae</td><td>7.02352</td></tr><tr><td>dfold_8_avg_mae</td><td>6.96148</td></tr><tr><td>dfold_9_avg_mae</td><td>7.90828</td></tr></table><br/></div></div>"
      ],
      "text/plain": [
       "<IPython.core.display.HTML object>"
      ]
     },
     "metadata": {},
     "output_type": "display_data"
    },
    {
     "data": {
      "text/html": [
       "Synced <strong style=\"color:#cdcd00\">magic-gorge-12</strong>: <a href=\"https://wandb.ai/synthesis-ai/53_best_checkpoint_model_all_real_data_folds/runs/1qwimwik\" target=\"_blank\">https://wandb.ai/synthesis-ai/53_best_checkpoint_model_all_real_data_folds/runs/1qwimwik</a><br/>Synced 5 W&B file(s), 0 media file(s), 0 artifact file(s) and 0 other file(s)"
      ],
      "text/plain": [
       "<IPython.core.display.HTML object>"
      ]
     },
     "metadata": {},
     "output_type": "display_data"
    },
    {
     "data": {
      "text/html": [
       "Find logs at: <code>./wandb/run-20220628_203801-1qwimwik/logs</code>"
      ],
      "text/plain": [
       "<IPython.core.display.HTML object>"
      ]
     },
     "metadata": {},
     "output_type": "display_data"
    },
    {
     "data": {
      "text/html": [
       "Successfully finished last run (ID:1qwimwik). Initializing new run:<br/>"
      ],
      "text/plain": [
       "<IPython.core.display.HTML object>"
      ]
     },
     "metadata": {},
     "output_type": "display_data"
    },
    {
     "data": {
      "text/html": [
       "wandb version 0.12.19 is available!  To upgrade, please run:\n",
       " $ pip install wandb --upgrade"
      ],
      "text/plain": [
       "<IPython.core.display.HTML object>"
      ]
     },
     "metadata": {},
     "output_type": "display_data"
    },
    {
     "data": {
      "text/html": [
       "Tracking run with wandb version 0.12.15"
      ],
      "text/plain": [
       "<IPython.core.display.HTML object>"
      ]
     },
     "metadata": {},
     "output_type": "display_data"
    },
    {
     "data": {
      "text/html": [
       "Run data is saved locally in <code>/project/notebooks/wandb/run-20220628_204123-36o731mv</code>"
      ],
      "text/plain": [
       "<IPython.core.display.HTML object>"
      ]
     },
     "metadata": {},
     "output_type": "display_data"
    },
    {
     "data": {
      "text/html": [
       "Syncing run <strong><a href=\"https://wandb.ai/synthesis-ai/53_best_checkpoint_model_all_real_data_folds/runs/36o731mv\" target=\"_blank\">light-fire-13</a></strong> to <a href=\"https://wandb.ai/synthesis-ai/53_best_checkpoint_model_all_real_data_folds\" target=\"_blank\">Weights & Biases</a> (<a href=\"https://wandb.me/run\" target=\"_blank\">docs</a>)<br/>"
      ],
      "text/plain": [
       "<IPython.core.display.HTML object>"
      ]
     },
     "metadata": {},
     "output_type": "display_data"
    },
    {
     "name": "stdout",
     "output_type": "stream",
     "text": [
      "cfold=fold07\n",
      "0 items removed from dataset that have an angle > 180\n",
      "\n",
      "test configuration: gpu_id=cuda:0, batch_size=20\n",
      "model_arch=ResNet50 Start testing dataset=mpiigaze\n",
      "cFOLD=7 dFOLD=0--06/28/2022 13:41:32----\n",
      "[cfold7---dfold 0] Total Num:3000, MAE:4.807133785972529  06/28/2022 13:41:44\n",
      "0 items removed from dataset that have an angle > 180\n",
      "\n",
      "test configuration: gpu_id=cuda:0, batch_size=20\n",
      "model_arch=ResNet50 Start testing dataset=mpiigaze\n",
      "cFOLD=7 dFOLD=1--06/28/2022 13:41:44----\n",
      "[cfold7---dfold 1] Total Num:3000, MAE:6.8633180337797715  06/28/2022 13:41:57\n",
      "0 items removed from dataset that have an angle > 180\n",
      "\n",
      "test configuration: gpu_id=cuda:0, batch_size=20\n",
      "model_arch=ResNet50 Start testing dataset=mpiigaze\n",
      "cFOLD=7 dFOLD=2--06/28/2022 13:41:57----\n",
      "[cfold7---dfold 2] Total Num:3000, MAE:5.479398705841948  06/28/2022 13:42:10\n",
      "0 items removed from dataset that have an angle > 180\n",
      "\n",
      "test configuration: gpu_id=cuda:0, batch_size=20\n",
      "model_arch=ResNet50 Start testing dataset=mpiigaze\n",
      "cFOLD=7 dFOLD=3--06/28/2022 13:42:10----\n",
      "[cfold7---dfold 3] Total Num:3000, MAE:7.832853342083643  06/28/2022 13:42:23\n",
      "0 items removed from dataset that have an angle > 180\n",
      "\n",
      "test configuration: gpu_id=cuda:0, batch_size=20\n",
      "model_arch=ResNet50 Start testing dataset=mpiigaze\n",
      "cFOLD=7 dFOLD=4--06/28/2022 13:42:23----\n",
      "[cfold7---dfold 4] Total Num:3000, MAE:5.341671093630544  06/28/2022 13:42:36\n",
      "0 items removed from dataset that have an angle > 180\n",
      "\n",
      "test configuration: gpu_id=cuda:0, batch_size=20\n",
      "model_arch=ResNet50 Start testing dataset=mpiigaze\n",
      "cFOLD=7 dFOLD=5--06/28/2022 13:42:36----\n",
      "[cfold7---dfold 5] Total Num:3000, MAE:5.997935085150652  06/28/2022 13:42:49\n",
      "0 items removed from dataset that have an angle > 180\n",
      "\n",
      "test configuration: gpu_id=cuda:0, batch_size=20\n",
      "model_arch=ResNet50 Start testing dataset=mpiigaze\n",
      "cFOLD=7 dFOLD=6--06/28/2022 13:42:49----\n",
      "[cfold7---dfold 6] Total Num:3000, MAE:11.270712746833468  06/28/2022 13:43:02\n",
      "0 items removed from dataset that have an angle > 180\n",
      "\n",
      "test configuration: gpu_id=cuda:0, batch_size=20\n",
      "model_arch=ResNet50 Start testing dataset=mpiigaze\n",
      "cFOLD=7 dFOLD=7--06/28/2022 13:43:02----\n",
      "[cfold7---dfold 7] Total Num:3000, MAE:6.749412450222929  06/28/2022 13:43:15\n",
      "0 items removed from dataset that have an angle > 180\n",
      "\n",
      "test configuration: gpu_id=cuda:0, batch_size=20\n",
      "model_arch=ResNet50 Start testing dataset=mpiigaze\n",
      "cFOLD=7 dFOLD=8--06/28/2022 13:43:15----\n",
      "[cfold7---dfold 8] Total Num:3000, MAE:7.180992121732319  06/28/2022 13:43:28\n",
      "0 items removed from dataset that have an angle > 180\n",
      "\n",
      "test configuration: gpu_id=cuda:0, batch_size=20\n",
      "model_arch=ResNet50 Start testing dataset=mpiigaze\n",
      "cFOLD=7 dFOLD=9--06/28/2022 13:43:28----\n",
      "[cfold7---dfold 9] Total Num:3000, MAE:7.984741764043782  06/28/2022 13:43:40\n",
      "0 items removed from dataset that have an angle > 180\n",
      "\n",
      "test configuration: gpu_id=cuda:0, batch_size=20\n",
      "model_arch=ResNet50 Start testing dataset=mpiigaze\n",
      "cFOLD=7 dFOLD=10--06/28/2022 13:43:41----\n",
      "[cfold7---dfold 10] Total Num:3000, MAE:9.698925605538351  06/28/2022 13:43:53\n",
      "0 items removed from dataset that have an angle > 180\n",
      "\n",
      "test configuration: gpu_id=cuda:0, batch_size=20\n",
      "model_arch=ResNet50 Start testing dataset=mpiigaze\n",
      "cFOLD=7 dFOLD=11--06/28/2022 13:43:53----\n",
      "[cfold7---dfold 11] Total Num:3000, MAE:7.817673628576385  06/28/2022 13:44:06\n",
      "0 items removed from dataset that have an angle > 180\n",
      "\n",
      "test configuration: gpu_id=cuda:0, batch_size=20\n",
      "model_arch=ResNet50 Start testing dataset=mpiigaze\n",
      "cFOLD=7 dFOLD=12--06/28/2022 13:44:06----\n",
      "[cfold7---dfold 12] Total Num:3000, MAE:8.730232845881021  06/28/2022 13:44:19\n",
      "0 items removed from dataset that have an angle > 180\n",
      "\n",
      "test configuration: gpu_id=cuda:0, batch_size=20\n",
      "model_arch=ResNet50 Start testing dataset=mpiigaze\n",
      "cFOLD=7 dFOLD=13--06/28/2022 13:44:19----\n",
      "[cfold7---dfold 13] Total Num:3000, MAE:9.322863321582552  06/28/2022 13:44:32\n",
      "0 items removed from dataset that have an angle > 180\n",
      "\n",
      "test configuration: gpu_id=cuda:0, batch_size=20\n",
      "model_arch=ResNet50 Start testing dataset=mpiigaze\n",
      "cFOLD=7 dFOLD=14--06/28/2022 13:44:32----\n",
      "[cfold7---dfold 14] Total Num:3000, MAE:5.80508430782408  06/28/2022 13:44:45\n",
      "[cfold7--] MAE for this fold best model:7.3921965892462635  06/28/2022 13:44:45\n"
     ]
    },
    {
     "data": {
      "text/html": [
       "Finishing last run (ID:36o731mv) before initializing another..."
      ],
      "text/plain": [
       "<IPython.core.display.HTML object>"
      ]
     },
     "metadata": {},
     "output_type": "display_data"
    },
    {
     "data": {
      "text/html": [
       "Waiting for W&B process to finish... <strong style=\"color:green\">(success).</strong>"
      ],
      "text/plain": [
       "<IPython.core.display.HTML object>"
      ]
     },
     "metadata": {},
     "output_type": "display_data"
    },
    {
     "data": {
      "application/vnd.jupyter.widget-view+json": {
       "model_id": "",
       "version_major": 2,
       "version_minor": 0
      },
      "text/plain": [
       "VBox(children=(Label(value='0.001 MB of 0.001 MB uploaded (0.000 MB deduped)\\r'), FloatProgress(value=1.0, max…"
      ]
     },
     "metadata": {},
     "output_type": "display_data"
    },
    {
     "data": {
      "text/html": [
       "<style>\n",
       "    table.wandb td:nth-child(1) { padding: 0 10px; text-align: right }\n",
       "    .wandb-row { display: flex; flex-direction: row; flex-wrap: wrap; width: 100% }\n",
       "    .wandb-col { display: flex; flex-direction: column; flex-basis: 100%; flex: 1; padding: 10px; }\n",
       "    </style>\n",
       "<div class=\"wandb-row\"><div class=\"wandb-col\"><h3>Run history:</h3><br/><table class=\"wandb\"><tr><td>data fold</td><td>▁▁▂▃▃▃▄▅▅▅▆▇▇▇█</td></tr><tr><td>dfold_0_avg_mae</td><td>▁</td></tr><tr><td>dfold_10_avg_mae</td><td>▁</td></tr><tr><td>dfold_11_avg_mae</td><td>▁</td></tr><tr><td>dfold_12_avg_mae</td><td>▁</td></tr><tr><td>dfold_13_avg_mae</td><td>▁</td></tr><tr><td>dfold_14_avg_mae</td><td>▁</td></tr><tr><td>dfold_1_avg_mae</td><td>▁</td></tr><tr><td>dfold_2_avg_mae</td><td>▁</td></tr><tr><td>dfold_3_avg_mae</td><td>▁</td></tr><tr><td>dfold_4_avg_mae</td><td>▁</td></tr><tr><td>dfold_5_avg_mae</td><td>▁</td></tr><tr><td>dfold_6_avg_mae</td><td>▁</td></tr><tr><td>dfold_7_avg_mae</td><td>▁</td></tr><tr><td>dfold_8_avg_mae</td><td>▁</td></tr><tr><td>dfold_9_avg_mae</td><td>▁</td></tr></table><br/></div><div class=\"wandb-col\"><h3>Run summary:</h3><br/><table class=\"wandb\"><tr><td>data fold</td><td>14</td></tr><tr><td>dfold_0_avg_mae</td><td>4.80713</td></tr><tr><td>dfold_10_avg_mae</td><td>9.69893</td></tr><tr><td>dfold_11_avg_mae</td><td>7.81767</td></tr><tr><td>dfold_12_avg_mae</td><td>8.73023</td></tr><tr><td>dfold_13_avg_mae</td><td>9.32286</td></tr><tr><td>dfold_14_avg_mae</td><td>5.80508</td></tr><tr><td>dfold_1_avg_mae</td><td>6.86332</td></tr><tr><td>dfold_2_avg_mae</td><td>5.4794</td></tr><tr><td>dfold_3_avg_mae</td><td>7.83285</td></tr><tr><td>dfold_4_avg_mae</td><td>5.34167</td></tr><tr><td>dfold_5_avg_mae</td><td>5.99794</td></tr><tr><td>dfold_6_avg_mae</td><td>11.27071</td></tr><tr><td>dfold_7_avg_mae</td><td>6.74941</td></tr><tr><td>dfold_8_avg_mae</td><td>7.18099</td></tr><tr><td>dfold_9_avg_mae</td><td>7.98474</td></tr></table><br/></div></div>"
      ],
      "text/plain": [
       "<IPython.core.display.HTML object>"
      ]
     },
     "metadata": {},
     "output_type": "display_data"
    },
    {
     "data": {
      "text/html": [
       "Synced <strong style=\"color:#cdcd00\">light-fire-13</strong>: <a href=\"https://wandb.ai/synthesis-ai/53_best_checkpoint_model_all_real_data_folds/runs/36o731mv\" target=\"_blank\">https://wandb.ai/synthesis-ai/53_best_checkpoint_model_all_real_data_folds/runs/36o731mv</a><br/>Synced 5 W&B file(s), 0 media file(s), 0 artifact file(s) and 0 other file(s)"
      ],
      "text/plain": [
       "<IPython.core.display.HTML object>"
      ]
     },
     "metadata": {},
     "output_type": "display_data"
    },
    {
     "data": {
      "text/html": [
       "Find logs at: <code>./wandb/run-20220628_204123-36o731mv/logs</code>"
      ],
      "text/plain": [
       "<IPython.core.display.HTML object>"
      ]
     },
     "metadata": {},
     "output_type": "display_data"
    },
    {
     "data": {
      "text/html": [
       "Successfully finished last run (ID:36o731mv). Initializing new run:<br/>"
      ],
      "text/plain": [
       "<IPython.core.display.HTML object>"
      ]
     },
     "metadata": {},
     "output_type": "display_data"
    },
    {
     "data": {
      "text/html": [
       "wandb version 0.12.19 is available!  To upgrade, please run:\n",
       " $ pip install wandb --upgrade"
      ],
      "text/plain": [
       "<IPython.core.display.HTML object>"
      ]
     },
     "metadata": {},
     "output_type": "display_data"
    },
    {
     "data": {
      "text/html": [
       "Tracking run with wandb version 0.12.15"
      ],
      "text/plain": [
       "<IPython.core.display.HTML object>"
      ]
     },
     "metadata": {},
     "output_type": "display_data"
    },
    {
     "data": {
      "text/html": [
       "Run data is saved locally in <code>/project/notebooks/wandb/run-20220628_204445-zajx9l03</code>"
      ],
      "text/plain": [
       "<IPython.core.display.HTML object>"
      ]
     },
     "metadata": {},
     "output_type": "display_data"
    },
    {
     "data": {
      "text/html": [
       "Syncing run <strong><a href=\"https://wandb.ai/synthesis-ai/53_best_checkpoint_model_all_real_data_folds/runs/zajx9l03\" target=\"_blank\">pious-puddle-14</a></strong> to <a href=\"https://wandb.ai/synthesis-ai/53_best_checkpoint_model_all_real_data_folds\" target=\"_blank\">Weights & Biases</a> (<a href=\"https://wandb.me/run\" target=\"_blank\">docs</a>)<br/>"
      ],
      "text/plain": [
       "<IPython.core.display.HTML object>"
      ]
     },
     "metadata": {},
     "output_type": "display_data"
    },
    {
     "name": "stdout",
     "output_type": "stream",
     "text": [
      "cfold=fold08\n",
      "0 items removed from dataset that have an angle > 180\n",
      "\n",
      "test configuration: gpu_id=cuda:0, batch_size=20\n",
      "model_arch=ResNet50 Start testing dataset=mpiigaze\n",
      "cFOLD=8 dFOLD=0--06/28/2022 13:44:54----\n",
      "[cfold8---dfold 0] Total Num:3000, MAE:5.064634299686385  06/28/2022 13:45:07\n",
      "0 items removed from dataset that have an angle > 180\n",
      "\n",
      "test configuration: gpu_id=cuda:0, batch_size=20\n",
      "model_arch=ResNet50 Start testing dataset=mpiigaze\n",
      "cFOLD=8 dFOLD=1--06/28/2022 13:45:07----\n",
      "[cfold8---dfold 1] Total Num:3000, MAE:6.447177372626681  06/28/2022 13:45:20\n",
      "0 items removed from dataset that have an angle > 180\n",
      "\n",
      "test configuration: gpu_id=cuda:0, batch_size=20\n",
      "model_arch=ResNet50 Start testing dataset=mpiigaze\n",
      "cFOLD=8 dFOLD=2--06/28/2022 13:45:20----\n",
      "[cfold8---dfold 2] Total Num:3000, MAE:6.4705157987724355  06/28/2022 13:45:32\n",
      "0 items removed from dataset that have an angle > 180\n",
      "\n",
      "test configuration: gpu_id=cuda:0, batch_size=20\n",
      "model_arch=ResNet50 Start testing dataset=mpiigaze\n",
      "cFOLD=8 dFOLD=3--06/28/2022 13:45:33----\n",
      "[cfold8---dfold 3] Total Num:3000, MAE:6.758349616085309  06/28/2022 13:45:45\n",
      "0 items removed from dataset that have an angle > 180\n",
      "\n",
      "test configuration: gpu_id=cuda:0, batch_size=20\n",
      "model_arch=ResNet50 Start testing dataset=mpiigaze\n",
      "cFOLD=8 dFOLD=4--06/28/2022 13:45:45----\n",
      "[cfold8---dfold 4] Total Num:3000, MAE:5.8415163669968475  06/28/2022 13:45:58\n",
      "0 items removed from dataset that have an angle > 180\n",
      "\n",
      "test configuration: gpu_id=cuda:0, batch_size=20\n",
      "model_arch=ResNet50 Start testing dataset=mpiigaze\n",
      "cFOLD=8 dFOLD=5--06/28/2022 13:45:58----\n",
      "[cfold8---dfold 5] Total Num:3000, MAE:6.165031096599061  06/28/2022 13:46:11\n",
      "0 items removed from dataset that have an angle > 180\n",
      "\n",
      "test configuration: gpu_id=cuda:0, batch_size=20\n",
      "model_arch=ResNet50 Start testing dataset=mpiigaze\n",
      "cFOLD=8 dFOLD=6--06/28/2022 13:46:11----\n",
      "[cfold8---dfold 6] Total Num:3000, MAE:10.202563553579314  06/28/2022 13:46:24\n",
      "0 items removed from dataset that have an angle > 180\n",
      "\n",
      "test configuration: gpu_id=cuda:0, batch_size=20\n",
      "model_arch=ResNet50 Start testing dataset=mpiigaze\n",
      "cFOLD=8 dFOLD=7--06/28/2022 13:46:24----\n",
      "[cfold8---dfold 7] Total Num:3000, MAE:7.531041508345388  06/28/2022 13:46:37\n",
      "0 items removed from dataset that have an angle > 180\n",
      "\n",
      "test configuration: gpu_id=cuda:0, batch_size=20\n",
      "model_arch=ResNet50 Start testing dataset=mpiigaze\n",
      "cFOLD=8 dFOLD=8--06/28/2022 13:46:37----\n",
      "[cfold8---dfold 8] Total Num:3000, MAE:7.6915864289419105  06/28/2022 13:46:50\n",
      "0 items removed from dataset that have an angle > 180\n",
      "\n",
      "test configuration: gpu_id=cuda:0, batch_size=20\n",
      "model_arch=ResNet50 Start testing dataset=mpiigaze\n",
      "cFOLD=8 dFOLD=9--06/28/2022 13:46:50----\n",
      "[cfold8---dfold 9] Total Num:3000, MAE:8.829298669570793  06/28/2022 13:47:03\n",
      "0 items removed from dataset that have an angle > 180\n",
      "\n",
      "test configuration: gpu_id=cuda:0, batch_size=20\n",
      "model_arch=ResNet50 Start testing dataset=mpiigaze\n",
      "cFOLD=8 dFOLD=10--06/28/2022 13:47:03----\n",
      "[cfold8---dfold 10] Total Num:3000, MAE:9.498084531888521  06/28/2022 13:47:16\n",
      "0 items removed from dataset that have an angle > 180\n",
      "\n",
      "test configuration: gpu_id=cuda:0, batch_size=20\n",
      "model_arch=ResNet50 Start testing dataset=mpiigaze\n",
      "cFOLD=8 dFOLD=11--06/28/2022 13:47:16----\n",
      "[cfold8---dfold 11] Total Num:3000, MAE:8.406288552894702  06/28/2022 13:47:29\n",
      "0 items removed from dataset that have an angle > 180\n",
      "\n",
      "test configuration: gpu_id=cuda:0, batch_size=20\n",
      "model_arch=ResNet50 Start testing dataset=mpiigaze\n",
      "cFOLD=8 dFOLD=12--06/28/2022 13:47:29----\n",
      "[cfold8---dfold 12] Total Num:3000, MAE:7.489471615435657  06/28/2022 13:47:41\n",
      "0 items removed from dataset that have an angle > 180\n",
      "\n",
      "test configuration: gpu_id=cuda:0, batch_size=20\n",
      "model_arch=ResNet50 Start testing dataset=mpiigaze\n",
      "cFOLD=8 dFOLD=13--06/28/2022 13:47:41----\n",
      "[cfold8---dfold 13] Total Num:3000, MAE:7.928365332444439  06/28/2022 13:47:55\n",
      "0 items removed from dataset that have an angle > 180\n",
      "\n",
      "test configuration: gpu_id=cuda:0, batch_size=20\n",
      "model_arch=ResNet50 Start testing dataset=mpiigaze\n",
      "cFOLD=8 dFOLD=14--06/28/2022 13:47:55----\n",
      "[cfold8---dfold 14] Total Num:3000, MAE:6.408088738731002  06/28/2022 13:48:08\n",
      "[cfold8--] MAE for this fold best model:7.382134232173231  06/28/2022 13:48:08\n"
     ]
    },
    {
     "data": {
      "text/html": [
       "Finishing last run (ID:zajx9l03) before initializing another..."
      ],
      "text/plain": [
       "<IPython.core.display.HTML object>"
      ]
     },
     "metadata": {},
     "output_type": "display_data"
    },
    {
     "data": {
      "text/html": [
       "Waiting for W&B process to finish... <strong style=\"color:green\">(success).</strong>"
      ],
      "text/plain": [
       "<IPython.core.display.HTML object>"
      ]
     },
     "metadata": {},
     "output_type": "display_data"
    },
    {
     "data": {
      "application/vnd.jupyter.widget-view+json": {
       "model_id": "",
       "version_major": 2,
       "version_minor": 0
      },
      "text/plain": [
       "VBox(children=(Label(value='0.001 MB of 0.001 MB uploaded (0.000 MB deduped)\\r'), FloatProgress(value=1.0, max…"
      ]
     },
     "metadata": {},
     "output_type": "display_data"
    },
    {
     "data": {
      "text/html": [
       "<style>\n",
       "    table.wandb td:nth-child(1) { padding: 0 10px; text-align: right }\n",
       "    .wandb-row { display: flex; flex-direction: row; flex-wrap: wrap; width: 100% }\n",
       "    .wandb-col { display: flex; flex-direction: column; flex-basis: 100%; flex: 1; padding: 10px; }\n",
       "    </style>\n",
       "<div class=\"wandb-row\"><div class=\"wandb-col\"><h3>Run history:</h3><br/><table class=\"wandb\"><tr><td>data fold</td><td>▁▁▂▃▃▃▄▅▅▅▆▇▇▇█</td></tr><tr><td>dfold_0_avg_mae</td><td>▁</td></tr><tr><td>dfold_10_avg_mae</td><td>▁</td></tr><tr><td>dfold_11_avg_mae</td><td>▁</td></tr><tr><td>dfold_12_avg_mae</td><td>▁</td></tr><tr><td>dfold_13_avg_mae</td><td>▁</td></tr><tr><td>dfold_14_avg_mae</td><td>▁</td></tr><tr><td>dfold_1_avg_mae</td><td>▁</td></tr><tr><td>dfold_2_avg_mae</td><td>▁</td></tr><tr><td>dfold_3_avg_mae</td><td>▁</td></tr><tr><td>dfold_4_avg_mae</td><td>▁</td></tr><tr><td>dfold_5_avg_mae</td><td>▁</td></tr><tr><td>dfold_6_avg_mae</td><td>▁</td></tr><tr><td>dfold_7_avg_mae</td><td>▁</td></tr><tr><td>dfold_8_avg_mae</td><td>▁</td></tr><tr><td>dfold_9_avg_mae</td><td>▁</td></tr></table><br/></div><div class=\"wandb-col\"><h3>Run summary:</h3><br/><table class=\"wandb\"><tr><td>data fold</td><td>14</td></tr><tr><td>dfold_0_avg_mae</td><td>5.06463</td></tr><tr><td>dfold_10_avg_mae</td><td>9.49808</td></tr><tr><td>dfold_11_avg_mae</td><td>8.40629</td></tr><tr><td>dfold_12_avg_mae</td><td>7.48947</td></tr><tr><td>dfold_13_avg_mae</td><td>7.92837</td></tr><tr><td>dfold_14_avg_mae</td><td>6.40809</td></tr><tr><td>dfold_1_avg_mae</td><td>6.44718</td></tr><tr><td>dfold_2_avg_mae</td><td>6.47052</td></tr><tr><td>dfold_3_avg_mae</td><td>6.75835</td></tr><tr><td>dfold_4_avg_mae</td><td>5.84152</td></tr><tr><td>dfold_5_avg_mae</td><td>6.16503</td></tr><tr><td>dfold_6_avg_mae</td><td>10.20256</td></tr><tr><td>dfold_7_avg_mae</td><td>7.53104</td></tr><tr><td>dfold_8_avg_mae</td><td>7.69159</td></tr><tr><td>dfold_9_avg_mae</td><td>8.8293</td></tr></table><br/></div></div>"
      ],
      "text/plain": [
       "<IPython.core.display.HTML object>"
      ]
     },
     "metadata": {},
     "output_type": "display_data"
    },
    {
     "data": {
      "text/html": [
       "Synced <strong style=\"color:#cdcd00\">pious-puddle-14</strong>: <a href=\"https://wandb.ai/synthesis-ai/53_best_checkpoint_model_all_real_data_folds/runs/zajx9l03\" target=\"_blank\">https://wandb.ai/synthesis-ai/53_best_checkpoint_model_all_real_data_folds/runs/zajx9l03</a><br/>Synced 5 W&B file(s), 0 media file(s), 0 artifact file(s) and 0 other file(s)"
      ],
      "text/plain": [
       "<IPython.core.display.HTML object>"
      ]
     },
     "metadata": {},
     "output_type": "display_data"
    },
    {
     "data": {
      "text/html": [
       "Find logs at: <code>./wandb/run-20220628_204445-zajx9l03/logs</code>"
      ],
      "text/plain": [
       "<IPython.core.display.HTML object>"
      ]
     },
     "metadata": {},
     "output_type": "display_data"
    },
    {
     "data": {
      "text/html": [
       "Successfully finished last run (ID:zajx9l03). Initializing new run:<br/>"
      ],
      "text/plain": [
       "<IPython.core.display.HTML object>"
      ]
     },
     "metadata": {},
     "output_type": "display_data"
    },
    {
     "data": {
      "text/html": [
       "wandb version 0.12.19 is available!  To upgrade, please run:\n",
       " $ pip install wandb --upgrade"
      ],
      "text/plain": [
       "<IPython.core.display.HTML object>"
      ]
     },
     "metadata": {},
     "output_type": "display_data"
    },
    {
     "data": {
      "text/html": [
       "Tracking run with wandb version 0.12.15"
      ],
      "text/plain": [
       "<IPython.core.display.HTML object>"
      ]
     },
     "metadata": {},
     "output_type": "display_data"
    },
    {
     "data": {
      "text/html": [
       "Run data is saved locally in <code>/project/notebooks/wandb/run-20220628_204808-m85dnkhq</code>"
      ],
      "text/plain": [
       "<IPython.core.display.HTML object>"
      ]
     },
     "metadata": {},
     "output_type": "display_data"
    },
    {
     "data": {
      "text/html": [
       "Syncing run <strong><a href=\"https://wandb.ai/synthesis-ai/53_best_checkpoint_model_all_real_data_folds/runs/m85dnkhq\" target=\"_blank\">young-bush-15</a></strong> to <a href=\"https://wandb.ai/synthesis-ai/53_best_checkpoint_model_all_real_data_folds\" target=\"_blank\">Weights & Biases</a> (<a href=\"https://wandb.me/run\" target=\"_blank\">docs</a>)<br/>"
      ],
      "text/plain": [
       "<IPython.core.display.HTML object>"
      ]
     },
     "metadata": {},
     "output_type": "display_data"
    },
    {
     "name": "stdout",
     "output_type": "stream",
     "text": [
      "cfold=fold09\n",
      "0 items removed from dataset that have an angle > 180\n",
      "\n",
      "test configuration: gpu_id=cuda:0, batch_size=20\n",
      "model_arch=ResNet50 Start testing dataset=mpiigaze\n",
      "cFOLD=9 dFOLD=0--06/28/2022 13:48:17----\n",
      "[cfold9---dfold 0] Total Num:3000, MAE:4.301743100016878  06/28/2022 13:48:30\n",
      "0 items removed from dataset that have an angle > 180\n",
      "\n",
      "test configuration: gpu_id=cuda:0, batch_size=20\n",
      "model_arch=ResNet50 Start testing dataset=mpiigaze\n",
      "cFOLD=9 dFOLD=1--06/28/2022 13:48:30----\n",
      "[cfold9---dfold 1] Total Num:3000, MAE:6.014441680331285  06/28/2022 13:48:43\n",
      "0 items removed from dataset that have an angle > 180\n",
      "\n",
      "test configuration: gpu_id=cuda:0, batch_size=20\n",
      "model_arch=ResNet50 Start testing dataset=mpiigaze\n",
      "cFOLD=9 dFOLD=2--06/28/2022 13:48:43----\n",
      "[cfold9---dfold 2] Total Num:3000, MAE:5.2764410935912185  06/28/2022 13:48:55\n",
      "0 items removed from dataset that have an angle > 180\n",
      "\n",
      "test configuration: gpu_id=cuda:0, batch_size=20\n",
      "model_arch=ResNet50 Start testing dataset=mpiigaze\n",
      "cFOLD=9 dFOLD=3--06/28/2022 13:48:55----\n",
      "[cfold9---dfold 3] Total Num:3000, MAE:7.616875911586139  06/28/2022 13:49:08\n",
      "0 items removed from dataset that have an angle > 180\n",
      "\n",
      "test configuration: gpu_id=cuda:0, batch_size=20\n",
      "model_arch=ResNet50 Start testing dataset=mpiigaze\n",
      "cFOLD=9 dFOLD=4--06/28/2022 13:49:08----\n",
      "[cfold9---dfold 4] Total Num:3000, MAE:5.368074099571948  06/28/2022 13:49:21\n",
      "0 items removed from dataset that have an angle > 180\n",
      "\n",
      "test configuration: gpu_id=cuda:0, batch_size=20\n",
      "model_arch=ResNet50 Start testing dataset=mpiigaze\n",
      "cFOLD=9 dFOLD=5--06/28/2022 13:49:21----\n",
      "[cfold9---dfold 5] Total Num:3000, MAE:6.067793967159988  06/28/2022 13:49:34\n",
      "0 items removed from dataset that have an angle > 180\n",
      "\n",
      "test configuration: gpu_id=cuda:0, batch_size=20\n",
      "model_arch=ResNet50 Start testing dataset=mpiigaze\n",
      "cFOLD=9 dFOLD=6--06/28/2022 13:49:34----\n",
      "[cfold9---dfold 6] Total Num:3000, MAE:10.599794294645458  06/28/2022 13:49:47\n",
      "0 items removed from dataset that have an angle > 180\n",
      "\n",
      "test configuration: gpu_id=cuda:0, batch_size=20\n",
      "model_arch=ResNet50 Start testing dataset=mpiigaze\n",
      "cFOLD=9 dFOLD=7--06/28/2022 13:49:47----\n",
      "[cfold9---dfold 7] Total Num:3000, MAE:7.171718101452379  06/28/2022 13:50:00\n",
      "0 items removed from dataset that have an angle > 180\n",
      "\n",
      "test configuration: gpu_id=cuda:0, batch_size=20\n",
      "model_arch=ResNet50 Start testing dataset=mpiigaze\n",
      "cFOLD=9 dFOLD=8--06/28/2022 13:50:00----\n",
      "[cfold9---dfold 8] Total Num:3000, MAE:7.639656018323276  06/28/2022 13:50:13\n",
      "0 items removed from dataset that have an angle > 180\n",
      "\n",
      "test configuration: gpu_id=cuda:0, batch_size=20\n",
      "model_arch=ResNet50 Start testing dataset=mpiigaze\n",
      "cFOLD=9 dFOLD=9--06/28/2022 13:50:13----\n",
      "[cfold9---dfold 9] Total Num:3000, MAE:7.475630903039499  06/28/2022 13:50:26\n",
      "0 items removed from dataset that have an angle > 180\n",
      "\n",
      "test configuration: gpu_id=cuda:0, batch_size=20\n",
      "model_arch=ResNet50 Start testing dataset=mpiigaze\n",
      "cFOLD=9 dFOLD=10--06/28/2022 13:50:26----\n",
      "[cfold9---dfold 10] Total Num:3000, MAE:9.406141204238565  06/28/2022 13:50:39\n",
      "0 items removed from dataset that have an angle > 180\n",
      "\n",
      "test configuration: gpu_id=cuda:0, batch_size=20\n",
      "model_arch=ResNet50 Start testing dataset=mpiigaze\n",
      "cFOLD=9 dFOLD=11--06/28/2022 13:50:39----\n",
      "[cfold9---dfold 11] Total Num:3000, MAE:7.151933942734143  06/28/2022 13:50:52\n",
      "0 items removed from dataset that have an angle > 180\n",
      "\n",
      "test configuration: gpu_id=cuda:0, batch_size=20\n",
      "model_arch=ResNet50 Start testing dataset=mpiigaze\n",
      "cFOLD=9 dFOLD=12--06/28/2022 13:50:52----\n",
      "[cfold9---dfold 12] Total Num:3000, MAE:8.627780169999427  06/28/2022 13:51:04\n",
      "0 items removed from dataset that have an angle > 180\n",
      "\n",
      "test configuration: gpu_id=cuda:0, batch_size=20\n",
      "model_arch=ResNet50 Start testing dataset=mpiigaze\n",
      "cFOLD=9 dFOLD=13--06/28/2022 13:51:04----\n",
      "[cfold9---dfold 13] Total Num:3000, MAE:10.39734850631738  06/28/2022 13:51:17\n",
      "0 items removed from dataset that have an angle > 180\n",
      "\n",
      "test configuration: gpu_id=cuda:0, batch_size=20\n",
      "model_arch=ResNet50 Start testing dataset=mpiigaze\n",
      "cFOLD=9 dFOLD=14--06/28/2022 13:51:17----\n",
      "[cfold9---dfold 14] Total Num:3000, MAE:6.1658577016593785  06/28/2022 13:51:30\n",
      "[cfold9--] MAE for this fold best model:7.285415379644465  06/28/2022 13:51:30\n"
     ]
    },
    {
     "data": {
      "text/html": [
       "Finishing last run (ID:m85dnkhq) before initializing another..."
      ],
      "text/plain": [
       "<IPython.core.display.HTML object>"
      ]
     },
     "metadata": {},
     "output_type": "display_data"
    },
    {
     "data": {
      "text/html": [
       "Waiting for W&B process to finish... <strong style=\"color:green\">(success).</strong>"
      ],
      "text/plain": [
       "<IPython.core.display.HTML object>"
      ]
     },
     "metadata": {},
     "output_type": "display_data"
    },
    {
     "data": {
      "application/vnd.jupyter.widget-view+json": {
       "model_id": "",
       "version_major": 2,
       "version_minor": 0
      },
      "text/plain": [
       "VBox(children=(Label(value='0.001 MB of 0.001 MB uploaded (0.000 MB deduped)\\r'), FloatProgress(value=1.0, max…"
      ]
     },
     "metadata": {},
     "output_type": "display_data"
    },
    {
     "data": {
      "text/html": [
       "<style>\n",
       "    table.wandb td:nth-child(1) { padding: 0 10px; text-align: right }\n",
       "    .wandb-row { display: flex; flex-direction: row; flex-wrap: wrap; width: 100% }\n",
       "    .wandb-col { display: flex; flex-direction: column; flex-basis: 100%; flex: 1; padding: 10px; }\n",
       "    </style>\n",
       "<div class=\"wandb-row\"><div class=\"wandb-col\"><h3>Run history:</h3><br/><table class=\"wandb\"><tr><td>data fold</td><td>▁▁▂▃▃▃▄▅▅▅▆▇▇▇█</td></tr><tr><td>dfold_0_avg_mae</td><td>▁</td></tr><tr><td>dfold_10_avg_mae</td><td>▁</td></tr><tr><td>dfold_11_avg_mae</td><td>▁</td></tr><tr><td>dfold_12_avg_mae</td><td>▁</td></tr><tr><td>dfold_13_avg_mae</td><td>▁</td></tr><tr><td>dfold_14_avg_mae</td><td>▁</td></tr><tr><td>dfold_1_avg_mae</td><td>▁</td></tr><tr><td>dfold_2_avg_mae</td><td>▁</td></tr><tr><td>dfold_3_avg_mae</td><td>▁</td></tr><tr><td>dfold_4_avg_mae</td><td>▁</td></tr><tr><td>dfold_5_avg_mae</td><td>▁</td></tr><tr><td>dfold_6_avg_mae</td><td>▁</td></tr><tr><td>dfold_7_avg_mae</td><td>▁</td></tr><tr><td>dfold_8_avg_mae</td><td>▁</td></tr><tr><td>dfold_9_avg_mae</td><td>▁</td></tr></table><br/></div><div class=\"wandb-col\"><h3>Run summary:</h3><br/><table class=\"wandb\"><tr><td>data fold</td><td>14</td></tr><tr><td>dfold_0_avg_mae</td><td>4.30174</td></tr><tr><td>dfold_10_avg_mae</td><td>9.40614</td></tr><tr><td>dfold_11_avg_mae</td><td>7.15193</td></tr><tr><td>dfold_12_avg_mae</td><td>8.62778</td></tr><tr><td>dfold_13_avg_mae</td><td>10.39735</td></tr><tr><td>dfold_14_avg_mae</td><td>6.16586</td></tr><tr><td>dfold_1_avg_mae</td><td>6.01444</td></tr><tr><td>dfold_2_avg_mae</td><td>5.27644</td></tr><tr><td>dfold_3_avg_mae</td><td>7.61688</td></tr><tr><td>dfold_4_avg_mae</td><td>5.36807</td></tr><tr><td>dfold_5_avg_mae</td><td>6.06779</td></tr><tr><td>dfold_6_avg_mae</td><td>10.59979</td></tr><tr><td>dfold_7_avg_mae</td><td>7.17172</td></tr><tr><td>dfold_8_avg_mae</td><td>7.63966</td></tr><tr><td>dfold_9_avg_mae</td><td>7.47563</td></tr></table><br/></div></div>"
      ],
      "text/plain": [
       "<IPython.core.display.HTML object>"
      ]
     },
     "metadata": {},
     "output_type": "display_data"
    },
    {
     "data": {
      "text/html": [
       "Synced <strong style=\"color:#cdcd00\">young-bush-15</strong>: <a href=\"https://wandb.ai/synthesis-ai/53_best_checkpoint_model_all_real_data_folds/runs/m85dnkhq\" target=\"_blank\">https://wandb.ai/synthesis-ai/53_best_checkpoint_model_all_real_data_folds/runs/m85dnkhq</a><br/>Synced 5 W&B file(s), 0 media file(s), 0 artifact file(s) and 0 other file(s)"
      ],
      "text/plain": [
       "<IPython.core.display.HTML object>"
      ]
     },
     "metadata": {},
     "output_type": "display_data"
    },
    {
     "data": {
      "text/html": [
       "Find logs at: <code>./wandb/run-20220628_204808-m85dnkhq/logs</code>"
      ],
      "text/plain": [
       "<IPython.core.display.HTML object>"
      ]
     },
     "metadata": {},
     "output_type": "display_data"
    },
    {
     "data": {
      "text/html": [
       "Successfully finished last run (ID:m85dnkhq). Initializing new run:<br/>"
      ],
      "text/plain": [
       "<IPython.core.display.HTML object>"
      ]
     },
     "metadata": {},
     "output_type": "display_data"
    },
    {
     "data": {
      "text/html": [
       "wandb version 0.12.19 is available!  To upgrade, please run:\n",
       " $ pip install wandb --upgrade"
      ],
      "text/plain": [
       "<IPython.core.display.HTML object>"
      ]
     },
     "metadata": {},
     "output_type": "display_data"
    },
    {
     "data": {
      "text/html": [
       "Tracking run with wandb version 0.12.15"
      ],
      "text/plain": [
       "<IPython.core.display.HTML object>"
      ]
     },
     "metadata": {},
     "output_type": "display_data"
    },
    {
     "data": {
      "text/html": [
       "Run data is saved locally in <code>/project/notebooks/wandb/run-20220628_205130-31r9l6hb</code>"
      ],
      "text/plain": [
       "<IPython.core.display.HTML object>"
      ]
     },
     "metadata": {},
     "output_type": "display_data"
    },
    {
     "data": {
      "text/html": [
       "Syncing run <strong><a href=\"https://wandb.ai/synthesis-ai/53_best_checkpoint_model_all_real_data_folds/runs/31r9l6hb\" target=\"_blank\">cool-disco-16</a></strong> to <a href=\"https://wandb.ai/synthesis-ai/53_best_checkpoint_model_all_real_data_folds\" target=\"_blank\">Weights & Biases</a> (<a href=\"https://wandb.me/run\" target=\"_blank\">docs</a>)<br/>"
      ],
      "text/plain": [
       "<IPython.core.display.HTML object>"
      ]
     },
     "metadata": {},
     "output_type": "display_data"
    },
    {
     "name": "stdout",
     "output_type": "stream",
     "text": [
      "cfold=fold10\n",
      "0 items removed from dataset that have an angle > 180\n",
      "\n",
      "test configuration: gpu_id=cuda:0, batch_size=20\n",
      "model_arch=ResNet50 Start testing dataset=mpiigaze\n",
      "cFOLD=10 dFOLD=0--06/28/2022 13:51:39----\n",
      "[cfold10---dfold 0] Total Num:3000, MAE:5.86066156459165  06/28/2022 13:51:52\n",
      "0 items removed from dataset that have an angle > 180\n",
      "\n",
      "test configuration: gpu_id=cuda:0, batch_size=20\n",
      "model_arch=ResNet50 Start testing dataset=mpiigaze\n",
      "cFOLD=10 dFOLD=1--06/28/2022 13:51:52----\n",
      "[cfold10---dfold 1] Total Num:3000, MAE:5.866313612535757  06/28/2022 13:52:05\n",
      "0 items removed from dataset that have an angle > 180\n",
      "\n",
      "test configuration: gpu_id=cuda:0, batch_size=20\n",
      "model_arch=ResNet50 Start testing dataset=mpiigaze\n",
      "cFOLD=10 dFOLD=2--06/28/2022 13:52:05----\n",
      "[cfold10---dfold 2] Total Num:3000, MAE:5.7841282293285055  06/28/2022 13:52:18\n",
      "0 items removed from dataset that have an angle > 180\n",
      "\n",
      "test configuration: gpu_id=cuda:0, batch_size=20\n",
      "model_arch=ResNet50 Start testing dataset=mpiigaze\n",
      "cFOLD=10 dFOLD=3--06/28/2022 13:52:18----\n",
      "[cfold10---dfold 3] Total Num:3000, MAE:9.309112967147104  06/28/2022 13:52:31\n",
      "0 items removed from dataset that have an angle > 180\n",
      "\n",
      "test configuration: gpu_id=cuda:0, batch_size=20\n",
      "model_arch=ResNet50 Start testing dataset=mpiigaze\n",
      "cFOLD=10 dFOLD=4--06/28/2022 13:52:31----\n",
      "[cfold10---dfold 4] Total Num:3000, MAE:5.62218066419933  06/28/2022 13:52:44\n",
      "0 items removed from dataset that have an angle > 180\n",
      "\n",
      "test configuration: gpu_id=cuda:0, batch_size=20\n",
      "model_arch=ResNet50 Start testing dataset=mpiigaze\n",
      "cFOLD=10 dFOLD=5--06/28/2022 13:52:44----\n",
      "[cfold10---dfold 5] Total Num:3000, MAE:6.147545098481272  06/28/2022 13:52:57\n",
      "0 items removed from dataset that have an angle > 180\n",
      "\n",
      "test configuration: gpu_id=cuda:0, batch_size=20\n",
      "model_arch=ResNet50 Start testing dataset=mpiigaze\n",
      "cFOLD=10 dFOLD=6--06/28/2022 13:52:57----\n",
      "[cfold10---dfold 6] Total Num:3000, MAE:12.233037514675795  06/28/2022 13:53:10\n",
      "0 items removed from dataset that have an angle > 180\n",
      "\n",
      "test configuration: gpu_id=cuda:0, batch_size=20\n",
      "model_arch=ResNet50 Start testing dataset=mpiigaze\n",
      "cFOLD=10 dFOLD=7--06/28/2022 13:53:10----\n",
      "[cfold10---dfold 7] Total Num:3000, MAE:7.247992875439081  06/28/2022 13:53:23\n",
      "0 items removed from dataset that have an angle > 180\n",
      "\n",
      "test configuration: gpu_id=cuda:0, batch_size=20\n",
      "model_arch=ResNet50 Start testing dataset=mpiigaze\n",
      "cFOLD=10 dFOLD=8--06/28/2022 13:53:23----\n",
      "[cfold10---dfold 8] Total Num:3000, MAE:7.231227606509257  06/28/2022 13:53:35\n",
      "0 items removed from dataset that have an angle > 180\n",
      "\n",
      "test configuration: gpu_id=cuda:0, batch_size=20\n",
      "model_arch=ResNet50 Start testing dataset=mpiigaze\n",
      "cFOLD=10 dFOLD=9--06/28/2022 13:53:35----\n",
      "[cfold10---dfold 9] Total Num:3000, MAE:7.180479082746119  06/28/2022 13:53:48\n",
      "0 items removed from dataset that have an angle > 180\n",
      "\n",
      "test configuration: gpu_id=cuda:0, batch_size=20\n",
      "model_arch=ResNet50 Start testing dataset=mpiigaze\n",
      "cFOLD=10 dFOLD=10--06/28/2022 13:53:48----\n",
      "[cfold10---dfold 10] Total Num:3000, MAE:10.439492665396937  06/28/2022 13:54:01\n",
      "0 items removed from dataset that have an angle > 180\n",
      "\n",
      "test configuration: gpu_id=cuda:0, batch_size=20\n",
      "model_arch=ResNet50 Start testing dataset=mpiigaze\n",
      "cFOLD=10 dFOLD=11--06/28/2022 13:54:01----\n",
      "[cfold10---dfold 11] Total Num:3000, MAE:6.555633144298068  06/28/2022 13:54:14\n",
      "0 items removed from dataset that have an angle > 180\n",
      "\n",
      "test configuration: gpu_id=cuda:0, batch_size=20\n",
      "model_arch=ResNet50 Start testing dataset=mpiigaze\n",
      "cFOLD=10 dFOLD=12--06/28/2022 13:54:14----\n",
      "[cfold10---dfold 12] Total Num:3000, MAE:10.168021220742638  06/28/2022 13:54:27\n",
      "0 items removed from dataset that have an angle > 180\n",
      "\n",
      "test configuration: gpu_id=cuda:0, batch_size=20\n",
      "model_arch=ResNet50 Start testing dataset=mpiigaze\n",
      "cFOLD=10 dFOLD=13--06/28/2022 13:54:27----\n",
      "[cfold10---dfold 13] Total Num:3000, MAE:10.106862950930363  06/28/2022 13:54:40\n",
      "0 items removed from dataset that have an angle > 180\n",
      "\n",
      "test configuration: gpu_id=cuda:0, batch_size=20\n",
      "model_arch=ResNet50 Start testing dataset=mpiigaze\n",
      "cFOLD=10 dFOLD=14--06/28/2022 13:54:40----\n",
      "[cfold10---dfold 14] Total Num:3000, MAE:5.905074910939641  06/28/2022 13:54:53\n",
      "[cfold10--] MAE for this fold best model:7.710517607197434  06/28/2022 13:54:53\n"
     ]
    },
    {
     "data": {
      "text/html": [
       "Finishing last run (ID:31r9l6hb) before initializing another..."
      ],
      "text/plain": [
       "<IPython.core.display.HTML object>"
      ]
     },
     "metadata": {},
     "output_type": "display_data"
    },
    {
     "data": {
      "text/html": [
       "Waiting for W&B process to finish... <strong style=\"color:green\">(success).</strong>"
      ],
      "text/plain": [
       "<IPython.core.display.HTML object>"
      ]
     },
     "metadata": {},
     "output_type": "display_data"
    },
    {
     "data": {
      "application/vnd.jupyter.widget-view+json": {
       "model_id": "",
       "version_major": 2,
       "version_minor": 0
      },
      "text/plain": [
       "VBox(children=(Label(value='0.001 MB of 0.001 MB uploaded (0.000 MB deduped)\\r'), FloatProgress(value=1.0, max…"
      ]
     },
     "metadata": {},
     "output_type": "display_data"
    },
    {
     "data": {
      "text/html": [
       "<style>\n",
       "    table.wandb td:nth-child(1) { padding: 0 10px; text-align: right }\n",
       "    .wandb-row { display: flex; flex-direction: row; flex-wrap: wrap; width: 100% }\n",
       "    .wandb-col { display: flex; flex-direction: column; flex-basis: 100%; flex: 1; padding: 10px; }\n",
       "    </style>\n",
       "<div class=\"wandb-row\"><div class=\"wandb-col\"><h3>Run history:</h3><br/><table class=\"wandb\"><tr><td>data fold</td><td>▁▁▂▃▃▃▄▅▅▅▆▇▇▇█</td></tr><tr><td>dfold_0_avg_mae</td><td>▁</td></tr><tr><td>dfold_10_avg_mae</td><td>▁</td></tr><tr><td>dfold_11_avg_mae</td><td>▁</td></tr><tr><td>dfold_12_avg_mae</td><td>▁</td></tr><tr><td>dfold_13_avg_mae</td><td>▁</td></tr><tr><td>dfold_14_avg_mae</td><td>▁</td></tr><tr><td>dfold_1_avg_mae</td><td>▁</td></tr><tr><td>dfold_2_avg_mae</td><td>▁</td></tr><tr><td>dfold_3_avg_mae</td><td>▁</td></tr><tr><td>dfold_4_avg_mae</td><td>▁</td></tr><tr><td>dfold_5_avg_mae</td><td>▁</td></tr><tr><td>dfold_6_avg_mae</td><td>▁</td></tr><tr><td>dfold_7_avg_mae</td><td>▁</td></tr><tr><td>dfold_8_avg_mae</td><td>▁</td></tr><tr><td>dfold_9_avg_mae</td><td>▁</td></tr></table><br/></div><div class=\"wandb-col\"><h3>Run summary:</h3><br/><table class=\"wandb\"><tr><td>data fold</td><td>14</td></tr><tr><td>dfold_0_avg_mae</td><td>5.86066</td></tr><tr><td>dfold_10_avg_mae</td><td>10.43949</td></tr><tr><td>dfold_11_avg_mae</td><td>6.55563</td></tr><tr><td>dfold_12_avg_mae</td><td>10.16802</td></tr><tr><td>dfold_13_avg_mae</td><td>10.10686</td></tr><tr><td>dfold_14_avg_mae</td><td>5.90507</td></tr><tr><td>dfold_1_avg_mae</td><td>5.86631</td></tr><tr><td>dfold_2_avg_mae</td><td>5.78413</td></tr><tr><td>dfold_3_avg_mae</td><td>9.30911</td></tr><tr><td>dfold_4_avg_mae</td><td>5.62218</td></tr><tr><td>dfold_5_avg_mae</td><td>6.14755</td></tr><tr><td>dfold_6_avg_mae</td><td>12.23304</td></tr><tr><td>dfold_7_avg_mae</td><td>7.24799</td></tr><tr><td>dfold_8_avg_mae</td><td>7.23123</td></tr><tr><td>dfold_9_avg_mae</td><td>7.18048</td></tr></table><br/></div></div>"
      ],
      "text/plain": [
       "<IPython.core.display.HTML object>"
      ]
     },
     "metadata": {},
     "output_type": "display_data"
    },
    {
     "data": {
      "text/html": [
       "Synced <strong style=\"color:#cdcd00\">cool-disco-16</strong>: <a href=\"https://wandb.ai/synthesis-ai/53_best_checkpoint_model_all_real_data_folds/runs/31r9l6hb\" target=\"_blank\">https://wandb.ai/synthesis-ai/53_best_checkpoint_model_all_real_data_folds/runs/31r9l6hb</a><br/>Synced 5 W&B file(s), 0 media file(s), 0 artifact file(s) and 0 other file(s)"
      ],
      "text/plain": [
       "<IPython.core.display.HTML object>"
      ]
     },
     "metadata": {},
     "output_type": "display_data"
    },
    {
     "data": {
      "text/html": [
       "Find logs at: <code>./wandb/run-20220628_205130-31r9l6hb/logs</code>"
      ],
      "text/plain": [
       "<IPython.core.display.HTML object>"
      ]
     },
     "metadata": {},
     "output_type": "display_data"
    },
    {
     "data": {
      "text/html": [
       "Successfully finished last run (ID:31r9l6hb). Initializing new run:<br/>"
      ],
      "text/plain": [
       "<IPython.core.display.HTML object>"
      ]
     },
     "metadata": {},
     "output_type": "display_data"
    },
    {
     "data": {
      "text/html": [
       "wandb version 0.12.19 is available!  To upgrade, please run:\n",
       " $ pip install wandb --upgrade"
      ],
      "text/plain": [
       "<IPython.core.display.HTML object>"
      ]
     },
     "metadata": {},
     "output_type": "display_data"
    },
    {
     "data": {
      "text/html": [
       "Tracking run with wandb version 0.12.15"
      ],
      "text/plain": [
       "<IPython.core.display.HTML object>"
      ]
     },
     "metadata": {},
     "output_type": "display_data"
    },
    {
     "data": {
      "text/html": [
       "Run data is saved locally in <code>/project/notebooks/wandb/run-20220628_205453-rlax1odm</code>"
      ],
      "text/plain": [
       "<IPython.core.display.HTML object>"
      ]
     },
     "metadata": {},
     "output_type": "display_data"
    },
    {
     "data": {
      "text/html": [
       "Syncing run <strong><a href=\"https://wandb.ai/synthesis-ai/53_best_checkpoint_model_all_real_data_folds/runs/rlax1odm\" target=\"_blank\">wobbly-darkness-17</a></strong> to <a href=\"https://wandb.ai/synthesis-ai/53_best_checkpoint_model_all_real_data_folds\" target=\"_blank\">Weights & Biases</a> (<a href=\"https://wandb.me/run\" target=\"_blank\">docs</a>)<br/>"
      ],
      "text/plain": [
       "<IPython.core.display.HTML object>"
      ]
     },
     "metadata": {},
     "output_type": "display_data"
    },
    {
     "name": "stdout",
     "output_type": "stream",
     "text": [
      "cfold=fold11\n",
      "0 items removed from dataset that have an angle > 180\n",
      "\n",
      "test configuration: gpu_id=cuda:0, batch_size=20\n",
      "model_arch=ResNet50 Start testing dataset=mpiigaze\n",
      "cFOLD=11 dFOLD=0--06/28/2022 13:55:02----\n",
      "[cfold11---dfold 0] Total Num:3000, MAE:4.326948437745922  06/28/2022 13:55:15\n",
      "0 items removed from dataset that have an angle > 180\n",
      "\n",
      "test configuration: gpu_id=cuda:0, batch_size=20\n",
      "model_arch=ResNet50 Start testing dataset=mpiigaze\n",
      "cFOLD=11 dFOLD=1--06/28/2022 13:55:15----\n",
      "[cfold11---dfold 1] Total Num:3000, MAE:7.760806716026089  06/28/2022 13:55:28\n",
      "0 items removed from dataset that have an angle > 180\n",
      "\n",
      "test configuration: gpu_id=cuda:0, batch_size=20\n",
      "model_arch=ResNet50 Start testing dataset=mpiigaze\n",
      "cFOLD=11 dFOLD=2--06/28/2022 13:55:28----\n",
      "[cfold11---dfold 2] Total Num:3000, MAE:5.507309554703137  06/28/2022 13:55:41\n",
      "0 items removed from dataset that have an angle > 180\n",
      "\n",
      "test configuration: gpu_id=cuda:0, batch_size=20\n",
      "model_arch=ResNet50 Start testing dataset=mpiigaze\n",
      "cFOLD=11 dFOLD=3--06/28/2022 13:55:41----\n",
      "[cfold11---dfold 3] Total Num:3000, MAE:7.450236254178839  06/28/2022 13:55:54\n",
      "0 items removed from dataset that have an angle > 180\n",
      "\n",
      "test configuration: gpu_id=cuda:0, batch_size=20\n",
      "model_arch=ResNet50 Start testing dataset=mpiigaze\n",
      "cFOLD=11 dFOLD=4--06/28/2022 13:55:54----\n",
      "[cfold11---dfold 4] Total Num:3000, MAE:5.42006192290599  06/28/2022 13:56:07\n",
      "0 items removed from dataset that have an angle > 180\n",
      "\n",
      "test configuration: gpu_id=cuda:0, batch_size=20\n",
      "model_arch=ResNet50 Start testing dataset=mpiigaze\n",
      "cFOLD=11 dFOLD=5--06/28/2022 13:56:07----\n",
      "[cfold11---dfold 5] Total Num:3000, MAE:6.113799084112817  06/28/2022 13:56:20\n",
      "0 items removed from dataset that have an angle > 180\n",
      "\n",
      "test configuration: gpu_id=cuda:0, batch_size=20\n",
      "model_arch=ResNet50 Start testing dataset=mpiigaze\n",
      "cFOLD=11 dFOLD=6--06/28/2022 13:56:20----\n",
      "[cfold11---dfold 6] Total Num:3000, MAE:10.84789653482655  06/28/2022 13:56:33\n",
      "0 items removed from dataset that have an angle > 180\n",
      "\n",
      "test configuration: gpu_id=cuda:0, batch_size=20\n",
      "model_arch=ResNet50 Start testing dataset=mpiigaze\n",
      "cFOLD=11 dFOLD=7--06/28/2022 13:56:33----\n",
      "[cfold11---dfold 7] Total Num:3000, MAE:7.278835847680744  06/28/2022 13:56:46\n",
      "0 items removed from dataset that have an angle > 180\n",
      "\n",
      "test configuration: gpu_id=cuda:0, batch_size=20\n",
      "model_arch=ResNet50 Start testing dataset=mpiigaze\n",
      "cFOLD=11 dFOLD=8--06/28/2022 13:56:46----\n",
      "[cfold11---dfold 8] Total Num:3000, MAE:8.096577575849501  06/28/2022 13:56:58\n",
      "0 items removed from dataset that have an angle > 180\n",
      "\n",
      "test configuration: gpu_id=cuda:0, batch_size=20\n",
      "model_arch=ResNet50 Start testing dataset=mpiigaze\n",
      "cFOLD=11 dFOLD=9--06/28/2022 13:56:58----\n",
      "[cfold11---dfold 9] Total Num:3000, MAE:10.980407695403754  06/28/2022 13:57:11\n",
      "0 items removed from dataset that have an angle > 180\n",
      "\n",
      "test configuration: gpu_id=cuda:0, batch_size=20\n",
      "model_arch=ResNet50 Start testing dataset=mpiigaze\n",
      "cFOLD=11 dFOLD=10--06/28/2022 13:57:11----\n",
      "[cfold11---dfold 10] Total Num:3000, MAE:10.505384423673823  06/28/2022 13:57:25\n",
      "0 items removed from dataset that have an angle > 180\n",
      "\n",
      "test configuration: gpu_id=cuda:0, batch_size=20\n",
      "model_arch=ResNet50 Start testing dataset=mpiigaze\n",
      "cFOLD=11 dFOLD=11--06/28/2022 13:57:25----\n",
      "[cfold11---dfold 11] Total Num:3000, MAE:8.020186069294768  06/28/2022 13:57:38\n",
      "0 items removed from dataset that have an angle > 180\n",
      "\n",
      "test configuration: gpu_id=cuda:0, batch_size=20\n",
      "model_arch=ResNet50 Start testing dataset=mpiigaze\n",
      "cFOLD=11 dFOLD=12--06/28/2022 13:57:38----\n",
      "[cfold11---dfold 12] Total Num:3000, MAE:8.73187331602361  06/28/2022 13:57:51\n",
      "0 items removed from dataset that have an angle > 180\n",
      "\n",
      "test configuration: gpu_id=cuda:0, batch_size=20\n",
      "model_arch=ResNet50 Start testing dataset=mpiigaze\n",
      "cFOLD=11 dFOLD=13--06/28/2022 13:57:51----\n",
      "[cfold11---dfold 13] Total Num:3000, MAE:9.400930237277851  06/28/2022 13:58:04\n",
      "0 items removed from dataset that have an angle > 180\n",
      "\n",
      "test configuration: gpu_id=cuda:0, batch_size=20\n",
      "model_arch=ResNet50 Start testing dataset=mpiigaze\n",
      "cFOLD=11 dFOLD=14--06/28/2022 13:58:04----\n",
      "[cfold11---dfold 14] Total Num:3000, MAE:5.866398973640251  06/28/2022 13:58:17\n",
      "[cfold11--] MAE for this fold best model:7.753843509556242  06/28/2022 13:58:17\n"
     ]
    },
    {
     "data": {
      "text/html": [
       "Finishing last run (ID:rlax1odm) before initializing another..."
      ],
      "text/plain": [
       "<IPython.core.display.HTML object>"
      ]
     },
     "metadata": {},
     "output_type": "display_data"
    },
    {
     "data": {
      "text/html": [
       "Waiting for W&B process to finish... <strong style=\"color:green\">(success).</strong>"
      ],
      "text/plain": [
       "<IPython.core.display.HTML object>"
      ]
     },
     "metadata": {},
     "output_type": "display_data"
    },
    {
     "data": {
      "application/vnd.jupyter.widget-view+json": {
       "model_id": "",
       "version_major": 2,
       "version_minor": 0
      },
      "text/plain": [
       "VBox(children=(Label(value='0.001 MB of 0.001 MB uploaded (0.000 MB deduped)\\r'), FloatProgress(value=1.0, max…"
      ]
     },
     "metadata": {},
     "output_type": "display_data"
    },
    {
     "data": {
      "text/html": [
       "<style>\n",
       "    table.wandb td:nth-child(1) { padding: 0 10px; text-align: right }\n",
       "    .wandb-row { display: flex; flex-direction: row; flex-wrap: wrap; width: 100% }\n",
       "    .wandb-col { display: flex; flex-direction: column; flex-basis: 100%; flex: 1; padding: 10px; }\n",
       "    </style>\n",
       "<div class=\"wandb-row\"><div class=\"wandb-col\"><h3>Run history:</h3><br/><table class=\"wandb\"><tr><td>data fold</td><td>▁▁▂▃▃▃▄▅▅▅▆▇▇▇█</td></tr><tr><td>dfold_0_avg_mae</td><td>▁</td></tr><tr><td>dfold_10_avg_mae</td><td>▁</td></tr><tr><td>dfold_11_avg_mae</td><td>▁</td></tr><tr><td>dfold_12_avg_mae</td><td>▁</td></tr><tr><td>dfold_13_avg_mae</td><td>▁</td></tr><tr><td>dfold_14_avg_mae</td><td>▁</td></tr><tr><td>dfold_1_avg_mae</td><td>▁</td></tr><tr><td>dfold_2_avg_mae</td><td>▁</td></tr><tr><td>dfold_3_avg_mae</td><td>▁</td></tr><tr><td>dfold_4_avg_mae</td><td>▁</td></tr><tr><td>dfold_5_avg_mae</td><td>▁</td></tr><tr><td>dfold_6_avg_mae</td><td>▁</td></tr><tr><td>dfold_7_avg_mae</td><td>▁</td></tr><tr><td>dfold_8_avg_mae</td><td>▁</td></tr><tr><td>dfold_9_avg_mae</td><td>▁</td></tr></table><br/></div><div class=\"wandb-col\"><h3>Run summary:</h3><br/><table class=\"wandb\"><tr><td>data fold</td><td>14</td></tr><tr><td>dfold_0_avg_mae</td><td>4.32695</td></tr><tr><td>dfold_10_avg_mae</td><td>10.50538</td></tr><tr><td>dfold_11_avg_mae</td><td>8.02019</td></tr><tr><td>dfold_12_avg_mae</td><td>8.73187</td></tr><tr><td>dfold_13_avg_mae</td><td>9.40093</td></tr><tr><td>dfold_14_avg_mae</td><td>5.8664</td></tr><tr><td>dfold_1_avg_mae</td><td>7.76081</td></tr><tr><td>dfold_2_avg_mae</td><td>5.50731</td></tr><tr><td>dfold_3_avg_mae</td><td>7.45024</td></tr><tr><td>dfold_4_avg_mae</td><td>5.42006</td></tr><tr><td>dfold_5_avg_mae</td><td>6.1138</td></tr><tr><td>dfold_6_avg_mae</td><td>10.8479</td></tr><tr><td>dfold_7_avg_mae</td><td>7.27884</td></tr><tr><td>dfold_8_avg_mae</td><td>8.09658</td></tr><tr><td>dfold_9_avg_mae</td><td>10.98041</td></tr></table><br/></div></div>"
      ],
      "text/plain": [
       "<IPython.core.display.HTML object>"
      ]
     },
     "metadata": {},
     "output_type": "display_data"
    },
    {
     "data": {
      "text/html": [
       "Synced <strong style=\"color:#cdcd00\">wobbly-darkness-17</strong>: <a href=\"https://wandb.ai/synthesis-ai/53_best_checkpoint_model_all_real_data_folds/runs/rlax1odm\" target=\"_blank\">https://wandb.ai/synthesis-ai/53_best_checkpoint_model_all_real_data_folds/runs/rlax1odm</a><br/>Synced 5 W&B file(s), 0 media file(s), 0 artifact file(s) and 0 other file(s)"
      ],
      "text/plain": [
       "<IPython.core.display.HTML object>"
      ]
     },
     "metadata": {},
     "output_type": "display_data"
    },
    {
     "data": {
      "text/html": [
       "Find logs at: <code>./wandb/run-20220628_205453-rlax1odm/logs</code>"
      ],
      "text/plain": [
       "<IPython.core.display.HTML object>"
      ]
     },
     "metadata": {},
     "output_type": "display_data"
    },
    {
     "data": {
      "text/html": [
       "Successfully finished last run (ID:rlax1odm). Initializing new run:<br/>"
      ],
      "text/plain": [
       "<IPython.core.display.HTML object>"
      ]
     },
     "metadata": {},
     "output_type": "display_data"
    },
    {
     "data": {
      "text/html": [
       "wandb version 0.12.19 is available!  To upgrade, please run:\n",
       " $ pip install wandb --upgrade"
      ],
      "text/plain": [
       "<IPython.core.display.HTML object>"
      ]
     },
     "metadata": {},
     "output_type": "display_data"
    },
    {
     "data": {
      "text/html": [
       "Tracking run with wandb version 0.12.15"
      ],
      "text/plain": [
       "<IPython.core.display.HTML object>"
      ]
     },
     "metadata": {},
     "output_type": "display_data"
    },
    {
     "data": {
      "text/html": [
       "Run data is saved locally in <code>/project/notebooks/wandb/run-20220628_205817-2aqds625</code>"
      ],
      "text/plain": [
       "<IPython.core.display.HTML object>"
      ]
     },
     "metadata": {},
     "output_type": "display_data"
    },
    {
     "data": {
      "text/html": [
       "Syncing run <strong><a href=\"https://wandb.ai/synthesis-ai/53_best_checkpoint_model_all_real_data_folds/runs/2aqds625\" target=\"_blank\">fresh-wood-18</a></strong> to <a href=\"https://wandb.ai/synthesis-ai/53_best_checkpoint_model_all_real_data_folds\" target=\"_blank\">Weights & Biases</a> (<a href=\"https://wandb.me/run\" target=\"_blank\">docs</a>)<br/>"
      ],
      "text/plain": [
       "<IPython.core.display.HTML object>"
      ]
     },
     "metadata": {},
     "output_type": "display_data"
    },
    {
     "name": "stdout",
     "output_type": "stream",
     "text": [
      "cfold=fold12\n",
      "0 items removed from dataset that have an angle > 180\n",
      "\n",
      "test configuration: gpu_id=cuda:0, batch_size=20\n",
      "model_arch=ResNet50 Start testing dataset=mpiigaze\n",
      "cFOLD=12 dFOLD=0--06/28/2022 13:58:25----\n",
      "[cfold12---dfold 0] Total Num:3000, MAE:5.336293029250436  06/28/2022 13:58:38\n",
      "0 items removed from dataset that have an angle > 180\n",
      "\n",
      "test configuration: gpu_id=cuda:0, batch_size=20\n",
      "model_arch=ResNet50 Start testing dataset=mpiigaze\n",
      "cFOLD=12 dFOLD=1--06/28/2022 13:58:38----\n",
      "[cfold12---dfold 1] Total Num:3000, MAE:7.227248396324976  06/28/2022 13:58:51\n",
      "0 items removed from dataset that have an angle > 180\n",
      "\n",
      "test configuration: gpu_id=cuda:0, batch_size=20\n",
      "model_arch=ResNet50 Start testing dataset=mpiigaze\n",
      "cFOLD=12 dFOLD=2--06/28/2022 13:58:51----\n",
      "[cfold12---dfold 2] Total Num:3000, MAE:5.8997175665576895  06/28/2022 13:59:04\n",
      "0 items removed from dataset that have an angle > 180\n",
      "\n",
      "test configuration: gpu_id=cuda:0, batch_size=20\n",
      "model_arch=ResNet50 Start testing dataset=mpiigaze\n",
      "cFOLD=12 dFOLD=3--06/28/2022 13:59:04----\n",
      "[cfold12---dfold 3] Total Num:3000, MAE:8.623143448366962  06/28/2022 13:59:17\n",
      "0 items removed from dataset that have an angle > 180\n",
      "\n",
      "test configuration: gpu_id=cuda:0, batch_size=20\n",
      "model_arch=ResNet50 Start testing dataset=mpiigaze\n",
      "cFOLD=12 dFOLD=4--06/28/2022 13:59:17----\n",
      "[cfold12---dfold 4] Total Num:3000, MAE:5.500508958905513  06/28/2022 13:59:30\n",
      "0 items removed from dataset that have an angle > 180\n",
      "\n",
      "test configuration: gpu_id=cuda:0, batch_size=20\n",
      "model_arch=ResNet50 Start testing dataset=mpiigaze\n",
      "cFOLD=12 dFOLD=5--06/28/2022 13:59:30----\n",
      "[cfold12---dfold 5] Total Num:3000, MAE:6.8462106988930405  06/28/2022 13:59:43\n",
      "0 items removed from dataset that have an angle > 180\n",
      "\n",
      "test configuration: gpu_id=cuda:0, batch_size=20\n",
      "model_arch=ResNet50 Start testing dataset=mpiigaze\n",
      "cFOLD=12 dFOLD=6--06/28/2022 13:59:43----\n",
      "[cfold12---dfold 6] Total Num:3000, MAE:12.188788513119684  06/28/2022 13:59:56\n",
      "0 items removed from dataset that have an angle > 180\n",
      "\n",
      "test configuration: gpu_id=cuda:0, batch_size=20\n",
      "model_arch=ResNet50 Start testing dataset=mpiigaze\n",
      "cFOLD=12 dFOLD=7--06/28/2022 13:59:56----\n",
      "[cfold12---dfold 7] Total Num:3000, MAE:7.9721897033940765  06/28/2022 14:00:09\n",
      "0 items removed from dataset that have an angle > 180\n",
      "\n",
      "test configuration: gpu_id=cuda:0, batch_size=20\n",
      "model_arch=ResNet50 Start testing dataset=mpiigaze\n",
      "cFOLD=12 dFOLD=8--06/28/2022 14:00:09----\n",
      "[cfold12---dfold 8] Total Num:3000, MAE:8.646217040747635  06/28/2022 14:00:22\n",
      "0 items removed from dataset that have an angle > 180\n",
      "\n",
      "test configuration: gpu_id=cuda:0, batch_size=20\n",
      "model_arch=ResNet50 Start testing dataset=mpiigaze\n",
      "cFOLD=12 dFOLD=9--06/28/2022 14:00:22----\n",
      "[cfold12---dfold 9] Total Num:3000, MAE:9.364677300815874  06/28/2022 14:00:35\n",
      "0 items removed from dataset that have an angle > 180\n",
      "\n",
      "test configuration: gpu_id=cuda:0, batch_size=20\n",
      "model_arch=ResNet50 Start testing dataset=mpiigaze\n",
      "cFOLD=12 dFOLD=10--06/28/2022 14:00:35----\n",
      "[cfold12---dfold 10] Total Num:3000, MAE:10.092722830970438  06/28/2022 14:00:48\n",
      "0 items removed from dataset that have an angle > 180\n",
      "\n",
      "test configuration: gpu_id=cuda:0, batch_size=20\n",
      "model_arch=ResNet50 Start testing dataset=mpiigaze\n",
      "cFOLD=12 dFOLD=11--06/28/2022 14:00:48----\n",
      "[cfold12---dfold 11] Total Num:3000, MAE:7.116474396557436  06/28/2022 14:01:00\n",
      "0 items removed from dataset that have an angle > 180\n",
      "\n",
      "test configuration: gpu_id=cuda:0, batch_size=20\n",
      "model_arch=ResNet50 Start testing dataset=mpiigaze\n",
      "cFOLD=12 dFOLD=12--06/28/2022 14:01:00----\n",
      "[cfold12---dfold 12] Total Num:3000, MAE:8.56114193995478  06/28/2022 14:01:13\n",
      "0 items removed from dataset that have an angle > 180\n",
      "\n",
      "test configuration: gpu_id=cuda:0, batch_size=20\n",
      "model_arch=ResNet50 Start testing dataset=mpiigaze\n",
      "cFOLD=12 dFOLD=13--06/28/2022 14:01:13----\n",
      "[cfold12---dfold 13] Total Num:3000, MAE:9.218946979436106  06/28/2022 14:01:26\n",
      "0 items removed from dataset that have an angle > 180\n",
      "\n",
      "test configuration: gpu_id=cuda:0, batch_size=20\n",
      "model_arch=ResNet50 Start testing dataset=mpiigaze\n",
      "cFOLD=12 dFOLD=14--06/28/2022 14:01:26----\n",
      "[cfold12---dfold 14] Total Num:3000, MAE:5.5320609651732555  06/28/2022 14:01:39\n",
      "[cfold12--] MAE for this fold best model:7.875089451231194  06/28/2022 14:01:39\n"
     ]
    },
    {
     "data": {
      "text/html": [
       "Finishing last run (ID:2aqds625) before initializing another..."
      ],
      "text/plain": [
       "<IPython.core.display.HTML object>"
      ]
     },
     "metadata": {},
     "output_type": "display_data"
    },
    {
     "data": {
      "text/html": [
       "Waiting for W&B process to finish... <strong style=\"color:green\">(success).</strong>"
      ],
      "text/plain": [
       "<IPython.core.display.HTML object>"
      ]
     },
     "metadata": {},
     "output_type": "display_data"
    },
    {
     "data": {
      "application/vnd.jupyter.widget-view+json": {
       "model_id": "",
       "version_major": 2,
       "version_minor": 0
      },
      "text/plain": [
       "VBox(children=(Label(value='0.001 MB of 0.001 MB uploaded (0.000 MB deduped)\\r'), FloatProgress(value=1.0, max…"
      ]
     },
     "metadata": {},
     "output_type": "display_data"
    },
    {
     "data": {
      "text/html": [
       "<style>\n",
       "    table.wandb td:nth-child(1) { padding: 0 10px; text-align: right }\n",
       "    .wandb-row { display: flex; flex-direction: row; flex-wrap: wrap; width: 100% }\n",
       "    .wandb-col { display: flex; flex-direction: column; flex-basis: 100%; flex: 1; padding: 10px; }\n",
       "    </style>\n",
       "<div class=\"wandb-row\"><div class=\"wandb-col\"><h3>Run history:</h3><br/><table class=\"wandb\"><tr><td>data fold</td><td>▁▁▂▃▃▃▄▅▅▅▆▇▇▇█</td></tr><tr><td>dfold_0_avg_mae</td><td>▁</td></tr><tr><td>dfold_10_avg_mae</td><td>▁</td></tr><tr><td>dfold_11_avg_mae</td><td>▁</td></tr><tr><td>dfold_12_avg_mae</td><td>▁</td></tr><tr><td>dfold_13_avg_mae</td><td>▁</td></tr><tr><td>dfold_14_avg_mae</td><td>▁</td></tr><tr><td>dfold_1_avg_mae</td><td>▁</td></tr><tr><td>dfold_2_avg_mae</td><td>▁</td></tr><tr><td>dfold_3_avg_mae</td><td>▁</td></tr><tr><td>dfold_4_avg_mae</td><td>▁</td></tr><tr><td>dfold_5_avg_mae</td><td>▁</td></tr><tr><td>dfold_6_avg_mae</td><td>▁</td></tr><tr><td>dfold_7_avg_mae</td><td>▁</td></tr><tr><td>dfold_8_avg_mae</td><td>▁</td></tr><tr><td>dfold_9_avg_mae</td><td>▁</td></tr></table><br/></div><div class=\"wandb-col\"><h3>Run summary:</h3><br/><table class=\"wandb\"><tr><td>data fold</td><td>14</td></tr><tr><td>dfold_0_avg_mae</td><td>5.33629</td></tr><tr><td>dfold_10_avg_mae</td><td>10.09272</td></tr><tr><td>dfold_11_avg_mae</td><td>7.11647</td></tr><tr><td>dfold_12_avg_mae</td><td>8.56114</td></tr><tr><td>dfold_13_avg_mae</td><td>9.21895</td></tr><tr><td>dfold_14_avg_mae</td><td>5.53206</td></tr><tr><td>dfold_1_avg_mae</td><td>7.22725</td></tr><tr><td>dfold_2_avg_mae</td><td>5.89972</td></tr><tr><td>dfold_3_avg_mae</td><td>8.62314</td></tr><tr><td>dfold_4_avg_mae</td><td>5.50051</td></tr><tr><td>dfold_5_avg_mae</td><td>6.84621</td></tr><tr><td>dfold_6_avg_mae</td><td>12.18879</td></tr><tr><td>dfold_7_avg_mae</td><td>7.97219</td></tr><tr><td>dfold_8_avg_mae</td><td>8.64622</td></tr><tr><td>dfold_9_avg_mae</td><td>9.36468</td></tr></table><br/></div></div>"
      ],
      "text/plain": [
       "<IPython.core.display.HTML object>"
      ]
     },
     "metadata": {},
     "output_type": "display_data"
    },
    {
     "data": {
      "text/html": [
       "Synced <strong style=\"color:#cdcd00\">fresh-wood-18</strong>: <a href=\"https://wandb.ai/synthesis-ai/53_best_checkpoint_model_all_real_data_folds/runs/2aqds625\" target=\"_blank\">https://wandb.ai/synthesis-ai/53_best_checkpoint_model_all_real_data_folds/runs/2aqds625</a><br/>Synced 5 W&B file(s), 0 media file(s), 0 artifact file(s) and 0 other file(s)"
      ],
      "text/plain": [
       "<IPython.core.display.HTML object>"
      ]
     },
     "metadata": {},
     "output_type": "display_data"
    },
    {
     "data": {
      "text/html": [
       "Find logs at: <code>./wandb/run-20220628_205817-2aqds625/logs</code>"
      ],
      "text/plain": [
       "<IPython.core.display.HTML object>"
      ]
     },
     "metadata": {},
     "output_type": "display_data"
    },
    {
     "data": {
      "text/html": [
       "Successfully finished last run (ID:2aqds625). Initializing new run:<br/>"
      ],
      "text/plain": [
       "<IPython.core.display.HTML object>"
      ]
     },
     "metadata": {},
     "output_type": "display_data"
    },
    {
     "data": {
      "text/html": [
       "wandb version 0.12.19 is available!  To upgrade, please run:\n",
       " $ pip install wandb --upgrade"
      ],
      "text/plain": [
       "<IPython.core.display.HTML object>"
      ]
     },
     "metadata": {},
     "output_type": "display_data"
    },
    {
     "data": {
      "text/html": [
       "Tracking run with wandb version 0.12.15"
      ],
      "text/plain": [
       "<IPython.core.display.HTML object>"
      ]
     },
     "metadata": {},
     "output_type": "display_data"
    },
    {
     "data": {
      "text/html": [
       "Run data is saved locally in <code>/project/notebooks/wandb/run-20220628_210139-v7zs0flw</code>"
      ],
      "text/plain": [
       "<IPython.core.display.HTML object>"
      ]
     },
     "metadata": {},
     "output_type": "display_data"
    },
    {
     "data": {
      "text/html": [
       "Syncing run <strong><a href=\"https://wandb.ai/synthesis-ai/53_best_checkpoint_model_all_real_data_folds/runs/v7zs0flw\" target=\"_blank\">swift-sunset-19</a></strong> to <a href=\"https://wandb.ai/synthesis-ai/53_best_checkpoint_model_all_real_data_folds\" target=\"_blank\">Weights & Biases</a> (<a href=\"https://wandb.me/run\" target=\"_blank\">docs</a>)<br/>"
      ],
      "text/plain": [
       "<IPython.core.display.HTML object>"
      ]
     },
     "metadata": {},
     "output_type": "display_data"
    },
    {
     "name": "stdout",
     "output_type": "stream",
     "text": [
      "cfold=fold13\n",
      "0 items removed from dataset that have an angle > 180\n",
      "\n",
      "test configuration: gpu_id=cuda:0, batch_size=20\n",
      "model_arch=ResNet50 Start testing dataset=mpiigaze\n",
      "cFOLD=13 dFOLD=0--06/28/2022 14:01:48----\n",
      "[cfold13---dfold 0] Total Num:3000, MAE:4.843755454746097  06/28/2022 14:02:01\n",
      "0 items removed from dataset that have an angle > 180\n",
      "\n",
      "test configuration: gpu_id=cuda:0, batch_size=20\n",
      "model_arch=ResNet50 Start testing dataset=mpiigaze\n",
      "cFOLD=13 dFOLD=1--06/28/2022 14:02:01----\n",
      "[cfold13---dfold 1] Total Num:3000, MAE:6.107401649318494  06/28/2022 14:02:14\n",
      "0 items removed from dataset that have an angle > 180\n",
      "\n",
      "test configuration: gpu_id=cuda:0, batch_size=20\n",
      "model_arch=ResNet50 Start testing dataset=mpiigaze\n",
      "cFOLD=13 dFOLD=2--06/28/2022 14:02:14----\n",
      "[cfold13---dfold 2] Total Num:3000, MAE:5.405018220665629  06/28/2022 14:02:27\n",
      "0 items removed from dataset that have an angle > 180\n",
      "\n",
      "test configuration: gpu_id=cuda:0, batch_size=20\n",
      "model_arch=ResNet50 Start testing dataset=mpiigaze\n",
      "cFOLD=13 dFOLD=3--06/28/2022 14:02:27----\n",
      "[cfold13---dfold 3] Total Num:3000, MAE:7.820724314358009  06/28/2022 14:02:40\n",
      "0 items removed from dataset that have an angle > 180\n",
      "\n",
      "test configuration: gpu_id=cuda:0, batch_size=20\n",
      "model_arch=ResNet50 Start testing dataset=mpiigaze\n",
      "cFOLD=13 dFOLD=4--06/28/2022 14:02:40----\n",
      "[cfold13---dfold 4] Total Num:3000, MAE:5.210744096091872  06/28/2022 14:02:52\n",
      "0 items removed from dataset that have an angle > 180\n",
      "\n",
      "test configuration: gpu_id=cuda:0, batch_size=20\n",
      "model_arch=ResNet50 Start testing dataset=mpiigaze\n",
      "cFOLD=13 dFOLD=5--06/28/2022 14:02:52----\n",
      "[cfold13---dfold 5] Total Num:3000, MAE:6.011199503081451  06/28/2022 14:03:05\n",
      "0 items removed from dataset that have an angle > 180\n",
      "\n",
      "test configuration: gpu_id=cuda:0, batch_size=20\n",
      "model_arch=ResNet50 Start testing dataset=mpiigaze\n",
      "cFOLD=13 dFOLD=6--06/28/2022 14:03:05----\n",
      "[cfold13---dfold 6] Total Num:3000, MAE:10.762426099973592  06/28/2022 14:03:18\n",
      "0 items removed from dataset that have an angle > 180\n",
      "\n",
      "test configuration: gpu_id=cuda:0, batch_size=20\n",
      "model_arch=ResNet50 Start testing dataset=mpiigaze\n",
      "cFOLD=13 dFOLD=7--06/28/2022 14:03:18----\n",
      "[cfold13---dfold 7] Total Num:3000, MAE:7.141387682016152  06/28/2022 14:03:31\n",
      "0 items removed from dataset that have an angle > 180\n",
      "\n",
      "test configuration: gpu_id=cuda:0, batch_size=20\n",
      "model_arch=ResNet50 Start testing dataset=mpiigaze\n",
      "cFOLD=13 dFOLD=8--06/28/2022 14:03:31----\n",
      "[cfold13---dfold 8] Total Num:3000, MAE:6.834143202687185  06/28/2022 14:03:44\n",
      "0 items removed from dataset that have an angle > 180\n",
      "\n",
      "test configuration: gpu_id=cuda:0, batch_size=20\n",
      "model_arch=ResNet50 Start testing dataset=mpiigaze\n",
      "cFOLD=13 dFOLD=9--06/28/2022 14:03:44----\n",
      "[cfold13---dfold 9] Total Num:3000, MAE:7.746558314796048  06/28/2022 14:03:57\n",
      "0 items removed from dataset that have an angle > 180\n",
      "\n",
      "test configuration: gpu_id=cuda:0, batch_size=20\n",
      "model_arch=ResNet50 Start testing dataset=mpiigaze\n",
      "cFOLD=13 dFOLD=10--06/28/2022 14:03:57----\n",
      "[cfold13---dfold 10] Total Num:3000, MAE:9.355022500844031  06/28/2022 14:04:10\n",
      "0 items removed from dataset that have an angle > 180\n",
      "\n",
      "test configuration: gpu_id=cuda:0, batch_size=20\n",
      "model_arch=ResNet50 Start testing dataset=mpiigaze\n",
      "cFOLD=13 dFOLD=11--06/28/2022 14:04:10----\n",
      "[cfold13---dfold 11] Total Num:3000, MAE:6.520414436543163  06/28/2022 14:04:23\n",
      "0 items removed from dataset that have an angle > 180\n",
      "\n",
      "test configuration: gpu_id=cuda:0, batch_size=20\n",
      "model_arch=ResNet50 Start testing dataset=mpiigaze\n",
      "cFOLD=13 dFOLD=12--06/28/2022 14:04:23----\n",
      "[cfold13---dfold 12] Total Num:3000, MAE:8.84205521854575  06/28/2022 14:04:36\n",
      "0 items removed from dataset that have an angle > 180\n",
      "\n",
      "test configuration: gpu_id=cuda:0, batch_size=20\n",
      "model_arch=ResNet50 Start testing dataset=mpiigaze\n",
      "cFOLD=13 dFOLD=13--06/28/2022 14:04:36----\n",
      "[cfold13---dfold 13] Total Num:3000, MAE:8.126707199200558  06/28/2022 14:04:49\n",
      "0 items removed from dataset that have an angle > 180\n",
      "\n",
      "test configuration: gpu_id=cuda:0, batch_size=20\n",
      "model_arch=ResNet50 Start testing dataset=mpiigaze\n",
      "cFOLD=13 dFOLD=14--06/28/2022 14:04:49----\n",
      "[cfold13---dfold 14] Total Num:3000, MAE:5.508835589915314  06/28/2022 14:05:02\n",
      "[cfold13--] MAE for this fold best model:7.082426232185556  06/28/2022 14:05:02\n"
     ]
    },
    {
     "data": {
      "text/html": [
       "Finishing last run (ID:v7zs0flw) before initializing another..."
      ],
      "text/plain": [
       "<IPython.core.display.HTML object>"
      ]
     },
     "metadata": {},
     "output_type": "display_data"
    },
    {
     "data": {
      "text/html": [
       "Waiting for W&B process to finish... <strong style=\"color:green\">(success).</strong>"
      ],
      "text/plain": [
       "<IPython.core.display.HTML object>"
      ]
     },
     "metadata": {},
     "output_type": "display_data"
    },
    {
     "data": {
      "application/vnd.jupyter.widget-view+json": {
       "model_id": "",
       "version_major": 2,
       "version_minor": 0
      },
      "text/plain": [
       "VBox(children=(Label(value='0.001 MB of 0.001 MB uploaded (0.000 MB deduped)\\r'), FloatProgress(value=1.0, max…"
      ]
     },
     "metadata": {},
     "output_type": "display_data"
    },
    {
     "data": {
      "text/html": [
       "<style>\n",
       "    table.wandb td:nth-child(1) { padding: 0 10px; text-align: right }\n",
       "    .wandb-row { display: flex; flex-direction: row; flex-wrap: wrap; width: 100% }\n",
       "    .wandb-col { display: flex; flex-direction: column; flex-basis: 100%; flex: 1; padding: 10px; }\n",
       "    </style>\n",
       "<div class=\"wandb-row\"><div class=\"wandb-col\"><h3>Run history:</h3><br/><table class=\"wandb\"><tr><td>data fold</td><td>▁▁▂▃▃▃▄▅▅▅▆▇▇▇█</td></tr><tr><td>dfold_0_avg_mae</td><td>▁</td></tr><tr><td>dfold_10_avg_mae</td><td>▁</td></tr><tr><td>dfold_11_avg_mae</td><td>▁</td></tr><tr><td>dfold_12_avg_mae</td><td>▁</td></tr><tr><td>dfold_13_avg_mae</td><td>▁</td></tr><tr><td>dfold_14_avg_mae</td><td>▁</td></tr><tr><td>dfold_1_avg_mae</td><td>▁</td></tr><tr><td>dfold_2_avg_mae</td><td>▁</td></tr><tr><td>dfold_3_avg_mae</td><td>▁</td></tr><tr><td>dfold_4_avg_mae</td><td>▁</td></tr><tr><td>dfold_5_avg_mae</td><td>▁</td></tr><tr><td>dfold_6_avg_mae</td><td>▁</td></tr><tr><td>dfold_7_avg_mae</td><td>▁</td></tr><tr><td>dfold_8_avg_mae</td><td>▁</td></tr><tr><td>dfold_9_avg_mae</td><td>▁</td></tr></table><br/></div><div class=\"wandb-col\"><h3>Run summary:</h3><br/><table class=\"wandb\"><tr><td>data fold</td><td>14</td></tr><tr><td>dfold_0_avg_mae</td><td>4.84376</td></tr><tr><td>dfold_10_avg_mae</td><td>9.35502</td></tr><tr><td>dfold_11_avg_mae</td><td>6.52041</td></tr><tr><td>dfold_12_avg_mae</td><td>8.84206</td></tr><tr><td>dfold_13_avg_mae</td><td>8.12671</td></tr><tr><td>dfold_14_avg_mae</td><td>5.50884</td></tr><tr><td>dfold_1_avg_mae</td><td>6.1074</td></tr><tr><td>dfold_2_avg_mae</td><td>5.40502</td></tr><tr><td>dfold_3_avg_mae</td><td>7.82072</td></tr><tr><td>dfold_4_avg_mae</td><td>5.21074</td></tr><tr><td>dfold_5_avg_mae</td><td>6.0112</td></tr><tr><td>dfold_6_avg_mae</td><td>10.76243</td></tr><tr><td>dfold_7_avg_mae</td><td>7.14139</td></tr><tr><td>dfold_8_avg_mae</td><td>6.83414</td></tr><tr><td>dfold_9_avg_mae</td><td>7.74656</td></tr></table><br/></div></div>"
      ],
      "text/plain": [
       "<IPython.core.display.HTML object>"
      ]
     },
     "metadata": {},
     "output_type": "display_data"
    },
    {
     "data": {
      "text/html": [
       "Synced <strong style=\"color:#cdcd00\">swift-sunset-19</strong>: <a href=\"https://wandb.ai/synthesis-ai/53_best_checkpoint_model_all_real_data_folds/runs/v7zs0flw\" target=\"_blank\">https://wandb.ai/synthesis-ai/53_best_checkpoint_model_all_real_data_folds/runs/v7zs0flw</a><br/>Synced 5 W&B file(s), 0 media file(s), 0 artifact file(s) and 0 other file(s)"
      ],
      "text/plain": [
       "<IPython.core.display.HTML object>"
      ]
     },
     "metadata": {},
     "output_type": "display_data"
    },
    {
     "data": {
      "text/html": [
       "Find logs at: <code>./wandb/run-20220628_210139-v7zs0flw/logs</code>"
      ],
      "text/plain": [
       "<IPython.core.display.HTML object>"
      ]
     },
     "metadata": {},
     "output_type": "display_data"
    },
    {
     "data": {
      "text/html": [
       "Successfully finished last run (ID:v7zs0flw). Initializing new run:<br/>"
      ],
      "text/plain": [
       "<IPython.core.display.HTML object>"
      ]
     },
     "metadata": {},
     "output_type": "display_data"
    },
    {
     "data": {
      "text/html": [
       "wandb version 0.12.19 is available!  To upgrade, please run:\n",
       " $ pip install wandb --upgrade"
      ],
      "text/plain": [
       "<IPython.core.display.HTML object>"
      ]
     },
     "metadata": {},
     "output_type": "display_data"
    },
    {
     "data": {
      "text/html": [
       "Tracking run with wandb version 0.12.15"
      ],
      "text/plain": [
       "<IPython.core.display.HTML object>"
      ]
     },
     "metadata": {},
     "output_type": "display_data"
    },
    {
     "data": {
      "text/html": [
       "Run data is saved locally in <code>/project/notebooks/wandb/run-20220628_210502-2j5st7q9</code>"
      ],
      "text/plain": [
       "<IPython.core.display.HTML object>"
      ]
     },
     "metadata": {},
     "output_type": "display_data"
    },
    {
     "data": {
      "text/html": [
       "Syncing run <strong><a href=\"https://wandb.ai/synthesis-ai/53_best_checkpoint_model_all_real_data_folds/runs/2j5st7q9\" target=\"_blank\">absurd-snow-20</a></strong> to <a href=\"https://wandb.ai/synthesis-ai/53_best_checkpoint_model_all_real_data_folds\" target=\"_blank\">Weights & Biases</a> (<a href=\"https://wandb.me/run\" target=\"_blank\">docs</a>)<br/>"
      ],
      "text/plain": [
       "<IPython.core.display.HTML object>"
      ]
     },
     "metadata": {},
     "output_type": "display_data"
    },
    {
     "name": "stdout",
     "output_type": "stream",
     "text": [
      "cfold=fold14\n",
      "0 items removed from dataset that have an angle > 180\n",
      "\n",
      "test configuration: gpu_id=cuda:0, batch_size=20\n",
      "model_arch=ResNet50 Start testing dataset=mpiigaze\n",
      "cFOLD=14 dFOLD=0--06/28/2022 14:05:10----\n",
      "[cfold14---dfold 0] Total Num:3000, MAE:4.09879999005952  06/28/2022 14:05:23\n",
      "0 items removed from dataset that have an angle > 180\n",
      "\n",
      "test configuration: gpu_id=cuda:0, batch_size=20\n",
      "model_arch=ResNet50 Start testing dataset=mpiigaze\n",
      "cFOLD=14 dFOLD=1--06/28/2022 14:05:23----\n",
      "[cfold14---dfold 1] Total Num:3000, MAE:6.846577492736799  06/28/2022 14:05:36\n",
      "0 items removed from dataset that have an angle > 180\n",
      "\n",
      "test configuration: gpu_id=cuda:0, batch_size=20\n",
      "model_arch=ResNet50 Start testing dataset=mpiigaze\n",
      "cFOLD=14 dFOLD=2--06/28/2022 14:05:36----\n",
      "[cfold14---dfold 2] Total Num:3000, MAE:7.926302151782931  06/28/2022 14:05:49\n",
      "0 items removed from dataset that have an angle > 180\n",
      "\n",
      "test configuration: gpu_id=cuda:0, batch_size=20\n",
      "model_arch=ResNet50 Start testing dataset=mpiigaze\n",
      "cFOLD=14 dFOLD=3--06/28/2022 14:05:49----\n",
      "[cfold14---dfold 3] Total Num:3000, MAE:5.550950865567168  06/28/2022 14:06:02\n",
      "0 items removed from dataset that have an angle > 180\n",
      "\n",
      "test configuration: gpu_id=cuda:0, batch_size=20\n",
      "model_arch=ResNet50 Start testing dataset=mpiigaze\n",
      "cFOLD=14 dFOLD=4--06/28/2022 14:06:02----\n",
      "[cfold14---dfold 4] Total Num:3000, MAE:6.986823635529978  06/28/2022 14:06:15\n",
      "0 items removed from dataset that have an angle > 180\n",
      "\n",
      "test configuration: gpu_id=cuda:0, batch_size=20\n",
      "model_arch=ResNet50 Start testing dataset=mpiigaze\n",
      "cFOLD=14 dFOLD=5--06/28/2022 14:06:15----\n",
      "[cfold14---dfold 5] Total Num:3000, MAE:6.8374391230245095  06/28/2022 14:06:28\n",
      "0 items removed from dataset that have an angle > 180\n",
      "\n",
      "test configuration: gpu_id=cuda:0, batch_size=20\n",
      "model_arch=ResNet50 Start testing dataset=mpiigaze\n",
      "cFOLD=14 dFOLD=6--06/28/2022 14:06:28----\n",
      "[cfold14---dfold 6] Total Num:3000, MAE:9.379554882388618  06/28/2022 14:06:41\n",
      "0 items removed from dataset that have an angle > 180\n",
      "\n",
      "test configuration: gpu_id=cuda:0, batch_size=20\n",
      "model_arch=ResNet50 Start testing dataset=mpiigaze\n",
      "cFOLD=14 dFOLD=7--06/28/2022 14:06:41----\n",
      "[cfold14---dfold 7] Total Num:3000, MAE:9.255753752449598  06/28/2022 14:06:54\n",
      "0 items removed from dataset that have an angle > 180\n",
      "\n",
      "test configuration: gpu_id=cuda:0, batch_size=20\n",
      "model_arch=ResNet50 Start testing dataset=mpiigaze\n",
      "cFOLD=14 dFOLD=8--06/28/2022 14:06:54----\n",
      "[cfold14---dfold 8] Total Num:3000, MAE:8.761731554716029  06/28/2022 14:07:07\n",
      "0 items removed from dataset that have an angle > 180\n",
      "\n",
      "test configuration: gpu_id=cuda:0, batch_size=20\n",
      "model_arch=ResNet50 Start testing dataset=mpiigaze\n",
      "cFOLD=14 dFOLD=9--06/28/2022 14:07:07----\n",
      "[cfold14---dfold 9] Total Num:3000, MAE:9.084681682657823  06/28/2022 14:07:20\n",
      "0 items removed from dataset that have an angle > 180\n",
      "\n",
      "test configuration: gpu_id=cuda:0, batch_size=20\n",
      "model_arch=ResNet50 Start testing dataset=mpiigaze\n",
      "cFOLD=14 dFOLD=10--06/28/2022 14:07:20----\n",
      "[cfold14---dfold 10] Total Num:3000, MAE:8.45362656956789  06/28/2022 14:07:32\n",
      "0 items removed from dataset that have an angle > 180\n",
      "\n",
      "test configuration: gpu_id=cuda:0, batch_size=20\n",
      "model_arch=ResNet50 Start testing dataset=mpiigaze\n",
      "cFOLD=14 dFOLD=11--06/28/2022 14:07:32----\n",
      "[cfold14---dfold 11] Total Num:3000, MAE:10.737461844991538  06/28/2022 14:07:45\n",
      "0 items removed from dataset that have an angle > 180\n",
      "\n",
      "test configuration: gpu_id=cuda:0, batch_size=20\n",
      "model_arch=ResNet50 Start testing dataset=mpiigaze\n",
      "cFOLD=14 dFOLD=12--06/28/2022 14:07:45----\n",
      "[cfold14---dfold 12] Total Num:3000, MAE:7.908007138392528  06/28/2022 14:07:58\n",
      "0 items removed from dataset that have an angle > 180\n",
      "\n",
      "test configuration: gpu_id=cuda:0, batch_size=20\n",
      "model_arch=ResNet50 Start testing dataset=mpiigaze\n",
      "cFOLD=14 dFOLD=13--06/28/2022 14:07:58----\n",
      "[cfold14---dfold 13] Total Num:3000, MAE:7.922664163633467  06/28/2022 14:08:11\n",
      "0 items removed from dataset that have an angle > 180\n",
      "\n",
      "test configuration: gpu_id=cuda:0, batch_size=20\n",
      "model_arch=ResNet50 Start testing dataset=mpiigaze\n",
      "cFOLD=14 dFOLD=14--06/28/2022 14:08:11----\n",
      "[cfold14---dfold 14] Total Num:3000, MAE:8.768343426359216  06/28/2022 14:08:24\n",
      "[cfold14--] MAE for this fold best model:7.9012478849238414  06/28/2022 14:08:24\n",
      "CPU times: user 42min 44s, sys: 16min 36s, total: 59min 20s\n",
      "Wall time: 50min 41s\n"
     ]
    }
   ],
   "source": [
    "%%time\n",
    "all_MAE = []\n",
    "# tosave={}\n",
    "lfolder = os.listdir(gazeMpiilabel_dir)\n",
    "lfolder.sort()  #individual label files\n",
    "testlabelpathcombined = [os.path.join(gazeMpiilabel_dir, j) for j in lfolder] \n",
    "print(testlabelpathcombined)\n",
    "model = model_used\n",
    "model= nn.DataParallel(model,device_ids=[0])  #important to load state dict\n",
    "for cfold in range(15):  #checkpoint folds\n",
    "    frun = wandb.init(project=\"53_best_checkpoint_model_all_real_data_folds\")\n",
    "    frun.name = f'checkpoint fold{cfold}_mae'\n",
    "    \n",
    "    cfoldstr = f\"fold{cfold:0>2}\"\n",
    "    print(f\"cfold={cfoldstr}\")\n",
    "    idx = cfold + 1\n",
    "    b_epoch = best_epoch[idx]\n",
    "    \n",
    "    checkpoint_path = Path(snapshot_path)/cfoldstr\n",
    "    best_checkpoint_file = 'epoch_'+str(b_epoch)+'.pkl'\n",
    "    best_checkpoint_file = checkpoint_path/best_checkpoint_file\n",
    "#     print(best_checkpoint_file, type(best_checkpoint_file))\n",
    "    checkpoint = torch.load(best_checkpoint_file)\n",
    "    saved_state_dict = checkpoint['model_state_dict']\n",
    "    model.load_state_dict(saved_state_dict)\n",
    "\n",
    "    model.cuda(gpu)\n",
    "    model.eval()\n",
    "    idx_tensor = [idx for idx in range(35)]\n",
    "    idx_tensor = torch.FloatTensor(idx_tensor).cuda(gpu)\n",
    "    softmax = nn.Softmax(dim=1)\n",
    "    best_model_maes =[]  # error for each data fold\n",
    "    for dfold in range(15):  #data folds\n",
    "        gaze_dataset=datasets.Mpiigaze(testlabelpathcombined, gazeMpiimage_dir, transformations, False, angle, dfold)\n",
    "        test_loader = torch.utils.data.DataLoader(\n",
    "            dataset=gaze_dataset,\n",
    "            batch_size=batch_size,\n",
    "            shuffle=True,\n",
    "            num_workers=4,\n",
    "            pin_memory=True)\n",
    "        now = get_now()\n",
    "        configuration = f\"\\ntest configuration: gpu_id={gpu}, batch_size={batch_size}\\n\"\n",
    "        configuration += f\"model_arch={arch} Start testing dataset={data_set}\\n\"\n",
    "        configuration +=  f\"cFOLD={cfold} dFOLD={dfold}--{now}----\"\n",
    "        print(configuration)\n",
    "        \n",
    "        total = 0  \n",
    "        avg_error = .0\n",
    "        with torch.no_grad():\n",
    "            for j, (images, labels, cont_labels, name) in enumerate(test_loader):\n",
    "                images = Variable(images).cuda(gpu)\n",
    "                total += cont_labels.size(0)\n",
    "\n",
    "                label_pitch = cont_labels[:,0].float()*np.pi/180\n",
    "                label_yaw = cont_labels[:,1].float()*np.pi/180\n",
    "\n",
    "                gaze_pitch, gaze_yaw = model(images)\n",
    "\n",
    "                # Binned predictions\n",
    "                _, pitch_bpred = torch.max(gaze_pitch.data, 1)\n",
    "                _, yaw_bpred = torch.max(gaze_yaw.data, 1)\n",
    "\n",
    "                # Continuous predictions\n",
    "                pitch_predicted = softmax(gaze_pitch)\n",
    "                yaw_predicted = softmax(gaze_yaw)\n",
    "\n",
    "                # mapping from binned (0 to 28) to angels (-42 to 42)                \n",
    "                pitch_predicted = \\\n",
    "                    torch.sum(pitch_predicted * idx_tensor, 1).cpu() * 3 - 52\n",
    "                yaw_predicted = \\\n",
    "                    torch.sum(yaw_predicted * idx_tensor, 1).cpu() * 3 - 52\n",
    "\n",
    "                pitch_predicted = pitch_predicted*np.pi/180\n",
    "                yaw_predicted = yaw_predicted*np.pi/180\n",
    "\n",
    "                for p,y,pl,yl in zip(pitch_predicted, yaw_predicted, label_pitch, label_yaw):\n",
    "                    pl, yl = yl, pl*(-1.0)\n",
    "                    avg_error += angular(gazeto3d([p,y]), gazeto3d([pl,yl])) #accumulate over all batches\n",
    "                    \n",
    "        mean_mae = avg_error/total  \n",
    "        now = get_now()\n",
    "        msg = f\"[cfold{cfold}---dfold {dfold}] Total Num:{total}, MAE:{mean_mae}  {now}\"\n",
    "#         outfile.write(loger)\n",
    "        print(msg)\n",
    "        best_model_maes.append(mean_mae)  # a row of maes for each data fold\n",
    "        # log the mean error for the data fold for diagnostic purposes\n",
    "        frun.log({'data fold': dfold, f'dfold_{dfold}_avg_mae':mean_mae}, step=dfold)\n",
    "    bestmodel_mean = np.mean(best_model_maes)  # the mean mae for the model  \n",
    "    msg = f\"[cfold{cfold}--] MAE for this fold best model:{bestmodel_mean}  {now}\"\n",
    "    print(msg)\n",
    "    all_MAE.append(best_model_maes)  # append the whole row of data fold maes for each best fold model\n",
    "    # log for each best model\n",
    "    "
   ]
  },
  {
   "cell_type": "code",
   "execution_count": 14,
   "id": "065622ef",
   "metadata": {},
   "outputs": [],
   "source": [
    "all_MAE=np.array(all_MAE)"
   ]
  },
  {
   "cell_type": "code",
   "execution_count": 20,
   "id": "0872f6ce",
   "metadata": {},
   "outputs": [
    {
     "name": "stdout",
     "output_type": "stream",
     "text": [
      "(15, 15)\n",
      "data fold means, which data fold is bad or good:\n",
      " [ 4.82178507  6.60453739  5.96548023  7.5964815   5.77472009  6.20613436\n",
      " 10.68719752  7.36710944  7.51810001  8.27928648  9.53005225  7.74736983\n",
      "  8.38787665  8.62217065  6.17434751]\n",
      "model means, which model ot choose:\n",
      " [6.94195279 7.3928703  7.17049937 7.22860202 7.90596009 7.09214617\n",
      " 7.16774736 7.39219659 7.38213423 7.28541538 7.71051761 7.75384351\n",
      " 7.87508945 7.08242623 7.90124788]\n"
     ]
    }
   ],
   "source": [
    "print(all_MAE.shape)\n",
    "print(\"data fold means, which data fold is bad or good:\\n\",all_MAE.mean(axis=0))\n",
    "print(\"model means, which model ot choose:\\n\", all_MAE.mean(axis=1))\n",
    "# print(\"data fold min:\", all_MAE.min(axis=0))\n",
    "# print(\"model min:\", all_MAE.min(axis=1))\n",
    "# print(\"data fold max:\", all_MAE.max(axis=0))\n",
    "# print(\"model max:\", all_MAE.max(axis=1))"
   ]
  },
  {
   "cell_type": "code",
   "execution_count": null,
   "id": "752e7dd4",
   "metadata": {},
   "outputs": [],
   "source": []
  },
  {
   "cell_type": "code",
   "execution_count": 12,
   "id": "257cf58e",
   "metadata": {},
   "outputs": [],
   "source": [
    "save_file = Path(snapshot_path).parent/\"cfold_dfold_all_MAE.npy\"\n",
    "with open(save_file, 'wb') as f:\n",
    "    np.save(f, all_MAE)"
   ]
  }
 ],
 "metadata": {
  "kernelspec": {
   "display_name": "Python 3 (ipykernel)",
   "language": "python",
   "name": "python3"
  },
  "language_info": {
   "codemirror_mode": {
    "name": "ipython",
    "version": 3
   },
   "file_extension": ".py",
   "mimetype": "text/x-python",
   "name": "python",
   "nbconvert_exporter": "python",
   "pygments_lexer": "ipython3",
   "version": "3.8.10"
  }
 },
 "nbformat": 4,
 "nbformat_minor": 5
}
