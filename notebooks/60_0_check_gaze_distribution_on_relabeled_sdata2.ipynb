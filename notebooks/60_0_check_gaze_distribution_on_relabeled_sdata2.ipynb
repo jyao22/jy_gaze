{
 "cells": [
  {
   "cell_type": "code",
   "execution_count": 1,
   "id": "1708e58e",
   "metadata": {},
   "outputs": [],
   "source": [
    "import os\n",
    "import numpy as np\n",
    "import glob\n",
    "import matplotlib.pyplot as plt\n",
    "import wandb\n",
    "# import seaborn as sns"
   ]
  },
  {
   "cell_type": "code",
   "execution_count": 2,
   "id": "6bdd9708",
   "metadata": {},
   "outputs": [],
   "source": [
    "label_dir = \"../data/sdata2/Label\""
   ]
  },
  {
   "cell_type": "code",
   "execution_count": 3,
   "id": "55301fc1",
   "metadata": {},
   "outputs": [
    {
     "name": "stdout",
     "output_type": "stream",
     "text": [
      "['p02.label', 'p11.label', 'p06.label', 'p04.label', 'p13.label', 'p08.label', 'p00.label', 'p03.label', 'p12.label', 'p07.label', 'p05.label', 'p14.label', 'p09.label', 'p10.label', 'p01.label']\n"
     ]
    }
   ],
   "source": [
    "dirs = os.listdir(label_dir)\n",
    "print(dirs)"
   ]
  },
  {
   "cell_type": "code",
   "execution_count": 4,
   "id": "f047e5ea",
   "metadata": {},
   "outputs": [
    {
     "name": "stdout",
     "output_type": "stream",
     "text": [
      "['../data/sdata2/Label/p00.label', '../data/sdata2/Label/p01.label', '../data/sdata2/Label/p02.label', '../data/sdata2/Label/p03.label', '../data/sdata2/Label/p04.label', '../data/sdata2/Label/p05.label', '../data/sdata2/Label/p06.label', '../data/sdata2/Label/p07.label', '../data/sdata2/Label/p08.label', '../data/sdata2/Label/p09.label', '../data/sdata2/Label/p10.label', '../data/sdata2/Label/p11.label', '../data/sdata2/Label/p12.label', '../data/sdata2/Label/p13.label', '../data/sdata2/Label/p14.label']\n"
     ]
    }
   ],
   "source": [
    "label_files = glob.glob(label_dir+'/p*')\n",
    "label_files.sort()\n",
    "print(label_files)"
   ]
  },
  {
   "cell_type": "code",
   "execution_count": 5,
   "id": "e2a7544e",
   "metadata": {},
   "outputs": [],
   "source": [
    "pitches = []\n",
    "yaws = []\n",
    "for lfile in label_files:\n",
    "    with open(lfile) as f:\n",
    "        lines = list(f)\n",
    "        for line in lines[1:]:\n",
    "            line = line.strip().split(\" \")\n",
    "            gaze2d = line[7]\n",
    "            label = np.array(gaze2d.split(\",\")).astype(\"float\")\n",
    "#             label = torch.from_numpy(label).type(torch.FloatTensor)\n",
    "            pitch = label[0]* 180 / np.pi\n",
    "            yaw = label[1]* 180 / np.pi\n",
    "            pitches.append(pitch)\n",
    "            yaws.append(yaw)\n",
    "#             print(pitch, yaw)"
   ]
  },
  {
   "cell_type": "code",
   "execution_count": 6,
   "id": "968244bb",
   "metadata": {},
   "outputs": [],
   "source": [
    "pitches = np.array(pitches)\n",
    "yaws = np.array(yaws)"
   ]
  },
  {
   "cell_type": "code",
   "execution_count": 7,
   "id": "610b3f65",
   "metadata": {},
   "outputs": [
    {
     "name": "stderr",
     "output_type": "stream",
     "text": [
      "\u001b[34m\u001b[1mwandb\u001b[0m: Currently logged in as: \u001b[33msynthesis-ai\u001b[0m (use `wandb login --relogin` to force relogin)\n"
     ]
    },
    {
     "data": {
      "text/html": [
       "wandb version 0.12.21 is available!  To upgrade, please run:\n",
       " $ pip install wandb --upgrade"
      ],
      "text/plain": [
       "<IPython.core.display.HTML object>"
      ]
     },
     "metadata": {},
     "output_type": "display_data"
    },
    {
     "data": {
      "text/html": [
       "Tracking run with wandb version 0.12.15"
      ],
      "text/plain": [
       "<IPython.core.display.HTML object>"
      ]
     },
     "metadata": {},
     "output_type": "display_data"
    },
    {
     "data": {
      "text/html": [
       "Run data is saved locally in <code>/project/notebooks/wandb/run-20220714_144745-1zkghsq5</code>"
      ],
      "text/plain": [
       "<IPython.core.display.HTML object>"
      ]
     },
     "metadata": {},
     "output_type": "display_data"
    },
    {
     "data": {
      "text/html": [
       "Syncing run <strong><a href=\"https://wandb.ai/synthesis-ai/angle_distribution_sdata2/runs/1zkghsq5\" target=\"_blank\">grateful-surf-3</a></strong> to <a href=\"https://wandb.ai/synthesis-ai/angle_distribution_sdata2\" target=\"_blank\">Weights & Biases</a> (<a href=\"https://wandb.me/run\" target=\"_blank\">docs</a>)<br/>"
      ],
      "text/plain": [
       "<IPython.core.display.HTML object>"
      ]
     },
     "metadata": {},
     "output_type": "display_data"
    },
    {
     "data": {
      "text/html": [
       "<button onClick=\"this.nextSibling.style.display='block';this.style.display='none';\">Display W&B run</button><iframe src=\"https://wandb.ai/synthesis-ai/angle_distribution_sdata2/runs/1zkghsq5?jupyter=true\" style=\"border:none;width:100%;height:420px;display:none;\"></iframe>"
      ],
      "text/plain": [
       "<wandb.sdk.wandb_run.Run at 0x7fbd6b65e490>"
      ]
     },
     "execution_count": 7,
     "metadata": {},
     "output_type": "execute_result"
    }
   ],
   "source": [
    "wandb.init(project=\"angle_distribution_sdata2\")"
   ]
  },
  {
   "cell_type": "code",
   "execution_count": 8,
   "id": "adff517b",
   "metadata": {},
   "outputs": [
    {
     "data": {
      "text/html": [
       "Finishing last run (ID:1zkghsq5) before initializing another..."
      ],
      "text/plain": [
       "<IPython.core.display.HTML object>"
      ]
     },
     "metadata": {},
     "output_type": "display_data"
    },
    {
     "data": {
      "text/html": [
       "Waiting for W&B process to finish... <strong style=\"color:green\">(success).</strong>"
      ],
      "text/plain": [
       "<IPython.core.display.HTML object>"
      ]
     },
     "metadata": {},
     "output_type": "display_data"
    },
    {
     "data": {
      "application/vnd.jupyter.widget-view+json": {
       "model_id": "",
       "version_major": 2,
       "version_minor": 0
      },
      "text/plain": [
       "VBox(children=(Label(value='0.001 MB of 0.001 MB uploaded (0.000 MB deduped)\\r'), FloatProgress(value=1.0, max…"
      ]
     },
     "metadata": {},
     "output_type": "display_data"
    },
    {
     "data": {
      "text/html": [
       "Synced <strong style=\"color:#cdcd00\">grateful-surf-3</strong>: <a href=\"https://wandb.ai/synthesis-ai/angle_distribution_sdata2/runs/1zkghsq5\" target=\"_blank\">https://wandb.ai/synthesis-ai/angle_distribution_sdata2/runs/1zkghsq5</a><br/>Synced 4 W&B file(s), 0 media file(s), 0 artifact file(s) and 0 other file(s)"
      ],
      "text/plain": [
       "<IPython.core.display.HTML object>"
      ]
     },
     "metadata": {},
     "output_type": "display_data"
    },
    {
     "data": {
      "text/html": [
       "Find logs at: <code>./wandb/run-20220714_144745-1zkghsq5/logs</code>"
      ],
      "text/plain": [
       "<IPython.core.display.HTML object>"
      ]
     },
     "metadata": {},
     "output_type": "display_data"
    },
    {
     "data": {
      "text/html": [
       "Successfully finished last run (ID:1zkghsq5). Initializing new run:<br/>"
      ],
      "text/plain": [
       "<IPython.core.display.HTML object>"
      ]
     },
     "metadata": {},
     "output_type": "display_data"
    },
    {
     "data": {
      "text/html": [
       "wandb version 0.12.21 is available!  To upgrade, please run:\n",
       " $ pip install wandb --upgrade"
      ],
      "text/plain": [
       "<IPython.core.display.HTML object>"
      ]
     },
     "metadata": {},
     "output_type": "display_data"
    },
    {
     "data": {
      "text/html": [
       "Tracking run with wandb version 0.12.15"
      ],
      "text/plain": [
       "<IPython.core.display.HTML object>"
      ]
     },
     "metadata": {},
     "output_type": "display_data"
    },
    {
     "data": {
      "text/html": [
       "Run data is saved locally in <code>/project/notebooks/wandb/run-20220714_144748-1o2byz1y</code>"
      ],
      "text/plain": [
       "<IPython.core.display.HTML object>"
      ]
     },
     "metadata": {},
     "output_type": "display_data"
    },
    {
     "data": {
      "text/html": [
       "Syncing run <strong><a href=\"https://wandb.ai/synthesis-ai/angle_distribution_sdata2/runs/1o2byz1y\" target=\"_blank\">jumping-jazz-4</a></strong> to <a href=\"https://wandb.ai/synthesis-ai/angle_distribution_sdata2\" target=\"_blank\">Weights & Biases</a> (<a href=\"https://wandb.me/run\" target=\"_blank\">docs</a>)<br/>"
      ],
      "text/plain": [
       "<IPython.core.display.HTML object>"
      ]
     },
     "metadata": {},
     "output_type": "display_data"
    },
    {
     "data": {
      "text/html": [
       "Waiting for W&B process to finish... <strong style=\"color:green\">(success).</strong>"
      ],
      "text/plain": [
       "<IPython.core.display.HTML object>"
      ]
     },
     "metadata": {},
     "output_type": "display_data"
    },
    {
     "data": {
      "application/vnd.jupyter.widget-view+json": {
       "model_id": "",
       "version_major": 2,
       "version_minor": 0
      },
      "text/plain": [
       "VBox(children=(Label(value='0.015 MB of 0.015 MB uploaded (0.000 MB deduped)\\r'), FloatProgress(value=1.0, max…"
      ]
     },
     "metadata": {},
     "output_type": "display_data"
    },
    {
     "data": {
      "text/html": [
       "Synced <strong style=\"color:#cdcd00\">jumping-jazz-4</strong>: <a href=\"https://wandb.ai/synthesis-ai/angle_distribution_sdata2/runs/1o2byz1y\" target=\"_blank\">https://wandb.ai/synthesis-ai/angle_distribution_sdata2/runs/1o2byz1y</a><br/>Synced 4 W&B file(s), 2 media file(s), 0 artifact file(s) and 0 other file(s)"
      ],
      "text/plain": [
       "<IPython.core.display.HTML object>"
      ]
     },
     "metadata": {},
     "output_type": "display_data"
    },
    {
     "data": {
      "text/html": [
       "Find logs at: <code>./wandb/run-20220714_144748-1o2byz1y/logs</code>"
      ],
      "text/plain": [
       "<IPython.core.display.HTML object>"
      ]
     },
     "metadata": {},
     "output_type": "display_data"
    },
    {
     "data": {
      "image/png": "[encoded data removed]",
      "text/plain": [
       "<Figure size 432x288 with 1 Axes>"
      ]
     },
     "metadata": {
      "needs_background": "light"
     },
     "output_type": "display_data"
    }
   ],
   "source": [
    "with wandb.init(project=\"angle_distribution_sdata2\") as run:\n",
    "    num_bins=50\n",
    "    n, bins, patches = plt.hist(pitches, num_bins, \n",
    "                                density = 1, \n",
    "                                color ='green',\n",
    "                                alpha = 0.7)\n",
    "    plt.title('distribution of pitches')\n",
    "    plt.xlabel('degree')\n",
    "    run.log({\"data\":wandb.Image(plt)})\n",
    "\n",
    "    # num_bins=50\n",
    "    n, bins, patches = plt.hist(yaws, num_bins, \n",
    "                                density = 1, \n",
    "                                color ='green',\n",
    "                                alpha = 0.7)\n",
    "    plt.title('distribution of yaws')\n",
    "    plt.xlabel('degree')\n",
    "    \n",
    "    run.log({\"data\":wandb.Image(plt)})"
   ]
  },
  {
   "cell_type": "code",
   "execution_count": 9,
   "id": "37052bf7",
   "metadata": {},
   "outputs": [
    {
     "data": {
      "text/plain": [
       "Text(0.5, 0, 'degree')"
      ]
     },
     "execution_count": 9,
     "metadata": {},
     "output_type": "execute_result"
    },
    {
     "data": {
      "image/png": "[encoded data removed]",
      "text/plain": [
       "<Figure size 432x288 with 1 Axes>"
      ]
     },
     "metadata": {
      "needs_background": "light"
     },
     "output_type": "display_data"
    }
   ],
   "source": [
    "num_bins=50\n",
    "n, bins, patches = plt.hist(pitches, num_bins, \n",
    "                            density = 1, \n",
    "                            color ='green',\n",
    "                            alpha = 0.7)\n",
    "plt.title('distribution of pitches')\n",
    "plt.xlabel('degree')"
   ]
  },
  {
   "cell_type": "code",
   "execution_count": 10,
   "id": "79207c95",
   "metadata": {},
   "outputs": [
    {
     "data": {
      "text/plain": [
       "Text(0.5, 0, 'degree')"
      ]
     },
     "execution_count": 10,
     "metadata": {},
     "output_type": "execute_result"
    },
    {
     "data": {
      "image/png": "[encoded data removed]",
      "text/plain": [
       "<Figure size 432x288 with 1 Axes>"
      ]
     },
     "metadata": {
      "needs_background": "light"
     },
     "output_type": "display_data"
    }
   ],
   "source": [
    "num_bins=50\n",
    "n, bins, patches = plt.hist(yaws, num_bins, \n",
    "                            density = 1, \n",
    "                            color ='green',\n",
    "                            alpha = 0.7)\n",
    "plt.title('distribution of yaws')\n",
    "plt.xlabel('degree')"
   ]
  },
  {
   "cell_type": "code",
   "execution_count": null,
   "id": "7e2564ab",
   "metadata": {},
   "outputs": [],
   "source": []
  },
  {
   "cell_type": "code",
   "execution_count": null,
   "id": "7fd89b83",
   "metadata": {},
   "outputs": [],
   "source": []
  }
 ],
 "metadata": {
  "kernelspec": {
   "display_name": "Python 3 (ipykernel)",
   "language": "python",
   "name": "python3"
  },
  "language_info": {
   "codemirror_mode": {
    "name": "ipython",
    "version": 3
   },
   "file_extension": ".py",
   "mimetype": "text/x-python",
   "name": "python",
   "nbconvert_exporter": "python",
   "pygments_lexer": "ipython3",
   "version": "3.8.10"
  }
 },
 "nbformat": 4,
 "nbformat_minor": 5
}
