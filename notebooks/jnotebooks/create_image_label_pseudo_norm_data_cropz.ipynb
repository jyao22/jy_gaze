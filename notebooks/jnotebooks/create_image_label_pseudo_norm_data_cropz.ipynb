{
 "cells": [
  {
   "cell_type": "code",
   "execution_count": 1,
   "id": "48551017",
   "metadata": {},
   "outputs": [],
   "source": [
    "# crop the faces so that the face size iis bigger (interpupil distance from ) close to real data"
   ]
  },
  {
   "cell_type": "code",
   "execution_count": 2,
   "id": "2345b02f",
   "metadata": {},
   "outputs": [],
   "source": [
    "# used to process the downloaded synthesized iamge and json files\n",
    "# to create face images and label files as input to L2CS model training\n",
    "# cdata/Image and cdata/Label are created and populated\n",
    "# takes about 100 min"
   ]
  },
  {
   "cell_type": "code",
   "execution_count": 3,
   "id": "821a65b4",
   "metadata": {},
   "outputs": [],
   "source": [
    "import os\n",
    "import sys\n",
    "import numpy as np\n",
    "from PIL import Image\n",
    "from pytz import timezone\n",
    "import arrow"
   ]
  },
  {
   "cell_type": "code",
   "execution_count": 4,
   "id": "3fec0d45",
   "metadata": {},
   "outputs": [
    {
     "name": "stdout",
     "output_type": "stream",
     "text": [
      "2022-06-21T17:55:12.423218-07:00\n"
     ]
    }
   ],
   "source": [
    "now=arrow.utcnow().to('US/Pacific')\n",
    "print(now)"
   ]
  },
  {
   "cell_type": "code",
   "execution_count": 5,
   "id": "6f248256",
   "metadata": {},
   "outputs": [
    {
     "name": "stdout",
     "output_type": "stream",
     "text": [
      "/Users/jyao/JIAN/work/SAI/projects/2022/Synthesize_gaze_data/seventy5k\r\n"
     ]
    }
   ],
   "source": [
    "!pwd"
   ]
  },
  {
   "cell_type": "code",
   "execution_count": 6,
   "id": "7ffc23a3",
   "metadata": {},
   "outputs": [],
   "source": [
    "sys.path.append('/Users/jyao/JIAN/work/SAI/projects/modules')\n",
    "from utils import SynJSON as SJ"
   ]
  },
  {
   "cell_type": "code",
   "execution_count": 7,
   "id": "155cc0d6",
   "metadata": {},
   "outputs": [],
   "source": [
    "#source data path\n",
    "sdatapath = '/Users/jyao/JIAN/work/SAI/projects/2022/Synthesize_gaze_data/seventy5k/download/'\n",
    "# destination data path\n",
    "ddatapath = '/Users/jyao/JIAN/work/SAI/projects/2022/Synthesize_gaze_data/seventy5k/adata/'\n",
    "labelpath = os.path.join(ddatapath, 'Label')\n",
    "imagepath = os.path.join(ddatapath, 'Image')\n",
    "leftpath = os.path.join(imagepath, 'left')\n",
    "rightpath = os.path.join(imagepath, 'right')\n",
    "imagepath = os.path.join(imagepath, 'face')\n",
    "os.makedirs(labelpath, exist_ok=True)\n",
    "os.makedirs(imagepath, exist_ok=True)\n",
    "os.makedirs(leftpath, exist_ok=True)\n",
    "os.makedirs(rightpath, exist_ok=True)\n",
    "label_title = 'Face Left Right Origin WhichEye 3DGaze 3DHead 2DGaze 2DHead Rmat Smat GazeOrigin'"
   ]
  },
  {
   "cell_type": "code",
   "execution_count": 8,
   "id": "898d45c2",
   "metadata": {},
   "outputs": [
    {
     "name": "stdout",
     "output_type": "stream",
     "text": [
      "fold 0, n_jfiles=3000\n",
      "2022-06-21T17:55:17.331076-07:00\n",
      "100 200 300 400 500 600 700 800 900 1000 1100 1200 1300 1400 1500 1600 1700 1800 1900 2000 2100 2200 2300 2400 2500 2600 2700 2800 2900 3000 fold 1, n_jfiles=3000\n",
      "2022-06-21T18:00:10.728974-07:00\n",
      "100 200 300 400 500 600 700 800 900 1000 1100 1200 1300 1400 1500 1600 1700 1800 1900 2000 2100 2200 2300 2400 2500 2600 2700 2800 2900 3000 fold 2, n_jfiles=3000\n",
      "2022-06-21T18:04:53.289704-07:00\n",
      "100 200 300 400 500 600 700 800 900 1000 1100 1200 1300 1400 1500 1600 1700 1800 1900 2000 2100 2200 2300 2400 2500 2600 2700 2800 2900 3000 fold 3, n_jfiles=3000\n",
      "2022-06-21T18:09:09.301930-07:00\n",
      "100 200 300 400 500 600 700 800 900 1000 1100 1200 1300 1400 1500 1600 1700 1800 1900 2000 2100 2200 2300 2400 2500 2600 2700 2800 2900 3000 fold 4, n_jfiles=3000\n",
      "2022-06-21T18:14:56.490977-07:00\n",
      "100 200 300 400 500 600 700 800 900 1000 1100 1200 1300 1400 1500 1600 1700 1800 1900 2000 2100 2200 2300 2400 2500 2600 2700 2800 2900 3000 fold 5, n_jfiles=3000\n",
      "2022-06-21T18:18:58.131958-07:00\n",
      "100 200 300 400 500 600 700 800 900 1000 1100 1200 1300 1400 1500 1600 1700 1800 1900 2000 2100 2200 2300 2400 2500 2600 2700 2800 2900 3000 fold 6, n_jfiles=3000\n",
      "2022-06-21T18:22:32.004656-07:00\n",
      "100 200 300 400 500 600 700 800 900 1000 1100 1200 1300 1400 1500 1600 1700 1800 1900 2000 2100 2200 2300 2400 2500 2600 2700 2800 2900 3000 fold 7, n_jfiles=3000\n",
      "2022-06-21T18:26:20.991597-07:00\n",
      "100 200 300 400 500 600 700 800 900 1000 1100 1200 1300 1400 1500 1600 1700 1800 1900 2000 2100 2200 2300 2400 2500 2600 2700 2800 2900 3000 fold 8, n_jfiles=3000\n",
      "2022-06-21T18:30:51.938520-07:00\n",
      "100 200 300 400 500 600 700 800 900 1000 1100 1200 1300 1400 1500 1600 1700 1800 1900 2000 2100 2200 2300 2400 2500 2600 2700 2800 2900 3000 fold 9, n_jfiles=3000\n",
      "2022-06-21T18:36:02.241133-07:00\n",
      "100 200 300 400 500 600 700 800 900 1000 1100 1200 1300 1400 1500 1600 1700 1800 1900 2000 2100 2200 2300 2400 2500 2600 2700 2800 2900 3000 fold 10, n_jfiles=3000\n",
      "2022-06-21T18:53:21.649442-07:00\n",
      "100 200 300 400 500 600 700 800 900 1000 1100 1200 1300 1400 1500 1600 1700 1800 1900 2000 2100 2200 2300 2400 2500 2600 2700 2800 2900 3000 fold 11, n_jfiles=3000\n",
      "2022-06-21T18:57:51.928352-07:00\n",
      "100 200 300 400 500 600 700 800 900 1000 1100 1200 1300 1400 1500 1600 1700 1800 1900 2000 2100 2200 2300 2400 2500 2600 2700 2800 2900 3000 fold 12, n_jfiles=3000\n",
      "2022-06-21T19:02:45.196696-07:00\n",
      "100 200 300 400 500 600 700 800 900 1000 1100 1200 1300 1400 1500 1600 1700 1800 1900 2000 2100 2200 2300 2400 2500 2600 2700 2800 2900 3000 fold 13, n_jfiles=3000\n",
      "2022-06-21T19:13:33.219929-07:00\n",
      "100 200 300 400 500 600 700 800 900 1000 1100 1200 1300 1400 1500 1600 1700 1800 1900 2000 2100 2200 2300 2400 2500 2600 2700 2800 2900 3000 fold 14, n_jfiles=3000\n",
      "2022-06-21T19:17:37.957966-07:00\n",
      "100 200 300 400 500 600 700 800 900 1000 1100 1200 1300 1400 1500 1600 1700 1800 1900 2000 2100 2200 2300 2400 2500 2600 2700 2800 2900 3000 CPU times: user 8min, sys: 4min, total: 12min\n",
      "Wall time: 1h 26min 37s\n"
     ]
    }
   ],
   "source": [
    "%%time\n",
    "final_size = 224\n",
    "ratio = 0.90\n",
    "half_size = int(final_size*0.5*ratio)\n",
    "\n",
    "for fold in range(15):\n",
    "    foldstr = f'fold{fold:0>2}'\n",
    "    label_file = f'p{fold:0>2}.label'\n",
    "    label_file = os.path.join(labelpath, label_file)\n",
    "    lf = open(label_file, \"w\")\n",
    "#     print(label_file)\n",
    "    \n",
    "    sfoldpath = os.path.join(sdatapath, foldstr)\n",
    "    dfoldpath = os.path.join(imagepath, foldstr)\n",
    "    os.makedirs(dfoldpath, exist_ok=True)\n",
    "#     print(dfoldpath)\n",
    "\n",
    "    jfiles = os.listdir(sfoldpath)\n",
    "    jfiles = [f for f in jfiles if f.endswith('json')]\n",
    "    jfiles.sort()\n",
    "    print(f\"fold {fold}, n_jfiles={len(jfiles)}\")\n",
    "    now=arrow.utcnow().to('US/Pacific')\n",
    "    print(now)\n",
    "    \n",
    "    \n",
    "    \n",
    "    lf = open(label_file, \"w\")\n",
    "#     print(label_title, file=lf)\n",
    "    \n",
    "    for i, jfile in enumerate(jfiles):\n",
    "        if (i+1)%100==0:\n",
    "            print(f'{i+1}', end=' ')\n",
    "        imfile = jfile.replace('info.json', 'rgb.png')\n",
    "#         print(jfile, imfile)\n",
    "    #     jfile = '3.cam_visible_camera.f_1.info.json'\n",
    "        jfile = os.path.join(sfoldpath,jfile)\n",
    "    #     imfile ='3.cam_visible_camera.f_1.rgb.png'\n",
    "        imfile = os.path.join(sfoldpath, imfile)\n",
    "        \n",
    "        #crop image and save image\n",
    "        sj = SJ(jfile)\n",
    "        face_center = sj.face_center()\n",
    "        im = Image.open(imfile)\n",
    "#         display(im)\n",
    "        assert im.size[0] == im.size[1]\n",
    "        center = face_center*im.size[0]\n",
    "        center = center.astype(int)\n",
    "        crop_position = np.concatenate([center-half_size, center+half_size])\n",
    "        m1 = im.crop(crop_position)\n",
    "        m1 = m1.resize((final_size, final_size))\n",
    "                \n",
    "        \n",
    "        dimfile = os.path.join(dfoldpath, str(i+1)+'.jpeg')\n",
    "        m1.save(dimfile)\n",
    "       \n",
    "        #write label:\n",
    "        face = '/'.join(dimfile.split('/')[-3:])\n",
    "        left = 'NA'\n",
    "        right = 'NA'\n",
    "        origin = '/'.join(imfile.split('/')[-2:])\n",
    "        pitch, yaw = sj.pitch_yaw()\n",
    "#         print(pitchyaw)\n",
    "        whicheye = 'NA'\n",
    "        d3gaze = '0.0,0.0,0.0'\n",
    "        d3head = '0.0,0.0,0.0'\n",
    "        d2gaze = f'{pitch},{yaw}'\n",
    "        d2head = '0.0,0.0'\n",
    "        rmat=smat = '1.0,1.0,1.0'\n",
    "        gazeorigin = '0.0,0.0,0.0'\n",
    "        print(' '.join([face, left, right, origin, whicheye, d3gaze,\\\n",
    "                        d3head, d2gaze, d2head, rmat, smat, gazeorigin]), file=lf)\n",
    "\n",
    "    lf.close()"
   ]
  },
  {
   "cell_type": "code",
   "execution_count": 9,
   "id": "05f484d6",
   "metadata": {},
   "outputs": [
    {
     "name": "stdout",
     "output_type": "stream",
     "text": [
      "/Users/jyao/JIAN/work/SAI/projects/2022/Synthesize_gaze_data/seventy5k\r\n"
     ]
    }
   ],
   "source": [
    "!pwd"
   ]
  },
  {
   "cell_type": "code",
   "execution_count": 10,
   "id": "59ec3a2f",
   "metadata": {},
   "outputs": [
    {
     "ename": "SystemExit",
     "evalue": "",
     "output_type": "error",
     "traceback": [
      "An exception has occurred, use %tb to see the full traceback.\n",
      "\u001b[0;31mSystemExit\u001b[0m\n"
     ]
    },
    {
     "name": "stderr",
     "output_type": "stream",
     "text": [
      "/Users/jyao/opt/anaconda3/lib/python3.9/site-packages/IPython/core/interactiveshell.py:3405: UserWarning: To exit: use 'exit', 'quit', or Ctrl-D.\n",
      "  warn(\"To exit: use 'exit', 'quit', or Ctrl-D.\", stacklevel=1)\n"
     ]
    }
   ],
   "source": [
    "sys.exit()"
   ]
  }
 ],
 "metadata": {
  "kernelspec": {
   "display_name": "Python 3 (ipykernel)",
   "language": "python",
   "name": "python3"
  },
  "language_info": {
   "codemirror_mode": {
    "name": "ipython",
    "version": 3
   },
   "file_extension": ".py",
   "mimetype": "text/x-python",
   "name": "python",
   "nbconvert_exporter": "python",
   "pygments_lexer": "ipython3",
   "version": "3.9.7"
  }
 },
 "nbformat": 4,
 "nbformat_minor": 5
}
