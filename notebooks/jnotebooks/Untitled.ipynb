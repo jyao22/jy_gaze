{
 "cells": [
  {
   "cell_type": "code",
   "execution_count": 15,
   "id": "51558491",
   "metadata": {},
   "outputs": [],
   "source": [
    "import numpy as np"
   ]
  },
  {
   "cell_type": "code",
   "execution_count": 16,
   "id": "713f802b",
   "metadata": {},
   "outputs": [],
   "source": [
    "dd = np.random.rand(10,2)"
   ]
  },
  {
   "cell_type": "code",
   "execution_count": 17,
   "id": "2b8c544e",
   "metadata": {},
   "outputs": [
    {
     "data": {
      "text/plain": [
       "array([[ 41.86633578,  -7.84388338],\n",
       "       [ 11.52917842,  39.08454746],\n",
       "       [ 38.63294186, -21.35354688],\n",
       "       [-11.83025726,  46.66125776],\n",
       "       [  8.05135952,  33.33086761],\n",
       "       [ 49.55531909, -18.93474416],\n",
       "       [  0.16663048, -32.29806378],\n",
       "       [ 40.44986323, -14.1792089 ],\n",
       "       [ 27.34169649, -19.4122262 ],\n",
       "       [  7.61100774,  11.04182589]])"
      ]
     },
     "execution_count": 17,
     "metadata": {},
     "output_type": "execute_result"
    }
   ],
   "source": [
    "dd = (dd-0.5)\n",
    "dd = dd*2*50\n",
    "dd"
   ]
  },
  {
   "cell_type": "code",
   "execution_count": 25,
   "id": "3927f158",
   "metadata": {},
   "outputs": [],
   "source": [
    "mask =[]\n",
    "for yaw, pitch in dd:\n",
    "    true1 = abs(yaw-40)<2 or abs(yaw-10)<2\n",
    "    true2 = abs(pitch-40)<2 or abs(pitch+20)<2\n",
    "    if true1 and true2:\n",
    "        mask.append(True)\n",
    "    else:\n",
    "        mask.append(False)\n",
    "dd = dd[mask]"
   ]
  },
  {
   "cell_type": "code",
   "execution_count": 26,
   "id": "90a0b440",
   "metadata": {},
   "outputs": [
    {
     "data": {
      "text/plain": [
       "array([[ 11.52917842,  39.08454746],\n",
       "       [ 38.63294186, -21.35354688]])"
      ]
     },
     "execution_count": 26,
     "metadata": {},
     "output_type": "execute_result"
    }
   ],
   "source": [
    "dd"
   ]
  }
 ],
 "metadata": {
  "kernelspec": {
   "display_name": "Python 3 (ipykernel)",
   "language": "python",
   "name": "python3"
  },
  "language_info": {
   "codemirror_mode": {
    "name": "ipython",
    "version": 3
   },
   "file_extension": ".py",
   "mimetype": "text/x-python",
   "name": "python",
   "nbconvert_exporter": "python",
   "pygments_lexer": "ipython3",
   "version": "3.8.10"
  }
 },
 "nbformat": 4,
 "nbformat_minor": 5
}
