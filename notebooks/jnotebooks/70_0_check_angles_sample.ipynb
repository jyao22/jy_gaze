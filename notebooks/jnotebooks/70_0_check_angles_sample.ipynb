{
 "cells": [
  {
   "cell_type": "code",
   "execution_count": 1,
   "id": "4031db92",
   "metadata": {},
   "outputs": [],
   "source": [
    "import sys\n",
    "import numpy as np\n",
    "from math import atan2, asin\n",
    "from pathlib import Path\n",
    "from PIL import Image\n",
    "from PIL import ImageFont\n",
    "from PIL import ImageDraw \n",
    "import matplotlib.pyplot as plt\n",
    "import wandb"
   ]
  },
  {
   "cell_type": "code",
   "execution_count": 2,
   "id": "818ac199",
   "metadata": {},
   "outputs": [
    {
     "name": "stdout",
     "output_type": "stream",
     "text": [
      "ls: cannot access '/Users/jyao/JIAN/work/SAI/projects/2022/jy_gaze/modules/jcode': No such file or directory\r\n"
     ]
    }
   ],
   "source": [
    "!ls /Users/jyao/JIAN/work/SAI/projects/2022/jy_gaze/modules/jcode"
   ]
  },
  {
   "cell_type": "code",
   "execution_count": 3,
   "id": "2445130c",
   "metadata": {},
   "outputs": [],
   "source": [
    "sys.path.append('/project/modules/jmodules')\n",
    "from jutils import SynJSON as SJ"
   ]
  },
  {
   "cell_type": "code",
   "execution_count": 4,
   "id": "9a5e9fd5",
   "metadata": {},
   "outputs": [],
   "source": [
    "dpath = Path('/project/data/tmp')"
   ]
  },
  {
   "cell_type": "code",
   "execution_count": null,
   "id": "8c39517a",
   "metadata": {},
   "outputs": [],
   "source": []
  },
  {
   "cell_type": "code",
   "execution_count": 5,
   "id": "8d960916",
   "metadata": {},
   "outputs": [
    {
     "name": "stdout",
     "output_type": "stream",
     "text": [
      "fold=/project/data/tmp/fold03\n",
      "fold=/project/data/tmp/fold01\n",
      "fold=/project/data/tmp/fold02\n"
     ]
    }
   ],
   "source": [
    "pitches = []\n",
    "yaws = []\n",
    "pitchesl =[]\n",
    "yawsl=[]\n",
    "pitchesr =[]\n",
    "yawsr = []\n",
    "iffy_pitches = 0\n",
    "iffy_yaws = 0\n",
    "for fold in dpath.glob('fold*'):\n",
    "    print(f'fold={fold}')\n",
    "    dpath = dpath/fold\n",
    "    for jfile in dpath.glob('*.json'):\n",
    "#         print(jfile)\n",
    "        sj = SJ(jfile)\n",
    "        pitch, yaw = sj.pitchyaw2d(radian=False, average=True)\n",
    "        [pitchl, yawl], [pitchr, yawr] = sj.pitchyaw2d(radian=False, average=False)\n",
    "        pitches.append(pitch)\n",
    "        yaws.append(yaw)\n",
    "        pitchesl.append(pitchl)\n",
    "        pitchesr.append(pitchr)\n",
    "        yawsl.append(yawl)\n",
    "        yawsr.append(yawr)\n",
    "        if abs(yawl-yawr)>3.0:\n",
    "            iffy_yaws += 1\n",
    "#             print(yawl, yawr)\n",
    "        if abs(pitchl - pitchr)>3.0:\n",
    "            iffy_pitches += 1"
   ]
  },
  {
   "cell_type": "code",
   "execution_count": 6,
   "id": "0845acc0",
   "metadata": {},
   "outputs": [
    {
     "name": "stdout",
     "output_type": "stream",
     "text": [
      "64435 17\n",
      "64435 64435\n"
     ]
    }
   ],
   "source": [
    "# print(len(pitches), iffy_pitches)\n",
    "# print(len(yaws), iffy_yaws)"
   ]
  },
  {
   "cell_type": "code",
   "execution_count": null,
   "id": "d10a6fd5",
   "metadata": {},
   "outputs": [],
   "source": []
  },
  {
   "cell_type": "code",
   "execution_count": 7,
   "id": "99b30c0b",
   "metadata": {},
   "outputs": [
    {
     "data": {
      "text/plain": [
       "(-23.0, 7.0)"
      ]
     },
     "execution_count": 7,
     "metadata": {},
     "output_type": "execute_result"
    },
    {
     "data": {
      "image/png": "[encoded data removed]",
      "text/plain": [
       "<Figure size 432x288 with 1 Axes>"
      ]
     },
     "metadata": {
      "needs_background": "light"
     },
     "output_type": "display_data"
    }
   ],
   "source": [
    "num_bins=50\n",
    "n, bins, patches = plt.hist(pitches, num_bins, \n",
    "                            density = 1, \n",
    "                            color ='green',\n",
    "                            alpha = 0.7)\n",
    "plt.title('distribution of pitches')\n",
    "plt.xlabel('degree')\n",
    "plt.xlim(-23, 7)\n",
    "\n",
    "with wandb.init(project=\"sample_sdata3_angle_analysis\", name='sample_pitches') as run:\n",
    "    run.log({\"data\":wandb.Image(plt)})"
   ]
  },
  {
   "cell_type": "code",
   "execution_count": 8,
   "id": "179e9a6a",
   "metadata": {},
   "outputs": [
    {
     "data": {
      "text/plain": [
       "(-25.0, 25.0)"
      ]
     },
     "execution_count": 8,
     "metadata": {},
     "output_type": "execute_result"
    },
    {
     "data": {
      "image/png": "[encoded data removed]",
      "text/plain": [
       "<Figure size 432x288 with 1 Axes>"
      ]
     },
     "metadata": {
      "needs_background": "light"
     },
     "output_type": "display_data"
    }
   ],
   "source": [
    "num_bins=50\n",
    "n, bins, patches = plt.hist(yaws, num_bins, \n",
    "                            density = 1, \n",
    "                            color ='magenta',\n",
    "                            alpha = 0.7)\n",
    "plt.title('distribution of yaws')\n",
    "plt.xlabel('degree')\n",
    "plt.xlim(-25, 25)\n",
    "\n",
    "with wandb.init(project=\"sample_sdata3_angle_analysis\", name='sample_yaws') as run:\n",
    "    run.log({\"data\":wandb.Image(plt)})"
   ]
  },
  {
   "cell_type": "code",
   "execution_count": 9,
   "id": "eadb91be",
   "metadata": {
    "scrolled": true
   },
   "outputs": [
    {
     "name": "stderr",
     "output_type": "stream",
     "text": [
      "\u001b[34m\u001b[1mwandb\u001b[0m: Currently logged in as: \u001b[33msynthesis-ai\u001b[0m (use `wandb login --relogin` to force relogin)\n"
     ]
    },
    {
     "data": {
      "text/html": [
       "wandb version 0.12.21 is available!  To upgrade, please run:\n",
       " $ pip install wandb --upgrade"
      ],
      "text/plain": [
       "<IPython.core.display.HTML object>"
      ]
     },
     "metadata": {},
     "output_type": "display_data"
    },
    {
     "data": {
      "text/html": [
       "Tracking run with wandb version 0.12.15"
      ],
      "text/plain": [
       "<IPython.core.display.HTML object>"
      ]
     },
     "metadata": {},
     "output_type": "display_data"
    },
    {
     "data": {
      "text/html": [
       "Run data is saved locally in <code>/project/notebooks/jnotebooks/wandb/run-20220720_175312-6wrf7lj1</code>"
      ],
      "text/plain": [
       "<IPython.core.display.HTML object>"
      ]
     },
     "metadata": {},
     "output_type": "display_data"
    },
    {
     "data": {
      "text/html": [
       "Syncing run <strong><a href=\"https://wandb.ai/synthesis-ai/sample_sdata3_angle_analysis/runs/6wrf7lj1\" target=\"_blank\">sample_pitches_corr</a></strong> to <a href=\"https://wandb.ai/synthesis-ai/sample_sdata3_angle_analysis\" target=\"_blank\">Weights & Biases</a> (<a href=\"https://wandb.me/run\" target=\"_blank\">docs</a>)<br/>"
      ],
      "text/plain": [
       "<IPython.core.display.HTML object>"
      ]
     },
     "metadata": {},
     "output_type": "display_data"
    },
    {
     "data": {
      "text/html": [
       "Waiting for W&B process to finish... <strong style=\"color:green\">(success).</strong>"
      ],
      "text/plain": [
       "<IPython.core.display.HTML object>"
      ]
     },
     "metadata": {},
     "output_type": "display_data"
    },
    {
     "data": {
      "application/vnd.jupyter.widget-view+json": {
       "model_id": "",
       "version_major": 2,
       "version_minor": 0
      },
      "text/plain": [
       "VBox(children=(Label(value='0.012 MB of 0.012 MB uploaded (0.000 MB deduped)\\r'), FloatProgress(value=1.0, max…"
      ]
     },
     "metadata": {},
     "output_type": "display_data"
    },
    {
     "data": {
      "text/html": [
       "Synced <strong style=\"color:#cdcd00\">sample_pitches_corr</strong>: <a href=\"https://wandb.ai/synthesis-ai/sample_sdata3_angle_analysis/runs/6wrf7lj1\" target=\"_blank\">https://wandb.ai/synthesis-ai/sample_sdata3_angle_analysis/runs/6wrf7lj1</a><br/>Synced 4 W&B file(s), 1 media file(s), 0 artifact file(s) and 0 other file(s)"
      ],
      "text/plain": [
       "<IPython.core.display.HTML object>"
      ]
     },
     "metadata": {},
     "output_type": "display_data"
    },
    {
     "data": {
      "text/html": [
       "Find logs at: <code>./wandb/run-20220720_175312-6wrf7lj1/logs</code>"
      ],
      "text/plain": [
       "<IPython.core.display.HTML object>"
      ]
     },
     "metadata": {},
     "output_type": "display_data"
    },
    {
     "data": {
      "image/png": "[encoded data removed]",
      "text/plain": [
       "<Figure size 432x288 with 1 Axes>"
      ]
     },
     "metadata": {
      "needs_background": "light"
     },
     "output_type": "display_data"
    }
   ],
   "source": [
    "plt.scatter(x=pitchesl, y=pitchesr)\n",
    "plt.title('pitches of left and right eyes')\n",
    "plt.xlabel('pitch: left eye (degree)')\n",
    "plt.ylabel('pitch: right eye (degree)')\n",
    "plt.grid(visible=True)\n",
    "with wandb.init(project=\"sample_sdata3_angle_analysis\", name='sample_pitches_corr') as run:\n",
    "    run.log({\"data1\":wandb.Image(plt)})"
   ]
  },
  {
   "cell_type": "code",
   "execution_count": 10,
   "id": "10b6b74b",
   "metadata": {},
   "outputs": [
    {
     "data": {
      "text/html": [
       "wandb version 0.12.21 is available!  To upgrade, please run:\n",
       " $ pip install wandb --upgrade"
      ],
      "text/plain": [
       "<IPython.core.display.HTML object>"
      ]
     },
     "metadata": {},
     "output_type": "display_data"
    },
    {
     "data": {
      "text/html": [
       "Tracking run with wandb version 0.12.15"
      ],
      "text/plain": [
       "<IPython.core.display.HTML object>"
      ]
     },
     "metadata": {},
     "output_type": "display_data"
    },
    {
     "data": {
      "text/html": [
       "Run data is saved locally in <code>/project/notebooks/jnotebooks/wandb/run-20220720_175323-zh0nrl0m</code>"
      ],
      "text/plain": [
       "<IPython.core.display.HTML object>"
      ]
     },
     "metadata": {},
     "output_type": "display_data"
    },
    {
     "data": {
      "text/html": [
       "Syncing run <strong><a href=\"https://wandb.ai/synthesis-ai/sample_sdata3_angle_analysis/runs/zh0nrl0m\" target=\"_blank\">sample_yaws_corr</a></strong> to <a href=\"https://wandb.ai/synthesis-ai/sample_sdata3_angle_analysis\" target=\"_blank\">Weights & Biases</a> (<a href=\"https://wandb.me/run\" target=\"_blank\">docs</a>)<br/>"
      ],
      "text/plain": [
       "<IPython.core.display.HTML object>"
      ]
     },
     "metadata": {},
     "output_type": "display_data"
    },
    {
     "data": {
      "text/html": [
       "Waiting for W&B process to finish... <strong style=\"color:green\">(success).</strong>"
      ],
      "text/plain": [
       "<IPython.core.display.HTML object>"
      ]
     },
     "metadata": {},
     "output_type": "display_data"
    },
    {
     "data": {
      "application/vnd.jupyter.widget-view+json": {
       "model_id": "",
       "version_major": 2,
       "version_minor": 0
      },
      "text/plain": [
       "VBox(children=(Label(value='0.012 MB of 0.012 MB uploaded (0.000 MB deduped)\\r'), FloatProgress(value=1.0, max…"
      ]
     },
     "metadata": {},
     "output_type": "display_data"
    },
    {
     "data": {
      "text/html": [
       "Synced <strong style=\"color:#cdcd00\">sample_yaws_corr</strong>: <a href=\"https://wandb.ai/synthesis-ai/sample_sdata3_angle_analysis/runs/zh0nrl0m\" target=\"_blank\">https://wandb.ai/synthesis-ai/sample_sdata3_angle_analysis/runs/zh0nrl0m</a><br/>Synced 4 W&B file(s), 1 media file(s), 0 artifact file(s) and 0 other file(s)"
      ],
      "text/plain": [
       "<IPython.core.display.HTML object>"
      ]
     },
     "metadata": {},
     "output_type": "display_data"
    },
    {
     "data": {
      "text/html": [
       "Find logs at: <code>./wandb/run-20220720_175323-zh0nrl0m/logs</code>"
      ],
      "text/plain": [
       "<IPython.core.display.HTML object>"
      ]
     },
     "metadata": {},
     "output_type": "display_data"
    },
    {
     "data": {
      "image/png": "[encoded data removed]",
      "text/plain": [
       "<Figure size 432x288 with 1 Axes>"
      ]
     },
     "metadata": {
      "needs_background": "light"
     },
     "output_type": "display_data"
    }
   ],
   "source": [
    "plt.scatter(x=yawsl, y=yawsr)\n",
    "plt.title('yaws of left and right eyes')\n",
    "plt.xlabel('yaw: left eye (degree)')\n",
    "plt.ylabel('yaw: right eye (degree)')\n",
    "plt.grid(visible=True)\n",
    "\n",
    "with wandb.init(project=\"sample_sdata3_angle_analysis\", name='sample_yaws_corr') as run:\n",
    "    run.log({\"data1\":wandb.Image(plt)})"
   ]
  },
  {
   "cell_type": "code",
   "execution_count": 12,
   "id": "38efc7e5",
   "metadata": {},
   "outputs": [],
   "source": [
    "adiffs = []\n",
    "for yawl, yawr in zip(yawsl, yawsr):\n",
    "    adiff = abs(yawl-yawr)\n",
    "#     print(yawl, yawr, diff)\n",
    "    adiffs.append(adiff)"
   ]
  },
  {
   "cell_type": "code",
   "execution_count": 14,
   "id": "be63789f",
   "metadata": {},
   "outputs": [
    {
     "data": {
      "text/html": [
       "wandb version 0.12.21 is available!  To upgrade, please run:\n",
       " $ pip install wandb --upgrade"
      ],
      "text/plain": [
       "<IPython.core.display.HTML object>"
      ]
     },
     "metadata": {},
     "output_type": "display_data"
    },
    {
     "data": {
      "text/html": [
       "Tracking run with wandb version 0.12.15"
      ],
      "text/plain": [
       "<IPython.core.display.HTML object>"
      ]
     },
     "metadata": {},
     "output_type": "display_data"
    },
    {
     "data": {
      "text/html": [
       "Run data is saved locally in <code>/project/notebooks/jnotebooks/wandb/run-20220720_175743-mntk62ed</code>"
      ],
      "text/plain": [
       "<IPython.core.display.HTML object>"
      ]
     },
     "metadata": {},
     "output_type": "display_data"
    },
    {
     "data": {
      "text/html": [
       "Syncing run <strong><a href=\"https://wandb.ai/synthesis-ai/sample_sdata3_angle_analysis/runs/mntk62ed\" target=\"_blank\">absolute diffs yaw right and left</a></strong> to <a href=\"https://wandb.ai/synthesis-ai/sample_sdata3_angle_analysis\" target=\"_blank\">Weights & Biases</a> (<a href=\"https://wandb.me/run\" target=\"_blank\">docs</a>)<br/>"
      ],
      "text/plain": [
       "<IPython.core.display.HTML object>"
      ]
     },
     "metadata": {},
     "output_type": "display_data"
    },
    {
     "data": {
      "text/html": [
       "Waiting for W&B process to finish... <strong style=\"color:green\">(success).</strong>"
      ],
      "text/plain": [
       "<IPython.core.display.HTML object>"
      ]
     },
     "metadata": {},
     "output_type": "display_data"
    },
    {
     "data": {
      "application/vnd.jupyter.widget-view+json": {
       "model_id": "",
       "version_major": 2,
       "version_minor": 0
      },
      "text/plain": [
       "VBox(children=(Label(value='0.008 MB of 0.008 MB uploaded (0.000 MB deduped)\\r'), FloatProgress(value=1.0, max…"
      ]
     },
     "metadata": {},
     "output_type": "display_data"
    },
    {
     "data": {
      "text/html": [
       "Synced <strong style=\"color:#cdcd00\">absolute diffs yaw right and left</strong>: <a href=\"https://wandb.ai/synthesis-ai/sample_sdata3_angle_analysis/runs/mntk62ed\" target=\"_blank\">https://wandb.ai/synthesis-ai/sample_sdata3_angle_analysis/runs/mntk62ed</a><br/>Synced 4 W&B file(s), 1 media file(s), 0 artifact file(s) and 0 other file(s)"
      ],
      "text/plain": [
       "<IPython.core.display.HTML object>"
      ]
     },
     "metadata": {},
     "output_type": "display_data"
    },
    {
     "data": {
      "text/html": [
       "Find logs at: <code>./wandb/run-20220720_175743-mntk62ed/logs</code>"
      ],
      "text/plain": [
       "<IPython.core.display.HTML object>"
      ]
     },
     "metadata": {},
     "output_type": "display_data"
    },
    {
     "data": {
      "image/png": "[encoded data removed]",
      "text/plain": [
       "<Figure size 432x288 with 1 Axes>"
      ]
     },
     "metadata": {
      "needs_background": "light"
     },
     "output_type": "display_data"
    }
   ],
   "source": [
    "num_bins=1000\n",
    "n, bins, patches = plt.hist(adiffs, num_bins, \n",
    "                            density = 1, \n",
    "                            color ='b',\n",
    "                            alpha = 0.7)\n",
    "plt.title('distribution of yaw absolute differences')\n",
    "plt.xlabel('degree')\n",
    "plt.xlim(3, 7)\n",
    "with wandb.init(project=\"sample_sdata3_angle_analysis\", name='absolute diffs yaw right and left') as run:\n",
    "    run.log({\"data2\":wandb.Image(plt)})"
   ]
  },
  {
   "cell_type": "code",
   "execution_count": 15,
   "id": "b85a2cae",
   "metadata": {},
   "outputs": [],
   "source": [
    "diffs = []\n",
    "for yawl, yawr in zip(yawsl, yawsr):\n",
    "    diff = yawl-yawr\n",
    "    if yawr > yawl:\n",
    "        print(yawl, yawr, diff)\n",
    "    diffs.append(diff)\n"
   ]
  },
  {
   "cell_type": "code",
   "execution_count": 16,
   "id": "f5131955",
   "metadata": {},
   "outputs": [
    {
     "data": {
      "text/html": [
       "wandb version 0.12.21 is available!  To upgrade, please run:\n",
       " $ pip install wandb --upgrade"
      ],
      "text/plain": [
       "<IPython.core.display.HTML object>"
      ]
     },
     "metadata": {},
     "output_type": "display_data"
    },
    {
     "data": {
      "text/html": [
       "Tracking run with wandb version 0.12.15"
      ],
      "text/plain": [
       "<IPython.core.display.HTML object>"
      ]
     },
     "metadata": {},
     "output_type": "display_data"
    },
    {
     "data": {
      "text/html": [
       "Run data is saved locally in <code>/project/notebooks/jnotebooks/wandb/run-20220720_175758-c8ris76f</code>"
      ],
      "text/plain": [
       "<IPython.core.display.HTML object>"
      ]
     },
     "metadata": {},
     "output_type": "display_data"
    },
    {
     "data": {
      "text/html": [
       "Syncing run <strong><a href=\"https://wandb.ai/synthesis-ai/sample_sdata3_angle_analysis/runs/c8ris76f\" target=\"_blank\">diffs yaw right and left</a></strong> to <a href=\"https://wandb.ai/synthesis-ai/sample_sdata3_angle_analysis\" target=\"_blank\">Weights & Biases</a> (<a href=\"https://wandb.me/run\" target=\"_blank\">docs</a>)<br/>"
      ],
      "text/plain": [
       "<IPython.core.display.HTML object>"
      ]
     },
     "metadata": {},
     "output_type": "display_data"
    },
    {
     "data": {
      "text/html": [
       "Waiting for W&B process to finish... <strong style=\"color:green\">(success).</strong>"
      ],
      "text/plain": [
       "<IPython.core.display.HTML object>"
      ]
     },
     "metadata": {},
     "output_type": "display_data"
    },
    {
     "data": {
      "application/vnd.jupyter.widget-view+json": {
       "model_id": "",
       "version_major": 2,
       "version_minor": 0
      },
      "text/plain": [
       "VBox(children=(Label(value='0.007 MB of 0.007 MB uploaded (0.000 MB deduped)\\r'), FloatProgress(value=1.0, max…"
      ]
     },
     "metadata": {},
     "output_type": "display_data"
    },
    {
     "data": {
      "text/html": [
       "Synced <strong style=\"color:#cdcd00\">diffs yaw right and left</strong>: <a href=\"https://wandb.ai/synthesis-ai/sample_sdata3_angle_analysis/runs/c8ris76f\" target=\"_blank\">https://wandb.ai/synthesis-ai/sample_sdata3_angle_analysis/runs/c8ris76f</a><br/>Synced 4 W&B file(s), 1 media file(s), 0 artifact file(s) and 0 other file(s)"
      ],
      "text/plain": [
       "<IPython.core.display.HTML object>"
      ]
     },
     "metadata": {},
     "output_type": "display_data"
    },
    {
     "data": {
      "text/html": [
       "Find logs at: <code>./wandb/run-20220720_175758-c8ris76f/logs</code>"
      ],
      "text/plain": [
       "<IPython.core.display.HTML object>"
      ]
     },
     "metadata": {},
     "output_type": "display_data"
    },
    {
     "data": {
      "image/png": "[encoded data removed]",
      "text/plain": [
       "<Figure size 432x288 with 1 Axes>"
      ]
     },
     "metadata": {
      "needs_background": "light"
     },
     "output_type": "display_data"
    }
   ],
   "source": [
    "num_bins=1000\n",
    "n, bins, patches = plt.hist(diffs, num_bins, \n",
    "                            density = 1, \n",
    "                            color ='g',\n",
    "                            alpha = 0.7)\n",
    "plt.title('distribution of yaw  differences')\n",
    "plt.xlabel('degree')\n",
    "plt.xlim(3.0, 6)\n",
    "\n",
    "with wandb.init(project=\"sample_sdata3_angle_analysis\", name='diffs yaw right and left') as run:\n",
    "    run.log({\"data2\":wandb.Image(plt)})"
   ]
  }
 ],
 "metadata": {
  "kernelspec": {
   "display_name": "Python 3 (ipykernel)",
   "language": "python",
   "name": "python3"
  },
  "language_info": {
   "codemirror_mode": {
    "name": "ipython",
    "version": 3
   },
   "file_extension": ".py",
   "mimetype": "text/x-python",
   "name": "python",
   "nbconvert_exporter": "python",
   "pygments_lexer": "ipython3",
   "version": "3.8.10"
  }
 },
 "nbformat": 4,
 "nbformat_minor": 5
}
