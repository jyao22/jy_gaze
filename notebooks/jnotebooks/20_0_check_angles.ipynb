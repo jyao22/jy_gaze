{
 "cells": [
  {
   "cell_type": "code",
   "execution_count": 7,
   "id": "4031db92",
   "metadata": {},
   "outputs": [],
   "source": [
    "import sys\n",
    "import numpy as np\n",
    "from math import atan2, asin\n",
    "from pathlib import Path\n",
    "from PIL import Image\n",
    "from PIL import ImageFont\n",
    "from PIL import ImageDraw "
   ]
  },
  {
   "cell_type": "code",
   "execution_count": null,
   "id": "818ac199",
   "metadata": {},
   "outputs": [],
   "source": []
  },
  {
   "cell_type": "code",
   "execution_count": 6,
   "id": "2445130c",
   "metadata": {},
   "outputs": [
    {
     "ename": "ImportError",
     "evalue": "cannot import name 'SynJSON' from 'utils' (/project/modules/utils.py)",
     "output_type": "error",
     "traceback": [
      "\u001b[0;31m---------------------------------------------------------------------------\u001b[0m",
      "\u001b[0;31mImportError\u001b[0m                               Traceback (most recent call last)",
      "Input \u001b[0;32mIn [6]\u001b[0m, in \u001b[0;36m<cell line: 2>\u001b[0;34m()\u001b[0m\n\u001b[1;32m      1\u001b[0m sys\u001b[38;5;241m.\u001b[39mpath\u001b[38;5;241m.\u001b[39mappend(\u001b[38;5;124m'\u001b[39m\u001b[38;5;124m/Users/jyao/JIAN/work/SAI/projects/2022/jy_gaze/modules/jmodules\u001b[39m\u001b[38;5;124m'\u001b[39m)\n\u001b[0;32m----> 2\u001b[0m \u001b[38;5;28;01mfrom\u001b[39;00m \u001b[38;5;21;01mutils\u001b[39;00m \u001b[38;5;28;01mimport\u001b[39;00m SynJSON \u001b[38;5;28;01mas\u001b[39;00m SJ\n",
      "\u001b[0;31mImportError\u001b[0m: cannot import name 'SynJSON' from 'utils' (/project/modules/utils.py)"
     ]
    }
   ],
   "source": [
    "sys.path.append('/Users/jyao/JIAN/work/SAI/projects/2022/jy_gaze/modules/jmodules')\n",
    "from utils import SynJSON as SJ"
   ]
  },
  {
   "cell_type": "code",
   "execution_count": null,
   "id": "db39c670",
   "metadata": {},
   "outputs": [],
   "source": []
  },
  {
   "cell_type": "code",
   "execution_count": 3,
   "id": "9a5e9fd5",
   "metadata": {},
   "outputs": [],
   "source": [
    "dpath = Path('/Users/jyao/JIAN/work/SAI/projects/2022/Synthesize_gaze_data/angles_test/gazes_angles')"
   ]
  },
  {
   "cell_type": "code",
   "execution_count": 4,
   "id": "a25c112c",
   "metadata": {},
   "outputs": [],
   "source": [
    "def pitch_yaw_roll(self, radian=True):\n",
    "        \"\"\" get the pitch. yaw, roll angles of of gaze from gaze vector \"\"\"\n",
    "        std_vecs=np.array([[0,0,1], [0,0,1]])  #left and right standard vectors, looking stright from cam\n",
    "        cam_gaze_vectors = self.cam_gaze_vectors()\n",
    "        # print(f'cam_gaze_vectors={cam_gaze_vectors}')\n",
    "        # print(f'std_vecs = {std_vecs}')\n",
    "        # print(type(Rot))\n",
    "        r = Rot.align_vectors(cam_gaze_vectors, std_vecs)\n",
    "        yaw, pitch, roll = r[0].as_euler(\"YXZ\", degrees=True) * [1, -1, 1]\n",
    "        # print(f'done as euler')\n",
    "        if radian:\n",
    "            return pitch*np.pi/180, yaw*np.pi/180, roll*np.pi/180\n",
    "        else:\n",
    "            return pitch, yaw, roll"
   ]
  },
  {
   "cell_type": "code",
   "execution_count": 5,
   "id": "20f5f716",
   "metadata": {},
   "outputs": [],
   "source": [
    "x = np.array([[1,2], [3,10]])"
   ]
  },
  {
   "cell_type": "code",
   "execution_count": 6,
   "id": "b2d8abda",
   "metadata": {},
   "outputs": [
    {
     "data": {
      "text/plain": [
       "array([2., 6.])"
      ]
     },
     "execution_count": 6,
     "metadata": {},
     "output_type": "execute_result"
    }
   ],
   "source": [
    "x.mean(axis=0)"
   ]
  },
  {
   "cell_type": "code",
   "execution_count": 7,
   "id": "3850acd5",
   "metadata": {},
   "outputs": [],
   "source": [
    "# def d3tod2(vec, radian=True):\n",
    "#     x, y, z = vec\n",
    "#     theta = asin(x)\n",
    "#     phi = atan2(y, z)\n",
    "#     if radian:\n",
    "#         return phi, theta  #pitch and yaw\n",
    "#     else:\n",
    "#         return phi*180*np.pi, theta*180/np.pi\n",
    "    \n",
    "\n",
    "# def pitchyaw2d(self, radian=True):\n",
    "#     cam_gaze_vectors = self.cam_gaze_vectors()\n",
    "#     pitch_left, yaw_left = d3tod2(cam_gaze_vectors[0])\n",
    "#     pitch_right, yaw_right = d3tod2(cam_gaze_vectors[1])\n",
    "#     results = np.array([[pitch_left, yaw_left], [pitch_right, yaw_right]])\n",
    "#     if radian:\n",
    "#         return results\n",
    "#     else:\n",
    "#         return results*180/np.pi\n",
    "    \n",
    "    "
   ]
  },
  {
   "cell_type": "code",
   "execution_count": 8,
   "id": "3784e465",
   "metadata": {},
   "outputs": [
    {
     "name": "stdout",
     "output_type": "stream",
     "text": [
      "/Users/jyao/JIAN/work/SAI/projects/2022/Synthesize_gaze_data/angles_test/gazes_angles/1.cam_singlecam.f_1.info.json\n"
     ]
    }
   ],
   "source": [
    "jfile = list(dpath.glob('*.json'))[2]\n",
    "print(jfile)"
   ]
  },
  {
   "cell_type": "code",
   "execution_count": 9,
   "id": "e227952a",
   "metadata": {},
   "outputs": [],
   "source": [
    "sj = SJ(jfile)"
   ]
  },
  {
   "cell_type": "code",
   "execution_count": 10,
   "id": "1b937f41",
   "metadata": {},
   "outputs": [],
   "source": [
    "# cam_gaze_vectors = sj.cam_gaze_vectors()\n",
    "# print(cam_gaze_vectors)"
   ]
  },
  {
   "cell_type": "code",
   "execution_count": 11,
   "id": "0969a2d1",
   "metadata": {},
   "outputs": [],
   "source": [
    "pitch, yaw = sj.pitchyaw2d(radian=False, average=True)"
   ]
  },
  {
   "cell_type": "code",
   "execution_count": 13,
   "id": "2e9baad4",
   "metadata": {},
   "outputs": [
    {
     "name": "stdout",
     "output_type": "stream",
     "text": [
      "-17.23618648531935 -28.90600891870687\n"
     ]
    }
   ],
   "source": [
    "print(pitch, yaw)"
   ]
  },
  {
   "cell_type": "code",
   "execution_count": 12,
   "id": "46ded214",
   "metadata": {},
   "outputs": [
    {
     "ename": "SystemExit",
     "evalue": "",
     "output_type": "error",
     "traceback": [
      "An exception has occurred, use %tb to see the full traceback.\n",
      "\u001b[0;31mSystemExit\u001b[0m\n"
     ]
    },
    {
     "name": "stderr",
     "output_type": "stream",
     "text": [
      "/Users/jyao/opt/anaconda3/lib/python3.9/site-packages/IPython/core/interactiveshell.py:3405: UserWarning: To exit: use 'exit', 'quit', or Ctrl-D.\n",
      "  warn(\"To exit: use 'exit', 'quit', or Ctrl-D.\", stacklevel=1)\n"
     ]
    }
   ],
   "source": [
    "sys.exit()"
   ]
  },
  {
   "cell_type": "code",
   "execution_count": 16,
   "id": "71486cf0",
   "metadata": {},
   "outputs": [
    {
     "name": "stdout",
     "output_type": "stream",
     "text": [
      "/Users/jyao/JIAN/work/SAI/projects/2022/Synthesize_gaze_data/angles_test/gazes_angles/11.cam_singlecam.f_1.info.json\n",
      "-14.725173950195312 0.11190584301948547\n",
      "-15.32821442390898 0.047786489163142765\n",
      "/Users/jyao/JIAN/work/SAI/projects/2022/Synthesize_gaze_data/angles_test/gazes_angles/2.cam_singlecam.f_1.info.json\n",
      "0.11190584301948547 -30.09840202331543\n",
      "0.001948290921728575 -30.16578788449656\n",
      "/Users/jyao/JIAN/work/SAI/projects/2022/Synthesize_gaze_data/angles_test/gazes_angles/1.cam_singlecam.f_1.info.json\n",
      "-14.725173950195312 -30.09840202331543\n",
      "-17.23618648531935 -28.90600891870687\n",
      "/Users/jyao/JIAN/work/SAI/projects/2022/Synthesize_gaze_data/angles_test/gazes_angles/5.cam_singlecam.f_1.info.json\n",
      "-29.553800582885742 -15.073837280273438\n",
      "-30.88216548142995 -12.94712402575301\n",
      "/Users/jyao/JIAN/work/SAI/projects/2022/Synthesize_gaze_data/angles_test/gazes_angles/6.cam_singlecam.f_1.info.json\n",
      "-14.725173950195312 -15.073837280273438\n",
      "-15.775221467191251 -14.669290895370011\n",
      "/Users/jyao/JIAN/work/SAI/projects/2022/Synthesize_gaze_data/angles_test/gazes_angles/8.cam_singlecam.f_1.info.json\n",
      "14.929314613342285 -15.073837280273438\n",
      "15.777554061373365 -14.669202513374586\n",
      "/Users/jyao/JIAN/work/SAI/projects/2022/Synthesize_gaze_data/angles_test/gazes_angles/12.cam_singlecam.f_1.info.json\n",
      "0.11190584301948547 0.11190584301948547\n",
      "0.002334736679979331 0.06834323233808615\n",
      "/Users/jyao/JIAN/work/SAI/projects/2022/Synthesize_gaze_data/angles_test/gazes_angles/15.cam_singlecam.f_1.info.json\n",
      "-29.553800582885742 14.989418029785156\n",
      "-30.88615608531765 12.947502138125557\n",
      "/Users/jyao/JIAN/work/SAI/projects/2022/Synthesize_gaze_data/angles_test/gazes_angles/9.cam_singlecam.f_1.info.json\n",
      "29.7371768951416 -15.073837280273438\n",
      "30.884826032011183 -12.94688267109845\n",
      "/Users/jyao/JIAN/work/SAI/projects/2022/Synthesize_gaze_data/angles_test/gazes_angles/0.cam_singlecam.f_1.info.json\n",
      "-29.553800582885742 -30.09840202331543\n",
      "-33.737093071332524 -25.659221597826168\n",
      "/Users/jyao/JIAN/work/SAI/projects/2022/Synthesize_gaze_data/angles_test/gazes_angles/16.cam_singlecam.f_1.info.json\n",
      "-14.725173950195312 14.989418029785156\n",
      "-15.721266757035306 14.676262509262447\n",
      "/Users/jyao/JIAN/work/SAI/projects/2022/Synthesize_gaze_data/angles_test/gazes_angles/14.cam_singlecam.f_1.info.json\n",
      "29.7371768951416 0.11190584301948547\n",
      "30.094450100277896 0.0041520345517116475\n",
      "/Users/jyao/JIAN/work/SAI/projects/2022/Synthesize_gaze_data/angles_test/gazes_angles/7.cam_singlecam.f_1.info.json\n",
      "0.11190584301948547 -15.073837280273438\n",
      "0.001492910989670349 -15.293789653885769\n",
      "/Users/jyao/JIAN/work/SAI/projects/2022/Synthesize_gaze_data/angles_test/gazes_angles/13.cam_singlecam.f_1.info.json\n",
      "14.929314613342285 0.11190584301948547\n",
      "15.331736702137139 0.04795161021470595\n",
      "/Users/jyao/JIAN/work/SAI/projects/2022/Synthesize_gaze_data/angles_test/gazes_angles/4.cam_singlecam.f_1.info.json\n",
      "29.7371768951416 -30.09840202331543\n",
      "33.739750691883344 -25.6585827536036\n",
      "/Users/jyao/JIAN/work/SAI/projects/2022/Synthesize_gaze_data/angles_test/gazes_angles/10.cam_singlecam.f_1.info.json\n",
      "-29.553800582885742 0.11190584301948547\n",
      "-30.09162599379223 0.004247935989923679\n",
      "/Users/jyao/JIAN/work/SAI/projects/2022/Synthesize_gaze_data/angles_test/gazes_angles/3.cam_singlecam.f_1.info.json\n",
      "14.929314613342285 -30.09840202331543\n",
      "17.23945636143502 -28.90570075952877\n",
      "/Users/jyao/JIAN/work/SAI/projects/2022/Synthesize_gaze_data/angles_test/gazes_angles/17.cam_singlecam.f_1.info.json\n",
      "0.11190584301948547 14.989418029785156\n",
      "0.0017971983944617027 15.329172293854555\n",
      "/Users/jyao/JIAN/work/SAI/projects/2022/Synthesize_gaze_data/angles_test/gazes_angles/18.cam_singlecam.f_1.info.json\n",
      "14.929314613342285 14.989418029785156\n",
      "15.724041475560671 14.676085037004864\n",
      "/Users/jyao/JIAN/work/SAI/projects/2022/Synthesize_gaze_data/angles_test/gazes_angles/19.cam_singlecam.f_1.info.json\n",
      "29.7371768951416 14.989418029785156\n",
      "30.888973313817374 12.946918790171406\n",
      "/Users/jyao/JIAN/work/SAI/projects/2022/Synthesize_gaze_data/angles_test/gazes_angles/20.cam_singlecam.f_1.info.json\n",
      "-29.553800582885742 30.022768020629883\n",
      "-33.73524289778041 25.65910171726294\n",
      "/Users/jyao/JIAN/work/SAI/projects/2022/Synthesize_gaze_data/angles_test/gazes_angles/22.cam_singlecam.f_1.info.json\n",
      "0.11190584301948547 30.022768020629883\n",
      "0.0026178287118280054 29.989397774385708\n",
      "/Users/jyao/JIAN/work/SAI/projects/2022/Synthesize_gaze_data/angles_test/gazes_angles/21.cam_singlecam.f_1.info.json\n",
      "-14.725173950195312 30.022768020629883\n",
      "-17.21598439094331 28.879032768148647\n",
      "/Users/jyao/JIAN/work/SAI/projects/2022/Synthesize_gaze_data/angles_test/gazes_angles/23.cam_singlecam.f_1.info.json\n",
      "14.929314613342285 30.022768020629883\n",
      "17.219390458444316 28.878874186442726\n",
      "/Users/jyao/JIAN/work/SAI/projects/2022/Synthesize_gaze_data/angles_test/gazes_angles/24.cam_singlecam.f_1.info.json\n",
      "29.7371768951416 30.022768020629883\n",
      "33.737826558390466 25.65845058105701\n"
     ]
    }
   ],
   "source": [
    "for jfile in dpath.glob('*.json'):\n",
    "    print(jfile)\n",
    "    js = SJ(jfile)\n",
    "    pitch, yaw = js.pitch_yaw(radian=False)\n",
    "    print(pitch, yaw)\n",
    "    pitch, yaw = js.pitchyaw2d(radian=False)\n",
    "    print(pitch, yaw)\n",
    "#     pitch, yaw, roll = js.pitch_yaw_roll()\n",
    "#     print(pitch, yaw)\n",
    "    "
   ]
  },
  {
   "cell_type": "code",
   "execution_count": null,
   "id": "410da8df",
   "metadata": {},
   "outputs": [],
   "source": [
    "sys.exit()"
   ]
  },
  {
   "cell_type": "code",
   "execution_count": null,
   "id": "8f77f53f",
   "metadata": {},
   "outputs": [],
   "source": [
    "!ls ../practices/"
   ]
  },
  {
   "cell_type": "code",
   "execution_count": null,
   "id": "045e2a66",
   "metadata": {},
   "outputs": [],
   "source": [
    "jfile = Path('../angles_test/gazes_angles/3.cam_singlecam.f_1.info.json')"
   ]
  },
  {
   "cell_type": "code",
   "execution_count": null,
   "id": "a08c0d64",
   "metadata": {},
   "outputs": [],
   "source": [
    "js = SJ(jfile)\n",
    "pitch, yaw = js.pitch_yaw(radian=False)\n",
    "print(pitch, yaw)"
   ]
  },
  {
   "cell_type": "code",
   "execution_count": null,
   "id": "729dc273",
   "metadata": {},
   "outputs": [],
   "source": [
    "mat = js.world2cam()\n",
    "vr, vl = js.gaze_vectors()"
   ]
  },
  {
   "cell_type": "code",
   "execution_count": null,
   "id": "8ebc8998",
   "metadata": {},
   "outputs": [],
   "source": [
    "print(mat)"
   ]
  },
  {
   "cell_type": "code",
   "execution_count": null,
   "id": "048248ec",
   "metadata": {},
   "outputs": [],
   "source": [
    "print(vr, vl, np.linalg.norm(vr), np.linalg.norm(vl))"
   ]
  },
  {
   "cell_type": "code",
   "execution_count": null,
   "id": "ad555f85",
   "metadata": {},
   "outputs": [],
   "source": [
    "vr = np.append(vr, 1.0)\n",
    "vl = np.append(vl, 1.0)\n",
    "vr, vl = mat.dot(vr), mat.dot(vl)\n",
    "print(vr, vl)\n",
    "vr = vr[0:3]\n",
    "vl = vl[0:3]\n",
    "vr = vr / np.linalg.norm(vr)\n",
    "vl = vl/np.linalg.norm(vl)\n",
    "print(vr, vl)"
   ]
  },
  {
   "cell_type": "code",
   "execution_count": null,
   "id": "26437513",
   "metadata": {},
   "outputs": [],
   "source": [
    "print(vr, vl, np.linalg.norm(vr), np.linalg.norm(vl))"
   ]
  },
  {
   "cell_type": "code",
   "execution_count": null,
   "id": "c854e817",
   "metadata": {},
   "outputs": [],
   "source": [
    "yawr = asin(-vr[1])*180/np.pi\n",
    "pitchr = atan2(-vr[0], -vr[2])*180/np.pi\n",
    "print(yawr, pitchr)"
   ]
  },
  {
   "cell_type": "code",
   "execution_count": null,
   "id": "4794edd5",
   "metadata": {},
   "outputs": [],
   "source": [
    "# yawr = atan2(vr[0], -vr[2])\n",
    "# pitchr = atan2(vr[1], -vr[2])\n",
    "# print(yawr, pitchr)"
   ]
  },
  {
   "cell_type": "code",
   "execution_count": null,
   "id": "fa8220e4",
   "metadata": {},
   "outputs": [],
   "source": [
    "# print(yawr*180/np.pi, pitchr*180/np.pi)"
   ]
  },
  {
   "cell_type": "code",
   "execution_count": null,
   "id": "92618e66",
   "metadata": {},
   "outputs": [],
   "source": []
  },
  {
   "cell_type": "code",
   "execution_count": null,
   "id": "4b84bdac",
   "metadata": {},
   "outputs": [],
   "source": [
    "sys.exit()"
   ]
  },
  {
   "cell_type": "code",
   "execution_count": null,
   "id": "0fc72032",
   "metadata": {},
   "outputs": [],
   "source": [
    "def stamp_angles(ifile, jfile, resize_to=(224, 224)):\n",
    "    \n",
    "    js = SJ(jfile) \n",
    "    pitch, yaw = js.pitch_yaw(radius=False)\n",
    "    im = Image.open(ifile)\n",
    "    im = im.resize(resize_to)\n",
    "    text = f'pitch:{pitch:<5.1f} yaw:{yaw:<5.1f}'\n",
    "#     font = ImageFont.load(\"arial.pil\")\n",
    "    font = ImageFont.truetype(\"Arial Unicode.ttf\", 20)\n",
    "    draw = ImageDraw.Draw(im)\n",
    "    draw.text((10, 10),text,(255,250,255), font=font)\n",
    "    return im\n"
   ]
  },
  {
   "cell_type": "code",
   "execution_count": null,
   "id": "3c7599bf",
   "metadata": {
    "scrolled": false
   },
   "outputs": [],
   "source": [
    "for idx, ifile in enumerate(dpath.glob('*.png')):\n",
    "#     if idx>2:\n",
    "#         break\n",
    "    jfile = str(ifile).replace('rgb.png', 'info.json')\n",
    "    im = stamp_angles(ifile, jfile)\n",
    "#     im = im.resize((224, 224))\n",
    "    print(im.size)\n",
    "    saveto = str(ifile).replace('rgb.png', 'gaze_stamped.jpg')\n",
    "    im.save(saveto)"
   ]
  },
  {
   "cell_type": "code",
   "execution_count": null,
   "id": "eadb91be",
   "metadata": {},
   "outputs": [],
   "source": []
  }
 ],
 "metadata": {
  "kernelspec": {
   "display_name": "Python 3 (ipykernel)",
   "language": "python",
   "name": "python3"
  },
  "language_info": {
   "codemirror_mode": {
    "name": "ipython",
    "version": 3
   },
   "file_extension": ".py",
   "mimetype": "text/x-python",
   "name": "python",
   "nbconvert_exporter": "python",
   "pygments_lexer": "ipython3",
   "version": "3.8.10"
  }
 },
 "nbformat": 4,
 "nbformat_minor": 5
}
