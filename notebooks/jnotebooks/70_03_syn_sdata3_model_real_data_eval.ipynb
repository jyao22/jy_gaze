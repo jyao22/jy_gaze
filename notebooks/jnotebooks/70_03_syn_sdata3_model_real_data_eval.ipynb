{
 "cells": [
  {
   "cell_type": "code",
   "execution_count": 1,
   "id": "9132df96",
   "metadata": {},
   "outputs": [],
   "source": [
    "# Use the best model for each checkpoint folder to test maes for all data folds"
   ]
  },
  {
   "cell_type": "code",
   "execution_count": 2,
   "id": "662efc9c",
   "metadata": {},
   "outputs": [],
   "source": [
    "import sys\n",
    "import os, argparse\n",
    "import numpy as np\n",
    "import matplotlib.pyplot as plt\n",
    "from datetime import datetime\n",
    "from pytz import timezone\n",
    "from pathlib import Path\n",
    "import torch\n",
    "import torch.nn as nn\n",
    "from torch.autograd import Variable\n",
    "from torch.utils.data import DataLoader\n",
    "from torchvision import transforms\n",
    "import torch.backends.cudnn as cudnn\n",
    "import torchvision\n",
    "import wandb\n",
    "\n",
    "import datasets\n",
    "# from utils import select_device, natural_keys, gazeto3d, angular, getArch\n",
    "from utils import select_device, natural_keys, gazeto3d, angular, getArch\n",
    "from model import L2CS\n",
    "sys.path.append('/project/modules/jmodules')\n",
    "from jutils import get_now"
   ]
  },
  {
   "cell_type": "code",
   "execution_count": 3,
   "id": "a3f3b0f1",
   "metadata": {},
   "outputs": [
    {
     "name": "stdout",
     "output_type": "stream",
     "text": [
      "/project/notebooks/jnotebooks\r\n"
     ]
    }
   ],
   "source": [
    "!pwd"
   ]
  },
  {
   "cell_type": "code",
   "execution_count": 4,
   "id": "e52aedb0",
   "metadata": {},
   "outputs": [
    {
     "name": "stdout",
     "output_type": "stream",
     "text": [
      "Tue Jul 26 22:26:24 2022       \n",
      "+-----------------------------------------------------------------------------+\n",
      "| NVIDIA-SMI 470.57.02    Driver Version: 470.57.02    CUDA Version: 11.4     |\n",
      "|-------------------------------+----------------------+----------------------+\n",
      "| GPU  Name        Persistence-M| Bus-Id        Disp.A | Volatile Uncorr. ECC |\n",
      "| Fan  Temp  Perf  Pwr:Usage/Cap|         Memory-Usage | GPU-Util  Compute M. |\n",
      "|                               |                      |               MIG M. |\n",
      "|===============================+======================+======================|\n",
      "|   0  NVIDIA A100-SXM...  On   | 00000000:20:1D.0 Off |                    0 |\n",
      "| N/A   31C    P0    75W / 400W |   5138MiB / 40536MiB |      0%      Default |\n",
      "|                               |                      |             Disabled |\n",
      "+-------------------------------+----------------------+----------------------+\n",
      "                                                                               \n",
      "+-----------------------------------------------------------------------------+\n",
      "| Processes:                                                                  |\n",
      "|  GPU   GI   CI        PID   Type   Process name                  GPU Memory |\n",
      "|        ID   ID                                                   Usage      |\n",
      "|=============================================================================|\n",
      "+-----------------------------------------------------------------------------+\n"
     ]
    }
   ],
   "source": [
    "!nvidia-smi"
   ]
  },
  {
   "cell_type": "code",
   "execution_count": 5,
   "id": "49ee6896",
   "metadata": {},
   "outputs": [],
   "source": [
    "def parse_args():\n",
    "    \"\"\"Parse input arguments.\"\"\"\n",
    "    parser = argparse.ArgumentParser(description='Gaze estimation using L2CSNet')\n",
    "#     # Gaze360\n",
    "#     parser.add_argument(\n",
    "#         '--gaze360image_dir', dest='gaze360image_dir', help='Directory path for gaze images.',\n",
    "#         default='datasets/Gaze360/Image', type=str)\n",
    "#     parser.add_argument(\n",
    "#         '--gaze360label_dir', dest='gaze360label_dir', help='Directory path for gaze labels.',\n",
    "#         default='datasets/Gaze360/Label/train.label', type=str)\n",
    "#     # mpiigaze\n",
    "    parser.add_argument(\n",
    "        '--gazeMpiimage_dir', dest='gazeMpiimage_dir', help='Directory path for gaze images.',\n",
    "        default='/project/data/Image', type=str)\n",
    "    parser.add_argument(\n",
    "        '--gazeMpiilabel_dir', dest='gazeMpiilabel_dir', help='Directory path for gaze labels.',\n",
    "        default='/project/data/Label', type=str)\n",
    "\n",
    "    # Important args -------------------------------------------------------------------------------------------------------\n",
    "    # ----------------------------------------------------------------------------------------------------------------------\n",
    "    parser.add_argument(\n",
    "        '--dataset', dest='dataset', help='mpiigaze, rtgene, gaze360, ethgaze',\n",
    "        default= \"mpiigaze\", type=str)\n",
    "    parser.add_argument(\n",
    "        '--output', dest='output', help='Path of output models.',\n",
    "        default='/project/results/soutput3/snapshots/', type=str)\n",
    "    parser.add_argument(\n",
    "        '--snapshot', dest='snapshot', help='Path of model snapshot.',\n",
    "        default='/project/results/soutput3/snapshots/', type=str)\n",
    "    parser.add_argument(\n",
    "        '--gpu', dest='gpu_id', help='GPU device id to use [0] or multiple 0,1,2,3',\n",
    "        default='0', type=str)\n",
    "    parser.add_argument(\n",
    "        '--evalpath', dest='evalpath', help='path to save the evaluation results',\n",
    "        default='/project/results/soutput3/evaluation/', type=str)\n",
    "    parser.add_argument(\n",
    "        '--num_epochs', dest='num_epochs', help='Maximum number of training epochs.',\n",
    "        default=60, type=int)\n",
    "    parser.add_argument(\n",
    "        '--batch_size', dest='batch_size', help='Batch size.',\n",
    "        default=100, type=int)\n",
    "    parser.add_argument(\n",
    "        '--arch', dest='arch', help='Network architecture, can be: ResNet18, ResNet34, [ResNet50], ''ResNet101, ResNet152, Squeezenet_1_0, Squeezenet_1_1, MobileNetV2',\n",
    "        default='ResNet50', type=str)\n",
    "    parser.add_argument(\n",
    "        '--alpha', dest='alpha', help='Regression loss coefficient.',\n",
    "        default=1, type=float)\n",
    "    parser.add_argument(\n",
    "        '--lr', dest='lr', help='Base learning rate.',\n",
    "        default=0.00001, type=float)\n",
    "    parser.add_argument(\n",
    "        '--bins', dest='bins', help='number of angle bins',\n",
    "        default=28, type=int)\n",
    "    parser.add_argument(\n",
    "        '--angle', dest='angle', help='angle limit',\n",
    "        default=180, type=int)\n",
    "    parser.add_argument(\n",
    "        '--bin_width', dest='bin_width', help='width of anlge bins',\n",
    "        default=4, type=int)\n",
    "    \n",
    "    # ---------------------------------------------------------------------------------------------------------------------\n",
    "    # Important args ------------------------------------------------------------------------------------------------------\n",
    "    args = parser.parse_args(['--angle', '180'])\n",
    "    return args"
   ]
  },
  {
   "cell_type": "code",
   "execution_count": 6,
   "id": "30c3086e",
   "metadata": {},
   "outputs": [],
   "source": [
    "args=parse_args()"
   ]
  },
  {
   "cell_type": "code",
   "execution_count": 7,
   "id": "d0e11321",
   "metadata": {},
   "outputs": [],
   "source": [
    "# actually used\n",
    "batch_size=args.batch_size\n",
    "arch=args.arch\n",
    "data_set=args.dataset\n",
    "# evalpath =args.evalpath\n",
    "snapshot_path = args.snapshot\n",
    "bins=args.bins\n",
    "angle=args.angle\n",
    "bin_width=args.bin_width\n",
    "gazeMpiimage_dir = args.gazeMpiimage_dir\n",
    "gazeMpiilabel_dir=args.gazeMpiilabel_dir"
   ]
  },
  {
   "cell_type": "code",
   "execution_count": 8,
   "id": "0504fda4",
   "metadata": {},
   "outputs": [],
   "source": [
    "# args = parse_args()\n",
    "cudnn.enabled = True\n",
    "gpu = select_device(args.gpu_id, batch_size=args.batch_size)\n",
    "transformations = transforms.Compose([\n",
    "    transforms.Resize(448),\n",
    "    transforms.ToTensor(),\n",
    "    transforms.Normalize(\n",
    "        mean=[0.485, 0.456, 0.406],\n",
    "        std=[0.229, 0.224, 0.225]\n",
    "    )\n",
    "])\n",
    "model_used= getArch(arch, bins)  #resnet50 and 28 bins"
   ]
  },
  {
   "cell_type": "code",
   "execution_count": 9,
   "id": "d82927d4",
   "metadata": {},
   "outputs": [
    {
     "name": "stdout",
     "output_type": "stream",
     "text": [
      "number of checkpoint files: 60\n"
     ]
    }
   ],
   "source": [
    "spath = Path(snapshot_path)\n",
    "ckfiles =[]\n",
    "for filename in sorted(spath.glob('*.pkl'), \n",
    "        key=lambda path: int(path.stem.rsplit(\"_\", 1)[1])):\n",
    "    ckfiles.append(filename)\n",
    "print(f'number of checkpoint files: {len(ckfiles)}')"
   ]
  },
  {
   "cell_type": "code",
   "execution_count": null,
   "id": "575d19fa",
   "metadata": {},
   "outputs": [
    {
     "name": "stdout",
     "output_type": "stream",
     "text": [
      "path is a list, len(path): 15\n",
      "0 items removed from dataset that have an angle > 180\n"
     ]
    },
    {
     "name": "stderr",
     "output_type": "stream",
     "text": [
      "\u001b[34m\u001b[1mwandb\u001b[0m: Currently logged in as: \u001b[33msynthesis-ai\u001b[0m (use `wandb login --relogin` to force relogin)\n"
     ]
    },
    {
     "data": {
      "text/html": [
       "wandb version 0.12.21 is available!  To upgrade, please run:\n",
       " $ pip install wandb --upgrade"
      ],
      "text/plain": [
       "<IPython.core.display.HTML object>"
      ]
     },
     "metadata": {},
     "output_type": "display_data"
    },
    {
     "data": {
      "text/html": [
       "Tracking run with wandb version 0.12.15"
      ],
      "text/plain": [
       "<IPython.core.display.HTML object>"
      ]
     },
     "metadata": {},
     "output_type": "display_data"
    },
    {
     "data": {
      "text/html": [
       "Run data is saved locally in <code>/project/notebooks/jnotebooks/wandb/run-20220726_222628-2lvakpog</code>"
      ],
      "text/plain": [
       "<IPython.core.display.HTML object>"
      ]
     },
     "metadata": {},
     "output_type": "display_data"
    },
    {
     "data": {
      "text/html": [
       "Syncing run <strong><a href=\"https://wandb.ai/synthesis-ai/70_smodel_sdata3_rdata/runs/2lvakpog\" target=\"_blank\">MAE_epoch_models</a></strong> to <a href=\"https://wandb.ai/synthesis-ai/70_smodel_sdata3_rdata\" target=\"_blank\">Weights & Biases</a> (<a href=\"https://wandb.me/run\" target=\"_blank\">docs</a>)<br/>"
      ],
      "text/plain": [
       "<IPython.core.display.HTML object>"
      ]
     },
     "metadata": {},
     "output_type": "display_data"
    },
    {
     "name": "stdout",
     "output_type": "stream",
     "text": [
      "1 /project/results/soutput3/snapshots/epoch_1.pkl\n",
      "\n",
      "test configuration: gpu_id=cuda:0, batch_size=100\n",
      "model_arch=ResNet50 Start testing dataset=mpiigaze--07/26/2022 15:26:31--\n",
      "\n",
      "Total Num images Checked:45000, MAE:15.206880649613742  07/26/2022 15:28:44\n",
      "2 /project/results/soutput3/snapshots/epoch_2.pkl\n",
      "\n",
      "test configuration: gpu_id=cuda:0, batch_size=100\n",
      "model_arch=ResNet50 Start testing dataset=mpiigaze--07/26/2022 15:28:45--\n",
      "\n",
      "Total Num images Checked:45000, MAE:15.740862156267017  07/26/2022 15:30:59\n",
      "3 /project/results/soutput3/snapshots/epoch_3.pkl\n",
      "\n",
      "test configuration: gpu_id=cuda:0, batch_size=100\n",
      "model_arch=ResNet50 Start testing dataset=mpiigaze--07/26/2022 15:31:00--\n",
      "\n",
      "Total Num images Checked:45000, MAE:15.995223516918248  07/26/2022 15:33:16\n",
      "4 /project/results/soutput3/snapshots/epoch_4.pkl\n",
      "\n",
      "test configuration: gpu_id=cuda:0, batch_size=100\n",
      "model_arch=ResNet50 Start testing dataset=mpiigaze--07/26/2022 15:33:17--\n",
      "\n",
      "Total Num images Checked:45000, MAE:13.22502913985834  07/26/2022 15:35:33\n",
      "5 /project/results/soutput3/snapshots/epoch_5.pkl\n",
      "\n",
      "test configuration: gpu_id=cuda:0, batch_size=100\n",
      "model_arch=ResNet50 Start testing dataset=mpiigaze--07/26/2022 15:35:34--\n",
      "\n",
      "Total Num images Checked:45000, MAE:13.975972897400828  07/26/2022 15:37:50\n",
      "6 /project/results/soutput3/snapshots/epoch_6.pkl\n",
      "\n",
      "test configuration: gpu_id=cuda:0, batch_size=100\n",
      "model_arch=ResNet50 Start testing dataset=mpiigaze--07/26/2022 15:37:50--\n",
      "\n",
      "Total Num images Checked:45000, MAE:12.844188091008068  07/26/2022 15:40:08\n",
      "7 /project/results/soutput3/snapshots/epoch_7.pkl\n",
      "\n",
      "test configuration: gpu_id=cuda:0, batch_size=100\n",
      "model_arch=ResNet50 Start testing dataset=mpiigaze--07/26/2022 15:40:09--\n",
      "\n",
      "Total Num images Checked:45000, MAE:14.112589821106027  07/26/2022 15:42:27\n",
      "8 /project/results/soutput3/snapshots/epoch_8.pkl\n",
      "\n",
      "test configuration: gpu_id=cuda:0, batch_size=100\n",
      "model_arch=ResNet50 Start testing dataset=mpiigaze--07/26/2022 15:42:28--\n",
      "\n",
      "Total Num images Checked:45000, MAE:13.364471501829936  07/26/2022 15:44:46\n",
      "9 /project/results/soutput3/snapshots/epoch_9.pkl\n",
      "\n",
      "test configuration: gpu_id=cuda:0, batch_size=100\n",
      "model_arch=ResNet50 Start testing dataset=mpiigaze--07/26/2022 15:44:47--\n",
      "\n",
      "Total Num images Checked:45000, MAE:11.82525782011355  07/26/2022 15:47:06\n",
      "10 /project/results/soutput3/snapshots/epoch_10.pkl\n",
      "\n",
      "test configuration: gpu_id=cuda:0, batch_size=100\n",
      "model_arch=ResNet50 Start testing dataset=mpiigaze--07/26/2022 15:47:06--\n",
      "\n",
      "Total Num images Checked:45000, MAE:13.597481729875929  07/26/2022 15:49:21\n",
      "11 /project/results/soutput3/snapshots/epoch_11.pkl\n",
      "\n",
      "test configuration: gpu_id=cuda:0, batch_size=100\n",
      "model_arch=ResNet50 Start testing dataset=mpiigaze--07/26/2022 15:49:22--\n",
      "\n",
      "Total Num images Checked:45000, MAE:13.188515754438496  07/26/2022 15:51:39\n",
      "12 /project/results/soutput3/snapshots/epoch_12.pkl\n",
      "\n",
      "test configuration: gpu_id=cuda:0, batch_size=100\n",
      "model_arch=ResNet50 Start testing dataset=mpiigaze--07/26/2022 15:51:39--\n",
      "\n",
      "Total Num images Checked:45000, MAE:12.597330997391976  07/26/2022 15:53:55\n",
      "13 /project/results/soutput3/snapshots/epoch_13.pkl\n",
      "\n",
      "test configuration: gpu_id=cuda:0, batch_size=100\n",
      "model_arch=ResNet50 Start testing dataset=mpiigaze--07/26/2022 15:53:56--\n",
      "\n",
      "Total Num images Checked:45000, MAE:12.690281576176458  07/26/2022 15:56:10\n",
      "14 /project/results/soutput3/snapshots/epoch_14.pkl\n",
      "\n",
      "test configuration: gpu_id=cuda:0, batch_size=100\n",
      "model_arch=ResNet50 Start testing dataset=mpiigaze--07/26/2022 15:56:11--\n",
      "\n",
      "Total Num images Checked:45000, MAE:13.533856480637706  07/26/2022 15:58:28\n",
      "15 /project/results/soutput3/snapshots/epoch_15.pkl\n",
      "\n",
      "test configuration: gpu_id=cuda:0, batch_size=100\n",
      "model_arch=ResNet50 Start testing dataset=mpiigaze--07/26/2022 15:58:28--\n",
      "\n",
      "Total Num images Checked:45000, MAE:13.192672035120252  07/26/2022 16:00:45\n",
      "16 /project/results/soutput3/snapshots/epoch_16.pkl\n",
      "\n",
      "test configuration: gpu_id=cuda:0, batch_size=100\n",
      "model_arch=ResNet50 Start testing dataset=mpiigaze--07/26/2022 16:00:46--\n",
      "\n",
      "Total Num images Checked:45000, MAE:14.618536689763005  07/26/2022 16:03:06\n",
      "17 /project/results/soutput3/snapshots/epoch_17.pkl\n",
      "\n",
      "test configuration: gpu_id=cuda:0, batch_size=100\n",
      "model_arch=ResNet50 Start testing dataset=mpiigaze--07/26/2022 16:03:07--\n",
      "\n",
      "Total Num images Checked:45000, MAE:12.931032534876843  07/26/2022 16:05:23\n",
      "18 /project/results/soutput3/snapshots/epoch_18.pkl\n",
      "\n",
      "test configuration: gpu_id=cuda:0, batch_size=100\n",
      "model_arch=ResNet50 Start testing dataset=mpiigaze--07/26/2022 16:05:23--\n",
      "\n",
      "Total Num images Checked:45000, MAE:13.74561700561432  07/26/2022 16:07:43\n",
      "19 /project/results/soutput3/snapshots/epoch_19.pkl\n",
      "\n",
      "test configuration: gpu_id=cuda:0, batch_size=100\n",
      "model_arch=ResNet50 Start testing dataset=mpiigaze--07/26/2022 16:07:44--\n",
      "\n",
      "Total Num images Checked:45000, MAE:13.437942454055326  07/26/2022 16:10:03\n",
      "20 /project/results/soutput3/snapshots/epoch_20.pkl\n",
      "\n",
      "test configuration: gpu_id=cuda:0, batch_size=100\n",
      "model_arch=ResNet50 Start testing dataset=mpiigaze--07/26/2022 16:10:04--\n",
      "\n",
      "Total Num images Checked:45000, MAE:14.190464728367898  07/26/2022 16:12:22\n",
      "21 /project/results/soutput3/snapshots/epoch_21.pkl\n",
      "\n",
      "test configuration: gpu_id=cuda:0, batch_size=100\n",
      "model_arch=ResNet50 Start testing dataset=mpiigaze--07/26/2022 16:12:23--\n",
      "\n",
      "Total Num images Checked:45000, MAE:13.778025837126899  07/26/2022 16:14:41\n",
      "22 /project/results/soutput3/snapshots/epoch_22.pkl\n",
      "\n",
      "test configuration: gpu_id=cuda:0, batch_size=100\n",
      "model_arch=ResNet50 Start testing dataset=mpiigaze--07/26/2022 16:14:42--\n",
      "\n",
      "Total Num images Checked:45000, MAE:13.758867171756762  07/26/2022 16:16:56\n",
      "23 /project/results/soutput3/snapshots/epoch_23.pkl\n",
      "\n",
      "test configuration: gpu_id=cuda:0, batch_size=100\n",
      "model_arch=ResNet50 Start testing dataset=mpiigaze--07/26/2022 16:16:57--\n",
      "\n",
      "Total Num images Checked:45000, MAE:13.126073229810228  07/26/2022 16:19:11\n",
      "24 /project/results/soutput3/snapshots/epoch_24.pkl\n",
      "\n",
      "test configuration: gpu_id=cuda:0, batch_size=100\n",
      "model_arch=ResNet50 Start testing dataset=mpiigaze--07/26/2022 16:19:12--\n",
      "\n"
     ]
    }
   ],
   "source": [
    "#labels\n",
    "lfolder = os.listdir(gazeMpiilabel_dir)\n",
    "lfolder.sort()  #individual label files\n",
    "testlabelpathcombined = [os.path.join(gazeMpiilabel_dir, j) for j in lfolder]\n",
    "gaze_dataset=datasets.Mpiigaze(testlabelpathcombined, gazeMpiimage_dir, transformations, False, angle, fold=-1)\n",
    "# print(testlabelpathcombined)\n",
    "\n",
    "model = model_used\n",
    "model= nn.DataParallel(model,device_ids=[0])  #important to load state dict\n",
    "\n",
    "wandb.init(project='70_smodel_sdata3_rdata', name=\"MAE_epoch_models\")\n",
    "for ckn, ckfile in enumerate(ckfiles):\n",
    "    print(ckn+1, ckfile)\n",
    "    \n",
    "    \n",
    "    checkpoint = torch.load(ckfile)\n",
    "    saved_state_dict = checkpoint['model_state_dict']\n",
    "    model.load_state_dict(saved_state_dict)\n",
    "    model.cuda(gpu)\n",
    "    model.eval()\n",
    "    idx_tensor = [idx for idx in range(bins)]\n",
    "    idx_tensor = torch.FloatTensor(idx_tensor).cuda(gpu)\n",
    "    softmax = nn.Softmax(dim=1)\n",
    "#     best_model_maes =[]  # error for each data fold\n",
    "    test_loader = torch.utils.data.DataLoader(\n",
    "            dataset=gaze_dataset,\n",
    "            batch_size=batch_size,\n",
    "            shuffle=True,\n",
    "            num_workers=4,\n",
    "            pin_memory=True)\n",
    "    now = get_now()\n",
    "    configuration = f\"\\ntest configuration: gpu_id={gpu}, batch_size={batch_size}\\n\"\n",
    "    configuration += f\"model_arch={arch} Start testing dataset={data_set}--{now}--\\n\"\n",
    "    print(configuration)\n",
    "    \n",
    "    total = 0  \n",
    "    avg_error = .0\n",
    "    with torch.no_grad():\n",
    "        for j, (images, labels, cont_labels, name) in enumerate(test_loader):\n",
    "            images = Variable(images).cuda(gpu)\n",
    "            total += cont_labels.size(0)  #number of labels/images\n",
    "\n",
    "            label_pitch = cont_labels[:,0].float()*np.pi/180\n",
    "            label_yaw = cont_labels[:,1].float()*np.pi/180\n",
    "\n",
    "            gaze_pitch, gaze_yaw = model(images)\n",
    "\n",
    "            # Binned predictions\n",
    "            _, pitch_bpred = torch.max(gaze_pitch.data, 1)\n",
    "            _, yaw_bpred = torch.max(gaze_yaw.data, 1)\n",
    "\n",
    "            # Continuous predictions\n",
    "            pitch_predicted = softmax(gaze_pitch)\n",
    "            yaw_predicted = softmax(gaze_yaw)\n",
    "\n",
    "            # mapping from binned (0 to 28) to angels (-42 to 42)                \n",
    "            pitch_predicted = \\\n",
    "                torch.sum(pitch_predicted * idx_tensor, 1).cpu() * 3 - 42\n",
    "            yaw_predicted = \\\n",
    "                torch.sum(yaw_predicted * idx_tensor, 1).cpu() * 3 - 42\n",
    "\n",
    "            pitch_predicted = pitch_predicted*np.pi/180\n",
    "            yaw_predicted = yaw_predicted*np.pi/180\n",
    "\n",
    "            for p,y,pl,yl in zip(pitch_predicted, yaw_predicted, label_pitch, label_yaw):\n",
    "                pl, yl = yl, pl*(-1.0)\n",
    "                avg_error += angular(gazeto3d([p,y]), gazeto3d([pl,yl])) #accumulate over all batches\n",
    "\n",
    "    mean_mae = avg_error/total  \n",
    "    now = get_now()\n",
    "    msg = f\"Total Num images Checked:{total}, MAE:{mean_mae}  {now}\"\n",
    "#         outfile.write(loger)\n",
    "    wandb.log({'Mean_MAE':mean_mae}, step=ckn+1)\n",
    "    print(msg)\n",
    "#     best_model_maes.append(mean_mae) \n",
    "    "
   ]
  }
 ],
 "metadata": {
  "kernelspec": {
   "display_name": "Python 3 (ipykernel)",
   "language": "python",
   "name": "python3"
  },
  "language_info": {
   "codemirror_mode": {
    "name": "ipython",
    "version": 3
   },
   "file_extension": ".py",
   "mimetype": "text/x-python",
   "name": "python",
   "nbconvert_exporter": "python",
   "pygments_lexer": "ipython3",
   "version": "3.8.10"
  }
 },
 "nbformat": 4,
 "nbformat_minor": 5
}
