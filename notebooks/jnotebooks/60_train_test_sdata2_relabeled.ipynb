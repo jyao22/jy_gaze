{
 "cells": [
  {
   "cell_type": "code",
   "execution_count": null,
   "id": "005def19",
   "metadata": {},
   "outputs": [],
   "source": [
    "# training script for training sdata2"
   ]
  },
  {
   "cell_type": "code",
   "execution_count": 1,
   "id": "8c268e07",
   "metadata": {},
   "outputs": [],
   "source": [
    "import os\n",
    "import sys\n",
    "import argparse\n",
    "import time\n",
    "from datetime import datetime\n",
    "from pytz import timezone\n",
    "\n",
    "import torch.utils.model_zoo as model_zoo\n",
    "import torch\n",
    "import torch.nn as nn\n",
    "from torch.autograd import Variable\n",
    "from torch.utils.data import DataLoader\n",
    "from torchvision import transforms\n",
    "import torch.backends.cudnn as cudnn\n",
    "import torchvision\n",
    "import wandb\n",
    "\n",
    "import datasets\n",
    "from model import L2CS\n",
    "from utils import select_device"
   ]
  },
  {
   "cell_type": "code",
   "execution_count": 2,
   "id": "3b78d2ff",
   "metadata": {},
   "outputs": [
    {
     "name": "stdout",
     "output_type": "stream",
     "text": [
      "Sat Jul  9 09:11:43 2022       \n",
      "+-----------------------------------------------------------------------------+\n",
      "| NVIDIA-SMI 470.57.02    Driver Version: 470.57.02    CUDA Version: 11.4     |\n",
      "|-------------------------------+----------------------+----------------------+\n",
      "| GPU  Name        Persistence-M| Bus-Id        Disp.A | Volatile Uncorr. ECC |\n",
      "| Fan  Temp  Perf  Pwr:Usage/Cap|         Memory-Usage | GPU-Util  Compute M. |\n",
      "|                               |                      |               MIG M. |\n",
      "|===============================+======================+======================|\n",
      "|   0  Tesla V100-SXM2...  On   | 00000000:00:1B.0 Off |                    0 |\n",
      "| N/A   39C    P0    36W / 300W |      0MiB / 16160MiB |      0%      Default |\n",
      "|                               |                      |                  N/A |\n",
      "+-------------------------------+----------------------+----------------------+\n",
      "|   1  Tesla V100-SXM2...  On   | 00000000:00:1C.0 Off |                    0 |\n",
      "| N/A   40C    P0    41W / 300W |      0MiB / 16160MiB |      0%      Default |\n",
      "|                               |                      |                  N/A |\n",
      "+-------------------------------+----------------------+----------------------+\n",
      "|   2  Tesla V100-SXM2...  On   | 00000000:00:1D.0 Off |                    0 |\n",
      "| N/A   40C    P0    41W / 300W |      0MiB / 16160MiB |      0%      Default |\n",
      "|                               |                      |                  N/A |\n",
      "+-------------------------------+----------------------+----------------------+\n",
      "|   3  Tesla V100-SXM2...  On   | 00000000:00:1E.0 Off |                    0 |\n",
      "| N/A   40C    P0    41W / 300W |      0MiB / 16160MiB |      0%      Default |\n",
      "|                               |                      |                  N/A |\n",
      "+-------------------------------+----------------------+----------------------+\n",
      "                                                                               \n",
      "+-----------------------------------------------------------------------------+\n",
      "| Processes:                                                                  |\n",
      "|  GPU   GI   CI        PID   Type   Process name                  GPU Memory |\n",
      "|        ID   ID                                                   Usage      |\n",
      "|=============================================================================|\n",
      "|  No running processes found                                                 |\n",
      "+-----------------------------------------------------------------------------+\n"
     ]
    }
   ],
   "source": [
    "!nvidia-smi"
   ]
  },
  {
   "cell_type": "code",
   "execution_count": 3,
   "id": "11bac42c",
   "metadata": {},
   "outputs": [
    {
     "name": "stdout",
     "output_type": "stream",
     "text": [
      "Image  Label\r\n"
     ]
    }
   ],
   "source": [
    "!ls ../data/sdata2"
   ]
  },
  {
   "cell_type": "code",
   "execution_count": 4,
   "id": "68d997c2",
   "metadata": {},
   "outputs": [
    {
     "name": "stdout",
     "output_type": "stream",
     "text": [
      "p00.label  p03.label  p06.label  p09.label  p12.label\r\n",
      "p01.label  p04.label  p07.label  p10.label  p13.label\r\n",
      "p02.label  p05.label  p08.label  p11.label  p14.label\r\n"
     ]
    }
   ],
   "source": [
    "!ls /project/data/sdata2/Label"
   ]
  },
  {
   "cell_type": "code",
   "execution_count": 5,
   "id": "e7f8116e",
   "metadata": {},
   "outputs": [
    {
     "name": "stdout",
     "output_type": "stream",
     "text": [
      "fold00\tfold02\tfold04\tfold06\tfold08\tfold10\tfold12\tfold14\r\n",
      "fold01\tfold03\tfold05\tfold07\tfold09\tfold11\tfold13\r\n"
     ]
    }
   ],
   "source": [
    "!ls /project/data/sdata2/Image/face"
   ]
  },
  {
   "cell_type": "code",
   "execution_count": null,
   "id": "963cb35a",
   "metadata": {},
   "outputs": [],
   "source": []
  },
  {
   "cell_type": "code",
   "execution_count": 6,
   "id": "1fff063b",
   "metadata": {},
   "outputs": [],
   "source": [
    "args=argparse.Namespace()\n",
    "args.gazeMpiimage_dir = '/project/data/sdata2/Image'\n",
    "args.gazeMpiilabel_dir = '/project/data/sdata2/Label'\n",
    "args.output = '/project/results/soutput2/snapshots/'\n",
    "args.dataset = 'mpiigaze'\n",
    "args.snapshot=''\n",
    "args.gpu_id = '0,1,2,3'\n",
    "args.num_epochs = 60\n",
    "args.batch_size = 60\n",
    "args.arch = 'ResNet50'\n",
    "args.alpha = 1.0\n",
    "args.lr = 0.00001\n",
    "\n"
   ]
  },
  {
   "cell_type": "code",
   "execution_count": 7,
   "id": "1aec867d",
   "metadata": {},
   "outputs": [],
   "source": [
    "def get_ignored_params(model):\n",
    "    # Generator function that yields ignored params.\n",
    "    b = [model.conv1, model.bn1, model.fc_finetune]\n",
    "    for i in range(len(b)):\n",
    "        for module_name, module in b[i].named_modules():\n",
    "            if 'bn' in module_name:\n",
    "                module.eval()\n",
    "            for name, param in module.named_parameters():\n",
    "                yield param\n",
    "\n",
    "def get_non_ignored_params(model):\n",
    "    # Generator function that yields params that will be optimized.\n",
    "    b = [model.layer1, model.layer2, model.layer3, model.layer4]\n",
    "    for i in range(len(b)):\n",
    "        for module_name, module in b[i].named_modules():\n",
    "            if 'bn' in module_name:\n",
    "                module.eval()\n",
    "            for name, param in module.named_parameters():\n",
    "                yield param\n",
    "\n",
    "def get_fc_params(model):\n",
    "    # Generator function that yields fc layer params.\n",
    "    b = [model.fc_yaw_gaze, model.fc_pitch_gaze]\n",
    "    for i in range(len(b)):\n",
    "        for module_name, module in b[i].named_modules():\n",
    "            for name, param in module.named_parameters():\n",
    "                yield param\n",
    "                \n",
    "def load_filtered_state_dict(model, snapshot):\n",
    "    # By user apaszke from discuss.pytorch.org\n",
    "    model_dict = model.state_dict()\n",
    "    snapshot = {k: v for k, v in snapshot.items() if k in model_dict}\n",
    "    model_dict.update(snapshot)\n",
    "    model.load_state_dict(model_dict)\n",
    "\n",
    "\n",
    "def getArch_weights(arch, bins):\n",
    "    if arch == 'ResNet18':\n",
    "        model = L2CS(torchvision.models.resnet.BasicBlock, [2, 2, 2, 2], bins)\n",
    "        pre_url = 'https://download.pytorch.org/models/resnet18-5c106cde.pth'\n",
    "    elif arch == 'ResNet34':\n",
    "        model = L2CS(torchvision.models.resnet.BasicBlock, [3, 4, 6, 3], bins)\n",
    "        pre_url = 'https://download.pytorch.org/models/resnet34-333f7ec4.pth'\n",
    "    elif arch == 'ResNet101':\n",
    "        model = L2CS(torchvision.models.resnet.Bottleneck, [3, 4, 23, 3], bins)\n",
    "        pre_url = 'https://download.pytorch.org/models/resnet101-5d3b4d8f.pth'\n",
    "    elif arch == 'ResNet152':\n",
    "        model = L2CS(torchvision.models.resnet.Bottleneck,[3, 8, 36, 3], bins)\n",
    "        pre_url = 'https://download.pytorch.org/models/resnet152-b121ed2d.pth'\n",
    "    else:\n",
    "        if arch != 'ResNet50':\n",
    "            print('Invalid value for architecture is passed! '\n",
    "                  'The default value of ResNet50 will be used instead!')\n",
    "        model = L2CS(torchvision.models.resnet.Bottleneck, [3, 4, 6, 3], bins)\n",
    "        pre_url = 'https://download.pytorch.org/models/resnet50-19c8e357.pth'\n",
    "\n",
    "    return model, pre_url"
   ]
  },
  {
   "cell_type": "code",
   "execution_count": 8,
   "id": "c1ec3e99",
   "metadata": {},
   "outputs": [],
   "source": [
    "# args = parse_args()\n",
    "cudnn.enabled = True\n",
    "num_epochs = args.num_epochs\n",
    "batch_size = args.batch_size"
   ]
  },
  {
   "cell_type": "code",
   "execution_count": 9,
   "id": "ab31dc88",
   "metadata": {},
   "outputs": [
    {
     "name": "stdout",
     "output_type": "stream",
     "text": [
      "cuda:0\n"
     ]
    }
   ],
   "source": [
    "gpu = select_device(args.gpu_id, batch_size=args.batch_size)\n",
    "print(gpu)"
   ]
  },
  {
   "cell_type": "code",
   "execution_count": 10,
   "id": "8b3beb47",
   "metadata": {},
   "outputs": [],
   "source": [
    "data_set=args.dataset\n",
    "alpha = args.alpha\n",
    "output=args.output\n",
    "\n",
    "transformations = transforms.Compose([\n",
    "    transforms.Resize(448),\n",
    "    transforms.ToTensor(),\n",
    "    transforms.Normalize(\n",
    "        mean=[0.485, 0.456, 0.406],\n",
    "        std=[0.229, 0.224, 0.225]\n",
    "    )\n",
    "])"
   ]
  },
  {
   "cell_type": "code",
   "execution_count": 11,
   "id": "3454be07",
   "metadata": {},
   "outputs": [],
   "source": [
    "def get_now():\n",
    "    now = datetime.utcnow()\n",
    "    now = now.astimezone(timezone('US/Pacific'))\n",
    "    date_format='%m/%d/%Y %H:%M:%S'\n",
    "    now = now.strftime(date_format) \n",
    "    return now"
   ]
  },
  {
   "cell_type": "code",
   "execution_count": null,
   "id": "ea0d4999",
   "metadata": {
    "scrolled": true
   },
   "outputs": [
    {
     "name": "stderr",
     "output_type": "stream",
     "text": [
      "\u001b[34m\u001b[1mwandb\u001b[0m: Currently logged in as: \u001b[33msynthesis-ai\u001b[0m (use `wandb login --relogin` to force relogin)\n"
     ]
    },
    {
     "data": {
      "text/html": [
       "wandb version 0.12.21 is available!  To upgrade, please run:\n",
       " $ pip install wandb --upgrade"
      ],
      "text/plain": [
       "<IPython.core.display.HTML object>"
      ]
     },
     "metadata": {},
     "output_type": "display_data"
    },
    {
     "data": {
      "text/html": [
       "Tracking run with wandb version 0.12.15"
      ],
      "text/plain": [
       "<IPython.core.display.HTML object>"
      ]
     },
     "metadata": {},
     "output_type": "display_data"
    },
    {
     "data": {
      "text/html": [
       "Run data is saved locally in <code>/project/notebooks/wandb/run-20220709_091248-1eg2aifs</code>"
      ],
      "text/plain": [
       "<IPython.core.display.HTML object>"
      ]
     },
     "metadata": {},
     "output_type": "display_data"
    },
    {
     "data": {
      "text/html": [
       "Syncing run <strong><a href=\"https://wandb.ai/synthesis-ai/60_sdata2_training/runs/1eg2aifs\" target=\"_blank\">drawn-jazz-1</a></strong> to <a href=\"https://wandb.ai/synthesis-ai/60_sdata2_training\" target=\"_blank\">Weights & Biases</a> (<a href=\"https://wandb.me/run\" target=\"_blank\">docs</a>)<br/>"
      ],
      "text/plain": [
       "<IPython.core.display.HTML object>"
      ]
     },
     "metadata": {},
     "output_type": "display_data"
    },
    {
     "name": "stdout",
     "output_type": "stream",
     "text": [
      "0 Conv2d(3, 64, kernel_size=(7, 7), stride=(2, 2), padding=(3, 3), bias=False)\n"
     ]
    },
    {
     "name": "stderr",
     "output_type": "stream",
     "text": [
      "Downloading: \"https://download.pytorch.org/models/resnet50-19c8e357.pth\" to /root/.cache/torch/hub/checkpoints/resnet50-19c8e357.pth\n"
     ]
    },
    {
     "data": {
      "application/vnd.jupyter.widget-view+json": {
       "model_id": "25784180888d4862befb7aa3dc059263",
       "version_major": 2,
       "version_minor": 0
      },
      "text/plain": [
       "  0%|          | 0.00/97.8M [00:00<?, ?B/s]"
      ]
     },
     "metadata": {},
     "output_type": "display_data"
    },
    {
     "name": "stdout",
     "output_type": "stream",
     "text": [
      "Loading data.\n",
      "0 items removed from dataset that have an angle > 180\n",
      "fold_path is /project/results/soutput2/snapshots/fold00/ 07/09/2022 02:12:53\n"
     ]
    },
    {
     "name": "stderr",
     "output_type": "stream",
     "text": [
      "/usr/local/lib/python3.8/dist-packages/torch/optim/adam.py:81: UserWarning: optimizer contains a parameter group with duplicate parameters; in future, this will cause an error; see github.com/pytorch/pytorch/issues/40967 for more information\n",
      "  super(Adam, self).__init__(params, defaults)\n"
     ]
    },
    {
     "name": "stdout",
     "output_type": "stream",
     "text": [
      "fold_path is /project/results/soutput2/snapshots/fold00/, epoch = 1, 07/09/2022 02:16:24\n",
      "/project/results/soutput2/snapshots/fold00/epoch_1.pkl\n",
      "Taking snapshot...\n",
      "fold_path is /project/results/soutput2/snapshots/fold00/, epoch = 2, 07/09/2022 02:19:16\n",
      "/project/results/soutput2/snapshots/fold00/epoch_2.pkl\n",
      "Taking snapshot...\n",
      "fold_path is /project/results/soutput2/snapshots/fold00/, epoch = 3, 07/09/2022 02:22:11\n",
      "/project/results/soutput2/snapshots/fold00/epoch_3.pkl\n",
      "Taking snapshot...\n",
      "fold_path is /project/results/soutput2/snapshots/fold00/, epoch = 4, 07/09/2022 02:25:05\n",
      "/project/results/soutput2/snapshots/fold00/epoch_4.pkl\n",
      "Taking snapshot...\n",
      "fold_path is /project/results/soutput2/snapshots/fold00/, epoch = 5, 07/09/2022 02:27:58\n",
      "/project/results/soutput2/snapshots/fold00/epoch_5.pkl\n",
      "Taking snapshot...\n",
      "fold_path is /project/results/soutput2/snapshots/fold00/, epoch = 6, 07/09/2022 02:30:51\n",
      "/project/results/soutput2/snapshots/fold00/epoch_6.pkl\n",
      "Taking snapshot...\n",
      "fold_path is /project/results/soutput2/snapshots/fold00/, epoch = 8, 07/09/2022 02:36:40\n",
      "/project/results/soutput2/snapshots/fold00/epoch_8.pkl\n",
      "Taking snapshot...\n",
      "fold_path is /project/results/soutput2/snapshots/fold00/, epoch = 9, 07/09/2022 02:39:34\n",
      "/project/results/soutput2/snapshots/fold00/epoch_9.pkl\n",
      "Taking snapshot...\n",
      "fold_path is /project/results/soutput2/snapshots/fold00/, epoch = 10, 07/09/2022 02:42:27\n",
      "/project/results/soutput2/snapshots/fold00/epoch_10.pkl\n",
      "Taking snapshot...\n",
      "fold_path is /project/results/soutput2/snapshots/fold00/, epoch = 11, 07/09/2022 02:45:23\n",
      "/project/results/soutput2/snapshots/fold00/epoch_11.pkl\n",
      "Taking snapshot...\n",
      "fold_path is /project/results/soutput2/snapshots/fold00/, epoch = 12, 07/09/2022 02:48:17\n",
      "/project/results/soutput2/snapshots/fold00/epoch_12.pkl\n",
      "Taking snapshot...\n",
      "fold_path is /project/results/soutput2/snapshots/fold00/, epoch = 13, 07/09/2022 02:51:10\n",
      "/project/results/soutput2/snapshots/fold00/epoch_13.pkl\n",
      "Taking snapshot...\n",
      "fold_path is /project/results/soutput2/snapshots/fold00/, epoch = 14, 07/09/2022 02:54:05\n",
      "/project/results/soutput2/snapshots/fold00/epoch_14.pkl\n",
      "Taking snapshot...\n",
      "fold_path is /project/results/soutput2/snapshots/fold00/, epoch = 15, 07/09/2022 02:56:59\n",
      "/project/results/soutput2/snapshots/fold00/epoch_15.pkl\n",
      "Taking snapshot...\n",
      "fold_path is /project/results/soutput2/snapshots/fold00/, epoch = 16, 07/09/2022 02:59:53\n",
      "/project/results/soutput2/snapshots/fold00/epoch_16.pkl\n",
      "Taking snapshot...\n",
      "fold_path is /project/results/soutput2/snapshots/fold00/, epoch = 17, 07/09/2022 03:02:46\n",
      "/project/results/soutput2/snapshots/fold00/epoch_17.pkl\n",
      "Taking snapshot...\n",
      "fold_path is /project/results/soutput2/snapshots/fold00/, epoch = 18, 07/09/2022 03:05:39\n",
      "/project/results/soutput2/snapshots/fold00/epoch_18.pkl\n",
      "Taking snapshot...\n",
      "fold_path is /project/results/soutput2/snapshots/fold00/, epoch = 20, 07/09/2022 03:11:29\n",
      "/project/results/soutput2/snapshots/fold00/epoch_20.pkl\n",
      "Taking snapshot...\n",
      "fold_path is /project/results/soutput2/snapshots/fold00/, epoch = 21, 07/09/2022 03:14:26\n",
      "/project/results/soutput2/snapshots/fold00/epoch_21.pkl\n",
      "Taking snapshot...\n",
      "fold_path is /project/results/soutput2/snapshots/fold00/, epoch = 22, 07/09/2022 03:17:21\n",
      "/project/results/soutput2/snapshots/fold00/epoch_22.pkl\n",
      "Taking snapshot...\n",
      "fold_path is /project/results/soutput2/snapshots/fold00/, epoch = 23, 07/09/2022 03:20:14\n",
      "/project/results/soutput2/snapshots/fold00/epoch_23.pkl\n",
      "Taking snapshot...\n",
      "fold_path is /project/results/soutput2/snapshots/fold00/, epoch = 24, 07/09/2022 03:23:10\n",
      "/project/results/soutput2/snapshots/fold00/epoch_24.pkl\n",
      "Taking snapshot...\n",
      "fold_path is /project/results/soutput2/snapshots/fold00/, epoch = 25, 07/09/2022 03:26:05\n",
      "/project/results/soutput2/snapshots/fold00/epoch_25.pkl\n",
      "Taking snapshot...\n",
      "fold_path is /project/results/soutput2/snapshots/fold00/, epoch = 26, 07/09/2022 03:28:58\n",
      "/project/results/soutput2/snapshots/fold00/epoch_26.pkl\n",
      "Taking snapshot...\n",
      "fold_path is /project/results/soutput2/snapshots/fold00/, epoch = 27, 07/09/2022 03:31:53\n",
      "/project/results/soutput2/snapshots/fold00/epoch_27.pkl\n",
      "Taking snapshot...\n",
      "fold_path is /project/results/soutput2/snapshots/fold00/, epoch = 28, 07/09/2022 03:34:48\n",
      "/project/results/soutput2/snapshots/fold00/epoch_28.pkl\n",
      "Taking snapshot...\n",
      "fold_path is /project/results/soutput2/snapshots/fold00/, epoch = 29, 07/09/2022 03:37:43\n",
      "/project/results/soutput2/snapshots/fold00/epoch_29.pkl\n",
      "Taking snapshot...\n",
      "fold_path is /project/results/soutput2/snapshots/fold00/, epoch = 31, 07/09/2022 03:43:33\n",
      "/project/results/soutput2/snapshots/fold00/epoch_31.pkl\n",
      "Taking snapshot...\n",
      "fold_path is /project/results/soutput2/snapshots/fold00/, epoch = 32, 07/09/2022 03:46:28\n",
      "/project/results/soutput2/snapshots/fold00/epoch_32.pkl\n",
      "Taking snapshot...\n",
      "fold_path is /project/results/soutput2/snapshots/fold00/, epoch = 33, 07/09/2022 03:49:23\n",
      "/project/results/soutput2/snapshots/fold00/epoch_33.pkl\n",
      "Taking snapshot...\n",
      "fold_path is /project/results/soutput2/snapshots/fold00/, epoch = 34, 07/09/2022 03:52:17\n",
      "/project/results/soutput2/snapshots/fold00/epoch_34.pkl\n",
      "Taking snapshot...\n",
      "fold_path is /project/results/soutput2/snapshots/fold00/, epoch = 35, 07/09/2022 03:55:12\n",
      "/project/results/soutput2/snapshots/fold00/epoch_35.pkl\n",
      "Taking snapshot...\n",
      "fold_path is /project/results/soutput2/snapshots/fold00/, epoch = 37, 07/09/2022 04:01:02\n",
      "/project/results/soutput2/snapshots/fold00/epoch_37.pkl\n",
      "Taking snapshot...\n",
      "fold_path is /project/results/soutput2/snapshots/fold00/, epoch = 38, 07/09/2022 04:03:57\n",
      "/project/results/soutput2/snapshots/fold00/epoch_38.pkl\n",
      "Taking snapshot...\n",
      "fold_path is /project/results/soutput2/snapshots/fold00/, epoch = 39, 07/09/2022 04:06:52\n",
      "/project/results/soutput2/snapshots/fold00/epoch_39.pkl\n",
      "Taking snapshot...\n",
      "fold_path is /project/results/soutput2/snapshots/fold00/, epoch = 40, 07/09/2022 04:09:45\n",
      "/project/results/soutput2/snapshots/fold00/epoch_40.pkl\n",
      "Taking snapshot...\n",
      "fold_path is /project/results/soutput2/snapshots/fold00/, epoch = 41, 07/09/2022 04:12:40\n",
      "/project/results/soutput2/snapshots/fold00/epoch_41.pkl\n",
      "Taking snapshot...\n",
      "fold_path is /project/results/soutput2/snapshots/fold00/, epoch = 42, 07/09/2022 04:15:36\n",
      "/project/results/soutput2/snapshots/fold00/epoch_42.pkl\n",
      "Taking snapshot...\n",
      "fold_path is /project/results/soutput2/snapshots/fold00/, epoch = 43, 07/09/2022 04:18:32\n",
      "/project/results/soutput2/snapshots/fold00/epoch_43.pkl\n",
      "Taking snapshot...\n",
      "fold_path is /project/results/soutput2/snapshots/fold00/, epoch = 44, 07/09/2022 04:21:26\n",
      "/project/results/soutput2/snapshots/fold00/epoch_44.pkl\n",
      "Taking snapshot...\n",
      "fold_path is /project/results/soutput2/snapshots/fold00/, epoch = 45, 07/09/2022 04:24:19\n",
      "/project/results/soutput2/snapshots/fold00/epoch_45.pkl\n",
      "Taking snapshot...\n",
      "fold_path is /project/results/soutput2/snapshots/fold00/, epoch = 46, 07/09/2022 04:27:13\n",
      "/project/results/soutput2/snapshots/fold00/epoch_46.pkl\n",
      "Taking snapshot...\n",
      "fold_path is /project/results/soutput2/snapshots/fold00/, epoch = 47, 07/09/2022 04:30:07\n",
      "/project/results/soutput2/snapshots/fold00/epoch_47.pkl\n",
      "Taking snapshot...\n",
      "fold_path is /project/results/soutput2/snapshots/fold00/, epoch = 48, 07/09/2022 04:33:01\n",
      "/project/results/soutput2/snapshots/fold00/epoch_48.pkl\n",
      "Taking snapshot...\n",
      "fold_path is /project/results/soutput2/snapshots/fold00/, epoch = 49, 07/09/2022 04:35:54\n",
      "/project/results/soutput2/snapshots/fold00/epoch_49.pkl\n",
      "Taking snapshot...\n",
      "fold_path is /project/results/soutput2/snapshots/fold00/, epoch = 50, 07/09/2022 04:38:49\n",
      "/project/results/soutput2/snapshots/fold00/epoch_50.pkl\n",
      "Taking snapshot...\n",
      "fold_path is /project/results/soutput2/snapshots/fold00/, epoch = 51, 07/09/2022 04:41:43\n",
      "/project/results/soutput2/snapshots/fold00/epoch_51.pkl\n",
      "Taking snapshot...\n",
      "fold_path is /project/results/soutput2/snapshots/fold00/, epoch = 52, 07/09/2022 04:44:37\n",
      "/project/results/soutput2/snapshots/fold00/epoch_52.pkl\n",
      "Taking snapshot...\n",
      "fold_path is /project/results/soutput2/snapshots/fold00/, epoch = 53, 07/09/2022 04:47:31\n",
      "/project/results/soutput2/snapshots/fold00/epoch_53.pkl\n",
      "Taking snapshot...\n",
      "fold_path is /project/results/soutput2/snapshots/fold00/, epoch = 54, 07/09/2022 04:50:25\n",
      "/project/results/soutput2/snapshots/fold00/epoch_54.pkl\n",
      "Taking snapshot...\n"
     ]
    },
    {
     "name": "stdout",
     "output_type": "stream",
     "text": [
      "fold_path is /project/results/soutput2/snapshots/fold00/, epoch = 55, 07/09/2022 04:53:17\n",
      "/project/results/soutput2/snapshots/fold00/epoch_55.pkl\n",
      "Taking snapshot...\n",
      "fold_path is /project/results/soutput2/snapshots/fold00/, epoch = 56, 07/09/2022 04:56:11\n",
      "/project/results/soutput2/snapshots/fold00/epoch_56.pkl\n",
      "Taking snapshot...\n",
      "fold_path is /project/results/soutput2/snapshots/fold00/, epoch = 57, 07/09/2022 04:59:04\n",
      "/project/results/soutput2/snapshots/fold00/epoch_57.pkl\n",
      "Taking snapshot...\n",
      "fold_path is /project/results/soutput2/snapshots/fold00/, epoch = 58, 07/09/2022 05:01:57\n",
      "/project/results/soutput2/snapshots/fold00/epoch_58.pkl\n",
      "Taking snapshot...\n",
      "fold_path is /project/results/soutput2/snapshots/fold00/, epoch = 59, 07/09/2022 05:04:52\n",
      "/project/results/soutput2/snapshots/fold00/epoch_59.pkl\n",
      "Taking snapshot...\n",
      "fold_path is /project/results/soutput2/snapshots/fold00/, epoch = 60, 07/09/2022 05:07:45\n",
      "/project/results/soutput2/snapshots/fold00/epoch_60.pkl\n",
      "Taking snapshot...\n"
     ]
    },
    {
     "data": {
      "text/html": [
       "Waiting for W&B process to finish... <strong style=\"color:green\">(success).</strong>"
      ],
      "text/plain": [
       "<IPython.core.display.HTML object>"
      ]
     },
     "metadata": {},
     "output_type": "display_data"
    },
    {
     "data": {
      "application/vnd.jupyter.widget-view+json": {
       "model_id": "",
       "version_major": 2,
       "version_minor": 0
      },
      "text/plain": [
       "VBox(children=(Label(value='0.001 MB of 0.001 MB uploaded (0.000 MB deduped)\\r'), FloatProgress(value=1.0, max…"
      ]
     },
     "metadata": {},
     "output_type": "display_data"
    },
    {
     "data": {
      "text/html": [
       "Synced <strong style=\"color:#cdcd00\">drawn-jazz-1</strong>: <a href=\"https://wandb.ai/synthesis-ai/60_sdata2_training/runs/1eg2aifs\" target=\"_blank\">https://wandb.ai/synthesis-ai/60_sdata2_training/runs/1eg2aifs</a><br/>Synced 5 W&B file(s), 0 media file(s), 0 artifact file(s) and 0 other file(s)"
      ],
      "text/plain": [
       "<IPython.core.display.HTML object>"
      ]
     },
     "metadata": {},
     "output_type": "display_data"
    },
    {
     "data": {
      "text/html": [
       "Find logs at: <code>./wandb/run-20220709_091248-1eg2aifs/logs</code>"
      ],
      "text/plain": [
       "<IPython.core.display.HTML object>"
      ]
     },
     "metadata": {},
     "output_type": "display_data"
    },
    {
     "data": {
      "text/html": [
       "wandb version 0.12.21 is available!  To upgrade, please run:\n",
       " $ pip install wandb --upgrade"
      ],
      "text/plain": [
       "<IPython.core.display.HTML object>"
      ]
     },
     "metadata": {},
     "output_type": "display_data"
    },
    {
     "data": {
      "text/html": [
       "Tracking run with wandb version 0.12.15"
      ],
      "text/plain": [
       "<IPython.core.display.HTML object>"
      ]
     },
     "metadata": {},
     "output_type": "display_data"
    },
    {
     "data": {
      "text/html": [
       "Run data is saved locally in <code>/project/notebooks/wandb/run-20220709_120751-1bo51orw</code>"
      ],
      "text/plain": [
       "<IPython.core.display.HTML object>"
      ]
     },
     "metadata": {},
     "output_type": "display_data"
    },
    {
     "data": {
      "text/html": [
       "Syncing run <strong><a href=\"https://wandb.ai/synthesis-ai/60_sdata2_training/runs/1bo51orw\" target=\"_blank\">helpful-sun-2</a></strong> to <a href=\"https://wandb.ai/synthesis-ai/60_sdata2_training\" target=\"_blank\">Weights & Biases</a> (<a href=\"https://wandb.me/run\" target=\"_blank\">docs</a>)<br/>"
      ],
      "text/plain": [
       "<IPython.core.display.HTML object>"
      ]
     },
     "metadata": {},
     "output_type": "display_data"
    },
    {
     "name": "stdout",
     "output_type": "stream",
     "text": [
      "1 Conv2d(3, 64, kernel_size=(7, 7), stride=(2, 2), padding=(3, 3), bias=False)\n",
      "Loading data.\n",
      "0 items removed from dataset that have an angle > 180\n",
      "fold_path is /project/results/soutput2/snapshots/fold01/ 07/09/2022 05:07:56\n",
      "fold_path is /project/results/soutput2/snapshots/fold01/, epoch = 1, 07/09/2022 05:10:51\n",
      "/project/results/soutput2/snapshots/fold01/epoch_1.pkl\n",
      "Taking snapshot...\n",
      "fold_path is /project/results/soutput2/snapshots/fold01/, epoch = 2, 07/09/2022 05:13:45\n",
      "/project/results/soutput2/snapshots/fold01/epoch_2.pkl\n",
      "Taking snapshot...\n",
      "fold_path is /project/results/soutput2/snapshots/fold01/, epoch = 3, 07/09/2022 05:16:39\n",
      "/project/results/soutput2/snapshots/fold01/epoch_3.pkl\n",
      "Taking snapshot...\n",
      "fold_path is /project/results/soutput2/snapshots/fold01/, epoch = 4, 07/09/2022 05:19:34\n",
      "/project/results/soutput2/snapshots/fold01/epoch_4.pkl\n",
      "Taking snapshot...\n",
      "fold_path is /project/results/soutput2/snapshots/fold01/, epoch = 5, 07/09/2022 05:22:30\n",
      "/project/results/soutput2/snapshots/fold01/epoch_5.pkl\n",
      "Taking snapshot...\n",
      "fold_path is /project/results/soutput2/snapshots/fold01/, epoch = 7, 07/09/2022 05:28:20\n",
      "/project/results/soutput2/snapshots/fold01/epoch_7.pkl\n",
      "Taking snapshot...\n",
      "fold_path is /project/results/soutput2/snapshots/fold01/, epoch = 8, 07/09/2022 05:31:14\n",
      "/project/results/soutput2/snapshots/fold01/epoch_8.pkl\n",
      "Taking snapshot...\n",
      "fold_path is /project/results/soutput2/snapshots/fold01/, epoch = 9, 07/09/2022 05:34:10\n",
      "/project/results/soutput2/snapshots/fold01/epoch_9.pkl\n",
      "Taking snapshot...\n",
      "fold_path is /project/results/soutput2/snapshots/fold01/, epoch = 10, 07/09/2022 05:37:04\n",
      "/project/results/soutput2/snapshots/fold01/epoch_10.pkl\n",
      "Taking snapshot...\n",
      "fold_path is /project/results/soutput2/snapshots/fold01/, epoch = 11, 07/09/2022 05:39:59\n",
      "/project/results/soutput2/snapshots/fold01/epoch_11.pkl\n",
      "Taking snapshot...\n",
      "fold_path is /project/results/soutput2/snapshots/fold01/, epoch = 12, 07/09/2022 05:42:54\n",
      "/project/results/soutput2/snapshots/fold01/epoch_12.pkl\n",
      "Taking snapshot...\n",
      "fold_path is /project/results/soutput2/snapshots/fold01/, epoch = 13, 07/09/2022 05:45:48\n",
      "/project/results/soutput2/snapshots/fold01/epoch_13.pkl\n",
      "Taking snapshot...\n",
      "fold_path is /project/results/soutput2/snapshots/fold01/, epoch = 14, 07/09/2022 05:48:44\n",
      "/project/results/soutput2/snapshots/fold01/epoch_14.pkl\n",
      "Taking snapshot...\n",
      "fold_path is /project/results/soutput2/snapshots/fold01/, epoch = 15, 07/09/2022 05:51:40\n",
      "/project/results/soutput2/snapshots/fold01/epoch_15.pkl\n",
      "Taking snapshot...\n",
      "fold_path is /project/results/soutput2/snapshots/fold01/, epoch = 16, 07/09/2022 05:54:34\n",
      "/project/results/soutput2/snapshots/fold01/epoch_16.pkl\n",
      "Taking snapshot...\n",
      "fold_path is /project/results/soutput2/snapshots/fold01/, epoch = 17, 07/09/2022 05:57:29\n",
      "/project/results/soutput2/snapshots/fold01/epoch_17.pkl\n",
      "Taking snapshot...\n",
      "fold_path is /project/results/soutput2/snapshots/fold01/, epoch = 18, 07/09/2022 06:00:24\n",
      "/project/results/soutput2/snapshots/fold01/epoch_18.pkl\n",
      "Taking snapshot...\n",
      "fold_path is /project/results/soutput2/snapshots/fold01/, epoch = 19, 07/09/2022 06:03:18\n",
      "/project/results/soutput2/snapshots/fold01/epoch_19.pkl\n",
      "Taking snapshot...\n",
      "fold_path is /project/results/soutput2/snapshots/fold01/, epoch = 20, 07/09/2022 06:06:12\n",
      "/project/results/soutput2/snapshots/fold01/epoch_20.pkl\n",
      "Taking snapshot...\n",
      "fold_path is /project/results/soutput2/snapshots/fold01/, epoch = 21, 07/09/2022 06:09:06\n",
      "/project/results/soutput2/snapshots/fold01/epoch_21.pkl\n",
      "Taking snapshot...\n",
      "fold_path is /project/results/soutput2/snapshots/fold01/, epoch = 22, 07/09/2022 06:12:01\n",
      "/project/results/soutput2/snapshots/fold01/epoch_22.pkl\n",
      "Taking snapshot...\n",
      "fold_path is /project/results/soutput2/snapshots/fold01/, epoch = 23, 07/09/2022 06:14:56\n",
      "/project/results/soutput2/snapshots/fold01/epoch_23.pkl\n",
      "Taking snapshot...\n",
      "fold_path is /project/results/soutput2/snapshots/fold01/, epoch = 24, 07/09/2022 06:17:50\n",
      "/project/results/soutput2/snapshots/fold01/epoch_24.pkl\n",
      "Taking snapshot...\n",
      "fold_path is /project/results/soutput2/snapshots/fold01/, epoch = 25, 07/09/2022 06:20:45\n",
      "/project/results/soutput2/snapshots/fold01/epoch_25.pkl\n",
      "Taking snapshot...\n",
      "fold_path is /project/results/soutput2/snapshots/fold01/, epoch = 26, 07/09/2022 06:23:41\n",
      "/project/results/soutput2/snapshots/fold01/epoch_26.pkl\n",
      "Taking snapshot...\n",
      "fold_path is /project/results/soutput2/snapshots/fold01/, epoch = 28, 07/09/2022 06:29:29\n",
      "/project/results/soutput2/snapshots/fold01/epoch_28.pkl\n",
      "Taking snapshot...\n",
      "fold_path is /project/results/soutput2/snapshots/fold01/, epoch = 29, 07/09/2022 06:32:22\n",
      "/project/results/soutput2/snapshots/fold01/epoch_29.pkl\n",
      "Taking snapshot...\n",
      "fold_path is /project/results/soutput2/snapshots/fold01/, epoch = 30, 07/09/2022 06:35:16\n",
      "/project/results/soutput2/snapshots/fold01/epoch_30.pkl\n",
      "Taking snapshot...\n",
      "fold_path is /project/results/soutput2/snapshots/fold01/, epoch = 31, 07/09/2022 06:38:12\n",
      "/project/results/soutput2/snapshots/fold01/epoch_31.pkl\n",
      "Taking snapshot...\n",
      "fold_path is /project/results/soutput2/snapshots/fold01/, epoch = 32, 07/09/2022 06:41:06\n",
      "/project/results/soutput2/snapshots/fold01/epoch_32.pkl\n",
      "Taking snapshot...\n",
      "fold_path is /project/results/soutput2/snapshots/fold01/, epoch = 33, 07/09/2022 06:44:02\n",
      "/project/results/soutput2/snapshots/fold01/epoch_33.pkl\n",
      "Taking snapshot...\n",
      "fold_path is /project/results/soutput2/snapshots/fold01/, epoch = 34, 07/09/2022 06:46:57\n",
      "/project/results/soutput2/snapshots/fold01/epoch_34.pkl\n",
      "Taking snapshot...\n",
      "fold_path is /project/results/soutput2/snapshots/fold01/, epoch = 35, 07/09/2022 06:49:51\n",
      "/project/results/soutput2/snapshots/fold01/epoch_35.pkl\n",
      "Taking snapshot...\n",
      "fold_path is /project/results/soutput2/snapshots/fold01/, epoch = 36, 07/09/2022 06:52:46\n",
      "/project/results/soutput2/snapshots/fold01/epoch_36.pkl\n",
      "Taking snapshot...\n",
      "fold_path is /project/results/soutput2/snapshots/fold01/, epoch = 37, 07/09/2022 06:55:41\n",
      "/project/results/soutput2/snapshots/fold01/epoch_37.pkl\n",
      "Taking snapshot...\n",
      "fold_path is /project/results/soutput2/snapshots/fold01/, epoch = 38, 07/09/2022 06:58:36\n",
      "/project/results/soutput2/snapshots/fold01/epoch_38.pkl\n",
      "Taking snapshot...\n",
      "fold_path is /project/results/soutput2/snapshots/fold01/, epoch = 39, 07/09/2022 07:01:30\n",
      "/project/results/soutput2/snapshots/fold01/epoch_39.pkl\n",
      "Taking snapshot...\n",
      "fold_path is /project/results/soutput2/snapshots/fold01/, epoch = 40, 07/09/2022 07:04:26\n",
      "/project/results/soutput2/snapshots/fold01/epoch_40.pkl\n",
      "Taking snapshot...\n",
      "fold_path is /project/results/soutput2/snapshots/fold01/, epoch = 41, 07/09/2022 07:07:20\n",
      "/project/results/soutput2/snapshots/fold01/epoch_41.pkl\n",
      "Taking snapshot...\n",
      "fold_path is /project/results/soutput2/snapshots/fold01/, epoch = 42, 07/09/2022 07:10:16\n",
      "/project/results/soutput2/snapshots/fold01/epoch_42.pkl\n",
      "Taking snapshot...\n",
      "fold_path is /project/results/soutput2/snapshots/fold01/, epoch = 43, 07/09/2022 07:13:12\n",
      "/project/results/soutput2/snapshots/fold01/epoch_43.pkl\n",
      "Taking snapshot...\n",
      "fold_path is /project/results/soutput2/snapshots/fold01/, epoch = 44, 07/09/2022 07:16:07\n",
      "/project/results/soutput2/snapshots/fold01/epoch_44.pkl\n",
      "Taking snapshot...\n",
      "fold_path is /project/results/soutput2/snapshots/fold01/, epoch = 45, 07/09/2022 07:19:02\n",
      "/project/results/soutput2/snapshots/fold01/epoch_45.pkl\n",
      "Taking snapshot...\n",
      "fold_path is /project/results/soutput2/snapshots/fold01/, epoch = 46, 07/09/2022 07:21:56\n",
      "/project/results/soutput2/snapshots/fold01/epoch_46.pkl\n",
      "Taking snapshot...\n",
      "fold_path is /project/results/soutput2/snapshots/fold01/, epoch = 48, 07/09/2022 07:27:45\n",
      "/project/results/soutput2/snapshots/fold01/epoch_48.pkl\n",
      "Taking snapshot...\n",
      "fold_path is /project/results/soutput2/snapshots/fold01/, epoch = 49, 07/09/2022 07:30:40\n",
      "/project/results/soutput2/snapshots/fold01/epoch_49.pkl\n",
      "Taking snapshot...\n",
      "fold_path is /project/results/soutput2/snapshots/fold01/, epoch = 50, 07/09/2022 07:33:35\n",
      "/project/results/soutput2/snapshots/fold01/epoch_50.pkl\n",
      "Taking snapshot...\n",
      "fold_path is /project/results/soutput2/snapshots/fold01/, epoch = 51, 07/09/2022 07:36:29\n",
      "/project/results/soutput2/snapshots/fold01/epoch_51.pkl\n",
      "Taking snapshot...\n",
      "fold_path is /project/results/soutput2/snapshots/fold01/, epoch = 52, 07/09/2022 07:39:25\n",
      "/project/results/soutput2/snapshots/fold01/epoch_52.pkl\n",
      "Taking snapshot...\n"
     ]
    },
    {
     "name": "stdout",
     "output_type": "stream",
     "text": [
      "fold_path is /project/results/soutput2/snapshots/fold01/, epoch = 53, 07/09/2022 07:42:21\n",
      "/project/results/soutput2/snapshots/fold01/epoch_53.pkl\n",
      "Taking snapshot...\n",
      "fold_path is /project/results/soutput2/snapshots/fold01/, epoch = 54, 07/09/2022 07:45:15\n",
      "/project/results/soutput2/snapshots/fold01/epoch_54.pkl\n",
      "Taking snapshot...\n",
      "fold_path is /project/results/soutput2/snapshots/fold01/, epoch = 55, 07/09/2022 07:48:10\n",
      "/project/results/soutput2/snapshots/fold01/epoch_55.pkl\n",
      "Taking snapshot...\n",
      "fold_path is /project/results/soutput2/snapshots/fold01/, epoch = 56, 07/09/2022 07:51:05\n",
      "/project/results/soutput2/snapshots/fold01/epoch_56.pkl\n",
      "Taking snapshot...\n",
      "fold_path is /project/results/soutput2/snapshots/fold01/, epoch = 57, 07/09/2022 07:54:01\n",
      "/project/results/soutput2/snapshots/fold01/epoch_57.pkl\n",
      "Taking snapshot...\n",
      "fold_path is /project/results/soutput2/snapshots/fold01/, epoch = 58, 07/09/2022 07:56:55\n",
      "/project/results/soutput2/snapshots/fold01/epoch_58.pkl\n",
      "Taking snapshot...\n",
      "fold_path is /project/results/soutput2/snapshots/fold01/, epoch = 59, 07/09/2022 07:59:51\n",
      "/project/results/soutput2/snapshots/fold01/epoch_59.pkl\n",
      "Taking snapshot...\n",
      "fold_path is /project/results/soutput2/snapshots/fold01/, epoch = 60, 07/09/2022 08:02:45\n",
      "/project/results/soutput2/snapshots/fold01/epoch_60.pkl\n",
      "Taking snapshot...\n"
     ]
    },
    {
     "data": {
      "text/html": [
       "Waiting for W&B process to finish... <strong style=\"color:green\">(success).</strong>"
      ],
      "text/plain": [
       "<IPython.core.display.HTML object>"
      ]
     },
     "metadata": {},
     "output_type": "display_data"
    },
    {
     "data": {
      "application/vnd.jupyter.widget-view+json": {
       "model_id": "",
       "version_major": 2,
       "version_minor": 0
      },
      "text/plain": [
       "VBox(children=(Label(value='0.001 MB of 0.001 MB uploaded (0.000 MB deduped)\\r'), FloatProgress(value=1.0, max…"
      ]
     },
     "metadata": {},
     "output_type": "display_data"
    },
    {
     "data": {
      "text/html": [
       "Synced <strong style=\"color:#cdcd00\">helpful-sun-2</strong>: <a href=\"https://wandb.ai/synthesis-ai/60_sdata2_training/runs/1bo51orw\" target=\"_blank\">https://wandb.ai/synthesis-ai/60_sdata2_training/runs/1bo51orw</a><br/>Synced 5 W&B file(s), 0 media file(s), 0 artifact file(s) and 0 other file(s)"
      ],
      "text/plain": [
       "<IPython.core.display.HTML object>"
      ]
     },
     "metadata": {},
     "output_type": "display_data"
    },
    {
     "data": {
      "text/html": [
       "Find logs at: <code>./wandb/run-20220709_120751-1bo51orw/logs</code>"
      ],
      "text/plain": [
       "<IPython.core.display.HTML object>"
      ]
     },
     "metadata": {},
     "output_type": "display_data"
    },
    {
     "data": {
      "text/html": [
       "wandb version 0.12.21 is available!  To upgrade, please run:\n",
       " $ pip install wandb --upgrade"
      ],
      "text/plain": [
       "<IPython.core.display.HTML object>"
      ]
     },
     "metadata": {},
     "output_type": "display_data"
    },
    {
     "data": {
      "text/html": [
       "Tracking run with wandb version 0.12.15"
      ],
      "text/plain": [
       "<IPython.core.display.HTML object>"
      ]
     },
     "metadata": {},
     "output_type": "display_data"
    },
    {
     "data": {
      "text/html": [
       "Run data is saved locally in <code>/project/notebooks/wandb/run-20220709_150250-1jwss26r</code>"
      ],
      "text/plain": [
       "<IPython.core.display.HTML object>"
      ]
     },
     "metadata": {},
     "output_type": "display_data"
    },
    {
     "data": {
      "text/html": [
       "Syncing run <strong><a href=\"https://wandb.ai/synthesis-ai/60_sdata2_training/runs/1jwss26r\" target=\"_blank\">different-gorge-3</a></strong> to <a href=\"https://wandb.ai/synthesis-ai/60_sdata2_training\" target=\"_blank\">Weights & Biases</a> (<a href=\"https://wandb.me/run\" target=\"_blank\">docs</a>)<br/>"
      ],
      "text/plain": [
       "<IPython.core.display.HTML object>"
      ]
     },
     "metadata": {},
     "output_type": "display_data"
    },
    {
     "name": "stdout",
     "output_type": "stream",
     "text": [
      "2 Conv2d(3, 64, kernel_size=(7, 7), stride=(2, 2), padding=(3, 3), bias=False)\n",
      "Loading data.\n",
      "0 items removed from dataset that have an angle > 180\n",
      "fold_path is /project/results/soutput2/snapshots/fold02/ 07/09/2022 08:02:54\n",
      "fold_path is /project/results/soutput2/snapshots/fold02/, epoch = 1, 07/09/2022 08:05:48\n",
      "/project/results/soutput2/snapshots/fold02/epoch_1.pkl\n",
      "Taking snapshot...\n",
      "fold_path is /project/results/soutput2/snapshots/fold02/, epoch = 2, 07/09/2022 08:08:44\n",
      "/project/results/soutput2/snapshots/fold02/epoch_2.pkl\n",
      "Taking snapshot...\n",
      "fold_path is /project/results/soutput2/snapshots/fold02/, epoch = 3, 07/09/2022 08:11:39\n",
      "/project/results/soutput2/snapshots/fold02/epoch_3.pkl\n",
      "Taking snapshot...\n",
      "fold_path is /project/results/soutput2/snapshots/fold02/, epoch = 4, 07/09/2022 08:14:34\n",
      "/project/results/soutput2/snapshots/fold02/epoch_4.pkl\n",
      "Taking snapshot...\n",
      "fold_path is /project/results/soutput2/snapshots/fold02/, epoch = 5, 07/09/2022 08:17:29\n",
      "/project/results/soutput2/snapshots/fold02/epoch_5.pkl\n",
      "Taking snapshot...\n",
      "fold_path is /project/results/soutput2/snapshots/fold02/, epoch = 6, 07/09/2022 08:20:22\n",
      "/project/results/soutput2/snapshots/fold02/epoch_6.pkl\n",
      "Taking snapshot...\n",
      "fold_path is /project/results/soutput2/snapshots/fold02/, epoch = 8, 07/09/2022 08:26:09\n",
      "/project/results/soutput2/snapshots/fold02/epoch_8.pkl\n",
      "Taking snapshot...\n",
      "fold_path is /project/results/soutput2/snapshots/fold02/, epoch = 9, 07/09/2022 08:29:06\n",
      "/project/results/soutput2/snapshots/fold02/epoch_9.pkl\n",
      "Taking snapshot...\n",
      "fold_path is /project/results/soutput2/snapshots/fold02/, epoch = 10, 07/09/2022 08:32:00\n",
      "/project/results/soutput2/snapshots/fold02/epoch_10.pkl\n",
      "Taking snapshot...\n",
      "fold_path is /project/results/soutput2/snapshots/fold02/, epoch = 11, 07/09/2022 08:34:55\n",
      "/project/results/soutput2/snapshots/fold02/epoch_11.pkl\n",
      "Taking snapshot...\n",
      "fold_path is /project/results/soutput2/snapshots/fold02/, epoch = 12, 07/09/2022 08:37:50\n",
      "/project/results/soutput2/snapshots/fold02/epoch_12.pkl\n",
      "Taking snapshot...\n",
      "fold_path is /project/results/soutput2/snapshots/fold02/, epoch = 13, 07/09/2022 08:40:44\n",
      "/project/results/soutput2/snapshots/fold02/epoch_13.pkl\n",
      "Taking snapshot...\n",
      "fold_path is /project/results/soutput2/snapshots/fold02/, epoch = 14, 07/09/2022 08:43:38\n",
      "/project/results/soutput2/snapshots/fold02/epoch_14.pkl\n",
      "Taking snapshot...\n",
      "fold_path is /project/results/soutput2/snapshots/fold02/, epoch = 15, 07/09/2022 08:46:34\n",
      "/project/results/soutput2/snapshots/fold02/epoch_15.pkl\n",
      "Taking snapshot...\n",
      "fold_path is /project/results/soutput2/snapshots/fold02/, epoch = 16, 07/09/2022 08:49:28\n",
      "/project/results/soutput2/snapshots/fold02/epoch_16.pkl\n",
      "Taking snapshot...\n",
      "fold_path is /project/results/soutput2/snapshots/fold02/, epoch = 17, 07/09/2022 08:52:21\n",
      "/project/results/soutput2/snapshots/fold02/epoch_17.pkl\n",
      "Taking snapshot...\n",
      "fold_path is /project/results/soutput2/snapshots/fold02/, epoch = 18, 07/09/2022 08:55:15\n",
      "/project/results/soutput2/snapshots/fold02/epoch_18.pkl\n",
      "Taking snapshot...\n",
      "fold_path is /project/results/soutput2/snapshots/fold02/, epoch = 19, 07/09/2022 08:58:10\n",
      "/project/results/soutput2/snapshots/fold02/epoch_19.pkl\n",
      "Taking snapshot...\n",
      "fold_path is /project/results/soutput2/snapshots/fold02/, epoch = 20, 07/09/2022 09:01:05\n",
      "/project/results/soutput2/snapshots/fold02/epoch_20.pkl\n",
      "Taking snapshot...\n",
      "fold_path is /project/results/soutput2/snapshots/fold02/, epoch = 21, 07/09/2022 09:03:57\n",
      "/project/results/soutput2/snapshots/fold02/epoch_21.pkl\n",
      "Taking snapshot...\n",
      "fold_path is /project/results/soutput2/snapshots/fold02/, epoch = 22, 07/09/2022 09:06:52\n",
      "/project/results/soutput2/snapshots/fold02/epoch_22.pkl\n",
      "Taking snapshot...\n",
      "fold_path is /project/results/soutput2/snapshots/fold02/, epoch = 23, 07/09/2022 09:09:46\n",
      "/project/results/soutput2/snapshots/fold02/epoch_23.pkl\n",
      "Taking snapshot...\n",
      "fold_path is /project/results/soutput2/snapshots/fold02/, epoch = 24, 07/09/2022 09:12:40\n",
      "/project/results/soutput2/snapshots/fold02/epoch_24.pkl\n",
      "Taking snapshot...\n",
      "fold_path is /project/results/soutput2/snapshots/fold02/, epoch = 25, 07/09/2022 09:15:33\n",
      "/project/results/soutput2/snapshots/fold02/epoch_25.pkl\n",
      "Taking snapshot...\n",
      "fold_path is /project/results/soutput2/snapshots/fold02/, epoch = 26, 07/09/2022 09:18:27\n",
      "/project/results/soutput2/snapshots/fold02/epoch_26.pkl\n",
      "Taking snapshot...\n",
      "fold_path is /project/results/soutput2/snapshots/fold02/, epoch = 27, 07/09/2022 09:21:19\n",
      "/project/results/soutput2/snapshots/fold02/epoch_27.pkl\n",
      "Taking snapshot...\n",
      "fold_path is /project/results/soutput2/snapshots/fold02/, epoch = 28, 07/09/2022 09:24:12\n",
      "/project/results/soutput2/snapshots/fold02/epoch_28.pkl\n",
      "Taking snapshot...\n",
      "fold_path is /project/results/soutput2/snapshots/fold02/, epoch = 29, 07/09/2022 09:27:05\n",
      "/project/results/soutput2/snapshots/fold02/epoch_29.pkl\n",
      "Taking snapshot...\n",
      "fold_path is /project/results/soutput2/snapshots/fold02/, epoch = 30, 07/09/2022 09:29:57\n",
      "/project/results/soutput2/snapshots/fold02/epoch_30.pkl\n",
      "Taking snapshot...\n",
      "fold_path is /project/results/soutput2/snapshots/fold02/, epoch = 31, 07/09/2022 09:32:51\n",
      "/project/results/soutput2/snapshots/fold02/epoch_31.pkl\n",
      "Taking snapshot...\n",
      "fold_path is /project/results/soutput2/snapshots/fold02/, epoch = 32, 07/09/2022 09:35:44\n",
      "/project/results/soutput2/snapshots/fold02/epoch_32.pkl\n",
      "Taking snapshot...\n",
      "fold_path is /project/results/soutput2/snapshots/fold02/, epoch = 33, 07/09/2022 09:38:36\n",
      "/project/results/soutput2/snapshots/fold02/epoch_33.pkl\n",
      "Taking snapshot...\n",
      "fold_path is /project/results/soutput2/snapshots/fold02/, epoch = 34, 07/09/2022 09:41:29\n",
      "/project/results/soutput2/snapshots/fold02/epoch_34.pkl\n",
      "Taking snapshot...\n",
      "fold_path is /project/results/soutput2/snapshots/fold02/, epoch = 35, 07/09/2022 09:44:21\n",
      "/project/results/soutput2/snapshots/fold02/epoch_35.pkl\n",
      "Taking snapshot...\n",
      "fold_path is /project/results/soutput2/snapshots/fold02/, epoch = 36, 07/09/2022 09:47:15\n",
      "/project/results/soutput2/snapshots/fold02/epoch_36.pkl\n",
      "Taking snapshot...\n",
      "fold_path is /project/results/soutput2/snapshots/fold02/, epoch = 37, 07/09/2022 09:50:07\n",
      "/project/results/soutput2/snapshots/fold02/epoch_37.pkl\n",
      "Taking snapshot...\n",
      "fold_path is /project/results/soutput2/snapshots/fold02/, epoch = 38, 07/09/2022 09:53:01\n",
      "/project/results/soutput2/snapshots/fold02/epoch_38.pkl\n",
      "Taking snapshot...\n",
      "fold_path is /project/results/soutput2/snapshots/fold02/, epoch = 39, 07/09/2022 09:55:57\n",
      "/project/results/soutput2/snapshots/fold02/epoch_39.pkl\n",
      "Taking snapshot...\n",
      "fold_path is /project/results/soutput2/snapshots/fold02/, epoch = 40, 07/09/2022 09:58:45\n",
      "/project/results/soutput2/snapshots/fold02/epoch_40.pkl\n",
      "Taking snapshot...\n",
      "fold_path is /project/results/soutput2/snapshots/fold02/, epoch = 41, 07/09/2022 10:01:32\n",
      "/project/results/soutput2/snapshots/fold02/epoch_41.pkl\n",
      "Taking snapshot...\n",
      "fold_path is /project/results/soutput2/snapshots/fold02/, epoch = 42, 07/09/2022 10:04:17\n",
      "/project/results/soutput2/snapshots/fold02/epoch_42.pkl\n",
      "Taking snapshot...\n",
      "fold_path is /project/results/soutput2/snapshots/fold02/, epoch = 43, 07/09/2022 10:07:05\n",
      "/project/results/soutput2/snapshots/fold02/epoch_43.pkl\n",
      "Taking snapshot...\n",
      "fold_path is /project/results/soutput2/snapshots/fold02/, epoch = 44, 07/09/2022 10:09:52\n",
      "/project/results/soutput2/snapshots/fold02/epoch_44.pkl\n",
      "Taking snapshot...\n",
      "fold_path is /project/results/soutput2/snapshots/fold02/, epoch = 45, 07/09/2022 10:12:41\n",
      "/project/results/soutput2/snapshots/fold02/epoch_45.pkl\n",
      "Taking snapshot...\n",
      "fold_path is /project/results/soutput2/snapshots/fold02/, epoch = 46, 07/09/2022 10:15:27\n",
      "/project/results/soutput2/snapshots/fold02/epoch_46.pkl\n",
      "Taking snapshot...\n",
      "fold_path is /project/results/soutput2/snapshots/fold02/, epoch = 47, 07/09/2022 10:18:13\n",
      "/project/results/soutput2/snapshots/fold02/epoch_47.pkl\n",
      "Taking snapshot...\n",
      "fold_path is /project/results/soutput2/snapshots/fold02/, epoch = 48, 07/09/2022 10:21:01\n",
      "/project/results/soutput2/snapshots/fold02/epoch_48.pkl\n",
      "Taking snapshot...\n",
      "fold_path is /project/results/soutput2/snapshots/fold02/, epoch = 49, 07/09/2022 10:23:46\n",
      "/project/results/soutput2/snapshots/fold02/epoch_49.pkl\n",
      "Taking snapshot...\n",
      "fold_path is /project/results/soutput2/snapshots/fold02/, epoch = 50, 07/09/2022 10:26:34\n",
      "/project/results/soutput2/snapshots/fold02/epoch_50.pkl\n",
      "Taking snapshot...\n"
     ]
    },
    {
     "name": "stdout",
     "output_type": "stream",
     "text": [
      "fold_path is /project/results/soutput2/snapshots/fold02/, epoch = 51, 07/09/2022 10:29:19\n",
      "/project/results/soutput2/snapshots/fold02/epoch_51.pkl\n",
      "Taking snapshot...\n",
      "fold_path is /project/results/soutput2/snapshots/fold02/, epoch = 52, 07/09/2022 10:32:10\n",
      "/project/results/soutput2/snapshots/fold02/epoch_52.pkl\n",
      "Taking snapshot...\n",
      "fold_path is /project/results/soutput2/snapshots/fold02/, epoch = 53, 07/09/2022 10:34:57\n",
      "/project/results/soutput2/snapshots/fold02/epoch_53.pkl\n",
      "Taking snapshot...\n",
      "fold_path is /project/results/soutput2/snapshots/fold02/, epoch = 54, 07/09/2022 10:37:48\n",
      "/project/results/soutput2/snapshots/fold02/epoch_54.pkl\n",
      "Taking snapshot...\n",
      "fold_path is /project/results/soutput2/snapshots/fold02/, epoch = 55, 07/09/2022 10:40:35\n",
      "/project/results/soutput2/snapshots/fold02/epoch_55.pkl\n",
      "Taking snapshot...\n",
      "fold_path is /project/results/soutput2/snapshots/fold02/, epoch = 56, 07/09/2022 10:43:20\n",
      "/project/results/soutput2/snapshots/fold02/epoch_56.pkl\n",
      "Taking snapshot...\n",
      "fold_path is /project/results/soutput2/snapshots/fold02/, epoch = 57, 07/09/2022 10:46:07\n",
      "/project/results/soutput2/snapshots/fold02/epoch_57.pkl\n",
      "Taking snapshot...\n",
      "fold_path is /project/results/soutput2/snapshots/fold02/, epoch = 58, 07/09/2022 10:48:53\n",
      "/project/results/soutput2/snapshots/fold02/epoch_58.pkl\n",
      "Taking snapshot...\n",
      "fold_path is /project/results/soutput2/snapshots/fold02/, epoch = 59, 07/09/2022 10:51:40\n",
      "/project/results/soutput2/snapshots/fold02/epoch_59.pkl\n",
      "Taking snapshot...\n",
      "fold_path is /project/results/soutput2/snapshots/fold02/, epoch = 60, 07/09/2022 10:54:26\n",
      "/project/results/soutput2/snapshots/fold02/epoch_60.pkl\n",
      "Taking snapshot...\n"
     ]
    },
    {
     "data": {
      "text/html": [
       "Waiting for W&B process to finish... <strong style=\"color:green\">(success).</strong>"
      ],
      "text/plain": [
       "<IPython.core.display.HTML object>"
      ]
     },
     "metadata": {},
     "output_type": "display_data"
    },
    {
     "data": {
      "application/vnd.jupyter.widget-view+json": {
       "model_id": "",
       "version_major": 2,
       "version_minor": 0
      },
      "text/plain": [
       "VBox(children=(Label(value='0.001 MB of 0.001 MB uploaded (0.000 MB deduped)\\r'), FloatProgress(value=1.0, max…"
      ]
     },
     "metadata": {},
     "output_type": "display_data"
    },
    {
     "data": {
      "text/html": [
       "Synced <strong style=\"color:#cdcd00\">different-gorge-3</strong>: <a href=\"https://wandb.ai/synthesis-ai/60_sdata2_training/runs/1jwss26r\" target=\"_blank\">https://wandb.ai/synthesis-ai/60_sdata2_training/runs/1jwss26r</a><br/>Synced 5 W&B file(s), 0 media file(s), 0 artifact file(s) and 0 other file(s)"
      ],
      "text/plain": [
       "<IPython.core.display.HTML object>"
      ]
     },
     "metadata": {},
     "output_type": "display_data"
    },
    {
     "data": {
      "text/html": [
       "Find logs at: <code>./wandb/run-20220709_150250-1jwss26r/logs</code>"
      ],
      "text/plain": [
       "<IPython.core.display.HTML object>"
      ]
     },
     "metadata": {},
     "output_type": "display_data"
    },
    {
     "data": {
      "text/html": [
       "wandb version 0.12.21 is available!  To upgrade, please run:\n",
       " $ pip install wandb --upgrade"
      ],
      "text/plain": [
       "<IPython.core.display.HTML object>"
      ]
     },
     "metadata": {},
     "output_type": "display_data"
    },
    {
     "data": {
      "text/html": [
       "Tracking run with wandb version 0.12.15"
      ],
      "text/plain": [
       "<IPython.core.display.HTML object>"
      ]
     },
     "metadata": {},
     "output_type": "display_data"
    },
    {
     "data": {
      "text/html": [
       "Run data is saved locally in <code>/project/notebooks/wandb/run-20220709_175430-t5gfl2vr</code>"
      ],
      "text/plain": [
       "<IPython.core.display.HTML object>"
      ]
     },
     "metadata": {},
     "output_type": "display_data"
    },
    {
     "data": {
      "text/html": [
       "Syncing run <strong><a href=\"https://wandb.ai/synthesis-ai/60_sdata2_training/runs/t5gfl2vr\" target=\"_blank\">expert-capybara-4</a></strong> to <a href=\"https://wandb.ai/synthesis-ai/60_sdata2_training\" target=\"_blank\">Weights & Biases</a> (<a href=\"https://wandb.me/run\" target=\"_blank\">docs</a>)<br/>"
      ],
      "text/plain": [
       "<IPython.core.display.HTML object>"
      ]
     },
     "metadata": {},
     "output_type": "display_data"
    },
    {
     "name": "stdout",
     "output_type": "stream",
     "text": [
      "3 Conv2d(3, 64, kernel_size=(7, 7), stride=(2, 2), padding=(3, 3), bias=False)\n",
      "Loading data.\n",
      "0 items removed from dataset that have an angle > 180\n",
      "fold_path is /project/results/soutput2/snapshots/fold03/ 07/09/2022 10:54:35\n",
      "fold_path is /project/results/soutput2/snapshots/fold03/, epoch = 1, 07/09/2022 10:57:20\n",
      "/project/results/soutput2/snapshots/fold03/epoch_1.pkl\n",
      "Taking snapshot...\n",
      "fold_path is /project/results/soutput2/snapshots/fold03/, epoch = 2, 07/09/2022 11:00:07\n",
      "/project/results/soutput2/snapshots/fold03/epoch_2.pkl\n",
      "Taking snapshot...\n",
      "fold_path is /project/results/soutput2/snapshots/fold03/, epoch = 3, 07/09/2022 11:02:53\n",
      "/project/results/soutput2/snapshots/fold03/epoch_3.pkl\n",
      "Taking snapshot...\n",
      "fold_path is /project/results/soutput2/snapshots/fold03/, epoch = 4, 07/09/2022 11:05:45\n",
      "/project/results/soutput2/snapshots/fold03/epoch_4.pkl\n",
      "Taking snapshot...\n",
      "fold_path is /project/results/soutput2/snapshots/fold03/, epoch = 5, 07/09/2022 11:08:33\n",
      "/project/results/soutput2/snapshots/fold03/epoch_5.pkl\n",
      "Taking snapshot...\n",
      "fold_path is /project/results/soutput2/snapshots/fold03/, epoch = 6, 07/09/2022 11:11:21\n",
      "/project/results/soutput2/snapshots/fold03/epoch_6.pkl\n",
      "Taking snapshot...\n",
      "fold_path is /project/results/soutput2/snapshots/fold03/, epoch = 7, 07/09/2022 11:14:07\n",
      "/project/results/soutput2/snapshots/fold03/epoch_7.pkl\n",
      "Taking snapshot...\n",
      "fold_path is /project/results/soutput2/snapshots/fold03/, epoch = 8, 07/09/2022 11:16:55\n",
      "/project/results/soutput2/snapshots/fold03/epoch_8.pkl\n",
      "Taking snapshot...\n",
      "fold_path is /project/results/soutput2/snapshots/fold03/, epoch = 9, 07/09/2022 11:19:45\n",
      "/project/results/soutput2/snapshots/fold03/epoch_9.pkl\n",
      "Taking snapshot...\n",
      "fold_path is /project/results/soutput2/snapshots/fold03/, epoch = 10, 07/09/2022 11:22:36\n",
      "/project/results/soutput2/snapshots/fold03/epoch_10.pkl\n",
      "Taking snapshot...\n",
      "fold_path is /project/results/soutput2/snapshots/fold03/, epoch = 11, 07/09/2022 11:25:22\n",
      "/project/results/soutput2/snapshots/fold03/epoch_11.pkl\n",
      "Taking snapshot...\n",
      "fold_path is /project/results/soutput2/snapshots/fold03/, epoch = 12, 07/09/2022 11:28:08\n",
      "/project/results/soutput2/snapshots/fold03/epoch_12.pkl\n",
      "Taking snapshot...\n",
      "fold_path is /project/results/soutput2/snapshots/fold03/, epoch = 13, 07/09/2022 11:30:55\n",
      "/project/results/soutput2/snapshots/fold03/epoch_13.pkl\n",
      "Taking snapshot...\n",
      "fold_path is /project/results/soutput2/snapshots/fold03/, epoch = 14, 07/09/2022 11:33:42\n",
      "/project/results/soutput2/snapshots/fold03/epoch_14.pkl\n",
      "Taking snapshot...\n",
      "fold_path is /project/results/soutput2/snapshots/fold03/, epoch = 15, 07/09/2022 11:36:29\n",
      "/project/results/soutput2/snapshots/fold03/epoch_15.pkl\n",
      "Taking snapshot...\n",
      "fold_path is /project/results/soutput2/snapshots/fold03/, epoch = 16, 07/09/2022 11:39:16\n",
      "/project/results/soutput2/snapshots/fold03/epoch_16.pkl\n",
      "Taking snapshot...\n",
      "fold_path is /project/results/soutput2/snapshots/fold03/, epoch = 17, 07/09/2022 11:42:01\n",
      "/project/results/soutput2/snapshots/fold03/epoch_17.pkl\n",
      "Taking snapshot...\n",
      "fold_path is /project/results/soutput2/snapshots/fold03/, epoch = 18, 07/09/2022 11:44:48\n",
      "/project/results/soutput2/snapshots/fold03/epoch_18.pkl\n",
      "Taking snapshot...\n",
      "fold_path is /project/results/soutput2/snapshots/fold03/, epoch = 19, 07/09/2022 11:47:34\n",
      "/project/results/soutput2/snapshots/fold03/epoch_19.pkl\n",
      "Taking snapshot...\n",
      "fold_path is /project/results/soutput2/snapshots/fold03/, epoch = 20, 07/09/2022 11:50:20\n",
      "/project/results/soutput2/snapshots/fold03/epoch_20.pkl\n",
      "Taking snapshot...\n",
      "fold_path is /project/results/soutput2/snapshots/fold03/, epoch = 21, 07/09/2022 11:53:08\n",
      "/project/results/soutput2/snapshots/fold03/epoch_21.pkl\n",
      "Taking snapshot...\n",
      "fold_path is /project/results/soutput2/snapshots/fold03/, epoch = 22, 07/09/2022 11:55:56\n",
      "/project/results/soutput2/snapshots/fold03/epoch_22.pkl\n",
      "Taking snapshot...\n",
      "fold_path is /project/results/soutput2/snapshots/fold03/, epoch = 23, 07/09/2022 11:58:42\n",
      "/project/results/soutput2/snapshots/fold03/epoch_23.pkl\n",
      "Taking snapshot...\n",
      "fold_path is /project/results/soutput2/snapshots/fold03/, epoch = 24, 07/09/2022 12:01:32\n",
      "/project/results/soutput2/snapshots/fold03/epoch_24.pkl\n",
      "Taking snapshot...\n",
      "fold_path is /project/results/soutput2/snapshots/fold03/, epoch = 25, 07/09/2022 12:04:18\n",
      "/project/results/soutput2/snapshots/fold03/epoch_25.pkl\n",
      "Taking snapshot...\n",
      "fold_path is /project/results/soutput2/snapshots/fold03/, epoch = 27, 07/09/2022 12:09:50\n",
      "/project/results/soutput2/snapshots/fold03/epoch_27.pkl\n",
      "Taking snapshot...\n",
      "fold_path is /project/results/soutput2/snapshots/fold03/, epoch = 28, 07/09/2022 12:12:36\n",
      "/project/results/soutput2/snapshots/fold03/epoch_28.pkl\n",
      "Taking snapshot...\n",
      "fold_path is /project/results/soutput2/snapshots/fold03/, epoch = 29, 07/09/2022 12:15:27\n",
      "/project/results/soutput2/snapshots/fold03/epoch_29.pkl\n",
      "Taking snapshot...\n",
      "fold_path is /project/results/soutput2/snapshots/fold03/, epoch = 30, 07/09/2022 12:18:13\n",
      "/project/results/soutput2/snapshots/fold03/epoch_30.pkl\n",
      "Taking snapshot...\n",
      "fold_path is /project/results/soutput2/snapshots/fold03/, epoch = 31, 07/09/2022 12:21:04\n",
      "/project/results/soutput2/snapshots/fold03/epoch_31.pkl\n",
      "Taking snapshot...\n",
      "fold_path is /project/results/soutput2/snapshots/fold03/, epoch = 32, 07/09/2022 12:23:50\n",
      "/project/results/soutput2/snapshots/fold03/epoch_32.pkl\n",
      "Taking snapshot...\n",
      "fold_path is /project/results/soutput2/snapshots/fold03/, epoch = 33, 07/09/2022 12:26:37\n",
      "/project/results/soutput2/snapshots/fold03/epoch_33.pkl\n",
      "Taking snapshot...\n",
      "fold_path is /project/results/soutput2/snapshots/fold03/, epoch = 34, 07/09/2022 12:29:25\n",
      "/project/results/soutput2/snapshots/fold03/epoch_34.pkl\n",
      "Taking snapshot...\n",
      "fold_path is /project/results/soutput2/snapshots/fold03/, epoch = 35, 07/09/2022 12:32:12\n",
      "/project/results/soutput2/snapshots/fold03/epoch_35.pkl\n",
      "Taking snapshot...\n",
      "fold_path is /project/results/soutput2/snapshots/fold03/, epoch = 36, 07/09/2022 12:35:04\n",
      "/project/results/soutput2/snapshots/fold03/epoch_36.pkl\n",
      "Taking snapshot...\n",
      "fold_path is /project/results/soutput2/snapshots/fold03/, epoch = 37, 07/09/2022 12:37:50\n",
      "/project/results/soutput2/snapshots/fold03/epoch_37.pkl\n",
      "Taking snapshot...\n",
      "fold_path is /project/results/soutput2/snapshots/fold03/, epoch = 38, 07/09/2022 12:40:41\n",
      "/project/results/soutput2/snapshots/fold03/epoch_38.pkl\n",
      "Taking snapshot...\n",
      "fold_path is /project/results/soutput2/snapshots/fold03/, epoch = 39, 07/09/2022 12:43:26\n",
      "/project/results/soutput2/snapshots/fold03/epoch_39.pkl\n",
      "Taking snapshot...\n",
      "fold_path is /project/results/soutput2/snapshots/fold03/, epoch = 40, 07/09/2022 12:46:13\n",
      "/project/results/soutput2/snapshots/fold03/epoch_40.pkl\n",
      "Taking snapshot...\n",
      "fold_path is /project/results/soutput2/snapshots/fold03/, epoch = 41, 07/09/2022 12:49:00\n",
      "/project/results/soutput2/snapshots/fold03/epoch_41.pkl\n",
      "Taking snapshot...\n",
      "fold_path is /project/results/soutput2/snapshots/fold03/, epoch = 42, 07/09/2022 12:51:47\n",
      "/project/results/soutput2/snapshots/fold03/epoch_42.pkl\n",
      "Taking snapshot...\n",
      "fold_path is /project/results/soutput2/snapshots/fold03/, epoch = 43, 07/09/2022 12:54:38\n",
      "/project/results/soutput2/snapshots/fold03/epoch_43.pkl\n",
      "Taking snapshot...\n",
      "fold_path is /project/results/soutput2/snapshots/fold03/, epoch = 44, 07/09/2022 12:57:25\n",
      "/project/results/soutput2/snapshots/fold03/epoch_44.pkl\n",
      "Taking snapshot...\n",
      "fold_path is /project/results/soutput2/snapshots/fold03/, epoch = 45, 07/09/2022 13:00:18\n",
      "/project/results/soutput2/snapshots/fold03/epoch_45.pkl\n",
      "Taking snapshot...\n",
      "fold_path is /project/results/soutput2/snapshots/fold03/, epoch = 46, 07/09/2022 13:03:04\n",
      "/project/results/soutput2/snapshots/fold03/epoch_46.pkl\n",
      "Taking snapshot...\n",
      "fold_path is /project/results/soutput2/snapshots/fold03/, epoch = 47, 07/09/2022 13:05:51\n",
      "/project/results/soutput2/snapshots/fold03/epoch_47.pkl\n",
      "Taking snapshot...\n",
      "fold_path is /project/results/soutput2/snapshots/fold03/, epoch = 48, 07/09/2022 13:08:37\n",
      "/project/results/soutput2/snapshots/fold03/epoch_48.pkl\n",
      "Taking snapshot...\n",
      "fold_path is /project/results/soutput2/snapshots/fold03/, epoch = 49, 07/09/2022 13:11:23\n",
      "/project/results/soutput2/snapshots/fold03/epoch_49.pkl\n",
      "Taking snapshot...\n",
      "fold_path is /project/results/soutput2/snapshots/fold03/, epoch = 50, 07/09/2022 13:14:09\n",
      "/project/results/soutput2/snapshots/fold03/epoch_50.pkl\n",
      "Taking snapshot...\n"
     ]
    },
    {
     "name": "stdout",
     "output_type": "stream",
     "text": [
      "fold_path is /project/results/soutput2/snapshots/fold03/, epoch = 51, 07/09/2022 13:16:58\n",
      "/project/results/soutput2/snapshots/fold03/epoch_51.pkl\n",
      "Taking snapshot...\n",
      "fold_path is /project/results/soutput2/snapshots/fold03/, epoch = 52, 07/09/2022 13:19:45\n",
      "/project/results/soutput2/snapshots/fold03/epoch_52.pkl\n",
      "Taking snapshot...\n",
      "fold_path is /project/results/soutput2/snapshots/fold03/, epoch = 53, 07/09/2022 13:22:31\n",
      "/project/results/soutput2/snapshots/fold03/epoch_53.pkl\n",
      "Taking snapshot...\n",
      "fold_path is /project/results/soutput2/snapshots/fold03/, epoch = 54, 07/09/2022 13:25:23\n",
      "/project/results/soutput2/snapshots/fold03/epoch_54.pkl\n",
      "Taking snapshot...\n",
      "fold_path is /project/results/soutput2/snapshots/fold03/, epoch = 55, 07/09/2022 13:28:16\n",
      "/project/results/soutput2/snapshots/fold03/epoch_55.pkl\n",
      "Taking snapshot...\n",
      "fold_path is /project/results/soutput2/snapshots/fold03/, epoch = 56, 07/09/2022 13:31:05\n",
      "/project/results/soutput2/snapshots/fold03/epoch_56.pkl\n",
      "Taking snapshot...\n",
      "fold_path is /project/results/soutput2/snapshots/fold03/, epoch = 57, 07/09/2022 13:33:52\n",
      "/project/results/soutput2/snapshots/fold03/epoch_57.pkl\n",
      "Taking snapshot...\n",
      "fold_path is /project/results/soutput2/snapshots/fold03/, epoch = 58, 07/09/2022 13:36:40\n",
      "/project/results/soutput2/snapshots/fold03/epoch_58.pkl\n",
      "Taking snapshot...\n",
      "fold_path is /project/results/soutput2/snapshots/fold03/, epoch = 59, 07/09/2022 13:39:25\n",
      "/project/results/soutput2/snapshots/fold03/epoch_59.pkl\n",
      "Taking snapshot...\n",
      "fold_path is /project/results/soutput2/snapshots/fold03/, epoch = 60, 07/09/2022 13:42:13\n",
      "/project/results/soutput2/snapshots/fold03/epoch_60.pkl\n",
      "Taking snapshot...\n"
     ]
    },
    {
     "data": {
      "text/html": [
       "Waiting for W&B process to finish... <strong style=\"color:green\">(success).</strong>"
      ],
      "text/plain": [
       "<IPython.core.display.HTML object>"
      ]
     },
     "metadata": {},
     "output_type": "display_data"
    },
    {
     "data": {
      "application/vnd.jupyter.widget-view+json": {
       "model_id": "",
       "version_major": 2,
       "version_minor": 0
      },
      "text/plain": [
       "VBox(children=(Label(value='0.001 MB of 0.001 MB uploaded (0.000 MB deduped)\\r'), FloatProgress(value=1.0, max…"
      ]
     },
     "metadata": {},
     "output_type": "display_data"
    },
    {
     "data": {
      "text/html": [
       "Synced <strong style=\"color:#cdcd00\">expert-capybara-4</strong>: <a href=\"https://wandb.ai/synthesis-ai/60_sdata2_training/runs/t5gfl2vr\" target=\"_blank\">https://wandb.ai/synthesis-ai/60_sdata2_training/runs/t5gfl2vr</a><br/>Synced 5 W&B file(s), 0 media file(s), 0 artifact file(s) and 0 other file(s)"
      ],
      "text/plain": [
       "<IPython.core.display.HTML object>"
      ]
     },
     "metadata": {},
     "output_type": "display_data"
    },
    {
     "data": {
      "text/html": [
       "Find logs at: <code>./wandb/run-20220709_175430-t5gfl2vr/logs</code>"
      ],
      "text/plain": [
       "<IPython.core.display.HTML object>"
      ]
     },
     "metadata": {},
     "output_type": "display_data"
    },
    {
     "data": {
      "text/html": [
       "wandb version 0.12.21 is available!  To upgrade, please run:\n",
       " $ pip install wandb --upgrade"
      ],
      "text/plain": [
       "<IPython.core.display.HTML object>"
      ]
     },
     "metadata": {},
     "output_type": "display_data"
    },
    {
     "data": {
      "text/html": [
       "Tracking run with wandb version 0.12.15"
      ],
      "text/plain": [
       "<IPython.core.display.HTML object>"
      ]
     },
     "metadata": {},
     "output_type": "display_data"
    },
    {
     "data": {
      "text/html": [
       "Run data is saved locally in <code>/project/notebooks/wandb/run-20220709_204218-1xnx5o3q</code>"
      ],
      "text/plain": [
       "<IPython.core.display.HTML object>"
      ]
     },
     "metadata": {},
     "output_type": "display_data"
    },
    {
     "data": {
      "text/html": [
       "Syncing run <strong><a href=\"https://wandb.ai/synthesis-ai/60_sdata2_training/runs/1xnx5o3q\" target=\"_blank\">chocolate-cherry-5</a></strong> to <a href=\"https://wandb.ai/synthesis-ai/60_sdata2_training\" target=\"_blank\">Weights & Biases</a> (<a href=\"https://wandb.me/run\" target=\"_blank\">docs</a>)<br/>"
      ],
      "text/plain": [
       "<IPython.core.display.HTML object>"
      ]
     },
     "metadata": {},
     "output_type": "display_data"
    },
    {
     "name": "stdout",
     "output_type": "stream",
     "text": [
      "4 Conv2d(3, 64, kernel_size=(7, 7), stride=(2, 2), padding=(3, 3), bias=False)\n",
      "Loading data.\n",
      "0 items removed from dataset that have an angle > 180\n",
      "fold_path is /project/results/soutput2/snapshots/fold04/ 07/09/2022 13:42:22\n",
      "fold_path is /project/results/soutput2/snapshots/fold04/, epoch = 1, 07/09/2022 13:45:08\n",
      "/project/results/soutput2/snapshots/fold04/epoch_1.pkl\n",
      "Taking snapshot...\n",
      "fold_path is /project/results/soutput2/snapshots/fold04/, epoch = 2, 07/09/2022 13:47:56\n",
      "/project/results/soutput2/snapshots/fold04/epoch_2.pkl\n",
      "Taking snapshot...\n",
      "fold_path is /project/results/soutput2/snapshots/fold04/, epoch = 3, 07/09/2022 13:50:43\n",
      "/project/results/soutput2/snapshots/fold04/epoch_3.pkl\n",
      "Taking snapshot...\n",
      "fold_path is /project/results/soutput2/snapshots/fold04/, epoch = 4, 07/09/2022 13:53:30\n",
      "/project/results/soutput2/snapshots/fold04/epoch_4.pkl\n",
      "Taking snapshot...\n",
      "fold_path is /project/results/soutput2/snapshots/fold04/, epoch = 5, 07/09/2022 13:56:17\n",
      "/project/results/soutput2/snapshots/fold04/epoch_5.pkl\n",
      "Taking snapshot...\n",
      "fold_path is /project/results/soutput2/snapshots/fold04/, epoch = 6, 07/09/2022 13:59:03\n",
      "/project/results/soutput2/snapshots/fold04/epoch_6.pkl\n",
      "Taking snapshot...\n",
      "fold_path is /project/results/soutput2/snapshots/fold04/, epoch = 7, 07/09/2022 14:01:49\n",
      "/project/results/soutput2/snapshots/fold04/epoch_7.pkl\n",
      "Taking snapshot...\n",
      "fold_path is /project/results/soutput2/snapshots/fold04/, epoch = 8, 07/09/2022 14:04:35\n",
      "/project/results/soutput2/snapshots/fold04/epoch_8.pkl\n",
      "Taking snapshot...\n",
      "fold_path is /project/results/soutput2/snapshots/fold04/, epoch = 9, 07/09/2022 14:07:22\n",
      "/project/results/soutput2/snapshots/fold04/epoch_9.pkl\n",
      "Taking snapshot...\n",
      "fold_path is /project/results/soutput2/snapshots/fold04/, epoch = 10, 07/09/2022 14:10:09\n",
      "/project/results/soutput2/snapshots/fold04/epoch_10.pkl\n",
      "Taking snapshot...\n",
      "fold_path is /project/results/soutput2/snapshots/fold04/, epoch = 11, 07/09/2022 14:12:55\n",
      "/project/results/soutput2/snapshots/fold04/epoch_11.pkl\n",
      "Taking snapshot...\n",
      "fold_path is /project/results/soutput2/snapshots/fold04/, epoch = 12, 07/09/2022 14:15:41\n",
      "/project/results/soutput2/snapshots/fold04/epoch_12.pkl\n",
      "Taking snapshot...\n",
      "fold_path is /project/results/soutput2/snapshots/fold04/, epoch = 13, 07/09/2022 14:18:28\n",
      "/project/results/soutput2/snapshots/fold04/epoch_13.pkl\n",
      "Taking snapshot...\n",
      "fold_path is /project/results/soutput2/snapshots/fold04/, epoch = 14, 07/09/2022 14:21:15\n",
      "/project/results/soutput2/snapshots/fold04/epoch_14.pkl\n",
      "Taking snapshot...\n",
      "fold_path is /project/results/soutput2/snapshots/fold04/, epoch = 15, 07/09/2022 14:24:01\n",
      "/project/results/soutput2/snapshots/fold04/epoch_15.pkl\n",
      "Taking snapshot...\n",
      "fold_path is /project/results/soutput2/snapshots/fold04/, epoch = 16, 07/09/2022 14:26:47\n",
      "/project/results/soutput2/snapshots/fold04/epoch_16.pkl\n",
      "Taking snapshot...\n",
      "fold_path is /project/results/soutput2/snapshots/fold04/, epoch = 17, 07/09/2022 14:29:34\n",
      "/project/results/soutput2/snapshots/fold04/epoch_17.pkl\n",
      "Taking snapshot...\n",
      "fold_path is /project/results/soutput2/snapshots/fold04/, epoch = 18, 07/09/2022 14:32:21\n",
      "/project/results/soutput2/snapshots/fold04/epoch_18.pkl\n",
      "Taking snapshot...\n",
      "fold_path is /project/results/soutput2/snapshots/fold04/, epoch = 19, 07/09/2022 14:35:06\n",
      "/project/results/soutput2/snapshots/fold04/epoch_19.pkl\n",
      "Taking snapshot...\n",
      "fold_path is /project/results/soutput2/snapshots/fold04/, epoch = 20, 07/09/2022 14:37:52\n",
      "/project/results/soutput2/snapshots/fold04/epoch_20.pkl\n",
      "Taking snapshot...\n",
      "fold_path is /project/results/soutput2/snapshots/fold04/, epoch = 21, 07/09/2022 14:40:39\n",
      "/project/results/soutput2/snapshots/fold04/epoch_21.pkl\n",
      "Taking snapshot...\n",
      "fold_path is /project/results/soutput2/snapshots/fold04/, epoch = 22, 07/09/2022 14:43:25\n",
      "/project/results/soutput2/snapshots/fold04/epoch_22.pkl\n",
      "Taking snapshot...\n",
      "fold_path is /project/results/soutput2/snapshots/fold04/, epoch = 23, 07/09/2022 14:46:12\n",
      "/project/results/soutput2/snapshots/fold04/epoch_23.pkl\n",
      "Taking snapshot...\n",
      "fold_path is /project/results/soutput2/snapshots/fold04/, epoch = 24, 07/09/2022 14:48:58\n",
      "/project/results/soutput2/snapshots/fold04/epoch_24.pkl\n",
      "Taking snapshot...\n",
      "fold_path is /project/results/soutput2/snapshots/fold04/, epoch = 25, 07/09/2022 14:51:43\n",
      "/project/results/soutput2/snapshots/fold04/epoch_25.pkl\n",
      "Taking snapshot...\n",
      "fold_path is /project/results/soutput2/snapshots/fold04/, epoch = 26, 07/09/2022 14:54:28\n",
      "/project/results/soutput2/snapshots/fold04/epoch_26.pkl\n",
      "Taking snapshot...\n",
      "fold_path is /project/results/soutput2/snapshots/fold04/, epoch = 27, 07/09/2022 14:57:15\n",
      "/project/results/soutput2/snapshots/fold04/epoch_27.pkl\n",
      "Taking snapshot...\n",
      "fold_path is /project/results/soutput2/snapshots/fold04/, epoch = 28, 07/09/2022 15:00:04\n",
      "/project/results/soutput2/snapshots/fold04/epoch_28.pkl\n",
      "Taking snapshot...\n",
      "fold_path is /project/results/soutput2/snapshots/fold04/, epoch = 29, 07/09/2022 15:02:51\n",
      "/project/results/soutput2/snapshots/fold04/epoch_29.pkl\n",
      "Taking snapshot...\n",
      "fold_path is /project/results/soutput2/snapshots/fold04/, epoch = 30, 07/09/2022 15:05:38\n",
      "/project/results/soutput2/snapshots/fold04/epoch_30.pkl\n",
      "Taking snapshot...\n",
      "fold_path is /project/results/soutput2/snapshots/fold04/, epoch = 31, 07/09/2022 15:08:24\n",
      "/project/results/soutput2/snapshots/fold04/epoch_31.pkl\n",
      "Taking snapshot...\n",
      "fold_path is /project/results/soutput2/snapshots/fold04/, epoch = 32, 07/09/2022 15:11:11\n",
      "/project/results/soutput2/snapshots/fold04/epoch_32.pkl\n",
      "Taking snapshot...\n",
      "fold_path is /project/results/soutput2/snapshots/fold04/, epoch = 33, 07/09/2022 15:13:57\n",
      "/project/results/soutput2/snapshots/fold04/epoch_33.pkl\n",
      "Taking snapshot...\n",
      "fold_path is /project/results/soutput2/snapshots/fold04/, epoch = 34, 07/09/2022 15:16:43\n",
      "/project/results/soutput2/snapshots/fold04/epoch_34.pkl\n",
      "Taking snapshot...\n",
      "fold_path is /project/results/soutput2/snapshots/fold04/, epoch = 35, 07/09/2022 15:19:32\n",
      "/project/results/soutput2/snapshots/fold04/epoch_35.pkl\n",
      "Taking snapshot...\n",
      "fold_path is /project/results/soutput2/snapshots/fold04/, epoch = 36, 07/09/2022 15:22:18\n",
      "/project/results/soutput2/snapshots/fold04/epoch_36.pkl\n",
      "Taking snapshot...\n",
      "fold_path is /project/results/soutput2/snapshots/fold04/, epoch = 37, 07/09/2022 15:25:04\n",
      "/project/results/soutput2/snapshots/fold04/epoch_37.pkl\n",
      "Taking snapshot...\n",
      "fold_path is /project/results/soutput2/snapshots/fold04/, epoch = 38, 07/09/2022 15:27:51\n",
      "/project/results/soutput2/snapshots/fold04/epoch_38.pkl\n",
      "Taking snapshot...\n",
      "fold_path is /project/results/soutput2/snapshots/fold04/, epoch = 39, 07/09/2022 15:30:43\n",
      "/project/results/soutput2/snapshots/fold04/epoch_39.pkl\n",
      "Taking snapshot...\n",
      "fold_path is /project/results/soutput2/snapshots/fold04/, epoch = 40, 07/09/2022 15:33:30\n",
      "/project/results/soutput2/snapshots/fold04/epoch_40.pkl\n",
      "Taking snapshot...\n",
      "fold_path is /project/results/soutput2/snapshots/fold04/, epoch = 41, 07/09/2022 15:36:16\n",
      "/project/results/soutput2/snapshots/fold04/epoch_41.pkl\n",
      "Taking snapshot...\n",
      "fold_path is /project/results/soutput2/snapshots/fold04/, epoch = 42, 07/09/2022 15:39:08\n",
      "/project/results/soutput2/snapshots/fold04/epoch_42.pkl\n",
      "Taking snapshot...\n",
      "fold_path is /project/results/soutput2/snapshots/fold04/, epoch = 43, 07/09/2022 15:41:54\n",
      "/project/results/soutput2/snapshots/fold04/epoch_43.pkl\n",
      "Taking snapshot...\n",
      "fold_path is /project/results/soutput2/snapshots/fold04/, epoch = 44, 07/09/2022 15:44:45\n",
      "/project/results/soutput2/snapshots/fold04/epoch_44.pkl\n",
      "Taking snapshot...\n",
      "fold_path is /project/results/soutput2/snapshots/fold04/, epoch = 45, 07/09/2022 15:47:31\n",
      "/project/results/soutput2/snapshots/fold04/epoch_45.pkl\n",
      "Taking snapshot...\n",
      "fold_path is /project/results/soutput2/snapshots/fold04/, epoch = 46, 07/09/2022 15:50:16\n",
      "/project/results/soutput2/snapshots/fold04/epoch_46.pkl\n",
      "Taking snapshot...\n",
      "fold_path is /project/results/soutput2/snapshots/fold04/, epoch = 47, 07/09/2022 15:53:02\n",
      "/project/results/soutput2/snapshots/fold04/epoch_47.pkl\n",
      "Taking snapshot...\n",
      "fold_path is /project/results/soutput2/snapshots/fold04/, epoch = 48, 07/09/2022 15:55:49\n",
      "/project/results/soutput2/snapshots/fold04/epoch_48.pkl\n",
      "Taking snapshot...\n",
      "fold_path is /project/results/soutput2/snapshots/fold04/, epoch = 49, 07/09/2022 15:58:35\n",
      "/project/results/soutput2/snapshots/fold04/epoch_49.pkl\n",
      "Taking snapshot...\n"
     ]
    },
    {
     "name": "stdout",
     "output_type": "stream",
     "text": [
      "fold_path is /project/results/soutput2/snapshots/fold04/, epoch = 50, 07/09/2022 16:01:22\n",
      "/project/results/soutput2/snapshots/fold04/epoch_50.pkl\n",
      "Taking snapshot...\n",
      "fold_path is /project/results/soutput2/snapshots/fold04/, epoch = 51, 07/09/2022 16:04:08\n",
      "/project/results/soutput2/snapshots/fold04/epoch_51.pkl\n",
      "Taking snapshot...\n",
      "fold_path is /project/results/soutput2/snapshots/fold04/, epoch = 52, 07/09/2022 16:06:54\n",
      "/project/results/soutput2/snapshots/fold04/epoch_52.pkl\n",
      "Taking snapshot...\n",
      "fold_path is /project/results/soutput2/snapshots/fold04/, epoch = 53, 07/09/2022 16:09:41\n",
      "/project/results/soutput2/snapshots/fold04/epoch_53.pkl\n",
      "Taking snapshot...\n",
      "fold_path is /project/results/soutput2/snapshots/fold04/, epoch = 54, 07/09/2022 16:12:28\n",
      "/project/results/soutput2/snapshots/fold04/epoch_54.pkl\n",
      "Taking snapshot...\n",
      "fold_path is /project/results/soutput2/snapshots/fold04/, epoch = 55, 07/09/2022 16:15:14\n",
      "/project/results/soutput2/snapshots/fold04/epoch_55.pkl\n",
      "Taking snapshot...\n",
      "fold_path is /project/results/soutput2/snapshots/fold04/, epoch = 56, 07/09/2022 16:18:03\n",
      "/project/results/soutput2/snapshots/fold04/epoch_56.pkl\n",
      "Taking snapshot...\n",
      "fold_path is /project/results/soutput2/snapshots/fold04/, epoch = 57, 07/09/2022 16:20:58\n",
      "/project/results/soutput2/snapshots/fold04/epoch_57.pkl\n",
      "Taking snapshot...\n",
      "fold_path is /project/results/soutput2/snapshots/fold04/, epoch = 58, 07/09/2022 16:23:53\n",
      "/project/results/soutput2/snapshots/fold04/epoch_58.pkl\n",
      "Taking snapshot...\n",
      "fold_path is /project/results/soutput2/snapshots/fold04/, epoch = 59, 07/09/2022 16:26:39\n",
      "/project/results/soutput2/snapshots/fold04/epoch_59.pkl\n",
      "Taking snapshot...\n",
      "fold_path is /project/results/soutput2/snapshots/fold04/, epoch = 60, 07/09/2022 16:29:25\n",
      "/project/results/soutput2/snapshots/fold04/epoch_60.pkl\n",
      "Taking snapshot...\n"
     ]
    },
    {
     "data": {
      "text/html": [
       "Waiting for W&B process to finish... <strong style=\"color:green\">(success).</strong>"
      ],
      "text/plain": [
       "<IPython.core.display.HTML object>"
      ]
     },
     "metadata": {},
     "output_type": "display_data"
    },
    {
     "data": {
      "application/vnd.jupyter.widget-view+json": {
       "model_id": "",
       "version_major": 2,
       "version_minor": 0
      },
      "text/plain": [
       "VBox(children=(Label(value='0.001 MB of 0.001 MB uploaded (0.000 MB deduped)\\r'), FloatProgress(value=1.0, max…"
      ]
     },
     "metadata": {},
     "output_type": "display_data"
    },
    {
     "data": {
      "text/html": [
       "Synced <strong style=\"color:#cdcd00\">chocolate-cherry-5</strong>: <a href=\"https://wandb.ai/synthesis-ai/60_sdata2_training/runs/1xnx5o3q\" target=\"_blank\">https://wandb.ai/synthesis-ai/60_sdata2_training/runs/1xnx5o3q</a><br/>Synced 5 W&B file(s), 0 media file(s), 0 artifact file(s) and 0 other file(s)"
      ],
      "text/plain": [
       "<IPython.core.display.HTML object>"
      ]
     },
     "metadata": {},
     "output_type": "display_data"
    },
    {
     "data": {
      "text/html": [
       "Find logs at: <code>./wandb/run-20220709_204218-1xnx5o3q/logs</code>"
      ],
      "text/plain": [
       "<IPython.core.display.HTML object>"
      ]
     },
     "metadata": {},
     "output_type": "display_data"
    },
    {
     "data": {
      "text/html": [
       "wandb version 0.12.21 is available!  To upgrade, please run:\n",
       " $ pip install wandb --upgrade"
      ],
      "text/plain": [
       "<IPython.core.display.HTML object>"
      ]
     },
     "metadata": {},
     "output_type": "display_data"
    },
    {
     "data": {
      "text/html": [
       "Tracking run with wandb version 0.12.15"
      ],
      "text/plain": [
       "<IPython.core.display.HTML object>"
      ]
     },
     "metadata": {},
     "output_type": "display_data"
    },
    {
     "data": {
      "text/html": [
       "Run data is saved locally in <code>/project/notebooks/wandb/run-20220709_232930-2phynv4c</code>"
      ],
      "text/plain": [
       "<IPython.core.display.HTML object>"
      ]
     },
     "metadata": {},
     "output_type": "display_data"
    },
    {
     "data": {
      "text/html": [
       "Syncing run <strong><a href=\"https://wandb.ai/synthesis-ai/60_sdata2_training/runs/2phynv4c\" target=\"_blank\">fine-butterfly-6</a></strong> to <a href=\"https://wandb.ai/synthesis-ai/60_sdata2_training\" target=\"_blank\">Weights & Biases</a> (<a href=\"https://wandb.me/run\" target=\"_blank\">docs</a>)<br/>"
      ],
      "text/plain": [
       "<IPython.core.display.HTML object>"
      ]
     },
     "metadata": {},
     "output_type": "display_data"
    },
    {
     "name": "stdout",
     "output_type": "stream",
     "text": [
      "5 Conv2d(3, 64, kernel_size=(7, 7), stride=(2, 2), padding=(3, 3), bias=False)\n",
      "Loading data.\n",
      "0 items removed from dataset that have an angle > 180\n",
      "fold_path is /project/results/soutput2/snapshots/fold05/ 07/09/2022 16:29:35\n",
      "fold_path is /project/results/soutput2/snapshots/fold05/, epoch = 1, 07/09/2022 16:32:23\n",
      "/project/results/soutput2/snapshots/fold05/epoch_1.pkl\n",
      "Taking snapshot...\n",
      "fold_path is /project/results/soutput2/snapshots/fold05/, epoch = 2, 07/09/2022 16:35:09\n",
      "/project/results/soutput2/snapshots/fold05/epoch_2.pkl\n",
      "Taking snapshot...\n",
      "fold_path is /project/results/soutput2/snapshots/fold05/, epoch = 3, 07/09/2022 16:37:56\n",
      "/project/results/soutput2/snapshots/fold05/epoch_3.pkl\n",
      "Taking snapshot...\n",
      "fold_path is /project/results/soutput2/snapshots/fold05/, epoch = 4, 07/09/2022 16:40:42\n",
      "/project/results/soutput2/snapshots/fold05/epoch_4.pkl\n",
      "Taking snapshot...\n",
      "fold_path is /project/results/soutput2/snapshots/fold05/, epoch = 5, 07/09/2022 16:43:27\n",
      "/project/results/soutput2/snapshots/fold05/epoch_5.pkl\n",
      "Taking snapshot...\n",
      "fold_path is /project/results/soutput2/snapshots/fold05/, epoch = 6, 07/09/2022 16:46:12\n",
      "/project/results/soutput2/snapshots/fold05/epoch_6.pkl\n",
      "Taking snapshot...\n",
      "fold_path is /project/results/soutput2/snapshots/fold05/, epoch = 7, 07/09/2022 16:48:58\n",
      "/project/results/soutput2/snapshots/fold05/epoch_7.pkl\n",
      "Taking snapshot...\n",
      "fold_path is /project/results/soutput2/snapshots/fold05/, epoch = 8, 07/09/2022 16:51:47\n",
      "/project/results/soutput2/snapshots/fold05/epoch_8.pkl\n",
      "Taking snapshot...\n",
      "fold_path is /project/results/soutput2/snapshots/fold05/, epoch = 9, 07/09/2022 16:54:40\n",
      "/project/results/soutput2/snapshots/fold05/epoch_9.pkl\n",
      "Taking snapshot...\n",
      "fold_path is /project/results/soutput2/snapshots/fold05/, epoch = 10, 07/09/2022 16:57:34\n",
      "/project/results/soutput2/snapshots/fold05/epoch_10.pkl\n",
      "Taking snapshot...\n",
      "fold_path is /project/results/soutput2/snapshots/fold05/, epoch = 11, 07/09/2022 17:00:20\n",
      "/project/results/soutput2/snapshots/fold05/epoch_11.pkl\n",
      "Taking snapshot...\n",
      "fold_path is /project/results/soutput2/snapshots/fold05/, epoch = 12, 07/09/2022 17:03:07\n",
      "/project/results/soutput2/snapshots/fold05/epoch_12.pkl\n",
      "Taking snapshot...\n",
      "fold_path is /project/results/soutput2/snapshots/fold05/, epoch = 13, 07/09/2022 17:05:53\n",
      "/project/results/soutput2/snapshots/fold05/epoch_13.pkl\n",
      "Taking snapshot...\n",
      "fold_path is /project/results/soutput2/snapshots/fold05/, epoch = 14, 07/09/2022 17:08:40\n",
      "/project/results/soutput2/snapshots/fold05/epoch_14.pkl\n",
      "Taking snapshot...\n",
      "fold_path is /project/results/soutput2/snapshots/fold05/, epoch = 15, 07/09/2022 17:11:26\n",
      "/project/results/soutput2/snapshots/fold05/epoch_15.pkl\n",
      "Taking snapshot...\n",
      "fold_path is /project/results/soutput2/snapshots/fold05/, epoch = 16, 07/09/2022 17:14:12\n",
      "/project/results/soutput2/snapshots/fold05/epoch_16.pkl\n",
      "Taking snapshot...\n",
      "fold_path is /project/results/soutput2/snapshots/fold05/, epoch = 17, 07/09/2022 17:16:57\n",
      "/project/results/soutput2/snapshots/fold05/epoch_17.pkl\n",
      "Taking snapshot...\n",
      "fold_path is /project/results/soutput2/snapshots/fold05/, epoch = 18, 07/09/2022 17:19:43\n",
      "/project/results/soutput2/snapshots/fold05/epoch_18.pkl\n",
      "Taking snapshot...\n",
      "fold_path is /project/results/soutput2/snapshots/fold05/, epoch = 19, 07/09/2022 17:22:30\n",
      "/project/results/soutput2/snapshots/fold05/epoch_19.pkl\n",
      "Taking snapshot...\n",
      "fold_path is /project/results/soutput2/snapshots/fold05/, epoch = 20, 07/09/2022 17:25:16\n",
      "/project/results/soutput2/snapshots/fold05/epoch_20.pkl\n",
      "Taking snapshot...\n",
      "fold_path is /project/results/soutput2/snapshots/fold05/, epoch = 21, 07/09/2022 17:28:03\n",
      "/project/results/soutput2/snapshots/fold05/epoch_21.pkl\n",
      "Taking snapshot...\n",
      "fold_path is /project/results/soutput2/snapshots/fold05/, epoch = 22, 07/09/2022 17:30:48\n",
      "/project/results/soutput2/snapshots/fold05/epoch_22.pkl\n",
      "Taking snapshot...\n",
      "fold_path is /project/results/soutput2/snapshots/fold05/, epoch = 23, 07/09/2022 17:33:34\n",
      "/project/results/soutput2/snapshots/fold05/epoch_23.pkl\n",
      "Taking snapshot...\n",
      "fold_path is /project/results/soutput2/snapshots/fold05/, epoch = 24, 07/09/2022 17:36:27\n",
      "/project/results/soutput2/snapshots/fold05/epoch_24.pkl\n",
      "Taking snapshot...\n",
      "fold_path is /project/results/soutput2/snapshots/fold05/, epoch = 25, 07/09/2022 17:39:22\n",
      "/project/results/soutput2/snapshots/fold05/epoch_25.pkl\n",
      "Taking snapshot...\n",
      "fold_path is /project/results/soutput2/snapshots/fold05/, epoch = 26, 07/09/2022 17:42:08\n",
      "/project/results/soutput2/snapshots/fold05/epoch_26.pkl\n",
      "Taking snapshot...\n",
      "fold_path is /project/results/soutput2/snapshots/fold05/, epoch = 27, 07/09/2022 17:44:53\n",
      "/project/results/soutput2/snapshots/fold05/epoch_27.pkl\n",
      "Taking snapshot...\n",
      "fold_path is /project/results/soutput2/snapshots/fold05/, epoch = 28, 07/09/2022 17:47:41\n",
      "/project/results/soutput2/snapshots/fold05/epoch_28.pkl\n",
      "Taking snapshot...\n",
      "fold_path is /project/results/soutput2/snapshots/fold05/, epoch = 29, 07/09/2022 17:50:27\n",
      "/project/results/soutput2/snapshots/fold05/epoch_29.pkl\n",
      "Taking snapshot...\n",
      "fold_path is /project/results/soutput2/snapshots/fold05/, epoch = 30, 07/09/2022 17:53:16\n",
      "/project/results/soutput2/snapshots/fold05/epoch_30.pkl\n",
      "Taking snapshot...\n",
      "fold_path is /project/results/soutput2/snapshots/fold05/, epoch = 31, 07/09/2022 17:56:05\n",
      "/project/results/soutput2/snapshots/fold05/epoch_31.pkl\n",
      "Taking snapshot...\n",
      "fold_path is /project/results/soutput2/snapshots/fold05/, epoch = 32, 07/09/2022 17:58:51\n",
      "/project/results/soutput2/snapshots/fold05/epoch_32.pkl\n",
      "Taking snapshot...\n",
      "fold_path is /project/results/soutput2/snapshots/fold05/, epoch = 33, 07/09/2022 18:01:36\n",
      "/project/results/soutput2/snapshots/fold05/epoch_33.pkl\n",
      "Taking snapshot...\n",
      "fold_path is /project/results/soutput2/snapshots/fold05/, epoch = 34, 07/09/2022 18:04:21\n",
      "/project/results/soutput2/snapshots/fold05/epoch_34.pkl\n",
      "Taking snapshot...\n",
      "fold_path is /project/results/soutput2/snapshots/fold05/, epoch = 35, 07/09/2022 18:07:07\n",
      "/project/results/soutput2/snapshots/fold05/epoch_35.pkl\n",
      "Taking snapshot...\n",
      "fold_path is /project/results/soutput2/snapshots/fold05/, epoch = 36, 07/09/2022 18:09:53\n",
      "/project/results/soutput2/snapshots/fold05/epoch_36.pkl\n",
      "Taking snapshot...\n",
      "fold_path is /project/results/soutput2/snapshots/fold05/, epoch = 37, 07/09/2022 18:12:38\n",
      "/project/results/soutput2/snapshots/fold05/epoch_37.pkl\n",
      "Taking snapshot...\n",
      "fold_path is /project/results/soutput2/snapshots/fold05/, epoch = 38, 07/09/2022 18:15:33\n",
      "/project/results/soutput2/snapshots/fold05/epoch_38.pkl\n",
      "Taking snapshot...\n",
      "fold_path is /project/results/soutput2/snapshots/fold05/, epoch = 39, 07/09/2022 18:18:21\n",
      "/project/results/soutput2/snapshots/fold05/epoch_39.pkl\n",
      "Taking snapshot...\n",
      "fold_path is /project/results/soutput2/snapshots/fold05/, epoch = 40, 07/09/2022 18:21:07\n",
      "/project/results/soutput2/snapshots/fold05/epoch_40.pkl\n",
      "Taking snapshot...\n",
      "fold_path is /project/results/soutput2/snapshots/fold05/, epoch = 41, 07/09/2022 18:23:54\n",
      "/project/results/soutput2/snapshots/fold05/epoch_41.pkl\n",
      "Taking snapshot...\n",
      "fold_path is /project/results/soutput2/snapshots/fold05/, epoch = 42, 07/09/2022 18:26:39\n",
      "/project/results/soutput2/snapshots/fold05/epoch_42.pkl\n",
      "Taking snapshot...\n",
      "fold_path is /project/results/soutput2/snapshots/fold05/, epoch = 43, 07/09/2022 18:29:25\n",
      "/project/results/soutput2/snapshots/fold05/epoch_43.pkl\n",
      "Taking snapshot...\n",
      "fold_path is /project/results/soutput2/snapshots/fold05/, epoch = 44, 07/09/2022 18:32:11\n",
      "/project/results/soutput2/snapshots/fold05/epoch_44.pkl\n",
      "Taking snapshot...\n",
      "fold_path is /project/results/soutput2/snapshots/fold05/, epoch = 45, 07/09/2022 18:34:59\n",
      "/project/results/soutput2/snapshots/fold05/epoch_45.pkl\n",
      "Taking snapshot...\n",
      "fold_path is /project/results/soutput2/snapshots/fold05/, epoch = 46, 07/09/2022 18:37:44\n",
      "/project/results/soutput2/snapshots/fold05/epoch_46.pkl\n",
      "Taking snapshot...\n",
      "fold_path is /project/results/soutput2/snapshots/fold05/, epoch = 47, 07/09/2022 18:40:30\n",
      "/project/results/soutput2/snapshots/fold05/epoch_47.pkl\n",
      "Taking snapshot...\n",
      "fold_path is /project/results/soutput2/snapshots/fold05/, epoch = 48, 07/09/2022 18:43:18\n",
      "/project/results/soutput2/snapshots/fold05/epoch_48.pkl\n",
      "Taking snapshot...\n",
      "fold_path is /project/results/soutput2/snapshots/fold05/, epoch = 49, 07/09/2022 18:46:03\n",
      "/project/results/soutput2/snapshots/fold05/epoch_49.pkl\n",
      "Taking snapshot...\n"
     ]
    },
    {
     "name": "stdout",
     "output_type": "stream",
     "text": [
      "fold_path is /project/results/soutput2/snapshots/fold05/, epoch = 50, 07/09/2022 18:48:49\n",
      "/project/results/soutput2/snapshots/fold05/epoch_50.pkl\n",
      "Taking snapshot...\n",
      "fold_path is /project/results/soutput2/snapshots/fold05/, epoch = 51, 07/09/2022 18:51:35\n",
      "/project/results/soutput2/snapshots/fold05/epoch_51.pkl\n",
      "Taking snapshot...\n",
      "fold_path is /project/results/soutput2/snapshots/fold05/, epoch = 52, 07/09/2022 18:54:20\n",
      "/project/results/soutput2/snapshots/fold05/epoch_52.pkl\n",
      "Taking snapshot...\n",
      "fold_path is /project/results/soutput2/snapshots/fold05/, epoch = 53, 07/09/2022 18:57:07\n",
      "/project/results/soutput2/snapshots/fold05/epoch_53.pkl\n",
      "Taking snapshot...\n",
      "fold_path is /project/results/soutput2/snapshots/fold05/, epoch = 54, 07/09/2022 18:59:58\n",
      "/project/results/soutput2/snapshots/fold05/epoch_54.pkl\n",
      "Taking snapshot...\n",
      "fold_path is /project/results/soutput2/snapshots/fold05/, epoch = 55, 07/09/2022 19:02:44\n",
      "/project/results/soutput2/snapshots/fold05/epoch_55.pkl\n",
      "Taking snapshot...\n",
      "fold_path is /project/results/soutput2/snapshots/fold05/, epoch = 56, 07/09/2022 19:05:30\n",
      "/project/results/soutput2/snapshots/fold05/epoch_56.pkl\n",
      "Taking snapshot...\n",
      "fold_path is /project/results/soutput2/snapshots/fold05/, epoch = 57, 07/09/2022 19:08:16\n",
      "/project/results/soutput2/snapshots/fold05/epoch_57.pkl\n",
      "Taking snapshot...\n",
      "fold_path is /project/results/soutput2/snapshots/fold05/, epoch = 58, 07/09/2022 19:11:02\n",
      "/project/results/soutput2/snapshots/fold05/epoch_58.pkl\n",
      "Taking snapshot...\n",
      "fold_path is /project/results/soutput2/snapshots/fold05/, epoch = 59, 07/09/2022 19:13:48\n",
      "/project/results/soutput2/snapshots/fold05/epoch_59.pkl\n",
      "Taking snapshot...\n",
      "fold_path is /project/results/soutput2/snapshots/fold05/, epoch = 60, 07/09/2022 19:16:40\n",
      "/project/results/soutput2/snapshots/fold05/epoch_60.pkl\n",
      "Taking snapshot...\n"
     ]
    },
    {
     "data": {
      "text/html": [
       "Waiting for W&B process to finish... <strong style=\"color:green\">(success).</strong>"
      ],
      "text/plain": [
       "<IPython.core.display.HTML object>"
      ]
     },
     "metadata": {},
     "output_type": "display_data"
    },
    {
     "data": {
      "application/vnd.jupyter.widget-view+json": {
       "model_id": "",
       "version_major": 2,
       "version_minor": 0
      },
      "text/plain": [
       "VBox(children=(Label(value='0.001 MB of 0.001 MB uploaded (0.000 MB deduped)\\r'), FloatProgress(value=1.0, max…"
      ]
     },
     "metadata": {},
     "output_type": "display_data"
    },
    {
     "data": {
      "text/html": [
       "Synced <strong style=\"color:#cdcd00\">fine-butterfly-6</strong>: <a href=\"https://wandb.ai/synthesis-ai/60_sdata2_training/runs/2phynv4c\" target=\"_blank\">https://wandb.ai/synthesis-ai/60_sdata2_training/runs/2phynv4c</a><br/>Synced 5 W&B file(s), 0 media file(s), 0 artifact file(s) and 0 other file(s)"
      ],
      "text/plain": [
       "<IPython.core.display.HTML object>"
      ]
     },
     "metadata": {},
     "output_type": "display_data"
    },
    {
     "data": {
      "text/html": [
       "Find logs at: <code>./wandb/run-20220709_232930-2phynv4c/logs</code>"
      ],
      "text/plain": [
       "<IPython.core.display.HTML object>"
      ]
     },
     "metadata": {},
     "output_type": "display_data"
    },
    {
     "data": {
      "text/html": [
       "wandb version 0.12.21 is available!  To upgrade, please run:\n",
       " $ pip install wandb --upgrade"
      ],
      "text/plain": [
       "<IPython.core.display.HTML object>"
      ]
     },
     "metadata": {},
     "output_type": "display_data"
    },
    {
     "data": {
      "text/html": [
       "Tracking run with wandb version 0.12.15"
      ],
      "text/plain": [
       "<IPython.core.display.HTML object>"
      ]
     },
     "metadata": {},
     "output_type": "display_data"
    },
    {
     "data": {
      "text/html": [
       "Run data is saved locally in <code>/project/notebooks/wandb/run-20220710_021644-1zvq0z1c</code>"
      ],
      "text/plain": [
       "<IPython.core.display.HTML object>"
      ]
     },
     "metadata": {},
     "output_type": "display_data"
    },
    {
     "data": {
      "text/html": [
       "Syncing run <strong><a href=\"https://wandb.ai/synthesis-ai/60_sdata2_training/runs/1zvq0z1c\" target=\"_blank\">dauntless-butterfly-7</a></strong> to <a href=\"https://wandb.ai/synthesis-ai/60_sdata2_training\" target=\"_blank\">Weights & Biases</a> (<a href=\"https://wandb.me/run\" target=\"_blank\">docs</a>)<br/>"
      ],
      "text/plain": [
       "<IPython.core.display.HTML object>"
      ]
     },
     "metadata": {},
     "output_type": "display_data"
    },
    {
     "name": "stdout",
     "output_type": "stream",
     "text": [
      "6 Conv2d(3, 64, kernel_size=(7, 7), stride=(2, 2), padding=(3, 3), bias=False)\n",
      "Loading data.\n",
      "0 items removed from dataset that have an angle > 180\n",
      "fold_path is /project/results/soutput2/snapshots/fold06/ 07/09/2022 19:16:48\n",
      "fold_path is /project/results/soutput2/snapshots/fold06/, epoch = 1, 07/09/2022 19:19:33\n",
      "/project/results/soutput2/snapshots/fold06/epoch_1.pkl\n",
      "Taking snapshot...\n",
      "fold_path is /project/results/soutput2/snapshots/fold06/, epoch = 2, 07/09/2022 19:22:25\n",
      "/project/results/soutput2/snapshots/fold06/epoch_2.pkl\n",
      "Taking snapshot...\n",
      "fold_path is /project/results/soutput2/snapshots/fold06/, epoch = 3, 07/09/2022 19:25:10\n",
      "/project/results/soutput2/snapshots/fold06/epoch_3.pkl\n",
      "Taking snapshot...\n",
      "fold_path is /project/results/soutput2/snapshots/fold06/, epoch = 4, 07/09/2022 19:27:57\n",
      "/project/results/soutput2/snapshots/fold06/epoch_4.pkl\n",
      "Taking snapshot...\n",
      "fold_path is /project/results/soutput2/snapshots/fold06/, epoch = 5, 07/09/2022 19:30:43\n",
      "/project/results/soutput2/snapshots/fold06/epoch_5.pkl\n",
      "Taking snapshot...\n",
      "fold_path is /project/results/soutput2/snapshots/fold06/, epoch = 6, 07/09/2022 19:33:29\n",
      "/project/results/soutput2/snapshots/fold06/epoch_6.pkl\n",
      "Taking snapshot...\n",
      "fold_path is /project/results/soutput2/snapshots/fold06/, epoch = 7, 07/09/2022 19:36:16\n",
      "/project/results/soutput2/snapshots/fold06/epoch_7.pkl\n",
      "Taking snapshot...\n",
      "fold_path is /project/results/soutput2/snapshots/fold06/, epoch = 8, 07/09/2022 19:39:01\n",
      "/project/results/soutput2/snapshots/fold06/epoch_8.pkl\n",
      "Taking snapshot...\n",
      "fold_path is /project/results/soutput2/snapshots/fold06/, epoch = 9, 07/09/2022 19:41:49\n",
      "/project/results/soutput2/snapshots/fold06/epoch_9.pkl\n",
      "Taking snapshot...\n",
      "fold_path is /project/results/soutput2/snapshots/fold06/, epoch = 10, 07/09/2022 19:44:35\n",
      "/project/results/soutput2/snapshots/fold06/epoch_10.pkl\n",
      "Taking snapshot...\n",
      "fold_path is /project/results/soutput2/snapshots/fold06/, epoch = 11, 07/09/2022 19:47:22\n",
      "/project/results/soutput2/snapshots/fold06/epoch_11.pkl\n",
      "Taking snapshot...\n",
      "fold_path is /project/results/soutput2/snapshots/fold06/, epoch = 12, 07/09/2022 19:50:09\n",
      "/project/results/soutput2/snapshots/fold06/epoch_12.pkl\n",
      "Taking snapshot...\n",
      "fold_path is /project/results/soutput2/snapshots/fold06/, epoch = 13, 07/09/2022 19:53:01\n",
      "/project/results/soutput2/snapshots/fold06/epoch_13.pkl\n",
      "Taking snapshot...\n",
      "fold_path is /project/results/soutput2/snapshots/fold06/, epoch = 14, 07/09/2022 19:55:46\n",
      "/project/results/soutput2/snapshots/fold06/epoch_14.pkl\n",
      "Taking snapshot...\n",
      "fold_path is /project/results/soutput2/snapshots/fold06/, epoch = 15, 07/09/2022 19:58:35\n",
      "/project/results/soutput2/snapshots/fold06/epoch_15.pkl\n",
      "Taking snapshot...\n",
      "fold_path is /project/results/soutput2/snapshots/fold06/, epoch = 16, 07/09/2022 20:01:21\n",
      "/project/results/soutput2/snapshots/fold06/epoch_16.pkl\n",
      "Taking snapshot...\n",
      "fold_path is /project/results/soutput2/snapshots/fold06/, epoch = 17, 07/09/2022 20:04:14\n",
      "/project/results/soutput2/snapshots/fold06/epoch_17.pkl\n",
      "Taking snapshot...\n",
      "fold_path is /project/results/soutput2/snapshots/fold06/, epoch = 18, 07/09/2022 20:07:00\n",
      "/project/results/soutput2/snapshots/fold06/epoch_18.pkl\n",
      "Taking snapshot...\n",
      "fold_path is /project/results/soutput2/snapshots/fold06/, epoch = 19, 07/09/2022 20:09:47\n",
      "/project/results/soutput2/snapshots/fold06/epoch_19.pkl\n",
      "Taking snapshot...\n",
      "fold_path is /project/results/soutput2/snapshots/fold06/, epoch = 20, 07/09/2022 20:12:35\n",
      "/project/results/soutput2/snapshots/fold06/epoch_20.pkl\n",
      "Taking snapshot...\n",
      "fold_path is /project/results/soutput2/snapshots/fold06/, epoch = 21, 07/09/2022 20:15:21\n",
      "/project/results/soutput2/snapshots/fold06/epoch_21.pkl\n",
      "Taking snapshot...\n",
      "fold_path is /project/results/soutput2/snapshots/fold06/, epoch = 22, 07/09/2022 20:18:06\n",
      "/project/results/soutput2/snapshots/fold06/epoch_22.pkl\n",
      "Taking snapshot...\n",
      "fold_path is /project/results/soutput2/snapshots/fold06/, epoch = 23, 07/09/2022 20:21:03\n",
      "/project/results/soutput2/snapshots/fold06/epoch_23.pkl\n",
      "Taking snapshot...\n",
      "fold_path is /project/results/soutput2/snapshots/fold06/, epoch = 24, 07/09/2022 20:23:49\n",
      "/project/results/soutput2/snapshots/fold06/epoch_24.pkl\n",
      "Taking snapshot...\n",
      "fold_path is /project/results/soutput2/snapshots/fold06/, epoch = 25, 07/09/2022 20:26:35\n",
      "/project/results/soutput2/snapshots/fold06/epoch_25.pkl\n",
      "Taking snapshot...\n",
      "fold_path is /project/results/soutput2/snapshots/fold06/, epoch = 26, 07/09/2022 20:29:24\n",
      "/project/results/soutput2/snapshots/fold06/epoch_26.pkl\n",
      "Taking snapshot...\n",
      "fold_path is /project/results/soutput2/snapshots/fold06/, epoch = 27, 07/09/2022 20:32:08\n",
      "/project/results/soutput2/snapshots/fold06/epoch_27.pkl\n",
      "Taking snapshot...\n",
      "fold_path is /project/results/soutput2/snapshots/fold06/, epoch = 28, 07/09/2022 20:34:53\n",
      "/project/results/soutput2/snapshots/fold06/epoch_28.pkl\n",
      "Taking snapshot...\n",
      "fold_path is /project/results/soutput2/snapshots/fold06/, epoch = 29, 07/09/2022 20:37:39\n",
      "/project/results/soutput2/snapshots/fold06/epoch_29.pkl\n",
      "Taking snapshot...\n",
      "fold_path is /project/results/soutput2/snapshots/fold06/, epoch = 30, 07/09/2022 20:40:24\n",
      "/project/results/soutput2/snapshots/fold06/epoch_30.pkl\n",
      "Taking snapshot...\n",
      "fold_path is /project/results/soutput2/snapshots/fold06/, epoch = 31, 07/09/2022 20:43:12\n",
      "/project/results/soutput2/snapshots/fold06/epoch_31.pkl\n",
      "Taking snapshot...\n",
      "fold_path is /project/results/soutput2/snapshots/fold06/, epoch = 32, 07/09/2022 20:46:03\n",
      "/project/results/soutput2/snapshots/fold06/epoch_32.pkl\n",
      "Taking snapshot...\n",
      "fold_path is /project/results/soutput2/snapshots/fold06/, epoch = 33, 07/09/2022 20:48:50\n",
      "/project/results/soutput2/snapshots/fold06/epoch_33.pkl\n",
      "Taking snapshot...\n",
      "fold_path is /project/results/soutput2/snapshots/fold06/, epoch = 34, 07/09/2022 20:51:41\n",
      "/project/results/soutput2/snapshots/fold06/epoch_34.pkl\n",
      "Taking snapshot...\n",
      "fold_path is /project/results/soutput2/snapshots/fold06/, epoch = 35, 07/09/2022 20:54:25\n",
      "/project/results/soutput2/snapshots/fold06/epoch_35.pkl\n",
      "Taking snapshot...\n",
      "fold_path is /project/results/soutput2/snapshots/fold06/, epoch = 36, 07/09/2022 20:57:10\n",
      "/project/results/soutput2/snapshots/fold06/epoch_36.pkl\n",
      "Taking snapshot...\n",
      "fold_path is /project/results/soutput2/snapshots/fold06/, epoch = 37, 07/09/2022 20:59:55\n",
      "/project/results/soutput2/snapshots/fold06/epoch_37.pkl\n",
      "Taking snapshot...\n",
      "fold_path is /project/results/soutput2/snapshots/fold06/, epoch = 38, 07/09/2022 21:02:41\n",
      "/project/results/soutput2/snapshots/fold06/epoch_38.pkl\n",
      "Taking snapshot...\n",
      "fold_path is /project/results/soutput2/snapshots/fold06/, epoch = 39, 07/09/2022 21:05:25\n",
      "/project/results/soutput2/snapshots/fold06/epoch_39.pkl\n",
      "Taking snapshot...\n",
      "fold_path is /project/results/soutput2/snapshots/fold06/, epoch = 40, 07/09/2022 21:08:15\n",
      "/project/results/soutput2/snapshots/fold06/epoch_40.pkl\n",
      "Taking snapshot...\n",
      "fold_path is /project/results/soutput2/snapshots/fold06/, epoch = 41, 07/09/2022 21:11:01\n",
      "/project/results/soutput2/snapshots/fold06/epoch_41.pkl\n",
      "Taking snapshot...\n",
      "fold_path is /project/results/soutput2/snapshots/fold06/, epoch = 42, 07/09/2022 21:13:45\n",
      "/project/results/soutput2/snapshots/fold06/epoch_42.pkl\n",
      "Taking snapshot...\n",
      "fold_path is /project/results/soutput2/snapshots/fold06/, epoch = 43, 07/09/2022 21:16:36\n",
      "/project/results/soutput2/snapshots/fold06/epoch_43.pkl\n",
      "Taking snapshot...\n",
      "fold_path is /project/results/soutput2/snapshots/fold06/, epoch = 44, 07/09/2022 21:19:23\n",
      "/project/results/soutput2/snapshots/fold06/epoch_44.pkl\n",
      "Taking snapshot...\n",
      "fold_path is /project/results/soutput2/snapshots/fold06/, epoch = 45, 07/09/2022 21:22:10\n",
      "/project/results/soutput2/snapshots/fold06/epoch_45.pkl\n",
      "Taking snapshot...\n",
      "fold_path is /project/results/soutput2/snapshots/fold06/, epoch = 46, 07/09/2022 21:24:55\n",
      "/project/results/soutput2/snapshots/fold06/epoch_46.pkl\n",
      "Taking snapshot...\n",
      "fold_path is /project/results/soutput2/snapshots/fold06/, epoch = 47, 07/09/2022 21:27:40\n",
      "/project/results/soutput2/snapshots/fold06/epoch_47.pkl\n",
      "Taking snapshot...\n",
      "fold_path is /project/results/soutput2/snapshots/fold06/, epoch = 48, 07/09/2022 21:30:26\n",
      "/project/results/soutput2/snapshots/fold06/epoch_48.pkl\n",
      "Taking snapshot...\n",
      "fold_path is /project/results/soutput2/snapshots/fold06/, epoch = 49, 07/09/2022 21:33:11\n",
      "/project/results/soutput2/snapshots/fold06/epoch_49.pkl\n",
      "Taking snapshot...\n"
     ]
    },
    {
     "name": "stdout",
     "output_type": "stream",
     "text": [
      "fold_path is /project/results/soutput2/snapshots/fold06/, epoch = 50, 07/09/2022 21:35:55\n",
      "/project/results/soutput2/snapshots/fold06/epoch_50.pkl\n",
      "Taking snapshot...\n",
      "fold_path is /project/results/soutput2/snapshots/fold06/, epoch = 51, 07/09/2022 21:38:43\n",
      "/project/results/soutput2/snapshots/fold06/epoch_51.pkl\n",
      "Taking snapshot...\n",
      "fold_path is /project/results/soutput2/snapshots/fold06/, epoch = 52, 07/09/2022 21:41:29\n",
      "/project/results/soutput2/snapshots/fold06/epoch_52.pkl\n",
      "Taking snapshot...\n",
      "fold_path is /project/results/soutput2/snapshots/fold06/, epoch = 53, 07/09/2022 21:44:13\n",
      "/project/results/soutput2/snapshots/fold06/epoch_53.pkl\n",
      "Taking snapshot...\n",
      "fold_path is /project/results/soutput2/snapshots/fold06/, epoch = 54, 07/09/2022 21:46:57\n",
      "/project/results/soutput2/snapshots/fold06/epoch_54.pkl\n",
      "Taking snapshot...\n",
      "fold_path is /project/results/soutput2/snapshots/fold06/, epoch = 55, 07/09/2022 21:49:42\n",
      "/project/results/soutput2/snapshots/fold06/epoch_55.pkl\n",
      "Taking snapshot...\n",
      "fold_path is /project/results/soutput2/snapshots/fold06/, epoch = 56, 07/09/2022 21:52:29\n",
      "/project/results/soutput2/snapshots/fold06/epoch_56.pkl\n",
      "Taking snapshot...\n",
      "fold_path is /project/results/soutput2/snapshots/fold06/, epoch = 57, 07/09/2022 21:55:22\n",
      "/project/results/soutput2/snapshots/fold06/epoch_57.pkl\n",
      "Taking snapshot...\n",
      "fold_path is /project/results/soutput2/snapshots/fold06/, epoch = 58, 07/09/2022 21:58:06\n",
      "/project/results/soutput2/snapshots/fold06/epoch_58.pkl\n",
      "Taking snapshot...\n",
      "fold_path is /project/results/soutput2/snapshots/fold06/, epoch = 59, 07/09/2022 22:00:52\n",
      "/project/results/soutput2/snapshots/fold06/epoch_59.pkl\n",
      "Taking snapshot...\n",
      "fold_path is /project/results/soutput2/snapshots/fold06/, epoch = 60, 07/09/2022 22:03:46\n",
      "/project/results/soutput2/snapshots/fold06/epoch_60.pkl\n",
      "Taking snapshot...\n"
     ]
    },
    {
     "data": {
      "text/html": [
       "Waiting for W&B process to finish... <strong style=\"color:green\">(success).</strong>"
      ],
      "text/plain": [
       "<IPython.core.display.HTML object>"
      ]
     },
     "metadata": {},
     "output_type": "display_data"
    },
    {
     "data": {
      "application/vnd.jupyter.widget-view+json": {
       "model_id": "",
       "version_major": 2,
       "version_minor": 0
      },
      "text/plain": [
       "VBox(children=(Label(value='0.001 MB of 0.001 MB uploaded (0.000 MB deduped)\\r'), FloatProgress(value=1.0, max…"
      ]
     },
     "metadata": {},
     "output_type": "display_data"
    },
    {
     "data": {
      "text/html": [
       "Synced <strong style=\"color:#cdcd00\">dauntless-butterfly-7</strong>: <a href=\"https://wandb.ai/synthesis-ai/60_sdata2_training/runs/1zvq0z1c\" target=\"_blank\">https://wandb.ai/synthesis-ai/60_sdata2_training/runs/1zvq0z1c</a><br/>Synced 5 W&B file(s), 0 media file(s), 0 artifact file(s) and 0 other file(s)"
      ],
      "text/plain": [
       "<IPython.core.display.HTML object>"
      ]
     },
     "metadata": {},
     "output_type": "display_data"
    },
    {
     "data": {
      "text/html": [
       "Find logs at: <code>./wandb/run-20220710_021644-1zvq0z1c/logs</code>"
      ],
      "text/plain": [
       "<IPython.core.display.HTML object>"
      ]
     },
     "metadata": {},
     "output_type": "display_data"
    },
    {
     "data": {
      "text/html": [
       "wandb version 0.12.21 is available!  To upgrade, please run:\n",
       " $ pip install wandb --upgrade"
      ],
      "text/plain": [
       "<IPython.core.display.HTML object>"
      ]
     },
     "metadata": {},
     "output_type": "display_data"
    },
    {
     "data": {
      "text/html": [
       "Tracking run with wandb version 0.12.15"
      ],
      "text/plain": [
       "<IPython.core.display.HTML object>"
      ]
     },
     "metadata": {},
     "output_type": "display_data"
    },
    {
     "data": {
      "text/html": [
       "Run data is saved locally in <code>/project/notebooks/wandb/run-20220710_050350-2vbr45x2</code>"
      ],
      "text/plain": [
       "<IPython.core.display.HTML object>"
      ]
     },
     "metadata": {},
     "output_type": "display_data"
    },
    {
     "data": {
      "text/html": [
       "Syncing run <strong><a href=\"https://wandb.ai/synthesis-ai/60_sdata2_training/runs/2vbr45x2\" target=\"_blank\">astral-firebrand-8</a></strong> to <a href=\"https://wandb.ai/synthesis-ai/60_sdata2_training\" target=\"_blank\">Weights & Biases</a> (<a href=\"https://wandb.me/run\" target=\"_blank\">docs</a>)<br/>"
      ],
      "text/plain": [
       "<IPython.core.display.HTML object>"
      ]
     },
     "metadata": {},
     "output_type": "display_data"
    },
    {
     "name": "stdout",
     "output_type": "stream",
     "text": [
      "7 Conv2d(3, 64, kernel_size=(7, 7), stride=(2, 2), padding=(3, 3), bias=False)\n",
      "Loading data.\n",
      "0 items removed from dataset that have an angle > 180\n",
      "fold_path is /project/results/soutput2/snapshots/fold07/ 07/09/2022 22:03:54\n",
      "fold_path is /project/results/soutput2/snapshots/fold07/, epoch = 1, 07/09/2022 22:06:38\n",
      "/project/results/soutput2/snapshots/fold07/epoch_1.pkl\n",
      "Taking snapshot...\n",
      "fold_path is /project/results/soutput2/snapshots/fold07/, epoch = 2, 07/09/2022 22:09:23\n",
      "/project/results/soutput2/snapshots/fold07/epoch_2.pkl\n",
      "Taking snapshot...\n",
      "fold_path is /project/results/soutput2/snapshots/fold07/, epoch = 3, 07/09/2022 22:12:11\n",
      "/project/results/soutput2/snapshots/fold07/epoch_3.pkl\n",
      "Taking snapshot...\n",
      "fold_path is /project/results/soutput2/snapshots/fold07/, epoch = 4, 07/09/2022 22:14:57\n",
      "/project/results/soutput2/snapshots/fold07/epoch_4.pkl\n",
      "Taking snapshot...\n",
      "fold_path is /project/results/soutput2/snapshots/fold07/, epoch = 5, 07/09/2022 22:17:42\n",
      "/project/results/soutput2/snapshots/fold07/epoch_5.pkl\n",
      "Taking snapshot...\n",
      "fold_path is /project/results/soutput2/snapshots/fold07/, epoch = 6, 07/09/2022 22:20:26\n",
      "/project/results/soutput2/snapshots/fold07/epoch_6.pkl\n",
      "Taking snapshot...\n",
      "fold_path is /project/results/soutput2/snapshots/fold07/, epoch = 7, 07/09/2022 22:23:11\n",
      "/project/results/soutput2/snapshots/fold07/epoch_7.pkl\n",
      "Taking snapshot...\n",
      "fold_path is /project/results/soutput2/snapshots/fold07/, epoch = 8, 07/09/2022 22:25:56\n",
      "/project/results/soutput2/snapshots/fold07/epoch_8.pkl\n",
      "Taking snapshot...\n",
      "fold_path is /project/results/soutput2/snapshots/fold07/, epoch = 9, 07/09/2022 22:28:42\n",
      "/project/results/soutput2/snapshots/fold07/epoch_9.pkl\n",
      "Taking snapshot...\n",
      "fold_path is /project/results/soutput2/snapshots/fold07/, epoch = 10, 07/09/2022 22:31:27\n",
      "/project/results/soutput2/snapshots/fold07/epoch_10.pkl\n",
      "Taking snapshot...\n",
      "fold_path is /project/results/soutput2/snapshots/fold07/, epoch = 11, 07/09/2022 22:34:12\n",
      "/project/results/soutput2/snapshots/fold07/epoch_11.pkl\n",
      "Taking snapshot...\n",
      "fold_path is /project/results/soutput2/snapshots/fold07/, epoch = 12, 07/09/2022 22:36:58\n",
      "/project/results/soutput2/snapshots/fold07/epoch_12.pkl\n",
      "Taking snapshot...\n",
      "fold_path is /project/results/soutput2/snapshots/fold07/, epoch = 13, 07/09/2022 22:39:44\n",
      "/project/results/soutput2/snapshots/fold07/epoch_13.pkl\n",
      "Taking snapshot...\n",
      "fold_path is /project/results/soutput2/snapshots/fold07/, epoch = 14, 07/09/2022 22:42:28\n",
      "/project/results/soutput2/snapshots/fold07/epoch_14.pkl\n",
      "Taking snapshot...\n",
      "fold_path is /project/results/soutput2/snapshots/fold07/, epoch = 15, 07/09/2022 22:45:14\n",
      "/project/results/soutput2/snapshots/fold07/epoch_15.pkl\n",
      "Taking snapshot...\n",
      "fold_path is /project/results/soutput2/snapshots/fold07/, epoch = 16, 07/09/2022 22:48:02\n",
      "/project/results/soutput2/snapshots/fold07/epoch_16.pkl\n",
      "Taking snapshot...\n",
      "fold_path is /project/results/soutput2/snapshots/fold07/, epoch = 17, 07/09/2022 22:50:49\n",
      "/project/results/soutput2/snapshots/fold07/epoch_17.pkl\n",
      "Taking snapshot...\n",
      "fold_path is /project/results/soutput2/snapshots/fold07/, epoch = 18, 07/09/2022 22:53:34\n",
      "/project/results/soutput2/snapshots/fold07/epoch_18.pkl\n",
      "Taking snapshot...\n",
      "fold_path is /project/results/soutput2/snapshots/fold07/, epoch = 19, 07/09/2022 22:56:19\n",
      "/project/results/soutput2/snapshots/fold07/epoch_19.pkl\n",
      "Taking snapshot...\n",
      "fold_path is /project/results/soutput2/snapshots/fold07/, epoch = 20, 07/09/2022 22:59:07\n",
      "/project/results/soutput2/snapshots/fold07/epoch_20.pkl\n",
      "Taking snapshot...\n",
      "fold_path is /project/results/soutput2/snapshots/fold07/, epoch = 21, 07/09/2022 23:01:54\n",
      "/project/results/soutput2/snapshots/fold07/epoch_21.pkl\n",
      "Taking snapshot...\n",
      "fold_path is /project/results/soutput2/snapshots/fold07/, epoch = 22, 07/09/2022 23:04:45\n",
      "/project/results/soutput2/snapshots/fold07/epoch_22.pkl\n",
      "Taking snapshot...\n",
      "fold_path is /project/results/soutput2/snapshots/fold07/, epoch = 23, 07/09/2022 23:07:30\n",
      "/project/results/soutput2/snapshots/fold07/epoch_23.pkl\n",
      "Taking snapshot...\n",
      "fold_path is /project/results/soutput2/snapshots/fold07/, epoch = 24, 07/09/2022 23:10:15\n",
      "/project/results/soutput2/snapshots/fold07/epoch_24.pkl\n",
      "Taking snapshot...\n",
      "fold_path is /project/results/soutput2/snapshots/fold07/, epoch = 25, 07/09/2022 23:13:01\n",
      "/project/results/soutput2/snapshots/fold07/epoch_25.pkl\n",
      "Taking snapshot...\n",
      "fold_path is /project/results/soutput2/snapshots/fold07/, epoch = 26, 07/09/2022 23:15:52\n",
      "/project/results/soutput2/snapshots/fold07/epoch_26.pkl\n",
      "Taking snapshot...\n",
      "fold_path is /project/results/soutput2/snapshots/fold07/, epoch = 27, 07/09/2022 23:18:46\n",
      "/project/results/soutput2/snapshots/fold07/epoch_27.pkl\n",
      "Taking snapshot...\n",
      "fold_path is /project/results/soutput2/snapshots/fold07/, epoch = 28, 07/09/2022 23:21:31\n",
      "/project/results/soutput2/snapshots/fold07/epoch_28.pkl\n",
      "Taking snapshot...\n",
      "fold_path is /project/results/soutput2/snapshots/fold07/, epoch = 29, 07/09/2022 23:24:19\n",
      "/project/results/soutput2/snapshots/fold07/epoch_29.pkl\n",
      "Taking snapshot...\n",
      "fold_path is /project/results/soutput2/snapshots/fold07/, epoch = 30, 07/09/2022 23:27:04\n",
      "/project/results/soutput2/snapshots/fold07/epoch_30.pkl\n",
      "Taking snapshot...\n",
      "fold_path is /project/results/soutput2/snapshots/fold07/, epoch = 31, 07/09/2022 23:29:48\n",
      "/project/results/soutput2/snapshots/fold07/epoch_31.pkl\n",
      "Taking snapshot...\n",
      "fold_path is /project/results/soutput2/snapshots/fold07/, epoch = 32, 07/09/2022 23:32:34\n",
      "/project/results/soutput2/snapshots/fold07/epoch_32.pkl\n",
      "Taking snapshot...\n",
      "fold_path is /project/results/soutput2/snapshots/fold07/, epoch = 33, 07/09/2022 23:35:18\n",
      "/project/results/soutput2/snapshots/fold07/epoch_33.pkl\n",
      "Taking snapshot...\n",
      "fold_path is /project/results/soutput2/snapshots/fold07/, epoch = 34, 07/09/2022 23:38:10\n",
      "/project/results/soutput2/snapshots/fold07/epoch_34.pkl\n",
      "Taking snapshot...\n",
      "fold_path is /project/results/soutput2/snapshots/fold07/, epoch = 35, 07/09/2022 23:40:54\n",
      "/project/results/soutput2/snapshots/fold07/epoch_35.pkl\n",
      "Taking snapshot...\n",
      "fold_path is /project/results/soutput2/snapshots/fold07/, epoch = 36, 07/09/2022 23:43:40\n",
      "/project/results/soutput2/snapshots/fold07/epoch_36.pkl\n",
      "Taking snapshot...\n",
      "fold_path is /project/results/soutput2/snapshots/fold07/, epoch = 37, 07/09/2022 23:46:25\n",
      "/project/results/soutput2/snapshots/fold07/epoch_37.pkl\n",
      "Taking snapshot...\n",
      "fold_path is /project/results/soutput2/snapshots/fold07/, epoch = 38, 07/09/2022 23:49:10\n",
      "/project/results/soutput2/snapshots/fold07/epoch_38.pkl\n",
      "Taking snapshot...\n",
      "fold_path is /project/results/soutput2/snapshots/fold07/, epoch = 39, 07/09/2022 23:51:55\n",
      "/project/results/soutput2/snapshots/fold07/epoch_39.pkl\n",
      "Taking snapshot...\n",
      "fold_path is /project/results/soutput2/snapshots/fold07/, epoch = 40, 07/09/2022 23:54:40\n",
      "/project/results/soutput2/snapshots/fold07/epoch_40.pkl\n",
      "Taking snapshot...\n",
      "fold_path is /project/results/soutput2/snapshots/fold07/, epoch = 41, 07/09/2022 23:57:25\n",
      "/project/results/soutput2/snapshots/fold07/epoch_41.pkl\n",
      "Taking snapshot...\n",
      "fold_path is /project/results/soutput2/snapshots/fold07/, epoch = 42, 07/10/2022 00:00:12\n",
      "/project/results/soutput2/snapshots/fold07/epoch_42.pkl\n",
      "Taking snapshot...\n",
      "fold_path is /project/results/soutput2/snapshots/fold07/, epoch = 43, 07/10/2022 00:02:58\n",
      "/project/results/soutput2/snapshots/fold07/epoch_43.pkl\n",
      "Taking snapshot...\n",
      "fold_path is /project/results/soutput2/snapshots/fold07/, epoch = 44, 07/10/2022 00:05:42\n",
      "/project/results/soutput2/snapshots/fold07/epoch_44.pkl\n",
      "Taking snapshot...\n",
      "fold_path is /project/results/soutput2/snapshots/fold07/, epoch = 45, 07/10/2022 00:08:27\n",
      "/project/results/soutput2/snapshots/fold07/epoch_45.pkl\n",
      "Taking snapshot...\n",
      "fold_path is /project/results/soutput2/snapshots/fold07/, epoch = 46, 07/10/2022 00:11:13\n",
      "/project/results/soutput2/snapshots/fold07/epoch_46.pkl\n",
      "Taking snapshot...\n",
      "fold_path is /project/results/soutput2/snapshots/fold07/, epoch = 47, 07/10/2022 00:13:57\n",
      "/project/results/soutput2/snapshots/fold07/epoch_47.pkl\n",
      "Taking snapshot...\n",
      "fold_path is /project/results/soutput2/snapshots/fold07/, epoch = 48, 07/10/2022 00:16:42\n",
      "/project/results/soutput2/snapshots/fold07/epoch_48.pkl\n",
      "Taking snapshot...\n",
      "fold_path is /project/results/soutput2/snapshots/fold07/, epoch = 49, 07/10/2022 00:19:27\n",
      "/project/results/soutput2/snapshots/fold07/epoch_49.pkl\n",
      "Taking snapshot...\n"
     ]
    },
    {
     "name": "stdout",
     "output_type": "stream",
     "text": [
      "fold_path is /project/results/soutput2/snapshots/fold07/, epoch = 50, 07/10/2022 00:22:11\n",
      "/project/results/soutput2/snapshots/fold07/epoch_50.pkl\n",
      "Taking snapshot...\n",
      "fold_path is /project/results/soutput2/snapshots/fold07/, epoch = 51, 07/10/2022 00:24:55\n",
      "/project/results/soutput2/snapshots/fold07/epoch_51.pkl\n",
      "Taking snapshot...\n",
      "fold_path is /project/results/soutput2/snapshots/fold07/, epoch = 52, 07/10/2022 00:27:40\n",
      "/project/results/soutput2/snapshots/fold07/epoch_52.pkl\n",
      "Taking snapshot...\n",
      "fold_path is /project/results/soutput2/snapshots/fold07/, epoch = 53, 07/10/2022 00:30:26\n",
      "/project/results/soutput2/snapshots/fold07/epoch_53.pkl\n",
      "Taking snapshot...\n",
      "fold_path is /project/results/soutput2/snapshots/fold07/, epoch = 54, 07/10/2022 00:33:11\n",
      "/project/results/soutput2/snapshots/fold07/epoch_54.pkl\n",
      "Taking snapshot...\n",
      "fold_path is /project/results/soutput2/snapshots/fold07/, epoch = 55, 07/10/2022 00:35:56\n",
      "/project/results/soutput2/snapshots/fold07/epoch_55.pkl\n",
      "Taking snapshot...\n",
      "fold_path is /project/results/soutput2/snapshots/fold07/, epoch = 56, 07/10/2022 00:38:41\n",
      "/project/results/soutput2/snapshots/fold07/epoch_56.pkl\n",
      "Taking snapshot...\n",
      "fold_path is /project/results/soutput2/snapshots/fold07/, epoch = 57, 07/10/2022 00:41:32\n",
      "/project/results/soutput2/snapshots/fold07/epoch_57.pkl\n",
      "Taking snapshot...\n",
      "fold_path is /project/results/soutput2/snapshots/fold07/, epoch = 58, 07/10/2022 00:44:18\n",
      "/project/results/soutput2/snapshots/fold07/epoch_58.pkl\n",
      "Taking snapshot...\n",
      "fold_path is /project/results/soutput2/snapshots/fold07/, epoch = 59, 07/10/2022 00:47:03\n",
      "/project/results/soutput2/snapshots/fold07/epoch_59.pkl\n",
      "Taking snapshot...\n",
      "fold_path is /project/results/soutput2/snapshots/fold07/, epoch = 60, 07/10/2022 00:49:49\n",
      "/project/results/soutput2/snapshots/fold07/epoch_60.pkl\n",
      "Taking snapshot...\n"
     ]
    },
    {
     "data": {
      "text/html": [
       "Waiting for W&B process to finish... <strong style=\"color:green\">(success).</strong>"
      ],
      "text/plain": [
       "<IPython.core.display.HTML object>"
      ]
     },
     "metadata": {},
     "output_type": "display_data"
    },
    {
     "data": {
      "application/vnd.jupyter.widget-view+json": {
       "model_id": "",
       "version_major": 2,
       "version_minor": 0
      },
      "text/plain": [
       "VBox(children=(Label(value='0.001 MB of 0.001 MB uploaded (0.000 MB deduped)\\r'), FloatProgress(value=1.0, max…"
      ]
     },
     "metadata": {},
     "output_type": "display_data"
    },
    {
     "data": {
      "text/html": [
       "Synced <strong style=\"color:#cdcd00\">astral-firebrand-8</strong>: <a href=\"https://wandb.ai/synthesis-ai/60_sdata2_training/runs/2vbr45x2\" target=\"_blank\">https://wandb.ai/synthesis-ai/60_sdata2_training/runs/2vbr45x2</a><br/>Synced 5 W&B file(s), 0 media file(s), 0 artifact file(s) and 0 other file(s)"
      ],
      "text/plain": [
       "<IPython.core.display.HTML object>"
      ]
     },
     "metadata": {},
     "output_type": "display_data"
    },
    {
     "data": {
      "text/html": [
       "Find logs at: <code>./wandb/run-20220710_050350-2vbr45x2/logs</code>"
      ],
      "text/plain": [
       "<IPython.core.display.HTML object>"
      ]
     },
     "metadata": {},
     "output_type": "display_data"
    },
    {
     "data": {
      "text/html": [
       "wandb version 0.12.21 is available!  To upgrade, please run:\n",
       " $ pip install wandb --upgrade"
      ],
      "text/plain": [
       "<IPython.core.display.HTML object>"
      ]
     },
     "metadata": {},
     "output_type": "display_data"
    },
    {
     "data": {
      "text/html": [
       "Tracking run with wandb version 0.12.15"
      ],
      "text/plain": [
       "<IPython.core.display.HTML object>"
      ]
     },
     "metadata": {},
     "output_type": "display_data"
    },
    {
     "data": {
      "text/html": [
       "Run data is saved locally in <code>/project/notebooks/wandb/run-20220710_074953-oogqko3z</code>"
      ],
      "text/plain": [
       "<IPython.core.display.HTML object>"
      ]
     },
     "metadata": {},
     "output_type": "display_data"
    },
    {
     "data": {
      "text/html": [
       "Syncing run <strong><a href=\"https://wandb.ai/synthesis-ai/60_sdata2_training/runs/oogqko3z\" target=\"_blank\">major-voice-9</a></strong> to <a href=\"https://wandb.ai/synthesis-ai/60_sdata2_training\" target=\"_blank\">Weights & Biases</a> (<a href=\"https://wandb.me/run\" target=\"_blank\">docs</a>)<br/>"
      ],
      "text/plain": [
       "<IPython.core.display.HTML object>"
      ]
     },
     "metadata": {},
     "output_type": "display_data"
    },
    {
     "name": "stdout",
     "output_type": "stream",
     "text": [
      "8 Conv2d(3, 64, kernel_size=(7, 7), stride=(2, 2), padding=(3, 3), bias=False)\n",
      "Loading data.\n",
      "0 items removed from dataset that have an angle > 180\n",
      "fold_path is /project/results/soutput2/snapshots/fold08/ 07/10/2022 00:49:57\n",
      "fold_path is /project/results/soutput2/snapshots/fold08/, epoch = 1, 07/10/2022 00:52:43\n",
      "/project/results/soutput2/snapshots/fold08/epoch_1.pkl\n",
      "Taking snapshot...\n",
      "fold_path is /project/results/soutput2/snapshots/fold08/, epoch = 2, 07/10/2022 00:55:29\n",
      "/project/results/soutput2/snapshots/fold08/epoch_2.pkl\n",
      "Taking snapshot...\n",
      "fold_path is /project/results/soutput2/snapshots/fold08/, epoch = 3, 07/10/2022 00:58:14\n",
      "/project/results/soutput2/snapshots/fold08/epoch_3.pkl\n",
      "Taking snapshot...\n",
      "fold_path is /project/results/soutput2/snapshots/fold08/, epoch = 4, 07/10/2022 01:01:05\n",
      "/project/results/soutput2/snapshots/fold08/epoch_4.pkl\n",
      "Taking snapshot...\n",
      "fold_path is /project/results/soutput2/snapshots/fold08/, epoch = 5, 07/10/2022 01:03:50\n",
      "/project/results/soutput2/snapshots/fold08/epoch_5.pkl\n",
      "Taking snapshot...\n",
      "fold_path is /project/results/soutput2/snapshots/fold08/, epoch = 6, 07/10/2022 01:06:35\n",
      "/project/results/soutput2/snapshots/fold08/epoch_6.pkl\n",
      "Taking snapshot...\n",
      "fold_path is /project/results/soutput2/snapshots/fold08/, epoch = 7, 07/10/2022 01:09:20\n",
      "/project/results/soutput2/snapshots/fold08/epoch_7.pkl\n",
      "Taking snapshot...\n",
      "fold_path is /project/results/soutput2/snapshots/fold08/, epoch = 8, 07/10/2022 01:12:07\n",
      "/project/results/soutput2/snapshots/fold08/epoch_8.pkl\n",
      "Taking snapshot...\n",
      "fold_path is /project/results/soutput2/snapshots/fold08/, epoch = 9, 07/10/2022 01:14:52\n",
      "/project/results/soutput2/snapshots/fold08/epoch_9.pkl\n",
      "Taking snapshot...\n",
      "fold_path is /project/results/soutput2/snapshots/fold08/, epoch = 10, 07/10/2022 01:17:39\n",
      "/project/results/soutput2/snapshots/fold08/epoch_10.pkl\n",
      "Taking snapshot...\n"
     ]
    }
   ],
   "source": [
    "%%time\n",
    "start = time.time()\n",
    "num_bins=35\n",
    "\n",
    "folder = os.listdir(args.gazeMpiilabel_dir)\n",
    "folder.sort()\n",
    "testlabelpathcombined = [os.path.join(args.gazeMpiilabel_dir, j) for j in folder]\n",
    "for fold in range(15):\n",
    "    \n",
    "    wandb.init(project='60_sdata2_training')\n",
    "    \n",
    "    model, pre_url = getArch_weights(args.arch, num_bins)\n",
    "    print(fold, model.conv1)\n",
    "    load_filtered_state_dict(model, model_zoo.load_url(pre_url))\n",
    "    print('Loading data.')\n",
    "    dataset=datasets.Mpiigaze(testlabelpathcombined,args.gazeMpiimage_dir, transformations, True, 180, fold)\n",
    "    \n",
    "    train_loader_gaze = DataLoader(\n",
    "        dataset=dataset,\n",
    "        batch_size=int(batch_size),\n",
    "        shuffle=True,\n",
    "        num_workers=4,\n",
    "        pin_memory=True)\n",
    "    \n",
    "    torch.backends.cudnn.benchmark = True\n",
    "    \n",
    "    fold_path = os.path.join(output, 'fold' + f'{fold:0>2}'+'/')\n",
    "    now=get_now()\n",
    "    print(f\"fold_path is {fold_path} {now}\")\n",
    "    if not os.path.exists(fold_path):\n",
    "        os.makedirs(fold_path)\n",
    "    \n",
    "    criterion = nn.CrossEntropyLoss().cuda(gpu)\n",
    "    reg_criterion = nn.MSELoss().cuda(gpu)\n",
    "    softmax = nn.Softmax(dim=1).cuda(gpu)\n",
    "    idx_tensor = [idx for idx in range(num_bins)]\n",
    "    idx_tensor = Variable(torch.FloatTensor(idx_tensor)).cuda(gpu)\n",
    "\n",
    "    #### origianally wrong number of arguments\n",
    "    optimizer_gaze = torch.optim.Adam([\n",
    "        {'params': get_ignored_params(model), 'lr': 0}, \n",
    "        {'params': get_non_ignored_params(model), 'lr': args.lr},\n",
    "        {'params': get_fc_params(model), 'lr': args.lr}\n",
    "    ], args.lr)\n",
    "\n",
    "    \n",
    "    \n",
    "    configuration = f\"\\ntrain configuration, gpu_id={args.gpu_id}, batch_size={batch_size}, model_arch={args.arch}\\n Start training dataset={data_set}, loader={len(train_loader_gaze)}, fold={fold}--------------\\n\"\n",
    "#     print(configuration)\n",
    "    model.to(gpu)\n",
    "    model = nn.DataParallel(model, device_ids=[0,1,2,3])\n",
    "    \n",
    "    for epoch in range(num_epochs):\n",
    "        sum_loss_pitch_gaze = sum_loss_yaw_gaze = iter_gaze = 0\n",
    "\n",
    "        for i, (images_gaze, labels_gaze, cont_labels_gaze,name) in enumerate(train_loader_gaze):\n",
    "            images_gaze = Variable(images_gaze).cuda(gpu)\n",
    "\n",
    "            # Binned labels\n",
    "            label_pitch_gaze = Variable(labels_gaze[:, 0]).cuda(gpu)\n",
    "            label_yaw_gaze = Variable(labels_gaze[:, 1]).cuda(gpu)\n",
    "\n",
    "            # Continuous labels\n",
    "            label_pitch_cont_gaze = Variable(cont_labels_gaze[:, 0]).cuda(gpu)\n",
    "            label_yaw_cont_gaze = Variable(cont_labels_gaze[:, 1]).cuda(gpu)\n",
    "\n",
    "            pitch, yaw = model(images_gaze)\n",
    "\n",
    "            # Cross entropy loss\n",
    "            loss_pitch_gaze = criterion(pitch, label_pitch_gaze)\n",
    "            loss_yaw_gaze = criterion(yaw, label_yaw_gaze)\n",
    "\n",
    "            # MSE loss\n",
    "            pitch_predicted = softmax(pitch)\n",
    "            yaw_predicted = softmax(yaw)\n",
    "\n",
    "            # mapping from binned (0 to 28) to angels (-52 to 52) \n",
    "            pitch_predicted = \\\n",
    "                torch.sum(pitch_predicted * idx_tensor, 1) * 3 - 52\n",
    "            yaw_predicted = \\\n",
    "                torch.sum(yaw_predicted * idx_tensor, 1) * 3 - 52\n",
    "\n",
    "            loss_reg_pitch = reg_criterion(\n",
    "                pitch_predicted, label_pitch_cont_gaze)\n",
    "            loss_reg_yaw = reg_criterion(\n",
    "                yaw_predicted, label_yaw_cont_gaze)\n",
    "\n",
    "            \n",
    "            # Total loss\n",
    "            loss_pitch_gaze += alpha * loss_reg_pitch\n",
    "            loss_yaw_gaze += alpha * loss_reg_yaw\n",
    "\n",
    "            sum_loss_pitch_gaze += loss_pitch_gaze\n",
    "            sum_loss_yaw_gaze += loss_yaw_gaze\n",
    "\n",
    "            \n",
    "            \n",
    "            loss_seq = [loss_pitch_gaze, loss_yaw_gaze]\n",
    "            grad_seq = \\\n",
    "                [torch.tensor(1.0).cuda(gpu) for _ in range(len(loss_seq))]\n",
    "\n",
    "            optimizer_gaze.zero_grad(set_to_none=True)\n",
    "            torch.autograd.backward(loss_seq, grad_seq)\n",
    "            optimizer_gaze.step()\n",
    "\n",
    "            iter_gaze += 1\n",
    "            yaw_loss = sum_loss_pitch_gaze/iter_gaze\n",
    "            pitch_loss = sum_loss_yaw_gaze/iter_gaze\n",
    "            \n",
    "            iterations = len(dataset)//batch_size\n",
    "            div10 = iterations/10\n",
    "            if (i+1) % div10 == 0:  #for every div10 batches\n",
    "                now=time.time()\n",
    "                elapsed = now-start\n",
    "                \n",
    "\n",
    "                print(f'Fold: {fold} Epoch [{epoch+1}/{num_epochs}], Iter [{i+1}/{len(dataset)//batch_size}] Losses: '\n",
    "                        f'Gaze Yaw {yaw_loss:.4f},Gaze Pitch {pitch_loss:.3f}'\n",
    "                         f' elapsed:{elapsed:.1f}s')\n",
    "                \n",
    "                wandb.log({f'fold_{fold}_pitch_loss':pitch_loss, f'fold_{fold}_yaw_loss':yaw_loss })\n",
    "    \n",
    "        if epoch % 1 == 0 and epoch < num_epochs:\n",
    "            now=get_now()\n",
    "            print(f\"fold_path is {fold_path}, epoch = {epoch+1}, {now}\")\n",
    "            pathf = fold_path + 'epoch_' + str(epoch+1) + '.pkl'\n",
    "            print(pathf)\n",
    "            print('Taking snapshot...')\n",
    "            \n",
    "            torch.save({\n",
    "                'epoch': epoch,\n",
    "                'model_state_dict': model.state_dict(),\n",
    "                'optimizer_state_dict': optimizer_gaze\n",
    "                    .state_dict(),\n",
    "                'pitch_loss': pitch_loss,\n",
    "                'yaw_loss': yaw_loss\n",
    "                }, pathf)\n",
    "            \n",
    "    wandb.finish()"
   ]
  },
  {
   "cell_type": "code",
   "execution_count": null,
   "id": "1594c041",
   "metadata": {},
   "outputs": [],
   "source": [
    "!ls -l /project/results/soutput2"
   ]
  },
  {
   "cell_type": "code",
   "execution_count": null,
   "id": "16dfb53a",
   "metadata": {},
   "outputs": [],
   "source": [
    "# started at 11:05pm 6/23/2022"
   ]
  },
  {
   "cell_type": "code",
   "execution_count": null,
   "id": "ab3703a1",
   "metadata": {},
   "outputs": [],
   "source": []
  },
  {
   "cell_type": "code",
   "execution_count": null,
   "id": "81a9969d",
   "metadata": {},
   "outputs": [],
   "source": []
  },
  {
   "cell_type": "code",
   "execution_count": null,
   "id": "11ac279c",
   "metadata": {},
   "outputs": [],
   "source": []
  }
 ],
 "metadata": {
  "kernelspec": {
   "display_name": "Python 3 (ipykernel)",
   "language": "python",
   "name": "python3"
  },
  "language_info": {
   "codemirror_mode": {
    "name": "ipython",
    "version": 3
   },
   "file_extension": ".py",
   "mimetype": "text/x-python",
   "name": "python",
   "nbconvert_exporter": "python",
   "pygments_lexer": "ipython3",
   "version": "3.8.10"
  }
 },
 "nbformat": 4,
 "nbformat_minor": 5
}
