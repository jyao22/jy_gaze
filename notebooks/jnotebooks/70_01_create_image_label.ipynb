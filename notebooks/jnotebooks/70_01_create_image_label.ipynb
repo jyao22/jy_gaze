{
 "cells": [
  {
   "cell_type": "code",
   "execution_count": 1,
   "id": "821a65b4",
   "metadata": {},
   "outputs": [],
   "source": [
    "import os\n",
    "import sys\n",
    "import numpy as np\n",
    "from PIL import Image\n",
    "from pytz import timezone\n",
    "from pathlib import Path\n",
    "import wandb"
   ]
  },
  {
   "cell_type": "code",
   "execution_count": 2,
   "id": "7ffc23a3",
   "metadata": {},
   "outputs": [],
   "source": [
    "sys.path.append('/project/modules/jmodules')\n",
    "from jutils import SynJSON as SJ, get_now"
   ]
  },
  {
   "cell_type": "code",
   "execution_count": 3,
   "id": "155cc0d6",
   "metadata": {},
   "outputs": [],
   "source": [
    "#source data path\n",
    "sdatapath = Path('/project/data/download/')\n",
    "# destination data path\n",
    "ddatapath = Path('/project/data/sdata3')\n",
    "labelpath = ddatapath/'Label'\n",
    "imagepath = ddatapath/'Image'\n",
    "leftpath = imagepath/'left'\n",
    "rightpath = imagepath/'right'\n",
    "facepath = imagepath/'face'\n",
    "os.makedirs(labelpath, exist_ok=True)\n",
    "os.makedirs(facepath, exist_ok=True)\n",
    "os.makedirs(leftpath, exist_ok=True)\n",
    "os.makedirs(rightpath, exist_ok=True)\n",
    "label_title = 'Face Left Right Origin WhichEye 3DGaze 3DHead 2DGaze 2DHead Rmat Smat GazeOrigin'"
   ]
  },
  {
   "cell_type": "code",
   "execution_count": 4,
   "id": "4ce94ba5",
   "metadata": {},
   "outputs": [
    {
     "name": "stderr",
     "output_type": "stream",
     "text": [
      "\u001b[34m\u001b[1mwandb\u001b[0m: Currently logged in as: \u001b[33msynthesis-ai\u001b[0m (use `wandb login --relogin` to force relogin)\n"
     ]
    },
    {
     "data": {
      "text/html": [
       "wandb version 0.12.21 is available!  To upgrade, please run:\n",
       " $ pip install wandb --upgrade"
      ],
      "text/plain": [
       "<IPython.core.display.HTML object>"
      ]
     },
     "metadata": {},
     "output_type": "display_data"
    },
    {
     "data": {
      "text/html": [
       "Tracking run with wandb version 0.12.15"
      ],
      "text/plain": [
       "<IPython.core.display.HTML object>"
      ]
     },
     "metadata": {},
     "output_type": "display_data"
    },
    {
     "data": {
      "text/html": [
       "Run data is saved locally in <code>/project/notebooks/jnotebooks/wandb/run-20220725_171452-3dj9wy57</code>"
      ],
      "text/plain": [
       "<IPython.core.display.HTML object>"
      ]
     },
     "metadata": {},
     "output_type": "display_data"
    },
    {
     "data": {
      "text/html": [
       "Syncing run <strong><a href=\"https://wandb.ai/synthesis-ai/create_image_label/runs/3dj9wy57\" target=\"_blank\">process_images_labels</a></strong> to <a href=\"https://wandb.ai/synthesis-ai/create_image_label\" target=\"_blank\">Weights & Biases</a> (<a href=\"https://wandb.me/run\" target=\"_blank\">docs</a>)<br/>"
      ],
      "text/plain": [
       "<IPython.core.display.HTML object>"
      ]
     },
     "metadata": {},
     "output_type": "display_data"
    },
    {
     "name": "stdout",
     "output_type": "stream",
     "text": [
      "0 /project/data/download/fold03 <class 'pathlib.PosixPath'>\n",
      "/project/data/sdata3/Label/test.label\n",
      "fold /project/data/download/fold03, n_jfiles=21590\n",
      "07/25/2022 10:14:55\n",
      "500 1000 1500 2000 2500 3000 3500 4000 4500 5000 5500 6000 6500 7000 7500 8000 8500 9000 9500 10000 10500 11000 11500 12000 12500 13000 13500 14000 14500 15000 15500 16000 16500 17000 17500 18000 18500 19000 19500 20000 20500 21000 21500 1 /project/data/download/fold07 <class 'pathlib.PosixPath'>\n",
      "/project/data/sdata3/Label/test.label\n",
      "fold /project/data/download/fold07, n_jfiles=21195\n",
      "07/25/2022 10:30:31\n",
      "500 1000 1500 2000 2500 3000 3500 4000 4500 5000 5500 6000 6500 7000 7500 8000 8500 9000 9500 10000 10500 11000 11500 12000 12500 13000 13500 14000 14500 15000 15500 16000 16500 17000 17500 18000 18500 19000 19500 20000 20500 21000 2 /project/data/download/fold05 <class 'pathlib.PosixPath'>\n",
      "/project/data/sdata3/Label/train.label\n",
      "fold /project/data/download/fold05, n_jfiles=21600\n",
      "07/25/2022 10:45:51\n",
      "500 1000 1500 2000 2500 3000 3500 4000 4500 5000 5500 6000 6500 7000 7500 8000 8500 9000 9500 10000 10500 11000 11500 12000 12500 13000 13500 14000 14500 15000 15500 16000 16500 17000 17500 18000 18500 19000 19500 20000 20500 21000 21500 3 /project/data/download/fold01 <class 'pathlib.PosixPath'>\n",
      "/project/data/sdata3/Label/train.label\n",
      "fold /project/data/download/fold01, n_jfiles=21475\n",
      "07/25/2022 11:01:30\n",
      "500 1000 1500 2000 2500 3000 3500 4000 4500 5000 5500 6000 6500 7000 7500 8000 8500 9000 9500 10000 10500 11000 11500 12000 12500 13000 13500 14000 14500 15000 15500 16000 16500 17000 17500 18000 18500 19000 19500 20000 20500 21000 4 /project/data/download/fold10 <class 'pathlib.PosixPath'>\n",
      "/project/data/sdata3/Label/train.label\n",
      "fold /project/data/download/fold10, n_jfiles=21600\n",
      "07/25/2022 11:17:11\n",
      "500 1000 1500 2000 2500 3000 3500 4000 4500 5000 5500 6000 6500 7000 7500 8000 8500 9000 9500 10000 10500 11000 11500 12000 12500 13000 13500 14000 14500 15000 15500 16000 16500 17000 17500 18000 18500 19000 5 /project/data/download/fold09 <class 'pathlib.PosixPath'>\n",
      "/project/data/sdata3/Label/train.label\n",
      "fold /project/data/download/fold09, n_jfiles=21599\n",
      "07/25/2022 11:33:16\n",
      "500 1000 1500 2000 2500 3000 3500 4000 4500 5000 5500 6000 6500 7000 7500 8000 8500 9000 9500 10000 10500 11000 11500 12000 12500 13000 13500 14000 14500 15000 15500 16000 16500 17000 17500 18000 18500 19000 19500 20000 20500 21000 21500 6 /project/data/download/fold04 <class 'pathlib.PosixPath'>\n",
      "/project/data/sdata3/Label/train.label\n",
      "fold /project/data/download/fold04, n_jfiles=21598\n",
      "07/25/2022 11:49:02\n",
      "500 1000 1500 2000 2500 3000 3500 4000 4500 5000 5500 6000 6500 7000 7500 8000 8500 9000 9500 10000 10500 11000 11500 12000 12500 13000 13500 14000 14500 15000 15500 16000 16500 17000 17500 18000 18500 19000 19500 20000 20500 21000 21500 7 /project/data/download/fold08 <class 'pathlib.PosixPath'>\n",
      "/project/data/sdata3/Label/train.label\n",
      "fold /project/data/download/fold08, n_jfiles=21562\n",
      "07/25/2022 12:04:53\n",
      "500 1000 1500 2000 2500 3000 3500 4000 4500 5000 5500 6000 6500 7000 7500 8000 8500 9000 9500 10000 10500 11000 11500 12000 12500 13000 13500 14000 14500 15000 15500 16000 16500 17000 17500 18000 18500 19000 19500 20000 20500 21000 21500 8 /project/data/download/fold06 <class 'pathlib.PosixPath'>\n",
      "/project/data/sdata3/Label/train.label\n",
      "fold /project/data/download/fold06, n_jfiles=21542\n",
      "07/25/2022 12:20:37\n",
      "500 1000 1500 2000 2500 3000 3500 4000 4500 5000 5500 6000 6500 7000 7500 8000 8500 9000 9500 10000 10500 11000 11500 12000 15000 15500 16000 16500 17000 17500 18000 18500 19000 19500 20000 20500 21000 21500 9 /project/data/download/fold02 <class 'pathlib.PosixPath'>\n",
      "/project/data/sdata3/Label/train.label\n",
      "fold /project/data/download/fold02, n_jfiles=21573\n",
      "07/25/2022 12:36:23\n",
      "500 1000 1500 2000 2500 3000 3500 4000 4500 5000 5500 6000 6500 7000 7500 8000 8500 9000 9500 10000 10500 11000 11500 12000 12500 13000 13500 14000 14500 15000 15500 16000 16500 17000 17500 18000 18500 19000 19500 20000 20500 21000 21500 ends at: 07/25/2022 12:52:14\n"
     ]
    }
   ],
   "source": [
    "final_size = 224\n",
    "ratio = 1.0\n",
    "half_size = int(final_size*0.5*ratio)\n",
    "now=get_now()\n",
    "project = 'create_image_label'\n",
    "wandb.init(project=project, name='process_images_labels')\n",
    "for nf, fold in enumerate(sdatapath.glob('fold*')):\n",
    "    print(nf, fold, type(fold))\n",
    "    if nf < 2:\n",
    "        label_file = 'test.label'\n",
    "    else:\n",
    "        label_file = 'train.label'\n",
    "    label_file = labelpath/label_file\n",
    "    print(label_file)\n",
    "    #source\n",
    "    sfoldpath = fold\n",
    "    #destination\n",
    "    if nf < 2 :\n",
    "        dfoldpath = facepath/'test'\n",
    "    else:\n",
    "        dfoldpath = facepath/'train' \n",
    "#     dfoldpath = facepath/fold.name\n",
    "#     print(f'destination dfoldpath = {dfoldpath}')\n",
    "    os.makedirs(dfoldpath, exist_ok=True)\n",
    "    \n",
    "    jfiles = os.listdir(sfoldpath)\n",
    "    jfiles = [f for f in jfiles if f.endswith('json')]\n",
    "    jfiles.sort()\n",
    "    print(f\"fold {fold}, n_jfiles={len(jfiles)}\")\n",
    "    now=get_now()\n",
    "    print(now)\n",
    "    lf = open(label_file, \"a\")\n",
    "    total = 0\n",
    "    for i, jfile in enumerate(jfiles):\n",
    "        \n",
    "        imfile = jfile.replace('info.json', 'rgb.png')\n",
    "        jfile = sfoldpath/jfile\n",
    "        imfile = sfoldpath/imfile\n",
    "        assert imfile.is_file()\n",
    "        assert jfile.is_file()\n",
    "        \n",
    "        if (i+1)%500==0:\n",
    "            print(f'{i+1}', end=' ')\n",
    "#             print(f'imfile={imfile}', end=' ')\n",
    "#             print(f'jfile={imfile}')\n",
    "        # do the image file\n",
    "        sj = SJ(jfile)\n",
    "        \n",
    "        [pitchl, yawl], [pitchr, yawr] = sj.pitchyaw2d(radian=False, average=False)\n",
    "        if abs(pitchr-pitchl) > 5.0 or abs(yawr-yawl) > 10.0:\n",
    "                continue\n",
    "        \n",
    "        \n",
    "        \n",
    "        face_center = sj.face_center()\n",
    "        im = Image.open(imfile)\n",
    "#         display(im)\n",
    "        assert im.size[0] == im.size[1]\n",
    "        center = face_center*im.size[0]\n",
    "        center = center.astype(int)\n",
    "        crop_position = np.concatenate([center-half_size, center+half_size])\n",
    "        m1 = im.crop(crop_position)\n",
    "        m1 = m1.resize((final_size, final_size))\n",
    "        dimfilename = fold.name+'_'+str(i+1)+'.jpeg'\n",
    "#         print(f'dimfilename={dimfilename}')\n",
    "        dimfile = dfoldpath/dimfilename\n",
    "#         print(f'dimfile={dimfile}')\n",
    "        m1.save(dimfile)\n",
    " \n",
    "        #write label:\n",
    "#         face = '/'.join(dimfile.split('/')[-3:])\n",
    "        face = dimfile.relative_to('/project/data/sdata3/Image/').as_posix()\n",
    "        left = 'NA'\n",
    "        right = 'NA'\n",
    "#         origin = '/'.join(imfile.split('/')[-2:])\n",
    "        origin = imfile.relative_to('/project/data/download/').as_posix()\n",
    "#         print(f'face={face}')\n",
    "#         print(f'origin={origin}')\n",
    "#         pitch, yaw = sj.pitch_yaw()\n",
    "        pitch, yaw = sj.pitchyaw2d()  #in radian and average\n",
    "        whicheye = 'NA'\n",
    "        d3gaze = '0.0,0.0,0.0'\n",
    "        d3head = '0.0,0.0,0.0'\n",
    "        d2gaze = f'{pitch},{yaw}'\n",
    "        d2head = '0.0,0.0'\n",
    "        rmat=smat = '1.0,1.0,1.0'\n",
    "        gazeorigin = '0.0,0.0,0.0'\n",
    "        to_print = ' '.join([face, left, right, origin, whicheye, d3gaze, d3head, d2gaze, d2head, rmat, smat, gazeorigin])\n",
    "#         print(to_print)\n",
    "        print(to_print, file=lf) \n",
    "        total += 1\n",
    "    \n",
    "    lf.close()\n",
    "    wandb.log({'total':total})\n",
    "now = get_now()\n",
    "print(f'ends at: {now}')\n",
    "        "
   ]
  }
 ],
 "metadata": {
  "kernelspec": {
   "display_name": "Python 3 (ipykernel)",
   "language": "python",
   "name": "python3"
  },
  "language_info": {
   "codemirror_mode": {
    "name": "ipython",
    "version": 3
   },
   "file_extension": ".py",
   "mimetype": "text/x-python",
   "name": "python",
   "nbconvert_exporter": "python",
   "pygments_lexer": "ipython3",
   "version": "3.8.10"
  }
 },
 "nbformat": 4,
 "nbformat_minor": 5
}
