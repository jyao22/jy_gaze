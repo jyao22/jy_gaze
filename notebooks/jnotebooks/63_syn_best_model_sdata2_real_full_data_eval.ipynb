{
 "cells": [
  {
   "cell_type": "code",
   "execution_count": 2,
   "id": "9132df96",
   "metadata": {},
   "outputs": [],
   "source": [
    "# Use the best model for each checkpoint folder to test maes for all data folds"
   ]
  },
  {
   "cell_type": "code",
   "execution_count": 3,
   "id": "662efc9c",
   "metadata": {},
   "outputs": [],
   "source": [
    "import os, argparse\n",
    "import numpy as np\n",
    "import matplotlib.pyplot as plt\n",
    "from datetime import datetime\n",
    "from pytz import timezone\n",
    "from pathlib import Path\n",
    "import torch\n",
    "import torch.nn as nn\n",
    "from torch.autograd import Variable\n",
    "from torch.utils.data import DataLoader\n",
    "from torchvision import transforms\n",
    "import torch.backends.cudnn as cudnn\n",
    "import torchvision\n",
    "import wandb\n",
    "\n",
    "import datasets\n",
    "# from utils import select_device, natural_keys, gazeto3d, angular, getArch\n",
    "from utils import select_device, natural_keys, gazeto3d, angular, getArch\n",
    "from model import L2CS"
   ]
  },
  {
   "cell_type": "code",
   "execution_count": 4,
   "id": "ed29c578",
   "metadata": {},
   "outputs": [],
   "source": [
    "args = argparse.Namespace()\n",
    "args.gazeMpiimage_dir = '/project/data/Image'  #real data \n",
    "args.gazeMpiilabel_dir = '/project/data/Label'  #real label\n",
    "# args.output = '/project/results/soutput1/snapshots/'\n",
    "args.dataset = 'mpiigaze'\n",
    "args.snapshot='/project/results/soutput2/snapshots/'\n",
    "# args.evalpath = '/project/results/sroutput1/evaluation/'\n",
    "args.gpu_id = '0,1,2,3'\n",
    "args.gpu_id = '0'\n",
    "args.batch_size = 20\n",
    "args.arch = 'ResNet50'\n",
    "args.bins=35\n",
    "args.angle = 180\n",
    "args.bin_width = 4\n"
   ]
  },
  {
   "cell_type": "code",
   "execution_count": 5,
   "id": "d0e11321",
   "metadata": {},
   "outputs": [],
   "source": [
    "batch_size=args.batch_size\n",
    "arch=args.arch\n",
    "data_set=args.dataset\n",
    "# evalpath =args.evalpath\n",
    "snapshot_path = args.snapshot\n",
    "bins=args.bins\n",
    "angle=args.angle\n",
    "bin_width=args.bin_width\n",
    "gazeMpiimage_dir = args.gazeMpiimage_dir\n",
    "gazeMpiilabel_dir=args.gazeMpiilabel_dir"
   ]
  },
  {
   "cell_type": "code",
   "execution_count": 6,
   "id": "0504fda4",
   "metadata": {},
   "outputs": [],
   "source": [
    "# args = parse_args()\n",
    "cudnn.enabled = True\n",
    "gpu = select_device(args.gpu_id, batch_size=args.batch_size)\n",
    "transformations = transforms.Compose([\n",
    "    transforms.Resize(448),\n",
    "    transforms.ToTensor(),\n",
    "    transforms.Normalize(\n",
    "        mean=[0.485, 0.456, 0.406],\n",
    "        std=[0.229, 0.224, 0.225]\n",
    "    )\n",
    "])\n",
    "\n",
    "model_used= getArch(arch, bins)  #resnet50 and 28 bins"
   ]
  },
  {
   "cell_type": "code",
   "execution_count": 7,
   "id": "2a3aa734",
   "metadata": {},
   "outputs": [
    {
     "name": "stdout",
     "output_type": "stream",
     "text": [
      "fold   best_epoch error(degree)\n",
      " 0        47         2.902   \n",
      " 1        55         2.718   \n",
      " 2        56         3.145   \n",
      " 3        57         3.704   \n",
      " 4        52         3.123   \n",
      " 5        51         2.578   \n",
      " 6        58         3.239   \n",
      " 7        55         2.979   \n",
      " 8        47         4.673   \n",
      " 9        32         4.767   \n",
      " 10       26         2.979   \n",
      " 11       53         2.528   \n",
      " 12       10         3.276   \n",
      " 13       54         2.488   \n",
      " 14       11         3.323   \n"
     ]
    }
   ],
   "source": [
    "#read the fold epoch table\n",
    "dfile = Path(snapshot_path).parent/\"syn_syn_sdata2_all_MAE.npy\"\n",
    "all_MAE = np.load(dfile)\n",
    "best_epoch = {}\n",
    "best_epoch_error = {}\n",
    "print(f\"fold   best_epoch error(degree)\")\n",
    "for idx, fdata in enumerate(all_MAE):\n",
    "#     print(idx, type(idx))\n",
    "    epoch_min_error = np.argmin(fdata)+1\n",
    "    print(f'{idx:^4} {np.argmin(fdata)+1:^12} {fdata.min():^11.3f}')\n",
    "    best_epoch[idx+1] = epoch_min_error\n",
    "    best_epoch_error[idx+1]=fdata.min()"
   ]
  },
  {
   "cell_type": "code",
   "execution_count": 8,
   "id": "6e2eff08",
   "metadata": {},
   "outputs": [
    {
     "name": "stdout",
     "output_type": "stream",
     "text": [
      "0:60 1:60 2:60 3:60 4:60 5:60 6:60 7:60 8:60 9:60 10:60 11:60 12:60 13:60 14:60 "
     ]
    }
   ],
   "source": [
    "# check if we have the correct number of checkpoint files \n",
    "ppath = snapshot_path\n",
    "for fold in range(15):\n",
    "    foldstr = f\"fold{fold:0>2}\"\n",
    "    cpath =os.path.join(ppath, foldstr)\n",
    "    files = os.listdir(cpath)\n",
    "    print(f'{fold}:{len(files)}',end=\" \")"
   ]
  },
  {
   "cell_type": "code",
   "execution_count": 9,
   "id": "72df5465",
   "metadata": {},
   "outputs": [
    {
     "name": "stdout",
     "output_type": "stream",
     "text": [
      "07/14/2022 08:08:50\n"
     ]
    }
   ],
   "source": [
    "def get_now():\n",
    "    now = datetime.utcnow()\n",
    "    now = now.astimezone(timezone('US/Pacific'))\n",
    "    date_format='%m/%d/%Y %H:%M:%S'\n",
    "    now = now.strftime(date_format) \n",
    "    return now\n",
    "print(get_now())"
   ]
  },
  {
   "cell_type": "code",
   "execution_count": 10,
   "id": "aac76d00",
   "metadata": {},
   "outputs": [
    {
     "name": "stdout",
     "output_type": "stream",
     "text": [
      "['/project/data/Label/p00.label', '/project/data/Label/p01.label', '/project/data/Label/p02.label', '/project/data/Label/p03.label', '/project/data/Label/p04.label', '/project/data/Label/p05.label', '/project/data/Label/p06.label', '/project/data/Label/p07.label', '/project/data/Label/p08.label', '/project/data/Label/p09.label', '/project/data/Label/p10.label', '/project/data/Label/p11.label', '/project/data/Label/p12.label', '/project/data/Label/p13.label', '/project/data/Label/p14.label']\n"
     ]
    },
    {
     "name": "stderr",
     "output_type": "stream",
     "text": [
      "\u001b[34m\u001b[1mwandb\u001b[0m: Currently logged in as: \u001b[33msynthesis-ai\u001b[0m (use `wandb login --relogin` to force relogin)\n"
     ]
    },
    {
     "data": {
      "text/html": [
       "wandb version 0.12.21 is available!  To upgrade, please run:\n",
       " $ pip install wandb --upgrade"
      ],
      "text/plain": [
       "<IPython.core.display.HTML object>"
      ]
     },
     "metadata": {},
     "output_type": "display_data"
    },
    {
     "data": {
      "text/html": [
       "Tracking run with wandb version 0.12.15"
      ],
      "text/plain": [
       "<IPython.core.display.HTML object>"
      ]
     },
     "metadata": {},
     "output_type": "display_data"
    },
    {
     "data": {
      "text/html": [
       "Run data is saved locally in <code>/project/notebooks/wandb/run-20220714_150853-36mamynk</code>"
      ],
      "text/plain": [
       "<IPython.core.display.HTML object>"
      ]
     },
     "metadata": {},
     "output_type": "display_data"
    },
    {
     "data": {
      "text/html": [
       "Syncing run <strong><a href=\"https://wandb.ai/synthesis-ai/63_best_checkpoint_model_all_real_data_folds/runs/36mamynk\" target=\"_blank\">driven-wildflower-1</a></strong> to <a href=\"https://wandb.ai/synthesis-ai/63_best_checkpoint_model_all_real_data_folds\" target=\"_blank\">Weights & Biases</a> (<a href=\"https://wandb.me/run\" target=\"_blank\">docs</a>)<br/>"
      ],
      "text/plain": [
       "<IPython.core.display.HTML object>"
      ]
     },
     "metadata": {},
     "output_type": "display_data"
    },
    {
     "name": "stdout",
     "output_type": "stream",
     "text": [
      "cfold=fold00\n",
      "0 items removed from dataset that have an angle > 180\n",
      "\n",
      "test configuration: gpu_id=cuda:0, batch_size=20\n",
      "model_arch=ResNet50 Start testing dataset=mpiigaze\n",
      "cFOLD=0 dFOLD=0--07/14/2022 08:08:57----\n",
      "[cfold0---dfold 0] Total Num:3000, MAE:4.760603778014664  07/14/2022 08:09:12\n",
      "0 items removed from dataset that have an angle > 180\n",
      "\n",
      "test configuration: gpu_id=cuda:0, batch_size=20\n",
      "model_arch=ResNet50 Start testing dataset=mpiigaze\n",
      "cFOLD=0 dFOLD=1--07/14/2022 08:09:12----\n",
      "[cfold0---dfold 1] Total Num:3000, MAE:5.961119076162659  07/14/2022 08:09:25\n",
      "0 items removed from dataset that have an angle > 180\n",
      "\n",
      "test configuration: gpu_id=cuda:0, batch_size=20\n",
      "model_arch=ResNet50 Start testing dataset=mpiigaze\n",
      "cFOLD=0 dFOLD=2--07/14/2022 08:09:25----\n",
      "[cfold0---dfold 2] Total Num:3000, MAE:5.588073937308223  07/14/2022 08:09:38\n",
      "0 items removed from dataset that have an angle > 180\n",
      "\n",
      "test configuration: gpu_id=cuda:0, batch_size=20\n",
      "model_arch=ResNet50 Start testing dataset=mpiigaze\n",
      "cFOLD=0 dFOLD=3--07/14/2022 08:09:38----\n",
      "[cfold0---dfold 3] Total Num:3000, MAE:8.205885036708148  07/14/2022 08:09:51\n",
      "0 items removed from dataset that have an angle > 180\n",
      "\n",
      "test configuration: gpu_id=cuda:0, batch_size=20\n",
      "model_arch=ResNet50 Start testing dataset=mpiigaze\n",
      "cFOLD=0 dFOLD=4--07/14/2022 08:09:51----\n",
      "[cfold0---dfold 4] Total Num:3000, MAE:4.938704065180973  07/14/2022 08:10:04\n",
      "0 items removed from dataset that have an angle > 180\n",
      "\n",
      "test configuration: gpu_id=cuda:0, batch_size=20\n",
      "model_arch=ResNet50 Start testing dataset=mpiigaze\n",
      "cFOLD=0 dFOLD=5--07/14/2022 08:10:04----\n",
      "[cfold0---dfold 5] Total Num:3000, MAE:5.755700334171971  07/14/2022 08:10:17\n",
      "0 items removed from dataset that have an angle > 180\n",
      "\n",
      "test configuration: gpu_id=cuda:0, batch_size=20\n",
      "model_arch=ResNet50 Start testing dataset=mpiigaze\n",
      "cFOLD=0 dFOLD=6--07/14/2022 08:10:17----\n",
      "[cfold0---dfold 6] Total Num:3000, MAE:10.796811822055139  07/14/2022 08:10:30\n",
      "0 items removed from dataset that have an angle > 180\n",
      "\n",
      "test configuration: gpu_id=cuda:0, batch_size=20\n",
      "model_arch=ResNet50 Start testing dataset=mpiigaze\n",
      "cFOLD=0 dFOLD=7--07/14/2022 08:10:30----\n",
      "[cfold0---dfold 7] Total Num:3000, MAE:6.91608258809574  07/14/2022 08:10:43\n",
      "0 items removed from dataset that have an angle > 180\n",
      "\n",
      "test configuration: gpu_id=cuda:0, batch_size=20\n",
      "model_arch=ResNet50 Start testing dataset=mpiigaze\n",
      "cFOLD=0 dFOLD=8--07/14/2022 08:10:43----\n",
      "[cfold0---dfold 8] Total Num:3000, MAE:6.934829180075415  07/14/2022 08:10:56\n",
      "0 items removed from dataset that have an angle > 180\n",
      "\n",
      "test configuration: gpu_id=cuda:0, batch_size=20\n",
      "model_arch=ResNet50 Start testing dataset=mpiigaze\n",
      "cFOLD=0 dFOLD=9--07/14/2022 08:10:56----\n",
      "[cfold0---dfold 9] Total Num:3000, MAE:7.14614139362902  07/14/2022 08:11:09\n",
      "0 items removed from dataset that have an angle > 180\n",
      "\n",
      "test configuration: gpu_id=cuda:0, batch_size=20\n",
      "model_arch=ResNet50 Start testing dataset=mpiigaze\n",
      "cFOLD=0 dFOLD=10--07/14/2022 08:11:09----\n",
      "[cfold0---dfold 10] Total Num:3000, MAE:9.971372605082266  07/14/2022 08:11:21\n",
      "0 items removed from dataset that have an angle > 180\n",
      "\n",
      "test configuration: gpu_id=cuda:0, batch_size=20\n",
      "model_arch=ResNet50 Start testing dataset=mpiigaze\n",
      "cFOLD=0 dFOLD=11--07/14/2022 08:11:21----\n",
      "[cfold0---dfold 11] Total Num:3000, MAE:8.094497595883915  07/14/2022 08:11:34\n",
      "0 items removed from dataset that have an angle > 180\n",
      "\n",
      "test configuration: gpu_id=cuda:0, batch_size=20\n",
      "model_arch=ResNet50 Start testing dataset=mpiigaze\n",
      "cFOLD=0 dFOLD=12--07/14/2022 08:11:34----\n",
      "[cfold0---dfold 12] Total Num:3000, MAE:8.240305906802316  07/14/2022 08:11:47\n",
      "0 items removed from dataset that have an angle > 180\n",
      "\n",
      "test configuration: gpu_id=cuda:0, batch_size=20\n",
      "model_arch=ResNet50 Start testing dataset=mpiigaze\n",
      "cFOLD=0 dFOLD=13--07/14/2022 08:11:47----\n",
      "[cfold0---dfold 13] Total Num:3000, MAE:9.751188034737398  07/14/2022 08:12:00\n",
      "0 items removed from dataset that have an angle > 180\n",
      "\n",
      "test configuration: gpu_id=cuda:0, batch_size=20\n",
      "model_arch=ResNet50 Start testing dataset=mpiigaze\n",
      "cFOLD=0 dFOLD=14--07/14/2022 08:12:00----\n",
      "[cfold0---dfold 14] Total Num:3000, MAE:5.990707218005135  07/14/2022 08:12:13\n",
      "[cfold0--] MAE for this fold best model:7.270134838127532  07/14/2022 08:12:13\n"
     ]
    },
    {
     "data": {
      "text/html": [
       "Finishing last run (ID:36mamynk) before initializing another..."
      ],
      "text/plain": [
       "<IPython.core.display.HTML object>"
      ]
     },
     "metadata": {},
     "output_type": "display_data"
    },
    {
     "data": {
      "text/html": [
       "Waiting for W&B process to finish... <strong style=\"color:green\">(success).</strong>"
      ],
      "text/plain": [
       "<IPython.core.display.HTML object>"
      ]
     },
     "metadata": {},
     "output_type": "display_data"
    },
    {
     "data": {
      "application/vnd.jupyter.widget-view+json": {
       "model_id": "",
       "version_major": 2,
       "version_minor": 0
      },
      "text/plain": [
       "VBox(children=(Label(value='0.001 MB of 0.001 MB uploaded (0.000 MB deduped)\\r'), FloatProgress(value=1.0, max…"
      ]
     },
     "metadata": {},
     "output_type": "display_data"
    },
    {
     "data": {
      "text/html": [
       "<style>\n",
       "    table.wandb td:nth-child(1) { padding: 0 10px; text-align: right }\n",
       "    .wandb-row { display: flex; flex-direction: row; flex-wrap: wrap; width: 100% }\n",
       "    .wandb-col { display: flex; flex-direction: column; flex-basis: 100%; flex: 1; padding: 10px; }\n",
       "    </style>\n",
       "<div class=\"wandb-row\"><div class=\"wandb-col\"><h3>Run history:</h3><br/><table class=\"wandb\"><tr><td>data fold</td><td>▁▁▂▃▃▃▄▅▅▅▆▇▇▇█</td></tr><tr><td>dfold_0_avg_mae</td><td>▁</td></tr><tr><td>dfold_10_avg_mae</td><td>▁</td></tr><tr><td>dfold_11_avg_mae</td><td>▁</td></tr><tr><td>dfold_12_avg_mae</td><td>▁</td></tr><tr><td>dfold_13_avg_mae</td><td>▁</td></tr><tr><td>dfold_14_avg_mae</td><td>▁</td></tr><tr><td>dfold_1_avg_mae</td><td>▁</td></tr><tr><td>dfold_2_avg_mae</td><td>▁</td></tr><tr><td>dfold_3_avg_mae</td><td>▁</td></tr><tr><td>dfold_4_avg_mae</td><td>▁</td></tr><tr><td>dfold_5_avg_mae</td><td>▁</td></tr><tr><td>dfold_6_avg_mae</td><td>▁</td></tr><tr><td>dfold_7_avg_mae</td><td>▁</td></tr><tr><td>dfold_8_avg_mae</td><td>▁</td></tr><tr><td>dfold_9_avg_mae</td><td>▁</td></tr></table><br/></div><div class=\"wandb-col\"><h3>Run summary:</h3><br/><table class=\"wandb\"><tr><td>data fold</td><td>14</td></tr><tr><td>dfold_0_avg_mae</td><td>4.7606</td></tr><tr><td>dfold_10_avg_mae</td><td>9.97137</td></tr><tr><td>dfold_11_avg_mae</td><td>8.0945</td></tr><tr><td>dfold_12_avg_mae</td><td>8.24031</td></tr><tr><td>dfold_13_avg_mae</td><td>9.75119</td></tr><tr><td>dfold_14_avg_mae</td><td>5.99071</td></tr><tr><td>dfold_1_avg_mae</td><td>5.96112</td></tr><tr><td>dfold_2_avg_mae</td><td>5.58807</td></tr><tr><td>dfold_3_avg_mae</td><td>8.20589</td></tr><tr><td>dfold_4_avg_mae</td><td>4.9387</td></tr><tr><td>dfold_5_avg_mae</td><td>5.7557</td></tr><tr><td>dfold_6_avg_mae</td><td>10.79681</td></tr><tr><td>dfold_7_avg_mae</td><td>6.91608</td></tr><tr><td>dfold_8_avg_mae</td><td>6.93483</td></tr><tr><td>dfold_9_avg_mae</td><td>7.14614</td></tr></table><br/></div></div>"
      ],
      "text/plain": [
       "<IPython.core.display.HTML object>"
      ]
     },
     "metadata": {},
     "output_type": "display_data"
    },
    {
     "data": {
      "text/html": [
       "Synced <strong style=\"color:#cdcd00\">driven-wildflower-1</strong>: <a href=\"https://wandb.ai/synthesis-ai/63_best_checkpoint_model_all_real_data_folds/runs/36mamynk\" target=\"_blank\">https://wandb.ai/synthesis-ai/63_best_checkpoint_model_all_real_data_folds/runs/36mamynk</a><br/>Synced 5 W&B file(s), 0 media file(s), 0 artifact file(s) and 0 other file(s)"
      ],
      "text/plain": [
       "<IPython.core.display.HTML object>"
      ]
     },
     "metadata": {},
     "output_type": "display_data"
    },
    {
     "data": {
      "text/html": [
       "Find logs at: <code>./wandb/run-20220714_150853-36mamynk/logs</code>"
      ],
      "text/plain": [
       "<IPython.core.display.HTML object>"
      ]
     },
     "metadata": {},
     "output_type": "display_data"
    },
    {
     "data": {
      "text/html": [
       "Successfully finished last run (ID:36mamynk). Initializing new run:<br/>"
      ],
      "text/plain": [
       "<IPython.core.display.HTML object>"
      ]
     },
     "metadata": {},
     "output_type": "display_data"
    },
    {
     "data": {
      "text/html": [
       "wandb version 0.12.21 is available!  To upgrade, please run:\n",
       " $ pip install wandb --upgrade"
      ],
      "text/plain": [
       "<IPython.core.display.HTML object>"
      ]
     },
     "metadata": {},
     "output_type": "display_data"
    },
    {
     "data": {
      "text/html": [
       "Tracking run with wandb version 0.12.15"
      ],
      "text/plain": [
       "<IPython.core.display.HTML object>"
      ]
     },
     "metadata": {},
     "output_type": "display_data"
    },
    {
     "data": {
      "text/html": [
       "Run data is saved locally in <code>/project/notebooks/wandb/run-20220714_151213-2xl7b7lv</code>"
      ],
      "text/plain": [
       "<IPython.core.display.HTML object>"
      ]
     },
     "metadata": {},
     "output_type": "display_data"
    },
    {
     "data": {
      "text/html": [
       "Syncing run <strong><a href=\"https://wandb.ai/synthesis-ai/63_best_checkpoint_model_all_real_data_folds/runs/2xl7b7lv\" target=\"_blank\">vivid-dawn-2</a></strong> to <a href=\"https://wandb.ai/synthesis-ai/63_best_checkpoint_model_all_real_data_folds\" target=\"_blank\">Weights & Biases</a> (<a href=\"https://wandb.me/run\" target=\"_blank\">docs</a>)<br/>"
      ],
      "text/plain": [
       "<IPython.core.display.HTML object>"
      ]
     },
     "metadata": {},
     "output_type": "display_data"
    },
    {
     "name": "stdout",
     "output_type": "stream",
     "text": [
      "cfold=fold01\n",
      "0 items removed from dataset that have an angle > 180\n",
      "\n",
      "test configuration: gpu_id=cuda:0, batch_size=20\n",
      "model_arch=ResNet50 Start testing dataset=mpiigaze\n",
      "cFOLD=1 dFOLD=0--07/14/2022 08:12:22----\n",
      "[cfold1---dfold 0] Total Num:3000, MAE:5.034936656205768  07/14/2022 08:12:35\n",
      "0 items removed from dataset that have an angle > 180\n",
      "\n",
      "test configuration: gpu_id=cuda:0, batch_size=20\n",
      "model_arch=ResNet50 Start testing dataset=mpiigaze\n",
      "cFOLD=1 dFOLD=1--07/14/2022 08:12:35----\n",
      "[cfold1---dfold 1] Total Num:3000, MAE:7.096040153084886  07/14/2022 08:12:48\n",
      "0 items removed from dataset that have an angle > 180\n",
      "\n",
      "test configuration: gpu_id=cuda:0, batch_size=20\n",
      "model_arch=ResNet50 Start testing dataset=mpiigaze\n",
      "cFOLD=1 dFOLD=2--07/14/2022 08:12:48----\n",
      "[cfold1---dfold 2] Total Num:3000, MAE:5.589969066774633  07/14/2022 08:13:01\n",
      "0 items removed from dataset that have an angle > 180\n",
      "\n",
      "test configuration: gpu_id=cuda:0, batch_size=20\n",
      "model_arch=ResNet50 Start testing dataset=mpiigaze\n",
      "cFOLD=1 dFOLD=3--07/14/2022 08:13:01----\n",
      "[cfold1---dfold 3] Total Num:3000, MAE:7.162398747123455  07/14/2022 08:13:13\n",
      "0 items removed from dataset that have an angle > 180\n",
      "\n",
      "test configuration: gpu_id=cuda:0, batch_size=20\n",
      "model_arch=ResNet50 Start testing dataset=mpiigaze\n",
      "cFOLD=1 dFOLD=4--07/14/2022 08:13:14----\n",
      "[cfold1---dfold 4] Total Num:3000, MAE:6.3067564205612  07/14/2022 08:13:26\n",
      "0 items removed from dataset that have an angle > 180\n",
      "\n",
      "test configuration: gpu_id=cuda:0, batch_size=20\n",
      "model_arch=ResNet50 Start testing dataset=mpiigaze\n",
      "cFOLD=1 dFOLD=5--07/14/2022 08:13:26----\n",
      "[cfold1---dfold 5] Total Num:3000, MAE:6.192048930812067  07/14/2022 08:13:39\n",
      "0 items removed from dataset that have an angle > 180\n",
      "\n",
      "test configuration: gpu_id=cuda:0, batch_size=20\n",
      "model_arch=ResNet50 Start testing dataset=mpiigaze\n",
      "cFOLD=1 dFOLD=6--07/14/2022 08:13:39----\n",
      "[cfold1---dfold 6] Total Num:3000, MAE:10.782204618683974  07/14/2022 08:13:52\n",
      "0 items removed from dataset that have an angle > 180\n",
      "\n",
      "test configuration: gpu_id=cuda:0, batch_size=20\n",
      "model_arch=ResNet50 Start testing dataset=mpiigaze\n",
      "cFOLD=1 dFOLD=7--07/14/2022 08:13:52----\n",
      "[cfold1---dfold 7] Total Num:3000, MAE:7.235908644285305  07/14/2022 08:14:05\n",
      "0 items removed from dataset that have an angle > 180\n",
      "\n",
      "test configuration: gpu_id=cuda:0, batch_size=20\n",
      "model_arch=ResNet50 Start testing dataset=mpiigaze\n",
      "cFOLD=1 dFOLD=8--07/14/2022 08:14:05----\n",
      "[cfold1---dfold 8] Total Num:3000, MAE:7.462889429380124  07/14/2022 08:14:18\n",
      "0 items removed from dataset that have an angle > 180\n",
      "\n",
      "test configuration: gpu_id=cuda:0, batch_size=20\n",
      "model_arch=ResNet50 Start testing dataset=mpiigaze\n",
      "cFOLD=1 dFOLD=9--07/14/2022 08:14:18----\n",
      "[cfold1---dfold 9] Total Num:3000, MAE:7.95244691845462  07/14/2022 08:14:31\n",
      "0 items removed from dataset that have an angle > 180\n",
      "\n",
      "test configuration: gpu_id=cuda:0, batch_size=20\n",
      "model_arch=ResNet50 Start testing dataset=mpiigaze\n",
      "cFOLD=1 dFOLD=10--07/14/2022 08:14:31----\n",
      "[cfold1---dfold 10] Total Num:3000, MAE:9.327985743907867  07/14/2022 08:14:44\n",
      "0 items removed from dataset that have an angle > 180\n",
      "\n",
      "test configuration: gpu_id=cuda:0, batch_size=20\n",
      "model_arch=ResNet50 Start testing dataset=mpiigaze\n",
      "cFOLD=1 dFOLD=11--07/14/2022 08:14:44----\n",
      "[cfold1---dfold 11] Total Num:3000, MAE:7.40086651583108  07/14/2022 08:14:57\n",
      "0 items removed from dataset that have an angle > 180\n",
      "\n",
      "test configuration: gpu_id=cuda:0, batch_size=20\n",
      "model_arch=ResNet50 Start testing dataset=mpiigaze\n",
      "cFOLD=1 dFOLD=12--07/14/2022 08:14:57----\n",
      "[cfold1---dfold 12] Total Num:3000, MAE:7.364014074427336  07/14/2022 08:15:09\n",
      "0 items removed from dataset that have an angle > 180\n",
      "\n",
      "test configuration: gpu_id=cuda:0, batch_size=20\n",
      "model_arch=ResNet50 Start testing dataset=mpiigaze\n",
      "cFOLD=1 dFOLD=13--07/14/2022 08:15:09----\n",
      "[cfold1---dfold 13] Total Num:3000, MAE:8.668373536949542  07/14/2022 08:15:22\n",
      "0 items removed from dataset that have an angle > 180\n",
      "\n",
      "test configuration: gpu_id=cuda:0, batch_size=20\n",
      "model_arch=ResNet50 Start testing dataset=mpiigaze\n",
      "cFOLD=1 dFOLD=14--07/14/2022 08:15:22----\n",
      "[cfold1---dfold 14] Total Num:3000, MAE:5.939071295843746  07/14/2022 08:15:35\n",
      "[cfold1--] MAE for this fold best model:7.301060716821708  07/14/2022 08:15:35\n"
     ]
    },
    {
     "data": {
      "text/html": [
       "Finishing last run (ID:2xl7b7lv) before initializing another..."
      ],
      "text/plain": [
       "<IPython.core.display.HTML object>"
      ]
     },
     "metadata": {},
     "output_type": "display_data"
    },
    {
     "data": {
      "text/html": [
       "Waiting for W&B process to finish... <strong style=\"color:green\">(success).</strong>"
      ],
      "text/plain": [
       "<IPython.core.display.HTML object>"
      ]
     },
     "metadata": {},
     "output_type": "display_data"
    },
    {
     "data": {
      "application/vnd.jupyter.widget-view+json": {
       "model_id": "",
       "version_major": 2,
       "version_minor": 0
      },
      "text/plain": [
       "VBox(children=(Label(value='0.001 MB of 0.001 MB uploaded (0.000 MB deduped)\\r'), FloatProgress(value=1.0, max…"
      ]
     },
     "metadata": {},
     "output_type": "display_data"
    },
    {
     "data": {
      "text/html": [
       "<style>\n",
       "    table.wandb td:nth-child(1) { padding: 0 10px; text-align: right }\n",
       "    .wandb-row { display: flex; flex-direction: row; flex-wrap: wrap; width: 100% }\n",
       "    .wandb-col { display: flex; flex-direction: column; flex-basis: 100%; flex: 1; padding: 10px; }\n",
       "    </style>\n",
       "<div class=\"wandb-row\"><div class=\"wandb-col\"><h3>Run history:</h3><br/><table class=\"wandb\"><tr><td>data fold</td><td>▁▁▂▃▃▃▄▅▅▅▆▇▇▇█</td></tr><tr><td>dfold_0_avg_mae</td><td>▁</td></tr><tr><td>dfold_10_avg_mae</td><td>▁</td></tr><tr><td>dfold_11_avg_mae</td><td>▁</td></tr><tr><td>dfold_12_avg_mae</td><td>▁</td></tr><tr><td>dfold_13_avg_mae</td><td>▁</td></tr><tr><td>dfold_14_avg_mae</td><td>▁</td></tr><tr><td>dfold_1_avg_mae</td><td>▁</td></tr><tr><td>dfold_2_avg_mae</td><td>▁</td></tr><tr><td>dfold_3_avg_mae</td><td>▁</td></tr><tr><td>dfold_4_avg_mae</td><td>▁</td></tr><tr><td>dfold_5_avg_mae</td><td>▁</td></tr><tr><td>dfold_6_avg_mae</td><td>▁</td></tr><tr><td>dfold_7_avg_mae</td><td>▁</td></tr><tr><td>dfold_8_avg_mae</td><td>▁</td></tr><tr><td>dfold_9_avg_mae</td><td>▁</td></tr></table><br/></div><div class=\"wandb-col\"><h3>Run summary:</h3><br/><table class=\"wandb\"><tr><td>data fold</td><td>14</td></tr><tr><td>dfold_0_avg_mae</td><td>5.03494</td></tr><tr><td>dfold_10_avg_mae</td><td>9.32799</td></tr><tr><td>dfold_11_avg_mae</td><td>7.40087</td></tr><tr><td>dfold_12_avg_mae</td><td>7.36401</td></tr><tr><td>dfold_13_avg_mae</td><td>8.66837</td></tr><tr><td>dfold_14_avg_mae</td><td>5.93907</td></tr><tr><td>dfold_1_avg_mae</td><td>7.09604</td></tr><tr><td>dfold_2_avg_mae</td><td>5.58997</td></tr><tr><td>dfold_3_avg_mae</td><td>7.1624</td></tr><tr><td>dfold_4_avg_mae</td><td>6.30676</td></tr><tr><td>dfold_5_avg_mae</td><td>6.19205</td></tr><tr><td>dfold_6_avg_mae</td><td>10.7822</td></tr><tr><td>dfold_7_avg_mae</td><td>7.23591</td></tr><tr><td>dfold_8_avg_mae</td><td>7.46289</td></tr><tr><td>dfold_9_avg_mae</td><td>7.95245</td></tr></table><br/></div></div>"
      ],
      "text/plain": [
       "<IPython.core.display.HTML object>"
      ]
     },
     "metadata": {},
     "output_type": "display_data"
    },
    {
     "data": {
      "text/html": [
       "Synced <strong style=\"color:#cdcd00\">vivid-dawn-2</strong>: <a href=\"https://wandb.ai/synthesis-ai/63_best_checkpoint_model_all_real_data_folds/runs/2xl7b7lv\" target=\"_blank\">https://wandb.ai/synthesis-ai/63_best_checkpoint_model_all_real_data_folds/runs/2xl7b7lv</a><br/>Synced 5 W&B file(s), 0 media file(s), 0 artifact file(s) and 0 other file(s)"
      ],
      "text/plain": [
       "<IPython.core.display.HTML object>"
      ]
     },
     "metadata": {},
     "output_type": "display_data"
    },
    {
     "data": {
      "text/html": [
       "Find logs at: <code>./wandb/run-20220714_151213-2xl7b7lv/logs</code>"
      ],
      "text/plain": [
       "<IPython.core.display.HTML object>"
      ]
     },
     "metadata": {},
     "output_type": "display_data"
    },
    {
     "data": {
      "text/html": [
       "Successfully finished last run (ID:2xl7b7lv). Initializing new run:<br/>"
      ],
      "text/plain": [
       "<IPython.core.display.HTML object>"
      ]
     },
     "metadata": {},
     "output_type": "display_data"
    },
    {
     "data": {
      "text/html": [
       "wandb version 0.12.21 is available!  To upgrade, please run:\n",
       " $ pip install wandb --upgrade"
      ],
      "text/plain": [
       "<IPython.core.display.HTML object>"
      ]
     },
     "metadata": {},
     "output_type": "display_data"
    },
    {
     "data": {
      "text/html": [
       "Tracking run with wandb version 0.12.15"
      ],
      "text/plain": [
       "<IPython.core.display.HTML object>"
      ]
     },
     "metadata": {},
     "output_type": "display_data"
    },
    {
     "data": {
      "text/html": [
       "Run data is saved locally in <code>/project/notebooks/wandb/run-20220714_151535-1mcg1auw</code>"
      ],
      "text/plain": [
       "<IPython.core.display.HTML object>"
      ]
     },
     "metadata": {},
     "output_type": "display_data"
    },
    {
     "data": {
      "text/html": [
       "Syncing run <strong><a href=\"https://wandb.ai/synthesis-ai/63_best_checkpoint_model_all_real_data_folds/runs/1mcg1auw\" target=\"_blank\">vocal-donkey-3</a></strong> to <a href=\"https://wandb.ai/synthesis-ai/63_best_checkpoint_model_all_real_data_folds\" target=\"_blank\">Weights & Biases</a> (<a href=\"https://wandb.me/run\" target=\"_blank\">docs</a>)<br/>"
      ],
      "text/plain": [
       "<IPython.core.display.HTML object>"
      ]
     },
     "metadata": {},
     "output_type": "display_data"
    },
    {
     "name": "stdout",
     "output_type": "stream",
     "text": [
      "cfold=fold02\n",
      "0 items removed from dataset that have an angle > 180\n",
      "\n",
      "test configuration: gpu_id=cuda:0, batch_size=20\n",
      "model_arch=ResNet50 Start testing dataset=mpiigaze\n",
      "cFOLD=2 dFOLD=0--07/14/2022 08:15:44----\n",
      "[cfold2---dfold 0] Total Num:3000, MAE:4.658164787540459  07/14/2022 08:15:57\n",
      "0 items removed from dataset that have an angle > 180\n",
      "\n",
      "test configuration: gpu_id=cuda:0, batch_size=20\n",
      "model_arch=ResNet50 Start testing dataset=mpiigaze\n",
      "cFOLD=2 dFOLD=1--07/14/2022 08:15:57----\n",
      "[cfold2---dfold 1] Total Num:3000, MAE:6.41484815147012  07/14/2022 08:16:10\n",
      "0 items removed from dataset that have an angle > 180\n",
      "\n",
      "test configuration: gpu_id=cuda:0, batch_size=20\n",
      "model_arch=ResNet50 Start testing dataset=mpiigaze\n",
      "cFOLD=2 dFOLD=2--07/14/2022 08:16:10----\n",
      "[cfold2---dfold 2] Total Num:3000, MAE:5.656006343540174  07/14/2022 08:16:23\n",
      "0 items removed from dataset that have an angle > 180\n",
      "\n",
      "test configuration: gpu_id=cuda:0, batch_size=20\n",
      "model_arch=ResNet50 Start testing dataset=mpiigaze\n",
      "cFOLD=2 dFOLD=3--07/14/2022 08:16:23----\n",
      "[cfold2---dfold 3] Total Num:3000, MAE:6.662167468866562  07/14/2022 08:16:35\n",
      "0 items removed from dataset that have an angle > 180\n",
      "\n",
      "test configuration: gpu_id=cuda:0, batch_size=20\n",
      "model_arch=ResNet50 Start testing dataset=mpiigaze\n",
      "cFOLD=2 dFOLD=4--07/14/2022 08:16:35----\n",
      "[cfold2---dfold 4] Total Num:3000, MAE:5.971629713777183  07/14/2022 08:16:48\n",
      "0 items removed from dataset that have an angle > 180\n",
      "\n",
      "test configuration: gpu_id=cuda:0, batch_size=20\n",
      "model_arch=ResNet50 Start testing dataset=mpiigaze\n",
      "cFOLD=2 dFOLD=5--07/14/2022 08:16:48----\n",
      "[cfold2---dfold 5] Total Num:3000, MAE:5.9043587994897715  07/14/2022 08:17:01\n",
      "0 items removed from dataset that have an angle > 180\n",
      "\n",
      "test configuration: gpu_id=cuda:0, batch_size=20\n",
      "model_arch=ResNet50 Start testing dataset=mpiigaze\n",
      "cFOLD=2 dFOLD=6--07/14/2022 08:17:01----\n",
      "[cfold2---dfold 6] Total Num:3000, MAE:9.979593095080842  07/14/2022 08:17:14\n",
      "0 items removed from dataset that have an angle > 180\n",
      "\n",
      "test configuration: gpu_id=cuda:0, batch_size=20\n",
      "model_arch=ResNet50 Start testing dataset=mpiigaze\n",
      "cFOLD=2 dFOLD=7--07/14/2022 08:17:14----\n",
      "[cfold2---dfold 7] Total Num:3000, MAE:6.850101158802547  07/14/2022 08:17:27\n",
      "0 items removed from dataset that have an angle > 180\n",
      "\n",
      "test configuration: gpu_id=cuda:0, batch_size=20\n",
      "model_arch=ResNet50 Start testing dataset=mpiigaze\n",
      "cFOLD=2 dFOLD=8--07/14/2022 08:17:27----\n",
      "[cfold2---dfold 8] Total Num:3000, MAE:6.905274596886353  07/14/2022 08:17:40\n",
      "0 items removed from dataset that have an angle > 180\n",
      "\n",
      "test configuration: gpu_id=cuda:0, batch_size=20\n",
      "model_arch=ResNet50 Start testing dataset=mpiigaze\n",
      "cFOLD=2 dFOLD=9--07/14/2022 08:17:40----\n",
      "[cfold2---dfold 9] Total Num:3000, MAE:7.9481484646095115  07/14/2022 08:17:53\n",
      "0 items removed from dataset that have an angle > 180\n",
      "\n",
      "test configuration: gpu_id=cuda:0, batch_size=20\n",
      "model_arch=ResNet50 Start testing dataset=mpiigaze\n",
      "cFOLD=2 dFOLD=10--07/14/2022 08:17:53----\n",
      "[cfold2---dfold 10] Total Num:3000, MAE:8.757004724983297  07/14/2022 08:18:05\n",
      "0 items removed from dataset that have an angle > 180\n",
      "\n",
      "test configuration: gpu_id=cuda:0, batch_size=20\n",
      "model_arch=ResNet50 Start testing dataset=mpiigaze\n",
      "cFOLD=2 dFOLD=11--07/14/2022 08:18:05----\n",
      "[cfold2---dfold 11] Total Num:3000, MAE:7.579217837579078  07/14/2022 08:18:18\n",
      "0 items removed from dataset that have an angle > 180\n",
      "\n",
      "test configuration: gpu_id=cuda:0, batch_size=20\n",
      "model_arch=ResNet50 Start testing dataset=mpiigaze\n",
      "cFOLD=2 dFOLD=12--07/14/2022 08:18:18----\n",
      "[cfold2---dfold 12] Total Num:3000, MAE:7.657845813919608  07/14/2022 08:18:31\n",
      "0 items removed from dataset that have an angle > 180\n",
      "\n",
      "test configuration: gpu_id=cuda:0, batch_size=20\n",
      "model_arch=ResNet50 Start testing dataset=mpiigaze\n",
      "cFOLD=2 dFOLD=13--07/14/2022 08:18:31----\n",
      "[cfold2---dfold 13] Total Num:3000, MAE:6.937848042089321  07/14/2022 08:18:44\n",
      "0 items removed from dataset that have an angle > 180\n",
      "\n",
      "test configuration: gpu_id=cuda:0, batch_size=20\n",
      "model_arch=ResNet50 Start testing dataset=mpiigaze\n",
      "cFOLD=2 dFOLD=14--07/14/2022 08:18:44----\n",
      "[cfold2---dfold 14] Total Num:3000, MAE:6.816410800483771  07/14/2022 08:18:57\n",
      "[cfold2--] MAE for this fold best model:6.979907986607905  07/14/2022 08:18:57\n"
     ]
    },
    {
     "data": {
      "text/html": [
       "Finishing last run (ID:1mcg1auw) before initializing another..."
      ],
      "text/plain": [
       "<IPython.core.display.HTML object>"
      ]
     },
     "metadata": {},
     "output_type": "display_data"
    },
    {
     "data": {
      "text/html": [
       "Waiting for W&B process to finish... <strong style=\"color:green\">(success).</strong>"
      ],
      "text/plain": [
       "<IPython.core.display.HTML object>"
      ]
     },
     "metadata": {},
     "output_type": "display_data"
    },
    {
     "data": {
      "application/vnd.jupyter.widget-view+json": {
       "model_id": "",
       "version_major": 2,
       "version_minor": 0
      },
      "text/plain": [
       "VBox(children=(Label(value='0.001 MB of 0.001 MB uploaded (0.000 MB deduped)\\r'), FloatProgress(value=1.0, max…"
      ]
     },
     "metadata": {},
     "output_type": "display_data"
    },
    {
     "data": {
      "text/html": [
       "<style>\n",
       "    table.wandb td:nth-child(1) { padding: 0 10px; text-align: right }\n",
       "    .wandb-row { display: flex; flex-direction: row; flex-wrap: wrap; width: 100% }\n",
       "    .wandb-col { display: flex; flex-direction: column; flex-basis: 100%; flex: 1; padding: 10px; }\n",
       "    </style>\n",
       "<div class=\"wandb-row\"><div class=\"wandb-col\"><h3>Run history:</h3><br/><table class=\"wandb\"><tr><td>data fold</td><td>▁▁▂▃▃▃▄▅▅▅▆▇▇▇█</td></tr><tr><td>dfold_0_avg_mae</td><td>▁</td></tr><tr><td>dfold_10_avg_mae</td><td>▁</td></tr><tr><td>dfold_11_avg_mae</td><td>▁</td></tr><tr><td>dfold_12_avg_mae</td><td>▁</td></tr><tr><td>dfold_13_avg_mae</td><td>▁</td></tr><tr><td>dfold_14_avg_mae</td><td>▁</td></tr><tr><td>dfold_1_avg_mae</td><td>▁</td></tr><tr><td>dfold_2_avg_mae</td><td>▁</td></tr><tr><td>dfold_3_avg_mae</td><td>▁</td></tr><tr><td>dfold_4_avg_mae</td><td>▁</td></tr><tr><td>dfold_5_avg_mae</td><td>▁</td></tr><tr><td>dfold_6_avg_mae</td><td>▁</td></tr><tr><td>dfold_7_avg_mae</td><td>▁</td></tr><tr><td>dfold_8_avg_mae</td><td>▁</td></tr><tr><td>dfold_9_avg_mae</td><td>▁</td></tr></table><br/></div><div class=\"wandb-col\"><h3>Run summary:</h3><br/><table class=\"wandb\"><tr><td>data fold</td><td>14</td></tr><tr><td>dfold_0_avg_mae</td><td>4.65816</td></tr><tr><td>dfold_10_avg_mae</td><td>8.757</td></tr><tr><td>dfold_11_avg_mae</td><td>7.57922</td></tr><tr><td>dfold_12_avg_mae</td><td>7.65785</td></tr><tr><td>dfold_13_avg_mae</td><td>6.93785</td></tr><tr><td>dfold_14_avg_mae</td><td>6.81641</td></tr><tr><td>dfold_1_avg_mae</td><td>6.41485</td></tr><tr><td>dfold_2_avg_mae</td><td>5.65601</td></tr><tr><td>dfold_3_avg_mae</td><td>6.66217</td></tr><tr><td>dfold_4_avg_mae</td><td>5.97163</td></tr><tr><td>dfold_5_avg_mae</td><td>5.90436</td></tr><tr><td>dfold_6_avg_mae</td><td>9.97959</td></tr><tr><td>dfold_7_avg_mae</td><td>6.8501</td></tr><tr><td>dfold_8_avg_mae</td><td>6.90527</td></tr><tr><td>dfold_9_avg_mae</td><td>7.94815</td></tr></table><br/></div></div>"
      ],
      "text/plain": [
       "<IPython.core.display.HTML object>"
      ]
     },
     "metadata": {},
     "output_type": "display_data"
    },
    {
     "data": {
      "text/html": [
       "Synced <strong style=\"color:#cdcd00\">vocal-donkey-3</strong>: <a href=\"https://wandb.ai/synthesis-ai/63_best_checkpoint_model_all_real_data_folds/runs/1mcg1auw\" target=\"_blank\">https://wandb.ai/synthesis-ai/63_best_checkpoint_model_all_real_data_folds/runs/1mcg1auw</a><br/>Synced 5 W&B file(s), 0 media file(s), 0 artifact file(s) and 0 other file(s)"
      ],
      "text/plain": [
       "<IPython.core.display.HTML object>"
      ]
     },
     "metadata": {},
     "output_type": "display_data"
    },
    {
     "data": {
      "text/html": [
       "Find logs at: <code>./wandb/run-20220714_151535-1mcg1auw/logs</code>"
      ],
      "text/plain": [
       "<IPython.core.display.HTML object>"
      ]
     },
     "metadata": {},
     "output_type": "display_data"
    },
    {
     "data": {
      "text/html": [
       "Successfully finished last run (ID:1mcg1auw). Initializing new run:<br/>"
      ],
      "text/plain": [
       "<IPython.core.display.HTML object>"
      ]
     },
     "metadata": {},
     "output_type": "display_data"
    },
    {
     "data": {
      "text/html": [
       "wandb version 0.12.21 is available!  To upgrade, please run:\n",
       " $ pip install wandb --upgrade"
      ],
      "text/plain": [
       "<IPython.core.display.HTML object>"
      ]
     },
     "metadata": {},
     "output_type": "display_data"
    },
    {
     "data": {
      "text/html": [
       "Tracking run with wandb version 0.12.15"
      ],
      "text/plain": [
       "<IPython.core.display.HTML object>"
      ]
     },
     "metadata": {},
     "output_type": "display_data"
    },
    {
     "data": {
      "text/html": [
       "Run data is saved locally in <code>/project/notebooks/wandb/run-20220714_151857-1nyfufna</code>"
      ],
      "text/plain": [
       "<IPython.core.display.HTML object>"
      ]
     },
     "metadata": {},
     "output_type": "display_data"
    },
    {
     "data": {
      "text/html": [
       "Syncing run <strong><a href=\"https://wandb.ai/synthesis-ai/63_best_checkpoint_model_all_real_data_folds/runs/1nyfufna\" target=\"_blank\">cerulean-glade-4</a></strong> to <a href=\"https://wandb.ai/synthesis-ai/63_best_checkpoint_model_all_real_data_folds\" target=\"_blank\">Weights & Biases</a> (<a href=\"https://wandb.me/run\" target=\"_blank\">docs</a>)<br/>"
      ],
      "text/plain": [
       "<IPython.core.display.HTML object>"
      ]
     },
     "metadata": {},
     "output_type": "display_data"
    },
    {
     "name": "stdout",
     "output_type": "stream",
     "text": [
      "cfold=fold03\n",
      "0 items removed from dataset that have an angle > 180\n",
      "\n",
      "test configuration: gpu_id=cuda:0, batch_size=20\n",
      "model_arch=ResNet50 Start testing dataset=mpiigaze\n",
      "cFOLD=3 dFOLD=0--07/14/2022 08:19:07----\n",
      "[cfold3---dfold 0] Total Num:3000, MAE:4.300654508138455  07/14/2022 08:19:19\n",
      "0 items removed from dataset that have an angle > 180\n",
      "\n",
      "test configuration: gpu_id=cuda:0, batch_size=20\n",
      "model_arch=ResNet50 Start testing dataset=mpiigaze\n",
      "cFOLD=3 dFOLD=1--07/14/2022 08:19:19----\n",
      "[cfold3---dfold 1] Total Num:3000, MAE:5.859418238825593  07/14/2022 08:19:32\n",
      "0 items removed from dataset that have an angle > 180\n",
      "\n",
      "test configuration: gpu_id=cuda:0, batch_size=20\n",
      "model_arch=ResNet50 Start testing dataset=mpiigaze\n",
      "cFOLD=3 dFOLD=2--07/14/2022 08:19:32----\n",
      "[cfold3---dfold 2] Total Num:3000, MAE:5.814181847105409  07/14/2022 08:19:45\n",
      "0 items removed from dataset that have an angle > 180\n",
      "\n",
      "test configuration: gpu_id=cuda:0, batch_size=20\n",
      "model_arch=ResNet50 Start testing dataset=mpiigaze\n",
      "cFOLD=3 dFOLD=3--07/14/2022 08:19:45----\n",
      "[cfold3---dfold 3] Total Num:3000, MAE:6.529706670814451  07/14/2022 08:19:58\n",
      "0 items removed from dataset that have an angle > 180\n",
      "\n",
      "test configuration: gpu_id=cuda:0, batch_size=20\n",
      "model_arch=ResNet50 Start testing dataset=mpiigaze\n",
      "cFOLD=3 dFOLD=4--07/14/2022 08:19:58----\n",
      "[cfold3---dfold 4] Total Num:3000, MAE:6.638233677422565  07/14/2022 08:20:11\n",
      "0 items removed from dataset that have an angle > 180\n",
      "\n",
      "test configuration: gpu_id=cuda:0, batch_size=20\n",
      "model_arch=ResNet50 Start testing dataset=mpiigaze\n",
      "cFOLD=3 dFOLD=5--07/14/2022 08:20:11----\n",
      "[cfold3---dfold 5] Total Num:3000, MAE:6.072623255671795  07/14/2022 08:20:24\n",
      "0 items removed from dataset that have an angle > 180\n",
      "\n",
      "test configuration: gpu_id=cuda:0, batch_size=20\n",
      "model_arch=ResNet50 Start testing dataset=mpiigaze\n",
      "cFOLD=3 dFOLD=6--07/14/2022 08:20:24----\n",
      "[cfold3---dfold 6] Total Num:3000, MAE:9.16964739965694  07/14/2022 08:20:37\n",
      "0 items removed from dataset that have an angle > 180\n",
      "\n",
      "test configuration: gpu_id=cuda:0, batch_size=20\n",
      "model_arch=ResNet50 Start testing dataset=mpiigaze\n",
      "cFOLD=3 dFOLD=7--07/14/2022 08:20:37----\n",
      "[cfold3---dfold 7] Total Num:3000, MAE:6.567833005254716  07/14/2022 08:20:50\n",
      "0 items removed from dataset that have an angle > 180\n",
      "\n",
      "test configuration: gpu_id=cuda:0, batch_size=20\n",
      "model_arch=ResNet50 Start testing dataset=mpiigaze\n",
      "cFOLD=3 dFOLD=8--07/14/2022 08:20:50----\n",
      "[cfold3---dfold 8] Total Num:3000, MAE:6.675136717472347  07/14/2022 08:21:02\n",
      "0 items removed from dataset that have an angle > 180\n",
      "\n",
      "test configuration: gpu_id=cuda:0, batch_size=20\n",
      "model_arch=ResNet50 Start testing dataset=mpiigaze\n",
      "cFOLD=3 dFOLD=9--07/14/2022 08:21:03----\n",
      "[cfold3---dfold 9] Total Num:3000, MAE:7.130264900177208  07/14/2022 08:21:15\n",
      "0 items removed from dataset that have an angle > 180\n",
      "\n",
      "test configuration: gpu_id=cuda:0, batch_size=20\n",
      "model_arch=ResNet50 Start testing dataset=mpiigaze\n",
      "cFOLD=3 dFOLD=10--07/14/2022 08:21:15----\n",
      "[cfold3---dfold 10] Total Num:3000, MAE:8.084994465454141  07/14/2022 08:21:28\n",
      "0 items removed from dataset that have an angle > 180\n",
      "\n",
      "test configuration: gpu_id=cuda:0, batch_size=20\n",
      "model_arch=ResNet50 Start testing dataset=mpiigaze\n",
      "cFOLD=3 dFOLD=11--07/14/2022 08:21:28----\n",
      "[cfold3---dfold 11] Total Num:3000, MAE:7.915684711418284  07/14/2022 08:21:41\n",
      "0 items removed from dataset that have an angle > 180\n",
      "\n",
      "test configuration: gpu_id=cuda:0, batch_size=20\n",
      "model_arch=ResNet50 Start testing dataset=mpiigaze\n",
      "cFOLD=3 dFOLD=12--07/14/2022 08:21:41----\n",
      "[cfold3---dfold 12] Total Num:3000, MAE:7.021241381897272  07/14/2022 08:21:54\n",
      "0 items removed from dataset that have an angle > 180\n",
      "\n",
      "test configuration: gpu_id=cuda:0, batch_size=20\n",
      "model_arch=ResNet50 Start testing dataset=mpiigaze\n",
      "cFOLD=3 dFOLD=13--07/14/2022 08:21:54----\n",
      "[cfold3---dfold 13] Total Num:3000, MAE:7.057844409381102  07/14/2022 08:22:07\n",
      "0 items removed from dataset that have an angle > 180\n",
      "\n",
      "test configuration: gpu_id=cuda:0, batch_size=20\n",
      "model_arch=ResNet50 Start testing dataset=mpiigaze\n",
      "cFOLD=3 dFOLD=14--07/14/2022 08:22:07----\n",
      "[cfold3---dfold 14] Total Num:3000, MAE:6.929841825065414  07/14/2022 08:22:20\n",
      "[cfold3--] MAE for this fold best model:6.784487134250379  07/14/2022 08:22:20\n"
     ]
    },
    {
     "data": {
      "text/html": [
       "Finishing last run (ID:1nyfufna) before initializing another..."
      ],
      "text/plain": [
       "<IPython.core.display.HTML object>"
      ]
     },
     "metadata": {},
     "output_type": "display_data"
    },
    {
     "data": {
      "text/html": [
       "Waiting for W&B process to finish... <strong style=\"color:green\">(success).</strong>"
      ],
      "text/plain": [
       "<IPython.core.display.HTML object>"
      ]
     },
     "metadata": {},
     "output_type": "display_data"
    },
    {
     "data": {
      "application/vnd.jupyter.widget-view+json": {
       "model_id": "",
       "version_major": 2,
       "version_minor": 0
      },
      "text/plain": [
       "VBox(children=(Label(value='0.001 MB of 0.001 MB uploaded (0.000 MB deduped)\\r'), FloatProgress(value=1.0, max…"
      ]
     },
     "metadata": {},
     "output_type": "display_data"
    },
    {
     "data": {
      "text/html": [
       "<style>\n",
       "    table.wandb td:nth-child(1) { padding: 0 10px; text-align: right }\n",
       "    .wandb-row { display: flex; flex-direction: row; flex-wrap: wrap; width: 100% }\n",
       "    .wandb-col { display: flex; flex-direction: column; flex-basis: 100%; flex: 1; padding: 10px; }\n",
       "    </style>\n",
       "<div class=\"wandb-row\"><div class=\"wandb-col\"><h3>Run history:</h3><br/><table class=\"wandb\"><tr><td>data fold</td><td>▁▁▂▃▃▃▄▅▅▅▆▇▇▇█</td></tr><tr><td>dfold_0_avg_mae</td><td>▁</td></tr><tr><td>dfold_10_avg_mae</td><td>▁</td></tr><tr><td>dfold_11_avg_mae</td><td>▁</td></tr><tr><td>dfold_12_avg_mae</td><td>▁</td></tr><tr><td>dfold_13_avg_mae</td><td>▁</td></tr><tr><td>dfold_14_avg_mae</td><td>▁</td></tr><tr><td>dfold_1_avg_mae</td><td>▁</td></tr><tr><td>dfold_2_avg_mae</td><td>▁</td></tr><tr><td>dfold_3_avg_mae</td><td>▁</td></tr><tr><td>dfold_4_avg_mae</td><td>▁</td></tr><tr><td>dfold_5_avg_mae</td><td>▁</td></tr><tr><td>dfold_6_avg_mae</td><td>▁</td></tr><tr><td>dfold_7_avg_mae</td><td>▁</td></tr><tr><td>dfold_8_avg_mae</td><td>▁</td></tr><tr><td>dfold_9_avg_mae</td><td>▁</td></tr></table><br/></div><div class=\"wandb-col\"><h3>Run summary:</h3><br/><table class=\"wandb\"><tr><td>data fold</td><td>14</td></tr><tr><td>dfold_0_avg_mae</td><td>4.30065</td></tr><tr><td>dfold_10_avg_mae</td><td>8.08499</td></tr><tr><td>dfold_11_avg_mae</td><td>7.91568</td></tr><tr><td>dfold_12_avg_mae</td><td>7.02124</td></tr><tr><td>dfold_13_avg_mae</td><td>7.05784</td></tr><tr><td>dfold_14_avg_mae</td><td>6.92984</td></tr><tr><td>dfold_1_avg_mae</td><td>5.85942</td></tr><tr><td>dfold_2_avg_mae</td><td>5.81418</td></tr><tr><td>dfold_3_avg_mae</td><td>6.52971</td></tr><tr><td>dfold_4_avg_mae</td><td>6.63823</td></tr><tr><td>dfold_5_avg_mae</td><td>6.07262</td></tr><tr><td>dfold_6_avg_mae</td><td>9.16965</td></tr><tr><td>dfold_7_avg_mae</td><td>6.56783</td></tr><tr><td>dfold_8_avg_mae</td><td>6.67514</td></tr><tr><td>dfold_9_avg_mae</td><td>7.13026</td></tr></table><br/></div></div>"
      ],
      "text/plain": [
       "<IPython.core.display.HTML object>"
      ]
     },
     "metadata": {},
     "output_type": "display_data"
    },
    {
     "data": {
      "text/html": [
       "Synced <strong style=\"color:#cdcd00\">cerulean-glade-4</strong>: <a href=\"https://wandb.ai/synthesis-ai/63_best_checkpoint_model_all_real_data_folds/runs/1nyfufna\" target=\"_blank\">https://wandb.ai/synthesis-ai/63_best_checkpoint_model_all_real_data_folds/runs/1nyfufna</a><br/>Synced 5 W&B file(s), 0 media file(s), 0 artifact file(s) and 0 other file(s)"
      ],
      "text/plain": [
       "<IPython.core.display.HTML object>"
      ]
     },
     "metadata": {},
     "output_type": "display_data"
    },
    {
     "data": {
      "text/html": [
       "Find logs at: <code>./wandb/run-20220714_151857-1nyfufna/logs</code>"
      ],
      "text/plain": [
       "<IPython.core.display.HTML object>"
      ]
     },
     "metadata": {},
     "output_type": "display_data"
    },
    {
     "data": {
      "text/html": [
       "Successfully finished last run (ID:1nyfufna). Initializing new run:<br/>"
      ],
      "text/plain": [
       "<IPython.core.display.HTML object>"
      ]
     },
     "metadata": {},
     "output_type": "display_data"
    },
    {
     "data": {
      "text/html": [
       "wandb version 0.12.21 is available!  To upgrade, please run:\n",
       " $ pip install wandb --upgrade"
      ],
      "text/plain": [
       "<IPython.core.display.HTML object>"
      ]
     },
     "metadata": {},
     "output_type": "display_data"
    },
    {
     "data": {
      "text/html": [
       "Tracking run with wandb version 0.12.15"
      ],
      "text/plain": [
       "<IPython.core.display.HTML object>"
      ]
     },
     "metadata": {},
     "output_type": "display_data"
    },
    {
     "data": {
      "text/html": [
       "Run data is saved locally in <code>/project/notebooks/wandb/run-20220714_152220-2l13tqdu</code>"
      ],
      "text/plain": [
       "<IPython.core.display.HTML object>"
      ]
     },
     "metadata": {},
     "output_type": "display_data"
    },
    {
     "data": {
      "text/html": [
       "Syncing run <strong><a href=\"https://wandb.ai/synthesis-ai/63_best_checkpoint_model_all_real_data_folds/runs/2l13tqdu\" target=\"_blank\">treasured-butterfly-5</a></strong> to <a href=\"https://wandb.ai/synthesis-ai/63_best_checkpoint_model_all_real_data_folds\" target=\"_blank\">Weights & Biases</a> (<a href=\"https://wandb.me/run\" target=\"_blank\">docs</a>)<br/>"
      ],
      "text/plain": [
       "<IPython.core.display.HTML object>"
      ]
     },
     "metadata": {},
     "output_type": "display_data"
    },
    {
     "name": "stdout",
     "output_type": "stream",
     "text": [
      "cfold=fold04\n",
      "0 items removed from dataset that have an angle > 180\n",
      "\n",
      "test configuration: gpu_id=cuda:0, batch_size=20\n",
      "model_arch=ResNet50 Start testing dataset=mpiigaze\n",
      "cFOLD=4 dFOLD=0--07/14/2022 08:22:31----\n",
      "[cfold4---dfold 0] Total Num:3000, MAE:5.61592227553748  07/14/2022 08:22:44\n",
      "0 items removed from dataset that have an angle > 180\n",
      "\n",
      "test configuration: gpu_id=cuda:0, batch_size=20\n",
      "model_arch=ResNet50 Start testing dataset=mpiigaze\n",
      "cFOLD=4 dFOLD=1--07/14/2022 08:22:44----\n",
      "[cfold4---dfold 1] Total Num:3000, MAE:9.402380792819779  07/14/2022 08:22:56\n",
      "0 items removed from dataset that have an angle > 180\n",
      "\n",
      "test configuration: gpu_id=cuda:0, batch_size=20\n",
      "model_arch=ResNet50 Start testing dataset=mpiigaze\n",
      "cFOLD=4 dFOLD=2--07/14/2022 08:22:56----\n",
      "[cfold4---dfold 2] Total Num:3000, MAE:5.7774055489932215  07/14/2022 08:23:09\n",
      "0 items removed from dataset that have an angle > 180\n",
      "\n",
      "test configuration: gpu_id=cuda:0, batch_size=20\n",
      "model_arch=ResNet50 Start testing dataset=mpiigaze\n",
      "cFOLD=4 dFOLD=3--07/14/2022 08:23:09----\n",
      "[cfold4---dfold 3] Total Num:3000, MAE:7.44929227495466  07/14/2022 08:23:22\n",
      "0 items removed from dataset that have an angle > 180\n",
      "\n",
      "test configuration: gpu_id=cuda:0, batch_size=20\n",
      "model_arch=ResNet50 Start testing dataset=mpiigaze\n",
      "cFOLD=4 dFOLD=4--07/14/2022 08:23:22----\n",
      "[cfold4---dfold 4] Total Num:3000, MAE:5.903673973867182  07/14/2022 08:23:35\n",
      "0 items removed from dataset that have an angle > 180\n",
      "\n",
      "test configuration: gpu_id=cuda:0, batch_size=20\n",
      "model_arch=ResNet50 Start testing dataset=mpiigaze\n",
      "cFOLD=4 dFOLD=5--07/14/2022 08:23:35----\n",
      "[cfold4---dfold 5] Total Num:3000, MAE:5.841064226264734  07/14/2022 08:23:48\n",
      "0 items removed from dataset that have an angle > 180\n",
      "\n",
      "test configuration: gpu_id=cuda:0, batch_size=20\n",
      "model_arch=ResNet50 Start testing dataset=mpiigaze\n",
      "cFOLD=4 dFOLD=6--07/14/2022 08:23:48----\n",
      "[cfold4---dfold 6] Total Num:3000, MAE:10.799524290174666  07/14/2022 08:24:01\n",
      "0 items removed from dataset that have an angle > 180\n",
      "\n",
      "test configuration: gpu_id=cuda:0, batch_size=20\n",
      "model_arch=ResNet50 Start testing dataset=mpiigaze\n",
      "cFOLD=4 dFOLD=7--07/14/2022 08:24:01----\n",
      "[cfold4---dfold 7] Total Num:3000, MAE:8.035428088277186  07/14/2022 08:24:14\n",
      "0 items removed from dataset that have an angle > 180\n",
      "\n",
      "test configuration: gpu_id=cuda:0, batch_size=20\n",
      "model_arch=ResNet50 Start testing dataset=mpiigaze\n",
      "cFOLD=4 dFOLD=8--07/14/2022 08:24:14----\n",
      "[cfold4---dfold 8] Total Num:3000, MAE:7.165157503771281  07/14/2022 08:24:27\n",
      "0 items removed from dataset that have an angle > 180\n",
      "\n",
      "test configuration: gpu_id=cuda:0, batch_size=20\n",
      "model_arch=ResNet50 Start testing dataset=mpiigaze\n",
      "cFOLD=4 dFOLD=9--07/14/2022 08:24:27----\n",
      "[cfold4---dfold 9] Total Num:3000, MAE:9.081444218901092  07/14/2022 08:24:39\n",
      "0 items removed from dataset that have an angle > 180\n",
      "\n",
      "test configuration: gpu_id=cuda:0, batch_size=20\n",
      "model_arch=ResNet50 Start testing dataset=mpiigaze\n",
      "cFOLD=4 dFOLD=10--07/14/2022 08:24:40----\n",
      "[cfold4---dfold 10] Total Num:3000, MAE:10.058593354903325  07/14/2022 08:24:52\n",
      "0 items removed from dataset that have an angle > 180\n",
      "\n",
      "test configuration: gpu_id=cuda:0, batch_size=20\n",
      "model_arch=ResNet50 Start testing dataset=mpiigaze\n",
      "cFOLD=4 dFOLD=11--07/14/2022 08:24:52----\n",
      "[cfold4---dfold 11] Total Num:3000, MAE:6.627461631958108  07/14/2022 08:25:05\n",
      "0 items removed from dataset that have an angle > 180\n",
      "\n",
      "test configuration: gpu_id=cuda:0, batch_size=20\n",
      "model_arch=ResNet50 Start testing dataset=mpiigaze\n",
      "cFOLD=4 dFOLD=12--07/14/2022 08:25:05----\n",
      "[cfold4---dfold 12] Total Num:3000, MAE:8.29340194880414  07/14/2022 08:25:18\n",
      "0 items removed from dataset that have an angle > 180\n",
      "\n",
      "test configuration: gpu_id=cuda:0, batch_size=20\n",
      "model_arch=ResNet50 Start testing dataset=mpiigaze\n",
      "cFOLD=4 dFOLD=13--07/14/2022 08:25:18----\n",
      "[cfold4---dfold 13] Total Num:3000, MAE:7.698849347567298  07/14/2022 08:25:31\n",
      "0 items removed from dataset that have an angle > 180\n",
      "\n",
      "test configuration: gpu_id=cuda:0, batch_size=20\n",
      "model_arch=ResNet50 Start testing dataset=mpiigaze\n",
      "cFOLD=4 dFOLD=14--07/14/2022 08:25:31----\n",
      "[cfold4---dfold 14] Total Num:3000, MAE:6.062281063169725  07/14/2022 08:25:44\n",
      "[cfold4--] MAE for this fold best model:7.58745870266426  07/14/2022 08:25:44\n"
     ]
    },
    {
     "data": {
      "text/html": [
       "Finishing last run (ID:2l13tqdu) before initializing another..."
      ],
      "text/plain": [
       "<IPython.core.display.HTML object>"
      ]
     },
     "metadata": {},
     "output_type": "display_data"
    },
    {
     "data": {
      "text/html": [
       "Waiting for W&B process to finish... <strong style=\"color:green\">(success).</strong>"
      ],
      "text/plain": [
       "<IPython.core.display.HTML object>"
      ]
     },
     "metadata": {},
     "output_type": "display_data"
    },
    {
     "data": {
      "application/vnd.jupyter.widget-view+json": {
       "model_id": "",
       "version_major": 2,
       "version_minor": 0
      },
      "text/plain": [
       "VBox(children=(Label(value='0.001 MB of 0.001 MB uploaded (0.000 MB deduped)\\r'), FloatProgress(value=1.0, max…"
      ]
     },
     "metadata": {},
     "output_type": "display_data"
    },
    {
     "data": {
      "text/html": [
       "<style>\n",
       "    table.wandb td:nth-child(1) { padding: 0 10px; text-align: right }\n",
       "    .wandb-row { display: flex; flex-direction: row; flex-wrap: wrap; width: 100% }\n",
       "    .wandb-col { display: flex; flex-direction: column; flex-basis: 100%; flex: 1; padding: 10px; }\n",
       "    </style>\n",
       "<div class=\"wandb-row\"><div class=\"wandb-col\"><h3>Run history:</h3><br/><table class=\"wandb\"><tr><td>data fold</td><td>▁▁▂▃▃▃▄▅▅▅▆▇▇▇█</td></tr><tr><td>dfold_0_avg_mae</td><td>▁</td></tr><tr><td>dfold_10_avg_mae</td><td>▁</td></tr><tr><td>dfold_11_avg_mae</td><td>▁</td></tr><tr><td>dfold_12_avg_mae</td><td>▁</td></tr><tr><td>dfold_13_avg_mae</td><td>▁</td></tr><tr><td>dfold_14_avg_mae</td><td>▁</td></tr><tr><td>dfold_1_avg_mae</td><td>▁</td></tr><tr><td>dfold_2_avg_mae</td><td>▁</td></tr><tr><td>dfold_3_avg_mae</td><td>▁</td></tr><tr><td>dfold_4_avg_mae</td><td>▁</td></tr><tr><td>dfold_5_avg_mae</td><td>▁</td></tr><tr><td>dfold_6_avg_mae</td><td>▁</td></tr><tr><td>dfold_7_avg_mae</td><td>▁</td></tr><tr><td>dfold_8_avg_mae</td><td>▁</td></tr><tr><td>dfold_9_avg_mae</td><td>▁</td></tr></table><br/></div><div class=\"wandb-col\"><h3>Run summary:</h3><br/><table class=\"wandb\"><tr><td>data fold</td><td>14</td></tr><tr><td>dfold_0_avg_mae</td><td>5.61592</td></tr><tr><td>dfold_10_avg_mae</td><td>10.05859</td></tr><tr><td>dfold_11_avg_mae</td><td>6.62746</td></tr><tr><td>dfold_12_avg_mae</td><td>8.2934</td></tr><tr><td>dfold_13_avg_mae</td><td>7.69885</td></tr><tr><td>dfold_14_avg_mae</td><td>6.06228</td></tr><tr><td>dfold_1_avg_mae</td><td>9.40238</td></tr><tr><td>dfold_2_avg_mae</td><td>5.77741</td></tr><tr><td>dfold_3_avg_mae</td><td>7.44929</td></tr><tr><td>dfold_4_avg_mae</td><td>5.90367</td></tr><tr><td>dfold_5_avg_mae</td><td>5.84106</td></tr><tr><td>dfold_6_avg_mae</td><td>10.79952</td></tr><tr><td>dfold_7_avg_mae</td><td>8.03543</td></tr><tr><td>dfold_8_avg_mae</td><td>7.16516</td></tr><tr><td>dfold_9_avg_mae</td><td>9.08144</td></tr></table><br/></div></div>"
      ],
      "text/plain": [
       "<IPython.core.display.HTML object>"
      ]
     },
     "metadata": {},
     "output_type": "display_data"
    },
    {
     "data": {
      "text/html": [
       "Synced <strong style=\"color:#cdcd00\">treasured-butterfly-5</strong>: <a href=\"https://wandb.ai/synthesis-ai/63_best_checkpoint_model_all_real_data_folds/runs/2l13tqdu\" target=\"_blank\">https://wandb.ai/synthesis-ai/63_best_checkpoint_model_all_real_data_folds/runs/2l13tqdu</a><br/>Synced 5 W&B file(s), 0 media file(s), 0 artifact file(s) and 0 other file(s)"
      ],
      "text/plain": [
       "<IPython.core.display.HTML object>"
      ]
     },
     "metadata": {},
     "output_type": "display_data"
    },
    {
     "data": {
      "text/html": [
       "Find logs at: <code>./wandb/run-20220714_152220-2l13tqdu/logs</code>"
      ],
      "text/plain": [
       "<IPython.core.display.HTML object>"
      ]
     },
     "metadata": {},
     "output_type": "display_data"
    },
    {
     "data": {
      "text/html": [
       "Successfully finished last run (ID:2l13tqdu). Initializing new run:<br/>"
      ],
      "text/plain": [
       "<IPython.core.display.HTML object>"
      ]
     },
     "metadata": {},
     "output_type": "display_data"
    },
    {
     "data": {
      "text/html": [
       "wandb version 0.12.21 is available!  To upgrade, please run:\n",
       " $ pip install wandb --upgrade"
      ],
      "text/plain": [
       "<IPython.core.display.HTML object>"
      ]
     },
     "metadata": {},
     "output_type": "display_data"
    },
    {
     "data": {
      "text/html": [
       "Tracking run with wandb version 0.12.15"
      ],
      "text/plain": [
       "<IPython.core.display.HTML object>"
      ]
     },
     "metadata": {},
     "output_type": "display_data"
    },
    {
     "data": {
      "text/html": [
       "Run data is saved locally in <code>/project/notebooks/wandb/run-20220714_152544-1bcjzhk9</code>"
      ],
      "text/plain": [
       "<IPython.core.display.HTML object>"
      ]
     },
     "metadata": {},
     "output_type": "display_data"
    },
    {
     "data": {
      "text/html": [
       "Syncing run <strong><a href=\"https://wandb.ai/synthesis-ai/63_best_checkpoint_model_all_real_data_folds/runs/1bcjzhk9\" target=\"_blank\">dry-sky-6</a></strong> to <a href=\"https://wandb.ai/synthesis-ai/63_best_checkpoint_model_all_real_data_folds\" target=\"_blank\">Weights & Biases</a> (<a href=\"https://wandb.me/run\" target=\"_blank\">docs</a>)<br/>"
      ],
      "text/plain": [
       "<IPython.core.display.HTML object>"
      ]
     },
     "metadata": {},
     "output_type": "display_data"
    },
    {
     "name": "stdout",
     "output_type": "stream",
     "text": [
      "cfold=fold05\n",
      "0 items removed from dataset that have an angle > 180\n",
      "\n",
      "test configuration: gpu_id=cuda:0, batch_size=20\n",
      "model_arch=ResNet50 Start testing dataset=mpiigaze\n",
      "cFOLD=5 dFOLD=0--07/14/2022 08:25:53----\n",
      "[cfold5---dfold 0] Total Num:3000, MAE:5.2897506719061544  07/14/2022 08:26:05\n",
      "0 items removed from dataset that have an angle > 180\n",
      "\n",
      "test configuration: gpu_id=cuda:0, batch_size=20\n",
      "model_arch=ResNet50 Start testing dataset=mpiigaze\n",
      "cFOLD=5 dFOLD=1--07/14/2022 08:26:05----\n",
      "[cfold5---dfold 1] Total Num:3000, MAE:5.569383383926112  07/14/2022 08:26:18\n",
      "0 items removed from dataset that have an angle > 180\n",
      "\n",
      "test configuration: gpu_id=cuda:0, batch_size=20\n",
      "model_arch=ResNet50 Start testing dataset=mpiigaze\n",
      "cFOLD=5 dFOLD=2--07/14/2022 08:26:18----\n",
      "[cfold5---dfold 2] Total Num:3000, MAE:5.9769487485168575  07/14/2022 08:26:31\n",
      "0 items removed from dataset that have an angle > 180\n",
      "\n",
      "test configuration: gpu_id=cuda:0, batch_size=20\n",
      "model_arch=ResNet50 Start testing dataset=mpiigaze\n",
      "cFOLD=5 dFOLD=3--07/14/2022 08:26:31----\n",
      "[cfold5---dfold 3] Total Num:3000, MAE:7.645420482735776  07/14/2022 08:26:44\n",
      "0 items removed from dataset that have an angle > 180\n",
      "\n",
      "test configuration: gpu_id=cuda:0, batch_size=20\n",
      "model_arch=ResNet50 Start testing dataset=mpiigaze\n",
      "cFOLD=5 dFOLD=4--07/14/2022 08:26:44----\n",
      "[cfold5---dfold 4] Total Num:3000, MAE:5.763964582754767  07/14/2022 08:26:57\n",
      "0 items removed from dataset that have an angle > 180\n",
      "\n",
      "test configuration: gpu_id=cuda:0, batch_size=20\n",
      "model_arch=ResNet50 Start testing dataset=mpiigaze\n",
      "cFOLD=5 dFOLD=5--07/14/2022 08:26:57----\n",
      "[cfold5---dfold 5] Total Num:3000, MAE:6.148551294673697  07/14/2022 08:27:10\n",
      "0 items removed from dataset that have an angle > 180\n",
      "\n",
      "test configuration: gpu_id=cuda:0, batch_size=20\n",
      "model_arch=ResNet50 Start testing dataset=mpiigaze\n",
      "cFOLD=5 dFOLD=6--07/14/2022 08:27:10----\n",
      "[cfold5---dfold 6] Total Num:3000, MAE:10.446859227773436  07/14/2022 08:27:23\n",
      "0 items removed from dataset that have an angle > 180\n",
      "\n",
      "test configuration: gpu_id=cuda:0, batch_size=20\n",
      "model_arch=ResNet50 Start testing dataset=mpiigaze\n",
      "cFOLD=5 dFOLD=7--07/14/2022 08:27:23----\n",
      "[cfold5---dfold 7] Total Num:3000, MAE:6.994401696612309  07/14/2022 08:27:36\n",
      "0 items removed from dataset that have an angle > 180\n",
      "\n",
      "test configuration: gpu_id=cuda:0, batch_size=20\n",
      "model_arch=ResNet50 Start testing dataset=mpiigaze\n",
      "cFOLD=5 dFOLD=8--07/14/2022 08:27:36----\n",
      "[cfold5---dfold 8] Total Num:3000, MAE:7.204091167704384  07/14/2022 08:27:48\n",
      "0 items removed from dataset that have an angle > 180\n",
      "\n",
      "test configuration: gpu_id=cuda:0, batch_size=20\n",
      "model_arch=ResNet50 Start testing dataset=mpiigaze\n",
      "cFOLD=5 dFOLD=9--07/14/2022 08:27:49----\n",
      "[cfold5---dfold 9] Total Num:3000, MAE:7.8796051527590745  07/14/2022 08:28:01\n",
      "0 items removed from dataset that have an angle > 180\n",
      "\n",
      "test configuration: gpu_id=cuda:0, batch_size=20\n",
      "model_arch=ResNet50 Start testing dataset=mpiigaze\n",
      "cFOLD=5 dFOLD=10--07/14/2022 08:28:01----\n",
      "[cfold5---dfold 10] Total Num:3000, MAE:9.025498573527864  07/14/2022 08:28:14\n",
      "0 items removed from dataset that have an angle > 180\n",
      "\n",
      "test configuration: gpu_id=cuda:0, batch_size=20\n",
      "model_arch=ResNet50 Start testing dataset=mpiigaze\n",
      "cFOLD=5 dFOLD=11--07/14/2022 08:28:14----\n",
      "[cfold5---dfold 11] Total Num:3000, MAE:8.290211221871397  07/14/2022 08:28:27\n",
      "0 items removed from dataset that have an angle > 180\n",
      "\n",
      "test configuration: gpu_id=cuda:0, batch_size=20\n",
      "model_arch=ResNet50 Start testing dataset=mpiigaze\n",
      "cFOLD=5 dFOLD=12--07/14/2022 08:28:27----\n",
      "[cfold5---dfold 12] Total Num:3000, MAE:7.8666394648340745  07/14/2022 08:28:40\n",
      "0 items removed from dataset that have an angle > 180\n",
      "\n",
      "test configuration: gpu_id=cuda:0, batch_size=20\n",
      "model_arch=ResNet50 Start testing dataset=mpiigaze\n",
      "cFOLD=5 dFOLD=13--07/14/2022 08:28:40----\n",
      "[cfold5---dfold 13] Total Num:3000, MAE:8.217150636921263  07/14/2022 08:28:53\n",
      "0 items removed from dataset that have an angle > 180\n",
      "\n",
      "test configuration: gpu_id=cuda:0, batch_size=20\n",
      "model_arch=ResNet50 Start testing dataset=mpiigaze\n",
      "cFOLD=5 dFOLD=14--07/14/2022 08:28:53----\n",
      "[cfold5---dfold 14] Total Num:3000, MAE:6.285391030110707  07/14/2022 08:29:06\n",
      "[cfold5--] MAE for this fold best model:7.240257822441859  07/14/2022 08:29:06\n"
     ]
    },
    {
     "data": {
      "text/html": [
       "Finishing last run (ID:1bcjzhk9) before initializing another..."
      ],
      "text/plain": [
       "<IPython.core.display.HTML object>"
      ]
     },
     "metadata": {},
     "output_type": "display_data"
    },
    {
     "data": {
      "text/html": [
       "Waiting for W&B process to finish... <strong style=\"color:green\">(success).</strong>"
      ],
      "text/plain": [
       "<IPython.core.display.HTML object>"
      ]
     },
     "metadata": {},
     "output_type": "display_data"
    },
    {
     "data": {
      "application/vnd.jupyter.widget-view+json": {
       "model_id": "",
       "version_major": 2,
       "version_minor": 0
      },
      "text/plain": [
       "VBox(children=(Label(value='0.001 MB of 0.001 MB uploaded (0.000 MB deduped)\\r'), FloatProgress(value=1.0, max…"
      ]
     },
     "metadata": {},
     "output_type": "display_data"
    },
    {
     "data": {
      "text/html": [
       "<style>\n",
       "    table.wandb td:nth-child(1) { padding: 0 10px; text-align: right }\n",
       "    .wandb-row { display: flex; flex-direction: row; flex-wrap: wrap; width: 100% }\n",
       "    .wandb-col { display: flex; flex-direction: column; flex-basis: 100%; flex: 1; padding: 10px; }\n",
       "    </style>\n",
       "<div class=\"wandb-row\"><div class=\"wandb-col\"><h3>Run history:</h3><br/><table class=\"wandb\"><tr><td>data fold</td><td>▁▁▂▃▃▃▄▅▅▅▆▇▇▇█</td></tr><tr><td>dfold_0_avg_mae</td><td>▁</td></tr><tr><td>dfold_10_avg_mae</td><td>▁</td></tr><tr><td>dfold_11_avg_mae</td><td>▁</td></tr><tr><td>dfold_12_avg_mae</td><td>▁</td></tr><tr><td>dfold_13_avg_mae</td><td>▁</td></tr><tr><td>dfold_14_avg_mae</td><td>▁</td></tr><tr><td>dfold_1_avg_mae</td><td>▁</td></tr><tr><td>dfold_2_avg_mae</td><td>▁</td></tr><tr><td>dfold_3_avg_mae</td><td>▁</td></tr><tr><td>dfold_4_avg_mae</td><td>▁</td></tr><tr><td>dfold_5_avg_mae</td><td>▁</td></tr><tr><td>dfold_6_avg_mae</td><td>▁</td></tr><tr><td>dfold_7_avg_mae</td><td>▁</td></tr><tr><td>dfold_8_avg_mae</td><td>▁</td></tr><tr><td>dfold_9_avg_mae</td><td>▁</td></tr></table><br/></div><div class=\"wandb-col\"><h3>Run summary:</h3><br/><table class=\"wandb\"><tr><td>data fold</td><td>14</td></tr><tr><td>dfold_0_avg_mae</td><td>5.28975</td></tr><tr><td>dfold_10_avg_mae</td><td>9.0255</td></tr><tr><td>dfold_11_avg_mae</td><td>8.29021</td></tr><tr><td>dfold_12_avg_mae</td><td>7.86664</td></tr><tr><td>dfold_13_avg_mae</td><td>8.21715</td></tr><tr><td>dfold_14_avg_mae</td><td>6.28539</td></tr><tr><td>dfold_1_avg_mae</td><td>5.56938</td></tr><tr><td>dfold_2_avg_mae</td><td>5.97695</td></tr><tr><td>dfold_3_avg_mae</td><td>7.64542</td></tr><tr><td>dfold_4_avg_mae</td><td>5.76396</td></tr><tr><td>dfold_5_avg_mae</td><td>6.14855</td></tr><tr><td>dfold_6_avg_mae</td><td>10.44686</td></tr><tr><td>dfold_7_avg_mae</td><td>6.9944</td></tr><tr><td>dfold_8_avg_mae</td><td>7.20409</td></tr><tr><td>dfold_9_avg_mae</td><td>7.87961</td></tr></table><br/></div></div>"
      ],
      "text/plain": [
       "<IPython.core.display.HTML object>"
      ]
     },
     "metadata": {},
     "output_type": "display_data"
    },
    {
     "data": {
      "text/html": [
       "Synced <strong style=\"color:#cdcd00\">dry-sky-6</strong>: <a href=\"https://wandb.ai/synthesis-ai/63_best_checkpoint_model_all_real_data_folds/runs/1bcjzhk9\" target=\"_blank\">https://wandb.ai/synthesis-ai/63_best_checkpoint_model_all_real_data_folds/runs/1bcjzhk9</a><br/>Synced 5 W&B file(s), 0 media file(s), 0 artifact file(s) and 0 other file(s)"
      ],
      "text/plain": [
       "<IPython.core.display.HTML object>"
      ]
     },
     "metadata": {},
     "output_type": "display_data"
    },
    {
     "data": {
      "text/html": [
       "Find logs at: <code>./wandb/run-20220714_152544-1bcjzhk9/logs</code>"
      ],
      "text/plain": [
       "<IPython.core.display.HTML object>"
      ]
     },
     "metadata": {},
     "output_type": "display_data"
    },
    {
     "data": {
      "text/html": [
       "Successfully finished last run (ID:1bcjzhk9). Initializing new run:<br/>"
      ],
      "text/plain": [
       "<IPython.core.display.HTML object>"
      ]
     },
     "metadata": {},
     "output_type": "display_data"
    },
    {
     "data": {
      "text/html": [
       "wandb version 0.12.21 is available!  To upgrade, please run:\n",
       " $ pip install wandb --upgrade"
      ],
      "text/plain": [
       "<IPython.core.display.HTML object>"
      ]
     },
     "metadata": {},
     "output_type": "display_data"
    },
    {
     "data": {
      "text/html": [
       "Tracking run with wandb version 0.12.15"
      ],
      "text/plain": [
       "<IPython.core.display.HTML object>"
      ]
     },
     "metadata": {},
     "output_type": "display_data"
    },
    {
     "data": {
      "text/html": [
       "Run data is saved locally in <code>/project/notebooks/wandb/run-20220714_152906-360efn79</code>"
      ],
      "text/plain": [
       "<IPython.core.display.HTML object>"
      ]
     },
     "metadata": {},
     "output_type": "display_data"
    },
    {
     "data": {
      "text/html": [
       "Syncing run <strong><a href=\"https://wandb.ai/synthesis-ai/63_best_checkpoint_model_all_real_data_folds/runs/360efn79\" target=\"_blank\">dark-serenity-7</a></strong> to <a href=\"https://wandb.ai/synthesis-ai/63_best_checkpoint_model_all_real_data_folds\" target=\"_blank\">Weights & Biases</a> (<a href=\"https://wandb.me/run\" target=\"_blank\">docs</a>)<br/>"
      ],
      "text/plain": [
       "<IPython.core.display.HTML object>"
      ]
     },
     "metadata": {},
     "output_type": "display_data"
    },
    {
     "name": "stdout",
     "output_type": "stream",
     "text": [
      "cfold=fold06\n",
      "0 items removed from dataset that have an angle > 180\n",
      "\n",
      "test configuration: gpu_id=cuda:0, batch_size=20\n",
      "model_arch=ResNet50 Start testing dataset=mpiigaze\n",
      "cFOLD=6 dFOLD=0--07/14/2022 08:29:15----\n",
      "[cfold6---dfold 0] Total Num:3000, MAE:5.0634438794034144  07/14/2022 08:29:28\n",
      "0 items removed from dataset that have an angle > 180\n",
      "\n",
      "test configuration: gpu_id=cuda:0, batch_size=20\n",
      "model_arch=ResNet50 Start testing dataset=mpiigaze\n",
      "cFOLD=6 dFOLD=1--07/14/2022 08:29:28----\n",
      "[cfold6---dfold 1] Total Num:3000, MAE:9.388027545320057  07/14/2022 08:29:41\n",
      "0 items removed from dataset that have an angle > 180\n",
      "\n",
      "test configuration: gpu_id=cuda:0, batch_size=20\n",
      "model_arch=ResNet50 Start testing dataset=mpiigaze\n",
      "cFOLD=6 dFOLD=2--07/14/2022 08:29:41----\n",
      "[cfold6---dfold 2] Total Num:3000, MAE:5.457840308409869  07/14/2022 08:29:53\n",
      "0 items removed from dataset that have an angle > 180\n",
      "\n",
      "test configuration: gpu_id=cuda:0, batch_size=20\n",
      "model_arch=ResNet50 Start testing dataset=mpiigaze\n",
      "cFOLD=6 dFOLD=3--07/14/2022 08:29:53----\n",
      "[cfold6---dfold 3] Total Num:3000, MAE:8.417985618873873  07/14/2022 08:30:06\n",
      "0 items removed from dataset that have an angle > 180\n",
      "\n",
      "test configuration: gpu_id=cuda:0, batch_size=20\n",
      "model_arch=ResNet50 Start testing dataset=mpiigaze\n",
      "cFOLD=6 dFOLD=4--07/14/2022 08:30:06----\n",
      "[cfold6---dfold 4] Total Num:3000, MAE:5.517685562399741  07/14/2022 08:30:19\n",
      "0 items removed from dataset that have an angle > 180\n",
      "\n",
      "test configuration: gpu_id=cuda:0, batch_size=20\n",
      "model_arch=ResNet50 Start testing dataset=mpiigaze\n",
      "cFOLD=6 dFOLD=5--07/14/2022 08:30:19----\n",
      "[cfold6---dfold 5] Total Num:3000, MAE:6.296682690030594  07/14/2022 08:30:32\n",
      "0 items removed from dataset that have an angle > 180\n",
      "\n",
      "test configuration: gpu_id=cuda:0, batch_size=20\n",
      "model_arch=ResNet50 Start testing dataset=mpiigaze\n",
      "cFOLD=6 dFOLD=6--07/14/2022 08:30:32----\n",
      "[cfold6---dfold 6] Total Num:3000, MAE:11.385031527400393  07/14/2022 08:30:45\n",
      "0 items removed from dataset that have an angle > 180\n",
      "\n",
      "test configuration: gpu_id=cuda:0, batch_size=20\n",
      "model_arch=ResNet50 Start testing dataset=mpiigaze\n",
      "cFOLD=6 dFOLD=7--07/14/2022 08:30:45----\n",
      "[cfold6---dfold 7] Total Num:3000, MAE:8.092772245244749  07/14/2022 08:30:58\n",
      "0 items removed from dataset that have an angle > 180\n",
      "\n",
      "test configuration: gpu_id=cuda:0, batch_size=20\n",
      "model_arch=ResNet50 Start testing dataset=mpiigaze\n",
      "cFOLD=6 dFOLD=8--07/14/2022 08:30:58----\n",
      "[cfold6---dfold 8] Total Num:3000, MAE:7.527404349853477  07/14/2022 08:31:11\n",
      "0 items removed from dataset that have an angle > 180\n",
      "\n",
      "test configuration: gpu_id=cuda:0, batch_size=20\n",
      "model_arch=ResNet50 Start testing dataset=mpiigaze\n",
      "cFOLD=6 dFOLD=9--07/14/2022 08:31:11----\n",
      "[cfold6---dfold 9] Total Num:3000, MAE:7.9084744166517735  07/14/2022 08:31:23\n",
      "0 items removed from dataset that have an angle > 180\n",
      "\n",
      "test configuration: gpu_id=cuda:0, batch_size=20\n",
      "model_arch=ResNet50 Start testing dataset=mpiigaze\n",
      "cFOLD=6 dFOLD=10--07/14/2022 08:31:23----\n",
      "[cfold6---dfold 10] Total Num:3000, MAE:11.62971315685861  07/14/2022 08:31:36\n",
      "0 items removed from dataset that have an angle > 180\n",
      "\n",
      "test configuration: gpu_id=cuda:0, batch_size=20\n",
      "model_arch=ResNet50 Start testing dataset=mpiigaze\n",
      "cFOLD=6 dFOLD=11--07/14/2022 08:31:36----\n",
      "[cfold6---dfold 11] Total Num:3000, MAE:6.24496116693311  07/14/2022 08:31:49\n",
      "0 items removed from dataset that have an angle > 180\n",
      "\n",
      "test configuration: gpu_id=cuda:0, batch_size=20\n",
      "model_arch=ResNet50 Start testing dataset=mpiigaze\n",
      "cFOLD=6 dFOLD=12--07/14/2022 08:31:49----\n",
      "[cfold6---dfold 12] Total Num:3000, MAE:8.774061280540765  07/14/2022 08:32:02\n",
      "0 items removed from dataset that have an angle > 180\n",
      "\n",
      "test configuration: gpu_id=cuda:0, batch_size=20\n",
      "model_arch=ResNet50 Start testing dataset=mpiigaze\n",
      "cFOLD=6 dFOLD=13--07/14/2022 08:32:02----\n",
      "[cfold6---dfold 13] Total Num:3000, MAE:9.421614652191103  07/14/2022 08:32:15\n",
      "0 items removed from dataset that have an angle > 180\n",
      "\n",
      "test configuration: gpu_id=cuda:0, batch_size=20\n",
      "model_arch=ResNet50 Start testing dataset=mpiigaze\n",
      "cFOLD=6 dFOLD=14--07/14/2022 08:32:15----\n",
      "[cfold6---dfold 14] Total Num:3000, MAE:5.720490529957662  07/14/2022 08:32:28\n",
      "[cfold6--] MAE for this fold best model:7.789745928671279  07/14/2022 08:32:28\n"
     ]
    },
    {
     "data": {
      "text/html": [
       "Finishing last run (ID:360efn79) before initializing another..."
      ],
      "text/plain": [
       "<IPython.core.display.HTML object>"
      ]
     },
     "metadata": {},
     "output_type": "display_data"
    },
    {
     "data": {
      "text/html": [
       "Waiting for W&B process to finish... <strong style=\"color:green\">(success).</strong>"
      ],
      "text/plain": [
       "<IPython.core.display.HTML object>"
      ]
     },
     "metadata": {},
     "output_type": "display_data"
    },
    {
     "data": {
      "application/vnd.jupyter.widget-view+json": {
       "model_id": "",
       "version_major": 2,
       "version_minor": 0
      },
      "text/plain": [
       "VBox(children=(Label(value='0.001 MB of 0.001 MB uploaded (0.000 MB deduped)\\r'), FloatProgress(value=1.0, max…"
      ]
     },
     "metadata": {},
     "output_type": "display_data"
    },
    {
     "data": {
      "text/html": [
       "<style>\n",
       "    table.wandb td:nth-child(1) { padding: 0 10px; text-align: right }\n",
       "    .wandb-row { display: flex; flex-direction: row; flex-wrap: wrap; width: 100% }\n",
       "    .wandb-col { display: flex; flex-direction: column; flex-basis: 100%; flex: 1; padding: 10px; }\n",
       "    </style>\n",
       "<div class=\"wandb-row\"><div class=\"wandb-col\"><h3>Run history:</h3><br/><table class=\"wandb\"><tr><td>data fold</td><td>▁▁▂▃▃▃▄▅▅▅▆▇▇▇█</td></tr><tr><td>dfold_0_avg_mae</td><td>▁</td></tr><tr><td>dfold_10_avg_mae</td><td>▁</td></tr><tr><td>dfold_11_avg_mae</td><td>▁</td></tr><tr><td>dfold_12_avg_mae</td><td>▁</td></tr><tr><td>dfold_13_avg_mae</td><td>▁</td></tr><tr><td>dfold_14_avg_mae</td><td>▁</td></tr><tr><td>dfold_1_avg_mae</td><td>▁</td></tr><tr><td>dfold_2_avg_mae</td><td>▁</td></tr><tr><td>dfold_3_avg_mae</td><td>▁</td></tr><tr><td>dfold_4_avg_mae</td><td>▁</td></tr><tr><td>dfold_5_avg_mae</td><td>▁</td></tr><tr><td>dfold_6_avg_mae</td><td>▁</td></tr><tr><td>dfold_7_avg_mae</td><td>▁</td></tr><tr><td>dfold_8_avg_mae</td><td>▁</td></tr><tr><td>dfold_9_avg_mae</td><td>▁</td></tr></table><br/></div><div class=\"wandb-col\"><h3>Run summary:</h3><br/><table class=\"wandb\"><tr><td>data fold</td><td>14</td></tr><tr><td>dfold_0_avg_mae</td><td>5.06344</td></tr><tr><td>dfold_10_avg_mae</td><td>11.62971</td></tr><tr><td>dfold_11_avg_mae</td><td>6.24496</td></tr><tr><td>dfold_12_avg_mae</td><td>8.77406</td></tr><tr><td>dfold_13_avg_mae</td><td>9.42161</td></tr><tr><td>dfold_14_avg_mae</td><td>5.72049</td></tr><tr><td>dfold_1_avg_mae</td><td>9.38803</td></tr><tr><td>dfold_2_avg_mae</td><td>5.45784</td></tr><tr><td>dfold_3_avg_mae</td><td>8.41799</td></tr><tr><td>dfold_4_avg_mae</td><td>5.51769</td></tr><tr><td>dfold_5_avg_mae</td><td>6.29668</td></tr><tr><td>dfold_6_avg_mae</td><td>11.38503</td></tr><tr><td>dfold_7_avg_mae</td><td>8.09277</td></tr><tr><td>dfold_8_avg_mae</td><td>7.5274</td></tr><tr><td>dfold_9_avg_mae</td><td>7.90847</td></tr></table><br/></div></div>"
      ],
      "text/plain": [
       "<IPython.core.display.HTML object>"
      ]
     },
     "metadata": {},
     "output_type": "display_data"
    },
    {
     "data": {
      "text/html": [
       "Synced <strong style=\"color:#cdcd00\">dark-serenity-7</strong>: <a href=\"https://wandb.ai/synthesis-ai/63_best_checkpoint_model_all_real_data_folds/runs/360efn79\" target=\"_blank\">https://wandb.ai/synthesis-ai/63_best_checkpoint_model_all_real_data_folds/runs/360efn79</a><br/>Synced 5 W&B file(s), 0 media file(s), 0 artifact file(s) and 0 other file(s)"
      ],
      "text/plain": [
       "<IPython.core.display.HTML object>"
      ]
     },
     "metadata": {},
     "output_type": "display_data"
    },
    {
     "data": {
      "text/html": [
       "Find logs at: <code>./wandb/run-20220714_152906-360efn79/logs</code>"
      ],
      "text/plain": [
       "<IPython.core.display.HTML object>"
      ]
     },
     "metadata": {},
     "output_type": "display_data"
    },
    {
     "data": {
      "text/html": [
       "Successfully finished last run (ID:360efn79). Initializing new run:<br/>"
      ],
      "text/plain": [
       "<IPython.core.display.HTML object>"
      ]
     },
     "metadata": {},
     "output_type": "display_data"
    },
    {
     "data": {
      "text/html": [
       "wandb version 0.12.21 is available!  To upgrade, please run:\n",
       " $ pip install wandb --upgrade"
      ],
      "text/plain": [
       "<IPython.core.display.HTML object>"
      ]
     },
     "metadata": {},
     "output_type": "display_data"
    },
    {
     "data": {
      "text/html": [
       "Tracking run with wandb version 0.12.15"
      ],
      "text/plain": [
       "<IPython.core.display.HTML object>"
      ]
     },
     "metadata": {},
     "output_type": "display_data"
    },
    {
     "data": {
      "text/html": [
       "Run data is saved locally in <code>/project/notebooks/wandb/run-20220714_153228-1nwf9c8m</code>"
      ],
      "text/plain": [
       "<IPython.core.display.HTML object>"
      ]
     },
     "metadata": {},
     "output_type": "display_data"
    },
    {
     "data": {
      "text/html": [
       "Syncing run <strong><a href=\"https://wandb.ai/synthesis-ai/63_best_checkpoint_model_all_real_data_folds/runs/1nwf9c8m\" target=\"_blank\">frosty-pine-8</a></strong> to <a href=\"https://wandb.ai/synthesis-ai/63_best_checkpoint_model_all_real_data_folds\" target=\"_blank\">Weights & Biases</a> (<a href=\"https://wandb.me/run\" target=\"_blank\">docs</a>)<br/>"
      ],
      "text/plain": [
       "<IPython.core.display.HTML object>"
      ]
     },
     "metadata": {},
     "output_type": "display_data"
    },
    {
     "name": "stdout",
     "output_type": "stream",
     "text": [
      "cfold=fold07\n",
      "0 items removed from dataset that have an angle > 180\n",
      "\n",
      "test configuration: gpu_id=cuda:0, batch_size=20\n",
      "model_arch=ResNet50 Start testing dataset=mpiigaze\n",
      "cFOLD=7 dFOLD=0--07/14/2022 08:32:36----\n",
      "[cfold7---dfold 0] Total Num:3000, MAE:4.812277866397846  07/14/2022 08:32:49\n",
      "0 items removed from dataset that have an angle > 180\n",
      "\n",
      "test configuration: gpu_id=cuda:0, batch_size=20\n",
      "model_arch=ResNet50 Start testing dataset=mpiigaze\n",
      "cFOLD=7 dFOLD=1--07/14/2022 08:32:49----\n",
      "[cfold7---dfold 1] Total Num:3000, MAE:7.280429800256609  07/14/2022 08:33:01\n",
      "0 items removed from dataset that have an angle > 180\n",
      "\n",
      "test configuration: gpu_id=cuda:0, batch_size=20\n",
      "model_arch=ResNet50 Start testing dataset=mpiigaze\n",
      "cFOLD=7 dFOLD=2--07/14/2022 08:33:01----\n",
      "[cfold7---dfold 2] Total Num:3000, MAE:5.1885539372474385  07/14/2022 08:33:14\n",
      "0 items removed from dataset that have an angle > 180\n",
      "\n",
      "test configuration: gpu_id=cuda:0, batch_size=20\n",
      "model_arch=ResNet50 Start testing dataset=mpiigaze\n",
      "cFOLD=7 dFOLD=3--07/14/2022 08:33:14----\n",
      "[cfold7---dfold 3] Total Num:3000, MAE:7.394099992488172  07/14/2022 08:33:27\n",
      "0 items removed from dataset that have an angle > 180\n",
      "\n",
      "test configuration: gpu_id=cuda:0, batch_size=20\n",
      "model_arch=ResNet50 Start testing dataset=mpiigaze\n",
      "cFOLD=7 dFOLD=4--07/14/2022 08:33:27----\n",
      "[cfold7---dfold 4] Total Num:3000, MAE:4.945691749937952  07/14/2022 08:33:40\n",
      "0 items removed from dataset that have an angle > 180\n",
      "\n",
      "test configuration: gpu_id=cuda:0, batch_size=20\n",
      "model_arch=ResNet50 Start testing dataset=mpiigaze\n",
      "cFOLD=7 dFOLD=5--07/14/2022 08:33:40----\n",
      "[cfold7---dfold 5] Total Num:3000, MAE:5.986615171722515  07/14/2022 08:33:53\n",
      "0 items removed from dataset that have an angle > 180\n",
      "\n",
      "test configuration: gpu_id=cuda:0, batch_size=20\n",
      "model_arch=ResNet50 Start testing dataset=mpiigaze\n",
      "cFOLD=7 dFOLD=6--07/14/2022 08:33:53----\n",
      "[cfold7---dfold 6] Total Num:3000, MAE:10.027954097144818  07/14/2022 08:34:06\n",
      "0 items removed from dataset that have an angle > 180\n",
      "\n",
      "test configuration: gpu_id=cuda:0, batch_size=20\n",
      "model_arch=ResNet50 Start testing dataset=mpiigaze\n",
      "cFOLD=7 dFOLD=7--07/14/2022 08:34:06----\n",
      "[cfold7---dfold 7] Total Num:3000, MAE:7.070009030823852  07/14/2022 08:34:19\n",
      "0 items removed from dataset that have an angle > 180\n",
      "\n",
      "test configuration: gpu_id=cuda:0, batch_size=20\n",
      "model_arch=ResNet50 Start testing dataset=mpiigaze\n",
      "cFOLD=7 dFOLD=8--07/14/2022 08:34:19----\n",
      "[cfold7---dfold 8] Total Num:3000, MAE:7.031915968651085  07/14/2022 08:34:32\n",
      "0 items removed from dataset that have an angle > 180\n",
      "\n",
      "test configuration: gpu_id=cuda:0, batch_size=20\n",
      "model_arch=ResNet50 Start testing dataset=mpiigaze\n",
      "cFOLD=7 dFOLD=9--07/14/2022 08:34:32----\n",
      "[cfold7---dfold 9] Total Num:3000, MAE:6.8327788823584426  07/14/2022 08:34:45\n",
      "0 items removed from dataset that have an angle > 180\n",
      "\n",
      "test configuration: gpu_id=cuda:0, batch_size=20\n",
      "model_arch=ResNet50 Start testing dataset=mpiigaze\n",
      "cFOLD=7 dFOLD=10--07/14/2022 08:34:45----\n",
      "[cfold7---dfold 10] Total Num:3000, MAE:8.59142166305221  07/14/2022 08:34:57\n",
      "0 items removed from dataset that have an angle > 180\n",
      "\n",
      "test configuration: gpu_id=cuda:0, batch_size=20\n",
      "model_arch=ResNet50 Start testing dataset=mpiigaze\n",
      "cFOLD=7 dFOLD=11--07/14/2022 08:34:57----\n",
      "[cfold7---dfold 11] Total Num:3000, MAE:6.729910932785426  07/14/2022 08:35:10\n",
      "0 items removed from dataset that have an angle > 180\n",
      "\n",
      "test configuration: gpu_id=cuda:0, batch_size=20\n",
      "model_arch=ResNet50 Start testing dataset=mpiigaze\n",
      "cFOLD=7 dFOLD=12--07/14/2022 08:35:10----\n",
      "[cfold7---dfold 12] Total Num:3000, MAE:7.330282308903217  07/14/2022 08:35:23\n",
      "0 items removed from dataset that have an angle > 180\n",
      "\n",
      "test configuration: gpu_id=cuda:0, batch_size=20\n",
      "model_arch=ResNet50 Start testing dataset=mpiigaze\n",
      "cFOLD=7 dFOLD=13--07/14/2022 08:35:23----\n",
      "[cfold7---dfold 13] Total Num:3000, MAE:7.712559243955316  07/14/2022 08:35:36\n",
      "0 items removed from dataset that have an angle > 180\n",
      "\n",
      "test configuration: gpu_id=cuda:0, batch_size=20\n",
      "model_arch=ResNet50 Start testing dataset=mpiigaze\n",
      "cFOLD=7 dFOLD=14--07/14/2022 08:35:36----\n",
      "[cfold7---dfold 14] Total Num:3000, MAE:5.336174037830282  07/14/2022 08:35:49\n",
      "[cfold7--] MAE for this fold best model:6.818044978903679  07/14/2022 08:35:49\n"
     ]
    },
    {
     "data": {
      "text/html": [
       "Finishing last run (ID:1nwf9c8m) before initializing another..."
      ],
      "text/plain": [
       "<IPython.core.display.HTML object>"
      ]
     },
     "metadata": {},
     "output_type": "display_data"
    },
    {
     "data": {
      "text/html": [
       "Waiting for W&B process to finish... <strong style=\"color:green\">(success).</strong>"
      ],
      "text/plain": [
       "<IPython.core.display.HTML object>"
      ]
     },
     "metadata": {},
     "output_type": "display_data"
    },
    {
     "data": {
      "application/vnd.jupyter.widget-view+json": {
       "model_id": "",
       "version_major": 2,
       "version_minor": 0
      },
      "text/plain": [
       "VBox(children=(Label(value='0.001 MB of 0.001 MB uploaded (0.000 MB deduped)\\r'), FloatProgress(value=1.0, max…"
      ]
     },
     "metadata": {},
     "output_type": "display_data"
    },
    {
     "data": {
      "text/html": [
       "<style>\n",
       "    table.wandb td:nth-child(1) { padding: 0 10px; text-align: right }\n",
       "    .wandb-row { display: flex; flex-direction: row; flex-wrap: wrap; width: 100% }\n",
       "    .wandb-col { display: flex; flex-direction: column; flex-basis: 100%; flex: 1; padding: 10px; }\n",
       "    </style>\n",
       "<div class=\"wandb-row\"><div class=\"wandb-col\"><h3>Run history:</h3><br/><table class=\"wandb\"><tr><td>data fold</td><td>▁▁▂▃▃▃▄▅▅▅▆▇▇▇█</td></tr><tr><td>dfold_0_avg_mae</td><td>▁</td></tr><tr><td>dfold_10_avg_mae</td><td>▁</td></tr><tr><td>dfold_11_avg_mae</td><td>▁</td></tr><tr><td>dfold_12_avg_mae</td><td>▁</td></tr><tr><td>dfold_13_avg_mae</td><td>▁</td></tr><tr><td>dfold_14_avg_mae</td><td>▁</td></tr><tr><td>dfold_1_avg_mae</td><td>▁</td></tr><tr><td>dfold_2_avg_mae</td><td>▁</td></tr><tr><td>dfold_3_avg_mae</td><td>▁</td></tr><tr><td>dfold_4_avg_mae</td><td>▁</td></tr><tr><td>dfold_5_avg_mae</td><td>▁</td></tr><tr><td>dfold_6_avg_mae</td><td>▁</td></tr><tr><td>dfold_7_avg_mae</td><td>▁</td></tr><tr><td>dfold_8_avg_mae</td><td>▁</td></tr><tr><td>dfold_9_avg_mae</td><td>▁</td></tr></table><br/></div><div class=\"wandb-col\"><h3>Run summary:</h3><br/><table class=\"wandb\"><tr><td>data fold</td><td>14</td></tr><tr><td>dfold_0_avg_mae</td><td>4.81228</td></tr><tr><td>dfold_10_avg_mae</td><td>8.59142</td></tr><tr><td>dfold_11_avg_mae</td><td>6.72991</td></tr><tr><td>dfold_12_avg_mae</td><td>7.33028</td></tr><tr><td>dfold_13_avg_mae</td><td>7.71256</td></tr><tr><td>dfold_14_avg_mae</td><td>5.33617</td></tr><tr><td>dfold_1_avg_mae</td><td>7.28043</td></tr><tr><td>dfold_2_avg_mae</td><td>5.18855</td></tr><tr><td>dfold_3_avg_mae</td><td>7.3941</td></tr><tr><td>dfold_4_avg_mae</td><td>4.94569</td></tr><tr><td>dfold_5_avg_mae</td><td>5.98662</td></tr><tr><td>dfold_6_avg_mae</td><td>10.02795</td></tr><tr><td>dfold_7_avg_mae</td><td>7.07001</td></tr><tr><td>dfold_8_avg_mae</td><td>7.03192</td></tr><tr><td>dfold_9_avg_mae</td><td>6.83278</td></tr></table><br/></div></div>"
      ],
      "text/plain": [
       "<IPython.core.display.HTML object>"
      ]
     },
     "metadata": {},
     "output_type": "display_data"
    },
    {
     "data": {
      "text/html": [
       "Synced <strong style=\"color:#cdcd00\">frosty-pine-8</strong>: <a href=\"https://wandb.ai/synthesis-ai/63_best_checkpoint_model_all_real_data_folds/runs/1nwf9c8m\" target=\"_blank\">https://wandb.ai/synthesis-ai/63_best_checkpoint_model_all_real_data_folds/runs/1nwf9c8m</a><br/>Synced 5 W&B file(s), 0 media file(s), 0 artifact file(s) and 0 other file(s)"
      ],
      "text/plain": [
       "<IPython.core.display.HTML object>"
      ]
     },
     "metadata": {},
     "output_type": "display_data"
    },
    {
     "data": {
      "text/html": [
       "Find logs at: <code>./wandb/run-20220714_153228-1nwf9c8m/logs</code>"
      ],
      "text/plain": [
       "<IPython.core.display.HTML object>"
      ]
     },
     "metadata": {},
     "output_type": "display_data"
    },
    {
     "data": {
      "text/html": [
       "Successfully finished last run (ID:1nwf9c8m). Initializing new run:<br/>"
      ],
      "text/plain": [
       "<IPython.core.display.HTML object>"
      ]
     },
     "metadata": {},
     "output_type": "display_data"
    },
    {
     "data": {
      "text/html": [
       "wandb version 0.12.21 is available!  To upgrade, please run:\n",
       " $ pip install wandb --upgrade"
      ],
      "text/plain": [
       "<IPython.core.display.HTML object>"
      ]
     },
     "metadata": {},
     "output_type": "display_data"
    },
    {
     "data": {
      "text/html": [
       "Tracking run with wandb version 0.12.15"
      ],
      "text/plain": [
       "<IPython.core.display.HTML object>"
      ]
     },
     "metadata": {},
     "output_type": "display_data"
    },
    {
     "data": {
      "text/html": [
       "Run data is saved locally in <code>/project/notebooks/wandb/run-20220714_153549-tq469dxu</code>"
      ],
      "text/plain": [
       "<IPython.core.display.HTML object>"
      ]
     },
     "metadata": {},
     "output_type": "display_data"
    },
    {
     "data": {
      "text/html": [
       "Syncing run <strong><a href=\"https://wandb.ai/synthesis-ai/63_best_checkpoint_model_all_real_data_folds/runs/tq469dxu\" target=\"_blank\">lyric-dragon-9</a></strong> to <a href=\"https://wandb.ai/synthesis-ai/63_best_checkpoint_model_all_real_data_folds\" target=\"_blank\">Weights & Biases</a> (<a href=\"https://wandb.me/run\" target=\"_blank\">docs</a>)<br/>"
      ],
      "text/plain": [
       "<IPython.core.display.HTML object>"
      ]
     },
     "metadata": {},
     "output_type": "display_data"
    },
    {
     "name": "stdout",
     "output_type": "stream",
     "text": [
      "cfold=fold08\n",
      "0 items removed from dataset that have an angle > 180\n",
      "\n",
      "test configuration: gpu_id=cuda:0, batch_size=20\n",
      "model_arch=ResNet50 Start testing dataset=mpiigaze\n",
      "cFOLD=8 dFOLD=0--07/14/2022 08:35:58----\n",
      "[cfold8---dfold 0] Total Num:3000, MAE:4.901325494442529  07/14/2022 08:36:11\n",
      "0 items removed from dataset that have an angle > 180\n",
      "\n",
      "test configuration: gpu_id=cuda:0, batch_size=20\n",
      "model_arch=ResNet50 Start testing dataset=mpiigaze\n",
      "cFOLD=8 dFOLD=1--07/14/2022 08:36:11----\n",
      "[cfold8---dfold 1] Total Num:3000, MAE:7.195150036726271  07/14/2022 08:36:23\n",
      "0 items removed from dataset that have an angle > 180\n",
      "\n",
      "test configuration: gpu_id=cuda:0, batch_size=20\n",
      "model_arch=ResNet50 Start testing dataset=mpiigaze\n",
      "cFOLD=8 dFOLD=2--07/14/2022 08:36:23----\n",
      "[cfold8---dfold 2] Total Num:3000, MAE:5.56485685412866  07/14/2022 08:36:36\n",
      "0 items removed from dataset that have an angle > 180\n",
      "\n",
      "test configuration: gpu_id=cuda:0, batch_size=20\n",
      "model_arch=ResNet50 Start testing dataset=mpiigaze\n",
      "cFOLD=8 dFOLD=3--07/14/2022 08:36:36----\n",
      "[cfold8---dfold 3] Total Num:3000, MAE:6.830453507037099  07/14/2022 08:36:49\n",
      "0 items removed from dataset that have an angle > 180\n",
      "\n",
      "test configuration: gpu_id=cuda:0, batch_size=20\n",
      "model_arch=ResNet50 Start testing dataset=mpiigaze\n",
      "cFOLD=8 dFOLD=4--07/14/2022 08:36:49----\n",
      "[cfold8---dfold 4] Total Num:3000, MAE:5.719159360714533  07/14/2022 08:37:02\n",
      "0 items removed from dataset that have an angle > 180\n",
      "\n",
      "test configuration: gpu_id=cuda:0, batch_size=20\n",
      "model_arch=ResNet50 Start testing dataset=mpiigaze\n",
      "cFOLD=8 dFOLD=5--07/14/2022 08:37:02----\n",
      "[cfold8---dfold 5] Total Num:3000, MAE:5.988719985463204  07/14/2022 08:37:15\n",
      "0 items removed from dataset that have an angle > 180\n",
      "\n",
      "test configuration: gpu_id=cuda:0, batch_size=20\n",
      "model_arch=ResNet50 Start testing dataset=mpiigaze\n",
      "cFOLD=8 dFOLD=6--07/14/2022 08:37:15----\n",
      "[cfold8---dfold 6] Total Num:3000, MAE:9.778976803143305  07/14/2022 08:37:28\n",
      "0 items removed from dataset that have an angle > 180\n",
      "\n",
      "test configuration: gpu_id=cuda:0, batch_size=20\n",
      "model_arch=ResNet50 Start testing dataset=mpiigaze\n",
      "cFOLD=8 dFOLD=7--07/14/2022 08:37:28----\n",
      "[cfold8---dfold 7] Total Num:3000, MAE:7.694709487980379  07/14/2022 08:37:41\n",
      "0 items removed from dataset that have an angle > 180\n",
      "\n",
      "test configuration: gpu_id=cuda:0, batch_size=20\n",
      "model_arch=ResNet50 Start testing dataset=mpiigaze\n",
      "cFOLD=8 dFOLD=8--07/14/2022 08:37:41----\n",
      "[cfold8---dfold 8] Total Num:3000, MAE:6.796434745231169  07/14/2022 08:37:54\n",
      "0 items removed from dataset that have an angle > 180\n",
      "\n",
      "test configuration: gpu_id=cuda:0, batch_size=20\n",
      "model_arch=ResNet50 Start testing dataset=mpiigaze\n",
      "cFOLD=8 dFOLD=9--07/14/2022 08:37:54----\n",
      "[cfold8---dfold 9] Total Num:3000, MAE:8.247916375916612  07/14/2022 08:38:07\n",
      "0 items removed from dataset that have an angle > 180\n",
      "\n",
      "test configuration: gpu_id=cuda:0, batch_size=20\n",
      "model_arch=ResNet50 Start testing dataset=mpiigaze\n",
      "cFOLD=8 dFOLD=10--07/14/2022 08:38:07----\n",
      "[cfold8---dfold 10] Total Num:3000, MAE:10.273295202443327  07/14/2022 08:38:20\n",
      "0 items removed from dataset that have an angle > 180\n",
      "\n",
      "test configuration: gpu_id=cuda:0, batch_size=20\n",
      "model_arch=ResNet50 Start testing dataset=mpiigaze\n",
      "cFOLD=8 dFOLD=11--07/14/2022 08:38:20----\n",
      "[cfold8---dfold 11] Total Num:3000, MAE:7.032962086859033  07/14/2022 08:38:33\n",
      "0 items removed from dataset that have an angle > 180\n",
      "\n",
      "test configuration: gpu_id=cuda:0, batch_size=20\n",
      "model_arch=ResNet50 Start testing dataset=mpiigaze\n",
      "cFOLD=8 dFOLD=12--07/14/2022 08:38:33----\n",
      "[cfold8---dfold 12] Total Num:3000, MAE:7.403679112872874  07/14/2022 08:38:45\n",
      "0 items removed from dataset that have an angle > 180\n",
      "\n",
      "test configuration: gpu_id=cuda:0, batch_size=20\n",
      "model_arch=ResNet50 Start testing dataset=mpiigaze\n",
      "cFOLD=8 dFOLD=13--07/14/2022 08:38:45----\n",
      "[cfold8---dfold 13] Total Num:3000, MAE:8.04730386263592  07/14/2022 08:38:58\n",
      "0 items removed from dataset that have an angle > 180\n",
      "\n",
      "test configuration: gpu_id=cuda:0, batch_size=20\n",
      "model_arch=ResNet50 Start testing dataset=mpiigaze\n",
      "cFOLD=8 dFOLD=14--07/14/2022 08:38:58----\n",
      "[cfold8---dfold 14] Total Num:3000, MAE:5.653196469759114  07/14/2022 08:39:11\n",
      "[cfold8--] MAE for this fold best model:7.141875959023602  07/14/2022 08:39:11\n"
     ]
    },
    {
     "data": {
      "text/html": [
       "Finishing last run (ID:tq469dxu) before initializing another..."
      ],
      "text/plain": [
       "<IPython.core.display.HTML object>"
      ]
     },
     "metadata": {},
     "output_type": "display_data"
    },
    {
     "data": {
      "text/html": [
       "Waiting for W&B process to finish... <strong style=\"color:green\">(success).</strong>"
      ],
      "text/plain": [
       "<IPython.core.display.HTML object>"
      ]
     },
     "metadata": {},
     "output_type": "display_data"
    },
    {
     "data": {
      "application/vnd.jupyter.widget-view+json": {
       "model_id": "",
       "version_major": 2,
       "version_minor": 0
      },
      "text/plain": [
       "VBox(children=(Label(value='0.001 MB of 0.001 MB uploaded (0.000 MB deduped)\\r'), FloatProgress(value=1.0, max…"
      ]
     },
     "metadata": {},
     "output_type": "display_data"
    },
    {
     "data": {
      "text/html": [
       "<style>\n",
       "    table.wandb td:nth-child(1) { padding: 0 10px; text-align: right }\n",
       "    .wandb-row { display: flex; flex-direction: row; flex-wrap: wrap; width: 100% }\n",
       "    .wandb-col { display: flex; flex-direction: column; flex-basis: 100%; flex: 1; padding: 10px; }\n",
       "    </style>\n",
       "<div class=\"wandb-row\"><div class=\"wandb-col\"><h3>Run history:</h3><br/><table class=\"wandb\"><tr><td>data fold</td><td>▁▁▂▃▃▃▄▅▅▅▆▇▇▇█</td></tr><tr><td>dfold_0_avg_mae</td><td>▁</td></tr><tr><td>dfold_10_avg_mae</td><td>▁</td></tr><tr><td>dfold_11_avg_mae</td><td>▁</td></tr><tr><td>dfold_12_avg_mae</td><td>▁</td></tr><tr><td>dfold_13_avg_mae</td><td>▁</td></tr><tr><td>dfold_14_avg_mae</td><td>▁</td></tr><tr><td>dfold_1_avg_mae</td><td>▁</td></tr><tr><td>dfold_2_avg_mae</td><td>▁</td></tr><tr><td>dfold_3_avg_mae</td><td>▁</td></tr><tr><td>dfold_4_avg_mae</td><td>▁</td></tr><tr><td>dfold_5_avg_mae</td><td>▁</td></tr><tr><td>dfold_6_avg_mae</td><td>▁</td></tr><tr><td>dfold_7_avg_mae</td><td>▁</td></tr><tr><td>dfold_8_avg_mae</td><td>▁</td></tr><tr><td>dfold_9_avg_mae</td><td>▁</td></tr></table><br/></div><div class=\"wandb-col\"><h3>Run summary:</h3><br/><table class=\"wandb\"><tr><td>data fold</td><td>14</td></tr><tr><td>dfold_0_avg_mae</td><td>4.90133</td></tr><tr><td>dfold_10_avg_mae</td><td>10.2733</td></tr><tr><td>dfold_11_avg_mae</td><td>7.03296</td></tr><tr><td>dfold_12_avg_mae</td><td>7.40368</td></tr><tr><td>dfold_13_avg_mae</td><td>8.0473</td></tr><tr><td>dfold_14_avg_mae</td><td>5.6532</td></tr><tr><td>dfold_1_avg_mae</td><td>7.19515</td></tr><tr><td>dfold_2_avg_mae</td><td>5.56486</td></tr><tr><td>dfold_3_avg_mae</td><td>6.83045</td></tr><tr><td>dfold_4_avg_mae</td><td>5.71916</td></tr><tr><td>dfold_5_avg_mae</td><td>5.98872</td></tr><tr><td>dfold_6_avg_mae</td><td>9.77898</td></tr><tr><td>dfold_7_avg_mae</td><td>7.69471</td></tr><tr><td>dfold_8_avg_mae</td><td>6.79643</td></tr><tr><td>dfold_9_avg_mae</td><td>8.24792</td></tr></table><br/></div></div>"
      ],
      "text/plain": [
       "<IPython.core.display.HTML object>"
      ]
     },
     "metadata": {},
     "output_type": "display_data"
    },
    {
     "data": {
      "text/html": [
       "Synced <strong style=\"color:#cdcd00\">lyric-dragon-9</strong>: <a href=\"https://wandb.ai/synthesis-ai/63_best_checkpoint_model_all_real_data_folds/runs/tq469dxu\" target=\"_blank\">https://wandb.ai/synthesis-ai/63_best_checkpoint_model_all_real_data_folds/runs/tq469dxu</a><br/>Synced 5 W&B file(s), 0 media file(s), 0 artifact file(s) and 0 other file(s)"
      ],
      "text/plain": [
       "<IPython.core.display.HTML object>"
      ]
     },
     "metadata": {},
     "output_type": "display_data"
    },
    {
     "data": {
      "text/html": [
       "Find logs at: <code>./wandb/run-20220714_153549-tq469dxu/logs</code>"
      ],
      "text/plain": [
       "<IPython.core.display.HTML object>"
      ]
     },
     "metadata": {},
     "output_type": "display_data"
    },
    {
     "data": {
      "text/html": [
       "Successfully finished last run (ID:tq469dxu). Initializing new run:<br/>"
      ],
      "text/plain": [
       "<IPython.core.display.HTML object>"
      ]
     },
     "metadata": {},
     "output_type": "display_data"
    },
    {
     "data": {
      "text/html": [
       "wandb version 0.12.21 is available!  To upgrade, please run:\n",
       " $ pip install wandb --upgrade"
      ],
      "text/plain": [
       "<IPython.core.display.HTML object>"
      ]
     },
     "metadata": {},
     "output_type": "display_data"
    },
    {
     "data": {
      "text/html": [
       "Tracking run with wandb version 0.12.15"
      ],
      "text/plain": [
       "<IPython.core.display.HTML object>"
      ]
     },
     "metadata": {},
     "output_type": "display_data"
    },
    {
     "data": {
      "text/html": [
       "Run data is saved locally in <code>/project/notebooks/wandb/run-20220714_153911-372mdsvw</code>"
      ],
      "text/plain": [
       "<IPython.core.display.HTML object>"
      ]
     },
     "metadata": {},
     "output_type": "display_data"
    },
    {
     "data": {
      "text/html": [
       "Syncing run <strong><a href=\"https://wandb.ai/synthesis-ai/63_best_checkpoint_model_all_real_data_folds/runs/372mdsvw\" target=\"_blank\">expert-grass-10</a></strong> to <a href=\"https://wandb.ai/synthesis-ai/63_best_checkpoint_model_all_real_data_folds\" target=\"_blank\">Weights & Biases</a> (<a href=\"https://wandb.me/run\" target=\"_blank\">docs</a>)<br/>"
      ],
      "text/plain": [
       "<IPython.core.display.HTML object>"
      ]
     },
     "metadata": {},
     "output_type": "display_data"
    },
    {
     "name": "stdout",
     "output_type": "stream",
     "text": [
      "cfold=fold09\n",
      "0 items removed from dataset that have an angle > 180\n",
      "\n",
      "test configuration: gpu_id=cuda:0, batch_size=20\n",
      "model_arch=ResNet50 Start testing dataset=mpiigaze\n",
      "cFOLD=9 dFOLD=0--07/14/2022 08:39:21----\n",
      "[cfold9---dfold 0] Total Num:3000, MAE:6.391326211247581  07/14/2022 08:39:34\n",
      "0 items removed from dataset that have an angle > 180\n",
      "\n",
      "test configuration: gpu_id=cuda:0, batch_size=20\n",
      "model_arch=ResNet50 Start testing dataset=mpiigaze\n",
      "cFOLD=9 dFOLD=1--07/14/2022 08:39:34----\n",
      "[cfold9---dfold 1] Total Num:3000, MAE:8.525858489375485  07/14/2022 08:39:47\n",
      "0 items removed from dataset that have an angle > 180\n",
      "\n",
      "test configuration: gpu_id=cuda:0, batch_size=20\n",
      "model_arch=ResNet50 Start testing dataset=mpiigaze\n",
      "cFOLD=9 dFOLD=2--07/14/2022 08:39:47----\n",
      "[cfold9---dfold 2] Total Num:3000, MAE:5.463077642239596  07/14/2022 08:39:59\n",
      "0 items removed from dataset that have an angle > 180\n",
      "\n",
      "test configuration: gpu_id=cuda:0, batch_size=20\n",
      "model_arch=ResNet50 Start testing dataset=mpiigaze\n",
      "cFOLD=9 dFOLD=3--07/14/2022 08:39:59----\n",
      "[cfold9---dfold 3] Total Num:3000, MAE:8.466606387420356  07/14/2022 08:40:12\n",
      "0 items removed from dataset that have an angle > 180\n",
      "\n",
      "test configuration: gpu_id=cuda:0, batch_size=20\n",
      "model_arch=ResNet50 Start testing dataset=mpiigaze\n",
      "cFOLD=9 dFOLD=4--07/14/2022 08:40:12----\n",
      "[cfold9---dfold 4] Total Num:3000, MAE:5.21087015021572  07/14/2022 08:40:25\n",
      "0 items removed from dataset that have an angle > 180\n",
      "\n",
      "test configuration: gpu_id=cuda:0, batch_size=20\n",
      "model_arch=ResNet50 Start testing dataset=mpiigaze\n",
      "cFOLD=9 dFOLD=5--07/14/2022 08:40:25----\n",
      "[cfold9---dfold 5] Total Num:3000, MAE:6.325686323134515  07/14/2022 08:40:38\n",
      "0 items removed from dataset that have an angle > 180\n",
      "\n",
      "test configuration: gpu_id=cuda:0, batch_size=20\n",
      "model_arch=ResNet50 Start testing dataset=mpiigaze\n",
      "cFOLD=9 dFOLD=6--07/14/2022 08:40:38----\n",
      "[cfold9---dfold 6] Total Num:3000, MAE:14.986850597938357  07/14/2022 08:40:51\n",
      "0 items removed from dataset that have an angle > 180\n",
      "\n",
      "test configuration: gpu_id=cuda:0, batch_size=20\n",
      "model_arch=ResNet50 Start testing dataset=mpiigaze\n",
      "cFOLD=9 dFOLD=7--07/14/2022 08:40:51----\n",
      "[cfold9---dfold 7] Total Num:3000, MAE:8.926798965642554  07/14/2022 08:41:04\n",
      "0 items removed from dataset that have an angle > 180\n",
      "\n",
      "test configuration: gpu_id=cuda:0, batch_size=20\n",
      "model_arch=ResNet50 Start testing dataset=mpiigaze\n",
      "cFOLD=9 dFOLD=8--07/14/2022 08:41:04----\n",
      "[cfold9---dfold 8] Total Num:3000, MAE:7.8718383234201195  07/14/2022 08:41:17\n",
      "0 items removed from dataset that have an angle > 180\n",
      "\n",
      "test configuration: gpu_id=cuda:0, batch_size=20\n",
      "model_arch=ResNet50 Start testing dataset=mpiigaze\n",
      "cFOLD=9 dFOLD=9--07/14/2022 08:41:17----\n",
      "[cfold9---dfold 9] Total Num:3000, MAE:7.23610442604705  07/14/2022 08:41:30\n",
      "0 items removed from dataset that have an angle > 180\n",
      "\n",
      "test configuration: gpu_id=cuda:0, batch_size=20\n",
      "model_arch=ResNet50 Start testing dataset=mpiigaze\n",
      "cFOLD=9 dFOLD=10--07/14/2022 08:41:30----\n",
      "[cfold9---dfold 10] Total Num:3000, MAE:16.16743049414205  07/14/2022 08:41:43\n",
      "0 items removed from dataset that have an angle > 180\n",
      "\n",
      "test configuration: gpu_id=cuda:0, batch_size=20\n",
      "model_arch=ResNet50 Start testing dataset=mpiigaze\n",
      "cFOLD=9 dFOLD=11--07/14/2022 08:41:43----\n",
      "[cfold9---dfold 11] Total Num:3000, MAE:8.063583932559471  07/14/2022 08:41:56\n",
      "0 items removed from dataset that have an angle > 180\n",
      "\n",
      "test configuration: gpu_id=cuda:0, batch_size=20\n",
      "model_arch=ResNet50 Start testing dataset=mpiigaze\n",
      "cFOLD=9 dFOLD=12--07/14/2022 08:41:56----\n",
      "[cfold9---dfold 12] Total Num:3000, MAE:11.258002102351238  07/14/2022 08:42:09\n",
      "0 items removed from dataset that have an angle > 180\n",
      "\n",
      "test configuration: gpu_id=cuda:0, batch_size=20\n",
      "model_arch=ResNet50 Start testing dataset=mpiigaze\n",
      "cFOLD=9 dFOLD=13--07/14/2022 08:42:09----\n",
      "[cfold9---dfold 13] Total Num:3000, MAE:16.124380722651644  07/14/2022 08:42:22\n",
      "0 items removed from dataset that have an angle > 180\n",
      "\n",
      "test configuration: gpu_id=cuda:0, batch_size=20\n",
      "model_arch=ResNet50 Start testing dataset=mpiigaze\n",
      "cFOLD=9 dFOLD=14--07/14/2022 08:42:22----\n",
      "[cfold9---dfold 14] Total Num:3000, MAE:5.884622607317321  07/14/2022 08:42:34\n",
      "[cfold9--] MAE for this fold best model:9.126869158380204  07/14/2022 08:42:34\n"
     ]
    },
    {
     "data": {
      "text/html": [
       "Finishing last run (ID:372mdsvw) before initializing another..."
      ],
      "text/plain": [
       "<IPython.core.display.HTML object>"
      ]
     },
     "metadata": {},
     "output_type": "display_data"
    },
    {
     "data": {
      "text/html": [
       "Waiting for W&B process to finish... <strong style=\"color:green\">(success).</strong>"
      ],
      "text/plain": [
       "<IPython.core.display.HTML object>"
      ]
     },
     "metadata": {},
     "output_type": "display_data"
    },
    {
     "data": {
      "application/vnd.jupyter.widget-view+json": {
       "model_id": "",
       "version_major": 2,
       "version_minor": 0
      },
      "text/plain": [
       "VBox(children=(Label(value='0.001 MB of 0.001 MB uploaded (0.000 MB deduped)\\r'), FloatProgress(value=1.0, max…"
      ]
     },
     "metadata": {},
     "output_type": "display_data"
    },
    {
     "data": {
      "text/html": [
       "<style>\n",
       "    table.wandb td:nth-child(1) { padding: 0 10px; text-align: right }\n",
       "    .wandb-row { display: flex; flex-direction: row; flex-wrap: wrap; width: 100% }\n",
       "    .wandb-col { display: flex; flex-direction: column; flex-basis: 100%; flex: 1; padding: 10px; }\n",
       "    </style>\n",
       "<div class=\"wandb-row\"><div class=\"wandb-col\"><h3>Run history:</h3><br/><table class=\"wandb\"><tr><td>data fold</td><td>▁▁▂▃▃▃▄▅▅▅▆▇▇▇█</td></tr><tr><td>dfold_0_avg_mae</td><td>▁</td></tr><tr><td>dfold_10_avg_mae</td><td>▁</td></tr><tr><td>dfold_11_avg_mae</td><td>▁</td></tr><tr><td>dfold_12_avg_mae</td><td>▁</td></tr><tr><td>dfold_13_avg_mae</td><td>▁</td></tr><tr><td>dfold_14_avg_mae</td><td>▁</td></tr><tr><td>dfold_1_avg_mae</td><td>▁</td></tr><tr><td>dfold_2_avg_mae</td><td>▁</td></tr><tr><td>dfold_3_avg_mae</td><td>▁</td></tr><tr><td>dfold_4_avg_mae</td><td>▁</td></tr><tr><td>dfold_5_avg_mae</td><td>▁</td></tr><tr><td>dfold_6_avg_mae</td><td>▁</td></tr><tr><td>dfold_7_avg_mae</td><td>▁</td></tr><tr><td>dfold_8_avg_mae</td><td>▁</td></tr><tr><td>dfold_9_avg_mae</td><td>▁</td></tr></table><br/></div><div class=\"wandb-col\"><h3>Run summary:</h3><br/><table class=\"wandb\"><tr><td>data fold</td><td>14</td></tr><tr><td>dfold_0_avg_mae</td><td>6.39133</td></tr><tr><td>dfold_10_avg_mae</td><td>16.16743</td></tr><tr><td>dfold_11_avg_mae</td><td>8.06358</td></tr><tr><td>dfold_12_avg_mae</td><td>11.258</td></tr><tr><td>dfold_13_avg_mae</td><td>16.12438</td></tr><tr><td>dfold_14_avg_mae</td><td>5.88462</td></tr><tr><td>dfold_1_avg_mae</td><td>8.52586</td></tr><tr><td>dfold_2_avg_mae</td><td>5.46308</td></tr><tr><td>dfold_3_avg_mae</td><td>8.46661</td></tr><tr><td>dfold_4_avg_mae</td><td>5.21087</td></tr><tr><td>dfold_5_avg_mae</td><td>6.32569</td></tr><tr><td>dfold_6_avg_mae</td><td>14.98685</td></tr><tr><td>dfold_7_avg_mae</td><td>8.9268</td></tr><tr><td>dfold_8_avg_mae</td><td>7.87184</td></tr><tr><td>dfold_9_avg_mae</td><td>7.2361</td></tr></table><br/></div></div>"
      ],
      "text/plain": [
       "<IPython.core.display.HTML object>"
      ]
     },
     "metadata": {},
     "output_type": "display_data"
    },
    {
     "data": {
      "text/html": [
       "Synced <strong style=\"color:#cdcd00\">expert-grass-10</strong>: <a href=\"https://wandb.ai/synthesis-ai/63_best_checkpoint_model_all_real_data_folds/runs/372mdsvw\" target=\"_blank\">https://wandb.ai/synthesis-ai/63_best_checkpoint_model_all_real_data_folds/runs/372mdsvw</a><br/>Synced 5 W&B file(s), 0 media file(s), 0 artifact file(s) and 0 other file(s)"
      ],
      "text/plain": [
       "<IPython.core.display.HTML object>"
      ]
     },
     "metadata": {},
     "output_type": "display_data"
    },
    {
     "data": {
      "text/html": [
       "Find logs at: <code>./wandb/run-20220714_153911-372mdsvw/logs</code>"
      ],
      "text/plain": [
       "<IPython.core.display.HTML object>"
      ]
     },
     "metadata": {},
     "output_type": "display_data"
    },
    {
     "data": {
      "text/html": [
       "Successfully finished last run (ID:372mdsvw). Initializing new run:<br/>"
      ],
      "text/plain": [
       "<IPython.core.display.HTML object>"
      ]
     },
     "metadata": {},
     "output_type": "display_data"
    },
    {
     "data": {
      "text/html": [
       "wandb version 0.12.21 is available!  To upgrade, please run:\n",
       " $ pip install wandb --upgrade"
      ],
      "text/plain": [
       "<IPython.core.display.HTML object>"
      ]
     },
     "metadata": {},
     "output_type": "display_data"
    },
    {
     "data": {
      "text/html": [
       "Tracking run with wandb version 0.12.15"
      ],
      "text/plain": [
       "<IPython.core.display.HTML object>"
      ]
     },
     "metadata": {},
     "output_type": "display_data"
    },
    {
     "data": {
      "text/html": [
       "Run data is saved locally in <code>/project/notebooks/wandb/run-20220714_154235-2nv3ol5s</code>"
      ],
      "text/plain": [
       "<IPython.core.display.HTML object>"
      ]
     },
     "metadata": {},
     "output_type": "display_data"
    },
    {
     "data": {
      "text/html": [
       "Syncing run <strong><a href=\"https://wandb.ai/synthesis-ai/63_best_checkpoint_model_all_real_data_folds/runs/2nv3ol5s\" target=\"_blank\">hardy-bird-11</a></strong> to <a href=\"https://wandb.ai/synthesis-ai/63_best_checkpoint_model_all_real_data_folds\" target=\"_blank\">Weights & Biases</a> (<a href=\"https://wandb.me/run\" target=\"_blank\">docs</a>)<br/>"
      ],
      "text/plain": [
       "<IPython.core.display.HTML object>"
      ]
     },
     "metadata": {},
     "output_type": "display_data"
    },
    {
     "name": "stdout",
     "output_type": "stream",
     "text": [
      "cfold=fold10\n",
      "0 items removed from dataset that have an angle > 180\n",
      "\n",
      "test configuration: gpu_id=cuda:0, batch_size=20\n",
      "model_arch=ResNet50 Start testing dataset=mpiigaze\n",
      "cFOLD=10 dFOLD=0--07/14/2022 08:42:43----\n",
      "[cfold10---dfold 0] Total Num:3000, MAE:5.13540234453915  07/14/2022 08:42:56\n",
      "0 items removed from dataset that have an angle > 180\n",
      "\n",
      "test configuration: gpu_id=cuda:0, batch_size=20\n",
      "model_arch=ResNet50 Start testing dataset=mpiigaze\n",
      "cFOLD=10 dFOLD=1--07/14/2022 08:42:56----\n",
      "[cfold10---dfold 1] Total Num:3000, MAE:6.636678609772485  07/14/2022 08:43:08\n",
      "0 items removed from dataset that have an angle > 180\n",
      "\n",
      "test configuration: gpu_id=cuda:0, batch_size=20\n",
      "model_arch=ResNet50 Start testing dataset=mpiigaze\n",
      "cFOLD=10 dFOLD=2--07/14/2022 08:43:09----\n",
      "[cfold10---dfold 2] Total Num:3000, MAE:5.858646771812236  07/14/2022 08:43:21\n",
      "0 items removed from dataset that have an angle > 180\n",
      "\n",
      "test configuration: gpu_id=cuda:0, batch_size=20\n",
      "model_arch=ResNet50 Start testing dataset=mpiigaze\n",
      "cFOLD=10 dFOLD=3--07/14/2022 08:43:21----\n",
      "[cfold10---dfold 3] Total Num:3000, MAE:7.507146989801045  07/14/2022 08:43:34\n",
      "0 items removed from dataset that have an angle > 180\n",
      "\n",
      "test configuration: gpu_id=cuda:0, batch_size=20\n",
      "model_arch=ResNet50 Start testing dataset=mpiigaze\n",
      "cFOLD=10 dFOLD=4--07/14/2022 08:43:34----\n",
      "[cfold10---dfold 4] Total Num:3000, MAE:6.311499517206171  07/14/2022 08:43:48\n",
      "0 items removed from dataset that have an angle > 180\n",
      "\n",
      "test configuration: gpu_id=cuda:0, batch_size=20\n",
      "model_arch=ResNet50 Start testing dataset=mpiigaze\n",
      "cFOLD=10 dFOLD=5--07/14/2022 08:43:48----\n",
      "[cfold10---dfold 5] Total Num:3000, MAE:6.014579893957043  07/14/2022 08:44:01\n",
      "0 items removed from dataset that have an angle > 180\n",
      "\n",
      "test configuration: gpu_id=cuda:0, batch_size=20\n",
      "model_arch=ResNet50 Start testing dataset=mpiigaze\n",
      "cFOLD=10 dFOLD=6--07/14/2022 08:44:01----\n",
      "[cfold10---dfold 6] Total Num:3000, MAE:10.784814091658705  07/14/2022 08:44:14\n",
      "0 items removed from dataset that have an angle > 180\n",
      "\n",
      "test configuration: gpu_id=cuda:0, batch_size=20\n",
      "model_arch=ResNet50 Start testing dataset=mpiigaze\n",
      "cFOLD=10 dFOLD=7--07/14/2022 08:44:14----\n",
      "[cfold10---dfold 7] Total Num:3000, MAE:7.25745600343297  07/14/2022 08:44:27\n",
      "0 items removed from dataset that have an angle > 180\n",
      "\n",
      "test configuration: gpu_id=cuda:0, batch_size=20\n",
      "model_arch=ResNet50 Start testing dataset=mpiigaze\n",
      "cFOLD=10 dFOLD=8--07/14/2022 08:44:27----\n",
      "[cfold10---dfold 8] Total Num:3000, MAE:7.619305550432319  07/14/2022 08:44:39\n",
      "0 items removed from dataset that have an angle > 180\n",
      "\n",
      "test configuration: gpu_id=cuda:0, batch_size=20\n",
      "model_arch=ResNet50 Start testing dataset=mpiigaze\n",
      "cFOLD=10 dFOLD=9--07/14/2022 08:44:40----\n",
      "[cfold10---dfold 9] Total Num:3000, MAE:7.914864521021625  07/14/2022 08:44:52\n",
      "0 items removed from dataset that have an angle > 180\n",
      "\n",
      "test configuration: gpu_id=cuda:0, batch_size=20\n",
      "model_arch=ResNet50 Start testing dataset=mpiigaze\n",
      "cFOLD=10 dFOLD=10--07/14/2022 08:44:52----\n",
      "[cfold10---dfold 10] Total Num:3000, MAE:8.770123435387946  07/14/2022 08:45:05\n",
      "0 items removed from dataset that have an angle > 180\n",
      "\n",
      "test configuration: gpu_id=cuda:0, batch_size=20\n",
      "model_arch=ResNet50 Start testing dataset=mpiigaze\n",
      "cFOLD=10 dFOLD=11--07/14/2022 08:45:05----\n",
      "[cfold10---dfold 11] Total Num:3000, MAE:7.7713450668401  07/14/2022 08:45:18\n",
      "0 items removed from dataset that have an angle > 180\n",
      "\n",
      "test configuration: gpu_id=cuda:0, batch_size=20\n",
      "model_arch=ResNet50 Start testing dataset=mpiigaze\n",
      "cFOLD=10 dFOLD=12--07/14/2022 08:45:18----\n",
      "[cfold10---dfold 12] Total Num:3000, MAE:8.248505578340229  07/14/2022 08:45:31\n",
      "0 items removed from dataset that have an angle > 180\n",
      "\n",
      "test configuration: gpu_id=cuda:0, batch_size=20\n",
      "model_arch=ResNet50 Start testing dataset=mpiigaze\n",
      "cFOLD=10 dFOLD=13--07/14/2022 08:45:31----\n",
      "[cfold10---dfold 13] Total Num:3000, MAE:8.48301335215114  07/14/2022 08:45:44\n",
      "0 items removed from dataset that have an angle > 180\n",
      "\n",
      "test configuration: gpu_id=cuda:0, batch_size=20\n",
      "model_arch=ResNet50 Start testing dataset=mpiigaze\n",
      "cFOLD=10 dFOLD=14--07/14/2022 08:45:44----\n",
      "[cfold10---dfold 14] Total Num:3000, MAE:5.933738749104791  07/14/2022 08:45:57\n",
      "[cfold10--] MAE for this fold best model:7.349808031697196  07/14/2022 08:45:57\n"
     ]
    },
    {
     "data": {
      "text/html": [
       "Finishing last run (ID:2nv3ol5s) before initializing another..."
      ],
      "text/plain": [
       "<IPython.core.display.HTML object>"
      ]
     },
     "metadata": {},
     "output_type": "display_data"
    },
    {
     "data": {
      "text/html": [
       "Waiting for W&B process to finish... <strong style=\"color:green\">(success).</strong>"
      ],
      "text/plain": [
       "<IPython.core.display.HTML object>"
      ]
     },
     "metadata": {},
     "output_type": "display_data"
    },
    {
     "data": {
      "application/vnd.jupyter.widget-view+json": {
       "model_id": "",
       "version_major": 2,
       "version_minor": 0
      },
      "text/plain": [
       "VBox(children=(Label(value='0.001 MB of 0.001 MB uploaded (0.000 MB deduped)\\r'), FloatProgress(value=1.0, max…"
      ]
     },
     "metadata": {},
     "output_type": "display_data"
    },
    {
     "data": {
      "text/html": [
       "<style>\n",
       "    table.wandb td:nth-child(1) { padding: 0 10px; text-align: right }\n",
       "    .wandb-row { display: flex; flex-direction: row; flex-wrap: wrap; width: 100% }\n",
       "    .wandb-col { display: flex; flex-direction: column; flex-basis: 100%; flex: 1; padding: 10px; }\n",
       "    </style>\n",
       "<div class=\"wandb-row\"><div class=\"wandb-col\"><h3>Run history:</h3><br/><table class=\"wandb\"><tr><td>data fold</td><td>▁▁▂▃▃▃▄▅▅▅▆▇▇▇█</td></tr><tr><td>dfold_0_avg_mae</td><td>▁</td></tr><tr><td>dfold_10_avg_mae</td><td>▁</td></tr><tr><td>dfold_11_avg_mae</td><td>▁</td></tr><tr><td>dfold_12_avg_mae</td><td>▁</td></tr><tr><td>dfold_13_avg_mae</td><td>▁</td></tr><tr><td>dfold_14_avg_mae</td><td>▁</td></tr><tr><td>dfold_1_avg_mae</td><td>▁</td></tr><tr><td>dfold_2_avg_mae</td><td>▁</td></tr><tr><td>dfold_3_avg_mae</td><td>▁</td></tr><tr><td>dfold_4_avg_mae</td><td>▁</td></tr><tr><td>dfold_5_avg_mae</td><td>▁</td></tr><tr><td>dfold_6_avg_mae</td><td>▁</td></tr><tr><td>dfold_7_avg_mae</td><td>▁</td></tr><tr><td>dfold_8_avg_mae</td><td>▁</td></tr><tr><td>dfold_9_avg_mae</td><td>▁</td></tr></table><br/></div><div class=\"wandb-col\"><h3>Run summary:</h3><br/><table class=\"wandb\"><tr><td>data fold</td><td>14</td></tr><tr><td>dfold_0_avg_mae</td><td>5.1354</td></tr><tr><td>dfold_10_avg_mae</td><td>8.77012</td></tr><tr><td>dfold_11_avg_mae</td><td>7.77135</td></tr><tr><td>dfold_12_avg_mae</td><td>8.24851</td></tr><tr><td>dfold_13_avg_mae</td><td>8.48301</td></tr><tr><td>dfold_14_avg_mae</td><td>5.93374</td></tr><tr><td>dfold_1_avg_mae</td><td>6.63668</td></tr><tr><td>dfold_2_avg_mae</td><td>5.85865</td></tr><tr><td>dfold_3_avg_mae</td><td>7.50715</td></tr><tr><td>dfold_4_avg_mae</td><td>6.3115</td></tr><tr><td>dfold_5_avg_mae</td><td>6.01458</td></tr><tr><td>dfold_6_avg_mae</td><td>10.78481</td></tr><tr><td>dfold_7_avg_mae</td><td>7.25746</td></tr><tr><td>dfold_8_avg_mae</td><td>7.61931</td></tr><tr><td>dfold_9_avg_mae</td><td>7.91486</td></tr></table><br/></div></div>"
      ],
      "text/plain": [
       "<IPython.core.display.HTML object>"
      ]
     },
     "metadata": {},
     "output_type": "display_data"
    },
    {
     "data": {
      "text/html": [
       "Synced <strong style=\"color:#cdcd00\">hardy-bird-11</strong>: <a href=\"https://wandb.ai/synthesis-ai/63_best_checkpoint_model_all_real_data_folds/runs/2nv3ol5s\" target=\"_blank\">https://wandb.ai/synthesis-ai/63_best_checkpoint_model_all_real_data_folds/runs/2nv3ol5s</a><br/>Synced 5 W&B file(s), 0 media file(s), 0 artifact file(s) and 0 other file(s)"
      ],
      "text/plain": [
       "<IPython.core.display.HTML object>"
      ]
     },
     "metadata": {},
     "output_type": "display_data"
    },
    {
     "data": {
      "text/html": [
       "Find logs at: <code>./wandb/run-20220714_154235-2nv3ol5s/logs</code>"
      ],
      "text/plain": [
       "<IPython.core.display.HTML object>"
      ]
     },
     "metadata": {},
     "output_type": "display_data"
    },
    {
     "data": {
      "text/html": [
       "Successfully finished last run (ID:2nv3ol5s). Initializing new run:<br/>"
      ],
      "text/plain": [
       "<IPython.core.display.HTML object>"
      ]
     },
     "metadata": {},
     "output_type": "display_data"
    },
    {
     "data": {
      "text/html": [
       "wandb version 0.12.21 is available!  To upgrade, please run:\n",
       " $ pip install wandb --upgrade"
      ],
      "text/plain": [
       "<IPython.core.display.HTML object>"
      ]
     },
     "metadata": {},
     "output_type": "display_data"
    },
    {
     "data": {
      "text/html": [
       "Tracking run with wandb version 0.12.15"
      ],
      "text/plain": [
       "<IPython.core.display.HTML object>"
      ]
     },
     "metadata": {},
     "output_type": "display_data"
    },
    {
     "data": {
      "text/html": [
       "Run data is saved locally in <code>/project/notebooks/wandb/run-20220714_154557-1x5eqzqi</code>"
      ],
      "text/plain": [
       "<IPython.core.display.HTML object>"
      ]
     },
     "metadata": {},
     "output_type": "display_data"
    },
    {
     "data": {
      "text/html": [
       "Syncing run <strong><a href=\"https://wandb.ai/synthesis-ai/63_best_checkpoint_model_all_real_data_folds/runs/1x5eqzqi\" target=\"_blank\">fast-terrain-12</a></strong> to <a href=\"https://wandb.ai/synthesis-ai/63_best_checkpoint_model_all_real_data_folds\" target=\"_blank\">Weights & Biases</a> (<a href=\"https://wandb.me/run\" target=\"_blank\">docs</a>)<br/>"
      ],
      "text/plain": [
       "<IPython.core.display.HTML object>"
      ]
     },
     "metadata": {},
     "output_type": "display_data"
    },
    {
     "name": "stdout",
     "output_type": "stream",
     "text": [
      "cfold=fold11\n",
      "0 items removed from dataset that have an angle > 180\n",
      "\n",
      "test configuration: gpu_id=cuda:0, batch_size=20\n",
      "model_arch=ResNet50 Start testing dataset=mpiigaze\n",
      "cFOLD=11 dFOLD=0--07/14/2022 08:46:06----\n",
      "[cfold11---dfold 0] Total Num:3000, MAE:4.668396156927416  07/14/2022 08:46:19\n",
      "0 items removed from dataset that have an angle > 180\n",
      "\n",
      "test configuration: gpu_id=cuda:0, batch_size=20\n",
      "model_arch=ResNet50 Start testing dataset=mpiigaze\n",
      "cFOLD=11 dFOLD=1--07/14/2022 08:46:19----\n",
      "[cfold11---dfold 1] Total Num:3000, MAE:6.472531578092445  07/14/2022 08:46:32\n",
      "0 items removed from dataset that have an angle > 180\n",
      "\n",
      "test configuration: gpu_id=cuda:0, batch_size=20\n",
      "model_arch=ResNet50 Start testing dataset=mpiigaze\n",
      "cFOLD=11 dFOLD=2--07/14/2022 08:46:32----\n",
      "[cfold11---dfold 2] Total Num:3000, MAE:5.695580411819189  07/14/2022 08:46:44\n",
      "0 items removed from dataset that have an angle > 180\n",
      "\n",
      "test configuration: gpu_id=cuda:0, batch_size=20\n",
      "model_arch=ResNet50 Start testing dataset=mpiigaze\n",
      "cFOLD=11 dFOLD=3--07/14/2022 08:46:44----\n",
      "[cfold11---dfold 3] Total Num:3000, MAE:8.205608591951503  07/14/2022 08:46:57\n",
      "0 items removed from dataset that have an angle > 180\n",
      "\n",
      "test configuration: gpu_id=cuda:0, batch_size=20\n",
      "model_arch=ResNet50 Start testing dataset=mpiigaze\n",
      "cFOLD=11 dFOLD=4--07/14/2022 08:46:57----\n",
      "[cfold11---dfold 4] Total Num:3000, MAE:5.630909676192944  07/14/2022 08:47:10\n",
      "0 items removed from dataset that have an angle > 180\n",
      "\n",
      "test configuration: gpu_id=cuda:0, batch_size=20\n",
      "model_arch=ResNet50 Start testing dataset=mpiigaze\n",
      "cFOLD=11 dFOLD=5--07/14/2022 08:47:10----\n",
      "[cfold11---dfold 5] Total Num:3000, MAE:6.301391628923816  07/14/2022 08:47:23\n",
      "0 items removed from dataset that have an angle > 180\n",
      "\n",
      "test configuration: gpu_id=cuda:0, batch_size=20\n",
      "model_arch=ResNet50 Start testing dataset=mpiigaze\n",
      "cFOLD=11 dFOLD=6--07/14/2022 08:47:23----\n",
      "[cfold11---dfold 6] Total Num:3000, MAE:10.200014853372316  07/14/2022 08:47:36\n",
      "0 items removed from dataset that have an angle > 180\n",
      "\n",
      "test configuration: gpu_id=cuda:0, batch_size=20\n",
      "model_arch=ResNet50 Start testing dataset=mpiigaze\n",
      "cFOLD=11 dFOLD=7--07/14/2022 08:47:36----\n",
      "[cfold11---dfold 7] Total Num:3000, MAE:7.204941370441984  07/14/2022 08:47:49\n",
      "0 items removed from dataset that have an angle > 180\n",
      "\n",
      "test configuration: gpu_id=cuda:0, batch_size=20\n",
      "model_arch=ResNet50 Start testing dataset=mpiigaze\n",
      "cFOLD=11 dFOLD=8--07/14/2022 08:47:49----\n",
      "[cfold11---dfold 8] Total Num:3000, MAE:6.868481616439721  07/14/2022 08:48:02\n",
      "0 items removed from dataset that have an angle > 180\n",
      "\n",
      "test configuration: gpu_id=cuda:0, batch_size=20\n",
      "model_arch=ResNet50 Start testing dataset=mpiigaze\n",
      "cFOLD=11 dFOLD=9--07/14/2022 08:48:02----\n",
      "[cfold11---dfold 9] Total Num:3000, MAE:7.506162569346062  07/14/2022 08:48:15\n",
      "0 items removed from dataset that have an angle > 180\n",
      "\n",
      "test configuration: gpu_id=cuda:0, batch_size=20\n",
      "model_arch=ResNet50 Start testing dataset=mpiigaze\n",
      "cFOLD=11 dFOLD=10--07/14/2022 08:48:15----\n",
      "[cfold11---dfold 10] Total Num:3000, MAE:9.27096471969366  07/14/2022 08:48:28\n",
      "0 items removed from dataset that have an angle > 180\n",
      "\n",
      "test configuration: gpu_id=cuda:0, batch_size=20\n",
      "model_arch=ResNet50 Start testing dataset=mpiigaze\n",
      "cFOLD=11 dFOLD=11--07/14/2022 08:48:28----\n",
      "[cfold11---dfold 11] Total Num:3000, MAE:7.592624396932562  07/14/2022 08:48:41\n",
      "0 items removed from dataset that have an angle > 180\n",
      "\n",
      "test configuration: gpu_id=cuda:0, batch_size=20\n",
      "model_arch=ResNet50 Start testing dataset=mpiigaze\n",
      "cFOLD=11 dFOLD=12--07/14/2022 08:48:41----\n",
      "[cfold11---dfold 12] Total Num:3000, MAE:8.539947035456395  07/14/2022 08:48:54\n",
      "0 items removed from dataset that have an angle > 180\n",
      "\n",
      "test configuration: gpu_id=cuda:0, batch_size=20\n",
      "model_arch=ResNet50 Start testing dataset=mpiigaze\n",
      "cFOLD=11 dFOLD=13--07/14/2022 08:48:54----\n",
      "[cfold11---dfold 13] Total Num:3000, MAE:7.929582687679658  07/14/2022 08:49:07\n",
      "0 items removed from dataset that have an angle > 180\n",
      "\n",
      "test configuration: gpu_id=cuda:0, batch_size=20\n",
      "model_arch=ResNet50 Start testing dataset=mpiigaze\n",
      "cFOLD=11 dFOLD=14--07/14/2022 08:49:07----\n",
      "[cfold11---dfold 14] Total Num:3000, MAE:6.070433438013792  07/14/2022 08:49:20\n",
      "[cfold11--] MAE for this fold best model:7.210504715418898  07/14/2022 08:49:20\n"
     ]
    },
    {
     "data": {
      "text/html": [
       "Finishing last run (ID:1x5eqzqi) before initializing another..."
      ],
      "text/plain": [
       "<IPython.core.display.HTML object>"
      ]
     },
     "metadata": {},
     "output_type": "display_data"
    },
    {
     "data": {
      "text/html": [
       "Waiting for W&B process to finish... <strong style=\"color:green\">(success).</strong>"
      ],
      "text/plain": [
       "<IPython.core.display.HTML object>"
      ]
     },
     "metadata": {},
     "output_type": "display_data"
    },
    {
     "data": {
      "application/vnd.jupyter.widget-view+json": {
       "model_id": "",
       "version_major": 2,
       "version_minor": 0
      },
      "text/plain": [
       "VBox(children=(Label(value='0.001 MB of 0.001 MB uploaded (0.000 MB deduped)\\r'), FloatProgress(value=1.0, max…"
      ]
     },
     "metadata": {},
     "output_type": "display_data"
    },
    {
     "data": {
      "text/html": [
       "<style>\n",
       "    table.wandb td:nth-child(1) { padding: 0 10px; text-align: right }\n",
       "    .wandb-row { display: flex; flex-direction: row; flex-wrap: wrap; width: 100% }\n",
       "    .wandb-col { display: flex; flex-direction: column; flex-basis: 100%; flex: 1; padding: 10px; }\n",
       "    </style>\n",
       "<div class=\"wandb-row\"><div class=\"wandb-col\"><h3>Run history:</h3><br/><table class=\"wandb\"><tr><td>data fold</td><td>▁▁▂▃▃▃▄▅▅▅▆▇▇▇█</td></tr><tr><td>dfold_0_avg_mae</td><td>▁</td></tr><tr><td>dfold_10_avg_mae</td><td>▁</td></tr><tr><td>dfold_11_avg_mae</td><td>▁</td></tr><tr><td>dfold_12_avg_mae</td><td>▁</td></tr><tr><td>dfold_13_avg_mae</td><td>▁</td></tr><tr><td>dfold_14_avg_mae</td><td>▁</td></tr><tr><td>dfold_1_avg_mae</td><td>▁</td></tr><tr><td>dfold_2_avg_mae</td><td>▁</td></tr><tr><td>dfold_3_avg_mae</td><td>▁</td></tr><tr><td>dfold_4_avg_mae</td><td>▁</td></tr><tr><td>dfold_5_avg_mae</td><td>▁</td></tr><tr><td>dfold_6_avg_mae</td><td>▁</td></tr><tr><td>dfold_7_avg_mae</td><td>▁</td></tr><tr><td>dfold_8_avg_mae</td><td>▁</td></tr><tr><td>dfold_9_avg_mae</td><td>▁</td></tr></table><br/></div><div class=\"wandb-col\"><h3>Run summary:</h3><br/><table class=\"wandb\"><tr><td>data fold</td><td>14</td></tr><tr><td>dfold_0_avg_mae</td><td>4.6684</td></tr><tr><td>dfold_10_avg_mae</td><td>9.27096</td></tr><tr><td>dfold_11_avg_mae</td><td>7.59262</td></tr><tr><td>dfold_12_avg_mae</td><td>8.53995</td></tr><tr><td>dfold_13_avg_mae</td><td>7.92958</td></tr><tr><td>dfold_14_avg_mae</td><td>6.07043</td></tr><tr><td>dfold_1_avg_mae</td><td>6.47253</td></tr><tr><td>dfold_2_avg_mae</td><td>5.69558</td></tr><tr><td>dfold_3_avg_mae</td><td>8.20561</td></tr><tr><td>dfold_4_avg_mae</td><td>5.63091</td></tr><tr><td>dfold_5_avg_mae</td><td>6.30139</td></tr><tr><td>dfold_6_avg_mae</td><td>10.20001</td></tr><tr><td>dfold_7_avg_mae</td><td>7.20494</td></tr><tr><td>dfold_8_avg_mae</td><td>6.86848</td></tr><tr><td>dfold_9_avg_mae</td><td>7.50616</td></tr></table><br/></div></div>"
      ],
      "text/plain": [
       "<IPython.core.display.HTML object>"
      ]
     },
     "metadata": {},
     "output_type": "display_data"
    },
    {
     "data": {
      "text/html": [
       "Synced <strong style=\"color:#cdcd00\">fast-terrain-12</strong>: <a href=\"https://wandb.ai/synthesis-ai/63_best_checkpoint_model_all_real_data_folds/runs/1x5eqzqi\" target=\"_blank\">https://wandb.ai/synthesis-ai/63_best_checkpoint_model_all_real_data_folds/runs/1x5eqzqi</a><br/>Synced 5 W&B file(s), 0 media file(s), 0 artifact file(s) and 0 other file(s)"
      ],
      "text/plain": [
       "<IPython.core.display.HTML object>"
      ]
     },
     "metadata": {},
     "output_type": "display_data"
    },
    {
     "data": {
      "text/html": [
       "Find logs at: <code>./wandb/run-20220714_154557-1x5eqzqi/logs</code>"
      ],
      "text/plain": [
       "<IPython.core.display.HTML object>"
      ]
     },
     "metadata": {},
     "output_type": "display_data"
    },
    {
     "data": {
      "text/html": [
       "Successfully finished last run (ID:1x5eqzqi). Initializing new run:<br/>"
      ],
      "text/plain": [
       "<IPython.core.display.HTML object>"
      ]
     },
     "metadata": {},
     "output_type": "display_data"
    },
    {
     "data": {
      "text/html": [
       "wandb version 0.12.21 is available!  To upgrade, please run:\n",
       " $ pip install wandb --upgrade"
      ],
      "text/plain": [
       "<IPython.core.display.HTML object>"
      ]
     },
     "metadata": {},
     "output_type": "display_data"
    },
    {
     "data": {
      "text/html": [
       "Tracking run with wandb version 0.12.15"
      ],
      "text/plain": [
       "<IPython.core.display.HTML object>"
      ]
     },
     "metadata": {},
     "output_type": "display_data"
    },
    {
     "data": {
      "text/html": [
       "Run data is saved locally in <code>/project/notebooks/wandb/run-20220714_154920-vw61i4yo</code>"
      ],
      "text/plain": [
       "<IPython.core.display.HTML object>"
      ]
     },
     "metadata": {},
     "output_type": "display_data"
    },
    {
     "data": {
      "text/html": [
       "Syncing run <strong><a href=\"https://wandb.ai/synthesis-ai/63_best_checkpoint_model_all_real_data_folds/runs/vw61i4yo\" target=\"_blank\">electric-meadow-13</a></strong> to <a href=\"https://wandb.ai/synthesis-ai/63_best_checkpoint_model_all_real_data_folds\" target=\"_blank\">Weights & Biases</a> (<a href=\"https://wandb.me/run\" target=\"_blank\">docs</a>)<br/>"
      ],
      "text/plain": [
       "<IPython.core.display.HTML object>"
      ]
     },
     "metadata": {},
     "output_type": "display_data"
    },
    {
     "name": "stdout",
     "output_type": "stream",
     "text": [
      "cfold=fold12\n",
      "0 items removed from dataset that have an angle > 180\n",
      "\n",
      "test configuration: gpu_id=cuda:0, batch_size=20\n",
      "model_arch=ResNet50 Start testing dataset=mpiigaze\n",
      "cFOLD=12 dFOLD=0--07/14/2022 08:49:28----\n",
      "[cfold12---dfold 0] Total Num:3000, MAE:4.857964054047415  07/14/2022 08:49:41\n",
      "0 items removed from dataset that have an angle > 180\n",
      "\n",
      "test configuration: gpu_id=cuda:0, batch_size=20\n",
      "model_arch=ResNet50 Start testing dataset=mpiigaze\n",
      "cFOLD=12 dFOLD=1--07/14/2022 08:49:41----\n",
      "[cfold12---dfold 1] Total Num:3000, MAE:9.574976318326314  07/14/2022 08:49:54\n",
      "0 items removed from dataset that have an angle > 180\n",
      "\n",
      "test configuration: gpu_id=cuda:0, batch_size=20\n",
      "model_arch=ResNet50 Start testing dataset=mpiigaze\n",
      "cFOLD=12 dFOLD=2--07/14/2022 08:49:54----\n",
      "[cfold12---dfold 2] Total Num:3000, MAE:6.0093045545482155  07/14/2022 08:50:07\n",
      "0 items removed from dataset that have an angle > 180\n",
      "\n",
      "test configuration: gpu_id=cuda:0, batch_size=20\n",
      "model_arch=ResNet50 Start testing dataset=mpiigaze\n",
      "cFOLD=12 dFOLD=3--07/14/2022 08:50:07----\n",
      "[cfold12---dfold 3] Total Num:3000, MAE:7.434922328386023  07/14/2022 08:50:19\n",
      "0 items removed from dataset that have an angle > 180\n",
      "\n",
      "test configuration: gpu_id=cuda:0, batch_size=20\n",
      "model_arch=ResNet50 Start testing dataset=mpiigaze\n",
      "cFOLD=12 dFOLD=4--07/14/2022 08:50:19----\n",
      "[cfold12---dfold 4] Total Num:3000, MAE:6.286804879883064  07/14/2022 08:50:32\n",
      "0 items removed from dataset that have an angle > 180\n",
      "\n",
      "test configuration: gpu_id=cuda:0, batch_size=20\n",
      "model_arch=ResNet50 Start testing dataset=mpiigaze\n",
      "cFOLD=12 dFOLD=5--07/14/2022 08:50:32----\n",
      "[cfold12---dfold 5] Total Num:3000, MAE:6.515147027567165  07/14/2022 08:50:45\n",
      "0 items removed from dataset that have an angle > 180\n",
      "\n",
      "test configuration: gpu_id=cuda:0, batch_size=20\n",
      "model_arch=ResNet50 Start testing dataset=mpiigaze\n",
      "cFOLD=12 dFOLD=6--07/14/2022 08:50:45----\n",
      "[cfold12---dfold 6] Total Num:3000, MAE:12.173127433401802  07/14/2022 08:50:58\n",
      "0 items removed from dataset that have an angle > 180\n",
      "\n",
      "test configuration: gpu_id=cuda:0, batch_size=20\n",
      "model_arch=ResNet50 Start testing dataset=mpiigaze\n",
      "cFOLD=12 dFOLD=7--07/14/2022 08:50:58----\n",
      "[cfold12---dfold 7] Total Num:3000, MAE:8.832859055216364  07/14/2022 08:51:11\n",
      "0 items removed from dataset that have an angle > 180\n",
      "\n",
      "test configuration: gpu_id=cuda:0, batch_size=20\n",
      "model_arch=ResNet50 Start testing dataset=mpiigaze\n",
      "cFOLD=12 dFOLD=8--07/14/2022 08:51:11----\n",
      "[cfold12---dfold 8] Total Num:3000, MAE:8.835377030477623  07/14/2022 08:51:24\n",
      "0 items removed from dataset that have an angle > 180\n",
      "\n",
      "test configuration: gpu_id=cuda:0, batch_size=20\n",
      "model_arch=ResNet50 Start testing dataset=mpiigaze\n",
      "cFOLD=12 dFOLD=9--07/14/2022 08:51:24----\n",
      "[cfold12---dfold 9] Total Num:3000, MAE:11.448940796140315  07/14/2022 08:51:37\n",
      "0 items removed from dataset that have an angle > 180\n",
      "\n",
      "test configuration: gpu_id=cuda:0, batch_size=20\n",
      "model_arch=ResNet50 Start testing dataset=mpiigaze\n",
      "cFOLD=12 dFOLD=10--07/14/2022 08:51:37----\n",
      "[cfold12---dfold 10] Total Num:3000, MAE:10.343067655032678  07/14/2022 08:51:50\n",
      "0 items removed from dataset that have an angle > 180\n",
      "\n",
      "test configuration: gpu_id=cuda:0, batch_size=20\n",
      "model_arch=ResNet50 Start testing dataset=mpiigaze\n",
      "cFOLD=12 dFOLD=11--07/14/2022 08:51:50----\n",
      "[cfold12---dfold 11] Total Num:3000, MAE:8.527097730411562  07/14/2022 08:52:03\n",
      "0 items removed from dataset that have an angle > 180\n",
      "\n",
      "test configuration: gpu_id=cuda:0, batch_size=20\n",
      "model_arch=ResNet50 Start testing dataset=mpiigaze\n",
      "cFOLD=12 dFOLD=12--07/14/2022 08:52:03----\n",
      "[cfold12---dfold 12] Total Num:3000, MAE:9.38792472538552  07/14/2022 08:52:16\n",
      "0 items removed from dataset that have an angle > 180\n",
      "\n",
      "test configuration: gpu_id=cuda:0, batch_size=20\n",
      "model_arch=ResNet50 Start testing dataset=mpiigaze\n",
      "cFOLD=12 dFOLD=13--07/14/2022 08:52:16----\n",
      "[cfold12---dfold 13] Total Num:3000, MAE:10.029670012518379  07/14/2022 08:52:29\n",
      "0 items removed from dataset that have an angle > 180\n",
      "\n",
      "test configuration: gpu_id=cuda:0, batch_size=20\n",
      "model_arch=ResNet50 Start testing dataset=mpiigaze\n",
      "cFOLD=12 dFOLD=14--07/14/2022 08:52:29----\n",
      "[cfold12---dfold 14] Total Num:3000, MAE:6.257865243437859  07/14/2022 08:52:42\n",
      "[cfold12--] MAE for this fold best model:8.434336589652021  07/14/2022 08:52:42\n"
     ]
    },
    {
     "data": {
      "text/html": [
       "Finishing last run (ID:vw61i4yo) before initializing another..."
      ],
      "text/plain": [
       "<IPython.core.display.HTML object>"
      ]
     },
     "metadata": {},
     "output_type": "display_data"
    },
    {
     "data": {
      "text/html": [
       "Waiting for W&B process to finish... <strong style=\"color:green\">(success).</strong>"
      ],
      "text/plain": [
       "<IPython.core.display.HTML object>"
      ]
     },
     "metadata": {},
     "output_type": "display_data"
    },
    {
     "data": {
      "application/vnd.jupyter.widget-view+json": {
       "model_id": "",
       "version_major": 2,
       "version_minor": 0
      },
      "text/plain": [
       "VBox(children=(Label(value='0.001 MB of 0.001 MB uploaded (0.000 MB deduped)\\r'), FloatProgress(value=1.0, max…"
      ]
     },
     "metadata": {},
     "output_type": "display_data"
    },
    {
     "data": {
      "text/html": [
       "<style>\n",
       "    table.wandb td:nth-child(1) { padding: 0 10px; text-align: right }\n",
       "    .wandb-row { display: flex; flex-direction: row; flex-wrap: wrap; width: 100% }\n",
       "    .wandb-col { display: flex; flex-direction: column; flex-basis: 100%; flex: 1; padding: 10px; }\n",
       "    </style>\n",
       "<div class=\"wandb-row\"><div class=\"wandb-col\"><h3>Run history:</h3><br/><table class=\"wandb\"><tr><td>data fold</td><td>▁▁▂▃▃▃▄▅▅▅▆▇▇▇█</td></tr><tr><td>dfold_0_avg_mae</td><td>▁</td></tr><tr><td>dfold_10_avg_mae</td><td>▁</td></tr><tr><td>dfold_11_avg_mae</td><td>▁</td></tr><tr><td>dfold_12_avg_mae</td><td>▁</td></tr><tr><td>dfold_13_avg_mae</td><td>▁</td></tr><tr><td>dfold_14_avg_mae</td><td>▁</td></tr><tr><td>dfold_1_avg_mae</td><td>▁</td></tr><tr><td>dfold_2_avg_mae</td><td>▁</td></tr><tr><td>dfold_3_avg_mae</td><td>▁</td></tr><tr><td>dfold_4_avg_mae</td><td>▁</td></tr><tr><td>dfold_5_avg_mae</td><td>▁</td></tr><tr><td>dfold_6_avg_mae</td><td>▁</td></tr><tr><td>dfold_7_avg_mae</td><td>▁</td></tr><tr><td>dfold_8_avg_mae</td><td>▁</td></tr><tr><td>dfold_9_avg_mae</td><td>▁</td></tr></table><br/></div><div class=\"wandb-col\"><h3>Run summary:</h3><br/><table class=\"wandb\"><tr><td>data fold</td><td>14</td></tr><tr><td>dfold_0_avg_mae</td><td>4.85796</td></tr><tr><td>dfold_10_avg_mae</td><td>10.34307</td></tr><tr><td>dfold_11_avg_mae</td><td>8.5271</td></tr><tr><td>dfold_12_avg_mae</td><td>9.38792</td></tr><tr><td>dfold_13_avg_mae</td><td>10.02967</td></tr><tr><td>dfold_14_avg_mae</td><td>6.25787</td></tr><tr><td>dfold_1_avg_mae</td><td>9.57498</td></tr><tr><td>dfold_2_avg_mae</td><td>6.0093</td></tr><tr><td>dfold_3_avg_mae</td><td>7.43492</td></tr><tr><td>dfold_4_avg_mae</td><td>6.2868</td></tr><tr><td>dfold_5_avg_mae</td><td>6.51515</td></tr><tr><td>dfold_6_avg_mae</td><td>12.17313</td></tr><tr><td>dfold_7_avg_mae</td><td>8.83286</td></tr><tr><td>dfold_8_avg_mae</td><td>8.83538</td></tr><tr><td>dfold_9_avg_mae</td><td>11.44894</td></tr></table><br/></div></div>"
      ],
      "text/plain": [
       "<IPython.core.display.HTML object>"
      ]
     },
     "metadata": {},
     "output_type": "display_data"
    },
    {
     "data": {
      "text/html": [
       "Synced <strong style=\"color:#cdcd00\">electric-meadow-13</strong>: <a href=\"https://wandb.ai/synthesis-ai/63_best_checkpoint_model_all_real_data_folds/runs/vw61i4yo\" target=\"_blank\">https://wandb.ai/synthesis-ai/63_best_checkpoint_model_all_real_data_folds/runs/vw61i4yo</a><br/>Synced 5 W&B file(s), 0 media file(s), 0 artifact file(s) and 0 other file(s)"
      ],
      "text/plain": [
       "<IPython.core.display.HTML object>"
      ]
     },
     "metadata": {},
     "output_type": "display_data"
    },
    {
     "data": {
      "text/html": [
       "Find logs at: <code>./wandb/run-20220714_154920-vw61i4yo/logs</code>"
      ],
      "text/plain": [
       "<IPython.core.display.HTML object>"
      ]
     },
     "metadata": {},
     "output_type": "display_data"
    },
    {
     "data": {
      "text/html": [
       "Successfully finished last run (ID:vw61i4yo). Initializing new run:<br/>"
      ],
      "text/plain": [
       "<IPython.core.display.HTML object>"
      ]
     },
     "metadata": {},
     "output_type": "display_data"
    },
    {
     "data": {
      "text/html": [
       "wandb version 0.12.21 is available!  To upgrade, please run:\n",
       " $ pip install wandb --upgrade"
      ],
      "text/plain": [
       "<IPython.core.display.HTML object>"
      ]
     },
     "metadata": {},
     "output_type": "display_data"
    },
    {
     "data": {
      "text/html": [
       "Tracking run with wandb version 0.12.15"
      ],
      "text/plain": [
       "<IPython.core.display.HTML object>"
      ]
     },
     "metadata": {},
     "output_type": "display_data"
    },
    {
     "data": {
      "text/html": [
       "Run data is saved locally in <code>/project/notebooks/wandb/run-20220714_155242-8vknt7c9</code>"
      ],
      "text/plain": [
       "<IPython.core.display.HTML object>"
      ]
     },
     "metadata": {},
     "output_type": "display_data"
    },
    {
     "data": {
      "text/html": [
       "Syncing run <strong><a href=\"https://wandb.ai/synthesis-ai/63_best_checkpoint_model_all_real_data_folds/runs/8vknt7c9\" target=\"_blank\">jumping-shadow-14</a></strong> to <a href=\"https://wandb.ai/synthesis-ai/63_best_checkpoint_model_all_real_data_folds\" target=\"_blank\">Weights & Biases</a> (<a href=\"https://wandb.me/run\" target=\"_blank\">docs</a>)<br/>"
      ],
      "text/plain": [
       "<IPython.core.display.HTML object>"
      ]
     },
     "metadata": {},
     "output_type": "display_data"
    },
    {
     "name": "stdout",
     "output_type": "stream",
     "text": [
      "cfold=fold13\n",
      "0 items removed from dataset that have an angle > 180\n",
      "\n",
      "test configuration: gpu_id=cuda:0, batch_size=20\n",
      "model_arch=ResNet50 Start testing dataset=mpiigaze\n",
      "cFOLD=13 dFOLD=0--07/14/2022 08:52:50----\n",
      "[cfold13---dfold 0] Total Num:3000, MAE:5.65568337995294  07/14/2022 08:53:03\n",
      "0 items removed from dataset that have an angle > 180\n",
      "\n",
      "test configuration: gpu_id=cuda:0, batch_size=20\n",
      "model_arch=ResNet50 Start testing dataset=mpiigaze\n",
      "cFOLD=13 dFOLD=1--07/14/2022 08:53:03----\n",
      "[cfold13---dfold 1] Total Num:3000, MAE:7.7442026083804505  07/14/2022 08:53:16\n",
      "0 items removed from dataset that have an angle > 180\n",
      "\n",
      "test configuration: gpu_id=cuda:0, batch_size=20\n",
      "model_arch=ResNet50 Start testing dataset=mpiigaze\n",
      "cFOLD=13 dFOLD=2--07/14/2022 08:53:16----\n",
      "[cfold13---dfold 2] Total Num:3000, MAE:5.709074445495728  07/14/2022 08:53:29\n",
      "0 items removed from dataset that have an angle > 180\n",
      "\n",
      "test configuration: gpu_id=cuda:0, batch_size=20\n",
      "model_arch=ResNet50 Start testing dataset=mpiigaze\n",
      "cFOLD=13 dFOLD=3--07/14/2022 08:53:29----\n",
      "[cfold13---dfold 3] Total Num:3000, MAE:8.11267566182015  07/14/2022 08:53:42\n",
      "0 items removed from dataset that have an angle > 180\n",
      "\n",
      "test configuration: gpu_id=cuda:0, batch_size=20\n",
      "model_arch=ResNet50 Start testing dataset=mpiigaze\n",
      "cFOLD=13 dFOLD=4--07/14/2022 08:53:42----\n",
      "[cfold13---dfold 4] Total Num:3000, MAE:5.4071990583254115  07/14/2022 08:53:55\n",
      "0 items removed from dataset that have an angle > 180\n",
      "\n",
      "test configuration: gpu_id=cuda:0, batch_size=20\n",
      "model_arch=ResNet50 Start testing dataset=mpiigaze\n",
      "cFOLD=13 dFOLD=5--07/14/2022 08:53:55----\n",
      "[cfold13---dfold 5] Total Num:3000, MAE:6.304298911567822  07/14/2022 08:54:08\n",
      "0 items removed from dataset that have an angle > 180\n",
      "\n",
      "test configuration: gpu_id=cuda:0, batch_size=20\n",
      "model_arch=ResNet50 Start testing dataset=mpiigaze\n",
      "cFOLD=13 dFOLD=6--07/14/2022 08:54:08----\n",
      "[cfold13---dfold 6] Total Num:3000, MAE:13.052176690836475  07/14/2022 08:54:21\n",
      "0 items removed from dataset that have an angle > 180\n",
      "\n",
      "test configuration: gpu_id=cuda:0, batch_size=20\n",
      "model_arch=ResNet50 Start testing dataset=mpiigaze\n",
      "cFOLD=13 dFOLD=7--07/14/2022 08:54:21----\n",
      "[cfold13---dfold 7] Total Num:3000, MAE:8.343577762083772  07/14/2022 08:54:34\n",
      "0 items removed from dataset that have an angle > 180\n",
      "\n",
      "test configuration: gpu_id=cuda:0, batch_size=20\n",
      "model_arch=ResNet50 Start testing dataset=mpiigaze\n",
      "cFOLD=13 dFOLD=8--07/14/2022 08:54:34----\n",
      "[cfold13---dfold 8] Total Num:3000, MAE:7.593248044412401  07/14/2022 08:54:47\n",
      "0 items removed from dataset that have an angle > 180\n",
      "\n",
      "test configuration: gpu_id=cuda:0, batch_size=20\n",
      "model_arch=ResNet50 Start testing dataset=mpiigaze\n",
      "cFOLD=13 dFOLD=9--07/14/2022 08:54:47----\n",
      "[cfold13---dfold 9] Total Num:3000, MAE:8.624566453109319  07/14/2022 08:54:59\n",
      "0 items removed from dataset that have an angle > 180\n",
      "\n",
      "test configuration: gpu_id=cuda:0, batch_size=20\n",
      "model_arch=ResNet50 Start testing dataset=mpiigaze\n",
      "cFOLD=13 dFOLD=10--07/14/2022 08:54:59----\n",
      "[cfold13---dfold 10] Total Num:3000, MAE:11.842488299295537  07/14/2022 08:55:12\n",
      "0 items removed from dataset that have an angle > 180\n",
      "\n",
      "test configuration: gpu_id=cuda:0, batch_size=20\n",
      "model_arch=ResNet50 Start testing dataset=mpiigaze\n",
      "cFOLD=13 dFOLD=11--07/14/2022 08:55:12----\n",
      "[cfold13---dfold 11] Total Num:3000, MAE:7.8729181865751645  07/14/2022 08:55:25\n",
      "0 items removed from dataset that have an angle > 180\n",
      "\n",
      "test configuration: gpu_id=cuda:0, batch_size=20\n",
      "model_arch=ResNet50 Start testing dataset=mpiigaze\n",
      "cFOLD=13 dFOLD=12--07/14/2022 08:55:25----\n",
      "[cfold13---dfold 12] Total Num:3000, MAE:9.403180414490514  07/14/2022 08:55:38\n",
      "0 items removed from dataset that have an angle > 180\n",
      "\n",
      "test configuration: gpu_id=cuda:0, batch_size=20\n",
      "model_arch=ResNet50 Start testing dataset=mpiigaze\n",
      "cFOLD=13 dFOLD=13--07/14/2022 08:55:38----\n",
      "[cfold13---dfold 13] Total Num:3000, MAE:10.15775887051152  07/14/2022 08:55:51\n",
      "0 items removed from dataset that have an angle > 180\n",
      "\n",
      "test configuration: gpu_id=cuda:0, batch_size=20\n",
      "model_arch=ResNet50 Start testing dataset=mpiigaze\n",
      "cFOLD=13 dFOLD=14--07/14/2022 08:55:51----\n",
      "[cfold13---dfold 14] Total Num:3000, MAE:5.903452949483786  07/14/2022 08:56:04\n",
      "[cfold13--] MAE for this fold best model:8.115100115756068  07/14/2022 08:56:04\n"
     ]
    },
    {
     "data": {
      "text/html": [
       "Finishing last run (ID:8vknt7c9) before initializing another..."
      ],
      "text/plain": [
       "<IPython.core.display.HTML object>"
      ]
     },
     "metadata": {},
     "output_type": "display_data"
    },
    {
     "data": {
      "text/html": [
       "Waiting for W&B process to finish... <strong style=\"color:green\">(success).</strong>"
      ],
      "text/plain": [
       "<IPython.core.display.HTML object>"
      ]
     },
     "metadata": {},
     "output_type": "display_data"
    },
    {
     "data": {
      "application/vnd.jupyter.widget-view+json": {
       "model_id": "",
       "version_major": 2,
       "version_minor": 0
      },
      "text/plain": [
       "VBox(children=(Label(value='0.001 MB of 0.001 MB uploaded (0.000 MB deduped)\\r'), FloatProgress(value=1.0, max…"
      ]
     },
     "metadata": {},
     "output_type": "display_data"
    },
    {
     "data": {
      "text/html": [
       "<style>\n",
       "    table.wandb td:nth-child(1) { padding: 0 10px; text-align: right }\n",
       "    .wandb-row { display: flex; flex-direction: row; flex-wrap: wrap; width: 100% }\n",
       "    .wandb-col { display: flex; flex-direction: column; flex-basis: 100%; flex: 1; padding: 10px; }\n",
       "    </style>\n",
       "<div class=\"wandb-row\"><div class=\"wandb-col\"><h3>Run history:</h3><br/><table class=\"wandb\"><tr><td>data fold</td><td>▁▁▂▃▃▃▄▅▅▅▆▇▇▇█</td></tr><tr><td>dfold_0_avg_mae</td><td>▁</td></tr><tr><td>dfold_10_avg_mae</td><td>▁</td></tr><tr><td>dfold_11_avg_mae</td><td>▁</td></tr><tr><td>dfold_12_avg_mae</td><td>▁</td></tr><tr><td>dfold_13_avg_mae</td><td>▁</td></tr><tr><td>dfold_14_avg_mae</td><td>▁</td></tr><tr><td>dfold_1_avg_mae</td><td>▁</td></tr><tr><td>dfold_2_avg_mae</td><td>▁</td></tr><tr><td>dfold_3_avg_mae</td><td>▁</td></tr><tr><td>dfold_4_avg_mae</td><td>▁</td></tr><tr><td>dfold_5_avg_mae</td><td>▁</td></tr><tr><td>dfold_6_avg_mae</td><td>▁</td></tr><tr><td>dfold_7_avg_mae</td><td>▁</td></tr><tr><td>dfold_8_avg_mae</td><td>▁</td></tr><tr><td>dfold_9_avg_mae</td><td>▁</td></tr></table><br/></div><div class=\"wandb-col\"><h3>Run summary:</h3><br/><table class=\"wandb\"><tr><td>data fold</td><td>14</td></tr><tr><td>dfold_0_avg_mae</td><td>5.65568</td></tr><tr><td>dfold_10_avg_mae</td><td>11.84249</td></tr><tr><td>dfold_11_avg_mae</td><td>7.87292</td></tr><tr><td>dfold_12_avg_mae</td><td>9.40318</td></tr><tr><td>dfold_13_avg_mae</td><td>10.15776</td></tr><tr><td>dfold_14_avg_mae</td><td>5.90345</td></tr><tr><td>dfold_1_avg_mae</td><td>7.7442</td></tr><tr><td>dfold_2_avg_mae</td><td>5.70907</td></tr><tr><td>dfold_3_avg_mae</td><td>8.11268</td></tr><tr><td>dfold_4_avg_mae</td><td>5.4072</td></tr><tr><td>dfold_5_avg_mae</td><td>6.3043</td></tr><tr><td>dfold_6_avg_mae</td><td>13.05218</td></tr><tr><td>dfold_7_avg_mae</td><td>8.34358</td></tr><tr><td>dfold_8_avg_mae</td><td>7.59325</td></tr><tr><td>dfold_9_avg_mae</td><td>8.62457</td></tr></table><br/></div></div>"
      ],
      "text/plain": [
       "<IPython.core.display.HTML object>"
      ]
     },
     "metadata": {},
     "output_type": "display_data"
    },
    {
     "data": {
      "text/html": [
       "Synced <strong style=\"color:#cdcd00\">jumping-shadow-14</strong>: <a href=\"https://wandb.ai/synthesis-ai/63_best_checkpoint_model_all_real_data_folds/runs/8vknt7c9\" target=\"_blank\">https://wandb.ai/synthesis-ai/63_best_checkpoint_model_all_real_data_folds/runs/8vknt7c9</a><br/>Synced 5 W&B file(s), 0 media file(s), 0 artifact file(s) and 0 other file(s)"
      ],
      "text/plain": [
       "<IPython.core.display.HTML object>"
      ]
     },
     "metadata": {},
     "output_type": "display_data"
    },
    {
     "data": {
      "text/html": [
       "Find logs at: <code>./wandb/run-20220714_155242-8vknt7c9/logs</code>"
      ],
      "text/plain": [
       "<IPython.core.display.HTML object>"
      ]
     },
     "metadata": {},
     "output_type": "display_data"
    },
    {
     "data": {
      "text/html": [
       "Successfully finished last run (ID:8vknt7c9). Initializing new run:<br/>"
      ],
      "text/plain": [
       "<IPython.core.display.HTML object>"
      ]
     },
     "metadata": {},
     "output_type": "display_data"
    },
    {
     "data": {
      "text/html": [
       "wandb version 0.12.21 is available!  To upgrade, please run:\n",
       " $ pip install wandb --upgrade"
      ],
      "text/plain": [
       "<IPython.core.display.HTML object>"
      ]
     },
     "metadata": {},
     "output_type": "display_data"
    },
    {
     "data": {
      "text/html": [
       "Tracking run with wandb version 0.12.15"
      ],
      "text/plain": [
       "<IPython.core.display.HTML object>"
      ]
     },
     "metadata": {},
     "output_type": "display_data"
    },
    {
     "data": {
      "text/html": [
       "Run data is saved locally in <code>/project/notebooks/wandb/run-20220714_155604-2sg2648d</code>"
      ],
      "text/plain": [
       "<IPython.core.display.HTML object>"
      ]
     },
     "metadata": {},
     "output_type": "display_data"
    },
    {
     "data": {
      "text/html": [
       "Syncing run <strong><a href=\"https://wandb.ai/synthesis-ai/63_best_checkpoint_model_all_real_data_folds/runs/2sg2648d\" target=\"_blank\">expert-sea-15</a></strong> to <a href=\"https://wandb.ai/synthesis-ai/63_best_checkpoint_model_all_real_data_folds\" target=\"_blank\">Weights & Biases</a> (<a href=\"https://wandb.me/run\" target=\"_blank\">docs</a>)<br/>"
      ],
      "text/plain": [
       "<IPython.core.display.HTML object>"
      ]
     },
     "metadata": {},
     "output_type": "display_data"
    },
    {
     "name": "stdout",
     "output_type": "stream",
     "text": [
      "cfold=fold14\n",
      "0 items removed from dataset that have an angle > 180\n",
      "\n",
      "test configuration: gpu_id=cuda:0, batch_size=20\n",
      "model_arch=ResNet50 Start testing dataset=mpiigaze\n",
      "cFOLD=14 dFOLD=0--07/14/2022 08:56:13----\n",
      "[cfold14---dfold 0] Total Num:3000, MAE:4.849690487373123  07/14/2022 08:56:26\n",
      "0 items removed from dataset that have an angle > 180\n",
      "\n",
      "test configuration: gpu_id=cuda:0, batch_size=20\n",
      "model_arch=ResNet50 Start testing dataset=mpiigaze\n",
      "cFOLD=14 dFOLD=1--07/14/2022 08:56:26----\n",
      "[cfold14---dfold 1] Total Num:3000, MAE:7.175460665725654  07/14/2022 08:56:39\n",
      "0 items removed from dataset that have an angle > 180\n",
      "\n",
      "test configuration: gpu_id=cuda:0, batch_size=20\n",
      "model_arch=ResNet50 Start testing dataset=mpiigaze\n",
      "cFOLD=14 dFOLD=2--07/14/2022 08:56:39----\n",
      "[cfold14---dfold 2] Total Num:3000, MAE:7.294637746643371  07/14/2022 08:56:51\n",
      "0 items removed from dataset that have an angle > 180\n",
      "\n",
      "test configuration: gpu_id=cuda:0, batch_size=20\n",
      "model_arch=ResNet50 Start testing dataset=mpiigaze\n",
      "cFOLD=14 dFOLD=3--07/14/2022 08:56:51----\n",
      "[cfold14---dfold 3] Total Num:3000, MAE:7.2078643504108815  07/14/2022 08:57:04\n",
      "0 items removed from dataset that have an angle > 180\n",
      "\n",
      "test configuration: gpu_id=cuda:0, batch_size=20\n",
      "model_arch=ResNet50 Start testing dataset=mpiigaze\n",
      "cFOLD=14 dFOLD=4--07/14/2022 08:57:04----\n",
      "[cfold14---dfold 4] Total Num:3000, MAE:6.502856733954466  07/14/2022 08:57:17\n",
      "0 items removed from dataset that have an angle > 180\n",
      "\n",
      "test configuration: gpu_id=cuda:0, batch_size=20\n",
      "model_arch=ResNet50 Start testing dataset=mpiigaze\n",
      "cFOLD=14 dFOLD=5--07/14/2022 08:57:17----\n",
      "[cfold14---dfold 5] Total Num:3000, MAE:6.767017739015076  07/14/2022 08:57:30\n",
      "0 items removed from dataset that have an angle > 180\n",
      "\n",
      "test configuration: gpu_id=cuda:0, batch_size=20\n",
      "model_arch=ResNet50 Start testing dataset=mpiigaze\n",
      "cFOLD=14 dFOLD=6--07/14/2022 08:57:30----\n",
      "[cfold14---dfold 6] Total Num:3000, MAE:10.212669397727899  07/14/2022 08:57:43\n",
      "0 items removed from dataset that have an angle > 180\n",
      "\n",
      "test configuration: gpu_id=cuda:0, batch_size=20\n",
      "model_arch=ResNet50 Start testing dataset=mpiigaze\n",
      "cFOLD=14 dFOLD=7--07/14/2022 08:57:43----\n",
      "[cfold14---dfold 7] Total Num:3000, MAE:8.225206973582047  07/14/2022 08:57:56\n",
      "0 items removed from dataset that have an angle > 180\n",
      "\n",
      "test configuration: gpu_id=cuda:0, batch_size=20\n",
      "model_arch=ResNet50 Start testing dataset=mpiigaze\n",
      "cFOLD=14 dFOLD=8--07/14/2022 08:57:56----\n",
      "[cfold14---dfold 8] Total Num:3000, MAE:8.914584226785392  07/14/2022 08:58:09\n",
      "0 items removed from dataset that have an angle > 180\n",
      "\n",
      "test configuration: gpu_id=cuda:0, batch_size=20\n",
      "model_arch=ResNet50 Start testing dataset=mpiigaze\n",
      "cFOLD=14 dFOLD=9--07/14/2022 08:58:09----\n",
      "[cfold14---dfold 9] Total Num:3000, MAE:9.101674725336588  07/14/2022 08:58:22\n",
      "0 items removed from dataset that have an angle > 180\n",
      "\n",
      "test configuration: gpu_id=cuda:0, batch_size=20\n",
      "model_arch=ResNet50 Start testing dataset=mpiigaze\n",
      "cFOLD=14 dFOLD=10--07/14/2022 08:58:22----\n",
      "[cfold14---dfold 10] Total Num:3000, MAE:10.80060151312549  07/14/2022 08:58:35\n",
      "0 items removed from dataset that have an angle > 180\n",
      "\n",
      "test configuration: gpu_id=cuda:0, batch_size=20\n",
      "model_arch=ResNet50 Start testing dataset=mpiigaze\n",
      "cFOLD=14 dFOLD=11--07/14/2022 08:58:35----\n",
      "[cfold14---dfold 11] Total Num:3000, MAE:9.859812279337687  07/14/2022 08:58:48\n",
      "0 items removed from dataset that have an angle > 180\n",
      "\n",
      "test configuration: gpu_id=cuda:0, batch_size=20\n",
      "model_arch=ResNet50 Start testing dataset=mpiigaze\n",
      "cFOLD=14 dFOLD=12--07/14/2022 08:58:48----\n",
      "[cfold14---dfold 12] Total Num:3000, MAE:8.924605524628557  07/14/2022 08:59:01\n",
      "0 items removed from dataset that have an angle > 180\n",
      "\n",
      "test configuration: gpu_id=cuda:0, batch_size=20\n",
      "model_arch=ResNet50 Start testing dataset=mpiigaze\n",
      "cFOLD=14 dFOLD=13--07/14/2022 08:59:01----\n",
      "[cfold14---dfold 13] Total Num:3000, MAE:10.073548809550521  07/14/2022 08:59:14\n",
      "0 items removed from dataset that have an angle > 180\n",
      "\n",
      "test configuration: gpu_id=cuda:0, batch_size=20\n",
      "model_arch=ResNet50 Start testing dataset=mpiigaze\n",
      "cFOLD=14 dFOLD=14--07/14/2022 08:59:14----\n",
      "[cfold14---dfold 14] Total Num:3000, MAE:7.963188174634112  07/14/2022 08:59:27\n",
      "[cfold14--] MAE for this fold best model:8.258227956522058  07/14/2022 08:59:27\n",
      "CPU times: user 43min 18s, sys: 16min 12s, total: 59min 31s\n",
      "Wall time: 50min 37s\n"
     ]
    }
   ],
   "source": [
    "%%time\n",
    "all_MAE = []\n",
    "# tosave={}\n",
    "lfolder = os.listdir(gazeMpiilabel_dir)\n",
    "lfolder.sort()  #individual label files\n",
    "testlabelpathcombined = [os.path.join(gazeMpiilabel_dir, j) for j in lfolder] \n",
    "print(testlabelpathcombined)\n",
    "model = model_used\n",
    "model= nn.DataParallel(model,device_ids=[0])  #important to load state dict\n",
    "for cfold in range(15):  #checkpoint folds\n",
    "    frun = wandb.init(project=\"63_best_checkpoint_model_all_real_data_folds\")\n",
    "    frun.name = f'checkpoint fold{cfold}_mae'\n",
    "    \n",
    "    cfoldstr = f\"fold{cfold:0>2}\"\n",
    "    print(f\"cfold={cfoldstr}\")\n",
    "    idx = cfold + 1\n",
    "    b_epoch = best_epoch[idx]\n",
    "    \n",
    "    checkpoint_path = Path(snapshot_path)/cfoldstr\n",
    "    best_checkpoint_file = 'epoch_'+str(b_epoch)+'.pkl'\n",
    "    best_checkpoint_file = checkpoint_path/best_checkpoint_file\n",
    "#     print(best_checkpoint_file, type(best_checkpoint_file))\n",
    "    checkpoint = torch.load(best_checkpoint_file)\n",
    "    saved_state_dict = checkpoint['model_state_dict']\n",
    "    model.load_state_dict(saved_state_dict)\n",
    "\n",
    "    model.cuda(gpu)\n",
    "    model.eval()\n",
    "    idx_tensor = [idx for idx in range(35)]\n",
    "    idx_tensor = torch.FloatTensor(idx_tensor).cuda(gpu)\n",
    "    softmax = nn.Softmax(dim=1)\n",
    "    best_model_maes =[]  # error for each data fold\n",
    "    for dfold in range(15):  #data folds\n",
    "        gaze_dataset=datasets.Mpiigaze(testlabelpathcombined, gazeMpiimage_dir, transformations, False, angle, dfold)\n",
    "        test_loader = torch.utils.data.DataLoader(\n",
    "            dataset=gaze_dataset,\n",
    "            batch_size=batch_size,\n",
    "            shuffle=True,\n",
    "            num_workers=4,\n",
    "            pin_memory=True)\n",
    "        now = get_now()\n",
    "        configuration = f\"\\ntest configuration: gpu_id={gpu}, batch_size={batch_size}\\n\"\n",
    "        configuration += f\"model_arch={arch} Start testing dataset={data_set}\\n\"\n",
    "        configuration +=  f\"cFOLD={cfold} dFOLD={dfold}--{now}----\"\n",
    "        print(configuration)\n",
    "        \n",
    "        total = 0  \n",
    "        avg_error = .0\n",
    "        with torch.no_grad():\n",
    "            for j, (images, labels, cont_labels, name) in enumerate(test_loader):\n",
    "                images = Variable(images).cuda(gpu)\n",
    "                total += cont_labels.size(0)\n",
    "\n",
    "                label_pitch = cont_labels[:,0].float()*np.pi/180\n",
    "                label_yaw = cont_labels[:,1].float()*np.pi/180\n",
    "\n",
    "                gaze_pitch, gaze_yaw = model(images)\n",
    "\n",
    "                # Binned predictions\n",
    "                _, pitch_bpred = torch.max(gaze_pitch.data, 1)\n",
    "                _, yaw_bpred = torch.max(gaze_yaw.data, 1)\n",
    "\n",
    "                # Continuous predictions\n",
    "                pitch_predicted = softmax(gaze_pitch)\n",
    "                yaw_predicted = softmax(gaze_yaw)\n",
    "\n",
    "                # mapping from binned (0 to 28) to angels (-42 to 42)                \n",
    "                pitch_predicted = \\\n",
    "                    torch.sum(pitch_predicted * idx_tensor, 1).cpu() * 3 - 52\n",
    "                yaw_predicted = \\\n",
    "                    torch.sum(yaw_predicted * idx_tensor, 1).cpu() * 3 - 52\n",
    "\n",
    "                pitch_predicted = pitch_predicted*np.pi/180\n",
    "                yaw_predicted = yaw_predicted*np.pi/180\n",
    "\n",
    "                for p,y,pl,yl in zip(pitch_predicted, yaw_predicted, label_pitch, label_yaw):\n",
    "                    pl, yl = yl, pl*(-1.0)\n",
    "                    avg_error += angular(gazeto3d([p,y]), gazeto3d([pl,yl])) #accumulate over all batches\n",
    "                    \n",
    "        mean_mae = avg_error/total  \n",
    "        now = get_now()\n",
    "        msg = f\"[cfold{cfold}---dfold {dfold}] Total Num:{total}, MAE:{mean_mae}  {now}\"\n",
    "#         outfile.write(loger)\n",
    "        print(msg)\n",
    "        best_model_maes.append(mean_mae)  # a row of maes for each data fold\n",
    "        # log the mean error for the data fold for diagnostic purposes\n",
    "        frun.log({'data fold': dfold, f'dfold_{dfold}_avg_mae':mean_mae}, step=dfold)\n",
    "    bestmodel_mean = np.mean(best_model_maes)  # the mean mae for the model  \n",
    "    msg = f\"[cfold{cfold}--] MAE for this fold best model:{bestmodel_mean}  {now}\"\n",
    "    print(msg)\n",
    "    all_MAE.append(best_model_maes)  # append the whole row of data fold maes for each best fold model\n",
    "    # log for each best model\n",
    "    "
   ]
  },
  {
   "cell_type": "code",
   "execution_count": 10,
   "id": "065622ef",
   "metadata": {},
   "outputs": [],
   "source": [
    "all_MAE=np.array(all_MAE)"
   ]
  },
  {
   "cell_type": "code",
   "execution_count": 11,
   "id": "0872f6ce",
   "metadata": {},
   "outputs": [
    {
     "name": "stdout",
     "output_type": "stream",
     "text": [
      "(15, 15)\n",
      "data fold means, which data fold is bad or good:\n",
      " [ 5.0663695   7.35310036  5.77627721  7.54881561  5.80370927  6.16096575\n",
      " 10.9717504   7.61653907  7.42706456  8.13063561 10.19430371  7.70687702\n",
      "  8.38090911  9.08737908  6.18312436]\n",
      "model means, which model ot choose:\n",
      " [7.27013484 7.30106072 6.97990799 6.78448713 7.5874587  7.24025782\n",
      " 7.78974593 6.81804498 7.14187596 9.12686916 7.34980803 7.21050472\n",
      " 8.43433659 8.11510012 8.25822796]\n"
     ]
    }
   ],
   "source": [
    "print(all_MAE.shape)\n",
    "print(\"data fold means, which data fold is bad or good:\\n\",all_MAE.mean(axis=0))\n",
    "print(\"model means, which model ot choose:\\n\", all_MAE.mean(axis=1))\n",
    "# print(\"data fold min:\", all_MAE.min(axis=0))\n",
    "# print(\"model min:\", all_MAE.min(axis=1))\n",
    "# print(\"data fold max:\", all_MAE.max(axis=0))\n",
    "# print(\"model max:\", all_MAE.max(axis=1))"
   ]
  },
  {
   "cell_type": "code",
   "execution_count": 12,
   "id": "257cf58e",
   "metadata": {},
   "outputs": [],
   "source": [
    "save_file = Path(snapshot_path).parent/\"cfold_dfold_sdata2_all_MAE.npy\"\n",
    "with open(save_file, 'wb') as f:\n",
    "    np.save(f, all_MAE)"
   ]
  }
 ],
 "metadata": {
  "kernelspec": {
   "display_name": "Python 3 (ipykernel)",
   "language": "python",
   "name": "python3"
  },
  "language_info": {
   "codemirror_mode": {
    "name": "ipython",
    "version": 3
   },
   "file_extension": ".py",
   "mimetype": "text/x-python",
   "name": "python",
   "nbconvert_exporter": "python",
   "pygments_lexer": "ipython3",
   "version": "3.8.10"
  }
 },
 "nbformat": 4,
 "nbformat_minor": 5
}
