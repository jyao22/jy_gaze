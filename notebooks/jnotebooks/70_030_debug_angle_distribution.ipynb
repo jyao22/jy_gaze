{
 "cells": [
  {
   "cell_type": "code",
   "execution_count": 1,
   "id": "9132df96",
   "metadata": {},
   "outputs": [],
   "source": [
    "# use the dataloader to get all angles from label files and plot the distribution"
   ]
  },
  {
   "cell_type": "code",
   "execution_count": 2,
   "id": "662efc9c",
   "metadata": {},
   "outputs": [],
   "source": [
    "import sys\n",
    "import os, argparse\n",
    "import numpy as np\n",
    "import matplotlib.pyplot as plt\n",
    "from datetime import datetime\n",
    "from pytz import timezone\n",
    "from pathlib import Path\n",
    "import torch\n",
    "import torch.nn as nn\n",
    "from torch.autograd import Variable\n",
    "from torch.utils.data import DataLoader\n",
    "from torchvision import transforms\n",
    "import torch.backends.cudnn as cudnn\n",
    "import torchvision\n",
    "import wandb\n",
    "\n",
    "import datasets\n",
    "# from utils import select_device, natural_keys, gazeto3d, angular, getArch\n",
    "from utils import select_device, natural_keys, gazeto3d, angular, getArch\n",
    "from model import L2CS\n",
    "sys.path.append('/project/modules/jmodules')\n",
    "from jutils import get_now"
   ]
  },
  {
   "cell_type": "code",
   "execution_count": 3,
   "id": "49ee6896",
   "metadata": {},
   "outputs": [],
   "source": [
    "def parse_args():\n",
    "    \"\"\"Parse input arguments.\"\"\"\n",
    "    parser = argparse.ArgumentParser(description='Gaze estimation using L2CSNet')\n",
    "#     # Gaze360\n",
    "#     parser.add_argument(\n",
    "#         '--gaze360image_dir', dest='gaze360image_dir', help='Directory path for gaze images.',\n",
    "#         default='datasets/Gaze360/Image', type=str)\n",
    "#     parser.add_argument(\n",
    "#         '--gaze360label_dir', dest='gaze360label_dir', help='Directory path for gaze labels.',\n",
    "#         default='datasets/Gaze360/Label/train.label', type=str)\n",
    "#     # mpiigaze\n",
    "    parser.add_argument(\n",
    "        '--gazeMpiimage_dir', dest='gazeMpiimage_dir', help='Directory path for gaze images.',\n",
    "        default='/project/data/sdata3/Image', type=str)\n",
    "    parser.add_argument(\n",
    "        '--gazeMpiilabel_dir', dest='gazeMpiilabel_dir', help='Directory path for gaze labels.',\n",
    "        default='/project/data/sdata3/Label', type=str)\n",
    "\n",
    "    # Important args -------------------------------------------------------------------------------------------------------\n",
    "    # ----------------------------------------------------------------------------------------------------------------------\n",
    "    parser.add_argument(\n",
    "        '--dataset', dest='dataset', help='mpiigaze, rtgene, gaze360, ethgaze',\n",
    "        default= \"mpiigaze\", type=str)\n",
    "    parser.add_argument(\n",
    "        '--output', dest='output', help='Path of output models.',\n",
    "        default='/project/results/soutput3/snapshots/', type=str)\n",
    "    parser.add_argument(\n",
    "        '--snapshot', dest='snapshot', help='Path of model snapshot.',\n",
    "        default='/project/results/soutput3/snapshots/', type=str)\n",
    "    parser.add_argument(\n",
    "        '--gpu', dest='gpu_id', help='GPU device id to use [0] or multiple 0,1,2,3',\n",
    "        default='0', type=str)\n",
    "    parser.add_argument(\n",
    "        '--evalpath', dest='evalpath', help='path to save the evaluation results',\n",
    "        default='/project/results/soutput3/evaluation/', type=str)\n",
    "    parser.add_argument(\n",
    "        '--num_epochs', dest='num_epochs', help='Maximum number of training epochs.',\n",
    "        default=60, type=int)\n",
    "    parser.add_argument(\n",
    "        '--batch_size', dest='batch_size', help='Batch size.',\n",
    "        default=200, type=int)\n",
    "    parser.add_argument(\n",
    "        '--arch', dest='arch', help='Network architecture, can be: ResNet18, ResNet34, [ResNet50], ''ResNet101, ResNet152, Squeezenet_1_0, Squeezenet_1_1, MobileNetV2',\n",
    "        default='ResNet50', type=str)\n",
    "    parser.add_argument(\n",
    "        '--alpha', dest='alpha', help='Regression loss coefficient.',\n",
    "        default=1, type=float)\n",
    "    parser.add_argument(\n",
    "        '--lr', dest='lr', help='Base learning rate.',\n",
    "        default=0.00001, type=float)\n",
    "    parser.add_argument(\n",
    "        '--bins', dest='bins', help='number of angle bins',\n",
    "        default=28, type=int)\n",
    "    parser.add_argument(\n",
    "        '--angle', dest='angle', help='angle limit',\n",
    "        default=180, type=int)\n",
    "    parser.add_argument(\n",
    "        '--bin_width', dest='bin_width', help='width of anlge bins',\n",
    "        default=4, type=int)\n",
    "    \n",
    "    # ---------------------------------------------------------------------------------------------------------------------\n",
    "    # Important args ------------------------------------------------------------------------------------------------------\n",
    "    args = parser.parse_args(['--angle', '180'])\n",
    "    return args"
   ]
  },
  {
   "cell_type": "code",
   "execution_count": 4,
   "id": "30c3086e",
   "metadata": {},
   "outputs": [],
   "source": [
    "args=parse_args()"
   ]
  },
  {
   "cell_type": "code",
   "execution_count": 5,
   "id": "d0e11321",
   "metadata": {},
   "outputs": [],
   "source": [
    "# actually used\n",
    "batch_size=args.batch_size\n",
    "arch=args.arch\n",
    "data_set=args.dataset\n",
    "# evalpath =args.evalpath\n",
    "snapshot_path = args.snapshot\n",
    "bins=args.bins\n",
    "angle=args.angle\n",
    "bin_width=args.bin_width\n",
    "gazeMpiimage_dir = args.gazeMpiimage_dir\n",
    "gazeMpiilabel_dir=args.gazeMpiilabel_dir"
   ]
  },
  {
   "cell_type": "code",
   "execution_count": 6,
   "id": "0504fda4",
   "metadata": {},
   "outputs": [],
   "source": [
    "# args = parse_args()\n",
    "cudnn.enabled = True\n",
    "gpu = select_device(args.gpu_id, batch_size=args.batch_size)\n",
    "transformations = transforms.Compose([\n",
    "    transforms.Resize(224),\n",
    "    transforms.ToTensor(),\n",
    "    transforms.Normalize(\n",
    "        mean=[0.485, 0.456, 0.406],\n",
    "        std=[0.229, 0.224, 0.225]\n",
    "    )\n",
    "])\n",
    "model_used= getArch(arch, bins)  #resnet50 and 28 bins"
   ]
  },
  {
   "cell_type": "code",
   "execution_count": 7,
   "id": "28411c81",
   "metadata": {},
   "outputs": [
    {
     "name": "stdout",
     "output_type": "stream",
     "text": [
      "number of checkpoint files: 60\n"
     ]
    }
   ],
   "source": [
    "spath = Path(snapshot_path)\n",
    "ckfiles =[]\n",
    "for filename in sorted(spath.glob('*.pkl'), \n",
    "        key=lambda path: int(path.stem.rsplit(\"_\", 1)[1])):\n",
    "    ckfiles.append(filename)\n",
    "print(f'number of checkpoint files: {len(ckfiles)}')"
   ]
  },
  {
   "cell_type": "code",
   "execution_count": 8,
   "id": "7ef181e5",
   "metadata": {},
   "outputs": [],
   "source": [
    "project = 'debug'"
   ]
  },
  {
   "cell_type": "code",
   "execution_count": 9,
   "id": "77ebaa32",
   "metadata": {},
   "outputs": [
    {
     "name": "stdout",
     "output_type": "stream",
     "text": [
      "path=/project/data/sdata3/Label/test.label\n",
      "0 items removed from dataset that have an angle > 180\n",
      "0 1 2 3 4 5 6 7 8 9 10 11 12 13 14 15 16 17 18 19 20 21 22 23 24 25 26 27 28 29 30 31 32 33 34 35 36 37 38 39 40 41 42 43 44 45 46 47 48 49 50 51 52 53 54 55 56 57 58 59 60 61 62 63 64 65 66 67 68 69 70 71 72 73 74 75 76 77 78 79 80 81 82 83 84 85 86 87 88 89 90 91 92 93 94 95 96 97 98 99 100 101 102 103 104 105 106 107 108 109 110 111 112 113 114 115 116 117 118 119 120 121 122 123 124 125 126 127 128 129 130 131 132 133 134 135 136 137 138 139 140 141 142 143 144 145 146 147 148 149 150 151 152 153 154 155 156 157 158 159 160 161 162 163 164 165 166 167 168 169 170 171 172 173 174 175 176 177 178 179 180 181 182 183 184 185 186 187 188 189 190 191 192 193 194 195 196 197 198 199 200 201 202 203 204 205 206 207 208 209 210 211 212 213 "
     ]
    }
   ],
   "source": [
    "#labels\n",
    "lfolder = os.listdir(gazeMpiilabel_dir)\n",
    "lfolder.sort()  #individual label files\n",
    "testlabelpathcombined = [os.path.join(gazeMpiilabel_dir, j) for j in lfolder]\n",
    "gaze_dataset=datasets.Mpiigaze(testlabelpathcombined, gazeMpiimage_dir, transformations, False, angle, fold=-1)\n",
    "# print(testlabelpathcombined)\n",
    "\n",
    "test_loader = torch.utils.data.DataLoader(\n",
    "            dataset=gaze_dataset,\n",
    "            batch_size=batch_size,\n",
    "            shuffle=True,\n",
    "            num_workers=4,\n",
    "            pin_memory=True)\n",
    "\n",
    "# wandb.init(project=project, name='image_debug')\n",
    "# all_labels = np.array([[]])\n",
    "for j, (images, labels, cont_labels, name) in enumerate(test_loader):\n",
    "#     if j > 1:\n",
    "#         break\n",
    "    print(j, end=' ')\n",
    "#     print(cont_labels.shape, type(cont_labels.numpy()))\n",
    "    if j == 0:\n",
    "        all_labels = cont_labels.numpy()\n",
    "    else:\n",
    "        all_labels = np.concatenate((all_labels, cont_labels.numpy()), axis=0)"
   ]
  },
  {
   "cell_type": "code",
   "execution_count": 10,
   "id": "3410f8ac",
   "metadata": {},
   "outputs": [
    {
     "data": {
      "text/plain": [
       "(42767, 2)"
      ]
     },
     "execution_count": 10,
     "metadata": {},
     "output_type": "execute_result"
    }
   ],
   "source": [
    "all_labels.shape"
   ]
  },
  {
   "cell_type": "code",
   "execution_count": 20,
   "id": "ee22e2cb",
   "metadata": {},
   "outputs": [],
   "source": [
    "pitches = all_labels[:,0]\n",
    "yaws = all_labels[:,1]"
   ]
  },
  {
   "cell_type": "code",
   "execution_count": 32,
   "id": "7cc38448",
   "metadata": {},
   "outputs": [
    {
     "data": {
      "text/html": [
       "wandb version 0.12.21 is available!  To upgrade, please run:\n",
       " $ pip install wandb --upgrade"
      ],
      "text/plain": [
       "<IPython.core.display.HTML object>"
      ]
     },
     "metadata": {},
     "output_type": "display_data"
    },
    {
     "data": {
      "text/html": [
       "Tracking run with wandb version 0.12.15"
      ],
      "text/plain": [
       "<IPython.core.display.HTML object>"
      ]
     },
     "metadata": {},
     "output_type": "display_data"
    },
    {
     "data": {
      "text/html": [
       "Run data is saved locally in <code>/project/notebooks/jnotebooks/wandb/run-20220727_224025-kjx7kyzr</code>"
      ],
      "text/plain": [
       "<IPython.core.display.HTML object>"
      ]
     },
     "metadata": {},
     "output_type": "display_data"
    },
    {
     "data": {
      "text/html": [
       "Syncing run <strong><a href=\"https://wandb.ai/synthesis-ai/debug/runs/kjx7kyzr\" target=\"_blank\">pitch_ditribution_from_labels_sdata3</a></strong> to <a href=\"https://wandb.ai/synthesis-ai/debug\" target=\"_blank\">Weights & Biases</a> (<a href=\"https://wandb.me/run\" target=\"_blank\">docs</a>)<br/>"
      ],
      "text/plain": [
       "<IPython.core.display.HTML object>"
      ]
     },
     "metadata": {},
     "output_type": "display_data"
    },
    {
     "data": {
      "text/html": [
       "Waiting for W&B process to finish... <strong style=\"color:green\">(success).</strong>"
      ],
      "text/plain": [
       "<IPython.core.display.HTML object>"
      ]
     },
     "metadata": {},
     "output_type": "display_data"
    },
    {
     "data": {
      "application/vnd.jupyter.widget-view+json": {
       "model_id": "",
       "version_major": 2,
       "version_minor": 0
      },
      "text/plain": [
       "VBox(children=(Label(value='0.007 MB of 0.007 MB uploaded (0.000 MB deduped)\\r'), FloatProgress(value=1.0, max…"
      ]
     },
     "metadata": {},
     "output_type": "display_data"
    },
    {
     "data": {
      "text/html": [
       "Synced <strong style=\"color:#cdcd00\">pitch_ditribution_from_labels_sdata3</strong>: <a href=\"https://wandb.ai/synthesis-ai/debug/runs/kjx7kyzr\" target=\"_blank\">https://wandb.ai/synthesis-ai/debug/runs/kjx7kyzr</a><br/>Synced 4 W&B file(s), 1 media file(s), 0 artifact file(s) and 0 other file(s)"
      ],
      "text/plain": [
       "<IPython.core.display.HTML object>"
      ]
     },
     "metadata": {},
     "output_type": "display_data"
    },
    {
     "data": {
      "text/html": [
       "Find logs at: <code>./wandb/run-20220727_224025-kjx7kyzr/logs</code>"
      ],
      "text/plain": [
       "<IPython.core.display.HTML object>"
      ]
     },
     "metadata": {},
     "output_type": "display_data"
    },
    {
     "data": {
      "image/png": "[encoded data removed]",
      "text/plain": [
       "<Figure size 432x288 with 1 Axes>"
      ]
     },
     "metadata": {
      "needs_background": "light"
     },
     "output_type": "display_data"
    }
   ],
   "source": [
    "num_bins=50\n",
    "fig1, ax1 = plt.subplots()\n",
    "n, bins, npatches = ax1.hist(pitches, num_bins, \n",
    "                            density = 1, \n",
    "                            color ='g',\n",
    "                            alpha = 0.7)\n",
    "ax1.set_title('distribution of pitches, sdata3')\n",
    "ax1.set_xlabel('degree')\n",
    "ax1.set_xlim(-23, 7)\n",
    "\n",
    "with wandb.init(project=project, name='pitch_ditribution_from_labels_sdata3') as run:\n",
    "    wandb.log({'DISTR':wandb.Image(ax1)})"
   ]
  },
  {
   "cell_type": "code",
   "execution_count": 22,
   "id": "b519b567",
   "metadata": {},
   "outputs": [
    {
     "data": {
      "text/plain": [
       "42767"
      ]
     },
     "execution_count": 22,
     "metadata": {},
     "output_type": "execute_result"
    }
   ],
   "source": [
    "len(yaws)"
   ]
  },
  {
   "cell_type": "code",
   "execution_count": 34,
   "id": "b884c993",
   "metadata": {},
   "outputs": [
    {
     "data": {
      "text/html": [
       "wandb version 0.12.21 is available!  To upgrade, please run:\n",
       " $ pip install wandb --upgrade"
      ],
      "text/plain": [
       "<IPython.core.display.HTML object>"
      ]
     },
     "metadata": {},
     "output_type": "display_data"
    },
    {
     "data": {
      "text/html": [
       "Tracking run with wandb version 0.12.15"
      ],
      "text/plain": [
       "<IPython.core.display.HTML object>"
      ]
     },
     "metadata": {},
     "output_type": "display_data"
    },
    {
     "data": {
      "text/html": [
       "Run data is saved locally in <code>/project/notebooks/jnotebooks/wandb/run-20220727_224051-zavgovpt</code>"
      ],
      "text/plain": [
       "<IPython.core.display.HTML object>"
      ]
     },
     "metadata": {},
     "output_type": "display_data"
    },
    {
     "data": {
      "text/html": [
       "Syncing run <strong><a href=\"https://wandb.ai/synthesis-ai/debug/runs/zavgovpt\" target=\"_blank\">yaw_ditribution_from_labels_sdata3</a></strong> to <a href=\"https://wandb.ai/synthesis-ai/debug\" target=\"_blank\">Weights & Biases</a> (<a href=\"https://wandb.me/run\" target=\"_blank\">docs</a>)<br/>"
      ],
      "text/plain": [
       "<IPython.core.display.HTML object>"
      ]
     },
     "metadata": {},
     "output_type": "display_data"
    },
    {
     "data": {
      "text/html": [
       "Waiting for W&B process to finish... <strong style=\"color:green\">(success).</strong>"
      ],
      "text/plain": [
       "<IPython.core.display.HTML object>"
      ]
     },
     "metadata": {},
     "output_type": "display_data"
    },
    {
     "data": {
      "application/vnd.jupyter.widget-view+json": {
       "model_id": "",
       "version_major": 2,
       "version_minor": 0
      },
      "text/plain": [
       "VBox(children=(Label(value='0.008 MB of 0.008 MB uploaded (0.000 MB deduped)\\r'), FloatProgress(value=1.0, max…"
      ]
     },
     "metadata": {},
     "output_type": "display_data"
    },
    {
     "data": {
      "text/html": [
       "Synced <strong style=\"color:#cdcd00\">yaw_ditribution_from_labels_sdata3</strong>: <a href=\"https://wandb.ai/synthesis-ai/debug/runs/zavgovpt\" target=\"_blank\">https://wandb.ai/synthesis-ai/debug/runs/zavgovpt</a><br/>Synced 4 W&B file(s), 1 media file(s), 0 artifact file(s) and 0 other file(s)"
      ],
      "text/plain": [
       "<IPython.core.display.HTML object>"
      ]
     },
     "metadata": {},
     "output_type": "display_data"
    },
    {
     "data": {
      "text/html": [
       "Find logs at: <code>./wandb/run-20220727_224051-zavgovpt/logs</code>"
      ],
      "text/plain": [
       "<IPython.core.display.HTML object>"
      ]
     },
     "metadata": {},
     "output_type": "display_data"
    },
    {
     "data": {
      "image/png": "[encoded data removed]",
      "text/plain": [
       "<Figure size 432x288 with 1 Axes>"
      ]
     },
     "metadata": {
      "needs_background": "light"
     },
     "output_type": "display_data"
    }
   ],
   "source": [
    "num_bins=50\n",
    "fig2, ax2 = plt.subplots()\n",
    "n, bins, patches = ax2.hist(yaws, num_bins, \n",
    "                            density = 1, \n",
    "                            color ='m',\n",
    "                            alpha = 0.7)\n",
    "ax2.set_title('distribution of yaws, sdata3')\n",
    "ax2.set_xlabel('degree')\n",
    "ax2.set_xlim(-23, 23)\n",
    "with wandb.init(project=project, name='yaw_ditribution_from_labels_sdata3') as run:\n",
    "    wandb.log({'DISTR':wandb.Image(ax2)})"
   ]
  },
  {
   "cell_type": "code",
   "execution_count": null,
   "id": "82ca26ce",
   "metadata": {},
   "outputs": [],
   "source": []
  },
  {
   "cell_type": "code",
   "execution_count": 29,
   "id": "336754bc",
   "metadata": {},
   "outputs": [
    {
     "ename": "SystemExit",
     "evalue": "",
     "output_type": "error",
     "traceback": [
      "An exception has occurred, use %tb to see the full traceback.\n",
      "\u001b[0;31mSystemExit\u001b[0m\n"
     ]
    },
    {
     "name": "stderr",
     "output_type": "stream",
     "text": [
      "/usr/local/lib/python3.8/dist-packages/IPython/core/interactiveshell.py:3405: UserWarning: To exit: use 'exit', 'quit', or Ctrl-D.\n",
      "  warn(\"To exit: use 'exit', 'quit', or Ctrl-D.\", stacklevel=1)\n"
     ]
    }
   ],
   "source": [
    "sys.exit()"
   ]
  },
  {
   "cell_type": "code",
   "execution_count": null,
   "id": "8b3303e8",
   "metadata": {},
   "outputs": [],
   "source": [
    "model = model_used\n",
    "model= nn.DataParallel(model,device_ids=[0])  #important to load state dict\n",
    "\n",
    "wandb.init(project='70_smodel_sdata3_rdata', name=\"MAE_epoch_models\")\n",
    "for ckn, ckfile in enumerate(ckfiles):\n",
    "    print(ckn+1, ckfile)\n",
    "    \n",
    "    \n",
    "    checkpoint = torch.load(ckfile)\n",
    "    saved_state_dict = checkpoint['model_state_dict']\n",
    "    model.load_state_dict(saved_state_dict)\n",
    "    model.cuda(gpu)\n",
    "    model.eval()\n",
    "    idx_tensor = [idx for idx in range(bins)]\n",
    "    idx_tensor = torch.FloatTensor(idx_tensor).cuda(gpu)\n",
    "    softmax = nn.Softmax(dim=1)\n",
    "#     best_model_maes =[]  # error for each data fold\n",
    "    test_loader = torch.utils.data.DataLoader(\n",
    "            dataset=gaze_dataset,\n",
    "            batch_size=batch_size,\n",
    "            shuffle=True,\n",
    "            num_workers=4,\n",
    "            pin_memory=True)\n",
    "    now = get_now()\n",
    "    configuration = f\"\\ntest configuration: gpu_id={gpu}, batch_size={batch_size}\\n\"\n",
    "    configuration += f\"model_arch={arch} Start testing dataset={data_set}--{now}--\\n\"\n",
    "    print(configuration)\n",
    "    \n",
    "    total = 0  \n",
    "    avg_error = .0\n",
    "    with torch.no_grad():\n",
    "        for j, (images, labels, cont_labels, name) in enumerate(test_loader):\n",
    "            images = Variable(images).cuda(gpu)\n",
    "            total += cont_labels.size(0)  #number of labels/images\n",
    "\n",
    "            label_pitch = cont_labels[:,0].float()*np.pi/180\n",
    "            label_yaw = cont_labels[:,1].float()*np.pi/180\n",
    "\n",
    "            gaze_pitch, gaze_yaw = model(images)\n",
    "\n",
    "            # Binned predictions\n",
    "            _, pitch_bpred = torch.max(gaze_pitch.data, 1)\n",
    "            _, yaw_bpred = torch.max(gaze_yaw.data, 1)\n",
    "\n",
    "            # Continuous predictions\n",
    "            pitch_predicted = softmax(gaze_pitch)\n",
    "            yaw_predicted = softmax(gaze_yaw)\n",
    "\n",
    "            # mapping from binned (0 to 28) to angels (-42 to 42)                \n",
    "            pitch_predicted = \\\n",
    "                torch.sum(pitch_predicted * idx_tensor, 1).cpu() * 3 - 42\n",
    "            yaw_predicted = \\\n",
    "                torch.sum(yaw_predicted * idx_tensor, 1).cpu() * 3 - 42\n",
    "\n",
    "            pitch_predicted = pitch_predicted*np.pi/180\n",
    "            yaw_predicted = yaw_predicted*np.pi/180\n",
    "\n",
    "            for p,y,pl,yl in zip(pitch_predicted, yaw_predicted, label_pitch, label_yaw):\n",
    "                pl, yl = yl, pl*(-1.0)\n",
    "                avg_error += angular(gazeto3d([p,y]), gazeto3d([pl,yl])) #accumulate over all batches\n",
    "\n",
    "    mean_mae = avg_error/total  \n",
    "    now = get_now()\n",
    "    msg = f\"Total Num images Checked:{total}, MAE:{mean_mae}  {now}\"\n",
    "#         outfile.write(loger)\n",
    "    wandb.log({'Mean_MAE':mean_mae}, step=ckn+1)\n",
    "    print(msg)\n",
    "#     best_model_maes.append(mean_mae) \n",
    "    "
   ]
  }
 ],
 "metadata": {
  "kernelspec": {
   "display_name": "Python 3 (ipykernel)",
   "language": "python",
   "name": "python3"
  },
  "language_info": {
   "codemirror_mode": {
    "name": "ipython",
    "version": 3
   },
   "file_extension": ".py",
   "mimetype": "text/x-python",
   "name": "python",
   "nbconvert_exporter": "python",
   "pygments_lexer": "ipython3",
   "version": "3.8.10"
  }
 },
 "nbformat": 4,
 "nbformat_minor": 5
}
