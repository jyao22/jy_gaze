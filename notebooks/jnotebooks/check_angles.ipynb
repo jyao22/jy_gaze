{
 "cells": [
  {
   "cell_type": "code",
   "execution_count": 1,
   "id": "4031db92",
   "metadata": {},
   "outputs": [],
   "source": [
    "import sys\n",
    "import numpy as np\n",
    "from math import atan2, asin\n",
    "from pathlib import Path\n",
    "from PIL import Image\n",
    "from PIL import ImageFont\n",
    "from PIL import ImageDraw "
   ]
  },
  {
   "cell_type": "code",
   "execution_count": 2,
   "id": "327f36d3",
   "metadata": {},
   "outputs": [],
   "source": [
    "sys.path.append('/Users/jyao/JIAN/work/SAI/projects/modules')"
   ]
  },
  {
   "cell_type": "code",
   "execution_count": 3,
   "id": "2445130c",
   "metadata": {},
   "outputs": [],
   "source": [
    "from utils import SynJSON as SJ"
   ]
  },
  {
   "cell_type": "code",
   "execution_count": 4,
   "id": "9a5e9fd5",
   "metadata": {},
   "outputs": [],
   "source": [
    "# !ls ../practices/check_z/check_z"
   ]
  },
  {
   "cell_type": "code",
   "execution_count": 5,
   "id": "1b1d1d66",
   "metadata": {},
   "outputs": [],
   "source": [
    "dpath=Path('')"
   ]
  },
  {
   "cell_type": "code",
   "execution_count": 13,
   "id": "0969a2d1",
   "metadata": {},
   "outputs": [
    {
     "name": "stdout",
     "output_type": "stream",
     "text": [
      "\u001b[31m0.cam_singlecam.f_1.gaze_stamped.jpg\u001b[m\u001b[m  \u001b[31m2.cam_singlecam.f_1.rgb.png\u001b[m\u001b[m\r\n",
      "\u001b[31m0.cam_singlecam.f_1.info.json\u001b[m\u001b[m         \u001b[31m20.cam_singlecam.f_1.gaze_stamped.jpg\u001b[m\u001b[m\r\n",
      "\u001b[31m0.cam_singlecam.f_1.rgb.png\u001b[m\u001b[m           \u001b[31m20.cam_singlecam.f_1.info.json\u001b[m\u001b[m\r\n",
      "\u001b[31m1.cam_singlecam.f_1.gaze_stamped.jpg\u001b[m\u001b[m  \u001b[31m20.cam_singlecam.f_1.rgb.png\u001b[m\u001b[m\r\n",
      "\u001b[31m1.cam_singlecam.f_1.info.json\u001b[m\u001b[m         \u001b[31m21.cam_singlecam.f_1.gaze_stamped.jpg\u001b[m\u001b[m\r\n",
      "\u001b[31m1.cam_singlecam.f_1.rgb.png\u001b[m\u001b[m           \u001b[31m21.cam_singlecam.f_1.info.json\u001b[m\u001b[m\r\n",
      "\u001b[31m10.cam_singlecam.f_1.gaze_stamped.jpg\u001b[m\u001b[m \u001b[31m21.cam_singlecam.f_1.rgb.png\u001b[m\u001b[m\r\n",
      "\u001b[31m10.cam_singlecam.f_1.info.json\u001b[m\u001b[m        \u001b[31m22.cam_singlecam.f_1.gaze_stamped.jpg\u001b[m\u001b[m\r\n",
      "\u001b[31m10.cam_singlecam.f_1.rgb.png\u001b[m\u001b[m          \u001b[31m22.cam_singlecam.f_1.info.json\u001b[m\u001b[m\r\n",
      "\u001b[31m11.cam_singlecam.f_1.gaze_stamped.jpg\u001b[m\u001b[m \u001b[31m22.cam_singlecam.f_1.rgb.png\u001b[m\u001b[m\r\n",
      "\u001b[31m11.cam_singlecam.f_1.info.json\u001b[m\u001b[m        \u001b[31m23.cam_singlecam.f_1.gaze_stamped.jpg\u001b[m\u001b[m\r\n",
      "\u001b[31m11.cam_singlecam.f_1.rgb.png\u001b[m\u001b[m          \u001b[31m23.cam_singlecam.f_1.info.json\u001b[m\u001b[m\r\n",
      "\u001b[31m12.cam_singlecam.f_1.gaze_stamped.jpg\u001b[m\u001b[m \u001b[31m23.cam_singlecam.f_1.rgb.png\u001b[m\u001b[m\r\n",
      "\u001b[31m12.cam_singlecam.f_1.info.json\u001b[m\u001b[m        \u001b[31m24.cam_singlecam.f_1.gaze_stamped.jpg\u001b[m\u001b[m\r\n",
      "\u001b[31m12.cam_singlecam.f_1.rgb.png\u001b[m\u001b[m          \u001b[31m24.cam_singlecam.f_1.info.json\u001b[m\u001b[m\r\n",
      "\u001b[31m13.cam_singlecam.f_1.gaze_stamped.jpg\u001b[m\u001b[m \u001b[31m24.cam_singlecam.f_1.rgb.png\u001b[m\u001b[m\r\n",
      "\u001b[31m13.cam_singlecam.f_1.info.json\u001b[m\u001b[m        \u001b[31m3.cam_singlecam.f_1.gaze_stamped.jpg\u001b[m\u001b[m\r\n",
      "\u001b[31m13.cam_singlecam.f_1.rgb.png\u001b[m\u001b[m          \u001b[31m3.cam_singlecam.f_1.info.json\u001b[m\u001b[m\r\n",
      "\u001b[31m14.cam_singlecam.f_1.gaze_stamped.jpg\u001b[m\u001b[m \u001b[31m3.cam_singlecam.f_1.rgb.png\u001b[m\u001b[m\r\n",
      "\u001b[31m14.cam_singlecam.f_1.info.json\u001b[m\u001b[m        \u001b[31m4.cam_singlecam.f_1.gaze_stamped.jpg\u001b[m\u001b[m\r\n",
      "\u001b[31m14.cam_singlecam.f_1.rgb.png\u001b[m\u001b[m          \u001b[31m4.cam_singlecam.f_1.info.json\u001b[m\u001b[m\r\n",
      "\u001b[31m15.cam_singlecam.f_1.gaze_stamped.jpg\u001b[m\u001b[m \u001b[31m4.cam_singlecam.f_1.rgb.png\u001b[m\u001b[m\r\n",
      "\u001b[31m15.cam_singlecam.f_1.info.json\u001b[m\u001b[m        \u001b[31m5.cam_singlecam.f_1.gaze_stamped.jpg\u001b[m\u001b[m\r\n",
      "\u001b[31m15.cam_singlecam.f_1.rgb.png\u001b[m\u001b[m          \u001b[31m5.cam_singlecam.f_1.info.json\u001b[m\u001b[m\r\n",
      "\u001b[31m16.cam_singlecam.f_1.gaze_stamped.jpg\u001b[m\u001b[m \u001b[31m5.cam_singlecam.f_1.rgb.png\u001b[m\u001b[m\r\n",
      "\u001b[31m16.cam_singlecam.f_1.info.json\u001b[m\u001b[m        \u001b[31m6.cam_singlecam.f_1.gaze_stamped.jpg\u001b[m\u001b[m\r\n",
      "\u001b[31m16.cam_singlecam.f_1.rgb.png\u001b[m\u001b[m          \u001b[31m6.cam_singlecam.f_1.info.json\u001b[m\u001b[m\r\n",
      "\u001b[31m17.cam_singlecam.f_1.gaze_stamped.jpg\u001b[m\u001b[m \u001b[31m6.cam_singlecam.f_1.rgb.png\u001b[m\u001b[m\r\n",
      "\u001b[31m17.cam_singlecam.f_1.info.json\u001b[m\u001b[m        \u001b[31m7.cam_singlecam.f_1.gaze_stamped.jpg\u001b[m\u001b[m\r\n",
      "\u001b[31m17.cam_singlecam.f_1.rgb.png\u001b[m\u001b[m          \u001b[31m7.cam_singlecam.f_1.info.json\u001b[m\u001b[m\r\n",
      "\u001b[31m18.cam_singlecam.f_1.gaze_stamped.jpg\u001b[m\u001b[m \u001b[31m7.cam_singlecam.f_1.rgb.png\u001b[m\u001b[m\r\n",
      "\u001b[31m18.cam_singlecam.f_1.info.json\u001b[m\u001b[m        \u001b[31m8.cam_singlecam.f_1.gaze_stamped.jpg\u001b[m\u001b[m\r\n",
      "\u001b[31m18.cam_singlecam.f_1.rgb.png\u001b[m\u001b[m          \u001b[31m8.cam_singlecam.f_1.info.json\u001b[m\u001b[m\r",
      "\r\n",
      "\u001b[31m19.cam_singlecam.f_1.gaze_stamped.jpg\u001b[m\u001b[m \u001b[31m8.cam_singlecam.f_1.rgb.png\u001b[m\u001b[m\r\n",
      "\u001b[31m19.cam_singlecam.f_1.info.json\u001b[m\u001b[m        \u001b[31m9.cam_singlecam.f_1.gaze_stamped.jpg\u001b[m\u001b[m\r\n",
      "\u001b[31m19.cam_singlecam.f_1.rgb.png\u001b[m\u001b[m          \u001b[31m9.cam_singlecam.f_1.info.json\u001b[m\u001b[m\r\n",
      "\u001b[31m2.cam_singlecam.f_1.gaze_stamped.jpg\u001b[m\u001b[m  \u001b[31m9.cam_singlecam.f_1.rgb.png\u001b[m\u001b[m\r\n",
      "\u001b[31m2.cam_singlecam.f_1.info.json\u001b[m\u001b[m\r\n"
     ]
    }
   ],
   "source": [
    "!ls ../angles_test/gazes_angles/"
   ]
  },
  {
   "cell_type": "code",
   "execution_count": 15,
   "id": "e48e6716",
   "metadata": {},
   "outputs": [],
   "source": [
    "# dpath = Path('../practices/check_z/check_z/')\n",
    "dpath = Path('../angles_test/gazes_angles/')"
   ]
  },
  {
   "cell_type": "code",
   "execution_count": 17,
   "id": "71486cf0",
   "metadata": {},
   "outputs": [
    {
     "name": "stdout",
     "output_type": "stream",
     "text": [
      "../angles_test/gazes_angles/11.cam_singlecam.f_1.info.json\n",
      "-14.725173950195312 0.11190584301948547\n",
      "-15.32819796329196 0.049549829426899776 -179.9869016124124\n",
      "../angles_test/gazes_angles/2.cam_singlecam.f_1.info.json\n",
      "0.11190584301948547 -30.09840202331543\n",
      "0.0016962197848410339 -30.165788164084866 -179.9990141319542\n",
      "../angles_test/gazes_angles/1.cam_singlecam.f_1.info.json\n",
      "-14.725173950195312 -30.09840202331543\n",
      "-15.026951130296382 -30.032893088658966 -8.524606196401221\n",
      "../angles_test/gazes_angles/5.cam_singlecam.f_1.info.json\n",
      "-29.553800582885742 -15.073837280273438\n",
      "-30.012489952819717 -14.995818181829186 -7.631384928674514\n",
      "../angles_test/gazes_angles/6.cam_singlecam.f_1.info.json\n",
      "-14.725173950195312 -15.073837280273438\n",
      "-15.249126298652072 -15.217349585451531 -4.092284030661501\n",
      "../angles_test/gazes_angles/8.cam_singlecam.f_1.info.json\n",
      "14.929314613342285 -15.073837280273438\n",
      "15.251395898117627 -15.217426153958007 -175.9071018468507\n",
      "../angles_test/gazes_angles/12.cam_singlecam.f_1.info.json\n",
      "0.11190584301948547 0.11190584301948547\n",
      "0.0023346732033460785 0.06834323346050737 -2.7848332421049572e-06\n",
      "../angles_test/gazes_angles/15.cam_singlecam.f_1.info.json\n",
      "-29.553800582885742 14.989418029785156\n",
      "-30.016426279197898 14.996846376148635 -172.36717660955696\n",
      "../angles_test/gazes_angles/9.cam_singlecam.f_1.info.json\n",
      "29.7371768951416 -15.073837280273438\n",
      "30.01510300728037 -14.995938560343793 -172.36795626177963\n",
      "../angles_test/gazes_angles/0.cam_singlecam.f_1.info.json\n",
      "-29.553800582885742 -30.09840202331543\n",
      "-30.031002050432257 -30.01236443562675 -16.124034695027373\n",
      "../angles_test/gazes_angles/16.cam_singlecam.f_1.info.json\n",
      "-14.725173950195312 14.989418029785156\n",
      "-15.191563448622041 15.22061910288502 -175.92183274178316\n",
      "../angles_test/gazes_angles/14.cam_singlecam.f_1.info.json\n",
      "29.7371768951416 0.11190584301948547\n",
      "30.094449822867226 0.00479893437774717 -0.0024063149296569175\n",
      "../angles_test/gazes_angles/7.cam_singlecam.f_1.info.json\n",
      "0.11190584301948547 -15.073837280273438\n",
      "0.0014488094641689384 -15.293789571104623 -179.99960381936918\n",
      "../angles_test/gazes_angles/13.cam_singlecam.f_1.info.json\n",
      "14.929314613342285 0.11190584301948547\n",
      "15.331720071931585 0.04972189635181741 -0.013146820890322606\n",
      "../angles_test/gazes_angles/4.cam_singlecam.f_1.info.json\n",
      "29.7371768951416 -30.09840202331543\n",
      "30.033489205945592 -30.012425237631007 -163.87477999352436\n",
      "../angles_test/gazes_angles/10.cam_singlecam.f_1.info.json\n",
      "-29.553800582885742 0.11190584301948547\n",
      "-30.091625708694426 0.004909636860344402 -179.99753838524254\n",
      "../angles_test/gazes_angles/3.cam_singlecam.f_1.info.json\n",
      "14.929314613342285 -30.09840202331543\n",
      "15.029852179191643 -30.033017381963916 -62.69424055802836\n",
      "../angles_test/gazes_angles/17.cam_singlecam.f_1.info.json\n",
      "0.11190584301948547 14.989418029785156\n",
      "0.0017253002840822435 15.329172380090888 -0.00047293306570535043\n",
      "../angles_test/gazes_angles/18.cam_singlecam.f_1.info.json\n",
      "14.929314613342285 14.989418029785156\n",
      "15.194230590462578 15.220635391586294 -4.078868591654913\n",
      "../angles_test/gazes_angles/19.cam_singlecam.f_1.info.json\n",
      "29.7371768951416 14.989418029785156\n",
      "30.019222134967556 14.996601103323131 -7.63333127621986\n",
      "../angles_test/gazes_angles/20.cam_singlecam.f_1.info.json\n",
      "-29.553800582885742 30.022768020629883\n",
      "-30.02896466795034 30.01167336675344 -163.87733127570718\n",
      "../angles_test/gazes_angles/22.cam_singlecam.f_1.info.json\n",
      "0.11190584301948547 30.022768020629883\n",
      "0.0022393716948596433 29.989398758036526 -0.0012923494515927534\n",
      "../angles_test/gazes_angles/21.cam_singlecam.f_1.info.json\n",
      "-14.725173950195312 30.022768020629883\n",
      "-15.01291667011287 30.002542127555895 -171.4933148153832\n",
      "../angles_test/gazes_angles/23.cam_singlecam.f_1.info.json\n",
      "14.929314613342285 30.022768020629883\n",
      "15.015851714878671 30.0028384477117 -117.34222178411824\n",
      "../angles_test/gazes_angles/24.cam_singlecam.f_1.info.json\n",
      "29.7371768951416 30.022768020629883\n",
      "30.03135612305834 30.011698819140484 -16.12378809962815\n"
     ]
    }
   ],
   "source": [
    "for jfile in dpath.glob('*.json'):\n",
    "    print(jfile)\n",
    "    js = SJ(jfile)\n",
    "    pitch, yaw = js.pitch_yaw(radian=False)\n",
    "    print(pitch, yaw)\n",
    "    pitch, yaw, roll = js.pitch_yaw_roll(radian=False)\n",
    "    print(pitch, yaw, roll)\n",
    "#     pitch, yaw, roll = js.pitch_yaw_roll()\n",
    "#     print(pitch, yaw)\n",
    "    "
   ]
  },
  {
   "cell_type": "code",
   "execution_count": 8,
   "id": "410da8df",
   "metadata": {},
   "outputs": [
    {
     "ename": "SystemExit",
     "evalue": "",
     "output_type": "error",
     "traceback": [
      "An exception has occurred, use %tb to see the full traceback.\n",
      "\u001b[0;31mSystemExit\u001b[0m\n"
     ]
    },
    {
     "name": "stderr",
     "output_type": "stream",
     "text": [
      "/Users/jyao/opt/anaconda3/lib/python3.9/site-packages/IPython/core/interactiveshell.py:3405: UserWarning: To exit: use 'exit', 'quit', or Ctrl-D.\n",
      "  warn(\"To exit: use 'exit', 'quit', or Ctrl-D.\", stacklevel=1)\n"
     ]
    }
   ],
   "source": [
    "sys.exit()"
   ]
  },
  {
   "cell_type": "code",
   "execution_count": null,
   "id": "8f77f53f",
   "metadata": {},
   "outputs": [],
   "source": [
    "!ls ../practices/"
   ]
  },
  {
   "cell_type": "code",
   "execution_count": null,
   "id": "045e2a66",
   "metadata": {},
   "outputs": [],
   "source": [
    "jfile = Path('../angles_test/gazes_angles/3.cam_singlecam.f_1.info.json')"
   ]
  },
  {
   "cell_type": "code",
   "execution_count": null,
   "id": "a08c0d64",
   "metadata": {},
   "outputs": [],
   "source": [
    "js = SJ(jfile)\n",
    "pitch, yaw = js.pitch_yaw(radian=False)\n",
    "print(pitch, yaw)"
   ]
  },
  {
   "cell_type": "code",
   "execution_count": null,
   "id": "729dc273",
   "metadata": {},
   "outputs": [],
   "source": [
    "mat = js.world2cam()\n",
    "vr, vl = js.gaze_vectors()"
   ]
  },
  {
   "cell_type": "code",
   "execution_count": null,
   "id": "8ebc8998",
   "metadata": {},
   "outputs": [],
   "source": [
    "print(mat)"
   ]
  },
  {
   "cell_type": "code",
   "execution_count": null,
   "id": "048248ec",
   "metadata": {},
   "outputs": [],
   "source": [
    "print(vr, vl, np.linalg.norm(vr), np.linalg.norm(vl))"
   ]
  },
  {
   "cell_type": "code",
   "execution_count": null,
   "id": "ad555f85",
   "metadata": {},
   "outputs": [],
   "source": [
    "vr = np.append(vr, 1.0)\n",
    "vl = np.append(vl, 1.0)\n",
    "vr, vl = mat.dot(vr), mat.dot(vl)\n",
    "print(vr, vl)\n",
    "vr = vr[0:3]\n",
    "vl = vl[0:3]\n",
    "vr = vr / np.linalg.norm(vr)\n",
    "vl = vl/np.linalg.norm(vl)\n",
    "print(vr, vl)"
   ]
  },
  {
   "cell_type": "code",
   "execution_count": null,
   "id": "26437513",
   "metadata": {},
   "outputs": [],
   "source": [
    "print(vr, vl, np.linalg.norm(vr), np.linalg.norm(vl))"
   ]
  },
  {
   "cell_type": "code",
   "execution_count": null,
   "id": "c854e817",
   "metadata": {},
   "outputs": [],
   "source": [
    "yawr = asin(-vr[1])*180/np.pi\n",
    "pitchr = atan2(-vr[0], -vr[2])*180/np.pi\n",
    "print(yawr, pitchr)"
   ]
  },
  {
   "cell_type": "code",
   "execution_count": null,
   "id": "4794edd5",
   "metadata": {},
   "outputs": [],
   "source": [
    "# yawr = atan2(vr[0], -vr[2])\n",
    "# pitchr = atan2(vr[1], -vr[2])\n",
    "# print(yawr, pitchr)"
   ]
  },
  {
   "cell_type": "code",
   "execution_count": null,
   "id": "fa8220e4",
   "metadata": {},
   "outputs": [],
   "source": [
    "# print(yawr*180/np.pi, pitchr*180/np.pi)"
   ]
  },
  {
   "cell_type": "code",
   "execution_count": null,
   "id": "92618e66",
   "metadata": {},
   "outputs": [],
   "source": []
  },
  {
   "cell_type": "code",
   "execution_count": null,
   "id": "4b84bdac",
   "metadata": {},
   "outputs": [],
   "source": [
    "sys.exit()"
   ]
  },
  {
   "cell_type": "code",
   "execution_count": null,
   "id": "0fc72032",
   "metadata": {},
   "outputs": [],
   "source": [
    "def stamp_angles(ifile, jfile, resize_to=(224, 224)):\n",
    "    \n",
    "    js = SJ(jfile) \n",
    "    pitch, yaw = js.pitch_yaw(radius=False)\n",
    "    im = Image.open(ifile)\n",
    "    im = im.resize(resize_to)\n",
    "    text = f'pitch:{pitch:<5.1f} yaw:{yaw:<5.1f}'\n",
    "#     font = ImageFont.load(\"arial.pil\")\n",
    "    font = ImageFont.truetype(\"Arial Unicode.ttf\", 20)\n",
    "    draw = ImageDraw.Draw(im)\n",
    "    draw.text((10, 10),text,(255,250,255), font=font)\n",
    "    return im\n"
   ]
  },
  {
   "cell_type": "code",
   "execution_count": null,
   "id": "3c7599bf",
   "metadata": {
    "scrolled": false
   },
   "outputs": [],
   "source": [
    "for idx, ifile in enumerate(dpath.glob('*.png')):\n",
    "#     if idx>2:\n",
    "#         break\n",
    "    jfile = str(ifile).replace('rgb.png', 'info.json')\n",
    "    im = stamp_angles(ifile, jfile)\n",
    "#     im = im.resize((224, 224))\n",
    "    print(im.size)\n",
    "    saveto = str(ifile).replace('rgb.png', 'gaze_stamped.jpg')\n",
    "    im.save(saveto)"
   ]
  },
  {
   "cell_type": "code",
   "execution_count": null,
   "id": "eadb91be",
   "metadata": {},
   "outputs": [],
   "source": []
  }
 ],
 "metadata": {
  "kernelspec": {
   "display_name": "Python 3 (ipykernel)",
   "language": "python",
   "name": "python3"
  },
  "language_info": {
   "codemirror_mode": {
    "name": "ipython",
    "version": 3
   },
   "file_extension": ".py",
   "mimetype": "text/x-python",
   "name": "python",
   "nbconvert_exporter": "python",
   "pygments_lexer": "ipython3",
   "version": "3.8.10"
  }
 },
 "nbformat": 4,
 "nbformat_minor": 5
}
