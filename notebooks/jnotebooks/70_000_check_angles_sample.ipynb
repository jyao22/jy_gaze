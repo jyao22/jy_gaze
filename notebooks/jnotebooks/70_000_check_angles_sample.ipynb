{
 "cells": [
  {
   "cell_type": "code",
   "execution_count": null,
   "id": "4031db92",
   "metadata": {},
   "outputs": [],
   "source": [
    "import sys\n",
    "import numpy as np\n",
    "from math import atan2, asin\n",
    "from pathlib import Path\n",
    "from PIL import Image\n",
    "from PIL import ImageFont\n",
    "from PIL import ImageDraw \n",
    "import matplotlib.pyplot as plt\n",
    "import wandb"
   ]
  },
  {
   "cell_type": "code",
   "execution_count": null,
   "id": "2445130c",
   "metadata": {},
   "outputs": [],
   "source": [
    "sys.path.append('/project/modules/jmodules')\n",
    "from jutils import SynJSON as SJ"
   ]
  },
  {
   "cell_type": "code",
   "execution_count": null,
   "id": "9a5e9fd5",
   "metadata": {},
   "outputs": [],
   "source": [
    "dpath = Path('/project/data/download/')\n",
    "project = 'sdata3_sample_angle_check'"
   ]
  },
  {
   "cell_type": "code",
   "execution_count": null,
   "id": "8d960916",
   "metadata": {},
   "outputs": [],
   "source": [
    "# %%time\n",
    "pitches = []\n",
    "yaws = []\n",
    "pitchesl =[]\n",
    "yawsl=[]\n",
    "pitchesr =[]\n",
    "yawsr = []\n",
    "iffy_pitches = 0\n",
    "iffy_yaws = 0\n",
    "for nf, fold in enumerate(dpath.glob('fold*')):\n",
    "    if nf>2:\n",
    "        break \n",
    "    if nf >0:\n",
    "        print(f\"\\nfold={fold}\")\n",
    "    else:\n",
    "        print(f'fold={fold}')\n",
    "    dpath = dpath/fold\n",
    "    j =0\n",
    "    for jfile in dpath.glob('*.json'):\n",
    "#         print(jfile)\n",
    "        j += 1\n",
    "        if j % 600== 0:\n",
    "            print(f\"{j}\", end=' ')\n",
    "        sj = SJ(jfile)\n",
    "        pitch, yaw = sj.pitchyaw2d(radian=False, average=True)\n",
    "        [pitchl, yawl], [pitchr, yawr] = sj.pitchyaw2d(radian=False, average=False)\n",
    "        pitches.append(pitch)\n",
    "        yaws.append(yaw)\n",
    "        pitchesl.append(pitchl)\n",
    "        pitchesr.append(pitchr)\n",
    "        yawsl.append(yawl)\n",
    "        yawsr.append(yawr)\n",
    "        if abs(yawl-yawr)>3.0:\n",
    "            iffy_yaws += 1\n",
    "#             print(yawl, yawr)\n",
    "        if abs(pitchl - pitchr)>3.0:\n",
    "            iffy_pitches += 1"
   ]
  },
  {
   "cell_type": "code",
   "execution_count": null,
   "id": "41318376",
   "metadata": {},
   "outputs": [],
   "source": [
    "num_bins=50\n",
    "fig1, ax = plt.subplots()\n",
    "n, bins, patches = ax.hist(pitches, num_bins, \n",
    "                            density = 1, \n",
    "                            color ='g',\n",
    "                            alpha = 0.7)\n",
    "ax.set_title('distribution of pitches')\n",
    "ax.set_xlabel('degree')\n",
    "ax.set_xlim(-23, 7)"
   ]
  },
  {
   "cell_type": "code",
   "execution_count": null,
   "id": "99b30c0b",
   "metadata": {},
   "outputs": [],
   "source": [
    "num_bins=50\n",
    "n, bins, patches = plt.hist(pitches, num_bins, \n",
    "                            density = 1, \n",
    "                            color ='g',\n",
    "                            alpha = 0.7)\n",
    "plt.title('distribution of pitches')\n",
    "plt.xlabel('degree')\n",
    "plt.xlim(-23, 7)\n",
    "\n",
    "with wandb.init(project=project, name='sample_pitches_histogram') as run:\n",
    "    run.log({\"data3\":wandb.Image(plt)})"
   ]
  },
  {
   "cell_type": "code",
   "execution_count": null,
   "id": "179e9a6a",
   "metadata": {},
   "outputs": [],
   "source": [
    "num_bins=50\n",
    "n, bins, patches = plt.hist(yaws, num_bins, \n",
    "                            density = 1, \n",
    "                            color ='m',\n",
    "                            alpha = 0.7)\n",
    "plt.title('distribution of yaws')\n",
    "plt.xlabel('degree')\n",
    "plt.xlim(-25, 25)\n",
    "\n",
    "with wandb.init(project=project, name='sample_yaws_histogram') as run:\n",
    "    run.log({\"data3\":wandb.Image(plt)})"
   ]
  },
  {
   "cell_type": "code",
   "execution_count": null,
   "id": "eadb91be",
   "metadata": {
    "scrolled": true
   },
   "outputs": [],
   "source": [
    "plt.scatter(x=pitchesl, y=pitchesr)\n",
    "plt.title('pitches of left and right eyes')\n",
    "plt.xlabel('pitch: left eye (degree)')\n",
    "plt.ylabel('pitch: right eye (degree)')\n",
    "plt.grid(visible=True)\n",
    "with wandb.init(project=project, name='sample_pitches_corr') as run:\n",
    "    run.log({\"data4\":wandb.Image(plt)})"
   ]
  },
  {
   "cell_type": "code",
   "execution_count": null,
   "id": "10b6b74b",
   "metadata": {},
   "outputs": [],
   "source": [
    "plt.scatter(x=yawsl, y=yawsr)\n",
    "plt.title('yaws of left and right eyes')\n",
    "plt.xlabel('yaw: left eye (degree)')\n",
    "plt.ylabel('yaw: right eye (degree)')\n",
    "plt.grid(visible=True)\n",
    "\n",
    "with wandb.init(project=project, name='sample_yaws_corr') as run:\n",
    "    run.log({\"data4\":wandb.Image(plt)})"
   ]
  },
  {
   "cell_type": "code",
   "execution_count": null,
   "id": "46f968d6",
   "metadata": {},
   "outputs": [],
   "source": [
    "adiffs = []\n",
    "for yawl, yawr in zip(yawsl, yawsr):\n",
    "    adiff = abs(yawl-yawr)\n",
    "#     print(yawl, yawr, diff)\n",
    "    adiffs.append(adiff)"
   ]
  },
  {
   "cell_type": "code",
   "execution_count": null,
   "id": "4635bb78",
   "metadata": {},
   "outputs": [],
   "source": [
    "num_bins=1000\n",
    "n, bins, patches = plt.hist(adiffs, num_bins, \n",
    "                            density = 1, \n",
    "                            color ='b',\n",
    "                            alpha = 0.7)\n",
    "plt.title('distribution of yaw absolute differences')\n",
    "plt.xlabel('degree difference')\n",
    "plt.xlim(3, 7)\n",
    "with wandb.init(project=project, name='absolute diffs yaw right and left') as run:\n",
    "    run.log({\"data5\":wandb.Image(plt)})"
   ]
  },
  {
   "cell_type": "code",
   "execution_count": null,
   "id": "37af5bd4",
   "metadata": {},
   "outputs": [],
   "source": [
    "diffs = []\n",
    "for yawl, yawr in zip(yawsl, yawsr):\n",
    "    diff = yawl-yawr\n",
    "    if yawr > yawl:\n",
    "        print(yawl, yawr, diff)\n",
    "    diffs.append(diff)"
   ]
  },
  {
   "cell_type": "code",
   "execution_count": null,
   "id": "7e747fc1",
   "metadata": {},
   "outputs": [],
   "source": [
    "num_bins=1000\n",
    "n, bins, patches = plt.hist(diffs, num_bins, \n",
    "                            density = 1, \n",
    "                            color ='g',\n",
    "                            alpha = 0.7)\n",
    "plt.title('distribution of yaw differences')\n",
    "plt.xlabel('degree difference')\n",
    "plt.xlim(3.0, 6)\n",
    "\n",
    "with wandb.init(project=project, name='diffs yaw right and left') as run:\n",
    "    run.log({\"data5\":wandb.Image(plt)})"
   ]
  }
 ],
 "metadata": {
  "kernelspec": {
   "display_name": "Python 3 (ipykernel)",
   "language": "python",
   "name": "python3"
  },
  "language_info": {
   "codemirror_mode": {
    "name": "ipython",
    "version": 3
   },
   "file_extension": ".py",
   "mimetype": "text/x-python",
   "name": "python",
   "nbconvert_exporter": "python",
   "pygments_lexer": "ipython3",
   "version": "3.8.10"
  }
 },
 "nbformat": 4,
 "nbformat_minor": 5
}
