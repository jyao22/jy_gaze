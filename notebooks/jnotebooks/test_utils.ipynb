{
 "cells": [
  {
   "cell_type": "code",
   "execution_count": 1,
   "id": "63825ed5",
   "metadata": {},
   "outputs": [],
   "source": [
    "import os\n",
    "import sys\n",
    "import glob\n",
    "import numpy as np\n",
    "from PIL import Image\n",
    "sys.path.append('/Users/jyao/JIAN/work/SAI/projects/modules')\n",
    "from utils import SynJSON as SJ"
   ]
  },
  {
   "cell_type": "code",
   "execution_count": 2,
   "id": "9a02dbea",
   "metadata": {},
   "outputs": [],
   "source": [
    "dpath = '/Users/jyao/JIAN/work/SAI/projects/2022/Synthesize_gaze_data/seventy5k/download/fold02'"
   ]
  },
  {
   "cell_type": "code",
   "execution_count": 5,
   "id": "32108adc",
   "metadata": {},
   "outputs": [],
   "source": [
    "jfile = '2798.cam_visible_camera.f_1.info.json'\n",
    "jfile = os.path.join(dpath, jfile)"
   ]
  },
  {
   "cell_type": "code",
   "execution_count": 6,
   "id": "e9c50256",
   "metadata": {},
   "outputs": [],
   "source": [
    "sj=SJ(jfile)"
   ]
  },
  {
   "cell_type": "code",
   "execution_count": 18,
   "id": "86e956e4",
   "metadata": {},
   "outputs": [
    {
     "data": {
      "text/plain": [
       "{'eye_right': {'horizontal_angle': -21.327390670776367,\n",
       "  'vertical_angle': -23.356534957885742,\n",
       "  'gaze_vector': [-0.37298381328582764,\n",
       "   -0.20516806840896606,\n",
       "   0.9048697352409363]},\n",
       " 'eye_left': {'horizontal_angle': -21.608264923095703,\n",
       "  'vertical_angle': -23.35633659362793,\n",
       "  'gaze_vector': [-0.3092394173145294,\n",
       "   -0.20443150401115417,\n",
       "   0.9287511706352234]}}"
      ]
     },
     "execution_count": 18,
     "metadata": {},
     "output_type": "execute_result"
    }
   ],
   "source": [
    "sj.data['gaze_values']"
   ]
  },
  {
   "cell_type": "code",
   "execution_count": 23,
   "id": "016a6cfe",
   "metadata": {},
   "outputs": [
    {
     "name": "stdout",
     "output_type": "stream",
     "text": [
      "-23.356534957885742 -21.327390670776367\n",
      "[-0.40764844 -0.37223319]\n"
     ]
    }
   ],
   "source": [
    "yaw = sj.data['gaze_values']['eye_right']['horizontal_angle']\n",
    "pitch = sj.data['gaze_values']['eye_right']['vertical_angle']\n",
    "print(pitch, yaw)\n",
    "pitchyaw = np.array([pitch, yaw])*np.pi/180.0\n",
    "print(pitchyaw)"
   ]
  },
  {
   "cell_type": "code",
   "execution_count": 28,
   "id": "d0b22d4b",
   "metadata": {},
   "outputs": [
    {
     "name": "stdout",
     "output_type": "stream",
     "text": [
      "-0.40764843687226127 <class 'float'>\n"
     ]
    }
   ],
   "source": [
    "pitch = float(pitchyaw[0])\n",
    "print(pitch, type(pitch))"
   ]
  }
 ],
 "metadata": {
  "kernelspec": {
   "display_name": "Python 3 (ipykernel)",
   "language": "python",
   "name": "python3"
  },
  "language_info": {
   "codemirror_mode": {
    "name": "ipython",
    "version": 3
   },
   "file_extension": ".py",
   "mimetype": "text/x-python",
   "name": "python",
   "nbconvert_exporter": "python",
   "pygments_lexer": "ipython3",
   "version": "3.9.7"
  }
 },
 "nbformat": 4,
 "nbformat_minor": 5
}
