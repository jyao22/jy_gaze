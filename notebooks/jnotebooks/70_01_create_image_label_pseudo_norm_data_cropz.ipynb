{
 "cells": [
  {
   "cell_type": "code",
   "execution_count": 1,
   "id": "821a65b4",
   "metadata": {},
   "outputs": [],
   "source": [
    "import os\n",
    "import sys\n",
    "import numpy as np\n",
    "from PIL import Image\n",
    "from pytz import timezone\n",
    "from pathlib import Path"
   ]
  },
  {
   "cell_type": "code",
   "execution_count": 2,
   "id": "7ffc23a3",
   "metadata": {},
   "outputs": [],
   "source": [
    "sys.path.append('/project/modules/jmodules')\n",
    "from jutils import SynJSON as SJ, get_now"
   ]
  },
  {
   "cell_type": "code",
   "execution_count": 3,
   "id": "155cc0d6",
   "metadata": {},
   "outputs": [],
   "source": [
    "#source data path\n",
    "sdatapath = Path('/project/data/download/')\n",
    "# destination data path\n",
    "ddatapath = Path('/project/data/sdata3')\n",
    "labelpath = ddatapath/'Label'\n",
    "imagepath = ddatapath/'Image'\n",
    "leftpath = imagepath/'left'\n",
    "rightpath = imagepath/'right'\n",
    "facepath = imagepath/'face'\n",
    "os.makedirs(labelpath, exist_ok=True)\n",
    "os.makedirs(facepath, exist_ok=True)\n",
    "os.makedirs(leftpath, exist_ok=True)\n",
    "os.makedirs(rightpath, exist_ok=True)\n",
    "label_title = 'Face Left Right Origin WhichEye 3DGaze 3DHead 2DGaze 2DHead Rmat Smat GazeOrigin'"
   ]
  },
  {
   "cell_type": "code",
   "execution_count": null,
   "id": "e3e787a2",
   "metadata": {},
   "outputs": [
    {
     "name": "stdout",
     "output_type": "stream",
     "text": [
      "0 /project/data/download/fold03 <class 'pathlib.PosixPath'>\n",
      "/project/data/sdata3/Label/test.label\n",
      "fold /project/data/download/fold03, n_jfiles=21511\n",
      "07/21/2022 18:06:02\n",
      "200 400 600 800 1000 1200 1400 1600 1800 2000 2200 2400 2600 2800 3000 3200 3400 3600 3800 4000 4200 4400 4600 4800 5000 5200 5400 5600 5800 "
     ]
    }
   ],
   "source": [
    "%%time\n",
    "final_size = 224\n",
    "ratio = 1.0\n",
    "half_size = int(final_size*0.5*ratio)\n",
    "for nf, fold in enumerate(sdatapath.glob('fold*')):\n",
    "    print(nf, fold, type(fold))\n",
    "    if nf < 2:\n",
    "        label_file = 'test.label'\n",
    "    else:\n",
    "        label_file = 'train.label'\n",
    "#     label_file = f'{fold.name}.label'\n",
    "    label_file = labelpath/label_file\n",
    "#     lf = open(label_file, \"w\")\n",
    "    print(label_file)\n",
    "    #source\n",
    "    sfoldpath = fold\n",
    "    #destination\n",
    "    if nf <2 :\n",
    "        dfoldpath = facepath/'test'\n",
    "    else:\n",
    "        dfoldpath = facepath/'train' \n",
    "#     dfoldpath = facepath/fold.name\n",
    "#     print(f'destination dfoldpath = {dfoldpath}')\n",
    "    os.makedirs(dfoldpath, exist_ok=True)\n",
    "    \n",
    "    jfiles = os.listdir(sfoldpath)\n",
    "    jfiles = [f for f in jfiles if f.endswith('json')]\n",
    "    jfiles.sort()\n",
    "    print(f\"fold {fold}, n_jfiles={len(jfiles)}\")\n",
    "    now=get_now()\n",
    "    print(now)\n",
    "    lf = open(label_file, \"w\")\n",
    "    for i, jfile in enumerate(jfiles):\n",
    "        if (i+1)%200==0:\n",
    "            print(f'{i+1}', end=' ')\n",
    "            \n",
    "        imfile = jfile.replace('info.json', 'rgb.png')\n",
    "        jfile = sfoldpath/jfile\n",
    "        imfile = sfoldpath/imfile\n",
    "        assert imfile.is_file()\n",
    "        assert jfile.is_file()\n",
    "        \n",
    "        # do the image file\n",
    "        sj = SJ(jfile)\n",
    "        face_center = sj.face_center()\n",
    "        im = Image.open(imfile)\n",
    "#         display(im)\n",
    "        assert im.size[0] == im.size[1]\n",
    "        center = face_center*im.size[0]\n",
    "        center = center.astype(int)\n",
    "        crop_position = np.concatenate([center-half_size, center+half_size])\n",
    "        m1 = im.crop(crop_position)\n",
    "        m1 = m1.resize((final_size, final_size))\n",
    "        dimfilename = fold.name+'_'+str(i+1)+'.jpeg'\n",
    "#         print(f'dimfilename={dimfilename}')\n",
    "        dimfile = dfoldpath/dimfilename\n",
    "#         print(f'dimfile={dimfile}')\n",
    "        m1.save(dimfile)\n",
    " \n",
    "        #write label:\n",
    "        \n",
    "#         face = '/'.join(dimfile.split('/')[-3:])\n",
    "        face = dimfile.relative_to('/project/data/sdata3/Image/').as_posix()\n",
    "        left = 'NA'\n",
    "        right = 'NA'\n",
    "#         origin = '/'.join(imfile.split('/')[-2:])\n",
    "        origin = imfile.relative_to('/project/data/download/').as_posix()\n",
    "#         print(f'face={face}')\n",
    "#         print(f'origin={origin}')\n",
    "#         pitch, yaw = sj.pitch_yaw()\n",
    "        pitch, yaw = sj.pitchyaw2d()\n",
    "\n",
    "        pitch, yaw = sj.pitchyaw2d()  #in radian and average\n",
    "#         print(pitchyaw)\n",
    "        whicheye = 'NA'\n",
    "        d3gaze = '0.0,0.0,0.0'\n",
    "        d3head = '0.0,0.0,0.0'\n",
    "        d2gaze = f'{pitch},{yaw}'\n",
    "        d2head = '0.0,0.0'\n",
    "        rmat=smat = '1.0,1.0,1.0'\n",
    "        gazeorigin = '0.0,0.0,0.0'\n",
    "        to_print = ' '.join([face, left, right, origin, whicheye, d3gaze, d3head, d2gaze, d2head, rmat, smat, gazeorigin])\n",
    "#         print(to_print)\n",
    "        print(to_print, file=lf)\n",
    "        \n",
    "    lf.close()\n",
    "        "
   ]
  },
  {
   "cell_type": "code",
   "execution_count": null,
   "id": "392c1858",
   "metadata": {},
   "outputs": [],
   "source": [
    "pp = Path('/project/data/sdata3/Image/face/test/fold03_1.jpeg')"
   ]
  },
  {
   "cell_type": "code",
   "execution_count": null,
   "id": "76c746f8",
   "metadata": {},
   "outputs": [],
   "source": [
    "pp.relative_to('/project/data/sdata3/Image/').as_posix()"
   ]
  }
 ],
 "metadata": {
  "kernelspec": {
   "display_name": "Python 3 (ipykernel)",
   "language": "python",
   "name": "python3"
  },
  "language_info": {
   "codemirror_mode": {
    "name": "ipython",
    "version": 3
   },
   "file_extension": ".py",
   "mimetype": "text/x-python",
   "name": "python",
   "nbconvert_exporter": "python",
   "pygments_lexer": "ipython3",
   "version": "3.8.10"
  }
 },
 "nbformat": 4,
 "nbformat_minor": 5
}
