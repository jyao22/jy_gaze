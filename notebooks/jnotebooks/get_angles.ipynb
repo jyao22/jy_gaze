{
 "cells": [
  {
   "cell_type": "code",
   "execution_count": 20,
   "id": "4031db92",
   "metadata": {},
   "outputs": [],
   "source": [
    "import sys\n",
    "import numpy as np\n",
    "# from math import atan2, asin\n",
    "from pathlib import Path\n",
    "# from PIL import Image\n",
    "# from PIL import ImageFont\n",
    "# from PIL import ImageDraw \n",
    "np.set_printoptions(precision=4)\n",
    "\n",
    "from scipy.spatial.transform import Rotation as R\n",
    "import matplotlib.pyplot as plt"
   ]
  },
  {
   "cell_type": "code",
   "execution_count": 21,
   "id": "327f36d3",
   "metadata": {},
   "outputs": [],
   "source": [
    "sys.path.append('/Users/jyao/JIAN/work/SAI/projects/modules')"
   ]
  },
  {
   "cell_type": "code",
   "execution_count": 22,
   "id": "2445130c",
   "metadata": {},
   "outputs": [],
   "source": [
    "from utils import SynJSON as SJ"
   ]
  },
  {
   "cell_type": "code",
   "execution_count": 23,
   "id": "e48e6716",
   "metadata": {},
   "outputs": [],
   "source": [
    "dpath = Path('gazes_angles')"
   ]
  },
  {
   "cell_type": "code",
   "execution_count": 24,
   "id": "045e2a66",
   "metadata": {},
   "outputs": [],
   "source": [
    "jfile = Path('gazes_angles/3.cam_singlecam.f_1.info.json')"
   ]
  },
  {
   "cell_type": "code",
   "execution_count": 25,
   "id": "a08c0d64",
   "metadata": {},
   "outputs": [
    {
     "name": "stdout",
     "output_type": "stream",
     "text": [
      "14.929314613342285 -30.09840202331543\n"
     ]
    }
   ],
   "source": [
    "js = SJ(jfile)\n",
    "pitch, yaw = js.pitch_yaw(radian=False)\n",
    "print(pitch, yaw)"
   ]
  },
  {
   "cell_type": "code",
   "execution_count": 26,
   "id": "282fbaf9",
   "metadata": {},
   "outputs": [
    {
     "data": {
      "text/plain": [
       "array([[ 1.000e+00,  0.000e+00,  0.000e+00, -1.786e-04],\n",
       "       [ 0.000e+00,  1.000e+00,  0.000e+00, -1.610e+00],\n",
       "       [ 0.000e+00,  0.000e+00,  1.000e+00, -8.715e-01],\n",
       "       [ 0.000e+00,  0.000e+00,  0.000e+00,  1.000e+00]])"
      ]
     },
     "execution_count": 26,
     "metadata": {},
     "output_type": "execute_result"
    }
   ],
   "source": [
    "world2cam = js.world2cam()\n",
    "world2cam"
   ]
  },
  {
   "cell_type": "code",
   "execution_count": 27,
   "id": "6ed17f60",
   "metadata": {},
   "outputs": [
    {
     "data": {
      "text/plain": [
       "(array([-0.4481,  0.2594,  0.8555]), array([-0.5179,  0.2588,  0.8153]))"
      ]
     },
     "execution_count": 27,
     "metadata": {},
     "output_type": "execute_result"
    }
   ],
   "source": [
    "gvectors = js.gaze_vectors()  #left and right\n",
    "gvectors"
   ]
  },
  {
   "cell_type": "code",
   "execution_count": 28,
   "id": "b11313cf",
   "metadata": {},
   "outputs": [],
   "source": [
    "def to_homogeneous(xs):\n",
    "    xs_array = np.array(xs)\n",
    "    assert (xs_array.shape[-1] == 3)\n",
    "    ones_shape = list(xs_array.shape)\n",
    "    ones_shape[-1] = 1\n",
    "    homogeneous = np.concatenate([xs_array, np.ones(ones_shape)], axis=-1)\n",
    "    return homogeneous\n",
    "def from_homogeneous(xs):\n",
    "    xs_array = np.array(xs)\n",
    "    assert (xs_array.shape[-1] == 4)\n",
    "\n",
    "    slice_but_last = list(xs_array.shape)\n",
    "    slice_but_last[-1] = slice(None, -1)\n",
    "    slice_but_last = tuple(slice_but_last)\n",
    "\n",
    "    slice_last = list(xs_array.shape)\n",
    "    slice_last[-1] = slice(-1, None)\n",
    "    slice_last = tuple(slice_last)\n",
    "\n",
    "    return xs_array[slice_but_last] / xs_array[slice_last]"
   ]
  },
  {
   "cell_type": "code",
   "execution_count": 29,
   "id": "df7e9c50",
   "metadata": {},
   "outputs": [
    {
     "name": "stdout",
     "output_type": "stream",
     "text": [
      "[[-0.4481  0.2594  0.8555  1.    ]\n",
      " [-0.5179  0.2588  0.8153  1.    ]]\n"
     ]
    }
   ],
   "source": [
    "gvecs = to_homogeneous(gvectors)\n",
    "print(gvecs)"
   ]
  },
  {
   "cell_type": "code",
   "execution_count": 30,
   "id": "efde33d4",
   "metadata": {},
   "outputs": [
    {
     "data": {
      "text/plain": [
       "array([[1.000e+00, 0.000e+00, 0.000e+00, 1.786e-04],\n",
       "       [0.000e+00, 1.000e+00, 0.000e+00, 1.610e+00],\n",
       "       [0.000e+00, 0.000e+00, 1.000e+00, 8.715e-01],\n",
       "       [0.000e+00, 0.000e+00, 0.000e+00, 1.000e+00]])"
      ]
     },
     "execution_count": 30,
     "metadata": {},
     "output_type": "execute_result"
    }
   ],
   "source": [
    "cam2world = js.cam2world()\n",
    "cam2world"
   ]
  },
  {
   "cell_type": "code",
   "execution_count": 31,
   "id": "df412919",
   "metadata": {},
   "outputs": [],
   "source": [
    "np.testing.assert_allclose(world2cam@cam2world, np.eye(4), atol=1e-10)"
   ]
  },
  {
   "cell_type": "code",
   "execution_count": 32,
   "id": "9aa498d5",
   "metadata": {},
   "outputs": [],
   "source": [
    "\n",
    "# def get_yaw_pitch_roll_world(item):\n",
    "#     rotation = R.from_matrix(item[Modality.WORLD_TO_HEAD][:3,:3])\n",
    "\n",
    "#     # We multiply resulting angles by [-1, 1, -1] to use the same positive axis\n",
    "#     # as in job generaton json.\n",
    "#     yaw, pitch, roll = rotation.as_euler(\"YXZ\", degrees=True) * [-1, 1,-1]\n",
    "#     return yaw, pitch, roll"
   ]
  },
  {
   "cell_type": "code",
   "execution_count": 33,
   "id": "bb49f9c3",
   "metadata": {},
   "outputs": [
    {
     "name": "stdout",
     "output_type": "stream",
     "text": [
      "[[-0.4481  0.2594  0.8555]\n",
      " [-0.5179  0.2588  0.8153]]\n",
      "[-0.483   0.2591  0.8354]\n"
     ]
    }
   ],
   "source": [
    "r1 = R.from_matrix(world2cam[:3,:3])\n",
    "cam_gaze_vectors = r1.apply(gvectors)\n",
    "print(cam_gaze_vectors)\n",
    "cam_gaze_vector = cam_gaze_vectors.mean(axis=0)\n",
    "print(cam_gaze_vector)"
   ]
  },
  {
   "cell_type": "code",
   "execution_count": 34,
   "id": "6ca08ffe",
   "metadata": {},
   "outputs": [
    {
     "data": {
      "text/plain": [
       "array([[0, 0, 1],\n",
       "       [0, 0, 1]])"
      ]
     },
     "execution_count": 34,
     "metadata": {},
     "output_type": "execute_result"
    }
   ],
   "source": [
    "std_vec=np.array([[0,0,1], [0,0,1]])\n",
    "std_vec"
   ]
  },
  {
   "cell_type": "code",
   "execution_count": 35,
   "id": "8dd6bfd8",
   "metadata": {},
   "outputs": [],
   "source": [
    "r2 = R.align_vectors(cam_gaze_vectors, std_vec)"
   ]
  },
  {
   "cell_type": "code",
   "execution_count": 36,
   "id": "1b8d5380",
   "metadata": {},
   "outputs": [
    {
     "data": {
      "text/plain": [
       "array([-0.4834,  0.2593,  0.8361])"
      ]
     },
     "execution_count": 36,
     "metadata": {},
     "output_type": "execute_result"
    }
   ],
   "source": [
    "r2[0].apply([0,0,1])"
   ]
  },
  {
   "cell_type": "code",
   "execution_count": 37,
   "id": "1544b3a4",
   "metadata": {},
   "outputs": [
    {
     "name": "stdout",
     "output_type": "stream",
     "text": [
      "15.029852179191643 30.033017381963916\n"
     ]
    }
   ],
   "source": [
    "yaw, pitch, roll = r2[0].as_euler(\"YXZ\", degrees=True)*[-1,-1,-1]\n",
    "print(pitch, yaw)"
   ]
  },
  {
   "cell_type": "code",
   "execution_count": null,
   "id": "c14ea382",
   "metadata": {},
   "outputs": [],
   "source": []
  },
  {
   "cell_type": "code",
   "execution_count": null,
   "id": "293a2efc",
   "metadata": {},
   "outputs": [],
   "source": []
  }
 ],
 "metadata": {
  "kernelspec": {
   "display_name": "Python 3 (ipykernel)",
   "language": "python",
   "name": "python3"
  },
  "language_info": {
   "codemirror_mode": {
    "name": "ipython",
    "version": 3
   },
   "file_extension": ".py",
   "mimetype": "text/x-python",
   "name": "python",
   "nbconvert_exporter": "python",
   "pygments_lexer": "ipython3",
   "version": "3.8.10"
  }
 },
 "nbformat": 4,
 "nbformat_minor": 5
}
