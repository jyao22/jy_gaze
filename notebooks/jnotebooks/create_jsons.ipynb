{
 "cells": [
  {
   "cell_type": "code",
   "execution_count": 1,
   "id": "fe5ec1a4",
   "metadata": {},
   "outputs": [],
   "source": [
    "import json"
   ]
  },
  {
   "cell_type": "code",
   "execution_count": 2,
   "id": "5d7647eb",
   "metadata": {},
   "outputs": [
    {
     "name": "stdout",
     "output_type": "stream",
     "text": [
      "README                   \u001b[31mlighting_direct50_2.json\u001b[m\u001b[m \u001b[31mtemplate_for_fold.json\u001b[m\u001b[m\r\n",
      "create_jsons.ipynb       results.json\r\n",
      "id_results1.json         seventy5_id_request.json\r\n"
     ]
    }
   ],
   "source": [
    "!ls"
   ]
  },
  {
   "cell_type": "code",
   "execution_count": 3,
   "id": "accf04a5",
   "metadata": {},
   "outputs": [
    {
     "name": "stdout",
     "output_type": "stream",
     "text": [
      "75 [86, 208, 94, 65, 44, 198, 38, 96, 80, 70, 9, 39, 59, 48, 8, 196, 185, 11, 3, 246, 1010, 71, 106, 122, 32, 128, 7, 43, 4382, 1075, 1331, 121, 5, 78, 63, 51, 13, 207, 26, 81, 181, 182, 41, 1667, 30, 228, 88, 82, 24, 93, 1, 112, 183, 90, 76, 114, 31, 6, 180, 186, 123, 2415, 37, 108, 36, 1019, 103, 2, 15, 72, 49, 4, 46, 124, 75]\n"
     ]
    }
   ],
   "source": [
    "idfile = \"results.json\"\n",
    "with open(idfile) as f:\n",
    "    id_json = json.load(f)\n",
    "ids = id_json['data']['ids']\n",
    "print(len(ids), ids)"
   ]
  },
  {
   "cell_type": "code",
   "execution_count": 4,
   "id": "d0a5075e",
   "metadata": {},
   "outputs": [
    {
     "name": "stdout",
     "output_type": "stream",
     "text": [
      "[86, 208, 94, 65, 44]\n",
      "[198, 38, 96, 80, 70]\n",
      "[9, 39, 59, 48, 8]\n",
      "[196, 185, 11, 3, 246]\n",
      "[1010, 71, 106, 122, 32]\n",
      "[128, 7, 43, 4382, 1075]\n",
      "[1331, 121, 5, 78, 63]\n",
      "[51, 13, 207, 26, 81]\n",
      "[181, 182, 41, 1667, 30]\n",
      "[228, 88, 82, 24, 93]\n",
      "[1, 112, 183, 90, 76]\n",
      "[114, 31, 6, 180, 186]\n",
      "[123, 2415, 37, 108, 36]\n",
      "[1019, 103, 2, 15, 72]\n",
      "[49, 4, 46, 124, 75]\n"
     ]
    }
   ],
   "source": [
    "for i in range(0, len(ids), 5):\n",
    "    print(ids[i:i+5])"
   ]
  },
  {
   "cell_type": "code",
   "execution_count": 5,
   "id": "2cc0727f",
   "metadata": {},
   "outputs": [],
   "source": [
    "jfile = 'template_for_fold.json'"
   ]
  },
  {
   "cell_type": "code",
   "execution_count": 6,
   "id": "dc80345f",
   "metadata": {},
   "outputs": [],
   "source": [
    "with open(jfile) as f:\n",
    "    d50 = json.load(f)"
   ]
  },
  {
   "cell_type": "code",
   "execution_count": 7,
   "id": "1ef30835",
   "metadata": {},
   "outputs": [],
   "source": [
    "outf = \"fold.json\""
   ]
  },
  {
   "cell_type": "code",
   "execution_count": 8,
   "id": "8cfd099b",
   "metadata": {},
   "outputs": [],
   "source": [
    "with open(outf, \"w\") as of:\n",
    "    json.dump(d50, of)"
   ]
  },
  {
   "cell_type": "code",
   "execution_count": 9,
   "id": "d99950af",
   "metadata": {},
   "outputs": [
    {
     "data": {
      "text/plain": [
       "{'humans': [{'identities': {'ids': [24], 'renders_per_identity': 600},\n",
       "   'facial_attributes': {'hair': [{'style': ['none']}],\n",
       "    'facial_hair': [{'style': ['none']}],\n",
       "    'expression': [{'name': ['all'],\n",
       "      'intensity': {'type': 'range', 'values': {'min': 0.2, 'max': 0.6}},\n",
       "      'percent': 100}],\n",
       "    'gaze': [{'vertical_angle': {'type': 'range',\n",
       "       'values': {'min': -25.0, 'max': 25.0}},\n",
       "      'horizontal_angle': {'type': 'range',\n",
       "       'values': {'min': -25.0, 'max': 10.0}},\n",
       "      'percent': 100}],\n",
       "    'head_turn': [{'pitch': {'type': 'range',\n",
       "       'values': {'min': -20.0, 'max': 20.0}},\n",
       "      'yaw': {'type': 'range', 'values': {'min': -20.0, 'max': 20.0}},\n",
       "      'roll': {'type': 'list', 'values': [0]},\n",
       "      'percent': 100}]},\n",
       "   'camera_and_light_rigs': [{'cameras': [{'name': 'visible_camera',\n",
       "       'specifications': {'resolution_h': 512,\n",
       "        'resolution_w': 512,\n",
       "        'wavelength': 'visible'}}],\n",
       "     'lights': [{'type': 'direct',\n",
       "       'intensity': {'type': 'range', 'values': {'min': 0.2, 'max': 8.0}},\n",
       "       'wavelength': 'visible',\n",
       "       'size_meters': {'type': 'list', 'values': [0.01]},\n",
       "       'relative_location': {'pitch': {'type': 'range',\n",
       "         'values': {'min': -15, 'max': 15}},\n",
       "        'yaw': {'type': 'range', 'values': {'min': -45, 'max': 45}},\n",
       "        'roll': {'type': 'range', 'values': {'min': -15, 'max': 15}},\n",
       "        'x': {'type': 'range', 'values': {'min': 0.1, 'max': 1}},\n",
       "        'y': {'type': 'range', 'values': {'min': 0.1, 'max': 1}},\n",
       "        'z': {'type': 'range', 'values': {'min': 0.1, 'max': 1}}}}],\n",
       "     'location': {'pitch': {'type': 'list', 'values': [0]},\n",
       "      'yaw': {'type': 'list', 'values': [0]},\n",
       "      'roll': {'type': 'list', 'values': [0]},\n",
       "      'z': {'type': 'list', 'values': [1.0]}}}]}]}"
      ]
     },
     "execution_count": 9,
     "metadata": {},
     "output_type": "execute_result"
    }
   ],
   "source": [
    "d50"
   ]
  },
  {
   "cell_type": "code",
   "execution_count": 10,
   "id": "6a0b5007",
   "metadata": {},
   "outputs": [
    {
     "data": {
      "text/plain": [
       "600"
      ]
     },
     "execution_count": 10,
     "metadata": {},
     "output_type": "execute_result"
    }
   ],
   "source": [
    "d50['humans'][0]['identities']['renders_per_identity']"
   ]
  },
  {
   "cell_type": "code",
   "execution_count": 11,
   "id": "3ccdcc56",
   "metadata": {},
   "outputs": [
    {
     "name": "stdout",
     "output_type": "stream",
     "text": [
      "fold00.json 0 [86, 208, 94, 65, 44]\n",
      "fold01.json 1 [198, 38, 96, 80, 70]\n",
      "fold02.json 2 [9, 39, 59, 48, 8]\n",
      "fold03.json 3 [196, 185, 11, 3, 246]\n",
      "fold04.json 4 [1010, 71, 106, 122, 32]\n",
      "fold05.json 5 [128, 7, 43, 4382, 1075]\n",
      "fold06.json 6 [1331, 121, 5, 78, 63]\n",
      "fold07.json 7 [51, 13, 207, 26, 81]\n",
      "fold08.json 8 [181, 182, 41, 1667, 30]\n",
      "fold09.json 9 [228, 88, 82, 24, 93]\n",
      "fold10.json 10 [1, 112, 183, 90, 76]\n",
      "fold11.json 11 [114, 31, 6, 180, 186]\n",
      "fold12.json 12 [123, 2415, 37, 108, 36]\n",
      "fold13.json 13 [1019, 103, 2, 15, 72]\n",
      "fold14.json 14 [49, 4, 46, 124, 75]\n"
     ]
    }
   ],
   "source": [
    "fold=0\n",
    "for i in range(0, len(ids), 5):\n",
    "#     print(fold, ids[i:i+5])\n",
    "    sub_ids = ids[i:i+5]\n",
    "    outf = f\"fold\" + f'{fold:0>2}' +'.json'\n",
    "    print(outf, fold, sub_ids )\n",
    "    d50['humans'][0]['identities']['ids']=sub_ids\n",
    "    d50['humans'][0]['identities']['renders_per_identity'] = 600\n",
    "    with open(outf, \"w\") as of:\n",
    "        json.dump(d50, of)\n",
    "    \n",
    "    fold += 1\n"
   ]
  },
  {
   "cell_type": "code",
   "execution_count": 16,
   "id": "e1edcaa6",
   "metadata": {},
   "outputs": [],
   "source": [
    "syn_file = 'execute_synthesis.sh'\n",
    "with open(syn_file, \"w\") as sf:\n",
    "    \n",
    "    for fold in range(15):\n",
    "        outf = f\"fold\" + f'{fold:0>2}' +'.json'\n",
    "        outs = 'synthesis humans create ' + outf+ '\\n'\n",
    "        sf.write(outs)\n",
    "        fold += 1"
   ]
  },
  {
   "cell_type": "code",
   "execution_count": 17,
   "id": "3f546980",
   "metadata": {},
   "outputs": [
    {
     "name": "stdout",
     "output_type": "stream",
     "text": [
      "synthesis humans create fold00.json\r\n",
      "synthesis humans create fold01.json\r\n",
      "synthesis humans create fold02.json\r\n",
      "synthesis humans create fold03.json\r\n",
      "synthesis humans create fold04.json\r\n",
      "synthesis humans create fold05.json\r\n",
      "synthesis humans create fold06.json\r\n",
      "synthesis humans create fold07.json\r\n",
      "synthesis humans create fold08.json\r\n",
      "synthesis humans create fold09.json\r\n",
      "synthesis humans create fold10.json\r\n",
      "synthesis humans create fold11.json\r\n",
      "synthesis humans create fold12.json\r\n",
      "synthesis humans create fold13.json\r\n",
      "synthesis humans create fold14.json\r\n"
     ]
    }
   ],
   "source": [
    "!cat execute_synthesis.sh"
   ]
  }
 ],
 "metadata": {
  "kernelspec": {
   "display_name": "Python 3 (ipykernel)",
   "language": "python",
   "name": "python3"
  },
  "language_info": {
   "codemirror_mode": {
    "name": "ipython",
    "version": 3
   },
   "file_extension": ".py",
   "mimetype": "text/x-python",
   "name": "python",
   "nbconvert_exporter": "python",
   "pygments_lexer": "ipython3",
   "version": "3.9.7"
  }
 },
 "nbformat": 4,
 "nbformat_minor": 5
}
