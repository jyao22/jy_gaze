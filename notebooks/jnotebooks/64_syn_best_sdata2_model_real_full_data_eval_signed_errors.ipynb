{
 "cells": [
  {
   "cell_type": "code",
   "execution_count": 1,
   "id": "9132df96",
   "metadata": {},
   "outputs": [],
   "source": [
    "# Use the best model for each checkpoint folder to test maes for all data folds"
   ]
  },
  {
   "cell_type": "code",
   "execution_count": 2,
   "id": "662efc9c",
   "metadata": {},
   "outputs": [],
   "source": [
    "import os, argparse\n",
    "import numpy as np\n",
    "import matplotlib.pyplot as plt\n",
    "from datetime import datetime\n",
    "from pytz import timezone\n",
    "from pathlib import Path\n",
    "import torch\n",
    "import torch.nn as nn\n",
    "from torch.autograd import Variable\n",
    "from torch.utils.data import DataLoader\n",
    "from torchvision import transforms\n",
    "import torch.backends.cudnn as cudnn\n",
    "import torchvision\n",
    "import wandb\n",
    "\n",
    "import datasets\n",
    "# from utils import select_device, natural_keys, gazeto3d, angular, getArch\n",
    "from utils import select_device, natural_keys, gazeto3d, angular, getArch\n",
    "from model import L2CS"
   ]
  },
  {
   "cell_type": "code",
   "execution_count": 3,
   "id": "ed29c578",
   "metadata": {},
   "outputs": [],
   "source": [
    "args = argparse.Namespace()\n",
    "args.gazeMpiimage_dir = '/project/data/Image'  #real data \n",
    "args.gazeMpiilabel_dir = '/project/data/Label'  #real label\n",
    "# args.output = '/project/results/soutput1/snapshots/'\n",
    "args.dataset = 'mpiigaze'\n",
    "args.snapshot='/project/results/soutput2/snapshots/'\n",
    "# args.evalpath = '/project/results/sroutput1/evaluation/'\n",
    "args.gpu_id = '0,1,2,3'\n",
    "args.gpu_id = '0'\n",
    "args.batch_size = 20\n",
    "args.arch = 'ResNet50'\n",
    "args.bins=35\n",
    "args.angle = 180\n",
    "args.bin_width = 4\n"
   ]
  },
  {
   "cell_type": "code",
   "execution_count": 4,
   "id": "d0e11321",
   "metadata": {},
   "outputs": [],
   "source": [
    "batch_size=args.batch_size\n",
    "arch=args.arch\n",
    "data_set=args.dataset\n",
    "# evalpath =args.evalpath\n",
    "snapshot_path = args.snapshot\n",
    "bins=args.bins\n",
    "angle=args.angle\n",
    "bin_width=args.bin_width\n",
    "gazeMpiimage_dir = args.gazeMpiimage_dir\n",
    "gazeMpiilabel_dir=args.gazeMpiilabel_dir"
   ]
  },
  {
   "cell_type": "code",
   "execution_count": 5,
   "id": "0504fda4",
   "metadata": {},
   "outputs": [],
   "source": [
    "# args = parse_args()\n",
    "cudnn.enabled = True\n",
    "gpu = select_device(args.gpu_id, batch_size=args.batch_size)\n",
    "transformations = transforms.Compose([\n",
    "    transforms.Resize(448),\n",
    "    transforms.ToTensor(),\n",
    "    transforms.Normalize(\n",
    "        mean=[0.485, 0.456, 0.406],\n",
    "        std=[0.229, 0.224, 0.225]\n",
    "    )\n",
    "])\n",
    "\n",
    "model_used= getArch(arch, bins)  #resnet50 and 28 bins"
   ]
  },
  {
   "cell_type": "code",
   "execution_count": 6,
   "id": "2a3aa734",
   "metadata": {},
   "outputs": [
    {
     "name": "stdout",
     "output_type": "stream",
     "text": [
      "fold   best_epoch error(degree)\n",
      " 0        47         2.902   \n",
      " 1        55         2.718   \n",
      " 2        56         3.145   \n",
      " 3        57         3.704   \n",
      " 4        52         3.123   \n",
      " 5        51         2.578   \n",
      " 6        58         3.239   \n",
      " 7        55         2.979   \n",
      " 8        47         4.673   \n",
      " 9        32         4.767   \n",
      " 10       26         2.979   \n",
      " 11       53         2.528   \n",
      " 12       10         3.276   \n",
      " 13       54         2.488   \n",
      " 14       11         3.323   \n"
     ]
    }
   ],
   "source": [
    "#read the fold epoch table\n",
    "dfile = Path(snapshot_path).parent/\"syn_syn_sdata2_all_MAE.npy\"\n",
    "all_MAE = np.load(dfile)\n",
    "best_epoch = {}\n",
    "best_epoch_error = {}\n",
    "print(f\"fold   best_epoch error(degree)\")\n",
    "for idx, fdata in enumerate(all_MAE):\n",
    "#     print(idx, type(idx))\n",
    "    epoch_min_error = np.argmin(fdata)+1\n",
    "    print(f'{idx:^4} {np.argmin(fdata)+1:^12} {fdata.min():^11.3f}')\n",
    "    best_epoch[idx+1] = epoch_min_error\n",
    "    best_epoch_error[idx+1]=fdata.min()"
   ]
  },
  {
   "cell_type": "code",
   "execution_count": 7,
   "id": "6e2eff08",
   "metadata": {},
   "outputs": [
    {
     "name": "stdout",
     "output_type": "stream",
     "text": [
      "0:60 1:60 2:60 3:60 4:60 5:60 6:60 7:60 8:60 9:60 10:60 11:60 12:60 13:60 14:60 "
     ]
    }
   ],
   "source": [
    "# check if we have the correct number of checkpoint files \n",
    "ppath = snapshot_path\n",
    "for fold in range(15):\n",
    "    foldstr = f\"fold{fold:0>2}\"\n",
    "    cpath =os.path.join(ppath, foldstr)\n",
    "    files = os.listdir(cpath)\n",
    "    print(f'{fold}:{len(files)}',end=\" \")"
   ]
  },
  {
   "cell_type": "code",
   "execution_count": 8,
   "id": "72df5465",
   "metadata": {},
   "outputs": [
    {
     "name": "stdout",
     "output_type": "stream",
     "text": [
      "07/14/2022 06:36:51\n"
     ]
    }
   ],
   "source": [
    "def get_now():\n",
    "    now = datetime.utcnow()\n",
    "    now = now.astimezone(timezone('US/Pacific'))\n",
    "    date_format='%m/%d/%Y %H:%M:%S'\n",
    "    now = now.strftime(date_format) \n",
    "    return now\n",
    "print(get_now())"
   ]
  },
  {
   "cell_type": "code",
   "execution_count": 9,
   "id": "aac76d00",
   "metadata": {},
   "outputs": [
    {
     "name": "stdout",
     "output_type": "stream",
     "text": [
      "['/project/data/Label/p00.label', '/project/data/Label/p01.label', '/project/data/Label/p02.label', '/project/data/Label/p03.label', '/project/data/Label/p04.label', '/project/data/Label/p05.label', '/project/data/Label/p06.label', '/project/data/Label/p07.label', '/project/data/Label/p08.label', '/project/data/Label/p09.label', '/project/data/Label/p10.label', '/project/data/Label/p11.label', '/project/data/Label/p12.label', '/project/data/Label/p13.label', '/project/data/Label/p14.label']\n",
      "cfold=fold00\n",
      "0 items removed from dataset that have an angle > 180\n",
      "\n",
      "test configuration: gpu_id=cuda:0, batch_size=20\n",
      "model_arch=ResNet50 Start testing dataset=mpiigaze\n",
      "cFOLD=0 dFOLD=0--07/14/2022 06:36:56----\n",
      "pitches:tensor([-13.6999, -10.8950,  -0.3938,  -7.8972,  -1.2028,  -8.6839,  -8.5490,\n",
      "         -8.3595,  -7.8905,  -8.9074,  -3.4585,  -9.7572,  -6.8425,  -5.9541,\n",
      "         -0.8198, -10.1542,  -8.1737,  -9.4927, -14.3258,  -3.0681])\n",
      "yaws:tensor([  9.2711,   3.9719,  -8.4433,  -1.3286,   8.7618,  -7.9024, -13.0160,\n",
      "         15.1729,  -2.6761,  11.7675,   2.7207,  -1.0034,  14.2695,  -4.2663,\n",
      "         -5.7470,   7.4609,  -9.0651,  11.7865,  12.7692,   8.3623])\n",
      "pitches_predicted:tensor([-9.8742, -3.4163, -1.9004, -4.9737,  4.2694, -7.2847, -7.7222, -5.6172,\n",
      "        -1.9658, -6.0419, -4.6691, -9.2200, -5.4386, -6.2064, -1.3598, -8.4746,\n",
      "        -2.0477, -8.4068, -7.5302, -4.1631])\n",
      "yaws_predicted:tensor([ 10.5759,   2.9779,  -4.6000,  -1.1009,   6.2129,  -5.3412, -14.3729,\n",
      "         18.5905,  -3.4969,  11.4515,   5.9116,  -7.3583,  16.4287,  -0.4158,\n",
      "         -7.6474,  10.1449, -13.2218,   8.9259,   9.5386,  21.9166])\n",
      "pitches_errors:tensor([ 3.8257,  7.4786, -1.5066,  2.9235,  5.4723,  1.3993,  0.8267,  2.7422,\n",
      "         5.9247,  2.8655, -1.2106,  0.5372,  1.4039, -0.2523, -0.5399,  1.6796,\n",
      "         6.1260,  1.0859,  6.7956, -1.0951])\n",
      "yaws_errors:tensor([ 1.3048, -0.9940,  3.8434,  0.2277, -2.5490,  2.5612, -1.3568,  3.4176,\n",
      "        -0.8208, -0.3159,  3.1909, -6.3549,  2.1593,  3.8505, -1.9005,  2.6840,\n",
      "        -4.1567, -2.8605, -3.2307, 13.5543])\n",
      "0 items removed from dataset that have an angle > 180\n",
      "\n",
      "test configuration: gpu_id=cuda:0, batch_size=20\n",
      "model_arch=ResNet50 Start testing dataset=mpiigaze\n",
      "cFOLD=0 dFOLD=1--07/14/2022 06:37:12----\n",
      "pitches:tensor([-10.9323,  -2.6975,  -0.7702,  -1.5281, -10.0935, -15.7912,  -5.3320,\n",
      "        -15.3461,  -1.7984,  -8.2842, -17.1503, -12.9447,  -5.7320, -10.7952,\n",
      "         -3.7606,  -6.0546,  -9.0201,  -6.7656,  -4.8618, -12.8961])\n",
      "yaws:tensor([ 10.0317,  -0.2221,  11.4510,   3.4063,  -7.1862,  -5.5437,   0.0872,\n",
      "        -10.0557,  -1.3179,   0.9388,   8.1808,  11.0273,   7.2781,  -5.8205,\n",
      "         -1.8116,  10.1302,  -1.4288,  13.5960,  -5.1618,  -7.5032])\n",
      "pitches_predicted:tensor([ -9.5362,   0.0901,   2.0299,   2.4336,  -6.9142, -11.9993,  -4.6680,\n",
      "        -19.0866,  -1.9740,  -4.9925, -10.4000, -11.1444,  -3.9063,  -5.1694,\n",
      "         -2.0526,  -1.2116,  -3.7359,  -4.5443,  -2.5864,  -8.6414])\n",
      "yaws_predicted:tensor([  3.5807,  -4.8438,  11.8674,  -0.8546, -10.6597,  -1.7215,  -1.6144,\n",
      "         -1.4635,   4.1487,  -2.0291,  -0.4823,   8.6153,  11.0838,  -1.9568,\n",
      "         -4.3437,  13.2708,  -8.6543,   4.2905, -10.0679,  -3.2405])\n",
      "pitches_errors:tensor([ 1.3960,  2.7876,  2.8001,  3.9617,  3.1794,  3.7919,  0.6640, -3.7405,\n",
      "        -0.1756,  3.2917,  6.7503,  1.8003,  1.8257,  5.6258,  1.7079,  4.8430,\n",
      "         5.2842,  2.2212,  2.2753,  4.2546])\n",
      "yaws_errors:tensor([-6.4509, -4.6217,  0.4164, -4.2609, -3.4735,  3.8222, -1.7016,  8.5923,\n",
      "         5.4666, -2.9679, -8.6632, -2.4120,  3.8057,  3.8637, -2.5321,  3.1406,\n",
      "        -7.2255, -9.3055, -4.9061,  4.2627])\n",
      "0 items removed from dataset that have an angle > 180\n",
      "\n",
      "test configuration: gpu_id=cuda:0, batch_size=20\n",
      "model_arch=ResNet50 Start testing dataset=mpiigaze\n",
      "cFOLD=0 dFOLD=2--07/14/2022 06:37:28----\n",
      "pitches:tensor([ -7.6753,  -1.1532, -15.2300,  -9.9719,  -1.5903,   0.5520, -10.9158,\n",
      "        -14.5169,  -2.6388,  -9.3336, -11.9796,  -3.0884,  -6.3828,  -1.1695,\n",
      "         -7.0910, -14.4839,  -3.6770, -10.5921,  -1.5507,   0.5428])\n",
      "yaws:tensor([ 13.4623,   9.5193,   1.2421,  -4.1582,   4.5858,  12.5713,   4.3110,\n",
      "         -0.4274,   8.6924,  -1.4577,   8.1862, -12.2118,  -6.1111,   4.8297,\n",
      "        -13.1955,  -3.7489,  -7.1606,  -5.2383,  -5.8883,  -8.7430])\n",
      "pitches_predicted:tensor([ -7.9641,   1.3874, -15.0136, -10.7706,   5.7363,  -0.3095, -11.7539,\n",
      "        -13.2271,  -4.5085,  -8.1282, -16.6530, -13.5706,  -8.7721,  -4.7896,\n",
      "         -5.8280, -13.2500,  -3.5701, -11.0648,  -6.5269,  -7.3668])\n",
      "yaws_predicted:tensor([ 16.7002,   4.5870,   5.4420,  -0.1446,   0.8245,  16.5817,  10.8605,\n",
      "          3.1154,  13.1642,  -5.0975,   7.6639, -14.4829,  -9.5383,  15.7144,\n",
      "        -15.9589,   1.7969,  -8.2316,  -6.2505,  -7.5924,  -8.2831])\n",
      "pitches_errors:tensor([ -0.2889,   2.5406,   0.2164,  -0.7987,   7.3266,  -0.8614,  -0.8381,\n",
      "          1.2898,  -1.8697,   1.2053,  -4.6735, -10.4822,  -2.3893,  -3.6201,\n",
      "          1.2630,   1.2339,   0.1069,  -0.4727,  -4.9761,  -7.9096])\n",
      "yaws_errors:tensor([ 3.2378, -4.9322,  4.1999,  4.0136, -3.7613,  4.0104,  6.5495,  3.5428,\n",
      "         4.4718, -3.6398, -0.5223, -2.2711, -3.4272, 10.8847, -2.7634,  5.5458,\n",
      "        -1.0710, -1.0122, -1.7042,  0.4599])\n",
      "0 items removed from dataset that have an angle > 180\n",
      "\n",
      "test configuration: gpu_id=cuda:0, batch_size=20\n",
      "model_arch=ResNet50 Start testing dataset=mpiigaze\n",
      "cFOLD=0 dFOLD=3--07/14/2022 06:37:43----\n",
      "pitches:tensor([-11.4739,  -7.0269, -10.7302,  -4.0544,  -8.4184,  -6.0716, -17.9414,\n",
      "        -14.0869, -16.7351, -17.1677, -13.9935, -14.7349, -14.3196, -14.6541,\n",
      "        -16.7605,  -8.2958, -13.1180, -17.1357,  -1.3359,  -8.3942])\n",
      "yaws:tensor([  5.0916,  -0.0725,   9.5069,  -9.9975,  10.6551,  -4.2053,  -5.7099,\n",
      "         14.9625,  -0.9666,  -9.4997,  -2.1464,  10.4751,  10.7892,   4.1246,\n",
      "          9.2755,  -9.1110,   2.8594,  -3.3141,  -1.9995, -11.7389])\n",
      "pitches_predicted:tensor([-3.2515e+00, -5.4066e+00,  8.6502e+00,  8.3688e-01, -2.5129e+00,\n",
      "        -3.9208e+00, -2.3707e+01, -1.1867e+01, -7.4072e+00, -8.9191e+00,\n",
      "        -2.3187e+00, -8.3685e+00, -1.4508e+01, -1.6834e+00, -1.2157e+01,\n",
      "         2.2322e+00, -9.4907e+00, -1.5041e+01,  7.3369e+00, -1.8383e-02])\n",
      "yaws_predicted:tensor([  5.5003,  -0.5039,  16.4383, -11.5210,  18.0663,  -0.0472,  -2.7135,\n",
      "         25.8696,  -3.7639, -11.9344,   0.0737,  14.3858,  20.5402,   4.2375,\n",
      "         14.5978,  -9.2368,  -0.0807,  -5.4598,  -4.8042, -15.2027])\n",
      "pitches_errors:tensor([ 8.2224,  1.6202, 19.3805,  4.8913,  5.9055,  2.1507, -5.7655,  2.2199,\n",
      "         9.3279,  8.2486, 11.6748,  6.3664, -0.1883, 12.9707,  4.6036, 10.5280,\n",
      "         3.6273,  2.0944,  8.6728,  8.3758])\n",
      "yaws_errors:tensor([ 0.4087, -0.4314,  6.9314, -1.5234,  7.4112,  4.1581,  2.9963, 10.9071,\n",
      "        -2.7973, -2.4347,  2.2201,  3.9107,  9.7510,  0.1130,  5.3222, -0.1257,\n",
      "        -2.9401, -2.1456, -2.8047, -3.4639])\n",
      "0 items removed from dataset that have an angle > 180\n",
      "\n",
      "test configuration: gpu_id=cuda:0, batch_size=20\n",
      "model_arch=ResNet50 Start testing dataset=mpiigaze\n",
      "cFOLD=0 dFOLD=4--07/14/2022 06:37:59----\n",
      "pitches:tensor([-11.3033, -14.1718,  -9.7904,  -9.0362,  -1.6027, -16.5278,  -5.2656,\n",
      "         -7.9266, -11.5591, -16.3148,  -7.9510,  -4.7292, -16.8354,  -3.3515,\n",
      "        -13.0742,  -0.6030,  -5.8790,  -6.5192, -15.7859,  -4.5555])\n",
      "yaws:tensor([ -7.0110,  -3.8502,  -8.6147,   4.4506,  11.3010,   2.5574, -12.0265,\n",
      "         12.4545,  -6.3423,   6.3917,  -4.5985,   6.0501, -14.9853,   2.5503,\n",
      "         -4.4325,  -9.9361,  13.9768,  -8.2577,   0.8364,  12.1071])\n",
      "pitches_predicted:tensor([ -5.5378, -15.4243,  -4.4358,  -2.8853,  -4.7813, -10.9369,  -1.0102,\n",
      "         -5.8391, -13.6634, -18.2224,  -5.7686,  -4.0072, -15.7858,   0.4713,\n",
      "         -9.5752,   3.5526,  -3.2747,  -8.8665, -12.9800,  -5.3081])\n",
      "yaws_predicted:tensor([ -5.0877,  -1.5466, -12.5066,   7.1152,  11.7163,   4.3232, -13.4326,\n",
      "         13.4080,  -0.8704,   3.0962,  -6.4967,   1.8247, -11.7434,   1.3917,\n",
      "          0.8485, -13.8006,  10.1616, -14.5204,   0.8583,  10.9170])\n",
      "pitches_errors:tensor([ 5.7655, -1.2525,  5.3546,  6.1509, -3.1786,  5.5909,  4.2554,  2.0875,\n",
      "        -2.1043, -1.9076,  2.1823,  0.7220,  1.0496,  3.8229,  3.4989,  4.1555,\n",
      "         2.6043, -2.3473,  2.8059, -0.7526])\n",
      "yaws_errors:tensor([ 1.9232,  2.3035, -3.8919,  2.6645,  0.4153,  1.7658, -1.4061,  0.9536,\n",
      "         5.4719, -3.2955, -1.8981, -4.2254,  3.2419, -1.1585,  5.2810, -3.8645,\n",
      "        -3.8152, -6.2627,  0.0220, -1.1901])\n"
     ]
    },
    {
     "name": "stdout",
     "output_type": "stream",
     "text": [
      "0 items removed from dataset that have an angle > 180\n",
      "\n",
      "test configuration: gpu_id=cuda:0, batch_size=20\n",
      "model_arch=ResNet50 Start testing dataset=mpiigaze\n",
      "cFOLD=0 dFOLD=5--07/14/2022 06:38:17----\n",
      "pitches:tensor([ -6.8893, -14.3303, -15.3703,  -2.1513,  -6.4182, -12.8865,  -2.0761,\n",
      "         -2.7951,  -5.2510,  -4.8159,  -6.5244, -11.1563,  -8.1803, -12.6986,\n",
      "        -13.6187,  -3.3242,  -3.6732,  -1.8181, -10.1030,  -7.7701])\n",
      "yaws:tensor([ 15.4040,   3.6918,   7.9921,   2.4595,   7.9601,  -7.5013,  -5.8316,\n",
      "          5.5059,  -6.5751,   2.7961, -14.7853,   8.6173,  13.7040,   5.7870,\n",
      "          2.5303,   4.5990,   5.5701,  -5.4725,   2.9493,   9.1771])\n",
      "pitches_predicted:tensor([-10.2022, -14.1695, -11.5904,  -8.6308,  -3.0791, -12.1531, -12.6069,\n",
      "         -4.3271,  -5.4080,  -0.6585,  -6.1574, -12.2364,  -6.8155, -12.9166,\n",
      "         -7.9446,  -4.7475,   0.0691,  -1.8264,  -5.2706,  -5.7235])\n",
      "yaws_predicted:tensor([  4.5788,   5.8419,  10.0003,   1.2828,  12.5090,   0.0752,  -4.6093,\n",
      "          2.7132,   0.3115,   9.8178, -14.1757,  11.6767,   9.2339,  15.5895,\n",
      "          5.3288,   4.6965,   1.1770,  -9.9684,   8.3825,  12.2971])\n",
      "pitches_errors:tensor([-3.3129e+00,  1.6080e-01,  3.7799e+00, -6.4795e+00,  3.3391e+00,\n",
      "         7.3337e-01, -1.0531e+01, -1.5320e+00, -1.5700e-01,  4.1574e+00,\n",
      "         3.6705e-01, -1.0801e+00,  1.3648e+00, -2.1800e-01,  5.6741e+00,\n",
      "        -1.4232e+00,  3.7423e+00, -8.3722e-03,  4.8324e+00,  2.0465e+00])\n",
      "yaws_errors:tensor([-10.8251,   2.1501,   2.0082,  -1.1767,   4.5489,   7.5765,   1.2223,\n",
      "         -2.7927,   6.8866,   7.0216,   0.6096,   3.0594,  -4.4701,   9.8025,\n",
      "          2.7985,   0.0975,  -4.3931,  -4.4959,   5.4332,   3.1200])\n",
      "0 items removed from dataset that have an angle > 180\n",
      "\n",
      "test configuration: gpu_id=cuda:0, batch_size=20\n",
      "model_arch=ResNet50 Start testing dataset=mpiigaze\n",
      "cFOLD=0 dFOLD=6--07/14/2022 06:38:32----\n",
      "pitches:tensor([-12.5587, -13.7571,  -5.2855,  -2.1523,  -5.2532,  -2.3426, -13.9499,\n",
      "        -10.8295, -13.6747, -18.4836,  -4.7483, -17.7772, -18.2721, -16.0024,\n",
      "        -17.9519, -17.5998, -18.9516,  -4.4647,  -0.3851, -17.0028])\n",
      "yaws:tensor([ 13.9128,  -7.8694,  -3.1833,   7.5904,  -4.8235,  -8.7894, -16.0980,\n",
      "        -15.6256, -14.6549, -17.3577,   9.4483,  10.0560,  -1.1521,  -6.6782,\n",
      "          9.7516,   9.8401,   1.6656,  -0.5054,   3.3587,   8.7630])\n",
      "pitches_predicted:tensor([  6.1779,  -5.5775,   0.1365,   2.4924,   3.5722,   5.7386,  -3.2537,\n",
      "         -4.1955,   0.0896,  -5.3270,   3.8697,  -6.8856,  -9.6004,  -0.7201,\n",
      "         -3.5130,   3.1217,  -2.3051,  -7.4637, -13.2665,  -1.7743])\n",
      "yaws_predicted:tensor([ -7.6858,  -8.0107,   0.8772,   3.6258,  -2.2114,  -3.6687, -17.0607,\n",
      "         -7.1461,  -2.8291, -12.0007,   3.8869,   6.0334,  -1.7262,   0.6001,\n",
      "          5.9583,   2.7076,   0.0723,  -0.4580,   1.8158,   1.5466])\n",
      "pitches_errors:tensor([ 18.7366,   8.1796,   5.4220,   4.6447,   8.8254,   8.0812,  10.6962,\n",
      "          6.6339,  13.7644,  13.1565,   8.6179,  10.8916,   8.6718,  15.2823,\n",
      "         14.4389,  20.7215,  16.6465,  -2.9990, -12.8814,  15.2284])\n",
      "yaws_errors:tensor([-21.5986,  -0.1413,   4.0605,  -3.9646,   2.6121,   5.1207,  -0.9628,\n",
      "          8.4796,  11.8259,   5.3571,  -5.5614,  -4.0227,  -0.5741,   7.2782,\n",
      "         -3.7933,  -7.1325,  -1.5933,   0.0474,  -1.5429,  -7.2165])\n",
      "0 items removed from dataset that have an angle > 180\n",
      "\n",
      "test configuration: gpu_id=cuda:0, batch_size=20\n",
      "model_arch=ResNet50 Start testing dataset=mpiigaze\n",
      "cFOLD=0 dFOLD=7--07/14/2022 06:38:46----\n",
      "pitches:tensor([ -4.1460, -14.4985, -16.3927,  -3.8520,  -3.3838, -12.3774,  -0.5413,\n",
      "        -11.7863,  -8.5414,  -9.0246, -17.3894, -15.8511,  -2.6042, -15.0191,\n",
      "        -10.1524, -10.2150, -11.5206, -11.0562, -10.7106,  -4.0650])\n",
      "yaws:tensor([ 14.0952,  11.6265, -12.6981,  12.2138,  -4.5372,   7.7959,  -6.5783,\n",
      "         -6.8234,   9.5804,   3.3073,  -7.5496,   8.6259,   0.3020, -12.3424,\n",
      "         -9.9947,   8.6467,   0.4847,  -1.9040,  12.3398,   4.7114])\n",
      "pitches_predicted:tensor([-1.0563e+01, -9.3209e+00, -8.0731e+00, -5.8732e+00, -1.1628e+00,\n",
      "        -3.1569e+00, -5.8981e+00, -1.1179e+01,  1.8837e-02, -1.1191e+01,\n",
      "        -2.0340e+01, -2.3052e+01, -4.6864e+00, -1.5486e+01, -7.2502e+00,\n",
      "        -5.4356e+00, -3.4215e+00, -1.0862e+01, -8.8461e+00, -3.5412e+00])\n",
      "yaws_predicted:tensor([ 13.1233,   4.3229, -10.7465,   1.7954,  -2.3620,   9.5446,  -0.8908,\n",
      "         -1.5467,   6.9212,   3.9619, -16.5415,  21.3243,   0.2144, -10.8808,\n",
      "        -13.2118,   6.6279,  -4.1553,  -1.3075,  20.9910,   7.1319])\n",
      "pitches_errors:tensor([-6.4172,  5.1775,  8.3196, -2.0212,  2.2210,  9.2205, -5.3568,  0.6069,\n",
      "         8.5603, -2.1664, -2.9505, -7.2006, -2.0822, -0.4670,  2.9022,  4.7794,\n",
      "         8.0990,  0.1940,  1.8645,  0.5238])\n",
      "yaws_errors:tensor([ -0.9719,  -7.3036,   1.9517, -10.4184,   2.1752,   1.7488,   5.6874,\n",
      "          5.2767,  -2.6592,   0.6546,  -8.9919,  12.6983,  -0.0876,   1.4616,\n",
      "         -3.2171,  -2.0189,  -4.6400,   0.5965,   8.6511,   2.4205])\n",
      "0 items removed from dataset that have an angle > 180\n",
      "\n",
      "test configuration: gpu_id=cuda:0, batch_size=20\n",
      "model_arch=ResNet50 Start testing dataset=mpiigaze\n",
      "cFOLD=0 dFOLD=8--07/14/2022 06:39:03----\n",
      "pitches:tensor([ -3.6325,  -9.3264, -13.1633,  -1.6309,  -0.2474, -18.1228,  -9.4875,\n",
      "        -11.5714, -17.7676, -14.0881, -10.2865,  -5.8149, -15.3913, -17.2980,\n",
      "        -15.7664, -11.7582,  -9.9273, -19.0292,  -3.1403,  -8.9644])\n",
      "yaws:tensor([ -2.0626, -11.5185, -12.4422,   8.3727, -17.9323,  -1.9829,   2.2666,\n",
      "         14.0306,   6.6137,   2.5846,   1.7960,  -5.2079,   3.3344,   4.2924,\n",
      "        -13.8156,  -6.2222,   7.7974,  -5.1819, -11.9251,  -7.7057])\n",
      "pitches_predicted:tensor([  1.8092, -13.9112,  -3.6081,  -9.0068, -10.5825,  -9.2300, -13.3735,\n",
      "        -16.8964, -16.7770,  -7.6946,  -7.2751,  -0.1328, -13.7617, -18.3001,\n",
      "        -15.8413, -12.8726, -13.9092, -16.4371,  -3.3620,  -3.9783])\n",
      "yaws_predicted:tensor([ -0.2818,  -0.0397,  -5.4083,   7.2673, -22.4953,   0.2010,   5.7446,\n",
      "          8.7774,   3.3902,   9.8337,   2.6410,   0.2188,   2.2613,   3.4296,\n",
      "        -17.3233, -11.1507,  17.6348,  -1.1177,   4.1942,  -1.8978])\n",
      "pitches_errors:tensor([  5.4417,  -4.5847,   9.5552,  -7.3759, -10.3351,   8.8928,  -3.8860,\n",
      "         -5.3250,   0.9906,   6.3935,   3.0115,   5.6821,   1.6296,  -1.0021,\n",
      "         -0.0748,  -1.1144,  -3.9819,   2.5921,  -0.2218,   4.9861])\n",
      "yaws_errors:tensor([ 1.7808, 11.4787,  7.0339, -1.1054, -4.5630,  2.1839,  3.4780, -5.2532,\n",
      "        -3.2235,  7.2492,  0.8450,  5.4267, -1.0731, -0.8627, -3.5076, -4.9286,\n",
      "         9.8374,  4.0642, 16.1193,  5.8078])\n",
      "0 items removed from dataset that have an angle > 180\n",
      "\n",
      "test configuration: gpu_id=cuda:0, batch_size=20\n",
      "model_arch=ResNet50 Start testing dataset=mpiigaze\n",
      "cFOLD=0 dFOLD=9--07/14/2022 06:39:19----\n",
      "pitches:tensor([ -9.2101,  -2.5968, -16.4224,  -8.4622, -10.6009,  -2.7714,  -2.9209,\n",
      "        -15.3101, -11.6950, -12.0854,  -9.4263,  -6.3327, -13.2889, -14.0756,\n",
      "        -13.5972,  -5.8258, -17.5776,  -4.1907, -16.5522, -11.3386])\n",
      "yaws:tensor([ 13.2737, -12.1424,   7.8764,  12.9167, -13.5164,  -1.0616,  -7.5115,\n",
      "          3.6579,  -0.8308,   4.5488,   2.8428,   0.5110, -12.2067,   7.3988,\n",
      "         -2.5666,  -1.4106,   2.9269,  -8.7910,   5.1016,  -9.7354])\n",
      "pitches_predicted:tensor([ -5.6761,  -7.9760, -13.3004, -13.7131,  -8.6119, -13.3367,  -0.5724,\n",
      "         -9.6761, -12.7554, -16.4600, -15.4884, -14.1338, -17.1331, -11.0802,\n",
      "         -8.2832, -11.8345, -16.7821,  -9.0316, -17.2536, -28.6474])\n",
      "yaws_predicted:tensor([  7.7307,  -7.7484,  -0.9881,   8.3850, -11.2988,  -0.3092,  -7.5821,\n",
      "          0.2947,   0.2359,   1.6721,   4.1153,   0.8665, -13.3194,  -0.0708,\n",
      "         -4.9396,  -3.2859,  -3.5510,  -8.7156,  -0.3709,   2.6940])\n",
      "pitches_errors:tensor([  3.5340,  -5.3792,   3.1221,  -5.2510,   1.9890, -10.5653,   2.3485,\n",
      "          5.6339,  -1.0604,  -4.3746,  -6.0620,  -7.8011,  -3.8441,   2.9953,\n",
      "          5.3140,  -6.0087,   0.7955,  -4.8409,  -0.7015, -17.3088])\n",
      "yaws_errors:tensor([-5.5431,  4.3940, -8.8645, -4.5317,  2.2176,  0.7524, -0.0706, -3.3632,\n",
      "         1.0667, -2.8767,  1.2725,  0.3555, -1.1127, -7.4696, -2.3730, -1.8753,\n",
      "        -6.4779,  0.0753, -5.4724, 12.4293])\n",
      "0 items removed from dataset that have an angle > 180\n",
      "\n",
      "test configuration: gpu_id=cuda:0, batch_size=20\n",
      "model_arch=ResNet50 Start testing dataset=mpiigaze\n",
      "cFOLD=0 dFOLD=10--07/14/2022 06:39:35----\n"
     ]
    },
    {
     "name": "stdout",
     "output_type": "stream",
     "text": [
      "pitches:tensor([-17.6821,  -9.4249,  -6.1706, -12.6807,  -4.9781, -15.7945,  -3.2494,\n",
      "        -10.7158,  -3.9176, -13.2465,  -7.1941,  -7.7473,  -4.8662,  -3.9292,\n",
      "         -7.9390, -14.7358, -16.2158,  -2.1762,  -0.4581,  -6.1706])\n",
      "yaws:tensor([  0.5568,   6.7723,   7.4226,  -9.6195,  -2.5130,   5.3142,   9.3096,\n",
      "         -9.6641,  -0.0742, -40.4794,  11.0368,   5.7243,   3.7587,  -9.2252,\n",
      "          3.0971,   5.0168,   1.0829,  -6.3439,  12.9137,  -7.4226])\n",
      "pitches_predicted:tensor([ -1.9581,  -1.6734,   1.7943,   2.4607,   0.7805,  -1.0696,   9.1309,\n",
      "          1.9067,  -9.4842,   3.7498,   0.9486,  -3.0247,   5.3774,   3.0616,\n",
      "         -3.7424,  -1.5661, -13.3251,   3.9027,   7.5147,   3.2277])\n",
      "yaws_predicted:tensor([ 0.0585,  5.6211,  7.4270,  5.0988,  4.2813,  2.8851,  9.5418, -6.3061,\n",
      "        10.8227, -9.4647,  8.0431,  6.4774,  6.9350, -8.5579,  5.2839,  3.4690,\n",
      "         6.1660,  0.6565, 13.9880, -5.9282])\n",
      "pitches_errors:tensor([15.7240,  7.7515,  7.9649, 15.1413,  5.7586, 14.7249, 12.3803, 12.6225,\n",
      "        -5.5666, 16.9962,  8.1427,  4.7227, 10.2437,  6.9908,  4.1965, 13.1697,\n",
      "         2.8907,  6.0788,  7.9728,  9.3983])\n",
      "yaws_errors:tensor([-4.9829e-01, -1.1512e+00,  4.4122e-03,  1.4718e+01,  6.7943e+00,\n",
      "        -2.4292e+00,  2.3214e-01,  3.3581e+00,  1.0897e+01,  3.1015e+01,\n",
      "        -2.9937e+00,  7.5308e-01,  3.1763e+00,  6.6733e-01,  2.1868e+00,\n",
      "        -1.5479e+00,  5.0831e+00,  7.0004e+00,  1.0743e+00,  1.4945e+00])\n",
      "0 items removed from dataset that have an angle > 180\n",
      "\n",
      "test configuration: gpu_id=cuda:0, batch_size=20\n",
      "model_arch=ResNet50 Start testing dataset=mpiigaze\n",
      "cFOLD=0 dFOLD=11--07/14/2022 06:39:51----\n",
      "pitches:tensor([-12.2238,  -2.1422,  -7.7670, -13.6828,  -4.0867,  -3.4145, -15.8097,\n",
      "        -11.4659, -11.5666,  -7.5849, -12.6899,  -8.7809,  -3.6630,  -8.9367,\n",
      "        -11.9234, -10.7768, -15.8363, -10.9706, -13.1301, -11.8590])\n",
      "yaws:tensor([10.6341, 10.4706, -4.1427,  4.5086, -0.8283, -1.6339, -3.4692, 12.2404,\n",
      "        -5.4823,  8.3575, 13.1527,  2.9548, -6.3334,  8.8300, -5.7717,  1.6197,\n",
      "        -4.9930,  6.5826,  1.1718,  8.0350])\n",
      "pitches_predicted:tensor([ -8.5294, -10.6908,  -8.5001, -11.9150,  -3.1542,  -5.1186, -15.4880,\n",
      "         -7.6096,  -9.9486,  -9.6040,  -6.0828, -14.6124,  -9.8147, -12.2234,\n",
      "         -9.7867, -22.2608, -15.6545, -21.8459, -23.7934, -21.3910])\n",
      "yaws_predicted:tensor([ 6.8448, 19.6408, -0.3636,  1.1627, -0.2488,  0.8518,  7.2765,  4.9128,\n",
      "         2.2335, 12.4309,  4.3580,  5.0256,  6.4276, 15.5245,  9.9397, 11.3726,\n",
      "         0.9103,  9.5638,  4.9213,  3.8121])\n",
      "pitches_errors:tensor([  3.6944,  -8.5486,  -0.7331,   1.7677,   0.9325,  -1.7041,   0.3217,\n",
      "          3.8563,   1.6180,  -2.0191,   6.6071,  -5.8315,  -6.1517,  -3.2866,\n",
      "          2.1367, -11.4840,   0.1818, -10.8753, -10.6633,  -9.5320])\n",
      "yaws_errors:tensor([-3.7893,  9.1702,  3.7791, -3.3458,  0.5795,  2.4858, 10.7458, -7.3277,\n",
      "         7.7158,  4.0733, -8.7947,  2.0708, 12.7610,  6.6945, 15.7114,  9.7529,\n",
      "         5.9033,  2.9811,  3.7495, -4.2229])\n",
      "0 items removed from dataset that have an angle > 180\n",
      "\n",
      "test configuration: gpu_id=cuda:0, batch_size=20\n",
      "model_arch=ResNet50 Start testing dataset=mpiigaze\n",
      "cFOLD=0 dFOLD=12--07/14/2022 06:40:07----\n",
      "pitches:tensor([ -3.3026, -12.2027,  -8.1334,   0.0875, -13.1282,  -2.8932,  -5.4918,\n",
      "         -1.5685,  -8.9460,  -8.1652,  -5.4099, -11.7289,  -4.0292,  -0.0898,\n",
      "         -8.7829, -15.6998, -14.6466, -12.0936, -15.0630,  -3.5262])\n",
      "yaws:tensor([  9.6363,  -2.5662,   9.2112,   6.2867,  -9.9344,  -6.2375,  11.0197,\n",
      "         -4.8116, -14.5188,   1.3617,  -4.8520,  -8.3074,   2.7869,  -1.6885,\n",
      "         -2.2959,   2.8919,   8.4666,   5.9012,  -9.9077,  -5.3606])\n",
      "pitches_predicted:tensor([ -9.9672, -11.4612,  -6.9832,  12.8307,  -2.5334,   4.0618,   2.6682,\n",
      "         -2.8928,  -3.0017,  -8.5087, -11.1240,  -5.2948,   1.1801,  -9.1448,\n",
      "        -11.3174,   0.2778,  -5.2902,  -9.4666, -14.5664,   1.0289])\n",
      "yaws_predicted:tensor([ -8.1616,   4.8077,   8.8297,  12.9542,  -1.9393,  -8.9322,   9.5676,\n",
      "         -2.6095, -11.0852,   9.2853,  -1.9343,  -3.9586,   5.2655,  -1.7325,\n",
      "          2.4724,  -0.1394,   4.3236,   4.2887,   3.3156,  -0.4563])\n",
      "pitches_errors:tensor([-6.6646,  0.7415,  1.1503, 12.7432, 10.5948,  6.9550,  8.1600, -1.3243,\n",
      "         5.9443, -0.3435, -5.7141,  6.4341,  5.2093, -9.0550, -2.5345, 15.9776,\n",
      "         9.3564,  2.6271,  0.4967,  4.5551])\n",
      "yaws_errors:tensor([-17.7979,   7.3739,  -0.3815,   6.6676,   7.9951,  -2.6947,  -1.4521,\n",
      "          2.2020,   3.4336,   7.9236,   2.9176,   4.3487,   2.4787,  -0.0439,\n",
      "          4.7684,  -3.0313,  -4.1430,  -1.6125,  13.2233,   4.9044])\n",
      "0 items removed from dataset that have an angle > 180\n",
      "\n",
      "test configuration: gpu_id=cuda:0, batch_size=20\n",
      "model_arch=ResNet50 Start testing dataset=mpiigaze\n",
      "cFOLD=0 dFOLD=13--07/14/2022 06:40:22----\n",
      "pitches:tensor([ -6.9817, -10.1240,  -2.1829, -16.6747, -13.9764, -14.1765, -17.2487,\n",
      "         -1.4925, -10.1240, -14.0834, -10.2341, -12.0726,  -9.5505, -14.9985,\n",
      "         -5.5019,  -7.7315, -10.9414,  -9.2301,  -9.7252, -12.2750])\n",
      "yaws:tensor([  4.3369,  -7.6309,  -5.5996,  -6.7285,  -6.6886, -10.8175,   0.9668,\n",
      "          2.6182,   7.6309,   0.0782, -13.3288,   9.5124,  13.4096,   4.3443,\n",
      "         -5.8701, -12.6527, -11.9578,   4.6394,   0.4956,  -5.3409])\n",
      "pitches_predicted:tensor([  2.5483,   2.8721,   1.1900,  -8.0657,  -4.1554,  -1.6583,  -5.7124,\n",
      "          0.6383,   4.3807, -16.3778,  -2.1814,  -9.4395, -28.5192,  -4.1013,\n",
      "          3.3672,   1.0515, -11.5112,  -1.6012,  -5.3172, -11.5438])\n",
      "yaws_predicted:tensor([  7.8573,  -0.7143,  16.2702,  -5.3422,   4.4398,  -8.6452,   4.6134,\n",
      "          2.6633,   4.1122,   9.7693,  -0.9260,  21.8448,  12.9206,   7.6256,\n",
      "          3.5722,  -0.0963, -12.0078,   3.2785,   3.6021,  -0.7897])\n",
      "pitches_errors:tensor([  9.5300,  12.9961,   3.3730,   8.6090,   9.8210,  12.5182,  11.5363,\n",
      "          2.1308,  14.5047,  -2.2944,   8.0527,   2.6331, -18.9687,  10.8971,\n",
      "          8.8691,   8.7830,  -0.5698,   7.6288,   4.4080,   0.7312])\n",
      "yaws_errors:tensor([ 3.5204,  6.9165, 21.8698,  1.3863, 11.1283,  2.1723,  3.6467,  0.0451,\n",
      "        -3.5187,  9.6911, 12.4028, 12.3324, -0.4890,  3.2813,  9.4423, 12.5564,\n",
      "        -0.0499, -1.3608,  3.1065,  4.5512])\n",
      "0 items removed from dataset that have an angle > 180\n",
      "\n",
      "test configuration: gpu_id=cuda:0, batch_size=20\n",
      "model_arch=ResNet50 Start testing dataset=mpiigaze\n",
      "cFOLD=0 dFOLD=14--07/14/2022 06:40:38----\n",
      "pitches:tensor([ -0.6724,  -2.1547,  -6.4696,  -5.3352, -12.4941,   2.4707,   0.2180,\n",
      "         -4.3774, -12.4021,  -1.1800,  -8.0833,   1.4716,   1.3865,   1.3080,\n",
      "         -7.3823,   0.5198,  -8.1655,   0.2332,   0.1875,   2.4861])\n",
      "yaws:tensor([  5.2437,  -7.9776,  10.2774,  -3.3357, -11.3623, -14.8612,   5.7698,\n",
      "          2.4224,  17.1029,  -1.8189,   5.0232,  -8.4664,  -6.3372,   6.6358,\n",
      "         -7.9783,  -7.1426,  -0.0869,  -8.0181,  -5.9552, -19.4408])\n",
      "pitches_predicted:tensor([ -8.4815,  -8.6868,  -5.7117, -10.9901, -16.9256,  -3.8761,  -2.5038,\n",
      "         -8.3763, -22.8820,  -6.3438, -12.7875,  -2.8863,  -4.0027,  -3.2558,\n",
      "         -8.9794,  -4.0567, -13.2285,  -3.1185,  -4.1140,  -3.1871])\n",
      "yaws_predicted:tensor([ 14.5857,  -6.3861,  11.4467,   0.4058,  -5.6307, -14.3479,   2.9740,\n",
      "          5.8922,  15.9892,   1.9378,   1.0799, -13.6433, -16.1337,  16.5266,\n",
      "        -11.6194, -16.4241,  -7.1313, -14.3439, -10.1634, -16.5898])\n",
      "pitches_errors:tensor([ -7.8090,  -6.5321,   0.7579,  -5.6549,  -4.4315,  -6.3468,  -2.7218,\n",
      "         -3.9989, -10.4799,  -5.1639,  -4.7042,  -4.3579,  -5.3892,  -4.5638,\n",
      "         -1.5971,  -4.5765,  -5.0630,  -3.3517,  -4.3015,  -5.6732])\n",
      "yaws_errors:tensor([ 9.3420,  1.5915,  1.1694,  3.7415,  5.7316,  0.5133, -2.7958,  3.4698,\n",
      "        -1.1137,  3.7567, -3.9433, -5.1769, -9.7965,  9.8908, -3.6411, -9.2815,\n",
      "        -7.0444, -6.3259, -4.2081,  2.8510])\n",
      "CPU times: user 2min 42s, sys: 1min 6s, total: 3min 49s\n",
      "Wall time: 4min 2s\n"
     ]
    }
   ],
   "source": [
    "%%time\n",
    "# all_MAE = []\n",
    "# tosave={}\n",
    "lfolder = os.listdir(gazeMpiilabel_dir)\n",
    "lfolder.sort()  #individual label files\n",
    "testlabelpathcombined = [os.path.join(gazeMpiilabel_dir, j) for j in lfolder] \n",
    "print(testlabelpathcombined)\n",
    "model = model_used\n",
    "model= nn.DataParallel(model,device_ids=[0])  #important to load state dict\n",
    "# for cfold in range(15):  #checkpoint folds\n",
    "cfold=0\n",
    "\n",
    "\n",
    "cfoldstr = f\"fold{cfold:0>2}\"\n",
    "print(f\"cfold={cfoldstr}\")\n",
    "idx = cfold + 1\n",
    "b_epoch = best_epoch[idx]\n",
    "\n",
    "checkpoint_path = Path(snapshot_path)/cfoldstr\n",
    "best_checkpoint_file = 'epoch_'+str(b_epoch)+'.pkl'\n",
    "best_checkpoint_file = checkpoint_path/best_checkpoint_file\n",
    "#     print(best_checkpoint_file, type(best_checkpoint_file))\n",
    "checkpoint = torch.load(best_checkpoint_file)\n",
    "saved_state_dict = checkpoint['model_state_dict']\n",
    "model.load_state_dict(saved_state_dict)\n",
    "\n",
    "model.cuda(gpu)\n",
    "model.eval()\n",
    "idx_tensor = [idx for idx in range(35)]\n",
    "idx_tensor = torch.FloatTensor(idx_tensor).cuda(gpu)\n",
    "softmax = nn.Softmax(dim=1)\n",
    "best_model_maes =[]  # error for each data fold\n",
    "\n",
    "\n",
    "all_pitches=[]\n",
    "all_pitch_errors =[]\n",
    "all_yaws=[]\n",
    "all_yaw_errors =[]\n",
    "\n",
    "for dfold in range(15):  #data folds\n",
    "    gaze_dataset=datasets.Mpiigaze(testlabelpathcombined, gazeMpiimage_dir, transformations, False, angle, dfold)\n",
    "    test_loader = torch.utils.data.DataLoader(\n",
    "        dataset=gaze_dataset,\n",
    "        batch_size=batch_size,\n",
    "        shuffle=True,\n",
    "        num_workers=4,\n",
    "        pin_memory=True)\n",
    "    now = get_now()\n",
    "    configuration = f\"\\ntest configuration: gpu_id={gpu}, batch_size={batch_size}\\n\"\n",
    "    configuration += f\"model_arch={arch} Start testing dataset={data_set}\\n\"\n",
    "    configuration +=  f\"cFOLD={cfold} dFOLD={dfold}--{now}----\"\n",
    "    print(configuration)\n",
    "\n",
    "#     total = 0  \n",
    "#     avg_error = .0\n",
    "    with torch.no_grad():\n",
    "        for j, (images, labels, cont_labels, name) in enumerate(test_loader):\n",
    "            images = Variable(images).cuda(gpu)\n",
    "#             total += cont_labels.size(0)\n",
    "\n",
    "            label_pitch = cont_labels[:,1].float()*np.pi/180\n",
    "            label_yaw = cont_labels[:,0].float()*np.pi/180\n",
    "            label_yaw = label_yaw*(-1.0)\n",
    "\n",
    "            gaze_pitch, gaze_yaw = model(images)\n",
    "\n",
    "            # Binned predictions\n",
    "            _, pitch_bpred = torch.max(gaze_pitch.data, 1)\n",
    "            _, yaw_bpred = torch.max(gaze_yaw.data, 1)\n",
    "\n",
    "            # Continuous predictions\n",
    "            pitch_predicted = softmax(gaze_pitch)\n",
    "            yaw_predicted = softmax(gaze_yaw)\n",
    "\n",
    "            # mapping from binned (0 to 28) to angels (-42 to 42)                \n",
    "            pitch_predicted = \\\n",
    "                torch.sum(pitch_predicted * idx_tensor, 1).cpu() * 3 - 52\n",
    "            yaw_predicted = \\\n",
    "                torch.sum(yaw_predicted * idx_tensor, 1).cpu() * 3 - 52\n",
    "\n",
    "            label_yaw = label_yaw*180/np.pi\n",
    "            label_pitch = label_pitch*180/np.pi\n",
    "            \n",
    "#             pitch_predicted = pitch_predicted\n",
    "#             yaw_predicted = yaw_predicted\n",
    "            \n",
    "            pitch_errors = pitch_predicted - label_pitch\n",
    "            yaw_errors = yaw_predicted - label_yaw\n",
    "            \n",
    "            all_yaws.extend(label_yaw.numpy())\n",
    "            all_pitches.extend(label_pitch.numpy())\n",
    "            all_yaw_errors.extend(yaw_errors.numpy())\n",
    "            all_pitch_errors.extend(pitch_errors.numpy())\n",
    "            if j == 2:\n",
    "                print(f\"pitches:{label_pitch}\")\n",
    "                print(f\"yaws:{label_yaw}\")\n",
    "                print(f\"pitches_predicted:{pitch_predicted}\")\n",
    "                print(f\"yaws_predicted:{yaw_predicted}\")\n",
    "                print(f\"pitches_errors:{pitch_errors}\")\n",
    "                print(f\"yaws_errors:{yaw_errors}\")\n"
   ]
  },
  {
   "cell_type": "code",
   "execution_count": 10,
   "id": "8c552df3",
   "metadata": {},
   "outputs": [],
   "source": [
    "all_yaws = np.array(all_yaws)\n",
    "all_pitches = np.array(all_pitches)\n",
    "all_yaw_errors = np.array(all_yaw_errors)\n",
    "all_pitch_errors = np.array(all_pitch_errors)"
   ]
  },
  {
   "cell_type": "code",
   "execution_count": 11,
   "id": "b517786d",
   "metadata": {},
   "outputs": [],
   "source": [
    "# frun = wandb.init(project=\"54_best_smodel_all_rdata_sign_errors\")\n",
    "# frun.name = f'signed_errors_best_smodel_all_rdata'"
   ]
  },
  {
   "cell_type": "code",
   "execution_count": 12,
   "id": "8e9d51c3",
   "metadata": {},
   "outputs": [
    {
     "data": {
      "text/plain": [
       "(array([1.000e+00, 1.000e+00, 1.000e+00, 0.000e+00, 2.000e+00, 3.000e+00,\n",
       "        6.000e+00, 4.000e+00, 1.100e+01, 1.500e+01, 2.500e+01, 4.500e+01,\n",
       "        7.500e+01, 1.940e+02, 4.960e+02, 1.285e+03, 2.766e+03, 4.951e+03,\n",
       "        7.028e+03, 8.069e+03, 7.778e+03, 5.378e+03, 3.083e+03, 1.553e+03,\n",
       "        9.480e+02, 5.480e+02, 3.170e+02, 1.820e+02, 9.300e+01, 5.800e+01,\n",
       "        3.500e+01, 2.400e+01, 1.300e+01, 5.000e+00, 5.000e+00, 1.000e+00,\n",
       "        0.000e+00, 0.000e+00, 0.000e+00, 1.000e+00]),\n",
       " array([-41.88202  , -39.72514  , -37.56826  , -35.41138  , -33.2545   ,\n",
       "        -31.09762  , -28.94074  , -26.783861 , -24.62698  , -22.4701   ,\n",
       "        -20.313221 , -18.156342 , -15.999461 , -13.842582 , -11.685701 ,\n",
       "         -9.528822 ,  -7.371942 ,  -5.215062 ,  -3.0581825,  -0.9013027,\n",
       "          1.2555771,   3.412457 ,   5.569337 ,   7.7262163,   9.883097 ,\n",
       "         12.039976 ,  14.196856 ,  16.353735 ,  18.510616 ,  20.667496 ,\n",
       "         22.824375 ,  24.981255 ,  27.138134 ,  29.295015 ,  31.451895 ,\n",
       "         33.608772 ,  35.765656 ,  37.922535 ,  40.079414 ,  42.236294 ,\n",
       "         44.393173 ], dtype=float32),\n",
       " <BarContainer object of 40 artists>)"
      ]
     },
     "execution_count": 12,
     "metadata": {},
     "output_type": "execute_result"
    },
    {
     "data": {
      "image/png": "[encoded data removed]",
      "text/plain": [
       "<Figure size 432x288 with 1 Axes>"
      ]
     },
     "metadata": {
      "needs_background": "light"
     },
     "output_type": "display_data"
    }
   ],
   "source": [
    "plt.hist(all_yaw_errors, bins=40)"
   ]
  },
  {
   "cell_type": "code",
   "execution_count": 13,
   "id": "f8fc9690",
   "metadata": {},
   "outputs": [
    {
     "name": "stderr",
     "output_type": "stream",
     "text": [
      "\u001b[34m\u001b[1mwandb\u001b[0m: Currently logged in as: \u001b[33msynthesis-ai\u001b[0m (use `wandb login --relogin` to force relogin)\n"
     ]
    },
    {
     "data": {
      "text/html": [
       "wandb version 0.12.21 is available!  To upgrade, please run:\n",
       " $ pip install wandb --upgrade"
      ],
      "text/plain": [
       "<IPython.core.display.HTML object>"
      ]
     },
     "metadata": {},
     "output_type": "display_data"
    },
    {
     "data": {
      "text/html": [
       "Tracking run with wandb version 0.12.15"
      ],
      "text/plain": [
       "<IPython.core.display.HTML object>"
      ]
     },
     "metadata": {},
     "output_type": "display_data"
    },
    {
     "data": {
      "text/html": [
       "Run data is saved locally in <code>/project/notebooks/wandb/run-20220714_134054-37ljrpnq</code>"
      ],
      "text/plain": [
       "<IPython.core.display.HTML object>"
      ]
     },
     "metadata": {},
     "output_type": "display_data"
    },
    {
     "data": {
      "text/html": [
       "Syncing run <strong><a href=\"https://wandb.ai/synthesis-ai/64%20best%20smodel_sdata2%20all%20rdata%20signed%20errors/runs/37ljrpnq\" target=\"_blank\">firm-wildflower-5</a></strong> to <a href=\"https://wandb.ai/synthesis-ai/64%20best%20smodel_sdata2%20all%20rdata%20signed%20errors\" target=\"_blank\">Weights & Biases</a> (<a href=\"https://wandb.me/run\" target=\"_blank\">docs</a>)<br/>"
      ],
      "text/plain": [
       "<IPython.core.display.HTML object>"
      ]
     },
     "metadata": {},
     "output_type": "display_data"
    },
    {
     "data": {
      "text/html": [
       "Waiting for W&B process to finish... <strong style=\"color:green\">(success).</strong>"
      ],
      "text/plain": [
       "<IPython.core.display.HTML object>"
      ]
     },
     "metadata": {},
     "output_type": "display_data"
    },
    {
     "data": {
      "application/vnd.jupyter.widget-view+json": {
       "model_id": "",
       "version_major": 2,
       "version_minor": 0
      },
      "text/plain": [
       "VBox(children=(Label(value='0.001 MB of 0.009 MB uploaded (0.000 MB deduped)\\r'), FloatProgress(value=0.071635…"
      ]
     },
     "metadata": {},
     "output_type": "display_data"
    },
    {
     "data": {
      "text/html": [
       "Synced <strong style=\"color:#cdcd00\">firm-wildflower-5</strong>: <a href=\"https://wandb.ai/synthesis-ai/64%20best%20smodel_sdata2%20all%20rdata%20signed%20errors/runs/37ljrpnq\" target=\"_blank\">https://wandb.ai/synthesis-ai/64%20best%20smodel_sdata2%20all%20rdata%20signed%20errors/runs/37ljrpnq</a><br/>Synced 4 W&B file(s), 1 media file(s), 0 artifact file(s) and 0 other file(s)"
      ],
      "text/plain": [
       "<IPython.core.display.HTML object>"
      ]
     },
     "metadata": {},
     "output_type": "display_data"
    },
    {
     "data": {
      "text/html": [
       "Find logs at: <code>./wandb/run-20220714_134054-37ljrpnq/logs</code>"
      ],
      "text/plain": [
       "<IPython.core.display.HTML object>"
      ]
     },
     "metadata": {},
     "output_type": "display_data"
    },
    {
     "data": {
      "image/png": "[encoded data removed]",
      "text/plain": [
       "<Figure size 432x288 with 1 Axes>"
      ]
     },
     "metadata": {
      "needs_background": "light"
     },
     "output_type": "display_data"
    }
   ],
   "source": [
    "with wandb.init(project=\"64 best smodel_sdata2 all rdata signed errors\") as run:\n",
    "    plt.hist(all_yaw_errors, bins=40)\n",
    "    plt.title(\"signed yaw error distribution: best syn model all_real data\")\n",
    "    plt.xlabel(\"degree\")\n",
    "    run.log({\"data\":wandb.Image(plt)})"
   ]
  },
  {
   "cell_type": "code",
   "execution_count": 14,
   "id": "c77b66ea",
   "metadata": {},
   "outputs": [
    {
     "data": {
      "text/html": [
       "wandb version 0.12.21 is available!  To upgrade, please run:\n",
       " $ pip install wandb --upgrade"
      ],
      "text/plain": [
       "<IPython.core.display.HTML object>"
      ]
     },
     "metadata": {},
     "output_type": "display_data"
    },
    {
     "data": {
      "text/html": [
       "Tracking run with wandb version 0.12.15"
      ],
      "text/plain": [
       "<IPython.core.display.HTML object>"
      ]
     },
     "metadata": {},
     "output_type": "display_data"
    },
    {
     "data": {
      "text/html": [
       "Run data is saved locally in <code>/project/notebooks/wandb/run-20220714_134101-jcvhq17n</code>"
      ],
      "text/plain": [
       "<IPython.core.display.HTML object>"
      ]
     },
     "metadata": {},
     "output_type": "display_data"
    },
    {
     "data": {
      "text/html": [
       "Syncing run <strong><a href=\"https://wandb.ai/synthesis-ai/64%20best%20smodel_sdata2%20all%20rdata%20signed%20errors/runs/jcvhq17n\" target=\"_blank\">vital-smoke-6</a></strong> to <a href=\"https://wandb.ai/synthesis-ai/64%20best%20smodel_sdata2%20all%20rdata%20signed%20errors\" target=\"_blank\">Weights & Biases</a> (<a href=\"https://wandb.me/run\" target=\"_blank\">docs</a>)<br/>"
      ],
      "text/plain": [
       "<IPython.core.display.HTML object>"
      ]
     },
     "metadata": {},
     "output_type": "display_data"
    },
    {
     "data": {
      "text/html": [
       "Waiting for W&B process to finish... <strong style=\"color:green\">(success).</strong>"
      ],
      "text/plain": [
       "<IPython.core.display.HTML object>"
      ]
     },
     "metadata": {},
     "output_type": "display_data"
    },
    {
     "data": {
      "application/vnd.jupyter.widget-view+json": {
       "model_id": "",
       "version_major": 2,
       "version_minor": 0
      },
      "text/plain": [
       "VBox(children=(Label(value='0.008 MB of 0.008 MB uploaded (0.000 MB deduped)\\r'), FloatProgress(value=1.0, max…"
      ]
     },
     "metadata": {},
     "output_type": "display_data"
    },
    {
     "data": {
      "text/html": [
       "Synced <strong style=\"color:#cdcd00\">vital-smoke-6</strong>: <a href=\"https://wandb.ai/synthesis-ai/64%20best%20smodel_sdata2%20all%20rdata%20signed%20errors/runs/jcvhq17n\" target=\"_blank\">https://wandb.ai/synthesis-ai/64%20best%20smodel_sdata2%20all%20rdata%20signed%20errors/runs/jcvhq17n</a><br/>Synced 4 W&B file(s), 1 media file(s), 0 artifact file(s) and 0 other file(s)"
      ],
      "text/plain": [
       "<IPython.core.display.HTML object>"
      ]
     },
     "metadata": {},
     "output_type": "display_data"
    },
    {
     "data": {
      "text/html": [
       "Find logs at: <code>./wandb/run-20220714_134101-jcvhq17n/logs</code>"
      ],
      "text/plain": [
       "<IPython.core.display.HTML object>"
      ]
     },
     "metadata": {},
     "output_type": "display_data"
    },
    {
     "data": {
      "image/png": "[encoded data removed]",
      "text/plain": [
       "<Figure size 432x288 with 1 Axes>"
      ]
     },
     "metadata": {
      "needs_background": "light"
     },
     "output_type": "display_data"
    }
   ],
   "source": [
    "with wandb.init(project=\"64 best smodel_sdata2 all rdata signed errors\") as run:\n",
    "    plt.hist(all_pitch_errors, bins=40)\n",
    "    plt.title(\"signed pitch error distribution: best syn model all_real data\")\n",
    "    plt.xlabel(\"degree\")\n",
    "    run.log({\"data\":wandb.Image(plt)})"
   ]
  },
  {
   "cell_type": "code",
   "execution_count": null,
   "id": "327971ee",
   "metadata": {},
   "outputs": [],
   "source": []
  },
  {
   "cell_type": "code",
   "execution_count": 15,
   "id": "97818f5b",
   "metadata": {},
   "outputs": [
    {
     "data": {
      "text/html": [
       "wandb version 0.12.21 is available!  To upgrade, please run:\n",
       " $ pip install wandb --upgrade"
      ],
      "text/plain": [
       "<IPython.core.display.HTML object>"
      ]
     },
     "metadata": {},
     "output_type": "display_data"
    },
    {
     "data": {
      "text/html": [
       "Tracking run with wandb version 0.12.15"
      ],
      "text/plain": [
       "<IPython.core.display.HTML object>"
      ]
     },
     "metadata": {},
     "output_type": "display_data"
    },
    {
     "data": {
      "text/html": [
       "Run data is saved locally in <code>/project/notebooks/wandb/run-20220714_134108-nfjf154t</code>"
      ],
      "text/plain": [
       "<IPython.core.display.HTML object>"
      ]
     },
     "metadata": {},
     "output_type": "display_data"
    },
    {
     "data": {
      "text/html": [
       "Syncing run <strong><a href=\"https://wandb.ai/synthesis-ai/64%20best%20smodel_sdata2%20all%20rdata%20signed%20errors/runs/nfjf154t\" target=\"_blank\">worldly-resonance-7</a></strong> to <a href=\"https://wandb.ai/synthesis-ai/64%20best%20smodel_sdata2%20all%20rdata%20signed%20errors\" target=\"_blank\">Weights & Biases</a> (<a href=\"https://wandb.me/run\" target=\"_blank\">docs</a>)<br/>"
      ],
      "text/plain": [
       "<IPython.core.display.HTML object>"
      ]
     },
     "metadata": {},
     "output_type": "display_data"
    },
    {
     "data": {
      "text/html": [
       "Waiting for W&B process to finish... <strong style=\"color:green\">(success).</strong>"
      ],
      "text/plain": [
       "<IPython.core.display.HTML object>"
      ]
     },
     "metadata": {},
     "output_type": "display_data"
    },
    {
     "data": {
      "application/vnd.jupyter.widget-view+json": {
       "model_id": "",
       "version_major": 2,
       "version_minor": 0
      },
      "text/plain": [
       "VBox(children=(Label(value='1.798 MB of 2.198 MB uploaded (0.000 MB deduped)\\r'), FloatProgress(value=0.818006…"
      ]
     },
     "metadata": {},
     "output_type": "display_data"
    },
    {
     "data": {
      "text/html": [
       "Synced <strong style=\"color:#cdcd00\">worldly-resonance-7</strong>: <a href=\"https://wandb.ai/synthesis-ai/64%20best%20smodel_sdata2%20all%20rdata%20signed%20errors/runs/nfjf154t\" target=\"_blank\">https://wandb.ai/synthesis-ai/64%20best%20smodel_sdata2%20all%20rdata%20signed%20errors/runs/nfjf154t</a><br/>Synced 4 W&B file(s), 1 media file(s), 1 artifact file(s) and 0 other file(s)"
      ],
      "text/plain": [
       "<IPython.core.display.HTML object>"
      ]
     },
     "metadata": {},
     "output_type": "display_data"
    },
    {
     "data": {
      "text/html": [
       "Find logs at: <code>./wandb/run-20220714_134108-nfjf154t/logs</code>"
      ],
      "text/plain": [
       "<IPython.core.display.HTML object>"
      ]
     },
     "metadata": {},
     "output_type": "display_data"
    }
   ],
   "source": [
    "with wandb.init(project=\"64 best smodel_sdata2 all rdata signed errors\") as run:\n",
    "    data = [[x, y] for (x, y) in zip(all_yaws, all_yaw_errors)]\n",
    "    table = wandb.Table(data=data, columns = [\"truth_degree\", \"error_degree\"])\n",
    "    wandb.log({\"yaw_error_scatter\" : wandb.plot.scatter(table, \"truth_degree\", \"error_degree\", title=\"yaw error vs ground truth\")})\n"
   ]
  },
  {
   "cell_type": "code",
   "execution_count": 16,
   "id": "ae39ea4d",
   "metadata": {},
   "outputs": [
    {
     "data": {
      "text/html": [
       "wandb version 0.12.21 is available!  To upgrade, please run:\n",
       " $ pip install wandb --upgrade"
      ],
      "text/plain": [
       "<IPython.core.display.HTML object>"
      ]
     },
     "metadata": {},
     "output_type": "display_data"
    },
    {
     "data": {
      "text/html": [
       "Tracking run with wandb version 0.12.15"
      ],
      "text/plain": [
       "<IPython.core.display.HTML object>"
      ]
     },
     "metadata": {},
     "output_type": "display_data"
    },
    {
     "data": {
      "text/html": [
       "Run data is saved locally in <code>/project/notebooks/wandb/run-20220714_134119-1zu7oe5m</code>"
      ],
      "text/plain": [
       "<IPython.core.display.HTML object>"
      ]
     },
     "metadata": {},
     "output_type": "display_data"
    },
    {
     "data": {
      "text/html": [
       "Syncing run <strong><a href=\"https://wandb.ai/synthesis-ai/64%20best%20smodel_sdata2%20all%20rdata%20signed%20errors/runs/1zu7oe5m\" target=\"_blank\">deep-dawn-8</a></strong> to <a href=\"https://wandb.ai/synthesis-ai/64%20best%20smodel_sdata2%20all%20rdata%20signed%20errors\" target=\"_blank\">Weights & Biases</a> (<a href=\"https://wandb.me/run\" target=\"_blank\">docs</a>)<br/>"
      ],
      "text/plain": [
       "<IPython.core.display.HTML object>"
      ]
     },
     "metadata": {},
     "output_type": "display_data"
    },
    {
     "data": {
      "text/html": [
       "Waiting for W&B process to finish... <strong style=\"color:green\">(success).</strong>"
      ],
      "text/plain": [
       "<IPython.core.display.HTML object>"
      ]
     },
     "metadata": {},
     "output_type": "display_data"
    },
    {
     "data": {
      "application/vnd.jupyter.widget-view+json": {
       "model_id": "",
       "version_major": 2,
       "version_minor": 0
      },
      "text/plain": [
       "VBox(children=(Label(value='1.816 MB of 2.219 MB uploaded (0.000 MB deduped)\\r'), FloatProgress(value=0.818220…"
      ]
     },
     "metadata": {},
     "output_type": "display_data"
    },
    {
     "data": {
      "text/html": [
       "Synced <strong style=\"color:#cdcd00\">deep-dawn-8</strong>: <a href=\"https://wandb.ai/synthesis-ai/64%20best%20smodel_sdata2%20all%20rdata%20signed%20errors/runs/1zu7oe5m\" target=\"_blank\">https://wandb.ai/synthesis-ai/64%20best%20smodel_sdata2%20all%20rdata%20signed%20errors/runs/1zu7oe5m</a><br/>Synced 4 W&B file(s), 1 media file(s), 1 artifact file(s) and 0 other file(s)"
      ],
      "text/plain": [
       "<IPython.core.display.HTML object>"
      ]
     },
     "metadata": {},
     "output_type": "display_data"
    },
    {
     "data": {
      "text/html": [
       "Find logs at: <code>./wandb/run-20220714_134119-1zu7oe5m/logs</code>"
      ],
      "text/plain": [
       "<IPython.core.display.HTML object>"
      ]
     },
     "metadata": {},
     "output_type": "display_data"
    }
   ],
   "source": [
    "with wandb.init(project=\"64 best smodel_sdata2 all rdata signed errors\") as run:\n",
    "    data = [[x, y] for (x, y) in zip(all_pitches, all_pitch_errors)]\n",
    "    table = wandb.Table(data=data, columns = [\"truth_degree\", \"error_degree\"])\n",
    "    wandb.log({\"pitch_error_scatter\" : wandb.plot.scatter(table, \"truth_degree\", \"error_degree\", title=\"pitch error vs ground truth\")})\n"
   ]
  }
 ],
 "metadata": {
  "kernelspec": {
   "display_name": "Python 3 (ipykernel)",
   "language": "python",
   "name": "python3"
  },
  "language_info": {
   "codemirror_mode": {
    "name": "ipython",
    "version": 3
   },
   "file_extension": ".py",
   "mimetype": "text/x-python",
   "name": "python",
   "nbconvert_exporter": "python",
   "pygments_lexer": "ipython3",
   "version": "3.8.10"
  }
 },
 "nbformat": 4,
 "nbformat_minor": 5
}
