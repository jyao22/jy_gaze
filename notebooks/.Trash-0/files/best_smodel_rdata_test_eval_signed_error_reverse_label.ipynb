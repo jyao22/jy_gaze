{
 "cells": [
  {
   "cell_type": "code",
   "execution_count": 1,
   "id": "662efc9c",
   "metadata": {},
   "outputs": [],
   "source": [
    "import os, argparse\n",
    "import numpy as np\n",
    "import matplotlib.pyplot as plt\n",
    "from datetime import datetime\n",
    "from pytz import timezone\n",
    "import torch\n",
    "import torch.nn as nn\n",
    "from torch.autograd import Variable\n",
    "from torch.utils.data import DataLoader\n",
    "from torchvision import transforms\n",
    "import torch.backends.cudnn as cudnn\n",
    "import torchvision\n",
    "import wandb\n",
    "\n",
    "import datasets\n",
    "# from utils import select_device, natural_keys, gazeto3d, angular, getArch\n",
    "from utils import select_device, natural_keys, gazeto3d, angular, getArch\n",
    "from model import L2CS"
   ]
  },
  {
   "cell_type": "code",
   "execution_count": 2,
   "id": "abd3bfac",
   "metadata": {},
   "outputs": [
    {
     "name": "stdout",
     "output_type": "stream",
     "text": [
      "61 61 61 61 61 61 61 61 61 61 61 61 61 61 61 "
     ]
    }
   ],
   "source": [
    "# check if we have the correct number of checkpoint files \n",
    "ppath ='/project/results/output/snapshots/' \n",
    "for fold in range(15):\n",
    "    foldstr = f\"fold{fold:0>2}\"\n",
    "    cpath =os.path.join(ppath, foldstr)\n",
    "    files = os.listdir(cpath)\n",
    "    print(len(files), end=\" \")"
   ]
  },
  {
   "cell_type": "code",
   "execution_count": 3,
   "id": "f1b3b505",
   "metadata": {},
   "outputs": [],
   "source": [
    "def parse_args():\n",
    "    \"\"\"Parse input arguments.\"\"\"\n",
    "    parser = argparse.ArgumentParser(\n",
    "        description='Gaze estimation using L2CSNet .')\n",
    "     # Gaze360\n",
    "    parser.add_argument(\n",
    "        '--gaze360image_dir', dest='gaze360image_dir', help='Directory path for gaze images.',\n",
    "        default='datasets/Gaze360/Image', type=str)\n",
    "    parser.add_argument(\n",
    "        '--gaze360label_dir', dest='gaze360label_dir', help='Directory path for gaze labels.',\n",
    "        default='datasets/Gaze360/Label/test.label', type=str)\n",
    "    # mpiigaze\n",
    "    parser.add_argument(\n",
    "        '--gazeMpiimage_dir', dest='gazeMpiimage_dir', help='Directory path for gaze images.',\n",
    "        default='datasets/MPIIFaceGaze/Image', type=str)\n",
    "    parser.add_argument(\n",
    "        '--gazeMpiilabel_dir', dest='gazeMpiilabel_dir', help='Directory path for gaze labels.',\n",
    "        default='datasets/MPIIFaceGaze/Label', type=str)\n",
    "    # Important args -------------------------------------------------------------------------------------------------------\n",
    "    # ----------------------------------------------------------------------------------------------------------------------\n",
    "    parser.add_argument(\n",
    "        '--dataset', dest='dataset', help='gaze360, mpiigaze',\n",
    "        default= \"gaze360\", type=str)\n",
    "    parser.add_argument(\n",
    "        '--snapshot', dest='snapshot', help='Path to the folder contains models.', \n",
    "        default='output/snapshots/L2CS-gaze360-_loader-180-4-lr', type=str)\n",
    "    parser.add_argument(\n",
    "        '--evalpath', dest='evalpath', help='path for the output evaluating gaze test.',\n",
    "        default=\"evaluation/L2CS-gaze360-_loader-180-4-lr\", type=str)\n",
    "    parser.add_argument(\n",
    "        '--gpu',dest='gpu_id', help='GPU device id to use [0]',\n",
    "        default=\"0\", type=str)\n",
    "    parser.add_argument(\n",
    "        '--batch_size', dest='batch_size', help='Batch size.',\n",
    "        default=100, type=int)\n",
    "    parser.add_argument(\n",
    "        '--arch', dest='arch', help='Network architecture, can be: ResNet18, ResNet34, [ResNet50], ''ResNet101, ResNet152, Squeezenet_1_0, Squeezenet_1_1, MobileNetV2',\n",
    "        default='ResNet50', type=str)\n",
    "    # ---------------------------------------------------------------------------------------------------------------------\n",
    "    # Important args ------------------------------------------------------------------------------------------------------\n",
    "    args = parser.parse_args()\n",
    "    return args"
   ]
  },
  {
   "cell_type": "code",
   "execution_count": 4,
   "id": "ed29c578",
   "metadata": {},
   "outputs": [],
   "source": [
    "class Nothing:\n",
    "    pass\n",
    "args = Nothing()\n",
    "args.gazeMpiimage_dir = '/project/data/Image'  # syn data \n",
    "args.gazeMpiilabel_dir = '/project/data/Label'  # syn label\n",
    "args.output = '/project/results/soutput/snapshots/'  # real model\n",
    "args.dataset = 'mpiigaze'\n",
    "args.snapshot='/project/results/soutput/snapshots/'  # real data model\n",
    "args.evalpath = '/project/results/rsoutput/evaluation/'\n",
    "args.gpu_id = '0,1,2,3'\n",
    "args.gpu_id = '0'\n",
    "args.batch_size = 20\n",
    "args.arch = 'ResNet50'\n",
    "args.bins=28\n",
    "args.angle = 180\n",
    "args.bin_width = 4\n"
   ]
  },
  {
   "cell_type": "code",
   "execution_count": 5,
   "id": "d0e11321",
   "metadata": {},
   "outputs": [],
   "source": [
    "batch_size=args.batch_size\n",
    "arch=args.arch\n",
    "data_set=args.dataset\n",
    "evalpath =args.evalpath\n",
    "snapshot_path = args.snapshot\n",
    "bins=args.bins\n",
    "angle=args.angle\n",
    "bin_width=args.bin_width"
   ]
  },
  {
   "cell_type": "code",
   "execution_count": 6,
   "id": "ee43ec23",
   "metadata": {},
   "outputs": [
    {
     "name": "stdout",
     "output_type": "stream",
     "text": [
      "README\tdaoutput  output  rsoutput  soutput  sroutput\r\n"
     ]
    }
   ],
   "source": [
    "!ls ../results"
   ]
  },
  {
   "cell_type": "code",
   "execution_count": 7,
   "id": "0504fda4",
   "metadata": {},
   "outputs": [],
   "source": [
    "# args = parse_args()\n",
    "cudnn.enabled = True\n",
    "gpu = select_device(args.gpu_id, batch_size=args.batch_size)\n",
    "transformations = transforms.Compose([\n",
    "    transforms.Resize(448),\n",
    "    transforms.ToTensor(),\n",
    "    transforms.Normalize(\n",
    "        mean=[0.485, 0.456, 0.406],\n",
    "        std=[0.229, 0.224, 0.225]\n",
    "    )\n",
    "])\n",
    "\n",
    "model_used=getArch(arch, bins)  #resnet50 and 28 bins"
   ]
  },
  {
   "cell_type": "code",
   "execution_count": 8,
   "id": "238ef93e",
   "metadata": {},
   "outputs": [],
   "source": [
    "# fold=2\n",
    "# folder = os.listdir(os.path.join(snapshot_path, \"fold\" + f'{fold:0>2}'))\n",
    "# folder.sort(key=natural_keys)\n",
    "# folder.pop(-1)  #remove the tensorboard file\n",
    "# # print(folder)\n",
    "# epochs = folder[3]\n",
    "# os.path.join(snapshot_path+\"fold\"+f'{fold:0>2}', epochs)"
   ]
  },
  {
   "cell_type": "code",
   "execution_count": 9,
   "id": "12438eb5",
   "metadata": {},
   "outputs": [],
   "source": [
    "# print(evalpath, snapshot_path)"
   ]
  },
  {
   "cell_type": "code",
   "execution_count": 10,
   "id": "6d9f4709",
   "metadata": {},
   "outputs": [],
   "source": [
    "# print(data_set)"
   ]
  },
  {
   "cell_type": "code",
   "execution_count": 11,
   "id": "c7434f02",
   "metadata": {
    "scrolled": false
   },
   "outputs": [
    {
     "name": "stdout",
     "output_type": "stream",
     "text": [
      "fold=0\n",
      "/project/data/Label\n",
      "0 items removed from dataset that have an angle > 180\n",
      "\n",
      "test configuration equal gpu_id=cuda:0, batch_size=20, model_arch=ResNet50\n",
      "Start testing dataset=mpiigaze, FOLD=0 --06/17/2022 15:08:13---------\n",
      "epochs=epoch_39.pkl\n",
      "fold=1\n",
      "/project/data/Label\n",
      "0 items removed from dataset that have an angle > 180\n",
      "\n",
      "test configuration equal gpu_id=cuda:0, batch_size=20, model_arch=ResNet50\n",
      "Start testing dataset=mpiigaze, FOLD=1 --06/17/2022 15:08:31---------\n",
      "epochs=epoch_39.pkl\n",
      "fold=2\n",
      "/project/data/Label\n",
      "0 items removed from dataset that have an angle > 180\n",
      "\n",
      "test configuration equal gpu_id=cuda:0, batch_size=20, model_arch=ResNet50\n",
      "Start testing dataset=mpiigaze, FOLD=2 --06/17/2022 15:08:43---------\n",
      "epochs=epoch_39.pkl\n",
      "fold=3\n",
      "/project/data/Label\n",
      "0 items removed from dataset that have an angle > 180\n",
      "\n",
      "test configuration equal gpu_id=cuda:0, batch_size=20, model_arch=ResNet50\n",
      "Start testing dataset=mpiigaze, FOLD=3 --06/17/2022 15:08:55---------\n",
      "epochs=epoch_39.pkl\n",
      "fold=4\n",
      "/project/data/Label\n",
      "0 items removed from dataset that have an angle > 180\n",
      "\n",
      "test configuration equal gpu_id=cuda:0, batch_size=20, model_arch=ResNet50\n",
      "Start testing dataset=mpiigaze, FOLD=4 --06/17/2022 15:09:07---------\n",
      "epochs=epoch_39.pkl\n",
      "fold=5\n",
      "/project/data/Label\n",
      "0 items removed from dataset that have an angle > 180\n",
      "\n",
      "test configuration equal gpu_id=cuda:0, batch_size=20, model_arch=ResNet50\n",
      "Start testing dataset=mpiigaze, FOLD=5 --06/17/2022 15:09:20---------\n",
      "epochs=epoch_39.pkl\n",
      "fold=6\n",
      "/project/data/Label\n",
      "0 items removed from dataset that have an angle > 180\n",
      "\n",
      "test configuration equal gpu_id=cuda:0, batch_size=20, model_arch=ResNet50\n",
      "Start testing dataset=mpiigaze, FOLD=6 --06/17/2022 15:09:32---------\n",
      "epochs=epoch_39.pkl\n",
      "fold=7\n",
      "/project/data/Label\n",
      "0 items removed from dataset that have an angle > 180\n",
      "\n",
      "test configuration equal gpu_id=cuda:0, batch_size=20, model_arch=ResNet50\n",
      "Start testing dataset=mpiigaze, FOLD=7 --06/17/2022 15:09:44---------\n",
      "epochs=epoch_39.pkl\n",
      "fold=8\n",
      "/project/data/Label\n",
      "0 items removed from dataset that have an angle > 180\n",
      "\n",
      "test configuration equal gpu_id=cuda:0, batch_size=20, model_arch=ResNet50\n",
      "Start testing dataset=mpiigaze, FOLD=8 --06/17/2022 15:09:56---------\n",
      "epochs=epoch_39.pkl\n",
      "fold=9\n",
      "/project/data/Label\n",
      "0 items removed from dataset that have an angle > 180\n",
      "\n",
      "test configuration equal gpu_id=cuda:0, batch_size=20, model_arch=ResNet50\n",
      "Start testing dataset=mpiigaze, FOLD=9 --06/17/2022 15:10:09---------\n",
      "epochs=epoch_39.pkl\n",
      "fold=10\n",
      "/project/data/Label\n",
      "0 items removed from dataset that have an angle > 180\n",
      "\n",
      "test configuration equal gpu_id=cuda:0, batch_size=20, model_arch=ResNet50\n",
      "Start testing dataset=mpiigaze, FOLD=10 --06/17/2022 15:10:21---------\n",
      "epochs=epoch_39.pkl\n",
      "fold=11\n",
      "/project/data/Label\n",
      "0 items removed from dataset that have an angle > 180\n",
      "\n",
      "test configuration equal gpu_id=cuda:0, batch_size=20, model_arch=ResNet50\n",
      "Start testing dataset=mpiigaze, FOLD=11 --06/17/2022 15:10:33---------\n",
      "epochs=epoch_39.pkl\n",
      "fold=12\n",
      "/project/data/Label\n",
      "0 items removed from dataset that have an angle > 180\n",
      "\n",
      "test configuration equal gpu_id=cuda:0, batch_size=20, model_arch=ResNet50\n",
      "Start testing dataset=mpiigaze, FOLD=12 --06/17/2022 15:10:45---------\n",
      "epochs=epoch_39.pkl\n",
      "fold=13\n",
      "/project/data/Label\n",
      "0 items removed from dataset that have an angle > 180\n",
      "\n",
      "test configuration equal gpu_id=cuda:0, batch_size=20, model_arch=ResNet50\n",
      "Start testing dataset=mpiigaze, FOLD=13 --06/17/2022 15:10:57---------\n",
      "epochs=epoch_39.pkl\n",
      "fold=14\n",
      "/project/data/Label\n",
      "0 items removed from dataset that have an angle > 180\n",
      "\n",
      "test configuration equal gpu_id=cuda:0, batch_size=20, model_arch=ResNet50\n",
      "Start testing dataset=mpiigaze, FOLD=14 --06/17/2022 15:11:09---------\n",
      "epochs=epoch_39.pkl\n",
      "CPU times: user 2min 46s, sys: 1min 8s, total: 3min 55s\n",
      "Wall time: 3min 8s\n"
     ]
    }
   ],
   "source": [
    "%%time\n",
    "\n",
    "pitch_errs = {}\n",
    "yaw_errs = {}\n",
    "\n",
    "for fold in range(15):\n",
    "    print(f\"fold={fold}\")\n",
    "    \n",
    "    now = datetime.utcnow()\n",
    "    now = now.astimezone(timezone('US/Pacific'))\n",
    "    date_format='%m/%d/%Y %H:%M:%S'\n",
    "    now = now.strftime(date_format)\n",
    "    \n",
    "    print(args.gazeMpiilabel_dir)\n",
    "    folder = os.listdir(args.gazeMpiilabel_dir)\n",
    "    folder.sort()  #individual label files\n",
    "    testlabelpathcombined = [os.path.join(args.gazeMpiilabel_dir, j) for j in folder] \n",
    "#     print(testlabelpathcombined)\n",
    "#     print(args.gazeMpiimage_dir)\n",
    "    gaze_dataset=datasets.Mpiigaze(testlabelpathcombined, args.gazeMpiimage_dir, transformations, False, angle, fold)\n",
    "\n",
    "    test_loader = torch.utils.data.DataLoader(\n",
    "        dataset=gaze_dataset,\n",
    "        batch_size=batch_size,\n",
    "        shuffle=False,\n",
    "        num_workers=4,\n",
    "        pin_memory=True)\n",
    "\n",
    "    fold_path = os.path.join(evalpath, 'fold' + f'{fold:0>2}'+'/')  #for evaluation\n",
    "#     print(f\"fold_path is {fold_path}\")\n",
    "#     if not os.path.exists(fold_path):\n",
    "#         os.makedirs(fold_path)\n",
    "\n",
    "#     if not os.path.exists(os.path.join(evalpath, f\"fold\"+str(fold))):\n",
    "#         os.makedirs(os.path.join(evalpath, f\"fold\"+str(fold)))\n",
    "\n",
    "    # list all epochs for testing\n",
    "    folder = os.listdir(os.path.join(snapshot_path, \"fold\" + f'{fold:0>2}'))\n",
    "    folder.sort(key=natural_keys)\n",
    "    folder.pop(-1)  #remove the tensorboard file, now all snapshot files\n",
    "#     print(f\"folder={folder}\")  #contains all the checkpoint files\n",
    "                    \n",
    "\n",
    "    softmax = nn.Softmax(dim=1)\n",
    "#     with open(os.path.join(evalpath, os.path.join(\"fold\"+f'{fold:0>2}', data_set+\".log\")), 'w') as outfile:\n",
    "        \n",
    "    configuration = (f\"\\ntest configuration equal gpu_id={gpu}, batch_size={batch_size}, model_arch={arch}\\n\"\n",
    "                     f\"Start testing dataset={data_set}, FOLD={fold} --{now}---------\")\n",
    "    print(configuration)\n",
    "\n",
    "#     outfile.write(configuration)\n",
    "    epoch_list=[]\n",
    "    avg_MAE=[]\n",
    "    for epochs in folder: \n",
    "        x = ''.join(filter(lambda i: i.isdigit(), epochs))\n",
    "        x = int(x)\n",
    "        if x != 39:\n",
    "            continue\n",
    "#         print(f\"epochs={epochs}\")\n",
    "        model=model_used\n",
    "        checkpoint = torch.load(os.path.join(snapshot_path+\"fold\"+f'{fold:0>2}', epochs))\n",
    "#         print(f\"checkpoint={checkpoint}\")\n",
    "        saved_state_dict = checkpoint['model_state_dict']\n",
    "        model= nn.DataParallel(model,device_ids=[0])\n",
    "        model.load_state_dict(saved_state_dict)\n",
    "        model.cuda(gpu)\n",
    "        model.eval()\n",
    "        total = 0\n",
    "        idx_tensor = [idx for idx in range(28)]\n",
    "        idx_tensor = torch.FloatTensor(idx_tensor).cuda(gpu)\n",
    "        avg_error = .0\n",
    "        \n",
    "        print(f\"epochs={epochs}\")\n",
    "        \n",
    "        with torch.no_grad():\n",
    "            for j, (images, labels, cont_labels, name) in enumerate(test_loader):\n",
    "#                 print(f\"name={name}\")\n",
    "                images = Variable(images).cuda(gpu)\n",
    "                total += cont_labels.size(0)\n",
    "\n",
    "                label_pitch = cont_labels[:,0].float()*np.pi/180\n",
    "                label_yaw = cont_labels[:,1].float()*np.pi/180\n",
    "\n",
    "                gaze_pitch, gaze_yaw = model(images)\n",
    "\n",
    "                # Binned predictions\n",
    "                _, pitch_bpred = torch.max(gaze_pitch.data, 1)\n",
    "                _, yaw_bpred = torch.max(gaze_yaw.data, 1)\n",
    "\n",
    "                # Continuous predictions\n",
    "                pitch_predicted = softmax(gaze_pitch)\n",
    "                yaw_predicted = softmax(gaze_yaw)\n",
    "\n",
    "                # mapping from binned (0 to 28) to angels (-42 to 42)                \n",
    "                pitch_predicted = \\\n",
    "                    torch.sum(pitch_predicted * idx_tensor, 1).cpu() * 3 - 42\n",
    "                yaw_predicted = \\\n",
    "                    torch.sum(yaw_predicted * idx_tensor, 1).cpu() * 3 - 42\n",
    "\n",
    "                pitch_predicted = pitch_predicted*np.pi/180\n",
    "                yaw_predicted = yaw_predicted*np.pi/180\n",
    "\n",
    "#                 print(f\"name={name}\")\n",
    "#                 pitch_errors = []\n",
    "#                 yaw_errors = []\n",
    "#                 print(\"label_picthc\", len(label_pitch), type(label_pitch), label_pitch)\n",
    "#                 print(\"pitch_predicted\", len(pitch_predicted), type(pitch_predicted), pitch_predicted)\n",
    "#                 print(\"names\", len(name), type(name), name)\n",
    "                \n",
    "                pitch_errors = (pitch_predicted - label_yaw)*180/np.pi\n",
    "                tdict = dict(zip(name, pitch_errors))\n",
    "                pitch_errs.update(tdict)\n",
    "                \n",
    "                yaw_errors = (yaw_predicted - label_pitch)*180/np.pi\n",
    "                tdict = dict(zip(name, yaw_errors))\n",
    "                yaw_errs.update(tdict)\n",
    "                \n",
    "                \n",
    "#                 print(\"pitch_errors\", len(pitch_errors), type(pitch_errors), pitch_errors)\n",
    "                \n",
    "#                 for idx, (p,y,pl,yl) in enumerate(zip(pitch_predicted, yaw_predicted, label_pitch, label_yaw)):\n",
    "#                     angular_error = angular(gazeto3d([p,y]), gazeto3d([pl,yl]))\n",
    "# #                         print(f\"type OF angular error {type(angular_error)}\")\n",
    "# #                     print(f\"angular error={angular_error}\")\n",
    "#                     avg_error += angular_error\n",
    "#                     angular_error = angular_error.item()  #numpy float to float\n",
    "#                     errors.append(angular_error)\n",
    "#                 tdict = dict(zip(name, errors))\n",
    "#                 ims_errs.update(tdict)\n",
    "#         epoch_list.append(x)"
   ]
  },
  {
   "cell_type": "code",
   "execution_count": 12,
   "id": "065622ef",
   "metadata": {},
   "outputs": [],
   "source": [
    "pitch_errs = dict(sorted(pitch_errs.items(), key=lambda item: item[1], reverse=True))\n",
    "yaw_errs = dict(sorted(yaw_errs.items(), key=lambda item: item[1], reverse=True))"
   ]
  },
  {
   "cell_type": "code",
   "execution_count": 13,
   "id": "211ce764",
   "metadata": {},
   "outputs": [
    {
     "data": {
      "text/plain": [
       "5.0"
      ]
     },
     "execution_count": 13,
     "metadata": {},
     "output_type": "execute_result"
    }
   ],
   "source": [
    "20*15/60"
   ]
  },
  {
   "cell_type": "code",
   "execution_count": null,
   "id": "7fcabdd7",
   "metadata": {},
   "outputs": [],
   "source": []
  },
  {
   "cell_type": "code",
   "execution_count": 14,
   "id": "ee3c04cf",
   "metadata": {},
   "outputs": [],
   "source": [
    "pitch_errors = np.array(list(pitch_errs.values()))\n",
    "yaw_errors = np.array(list(yaw_errs.values()))"
   ]
  },
  {
   "cell_type": "code",
   "execution_count": 15,
   "id": "a7f4885c",
   "metadata": {},
   "outputs": [
    {
     "data": {
      "text/plain": [
       "Text(0.5, 0, 'degree')"
      ]
     },
     "execution_count": 15,
     "metadata": {},
     "output_type": "execute_result"
    },
    {
     "data": {
      "image/png": "[encoded data removed]",
      "text/plain": [
       "<Figure size 432x288 with 1 Axes>"
      ]
     },
     "metadata": {
      "needs_background": "light"
     },
     "output_type": "display_data"
    }
   ],
   "source": [
    "plt.hist(pitch_errors, bins=40)\n",
    "plt.title(\"signed pitch error distribution: syn model real data\")\n",
    "plt.xlabel(\"degree\")"
   ]
  },
  {
   "cell_type": "code",
   "execution_count": 16,
   "id": "2f420d35",
   "metadata": {},
   "outputs": [
    {
     "data": {
      "text/plain": [
       "Text(0.5, 0, 'degree')"
      ]
     },
     "execution_count": 16,
     "metadata": {},
     "output_type": "execute_result"
    },
    {
     "data": {
      "image/png": "[encoded data removed]",
      "text/plain": [
       "<Figure size 432x288 with 1 Axes>"
      ]
     },
     "metadata": {
      "needs_background": "light"
     },
     "output_type": "display_data"
    }
   ],
   "source": [
    "plt.hist(yaw_errors, bins=40)\n",
    "plt.title(\"signed yaw error distribution: syn model real data\")\n",
    "plt.xlabel(\"degree\")"
   ]
  },
  {
   "cell_type": "code",
   "execution_count": 17,
   "id": "99fe5e25",
   "metadata": {},
   "outputs": [
    {
     "ename": "NameError",
     "evalue": "name 'sys' is not defined",
     "output_type": "error",
     "traceback": [
      "\u001b[0;31m---------------------------------------------------------------------------\u001b[0m",
      "\u001b[0;31mNameError\u001b[0m                                 Traceback (most recent call last)",
      "Input \u001b[0;32mIn [17]\u001b[0m, in \u001b[0;36m<cell line: 1>\u001b[0;34m()\u001b[0m\n\u001b[0;32m----> 1\u001b[0m \u001b[43msys\u001b[49m\u001b[38;5;241m.\u001b[39mexit()\n",
      "\u001b[0;31mNameError\u001b[0m: name 'sys' is not defined"
     ]
    }
   ],
   "source": [
    "sys.exit()"
   ]
  },
  {
   "cell_type": "code",
   "execution_count": null,
   "id": "9d6d7709",
   "metadata": {},
   "outputs": [],
   "source": [
    "mean_error = errors.mean()\n",
    "print(mean_error)"
   ]
  },
  {
   "cell_type": "code",
   "execution_count": null,
   "id": "0872f6ce",
   "metadata": {},
   "outputs": [],
   "source": [
    "ix = 0\n",
    "for k, v in images_errors.items():\n",
    "    if ix >20:\n",
    "        break\n",
    "    print(k, v)\n",
    "    ix += 1"
   ]
  },
  {
   "cell_type": "code",
   "execution_count": null,
   "id": "c5fd60e5",
   "metadata": {},
   "outputs": [],
   "source": [
    "len(images_errors)"
   ]
  },
  {
   "cell_type": "code",
   "execution_count": null,
   "id": "bd22731a",
   "metadata": {},
   "outputs": [],
   "source": [
    "ix = 0\n",
    "for k, v in images_errors.items():\n",
    "    if ix >20:\n",
    "        break\n",
    "    print(k, v)\n",
    "    ix += 1"
   ]
  },
  {
   "cell_type": "code",
   "execution_count": null,
   "id": "d561f4f1",
   "metadata": {},
   "outputs": [],
   "source": [
    "ix = 0\n",
    "for k, v in images_errors.items():\n",
    "    ix += 1\n",
    "    if ix <44980:\n",
    "        continue\n",
    "    print(k, v)\n",
    "    "
   ]
  },
  {
   "cell_type": "code",
   "execution_count": null,
   "id": "eb9e6165",
   "metadata": {},
   "outputs": [],
   "source": [
    "ix = 0\n",
    "for k, v in images_errors.items():\n",
    "    ix += 1\n",
    "    if ix <22480 or ix >22500:\n",
    "        continue\n",
    "    print(k, v)"
   ]
  }
 ],
 "metadata": {
  "kernelspec": {
   "display_name": "Python 3 (ipykernel)",
   "language": "python",
   "name": "python3"
  },
  "language_info": {
   "codemirror_mode": {
    "name": "ipython",
    "version": 3
   },
   "file_extension": ".py",
   "mimetype": "text/x-python",
   "name": "python",
   "nbconvert_exporter": "python",
   "pygments_lexer": "ipython3",
   "version": "3.8.10"
  }
 },
 "nbformat": 4,
 "nbformat_minor": 5
}
