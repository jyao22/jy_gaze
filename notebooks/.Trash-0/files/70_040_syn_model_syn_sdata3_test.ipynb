{
 "cells": [
  {
   "cell_type": "code",
   "execution_count": 1,
   "id": "662efc9c",
   "metadata": {},
   "outputs": [],
   "source": [
    "import os, argparse\n",
    "import numpy as np\n",
    "import matplotlib.pyplot as plt\n",
    "from datetime import datetime\n",
    "from pytz import timezone\n",
    "from pathlib import Path\n",
    "import torch\n",
    "import torch.nn as nn\n",
    "from torch.autograd import Variable\n",
    "from torch.utils.data import DataLoader\n",
    "from torchvision import transforms\n",
    "import torch.backends.cudnn as cudnn\n",
    "import torchvision\n",
    "import wandb\n",
    "\n",
    "import datasets\n",
    "# from utils import select_device, natural_keys, gazeto3d, angular, getArch\n",
    "from utils import select_device, natural_keys, gazeto3d, angular, getArch\n",
    "from model import L2CS"
   ]
  },
  {
   "cell_type": "code",
   "execution_count": 2,
   "id": "ed29c578",
   "metadata": {},
   "outputs": [],
   "source": [
    "\n",
    "args = argparse.Namespace()\n",
    "args.gazeMpiimage_dir = '/project/data/sdata2/Image'  #real data \n",
    "args.gazeMpiilabel_dir = '/project/data/sdata2/Label'  #real label\n",
    "# args.output = '/project/results/soutput1/snapshots/'\n",
    "args.dataset = 'mpiigaze'\n",
    "args.snapshot='/project/results/soutput2/snapshots/'\n",
    "args.evalpath = '/project/results/sroutput2/evaluation/'\n",
    "args.gpu_id = '0,1,2,3'\n",
    "args.gpu_id = '0'\n",
    "args.batch_size = 20\n",
    "args.arch = 'ResNet50'\n",
    "args.bins=35\n",
    "args.angle = 180\n",
    "args.bin_width = 4\n"
   ]
  },
  {
   "cell_type": "code",
   "execution_count": 3,
   "id": "d0e11321",
   "metadata": {},
   "outputs": [],
   "source": [
    "batch_size=args.batch_size\n",
    "arch=args.arch\n",
    "data_set=args.dataset\n",
    "evalpath =args.evalpath\n",
    "snapshot_path = args.snapshot\n",
    "bins=args.bins\n",
    "angle=args.angle\n",
    "bin_width=args.bin_width"
   ]
  },
  {
   "cell_type": "code",
   "execution_count": 4,
   "id": "0504fda4",
   "metadata": {},
   "outputs": [],
   "source": [
    "# args = parse_args()\n",
    "cudnn.enabled = True\n",
    "gpu = select_device(args.gpu_id, batch_size=args.batch_size)\n",
    "transformations = transforms.Compose([\n",
    "    transforms.Resize(448),\n",
    "    transforms.ToTensor(),\n",
    "    transforms.Normalize(\n",
    "        mean=[0.485, 0.456, 0.406],\n",
    "        std=[0.229, 0.224, 0.225]\n",
    "    )\n",
    "])\n",
    "\n",
    "model_used=getArch(arch, bins)  #resnet50 and 28 bins"
   ]
  },
  {
   "cell_type": "code",
   "execution_count": 5,
   "id": "6e2eff08",
   "metadata": {},
   "outputs": [
    {
     "name": "stdout",
     "output_type": "stream",
     "text": [
      "0:60 1:60 2:60 3:60 4:60 5:60 6:60 7:60 8:60 9:60 10:60 11:60 12:60 13:60 14:60 "
     ]
    }
   ],
   "source": [
    "# check if we have the correct number of checkpoint files \n",
    "ppath = snapshot_path\n",
    "for fold in range(15):\n",
    "    foldstr = f\"fold{fold:0>2}\"\n",
    "    cpath =os.path.join(ppath, foldstr)\n",
    "    files = os.listdir(cpath)\n",
    "    print(f'{fold}:{len(files)}',end=\" \")"
   ]
  },
  {
   "cell_type": "code",
   "execution_count": 6,
   "id": "72df5465",
   "metadata": {},
   "outputs": [
    {
     "name": "stdout",
     "output_type": "stream",
     "text": [
      "07/12/2022 07:12:51\n"
     ]
    }
   ],
   "source": [
    "def get_now():\n",
    "    now = datetime.utcnow()\n",
    "    now = now.astimezone(timezone('US/Pacific'))\n",
    "    date_format='%m/%d/%Y %H:%M:%S'\n",
    "    now = now.strftime(date_format) \n",
    "    return now\n",
    "print(get_now())"
   ]
  },
  {
   "cell_type": "code",
   "execution_count": null,
   "id": "f0cf2212",
   "metadata": {},
   "outputs": [
    {
     "name": "stderr",
     "output_type": "stream",
     "text": [
      "\u001b[34m\u001b[1mwandb\u001b[0m: Currently logged in as: \u001b[33msynthesis-ai\u001b[0m (use `wandb login --relogin` to force relogin)\n"
     ]
    },
    {
     "data": {
      "text/html": [
       "wandb version 0.12.21 is available!  To upgrade, please run:\n",
       " $ pip install wandb --upgrade"
      ],
      "text/plain": [
       "<IPython.core.display.HTML object>"
      ]
     },
     "metadata": {},
     "output_type": "display_data"
    },
    {
     "data": {
      "text/html": [
       "Tracking run with wandb version 0.12.15"
      ],
      "text/plain": [
       "<IPython.core.display.HTML object>"
      ]
     },
     "metadata": {},
     "output_type": "display_data"
    },
    {
     "data": {
      "text/html": [
       "Run data is saved locally in <code>/project/notebooks/wandb/run-20220712_141251-2b1qiry0</code>"
      ],
      "text/plain": [
       "<IPython.core.display.HTML object>"
      ]
     },
     "metadata": {},
     "output_type": "display_data"
    },
    {
     "data": {
      "text/html": [
       "Syncing run <strong><a href=\"https://wandb.ai/synthesis-ai/62_syn_mode_sdata2_syn_data2/runs/2b1qiry0\" target=\"_blank\">sparkling-jazz-1</a></strong> to <a href=\"https://wandb.ai/synthesis-ai/62_syn_mode_sdata2_syn_data2\" target=\"_blank\">Weights & Biases</a> (<a href=\"https://wandb.me/run\" target=\"_blank\">docs</a>)<br/>"
      ],
      "text/plain": [
       "<IPython.core.display.HTML object>"
      ]
     },
     "metadata": {},
     "output_type": "display_data"
    },
    {
     "name": "stdout",
     "output_type": "stream",
     "text": [
      "fold=0\n",
      "/project/data/sdata2/Label\n",
      "32 items removed from dataset that have an angle > 180\n",
      "\n",
      "test configuration equal gpu_id=cuda:0, batch_size=20, model_arch=ResNet50\n",
      "Start testing dataset=mpiigaze, FOLD=0 --07/12/2022 07:12:55---------\n",
      "entering epoch=epoch_1.pkl\n",
      "[epoch_1.pkl---mpiigaze] Total Num:2967,MAE:5.465974983706747  07/12/2022 07:13:18\n",
      "entering epoch=epoch_2.pkl\n",
      "[epoch_2.pkl---mpiigaze] Total Num:2967,MAE:3.4218344218957824  07/12/2022 07:13:32\n",
      "entering epoch=epoch_3.pkl\n",
      "[epoch_3.pkl---mpiigaze] Total Num:2967,MAE:3.7666034222228295  07/12/2022 07:13:47\n",
      "entering epoch=epoch_4.pkl\n",
      "[epoch_4.pkl---mpiigaze] Total Num:2967,MAE:3.4657238103488512  07/12/2022 07:14:01\n",
      "entering epoch=epoch_5.pkl\n",
      "[epoch_5.pkl---mpiigaze] Total Num:2967,MAE:3.837612394686458  07/12/2022 07:14:16\n",
      "entering epoch=epoch_6.pkl\n",
      "[epoch_6.pkl---mpiigaze] Total Num:2967,MAE:3.850513022970067  07/12/2022 07:14:30\n",
      "entering epoch=epoch_7.pkl\n",
      "[epoch_7.pkl---mpiigaze] Total Num:2967,MAE:3.2062493564091943  07/12/2022 07:14:44\n",
      "entering epoch=epoch_8.pkl\n",
      "[epoch_8.pkl---mpiigaze] Total Num:2967,MAE:4.187813424005919  07/12/2022 07:14:58\n",
      "entering epoch=epoch_9.pkl\n",
      "[epoch_9.pkl---mpiigaze] Total Num:2967,MAE:3.8052168721850674  07/12/2022 07:15:12\n",
      "entering epoch=epoch_10.pkl\n",
      "[epoch_10.pkl---mpiigaze] Total Num:2967,MAE:3.7117025393789085  07/12/2022 07:15:26\n",
      "entering epoch=epoch_11.pkl\n",
      "[epoch_11.pkl---mpiigaze] Total Num:2967,MAE:3.5659131107810644  07/12/2022 07:15:41\n",
      "entering epoch=epoch_12.pkl\n",
      "[epoch_12.pkl---mpiigaze] Total Num:2967,MAE:3.285198278352629  07/12/2022 07:15:55\n",
      "entering epoch=epoch_13.pkl\n",
      "[epoch_13.pkl---mpiigaze] Total Num:2967,MAE:3.78188071435721  07/12/2022 07:16:09\n",
      "entering epoch=epoch_14.pkl\n",
      "[epoch_14.pkl---mpiigaze] Total Num:2967,MAE:3.453807873224138  07/12/2022 07:16:23\n",
      "entering epoch=epoch_15.pkl\n",
      "[epoch_15.pkl---mpiigaze] Total Num:2967,MAE:3.4968359784328027  07/12/2022 07:16:38\n",
      "entering epoch=epoch_16.pkl\n",
      "[epoch_16.pkl---mpiigaze] Total Num:2967,MAE:3.4111517464759813  07/12/2022 07:16:52\n",
      "entering epoch=epoch_17.pkl\n",
      "[epoch_17.pkl---mpiigaze] Total Num:2967,MAE:3.7782826117511426  07/12/2022 07:17:06\n",
      "entering epoch=epoch_18.pkl\n",
      "[epoch_18.pkl---mpiigaze] Total Num:2967,MAE:3.1405164605341453  07/12/2022 07:17:21\n",
      "entering epoch=epoch_19.pkl\n",
      "[epoch_19.pkl---mpiigaze] Total Num:2967,MAE:3.582123989145503  07/12/2022 07:17:35\n",
      "entering epoch=epoch_20.pkl\n",
      "[epoch_20.pkl---mpiigaze] Total Num:2967,MAE:2.984046205938721  07/12/2022 07:17:50\n",
      "entering epoch=epoch_21.pkl\n",
      "[epoch_21.pkl---mpiigaze] Total Num:2967,MAE:3.293330504088056  07/12/2022 07:18:04\n",
      "entering epoch=epoch_22.pkl\n",
      "[epoch_22.pkl---mpiigaze] Total Num:2967,MAE:3.5303102411156004  07/12/2022 07:18:18\n",
      "entering epoch=epoch_23.pkl\n",
      "[epoch_23.pkl---mpiigaze] Total Num:2967,MAE:3.0328121618528456  07/12/2022 07:18:32\n",
      "entering epoch=epoch_24.pkl\n",
      "[epoch_24.pkl---mpiigaze] Total Num:2967,MAE:3.6779470089929522  07/12/2022 07:18:47\n",
      "entering epoch=epoch_25.pkl\n",
      "[epoch_25.pkl---mpiigaze] Total Num:2967,MAE:3.5806520392799084  07/12/2022 07:19:01\n",
      "entering epoch=epoch_26.pkl\n",
      "[epoch_26.pkl---mpiigaze] Total Num:2967,MAE:3.063548794672947  07/12/2022 07:19:15\n",
      "entering epoch=epoch_27.pkl\n",
      "[epoch_27.pkl---mpiigaze] Total Num:2967,MAE:3.0006837815478944  07/12/2022 07:19:29\n",
      "entering epoch=epoch_28.pkl\n",
      "[epoch_28.pkl---mpiigaze] Total Num:2967,MAE:3.3534444830718733  07/12/2022 07:19:43\n",
      "entering epoch=epoch_29.pkl\n",
      "[epoch_29.pkl---mpiigaze] Total Num:2967,MAE:2.9138952021817066  07/12/2022 07:19:58\n",
      "entering epoch=epoch_30.pkl\n",
      "[epoch_30.pkl---mpiigaze] Total Num:2967,MAE:3.131636210201137  07/12/2022 07:20:12\n",
      "entering epoch=epoch_31.pkl\n",
      "[epoch_31.pkl---mpiigaze] Total Num:2967,MAE:3.0538302704027913  07/12/2022 07:20:26\n",
      "entering epoch=epoch_32.pkl\n",
      "[epoch_32.pkl---mpiigaze] Total Num:2967,MAE:3.140919685667056  07/12/2022 07:20:41\n",
      "entering epoch=epoch_33.pkl\n",
      "[epoch_33.pkl---mpiigaze] Total Num:2967,MAE:3.005057355145632  07/12/2022 07:20:55\n",
      "entering epoch=epoch_34.pkl\n",
      "[epoch_34.pkl---mpiigaze] Total Num:2967,MAE:3.0275938915866  07/12/2022 07:21:09\n",
      "entering epoch=epoch_35.pkl\n",
      "[epoch_35.pkl---mpiigaze] Total Num:2967,MAE:3.378987677034199  07/12/2022 07:21:24\n",
      "entering epoch=epoch_36.pkl\n",
      "[epoch_36.pkl---mpiigaze] Total Num:2967,MAE:3.0755219261446953  07/12/2022 07:21:38\n",
      "entering epoch=epoch_37.pkl\n",
      "[epoch_37.pkl---mpiigaze] Total Num:2967,MAE:3.39560994916202  07/12/2022 07:21:52\n",
      "entering epoch=epoch_38.pkl\n",
      "[epoch_38.pkl---mpiigaze] Total Num:2967,MAE:3.248469213756045  07/12/2022 07:22:06\n",
      "entering epoch=epoch_39.pkl\n",
      "[epoch_39.pkl---mpiigaze] Total Num:2967,MAE:3.2818756435114236  07/12/2022 07:22:20\n",
      "entering epoch=epoch_40.pkl\n",
      "[epoch_40.pkl---mpiigaze] Total Num:2967,MAE:3.2103165051148457  07/12/2022 07:22:35\n",
      "entering epoch=epoch_41.pkl\n",
      "[epoch_41.pkl---mpiigaze] Total Num:2967,MAE:3.2101915348266306  07/12/2022 07:22:49\n",
      "entering epoch=epoch_42.pkl\n",
      "[epoch_42.pkl---mpiigaze] Total Num:2967,MAE:3.3538465197778233  07/12/2022 07:23:03\n",
      "entering epoch=epoch_43.pkl\n",
      "[epoch_43.pkl---mpiigaze] Total Num:2967,MAE:2.990371193473815  07/12/2022 07:23:18\n",
      "entering epoch=epoch_44.pkl\n",
      "[epoch_44.pkl---mpiigaze] Total Num:2967,MAE:3.74163123929855  07/12/2022 07:23:32\n",
      "entering epoch=epoch_45.pkl\n",
      "[epoch_45.pkl---mpiigaze] Total Num:2967,MAE:3.315936090062768  07/12/2022 07:23:46\n",
      "entering epoch=epoch_46.pkl\n",
      "[epoch_46.pkl---mpiigaze] Total Num:2967,MAE:3.5479195079438006  07/12/2022 07:24:00\n",
      "entering epoch=epoch_47.pkl\n",
      "[epoch_47.pkl---mpiigaze] Total Num:2967,MAE:2.9022854444173545  07/12/2022 07:24:15\n",
      "entering epoch=epoch_48.pkl\n",
      "[epoch_48.pkl---mpiigaze] Total Num:2967,MAE:3.408542666379436  07/12/2022 07:24:29\n",
      "entering epoch=epoch_49.pkl\n",
      "[epoch_49.pkl---mpiigaze] Total Num:2967,MAE:3.3227566495917107  07/12/2022 07:24:43\n",
      "entering epoch=epoch_50.pkl\n",
      "[epoch_50.pkl---mpiigaze] Total Num:2967,MAE:3.4882156082409916  07/12/2022 07:24:57\n",
      "entering epoch=epoch_51.pkl\n",
      "[epoch_51.pkl---mpiigaze] Total Num:2967,MAE:3.394659615418044  07/12/2022 07:25:11\n",
      "entering epoch=epoch_52.pkl\n",
      "[epoch_52.pkl---mpiigaze] Total Num:2967,MAE:3.2355229617527823  07/12/2022 07:25:26\n",
      "entering epoch=epoch_53.pkl\n",
      "[epoch_53.pkl---mpiigaze] Total Num:2967,MAE:3.1632926847337566  07/12/2022 07:25:40\n",
      "entering epoch=epoch_54.pkl\n",
      "[epoch_54.pkl---mpiigaze] Total Num:2967,MAE:3.5156095339340903  07/12/2022 07:25:54\n",
      "entering epoch=epoch_55.pkl\n",
      "[epoch_55.pkl---mpiigaze] Total Num:2967,MAE:3.7463723584818034  07/12/2022 07:26:09\n",
      "entering epoch=epoch_56.pkl\n",
      "[epoch_56.pkl---mpiigaze] Total Num:2967,MAE:3.108585319943895  07/12/2022 07:26:23\n",
      "entering epoch=epoch_57.pkl\n",
      "[epoch_57.pkl---mpiigaze] Total Num:2967,MAE:3.3126397843449125  07/12/2022 07:26:37\n",
      "entering epoch=epoch_58.pkl\n",
      "[epoch_58.pkl---mpiigaze] Total Num:2967,MAE:3.341597837389045  07/12/2022 07:26:51\n",
      "entering epoch=epoch_59.pkl\n",
      "[epoch_59.pkl---mpiigaze] Total Num:2967,MAE:3.2836784362731133  07/12/2022 07:27:05\n",
      "entering epoch=epoch_60.pkl\n",
      "[epoch_60.pkl---mpiigaze] Total Num:2967,MAE:3.2755768880758236  07/12/2022 07:27:19\n"
     ]
    },
    {
     "data": {
      "text/html": [
       "Waiting for W&B process to finish... <strong style=\"color:green\">(success).</strong>"
      ],
      "text/plain": [
       "<IPython.core.display.HTML object>"
      ]
     },
     "metadata": {},
     "output_type": "display_data"
    },
    {
     "data": {
      "application/vnd.jupyter.widget-view+json": {
       "model_id": "",
       "version_major": 2,
       "version_minor": 0
      },
      "text/plain": [
       "VBox(children=(Label(value='0.001 MB of 0.001 MB uploaded (0.000 MB deduped)\\r'), FloatProgress(value=1.0, max…"
      ]
     },
     "metadata": {},
     "output_type": "display_data"
    },
    {
     "data": {
      "text/html": [
       "<style>\n",
       "    table.wandb td:nth-child(1) { padding: 0 10px; text-align: right }\n",
       "    .wandb-row { display: flex; flex-direction: row; flex-wrap: wrap; width: 100% }\n",
       "    .wandb-col { display: flex; flex-direction: column; flex-basis: 100%; flex: 1; padding: 10px; }\n",
       "    </style>\n",
       "<div class=\"wandb-row\"><div class=\"wandb-col\"><h3>Run history:</h3><br/><table class=\"wandb\"><tr><td>fold_0_mean_mae</td><td>█▂▃▄▂▅▃▃▃▃▂▃▃▁▃▁▃▁▂▁▁▂▁▂▂▂▂▂▁▃▃▁▂▃▂▂▃▂▂▂</td></tr></table><br/></div><div class=\"wandb-col\"><h3>Run summary:</h3><br/><table class=\"wandb\"><tr><td>epoch</td><td>epoch_60.pkl</td></tr><tr><td>fold_0_mean_mae</td><td>3.27558</td></tr></table><br/></div></div>"
      ],
      "text/plain": [
       "<IPython.core.display.HTML object>"
      ]
     },
     "metadata": {},
     "output_type": "display_data"
    },
    {
     "data": {
      "text/html": [
       "Synced <strong style=\"color:#cdcd00\">sparkling-jazz-1</strong>: <a href=\"https://wandb.ai/synthesis-ai/62_syn_mode_sdata2_syn_data2/runs/2b1qiry0\" target=\"_blank\">https://wandb.ai/synthesis-ai/62_syn_mode_sdata2_syn_data2/runs/2b1qiry0</a><br/>Synced 5 W&B file(s), 0 media file(s), 0 artifact file(s) and 0 other file(s)"
      ],
      "text/plain": [
       "<IPython.core.display.HTML object>"
      ]
     },
     "metadata": {},
     "output_type": "display_data"
    },
    {
     "data": {
      "text/html": [
       "Find logs at: <code>./wandb/run-20220712_141251-2b1qiry0/logs</code>"
      ],
      "text/plain": [
       "<IPython.core.display.HTML object>"
      ]
     },
     "metadata": {},
     "output_type": "display_data"
    },
    {
     "data": {
      "text/html": [
       "wandb version 0.12.21 is available!  To upgrade, please run:\n",
       " $ pip install wandb --upgrade"
      ],
      "text/plain": [
       "<IPython.core.display.HTML object>"
      ]
     },
     "metadata": {},
     "output_type": "display_data"
    },
    {
     "data": {
      "text/html": [
       "Tracking run with wandb version 0.12.15"
      ],
      "text/plain": [
       "<IPython.core.display.HTML object>"
      ]
     },
     "metadata": {},
     "output_type": "display_data"
    },
    {
     "data": {
      "text/html": [
       "Run data is saved locally in <code>/project/notebooks/wandb/run-20220712_142724-3hzbncfi</code>"
      ],
      "text/plain": [
       "<IPython.core.display.HTML object>"
      ]
     },
     "metadata": {},
     "output_type": "display_data"
    },
    {
     "data": {
      "text/html": [
       "Syncing run <strong><a href=\"https://wandb.ai/synthesis-ai/62_syn_mode_sdata2_syn_data2/runs/3hzbncfi\" target=\"_blank\">dainty-brook-2</a></strong> to <a href=\"https://wandb.ai/synthesis-ai/62_syn_mode_sdata2_syn_data2\" target=\"_blank\">Weights & Biases</a> (<a href=\"https://wandb.me/run\" target=\"_blank\">docs</a>)<br/>"
      ],
      "text/plain": [
       "<IPython.core.display.HTML object>"
      ]
     },
     "metadata": {},
     "output_type": "display_data"
    },
    {
     "name": "stdout",
     "output_type": "stream",
     "text": [
      "fold=1\n",
      "/project/data/sdata2/Label\n",
      "29 items removed from dataset that have an angle > 180\n",
      "\n",
      "test configuration equal gpu_id=cuda:0, batch_size=20, model_arch=ResNet50\n",
      "Start testing dataset=mpiigaze, FOLD=1 --07/12/2022 07:27:27---------\n",
      "entering epoch=epoch_1.pkl\n",
      "[epoch_1.pkl---mpiigaze] Total Num:2970,MAE:4.234929974829739  07/12/2022 07:27:44\n",
      "entering epoch=epoch_2.pkl\n",
      "[epoch_2.pkl---mpiigaze] Total Num:2970,MAE:3.922033376024581  07/12/2022 07:27:58\n",
      "entering epoch=epoch_3.pkl\n",
      "[epoch_3.pkl---mpiigaze] Total Num:2970,MAE:4.325969221146043  07/12/2022 07:28:13\n",
      "entering epoch=epoch_4.pkl\n",
      "[epoch_4.pkl---mpiigaze] Total Num:2970,MAE:2.982599724697332  07/12/2022 07:28:27\n",
      "entering epoch=epoch_5.pkl\n",
      "[epoch_5.pkl---mpiigaze] Total Num:2970,MAE:2.838662498962718  07/12/2022 07:28:41\n",
      "entering epoch=epoch_6.pkl\n",
      "[epoch_6.pkl---mpiigaze] Total Num:2970,MAE:3.2234165486650106  07/12/2022 07:28:55\n",
      "entering epoch=epoch_7.pkl\n",
      "[epoch_7.pkl---mpiigaze] Total Num:2970,MAE:3.128414365812011  07/12/2022 07:29:10\n",
      "entering epoch=epoch_8.pkl\n",
      "[epoch_8.pkl---mpiigaze] Total Num:2970,MAE:3.501261903251498  07/12/2022 07:29:24\n",
      "entering epoch=epoch_9.pkl\n",
      "[epoch_9.pkl---mpiigaze] Total Num:2970,MAE:2.874110893921708  07/12/2022 07:29:38\n",
      "entering epoch=epoch_10.pkl\n",
      "[epoch_10.pkl---mpiigaze] Total Num:2970,MAE:2.9675230221256204  07/12/2022 07:29:52\n",
      "entering epoch=epoch_11.pkl\n",
      "[epoch_11.pkl---mpiigaze] Total Num:2970,MAE:3.270750978155473  07/12/2022 07:30:06\n",
      "entering epoch=epoch_12.pkl\n",
      "[epoch_12.pkl---mpiigaze] Total Num:2970,MAE:3.0151490914856676  07/12/2022 07:30:20\n",
      "entering epoch=epoch_13.pkl\n",
      "[epoch_13.pkl---mpiigaze] Total Num:2970,MAE:3.0782891461584323  07/12/2022 07:30:35\n",
      "entering epoch=epoch_14.pkl\n",
      "[epoch_14.pkl---mpiigaze] Total Num:2970,MAE:3.011229172520604  07/12/2022 07:30:49\n",
      "entering epoch=epoch_15.pkl\n",
      "[epoch_15.pkl---mpiigaze] Total Num:2970,MAE:3.1024344803777253  07/12/2022 07:31:03\n",
      "entering epoch=epoch_16.pkl\n",
      "[epoch_16.pkl---mpiigaze] Total Num:2970,MAE:3.371433781106851  07/12/2022 07:31:17\n",
      "entering epoch=epoch_17.pkl\n",
      "[epoch_17.pkl---mpiigaze] Total Num:2970,MAE:3.044062369913078  07/12/2022 07:31:31\n",
      "entering epoch=epoch_18.pkl\n",
      "[epoch_18.pkl---mpiigaze] Total Num:2970,MAE:2.877407635284073  07/12/2022 07:31:45\n",
      "entering epoch=epoch_19.pkl\n",
      "[epoch_19.pkl---mpiigaze] Total Num:2970,MAE:2.992870823271491  07/12/2022 07:31:59\n",
      "entering epoch=epoch_20.pkl\n",
      "[epoch_20.pkl---mpiigaze] Total Num:2970,MAE:3.173724119297888  07/12/2022 07:32:13\n",
      "entering epoch=epoch_21.pkl\n",
      "[epoch_21.pkl---mpiigaze] Total Num:2970,MAE:3.029981589867952  07/12/2022 07:32:27\n",
      "entering epoch=epoch_22.pkl\n",
      "[epoch_22.pkl---mpiigaze] Total Num:2970,MAE:3.12696952630095  07/12/2022 07:32:42\n",
      "entering epoch=epoch_23.pkl\n",
      "[epoch_23.pkl---mpiigaze] Total Num:2970,MAE:2.9896933559123533  07/12/2022 07:32:56\n",
      "entering epoch=epoch_24.pkl\n",
      "[epoch_24.pkl---mpiigaze] Total Num:2970,MAE:2.8252749879640957  07/12/2022 07:33:10\n",
      "entering epoch=epoch_25.pkl\n",
      "[epoch_25.pkl---mpiigaze] Total Num:2970,MAE:2.743798385774213  07/12/2022 07:33:24\n",
      "entering epoch=epoch_26.pkl\n",
      "[epoch_26.pkl---mpiigaze] Total Num:2970,MAE:2.982160670894979  07/12/2022 07:33:38\n",
      "entering epoch=epoch_27.pkl\n",
      "[epoch_27.pkl---mpiigaze] Total Num:2970,MAE:2.8517927164416883  07/12/2022 07:33:52\n",
      "entering epoch=epoch_28.pkl\n",
      "[epoch_28.pkl---mpiigaze] Total Num:2970,MAE:2.804943406600624  07/12/2022 07:34:07\n",
      "entering epoch=epoch_29.pkl\n",
      "[epoch_29.pkl---mpiigaze] Total Num:2970,MAE:2.9811449519086346  07/12/2022 07:34:21\n",
      "entering epoch=epoch_30.pkl\n",
      "[epoch_30.pkl---mpiigaze] Total Num:2970,MAE:2.8959437612972416  07/12/2022 07:34:35\n",
      "entering epoch=epoch_31.pkl\n",
      "[epoch_31.pkl---mpiigaze] Total Num:2970,MAE:2.839348940783175  07/12/2022 07:34:49\n",
      "entering epoch=epoch_32.pkl\n",
      "[epoch_32.pkl---mpiigaze] Total Num:2970,MAE:2.872599370746652  07/12/2022 07:35:04\n",
      "entering epoch=epoch_33.pkl\n",
      "[epoch_33.pkl---mpiigaze] Total Num:2970,MAE:2.8341067029886844  07/12/2022 07:35:18\n",
      "entering epoch=epoch_34.pkl\n",
      "[epoch_34.pkl---mpiigaze] Total Num:2970,MAE:2.925199953290606  07/12/2022 07:35:32\n",
      "entering epoch=epoch_35.pkl\n",
      "[epoch_35.pkl---mpiigaze] Total Num:2970,MAE:2.7925434849809316  07/12/2022 07:35:46\n",
      "entering epoch=epoch_36.pkl\n",
      "[epoch_36.pkl---mpiigaze] Total Num:2970,MAE:2.9578603619690176  07/12/2022 07:36:00\n",
      "entering epoch=epoch_37.pkl\n",
      "[epoch_37.pkl---mpiigaze] Total Num:2970,MAE:3.0556402998012735  07/12/2022 07:36:14\n",
      "entering epoch=epoch_38.pkl\n",
      "[epoch_38.pkl---mpiigaze] Total Num:2970,MAE:2.7926113994311996  07/12/2022 07:36:28\n",
      "entering epoch=epoch_39.pkl\n",
      "[epoch_39.pkl---mpiigaze] Total Num:2970,MAE:2.90120481266568  07/12/2022 07:36:43\n",
      "entering epoch=epoch_40.pkl\n",
      "[epoch_40.pkl---mpiigaze] Total Num:2970,MAE:2.9331058470412863  07/12/2022 07:36:57\n",
      "entering epoch=epoch_41.pkl\n",
      "[epoch_41.pkl---mpiigaze] Total Num:2970,MAE:2.8820761327822124  07/12/2022 07:37:11\n",
      "entering epoch=epoch_42.pkl\n",
      "[epoch_42.pkl---mpiigaze] Total Num:2970,MAE:2.868818849634211  07/12/2022 07:37:25\n",
      "entering epoch=epoch_43.pkl\n",
      "[epoch_43.pkl---mpiigaze] Total Num:2970,MAE:2.7533825876582116  07/12/2022 07:37:39\n",
      "entering epoch=epoch_44.pkl\n",
      "[epoch_44.pkl---mpiigaze] Total Num:2970,MAE:2.8141095488466847  07/12/2022 07:37:54\n",
      "entering epoch=epoch_45.pkl\n",
      "[epoch_45.pkl---mpiigaze] Total Num:2970,MAE:2.9712001892722832  07/12/2022 07:38:08\n",
      "entering epoch=epoch_46.pkl\n",
      "[epoch_46.pkl---mpiigaze] Total Num:2970,MAE:2.8363944641572645  07/12/2022 07:38:22\n",
      "entering epoch=epoch_47.pkl\n",
      "[epoch_47.pkl---mpiigaze] Total Num:2970,MAE:2.7742968469504814  07/12/2022 07:38:36\n",
      "entering epoch=epoch_48.pkl\n",
      "[epoch_48.pkl---mpiigaze] Total Num:2970,MAE:2.867959801588429  07/12/2022 07:38:51\n",
      "entering epoch=epoch_49.pkl\n",
      "[epoch_49.pkl---mpiigaze] Total Num:2970,MAE:2.8553700811479223  07/12/2022 07:39:05\n",
      "entering epoch=epoch_50.pkl\n",
      "[epoch_50.pkl---mpiigaze] Total Num:2970,MAE:2.885569303787188  07/12/2022 07:39:20\n",
      "entering epoch=epoch_51.pkl\n",
      "[epoch_51.pkl---mpiigaze] Total Num:2970,MAE:2.8238122528901997  07/12/2022 07:39:34\n",
      "entering epoch=epoch_52.pkl\n",
      "[epoch_52.pkl---mpiigaze] Total Num:2970,MAE:2.764381969511179  07/12/2022 07:39:48\n",
      "entering epoch=epoch_53.pkl\n",
      "[epoch_53.pkl---mpiigaze] Total Num:2970,MAE:2.82486032943257  07/12/2022 07:40:02\n",
      "entering epoch=epoch_54.pkl\n",
      "[epoch_54.pkl---mpiigaze] Total Num:2970,MAE:2.7316780481961827  07/12/2022 07:40:16\n",
      "entering epoch=epoch_55.pkl\n",
      "[epoch_55.pkl---mpiigaze] Total Num:2970,MAE:2.718329385945369  07/12/2022 07:40:30\n",
      "entering epoch=epoch_56.pkl\n",
      "[epoch_56.pkl---mpiigaze] Total Num:2970,MAE:2.7664421121030895  07/12/2022 07:40:45\n",
      "entering epoch=epoch_57.pkl\n",
      "[epoch_57.pkl---mpiigaze] Total Num:2970,MAE:3.078337700112625  07/12/2022 07:40:59\n",
      "entering epoch=epoch_58.pkl\n",
      "[epoch_58.pkl---mpiigaze] Total Num:2970,MAE:2.8265287094410527  07/12/2022 07:41:13\n",
      "entering epoch=epoch_59.pkl\n",
      "[epoch_59.pkl---mpiigaze] Total Num:2970,MAE:2.8700324184287633  07/12/2022 07:41:27\n",
      "entering epoch=epoch_60.pkl\n",
      "[epoch_60.pkl---mpiigaze] Total Num:2970,MAE:2.9183072280260354  07/12/2022 07:41:42\n"
     ]
    },
    {
     "data": {
      "text/html": [
       "Waiting for W&B process to finish... <strong style=\"color:green\">(success).</strong>"
      ],
      "text/plain": [
       "<IPython.core.display.HTML object>"
      ]
     },
     "metadata": {},
     "output_type": "display_data"
    },
    {
     "data": {
      "application/vnd.jupyter.widget-view+json": {
       "model_id": "",
       "version_major": 2,
       "version_minor": 0
      },
      "text/plain": [
       "VBox(children=(Label(value='0.001 MB of 0.001 MB uploaded (0.000 MB deduped)\\r'), FloatProgress(value=1.0, max…"
      ]
     },
     "metadata": {},
     "output_type": "display_data"
    },
    {
     "data": {
      "text/html": [
       "<style>\n",
       "    table.wandb td:nth-child(1) { padding: 0 10px; text-align: right }\n",
       "    .wandb-row { display: flex; flex-direction: row; flex-wrap: wrap; width: 100% }\n",
       "    .wandb-col { display: flex; flex-direction: column; flex-basis: 100%; flex: 1; padding: 10px; }\n",
       "    </style>\n",
       "<div class=\"wandb-row\"><div class=\"wandb-col\"><h3>Run history:</h3><br/><table class=\"wandb\"><tr><td>fold_1_mean_mae</td><td>█▇▂▂▃▅▂▄▃▂▄▃▂▃▃▂▁▂▁▂▂▂▂▁▃▁▂▂▁▁▂▁▂▂▁▁▁▁▁▂</td></tr></table><br/></div><div class=\"wandb-col\"><h3>Run summary:</h3><br/><table class=\"wandb\"><tr><td>epoch</td><td>epoch_60.pkl</td></tr><tr><td>fold_1_mean_mae</td><td>2.91831</td></tr></table><br/></div></div>"
      ],
      "text/plain": [
       "<IPython.core.display.HTML object>"
      ]
     },
     "metadata": {},
     "output_type": "display_data"
    },
    {
     "data": {
      "text/html": [
       "Synced <strong style=\"color:#cdcd00\">dainty-brook-2</strong>: <a href=\"https://wandb.ai/synthesis-ai/62_syn_mode_sdata2_syn_data2/runs/3hzbncfi\" target=\"_blank\">https://wandb.ai/synthesis-ai/62_syn_mode_sdata2_syn_data2/runs/3hzbncfi</a><br/>Synced 5 W&B file(s), 0 media file(s), 0 artifact file(s) and 0 other file(s)"
      ],
      "text/plain": [
       "<IPython.core.display.HTML object>"
      ]
     },
     "metadata": {},
     "output_type": "display_data"
    },
    {
     "data": {
      "text/html": [
       "Find logs at: <code>./wandb/run-20220712_142724-3hzbncfi/logs</code>"
      ],
      "text/plain": [
       "<IPython.core.display.HTML object>"
      ]
     },
     "metadata": {},
     "output_type": "display_data"
    },
    {
     "data": {
      "text/html": [
       "wandb version 0.12.21 is available!  To upgrade, please run:\n",
       " $ pip install wandb --upgrade"
      ],
      "text/plain": [
       "<IPython.core.display.HTML object>"
      ]
     },
     "metadata": {},
     "output_type": "display_data"
    },
    {
     "data": {
      "text/html": [
       "Tracking run with wandb version 0.12.15"
      ],
      "text/plain": [
       "<IPython.core.display.HTML object>"
      ]
     },
     "metadata": {},
     "output_type": "display_data"
    },
    {
     "data": {
      "text/html": [
       "Run data is saved locally in <code>/project/notebooks/wandb/run-20220712_144145-3t7ycu6p</code>"
      ],
      "text/plain": [
       "<IPython.core.display.HTML object>"
      ]
     },
     "metadata": {},
     "output_type": "display_data"
    },
    {
     "data": {
      "text/html": [
       "Syncing run <strong><a href=\"https://wandb.ai/synthesis-ai/62_syn_mode_sdata2_syn_data2/runs/3t7ycu6p\" target=\"_blank\">visionary-sunset-3</a></strong> to <a href=\"https://wandb.ai/synthesis-ai/62_syn_mode_sdata2_syn_data2\" target=\"_blank\">Weights & Biases</a> (<a href=\"https://wandb.me/run\" target=\"_blank\">docs</a>)<br/>"
      ],
      "text/plain": [
       "<IPython.core.display.HTML object>"
      ]
     },
     "metadata": {},
     "output_type": "display_data"
    },
    {
     "name": "stdout",
     "output_type": "stream",
     "text": [
      "fold=2\n",
      "/project/data/sdata2/Label\n",
      "29 items removed from dataset that have an angle > 180\n",
      "\n",
      "test configuration equal gpu_id=cuda:0, batch_size=20, model_arch=ResNet50\n",
      "Start testing dataset=mpiigaze, FOLD=2 --07/12/2022 07:41:49---------\n",
      "entering epoch=epoch_1.pkl\n",
      "[epoch_1.pkl---mpiigaze] Total Num:2970,MAE:6.136040654259813  07/12/2022 07:42:07\n",
      "entering epoch=epoch_2.pkl\n",
      "[epoch_2.pkl---mpiigaze] Total Num:2970,MAE:3.644372643221276  07/12/2022 07:42:21\n",
      "entering epoch=epoch_3.pkl\n",
      "[epoch_3.pkl---mpiigaze] Total Num:2970,MAE:4.401037674033422  07/12/2022 07:42:35\n",
      "entering epoch=epoch_4.pkl\n",
      "[epoch_4.pkl---mpiigaze] Total Num:2970,MAE:3.696168358030398  07/12/2022 07:42:50\n",
      "entering epoch=epoch_5.pkl\n",
      "[epoch_5.pkl---mpiigaze] Total Num:2970,MAE:3.355487051286446  07/12/2022 07:43:05\n",
      "entering epoch=epoch_6.pkl\n",
      "[epoch_6.pkl---mpiigaze] Total Num:2970,MAE:3.721199990031747  07/12/2022 07:43:19\n",
      "entering epoch=epoch_7.pkl\n",
      "[epoch_7.pkl---mpiigaze] Total Num:2970,MAE:4.238240935480733  07/12/2022 07:43:34\n",
      "entering epoch=epoch_8.pkl\n",
      "[epoch_8.pkl---mpiigaze] Total Num:2970,MAE:4.639265028194554  07/12/2022 07:43:49\n",
      "entering epoch=epoch_9.pkl\n",
      "[epoch_9.pkl---mpiigaze] Total Num:2970,MAE:4.042743754388963  07/12/2022 07:44:04\n",
      "entering epoch=epoch_10.pkl\n",
      "[epoch_10.pkl---mpiigaze] Total Num:2970,MAE:3.3547939201508608  07/12/2022 07:44:18\n",
      "entering epoch=epoch_11.pkl\n",
      "[epoch_11.pkl---mpiigaze] Total Num:2970,MAE:3.8032550902360116  07/12/2022 07:44:33\n",
      "entering epoch=epoch_12.pkl\n",
      "[epoch_12.pkl---mpiigaze] Total Num:2970,MAE:3.738976237226193  07/12/2022 07:44:48\n",
      "entering epoch=epoch_13.pkl\n",
      "[epoch_13.pkl---mpiigaze] Total Num:2970,MAE:3.2341886889348097  07/12/2022 07:45:02\n",
      "entering epoch=epoch_14.pkl\n",
      "[epoch_14.pkl---mpiigaze] Total Num:2970,MAE:3.429461204567523  07/12/2022 07:45:17\n",
      "entering epoch=epoch_15.pkl\n",
      "[epoch_15.pkl---mpiigaze] Total Num:2970,MAE:3.597070527993932  07/12/2022 07:45:32\n",
      "entering epoch=epoch_16.pkl\n",
      "[epoch_16.pkl---mpiigaze] Total Num:2970,MAE:3.7341678729062755  07/12/2022 07:45:47\n",
      "entering epoch=epoch_17.pkl\n",
      "[epoch_17.pkl---mpiigaze] Total Num:2970,MAE:4.348719951317485  07/12/2022 07:46:02\n",
      "entering epoch=epoch_18.pkl\n",
      "[epoch_18.pkl---mpiigaze] Total Num:2970,MAE:4.143049109288223  07/12/2022 07:46:17\n",
      "entering epoch=epoch_19.pkl\n",
      "[epoch_19.pkl---mpiigaze] Total Num:2970,MAE:3.6099852733657385  07/12/2022 07:46:31\n",
      "entering epoch=epoch_20.pkl\n",
      "[epoch_20.pkl---mpiigaze] Total Num:2970,MAE:3.627372573502246  07/12/2022 07:46:46\n",
      "entering epoch=epoch_21.pkl\n",
      "[epoch_21.pkl---mpiigaze] Total Num:2970,MAE:3.412480042775148  07/12/2022 07:47:00\n",
      "entering epoch=epoch_22.pkl\n",
      "[epoch_22.pkl---mpiigaze] Total Num:2970,MAE:3.5248332717581636  07/12/2022 07:47:14\n",
      "entering epoch=epoch_23.pkl\n",
      "[epoch_23.pkl---mpiigaze] Total Num:2970,MAE:3.388792644015264  07/12/2022 07:47:31\n",
      "entering epoch=epoch_24.pkl\n",
      "[epoch_24.pkl---mpiigaze] Total Num:2970,MAE:3.3107420882920566  07/12/2022 07:47:46\n",
      "entering epoch=epoch_25.pkl\n",
      "[epoch_25.pkl---mpiigaze] Total Num:2970,MAE:3.495811859256939  07/12/2022 07:48:00\n",
      "entering epoch=epoch_26.pkl\n",
      "[epoch_26.pkl---mpiigaze] Total Num:2970,MAE:3.6968975881499113  07/12/2022 07:48:14\n",
      "entering epoch=epoch_27.pkl\n",
      "[epoch_27.pkl---mpiigaze] Total Num:2970,MAE:3.259462063969592  07/12/2022 07:48:29\n",
      "entering epoch=epoch_28.pkl\n",
      "[epoch_28.pkl---mpiigaze] Total Num:2970,MAE:3.544971953766525  07/12/2022 07:48:44\n",
      "entering epoch=epoch_29.pkl\n",
      "[epoch_29.pkl---mpiigaze] Total Num:2970,MAE:3.57992178070767  07/12/2022 07:48:58\n",
      "entering epoch=epoch_30.pkl\n",
      "[epoch_30.pkl---mpiigaze] Total Num:2970,MAE:3.764850204557042  07/12/2022 07:49:12\n",
      "entering epoch=epoch_31.pkl\n",
      "[epoch_31.pkl---mpiigaze] Total Num:2970,MAE:3.48952716511213  07/12/2022 07:49:27\n",
      "entering epoch=epoch_32.pkl\n",
      "[epoch_32.pkl---mpiigaze] Total Num:2970,MAE:3.2779497260238877  07/12/2022 07:49:43\n",
      "entering epoch=epoch_33.pkl\n",
      "[epoch_33.pkl---mpiigaze] Total Num:2970,MAE:3.541521419810311  07/12/2022 07:49:58\n",
      "entering epoch=epoch_34.pkl\n",
      "[epoch_34.pkl---mpiigaze] Total Num:2970,MAE:3.299383969881095  07/12/2022 07:50:12\n",
      "entering epoch=epoch_35.pkl\n",
      "[epoch_35.pkl---mpiigaze] Total Num:2970,MAE:3.713067711953544  07/12/2022 07:50:26\n",
      "entering epoch=epoch_36.pkl\n",
      "[epoch_36.pkl---mpiigaze] Total Num:2970,MAE:3.5116453878864715  07/12/2022 07:50:41\n",
      "entering epoch=epoch_37.pkl\n",
      "[epoch_37.pkl---mpiigaze] Total Num:2970,MAE:3.5799733831462524  07/12/2022 07:50:55\n",
      "entering epoch=epoch_38.pkl\n",
      "[epoch_38.pkl---mpiigaze] Total Num:2970,MAE:3.481891008441702  07/12/2022 07:51:09\n",
      "entering epoch=epoch_39.pkl\n",
      "[epoch_39.pkl---mpiigaze] Total Num:2970,MAE:3.4732270383223027  07/12/2022 07:51:23\n",
      "entering epoch=epoch_40.pkl\n",
      "[epoch_40.pkl---mpiigaze] Total Num:2970,MAE:3.888241743529394  07/12/2022 07:51:38\n",
      "entering epoch=epoch_41.pkl\n",
      "[epoch_41.pkl---mpiigaze] Total Num:2970,MAE:3.4640565493218225  07/12/2022 07:51:52\n",
      "entering epoch=epoch_42.pkl\n",
      "[epoch_42.pkl---mpiigaze] Total Num:2970,MAE:3.602688555891688  07/12/2022 07:52:08\n",
      "entering epoch=epoch_43.pkl\n",
      "[epoch_43.pkl---mpiigaze] Total Num:2970,MAE:3.230804109620919  07/12/2022 07:52:23\n",
      "entering epoch=epoch_44.pkl\n",
      "[epoch_44.pkl---mpiigaze] Total Num:2970,MAE:3.4003186950214115  07/12/2022 07:52:37\n",
      "entering epoch=epoch_45.pkl\n",
      "[epoch_45.pkl---mpiigaze] Total Num:2970,MAE:3.5094459021659996  07/12/2022 07:52:52\n",
      "entering epoch=epoch_46.pkl\n",
      "[epoch_46.pkl---mpiigaze] Total Num:2970,MAE:3.1760236661490078  07/12/2022 07:53:06\n",
      "entering epoch=epoch_47.pkl\n",
      "[epoch_47.pkl---mpiigaze] Total Num:2970,MAE:3.2998293676276083  07/12/2022 07:53:20\n",
      "entering epoch=epoch_48.pkl\n",
      "[epoch_48.pkl---mpiigaze] Total Num:2970,MAE:3.35367271756951  07/12/2022 07:53:35\n",
      "entering epoch=epoch_49.pkl\n",
      "[epoch_49.pkl---mpiigaze] Total Num:2970,MAE:3.2970250264151106  07/12/2022 07:53:49\n",
      "entering epoch=epoch_50.pkl\n",
      "[epoch_50.pkl---mpiigaze] Total Num:2970,MAE:3.2660657669464843  07/12/2022 07:54:04\n",
      "entering epoch=epoch_51.pkl\n",
      "[epoch_51.pkl---mpiigaze] Total Num:2970,MAE:3.560173910689619  07/12/2022 07:54:22\n",
      "entering epoch=epoch_52.pkl\n",
      "[epoch_52.pkl---mpiigaze] Total Num:2970,MAE:3.190711747694186  07/12/2022 07:54:36\n",
      "entering epoch=epoch_53.pkl\n",
      "[epoch_53.pkl---mpiigaze] Total Num:2970,MAE:3.205624540495708  07/12/2022 07:54:53\n",
      "entering epoch=epoch_54.pkl\n",
      "[epoch_54.pkl---mpiigaze] Total Num:2970,MAE:3.4995731445102205  07/12/2022 07:55:07\n",
      "entering epoch=epoch_55.pkl\n",
      "[epoch_55.pkl---mpiigaze] Total Num:2970,MAE:3.4884352062327633  07/12/2022 07:55:24\n",
      "entering epoch=epoch_56.pkl\n",
      "[epoch_56.pkl---mpiigaze] Total Num:2970,MAE:3.1445888373177966  07/12/2022 07:55:38\n",
      "entering epoch=epoch_57.pkl\n",
      "[epoch_57.pkl---mpiigaze] Total Num:2970,MAE:3.40737075723241  07/12/2022 07:55:53\n",
      "entering epoch=epoch_58.pkl\n",
      "[epoch_58.pkl---mpiigaze] Total Num:2970,MAE:3.462143476809134  07/12/2022 07:56:07\n",
      "entering epoch=epoch_59.pkl\n",
      "[epoch_59.pkl---mpiigaze] Total Num:2970,MAE:3.1644012683104625  07/12/2022 07:56:22\n",
      "entering epoch=epoch_60.pkl\n",
      "[epoch_60.pkl---mpiigaze] Total Num:2970,MAE:3.5546522355472474  07/12/2022 07:56:36\n"
     ]
    },
    {
     "data": {
      "text/html": [
       "Waiting for W&B process to finish... <strong style=\"color:green\">(success).</strong>"
      ],
      "text/plain": [
       "<IPython.core.display.HTML object>"
      ]
     },
     "metadata": {},
     "output_type": "display_data"
    },
    {
     "data": {
      "application/vnd.jupyter.widget-view+json": {
       "model_id": "",
       "version_major": 2,
       "version_minor": 0
      },
      "text/plain": [
       "VBox(children=(Label(value='0.001 MB of 0.001 MB uploaded (0.000 MB deduped)\\r'), FloatProgress(value=1.0, max…"
      ]
     },
     "metadata": {},
     "output_type": "display_data"
    },
    {
     "data": {
      "text/html": [
       "<style>\n",
       "    table.wandb td:nth-child(1) { padding: 0 10px; text-align: right }\n",
       "    .wandb-row { display: flex; flex-direction: row; flex-wrap: wrap; width: 100% }\n",
       "    .wandb-col { display: flex; flex-direction: column; flex-basis: 100%; flex: 1; padding: 10px; }\n",
       "    </style>\n",
       "<div class=\"wandb-row\"><div class=\"wandb-col\"><h3>Run history:</h3><br/><table class=\"wandb\"><tr><td>fold_2_mean_mae</td><td>█▂▂▁▄▄▁▃▁▂▂▄▂▂▂▂▂▂▂▂▂▁▁▂▂▂▃▂▁▂▁▁▁▁▁▁▂▁▂▂</td></tr></table><br/></div><div class=\"wandb-col\"><h3>Run summary:</h3><br/><table class=\"wandb\"><tr><td>epoch</td><td>epoch_60.pkl</td></tr><tr><td>fold_2_mean_mae</td><td>3.55465</td></tr></table><br/></div></div>"
      ],
      "text/plain": [
       "<IPython.core.display.HTML object>"
      ]
     },
     "metadata": {},
     "output_type": "display_data"
    },
    {
     "data": {
      "text/html": [
       "Synced <strong style=\"color:#cdcd00\">visionary-sunset-3</strong>: <a href=\"https://wandb.ai/synthesis-ai/62_syn_mode_sdata2_syn_data2/runs/3t7ycu6p\" target=\"_blank\">https://wandb.ai/synthesis-ai/62_syn_mode_sdata2_syn_data2/runs/3t7ycu6p</a><br/>Synced 5 W&B file(s), 0 media file(s), 0 artifact file(s) and 0 other file(s)"
      ],
      "text/plain": [
       "<IPython.core.display.HTML object>"
      ]
     },
     "metadata": {},
     "output_type": "display_data"
    },
    {
     "data": {
      "text/html": [
       "Find logs at: <code>./wandb/run-20220712_144145-3t7ycu6p/logs</code>"
      ],
      "text/plain": [
       "<IPython.core.display.HTML object>"
      ]
     },
     "metadata": {},
     "output_type": "display_data"
    },
    {
     "data": {
      "text/html": [
       "wandb version 0.12.21 is available!  To upgrade, please run:\n",
       " $ pip install wandb --upgrade"
      ],
      "text/plain": [
       "<IPython.core.display.HTML object>"
      ]
     },
     "metadata": {},
     "output_type": "display_data"
    },
    {
     "data": {
      "text/html": [
       "Tracking run with wandb version 0.12.15"
      ],
      "text/plain": [
       "<IPython.core.display.HTML object>"
      ]
     },
     "metadata": {},
     "output_type": "display_data"
    },
    {
     "data": {
      "text/html": [
       "Run data is saved locally in <code>/project/notebooks/wandb/run-20220712_145641-1j0azv2u</code>"
      ],
      "text/plain": [
       "<IPython.core.display.HTML object>"
      ]
     },
     "metadata": {},
     "output_type": "display_data"
    },
    {
     "data": {
      "text/html": [
       "Syncing run <strong><a href=\"https://wandb.ai/synthesis-ai/62_syn_mode_sdata2_syn_data2/runs/1j0azv2u\" target=\"_blank\">lucky-breeze-4</a></strong> to <a href=\"https://wandb.ai/synthesis-ai/62_syn_mode_sdata2_syn_data2\" target=\"_blank\">Weights & Biases</a> (<a href=\"https://wandb.me/run\" target=\"_blank\">docs</a>)<br/>"
      ],
      "text/plain": [
       "<IPython.core.display.HTML object>"
      ]
     },
     "metadata": {},
     "output_type": "display_data"
    },
    {
     "name": "stdout",
     "output_type": "stream",
     "text": [
      "fold=3\n",
      "/project/data/sdata2/Label\n",
      "30 items removed from dataset that have an angle > 180\n",
      "\n",
      "test configuration equal gpu_id=cuda:0, batch_size=20, model_arch=ResNet50\n",
      "Start testing dataset=mpiigaze, FOLD=3 --07/12/2022 07:56:44---------\n",
      "entering epoch=epoch_1.pkl\n",
      "[epoch_1.pkl---mpiigaze] Total Num:2969,MAE:5.169709871995967  07/12/2022 07:57:02\n",
      "entering epoch=epoch_2.pkl\n",
      "[epoch_2.pkl---mpiigaze] Total Num:2969,MAE:5.008650954058229  07/12/2022 07:57:16\n",
      "entering epoch=epoch_3.pkl\n",
      "[epoch_3.pkl---mpiigaze] Total Num:2969,MAE:5.831667903545946  07/12/2022 07:57:30\n",
      "entering epoch=epoch_4.pkl\n",
      "[epoch_4.pkl---mpiigaze] Total Num:2969,MAE:5.002591831291443  07/12/2022 07:57:46\n",
      "entering epoch=epoch_5.pkl\n",
      "[epoch_5.pkl---mpiigaze] Total Num:2969,MAE:4.663417923228211  07/12/2022 07:58:00\n",
      "entering epoch=epoch_6.pkl\n",
      "[epoch_6.pkl---mpiigaze] Total Num:2969,MAE:4.5462174803605215  07/12/2022 07:58:14\n",
      "entering epoch=epoch_7.pkl\n",
      "[epoch_7.pkl---mpiigaze] Total Num:2969,MAE:4.430543192941598  07/12/2022 07:58:28\n",
      "entering epoch=epoch_8.pkl\n",
      "[epoch_8.pkl---mpiigaze] Total Num:2969,MAE:4.441925764984874  07/12/2022 07:58:43\n",
      "entering epoch=epoch_9.pkl\n",
      "[epoch_9.pkl---mpiigaze] Total Num:2969,MAE:4.487761424458545  07/12/2022 07:58:57\n",
      "entering epoch=epoch_10.pkl\n",
      "[epoch_10.pkl---mpiigaze] Total Num:2969,MAE:4.358658386230956  07/12/2022 07:59:11\n",
      "entering epoch=epoch_11.pkl\n",
      "[epoch_11.pkl---mpiigaze] Total Num:2969,MAE:4.109324191428393  07/12/2022 07:59:26\n",
      "entering epoch=epoch_12.pkl\n",
      "[epoch_12.pkl---mpiigaze] Total Num:2969,MAE:4.315992305816398  07/12/2022 07:59:40\n",
      "entering epoch=epoch_13.pkl\n",
      "[epoch_13.pkl---mpiigaze] Total Num:2969,MAE:4.123646320428243  07/12/2022 07:59:54\n",
      "entering epoch=epoch_14.pkl\n",
      "[epoch_14.pkl---mpiigaze] Total Num:2969,MAE:4.083546039473688  07/12/2022 08:00:09\n",
      "entering epoch=epoch_15.pkl\n",
      "[epoch_15.pkl---mpiigaze] Total Num:2969,MAE:4.018723941314517  07/12/2022 08:00:23\n",
      "entering epoch=epoch_16.pkl\n",
      "[epoch_16.pkl---mpiigaze] Total Num:2969,MAE:4.196233210516127  07/12/2022 08:00:38\n",
      "entering epoch=epoch_17.pkl\n",
      "[epoch_17.pkl---mpiigaze] Total Num:2969,MAE:4.472260965531657  07/12/2022 08:00:52\n",
      "entering epoch=epoch_18.pkl\n",
      "[epoch_18.pkl---mpiigaze] Total Num:2969,MAE:4.239225586467503  07/12/2022 08:01:07\n",
      "entering epoch=epoch_19.pkl\n",
      "[epoch_19.pkl---mpiigaze] Total Num:2969,MAE:4.159036098000571  07/12/2022 08:01:21\n",
      "entering epoch=epoch_20.pkl\n",
      "[epoch_27.pkl---mpiigaze] Total Num:2969,MAE:4.044962294342563  07/12/2022 08:03:18\n",
      "entering epoch=epoch_28.pkl\n",
      "[epoch_28.pkl---mpiigaze] Total Num:2969,MAE:3.9589566690226543  07/12/2022 08:03:34\n",
      "entering epoch=epoch_29.pkl\n",
      "[epoch_29.pkl---mpiigaze] Total Num:2969,MAE:4.0611846572496795  07/12/2022 08:03:50\n",
      "entering epoch=epoch_30.pkl\n",
      "[epoch_30.pkl---mpiigaze] Total Num:2969,MAE:4.057278295403393  07/12/2022 08:04:07\n",
      "entering epoch=epoch_31.pkl\n",
      "[epoch_31.pkl---mpiigaze] Total Num:2969,MAE:3.9317766758389543  07/12/2022 08:04:21\n",
      "entering epoch=epoch_32.pkl\n",
      "[epoch_32.pkl---mpiigaze] Total Num:2969,MAE:3.866088318657726  07/12/2022 08:04:37\n",
      "entering epoch=epoch_33.pkl\n",
      "[epoch_33.pkl---mpiigaze] Total Num:2969,MAE:3.813486963157429  07/12/2022 08:04:53\n",
      "entering epoch=epoch_34.pkl\n",
      "[epoch_40.pkl---mpiigaze] Total Num:2969,MAE:3.941259425568317  07/12/2022 08:06:37\n",
      "entering epoch=epoch_41.pkl\n",
      "[epoch_41.pkl---mpiigaze] Total Num:2969,MAE:3.8446532133317946  07/12/2022 08:06:51\n",
      "entering epoch=epoch_42.pkl\n",
      "[epoch_42.pkl---mpiigaze] Total Num:2969,MAE:4.063712133678155  07/12/2022 08:07:06\n",
      "entering epoch=epoch_43.pkl\n",
      "[epoch_43.pkl---mpiigaze] Total Num:2969,MAE:4.007163438797317  07/12/2022 08:07:21\n",
      "entering epoch=epoch_44.pkl\n",
      "[epoch_44.pkl---mpiigaze] Total Num:2969,MAE:3.9144343519199616  07/12/2022 08:07:37\n",
      "entering epoch=epoch_45.pkl\n",
      "[epoch_45.pkl---mpiigaze] Total Num:2969,MAE:3.7968034488223927  07/12/2022 08:07:52\n",
      "entering epoch=epoch_46.pkl\n",
      "[epoch_46.pkl---mpiigaze] Total Num:2969,MAE:3.7889487493426968  07/12/2022 08:08:06\n",
      "entering epoch=epoch_47.pkl\n",
      "[epoch_47.pkl---mpiigaze] Total Num:2969,MAE:3.848418897148368  07/12/2022 08:08:21\n",
      "entering epoch=epoch_48.pkl\n",
      "[epoch_48.pkl---mpiigaze] Total Num:2969,MAE:3.7899576669564063  07/12/2022 08:08:35\n",
      "entering epoch=epoch_49.pkl\n",
      "[epoch_49.pkl---mpiigaze] Total Num:2969,MAE:3.727950575778339  07/12/2022 08:08:50\n",
      "entering epoch=epoch_50.pkl\n",
      "[epoch_50.pkl---mpiigaze] Total Num:2969,MAE:3.806626770110184  07/12/2022 08:09:04\n",
      "entering epoch=epoch_51.pkl\n",
      "[epoch_51.pkl---mpiigaze] Total Num:2969,MAE:3.8366998119050315  07/12/2022 08:09:18\n",
      "entering epoch=epoch_52.pkl\n",
      "[epoch_52.pkl---mpiigaze] Total Num:2969,MAE:3.920908499361899  07/12/2022 08:09:33\n",
      "entering epoch=epoch_53.pkl\n",
      "[epoch_53.pkl---mpiigaze] Total Num:2969,MAE:3.800289367606162  07/12/2022 08:09:47\n",
      "entering epoch=epoch_54.pkl\n",
      "[epoch_54.pkl---mpiigaze] Total Num:2969,MAE:3.9404627711042925  07/12/2022 08:10:03\n",
      "entering epoch=epoch_55.pkl\n",
      "[epoch_55.pkl---mpiigaze] Total Num:2969,MAE:3.9161033801924323  07/12/2022 08:10:18\n",
      "entering epoch=epoch_56.pkl\n",
      "[epoch_56.pkl---mpiigaze] Total Num:2969,MAE:3.772316658992841  07/12/2022 08:10:32\n",
      "entering epoch=epoch_57.pkl\n",
      "[epoch_57.pkl---mpiigaze] Total Num:2969,MAE:3.703780728600497  07/12/2022 08:10:47\n",
      "entering epoch=epoch_58.pkl\n",
      "[epoch_58.pkl---mpiigaze] Total Num:2969,MAE:3.8067939783518034  07/12/2022 08:11:01\n",
      "entering epoch=epoch_59.pkl\n",
      "[epoch_59.pkl---mpiigaze] Total Num:2969,MAE:3.834914899752136  07/12/2022 08:11:16\n",
      "entering epoch=epoch_60.pkl\n",
      "[epoch_60.pkl---mpiigaze] Total Num:2969,MAE:4.004338646894737  07/12/2022 08:11:30\n"
     ]
    },
    {
     "data": {
      "text/html": [
       "Waiting for W&B process to finish... <strong style=\"color:green\">(success).</strong>"
      ],
      "text/plain": [
       "<IPython.core.display.HTML object>"
      ]
     },
     "metadata": {},
     "output_type": "display_data"
    },
    {
     "data": {
      "application/vnd.jupyter.widget-view+json": {
       "model_id": "",
       "version_major": 2,
       "version_minor": 0
      },
      "text/plain": [
       "VBox(children=(Label(value='0.001 MB of 0.001 MB uploaded (0.000 MB deduped)\\r'), FloatProgress(value=1.0, max…"
      ]
     },
     "metadata": {},
     "output_type": "display_data"
    },
    {
     "data": {
      "text/html": [
       "<style>\n",
       "    table.wandb td:nth-child(1) { padding: 0 10px; text-align: right }\n",
       "    .wandb-row { display: flex; flex-direction: row; flex-wrap: wrap; width: 100% }\n",
       "    .wandb-col { display: flex; flex-direction: column; flex-basis: 100%; flex: 1; padding: 10px; }\n",
       "    </style>\n",
       "<div class=\"wandb-row\"><div class=\"wandb-col\"><h3>Run history:</h3><br/><table class=\"wandb\"><tr><td>fold_3_mean_mae</td><td>█▇▇▆▄▄▄▃▃▃▃▅▃▃▃▃▃▃▂▃▂▂▃▂▂▁▂▂▂▂▁▂▁▁▂▁▂▁▁▂</td></tr></table><br/></div><div class=\"wandb-col\"><h3>Run summary:</h3><br/><table class=\"wandb\"><tr><td>epoch</td><td>epoch_60.pkl</td></tr><tr><td>fold_3_mean_mae</td><td>4.00434</td></tr></table><br/></div></div>"
      ],
      "text/plain": [
       "<IPython.core.display.HTML object>"
      ]
     },
     "metadata": {},
     "output_type": "display_data"
    },
    {
     "data": {
      "text/html": [
       "Synced <strong style=\"color:#cdcd00\">lucky-breeze-4</strong>: <a href=\"https://wandb.ai/synthesis-ai/62_syn_mode_sdata2_syn_data2/runs/1j0azv2u\" target=\"_blank\">https://wandb.ai/synthesis-ai/62_syn_mode_sdata2_syn_data2/runs/1j0azv2u</a><br/>Synced 5 W&B file(s), 0 media file(s), 0 artifact file(s) and 0 other file(s)"
      ],
      "text/plain": [
       "<IPython.core.display.HTML object>"
      ]
     },
     "metadata": {},
     "output_type": "display_data"
    },
    {
     "data": {
      "text/html": [
       "Find logs at: <code>./wandb/run-20220712_145641-1j0azv2u/logs</code>"
      ],
      "text/plain": [
       "<IPython.core.display.HTML object>"
      ]
     },
     "metadata": {},
     "output_type": "display_data"
    },
    {
     "data": {
      "text/html": [
       "wandb version 0.12.21 is available!  To upgrade, please run:\n",
       " $ pip install wandb --upgrade"
      ],
      "text/plain": [
       "<IPython.core.display.HTML object>"
      ]
     },
     "metadata": {},
     "output_type": "display_data"
    },
    {
     "data": {
      "text/html": [
       "Tracking run with wandb version 0.12.15"
      ],
      "text/plain": [
       "<IPython.core.display.HTML object>"
      ]
     },
     "metadata": {},
     "output_type": "display_data"
    },
    {
     "data": {
      "text/html": [
       "Run data is saved locally in <code>/project/notebooks/wandb/run-20220712_151135-1oibj6ej</code>"
      ],
      "text/plain": [
       "<IPython.core.display.HTML object>"
      ]
     },
     "metadata": {},
     "output_type": "display_data"
    },
    {
     "data": {
      "text/html": [
       "Syncing run <strong><a href=\"https://wandb.ai/synthesis-ai/62_syn_mode_sdata2_syn_data2/runs/1oibj6ej\" target=\"_blank\">crimson-plasma-5</a></strong> to <a href=\"https://wandb.ai/synthesis-ai/62_syn_mode_sdata2_syn_data2\" target=\"_blank\">Weights & Biases</a> (<a href=\"https://wandb.me/run\" target=\"_blank\">docs</a>)<br/>"
      ],
      "text/plain": [
       "<IPython.core.display.HTML object>"
      ]
     },
     "metadata": {},
     "output_type": "display_data"
    },
    {
     "name": "stdout",
     "output_type": "stream",
     "text": [
      "fold=4\n",
      "/project/data/sdata2/Label\n",
      "22 items removed from dataset that have an angle > 180\n",
      "\n",
      "test configuration equal gpu_id=cuda:0, batch_size=20, model_arch=ResNet50\n",
      "Start testing dataset=mpiigaze, FOLD=4 --07/12/2022 08:11:38---------\n",
      "entering epoch=epoch_1.pkl\n",
      "[epoch_1.pkl---mpiigaze] Total Num:2977,MAE:4.395427982956978  07/12/2022 08:11:56\n",
      "entering epoch=epoch_2.pkl\n",
      "[epoch_2.pkl---mpiigaze] Total Num:2977,MAE:3.4699722279956466  07/12/2022 08:12:11\n",
      "entering epoch=epoch_3.pkl\n",
      "[epoch_3.pkl---mpiigaze] Total Num:2977,MAE:3.4125136690782094  07/12/2022 08:12:26\n",
      "entering epoch=epoch_4.pkl\n",
      "[epoch_4.pkl---mpiigaze] Total Num:2977,MAE:3.923303492969336  07/12/2022 08:12:40\n",
      "entering epoch=epoch_5.pkl\n",
      "[epoch_5.pkl---mpiigaze] Total Num:2977,MAE:3.631566412574744  07/12/2022 08:12:55\n",
      "entering epoch=epoch_6.pkl\n",
      "[epoch_6.pkl---mpiigaze] Total Num:2977,MAE:3.892380954555506  07/12/2022 08:13:09\n",
      "entering epoch=epoch_7.pkl\n",
      "[epoch_7.pkl---mpiigaze] Total Num:2977,MAE:3.760372906890897  07/12/2022 08:13:24\n",
      "entering epoch=epoch_8.pkl\n",
      "[epoch_8.pkl---mpiigaze] Total Num:2977,MAE:3.3041301209998304  07/12/2022 08:13:38\n",
      "entering epoch=epoch_9.pkl\n",
      "[epoch_9.pkl---mpiigaze] Total Num:2977,MAE:3.6104183509265453  07/12/2022 08:13:53\n",
      "entering epoch=epoch_10.pkl\n",
      "[epoch_10.pkl---mpiigaze] Total Num:2977,MAE:3.458645995542199  07/12/2022 08:14:10\n",
      "entering epoch=epoch_11.pkl\n",
      "[epoch_11.pkl---mpiigaze] Total Num:2977,MAE:3.399853250988862  07/12/2022 08:14:26\n",
      "entering epoch=epoch_12.pkl\n",
      "[epoch_12.pkl---mpiigaze] Total Num:2977,MAE:3.385029842732945  07/12/2022 08:14:40\n",
      "entering epoch=epoch_13.pkl\n",
      "[epoch_13.pkl---mpiigaze] Total Num:2977,MAE:3.563369943540691  07/12/2022 08:14:55\n",
      "entering epoch=epoch_14.pkl\n",
      "[epoch_14.pkl---mpiigaze] Total Num:2977,MAE:3.7496588284188475  07/12/2022 08:15:10\n",
      "entering epoch=epoch_15.pkl\n",
      "[epoch_15.pkl---mpiigaze] Total Num:2977,MAE:3.262086978690786  07/12/2022 08:15:26\n",
      "entering epoch=epoch_16.pkl\n",
      "[epoch_16.pkl---mpiigaze] Total Num:2977,MAE:3.2128901041510423  07/12/2022 08:15:42\n",
      "entering epoch=epoch_17.pkl\n",
      "[epoch_17.pkl---mpiigaze] Total Num:2977,MAE:3.454350082925036  07/12/2022 08:15:57\n",
      "entering epoch=epoch_18.pkl\n",
      "[epoch_18.pkl---mpiigaze] Total Num:2977,MAE:3.595956484088063  07/12/2022 08:16:11\n",
      "entering epoch=epoch_19.pkl\n",
      "[epoch_19.pkl---mpiigaze] Total Num:2977,MAE:3.956729167803371  07/12/2022 08:16:26\n",
      "entering epoch=epoch_20.pkl\n",
      "[epoch_20.pkl---mpiigaze] Total Num:2977,MAE:3.3233426712716754  07/12/2022 08:16:40\n",
      "entering epoch=epoch_21.pkl\n",
      "[epoch_21.pkl---mpiigaze] Total Num:2977,MAE:3.389897764315714  07/12/2022 08:16:54\n",
      "entering epoch=epoch_22.pkl\n",
      "[epoch_22.pkl---mpiigaze] Total Num:2977,MAE:3.1864286055556508  07/12/2022 08:17:09\n",
      "entering epoch=epoch_23.pkl\n",
      "[epoch_23.pkl---mpiigaze] Total Num:2977,MAE:3.5482595229899228  07/12/2022 08:17:23\n",
      "entering epoch=epoch_24.pkl\n",
      "[epoch_24.pkl---mpiigaze] Total Num:2977,MAE:3.4258243698012687  07/12/2022 08:17:39\n",
      "entering epoch=epoch_25.pkl\n",
      "[epoch_25.pkl---mpiigaze] Total Num:2977,MAE:3.314476397725496  07/12/2022 08:17:53\n",
      "entering epoch=epoch_26.pkl\n",
      "[epoch_26.pkl---mpiigaze] Total Num:2977,MAE:3.275674227242988  07/12/2022 08:18:08\n",
      "entering epoch=epoch_27.pkl\n",
      "[epoch_27.pkl---mpiigaze] Total Num:2977,MAE:3.3068927292902526  07/12/2022 08:18:22\n",
      "entering epoch=epoch_28.pkl\n",
      "[epoch_28.pkl---mpiigaze] Total Num:2977,MAE:3.8579809378083447  07/12/2022 08:18:36\n",
      "entering epoch=epoch_29.pkl\n",
      "[epoch_29.pkl---mpiigaze] Total Num:2977,MAE:3.2429509959810807  07/12/2022 08:18:51\n",
      "entering epoch=epoch_30.pkl\n",
      "[epoch_30.pkl---mpiigaze] Total Num:2977,MAE:3.3842143649368386  07/12/2022 08:19:05\n",
      "entering epoch=epoch_31.pkl\n",
      "[epoch_31.pkl---mpiigaze] Total Num:2977,MAE:3.60570664085062  07/12/2022 08:19:19\n",
      "entering epoch=epoch_32.pkl\n",
      "[epoch_32.pkl---mpiigaze] Total Num:2977,MAE:3.571437922334793  07/12/2022 08:19:34\n",
      "entering epoch=epoch_33.pkl\n",
      "[epoch_33.pkl---mpiigaze] Total Num:2977,MAE:3.5358204325206386  07/12/2022 08:19:48\n",
      "entering epoch=epoch_34.pkl\n",
      "[epoch_34.pkl---mpiigaze] Total Num:2977,MAE:3.2909544834697035  07/12/2022 08:20:03\n",
      "entering epoch=epoch_35.pkl\n",
      "[epoch_35.pkl---mpiigaze] Total Num:2977,MAE:3.461017862778497  07/12/2022 08:20:17\n",
      "entering epoch=epoch_36.pkl\n",
      "[epoch_36.pkl---mpiigaze] Total Num:2977,MAE:3.462101421558421  07/12/2022 08:20:31\n",
      "entering epoch=epoch_37.pkl\n",
      "[epoch_37.pkl---mpiigaze] Total Num:2977,MAE:3.6982410034484143  07/12/2022 08:20:45\n",
      "entering epoch=epoch_38.pkl\n",
      "[epoch_38.pkl---mpiigaze] Total Num:2977,MAE:3.401170384755063  07/12/2022 08:21:00\n",
      "entering epoch=epoch_39.pkl\n",
      "[epoch_39.pkl---mpiigaze] Total Num:2977,MAE:3.3484826240531986  07/12/2022 08:21:14\n",
      "entering epoch=epoch_40.pkl\n",
      "[epoch_40.pkl---mpiigaze] Total Num:2977,MAE:3.296490162537814  07/12/2022 08:21:29\n",
      "entering epoch=epoch_41.pkl\n",
      "[epoch_41.pkl---mpiigaze] Total Num:2977,MAE:3.191796015702354  07/12/2022 08:21:43\n",
      "entering epoch=epoch_42.pkl\n",
      "[epoch_42.pkl---mpiigaze] Total Num:2977,MAE:3.560696163705343  07/12/2022 08:21:57\n",
      "entering epoch=epoch_43.pkl\n",
      "[epoch_43.pkl---mpiigaze] Total Num:2977,MAE:3.3654158268231797  07/12/2022 08:22:12\n",
      "entering epoch=epoch_44.pkl\n",
      "[epoch_44.pkl---mpiigaze] Total Num:2977,MAE:3.162663239281824  07/12/2022 08:22:27\n",
      "entering epoch=epoch_45.pkl\n",
      "[epoch_45.pkl---mpiigaze] Total Num:2977,MAE:3.329028121823129  07/12/2022 08:22:42\n",
      "entering epoch=epoch_46.pkl\n",
      "[epoch_46.pkl---mpiigaze] Total Num:2977,MAE:3.8130756728663817  07/12/2022 08:22:56\n",
      "entering epoch=epoch_47.pkl\n",
      "[epoch_47.pkl---mpiigaze] Total Num:2977,MAE:3.4306427958881893  07/12/2022 08:23:11\n",
      "entering epoch=epoch_48.pkl\n",
      "[epoch_48.pkl---mpiigaze] Total Num:2977,MAE:3.440167737880161  07/12/2022 08:23:27\n",
      "entering epoch=epoch_49.pkl\n",
      "[epoch_49.pkl---mpiigaze] Total Num:2977,MAE:3.422831621950385  07/12/2022 08:23:42\n",
      "entering epoch=epoch_50.pkl\n",
      "[epoch_50.pkl---mpiigaze] Total Num:2977,MAE:3.3203136460383305  07/12/2022 08:23:56\n",
      "entering epoch=epoch_51.pkl\n",
      "[epoch_51.pkl---mpiigaze] Total Num:2977,MAE:3.176191409749967  07/12/2022 08:24:12\n",
      "entering epoch=epoch_52.pkl\n",
      "[epoch_52.pkl---mpiigaze] Total Num:2977,MAE:3.123133036277399  07/12/2022 08:24:26\n",
      "entering epoch=epoch_53.pkl\n",
      "[epoch_53.pkl---mpiigaze] Total Num:2977,MAE:3.261086365078693  07/12/2022 08:24:41\n",
      "entering epoch=epoch_54.pkl\n",
      "[epoch_54.pkl---mpiigaze] Total Num:2977,MAE:3.2114223844250374  07/12/2022 08:24:57\n",
      "entering epoch=epoch_55.pkl\n",
      "[epoch_55.pkl---mpiigaze] Total Num:2977,MAE:3.5421988083506957  07/12/2022 08:25:13\n",
      "entering epoch=epoch_56.pkl\n",
      "[epoch_56.pkl---mpiigaze] Total Num:2977,MAE:3.125081846395926  07/12/2022 08:25:29\n",
      "entering epoch=epoch_57.pkl\n",
      "[epoch_57.pkl---mpiigaze] Total Num:2977,MAE:3.1818682723683156  07/12/2022 08:25:43\n",
      "entering epoch=epoch_58.pkl\n",
      "[epoch_58.pkl---mpiigaze] Total Num:2977,MAE:3.420942265521141  07/12/2022 08:25:58\n",
      "entering epoch=epoch_59.pkl\n",
      "[epoch_59.pkl---mpiigaze] Total Num:2977,MAE:3.3091738536374216  07/12/2022 08:26:12\n",
      "entering epoch=epoch_60.pkl\n",
      "[epoch_60.pkl---mpiigaze] Total Num:2977,MAE:3.251239681839849  07/12/2022 08:26:27\n"
     ]
    },
    {
     "data": {
      "text/html": [
       "Waiting for W&B process to finish... <strong style=\"color:green\">(success).</strong>"
      ],
      "text/plain": [
       "<IPython.core.display.HTML object>"
      ]
     },
     "metadata": {},
     "output_type": "display_data"
    },
    {
     "data": {
      "application/vnd.jupyter.widget-view+json": {
       "model_id": "",
       "version_major": 2,
       "version_minor": 0
      },
      "text/plain": [
       "VBox(children=(Label(value='0.001 MB of 0.001 MB uploaded (0.000 MB deduped)\\r'), FloatProgress(value=1.0, max…"
      ]
     },
     "metadata": {},
     "output_type": "display_data"
    },
    {
     "data": {
      "text/html": [
       "<style>\n",
       "    table.wandb td:nth-child(1) { padding: 0 10px; text-align: right }\n",
       "    .wandb-row { display: flex; flex-direction: row; flex-wrap: wrap; width: 100% }\n",
       "    .wandb-col { display: flex; flex-direction: column; flex-basis: 100%; flex: 1; padding: 10px; }\n",
       "    </style>\n",
       "<div class=\"wandb-row\"><div class=\"wandb-col\"><h3>Run history:</h3><br/><table class=\"wandb\"><tr><td>fold_4_mean_mae</td><td>█▃▅▄▅▂▃▃▃▄▁▃▆▂▁▃▂▂▅▂▄▃▂▃▄▃▂▁▂▁▅▃▃▂▁▂▃▁▃▂</td></tr></table><br/></div><div class=\"wandb-col\"><h3>Run summary:</h3><br/><table class=\"wandb\"><tr><td>epoch</td><td>epoch_60.pkl</td></tr><tr><td>fold_4_mean_mae</td><td>3.25124</td></tr></table><br/></div></div>"
      ],
      "text/plain": [
       "<IPython.core.display.HTML object>"
      ]
     },
     "metadata": {},
     "output_type": "display_data"
    },
    {
     "data": {
      "text/html": [
       "Synced <strong style=\"color:#cdcd00\">crimson-plasma-5</strong>: <a href=\"https://wandb.ai/synthesis-ai/62_syn_mode_sdata2_syn_data2/runs/1oibj6ej\" target=\"_blank\">https://wandb.ai/synthesis-ai/62_syn_mode_sdata2_syn_data2/runs/1oibj6ej</a><br/>Synced 5 W&B file(s), 0 media file(s), 0 artifact file(s) and 0 other file(s)"
      ],
      "text/plain": [
       "<IPython.core.display.HTML object>"
      ]
     },
     "metadata": {},
     "output_type": "display_data"
    },
    {
     "data": {
      "text/html": [
       "Find logs at: <code>./wandb/run-20220712_151135-1oibj6ej/logs</code>"
      ],
      "text/plain": [
       "<IPython.core.display.HTML object>"
      ]
     },
     "metadata": {},
     "output_type": "display_data"
    },
    {
     "data": {
      "text/html": [
       "wandb version 0.12.21 is available!  To upgrade, please run:\n",
       " $ pip install wandb --upgrade"
      ],
      "text/plain": [
       "<IPython.core.display.HTML object>"
      ]
     },
     "metadata": {},
     "output_type": "display_data"
    },
    {
     "data": {
      "text/html": [
       "Tracking run with wandb version 0.12.15"
      ],
      "text/plain": [
       "<IPython.core.display.HTML object>"
      ]
     },
     "metadata": {},
     "output_type": "display_data"
    },
    {
     "data": {
      "text/html": [
       "Run data is saved locally in <code>/project/notebooks/wandb/run-20220712_152632-2ikyohq4</code>"
      ],
      "text/plain": [
       "<IPython.core.display.HTML object>"
      ]
     },
     "metadata": {},
     "output_type": "display_data"
    },
    {
     "data": {
      "text/html": [
       "Syncing run <strong><a href=\"https://wandb.ai/synthesis-ai/62_syn_mode_sdata2_syn_data2/runs/2ikyohq4\" target=\"_blank\">fiery-field-6</a></strong> to <a href=\"https://wandb.ai/synthesis-ai/62_syn_mode_sdata2_syn_data2\" target=\"_blank\">Weights & Biases</a> (<a href=\"https://wandb.me/run\" target=\"_blank\">docs</a>)<br/>"
      ],
      "text/plain": [
       "<IPython.core.display.HTML object>"
      ]
     },
     "metadata": {},
     "output_type": "display_data"
    },
    {
     "name": "stdout",
     "output_type": "stream",
     "text": [
      "fold=5\n",
      "/project/data/sdata2/Label\n",
      "25 items removed from dataset that have an angle > 180\n",
      "\n",
      "test configuration equal gpu_id=cuda:0, batch_size=20, model_arch=ResNet50\n",
      "Start testing dataset=mpiigaze, FOLD=5 --07/12/2022 08:26:35---------\n",
      "entering epoch=epoch_1.pkl\n",
      "[epoch_1.pkl---mpiigaze] Total Num:2974,MAE:4.777044486097614  07/12/2022 08:26:52\n",
      "entering epoch=epoch_2.pkl\n",
      "[epoch_2.pkl---mpiigaze] Total Num:2974,MAE:3.826906071576802  07/12/2022 08:27:06\n",
      "entering epoch=epoch_3.pkl\n",
      "[epoch_3.pkl---mpiigaze] Total Num:2974,MAE:3.334356494350059  07/12/2022 08:27:21\n",
      "entering epoch=epoch_4.pkl\n",
      "[epoch_4.pkl---mpiigaze] Total Num:2974,MAE:6.008726716059473  07/12/2022 08:27:35\n",
      "entering epoch=epoch_5.pkl\n",
      "[epoch_5.pkl---mpiigaze] Total Num:2974,MAE:3.5865957772866457  07/12/2022 08:27:51\n",
      "entering epoch=epoch_6.pkl\n",
      "[epoch_6.pkl---mpiigaze] Total Num:2974,MAE:2.941198099025992  07/12/2022 08:28:05\n",
      "entering epoch=epoch_7.pkl\n",
      "[epoch_7.pkl---mpiigaze] Total Num:2974,MAE:3.4142799230126832  07/12/2022 08:28:20\n",
      "entering epoch=epoch_8.pkl\n",
      "[epoch_8.pkl---mpiigaze] Total Num:2974,MAE:3.022375885852772  07/12/2022 08:28:34\n",
      "entering epoch=epoch_9.pkl\n",
      "[epoch_9.pkl---mpiigaze] Total Num:2974,MAE:3.3238874795529494  07/12/2022 08:28:49\n",
      "entering epoch=epoch_10.pkl\n",
      "[epoch_10.pkl---mpiigaze] Total Num:2974,MAE:3.099896332692582  07/12/2022 08:29:03\n",
      "entering epoch=epoch_11.pkl\n",
      "[epoch_11.pkl---mpiigaze] Total Num:2974,MAE:3.3274830969087668  07/12/2022 08:29:18\n",
      "entering epoch=epoch_12.pkl\n",
      "[epoch_12.pkl---mpiigaze] Total Num:2974,MAE:3.0237868479803094  07/12/2022 08:29:32\n",
      "entering epoch=epoch_13.pkl\n",
      "[epoch_13.pkl---mpiigaze] Total Num:2974,MAE:3.2389118525724276  07/12/2022 08:29:46\n",
      "entering epoch=epoch_14.pkl\n",
      "[epoch_14.pkl---mpiigaze] Total Num:2974,MAE:3.015549102626437  07/12/2022 08:30:01\n",
      "entering epoch=epoch_15.pkl\n",
      "[epoch_15.pkl---mpiigaze] Total Num:2974,MAE:3.2047972014640314  07/12/2022 08:30:16\n",
      "entering epoch=epoch_16.pkl\n",
      "[epoch_16.pkl---mpiigaze] Total Num:2974,MAE:2.7307107962926436  07/12/2022 08:30:30\n",
      "entering epoch=epoch_17.pkl\n",
      "[epoch_17.pkl---mpiigaze] Total Num:2974,MAE:2.744925834181357  07/12/2022 08:30:44\n",
      "entering epoch=epoch_18.pkl\n",
      "[epoch_18.pkl---mpiigaze] Total Num:2974,MAE:2.705046472763432  07/12/2022 08:30:59\n",
      "entering epoch=epoch_19.pkl\n",
      "[epoch_19.pkl---mpiigaze] Total Num:2974,MAE:3.540662347012708  07/12/2022 08:31:13\n",
      "entering epoch=epoch_20.pkl\n",
      "[epoch_20.pkl---mpiigaze] Total Num:2974,MAE:3.0983045828552234  07/12/2022 08:31:28\n",
      "entering epoch=epoch_21.pkl\n",
      "[epoch_21.pkl---mpiigaze] Total Num:2974,MAE:2.7398802728961167  07/12/2022 08:31:42\n",
      "entering epoch=epoch_22.pkl\n",
      "[epoch_22.pkl---mpiigaze] Total Num:2974,MAE:3.1038594868265093  07/12/2022 08:31:57\n",
      "entering epoch=epoch_23.pkl\n",
      "[epoch_23.pkl---mpiigaze] Total Num:2974,MAE:2.643936362638894  07/12/2022 08:32:11\n",
      "entering epoch=epoch_24.pkl\n",
      "[epoch_24.pkl---mpiigaze] Total Num:2974,MAE:2.808976079535042  07/12/2022 08:32:26\n",
      "entering epoch=epoch_25.pkl\n",
      "[epoch_25.pkl---mpiigaze] Total Num:2974,MAE:2.8916951385292102  07/12/2022 08:32:41\n",
      "entering epoch=epoch_26.pkl\n",
      "[epoch_26.pkl---mpiigaze] Total Num:2974,MAE:2.9360611210309138  07/12/2022 08:32:55\n",
      "entering epoch=epoch_27.pkl\n",
      "[epoch_27.pkl---mpiigaze] Total Num:2974,MAE:3.2177614442988514  07/12/2022 08:33:09\n",
      "entering epoch=epoch_28.pkl\n",
      "[epoch_28.pkl---mpiigaze] Total Num:2974,MAE:2.687427165967279  07/12/2022 08:33:25\n",
      "entering epoch=epoch_29.pkl\n",
      "[epoch_29.pkl---mpiigaze] Total Num:2974,MAE:2.6517048056340378  07/12/2022 08:33:39\n",
      "entering epoch=epoch_30.pkl\n",
      "[epoch_30.pkl---mpiigaze] Total Num:2974,MAE:3.0086137238129647  07/12/2022 08:33:53\n",
      "entering epoch=epoch_31.pkl\n",
      "[epoch_31.pkl---mpiigaze] Total Num:2974,MAE:2.704135824283707  07/12/2022 08:34:12\n",
      "entering epoch=epoch_32.pkl\n",
      "[epoch_32.pkl---mpiigaze] Total Num:2974,MAE:2.6094820704752046  07/12/2022 08:34:26\n",
      "entering epoch=epoch_33.pkl\n",
      "[epoch_33.pkl---mpiigaze] Total Num:2974,MAE:3.0059457447082534  07/12/2022 08:34:42\n",
      "entering epoch=epoch_34.pkl\n",
      "[epoch_34.pkl---mpiigaze] Total Num:2974,MAE:3.0071418465509647  07/12/2022 08:34:59\n",
      "entering epoch=epoch_35.pkl\n",
      "[epoch_35.pkl---mpiigaze] Total Num:2974,MAE:3.224877563302897  07/12/2022 08:35:15\n",
      "entering epoch=epoch_36.pkl\n",
      "[epoch_36.pkl---mpiigaze] Total Num:2974,MAE:2.6995098162404103  07/12/2022 08:35:30\n",
      "entering epoch=epoch_37.pkl\n",
      "[epoch_37.pkl---mpiigaze] Total Num:2974,MAE:2.974427310140589  07/12/2022 08:35:44\n",
      "entering epoch=epoch_38.pkl\n",
      "[epoch_38.pkl---mpiigaze] Total Num:2974,MAE:2.8856124582091685  07/12/2022 08:35:59\n",
      "entering epoch=epoch_39.pkl\n",
      "[epoch_39.pkl---mpiigaze] Total Num:2974,MAE:2.8563000649481056  07/12/2022 08:36:13\n",
      "entering epoch=epoch_40.pkl\n",
      "[epoch_40.pkl---mpiigaze] Total Num:2974,MAE:2.8599079052742966  07/12/2022 08:36:28\n",
      "entering epoch=epoch_41.pkl\n",
      "[epoch_41.pkl---mpiigaze] Total Num:2974,MAE:2.7789024234237742  07/12/2022 08:36:43\n",
      "entering epoch=epoch_42.pkl\n",
      "[epoch_42.pkl---mpiigaze] Total Num:2974,MAE:2.600310139578054  07/12/2022 08:36:57\n",
      "entering epoch=epoch_43.pkl\n",
      "[epoch_43.pkl---mpiigaze] Total Num:2974,MAE:2.8889631862846943  07/12/2022 08:37:12\n",
      "entering epoch=epoch_44.pkl\n",
      "[epoch_44.pkl---mpiigaze] Total Num:2974,MAE:2.8896269962673413  07/12/2022 08:37:26\n",
      "entering epoch=epoch_45.pkl\n",
      "[epoch_45.pkl---mpiigaze] Total Num:2974,MAE:2.811056386533197  07/12/2022 08:37:42\n",
      "entering epoch=epoch_46.pkl\n",
      "[epoch_46.pkl---mpiigaze] Total Num:2974,MAE:2.961420857008094  07/12/2022 08:37:56\n",
      "entering epoch=epoch_47.pkl\n",
      "[epoch_47.pkl---mpiigaze] Total Num:2974,MAE:2.8197608899162705  07/12/2022 08:38:11\n",
      "entering epoch=epoch_48.pkl\n",
      "[epoch_48.pkl---mpiigaze] Total Num:2974,MAE:2.8790885347542163  07/12/2022 08:38:25\n",
      "entering epoch=epoch_49.pkl\n",
      "[epoch_49.pkl---mpiigaze] Total Num:2974,MAE:2.8340763570551073  07/12/2022 08:38:40\n",
      "entering epoch=epoch_50.pkl\n",
      "[epoch_50.pkl---mpiigaze] Total Num:2974,MAE:2.765081249737944  07/12/2022 08:38:54\n",
      "entering epoch=epoch_51.pkl\n",
      "[epoch_51.pkl---mpiigaze] Total Num:2974,MAE:2.577560557244004  07/12/2022 08:39:09\n",
      "entering epoch=epoch_52.pkl\n",
      "[epoch_52.pkl---mpiigaze] Total Num:2974,MAE:2.8581892254202956  07/12/2022 08:39:23\n",
      "entering epoch=epoch_53.pkl\n",
      "[epoch_53.pkl---mpiigaze] Total Num:2974,MAE:2.735785648586566  07/12/2022 08:39:38\n",
      "entering epoch=epoch_54.pkl\n",
      "[epoch_54.pkl---mpiigaze] Total Num:2974,MAE:3.045345931420839  07/12/2022 08:39:52\n",
      "entering epoch=epoch_55.pkl\n",
      "[epoch_55.pkl---mpiigaze] Total Num:2974,MAE:2.7649037769700433  07/12/2022 08:40:07\n",
      "entering epoch=epoch_56.pkl\n",
      "[epoch_56.pkl---mpiigaze] Total Num:2974,MAE:2.668355815397816  07/12/2022 08:40:22\n",
      "entering epoch=epoch_57.pkl\n",
      "[epoch_57.pkl---mpiigaze] Total Num:2974,MAE:2.640837472624341  07/12/2022 08:40:36\n",
      "entering epoch=epoch_58.pkl\n",
      "[epoch_58.pkl---mpiigaze] Total Num:2974,MAE:2.778927747875195  07/12/2022 08:40:50\n",
      "entering epoch=epoch_59.pkl\n",
      "[epoch_59.pkl---mpiigaze] Total Num:2974,MAE:2.802199377384305  07/12/2022 08:41:05\n",
      "entering epoch=epoch_60.pkl\n",
      "[epoch_60.pkl---mpiigaze] Total Num:2974,MAE:2.664181399557927  07/12/2022 08:41:19\n"
     ]
    },
    {
     "data": {
      "text/html": [
       "Waiting for W&B process to finish... <strong style=\"color:green\">(success).</strong>"
      ],
      "text/plain": [
       "<IPython.core.display.HTML object>"
      ]
     },
     "metadata": {},
     "output_type": "display_data"
    },
    {
     "data": {
      "application/vnd.jupyter.widget-view+json": {
       "model_id": "",
       "version_major": 2,
       "version_minor": 0
      },
      "text/plain": [
       "VBox(children=(Label(value='0.001 MB of 0.001 MB uploaded (0.000 MB deduped)\\r'), FloatProgress(value=1.0, max…"
      ]
     },
     "metadata": {},
     "output_type": "display_data"
    },
    {
     "data": {
      "text/html": [
       "<style>\n",
       "    table.wandb td:nth-child(1) { padding: 0 10px; text-align: right }\n",
       "    .wandb-row { display: flex; flex-direction: row; flex-wrap: wrap; width: 100% }\n",
       "    .wandb-col { display: flex; flex-direction: column; flex-basis: 100%; flex: 1; padding: 10px; }\n",
       "    </style>\n",
       "<div class=\"wandb-row\"><div class=\"wandb-col\"><h3>Run history:</h3><br/><table class=\"wandb\"><tr><td>fold_5_mean_mae</td><td>▅▄█▃▃▂▂▂▂▂▁▁▃▂▂▁▂▂▁▁▁▁▂▂▂▂▂▁▂▂▂▁▁▁▂▁▁▁▁▁</td></tr></table><br/></div><div class=\"wandb-col\"><h3>Run summary:</h3><br/><table class=\"wandb\"><tr><td>epoch</td><td>epoch_60.pkl</td></tr><tr><td>fold_5_mean_mae</td><td>2.66418</td></tr></table><br/></div></div>"
      ],
      "text/plain": [
       "<IPython.core.display.HTML object>"
      ]
     },
     "metadata": {},
     "output_type": "display_data"
    },
    {
     "data": {
      "text/html": [
       "Synced <strong style=\"color:#cdcd00\">fiery-field-6</strong>: <a href=\"https://wandb.ai/synthesis-ai/62_syn_mode_sdata2_syn_data2/runs/2ikyohq4\" target=\"_blank\">https://wandb.ai/synthesis-ai/62_syn_mode_sdata2_syn_data2/runs/2ikyohq4</a><br/>Synced 5 W&B file(s), 0 media file(s), 0 artifact file(s) and 0 other file(s)"
      ],
      "text/plain": [
       "<IPython.core.display.HTML object>"
      ]
     },
     "metadata": {},
     "output_type": "display_data"
    },
    {
     "data": {
      "text/html": [
       "Find logs at: <code>./wandb/run-20220712_152632-2ikyohq4/logs</code>"
      ],
      "text/plain": [
       "<IPython.core.display.HTML object>"
      ]
     },
     "metadata": {},
     "output_type": "display_data"
    },
    {
     "data": {
      "text/html": [
       "wandb version 0.12.21 is available!  To upgrade, please run:\n",
       " $ pip install wandb --upgrade"
      ],
      "text/plain": [
       "<IPython.core.display.HTML object>"
      ]
     },
     "metadata": {},
     "output_type": "display_data"
    },
    {
     "data": {
      "text/html": [
       "Tracking run with wandb version 0.12.15"
      ],
      "text/plain": [
       "<IPython.core.display.HTML object>"
      ]
     },
     "metadata": {},
     "output_type": "display_data"
    },
    {
     "data": {
      "text/html": [
       "Run data is saved locally in <code>/project/notebooks/wandb/run-20220712_154122-p29sljzy</code>"
      ],
      "text/plain": [
       "<IPython.core.display.HTML object>"
      ]
     },
     "metadata": {},
     "output_type": "display_data"
    },
    {
     "data": {
      "text/html": [
       "Syncing run <strong><a href=\"https://wandb.ai/synthesis-ai/62_syn_mode_sdata2_syn_data2/runs/p29sljzy\" target=\"_blank\">different-dew-7</a></strong> to <a href=\"https://wandb.ai/synthesis-ai/62_syn_mode_sdata2_syn_data2\" target=\"_blank\">Weights & Biases</a> (<a href=\"https://wandb.me/run\" target=\"_blank\">docs</a>)<br/>"
      ],
      "text/plain": [
       "<IPython.core.display.HTML object>"
      ]
     },
     "metadata": {},
     "output_type": "display_data"
    },
    {
     "name": "stdout",
     "output_type": "stream",
     "text": [
      "fold=6\n",
      "/project/data/sdata2/Label\n",
      "28 items removed from dataset that have an angle > 180\n",
      "\n",
      "test configuration equal gpu_id=cuda:0, batch_size=20, model_arch=ResNet50\n",
      "Start testing dataset=mpiigaze, FOLD=6 --07/12/2022 08:41:26---------\n",
      "entering epoch=epoch_1.pkl\n",
      "[epoch_1.pkl---mpiigaze] Total Num:2971,MAE:5.301720914613461  07/12/2022 08:41:43\n",
      "entering epoch=epoch_2.pkl\n",
      "[epoch_2.pkl---mpiigaze] Total Num:2971,MAE:4.707305197830401  07/12/2022 08:41:58\n",
      "entering epoch=epoch_3.pkl\n",
      "[epoch_3.pkl---mpiigaze] Total Num:2971,MAE:4.924517460535005  07/12/2022 08:42:12\n",
      "entering epoch=epoch_4.pkl\n",
      "[epoch_4.pkl---mpiigaze] Total Num:2971,MAE:4.531863411709158  07/12/2022 08:42:26\n",
      "entering epoch=epoch_5.pkl\n",
      "[epoch_5.pkl---mpiigaze] Total Num:2971,MAE:4.465520845879892  07/12/2022 08:42:41\n",
      "entering epoch=epoch_6.pkl\n",
      "[epoch_6.pkl---mpiigaze] Total Num:2971,MAE:4.11209214763295  07/12/2022 08:42:55\n",
      "entering epoch=epoch_7.pkl\n",
      "[epoch_7.pkl---mpiigaze] Total Num:2971,MAE:4.047871836404435  07/12/2022 08:43:12\n",
      "entering epoch=epoch_8.pkl\n",
      "[epoch_8.pkl---mpiigaze] Total Num:2971,MAE:4.195363467316927  07/12/2022 08:43:29\n",
      "entering epoch=epoch_9.pkl\n",
      "[epoch_9.pkl---mpiigaze] Total Num:2971,MAE:3.8646815178715483  07/12/2022 08:43:44\n",
      "entering epoch=epoch_10.pkl\n",
      "[epoch_10.pkl---mpiigaze] Total Num:2971,MAE:3.9392660724130937  07/12/2022 08:43:59\n",
      "entering epoch=epoch_11.pkl\n",
      "[epoch_11.pkl---mpiigaze] Total Num:2971,MAE:4.028622872314076  07/12/2022 08:44:14\n",
      "entering epoch=epoch_12.pkl\n",
      "[epoch_12.pkl---mpiigaze] Total Num:2971,MAE:3.729359255162757  07/12/2022 08:44:31\n",
      "entering epoch=epoch_13.pkl\n",
      "[epoch_13.pkl---mpiigaze] Total Num:2971,MAE:3.7393056379988785  07/12/2022 08:44:47\n",
      "entering epoch=epoch_14.pkl\n",
      "[epoch_14.pkl---mpiigaze] Total Num:2971,MAE:3.682165449573363  07/12/2022 08:45:03\n",
      "entering epoch=epoch_15.pkl\n",
      "[epoch_15.pkl---mpiigaze] Total Num:2971,MAE:3.79303331087091  07/12/2022 08:45:18\n",
      "entering epoch=epoch_16.pkl\n",
      "[epoch_16.pkl---mpiigaze] Total Num:2971,MAE:3.749337554996565  07/12/2022 08:45:32\n",
      "entering epoch=epoch_17.pkl\n",
      "[epoch_17.pkl---mpiigaze] Total Num:2971,MAE:3.583811347084126  07/12/2022 08:45:47\n",
      "entering epoch=epoch_18.pkl\n",
      "[epoch_18.pkl---mpiigaze] Total Num:2971,MAE:3.9947148089123985  07/12/2022 08:46:01\n",
      "entering epoch=epoch_19.pkl\n",
      "[epoch_19.pkl---mpiigaze] Total Num:2971,MAE:3.609145525839747  07/12/2022 08:46:16\n",
      "entering epoch=epoch_20.pkl\n",
      "[epoch_20.pkl---mpiigaze] Total Num:2971,MAE:3.6795360351924993  07/12/2022 08:46:30\n",
      "entering epoch=epoch_21.pkl\n",
      "[epoch_21.pkl---mpiigaze] Total Num:2971,MAE:3.4114192695324967  07/12/2022 08:46:45\n",
      "entering epoch=epoch_22.pkl\n",
      "[epoch_22.pkl---mpiigaze] Total Num:2971,MAE:3.4294999108355886  07/12/2022 08:47:00\n",
      "entering epoch=epoch_23.pkl\n",
      "[epoch_23.pkl---mpiigaze] Total Num:2971,MAE:3.5726504973396276  07/12/2022 08:47:16\n",
      "entering epoch=epoch_24.pkl\n",
      "[epoch_24.pkl---mpiigaze] Total Num:2971,MAE:3.446415092864111  07/12/2022 08:47:30\n",
      "entering epoch=epoch_25.pkl\n",
      "[epoch_25.pkl---mpiigaze] Total Num:2971,MAE:3.355159763124781  07/12/2022 08:47:45\n",
      "entering epoch=epoch_26.pkl\n",
      "[epoch_26.pkl---mpiigaze] Total Num:2971,MAE:3.501351558173457  07/12/2022 08:48:00\n",
      "entering epoch=epoch_27.pkl\n",
      "[epoch_27.pkl---mpiigaze] Total Num:2971,MAE:3.4940555755939764  07/12/2022 08:48:14\n",
      "entering epoch=epoch_28.pkl\n",
      "[epoch_28.pkl---mpiigaze] Total Num:2971,MAE:3.4469195369580974  07/12/2022 08:48:28\n",
      "entering epoch=epoch_29.pkl\n",
      "[epoch_29.pkl---mpiigaze] Total Num:2971,MAE:3.4342874162157884  07/12/2022 08:48:42\n",
      "entering epoch=epoch_30.pkl\n",
      "[epoch_30.pkl---mpiigaze] Total Num:2971,MAE:3.529312250228069  07/12/2022 08:48:57\n",
      "entering epoch=epoch_31.pkl\n",
      "[epoch_31.pkl---mpiigaze] Total Num:2971,MAE:3.289185655820763  07/12/2022 08:49:13\n",
      "entering epoch=epoch_32.pkl\n",
      "[epoch_32.pkl---mpiigaze] Total Num:2971,MAE:3.4921142427275  07/12/2022 08:49:27\n",
      "entering epoch=epoch_33.pkl\n",
      "[epoch_33.pkl---mpiigaze] Total Num:2971,MAE:3.340262081687318  07/12/2022 08:49:41\n",
      "entering epoch=epoch_34.pkl\n",
      "[epoch_34.pkl---mpiigaze] Total Num:2971,MAE:3.34491748089923  07/12/2022 08:49:56\n",
      "entering epoch=epoch_35.pkl\n",
      "[epoch_35.pkl---mpiigaze] Total Num:2971,MAE:3.271569257935404  07/12/2022 08:50:10\n",
      "entering epoch=epoch_36.pkl\n",
      "[epoch_36.pkl---mpiigaze] Total Num:2971,MAE:3.2847113905806102  07/12/2022 08:50:24\n",
      "entering epoch=epoch_37.pkl\n",
      "[epoch_37.pkl---mpiigaze] Total Num:2971,MAE:3.508592702211427  07/12/2022 08:50:39\n",
      "entering epoch=epoch_38.pkl\n",
      "[epoch_38.pkl---mpiigaze] Total Num:2971,MAE:3.3386163633264982  07/12/2022 08:50:53\n",
      "entering epoch=epoch_39.pkl\n",
      "[epoch_39.pkl---mpiigaze] Total Num:2971,MAE:3.3498671416995722  07/12/2022 08:51:08\n",
      "entering epoch=epoch_40.pkl\n",
      "[epoch_40.pkl---mpiigaze] Total Num:2971,MAE:3.426130049599412  07/12/2022 08:51:22\n",
      "entering epoch=epoch_41.pkl\n",
      "[epoch_41.pkl---mpiigaze] Total Num:2971,MAE:3.4422049557848236  07/12/2022 08:51:37\n",
      "entering epoch=epoch_42.pkl\n",
      "[epoch_42.pkl---mpiigaze] Total Num:2971,MAE:3.354357338973374  07/12/2022 08:51:51\n",
      "entering epoch=epoch_43.pkl\n",
      "[epoch_43.pkl---mpiigaze] Total Num:2971,MAE:3.274832324086121  07/12/2022 08:52:05\n",
      "entering epoch=epoch_44.pkl\n",
      "[epoch_44.pkl---mpiigaze] Total Num:2971,MAE:3.343078119914861  07/12/2022 08:52:20\n",
      "entering epoch=epoch_45.pkl\n",
      "[epoch_45.pkl---mpiigaze] Total Num:2971,MAE:3.2393053457263714  07/12/2022 08:52:34\n",
      "entering epoch=epoch_46.pkl\n",
      "[epoch_46.pkl---mpiigaze] Total Num:2971,MAE:3.3405579416017384  07/12/2022 08:52:49\n",
      "entering epoch=epoch_47.pkl\n",
      "[epoch_47.pkl---mpiigaze] Total Num:2971,MAE:3.5054384718980374  07/12/2022 08:53:04\n",
      "entering epoch=epoch_48.pkl\n",
      "[epoch_48.pkl---mpiigaze] Total Num:2971,MAE:3.322711506381851  07/12/2022 08:53:18\n",
      "entering epoch=epoch_49.pkl\n",
      "[epoch_49.pkl---mpiigaze] Total Num:2971,MAE:3.5018854621744784  07/12/2022 08:53:33\n",
      "entering epoch=epoch_50.pkl\n",
      "[epoch_50.pkl---mpiigaze] Total Num:2971,MAE:3.357416621662529  07/12/2022 08:53:48\n",
      "entering epoch=epoch_51.pkl\n",
      "[epoch_51.pkl---mpiigaze] Total Num:2971,MAE:3.327012344079084  07/12/2022 08:54:03\n",
      "entering epoch=epoch_52.pkl\n",
      "[epoch_52.pkl---mpiigaze] Total Num:2971,MAE:3.3002829728470044  07/12/2022 08:54:17\n",
      "entering epoch=epoch_53.pkl\n",
      "[epoch_53.pkl---mpiigaze] Total Num:2971,MAE:3.408012234464928  07/12/2022 08:54:31\n",
      "entering epoch=epoch_54.pkl\n",
      "[epoch_54.pkl---mpiigaze] Total Num:2971,MAE:3.3084527849779826  07/12/2022 08:54:47\n",
      "entering epoch=epoch_55.pkl\n",
      "[epoch_55.pkl---mpiigaze] Total Num:2971,MAE:3.4649232283251594  07/12/2022 08:55:02\n",
      "entering epoch=epoch_56.pkl\n",
      "[epoch_56.pkl---mpiigaze] Total Num:2971,MAE:3.301624466518891  07/12/2022 08:55:17\n",
      "entering epoch=epoch_57.pkl\n",
      "[epoch_57.pkl---mpiigaze] Total Num:2971,MAE:3.3653532157774433  07/12/2022 08:55:32\n",
      "entering epoch=epoch_58.pkl\n",
      "[epoch_58.pkl---mpiigaze] Total Num:2971,MAE:3.2388229668020294  07/12/2022 08:55:47\n",
      "entering epoch=epoch_59.pkl\n",
      "[epoch_59.pkl---mpiigaze] Total Num:2971,MAE:3.3660351628257175  07/12/2022 08:56:01\n",
      "entering epoch=epoch_60.pkl\n",
      "[epoch_60.pkl---mpiigaze] Total Num:2971,MAE:3.2791546817724204  07/12/2022 08:56:15\n"
     ]
    },
    {
     "data": {
      "text/html": [
       "Waiting for W&B process to finish... <strong style=\"color:green\">(success).</strong>"
      ],
      "text/plain": [
       "<IPython.core.display.HTML object>"
      ]
     },
     "metadata": {},
     "output_type": "display_data"
    },
    {
     "data": {
      "application/vnd.jupyter.widget-view+json": {
       "model_id": "",
       "version_major": 2,
       "version_minor": 0
      },
      "text/plain": [
       "VBox(children=(Label(value='0.001 MB of 0.001 MB uploaded (0.000 MB deduped)\\r'), FloatProgress(value=1.0, max…"
      ]
     },
     "metadata": {},
     "output_type": "display_data"
    },
    {
     "data": {
      "text/html": [
       "<style>\n",
       "    table.wandb td:nth-child(1) { padding: 0 10px; text-align: right }\n",
       "    .wandb-row { display: flex; flex-direction: row; flex-wrap: wrap; width: 100% }\n",
       "    .wandb-col { display: flex; flex-direction: column; flex-basis: 100%; flex: 1; padding: 10px; }\n",
       "    </style>\n",
       "<div class=\"wandb-row\"><div class=\"wandb-col\"><h3>Run history:</h3><br/><table class=\"wandb\"><tr><td>fold_6_mean_mae</td><td>█▆▅▅▄▄▃▄▃▃▃▂▂▂▂▂▁▂▂▂▁▂▁▁▂▁▂▂▁▁▁▂▂▁▁▂▂▁▁▁</td></tr></table><br/></div><div class=\"wandb-col\"><h3>Run summary:</h3><br/><table class=\"wandb\"><tr><td>epoch</td><td>epoch_60.pkl</td></tr><tr><td>fold_6_mean_mae</td><td>3.27915</td></tr></table><br/></div></div>"
      ],
      "text/plain": [
       "<IPython.core.display.HTML object>"
      ]
     },
     "metadata": {},
     "output_type": "display_data"
    },
    {
     "data": {
      "text/html": [
       "Synced <strong style=\"color:#cdcd00\">different-dew-7</strong>: <a href=\"https://wandb.ai/synthesis-ai/62_syn_mode_sdata2_syn_data2/runs/p29sljzy\" target=\"_blank\">https://wandb.ai/synthesis-ai/62_syn_mode_sdata2_syn_data2/runs/p29sljzy</a><br/>Synced 5 W&B file(s), 0 media file(s), 0 artifact file(s) and 0 other file(s)"
      ],
      "text/plain": [
       "<IPython.core.display.HTML object>"
      ]
     },
     "metadata": {},
     "output_type": "display_data"
    },
    {
     "data": {
      "text/html": [
       "Find logs at: <code>./wandb/run-20220712_154122-p29sljzy/logs</code>"
      ],
      "text/plain": [
       "<IPython.core.display.HTML object>"
      ]
     },
     "metadata": {},
     "output_type": "display_data"
    },
    {
     "data": {
      "text/html": [
       "wandb version 0.12.21 is available!  To upgrade, please run:\n",
       " $ pip install wandb --upgrade"
      ],
      "text/plain": [
       "<IPython.core.display.HTML object>"
      ]
     },
     "metadata": {},
     "output_type": "display_data"
    },
    {
     "data": {
      "text/html": [
       "Tracking run with wandb version 0.12.15"
      ],
      "text/plain": [
       "<IPython.core.display.HTML object>"
      ]
     },
     "metadata": {},
     "output_type": "display_data"
    },
    {
     "data": {
      "text/html": [
       "Run data is saved locally in <code>/project/notebooks/wandb/run-20220712_155619-1w5h2gi1</code>"
      ],
      "text/plain": [
       "<IPython.core.display.HTML object>"
      ]
     },
     "metadata": {},
     "output_type": "display_data"
    },
    {
     "data": {
      "text/html": [
       "Syncing run <strong><a href=\"https://wandb.ai/synthesis-ai/62_syn_mode_sdata2_syn_data2/runs/1w5h2gi1\" target=\"_blank\">vivid-galaxy-8</a></strong> to <a href=\"https://wandb.ai/synthesis-ai/62_syn_mode_sdata2_syn_data2\" target=\"_blank\">Weights & Biases</a> (<a href=\"https://wandb.me/run\" target=\"_blank\">docs</a>)<br/>"
      ],
      "text/plain": [
       "<IPython.core.display.HTML object>"
      ]
     },
     "metadata": {},
     "output_type": "display_data"
    },
    {
     "name": "stdout",
     "output_type": "stream",
     "text": [
      "fold=7\n",
      "/project/data/sdata2/Label\n",
      "42 items removed from dataset that have an angle > 180\n",
      "\n",
      "test configuration equal gpu_id=cuda:0, batch_size=20, model_arch=ResNet50\n",
      "Start testing dataset=mpiigaze, FOLD=7 --07/12/2022 08:56:23---------\n",
      "entering epoch=epoch_1.pkl\n",
      "[epoch_1.pkl---mpiigaze] Total Num:2957,MAE:6.834239486781133  07/12/2022 08:56:40\n",
      "entering epoch=epoch_2.pkl\n",
      "[epoch_2.pkl---mpiigaze] Total Num:2957,MAE:3.564338298436171  07/12/2022 08:56:55\n",
      "entering epoch=epoch_3.pkl\n",
      "[epoch_3.pkl---mpiigaze] Total Num:2957,MAE:3.873444026051329  07/12/2022 08:57:09\n",
      "entering epoch=epoch_4.pkl\n",
      "[epoch_4.pkl---mpiigaze] Total Num:2957,MAE:3.5919736161374787  07/12/2022 08:57:23\n",
      "entering epoch=epoch_5.pkl\n",
      "[epoch_5.pkl---mpiigaze] Total Num:2957,MAE:3.7034433872883037  07/12/2022 08:57:37\n",
      "entering epoch=epoch_6.pkl\n",
      "[epoch_6.pkl---mpiigaze] Total Num:2957,MAE:4.061929114398511  07/12/2022 08:57:53\n",
      "entering epoch=epoch_7.pkl\n",
      "[epoch_7.pkl---mpiigaze] Total Num:2957,MAE:4.229246946279436  07/12/2022 08:58:07\n",
      "entering epoch=epoch_8.pkl\n",
      "[epoch_8.pkl---mpiigaze] Total Num:2957,MAE:3.335952545883416  07/12/2022 08:58:21\n",
      "entering epoch=epoch_9.pkl\n",
      "[epoch_9.pkl---mpiigaze] Total Num:2957,MAE:3.3800311184851113  07/12/2022 08:58:36\n",
      "entering epoch=epoch_10.pkl\n",
      "[epoch_10.pkl---mpiigaze] Total Num:2957,MAE:3.245389541368662  07/12/2022 08:58:50\n",
      "entering epoch=epoch_11.pkl\n",
      "[epoch_11.pkl---mpiigaze] Total Num:2957,MAE:3.959108723687859  07/12/2022 08:59:04\n",
      "entering epoch=epoch_12.pkl\n",
      "[epoch_12.pkl---mpiigaze] Total Num:2957,MAE:3.468723602584815  07/12/2022 08:59:19\n",
      "entering epoch=epoch_13.pkl\n",
      "[epoch_13.pkl---mpiigaze] Total Num:2957,MAE:3.5494444412890442  07/12/2022 08:59:33\n",
      "entering epoch=epoch_14.pkl\n",
      "[epoch_14.pkl---mpiigaze] Total Num:2957,MAE:3.5400397229097242  07/12/2022 08:59:47\n",
      "entering epoch=epoch_15.pkl\n",
      "[epoch_15.pkl---mpiigaze] Total Num:2957,MAE:3.6156880983840645  07/12/2022 09:00:03\n",
      "entering epoch=epoch_16.pkl\n",
      "[epoch_16.pkl---mpiigaze] Total Num:2957,MAE:3.3934335449201636  07/12/2022 09:00:17\n",
      "entering epoch=epoch_17.pkl\n",
      "[epoch_17.pkl---mpiigaze] Total Num:2957,MAE:3.4879066484387917  07/12/2022 09:00:32\n",
      "entering epoch=epoch_18.pkl\n",
      "[epoch_18.pkl---mpiigaze] Total Num:2957,MAE:3.383749142542038  07/12/2022 09:00:46\n",
      "entering epoch=epoch_19.pkl\n",
      "[epoch_19.pkl---mpiigaze] Total Num:2957,MAE:3.261125483961365  07/12/2022 09:01:00\n",
      "entering epoch=epoch_20.pkl\n",
      "[epoch_20.pkl---mpiigaze] Total Num:2957,MAE:3.0656786537462346  07/12/2022 09:01:15\n",
      "entering epoch=epoch_21.pkl\n",
      "[epoch_21.pkl---mpiigaze] Total Num:2957,MAE:3.6128950066960672  07/12/2022 09:01:29\n",
      "entering epoch=epoch_22.pkl\n",
      "[epoch_22.pkl---mpiigaze] Total Num:2957,MAE:3.389226655608652  07/12/2022 09:01:43\n",
      "entering epoch=epoch_23.pkl\n",
      "[epoch_23.pkl---mpiigaze] Total Num:2957,MAE:3.426940759239127  07/12/2022 09:01:57\n",
      "entering epoch=epoch_24.pkl\n",
      "[epoch_24.pkl---mpiigaze] Total Num:2957,MAE:3.5022960378290753  07/12/2022 09:02:12\n",
      "entering epoch=epoch_25.pkl\n",
      "[epoch_25.pkl---mpiigaze] Total Num:2957,MAE:3.2572874420803455  07/12/2022 09:02:26\n",
      "entering epoch=epoch_26.pkl\n",
      "[epoch_26.pkl---mpiigaze] Total Num:2957,MAE:3.1901094737826146  07/12/2022 09:02:40\n",
      "entering epoch=epoch_27.pkl\n",
      "[epoch_27.pkl---mpiigaze] Total Num:2957,MAE:3.280466717166603  07/12/2022 09:02:55\n",
      "entering epoch=epoch_28.pkl\n",
      "[epoch_28.pkl---mpiigaze] Total Num:2957,MAE:3.2336672184260187  07/12/2022 09:03:09\n",
      "entering epoch=epoch_29.pkl\n",
      "[epoch_29.pkl---mpiigaze] Total Num:2957,MAE:3.275307035093589  07/12/2022 09:03:23\n",
      "entering epoch=epoch_30.pkl\n",
      "[epoch_30.pkl---mpiigaze] Total Num:2957,MAE:3.112759285724768  07/12/2022 09:03:38\n",
      "entering epoch=epoch_31.pkl\n",
      "[epoch_31.pkl---mpiigaze] Total Num:2957,MAE:3.332051654944142  07/12/2022 09:03:53\n",
      "entering epoch=epoch_32.pkl\n",
      "[epoch_32.pkl---mpiigaze] Total Num:2957,MAE:3.227265320953288  07/12/2022 09:04:09\n",
      "entering epoch=epoch_33.pkl\n",
      "[epoch_33.pkl---mpiigaze] Total Num:2957,MAE:3.6777136936969232  07/12/2022 09:04:24\n",
      "entering epoch=epoch_34.pkl\n",
      "[epoch_34.pkl---mpiigaze] Total Num:2957,MAE:3.900554929926731  07/12/2022 09:04:38\n",
      "entering epoch=epoch_35.pkl\n",
      "[epoch_35.pkl---mpiigaze] Total Num:2957,MAE:3.255432752209369  07/12/2022 09:04:54\n",
      "entering epoch=epoch_36.pkl\n",
      "[epoch_36.pkl---mpiigaze] Total Num:2957,MAE:3.261283259586752  07/12/2022 09:05:09\n",
      "entering epoch=epoch_37.pkl\n",
      "[epoch_37.pkl---mpiigaze] Total Num:2957,MAE:3.758302800937594  07/12/2022 09:05:23\n",
      "entering epoch=epoch_38.pkl\n",
      "[epoch_38.pkl---mpiigaze] Total Num:2957,MAE:3.4147045546215327  07/12/2022 09:05:38\n",
      "entering epoch=epoch_39.pkl\n",
      "[epoch_39.pkl---mpiigaze] Total Num:2957,MAE:3.229036920117882  07/12/2022 09:05:55\n",
      "entering epoch=epoch_40.pkl\n",
      "[epoch_40.pkl---mpiigaze] Total Num:2957,MAE:3.432233892434375  07/12/2022 09:06:09\n",
      "entering epoch=epoch_41.pkl\n",
      "[epoch_41.pkl---mpiigaze] Total Num:2957,MAE:3.04545142418609  07/12/2022 09:06:24\n",
      "entering epoch=epoch_42.pkl\n",
      "[epoch_42.pkl---mpiigaze] Total Num:2957,MAE:3.1458304930766583  07/12/2022 09:06:38\n",
      "entering epoch=epoch_43.pkl\n",
      "[epoch_43.pkl---mpiigaze] Total Num:2957,MAE:3.1320422804457437  07/12/2022 09:06:54\n",
      "entering epoch=epoch_44.pkl\n",
      "[epoch_44.pkl---mpiigaze] Total Num:2957,MAE:3.256664578079818  07/12/2022 09:07:08\n",
      "entering epoch=epoch_45.pkl\n",
      "[epoch_45.pkl---mpiigaze] Total Num:2957,MAE:3.426898283639778  07/12/2022 09:07:22\n",
      "entering epoch=epoch_46.pkl\n",
      "[epoch_46.pkl---mpiigaze] Total Num:2957,MAE:3.1559879897826937  07/12/2022 09:07:37\n",
      "entering epoch=epoch_47.pkl\n",
      "[epoch_47.pkl---mpiigaze] Total Num:2957,MAE:3.160342976741003  07/12/2022 09:07:52\n",
      "entering epoch=epoch_48.pkl\n",
      "[epoch_48.pkl---mpiigaze] Total Num:2957,MAE:3.190683657042427  07/12/2022 09:08:06\n",
      "entering epoch=epoch_49.pkl\n",
      "[epoch_49.pkl---mpiigaze] Total Num:2957,MAE:3.014880038957835  07/12/2022 09:08:21\n",
      "entering epoch=epoch_50.pkl\n",
      "[epoch_50.pkl---mpiigaze] Total Num:2957,MAE:3.418379026601507  07/12/2022 09:08:35\n",
      "entering epoch=epoch_51.pkl\n",
      "[epoch_51.pkl---mpiigaze] Total Num:2957,MAE:3.192263379577105  07/12/2022 09:08:49\n",
      "entering epoch=epoch_52.pkl\n",
      "[epoch_52.pkl---mpiigaze] Total Num:2957,MAE:3.0232074452974924  07/12/2022 09:09:04\n",
      "entering epoch=epoch_53.pkl\n",
      "[epoch_53.pkl---mpiigaze] Total Num:2957,MAE:3.2592908285102777  07/12/2022 09:09:18\n",
      "entering epoch=epoch_54.pkl\n",
      "[epoch_54.pkl---mpiigaze] Total Num:2957,MAE:3.186609712635393  07/12/2022 09:09:32\n",
      "entering epoch=epoch_55.pkl\n",
      "[epoch_55.pkl---mpiigaze] Total Num:2957,MAE:2.9790428820514654  07/12/2022 09:09:47\n",
      "entering epoch=epoch_56.pkl\n",
      "[epoch_56.pkl---mpiigaze] Total Num:2957,MAE:3.0998947446771603  07/12/2022 09:10:01\n",
      "entering epoch=epoch_57.pkl\n",
      "[epoch_57.pkl---mpiigaze] Total Num:2957,MAE:3.2615527800267943  07/12/2022 09:10:15\n",
      "entering epoch=epoch_58.pkl\n",
      "[epoch_58.pkl---mpiigaze] Total Num:2957,MAE:3.1917912403340742  07/12/2022 09:10:30\n",
      "entering epoch=epoch_59.pkl\n",
      "[epoch_59.pkl---mpiigaze] Total Num:2957,MAE:3.1061897481968335  07/12/2022 09:10:44\n",
      "entering epoch=epoch_60.pkl\n",
      "[epoch_60.pkl---mpiigaze] Total Num:2957,MAE:3.2762701916904913  07/12/2022 09:10:58\n"
     ]
    },
    {
     "data": {
      "text/html": [
       "Waiting for W&B process to finish... <strong style=\"color:green\">(success).</strong>"
      ],
      "text/plain": [
       "<IPython.core.display.HTML object>"
      ]
     },
     "metadata": {},
     "output_type": "display_data"
    },
    {
     "data": {
      "application/vnd.jupyter.widget-view+json": {
       "model_id": "",
       "version_major": 2,
       "version_minor": 0
      },
      "text/plain": [
       "VBox(children=(Label(value='0.001 MB of 0.001 MB uploaded (0.000 MB deduped)\\r'), FloatProgress(value=1.0, max…"
      ]
     },
     "metadata": {},
     "output_type": "display_data"
    },
    {
     "data": {
      "text/html": [
       "<style>\n",
       "    table.wandb td:nth-child(1) { padding: 0 10px; text-align: right }\n",
       "    .wandb-row { display: flex; flex-direction: row; flex-wrap: wrap; width: 100% }\n",
       "    .wandb-col { display: flex; flex-direction: column; flex-basis: 100%; flex: 1; padding: 10px; }\n",
       "    </style>\n",
       "<div class=\"wandb-row\"><div class=\"wandb-col\"><h3>Run history:</h3><br/><table class=\"wandb\"><tr><td>fold_7_mean_mae</td><td>█▂▂▂▃▂▁▃▂▂▂▂▂▁▂▂▂▁▁▂▂▁▃▂▂▂▂▁▁▂▁▁▁▂▁▂▁▁▁▂</td></tr></table><br/></div><div class=\"wandb-col\"><h3>Run summary:</h3><br/><table class=\"wandb\"><tr><td>epoch</td><td>epoch_60.pkl</td></tr><tr><td>fold_7_mean_mae</td><td>3.27627</td></tr></table><br/></div></div>"
      ],
      "text/plain": [
       "<IPython.core.display.HTML object>"
      ]
     },
     "metadata": {},
     "output_type": "display_data"
    },
    {
     "data": {
      "text/html": [
       "Synced <strong style=\"color:#cdcd00\">vivid-galaxy-8</strong>: <a href=\"https://wandb.ai/synthesis-ai/62_syn_mode_sdata2_syn_data2/runs/1w5h2gi1\" target=\"_blank\">https://wandb.ai/synthesis-ai/62_syn_mode_sdata2_syn_data2/runs/1w5h2gi1</a><br/>Synced 5 W&B file(s), 0 media file(s), 0 artifact file(s) and 0 other file(s)"
      ],
      "text/plain": [
       "<IPython.core.display.HTML object>"
      ]
     },
     "metadata": {},
     "output_type": "display_data"
    },
    {
     "data": {
      "text/html": [
       "Find logs at: <code>./wandb/run-20220712_155619-1w5h2gi1/logs</code>"
      ],
      "text/plain": [
       "<IPython.core.display.HTML object>"
      ]
     },
     "metadata": {},
     "output_type": "display_data"
    },
    {
     "data": {
      "text/html": [
       "wandb version 0.12.21 is available!  To upgrade, please run:\n",
       " $ pip install wandb --upgrade"
      ],
      "text/plain": [
       "<IPython.core.display.HTML object>"
      ]
     },
     "metadata": {},
     "output_type": "display_data"
    },
    {
     "data": {
      "text/html": [
       "Tracking run with wandb version 0.12.15"
      ],
      "text/plain": [
       "<IPython.core.display.HTML object>"
      ]
     },
     "metadata": {},
     "output_type": "display_data"
    },
    {
     "data": {
      "text/html": [
       "Run data is saved locally in <code>/project/notebooks/wandb/run-20220712_161102-10h41q86</code>"
      ],
      "text/plain": [
       "<IPython.core.display.HTML object>"
      ]
     },
     "metadata": {},
     "output_type": "display_data"
    },
    {
     "data": {
      "text/html": [
       "Syncing run <strong><a href=\"https://wandb.ai/synthesis-ai/62_syn_mode_sdata2_syn_data2/runs/10h41q86\" target=\"_blank\">apricot-star-9</a></strong> to <a href=\"https://wandb.ai/synthesis-ai/62_syn_mode_sdata2_syn_data2\" target=\"_blank\">Weights & Biases</a> (<a href=\"https://wandb.me/run\" target=\"_blank\">docs</a>)<br/>"
      ],
      "text/plain": [
       "<IPython.core.display.HTML object>"
      ]
     },
     "metadata": {},
     "output_type": "display_data"
    },
    {
     "name": "stdout",
     "output_type": "stream",
     "text": [
      "fold=8\n",
      "/project/data/sdata2/Label\n",
      "25 items removed from dataset that have an angle > 180\n",
      "\n",
      "test configuration equal gpu_id=cuda:0, batch_size=20, model_arch=ResNet50\n",
      "Start testing dataset=mpiigaze, FOLD=8 --07/12/2022 09:11:05---------\n",
      "entering epoch=epoch_1.pkl\n",
      "[epoch_1.pkl---mpiigaze] Total Num:2974,MAE:6.051788315066771  07/12/2022 09:11:23\n",
      "entering epoch=epoch_2.pkl\n",
      "[epoch_2.pkl---mpiigaze] Total Num:2974,MAE:5.938466888336869  07/12/2022 09:11:37\n",
      "entering epoch=epoch_3.pkl\n",
      "[epoch_3.pkl---mpiigaze] Total Num:2974,MAE:5.89385792959662  07/12/2022 09:11:55\n",
      "entering epoch=epoch_4.pkl\n",
      "[epoch_4.pkl---mpiigaze] Total Num:2974,MAE:5.920065007285847  07/12/2022 09:12:10\n",
      "entering epoch=epoch_5.pkl\n",
      "[epoch_5.pkl---mpiigaze] Total Num:2974,MAE:5.120622838981478  07/12/2022 09:12:24\n",
      "entering epoch=epoch_6.pkl\n",
      "[epoch_6.pkl---mpiigaze] Total Num:2974,MAE:5.466406197440752  07/12/2022 09:12:39\n",
      "entering epoch=epoch_7.pkl\n",
      "[epoch_7.pkl---mpiigaze] Total Num:2974,MAE:5.177945785060747  07/12/2022 09:12:53\n",
      "entering epoch=epoch_8.pkl\n",
      "[epoch_8.pkl---mpiigaze] Total Num:2974,MAE:5.134280993325131  07/12/2022 09:13:08\n",
      "entering epoch=epoch_9.pkl\n",
      "[epoch_9.pkl---mpiigaze] Total Num:2974,MAE:5.242438051121225  07/12/2022 09:13:22\n",
      "entering epoch=epoch_10.pkl\n",
      "[epoch_10.pkl---mpiigaze] Total Num:2974,MAE:5.3781840799608105  07/12/2022 09:13:37\n",
      "entering epoch=epoch_11.pkl\n",
      "[epoch_11.pkl---mpiigaze] Total Num:2974,MAE:5.299468423659808  07/12/2022 09:13:53\n",
      "entering epoch=epoch_12.pkl\n",
      "[epoch_12.pkl---mpiigaze] Total Num:2974,MAE:5.1164214218836745  07/12/2022 09:14:08\n",
      "entering epoch=epoch_13.pkl\n",
      "[epoch_13.pkl---mpiigaze] Total Num:2974,MAE:5.141993959671308  07/12/2022 09:14:24\n",
      "entering epoch=epoch_14.pkl\n",
      "[epoch_14.pkl---mpiigaze] Total Num:2974,MAE:4.874486538341173  07/12/2022 09:14:41\n",
      "entering epoch=epoch_15.pkl\n",
      "[epoch_15.pkl---mpiigaze] Total Num:2974,MAE:5.156086896172328  07/12/2022 09:14:55\n",
      "entering epoch=epoch_16.pkl\n",
      "[epoch_16.pkl---mpiigaze] Total Num:2974,MAE:5.046577341198301  07/12/2022 09:15:10\n",
      "entering epoch=epoch_17.pkl\n",
      "[epoch_17.pkl---mpiigaze] Total Num:2974,MAE:5.1553245559803536  07/12/2022 09:15:25\n",
      "entering epoch=epoch_18.pkl\n",
      "[epoch_18.pkl---mpiigaze] Total Num:2974,MAE:5.076047413146075  07/12/2022 09:15:42\n",
      "entering epoch=epoch_19.pkl\n",
      "[epoch_19.pkl---mpiigaze] Total Num:2974,MAE:4.87376464699138  07/12/2022 09:15:56\n",
      "entering epoch=epoch_20.pkl\n",
      "[epoch_20.pkl---mpiigaze] Total Num:2974,MAE:5.053522859857071  07/12/2022 09:16:10\n",
      "entering epoch=epoch_21.pkl\n",
      "[epoch_21.pkl---mpiigaze] Total Num:2974,MAE:5.031318767592973  07/12/2022 09:16:25\n",
      "entering epoch=epoch_22.pkl\n",
      "[epoch_22.pkl---mpiigaze] Total Num:2974,MAE:4.951679768619989  07/12/2022 09:16:39\n",
      "entering epoch=epoch_23.pkl\n",
      "[epoch_23.pkl---mpiigaze] Total Num:2974,MAE:5.025861438921245  07/12/2022 09:16:53\n",
      "entering epoch=epoch_24.pkl\n",
      "[epoch_24.pkl---mpiigaze] Total Num:2974,MAE:5.099164858603075  07/12/2022 09:17:08\n",
      "entering epoch=epoch_25.pkl\n",
      "[epoch_25.pkl---mpiigaze] Total Num:2974,MAE:5.067581675506365  07/12/2022 09:17:25\n",
      "entering epoch=epoch_26.pkl\n",
      "[epoch_26.pkl---mpiigaze] Total Num:2974,MAE:5.031057855660854  07/12/2022 09:17:39\n",
      "entering epoch=epoch_27.pkl\n",
      "[epoch_27.pkl---mpiigaze] Total Num:2974,MAE:5.023225186371948  07/12/2022 09:17:54\n",
      "entering epoch=epoch_28.pkl\n",
      "[epoch_28.pkl---mpiigaze] Total Num:2974,MAE:4.875263212187398  07/12/2022 09:18:08\n",
      "entering epoch=epoch_29.pkl\n",
      "[epoch_29.pkl---mpiigaze] Total Num:2974,MAE:4.823552773723777  07/12/2022 09:18:23\n",
      "entering epoch=epoch_30.pkl\n",
      "[epoch_30.pkl---mpiigaze] Total Num:2974,MAE:5.040616531346606  07/12/2022 09:18:37\n",
      "entering epoch=epoch_31.pkl\n",
      "[epoch_31.pkl---mpiigaze] Total Num:2974,MAE:5.006554348813348  07/12/2022 09:18:52\n",
      "entering epoch=epoch_32.pkl\n",
      "[epoch_32.pkl---mpiigaze] Total Num:2974,MAE:4.87155656741022  07/12/2022 09:19:06\n",
      "entering epoch=epoch_33.pkl\n",
      "[epoch_33.pkl---mpiigaze] Total Num:2974,MAE:4.951276122161906  07/12/2022 09:19:21\n",
      "entering epoch=epoch_34.pkl\n",
      "[epoch_34.pkl---mpiigaze] Total Num:2974,MAE:4.88010717063024  07/12/2022 09:19:35\n",
      "entering epoch=epoch_35.pkl\n",
      "[epoch_35.pkl---mpiigaze] Total Num:2974,MAE:4.876649280952108  07/12/2022 09:19:49\n",
      "entering epoch=epoch_36.pkl\n",
      "[epoch_36.pkl---mpiigaze] Total Num:2974,MAE:5.051502083091783  07/12/2022 09:20:03\n",
      "entering epoch=epoch_37.pkl\n",
      "[epoch_37.pkl---mpiigaze] Total Num:2974,MAE:4.965489711341792  07/12/2022 09:20:18\n",
      "entering epoch=epoch_38.pkl\n",
      "[epoch_38.pkl---mpiigaze] Total Num:2974,MAE:5.014984703976972  07/12/2022 09:20:32\n",
      "entering epoch=epoch_39.pkl\n",
      "[epoch_39.pkl---mpiigaze] Total Num:2974,MAE:4.9543488125777575  07/12/2022 09:20:47\n",
      "entering epoch=epoch_40.pkl\n",
      "[epoch_40.pkl---mpiigaze] Total Num:2974,MAE:4.8297145945776245  07/12/2022 09:21:01\n",
      "entering epoch=epoch_41.pkl\n",
      "[epoch_41.pkl---mpiigaze] Total Num:2974,MAE:4.752858405573539  07/12/2022 09:21:16\n",
      "entering epoch=epoch_42.pkl\n",
      "[epoch_42.pkl---mpiigaze] Total Num:2974,MAE:4.930950032586974  07/12/2022 09:21:30\n",
      "entering epoch=epoch_43.pkl\n",
      "[epoch_43.pkl---mpiigaze] Total Num:2974,MAE:4.8411662712240116  07/12/2022 09:21:45\n",
      "entering epoch=epoch_44.pkl\n",
      "[epoch_44.pkl---mpiigaze] Total Num:2974,MAE:5.005803663484983  07/12/2022 09:22:00\n",
      "entering epoch=epoch_45.pkl\n",
      "[epoch_45.pkl---mpiigaze] Total Num:2974,MAE:4.9712341928988355  07/12/2022 09:22:14\n",
      "entering epoch=epoch_46.pkl\n",
      "[epoch_46.pkl---mpiigaze] Total Num:2974,MAE:4.879375312146979  07/12/2022 09:22:28\n",
      "entering epoch=epoch_47.pkl\n",
      "[epoch_47.pkl---mpiigaze] Total Num:2974,MAE:4.673357362593325  07/12/2022 09:22:43\n",
      "entering epoch=epoch_48.pkl\n",
      "[epoch_48.pkl---mpiigaze] Total Num:2974,MAE:4.788472175856943  07/12/2022 09:22:57\n",
      "entering epoch=epoch_49.pkl\n",
      "[epoch_49.pkl---mpiigaze] Total Num:2974,MAE:4.991317774373244  07/12/2022 09:23:11\n",
      "entering epoch=epoch_50.pkl\n",
      "[epoch_50.pkl---mpiigaze] Total Num:2974,MAE:4.9854997702552835  07/12/2022 09:23:28\n",
      "entering epoch=epoch_51.pkl\n",
      "[epoch_51.pkl---mpiigaze] Total Num:2974,MAE:5.0036853254660665  07/12/2022 09:23:43\n",
      "entering epoch=epoch_52.pkl\n",
      "[epoch_52.pkl---mpiigaze] Total Num:2974,MAE:4.800649579933494  07/12/2022 09:23:58\n",
      "entering epoch=epoch_53.pkl\n",
      "[epoch_53.pkl---mpiigaze] Total Num:2974,MAE:4.942517695718294  07/12/2022 09:24:13\n",
      "entering epoch=epoch_54.pkl\n",
      "[epoch_54.pkl---mpiigaze] Total Num:2974,MAE:4.984841504348709  07/12/2022 09:24:28\n",
      "entering epoch=epoch_55.pkl\n",
      "[epoch_55.pkl---mpiigaze] Total Num:2974,MAE:4.938833834554253  07/12/2022 09:24:44\n",
      "entering epoch=epoch_56.pkl\n",
      "[epoch_56.pkl---mpiigaze] Total Num:2974,MAE:4.9283544972643005  07/12/2022 09:24:59\n",
      "entering epoch=epoch_57.pkl\n",
      "[epoch_57.pkl---mpiigaze] Total Num:2974,MAE:4.821445799500745  07/12/2022 09:25:15\n",
      "entering epoch=epoch_58.pkl\n",
      "[epoch_58.pkl---mpiigaze] Total Num:2974,MAE:4.766051742863387  07/12/2022 09:25:30\n",
      "entering epoch=epoch_59.pkl\n",
      "[epoch_59.pkl---mpiigaze] Total Num:2974,MAE:4.816394372493812  07/12/2022 09:25:45\n",
      "entering epoch=epoch_60.pkl\n",
      "[epoch_60.pkl---mpiigaze] Total Num:2974,MAE:4.838836290511503  07/12/2022 09:25:59\n"
     ]
    },
    {
     "data": {
      "text/html": [
       "Waiting for W&B process to finish... <strong style=\"color:green\">(success).</strong>"
      ],
      "text/plain": [
       "<IPython.core.display.HTML object>"
      ]
     },
     "metadata": {},
     "output_type": "display_data"
    },
    {
     "data": {
      "application/vnd.jupyter.widget-view+json": {
       "model_id": "",
       "version_major": 2,
       "version_minor": 0
      },
      "text/plain": [
       "VBox(children=(Label(value='0.001 MB of 0.001 MB uploaded (0.000 MB deduped)\\r'), FloatProgress(value=1.0, max…"
      ]
     },
     "metadata": {},
     "output_type": "display_data"
    },
    {
     "data": {
      "text/html": [
       "<style>\n",
       "    table.wandb td:nth-child(1) { padding: 0 10px; text-align: right }\n",
       "    .wandb-row { display: flex; flex-direction: row; flex-wrap: wrap; width: 100% }\n",
       "    .wandb-col { display: flex; flex-direction: column; flex-basis: 100%; flex: 1; padding: 10px; }\n",
       "    </style>\n",
       "<div class=\"wandb-row\"><div class=\"wandb-col\"><h3>Run history:</h3><br/><table class=\"wandb\"><tr><td>fold_8_mean_mae</td><td>█▇▇▃▄▃▅▄▃▂▃▃▂▃▂▃▃▃▂▂▃▂▂▂▂▃▂▁▂▃▂▁▃▃▂▂▂▂▁▂</td></tr></table><br/></div><div class=\"wandb-col\"><h3>Run summary:</h3><br/><table class=\"wandb\"><tr><td>epoch</td><td>epoch_60.pkl</td></tr><tr><td>fold_8_mean_mae</td><td>4.83884</td></tr></table><br/></div></div>"
      ],
      "text/plain": [
       "<IPython.core.display.HTML object>"
      ]
     },
     "metadata": {},
     "output_type": "display_data"
    },
    {
     "data": {
      "text/html": [
       "Synced <strong style=\"color:#cdcd00\">apricot-star-9</strong>: <a href=\"https://wandb.ai/synthesis-ai/62_syn_mode_sdata2_syn_data2/runs/10h41q86\" target=\"_blank\">https://wandb.ai/synthesis-ai/62_syn_mode_sdata2_syn_data2/runs/10h41q86</a><br/>Synced 5 W&B file(s), 0 media file(s), 0 artifact file(s) and 0 other file(s)"
      ],
      "text/plain": [
       "<IPython.core.display.HTML object>"
      ]
     },
     "metadata": {},
     "output_type": "display_data"
    },
    {
     "data": {
      "text/html": [
       "Find logs at: <code>./wandb/run-20220712_161102-10h41q86/logs</code>"
      ],
      "text/plain": [
       "<IPython.core.display.HTML object>"
      ]
     },
     "metadata": {},
     "output_type": "display_data"
    },
    {
     "data": {
      "text/html": [
       "wandb version 0.12.21 is available!  To upgrade, please run:\n",
       " $ pip install wandb --upgrade"
      ],
      "text/plain": [
       "<IPython.core.display.HTML object>"
      ]
     },
     "metadata": {},
     "output_type": "display_data"
    },
    {
     "data": {
      "text/html": [
       "Tracking run with wandb version 0.12.15"
      ],
      "text/plain": [
       "<IPython.core.display.HTML object>"
      ]
     },
     "metadata": {},
     "output_type": "display_data"
    },
    {
     "data": {
      "text/html": [
       "Run data is saved locally in <code>/project/notebooks/wandb/run-20220712_162604-3ua2djkj</code>"
      ],
      "text/plain": [
       "<IPython.core.display.HTML object>"
      ]
     },
     "metadata": {},
     "output_type": "display_data"
    },
    {
     "data": {
      "text/html": [
       "Syncing run <strong><a href=\"https://wandb.ai/synthesis-ai/62_syn_mode_sdata2_syn_data2/runs/3ua2djkj\" target=\"_blank\">deep-breeze-10</a></strong> to <a href=\"https://wandb.ai/synthesis-ai/62_syn_mode_sdata2_syn_data2\" target=\"_blank\">Weights & Biases</a> (<a href=\"https://wandb.me/run\" target=\"_blank\">docs</a>)<br/>"
      ],
      "text/plain": [
       "<IPython.core.display.HTML object>"
      ]
     },
     "metadata": {},
     "output_type": "display_data"
    },
    {
     "name": "stdout",
     "output_type": "stream",
     "text": [
      "fold=9\n",
      "/project/data/sdata2/Label\n",
      "46 items removed from dataset that have an angle > 180\n",
      "\n",
      "test configuration equal gpu_id=cuda:0, batch_size=20, model_arch=ResNet50\n",
      "Start testing dataset=mpiigaze, FOLD=9 --07/12/2022 09:26:07---------\n",
      "entering epoch=epoch_1.pkl\n",
      "[epoch_1.pkl---mpiigaze] Total Num:2953,MAE:6.26316252400032  07/12/2022 09:26:24\n",
      "entering epoch=epoch_2.pkl\n",
      "[epoch_2.pkl---mpiigaze] Total Num:2953,MAE:5.705340637967565  07/12/2022 09:26:38\n",
      "entering epoch=epoch_3.pkl\n",
      "[epoch_3.pkl---mpiigaze] Total Num:2953,MAE:5.553179142097324  07/12/2022 09:26:54\n",
      "entering epoch=epoch_4.pkl\n",
      "[epoch_4.pkl---mpiigaze] Total Num:2953,MAE:5.418368349965167  07/12/2022 09:27:09\n",
      "entering epoch=epoch_5.pkl\n",
      "[epoch_5.pkl---mpiigaze] Total Num:2953,MAE:5.859532581547459  07/12/2022 09:27:24\n",
      "entering epoch=epoch_6.pkl\n",
      "[epoch_6.pkl---mpiigaze] Total Num:2953,MAE:5.3558157226567324  07/12/2022 09:27:38\n",
      "entering epoch=epoch_7.pkl\n",
      "[epoch_7.pkl---mpiigaze] Total Num:2953,MAE:5.501137355048879  07/12/2022 09:27:52\n",
      "entering epoch=epoch_8.pkl\n",
      "[epoch_8.pkl---mpiigaze] Total Num:2953,MAE:5.245639643231666  07/12/2022 09:28:07\n",
      "entering epoch=epoch_9.pkl\n",
      "[epoch_9.pkl---mpiigaze] Total Num:2953,MAE:5.2924080727490255  07/12/2022 09:28:21\n",
      "entering epoch=epoch_10.pkl\n",
      "[epoch_10.pkl---mpiigaze] Total Num:2953,MAE:5.148913421839062  07/12/2022 09:28:35\n",
      "entering epoch=epoch_11.pkl\n",
      "[epoch_11.pkl---mpiigaze] Total Num:2953,MAE:5.4996726872842085  07/12/2022 09:28:49\n",
      "entering epoch=epoch_12.pkl\n",
      "[epoch_12.pkl---mpiigaze] Total Num:2953,MAE:5.190077317993871  07/12/2022 09:29:03\n",
      "entering epoch=epoch_13.pkl\n",
      "[epoch_13.pkl---mpiigaze] Total Num:2953,MAE:5.1527924153092  07/12/2022 09:29:18\n",
      "entering epoch=epoch_14.pkl\n",
      "[epoch_14.pkl---mpiigaze] Total Num:2953,MAE:5.3145273233458115  07/12/2022 09:29:32\n",
      "entering epoch=epoch_15.pkl\n",
      "[epoch_15.pkl---mpiigaze] Total Num:2953,MAE:5.184181061778385  07/12/2022 09:29:46\n",
      "entering epoch=epoch_16.pkl\n",
      "[epoch_16.pkl---mpiigaze] Total Num:2953,MAE:5.357009390245075  07/12/2022 09:30:01\n",
      "entering epoch=epoch_17.pkl\n",
      "[epoch_17.pkl---mpiigaze] Total Num:2953,MAE:5.29023654219454  07/12/2022 09:30:15\n",
      "entering epoch=epoch_18.pkl\n",
      "[epoch_18.pkl---mpiigaze] Total Num:2953,MAE:5.21442044854211  07/12/2022 09:30:30\n",
      "entering epoch=epoch_19.pkl\n",
      "[epoch_19.pkl---mpiigaze] Total Num:2953,MAE:5.079943868104445  07/12/2022 09:30:45\n",
      "entering epoch=epoch_20.pkl\n",
      "[epoch_20.pkl---mpiigaze] Total Num:2953,MAE:5.121430659382606  07/12/2022 09:30:59\n",
      "entering epoch=epoch_21.pkl\n",
      "[epoch_21.pkl---mpiigaze] Total Num:2953,MAE:5.1218779294547305  07/12/2022 09:31:13\n",
      "entering epoch=epoch_22.pkl\n",
      "[epoch_22.pkl---mpiigaze] Total Num:2953,MAE:5.0846632146752695  07/12/2022 09:31:28\n",
      "entering epoch=epoch_23.pkl\n",
      "[epoch_23.pkl---mpiigaze] Total Num:2953,MAE:5.222113496592348  07/12/2022 09:31:42\n",
      "entering epoch=epoch_24.pkl\n",
      "[epoch_24.pkl---mpiigaze] Total Num:2953,MAE:5.183855865366926  07/12/2022 09:31:56\n",
      "entering epoch=epoch_25.pkl\n",
      "[epoch_25.pkl---mpiigaze] Total Num:2953,MAE:5.339226099104606  07/12/2022 09:32:10\n",
      "entering epoch=epoch_26.pkl\n",
      "[epoch_26.pkl---mpiigaze] Total Num:2953,MAE:5.0711945223483355  07/12/2022 09:32:25\n",
      "entering epoch=epoch_27.pkl\n",
      "[epoch_27.pkl---mpiigaze] Total Num:2953,MAE:5.382071298421462  07/12/2022 09:32:39\n",
      "entering epoch=epoch_28.pkl\n",
      "[epoch_28.pkl---mpiigaze] Total Num:2953,MAE:5.122299894961743  07/12/2022 09:32:53\n",
      "entering epoch=epoch_29.pkl\n",
      "[epoch_29.pkl---mpiigaze] Total Num:2953,MAE:5.254435855120129  07/12/2022 09:33:08\n",
      "entering epoch=epoch_30.pkl\n",
      "[epoch_30.pkl---mpiigaze] Total Num:2953,MAE:5.208144906373687  07/12/2022 09:33:22\n",
      "entering epoch=epoch_31.pkl\n",
      "[epoch_31.pkl---mpiigaze] Total Num:2953,MAE:5.305377097270599  07/12/2022 09:33:36\n",
      "entering epoch=epoch_32.pkl\n",
      "[epoch_32.pkl---mpiigaze] Total Num:2953,MAE:4.767426308951215  07/12/2022 09:33:52\n",
      "entering epoch=epoch_33.pkl\n",
      "[epoch_33.pkl---mpiigaze] Total Num:2953,MAE:4.986663429089956  07/12/2022 09:34:07\n",
      "entering epoch=epoch_34.pkl\n",
      "[epoch_34.pkl---mpiigaze] Total Num:2953,MAE:5.069843732939114  07/12/2022 09:34:22\n",
      "entering epoch=epoch_35.pkl\n",
      "[epoch_35.pkl---mpiigaze] Total Num:2953,MAE:5.07218362535382  07/12/2022 09:34:38\n",
      "entering epoch=epoch_36.pkl\n",
      "[epoch_36.pkl---mpiigaze] Total Num:2953,MAE:5.1234897399979245  07/12/2022 09:34:52\n",
      "entering epoch=epoch_37.pkl\n",
      "[epoch_37.pkl---mpiigaze] Total Num:2953,MAE:5.025741072409695  07/12/2022 09:35:08\n",
      "entering epoch=epoch_38.pkl\n",
      "[epoch_38.pkl---mpiigaze] Total Num:2953,MAE:5.009425765821555  07/12/2022 09:35:22\n",
      "entering epoch=epoch_39.pkl\n",
      "[epoch_39.pkl---mpiigaze] Total Num:2953,MAE:4.968627337488421  07/12/2022 09:35:37\n",
      "entering epoch=epoch_40.pkl\n",
      "[epoch_40.pkl---mpiigaze] Total Num:2953,MAE:5.0738501923517125  07/12/2022 09:35:51\n",
      "entering epoch=epoch_41.pkl\n",
      "[epoch_41.pkl---mpiigaze] Total Num:2953,MAE:5.039524027244554  07/12/2022 09:36:05\n",
      "entering epoch=epoch_42.pkl\n",
      "[epoch_42.pkl---mpiigaze] Total Num:2953,MAE:5.2044502873645415  07/12/2022 09:36:19\n",
      "entering epoch=epoch_43.pkl\n",
      "[epoch_43.pkl---mpiigaze] Total Num:2953,MAE:5.013224892289685  07/12/2022 09:36:33\n",
      "entering epoch=epoch_44.pkl\n",
      "[epoch_44.pkl---mpiigaze] Total Num:2953,MAE:5.0498516164977625  07/12/2022 09:36:47\n",
      "entering epoch=epoch_45.pkl\n",
      "[epoch_45.pkl---mpiigaze] Total Num:2953,MAE:5.062136871970408  07/12/2022 09:37:02\n",
      "entering epoch=epoch_46.pkl\n",
      "[epoch_46.pkl---mpiigaze] Total Num:2953,MAE:5.094526785303909  07/12/2022 09:37:16\n",
      "entering epoch=epoch_47.pkl\n",
      "[epoch_47.pkl---mpiigaze] Total Num:2953,MAE:5.158805980817439  07/12/2022 09:37:31\n",
      "entering epoch=epoch_48.pkl\n",
      "[epoch_48.pkl---mpiigaze] Total Num:2953,MAE:5.150726762798839  07/12/2022 09:37:45\n",
      "entering epoch=epoch_49.pkl\n",
      "[epoch_49.pkl---mpiigaze] Total Num:2953,MAE:5.113949578053322  07/12/2022 09:37:59\n",
      "entering epoch=epoch_50.pkl\n",
      "[epoch_50.pkl---mpiigaze] Total Num:2953,MAE:5.1305374061954225  07/12/2022 09:38:14\n",
      "entering epoch=epoch_51.pkl\n",
      "[epoch_51.pkl---mpiigaze] Total Num:2953,MAE:5.147578608423388  07/12/2022 09:38:28\n",
      "entering epoch=epoch_52.pkl\n",
      "[epoch_52.pkl---mpiigaze] Total Num:2953,MAE:5.1477100562937315  07/12/2022 09:38:42\n",
      "entering epoch=epoch_53.pkl\n",
      "[epoch_53.pkl---mpiigaze] Total Num:2953,MAE:5.057862173782882  07/12/2022 09:38:56\n",
      "entering epoch=epoch_54.pkl\n",
      "[epoch_54.pkl---mpiigaze] Total Num:2953,MAE:5.129942801477675  07/12/2022 09:39:11\n",
      "entering epoch=epoch_55.pkl\n",
      "[epoch_55.pkl---mpiigaze] Total Num:2953,MAE:5.05773219382007  07/12/2022 09:39:25\n",
      "entering epoch=epoch_56.pkl\n",
      "[epoch_56.pkl---mpiigaze] Total Num:2953,MAE:5.040598752862266  07/12/2022 09:39:39\n",
      "entering epoch=epoch_57.pkl\n",
      "[epoch_57.pkl---mpiigaze] Total Num:2953,MAE:5.102717836966548  07/12/2022 09:39:54\n",
      "entering epoch=epoch_58.pkl\n",
      "[epoch_58.pkl---mpiigaze] Total Num:2953,MAE:5.082369203584586  07/12/2022 09:40:08\n",
      "entering epoch=epoch_59.pkl\n",
      "[epoch_59.pkl---mpiigaze] Total Num:2953,MAE:5.217780095546003  07/12/2022 09:40:23\n",
      "entering epoch=epoch_60.pkl\n",
      "[epoch_60.pkl---mpiigaze] Total Num:2953,MAE:5.101944253804564  07/12/2022 09:40:37\n"
     ]
    },
    {
     "data": {
      "text/html": [
       "Waiting for W&B process to finish... <strong style=\"color:green\">(success).</strong>"
      ],
      "text/plain": [
       "<IPython.core.display.HTML object>"
      ]
     },
     "metadata": {},
     "output_type": "display_data"
    },
    {
     "data": {
      "application/vnd.jupyter.widget-view+json": {
       "model_id": "",
       "version_major": 2,
       "version_minor": 0
      },
      "text/plain": [
       "VBox(children=(Label(value='0.001 MB of 0.001 MB uploaded (0.000 MB deduped)\\r'), FloatProgress(value=1.0, max…"
      ]
     },
     "metadata": {},
     "output_type": "display_data"
    },
    {
     "data": {
      "text/html": [
       "<style>\n",
       "    table.wandb td:nth-child(1) { padding: 0 10px; text-align: right }\n",
       "    .wandb-row { display: flex; flex-direction: row; flex-wrap: wrap; width: 100% }\n",
       "    .wandb-col { display: flex; flex-direction: column; flex-basis: 100%; flex: 1; padding: 10px; }\n",
       "    </style>\n",
       "<div class=\"wandb-row\"><div class=\"wandb-col\"><h3>Run history:</h3><br/><table class=\"wandb\"><tr><td>fold_9_mean_mae</td><td>█▅▄▆▄▃▃▄▃▄▄▃▂▃▂▃▄▂▃▃▄▁▂▂▂▂▂▂▂▂▃▃▃▃▃▂▂▂▂▃</td></tr></table><br/></div><div class=\"wandb-col\"><h3>Run summary:</h3><br/><table class=\"wandb\"><tr><td>epoch</td><td>epoch_60.pkl</td></tr><tr><td>fold_9_mean_mae</td><td>5.10194</td></tr></table><br/></div></div>"
      ],
      "text/plain": [
       "<IPython.core.display.HTML object>"
      ]
     },
     "metadata": {},
     "output_type": "display_data"
    },
    {
     "data": {
      "text/html": [
       "Synced <strong style=\"color:#cdcd00\">deep-breeze-10</strong>: <a href=\"https://wandb.ai/synthesis-ai/62_syn_mode_sdata2_syn_data2/runs/3ua2djkj\" target=\"_blank\">https://wandb.ai/synthesis-ai/62_syn_mode_sdata2_syn_data2/runs/3ua2djkj</a><br/>Synced 5 W&B file(s), 0 media file(s), 0 artifact file(s) and 0 other file(s)"
      ],
      "text/plain": [
       "<IPython.core.display.HTML object>"
      ]
     },
     "metadata": {},
     "output_type": "display_data"
    },
    {
     "data": {
      "text/html": [
       "Find logs at: <code>./wandb/run-20220712_162604-3ua2djkj/logs</code>"
      ],
      "text/plain": [
       "<IPython.core.display.HTML object>"
      ]
     },
     "metadata": {},
     "output_type": "display_data"
    },
    {
     "data": {
      "text/html": [
       "wandb version 0.12.21 is available!  To upgrade, please run:\n",
       " $ pip install wandb --upgrade"
      ],
      "text/plain": [
       "<IPython.core.display.HTML object>"
      ]
     },
     "metadata": {},
     "output_type": "display_data"
    },
    {
     "data": {
      "text/html": [
       "Tracking run with wandb version 0.12.15"
      ],
      "text/plain": [
       "<IPython.core.display.HTML object>"
      ]
     },
     "metadata": {},
     "output_type": "display_data"
    },
    {
     "data": {
      "text/html": [
       "Run data is saved locally in <code>/project/notebooks/wandb/run-20220712_164041-2zqoh3we</code>"
      ],
      "text/plain": [
       "<IPython.core.display.HTML object>"
      ]
     },
     "metadata": {},
     "output_type": "display_data"
    },
    {
     "data": {
      "text/html": [
       "Syncing run <strong><a href=\"https://wandb.ai/synthesis-ai/62_syn_mode_sdata2_syn_data2/runs/2zqoh3we\" target=\"_blank\">treasured-donkey-11</a></strong> to <a href=\"https://wandb.ai/synthesis-ai/62_syn_mode_sdata2_syn_data2\" target=\"_blank\">Weights & Biases</a> (<a href=\"https://wandb.me/run\" target=\"_blank\">docs</a>)<br/>"
      ],
      "text/plain": [
       "<IPython.core.display.HTML object>"
      ]
     },
     "metadata": {},
     "output_type": "display_data"
    },
    {
     "name": "stdout",
     "output_type": "stream",
     "text": [
      "fold=10\n",
      "/project/data/sdata2/Label\n",
      "37 items removed from dataset that have an angle > 180\n",
      "\n",
      "test configuration equal gpu_id=cuda:0, batch_size=20, model_arch=ResNet50\n",
      "Start testing dataset=mpiigaze, FOLD=10 --07/12/2022 09:40:45---------\n",
      "entering epoch=epoch_1.pkl\n",
      "[epoch_1.pkl---mpiigaze] Total Num:2962,MAE:4.896690534683522  07/12/2022 09:41:02\n",
      "entering epoch=epoch_2.pkl\n",
      "[epoch_2.pkl---mpiigaze] Total Num:2962,MAE:4.826738656898449  07/12/2022 09:41:16\n",
      "entering epoch=epoch_3.pkl\n",
      "[epoch_3.pkl---mpiigaze] Total Num:2962,MAE:3.6787379232706754  07/12/2022 09:41:30\n",
      "entering epoch=epoch_4.pkl\n",
      "[epoch_4.pkl---mpiigaze] Total Num:2962,MAE:3.9370182507483777  07/12/2022 09:41:45\n",
      "entering epoch=epoch_5.pkl\n",
      "[epoch_5.pkl---mpiigaze] Total Num:2962,MAE:4.251568481812761  07/12/2022 09:41:59\n",
      "entering epoch=epoch_6.pkl\n",
      "[epoch_6.pkl---mpiigaze] Total Num:2962,MAE:3.608697262298723  07/12/2022 09:42:14\n",
      "entering epoch=epoch_7.pkl\n",
      "[epoch_7.pkl---mpiigaze] Total Num:2962,MAE:3.6044349293150217  07/12/2022 09:42:28\n",
      "entering epoch=epoch_8.pkl\n",
      "[epoch_8.pkl---mpiigaze] Total Num:2962,MAE:3.4655142891432322  07/12/2022 09:42:42\n",
      "entering epoch=epoch_9.pkl\n",
      "[epoch_9.pkl---mpiigaze] Total Num:2962,MAE:3.452498428726629  07/12/2022 09:42:56\n",
      "entering epoch=epoch_10.pkl\n",
      "[epoch_10.pkl---mpiigaze] Total Num:2962,MAE:3.5837747190188836  07/12/2022 09:43:11\n",
      "entering epoch=epoch_11.pkl\n",
      "[epoch_11.pkl---mpiigaze] Total Num:2962,MAE:3.2478862675429867  07/12/2022 09:43:26\n",
      "entering epoch=epoch_12.pkl\n",
      "[epoch_12.pkl---mpiigaze] Total Num:2962,MAE:3.8238704161382118  07/12/2022 09:43:41\n",
      "entering epoch=epoch_13.pkl\n",
      "[epoch_13.pkl---mpiigaze] Total Num:2962,MAE:3.3239532158215783  07/12/2022 09:43:58\n",
      "entering epoch=epoch_14.pkl\n",
      "[epoch_14.pkl---mpiigaze] Total Num:2962,MAE:3.6833469165554225  07/12/2022 09:44:13\n",
      "entering epoch=epoch_15.pkl\n",
      "[epoch_15.pkl---mpiigaze] Total Num:2962,MAE:3.3029721025373036  07/12/2022 09:44:28\n",
      "entering epoch=epoch_16.pkl\n",
      "[epoch_16.pkl---mpiigaze] Total Num:2962,MAE:2.9853337938085285  07/12/2022 09:44:46\n",
      "entering epoch=epoch_17.pkl\n",
      "[epoch_17.pkl---mpiigaze] Total Num:2962,MAE:3.064625527297494  07/12/2022 09:45:01\n",
      "entering epoch=epoch_18.pkl\n",
      "[epoch_18.pkl---mpiigaze] Total Num:2962,MAE:3.261293738221982  07/12/2022 09:45:16\n",
      "entering epoch=epoch_19.pkl\n",
      "[epoch_19.pkl---mpiigaze] Total Num:2962,MAE:3.2741086390173693  07/12/2022 09:45:31\n",
      "entering epoch=epoch_20.pkl\n",
      "[epoch_20.pkl---mpiigaze] Total Num:2962,MAE:3.2551702011165067  07/12/2022 09:45:45\n",
      "entering epoch=epoch_21.pkl\n",
      "[epoch_21.pkl---mpiigaze] Total Num:2962,MAE:3.3841000249826796  07/12/2022 09:46:00\n",
      "entering epoch=epoch_22.pkl\n",
      "[epoch_22.pkl---mpiigaze] Total Num:2962,MAE:3.190134388800916  07/12/2022 09:46:14\n",
      "entering epoch=epoch_23.pkl\n",
      "[epoch_23.pkl---mpiigaze] Total Num:2962,MAE:3.1564693915627  07/12/2022 09:46:29\n",
      "entering epoch=epoch_24.pkl\n",
      "[epoch_24.pkl---mpiigaze] Total Num:2962,MAE:3.174163892832597  07/12/2022 09:46:43\n",
      "entering epoch=epoch_25.pkl\n",
      "[epoch_25.pkl---mpiigaze] Total Num:2962,MAE:3.4829602839953235  07/12/2022 09:46:57\n",
      "entering epoch=epoch_26.pkl\n",
      "[epoch_26.pkl---mpiigaze] Total Num:2962,MAE:2.979329871976786  07/12/2022 09:47:12\n",
      "entering epoch=epoch_27.pkl\n",
      "[epoch_27.pkl---mpiigaze] Total Num:2962,MAE:3.287553686258606  07/12/2022 09:47:27\n",
      "entering epoch=epoch_28.pkl\n",
      "[epoch_28.pkl---mpiigaze] Total Num:2962,MAE:3.37752787900789  07/12/2022 09:47:41\n",
      "entering epoch=epoch_29.pkl\n",
      "[epoch_29.pkl---mpiigaze] Total Num:2962,MAE:3.1511517105164835  07/12/2022 09:47:55\n",
      "entering epoch=epoch_30.pkl\n",
      "[epoch_30.pkl---mpiigaze] Total Num:2962,MAE:3.22838434269811  07/12/2022 09:48:10\n",
      "entering epoch=epoch_31.pkl\n",
      "[epoch_31.pkl---mpiigaze] Total Num:2962,MAE:3.2235479161905887  07/12/2022 09:48:24\n",
      "entering epoch=epoch_32.pkl\n",
      "[epoch_32.pkl---mpiigaze] Total Num:2962,MAE:3.25887809707656  07/12/2022 09:48:38\n",
      "entering epoch=epoch_33.pkl\n",
      "[epoch_33.pkl---mpiigaze] Total Num:2962,MAE:3.245045398798155  07/12/2022 09:48:52\n",
      "entering epoch=epoch_34.pkl\n",
      "[epoch_34.pkl---mpiigaze] Total Num:2962,MAE:3.0956710763560564  07/12/2022 09:49:07\n",
      "entering epoch=epoch_35.pkl\n",
      "[epoch_35.pkl---mpiigaze] Total Num:2962,MAE:3.4928759507548044  07/12/2022 09:49:21\n",
      "entering epoch=epoch_36.pkl\n",
      "[epoch_36.pkl---mpiigaze] Total Num:2962,MAE:3.2600335429428577  07/12/2022 09:49:36\n",
      "entering epoch=epoch_37.pkl\n",
      "[epoch_37.pkl---mpiigaze] Total Num:2962,MAE:3.305809693125785  07/12/2022 09:49:50\n",
      "entering epoch=epoch_38.pkl\n",
      "[epoch_38.pkl---mpiigaze] Total Num:2962,MAE:3.1606950901702104  07/12/2022 09:50:05\n",
      "entering epoch=epoch_39.pkl\n",
      "[epoch_39.pkl---mpiigaze] Total Num:2962,MAE:3.25198272109578  07/12/2022 09:50:19\n",
      "entering epoch=epoch_40.pkl\n",
      "[epoch_40.pkl---mpiigaze] Total Num:2962,MAE:3.3711049699575106  07/12/2022 09:50:34\n",
      "entering epoch=epoch_41.pkl\n",
      "[epoch_41.pkl---mpiigaze] Total Num:2962,MAE:3.226604938815206  07/12/2022 09:50:48\n",
      "entering epoch=epoch_42.pkl\n",
      "[epoch_42.pkl---mpiigaze] Total Num:2962,MAE:3.286534610523788  07/12/2022 09:51:02\n",
      "entering epoch=epoch_43.pkl\n",
      "[epoch_43.pkl---mpiigaze] Total Num:2962,MAE:3.102414034642824  07/12/2022 09:51:17\n",
      "entering epoch=epoch_44.pkl\n",
      "[epoch_44.pkl---mpiigaze] Total Num:2962,MAE:3.1423660507431084  07/12/2022 09:51:31\n",
      "entering epoch=epoch_45.pkl\n",
      "[epoch_45.pkl---mpiigaze] Total Num:2962,MAE:3.1864284893615262  07/12/2022 09:51:45\n",
      "entering epoch=epoch_46.pkl\n",
      "[epoch_46.pkl---mpiigaze] Total Num:2962,MAE:3.0640433035638384  07/12/2022 09:52:00\n",
      "entering epoch=epoch_47.pkl\n",
      "[epoch_47.pkl---mpiigaze] Total Num:2962,MAE:3.2809089470634714  07/12/2022 09:52:14\n",
      "entering epoch=epoch_48.pkl\n",
      "[epoch_48.pkl---mpiigaze] Total Num:2962,MAE:3.1680048934122027  07/12/2022 09:52:28\n",
      "entering epoch=epoch_49.pkl\n",
      "[epoch_49.pkl---mpiigaze] Total Num:2962,MAE:3.133237591907094  07/12/2022 09:52:43\n",
      "entering epoch=epoch_50.pkl\n",
      "[epoch_50.pkl---mpiigaze] Total Num:2962,MAE:3.1401584781665655  07/12/2022 09:52:57\n",
      "entering epoch=epoch_51.pkl\n",
      "[epoch_51.pkl---mpiigaze] Total Num:2962,MAE:3.330070129248506  07/12/2022 09:53:11\n",
      "entering epoch=epoch_52.pkl\n",
      "[epoch_52.pkl---mpiigaze] Total Num:2962,MAE:3.2518559170820054  07/12/2022 09:53:27\n",
      "entering epoch=epoch_53.pkl\n",
      "[epoch_53.pkl---mpiigaze] Total Num:2962,MAE:3.201469381494762  07/12/2022 09:53:42\n",
      "entering epoch=epoch_54.pkl\n",
      "[epoch_54.pkl---mpiigaze] Total Num:2962,MAE:3.280741979020333  07/12/2022 09:53:58\n",
      "entering epoch=epoch_55.pkl\n",
      "[epoch_55.pkl---mpiigaze] Total Num:2962,MAE:3.477615726543368  07/12/2022 09:54:12\n",
      "entering epoch=epoch_56.pkl\n",
      "[epoch_56.pkl---mpiigaze] Total Num:2962,MAE:3.1102308837781854  07/12/2022 09:54:27\n",
      "entering epoch=epoch_57.pkl\n",
      "[epoch_57.pkl---mpiigaze] Total Num:2962,MAE:3.399331474425518  07/12/2022 09:54:42\n",
      "entering epoch=epoch_58.pkl\n",
      "[epoch_58.pkl---mpiigaze] Total Num:2962,MAE:3.26396762378796  07/12/2022 09:54:57\n",
      "entering epoch=epoch_59.pkl\n",
      "[epoch_59.pkl---mpiigaze] Total Num:2962,MAE:3.763408265565515  07/12/2022 09:55:11\n",
      "entering epoch=epoch_60.pkl\n",
      "[epoch_60.pkl---mpiigaze] Total Num:2962,MAE:3.327559261357306  07/12/2022 09:55:26\n"
     ]
    },
    {
     "data": {
      "text/html": [
       "Waiting for W&B process to finish... <strong style=\"color:green\">(success).</strong>"
      ],
      "text/plain": [
       "<IPython.core.display.HTML object>"
      ]
     },
     "metadata": {},
     "output_type": "display_data"
    },
    {
     "data": {
      "application/vnd.jupyter.widget-view+json": {
       "model_id": "",
       "version_major": 2,
       "version_minor": 0
      },
      "text/plain": [
       "VBox(children=(Label(value='0.001 MB of 0.001 MB uploaded (0.000 MB deduped)\\r'), FloatProgress(value=1.0, max…"
      ]
     },
     "metadata": {},
     "output_type": "display_data"
    },
    {
     "data": {
      "text/html": [
       "<style>\n",
       "    table.wandb td:nth-child(1) { padding: 0 10px; text-align: right }\n",
       "    .wandb-row { display: flex; flex-direction: row; flex-wrap: wrap; width: 100% }\n",
       "    .wandb-col { display: flex; flex-direction: column; flex-basis: 100%; flex: 1; padding: 10px; }\n",
       "    </style>\n",
       "<div class=\"wandb-row\"><div class=\"wandb-col\"><h3>Run history:</h3><br/><table class=\"wandb\"><tr><td>fold_10_mean_mae</td><td>██▄▆▃▃▃▂▂▄▁▁▂▂▂▂▃▁▂▂▂▂▁▃▂▂▂▂▁▂▁▂▂▂▂▂▃▁▂▂</td></tr></table><br/></div><div class=\"wandb-col\"><h3>Run summary:</h3><br/><table class=\"wandb\"><tr><td>epoch</td><td>epoch_60.pkl</td></tr><tr><td>fold_10_mean_mae</td><td>3.32756</td></tr></table><br/></div></div>"
      ],
      "text/plain": [
       "<IPython.core.display.HTML object>"
      ]
     },
     "metadata": {},
     "output_type": "display_data"
    },
    {
     "data": {
      "text/html": [
       "Synced <strong style=\"color:#cdcd00\">treasured-donkey-11</strong>: <a href=\"https://wandb.ai/synthesis-ai/62_syn_mode_sdata2_syn_data2/runs/2zqoh3we\" target=\"_blank\">https://wandb.ai/synthesis-ai/62_syn_mode_sdata2_syn_data2/runs/2zqoh3we</a><br/>Synced 5 W&B file(s), 0 media file(s), 0 artifact file(s) and 0 other file(s)"
      ],
      "text/plain": [
       "<IPython.core.display.HTML object>"
      ]
     },
     "metadata": {},
     "output_type": "display_data"
    },
    {
     "data": {
      "text/html": [
       "Find logs at: <code>./wandb/run-20220712_164041-2zqoh3we/logs</code>"
      ],
      "text/plain": [
       "<IPython.core.display.HTML object>"
      ]
     },
     "metadata": {},
     "output_type": "display_data"
    },
    {
     "data": {
      "text/html": [
       "wandb version 0.12.21 is available!  To upgrade, please run:\n",
       " $ pip install wandb --upgrade"
      ],
      "text/plain": [
       "<IPython.core.display.HTML object>"
      ]
     },
     "metadata": {},
     "output_type": "display_data"
    },
    {
     "data": {
      "text/html": [
       "Tracking run with wandb version 0.12.15"
      ],
      "text/plain": [
       "<IPython.core.display.HTML object>"
      ]
     },
     "metadata": {},
     "output_type": "display_data"
    },
    {
     "data": {
      "text/html": [
       "Run data is saved locally in <code>/project/notebooks/wandb/run-20220712_165530-2bhtw4fw</code>"
      ],
      "text/plain": [
       "<IPython.core.display.HTML object>"
      ]
     },
     "metadata": {},
     "output_type": "display_data"
    },
    {
     "data": {
      "text/html": [
       "Syncing run <strong><a href=\"https://wandb.ai/synthesis-ai/62_syn_mode_sdata2_syn_data2/runs/2bhtw4fw\" target=\"_blank\">fast-dew-12</a></strong> to <a href=\"https://wandb.ai/synthesis-ai/62_syn_mode_sdata2_syn_data2\" target=\"_blank\">Weights & Biases</a> (<a href=\"https://wandb.me/run\" target=\"_blank\">docs</a>)<br/>"
      ],
      "text/plain": [
       "<IPython.core.display.HTML object>"
      ]
     },
     "metadata": {},
     "output_type": "display_data"
    },
    {
     "name": "stdout",
     "output_type": "stream",
     "text": [
      "fold=11\n",
      "/project/data/sdata2/Label\n",
      "36 items removed from dataset that have an angle > 180\n",
      "\n",
      "test configuration equal gpu_id=cuda:0, batch_size=20, model_arch=ResNet50\n",
      "Start testing dataset=mpiigaze, FOLD=11 --07/12/2022 09:55:33---------\n",
      "entering epoch=epoch_1.pkl\n",
      "[epoch_1.pkl---mpiigaze] Total Num:2963,MAE:5.805708633662411  07/12/2022 09:55:50\n",
      "entering epoch=epoch_2.pkl\n",
      "[epoch_2.pkl---mpiigaze] Total Num:2963,MAE:4.515521929859549  07/12/2022 09:56:05\n",
      "entering epoch=epoch_3.pkl\n",
      "[epoch_3.pkl---mpiigaze] Total Num:2963,MAE:5.5398847158410955  07/12/2022 09:56:19\n",
      "entering epoch=epoch_4.pkl\n",
      "[epoch_4.pkl---mpiigaze] Total Num:2963,MAE:3.1422142460379936  07/12/2022 09:56:33\n",
      "entering epoch=epoch_5.pkl\n",
      "[epoch_5.pkl---mpiigaze] Total Num:2963,MAE:3.6788063547075667  07/12/2022 09:56:47\n",
      "entering epoch=epoch_6.pkl\n",
      "[epoch_6.pkl---mpiigaze] Total Num:2963,MAE:3.5744927076469737  07/12/2022 09:57:03\n",
      "entering epoch=epoch_7.pkl\n",
      "[epoch_7.pkl---mpiigaze] Total Num:2963,MAE:2.829784653629727  07/12/2022 09:57:17\n",
      "entering epoch=epoch_8.pkl\n",
      "[epoch_8.pkl---mpiigaze] Total Num:2963,MAE:2.931915337418531  07/12/2022 09:57:31\n",
      "entering epoch=epoch_9.pkl\n",
      "[epoch_9.pkl---mpiigaze] Total Num:2963,MAE:3.1424525344176777  07/12/2022 09:57:46\n",
      "entering epoch=epoch_10.pkl\n",
      "[epoch_10.pkl---mpiigaze] Total Num:2963,MAE:2.931273986865657  07/12/2022 09:58:00\n",
      "entering epoch=epoch_11.pkl\n",
      "[epoch_11.pkl---mpiigaze] Total Num:2963,MAE:3.290414767502573  07/12/2022 09:58:15\n",
      "entering epoch=epoch_12.pkl\n",
      "[epoch_12.pkl---mpiigaze] Total Num:2963,MAE:3.234001255095903  07/12/2022 09:58:29\n",
      "entering epoch=epoch_13.pkl\n",
      "[epoch_13.pkl---mpiigaze] Total Num:2963,MAE:2.92569822682327  07/12/2022 09:58:45\n",
      "entering epoch=epoch_14.pkl\n",
      "[epoch_14.pkl---mpiigaze] Total Num:2963,MAE:2.858026278753969  07/12/2022 09:58:59\n",
      "entering epoch=epoch_15.pkl\n",
      "[epoch_15.pkl---mpiigaze] Total Num:2963,MAE:2.792914602320531  07/12/2022 09:59:13\n",
      "entering epoch=epoch_16.pkl\n",
      "[epoch_16.pkl---mpiigaze] Total Num:2963,MAE:2.731025429643834  07/12/2022 09:59:28\n",
      "entering epoch=epoch_17.pkl\n",
      "[epoch_17.pkl---mpiigaze] Total Num:2963,MAE:2.8210298369686044  07/12/2022 09:59:42\n",
      "entering epoch=epoch_18.pkl\n",
      "[epoch_18.pkl---mpiigaze] Total Num:2963,MAE:3.2001198943195575  07/12/2022 09:59:56\n",
      "entering epoch=epoch_19.pkl\n",
      "[epoch_19.pkl---mpiigaze] Total Num:2963,MAE:2.935763726754191  07/12/2022 10:00:12\n",
      "entering epoch=epoch_20.pkl\n",
      "[epoch_20.pkl---mpiigaze] Total Num:2963,MAE:2.7721819410583235  07/12/2022 10:00:26\n",
      "entering epoch=epoch_21.pkl\n",
      "[epoch_21.pkl---mpiigaze] Total Num:2963,MAE:2.8153172942923055  07/12/2022 10:00:41\n",
      "entering epoch=epoch_22.pkl\n",
      "[epoch_22.pkl---mpiigaze] Total Num:2963,MAE:2.686819582812664  07/12/2022 10:00:55\n",
      "entering epoch=epoch_23.pkl\n",
      "[epoch_23.pkl---mpiigaze] Total Num:2963,MAE:2.9315268453440417  07/12/2022 10:01:10\n",
      "entering epoch=epoch_24.pkl\n",
      "[epoch_24.pkl---mpiigaze] Total Num:2963,MAE:2.5768782025133707  07/12/2022 10:01:24\n",
      "entering epoch=epoch_25.pkl\n",
      "[epoch_25.pkl---mpiigaze] Total Num:2963,MAE:2.5831660313131795  07/12/2022 10:01:38\n",
      "entering epoch=epoch_26.pkl\n",
      "[epoch_26.pkl---mpiigaze] Total Num:2963,MAE:2.629218555799961  07/12/2022 10:01:53\n",
      "entering epoch=epoch_27.pkl\n",
      "[epoch_27.pkl---mpiigaze] Total Num:2963,MAE:2.578465332514798  07/12/2022 10:02:08\n",
      "entering epoch=epoch_28.pkl\n",
      "[epoch_28.pkl---mpiigaze] Total Num:2963,MAE:2.9608941278664322  07/12/2022 10:02:22\n",
      "entering epoch=epoch_29.pkl\n",
      "[epoch_29.pkl---mpiigaze] Total Num:2963,MAE:2.8207827971568458  07/12/2022 10:02:37\n",
      "entering epoch=epoch_30.pkl\n",
      "[epoch_30.pkl---mpiigaze] Total Num:2963,MAE:2.795346130009629  07/12/2022 10:02:51\n",
      "entering epoch=epoch_31.pkl\n",
      "[epoch_31.pkl---mpiigaze] Total Num:2963,MAE:2.9226082067130705  07/12/2022 10:03:05\n",
      "entering epoch=epoch_32.pkl\n",
      "[epoch_32.pkl---mpiigaze] Total Num:2963,MAE:2.6538626518163815  07/12/2022 10:03:20\n",
      "entering epoch=epoch_33.pkl\n"
     ]
    }
   ],
   "source": [
    "%%time\n",
    "all_MAE = []\n",
    "# tosave={}\n",
    "for fold in range(15):\n",
    "    frun = wandb.init(project=\"62_syn_mode_sdata2_syn_data2\")\n",
    "    frun.name = f'fold{fold}_mae'\n",
    "    \n",
    "    print(f\"fold={fold}\")\n",
    "    \n",
    "    epoch_values=[]\n",
    "    mae_values=[]\n",
    "\n",
    "    now = get_now()\n",
    "    \n",
    "    print(args.gazeMpiilabel_dir)\n",
    "    folder = os.listdir(args.gazeMpiilabel_dir)\n",
    "    folder.sort()  #individual label files\n",
    "    testlabelpathcombined = [os.path.join(args.gazeMpiilabel_dir, j) for j in folder] \n",
    "    \n",
    "    gaze_dataset=datasets.Mpiigaze(testlabelpathcombined, args.gazeMpiimage_dir, transformations, False, angle, fold)\n",
    "\n",
    "    test_loader = torch.utils.data.DataLoader(\n",
    "        dataset=gaze_dataset,\n",
    "        batch_size=batch_size,\n",
    "        shuffle=True,\n",
    "        num_workers=4,\n",
    "        pin_memory=True)\n",
    "\n",
    "    fold_path = os.path.join(evalpath, 'fold' + f'{fold:0>2}'+'/')  #for evaluation\n",
    "#     print(f\"fold_path is {fold_path}\")\n",
    "    if not os.path.exists(fold_path):\n",
    "        os.makedirs(fold_path)\n",
    "\n",
    "#     if not os.path.exists(os.path.join(evalpath, f\"fold\"+str(fold))):\n",
    "#         os.makedirs(os.path.join(evalpath, f\"fold\"+str(fold)))\n",
    "\n",
    "    # list all epoch for testing\n",
    "    folder = os.listdir(os.path.join(snapshot_path, \"fold\" + f'{fold:0>2}'))\n",
    "    folder.sort(key=natural_keys)\n",
    "#     folder.pop(-1)  #remove the tensorboard file, now all snapshot files\n",
    "#     print(f\"folder={folder}\")\n",
    "                    \n",
    "\n",
    "    softmax = nn.Softmax(dim=1)\n",
    "#     with open(os.path.join(evalpath, os.path.join(\"fold\"+f'{fold:0>2}', data_set+\".log\")), 'w') as outfile:\n",
    "        \n",
    "    configuration = (f\"\\ntest configuration equal gpu_id={gpu}, batch_size={batch_size}, model_arch={arch}\\n\"\n",
    "                     f\"Start testing dataset={data_set}, FOLD={fold} --{now}---------\")\n",
    "    print(configuration)\n",
    "#     tosave['time':now]\n",
    "#     outfile.write(configuration)\n",
    "    epoch_list=[]\n",
    "    avg_MAE=[]\n",
    "    for epoch in folder: \n",
    "        print(f\"entering epoch={epoch}\")\n",
    "        model=model_used\n",
    "        checkpoint = torch.load(os.path.join(snapshot_path+\"fold\"+f'{fold:0>2}', epoch))\n",
    "        saved_state_dict = checkpoint['model_state_dict']\n",
    "        model= nn.DataParallel(model,device_ids=[0])\n",
    "        model.load_state_dict(saved_state_dict)\n",
    "        model.cuda(gpu)\n",
    "        model.eval()\n",
    "        total = 0\n",
    "        idx_tensor = [idx for idx in range(35)]\n",
    "        idx_tensor = torch.FloatTensor(idx_tensor).cuda(gpu)\n",
    "        avg_error = .0\n",
    "        with torch.no_grad():\n",
    "            for j, (images, labels, cont_labels, name) in enumerate(test_loader):\n",
    "                images = Variable(images).cuda(gpu)\n",
    "                total += cont_labels.size(0)\n",
    "\n",
    "                label_pitch = cont_labels[:,0].float()*np.pi/180\n",
    "                label_yaw = cont_labels[:,1].float()*np.pi/180\n",
    "\n",
    "                gaze_pitch, gaze_yaw = model(images)\n",
    "\n",
    "                # Binned predictions\n",
    "                _, pitch_bpred = torch.max(gaze_pitch.data, 1)\n",
    "                _, yaw_bpred = torch.max(gaze_yaw.data, 1)\n",
    "\n",
    "                # Continuous predictions\n",
    "                pitch_predicted = softmax(gaze_pitch)\n",
    "                yaw_predicted = softmax(gaze_yaw)\n",
    "\n",
    "                # mapping from binned (0 to 28) to angels (-42 to 42)                \n",
    "                pitch_predicted = \\\n",
    "                    torch.sum(pitch_predicted * idx_tensor, 1).cpu() * 3 - 52\n",
    "                yaw_predicted = \\\n",
    "                    torch.sum(yaw_predicted * idx_tensor, 1).cpu() * 3 - 52\n",
    "\n",
    "                pitch_predicted = pitch_predicted*np.pi/180\n",
    "                yaw_predicted = yaw_predicted*np.pi/180\n",
    "\n",
    "                for p,y,pl,yl in zip(pitch_predicted, yaw_predicted, label_pitch, label_yaw):\n",
    "#                     pl, yl = yl, pl*(-1.0)\n",
    "#                     yl = yl*(-1.0)\n",
    "                    avg_error += angular(gazeto3d([p,y]), gazeto3d([pl,yl]))\n",
    "\n",
    "        x = ''.join(filter(lambda i: i.isdigit(), epoch))\n",
    "#             print(f\"x={x}\")\n",
    "        \n",
    "        epoch_list.append(x)\n",
    "        mean_mae = avg_error/total  #mean mae over the 3000 iamges\n",
    "        avg_MAE.append(mean_mae)  \n",
    "#             print(f\"total={total}\")\n",
    "        now = get_now()\n",
    "        loger = f\"[{epoch}---{args.dataset}] Total Num:{total},MAE:{mean_mae}  {now}\"\n",
    "#         outfile.write(loger)\n",
    "        print(loger)\n",
    "#             print(f\"done epoch={epochs}\")\n",
    "        epochn = int(x)\n",
    "#         wandb.log({'epoch':epochn,'total':total, 'MAE':mean_mae, 'FOLD':fold })\n",
    "#         tosave ={'epoch':epochn,'total':total, 'MAE':mean_mae, 'FOLD':fold }\n",
    "        epoch_values.append(epochn)\n",
    "        mae_values.append(mean_mae)\n",
    "# #         wandb.log(tosave)\n",
    "        wandb.log({'epoch': epoch, f'fold_{fold}_mean_mae':mean_mae}, step=epochn)\n",
    "       \n",
    "    all_MAE.append(avg_MAE)\n",
    "    wandb.finish()\n"
   ]
  },
  {
   "cell_type": "code",
   "execution_count": 14,
   "id": "065622ef",
   "metadata": {},
   "outputs": [],
   "source": [
    "all_MAE=np.array(all_MAE)"
   ]
  },
  {
   "cell_type": "code",
   "execution_count": 1,
   "id": "0872f6ce",
   "metadata": {},
   "outputs": [
    {
     "ename": "NameError",
     "evalue": "name 'all_MAE' is not defined",
     "output_type": "error",
     "traceback": [
      "\u001b[0;31m---------------------------------------------------------------------------\u001b[0m",
      "\u001b[0;31mNameError\u001b[0m                                 Traceback (most recent call last)",
      "Input \u001b[0;32mIn [1]\u001b[0m, in \u001b[0;36m<cell line: 1>\u001b[0;34m()\u001b[0m\n\u001b[0;32m----> 1\u001b[0m \u001b[38;5;28mprint\u001b[39m(\u001b[43mall_MAE\u001b[49m\u001b[38;5;241m.\u001b[39mshape)\n\u001b[1;32m      2\u001b[0m \u001b[38;5;28mprint\u001b[39m(all_MAE\u001b[38;5;241m.\u001b[39mmean(axis\u001b[38;5;241m=\u001b[39m\u001b[38;5;241m0\u001b[39m))\n\u001b[1;32m      3\u001b[0m \u001b[38;5;28mprint\u001b[39m(all_MAE\u001b[38;5;241m.\u001b[39mmean(axis\u001b[38;5;241m=\u001b[39m\u001b[38;5;241m1\u001b[39m))\n",
      "\u001b[0;31mNameError\u001b[0m: name 'all_MAE' is not defined"
     ]
    }
   ],
   "source": [
    "\n",
    "print(all_MAE.shape)\n",
    "print(all_MAE.mean(axis=0))\n",
    "print(all_MAE.mean(axis=1))\n",
    "print(all_MAE.mean(axis=0).argmin()+1 ,all_MAE.mean(axis=0).min())"
   ]
  },
  {
   "cell_type": "code",
   "execution_count": null,
   "id": "e80e9406",
   "metadata": {},
   "outputs": [],
   "source": [
    "best_epoch = all_MAE.mean(axis=0).argmin()+1\n",
    "min_error = all_MAE.mean(axis=0).min()\n",
    "mean_errors = all_MAE.mean(axis=0)\n",
    "print(best_epoch,min_error, mean_errors.shape )"
   ]
  },
  {
   "cell_type": "code",
   "execution_count": null,
   "id": "2f3e55ad",
   "metadata": {},
   "outputs": [],
   "source": [
    "xx = mean_errors\n",
    "min_error = 100\n",
    "with wandb.init(project=\"62_syn_mode_sdata2_syn_data2\") as run:\n",
    "    run.name = \"mean_error_per_epoch\"\n",
    "    for epoch in range(len(xx)):\n",
    "        err = xx[epoch]\n",
    "        if err < min_error:\n",
    "            min_error = err\n",
    "            run.summary[\"minimum_error (degree)\"] = min_error\n",
    "        run.log({f'mean epoch error (degree)':err}, step=epoch)\n",
    "        "
   ]
  },
  {
   "cell_type": "code",
   "execution_count": null,
   "id": "257cf58e",
   "metadata": {},
   "outputs": [],
   "source": [
    "save_file = Path(snapshot_path).parent/\"syn_syn_sdata2_all_MAE.npy\"\n",
    "with open(save_file, 'wb') as f:\n",
    "    np.save(f, all_MAE)"
   ]
  },
  {
   "cell_type": "code",
   "execution_count": null,
   "id": "d349bfa9",
   "metadata": {},
   "outputs": [],
   "source": [
    "for idx, fdata in enumerate(all_MAE):\n",
    "    print(idx, np.argmin(fdata)+1, fdata.min())"
   ]
  }
 ],
 "metadata": {
  "kernelspec": {
   "display_name": "Python 3 (ipykernel)",
   "language": "python",
   "name": "python3"
  },
  "language_info": {
   "codemirror_mode": {
    "name": "ipython",
    "version": 3
   },
   "file_extension": ".py",
   "mimetype": "text/x-python",
   "name": "python",
   "nbconvert_exporter": "python",
   "pygments_lexer": "ipython3",
   "version": "3.8.10"
  }
 },
 "nbformat": 4,
 "nbformat_minor": 5
}
