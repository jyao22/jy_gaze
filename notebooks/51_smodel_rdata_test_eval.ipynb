{
 "cells": [
  {
   "cell_type": "code",
   "execution_count": 2,
   "id": "662efc9c",
   "metadata": {},
   "outputs": [],
   "source": [
    "import os, argparse\n",
    "import numpy as np\n",
    "import matplotlib.pyplot as plt\n",
    "from datetime import datetime\n",
    "from pytz import timezone\n",
    "from pathlib import Path\n",
    "import torch\n",
    "import torch.nn as nn\n",
    "from torch.autograd import Variable\n",
    "from torch.utils.data import DataLoader\n",
    "from torchvision import transforms\n",
    "import torch.backends.cudnn as cudnn\n",
    "import torchvision\n",
    "import wandb\n",
    "\n",
    "import datasets\n",
    "# from utils import select_device, natural_keys, gazeto3d, angular, getArch\n",
    "from utils import select_device, natural_keys, gazeto3d, angular, getArch\n",
    "from model import L2CS"
   ]
  },
  {
   "cell_type": "code",
   "execution_count": 4,
   "id": "ed29c578",
   "metadata": {},
   "outputs": [],
   "source": [
    "\n",
    "args = argparse.Namespace()\n",
    "args.gazeMpiimage_dir = '/project/data/Image'  #real data \n",
    "args.gazeMpiilabel_dir = '/project/data/Label'  #real label\n",
    "# args.output = '/project/results/soutput1/snapshots/'\n",
    "args.dataset = 'mpiigaze'\n",
    "args.snapshot='/project/results/soutput1/snapshots/'\n",
    "# args.evalpath = '/project/results/sroutput1/evaluation/'\n",
    "args.gpu_id = '0,1,2,3'\n",
    "args.gpu_id = '0'\n",
    "args.batch_size = 20\n",
    "args.arch = 'ResNet50'\n",
    "args.bins=35\n",
    "args.angle = 180\n",
    "args.bin_width = 4\n"
   ]
  },
  {
   "cell_type": "code",
   "execution_count": 5,
   "id": "d0e11321",
   "metadata": {},
   "outputs": [],
   "source": [
    "batch_size=args.batch_size\n",
    "arch=args.arch\n",
    "data_set=args.dataset\n",
    "# evalpath =args.evalpath\n",
    "snapshot_path = args.snapshot\n",
    "bins=args.bins\n",
    "angle=args.angle\n",
    "bin_width=args.bin_width"
   ]
  },
  {
   "cell_type": "code",
   "execution_count": 4,
   "id": "0504fda4",
   "metadata": {},
   "outputs": [],
   "source": [
    "# args = parse_args()\n",
    "cudnn.enabled = True\n",
    "gpu = select_device(args.gpu_id, batch_size=args.batch_size)\n",
    "transformations = transforms.Compose([\n",
    "    transforms.Resize(448),\n",
    "    transforms.ToTensor(),\n",
    "    transforms.Normalize(\n",
    "        mean=[0.485, 0.456, 0.406],\n",
    "        std=[0.229, 0.224, 0.225]\n",
    "    )\n",
    "])\n",
    "\n",
    "model_used=getArch(arch, bins)  #resnet50 and 28 bins"
   ]
  },
  {
   "cell_type": "code",
   "execution_count": 5,
   "id": "6e2eff08",
   "metadata": {},
   "outputs": [
    {
     "name": "stdout",
     "output_type": "stream",
     "text": [
      "0:60 1:60 2:60 3:60 4:60 5:60 6:60 7:60 8:60 9:60 10:60 11:60 12:60 13:60 14:60 "
     ]
    }
   ],
   "source": [
    "# check if we have the correct number of checkpoint files \n",
    "ppath = snapshot_path\n",
    "for fold in range(15):\n",
    "    foldstr = f\"fold{fold:0>2}\"\n",
    "    cpath =os.path.join(ppath, foldstr)\n",
    "    files = os.listdir(cpath)\n",
    "    print(f'{fold}:{len(files)}',end=\" \")"
   ]
  },
  {
   "cell_type": "code",
   "execution_count": 6,
   "id": "72df5465",
   "metadata": {},
   "outputs": [
    {
     "name": "stdout",
     "output_type": "stream",
     "text": [
      "06/27/2022 12:26:38\n"
     ]
    }
   ],
   "source": [
    "def get_now():\n",
    "    now = datetime.utcnow()\n",
    "    now = now.astimezone(timezone('US/Pacific'))\n",
    "    date_format='%m/%d/%Y %H:%M:%S'\n",
    "    now = now.strftime(date_format) \n",
    "    return now\n",
    "print(get_now())"
   ]
  },
  {
   "cell_type": "code",
   "execution_count": 7,
   "id": "f0cf2212",
   "metadata": {},
   "outputs": [
    {
     "name": "stderr",
     "output_type": "stream",
     "text": [
      "\u001b[34m\u001b[1mwandb\u001b[0m: Currently logged in as: \u001b[33msynthesis-ai\u001b[0m (use `wandb login --relogin` to force relogin)\n"
     ]
    },
    {
     "data": {
      "text/html": [
       "wandb version 0.12.19 is available!  To upgrade, please run:\n",
       " $ pip install wandb --upgrade"
      ],
      "text/plain": [
       "<IPython.core.display.HTML object>"
      ]
     },
     "metadata": {},
     "output_type": "display_data"
    },
    {
     "data": {
      "text/html": [
       "Tracking run with wandb version 0.12.15"
      ],
      "text/plain": [
       "<IPython.core.display.HTML object>"
      ]
     },
     "metadata": {},
     "output_type": "display_data"
    },
    {
     "data": {
      "text/html": [
       "Run data is saved locally in <code>/project/notebooks/wandb/run-20220627_192638-4jicvvge</code>"
      ],
      "text/plain": [
       "<IPython.core.display.HTML object>"
      ]
     },
     "metadata": {},
     "output_type": "display_data"
    },
    {
     "data": {
      "text/html": [
       "Syncing run <strong><a href=\"https://wandb.ai/synthesis-ai/51_syn_mode_real_data/runs/4jicvvge\" target=\"_blank\">noble-dragon-35</a></strong> to <a href=\"https://wandb.ai/synthesis-ai/51_syn_mode_real_data\" target=\"_blank\">Weights & Biases</a> (<a href=\"https://wandb.me/run\" target=\"_blank\">docs</a>)<br/>"
      ],
      "text/plain": [
       "<IPython.core.display.HTML object>"
      ]
     },
     "metadata": {},
     "output_type": "display_data"
    },
    {
     "name": "stdout",
     "output_type": "stream",
     "text": [
      "fold=0\n",
      "/project/data/Label\n",
      "0 items removed from dataset that have an angle > 180\n",
      "\n",
      "test configuration equal gpu_id=cuda:0, batch_size=20, model_arch=ResNet50\n",
      "Start testing dataset=mpiigaze, FOLD=0 --06/27/2022 12:26:41---------\n",
      "entering epoch=epoch_1.pkl\n",
      "[epoch_1.pkl---mpiigaze] Total Num:3000,MAE:7.48677585295966  06/27/2022 12:26:56\n",
      "entering epoch=epoch_2.pkl\n",
      "[epoch_2.pkl---mpiigaze] Total Num:3000,MAE:9.01417653100146  06/27/2022 12:27:04\n",
      "entering epoch=epoch_3.pkl\n",
      "[epoch_3.pkl---mpiigaze] Total Num:3000,MAE:4.611029225717101  06/27/2022 12:27:12\n",
      "entering epoch=epoch_4.pkl\n",
      "[epoch_4.pkl---mpiigaze] Total Num:3000,MAE:5.048243855628022  06/27/2022 12:27:19\n",
      "entering epoch=epoch_5.pkl\n",
      "[epoch_5.pkl---mpiigaze] Total Num:3000,MAE:5.277268154003953  06/27/2022 12:27:27\n",
      "entering epoch=epoch_6.pkl\n",
      "[epoch_6.pkl---mpiigaze] Total Num:3000,MAE:5.2285667087484375  06/27/2022 12:27:34\n",
      "entering epoch=epoch_7.pkl\n",
      "[epoch_7.pkl---mpiigaze] Total Num:3000,MAE:4.658634825454906  06/27/2022 12:27:42\n",
      "entering epoch=epoch_8.pkl\n",
      "[epoch_8.pkl---mpiigaze] Total Num:3000,MAE:4.826485824367477  06/27/2022 12:27:50\n",
      "entering epoch=epoch_9.pkl\n",
      "[epoch_9.pkl---mpiigaze] Total Num:3000,MAE:4.4988495674588025  06/27/2022 12:27:57\n",
      "entering epoch=epoch_10.pkl\n",
      "[epoch_10.pkl---mpiigaze] Total Num:3000,MAE:5.120112409352873  06/27/2022 12:28:05\n",
      "entering epoch=epoch_11.pkl\n",
      "[epoch_11.pkl---mpiigaze] Total Num:3000,MAE:4.475752274152147  06/27/2022 12:28:12\n",
      "entering epoch=epoch_12.pkl\n",
      "[epoch_12.pkl---mpiigaze] Total Num:3000,MAE:4.935874296747672  06/27/2022 12:28:20\n",
      "entering epoch=epoch_13.pkl\n",
      "[epoch_13.pkl---mpiigaze] Total Num:3000,MAE:4.678121307940555  06/27/2022 12:28:27\n",
      "entering epoch=epoch_14.pkl\n",
      "[epoch_14.pkl---mpiigaze] Total Num:3000,MAE:5.000702256294235  06/27/2022 12:28:35\n",
      "entering epoch=epoch_15.pkl\n",
      "[epoch_15.pkl---mpiigaze] Total Num:3000,MAE:4.780345114194597  06/27/2022 12:28:43\n",
      "entering epoch=epoch_16.pkl\n",
      "[epoch_16.pkl---mpiigaze] Total Num:3000,MAE:4.917225576284965  06/27/2022 12:28:50\n",
      "entering epoch=epoch_17.pkl\n",
      "[epoch_17.pkl---mpiigaze] Total Num:3000,MAE:5.436449094053662  06/27/2022 12:28:58\n",
      "entering epoch=epoch_18.pkl\n",
      "[epoch_18.pkl---mpiigaze] Total Num:3000,MAE:4.757709007769864  06/27/2022 12:29:05\n",
      "entering epoch=epoch_19.pkl\n",
      "[epoch_19.pkl---mpiigaze] Total Num:3000,MAE:4.467042529469082  06/27/2022 12:29:13\n",
      "entering epoch=epoch_20.pkl\n",
      "[epoch_20.pkl---mpiigaze] Total Num:3000,MAE:4.297327221725285  06/27/2022 12:29:20\n",
      "entering epoch=epoch_21.pkl\n",
      "[epoch_21.pkl---mpiigaze] Total Num:3000,MAE:5.422582561634561  06/27/2022 12:29:29\n",
      "entering epoch=epoch_22.pkl\n",
      "[epoch_22.pkl---mpiigaze] Total Num:3000,MAE:4.462089597552956  06/27/2022 12:29:36\n",
      "entering epoch=epoch_23.pkl\n",
      "[epoch_23.pkl---mpiigaze] Total Num:3000,MAE:4.560589359318496  06/27/2022 12:29:44\n",
      "entering epoch=epoch_24.pkl\n",
      "[epoch_24.pkl---mpiigaze] Total Num:3000,MAE:4.226584692846373  06/27/2022 12:29:51\n",
      "entering epoch=epoch_25.pkl\n",
      "[epoch_25.pkl---mpiigaze] Total Num:3000,MAE:4.703749111584377  06/27/2022 12:29:59\n",
      "entering epoch=epoch_26.pkl\n",
      "[epoch_26.pkl---mpiigaze] Total Num:3000,MAE:4.442665539655608  06/27/2022 12:30:06\n",
      "entering epoch=epoch_27.pkl\n",
      "[epoch_27.pkl---mpiigaze] Total Num:3000,MAE:4.187468044816751  06/27/2022 12:30:14\n",
      "entering epoch=epoch_28.pkl\n",
      "[epoch_28.pkl---mpiigaze] Total Num:3000,MAE:4.164445871144148  06/27/2022 12:30:21\n",
      "entering epoch=epoch_29.pkl\n",
      "[epoch_29.pkl---mpiigaze] Total Num:3000,MAE:4.5423388238751246  06/27/2022 12:30:28\n",
      "entering epoch=epoch_30.pkl\n",
      "[epoch_30.pkl---mpiigaze] Total Num:3000,MAE:4.465372041564871  06/27/2022 12:30:36\n",
      "entering epoch=epoch_31.pkl\n",
      "[epoch_31.pkl---mpiigaze] Total Num:3000,MAE:4.6821918500233215  06/27/2022 12:30:44\n",
      "entering epoch=epoch_32.pkl\n",
      "[epoch_32.pkl---mpiigaze] Total Num:3000,MAE:4.599035286556554  06/27/2022 12:30:51\n",
      "entering epoch=epoch_33.pkl\n",
      "[epoch_33.pkl---mpiigaze] Total Num:3000,MAE:4.74572121743369  06/27/2022 12:30:59\n",
      "entering epoch=epoch_34.pkl\n",
      "[epoch_34.pkl---mpiigaze] Total Num:3000,MAE:4.168604671321417  06/27/2022 12:31:06\n",
      "entering epoch=epoch_35.pkl\n",
      "[epoch_35.pkl---mpiigaze] Total Num:3000,MAE:4.687841962024994  06/27/2022 12:31:14\n",
      "entering epoch=epoch_36.pkl\n",
      "[epoch_36.pkl---mpiigaze] Total Num:3000,MAE:5.1579812185106215  06/27/2022 12:31:21\n",
      "entering epoch=epoch_37.pkl\n",
      "[epoch_37.pkl---mpiigaze] Total Num:3000,MAE:4.571871820142954  06/27/2022 12:31:29\n",
      "entering epoch=epoch_38.pkl\n",
      "[epoch_38.pkl---mpiigaze] Total Num:3000,MAE:4.577353639993908  06/27/2022 12:31:36\n",
      "entering epoch=epoch_39.pkl\n",
      "[epoch_39.pkl---mpiigaze] Total Num:3000,MAE:4.54113501550908  06/27/2022 12:31:44\n",
      "entering epoch=epoch_40.pkl\n",
      "[epoch_40.pkl---mpiigaze] Total Num:3000,MAE:4.445737656683913  06/27/2022 12:31:51\n",
      "entering epoch=epoch_41.pkl\n",
      "[epoch_41.pkl---mpiigaze] Total Num:3000,MAE:4.662477900600235  06/27/2022 12:31:59\n",
      "entering epoch=epoch_42.pkl\n",
      "[epoch_42.pkl---mpiigaze] Total Num:3000,MAE:4.481147088306616  06/27/2022 12:32:06\n",
      "entering epoch=epoch_43.pkl\n",
      "[epoch_43.pkl---mpiigaze] Total Num:3000,MAE:4.31549517241116  06/27/2022 12:32:14\n",
      "entering epoch=epoch_44.pkl\n",
      "[epoch_44.pkl---mpiigaze] Total Num:3000,MAE:5.195496471647021  06/27/2022 12:32:22\n",
      "entering epoch=epoch_45.pkl\n",
      "[epoch_45.pkl---mpiigaze] Total Num:3000,MAE:4.317401903087852  06/27/2022 12:32:29\n",
      "entering epoch=epoch_46.pkl\n",
      "[epoch_46.pkl---mpiigaze] Total Num:3000,MAE:4.342667316034803  06/27/2022 12:32:36\n",
      "entering epoch=epoch_47.pkl\n",
      "[epoch_47.pkl---mpiigaze] Total Num:3000,MAE:4.607839927052427  06/27/2022 12:32:44\n",
      "entering epoch=epoch_48.pkl\n",
      "[epoch_48.pkl---mpiigaze] Total Num:3000,MAE:4.468620941289765  06/27/2022 12:32:52\n",
      "entering epoch=epoch_49.pkl\n",
      "[epoch_49.pkl---mpiigaze] Total Num:3000,MAE:4.655798074039247  06/27/2022 12:32:59\n",
      "entering epoch=epoch_50.pkl\n",
      "[epoch_50.pkl---mpiigaze] Total Num:3000,MAE:4.699294031401443  06/27/2022 12:33:07\n",
      "entering epoch=epoch_51.pkl\n",
      "[epoch_51.pkl---mpiigaze] Total Num:3000,MAE:4.719163733500714  06/27/2022 12:33:15\n",
      "entering epoch=epoch_52.pkl\n",
      "[epoch_52.pkl---mpiigaze] Total Num:3000,MAE:5.296954679198064  06/27/2022 12:33:22\n",
      "entering epoch=epoch_53.pkl\n",
      "[epoch_53.pkl---mpiigaze] Total Num:3000,MAE:4.730840526189231  06/27/2022 12:33:30\n",
      "entering epoch=epoch_54.pkl\n",
      "[epoch_54.pkl---mpiigaze] Total Num:3000,MAE:4.417096309244069  06/27/2022 12:33:37\n",
      "entering epoch=epoch_55.pkl\n",
      "[epoch_55.pkl---mpiigaze] Total Num:3000,MAE:4.466400081271741  06/27/2022 12:33:45\n",
      "entering epoch=epoch_56.pkl\n",
      "[epoch_56.pkl---mpiigaze] Total Num:3000,MAE:4.798959350981438  06/27/2022 12:33:52\n",
      "entering epoch=epoch_57.pkl\n",
      "[epoch_57.pkl---mpiigaze] Total Num:3000,MAE:4.597271738880876  06/27/2022 12:34:00\n",
      "entering epoch=epoch_58.pkl\n",
      "[epoch_58.pkl---mpiigaze] Total Num:3000,MAE:4.49257813154647  06/27/2022 12:34:08\n",
      "entering epoch=epoch_59.pkl\n",
      "[epoch_59.pkl---mpiigaze] Total Num:3000,MAE:4.944395984295712  06/27/2022 12:34:15\n",
      "entering epoch=epoch_60.pkl\n",
      "[epoch_60.pkl---mpiigaze] Total Num:3000,MAE:4.43954586433092  06/27/2022 12:34:23\n"
     ]
    },
    {
     "data": {
      "text/html": [
       "Waiting for W&B process to finish... <strong style=\"color:green\">(success).</strong>"
      ],
      "text/plain": [
       "<IPython.core.display.HTML object>"
      ]
     },
     "metadata": {},
     "output_type": "display_data"
    },
    {
     "data": {
      "application/vnd.jupyter.widget-view+json": {
       "model_id": "",
       "version_major": 2,
       "version_minor": 0
      },
      "text/plain": [
       "VBox(children=(Label(value='0.001 MB of 0.001 MB uploaded (0.000 MB deduped)\\r'), FloatProgress(value=1.0, max…"
      ]
     },
     "metadata": {},
     "output_type": "display_data"
    },
    {
     "data": {
      "text/html": [
       "<style>\n",
       "    table.wandb td:nth-child(1) { padding: 0 10px; text-align: right }\n",
       "    .wandb-row { display: flex; flex-direction: row; flex-wrap: wrap; width: 100% }\n",
       "    .wandb-col { display: flex; flex-direction: column; flex-basis: 100%; flex: 1; padding: 10px; }\n",
       "    </style>\n",
       "<div class=\"wandb-row\"><div class=\"wandb-col\"><h3>Run history:</h3><br/><table class=\"wandb\"><tr><td>try3_fold_0_avg_mae</td><td>▆█▂▃▂▂▂▁▂▂▂▃▁▁▁▂▂▁▁▂▂▂▁▂▂▂▁▂▁▂▁▂▂▂▃▂▁▂▁▁</td></tr></table><br/></div><div class=\"wandb-col\"><h3>Run summary:</h3><br/><table class=\"wandb\"><tr><td>epoch</td><td>epoch_60.pkl</td></tr><tr><td>try3_fold_0_avg_mae</td><td>4.43955</td></tr></table><br/></div></div>"
      ],
      "text/plain": [
       "<IPython.core.display.HTML object>"
      ]
     },
     "metadata": {},
     "output_type": "display_data"
    },
    {
     "data": {
      "text/html": [
       "Synced <strong style=\"color:#cdcd00\">noble-dragon-35</strong>: <a href=\"https://wandb.ai/synthesis-ai/51_syn_mode_real_data/runs/4jicvvge\" target=\"_blank\">https://wandb.ai/synthesis-ai/51_syn_mode_real_data/runs/4jicvvge</a><br/>Synced 5 W&B file(s), 0 media file(s), 0 artifact file(s) and 0 other file(s)"
      ],
      "text/plain": [
       "<IPython.core.display.HTML object>"
      ]
     },
     "metadata": {},
     "output_type": "display_data"
    },
    {
     "data": {
      "text/html": [
       "Find logs at: <code>./wandb/run-20220627_192638-4jicvvge/logs</code>"
      ],
      "text/plain": [
       "<IPython.core.display.HTML object>"
      ]
     },
     "metadata": {},
     "output_type": "display_data"
    },
    {
     "data": {
      "text/html": [
       "wandb version 0.12.19 is available!  To upgrade, please run:\n",
       " $ pip install wandb --upgrade"
      ],
      "text/plain": [
       "<IPython.core.display.HTML object>"
      ]
     },
     "metadata": {},
     "output_type": "display_data"
    },
    {
     "data": {
      "text/html": [
       "Tracking run with wandb version 0.12.15"
      ],
      "text/plain": [
       "<IPython.core.display.HTML object>"
      ]
     },
     "metadata": {},
     "output_type": "display_data"
    },
    {
     "data": {
      "text/html": [
       "Run data is saved locally in <code>/project/notebooks/wandb/run-20220627_193426-1aeaceq6</code>"
      ],
      "text/plain": [
       "<IPython.core.display.HTML object>"
      ]
     },
     "metadata": {},
     "output_type": "display_data"
    },
    {
     "data": {
      "text/html": [
       "Syncing run <strong><a href=\"https://wandb.ai/synthesis-ai/51_syn_mode_real_data/runs/1aeaceq6\" target=\"_blank\">pious-star-36</a></strong> to <a href=\"https://wandb.ai/synthesis-ai/51_syn_mode_real_data\" target=\"_blank\">Weights & Biases</a> (<a href=\"https://wandb.me/run\" target=\"_blank\">docs</a>)<br/>"
      ],
      "text/plain": [
       "<IPython.core.display.HTML object>"
      ]
     },
     "metadata": {},
     "output_type": "display_data"
    },
    {
     "name": "stdout",
     "output_type": "stream",
     "text": [
      "fold=1\n",
      "/project/data/Label\n",
      "0 items removed from dataset that have an angle > 180\n",
      "\n",
      "test configuration equal gpu_id=cuda:0, batch_size=20, model_arch=ResNet50\n",
      "Start testing dataset=mpiigaze, FOLD=1 --06/27/2022 12:34:29---------\n",
      "entering epoch=epoch_1.pkl\n",
      "[epoch_1.pkl---mpiigaze] Total Num:3000,MAE:6.218286463813767  06/27/2022 12:34:42\n",
      "entering epoch=epoch_2.pkl\n",
      "[epoch_2.pkl---mpiigaze] Total Num:3000,MAE:6.420130805923361  06/27/2022 12:34:49\n",
      "entering epoch=epoch_3.pkl\n",
      "[epoch_3.pkl---mpiigaze] Total Num:3000,MAE:7.752906422197179  06/27/2022 12:34:57\n",
      "entering epoch=epoch_4.pkl\n",
      "[epoch_4.pkl---mpiigaze] Total Num:3000,MAE:6.8762145584445005  06/27/2022 12:35:04\n",
      "entering epoch=epoch_5.pkl\n",
      "[epoch_5.pkl---mpiigaze] Total Num:3000,MAE:6.482267909632053  06/27/2022 12:35:12\n",
      "entering epoch=epoch_6.pkl\n",
      "[epoch_6.pkl---mpiigaze] Total Num:3000,MAE:7.416907124473344  06/27/2022 12:35:19\n",
      "entering epoch=epoch_7.pkl\n",
      "[epoch_7.pkl---mpiigaze] Total Num:3000,MAE:6.358976427730542  06/27/2022 12:35:27\n",
      "entering epoch=epoch_8.pkl\n",
      "[epoch_8.pkl---mpiigaze] Total Num:3000,MAE:6.41904308948941  06/27/2022 12:35:35\n",
      "entering epoch=epoch_9.pkl\n",
      "[epoch_9.pkl---mpiigaze] Total Num:3000,MAE:6.11183565932157  06/27/2022 12:35:42\n",
      "entering epoch=epoch_10.pkl\n",
      "[epoch_10.pkl---mpiigaze] Total Num:3000,MAE:7.072011192806856  06/27/2022 12:35:50\n",
      "entering epoch=epoch_11.pkl\n",
      "[epoch_11.pkl---mpiigaze] Total Num:3000,MAE:6.86159811286669  06/27/2022 12:35:58\n",
      "entering epoch=epoch_12.pkl\n",
      "[epoch_12.pkl---mpiigaze] Total Num:3000,MAE:6.537699629606971  06/27/2022 12:36:09\n",
      "entering epoch=epoch_13.pkl\n",
      "[epoch_13.pkl---mpiigaze] Total Num:3000,MAE:6.044472401200215  06/27/2022 12:36:20\n",
      "entering epoch=epoch_14.pkl\n",
      "[epoch_14.pkl---mpiigaze] Total Num:3000,MAE:6.137920468441024  06/27/2022 12:36:31\n",
      "entering epoch=epoch_15.pkl\n",
      "[epoch_15.pkl---mpiigaze] Total Num:3000,MAE:5.6749308208320155  06/27/2022 12:36:43\n",
      "entering epoch=epoch_16.pkl\n",
      "[epoch_16.pkl---mpiigaze] Total Num:3000,MAE:6.727923875748583  06/27/2022 12:36:54\n",
      "entering epoch=epoch_17.pkl\n",
      "[epoch_17.pkl---mpiigaze] Total Num:3000,MAE:6.146598808582881  06/27/2022 12:37:05\n",
      "entering epoch=epoch_18.pkl\n",
      "[epoch_18.pkl---mpiigaze] Total Num:3000,MAE:6.651348468012391  06/27/2022 12:37:14\n",
      "entering epoch=epoch_19.pkl\n",
      "[epoch_19.pkl---mpiigaze] Total Num:3000,MAE:6.341516317115896  06/27/2022 12:37:21\n",
      "entering epoch=epoch_20.pkl\n",
      "[epoch_20.pkl---mpiigaze] Total Num:3000,MAE:6.305319827944071  06/27/2022 12:37:29\n",
      "entering epoch=epoch_21.pkl\n",
      "[epoch_21.pkl---mpiigaze] Total Num:3000,MAE:6.886976313366887  06/27/2022 12:37:38\n",
      "entering epoch=epoch_22.pkl\n",
      "[epoch_22.pkl---mpiigaze] Total Num:3000,MAE:6.092776180376  06/27/2022 12:37:46\n",
      "entering epoch=epoch_23.pkl\n",
      "[epoch_23.pkl---mpiigaze] Total Num:3000,MAE:5.937488112577182  06/27/2022 12:37:53\n",
      "entering epoch=epoch_24.pkl\n",
      "[epoch_24.pkl---mpiigaze] Total Num:3000,MAE:6.219279398820187  06/27/2022 12:38:00\n",
      "entering epoch=epoch_25.pkl\n",
      "[epoch_25.pkl---mpiigaze] Total Num:3000,MAE:7.599882142333626  06/27/2022 12:38:08\n",
      "entering epoch=epoch_26.pkl\n",
      "[epoch_26.pkl---mpiigaze] Total Num:3000,MAE:7.136932001344296  06/27/2022 12:38:16\n",
      "entering epoch=epoch_27.pkl\n",
      "[epoch_27.pkl---mpiigaze] Total Num:3000,MAE:5.851823115056513  06/27/2022 12:38:24\n",
      "entering epoch=epoch_28.pkl\n",
      "[epoch_28.pkl---mpiigaze] Total Num:3000,MAE:6.632999333875402  06/27/2022 12:38:31\n",
      "entering epoch=epoch_29.pkl\n",
      "[epoch_29.pkl---mpiigaze] Total Num:3000,MAE:6.1911647741449265  06/27/2022 12:38:42\n",
      "entering epoch=epoch_30.pkl\n",
      "[epoch_30.pkl---mpiigaze] Total Num:3000,MAE:6.206404556069472  06/27/2022 12:38:55\n",
      "entering epoch=epoch_31.pkl\n",
      "[epoch_31.pkl---mpiigaze] Total Num:3000,MAE:5.995897573587126  06/27/2022 12:39:08\n",
      "entering epoch=epoch_32.pkl\n",
      "[epoch_32.pkl---mpiigaze] Total Num:3000,MAE:6.242744092231421  06/27/2022 12:39:19\n",
      "entering epoch=epoch_33.pkl\n",
      "[epoch_33.pkl---mpiigaze] Total Num:3000,MAE:6.00208416147237  06/27/2022 12:39:31\n",
      "entering epoch=epoch_34.pkl\n",
      "[epoch_34.pkl---mpiigaze] Total Num:3000,MAE:6.968292239488452  06/27/2022 12:39:42\n",
      "entering epoch=epoch_35.pkl\n",
      "[epoch_35.pkl---mpiigaze] Total Num:3000,MAE:6.945123353478446  06/27/2022 12:39:53\n",
      "entering epoch=epoch_36.pkl\n",
      "[epoch_36.pkl---mpiigaze] Total Num:3000,MAE:6.203559806588928  06/27/2022 12:40:04\n",
      "entering epoch=epoch_37.pkl\n",
      "[epoch_37.pkl---mpiigaze] Total Num:3000,MAE:6.265398103241268  06/27/2022 12:40:16\n",
      "entering epoch=epoch_38.pkl\n",
      "[epoch_38.pkl---mpiigaze] Total Num:3000,MAE:6.076034286681683  06/27/2022 12:40:27\n",
      "entering epoch=epoch_39.pkl\n",
      "[epoch_39.pkl---mpiigaze] Total Num:3000,MAE:6.60598371383523  06/27/2022 12:40:38\n",
      "entering epoch=epoch_40.pkl\n",
      "[epoch_40.pkl---mpiigaze] Total Num:3000,MAE:5.988163213913919  06/27/2022 12:40:50\n",
      "entering epoch=epoch_41.pkl\n",
      "[epoch_41.pkl---mpiigaze] Total Num:3000,MAE:6.0831266018577566  06/27/2022 12:41:01\n",
      "entering epoch=epoch_42.pkl\n",
      "[epoch_42.pkl---mpiigaze] Total Num:3000,MAE:6.1952535474178605  06/27/2022 12:41:12\n",
      "entering epoch=epoch_43.pkl\n",
      "[epoch_43.pkl---mpiigaze] Total Num:3000,MAE:6.889492638340614  06/27/2022 12:41:23\n",
      "entering epoch=epoch_44.pkl\n",
      "[epoch_44.pkl---mpiigaze] Total Num:3000,MAE:6.560856347694164  06/27/2022 12:41:35\n",
      "entering epoch=epoch_45.pkl\n",
      "[epoch_45.pkl---mpiigaze] Total Num:3000,MAE:6.794663148610019  06/27/2022 12:41:46\n",
      "entering epoch=epoch_46.pkl\n",
      "[epoch_46.pkl---mpiigaze] Total Num:3000,MAE:6.582515301182648  06/27/2022 12:41:57\n",
      "entering epoch=epoch_47.pkl\n",
      "[epoch_47.pkl---mpiigaze] Total Num:3000,MAE:6.232250204185071  06/27/2022 12:42:09\n",
      "entering epoch=epoch_48.pkl\n",
      "[epoch_48.pkl---mpiigaze] Total Num:3000,MAE:6.474291530937538  06/27/2022 12:42:20\n",
      "entering epoch=epoch_49.pkl\n",
      "[epoch_49.pkl---mpiigaze] Total Num:3000,MAE:6.547589602392574  06/27/2022 12:42:32\n",
      "entering epoch=epoch_50.pkl\n",
      "[epoch_50.pkl---mpiigaze] Total Num:3000,MAE:6.434312842226189  06/27/2022 12:42:45\n",
      "entering epoch=epoch_51.pkl\n",
      "[epoch_51.pkl---mpiigaze] Total Num:3000,MAE:6.377279266762486  06/27/2022 12:42:57\n",
      "entering epoch=epoch_52.pkl\n",
      "[epoch_52.pkl---mpiigaze] Total Num:3000,MAE:6.893855636575914  06/27/2022 12:43:09\n",
      "entering epoch=epoch_53.pkl\n",
      "[epoch_53.pkl---mpiigaze] Total Num:3000,MAE:6.970048030124508  06/27/2022 12:43:21\n",
      "entering epoch=epoch_54.pkl\n",
      "[epoch_54.pkl---mpiigaze] Total Num:3000,MAE:6.612426160090601  06/27/2022 12:43:31\n",
      "entering epoch=epoch_55.pkl\n",
      "[epoch_55.pkl---mpiigaze] Total Num:3000,MAE:6.592020126490513  06/27/2022 12:43:42\n",
      "entering epoch=epoch_56.pkl\n",
      "[epoch_56.pkl---mpiigaze] Total Num:3000,MAE:5.8856614067867445  06/27/2022 12:43:53\n",
      "entering epoch=epoch_57.pkl\n",
      "[epoch_57.pkl---mpiigaze] Total Num:3000,MAE:6.2177252516930945  06/27/2022 12:44:04\n",
      "entering epoch=epoch_58.pkl\n",
      "[epoch_58.pkl---mpiigaze] Total Num:3000,MAE:6.568245567783122  06/27/2022 12:44:15\n",
      "entering epoch=epoch_59.pkl\n",
      "[epoch_59.pkl---mpiigaze] Total Num:3000,MAE:7.125701523335235  06/27/2022 12:44:27\n",
      "entering epoch=epoch_60.pkl\n",
      "[epoch_60.pkl---mpiigaze] Total Num:3000,MAE:5.940638823338071  06/27/2022 12:44:38\n"
     ]
    },
    {
     "data": {
      "text/html": [
       "Waiting for W&B process to finish... <strong style=\"color:green\">(success).</strong>"
      ],
      "text/plain": [
       "<IPython.core.display.HTML object>"
      ]
     },
     "metadata": {},
     "output_type": "display_data"
    },
    {
     "data": {
      "application/vnd.jupyter.widget-view+json": {
       "model_id": "",
       "version_major": 2,
       "version_minor": 0
      },
      "text/plain": [
       "VBox(children=(Label(value='0.001 MB of 0.001 MB uploaded (0.000 MB deduped)\\r'), FloatProgress(value=1.0, max…"
      ]
     },
     "metadata": {},
     "output_type": "display_data"
    },
    {
     "data": {
      "text/html": [
       "<style>\n",
       "    table.wandb td:nth-child(1) { padding: 0 10px; text-align: right }\n",
       "    .wandb-row { display: flex; flex-direction: row; flex-wrap: wrap; width: 100% }\n",
       "    .wandb-col { display: flex; flex-direction: column; flex-basis: 100%; flex: 1; padding: 10px; }\n",
       "    </style>\n",
       "<div class=\"wandb-row\"><div class=\"wandb-col\"><h3>Run history:</h3><br/><table class=\"wandb\"><tr><td>try3_fold_1_avg_mae</td><td>▂▃▅▃▃▃▆▅▂▂▄▂▃▃▂▁█▆▄▂▁▂▅▅▃▂▁▂▅▄▄▂▄▃▅▅▄▁▄▁</td></tr></table><br/></div><div class=\"wandb-col\"><h3>Run summary:</h3><br/><table class=\"wandb\"><tr><td>epoch</td><td>epoch_60.pkl</td></tr><tr><td>try3_fold_1_avg_mae</td><td>5.94064</td></tr></table><br/></div></div>"
      ],
      "text/plain": [
       "<IPython.core.display.HTML object>"
      ]
     },
     "metadata": {},
     "output_type": "display_data"
    },
    {
     "data": {
      "text/html": [
       "Synced <strong style=\"color:#cdcd00\">pious-star-36</strong>: <a href=\"https://wandb.ai/synthesis-ai/51_syn_mode_real_data/runs/1aeaceq6\" target=\"_blank\">https://wandb.ai/synthesis-ai/51_syn_mode_real_data/runs/1aeaceq6</a><br/>Synced 5 W&B file(s), 0 media file(s), 0 artifact file(s) and 0 other file(s)"
      ],
      "text/plain": [
       "<IPython.core.display.HTML object>"
      ]
     },
     "metadata": {},
     "output_type": "display_data"
    },
    {
     "data": {
      "text/html": [
       "Find logs at: <code>./wandb/run-20220627_193426-1aeaceq6/logs</code>"
      ],
      "text/plain": [
       "<IPython.core.display.HTML object>"
      ]
     },
     "metadata": {},
     "output_type": "display_data"
    },
    {
     "data": {
      "text/html": [
       "wandb version 0.12.19 is available!  To upgrade, please run:\n",
       " $ pip install wandb --upgrade"
      ],
      "text/plain": [
       "<IPython.core.display.HTML object>"
      ]
     },
     "metadata": {},
     "output_type": "display_data"
    },
    {
     "data": {
      "text/html": [
       "Tracking run with wandb version 0.12.15"
      ],
      "text/plain": [
       "<IPython.core.display.HTML object>"
      ]
     },
     "metadata": {},
     "output_type": "display_data"
    },
    {
     "data": {
      "text/html": [
       "Run data is saved locally in <code>/project/notebooks/wandb/run-20220627_194443-1deuskih</code>"
      ],
      "text/plain": [
       "<IPython.core.display.HTML object>"
      ]
     },
     "metadata": {},
     "output_type": "display_data"
    },
    {
     "data": {
      "text/html": [
       "Syncing run <strong><a href=\"https://wandb.ai/synthesis-ai/51_syn_mode_real_data/runs/1deuskih\" target=\"_blank\">cerulean-sunset-37</a></strong> to <a href=\"https://wandb.ai/synthesis-ai/51_syn_mode_real_data\" target=\"_blank\">Weights & Biases</a> (<a href=\"https://wandb.me/run\" target=\"_blank\">docs</a>)<br/>"
      ],
      "text/plain": [
       "<IPython.core.display.HTML object>"
      ]
     },
     "metadata": {},
     "output_type": "display_data"
    },
    {
     "name": "stdout",
     "output_type": "stream",
     "text": [
      "fold=2\n",
      "/project/data/Label\n",
      "0 items removed from dataset that have an angle > 180\n",
      "\n",
      "test configuration equal gpu_id=cuda:0, batch_size=20, model_arch=ResNet50\n",
      "Start testing dataset=mpiigaze, FOLD=2 --06/27/2022 12:44:45---------\n",
      "entering epoch=epoch_1.pkl\n",
      "[epoch_1.pkl---mpiigaze] Total Num:3000,MAE:7.123808537266993  06/27/2022 12:44:59\n",
      "entering epoch=epoch_2.pkl\n",
      "[epoch_2.pkl---mpiigaze] Total Num:3000,MAE:8.133352139678516  06/27/2022 12:45:10\n",
      "entering epoch=epoch_3.pkl\n",
      "[epoch_3.pkl---mpiigaze] Total Num:3000,MAE:6.782486845880018  06/27/2022 12:45:21\n",
      "entering epoch=epoch_4.pkl\n",
      "[epoch_4.pkl---mpiigaze] Total Num:3000,MAE:7.058589029773891  06/27/2022 12:45:32\n",
      "entering epoch=epoch_5.pkl\n",
      "[epoch_5.pkl---mpiigaze] Total Num:3000,MAE:6.559141130467233  06/27/2022 12:45:44\n",
      "entering epoch=epoch_6.pkl\n",
      "[epoch_6.pkl---mpiigaze] Total Num:3000,MAE:6.358813145935694  06/27/2022 12:45:56\n",
      "entering epoch=epoch_7.pkl\n",
      "[epoch_7.pkl---mpiigaze] Total Num:3000,MAE:6.607669037308785  06/27/2022 12:46:08\n",
      "entering epoch=epoch_8.pkl\n",
      "[epoch_8.pkl---mpiigaze] Total Num:3000,MAE:6.230988184229431  06/27/2022 12:46:20\n",
      "entering epoch=epoch_9.pkl\n",
      "[epoch_9.pkl---mpiigaze] Total Num:3000,MAE:5.967172913719599  06/27/2022 12:46:32\n",
      "entering epoch=epoch_10.pkl\n",
      "[epoch_10.pkl---mpiigaze] Total Num:3000,MAE:6.193818395368805  06/27/2022 12:46:43\n",
      "entering epoch=epoch_11.pkl\n",
      "[epoch_11.pkl---mpiigaze] Total Num:3000,MAE:6.171679433081796  06/27/2022 12:46:54\n",
      "entering epoch=epoch_12.pkl\n",
      "[epoch_12.pkl---mpiigaze] Total Num:3000,MAE:5.927713158469095  06/27/2022 12:47:07\n",
      "entering epoch=epoch_13.pkl\n",
      "[epoch_13.pkl---mpiigaze] Total Num:3000,MAE:5.903543653329573  06/27/2022 12:47:19\n",
      "entering epoch=epoch_14.pkl\n",
      "[epoch_14.pkl---mpiigaze] Total Num:3000,MAE:5.75408053178643  06/27/2022 12:47:32\n",
      "entering epoch=epoch_15.pkl\n",
      "[epoch_15.pkl---mpiigaze] Total Num:3000,MAE:5.598789048642986  06/27/2022 12:47:45\n",
      "entering epoch=epoch_16.pkl\n",
      "[epoch_16.pkl---mpiigaze] Total Num:3000,MAE:6.320854543377547  06/27/2022 12:47:58\n",
      "entering epoch=epoch_17.pkl\n",
      "[epoch_17.pkl---mpiigaze] Total Num:3000,MAE:5.8691736460373205  06/27/2022 12:48:10\n",
      "entering epoch=epoch_18.pkl\n",
      "[epoch_18.pkl---mpiigaze] Total Num:3000,MAE:6.441404295756389  06/27/2022 12:48:22\n",
      "entering epoch=epoch_19.pkl\n",
      "[epoch_19.pkl---mpiigaze] Total Num:3000,MAE:6.106751683264025  06/27/2022 12:48:33\n",
      "entering epoch=epoch_20.pkl\n",
      "[epoch_20.pkl---mpiigaze] Total Num:3000,MAE:5.498805486000898  06/27/2022 12:48:45\n",
      "entering epoch=epoch_21.pkl\n",
      "[epoch_21.pkl---mpiigaze] Total Num:3000,MAE:5.971427840568454  06/27/2022 12:48:56\n",
      "entering epoch=epoch_22.pkl\n",
      "[epoch_22.pkl---mpiigaze] Total Num:3000,MAE:5.920716152661094  06/27/2022 12:49:07\n",
      "entering epoch=epoch_23.pkl\n",
      "[epoch_23.pkl---mpiigaze] Total Num:3000,MAE:5.785066451876477  06/27/2022 12:49:19\n",
      "entering epoch=epoch_24.pkl\n",
      "[epoch_24.pkl---mpiigaze] Total Num:3000,MAE:6.165544518880361  06/27/2022 12:49:30\n",
      "entering epoch=epoch_25.pkl\n",
      "[epoch_25.pkl---mpiigaze] Total Num:3000,MAE:7.018055902985314  06/27/2022 12:49:41\n",
      "entering epoch=epoch_26.pkl\n",
      "[epoch_26.pkl---mpiigaze] Total Num:3000,MAE:5.630924025332525  06/27/2022 12:49:51\n",
      "entering epoch=epoch_27.pkl\n",
      "[epoch_27.pkl---mpiigaze] Total Num:3000,MAE:5.975734519253713  06/27/2022 12:50:01\n",
      "entering epoch=epoch_28.pkl\n",
      "[epoch_28.pkl---mpiigaze] Total Num:3000,MAE:6.364380123132513  06/27/2022 12:50:12\n",
      "entering epoch=epoch_29.pkl\n",
      "[epoch_29.pkl---mpiigaze] Total Num:3000,MAE:5.913127654132966  06/27/2022 12:50:23\n",
      "entering epoch=epoch_30.pkl\n",
      "[epoch_30.pkl---mpiigaze] Total Num:3000,MAE:5.624468383646419  06/27/2022 12:50:34\n",
      "entering epoch=epoch_31.pkl\n",
      "[epoch_31.pkl---mpiigaze] Total Num:3000,MAE:5.8907921774541485  06/27/2022 12:50:46\n",
      "entering epoch=epoch_32.pkl\n",
      "[epoch_32.pkl---mpiigaze] Total Num:3000,MAE:6.157752858003321  06/27/2022 12:50:58\n",
      "entering epoch=epoch_33.pkl\n",
      "[epoch_33.pkl---mpiigaze] Total Num:3000,MAE:5.864128519384404  06/27/2022 12:51:11\n",
      "entering epoch=epoch_34.pkl\n",
      "[epoch_34.pkl---mpiigaze] Total Num:3000,MAE:5.935111860413589  06/27/2022 12:51:23\n",
      "entering epoch=epoch_35.pkl\n",
      "[epoch_35.pkl---mpiigaze] Total Num:3000,MAE:5.665612176767703  06/27/2022 12:51:35\n",
      "entering epoch=epoch_36.pkl\n",
      "[epoch_36.pkl---mpiigaze] Total Num:3000,MAE:6.175217551394371  06/27/2022 12:51:48\n",
      "entering epoch=epoch_37.pkl\n",
      "[epoch_37.pkl---mpiigaze] Total Num:3000,MAE:5.96819775366987  06/27/2022 12:52:00\n",
      "entering epoch=epoch_38.pkl\n",
      "[epoch_38.pkl---mpiigaze] Total Num:3000,MAE:5.8471697785525585  06/27/2022 12:52:12\n",
      "entering epoch=epoch_39.pkl\n",
      "[epoch_39.pkl---mpiigaze] Total Num:3000,MAE:5.662499079290732  06/27/2022 12:52:25\n",
      "entering epoch=epoch_40.pkl\n",
      "[epoch_40.pkl---mpiigaze] Total Num:3000,MAE:5.800948579952822  06/27/2022 12:52:38\n",
      "entering epoch=epoch_41.pkl\n",
      "[epoch_41.pkl---mpiigaze] Total Num:3000,MAE:5.754630379373995  06/27/2022 12:52:50\n",
      "entering epoch=epoch_42.pkl\n",
      "[epoch_42.pkl---mpiigaze] Total Num:3000,MAE:5.781310656358472  06/27/2022 12:53:02\n",
      "entering epoch=epoch_43.pkl\n",
      "[epoch_43.pkl---mpiigaze] Total Num:3000,MAE:5.712405754762167  06/27/2022 12:53:14\n",
      "entering epoch=epoch_44.pkl\n",
      "[epoch_44.pkl---mpiigaze] Total Num:3000,MAE:5.687897071127527  06/27/2022 12:53:26\n",
      "entering epoch=epoch_45.pkl\n",
      "[epoch_45.pkl---mpiigaze] Total Num:3000,MAE:5.710678365732713  06/27/2022 12:53:38\n",
      "entering epoch=epoch_46.pkl\n",
      "[epoch_46.pkl---mpiigaze] Total Num:3000,MAE:5.746677948237615  06/27/2022 12:53:51\n",
      "entering epoch=epoch_47.pkl\n",
      "[epoch_47.pkl---mpiigaze] Total Num:3000,MAE:6.191913619418448  06/27/2022 12:54:03\n",
      "entering epoch=epoch_48.pkl\n",
      "[epoch_48.pkl---mpiigaze] Total Num:3000,MAE:5.662135589734418  06/27/2022 12:54:14\n",
      "entering epoch=epoch_49.pkl\n",
      "[epoch_49.pkl---mpiigaze] Total Num:3000,MAE:5.63918895498937  06/27/2022 12:54:25\n",
      "entering epoch=epoch_50.pkl\n",
      "[epoch_50.pkl---mpiigaze] Total Num:3000,MAE:5.951431176578306  06/27/2022 12:54:37\n",
      "entering epoch=epoch_51.pkl\n",
      "[epoch_51.pkl---mpiigaze] Total Num:3000,MAE:6.364565533664337  06/27/2022 12:54:49\n",
      "entering epoch=epoch_52.pkl\n",
      "[epoch_52.pkl---mpiigaze] Total Num:3000,MAE:5.953968510985238  06/27/2022 12:55:01\n",
      "entering epoch=epoch_53.pkl\n",
      "[epoch_53.pkl---mpiigaze] Total Num:3000,MAE:5.673644449301742  06/27/2022 12:55:14\n",
      "entering epoch=epoch_54.pkl\n",
      "[epoch_54.pkl---mpiigaze] Total Num:3000,MAE:5.730732415173413  06/27/2022 12:55:25\n",
      "entering epoch=epoch_55.pkl\n",
      "[epoch_55.pkl---mpiigaze] Total Num:3000,MAE:5.638100403291294  06/27/2022 12:55:37\n",
      "entering epoch=epoch_56.pkl\n",
      "[epoch_56.pkl---mpiigaze] Total Num:3000,MAE:5.679242923394244  06/27/2022 12:55:48\n",
      "entering epoch=epoch_57.pkl\n",
      "[epoch_57.pkl---mpiigaze] Total Num:3000,MAE:5.697024486616497  06/27/2022 12:56:00\n",
      "entering epoch=epoch_58.pkl\n",
      "[epoch_58.pkl---mpiigaze] Total Num:3000,MAE:5.945519196749527  06/27/2022 12:56:12\n",
      "entering epoch=epoch_59.pkl\n",
      "[epoch_59.pkl---mpiigaze] Total Num:3000,MAE:5.582636455975216  06/27/2022 12:56:25\n",
      "entering epoch=epoch_60.pkl\n",
      "[epoch_60.pkl---mpiigaze] Total Num:3000,MAE:5.747971210396964  06/27/2022 12:56:37\n"
     ]
    },
    {
     "data": {
      "text/html": [
       "Waiting for W&B process to finish... <strong style=\"color:green\">(success).</strong>"
      ],
      "text/plain": [
       "<IPython.core.display.HTML object>"
      ]
     },
     "metadata": {},
     "output_type": "display_data"
    },
    {
     "data": {
      "application/vnd.jupyter.widget-view+json": {
       "model_id": "",
       "version_major": 2,
       "version_minor": 0
      },
      "text/plain": [
       "VBox(children=(Label(value='0.001 MB of 0.001 MB uploaded (0.000 MB deduped)\\r'), FloatProgress(value=1.0, max…"
      ]
     },
     "metadata": {},
     "output_type": "display_data"
    },
    {
     "data": {
      "text/html": [
       "<style>\n",
       "    table.wandb td:nth-child(1) { padding: 0 10px; text-align: right }\n",
       "    .wandb-row { display: flex; flex-direction: row; flex-wrap: wrap; width: 100% }\n",
       "    .wandb-col { display: flex; flex-direction: column; flex-basis: 100%; flex: 1; padding: 10px; }\n",
       "    </style>\n",
       "<div class=\"wandb-row\"><div class=\"wandb-col\"><h3>Run history:</h3><br/><table class=\"wandb\"><tr><td>try3_fold_2_avg_mae</td><td>▅█▅▄▄▃▃▃▂▂▃▂▃▁▂▂▅▁▃▂▂▃▂▁▂▂▂▂▂▂▂▃▁▂▂▁▁▁▂▂</td></tr></table><br/></div><div class=\"wandb-col\"><h3>Run summary:</h3><br/><table class=\"wandb\"><tr><td>epoch</td><td>epoch_60.pkl</td></tr><tr><td>try3_fold_2_avg_mae</td><td>5.74797</td></tr></table><br/></div></div>"
      ],
      "text/plain": [
       "<IPython.core.display.HTML object>"
      ]
     },
     "metadata": {},
     "output_type": "display_data"
    },
    {
     "data": {
      "text/html": [
       "Synced <strong style=\"color:#cdcd00\">cerulean-sunset-37</strong>: <a href=\"https://wandb.ai/synthesis-ai/51_syn_mode_real_data/runs/1deuskih\" target=\"_blank\">https://wandb.ai/synthesis-ai/51_syn_mode_real_data/runs/1deuskih</a><br/>Synced 5 W&B file(s), 0 media file(s), 0 artifact file(s) and 0 other file(s)"
      ],
      "text/plain": [
       "<IPython.core.display.HTML object>"
      ]
     },
     "metadata": {},
     "output_type": "display_data"
    },
    {
     "data": {
      "text/html": [
       "Find logs at: <code>./wandb/run-20220627_194443-1deuskih/logs</code>"
      ],
      "text/plain": [
       "<IPython.core.display.HTML object>"
      ]
     },
     "metadata": {},
     "output_type": "display_data"
    },
    {
     "data": {
      "text/html": [
       "wandb version 0.12.19 is available!  To upgrade, please run:\n",
       " $ pip install wandb --upgrade"
      ],
      "text/plain": [
       "<IPython.core.display.HTML object>"
      ]
     },
     "metadata": {},
     "output_type": "display_data"
    },
    {
     "data": {
      "text/html": [
       "Tracking run with wandb version 0.12.15"
      ],
      "text/plain": [
       "<IPython.core.display.HTML object>"
      ]
     },
     "metadata": {},
     "output_type": "display_data"
    },
    {
     "data": {
      "text/html": [
       "Run data is saved locally in <code>/project/notebooks/wandb/run-20220627_195641-2mtwnk2p</code>"
      ],
      "text/plain": [
       "<IPython.core.display.HTML object>"
      ]
     },
     "metadata": {},
     "output_type": "display_data"
    },
    {
     "data": {
      "text/html": [
       "Syncing run <strong><a href=\"https://wandb.ai/synthesis-ai/51_syn_mode_real_data/runs/2mtwnk2p\" target=\"_blank\">woven-cloud-38</a></strong> to <a href=\"https://wandb.ai/synthesis-ai/51_syn_mode_real_data\" target=\"_blank\">Weights & Biases</a> (<a href=\"https://wandb.me/run\" target=\"_blank\">docs</a>)<br/>"
      ],
      "text/plain": [
       "<IPython.core.display.HTML object>"
      ]
     },
     "metadata": {},
     "output_type": "display_data"
    },
    {
     "name": "stdout",
     "output_type": "stream",
     "text": [
      "fold=3\n",
      "/project/data/Label\n",
      "0 items removed from dataset that have an angle > 180\n",
      "\n",
      "test configuration equal gpu_id=cuda:0, batch_size=20, model_arch=ResNet50\n",
      "Start testing dataset=mpiigaze, FOLD=3 --06/27/2022 12:56:43---------\n",
      "entering epoch=epoch_1.pkl\n",
      "[epoch_1.pkl---mpiigaze] Total Num:3000,MAE:10.932875769396427  06/27/2022 12:56:56\n",
      "entering epoch=epoch_2.pkl\n",
      "[epoch_2.pkl---mpiigaze] Total Num:3000,MAE:7.558270001227589  06/27/2022 12:57:08\n",
      "entering epoch=epoch_3.pkl\n",
      "[epoch_3.pkl---mpiigaze] Total Num:3000,MAE:7.126807541029014  06/27/2022 12:57:20\n",
      "entering epoch=epoch_4.pkl\n",
      "[epoch_4.pkl---mpiigaze] Total Num:3000,MAE:7.029244685827183  06/27/2022 12:57:32\n",
      "entering epoch=epoch_5.pkl\n",
      "[epoch_5.pkl---mpiigaze] Total Num:3000,MAE:6.473367229591572  06/27/2022 12:57:43\n",
      "entering epoch=epoch_6.pkl\n",
      "[epoch_6.pkl---mpiigaze] Total Num:3000,MAE:6.891454403120648  06/27/2022 12:57:56\n",
      "entering epoch=epoch_7.pkl\n",
      "[epoch_7.pkl---mpiigaze] Total Num:3000,MAE:8.526642712675157  06/27/2022 12:58:08\n",
      "entering epoch=epoch_8.pkl\n",
      "[epoch_8.pkl---mpiigaze] Total Num:3000,MAE:7.575302565067522  06/27/2022 12:58:20\n",
      "entering epoch=epoch_9.pkl\n",
      "[epoch_9.pkl---mpiigaze] Total Num:3000,MAE:6.274318326864217  06/27/2022 12:58:33\n",
      "entering epoch=epoch_10.pkl\n",
      "[epoch_10.pkl---mpiigaze] Total Num:3000,MAE:8.155347378895376  06/27/2022 12:58:45\n",
      "entering epoch=epoch_11.pkl\n",
      "[epoch_11.pkl---mpiigaze] Total Num:3000,MAE:6.952210312391271  06/27/2022 12:58:57\n",
      "entering epoch=epoch_12.pkl\n",
      "[epoch_12.pkl---mpiigaze] Total Num:3000,MAE:5.930779060220602  06/27/2022 12:59:10\n",
      "entering epoch=epoch_13.pkl\n",
      "[epoch_13.pkl---mpiigaze] Total Num:3000,MAE:7.789016315396908  06/27/2022 12:59:23\n",
      "entering epoch=epoch_14.pkl\n",
      "[epoch_14.pkl---mpiigaze] Total Num:3000,MAE:8.598808174603562  06/27/2022 12:59:35\n",
      "entering epoch=epoch_15.pkl\n",
      "[epoch_15.pkl---mpiigaze] Total Num:3000,MAE:7.658398403092272  06/27/2022 12:59:47\n",
      "entering epoch=epoch_16.pkl\n",
      "[epoch_16.pkl---mpiigaze] Total Num:3000,MAE:7.35717488751814  06/27/2022 12:59:59\n",
      "entering epoch=epoch_17.pkl\n",
      "[epoch_17.pkl---mpiigaze] Total Num:3000,MAE:7.514977813833124  06/27/2022 13:00:11\n",
      "entering epoch=epoch_18.pkl\n",
      "[epoch_18.pkl---mpiigaze] Total Num:3000,MAE:7.581248449719749  06/27/2022 13:00:23\n",
      "entering epoch=epoch_19.pkl\n",
      "[epoch_19.pkl---mpiigaze] Total Num:3000,MAE:7.723672894438116  06/27/2022 13:00:31\n",
      "entering epoch=epoch_20.pkl\n",
      "[epoch_20.pkl---mpiigaze] Total Num:3000,MAE:8.538251204211182  06/27/2022 13:00:42\n",
      "entering epoch=epoch_21.pkl\n",
      "[epoch_21.pkl---mpiigaze] Total Num:3000,MAE:7.189683839264277  06/27/2022 13:00:53\n",
      "entering epoch=epoch_22.pkl\n",
      "[epoch_22.pkl---mpiigaze] Total Num:3000,MAE:7.870280422904046  06/27/2022 13:01:05\n",
      "entering epoch=epoch_23.pkl\n",
      "[epoch_23.pkl---mpiigaze] Total Num:3000,MAE:7.440912348477372  06/27/2022 13:01:17\n",
      "entering epoch=epoch_24.pkl\n",
      "[epoch_24.pkl---mpiigaze] Total Num:3000,MAE:6.911418866116502  06/27/2022 13:01:29\n",
      "entering epoch=epoch_25.pkl\n",
      "[epoch_25.pkl---mpiigaze] Total Num:3000,MAE:7.527677836588969  06/27/2022 13:01:41\n",
      "entering epoch=epoch_26.pkl\n",
      "[epoch_26.pkl---mpiigaze] Total Num:3000,MAE:7.411168887035821  06/27/2022 13:01:53\n",
      "entering epoch=epoch_27.pkl\n",
      "[epoch_27.pkl---mpiigaze] Total Num:3000,MAE:8.935304702469363  06/27/2022 13:02:05\n",
      "entering epoch=epoch_28.pkl\n",
      "[epoch_28.pkl---mpiigaze] Total Num:3000,MAE:8.503954947977437  06/27/2022 13:02:18\n",
      "entering epoch=epoch_29.pkl\n",
      "[epoch_29.pkl---mpiigaze] Total Num:3000,MAE:7.735335217067114  06/27/2022 13:02:28\n",
      "entering epoch=epoch_30.pkl\n",
      "[epoch_30.pkl---mpiigaze] Total Num:3000,MAE:8.382914385791768  06/27/2022 13:02:41\n",
      "entering epoch=epoch_31.pkl\n",
      "[epoch_31.pkl---mpiigaze] Total Num:3000,MAE:8.160942038365576  06/27/2022 13:02:52\n",
      "entering epoch=epoch_32.pkl\n",
      "[epoch_32.pkl---mpiigaze] Total Num:3000,MAE:8.238311886430118  06/27/2022 13:03:04\n",
      "entering epoch=epoch_33.pkl\n",
      "[epoch_33.pkl---mpiigaze] Total Num:3000,MAE:7.942135449903369  06/27/2022 13:03:15\n",
      "entering epoch=epoch_34.pkl\n",
      "[epoch_34.pkl---mpiigaze] Total Num:3000,MAE:8.001320447389428  06/27/2022 13:03:28\n",
      "entering epoch=epoch_35.pkl\n",
      "[epoch_35.pkl---mpiigaze] Total Num:3000,MAE:7.37239057147593  06/27/2022 13:03:41\n",
      "entering epoch=epoch_36.pkl\n",
      "[epoch_36.pkl---mpiigaze] Total Num:3000,MAE:7.561675741126223  06/27/2022 13:03:53\n",
      "entering epoch=epoch_37.pkl\n",
      "[epoch_37.pkl---mpiigaze] Total Num:3000,MAE:8.745384816591338  06/27/2022 13:04:04\n",
      "entering epoch=epoch_38.pkl\n",
      "[epoch_38.pkl---mpiigaze] Total Num:3000,MAE:8.049935683148616  06/27/2022 13:04:15\n",
      "entering epoch=epoch_39.pkl\n",
      "[epoch_39.pkl---mpiigaze] Total Num:3000,MAE:8.154126018541852  06/27/2022 13:04:27\n",
      "entering epoch=epoch_40.pkl\n",
      "[epoch_40.pkl---mpiigaze] Total Num:3000,MAE:8.162591185226303  06/27/2022 13:04:39\n",
      "entering epoch=epoch_41.pkl\n",
      "[epoch_41.pkl---mpiigaze] Total Num:3000,MAE:7.152399849573684  06/27/2022 13:04:51\n",
      "entering epoch=epoch_42.pkl\n",
      "[epoch_42.pkl---mpiigaze] Total Num:3000,MAE:8.148368585196321  06/27/2022 13:05:03\n",
      "entering epoch=epoch_43.pkl\n",
      "[epoch_43.pkl---mpiigaze] Total Num:3000,MAE:9.235651562262987  06/27/2022 13:05:16\n",
      "entering epoch=epoch_44.pkl\n",
      "[epoch_44.pkl---mpiigaze] Total Num:3000,MAE:7.563382926202659  06/27/2022 13:05:28\n",
      "entering epoch=epoch_45.pkl\n",
      "[epoch_45.pkl---mpiigaze] Total Num:3000,MAE:8.323501881372756  06/27/2022 13:05:40\n",
      "entering epoch=epoch_46.pkl\n",
      "[epoch_46.pkl---mpiigaze] Total Num:3000,MAE:7.278122786607994  06/27/2022 13:05:52\n",
      "entering epoch=epoch_47.pkl\n",
      "[epoch_47.pkl---mpiigaze] Total Num:3000,MAE:7.721038415826991  06/27/2022 13:06:04\n",
      "entering epoch=epoch_48.pkl\n",
      "[epoch_48.pkl---mpiigaze] Total Num:3000,MAE:6.791506640556145  06/27/2022 13:06:16\n",
      "entering epoch=epoch_49.pkl\n",
      "[epoch_49.pkl---mpiigaze] Total Num:3000,MAE:8.290184884433614  06/27/2022 13:06:28\n",
      "entering epoch=epoch_50.pkl\n",
      "[epoch_50.pkl---mpiigaze] Total Num:3000,MAE:8.440194621732315  06/27/2022 13:06:40\n",
      "entering epoch=epoch_51.pkl\n",
      "[epoch_51.pkl---mpiigaze] Total Num:3000,MAE:8.850840577109347  06/27/2022 13:06:52\n",
      "entering epoch=epoch_52.pkl\n",
      "[epoch_52.pkl---mpiigaze] Total Num:3000,MAE:9.216722806793767  06/27/2022 13:07:04\n",
      "entering epoch=epoch_53.pkl\n",
      "[epoch_53.pkl---mpiigaze] Total Num:3000,MAE:8.830493408342582  06/27/2022 13:07:16\n",
      "entering epoch=epoch_54.pkl\n",
      "[epoch_54.pkl---mpiigaze] Total Num:3000,MAE:7.920440446730268  06/27/2022 13:07:28\n",
      "entering epoch=epoch_55.pkl\n",
      "[epoch_55.pkl---mpiigaze] Total Num:3000,MAE:8.46776123687042  06/27/2022 13:07:40\n",
      "entering epoch=epoch_56.pkl\n",
      "[epoch_56.pkl---mpiigaze] Total Num:3000,MAE:8.317180503377507  06/27/2022 13:07:52\n",
      "entering epoch=epoch_57.pkl\n",
      "[epoch_57.pkl---mpiigaze] Total Num:3000,MAE:7.959570871555757  06/27/2022 13:08:03\n",
      "entering epoch=epoch_58.pkl\n",
      "[epoch_58.pkl---mpiigaze] Total Num:3000,MAE:7.7835670958185466  06/27/2022 13:08:16\n",
      "entering epoch=epoch_59.pkl\n",
      "[epoch_59.pkl---mpiigaze] Total Num:3000,MAE:8.328018234168306  06/27/2022 13:08:28\n",
      "entering epoch=epoch_60.pkl\n",
      "[epoch_60.pkl---mpiigaze] Total Num:3000,MAE:8.955838086775747  06/27/2022 13:08:40\n"
     ]
    },
    {
     "data": {
      "text/html": [
       "Waiting for W&B process to finish... <strong style=\"color:green\">(success).</strong>"
      ],
      "text/plain": [
       "<IPython.core.display.HTML object>"
      ]
     },
     "metadata": {},
     "output_type": "display_data"
    },
    {
     "data": {
      "application/vnd.jupyter.widget-view+json": {
       "model_id": "",
       "version_major": 2,
       "version_minor": 0
      },
      "text/plain": [
       "VBox(children=(Label(value='0.001 MB of 0.001 MB uploaded (0.000 MB deduped)\\r'), FloatProgress(value=1.0, max…"
      ]
     },
     "metadata": {},
     "output_type": "display_data"
    },
    {
     "data": {
      "text/html": [
       "<style>\n",
       "    table.wandb td:nth-child(1) { padding: 0 10px; text-align: right }\n",
       "    .wandb-row { display: flex; flex-direction: row; flex-wrap: wrap; width: 100% }\n",
       "    .wandb-col { display: flex; flex-direction: column; flex-basis: 100%; flex: 1; padding: 10px; }\n",
       "    </style>\n",
       "<div class=\"wandb-row\"><div class=\"wandb-col\"><h3>Run history:</h3><br/><table class=\"wandb\"><tr><td>try3_fold_3_avg_mae</td><td>█▃▂▁▄▃▄▂▃▄▂▃▃▄▃▃▃▂▄▃▄▄▃▂▅▃▄▂▅▃▂▃▄▄▅▅▄▄▃▅</td></tr></table><br/></div><div class=\"wandb-col\"><h3>Run summary:</h3><br/><table class=\"wandb\"><tr><td>epoch</td><td>epoch_60.pkl</td></tr><tr><td>try3_fold_3_avg_mae</td><td>8.95584</td></tr></table><br/></div></div>"
      ],
      "text/plain": [
       "<IPython.core.display.HTML object>"
      ]
     },
     "metadata": {},
     "output_type": "display_data"
    },
    {
     "data": {
      "text/html": [
       "Synced <strong style=\"color:#cdcd00\">woven-cloud-38</strong>: <a href=\"https://wandb.ai/synthesis-ai/51_syn_mode_real_data/runs/2mtwnk2p\" target=\"_blank\">https://wandb.ai/synthesis-ai/51_syn_mode_real_data/runs/2mtwnk2p</a><br/>Synced 5 W&B file(s), 0 media file(s), 0 artifact file(s) and 0 other file(s)"
      ],
      "text/plain": [
       "<IPython.core.display.HTML object>"
      ]
     },
     "metadata": {},
     "output_type": "display_data"
    },
    {
     "data": {
      "text/html": [
       "Find logs at: <code>./wandb/run-20220627_195641-2mtwnk2p/logs</code>"
      ],
      "text/plain": [
       "<IPython.core.display.HTML object>"
      ]
     },
     "metadata": {},
     "output_type": "display_data"
    },
    {
     "data": {
      "text/html": [
       "wandb version 0.12.19 is available!  To upgrade, please run:\n",
       " $ pip install wandb --upgrade"
      ],
      "text/plain": [
       "<IPython.core.display.HTML object>"
      ]
     },
     "metadata": {},
     "output_type": "display_data"
    },
    {
     "data": {
      "text/html": [
       "Tracking run with wandb version 0.12.15"
      ],
      "text/plain": [
       "<IPython.core.display.HTML object>"
      ]
     },
     "metadata": {},
     "output_type": "display_data"
    },
    {
     "data": {
      "text/html": [
       "Run data is saved locally in <code>/project/notebooks/wandb/run-20220627_200844-3kj8mgam</code>"
      ],
      "text/plain": [
       "<IPython.core.display.HTML object>"
      ]
     },
     "metadata": {},
     "output_type": "display_data"
    },
    {
     "data": {
      "text/html": [
       "Syncing run <strong><a href=\"https://wandb.ai/synthesis-ai/51_syn_mode_real_data/runs/3kj8mgam\" target=\"_blank\">icy-fire-39</a></strong> to <a href=\"https://wandb.ai/synthesis-ai/51_syn_mode_real_data\" target=\"_blank\">Weights & Biases</a> (<a href=\"https://wandb.me/run\" target=\"_blank\">docs</a>)<br/>"
      ],
      "text/plain": [
       "<IPython.core.display.HTML object>"
      ]
     },
     "metadata": {},
     "output_type": "display_data"
    },
    {
     "name": "stdout",
     "output_type": "stream",
     "text": [
      "fold=4\n",
      "/project/data/Label\n",
      "0 items removed from dataset that have an angle > 180\n",
      "\n",
      "test configuration equal gpu_id=cuda:0, batch_size=20, model_arch=ResNet50\n",
      "Start testing dataset=mpiigaze, FOLD=4 --06/27/2022 13:08:47---------\n",
      "entering epoch=epoch_1.pkl\n",
      "[epoch_1.pkl---mpiigaze] Total Num:3000,MAE:9.28691466719907  06/27/2022 13:09:00\n",
      "entering epoch=epoch_2.pkl\n",
      "[epoch_2.pkl---mpiigaze] Total Num:3000,MAE:7.095215624736195  06/27/2022 13:09:13\n",
      "entering epoch=epoch_3.pkl\n",
      "[epoch_3.pkl---mpiigaze] Total Num:3000,MAE:8.9458225025351  06/27/2022 13:09:25\n",
      "entering epoch=epoch_4.pkl\n",
      "[epoch_4.pkl---mpiigaze] Total Num:3000,MAE:7.07116485441141  06/27/2022 13:09:37\n",
      "entering epoch=epoch_5.pkl\n",
      "[epoch_5.pkl---mpiigaze] Total Num:3000,MAE:6.89937823903171  06/27/2022 13:09:49\n",
      "entering epoch=epoch_6.pkl\n",
      "[epoch_6.pkl---mpiigaze] Total Num:3000,MAE:7.402740484983406  06/27/2022 13:10:01\n",
      "entering epoch=epoch_7.pkl\n",
      "[epoch_7.pkl---mpiigaze] Total Num:3000,MAE:6.46159718903304  06/27/2022 13:10:12\n",
      "entering epoch=epoch_8.pkl\n",
      "[epoch_8.pkl---mpiigaze] Total Num:3000,MAE:6.633418758698198  06/27/2022 13:10:24\n",
      "entering epoch=epoch_9.pkl\n",
      "[epoch_9.pkl---mpiigaze] Total Num:3000,MAE:5.897106518089976  06/27/2022 13:10:37\n",
      "entering epoch=epoch_10.pkl\n",
      "[epoch_10.pkl---mpiigaze] Total Num:3000,MAE:6.746519209097781  06/27/2022 13:10:50\n",
      "entering epoch=epoch_11.pkl\n",
      "[epoch_11.pkl---mpiigaze] Total Num:3000,MAE:6.9273652610583385  06/27/2022 13:11:01\n",
      "entering epoch=epoch_12.pkl\n",
      "[epoch_12.pkl---mpiigaze] Total Num:3000,MAE:6.888012085896879  06/27/2022 13:11:11\n",
      "entering epoch=epoch_13.pkl\n",
      "[epoch_13.pkl---mpiigaze] Total Num:3000,MAE:6.024216441875497  06/27/2022 13:11:22\n",
      "entering epoch=epoch_14.pkl\n",
      "[epoch_14.pkl---mpiigaze] Total Num:3000,MAE:6.841073237207512  06/27/2022 13:11:34\n",
      "entering epoch=epoch_15.pkl\n",
      "[epoch_15.pkl---mpiigaze] Total Num:3000,MAE:7.535528064663833  06/27/2022 13:11:46\n",
      "entering epoch=epoch_16.pkl\n",
      "[epoch_16.pkl---mpiigaze] Total Num:3000,MAE:7.574309294483895  06/27/2022 13:11:58\n",
      "entering epoch=epoch_17.pkl\n",
      "[epoch_17.pkl---mpiigaze] Total Num:3000,MAE:6.305935312763272  06/27/2022 13:12:11\n",
      "entering epoch=epoch_18.pkl\n",
      "[epoch_18.pkl---mpiigaze] Total Num:3000,MAE:7.310085331587009  06/27/2022 13:12:23\n",
      "entering epoch=epoch_19.pkl\n",
      "[epoch_19.pkl---mpiigaze] Total Num:3000,MAE:6.578205436046559  06/27/2022 13:12:35\n",
      "entering epoch=epoch_20.pkl\n",
      "[epoch_20.pkl---mpiigaze] Total Num:3000,MAE:6.587086983309981  06/27/2022 13:12:47\n",
      "entering epoch=epoch_21.pkl\n",
      "[epoch_21.pkl---mpiigaze] Total Num:3000,MAE:6.485537146914403  06/27/2022 13:12:58\n",
      "entering epoch=epoch_22.pkl\n",
      "[epoch_22.pkl---mpiigaze] Total Num:3000,MAE:6.7492145749200745  06/27/2022 13:13:10\n",
      "entering epoch=epoch_23.pkl\n",
      "[epoch_23.pkl---mpiigaze] Total Num:3000,MAE:5.958311446508582  06/27/2022 13:13:22\n",
      "entering epoch=epoch_24.pkl\n",
      "[epoch_24.pkl---mpiigaze] Total Num:3000,MAE:7.768804688566938  06/27/2022 13:13:34\n",
      "entering epoch=epoch_25.pkl\n",
      "[epoch_25.pkl---mpiigaze] Total Num:3000,MAE:6.667264843021257  06/27/2022 13:13:47\n",
      "entering epoch=epoch_26.pkl\n",
      "[epoch_26.pkl---mpiigaze] Total Num:3000,MAE:7.323622485801901  06/27/2022 13:13:59\n",
      "entering epoch=epoch_27.pkl\n",
      "[epoch_27.pkl---mpiigaze] Total Num:3000,MAE:5.87248917518325  06/27/2022 13:14:11\n",
      "entering epoch=epoch_28.pkl\n",
      "[epoch_28.pkl---mpiigaze] Total Num:3000,MAE:6.575513312807059  06/27/2022 13:14:23\n",
      "entering epoch=epoch_29.pkl\n",
      "[epoch_29.pkl---mpiigaze] Total Num:3000,MAE:5.835743462732838  06/27/2022 13:14:34\n",
      "entering epoch=epoch_30.pkl\n",
      "[epoch_30.pkl---mpiigaze] Total Num:3000,MAE:6.006619409066808  06/27/2022 13:14:46\n",
      "entering epoch=epoch_31.pkl\n",
      "[epoch_31.pkl---mpiigaze] Total Num:3000,MAE:6.481267045473235  06/27/2022 13:14:58\n",
      "entering epoch=epoch_32.pkl\n",
      "[epoch_32.pkl---mpiigaze] Total Num:3000,MAE:5.95684971747885  06/27/2022 13:15:11\n",
      "entering epoch=epoch_33.pkl\n",
      "[epoch_33.pkl---mpiigaze] Total Num:3000,MAE:5.920405590258194  06/27/2022 13:15:22\n",
      "entering epoch=epoch_34.pkl\n",
      "[epoch_34.pkl---mpiigaze] Total Num:3000,MAE:5.648378201677768  06/27/2022 13:15:34\n",
      "entering epoch=epoch_35.pkl\n",
      "[epoch_35.pkl---mpiigaze] Total Num:3000,MAE:5.765009486923904  06/27/2022 13:15:46\n",
      "entering epoch=epoch_36.pkl\n",
      "[epoch_36.pkl---mpiigaze] Total Num:3000,MAE:6.367086637216572  06/27/2022 13:15:58\n",
      "entering epoch=epoch_37.pkl\n",
      "[epoch_37.pkl---mpiigaze] Total Num:3000,MAE:5.756335587646775  06/27/2022 13:16:10\n",
      "entering epoch=epoch_38.pkl\n",
      "[epoch_38.pkl---mpiigaze] Total Num:3000,MAE:5.947035497672595  06/27/2022 13:16:23\n",
      "entering epoch=epoch_39.pkl\n",
      "[epoch_39.pkl---mpiigaze] Total Num:3000,MAE:6.3638997967582105  06/27/2022 13:16:35\n",
      "entering epoch=epoch_40.pkl\n",
      "[epoch_40.pkl---mpiigaze] Total Num:3000,MAE:6.389008919793459  06/27/2022 13:16:47\n",
      "entering epoch=epoch_41.pkl\n",
      "[epoch_41.pkl---mpiigaze] Total Num:3000,MAE:6.141832219370737  06/27/2022 13:16:59\n",
      "entering epoch=epoch_42.pkl\n",
      "[epoch_42.pkl---mpiigaze] Total Num:3000,MAE:6.160797122982582  06/27/2022 13:17:11\n",
      "entering epoch=epoch_43.pkl\n",
      "[epoch_43.pkl---mpiigaze] Total Num:3000,MAE:5.786883475811451  06/27/2022 13:17:23\n",
      "entering epoch=epoch_44.pkl\n",
      "[epoch_44.pkl---mpiigaze] Total Num:3000,MAE:6.339100747121151  06/27/2022 13:17:35\n",
      "entering epoch=epoch_45.pkl\n",
      "[epoch_45.pkl---mpiigaze] Total Num:3000,MAE:6.153404706885326  06/27/2022 13:17:47\n",
      "entering epoch=epoch_46.pkl\n",
      "[epoch_46.pkl---mpiigaze] Total Num:3000,MAE:7.227827695444169  06/27/2022 13:17:59\n",
      "entering epoch=epoch_47.pkl\n",
      "[epoch_47.pkl---mpiigaze] Total Num:3000,MAE:6.727602128272212  06/27/2022 13:18:12\n",
      "entering epoch=epoch_48.pkl\n",
      "[epoch_48.pkl---mpiigaze] Total Num:3000,MAE:5.989346595435862  06/27/2022 13:18:24\n",
      "entering epoch=epoch_49.pkl\n",
      "[epoch_49.pkl---mpiigaze] Total Num:3000,MAE:7.166820233062596  06/27/2022 13:18:36\n",
      "entering epoch=epoch_50.pkl\n",
      "[epoch_50.pkl---mpiigaze] Total Num:3000,MAE:6.6409255896049535  06/27/2022 13:18:48\n",
      "entering epoch=epoch_51.pkl\n",
      "[epoch_51.pkl---mpiigaze] Total Num:3000,MAE:6.607207504615628  06/27/2022 13:19:00\n",
      "entering epoch=epoch_52.pkl\n",
      "[epoch_52.pkl---mpiigaze] Total Num:3000,MAE:6.093856366574844  06/27/2022 13:19:13\n",
      "entering epoch=epoch_53.pkl\n",
      "[epoch_53.pkl---mpiigaze] Total Num:3000,MAE:6.63432859463785  06/27/2022 13:19:25\n",
      "entering epoch=epoch_54.pkl\n",
      "[epoch_54.pkl---mpiigaze] Total Num:3000,MAE:6.04170823409666  06/27/2022 13:19:37\n",
      "entering epoch=epoch_55.pkl\n",
      "[epoch_55.pkl---mpiigaze] Total Num:3000,MAE:5.8160210099368825  06/27/2022 13:19:49\n",
      "entering epoch=epoch_56.pkl\n",
      "[epoch_56.pkl---mpiigaze] Total Num:3000,MAE:5.929003526650534  06/27/2022 13:20:02\n",
      "entering epoch=epoch_57.pkl\n",
      "[epoch_57.pkl---mpiigaze] Total Num:3000,MAE:5.922244915046782  06/27/2022 13:20:14\n",
      "entering epoch=epoch_58.pkl\n",
      "[epoch_58.pkl---mpiigaze] Total Num:3000,MAE:5.919572518182243  06/27/2022 13:20:26\n",
      "entering epoch=epoch_59.pkl\n",
      "[epoch_59.pkl---mpiigaze] Total Num:3000,MAE:5.573030543772343  06/27/2022 13:20:40\n",
      "entering epoch=epoch_60.pkl\n",
      "[epoch_60.pkl---mpiigaze] Total Num:3000,MAE:6.9542149232440025  06/27/2022 13:20:52\n"
     ]
    },
    {
     "data": {
      "text/html": [
       "Waiting for W&B process to finish... <strong style=\"color:green\">(success).</strong>"
      ],
      "text/plain": [
       "<IPython.core.display.HTML object>"
      ]
     },
     "metadata": {},
     "output_type": "display_data"
    },
    {
     "data": {
      "application/vnd.jupyter.widget-view+json": {
       "model_id": "",
       "version_major": 2,
       "version_minor": 0
      },
      "text/plain": [
       "VBox(children=(Label(value='0.001 MB of 0.001 MB uploaded (0.000 MB deduped)\\r'), FloatProgress(value=1.0, max…"
      ]
     },
     "metadata": {},
     "output_type": "display_data"
    },
    {
     "data": {
      "text/html": [
       "<style>\n",
       "    table.wandb td:nth-child(1) { padding: 0 10px; text-align: right }\n",
       "    .wandb-row { display: flex; flex-direction: row; flex-wrap: wrap; width: 100% }\n",
       "    .wandb-col { display: flex; flex-direction: column; flex-basis: 100%; flex: 1; padding: 10px; }\n",
       "    </style>\n",
       "<div class=\"wandb-row\"><div class=\"wandb-col\"><h3>Run history:</h3><br/><table class=\"wandb\"><tr><td>try3_fold_4_avg_mae</td><td>█▄▄▃▃▃▃▃▂▃▅▂▃▃▃▂▃▄▃▁▃▂▁▁▁▂▂▂▁▂▄▃▄▃▂▃▁▂▂▄</td></tr></table><br/></div><div class=\"wandb-col\"><h3>Run summary:</h3><br/><table class=\"wandb\"><tr><td>epoch</td><td>epoch_60.pkl</td></tr><tr><td>try3_fold_4_avg_mae</td><td>6.95421</td></tr></table><br/></div></div>"
      ],
      "text/plain": [
       "<IPython.core.display.HTML object>"
      ]
     },
     "metadata": {},
     "output_type": "display_data"
    },
    {
     "data": {
      "text/html": [
       "Synced <strong style=\"color:#cdcd00\">icy-fire-39</strong>: <a href=\"https://wandb.ai/synthesis-ai/51_syn_mode_real_data/runs/3kj8mgam\" target=\"_blank\">https://wandb.ai/synthesis-ai/51_syn_mode_real_data/runs/3kj8mgam</a><br/>Synced 5 W&B file(s), 0 media file(s), 0 artifact file(s) and 0 other file(s)"
      ],
      "text/plain": [
       "<IPython.core.display.HTML object>"
      ]
     },
     "metadata": {},
     "output_type": "display_data"
    },
    {
     "data": {
      "text/html": [
       "Find logs at: <code>./wandb/run-20220627_200844-3kj8mgam/logs</code>"
      ],
      "text/plain": [
       "<IPython.core.display.HTML object>"
      ]
     },
     "metadata": {},
     "output_type": "display_data"
    },
    {
     "data": {
      "text/html": [
       "wandb version 0.12.19 is available!  To upgrade, please run:\n",
       " $ pip install wandb --upgrade"
      ],
      "text/plain": [
       "<IPython.core.display.HTML object>"
      ]
     },
     "metadata": {},
     "output_type": "display_data"
    },
    {
     "data": {
      "text/html": [
       "Tracking run with wandb version 0.12.15"
      ],
      "text/plain": [
       "<IPython.core.display.HTML object>"
      ]
     },
     "metadata": {},
     "output_type": "display_data"
    },
    {
     "data": {
      "text/html": [
       "Run data is saved locally in <code>/project/notebooks/wandb/run-20220627_202056-2v8ntb3t</code>"
      ],
      "text/plain": [
       "<IPython.core.display.HTML object>"
      ]
     },
     "metadata": {},
     "output_type": "display_data"
    },
    {
     "data": {
      "text/html": [
       "Syncing run <strong><a href=\"https://wandb.ai/synthesis-ai/51_syn_mode_real_data/runs/2v8ntb3t\" target=\"_blank\">giddy-moon-40</a></strong> to <a href=\"https://wandb.ai/synthesis-ai/51_syn_mode_real_data\" target=\"_blank\">Weights & Biases</a> (<a href=\"https://wandb.me/run\" target=\"_blank\">docs</a>)<br/>"
      ],
      "text/plain": [
       "<IPython.core.display.HTML object>"
      ]
     },
     "metadata": {},
     "output_type": "display_data"
    },
    {
     "name": "stdout",
     "output_type": "stream",
     "text": [
      "fold=5\n",
      "/project/data/Label\n",
      "0 items removed from dataset that have an angle > 180\n",
      "\n",
      "test configuration equal gpu_id=cuda:0, batch_size=20, model_arch=ResNet50\n",
      "Start testing dataset=mpiigaze, FOLD=5 --06/27/2022 13:20:59---------\n",
      "entering epoch=epoch_1.pkl\n",
      "[epoch_1.pkl---mpiigaze] Total Num:3000,MAE:7.306100499084364  06/27/2022 13:21:11\n",
      "entering epoch=epoch_2.pkl\n",
      "[epoch_2.pkl---mpiigaze] Total Num:3000,MAE:6.577576291791338  06/27/2022 13:21:24\n",
      "entering epoch=epoch_3.pkl\n",
      "[epoch_3.pkl---mpiigaze] Total Num:3000,MAE:7.0537427335699165  06/27/2022 13:21:36\n",
      "entering epoch=epoch_4.pkl\n",
      "[epoch_4.pkl---mpiigaze] Total Num:3000,MAE:6.783310371701471  06/27/2022 13:21:44\n",
      "entering epoch=epoch_5.pkl\n",
      "[epoch_5.pkl---mpiigaze] Total Num:3000,MAE:6.996469248062855  06/27/2022 13:21:56\n",
      "entering epoch=epoch_6.pkl\n",
      "[epoch_6.pkl---mpiigaze] Total Num:3000,MAE:6.435533227190469  06/27/2022 13:22:08\n",
      "entering epoch=epoch_7.pkl\n",
      "[epoch_7.pkl---mpiigaze] Total Num:3000,MAE:6.345420447943866  06/27/2022 13:22:21\n",
      "entering epoch=epoch_8.pkl\n",
      "[epoch_8.pkl---mpiigaze] Total Num:3000,MAE:6.190152099302339  06/27/2022 13:22:32\n",
      "entering epoch=epoch_9.pkl\n",
      "[epoch_9.pkl---mpiigaze] Total Num:3000,MAE:6.324815573451848  06/27/2022 13:22:43\n",
      "entering epoch=epoch_10.pkl\n",
      "[epoch_10.pkl---mpiigaze] Total Num:3000,MAE:6.440620581727123  06/27/2022 13:22:55\n",
      "entering epoch=epoch_11.pkl\n",
      "[epoch_11.pkl---mpiigaze] Total Num:3000,MAE:7.119249086244123  06/27/2022 13:23:06\n",
      "entering epoch=epoch_12.pkl\n",
      "[epoch_12.pkl---mpiigaze] Total Num:3000,MAE:6.364372103016804  06/27/2022 13:23:18\n",
      "entering epoch=epoch_13.pkl\n",
      "[epoch_13.pkl---mpiigaze] Total Num:3000,MAE:6.4995328096064355  06/27/2022 13:23:31\n",
      "entering epoch=epoch_14.pkl\n",
      "[epoch_14.pkl---mpiigaze] Total Num:3000,MAE:6.137323388020852  06/27/2022 13:23:43\n",
      "entering epoch=epoch_15.pkl\n",
      "[epoch_15.pkl---mpiigaze] Total Num:3000,MAE:6.27459227430537  06/27/2022 13:23:55\n",
      "entering epoch=epoch_16.pkl\n",
      "[epoch_16.pkl---mpiigaze] Total Num:3000,MAE:6.343043568062913  06/27/2022 13:24:07\n",
      "entering epoch=epoch_17.pkl\n",
      "[epoch_17.pkl---mpiigaze] Total Num:3000,MAE:6.061684340607898  06/27/2022 13:24:18\n",
      "entering epoch=epoch_18.pkl\n",
      "[epoch_18.pkl---mpiigaze] Total Num:3000,MAE:6.463550682961981  06/27/2022 13:24:30\n",
      "entering epoch=epoch_19.pkl\n",
      "[epoch_19.pkl---mpiigaze] Total Num:3000,MAE:6.127118161416722  06/27/2022 13:24:42\n",
      "entering epoch=epoch_20.pkl\n",
      "[epoch_28.pkl---mpiigaze] Total Num:3000,MAE:6.003453309284026  06/27/2022 13:26:29\n",
      "entering epoch=epoch_29.pkl\n",
      "[epoch_29.pkl---mpiigaze] Total Num:3000,MAE:6.127504191137031  06/27/2022 13:26:41\n",
      "entering epoch=epoch_30.pkl\n",
      "[epoch_30.pkl---mpiigaze] Total Num:3000,MAE:6.286468437046385  06/27/2022 13:26:53\n",
      "entering epoch=epoch_31.pkl\n",
      "[epoch_31.pkl---mpiigaze] Total Num:3000,MAE:6.200736190323369  06/27/2022 13:27:05\n",
      "entering epoch=epoch_32.pkl\n",
      "[epoch_32.pkl---mpiigaze] Total Num:3000,MAE:6.200946534647686  06/27/2022 13:27:17\n",
      "entering epoch=epoch_33.pkl\n",
      "[epoch_33.pkl---mpiigaze] Total Num:3000,MAE:5.979386419127406  06/27/2022 13:27:29\n",
      "entering epoch=epoch_34.pkl\n",
      "[epoch_34.pkl---mpiigaze] Total Num:3000,MAE:6.060738951265473  06/27/2022 13:27:41\n",
      "entering epoch=epoch_35.pkl\n",
      "[epoch_35.pkl---mpiigaze] Total Num:3000,MAE:6.125833584452292  06/27/2022 13:27:54\n",
      "entering epoch=epoch_36.pkl\n",
      "[epoch_36.pkl---mpiigaze] Total Num:3000,MAE:5.969107130482493  06/27/2022 13:28:06\n",
      "entering epoch=epoch_37.pkl\n",
      "[epoch_37.pkl---mpiigaze] Total Num:3000,MAE:6.06388620589032  06/27/2022 13:28:17\n",
      "entering epoch=epoch_38.pkl\n",
      "[epoch_38.pkl---mpiigaze] Total Num:3000,MAE:6.10821111680991  06/27/2022 13:28:30\n",
      "entering epoch=epoch_39.pkl\n",
      "[epoch_39.pkl---mpiigaze] Total Num:3000,MAE:6.325345806569628  06/27/2022 13:28:42\n",
      "entering epoch=epoch_40.pkl\n",
      "[epoch_40.pkl---mpiigaze] Total Num:3000,MAE:6.060259974983097  06/27/2022 13:28:54\n",
      "entering epoch=epoch_41.pkl\n",
      "[epoch_41.pkl---mpiigaze] Total Num:3000,MAE:6.0559026147824015  06/27/2022 13:29:06\n",
      "entering epoch=epoch_42.pkl\n",
      "[epoch_42.pkl---mpiigaze] Total Num:3000,MAE:6.0880293649305735  06/27/2022 13:29:19\n",
      "entering epoch=epoch_43.pkl\n",
      "[epoch_43.pkl---mpiigaze] Total Num:3000,MAE:6.17146073533485  06/27/2022 13:29:30\n",
      "entering epoch=epoch_44.pkl\n",
      "[epoch_44.pkl---mpiigaze] Total Num:3000,MAE:5.974809937268726  06/27/2022 13:29:42\n",
      "entering epoch=epoch_45.pkl\n",
      "[epoch_45.pkl---mpiigaze] Total Num:3000,MAE:6.075060707967767  06/27/2022 13:29:54\n",
      "entering epoch=epoch_46.pkl\n",
      "[epoch_46.pkl---mpiigaze] Total Num:3000,MAE:6.034226245075143  06/27/2022 13:30:07\n",
      "entering epoch=epoch_47.pkl\n",
      "[epoch_47.pkl---mpiigaze] Total Num:3000,MAE:6.254919083033951  06/27/2022 13:30:17\n",
      "entering epoch=epoch_48.pkl\n",
      "[epoch_48.pkl---mpiigaze] Total Num:3000,MAE:6.318476257417901  06/27/2022 13:30:29\n",
      "entering epoch=epoch_49.pkl\n",
      "[epoch_49.pkl---mpiigaze] Total Num:3000,MAE:6.163490134368511  06/27/2022 13:30:42\n",
      "entering epoch=epoch_50.pkl\n",
      "[epoch_50.pkl---mpiigaze] Total Num:3000,MAE:6.190285869399104  06/27/2022 13:30:55\n",
      "entering epoch=epoch_51.pkl\n",
      "[epoch_51.pkl---mpiigaze] Total Num:3000,MAE:6.397432930524585  06/27/2022 13:31:07\n",
      "entering epoch=epoch_52.pkl\n",
      "[epoch_52.pkl---mpiigaze] Total Num:3000,MAE:6.133241307183347  06/27/2022 13:31:18\n",
      "entering epoch=epoch_53.pkl\n",
      "[epoch_53.pkl---mpiigaze] Total Num:3000,MAE:6.054881035766201  06/27/2022 13:31:29\n",
      "entering epoch=epoch_54.pkl\n",
      "[epoch_54.pkl---mpiigaze] Total Num:3000,MAE:6.551597114462063  06/27/2022 13:31:41\n",
      "entering epoch=epoch_55.pkl\n",
      "[epoch_55.pkl---mpiigaze] Total Num:3000,MAE:6.156589269040607  06/27/2022 13:31:53\n",
      "entering epoch=epoch_56.pkl\n",
      "[epoch_56.pkl---mpiigaze] Total Num:3000,MAE:6.2205904550444115  06/27/2022 13:32:06\n",
      "entering epoch=epoch_57.pkl\n",
      "[epoch_57.pkl---mpiigaze] Total Num:3000,MAE:6.188194438433192  06/27/2022 13:32:18\n",
      "entering epoch=epoch_58.pkl\n",
      "[epoch_58.pkl---mpiigaze] Total Num:3000,MAE:6.301187718618018  06/27/2022 13:32:26\n",
      "entering epoch=epoch_59.pkl\n",
      "[epoch_59.pkl---mpiigaze] Total Num:3000,MAE:6.088063146206762  06/27/2022 13:32:38\n",
      "entering epoch=epoch_60.pkl\n",
      "[epoch_60.pkl---mpiigaze] Total Num:3000,MAE:6.23626744866506  06/27/2022 13:32:50\n"
     ]
    },
    {
     "data": {
      "text/html": [
       "Waiting for W&B process to finish... <strong style=\"color:green\">(success).</strong>"
      ],
      "text/plain": [
       "<IPython.core.display.HTML object>"
      ]
     },
     "metadata": {},
     "output_type": "display_data"
    },
    {
     "data": {
      "application/vnd.jupyter.widget-view+json": {
       "model_id": "",
       "version_major": 2,
       "version_minor": 0
      },
      "text/plain": [
       "VBox(children=(Label(value='0.001 MB of 0.001 MB uploaded (0.000 MB deduped)\\r'), FloatProgress(value=1.0, max…"
      ]
     },
     "metadata": {},
     "output_type": "display_data"
    },
    {
     "data": {
      "text/html": [
       "<style>\n",
       "    table.wandb td:nth-child(1) { padding: 0 10px; text-align: right }\n",
       "    .wandb-row { display: flex; flex-direction: row; flex-wrap: wrap; width: 100% }\n",
       "    .wandb-col { display: flex; flex-direction: column; flex-basis: 100%; flex: 1; padding: 10px; }\n",
       "    </style>\n",
       "<div class=\"wandb-row\"><div class=\"wandb-col\"><h3>Run history:</h3><br/><table class=\"wandb\"><tr><td>try3_fold_5_avg_mae</td><td>█▄▅▆▃▂▃▇▄▂▃▁▂▂▁▂▂▂▁▂▂▂▁▂▁▂▁▁▂▁▁▂▂▂▂▁▂▂▃▂</td></tr></table><br/></div><div class=\"wandb-col\"><h3>Run summary:</h3><br/><table class=\"wandb\"><tr><td>epoch</td><td>epoch_60.pkl</td></tr><tr><td>try3_fold_5_avg_mae</td><td>6.23627</td></tr></table><br/></div></div>"
      ],
      "text/plain": [
       "<IPython.core.display.HTML object>"
      ]
     },
     "metadata": {},
     "output_type": "display_data"
    },
    {
     "data": {
      "text/html": [
       "Synced <strong style=\"color:#cdcd00\">giddy-moon-40</strong>: <a href=\"https://wandb.ai/synthesis-ai/51_syn_mode_real_data/runs/2v8ntb3t\" target=\"_blank\">https://wandb.ai/synthesis-ai/51_syn_mode_real_data/runs/2v8ntb3t</a><br/>Synced 5 W&B file(s), 0 media file(s), 0 artifact file(s) and 0 other file(s)"
      ],
      "text/plain": [
       "<IPython.core.display.HTML object>"
      ]
     },
     "metadata": {},
     "output_type": "display_data"
    },
    {
     "data": {
      "text/html": [
       "Find logs at: <code>./wandb/run-20220627_202056-2v8ntb3t/logs</code>"
      ],
      "text/plain": [
       "<IPython.core.display.HTML object>"
      ]
     },
     "metadata": {},
     "output_type": "display_data"
    },
    {
     "data": {
      "text/html": [
       "wandb version 0.12.19 is available!  To upgrade, please run:\n",
       " $ pip install wandb --upgrade"
      ],
      "text/plain": [
       "<IPython.core.display.HTML object>"
      ]
     },
     "metadata": {},
     "output_type": "display_data"
    },
    {
     "data": {
      "text/html": [
       "Tracking run with wandb version 0.12.15"
      ],
      "text/plain": [
       "<IPython.core.display.HTML object>"
      ]
     },
     "metadata": {},
     "output_type": "display_data"
    },
    {
     "data": {
      "text/html": [
       "Run data is saved locally in <code>/project/notebooks/wandb/run-20220627_203254-2dgaxtwa</code>"
      ],
      "text/plain": [
       "<IPython.core.display.HTML object>"
      ]
     },
     "metadata": {},
     "output_type": "display_data"
    },
    {
     "data": {
      "text/html": [
       "Syncing run <strong><a href=\"https://wandb.ai/synthesis-ai/51_syn_mode_real_data/runs/2dgaxtwa\" target=\"_blank\">lucky-oath-41</a></strong> to <a href=\"https://wandb.ai/synthesis-ai/51_syn_mode_real_data\" target=\"_blank\">Weights & Biases</a> (<a href=\"https://wandb.me/run\" target=\"_blank\">docs</a>)<br/>"
      ],
      "text/plain": [
       "<IPython.core.display.HTML object>"
      ]
     },
     "metadata": {},
     "output_type": "display_data"
    },
    {
     "name": "stdout",
     "output_type": "stream",
     "text": [
      "fold=6\n",
      "/project/data/Label\n",
      "0 items removed from dataset that have an angle > 180\n",
      "\n",
      "test configuration equal gpu_id=cuda:0, batch_size=20, model_arch=ResNet50\n",
      "Start testing dataset=mpiigaze, FOLD=6 --06/27/2022 13:32:57---------\n",
      "entering epoch=epoch_1.pkl\n",
      "[epoch_1.pkl---mpiigaze] Total Num:3000,MAE:16.931525131216585  06/27/2022 13:33:10\n",
      "entering epoch=epoch_2.pkl\n",
      "[epoch_2.pkl---mpiigaze] Total Num:3000,MAE:14.093322463074392  06/27/2022 13:33:21\n",
      "entering epoch=epoch_3.pkl\n",
      "[epoch_3.pkl---mpiigaze] Total Num:3000,MAE:12.654723089565001  06/27/2022 13:33:32\n",
      "entering epoch=epoch_4.pkl\n",
      "[epoch_4.pkl---mpiigaze] Total Num:3000,MAE:14.808130642897323  06/27/2022 13:33:44\n",
      "entering epoch=epoch_5.pkl\n",
      "[epoch_5.pkl---mpiigaze] Total Num:3000,MAE:12.116863361348193  06/27/2022 13:33:57\n",
      "entering epoch=epoch_6.pkl\n",
      "[epoch_6.pkl---mpiigaze] Total Num:3000,MAE:14.546073642353909  06/27/2022 13:34:09\n",
      "entering epoch=epoch_7.pkl\n",
      "[epoch_7.pkl---mpiigaze] Total Num:3000,MAE:13.219066488821444  06/27/2022 13:34:21\n",
      "entering epoch=epoch_8.pkl\n",
      "[epoch_8.pkl---mpiigaze] Total Num:3000,MAE:11.902790590269507  06/27/2022 13:34:33\n",
      "entering epoch=epoch_9.pkl\n",
      "[epoch_9.pkl---mpiigaze] Total Num:3000,MAE:11.305734930655396  06/27/2022 13:34:45\n",
      "entering epoch=epoch_10.pkl\n",
      "[epoch_10.pkl---mpiigaze] Total Num:3000,MAE:13.471583553530564  06/27/2022 13:34:57\n",
      "entering epoch=epoch_11.pkl\n",
      "[epoch_11.pkl---mpiigaze] Total Num:3000,MAE:11.299006855429125  06/27/2022 13:35:09\n",
      "entering epoch=epoch_12.pkl\n",
      "[epoch_12.pkl---mpiigaze] Total Num:3000,MAE:11.233683025724046  06/27/2022 13:35:21\n",
      "entering epoch=epoch_13.pkl\n",
      "[epoch_13.pkl---mpiigaze] Total Num:3000,MAE:11.537076297001025  06/27/2022 13:35:33\n",
      "entering epoch=epoch_14.pkl\n",
      "[epoch_14.pkl---mpiigaze] Total Num:3000,MAE:10.402714139144182  06/27/2022 13:35:45\n",
      "entering epoch=epoch_15.pkl\n",
      "[epoch_15.pkl---mpiigaze] Total Num:3000,MAE:11.632282676053437  06/27/2022 13:35:57\n",
      "entering epoch=epoch_16.pkl\n",
      "[epoch_16.pkl---mpiigaze] Total Num:3000,MAE:10.76907604490359  06/27/2022 13:36:09\n",
      "entering epoch=epoch_17.pkl\n",
      "[epoch_17.pkl---mpiigaze] Total Num:3000,MAE:11.542904064553897  06/27/2022 13:36:21\n",
      "entering epoch=epoch_18.pkl\n",
      "[epoch_18.pkl---mpiigaze] Total Num:3000,MAE:11.14545698819587  06/27/2022 13:36:34\n",
      "entering epoch=epoch_19.pkl\n",
      "[epoch_19.pkl---mpiigaze] Total Num:3000,MAE:11.327899107264825  06/27/2022 13:36:46\n",
      "entering epoch=epoch_20.pkl\n",
      "[epoch_20.pkl---mpiigaze] Total Num:3000,MAE:10.396815264437297  06/27/2022 13:36:58\n",
      "entering epoch=epoch_21.pkl\n",
      "[epoch_21.pkl---mpiigaze] Total Num:3000,MAE:11.72959966415392  06/27/2022 13:37:09\n",
      "entering epoch=epoch_22.pkl\n",
      "[epoch_22.pkl---mpiigaze] Total Num:3000,MAE:11.444041550457225  06/27/2022 13:37:21\n",
      "entering epoch=epoch_23.pkl\n",
      "[epoch_23.pkl---mpiigaze] Total Num:3000,MAE:10.572580090093524  06/27/2022 13:37:34\n",
      "entering epoch=epoch_24.pkl\n",
      "[epoch_24.pkl---mpiigaze] Total Num:3000,MAE:10.20603647912802  06/27/2022 13:37:45\n",
      "entering epoch=epoch_25.pkl\n",
      "[epoch_25.pkl---mpiigaze] Total Num:3000,MAE:10.33301549574785  06/27/2022 13:37:57\n",
      "entering epoch=epoch_26.pkl\n",
      "[epoch_26.pkl---mpiigaze] Total Num:3000,MAE:9.553416658194449  06/27/2022 13:38:09\n",
      "entering epoch=epoch_27.pkl\n",
      "[epoch_27.pkl---mpiigaze] Total Num:3000,MAE:10.607163580300242  06/27/2022 13:38:21\n",
      "entering epoch=epoch_28.pkl\n",
      "[epoch_28.pkl---mpiigaze] Total Num:3000,MAE:11.067769640449036  06/27/2022 13:38:33\n",
      "entering epoch=epoch_29.pkl\n",
      "[epoch_29.pkl---mpiigaze] Total Num:3000,MAE:10.510550120976275  06/27/2022 13:38:45\n",
      "entering epoch=epoch_30.pkl\n",
      "[epoch_30.pkl---mpiigaze] Total Num:3000,MAE:10.408942846748257  06/27/2022 13:38:57\n",
      "entering epoch=epoch_31.pkl\n",
      "[epoch_31.pkl---mpiigaze] Total Num:3000,MAE:10.127388626493712  06/27/2022 13:39:09\n",
      "entering epoch=epoch_32.pkl\n",
      "[epoch_32.pkl---mpiigaze] Total Num:3000,MAE:10.15060959518549  06/27/2022 13:39:21\n",
      "entering epoch=epoch_33.pkl\n",
      "[epoch_33.pkl---mpiigaze] Total Num:3000,MAE:9.754774052068697  06/27/2022 13:39:33\n",
      "entering epoch=epoch_34.pkl\n",
      "[epoch_34.pkl---mpiigaze] Total Num:3000,MAE:10.84748385182302  06/27/2022 13:39:44\n",
      "entering epoch=epoch_35.pkl\n",
      "[epoch_35.pkl---mpiigaze] Total Num:3000,MAE:10.153839437414474  06/27/2022 13:39:56\n",
      "entering epoch=epoch_36.pkl\n",
      "[epoch_36.pkl---mpiigaze] Total Num:3000,MAE:9.626804061838099  06/27/2022 13:40:08\n",
      "entering epoch=epoch_37.pkl\n",
      "[epoch_37.pkl---mpiigaze] Total Num:3000,MAE:10.563979470623872  06/27/2022 13:40:20\n",
      "entering epoch=epoch_38.pkl\n",
      "[epoch_38.pkl---mpiigaze] Total Num:3000,MAE:9.521752363624808  06/27/2022 13:40:32\n",
      "entering epoch=epoch_39.pkl\n",
      "[epoch_39.pkl---mpiigaze] Total Num:3000,MAE:10.525745474990623  06/27/2022 13:40:44\n",
      "entering epoch=epoch_40.pkl\n",
      "[epoch_40.pkl---mpiigaze] Total Num:3000,MAE:10.419666037046294  06/27/2022 13:40:55\n",
      "entering epoch=epoch_41.pkl\n",
      "[epoch_41.pkl---mpiigaze] Total Num:3000,MAE:10.10414239413615  06/27/2022 13:41:07\n",
      "entering epoch=epoch_42.pkl\n",
      "[epoch_42.pkl---mpiigaze] Total Num:3000,MAE:10.038739282571129  06/27/2022 13:41:19\n",
      "entering epoch=epoch_43.pkl\n",
      "[epoch_43.pkl---mpiigaze] Total Num:3000,MAE:9.800305348279466  06/27/2022 13:41:30\n",
      "entering epoch=epoch_44.pkl\n",
      "[epoch_44.pkl---mpiigaze] Total Num:3000,MAE:10.185497142202284  06/27/2022 13:41:42\n",
      "entering epoch=epoch_45.pkl\n",
      "[epoch_45.pkl---mpiigaze] Total Num:3000,MAE:10.113862353165159  06/27/2022 13:41:53\n",
      "entering epoch=epoch_46.pkl\n",
      "[epoch_46.pkl---mpiigaze] Total Num:3000,MAE:9.382337341297031  06/27/2022 13:42:06\n",
      "entering epoch=epoch_47.pkl\n",
      "[epoch_47.pkl---mpiigaze] Total Num:3000,MAE:9.90926726309887  06/27/2022 13:42:18\n",
      "entering epoch=epoch_48.pkl\n",
      "[epoch_48.pkl---mpiigaze] Total Num:3000,MAE:10.420783637239484  06/27/2022 13:42:30\n",
      "entering epoch=epoch_49.pkl\n",
      "[epoch_49.pkl---mpiigaze] Total Num:3000,MAE:9.81896166826485  06/27/2022 13:42:42\n",
      "entering epoch=epoch_50.pkl\n",
      "[epoch_50.pkl---mpiigaze] Total Num:3000,MAE:10.317263726510793  06/27/2022 13:42:51\n",
      "entering epoch=epoch_51.pkl\n",
      "[epoch_51.pkl---mpiigaze] Total Num:3000,MAE:10.223621377228541  06/27/2022 13:43:01\n",
      "entering epoch=epoch_52.pkl\n",
      "[epoch_52.pkl---mpiigaze] Total Num:3000,MAE:10.6949708929433  06/27/2022 13:43:14\n",
      "entering epoch=epoch_53.pkl\n",
      "[epoch_53.pkl---mpiigaze] Total Num:3000,MAE:10.411528394000827  06/27/2022 13:43:26\n",
      "entering epoch=epoch_54.pkl\n",
      "[epoch_54.pkl---mpiigaze] Total Num:3000,MAE:9.864621635119585  06/27/2022 13:43:38\n",
      "entering epoch=epoch_55.pkl\n",
      "[epoch_55.pkl---mpiigaze] Total Num:3000,MAE:9.835166882442705  06/27/2022 13:43:51\n",
      "entering epoch=epoch_56.pkl\n",
      "[epoch_56.pkl---mpiigaze] Total Num:3000,MAE:8.926812410378918  06/27/2022 13:44:03\n",
      "entering epoch=epoch_57.pkl\n",
      "[epoch_57.pkl---mpiigaze] Total Num:3000,MAE:10.056993945690762  06/27/2022 13:44:15\n",
      "entering epoch=epoch_58.pkl\n",
      "[epoch_58.pkl---mpiigaze] Total Num:3000,MAE:9.744426686655576  06/27/2022 13:44:27\n",
      "entering epoch=epoch_59.pkl\n",
      "[epoch_59.pkl---mpiigaze] Total Num:3000,MAE:10.56087715572433  06/27/2022 13:44:39\n",
      "entering epoch=epoch_60.pkl\n",
      "[epoch_60.pkl---mpiigaze] Total Num:3000,MAE:9.496532204395058  06/27/2022 13:44:51\n"
     ]
    },
    {
     "data": {
      "text/html": [
       "Waiting for W&B process to finish... <strong style=\"color:green\">(success).</strong>"
      ],
      "text/plain": [
       "<IPython.core.display.HTML object>"
      ]
     },
     "metadata": {},
     "output_type": "display_data"
    },
    {
     "data": {
      "application/vnd.jupyter.widget-view+json": {
       "model_id": "",
       "version_major": 2,
       "version_minor": 0
      },
      "text/plain": [
       "VBox(children=(Label(value='0.001 MB of 0.001 MB uploaded (0.000 MB deduped)\\r'), FloatProgress(value=1.0, max…"
      ]
     },
     "metadata": {},
     "output_type": "display_data"
    },
    {
     "data": {
      "text/html": [
       "<style>\n",
       "    table.wandb td:nth-child(1) { padding: 0 10px; text-align: right }\n",
       "    .wandb-row { display: flex; flex-direction: row; flex-wrap: wrap; width: 100% }\n",
       "    .wandb-col { display: flex; flex-direction: column; flex-basis: 100%; flex: 1; padding: 10px; }\n",
       "    </style>\n",
       "<div class=\"wandb-row\"><div class=\"wandb-col\"><h3>Run history:</h3><br/><table class=\"wandb\"><tr><td>try3_fold_6_avg_mae</td><td>█▆▆▄▅▄▅▃▃▂▃▃▃▂▃▂▂▂▃▂▂▂▃▂▂▂▂▂▂▂▁▂▂▂▃▂▂▁▂▁</td></tr></table><br/></div><div class=\"wandb-col\"><h3>Run summary:</h3><br/><table class=\"wandb\"><tr><td>epoch</td><td>epoch_60.pkl</td></tr><tr><td>try3_fold_6_avg_mae</td><td>9.49653</td></tr></table><br/></div></div>"
      ],
      "text/plain": [
       "<IPython.core.display.HTML object>"
      ]
     },
     "metadata": {},
     "output_type": "display_data"
    },
    {
     "data": {
      "text/html": [
       "Synced <strong style=\"color:#cdcd00\">lucky-oath-41</strong>: <a href=\"https://wandb.ai/synthesis-ai/51_syn_mode_real_data/runs/2dgaxtwa\" target=\"_blank\">https://wandb.ai/synthesis-ai/51_syn_mode_real_data/runs/2dgaxtwa</a><br/>Synced 5 W&B file(s), 0 media file(s), 0 artifact file(s) and 0 other file(s)"
      ],
      "text/plain": [
       "<IPython.core.display.HTML object>"
      ]
     },
     "metadata": {},
     "output_type": "display_data"
    },
    {
     "data": {
      "text/html": [
       "Find logs at: <code>./wandb/run-20220627_203254-2dgaxtwa/logs</code>"
      ],
      "text/plain": [
       "<IPython.core.display.HTML object>"
      ]
     },
     "metadata": {},
     "output_type": "display_data"
    },
    {
     "data": {
      "text/html": [
       "wandb version 0.12.19 is available!  To upgrade, please run:\n",
       " $ pip install wandb --upgrade"
      ],
      "text/plain": [
       "<IPython.core.display.HTML object>"
      ]
     },
     "metadata": {},
     "output_type": "display_data"
    },
    {
     "data": {
      "text/html": [
       "Tracking run with wandb version 0.12.15"
      ],
      "text/plain": [
       "<IPython.core.display.HTML object>"
      ]
     },
     "metadata": {},
     "output_type": "display_data"
    },
    {
     "data": {
      "text/html": [
       "Run data is saved locally in <code>/project/notebooks/wandb/run-20220627_204455-37cgjsjp</code>"
      ],
      "text/plain": [
       "<IPython.core.display.HTML object>"
      ]
     },
     "metadata": {},
     "output_type": "display_data"
    },
    {
     "data": {
      "text/html": [
       "Syncing run <strong><a href=\"https://wandb.ai/synthesis-ai/51_syn_mode_real_data/runs/37cgjsjp\" target=\"_blank\">light-aardvark-42</a></strong> to <a href=\"https://wandb.ai/synthesis-ai/51_syn_mode_real_data\" target=\"_blank\">Weights & Biases</a> (<a href=\"https://wandb.me/run\" target=\"_blank\">docs</a>)<br/>"
      ],
      "text/plain": [
       "<IPython.core.display.HTML object>"
      ]
     },
     "metadata": {},
     "output_type": "display_data"
    },
    {
     "name": "stdout",
     "output_type": "stream",
     "text": [
      "fold=7\n",
      "/project/data/Label\n",
      "0 items removed from dataset that have an angle > 180\n",
      "\n",
      "test configuration equal gpu_id=cuda:0, batch_size=20, model_arch=ResNet50\n",
      "Start testing dataset=mpiigaze, FOLD=7 --06/27/2022 13:44:58---------\n",
      "entering epoch=epoch_1.pkl\n",
      "[epoch_1.pkl---mpiigaze] Total Num:3000,MAE:9.593829867132087  06/27/2022 13:45:11\n",
      "entering epoch=epoch_2.pkl\n",
      "[epoch_2.pkl---mpiigaze] Total Num:3000,MAE:8.387292524574304  06/27/2022 13:45:23\n",
      "entering epoch=epoch_3.pkl\n",
      "[epoch_3.pkl---mpiigaze] Total Num:3000,MAE:8.492829061126368  06/27/2022 13:45:35\n",
      "entering epoch=epoch_4.pkl\n",
      "[epoch_4.pkl---mpiigaze] Total Num:3000,MAE:8.506850705583  06/27/2022 13:45:47\n",
      "entering epoch=epoch_5.pkl\n",
      "[epoch_5.pkl---mpiigaze] Total Num:3000,MAE:8.070663747986263  06/27/2022 13:45:59\n",
      "entering epoch=epoch_6.pkl\n",
      "[epoch_6.pkl---mpiigaze] Total Num:3000,MAE:7.952482161610704  06/27/2022 13:46:11\n",
      "entering epoch=epoch_7.pkl\n",
      "[epoch_7.pkl---mpiigaze] Total Num:3000,MAE:9.10097384422238  06/27/2022 13:46:23\n",
      "entering epoch=epoch_8.pkl\n",
      "[epoch_8.pkl---mpiigaze] Total Num:3000,MAE:9.584177767971903  06/27/2022 13:46:35\n",
      "entering epoch=epoch_9.pkl\n",
      "[epoch_9.pkl---mpiigaze] Total Num:3000,MAE:7.588176686455129  06/27/2022 13:46:45\n",
      "entering epoch=epoch_10.pkl\n",
      "[epoch_10.pkl---mpiigaze] Total Num:3000,MAE:8.697943580721494  06/27/2022 13:46:58\n",
      "entering epoch=epoch_11.pkl\n",
      "[epoch_11.pkl---mpiigaze] Total Num:3000,MAE:7.940418879476225  06/27/2022 13:47:10\n",
      "entering epoch=epoch_12.pkl\n",
      "[epoch_12.pkl---mpiigaze] Total Num:3000,MAE:7.948491488487357  06/27/2022 13:47:22\n",
      "entering epoch=epoch_13.pkl\n",
      "[epoch_13.pkl---mpiigaze] Total Num:3000,MAE:7.612223071862402  06/27/2022 13:47:33\n",
      "entering epoch=epoch_14.pkl\n",
      "[epoch_14.pkl---mpiigaze] Total Num:3000,MAE:8.407712675639818  06/27/2022 13:47:45\n",
      "entering epoch=epoch_15.pkl\n",
      "[epoch_15.pkl---mpiigaze] Total Num:3000,MAE:8.99984376256945  06/27/2022 13:47:58\n",
      "entering epoch=epoch_16.pkl\n",
      "[epoch_16.pkl---mpiigaze] Total Num:3000,MAE:8.070161108410797  06/27/2022 13:48:10\n",
      "entering epoch=epoch_17.pkl\n",
      "[epoch_17.pkl---mpiigaze] Total Num:3000,MAE:8.23467881732583  06/27/2022 13:48:21\n",
      "entering epoch=epoch_18.pkl\n",
      "[epoch_18.pkl---mpiigaze] Total Num:3000,MAE:7.42285692729851  06/27/2022 13:48:33\n",
      "entering epoch=epoch_19.pkl\n",
      "[epoch_19.pkl---mpiigaze] Total Num:3000,MAE:7.048589911761718  06/27/2022 13:48:45\n",
      "entering epoch=epoch_20.pkl\n",
      "[epoch_20.pkl---mpiigaze] Total Num:3000,MAE:7.043486709088435  06/27/2022 13:48:58\n",
      "entering epoch=epoch_21.pkl\n",
      "[epoch_21.pkl---mpiigaze] Total Num:3000,MAE:7.187708196670056  06/27/2022 13:49:11\n",
      "entering epoch=epoch_22.pkl\n",
      "[epoch_22.pkl---mpiigaze] Total Num:3000,MAE:6.870337199485311  06/27/2022 13:49:23\n",
      "entering epoch=epoch_23.pkl\n",
      "[epoch_23.pkl---mpiigaze] Total Num:3000,MAE:7.303227430242944  06/27/2022 13:49:35\n",
      "entering epoch=epoch_24.pkl\n",
      "[epoch_24.pkl---mpiigaze] Total Num:3000,MAE:8.199619022803867  06/27/2022 13:49:46\n",
      "entering epoch=epoch_25.pkl\n",
      "[epoch_25.pkl---mpiigaze] Total Num:3000,MAE:7.29935573756214  06/27/2022 13:49:58\n",
      "entering epoch=epoch_26.pkl\n",
      "[epoch_26.pkl---mpiigaze] Total Num:3000,MAE:7.10806130028758  06/27/2022 13:50:10\n",
      "entering epoch=epoch_27.pkl\n",
      "[epoch_27.pkl---mpiigaze] Total Num:3000,MAE:7.706305596670249  06/27/2022 13:50:22\n",
      "entering epoch=epoch_28.pkl\n",
      "[epoch_28.pkl---mpiigaze] Total Num:3000,MAE:7.038815070683464  06/27/2022 13:50:35\n",
      "entering epoch=epoch_29.pkl\n",
      "[epoch_29.pkl---mpiigaze] Total Num:3000,MAE:7.03792611200552  06/27/2022 13:50:47\n",
      "entering epoch=epoch_30.pkl\n",
      "[epoch_30.pkl---mpiigaze] Total Num:3000,MAE:7.48787922348213  06/27/2022 13:50:59\n",
      "entering epoch=epoch_31.pkl\n",
      "[epoch_31.pkl---mpiigaze] Total Num:3000,MAE:7.24900994149954  06/27/2022 13:51:12\n",
      "entering epoch=epoch_32.pkl\n",
      "[epoch_32.pkl---mpiigaze] Total Num:3000,MAE:7.120744660491122  06/27/2022 13:51:24\n",
      "entering epoch=epoch_33.pkl\n",
      "[epoch_33.pkl---mpiigaze] Total Num:3000,MAE:7.313767013606432  06/27/2022 13:51:36\n",
      "entering epoch=epoch_34.pkl\n",
      "[epoch_34.pkl---mpiigaze] Total Num:3000,MAE:7.518931884504933  06/27/2022 13:51:47\n",
      "entering epoch=epoch_35.pkl\n",
      "[epoch_35.pkl---mpiigaze] Total Num:3000,MAE:7.16692807254329  06/27/2022 13:51:59\n",
      "entering epoch=epoch_36.pkl\n",
      "[epoch_36.pkl---mpiigaze] Total Num:3000,MAE:7.861562805034756  06/27/2022 13:52:11\n",
      "entering epoch=epoch_37.pkl\n",
      "[epoch_37.pkl---mpiigaze] Total Num:3000,MAE:7.13906673210545  06/27/2022 13:52:22\n",
      "entering epoch=epoch_38.pkl\n",
      "[epoch_38.pkl---mpiigaze] Total Num:3000,MAE:6.761438525325763  06/27/2022 13:52:35\n",
      "entering epoch=epoch_39.pkl\n",
      "[epoch_39.pkl---mpiigaze] Total Num:3000,MAE:6.687919007783687  06/27/2022 13:52:47\n",
      "entering epoch=epoch_40.pkl\n",
      "[epoch_40.pkl---mpiigaze] Total Num:3000,MAE:6.8466551169375185  06/27/2022 13:53:00\n",
      "entering epoch=epoch_41.pkl\n",
      "[epoch_41.pkl---mpiigaze] Total Num:3000,MAE:6.750104412499907  06/27/2022 13:53:12\n",
      "entering epoch=epoch_42.pkl\n",
      "[epoch_42.pkl---mpiigaze] Total Num:3000,MAE:6.702508249042809  06/27/2022 13:53:23\n",
      "entering epoch=epoch_43.pkl\n",
      "[epoch_43.pkl---mpiigaze] Total Num:3000,MAE:6.928756414703478  06/27/2022 13:53:33\n",
      "entering epoch=epoch_44.pkl\n",
      "[epoch_44.pkl---mpiigaze] Total Num:3000,MAE:6.58098632978863  06/27/2022 13:53:44\n",
      "entering epoch=epoch_45.pkl\n",
      "[epoch_45.pkl---mpiigaze] Total Num:3000,MAE:6.852554923228813  06/27/2022 13:53:56\n",
      "entering epoch=epoch_46.pkl\n",
      "[epoch_46.pkl---mpiigaze] Total Num:3000,MAE:7.308810266644432  06/27/2022 13:54:07\n",
      "entering epoch=epoch_47.pkl\n",
      "[epoch_47.pkl---mpiigaze] Total Num:3000,MAE:6.643599370386906  06/27/2022 13:54:19\n",
      "entering epoch=epoch_48.pkl\n",
      "[epoch_48.pkl---mpiigaze] Total Num:3000,MAE:7.34055979325697  06/27/2022 13:54:32\n",
      "entering epoch=epoch_49.pkl\n",
      "[epoch_49.pkl---mpiigaze] Total Num:3000,MAE:6.877107227993225  06/27/2022 13:54:44\n",
      "entering epoch=epoch_50.pkl\n",
      "[epoch_50.pkl---mpiigaze] Total Num:3000,MAE:6.632120738030441  06/27/2022 13:54:56\n",
      "entering epoch=epoch_51.pkl\n",
      "[epoch_51.pkl---mpiigaze] Total Num:3000,MAE:6.856584383514428  06/27/2022 13:55:08\n",
      "entering epoch=epoch_52.pkl\n",
      "[epoch_52.pkl---mpiigaze] Total Num:3000,MAE:6.832099976555579  06/27/2022 13:55:20\n",
      "entering epoch=epoch_53.pkl\n",
      "[epoch_53.pkl---mpiigaze] Total Num:3000,MAE:6.798288800913684  06/27/2022 13:55:32\n",
      "entering epoch=epoch_54.pkl\n",
      "[epoch_54.pkl---mpiigaze] Total Num:3000,MAE:6.695537643185195  06/27/2022 13:55:43\n",
      "entering epoch=epoch_55.pkl\n",
      "[epoch_55.pkl---mpiigaze] Total Num:3000,MAE:7.06889575908824  06/27/2022 13:55:56\n",
      "entering epoch=epoch_56.pkl\n",
      "[epoch_56.pkl---mpiigaze] Total Num:3000,MAE:6.521153433349203  06/27/2022 13:56:08\n",
      "entering epoch=epoch_57.pkl\n",
      "[epoch_57.pkl---mpiigaze] Total Num:3000,MAE:6.801565003042882  06/27/2022 13:56:19\n",
      "entering epoch=epoch_58.pkl\n",
      "[epoch_58.pkl---mpiigaze] Total Num:3000,MAE:6.610013576483283  06/27/2022 13:56:31\n",
      "entering epoch=epoch_59.pkl\n",
      "[epoch_59.pkl---mpiigaze] Total Num:3000,MAE:7.137093159706761  06/27/2022 13:56:43\n",
      "entering epoch=epoch_60.pkl\n",
      "[epoch_60.pkl---mpiigaze] Total Num:3000,MAE:6.659158192226747  06/27/2022 13:56:56\n"
     ]
    },
    {
     "data": {
      "text/html": [
       "Waiting for W&B process to finish... <strong style=\"color:green\">(success).</strong>"
      ],
      "text/plain": [
       "<IPython.core.display.HTML object>"
      ]
     },
     "metadata": {},
     "output_type": "display_data"
    },
    {
     "data": {
      "application/vnd.jupyter.widget-view+json": {
       "model_id": "",
       "version_major": 2,
       "version_minor": 0
      },
      "text/plain": [
       "VBox(children=(Label(value='0.001 MB of 0.001 MB uploaded (0.000 MB deduped)\\r'), FloatProgress(value=1.0, max…"
      ]
     },
     "metadata": {},
     "output_type": "display_data"
    },
    {
     "data": {
      "text/html": [
       "<style>\n",
       "    table.wandb td:nth-child(1) { padding: 0 10px; text-align: right }\n",
       "    .wandb-row { display: flex; flex-direction: row; flex-wrap: wrap; width: 100% }\n",
       "    .wandb-col { display: flex; flex-direction: column; flex-basis: 100%; flex: 1; padding: 10px; }\n",
       "    </style>\n",
       "<div class=\"wandb-row\"><div class=\"wandb-col\"><h3>Run history:</h3><br/><table class=\"wandb\"><tr><td>try3_fold_7_avg_mae</td><td>█▅▆▅▇█▆▄▃▅▅▅▂▂▂▃▃▂▂▂▃▂▃▂▂▂▂▂▂▁▃▁▂▁▂▂▂▁▁▁</td></tr></table><br/></div><div class=\"wandb-col\"><h3>Run summary:</h3><br/><table class=\"wandb\"><tr><td>epoch</td><td>epoch_60.pkl</td></tr><tr><td>try3_fold_7_avg_mae</td><td>6.65916</td></tr></table><br/></div></div>"
      ],
      "text/plain": [
       "<IPython.core.display.HTML object>"
      ]
     },
     "metadata": {},
     "output_type": "display_data"
    },
    {
     "data": {
      "text/html": [
       "Synced <strong style=\"color:#cdcd00\">light-aardvark-42</strong>: <a href=\"https://wandb.ai/synthesis-ai/51_syn_mode_real_data/runs/37cgjsjp\" target=\"_blank\">https://wandb.ai/synthesis-ai/51_syn_mode_real_data/runs/37cgjsjp</a><br/>Synced 5 W&B file(s), 0 media file(s), 0 artifact file(s) and 0 other file(s)"
      ],
      "text/plain": [
       "<IPython.core.display.HTML object>"
      ]
     },
     "metadata": {},
     "output_type": "display_data"
    },
    {
     "data": {
      "text/html": [
       "Find logs at: <code>./wandb/run-20220627_204455-37cgjsjp/logs</code>"
      ],
      "text/plain": [
       "<IPython.core.display.HTML object>"
      ]
     },
     "metadata": {},
     "output_type": "display_data"
    },
    {
     "data": {
      "text/html": [
       "wandb version 0.12.19 is available!  To upgrade, please run:\n",
       " $ pip install wandb --upgrade"
      ],
      "text/plain": [
       "<IPython.core.display.HTML object>"
      ]
     },
     "metadata": {},
     "output_type": "display_data"
    },
    {
     "data": {
      "text/html": [
       "Tracking run with wandb version 0.12.15"
      ],
      "text/plain": [
       "<IPython.core.display.HTML object>"
      ]
     },
     "metadata": {},
     "output_type": "display_data"
    },
    {
     "data": {
      "text/html": [
       "Run data is saved locally in <code>/project/notebooks/wandb/run-20220627_205701-1e1uvztd</code>"
      ],
      "text/plain": [
       "<IPython.core.display.HTML object>"
      ]
     },
     "metadata": {},
     "output_type": "display_data"
    },
    {
     "data": {
      "text/html": [
       "Syncing run <strong><a href=\"https://wandb.ai/synthesis-ai/51_syn_mode_real_data/runs/1e1uvztd\" target=\"_blank\">restful-sea-43</a></strong> to <a href=\"https://wandb.ai/synthesis-ai/51_syn_mode_real_data\" target=\"_blank\">Weights & Biases</a> (<a href=\"https://wandb.me/run\" target=\"_blank\">docs</a>)<br/>"
      ],
      "text/plain": [
       "<IPython.core.display.HTML object>"
      ]
     },
     "metadata": {},
     "output_type": "display_data"
    },
    {
     "name": "stdout",
     "output_type": "stream",
     "text": [
      "fold=8\n",
      "/project/data/Label\n",
      "0 items removed from dataset that have an angle > 180\n",
      "\n",
      "test configuration equal gpu_id=cuda:0, batch_size=20, model_arch=ResNet50\n",
      "Start testing dataset=mpiigaze, FOLD=8 --06/27/2022 13:57:03---------\n",
      "entering epoch=epoch_1.pkl\n",
      "[epoch_1.pkl---mpiigaze] Total Num:3000,MAE:8.890846748062236  06/27/2022 13:57:16\n",
      "entering epoch=epoch_2.pkl\n",
      "[epoch_2.pkl---mpiigaze] Total Num:3000,MAE:8.768986624776009  06/27/2022 13:57:28\n",
      "entering epoch=epoch_3.pkl\n",
      "[epoch_3.pkl---mpiigaze] Total Num:3000,MAE:8.809893267826205  06/27/2022 13:57:40\n",
      "entering epoch=epoch_4.pkl\n",
      "[epoch_4.pkl---mpiigaze] Total Num:3000,MAE:8.879650652724417  06/27/2022 13:57:51\n",
      "entering epoch=epoch_5.pkl\n",
      "[epoch_5.pkl---mpiigaze] Total Num:3000,MAE:8.54548985344194  06/27/2022 13:58:03\n",
      "entering epoch=epoch_6.pkl\n",
      "[epoch_6.pkl---mpiigaze] Total Num:3000,MAE:8.914795461966706  06/27/2022 13:58:15\n",
      "entering epoch=epoch_7.pkl\n",
      "[epoch_7.pkl---mpiigaze] Total Num:3000,MAE:9.509551246382367  06/27/2022 13:58:27\n",
      "entering epoch=epoch_8.pkl\n",
      "[epoch_8.pkl---mpiigaze] Total Num:3000,MAE:9.270909804908545  06/27/2022 13:58:39\n",
      "entering epoch=epoch_9.pkl\n",
      "[epoch_9.pkl---mpiigaze] Total Num:3000,MAE:8.81880189734109  06/27/2022 13:58:50\n",
      "entering epoch=epoch_10.pkl\n",
      "[epoch_10.pkl---mpiigaze] Total Num:3000,MAE:8.346175542881959  06/27/2022 13:59:01\n",
      "entering epoch=epoch_11.pkl\n",
      "[epoch_11.pkl---mpiigaze] Total Num:3000,MAE:7.9618611016092045  06/27/2022 13:59:14\n",
      "entering epoch=epoch_12.pkl\n",
      "[epoch_12.pkl---mpiigaze] Total Num:3000,MAE:8.739457606673895  06/27/2022 13:59:26\n",
      "entering epoch=epoch_13.pkl\n",
      "[epoch_13.pkl---mpiigaze] Total Num:3000,MAE:8.603029125641832  06/27/2022 13:59:39\n",
      "entering epoch=epoch_14.pkl\n",
      "[epoch_14.pkl---mpiigaze] Total Num:3000,MAE:7.579751371150847  06/27/2022 13:59:51\n",
      "entering epoch=epoch_15.pkl\n",
      "[epoch_15.pkl---mpiigaze] Total Num:3000,MAE:7.906924522625309  06/27/2022 14:00:02\n",
      "entering epoch=epoch_16.pkl\n",
      "[epoch_16.pkl---mpiigaze] Total Num:3000,MAE:8.232292167872155  06/27/2022 14:00:14\n",
      "entering epoch=epoch_17.pkl\n",
      "[epoch_17.pkl---mpiigaze] Total Num:3000,MAE:7.868584039973833  06/27/2022 14:00:25\n",
      "entering epoch=epoch_18.pkl\n",
      "[epoch_18.pkl---mpiigaze] Total Num:3000,MAE:7.993138596947605  06/27/2022 14:00:38\n",
      "entering epoch=epoch_19.pkl\n",
      "[epoch_19.pkl---mpiigaze] Total Num:3000,MAE:7.8149746212391635  06/27/2022 14:00:50\n",
      "entering epoch=epoch_20.pkl\n",
      "[epoch_20.pkl---mpiigaze] Total Num:3000,MAE:7.680513613917565  06/27/2022 14:01:02\n",
      "entering epoch=epoch_21.pkl\n",
      "[epoch_21.pkl---mpiigaze] Total Num:3000,MAE:7.74894531439105  06/27/2022 14:01:14\n",
      "entering epoch=epoch_22.pkl\n",
      "[epoch_22.pkl---mpiigaze] Total Num:3000,MAE:7.468108571489732  06/27/2022 14:01:25\n",
      "entering epoch=epoch_23.pkl\n",
      "[epoch_23.pkl---mpiigaze] Total Num:3000,MAE:7.6977233553979625  06/27/2022 14:01:37\n",
      "entering epoch=epoch_24.pkl\n",
      "[epoch_24.pkl---mpiigaze] Total Num:3000,MAE:7.426579598140138  06/27/2022 14:01:48\n",
      "entering epoch=epoch_25.pkl\n",
      "[epoch_25.pkl---mpiigaze] Total Num:3000,MAE:7.302848155622106  06/27/2022 14:02:00\n",
      "entering epoch=epoch_26.pkl\n",
      "[epoch_26.pkl---mpiigaze] Total Num:3000,MAE:7.676132115283257  06/27/2022 14:02:13\n",
      "entering epoch=epoch_27.pkl\n",
      "[epoch_27.pkl---mpiigaze] Total Num:3000,MAE:7.1536377688108965  06/27/2022 14:02:25\n",
      "entering epoch=epoch_28.pkl\n",
      "[epoch_28.pkl---mpiigaze] Total Num:3000,MAE:7.750090473985777  06/27/2022 14:02:37\n",
      "entering epoch=epoch_29.pkl\n",
      "[epoch_29.pkl---mpiigaze] Total Num:3000,MAE:7.691785113625489  06/27/2022 14:02:49\n",
      "entering epoch=epoch_30.pkl\n",
      "[epoch_30.pkl---mpiigaze] Total Num:3000,MAE:7.07418956107958  06/27/2022 14:03:01\n",
      "entering epoch=epoch_31.pkl\n",
      "[epoch_31.pkl---mpiigaze] Total Num:3000,MAE:7.318653652290107  06/27/2022 14:03:13\n",
      "entering epoch=epoch_32.pkl\n",
      "[epoch_32.pkl---mpiigaze] Total Num:3000,MAE:7.424978350284244  06/27/2022 14:03:24\n",
      "entering epoch=epoch_33.pkl\n",
      "[epoch_33.pkl---mpiigaze] Total Num:3000,MAE:7.114555904506322  06/27/2022 14:03:37\n",
      "entering epoch=epoch_34.pkl\n",
      "[epoch_34.pkl---mpiigaze] Total Num:3000,MAE:8.030076268132056  06/27/2022 14:03:49\n",
      "entering epoch=epoch_35.pkl\n",
      "[epoch_35.pkl---mpiigaze] Total Num:3000,MAE:7.260485805423332  06/27/2022 14:03:58\n",
      "entering epoch=epoch_36.pkl\n",
      "[epoch_36.pkl---mpiigaze] Total Num:3000,MAE:7.345792661332903  06/27/2022 14:04:09\n",
      "entering epoch=epoch_37.pkl\n",
      "[epoch_37.pkl---mpiigaze] Total Num:3000,MAE:7.348752871825915  06/27/2022 14:04:21\n",
      "entering epoch=epoch_38.pkl\n",
      "[epoch_38.pkl---mpiigaze] Total Num:3000,MAE:8.619908045983474  06/27/2022 14:04:33\n",
      "entering epoch=epoch_39.pkl\n",
      "[epoch_39.pkl---mpiigaze] Total Num:3000,MAE:7.665025532952792  06/27/2022 14:04:45\n",
      "entering epoch=epoch_40.pkl\n",
      "[epoch_40.pkl---mpiigaze] Total Num:3000,MAE:7.38692160724029  06/27/2022 14:04:57\n",
      "entering epoch=epoch_41.pkl\n",
      "[epoch_41.pkl---mpiigaze] Total Num:3000,MAE:7.095291255730279  06/27/2022 14:05:08\n",
      "entering epoch=epoch_42.pkl\n",
      "[epoch_42.pkl---mpiigaze] Total Num:3000,MAE:7.459530266752281  06/27/2022 14:05:21\n",
      "entering epoch=epoch_43.pkl\n",
      "[epoch_43.pkl---mpiigaze] Total Num:3000,MAE:7.1814857400532786  06/27/2022 14:05:33\n",
      "entering epoch=epoch_44.pkl\n",
      "[epoch_44.pkl---mpiigaze] Total Num:3000,MAE:7.767765300931012  06/27/2022 14:05:45\n",
      "entering epoch=epoch_45.pkl\n",
      "[epoch_45.pkl---mpiigaze] Total Num:3000,MAE:7.173824882792453  06/27/2022 14:05:57\n",
      "entering epoch=epoch_46.pkl\n",
      "[epoch_46.pkl---mpiigaze] Total Num:3000,MAE:7.076542118747485  06/27/2022 14:06:09\n",
      "entering epoch=epoch_47.pkl\n",
      "[epoch_47.pkl---mpiigaze] Total Num:3000,MAE:7.187040010660187  06/27/2022 14:06:20\n",
      "entering epoch=epoch_48.pkl\n",
      "[epoch_48.pkl---mpiigaze] Total Num:3000,MAE:7.321787937093799  06/27/2022 14:06:32\n",
      "entering epoch=epoch_49.pkl\n",
      "[epoch_49.pkl---mpiigaze] Total Num:3000,MAE:6.9726119013702315  06/27/2022 14:06:44\n",
      "entering epoch=epoch_50.pkl\n",
      "[epoch_50.pkl---mpiigaze] Total Num:3000,MAE:6.9876580946861235  06/27/2022 14:06:57\n",
      "entering epoch=epoch_51.pkl\n",
      "[epoch_51.pkl---mpiigaze] Total Num:3000,MAE:6.879519354955395  06/27/2022 14:07:09\n",
      "entering epoch=epoch_52.pkl\n",
      "[epoch_52.pkl---mpiigaze] Total Num:3000,MAE:6.881797125578255  06/27/2022 14:07:20\n",
      "entering epoch=epoch_53.pkl\n",
      "[epoch_53.pkl---mpiigaze] Total Num:3000,MAE:7.121645764694792  06/27/2022 14:07:32\n",
      "entering epoch=epoch_54.pkl\n",
      "[epoch_54.pkl---mpiigaze] Total Num:3000,MAE:7.1648251888960806  06/27/2022 14:07:44\n",
      "entering epoch=epoch_55.pkl\n",
      "[epoch_55.pkl---mpiigaze] Total Num:3000,MAE:6.87175756482831  06/27/2022 14:07:57\n",
      "entering epoch=epoch_56.pkl\n",
      "[epoch_56.pkl---mpiigaze] Total Num:3000,MAE:6.9730482732966825  06/27/2022 14:08:09\n",
      "entering epoch=epoch_57.pkl\n",
      "[epoch_57.pkl---mpiigaze] Total Num:3000,MAE:6.756435851180382  06/27/2022 14:08:20\n",
      "entering epoch=epoch_58.pkl\n",
      "[epoch_58.pkl---mpiigaze] Total Num:3000,MAE:6.930891917937435  06/27/2022 14:08:32\n",
      "entering epoch=epoch_59.pkl\n",
      "[epoch_59.pkl---mpiigaze] Total Num:3000,MAE:6.902372717763783  06/27/2022 14:08:44\n",
      "entering epoch=epoch_60.pkl\n",
      "[epoch_60.pkl---mpiigaze] Total Num:3000,MAE:6.9802521626450496  06/27/2022 14:08:56\n"
     ]
    },
    {
     "data": {
      "text/html": [
       "Waiting for W&B process to finish... <strong style=\"color:green\">(success).</strong>"
      ],
      "text/plain": [
       "<IPython.core.display.HTML object>"
      ]
     },
     "metadata": {},
     "output_type": "display_data"
    },
    {
     "data": {
      "application/vnd.jupyter.widget-view+json": {
       "model_id": "",
       "version_major": 2,
       "version_minor": 0
      },
      "text/plain": [
       "VBox(children=(Label(value='0.001 MB of 0.001 MB uploaded (0.000 MB deduped)\\r'), FloatProgress(value=1.0, max…"
      ]
     },
     "metadata": {},
     "output_type": "display_data"
    },
    {
     "data": {
      "text/html": [
       "<style>\n",
       "    table.wandb td:nth-child(1) { padding: 0 10px; text-align: right }\n",
       "    .wandb-row { display: flex; flex-direction: row; flex-wrap: wrap; width: 100% }\n",
       "    .wandb-col { display: flex; flex-direction: column; flex-basis: 100%; flex: 1; padding: 10px; }\n",
       "    </style>\n",
       "<div class=\"wandb-row\"><div class=\"wandb-col\"><h3>Run history:</h3><br/><table class=\"wandb\"><tr><td>try3_fold_8_avg_mae</td><td>▆▆▆▅█▇▅▄▆▃▅▄▄▃▃▃▂▃▃▃▂▂▄▂▂▆▂▂▂▃▂▂▁▁▁▂▁▁▁▁</td></tr></table><br/></div><div class=\"wandb-col\"><h3>Run summary:</h3><br/><table class=\"wandb\"><tr><td>epoch</td><td>epoch_60.pkl</td></tr><tr><td>try3_fold_8_avg_mae</td><td>6.98025</td></tr></table><br/></div></div>"
      ],
      "text/plain": [
       "<IPython.core.display.HTML object>"
      ]
     },
     "metadata": {},
     "output_type": "display_data"
    },
    {
     "data": {
      "text/html": [
       "Synced <strong style=\"color:#cdcd00\">restful-sea-43</strong>: <a href=\"https://wandb.ai/synthesis-ai/51_syn_mode_real_data/runs/1e1uvztd\" target=\"_blank\">https://wandb.ai/synthesis-ai/51_syn_mode_real_data/runs/1e1uvztd</a><br/>Synced 5 W&B file(s), 0 media file(s), 0 artifact file(s) and 0 other file(s)"
      ],
      "text/plain": [
       "<IPython.core.display.HTML object>"
      ]
     },
     "metadata": {},
     "output_type": "display_data"
    },
    {
     "data": {
      "text/html": [
       "Find logs at: <code>./wandb/run-20220627_205701-1e1uvztd/logs</code>"
      ],
      "text/plain": [
       "<IPython.core.display.HTML object>"
      ]
     },
     "metadata": {},
     "output_type": "display_data"
    },
    {
     "data": {
      "text/html": [
       "wandb version 0.12.19 is available!  To upgrade, please run:\n",
       " $ pip install wandb --upgrade"
      ],
      "text/plain": [
       "<IPython.core.display.HTML object>"
      ]
     },
     "metadata": {},
     "output_type": "display_data"
    },
    {
     "data": {
      "text/html": [
       "Tracking run with wandb version 0.12.15"
      ],
      "text/plain": [
       "<IPython.core.display.HTML object>"
      ]
     },
     "metadata": {},
     "output_type": "display_data"
    },
    {
     "data": {
      "text/html": [
       "Run data is saved locally in <code>/project/notebooks/wandb/run-20220627_210859-1pwyqs6c</code>"
      ],
      "text/plain": [
       "<IPython.core.display.HTML object>"
      ]
     },
     "metadata": {},
     "output_type": "display_data"
    },
    {
     "data": {
      "text/html": [
       "Syncing run <strong><a href=\"https://wandb.ai/synthesis-ai/51_syn_mode_real_data/runs/1pwyqs6c\" target=\"_blank\">effortless-sea-44</a></strong> to <a href=\"https://wandb.ai/synthesis-ai/51_syn_mode_real_data\" target=\"_blank\">Weights & Biases</a> (<a href=\"https://wandb.me/run\" target=\"_blank\">docs</a>)<br/>"
      ],
      "text/plain": [
       "<IPython.core.display.HTML object>"
      ]
     },
     "metadata": {},
     "output_type": "display_data"
    },
    {
     "name": "stdout",
     "output_type": "stream",
     "text": [
      "fold=9\n",
      "/project/data/Label\n",
      "0 items removed from dataset that have an angle > 180\n",
      "\n",
      "test configuration equal gpu_id=cuda:0, batch_size=20, model_arch=ResNet50\n",
      "Start testing dataset=mpiigaze, FOLD=9 --06/27/2022 14:09:02---------\n",
      "entering epoch=epoch_1.pkl\n",
      "[epoch_1.pkl---mpiigaze] Total Num:3000,MAE:11.224235849617374  06/27/2022 14:09:15\n",
      "entering epoch=epoch_2.pkl\n",
      "[epoch_2.pkl---mpiigaze] Total Num:3000,MAE:9.134612334447382  06/27/2022 14:09:26\n",
      "entering epoch=epoch_3.pkl\n",
      "[epoch_3.pkl---mpiigaze] Total Num:3000,MAE:8.22377010413491  06/27/2022 14:09:38\n",
      "entering epoch=epoch_4.pkl\n",
      "[epoch_4.pkl---mpiigaze] Total Num:3000,MAE:8.83010286809993  06/27/2022 14:09:51\n",
      "entering epoch=epoch_5.pkl\n",
      "[epoch_5.pkl---mpiigaze] Total Num:3000,MAE:8.38605041121338  06/27/2022 14:10:03\n",
      "entering epoch=epoch_6.pkl\n",
      "[epoch_6.pkl---mpiigaze] Total Num:3000,MAE:8.75582788655706  06/27/2022 14:10:15\n",
      "entering epoch=epoch_7.pkl\n",
      "[epoch_7.pkl---mpiigaze] Total Num:3000,MAE:9.3991781937329  06/27/2022 14:10:26\n",
      "entering epoch=epoch_8.pkl\n",
      "[epoch_8.pkl---mpiigaze] Total Num:3000,MAE:8.970686659536137  06/27/2022 14:10:37\n",
      "entering epoch=epoch_9.pkl\n",
      "[epoch_9.pkl---mpiigaze] Total Num:3000,MAE:9.186296614310125  06/27/2022 14:10:50\n",
      "entering epoch=epoch_10.pkl\n",
      "[epoch_10.pkl---mpiigaze] Total Num:3000,MAE:9.065772788782876  06/27/2022 14:11:02\n",
      "entering epoch=epoch_11.pkl\n",
      "[epoch_11.pkl---mpiigaze] Total Num:3000,MAE:11.255876475127845  06/27/2022 14:11:15\n",
      "entering epoch=epoch_12.pkl\n",
      "[epoch_12.pkl---mpiigaze] Total Num:3000,MAE:9.399979083258682  06/27/2022 14:11:27\n",
      "entering epoch=epoch_13.pkl\n",
      "[epoch_13.pkl---mpiigaze] Total Num:3000,MAE:9.128354529450723  06/27/2022 14:11:40\n",
      "entering epoch=epoch_14.pkl\n",
      "[epoch_14.pkl---mpiigaze] Total Num:3000,MAE:9.481147320124164  06/27/2022 14:11:52\n",
      "entering epoch=epoch_15.pkl\n",
      "[epoch_15.pkl---mpiigaze] Total Num:3000,MAE:9.82224895120888  06/27/2022 14:12:04\n",
      "entering epoch=epoch_16.pkl\n",
      "[epoch_16.pkl---mpiigaze] Total Num:3000,MAE:9.692825695567656  06/27/2022 14:12:17\n",
      "entering epoch=epoch_17.pkl\n",
      "[epoch_17.pkl---mpiigaze] Total Num:3000,MAE:9.800951423019573  06/27/2022 14:12:29\n",
      "entering epoch=epoch_18.pkl\n",
      "[epoch_18.pkl---mpiigaze] Total Num:3000,MAE:10.43190368358281  06/27/2022 14:12:42\n",
      "entering epoch=epoch_19.pkl\n",
      "[epoch_19.pkl---mpiigaze] Total Num:3000,MAE:8.311144273749006  06/27/2022 14:12:54\n",
      "entering epoch=epoch_20.pkl\n",
      "[epoch_20.pkl---mpiigaze] Total Num:3000,MAE:9.71610695784405  06/27/2022 14:13:05\n",
      "entering epoch=epoch_21.pkl\n",
      "[epoch_21.pkl---mpiigaze] Total Num:3000,MAE:9.5325105883413  06/27/2022 14:13:17\n",
      "entering epoch=epoch_22.pkl\n",
      "[epoch_22.pkl---mpiigaze] Total Num:3000,MAE:10.202805705754262  06/27/2022 14:13:29\n",
      "entering epoch=epoch_23.pkl\n",
      "[epoch_23.pkl---mpiigaze] Total Num:3000,MAE:9.395896645523838  06/27/2022 14:13:41\n",
      "entering epoch=epoch_24.pkl\n",
      "[epoch_24.pkl---mpiigaze] Total Num:3000,MAE:9.184494397546024  06/27/2022 14:13:53\n",
      "entering epoch=epoch_25.pkl\n",
      "[epoch_25.pkl---mpiigaze] Total Num:3000,MAE:9.229978858342863  06/27/2022 14:14:04\n",
      "entering epoch=epoch_26.pkl\n",
      "[epoch_26.pkl---mpiigaze] Total Num:3000,MAE:8.65492894165721  06/27/2022 14:14:17\n",
      "entering epoch=epoch_27.pkl\n",
      "[epoch_27.pkl---mpiigaze] Total Num:3000,MAE:9.154914626929981  06/27/2022 14:14:28\n",
      "entering epoch=epoch_28.pkl\n",
      "[epoch_28.pkl---mpiigaze] Total Num:3000,MAE:8.619045047468665  06/27/2022 14:14:36\n",
      "entering epoch=epoch_29.pkl\n",
      "[epoch_29.pkl---mpiigaze] Total Num:3000,MAE:7.800787000397378  06/27/2022 14:14:47\n",
      "entering epoch=epoch_30.pkl\n",
      "[epoch_30.pkl---mpiigaze] Total Num:3000,MAE:8.521383114733554  06/27/2022 14:14:59\n",
      "entering epoch=epoch_31.pkl\n",
      "[epoch_31.pkl---mpiigaze] Total Num:3000,MAE:7.957896652409983  06/27/2022 14:15:11\n",
      "entering epoch=epoch_32.pkl\n",
      "[epoch_32.pkl---mpiigaze] Total Num:3000,MAE:7.475313231400309  06/27/2022 14:15:23\n",
      "entering epoch=epoch_33.pkl\n",
      "[epoch_33.pkl---mpiigaze] Total Num:3000,MAE:7.928464665738978  06/27/2022 14:15:36\n",
      "entering epoch=epoch_34.pkl\n",
      "[epoch_34.pkl---mpiigaze] Total Num:3000,MAE:7.865316529147559  06/27/2022 14:15:49\n",
      "entering epoch=epoch_35.pkl\n",
      "[epoch_35.pkl---mpiigaze] Total Num:3000,MAE:7.39078568937052  06/27/2022 14:16:01\n",
      "entering epoch=epoch_36.pkl\n",
      "[epoch_36.pkl---mpiigaze] Total Num:3000,MAE:8.371817540062342  06/27/2022 14:16:13\n",
      "entering epoch=epoch_37.pkl\n",
      "[epoch_37.pkl---mpiigaze] Total Num:3000,MAE:7.566525479112964  06/27/2022 14:16:25\n",
      "entering epoch=epoch_38.pkl\n",
      "[epoch_38.pkl---mpiigaze] Total Num:3000,MAE:8.353774877188265  06/27/2022 14:16:37\n",
      "entering epoch=epoch_39.pkl\n",
      "[epoch_39.pkl---mpiigaze] Total Num:3000,MAE:8.179547963126957  06/27/2022 14:16:49\n",
      "entering epoch=epoch_40.pkl\n",
      "[epoch_40.pkl---mpiigaze] Total Num:3000,MAE:7.837760391841036  06/27/2022 14:17:01\n",
      "entering epoch=epoch_41.pkl\n",
      "[epoch_41.pkl---mpiigaze] Total Num:3000,MAE:8.234155454677602  06/27/2022 14:17:13\n",
      "entering epoch=epoch_42.pkl\n",
      "[epoch_42.pkl---mpiigaze] Total Num:3000,MAE:8.286771713938919  06/27/2022 14:17:26\n",
      "entering epoch=epoch_43.pkl\n",
      "[epoch_43.pkl---mpiigaze] Total Num:3000,MAE:8.697219701194085  06/27/2022 14:17:37\n",
      "entering epoch=epoch_44.pkl\n",
      "[epoch_44.pkl---mpiigaze] Total Num:3000,MAE:7.911208355867328  06/27/2022 14:17:50\n",
      "entering epoch=epoch_45.pkl\n",
      "[epoch_45.pkl---mpiigaze] Total Num:3000,MAE:8.12639175452806  06/27/2022 14:18:02\n",
      "entering epoch=epoch_46.pkl\n",
      "[epoch_46.pkl---mpiigaze] Total Num:3000,MAE:8.818831075730825  06/27/2022 14:18:14\n",
      "entering epoch=epoch_47.pkl\n",
      "[epoch_47.pkl---mpiigaze] Total Num:3000,MAE:8.75354358136749  06/27/2022 14:18:26\n",
      "entering epoch=epoch_48.pkl\n",
      "[epoch_48.pkl---mpiigaze] Total Num:3000,MAE:8.721144008273429  06/27/2022 14:18:38\n",
      "entering epoch=epoch_49.pkl\n",
      "[epoch_49.pkl---mpiigaze] Total Num:3000,MAE:7.8648773299996355  06/27/2022 14:18:51\n",
      "entering epoch=epoch_50.pkl\n",
      "[epoch_50.pkl---mpiigaze] Total Num:3000,MAE:8.104247671178882  06/27/2022 14:19:02\n",
      "entering epoch=epoch_51.pkl\n",
      "[epoch_51.pkl---mpiigaze] Total Num:3000,MAE:7.883710784722994  06/27/2022 14:19:13\n",
      "entering epoch=epoch_52.pkl\n",
      "[epoch_52.pkl---mpiigaze] Total Num:3000,MAE:8.467431204936569  06/27/2022 14:19:24\n",
      "entering epoch=epoch_53.pkl\n",
      "[epoch_53.pkl---mpiigaze] Total Num:3000,MAE:7.882796775913567  06/27/2022 14:19:36\n",
      "entering epoch=epoch_54.pkl\n",
      "[epoch_54.pkl---mpiigaze] Total Num:3000,MAE:9.378470727790429  06/27/2022 14:19:47\n",
      "entering epoch=epoch_55.pkl\n",
      "[epoch_55.pkl---mpiigaze] Total Num:3000,MAE:8.684433150846624  06/27/2022 14:19:59\n",
      "entering epoch=epoch_56.pkl\n",
      "[epoch_56.pkl---mpiigaze] Total Num:3000,MAE:9.04155646492441  06/27/2022 14:20:12\n",
      "entering epoch=epoch_57.pkl\n",
      "[epoch_57.pkl---mpiigaze] Total Num:3000,MAE:9.034735857294036  06/27/2022 14:20:23\n",
      "entering epoch=epoch_58.pkl\n",
      "[epoch_58.pkl---mpiigaze] Total Num:3000,MAE:9.084310100467633  06/27/2022 14:20:35\n",
      "entering epoch=epoch_59.pkl\n",
      "[epoch_59.pkl---mpiigaze] Total Num:3000,MAE:8.904230283846964  06/27/2022 14:20:46\n",
      "entering epoch=epoch_60.pkl\n",
      "[epoch_60.pkl---mpiigaze] Total Num:3000,MAE:8.926144574723827  06/27/2022 14:20:58\n"
     ]
    },
    {
     "data": {
      "text/html": [
       "Waiting for W&B process to finish... <strong style=\"color:green\">(success).</strong>"
      ],
      "text/plain": [
       "<IPython.core.display.HTML object>"
      ]
     },
     "metadata": {},
     "output_type": "display_data"
    },
    {
     "data": {
      "application/vnd.jupyter.widget-view+json": {
       "model_id": "",
       "version_major": 2,
       "version_minor": 0
      },
      "text/plain": [
       "VBox(children=(Label(value='0.001 MB of 0.001 MB uploaded (0.000 MB deduped)\\r'), FloatProgress(value=1.0, max…"
      ]
     },
     "metadata": {},
     "output_type": "display_data"
    },
    {
     "data": {
      "text/html": [
       "<style>\n",
       "    table.wandb td:nth-child(1) { padding: 0 10px; text-align: right }\n",
       "    .wandb-row { display: flex; flex-direction: row; flex-wrap: wrap; width: 100% }\n",
       "    .wandb-col { display: flex; flex-direction: column; flex-basis: 100%; flex: 1; padding: 10px; }\n",
       "    </style>\n",
       "<div class=\"wandb-row\"><div class=\"wandb-col\"><h3>Run history:</h3><br/><table class=\"wandb\"><tr><td>try3_fold_9_avg_mae</td><td>█▄▄▃▅▄▄█▄▅▅▅▃▅▆▅▄▃▃▂▂▁▂▁▁▃▂▃▃▂▄▃▂▂▃▂▃▄▄▄</td></tr></table><br/></div><div class=\"wandb-col\"><h3>Run summary:</h3><br/><table class=\"wandb\"><tr><td>epoch</td><td>epoch_60.pkl</td></tr><tr><td>try3_fold_9_avg_mae</td><td>8.92614</td></tr></table><br/></div></div>"
      ],
      "text/plain": [
       "<IPython.core.display.HTML object>"
      ]
     },
     "metadata": {},
     "output_type": "display_data"
    },
    {
     "data": {
      "text/html": [
       "Synced <strong style=\"color:#cdcd00\">effortless-sea-44</strong>: <a href=\"https://wandb.ai/synthesis-ai/51_syn_mode_real_data/runs/1pwyqs6c\" target=\"_blank\">https://wandb.ai/synthesis-ai/51_syn_mode_real_data/runs/1pwyqs6c</a><br/>Synced 5 W&B file(s), 0 media file(s), 0 artifact file(s) and 0 other file(s)"
      ],
      "text/plain": [
       "<IPython.core.display.HTML object>"
      ]
     },
     "metadata": {},
     "output_type": "display_data"
    },
    {
     "data": {
      "text/html": [
       "Find logs at: <code>./wandb/run-20220627_210859-1pwyqs6c/logs</code>"
      ],
      "text/plain": [
       "<IPython.core.display.HTML object>"
      ]
     },
     "metadata": {},
     "output_type": "display_data"
    },
    {
     "data": {
      "text/html": [
       "wandb version 0.12.19 is available!  To upgrade, please run:\n",
       " $ pip install wandb --upgrade"
      ],
      "text/plain": [
       "<IPython.core.display.HTML object>"
      ]
     },
     "metadata": {},
     "output_type": "display_data"
    },
    {
     "data": {
      "text/html": [
       "Tracking run with wandb version 0.12.15"
      ],
      "text/plain": [
       "<IPython.core.display.HTML object>"
      ]
     },
     "metadata": {},
     "output_type": "display_data"
    },
    {
     "data": {
      "text/html": [
       "Run data is saved locally in <code>/project/notebooks/wandb/run-20220627_212102-2tazl88j</code>"
      ],
      "text/plain": [
       "<IPython.core.display.HTML object>"
      ]
     },
     "metadata": {},
     "output_type": "display_data"
    },
    {
     "data": {
      "text/html": [
       "Syncing run <strong><a href=\"https://wandb.ai/synthesis-ai/51_syn_mode_real_data/runs/2tazl88j\" target=\"_blank\">effortless-plasma-45</a></strong> to <a href=\"https://wandb.ai/synthesis-ai/51_syn_mode_real_data\" target=\"_blank\">Weights & Biases</a> (<a href=\"https://wandb.me/run\" target=\"_blank\">docs</a>)<br/>"
      ],
      "text/plain": [
       "<IPython.core.display.HTML object>"
      ]
     },
     "metadata": {},
     "output_type": "display_data"
    },
    {
     "name": "stdout",
     "output_type": "stream",
     "text": [
      "fold=10\n",
      "/project/data/Label\n",
      "0 items removed from dataset that have an angle > 180\n",
      "\n",
      "test configuration equal gpu_id=cuda:0, batch_size=20, model_arch=ResNet50\n",
      "Start testing dataset=mpiigaze, FOLD=10 --06/27/2022 14:21:05---------\n",
      "entering epoch=epoch_1.pkl\n",
      "[epoch_1.pkl---mpiigaze] Total Num:3000,MAE:9.694782112640732  06/27/2022 14:21:18\n",
      "entering epoch=epoch_2.pkl\n",
      "[epoch_2.pkl---mpiigaze] Total Num:3000,MAE:8.514581490315305  06/27/2022 14:21:31\n",
      "entering epoch=epoch_3.pkl\n",
      "[epoch_3.pkl---mpiigaze] Total Num:3000,MAE:12.19171749985733  06/27/2022 14:21:43\n",
      "entering epoch=epoch_4.pkl\n",
      "[epoch_4.pkl---mpiigaze] Total Num:3000,MAE:8.850339877714372  06/27/2022 14:21:55\n",
      "entering epoch=epoch_5.pkl\n",
      "[epoch_5.pkl---mpiigaze] Total Num:3000,MAE:10.288874923075078  06/27/2022 14:22:08\n",
      "entering epoch=epoch_6.pkl\n",
      "[epoch_6.pkl---mpiigaze] Total Num:3000,MAE:9.224114408722379  06/27/2022 14:22:20\n",
      "entering epoch=epoch_7.pkl\n",
      "[epoch_7.pkl---mpiigaze] Total Num:3000,MAE:9.3440713950444  06/27/2022 14:22:32\n",
      "entering epoch=epoch_8.pkl\n",
      "[epoch_8.pkl---mpiigaze] Total Num:3000,MAE:10.076899970215049  06/27/2022 14:22:44\n",
      "entering epoch=epoch_9.pkl\n",
      "[epoch_9.pkl---mpiigaze] Total Num:3000,MAE:11.068622743673611  06/27/2022 14:22:55\n",
      "entering epoch=epoch_10.pkl\n",
      "[epoch_10.pkl---mpiigaze] Total Num:3000,MAE:12.588758646432609  06/27/2022 14:23:06\n",
      "entering epoch=epoch_11.pkl\n",
      "[epoch_11.pkl---mpiigaze] Total Num:3000,MAE:9.801206279278029  06/27/2022 14:23:18\n",
      "entering epoch=epoch_12.pkl\n",
      "[epoch_12.pkl---mpiigaze] Total Num:3000,MAE:11.041631533159535  06/27/2022 14:23:29\n",
      "entering epoch=epoch_13.pkl\n",
      "[epoch_13.pkl---mpiigaze] Total Num:3000,MAE:11.777607213439993  06/27/2022 14:23:42\n",
      "entering epoch=epoch_14.pkl\n",
      "[epoch_14.pkl---mpiigaze] Total Num:3000,MAE:11.533412648541326  06/27/2022 14:23:54\n",
      "entering epoch=epoch_15.pkl\n",
      "[epoch_15.pkl---mpiigaze] Total Num:3000,MAE:11.85816937019442  06/27/2022 14:24:07\n",
      "entering epoch=epoch_16.pkl\n",
      "[epoch_16.pkl---mpiigaze] Total Num:3000,MAE:11.227113630278883  06/27/2022 14:24:19\n",
      "entering epoch=epoch_17.pkl\n",
      "[epoch_17.pkl---mpiigaze] Total Num:3000,MAE:10.1407260542258  06/27/2022 14:24:31\n",
      "entering epoch=epoch_18.pkl\n",
      "[epoch_18.pkl---mpiigaze] Total Num:3000,MAE:11.103649176940735  06/27/2022 14:24:44\n",
      "entering epoch=epoch_19.pkl\n",
      "[epoch_19.pkl---mpiigaze] Total Num:3000,MAE:12.047111588994584  06/27/2022 14:24:57\n",
      "entering epoch=epoch_20.pkl\n",
      "[epoch_20.pkl---mpiigaze] Total Num:3000,MAE:9.863628476242067  06/27/2022 14:25:05\n",
      "entering epoch=epoch_21.pkl\n",
      "[epoch_21.pkl---mpiigaze] Total Num:3000,MAE:9.800136024745704  06/27/2022 14:25:18\n",
      "entering epoch=epoch_22.pkl\n",
      "[epoch_22.pkl---mpiigaze] Total Num:3000,MAE:9.709833936873345  06/27/2022 14:25:30\n",
      "entering epoch=epoch_23.pkl\n",
      "[epoch_23.pkl---mpiigaze] Total Num:3000,MAE:10.539305249278291  06/27/2022 14:25:42\n",
      "entering epoch=epoch_24.pkl\n",
      "[epoch_24.pkl---mpiigaze] Total Num:3000,MAE:10.375295996581576  06/27/2022 14:25:54\n",
      "entering epoch=epoch_25.pkl\n",
      "[epoch_25.pkl---mpiigaze] Total Num:3000,MAE:13.113768019398822  06/27/2022 14:26:06\n",
      "entering epoch=epoch_26.pkl\n",
      "[epoch_26.pkl---mpiigaze] Total Num:3000,MAE:11.121476084947972  06/27/2022 14:26:18\n",
      "entering epoch=epoch_27.pkl\n",
      "[epoch_27.pkl---mpiigaze] Total Num:3000,MAE:12.049546509379642  06/27/2022 14:26:30\n",
      "entering epoch=epoch_28.pkl\n",
      "[epoch_28.pkl---mpiigaze] Total Num:3000,MAE:10.713614842831495  06/27/2022 14:26:43\n",
      "entering epoch=epoch_29.pkl\n",
      "[epoch_29.pkl---mpiigaze] Total Num:3000,MAE:12.162885003734136  06/27/2022 14:26:55\n",
      "entering epoch=epoch_30.pkl\n",
      "[epoch_30.pkl---mpiigaze] Total Num:3000,MAE:10.437815950889188  06/27/2022 14:27:07\n",
      "entering epoch=epoch_31.pkl\n",
      "[epoch_31.pkl---mpiigaze] Total Num:3000,MAE:10.891075904365707  06/27/2022 14:27:20\n",
      "entering epoch=epoch_32.pkl\n",
      "[epoch_32.pkl---mpiigaze] Total Num:3000,MAE:10.988483216490577  06/27/2022 14:27:30\n",
      "entering epoch=epoch_33.pkl\n",
      "[epoch_33.pkl---mpiigaze] Total Num:3000,MAE:10.996489983377222  06/27/2022 14:27:43\n",
      "entering epoch=epoch_34.pkl\n",
      "[epoch_34.pkl---mpiigaze] Total Num:3000,MAE:10.593212439101606  06/27/2022 14:27:56\n",
      "entering epoch=epoch_35.pkl\n",
      "[epoch_35.pkl---mpiigaze] Total Num:3000,MAE:10.832927132146054  06/27/2022 14:28:08\n",
      "entering epoch=epoch_36.pkl\n",
      "[epoch_36.pkl---mpiigaze] Total Num:3000,MAE:10.558889494886367  06/27/2022 14:28:20\n",
      "entering epoch=epoch_37.pkl\n",
      "[epoch_37.pkl---mpiigaze] Total Num:3000,MAE:10.631206704191815  06/27/2022 14:28:32\n",
      "entering epoch=epoch_38.pkl\n",
      "[epoch_38.pkl---mpiigaze] Total Num:3000,MAE:10.723235323724417  06/27/2022 14:28:45\n",
      "entering epoch=epoch_39.pkl\n",
      "[epoch_39.pkl---mpiigaze] Total Num:3000,MAE:11.757487023817257  06/27/2022 14:28:56\n",
      "entering epoch=epoch_40.pkl\n",
      "[epoch_40.pkl---mpiigaze] Total Num:3000,MAE:10.622501822166035  06/27/2022 14:29:07\n",
      "entering epoch=epoch_41.pkl\n",
      "[epoch_41.pkl---mpiigaze] Total Num:3000,MAE:10.470119169630577  06/27/2022 14:29:19\n",
      "entering epoch=epoch_42.pkl\n",
      "[epoch_42.pkl---mpiigaze] Total Num:3000,MAE:10.375156066780901  06/27/2022 14:29:32\n",
      "entering epoch=epoch_43.pkl\n",
      "[epoch_43.pkl---mpiigaze] Total Num:3000,MAE:11.759915039168254  06/27/2022 14:29:44\n",
      "entering epoch=epoch_44.pkl\n",
      "[epoch_44.pkl---mpiigaze] Total Num:3000,MAE:11.852003951251218  06/27/2022 14:29:55\n",
      "entering epoch=epoch_45.pkl\n",
      "[epoch_45.pkl---mpiigaze] Total Num:3000,MAE:10.608632391564885  06/27/2022 14:30:07\n",
      "entering epoch=epoch_46.pkl\n",
      "[epoch_46.pkl---mpiigaze] Total Num:3000,MAE:11.463170354017347  06/27/2022 14:30:19\n",
      "entering epoch=epoch_47.pkl\n",
      "[epoch_47.pkl---mpiigaze] Total Num:3000,MAE:10.91392397676838  06/27/2022 14:30:32\n",
      "entering epoch=epoch_48.pkl\n",
      "[epoch_48.pkl---mpiigaze] Total Num:3000,MAE:9.540682702647874  06/27/2022 14:30:45\n",
      "entering epoch=epoch_49.pkl\n",
      "[epoch_49.pkl---mpiigaze] Total Num:3000,MAE:10.532646099580406  06/27/2022 14:30:57\n",
      "entering epoch=epoch_50.pkl\n",
      "[epoch_50.pkl---mpiigaze] Total Num:3000,MAE:10.278186303701144  06/27/2022 14:31:09\n",
      "entering epoch=epoch_51.pkl\n",
      "[epoch_51.pkl---mpiigaze] Total Num:3000,MAE:10.809465556574894  06/27/2022 14:31:20\n",
      "entering epoch=epoch_52.pkl\n",
      "[epoch_52.pkl---mpiigaze] Total Num:3000,MAE:10.065088080953155  06/27/2022 14:31:32\n",
      "entering epoch=epoch_53.pkl\n",
      "[epoch_53.pkl---mpiigaze] Total Num:3000,MAE:10.850883002656486  06/27/2022 14:31:44\n",
      "entering epoch=epoch_54.pkl\n",
      "[epoch_54.pkl---mpiigaze] Total Num:3000,MAE:11.05928205595175  06/27/2022 14:31:57\n",
      "entering epoch=epoch_55.pkl\n",
      "[epoch_55.pkl---mpiigaze] Total Num:3000,MAE:10.676292539673018  06/27/2022 14:32:10\n",
      "entering epoch=epoch_56.pkl\n",
      "[epoch_56.pkl---mpiigaze] Total Num:3000,MAE:10.823519774250352  06/27/2022 14:32:22\n",
      "entering epoch=epoch_57.pkl\n",
      "[epoch_57.pkl---mpiigaze] Total Num:3000,MAE:11.178038982775089  06/27/2022 14:32:34\n",
      "entering epoch=epoch_58.pkl\n",
      "[epoch_58.pkl---mpiigaze] Total Num:3000,MAE:11.888200739621206  06/27/2022 14:32:46\n",
      "entering epoch=epoch_59.pkl\n",
      "[epoch_59.pkl---mpiigaze] Total Num:3000,MAE:11.600927896595246  06/27/2022 14:32:58\n",
      "entering epoch=epoch_60.pkl\n",
      "[epoch_60.pkl---mpiigaze] Total Num:3000,MAE:10.428169671357608  06/27/2022 14:33:10\n"
     ]
    },
    {
     "data": {
      "text/html": [
       "Waiting for W&B process to finish... <strong style=\"color:green\">(success).</strong>"
      ],
      "text/plain": [
       "<IPython.core.display.HTML object>"
      ]
     },
     "metadata": {},
     "output_type": "display_data"
    },
    {
     "data": {
      "application/vnd.jupyter.widget-view+json": {
       "model_id": "",
       "version_major": 2,
       "version_minor": 0
      },
      "text/plain": [
       "VBox(children=(Label(value='0.001 MB of 0.001 MB uploaded (0.000 MB deduped)\\r'), FloatProgress(value=1.0, max…"
      ]
     },
     "metadata": {},
     "output_type": "display_data"
    },
    {
     "data": {
      "text/html": [
       "<style>\n",
       "    table.wandb td:nth-child(1) { padding: 0 10px; text-align: right }\n",
       "    .wandb-row { display: flex; flex-direction: row; flex-wrap: wrap; width: 100% }\n",
       "    .wandb-col { display: flex; flex-direction: column; flex-basis: 100%; flex: 1; padding: 10px; }\n",
       "    </style>\n",
       "<div class=\"wandb-row\"><div class=\"wandb-col\"><h3>Run history:</h3><br/><table class=\"wandb\"><tr><td>try3_fold_10_avg_mae</td><td>▃▁▂▄▂▃▇▃▆▆▅▃▆▃▃▄█▅▄▇▅▅▄▅▄▄▄▄▆▆▅▅▄▄▃▅▄▅▆▄</td></tr></table><br/></div><div class=\"wandb-col\"><h3>Run summary:</h3><br/><table class=\"wandb\"><tr><td>epoch</td><td>epoch_60.pkl</td></tr><tr><td>try3_fold_10_avg_mae</td><td>10.42817</td></tr></table><br/></div></div>"
      ],
      "text/plain": [
       "<IPython.core.display.HTML object>"
      ]
     },
     "metadata": {},
     "output_type": "display_data"
    },
    {
     "data": {
      "text/html": [
       "Synced <strong style=\"color:#cdcd00\">effortless-plasma-45</strong>: <a href=\"https://wandb.ai/synthesis-ai/51_syn_mode_real_data/runs/2tazl88j\" target=\"_blank\">https://wandb.ai/synthesis-ai/51_syn_mode_real_data/runs/2tazl88j</a><br/>Synced 5 W&B file(s), 0 media file(s), 0 artifact file(s) and 0 other file(s)"
      ],
      "text/plain": [
       "<IPython.core.display.HTML object>"
      ]
     },
     "metadata": {},
     "output_type": "display_data"
    },
    {
     "data": {
      "text/html": [
       "Find logs at: <code>./wandb/run-20220627_212102-2tazl88j/logs</code>"
      ],
      "text/plain": [
       "<IPython.core.display.HTML object>"
      ]
     },
     "metadata": {},
     "output_type": "display_data"
    },
    {
     "data": {
      "text/html": [
       "wandb version 0.12.19 is available!  To upgrade, please run:\n",
       " $ pip install wandb --upgrade"
      ],
      "text/plain": [
       "<IPython.core.display.HTML object>"
      ]
     },
     "metadata": {},
     "output_type": "display_data"
    },
    {
     "data": {
      "text/html": [
       "Tracking run with wandb version 0.12.15"
      ],
      "text/plain": [
       "<IPython.core.display.HTML object>"
      ]
     },
     "metadata": {},
     "output_type": "display_data"
    },
    {
     "data": {
      "text/html": [
       "Run data is saved locally in <code>/project/notebooks/wandb/run-20220627_213314-19uv63vn</code>"
      ],
      "text/plain": [
       "<IPython.core.display.HTML object>"
      ]
     },
     "metadata": {},
     "output_type": "display_data"
    },
    {
     "data": {
      "text/html": [
       "Syncing run <strong><a href=\"https://wandb.ai/synthesis-ai/51_syn_mode_real_data/runs/19uv63vn\" target=\"_blank\">wild-resonance-46</a></strong> to <a href=\"https://wandb.ai/synthesis-ai/51_syn_mode_real_data\" target=\"_blank\">Weights & Biases</a> (<a href=\"https://wandb.me/run\" target=\"_blank\">docs</a>)<br/>"
      ],
      "text/plain": [
       "<IPython.core.display.HTML object>"
      ]
     },
     "metadata": {},
     "output_type": "display_data"
    },
    {
     "name": "stdout",
     "output_type": "stream",
     "text": [
      "fold=11\n",
      "/project/data/Label\n",
      "0 items removed from dataset that have an angle > 180\n",
      "\n",
      "test configuration equal gpu_id=cuda:0, batch_size=20, model_arch=ResNet50\n",
      "Start testing dataset=mpiigaze, FOLD=11 --06/27/2022 14:33:17---------\n",
      "entering epoch=epoch_1.pkl\n",
      "[epoch_1.pkl---mpiigaze] Total Num:3000,MAE:9.085629588176639  06/27/2022 14:33:30\n",
      "entering epoch=epoch_2.pkl\n",
      "[epoch_2.pkl---mpiigaze] Total Num:3000,MAE:9.491888561832779  06/27/2022 14:33:43\n",
      "entering epoch=epoch_3.pkl\n",
      "[epoch_3.pkl---mpiigaze] Total Num:3000,MAE:7.613727255646428  06/27/2022 14:33:55\n",
      "entering epoch=epoch_4.pkl\n",
      "[epoch_4.pkl---mpiigaze] Total Num:3000,MAE:10.015695941532158  06/27/2022 14:34:07\n",
      "entering epoch=epoch_5.pkl\n",
      "[epoch_5.pkl---mpiigaze] Total Num:3000,MAE:7.2713786697791924  06/27/2022 14:34:18\n",
      "entering epoch=epoch_6.pkl\n",
      "[epoch_6.pkl---mpiigaze] Total Num:3000,MAE:7.719452710768059  06/27/2022 14:34:30\n",
      "entering epoch=epoch_7.pkl\n",
      "[epoch_7.pkl---mpiigaze] Total Num:3000,MAE:7.190656998081645  06/27/2022 14:34:43\n",
      "entering epoch=epoch_8.pkl\n",
      "[epoch_8.pkl---mpiigaze] Total Num:3000,MAE:7.535332974948637  06/27/2022 14:34:56\n",
      "entering epoch=epoch_9.pkl\n",
      "[epoch_9.pkl---mpiigaze] Total Num:3000,MAE:7.929129227847449  06/27/2022 14:35:08\n",
      "entering epoch=epoch_10.pkl\n",
      "[epoch_10.pkl---mpiigaze] Total Num:3000,MAE:7.427345152258125  06/27/2022 14:35:20\n",
      "entering epoch=epoch_11.pkl\n",
      "[epoch_11.pkl---mpiigaze] Total Num:3000,MAE:7.521687649230427  06/27/2022 14:35:32\n",
      "entering epoch=epoch_12.pkl\n",
      "[epoch_12.pkl---mpiigaze] Total Num:3000,MAE:8.062556870190132  06/27/2022 14:35:40\n",
      "entering epoch=epoch_13.pkl\n",
      "[epoch_13.pkl---mpiigaze] Total Num:3000,MAE:8.307440508450476  06/27/2022 14:35:52\n",
      "entering epoch=epoch_14.pkl\n",
      "[epoch_14.pkl---mpiigaze] Total Num:3000,MAE:7.797239082773657  06/27/2022 14:36:05\n",
      "entering epoch=epoch_15.pkl\n",
      "[epoch_15.pkl---mpiigaze] Total Num:3000,MAE:7.791444406190039  06/27/2022 14:36:17\n",
      "entering epoch=epoch_16.pkl\n",
      "[epoch_16.pkl---mpiigaze] Total Num:3000,MAE:7.119582707377367  06/27/2022 14:36:30\n",
      "entering epoch=epoch_17.pkl\n",
      "[epoch_17.pkl---mpiigaze] Total Num:3000,MAE:7.54519853837408  06/27/2022 14:36:41\n",
      "entering epoch=epoch_18.pkl\n",
      "[epoch_18.pkl---mpiigaze] Total Num:3000,MAE:6.9229878907650235  06/27/2022 14:36:53\n",
      "entering epoch=epoch_19.pkl\n",
      "[epoch_19.pkl---mpiigaze] Total Num:3000,MAE:7.3813106409467375  06/27/2022 14:37:05\n",
      "entering epoch=epoch_20.pkl\n",
      "[epoch_20.pkl---mpiigaze] Total Num:3000,MAE:9.079210721022916  06/27/2022 14:37:17\n",
      "entering epoch=epoch_21.pkl\n",
      "[epoch_21.pkl---mpiigaze] Total Num:3000,MAE:8.270139128073591  06/27/2022 14:37:28\n",
      "entering epoch=epoch_22.pkl\n",
      "[epoch_22.pkl---mpiigaze] Total Num:3000,MAE:7.2527754147072505  06/27/2022 14:37:42\n",
      "entering epoch=epoch_23.pkl\n",
      "[epoch_23.pkl---mpiigaze] Total Num:3000,MAE:8.110560208185273  06/27/2022 14:37:54\n",
      "entering epoch=epoch_24.pkl\n",
      "[epoch_24.pkl---mpiigaze] Total Num:3000,MAE:7.218124423934337  06/27/2022 14:38:05\n",
      "entering epoch=epoch_25.pkl\n",
      "[epoch_25.pkl---mpiigaze] Total Num:3000,MAE:7.693943338294865  06/27/2022 14:38:17\n",
      "entering epoch=epoch_26.pkl\n",
      "[epoch_26.pkl---mpiigaze] Total Num:3000,MAE:7.881318785252793  06/27/2022 14:38:29\n",
      "entering epoch=epoch_27.pkl\n",
      "[epoch_27.pkl---mpiigaze] Total Num:3000,MAE:7.259791472355938  06/27/2022 14:38:41\n",
      "entering epoch=epoch_28.pkl\n",
      "[epoch_28.pkl---mpiigaze] Total Num:3000,MAE:7.355992884226659  06/27/2022 14:38:54\n",
      "entering epoch=epoch_29.pkl\n",
      "[epoch_29.pkl---mpiigaze] Total Num:3000,MAE:7.357607877374764  06/27/2022 14:39:07\n",
      "entering epoch=epoch_30.pkl\n",
      "[epoch_30.pkl---mpiigaze] Total Num:3000,MAE:7.120689577444408  06/27/2022 14:39:19\n",
      "entering epoch=epoch_31.pkl\n",
      "[epoch_31.pkl---mpiigaze] Total Num:3000,MAE:7.25189893861622  06/27/2022 14:39:30\n",
      "entering epoch=epoch_32.pkl\n",
      "[epoch_32.pkl---mpiigaze] Total Num:3000,MAE:7.361261708584126  06/27/2022 14:39:42\n",
      "entering epoch=epoch_33.pkl\n",
      "[epoch_33.pkl---mpiigaze] Total Num:3000,MAE:7.084695089045583  06/27/2022 14:39:54\n",
      "entering epoch=epoch_34.pkl\n",
      "[epoch_34.pkl---mpiigaze] Total Num:3000,MAE:7.405020461256887  06/27/2022 14:40:07\n",
      "entering epoch=epoch_35.pkl\n",
      "[epoch_35.pkl---mpiigaze] Total Num:3000,MAE:7.216980160680348  06/27/2022 14:40:19\n",
      "entering epoch=epoch_36.pkl\n",
      "[epoch_36.pkl---mpiigaze] Total Num:3000,MAE:7.156140687903148  06/27/2022 14:40:31\n",
      "entering epoch=epoch_37.pkl\n",
      "[epoch_37.pkl---mpiigaze] Total Num:3000,MAE:6.841396605255651  06/27/2022 14:40:43\n",
      "entering epoch=epoch_38.pkl\n",
      "[epoch_38.pkl---mpiigaze] Total Num:3000,MAE:6.961883466523345  06/27/2022 14:40:55\n",
      "entering epoch=epoch_39.pkl\n",
      "[epoch_39.pkl---mpiigaze] Total Num:3000,MAE:8.021677043392467  06/27/2022 14:41:07\n",
      "entering epoch=epoch_40.pkl\n",
      "[epoch_40.pkl---mpiigaze] Total Num:3000,MAE:7.120043549236762  06/27/2022 14:41:20\n",
      "entering epoch=epoch_41.pkl\n",
      "[epoch_41.pkl---mpiigaze] Total Num:3000,MAE:6.899041560688181  06/27/2022 14:41:31\n",
      "entering epoch=epoch_42.pkl\n",
      "[epoch_42.pkl---mpiigaze] Total Num:3000,MAE:7.3283772014839865  06/27/2022 14:41:43\n",
      "entering epoch=epoch_43.pkl\n",
      "[epoch_43.pkl---mpiigaze] Total Num:3000,MAE:6.9140076728030495  06/27/2022 14:41:55\n",
      "entering epoch=epoch_44.pkl\n",
      "[epoch_44.pkl---mpiigaze] Total Num:3000,MAE:7.082118334991013  06/27/2022 14:42:07\n",
      "entering epoch=epoch_45.pkl\n",
      "[epoch_45.pkl---mpiigaze] Total Num:3000,MAE:7.006897479938853  06/27/2022 14:42:19\n",
      "entering epoch=epoch_46.pkl\n",
      "[epoch_46.pkl---mpiigaze] Total Num:3000,MAE:7.159157262988251  06/27/2022 14:42:30\n",
      "entering epoch=epoch_47.pkl\n",
      "[epoch_47.pkl---mpiigaze] Total Num:3000,MAE:6.881838939711097  06/27/2022 14:42:43\n",
      "entering epoch=epoch_48.pkl\n",
      "[epoch_48.pkl---mpiigaze] Total Num:3000,MAE:7.244337978527711  06/27/2022 14:42:56\n",
      "entering epoch=epoch_49.pkl\n",
      "[epoch_49.pkl---mpiigaze] Total Num:3000,MAE:6.952899242990995  06/27/2022 14:43:08\n",
      "entering epoch=epoch_50.pkl\n",
      "[epoch_50.pkl---mpiigaze] Total Num:3000,MAE:7.260490639383105  06/27/2022 14:43:20\n",
      "entering epoch=epoch_51.pkl\n",
      "[epoch_51.pkl---mpiigaze] Total Num:3000,MAE:7.929312275115286  06/27/2022 14:43:31\n",
      "entering epoch=epoch_52.pkl\n",
      "[epoch_52.pkl---mpiigaze] Total Num:3000,MAE:6.852501389455983  06/27/2022 14:43:43\n",
      "entering epoch=epoch_53.pkl\n",
      "[epoch_53.pkl---mpiigaze] Total Num:3000,MAE:7.4368692779837255  06/27/2022 14:43:55\n",
      "entering epoch=epoch_54.pkl\n",
      "[epoch_54.pkl---mpiigaze] Total Num:3000,MAE:6.948082138478167  06/27/2022 14:44:08\n",
      "entering epoch=epoch_55.pkl\n",
      "[epoch_55.pkl---mpiigaze] Total Num:3000,MAE:6.739683868280157  06/27/2022 14:44:20\n",
      "entering epoch=epoch_56.pkl\n",
      "[epoch_56.pkl---mpiigaze] Total Num:3000,MAE:6.58904250673579  06/27/2022 14:44:32\n",
      "entering epoch=epoch_57.pkl\n",
      "[epoch_57.pkl---mpiigaze] Total Num:3000,MAE:7.275584581575819  06/27/2022 14:44:43\n",
      "entering epoch=epoch_58.pkl\n",
      "[epoch_58.pkl---mpiigaze] Total Num:3000,MAE:7.288476003300558  06/27/2022 14:44:55\n",
      "entering epoch=epoch_59.pkl\n",
      "[epoch_59.pkl---mpiigaze] Total Num:3000,MAE:7.31486748941147  06/27/2022 14:45:07\n",
      "entering epoch=epoch_60.pkl\n",
      "[epoch_60.pkl---mpiigaze] Total Num:3000,MAE:7.772749576731681  06/27/2022 14:45:20\n"
     ]
    },
    {
     "data": {
      "text/html": [
       "Waiting for W&B process to finish... <strong style=\"color:green\">(success).</strong>"
      ],
      "text/plain": [
       "<IPython.core.display.HTML object>"
      ]
     },
     "metadata": {},
     "output_type": "display_data"
    },
    {
     "data": {
      "application/vnd.jupyter.widget-view+json": {
       "model_id": "",
       "version_major": 2,
       "version_minor": 0
      },
      "text/plain": [
       "VBox(children=(Label(value='0.001 MB of 0.001 MB uploaded (0.000 MB deduped)\\r'), FloatProgress(value=1.0, max…"
      ]
     },
     "metadata": {},
     "output_type": "display_data"
    },
    {
     "data": {
      "text/html": [
       "<style>\n",
       "    table.wandb td:nth-child(1) { padding: 0 10px; text-align: right }\n",
       "    .wandb-row { display: flex; flex-direction: row; flex-wrap: wrap; width: 100% }\n",
       "    .wandb-col { display: flex; flex-direction: column; flex-basis: 100%; flex: 1; padding: 10px; }\n",
       "    </style>\n",
       "<div class=\"wandb-row\"><div class=\"wandb-col\"><h3>Run history:</h3><br/><table class=\"wandb\"><tr><td>try3_fold_11_avg_mae</td><td>▆▇█▂▂▃▃▃▅▃▂▃▃▆▂▄▃▄▃▃▂▃▃▂▂▂▂▂▂▂▂▂▂▂▂▃▁▁▂▃</td></tr></table><br/></div><div class=\"wandb-col\"><h3>Run summary:</h3><br/><table class=\"wandb\"><tr><td>epoch</td><td>epoch_60.pkl</td></tr><tr><td>try3_fold_11_avg_mae</td><td>7.77275</td></tr></table><br/></div></div>"
      ],
      "text/plain": [
       "<IPython.core.display.HTML object>"
      ]
     },
     "metadata": {},
     "output_type": "display_data"
    },
    {
     "data": {
      "text/html": [
       "Synced <strong style=\"color:#cdcd00\">wild-resonance-46</strong>: <a href=\"https://wandb.ai/synthesis-ai/51_syn_mode_real_data/runs/19uv63vn\" target=\"_blank\">https://wandb.ai/synthesis-ai/51_syn_mode_real_data/runs/19uv63vn</a><br/>Synced 5 W&B file(s), 0 media file(s), 0 artifact file(s) and 0 other file(s)"
      ],
      "text/plain": [
       "<IPython.core.display.HTML object>"
      ]
     },
     "metadata": {},
     "output_type": "display_data"
    },
    {
     "data": {
      "text/html": [
       "Find logs at: <code>./wandb/run-20220627_213314-19uv63vn/logs</code>"
      ],
      "text/plain": [
       "<IPython.core.display.HTML object>"
      ]
     },
     "metadata": {},
     "output_type": "display_data"
    },
    {
     "data": {
      "text/html": [
       "wandb version 0.12.19 is available!  To upgrade, please run:\n",
       " $ pip install wandb --upgrade"
      ],
      "text/plain": [
       "<IPython.core.display.HTML object>"
      ]
     },
     "metadata": {},
     "output_type": "display_data"
    },
    {
     "data": {
      "text/html": [
       "Tracking run with wandb version 0.12.15"
      ],
      "text/plain": [
       "<IPython.core.display.HTML object>"
      ]
     },
     "metadata": {},
     "output_type": "display_data"
    },
    {
     "data": {
      "text/html": [
       "Run data is saved locally in <code>/project/notebooks/wandb/run-20220627_214524-3hhpridx</code>"
      ],
      "text/plain": [
       "<IPython.core.display.HTML object>"
      ]
     },
     "metadata": {},
     "output_type": "display_data"
    },
    {
     "data": {
      "text/html": [
       "Syncing run <strong><a href=\"https://wandb.ai/synthesis-ai/51_syn_mode_real_data/runs/3hhpridx\" target=\"_blank\">dulcet-star-47</a></strong> to <a href=\"https://wandb.ai/synthesis-ai/51_syn_mode_real_data\" target=\"_blank\">Weights & Biases</a> (<a href=\"https://wandb.me/run\" target=\"_blank\">docs</a>)<br/>"
      ],
      "text/plain": [
       "<IPython.core.display.HTML object>"
      ]
     },
     "metadata": {},
     "output_type": "display_data"
    },
    {
     "name": "stdout",
     "output_type": "stream",
     "text": [
      "fold=12\n",
      "/project/data/Label\n",
      "0 items removed from dataset that have an angle > 180\n",
      "\n",
      "test configuration equal gpu_id=cuda:0, batch_size=20, model_arch=ResNet50\n",
      "Start testing dataset=mpiigaze, FOLD=12 --06/27/2022 14:45:27---------\n",
      "entering epoch=epoch_1.pkl\n",
      "[epoch_1.pkl---mpiigaze] Total Num:3000,MAE:9.516085817727737  06/27/2022 14:45:40\n",
      "entering epoch=epoch_2.pkl\n",
      "[epoch_2.pkl---mpiigaze] Total Num:3000,MAE:10.724681489063544  06/27/2022 14:45:52\n",
      "entering epoch=epoch_3.pkl\n",
      "[epoch_3.pkl---mpiigaze] Total Num:3000,MAE:9.201789634489925  06/27/2022 14:46:03\n",
      "entering epoch=epoch_4.pkl\n",
      "[epoch_4.pkl---mpiigaze] Total Num:3000,MAE:9.516923945681675  06/27/2022 14:46:13\n",
      "entering epoch=epoch_5.pkl\n",
      "[epoch_5.pkl---mpiigaze] Total Num:3000,MAE:8.666925798164295  06/27/2022 14:46:23\n",
      "entering epoch=epoch_6.pkl\n",
      "[epoch_6.pkl---mpiigaze] Total Num:3000,MAE:8.214443733110649  06/27/2022 14:46:35\n",
      "entering epoch=epoch_7.pkl\n",
      "[epoch_7.pkl---mpiigaze] Total Num:3000,MAE:7.656914937655178  06/27/2022 14:46:47\n",
      "entering epoch=epoch_8.pkl\n",
      "[epoch_8.pkl---mpiigaze] Total Num:3000,MAE:8.558987127742782  06/27/2022 14:46:59\n",
      "entering epoch=epoch_9.pkl\n",
      "[epoch_9.pkl---mpiigaze] Total Num:3000,MAE:7.327232854800003  06/27/2022 14:47:12\n",
      "entering epoch=epoch_10.pkl\n",
      "[epoch_10.pkl---mpiigaze] Total Num:3000,MAE:7.572064914166705  06/27/2022 14:47:24\n",
      "entering epoch=epoch_11.pkl\n",
      "[epoch_11.pkl---mpiigaze] Total Num:3000,MAE:9.79466846219352  06/27/2022 14:47:36\n",
      "entering epoch=epoch_12.pkl\n",
      "[epoch_12.pkl---mpiigaze] Total Num:3000,MAE:7.388939301436679  06/27/2022 14:47:48\n",
      "entering epoch=epoch_13.pkl\n",
      "[epoch_13.pkl---mpiigaze] Total Num:3000,MAE:8.998370632876327  06/27/2022 14:48:00\n",
      "entering epoch=epoch_14.pkl\n",
      "[epoch_14.pkl---mpiigaze] Total Num:3000,MAE:8.146212387740563  06/27/2022 14:48:12\n",
      "entering epoch=epoch_15.pkl\n",
      "[epoch_15.pkl---mpiigaze] Total Num:3000,MAE:8.109013777080257  06/27/2022 14:48:25\n",
      "entering epoch=epoch_16.pkl\n",
      "[epoch_16.pkl---mpiigaze] Total Num:3000,MAE:8.624783814405466  06/27/2022 14:48:38\n",
      "entering epoch=epoch_17.pkl\n",
      "[epoch_26.pkl---mpiigaze] Total Num:3000,MAE:8.520538674017988  06/27/2022 14:50:37\n",
      "entering epoch=epoch_27.pkl\n",
      "[epoch_27.pkl---mpiigaze] Total Num:3000,MAE:8.11598687248965  06/27/2022 14:50:48\n",
      "entering epoch=epoch_28.pkl\n",
      "[epoch_28.pkl---mpiigaze] Total Num:3000,MAE:7.668624809234424  06/27/2022 14:51:00\n",
      "entering epoch=epoch_29.pkl\n",
      "[epoch_29.pkl---mpiigaze] Total Num:3000,MAE:8.09153311225931  06/27/2022 14:51:13\n",
      "entering epoch=epoch_30.pkl\n",
      "[epoch_30.pkl---mpiigaze] Total Num:3000,MAE:7.351621076739364  06/27/2022 14:51:24\n",
      "entering epoch=epoch_31.pkl\n",
      "[epoch_31.pkl---mpiigaze] Total Num:3000,MAE:7.8369859162292075  06/27/2022 14:51:36\n",
      "entering epoch=epoch_32.pkl\n",
      "[epoch_32.pkl---mpiigaze] Total Num:3000,MAE:7.903559140619424  06/27/2022 14:51:48\n",
      "entering epoch=epoch_33.pkl\n",
      "[epoch_33.pkl---mpiigaze] Total Num:3000,MAE:7.620309985308649  06/27/2022 14:52:00\n",
      "entering epoch=epoch_34.pkl\n",
      "[epoch_34.pkl---mpiigaze] Total Num:3000,MAE:8.034972973739146  06/27/2022 14:52:11\n",
      "entering epoch=epoch_35.pkl\n",
      "[epoch_35.pkl---mpiigaze] Total Num:3000,MAE:7.796705869082429  06/27/2022 14:52:24\n",
      "entering epoch=epoch_36.pkl\n",
      "[epoch_36.pkl---mpiigaze] Total Num:3000,MAE:8.807477705347624  06/27/2022 14:52:35\n",
      "entering epoch=epoch_37.pkl\n",
      "[epoch_37.pkl---mpiigaze] Total Num:3000,MAE:8.373200207041423  06/27/2022 14:52:47\n",
      "entering epoch=epoch_38.pkl\n",
      "[epoch_38.pkl---mpiigaze] Total Num:3000,MAE:8.539027638193778  06/27/2022 14:53:00\n",
      "entering epoch=epoch_39.pkl\n",
      "[epoch_39.pkl---mpiigaze] Total Num:3000,MAE:7.749239193936027  06/27/2022 14:53:12\n",
      "entering epoch=epoch_40.pkl\n",
      "[epoch_40.pkl---mpiigaze] Total Num:3000,MAE:8.121265658942436  06/27/2022 14:53:24\n",
      "entering epoch=epoch_41.pkl\n",
      "[epoch_41.pkl---mpiigaze] Total Num:3000,MAE:7.825239874680193  06/27/2022 14:53:37\n",
      "entering epoch=epoch_42.pkl\n",
      "[epoch_42.pkl---mpiigaze] Total Num:3000,MAE:7.353853406860001  06/27/2022 14:53:49\n",
      "entering epoch=epoch_43.pkl\n",
      "[epoch_43.pkl---mpiigaze] Total Num:3000,MAE:9.181915840941382  06/27/2022 14:54:02\n",
      "entering epoch=epoch_44.pkl\n",
      "[epoch_44.pkl---mpiigaze] Total Num:3000,MAE:8.71373603490327  06/27/2022 14:54:14\n",
      "entering epoch=epoch_45.pkl\n",
      "[epoch_45.pkl---mpiigaze] Total Num:3000,MAE:7.92816625964834  06/27/2022 14:54:25\n",
      "entering epoch=epoch_46.pkl\n",
      "[epoch_46.pkl---mpiigaze] Total Num:3000,MAE:7.548084855324976  06/27/2022 14:54:38\n",
      "entering epoch=epoch_47.pkl\n",
      "[epoch_47.pkl---mpiigaze] Total Num:3000,MAE:7.88843206905186  06/27/2022 14:54:52\n",
      "entering epoch=epoch_48.pkl\n",
      "[epoch_48.pkl---mpiigaze] Total Num:3000,MAE:7.186078611591827  06/27/2022 14:55:05\n",
      "entering epoch=epoch_49.pkl\n",
      "[epoch_49.pkl---mpiigaze] Total Num:3000,MAE:7.795297005026474  06/27/2022 14:55:18\n",
      "entering epoch=epoch_50.pkl\n",
      "[epoch_50.pkl---mpiigaze] Total Num:3000,MAE:8.550821351083925  06/27/2022 14:55:31\n",
      "entering epoch=epoch_51.pkl\n",
      "[epoch_51.pkl---mpiigaze] Total Num:3000,MAE:8.676063717222172  06/27/2022 14:55:44\n",
      "entering epoch=epoch_52.pkl\n",
      "[epoch_52.pkl---mpiigaze] Total Num:3000,MAE:7.3992440124339565  06/27/2022 14:55:57\n",
      "entering epoch=epoch_53.pkl\n",
      "[epoch_53.pkl---mpiigaze] Total Num:3000,MAE:7.808829744821654  06/27/2022 14:56:09\n",
      "entering epoch=epoch_54.pkl\n",
      "[epoch_54.pkl---mpiigaze] Total Num:3000,MAE:8.27294707855177  06/27/2022 14:56:22\n",
      "entering epoch=epoch_55.pkl\n",
      "[epoch_55.pkl---mpiigaze] Total Num:3000,MAE:8.161300935652182  06/27/2022 14:56:35\n",
      "entering epoch=epoch_56.pkl\n",
      "[epoch_56.pkl---mpiigaze] Total Num:3000,MAE:7.656896592787058  06/27/2022 14:56:46\n",
      "entering epoch=epoch_57.pkl\n",
      "[epoch_57.pkl---mpiigaze] Total Num:3000,MAE:7.450627475107428  06/27/2022 14:57:00\n",
      "entering epoch=epoch_58.pkl\n",
      "[epoch_58.pkl---mpiigaze] Total Num:3000,MAE:7.17348095508068  06/27/2022 14:57:13\n",
      "entering epoch=epoch_59.pkl\n",
      "[epoch_59.pkl---mpiigaze] Total Num:3000,MAE:7.336646082951057  06/27/2022 14:57:26\n",
      "entering epoch=epoch_60.pkl\n",
      "[epoch_60.pkl---mpiigaze] Total Num:3000,MAE:7.766870536398412  06/27/2022 14:57:38\n"
     ]
    },
    {
     "data": {
      "text/html": [
       "Waiting for W&B process to finish... <strong style=\"color:green\">(success).</strong>"
      ],
      "text/plain": [
       "<IPython.core.display.HTML object>"
      ]
     },
     "metadata": {},
     "output_type": "display_data"
    },
    {
     "data": {
      "application/vnd.jupyter.widget-view+json": {
       "model_id": "",
       "version_major": 2,
       "version_minor": 0
      },
      "text/plain": [
       "VBox(children=(Label(value='0.001 MB of 0.001 MB uploaded (0.000 MB deduped)\\r'), FloatProgress(value=1.0, max…"
      ]
     },
     "metadata": {},
     "output_type": "display_data"
    },
    {
     "data": {
      "text/html": [
       "<style>\n",
       "    table.wandb td:nth-child(1) { padding: 0 10px; text-align: right }\n",
       "    .wandb-row { display: flex; flex-direction: row; flex-wrap: wrap; width: 100% }\n",
       "    .wandb-col { display: flex; flex-direction: column; flex-basis: 100%; flex: 1; padding: 10px; }\n",
       "    </style>\n",
       "<div class=\"wandb-row\"><div class=\"wandb-col\"><h3>Run history:</h3><br/><table class=\"wandb\"><tr><td>try3_fold_12_avg_mae</td><td>▆█▆▄▂▄▂▆▅▃▄▃▄▃▃▂▂▄▂▃▂▂▃▂▃▄▃▂▅▄▂▂▂▄▁▂▃▂▁▂</td></tr></table><br/></div><div class=\"wandb-col\"><h3>Run summary:</h3><br/><table class=\"wandb\"><tr><td>epoch</td><td>epoch_60.pkl</td></tr><tr><td>try3_fold_12_avg_mae</td><td>7.76687</td></tr></table><br/></div></div>"
      ],
      "text/plain": [
       "<IPython.core.display.HTML object>"
      ]
     },
     "metadata": {},
     "output_type": "display_data"
    },
    {
     "data": {
      "text/html": [
       "Synced <strong style=\"color:#cdcd00\">dulcet-star-47</strong>: <a href=\"https://wandb.ai/synthesis-ai/51_syn_mode_real_data/runs/3hhpridx\" target=\"_blank\">https://wandb.ai/synthesis-ai/51_syn_mode_real_data/runs/3hhpridx</a><br/>Synced 5 W&B file(s), 0 media file(s), 0 artifact file(s) and 0 other file(s)"
      ],
      "text/plain": [
       "<IPython.core.display.HTML object>"
      ]
     },
     "metadata": {},
     "output_type": "display_data"
    },
    {
     "data": {
      "text/html": [
       "Find logs at: <code>./wandb/run-20220627_214524-3hhpridx/logs</code>"
      ],
      "text/plain": [
       "<IPython.core.display.HTML object>"
      ]
     },
     "metadata": {},
     "output_type": "display_data"
    },
    {
     "data": {
      "text/html": [
       "wandb version 0.12.19 is available!  To upgrade, please run:\n",
       " $ pip install wandb --upgrade"
      ],
      "text/plain": [
       "<IPython.core.display.HTML object>"
      ]
     },
     "metadata": {},
     "output_type": "display_data"
    },
    {
     "data": {
      "text/html": [
       "Tracking run with wandb version 0.12.15"
      ],
      "text/plain": [
       "<IPython.core.display.HTML object>"
      ]
     },
     "metadata": {},
     "output_type": "display_data"
    },
    {
     "data": {
      "text/html": [
       "Run data is saved locally in <code>/project/notebooks/wandb/run-20220627_215742-1j95lo95</code>"
      ],
      "text/plain": [
       "<IPython.core.display.HTML object>"
      ]
     },
     "metadata": {},
     "output_type": "display_data"
    },
    {
     "data": {
      "text/html": [
       "Syncing run <strong><a href=\"https://wandb.ai/synthesis-ai/51_syn_mode_real_data/runs/1j95lo95\" target=\"_blank\">copper-sky-48</a></strong> to <a href=\"https://wandb.ai/synthesis-ai/51_syn_mode_real_data\" target=\"_blank\">Weights & Biases</a> (<a href=\"https://wandb.me/run\" target=\"_blank\">docs</a>)<br/>"
      ],
      "text/plain": [
       "<IPython.core.display.HTML object>"
      ]
     },
     "metadata": {},
     "output_type": "display_data"
    },
    {
     "name": "stdout",
     "output_type": "stream",
     "text": [
      "fold=13\n",
      "/project/data/Label\n",
      "0 items removed from dataset that have an angle > 180\n",
      "\n",
      "test configuration equal gpu_id=cuda:0, batch_size=20, model_arch=ResNet50\n",
      "Start testing dataset=mpiigaze, FOLD=13 --06/27/2022 14:57:45---------\n",
      "entering epoch=epoch_1.pkl\n",
      "[epoch_1.pkl---mpiigaze] Total Num:3000,MAE:8.07164256025546  06/27/2022 14:57:58\n",
      "entering epoch=epoch_2.pkl\n",
      "[epoch_2.pkl---mpiigaze] Total Num:3000,MAE:8.916440622928182  06/27/2022 14:58:10\n",
      "entering epoch=epoch_3.pkl\n",
      "[epoch_3.pkl---mpiigaze] Total Num:3000,MAE:7.548629153856305  06/27/2022 14:58:22\n",
      "entering epoch=epoch_4.pkl\n",
      "[epoch_4.pkl---mpiigaze] Total Num:3000,MAE:7.921603043123802  06/27/2022 14:58:35\n",
      "entering epoch=epoch_5.pkl\n",
      "[epoch_5.pkl---mpiigaze] Total Num:3000,MAE:7.474929644201843  06/27/2022 14:58:49\n",
      "entering epoch=epoch_6.pkl\n",
      "[epoch_6.pkl---mpiigaze] Total Num:3000,MAE:7.412712013108675  06/27/2022 14:59:01\n",
      "entering epoch=epoch_7.pkl\n",
      "[epoch_7.pkl---mpiigaze] Total Num:3000,MAE:6.62257939367753  06/27/2022 14:59:15\n",
      "entering epoch=epoch_8.pkl\n",
      "[epoch_8.pkl---mpiigaze] Total Num:3000,MAE:8.048553629207076  06/27/2022 14:59:27\n",
      "entering epoch=epoch_9.pkl\n",
      "[epoch_9.pkl---mpiigaze] Total Num:3000,MAE:7.167648720794743  06/27/2022 14:59:41\n",
      "entering epoch=epoch_10.pkl\n",
      "[epoch_10.pkl---mpiigaze] Total Num:3000,MAE:7.361583165086042  06/27/2022 14:59:52\n",
      "entering epoch=epoch_11.pkl\n",
      "[epoch_11.pkl---mpiigaze] Total Num:3000,MAE:8.039708462149981  06/27/2022 15:00:05\n",
      "entering epoch=epoch_12.pkl\n",
      "[epoch_12.pkl---mpiigaze] Total Num:3000,MAE:7.624667690805269  06/27/2022 15:00:19\n",
      "entering epoch=epoch_13.pkl\n",
      "[epoch_13.pkl---mpiigaze] Total Num:3000,MAE:6.909910602781696  06/27/2022 15:00:32\n",
      "entering epoch=epoch_14.pkl\n",
      "[epoch_14.pkl---mpiigaze] Total Num:3000,MAE:7.860996236349148  06/27/2022 15:00:45\n",
      "entering epoch=epoch_15.pkl\n",
      "[epoch_15.pkl---mpiigaze] Total Num:3000,MAE:7.424584187769188  06/27/2022 15:00:59\n",
      "entering epoch=epoch_16.pkl\n",
      "[epoch_16.pkl---mpiigaze] Total Num:3000,MAE:7.4294133125981405  06/27/2022 15:01:12\n",
      "entering epoch=epoch_17.pkl\n",
      "[epoch_17.pkl---mpiigaze] Total Num:3000,MAE:8.29088704793853  06/27/2022 15:01:25\n",
      "entering epoch=epoch_18.pkl\n",
      "[epoch_18.pkl---mpiigaze] Total Num:3000,MAE:7.937337194466178  06/27/2022 15:01:38\n",
      "entering epoch=epoch_19.pkl\n",
      "[epoch_19.pkl---mpiigaze] Total Num:3000,MAE:7.1144997722176155  06/27/2022 15:01:50\n",
      "entering epoch=epoch_20.pkl\n",
      "[epoch_20.pkl---mpiigaze] Total Num:3000,MAE:7.443944049314244  06/27/2022 15:02:03\n",
      "entering epoch=epoch_21.pkl\n",
      "[epoch_21.pkl---mpiigaze] Total Num:3000,MAE:7.4830906284701495  06/27/2022 15:02:17\n",
      "entering epoch=epoch_22.pkl\n",
      "[epoch_22.pkl---mpiigaze] Total Num:3000,MAE:7.359532369858353  06/27/2022 15:02:30\n",
      "entering epoch=epoch_23.pkl\n",
      "[epoch_23.pkl---mpiigaze] Total Num:3000,MAE:7.581590773907872  06/27/2022 15:02:43\n",
      "entering epoch=epoch_24.pkl\n",
      "[epoch_24.pkl---mpiigaze] Total Num:3000,MAE:8.160970803591539  06/27/2022 15:02:56\n",
      "entering epoch=epoch_25.pkl\n",
      "[epoch_25.pkl---mpiigaze] Total Num:3000,MAE:8.200205122978838  06/27/2022 15:03:10\n",
      "entering epoch=epoch_26.pkl\n",
      "[epoch_26.pkl---mpiigaze] Total Num:3000,MAE:8.006829040822321  06/27/2022 15:03:23\n",
      "entering epoch=epoch_27.pkl\n",
      "[epoch_27.pkl---mpiigaze] Total Num:3000,MAE:8.242356391138458  06/27/2022 15:03:37\n",
      "entering epoch=epoch_28.pkl\n",
      "[epoch_28.pkl---mpiigaze] Total Num:3000,MAE:7.677742901629144  06/27/2022 15:03:49\n",
      "entering epoch=epoch_29.pkl\n",
      "[epoch_29.pkl---mpiigaze] Total Num:3000,MAE:7.985785762829351  06/27/2022 15:04:01\n",
      "entering epoch=epoch_30.pkl\n",
      "[epoch_30.pkl---mpiigaze] Total Num:3000,MAE:8.7576972986312  06/27/2022 15:04:13\n",
      "entering epoch=epoch_31.pkl\n",
      "[epoch_31.pkl---mpiigaze] Total Num:3000,MAE:7.883261581853433  06/27/2022 15:04:26\n",
      "entering epoch=epoch_32.pkl\n",
      "[epoch_32.pkl---mpiigaze] Total Num:3000,MAE:7.769239183174279  06/27/2022 15:04:39\n",
      "entering epoch=epoch_33.pkl\n",
      "[epoch_33.pkl---mpiigaze] Total Num:3000,MAE:7.684736707576115  06/27/2022 15:04:52\n",
      "entering epoch=epoch_34.pkl\n",
      "[epoch_34.pkl---mpiigaze] Total Num:3000,MAE:7.236189358715291  06/27/2022 15:05:05\n",
      "entering epoch=epoch_35.pkl\n",
      "[epoch_35.pkl---mpiigaze] Total Num:3000,MAE:7.910628221154798  06/27/2022 15:05:18\n",
      "entering epoch=epoch_36.pkl\n",
      "[epoch_36.pkl---mpiigaze] Total Num:3000,MAE:8.112989636769019  06/27/2022 15:05:32\n",
      "entering epoch=epoch_37.pkl\n",
      "[epoch_37.pkl---mpiigaze] Total Num:3000,MAE:8.179802568779923  06/27/2022 15:05:45\n",
      "entering epoch=epoch_38.pkl\n",
      "[epoch_38.pkl---mpiigaze] Total Num:3000,MAE:8.888218643116998  06/27/2022 15:05:58\n",
      "entering epoch=epoch_39.pkl\n",
      "[epoch_39.pkl---mpiigaze] Total Num:3000,MAE:8.329835260073175  06/27/2022 15:06:09\n",
      "entering epoch=epoch_40.pkl\n",
      "[epoch_40.pkl---mpiigaze] Total Num:3000,MAE:7.510576309053112  06/27/2022 15:06:21\n",
      "entering epoch=epoch_41.pkl\n",
      "[epoch_41.pkl---mpiigaze] Total Num:3000,MAE:7.533266111094689  06/27/2022 15:06:34\n",
      "entering epoch=epoch_42.pkl\n",
      "[epoch_42.pkl---mpiigaze] Total Num:3000,MAE:7.161481227693872  06/27/2022 15:06:46\n",
      "entering epoch=epoch_43.pkl\n",
      "[epoch_43.pkl---mpiigaze] Total Num:3000,MAE:7.4642617815534456  06/27/2022 15:06:59\n",
      "entering epoch=epoch_44.pkl\n",
      "[epoch_44.pkl---mpiigaze] Total Num:3000,MAE:8.900282829671465  06/27/2022 15:07:12\n",
      "entering epoch=epoch_45.pkl\n",
      "[epoch_45.pkl---mpiigaze] Total Num:3000,MAE:7.392375676751007  06/27/2022 15:07:25\n",
      "entering epoch=epoch_46.pkl\n",
      "[epoch_46.pkl---mpiigaze] Total Num:3000,MAE:8.396642038279113  06/27/2022 15:07:39\n",
      "entering epoch=epoch_47.pkl\n",
      "[epoch_47.pkl---mpiigaze] Total Num:3000,MAE:7.661799326112957  06/27/2022 15:07:50\n",
      "entering epoch=epoch_48.pkl\n",
      "[epoch_48.pkl---mpiigaze] Total Num:3000,MAE:7.778179357392075  06/27/2022 15:08:03\n",
      "entering epoch=epoch_49.pkl\n",
      "[epoch_49.pkl---mpiigaze] Total Num:3000,MAE:8.629070885946177  06/27/2022 15:08:16\n",
      "entering epoch=epoch_50.pkl\n",
      "[epoch_50.pkl---mpiigaze] Total Num:3000,MAE:7.716277066403106  06/27/2022 15:08:29\n",
      "entering epoch=epoch_51.pkl\n",
      "[epoch_51.pkl---mpiigaze] Total Num:3000,MAE:8.12782358646465  06/27/2022 15:08:43\n",
      "entering epoch=epoch_52.pkl\n",
      "[epoch_52.pkl---mpiigaze] Total Num:3000,MAE:7.593488571872034  06/27/2022 15:08:54\n",
      "entering epoch=epoch_53.pkl\n",
      "[epoch_53.pkl---mpiigaze] Total Num:3000,MAE:8.375374210546884  06/27/2022 15:09:05\n",
      "entering epoch=epoch_54.pkl\n",
      "[epoch_54.pkl---mpiigaze] Total Num:3000,MAE:7.742800984188044  06/27/2022 15:09:19\n",
      "entering epoch=epoch_55.pkl\n",
      "[epoch_55.pkl---mpiigaze] Total Num:3000,MAE:7.860094592003679  06/27/2022 15:09:32\n",
      "entering epoch=epoch_56.pkl\n",
      "[epoch_56.pkl---mpiigaze] Total Num:3000,MAE:8.577820728392611  06/27/2022 15:09:45\n",
      "entering epoch=epoch_57.pkl\n",
      "[epoch_57.pkl---mpiigaze] Total Num:3000,MAE:8.07748644180096  06/27/2022 15:09:58\n",
      "entering epoch=epoch_58.pkl\n",
      "[epoch_58.pkl---mpiigaze] Total Num:3000,MAE:8.120751599526287  06/27/2022 15:10:09\n",
      "entering epoch=epoch_59.pkl\n",
      "[epoch_59.pkl---mpiigaze] Total Num:3000,MAE:8.655803225254576  06/27/2022 15:10:20\n",
      "entering epoch=epoch_60.pkl\n",
      "[epoch_60.pkl---mpiigaze] Total Num:3000,MAE:8.50644901606225  06/27/2022 15:10:34\n"
     ]
    },
    {
     "data": {
      "text/html": [
       "Waiting for W&B process to finish... <strong style=\"color:green\">(success).</strong>"
      ],
      "text/plain": [
       "<IPython.core.display.HTML object>"
      ]
     },
     "metadata": {},
     "output_type": "display_data"
    },
    {
     "data": {
      "application/vnd.jupyter.widget-view+json": {
       "model_id": "",
       "version_major": 2,
       "version_minor": 0
      },
      "text/plain": [
       "VBox(children=(Label(value='0.001 MB of 0.001 MB uploaded (0.000 MB deduped)\\r'), FloatProgress(value=1.0, max…"
      ]
     },
     "metadata": {},
     "output_type": "display_data"
    },
    {
     "data": {
      "text/html": [
       "<style>\n",
       "    table.wandb td:nth-child(1) { padding: 0 10px; text-align: right }\n",
       "    .wandb-row { display: flex; flex-direction: row; flex-wrap: wrap; width: 100% }\n",
       "    .wandb-col { display: flex; flex-direction: column; flex-basis: 100%; flex: 1; padding: 10px; }\n",
       "    </style>\n",
       "<div class=\"wandb-row\"><div class=\"wandb-col\"><h3>Run history:</h3><br/><table class=\"wandb\"><tr><td>try3_fold_13_avg_mae</td><td>▅█▅▄▁▅▃▅▂▅▃▆▃▄▃▄▆▅▄▅▅▄▃▅▆█▄▄▄█▆▄▇▄▄▆▅▇▆▇</td></tr></table><br/></div><div class=\"wandb-col\"><h3>Run summary:</h3><br/><table class=\"wandb\"><tr><td>epoch</td><td>epoch_60.pkl</td></tr><tr><td>try3_fold_13_avg_mae</td><td>8.50645</td></tr></table><br/></div></div>"
      ],
      "text/plain": [
       "<IPython.core.display.HTML object>"
      ]
     },
     "metadata": {},
     "output_type": "display_data"
    },
    {
     "data": {
      "text/html": [
       "Synced <strong style=\"color:#cdcd00\">copper-sky-48</strong>: <a href=\"https://wandb.ai/synthesis-ai/51_syn_mode_real_data/runs/1j95lo95\" target=\"_blank\">https://wandb.ai/synthesis-ai/51_syn_mode_real_data/runs/1j95lo95</a><br/>Synced 5 W&B file(s), 0 media file(s), 0 artifact file(s) and 0 other file(s)"
      ],
      "text/plain": [
       "<IPython.core.display.HTML object>"
      ]
     },
     "metadata": {},
     "output_type": "display_data"
    },
    {
     "data": {
      "text/html": [
       "Find logs at: <code>./wandb/run-20220627_215742-1j95lo95/logs</code>"
      ],
      "text/plain": [
       "<IPython.core.display.HTML object>"
      ]
     },
     "metadata": {},
     "output_type": "display_data"
    },
    {
     "data": {
      "text/html": [
       "wandb version 0.12.19 is available!  To upgrade, please run:\n",
       " $ pip install wandb --upgrade"
      ],
      "text/plain": [
       "<IPython.core.display.HTML object>"
      ]
     },
     "metadata": {},
     "output_type": "display_data"
    },
    {
     "data": {
      "text/html": [
       "Tracking run with wandb version 0.12.15"
      ],
      "text/plain": [
       "<IPython.core.display.HTML object>"
      ]
     },
     "metadata": {},
     "output_type": "display_data"
    },
    {
     "data": {
      "text/html": [
       "Run data is saved locally in <code>/project/notebooks/wandb/run-20220627_221038-84zpqndd</code>"
      ],
      "text/plain": [
       "<IPython.core.display.HTML object>"
      ]
     },
     "metadata": {},
     "output_type": "display_data"
    },
    {
     "data": {
      "text/html": [
       "Syncing run <strong><a href=\"https://wandb.ai/synthesis-ai/51_syn_mode_real_data/runs/84zpqndd\" target=\"_blank\">wobbly-bird-49</a></strong> to <a href=\"https://wandb.ai/synthesis-ai/51_syn_mode_real_data\" target=\"_blank\">Weights & Biases</a> (<a href=\"https://wandb.me/run\" target=\"_blank\">docs</a>)<br/>"
      ],
      "text/plain": [
       "<IPython.core.display.HTML object>"
      ]
     },
     "metadata": {},
     "output_type": "display_data"
    },
    {
     "name": "stdout",
     "output_type": "stream",
     "text": [
      "fold=14\n",
      "/project/data/Label\n",
      "0 items removed from dataset that have an angle > 180\n",
      "\n",
      "test configuration equal gpu_id=cuda:0, batch_size=20, model_arch=ResNet50\n",
      "Start testing dataset=mpiigaze, FOLD=14 --06/27/2022 15:10:41---------\n",
      "entering epoch=epoch_1.pkl\n",
      "[epoch_1.pkl---mpiigaze] Total Num:3000,MAE:9.573038108450055  06/27/2022 15:10:54\n",
      "entering epoch=epoch_2.pkl\n",
      "[epoch_2.pkl---mpiigaze] Total Num:3000,MAE:11.98600276028902  06/27/2022 15:11:07\n",
      "entering epoch=epoch_3.pkl\n",
      "[epoch_3.pkl---mpiigaze] Total Num:3000,MAE:10.97540079195821  06/27/2022 15:11:19\n",
      "entering epoch=epoch_4.pkl\n",
      "[epoch_4.pkl---mpiigaze] Total Num:3000,MAE:10.453847541069797  06/27/2022 15:11:32\n",
      "entering epoch=epoch_5.pkl\n",
      "[epoch_5.pkl---mpiigaze] Total Num:3000,MAE:8.87306798405972  06/27/2022 15:11:45\n",
      "entering epoch=epoch_6.pkl\n",
      "[epoch_6.pkl---mpiigaze] Total Num:3000,MAE:9.81026537972797  06/27/2022 15:11:58\n",
      "entering epoch=epoch_7.pkl\n",
      "[epoch_7.pkl---mpiigaze] Total Num:3000,MAE:9.504498143404234  06/27/2022 15:12:11\n",
      "entering epoch=epoch_8.pkl\n",
      "[epoch_8.pkl---mpiigaze] Total Num:3000,MAE:9.213656336374822  06/27/2022 15:12:24\n",
      "entering epoch=epoch_9.pkl\n",
      "[epoch_9.pkl---mpiigaze] Total Num:3000,MAE:8.985357475539393  06/27/2022 15:12:37\n",
      "entering epoch=epoch_10.pkl\n",
      "[epoch_10.pkl---mpiigaze] Total Num:3000,MAE:8.769457014024935  06/27/2022 15:12:49\n",
      "entering epoch=epoch_11.pkl\n",
      "[epoch_11.pkl---mpiigaze] Total Num:3000,MAE:9.080735664344324  06/27/2022 15:13:02\n",
      "entering epoch=epoch_12.pkl\n",
      "[epoch_12.pkl---mpiigaze] Total Num:3000,MAE:8.723871971559435  06/27/2022 15:13:15\n",
      "entering epoch=epoch_13.pkl\n",
      "[epoch_13.pkl---mpiigaze] Total Num:3000,MAE:7.708491592218955  06/27/2022 15:13:28\n",
      "entering epoch=epoch_14.pkl\n",
      "[epoch_14.pkl---mpiigaze] Total Num:3000,MAE:7.573468551886251  06/27/2022 15:13:40\n",
      "entering epoch=epoch_15.pkl\n",
      "[epoch_15.pkl---mpiigaze] Total Num:3000,MAE:8.47090265143451  06/27/2022 15:13:53\n",
      "entering epoch=epoch_16.pkl\n",
      "[epoch_16.pkl---mpiigaze] Total Num:3000,MAE:7.034706032542499  06/27/2022 15:14:07\n",
      "entering epoch=epoch_17.pkl\n",
      "[epoch_17.pkl---mpiigaze] Total Num:3000,MAE:6.307629302109013  06/27/2022 15:14:18\n",
      "entering epoch=epoch_18.pkl\n",
      "[epoch_18.pkl---mpiigaze] Total Num:3000,MAE:6.7680311283794286  06/27/2022 15:14:32\n",
      "entering epoch=epoch_19.pkl\n",
      "[epoch_19.pkl---mpiigaze] Total Num:3000,MAE:8.207637179747785  06/27/2022 15:14:45\n",
      "entering epoch=epoch_20.pkl\n",
      "[epoch_20.pkl---mpiigaze] Total Num:3000,MAE:6.853252450268557  06/27/2022 15:14:57\n",
      "entering epoch=epoch_21.pkl\n",
      "[epoch_21.pkl---mpiigaze] Total Num:3000,MAE:6.585224978288173  06/27/2022 15:15:10\n",
      "entering epoch=epoch_22.pkl\n",
      "[epoch_22.pkl---mpiigaze] Total Num:3000,MAE:7.98739051749741  06/27/2022 15:15:23\n",
      "entering epoch=epoch_23.pkl\n",
      "[epoch_23.pkl---mpiigaze] Total Num:3000,MAE:7.783826039560787  06/27/2022 15:15:35\n",
      "entering epoch=epoch_24.pkl\n",
      "[epoch_24.pkl---mpiigaze] Total Num:3000,MAE:7.169456362140193  06/27/2022 15:15:49\n",
      "entering epoch=epoch_25.pkl\n",
      "[epoch_25.pkl---mpiigaze] Total Num:3000,MAE:8.930548291867197  06/27/2022 15:16:02\n",
      "entering epoch=epoch_26.pkl\n",
      "[epoch_26.pkl---mpiigaze] Total Num:3000,MAE:5.988725362444116  06/27/2022 15:16:15\n",
      "entering epoch=epoch_27.pkl\n",
      "[epoch_27.pkl---mpiigaze] Total Num:3000,MAE:7.803512294384776  06/27/2022 15:16:28\n",
      "entering epoch=epoch_28.pkl\n",
      "[epoch_28.pkl---mpiigaze] Total Num:3000,MAE:7.286495010954192  06/27/2022 15:16:41\n",
      "entering epoch=epoch_29.pkl\n",
      "[epoch_29.pkl---mpiigaze] Total Num:3000,MAE:7.058159684721206  06/27/2022 15:16:54\n",
      "entering epoch=epoch_30.pkl\n",
      "[epoch_30.pkl---mpiigaze] Total Num:3000,MAE:7.79932027064478  06/27/2022 15:17:07\n",
      "entering epoch=epoch_31.pkl\n",
      "[epoch_31.pkl---mpiigaze] Total Num:3000,MAE:6.931067826331056  06/27/2022 15:17:19\n",
      "entering epoch=epoch_32.pkl\n",
      "[epoch_32.pkl---mpiigaze] Total Num:3000,MAE:6.268393449182898  06/27/2022 15:17:32\n",
      "entering epoch=epoch_33.pkl\n",
      "[epoch_33.pkl---mpiigaze] Total Num:3000,MAE:6.627817754822084  06/27/2022 15:17:46\n",
      "entering epoch=epoch_34.pkl\n",
      "[epoch_34.pkl---mpiigaze] Total Num:3000,MAE:6.274634683157668  06/27/2022 15:17:59\n",
      "entering epoch=epoch_35.pkl\n",
      "[epoch_35.pkl---mpiigaze] Total Num:3000,MAE:6.73752199854266  06/27/2022 15:18:12\n",
      "entering epoch=epoch_36.pkl\n",
      "[epoch_36.pkl---mpiigaze] Total Num:3000,MAE:6.649019824635269  06/27/2022 15:18:26\n",
      "entering epoch=epoch_37.pkl\n",
      "[epoch_37.pkl---mpiigaze] Total Num:3000,MAE:6.5857322689828495  06/27/2022 15:18:38\n",
      "entering epoch=epoch_38.pkl\n",
      "[epoch_38.pkl---mpiigaze] Total Num:3000,MAE:7.822431409918475  06/27/2022 15:18:50\n",
      "entering epoch=epoch_39.pkl\n",
      "[epoch_39.pkl---mpiigaze] Total Num:3000,MAE:8.02789108072649  06/27/2022 15:19:03\n",
      "entering epoch=epoch_40.pkl\n",
      "[epoch_40.pkl---mpiigaze] Total Num:3000,MAE:6.518725390598038  06/27/2022 15:19:16\n",
      "entering epoch=epoch_41.pkl\n",
      "[epoch_41.pkl---mpiigaze] Total Num:3000,MAE:6.9832834584004475  06/27/2022 15:19:28\n",
      "entering epoch=epoch_42.pkl\n",
      "[epoch_42.pkl---mpiigaze] Total Num:3000,MAE:6.543950340603327  06/27/2022 15:19:41\n",
      "entering epoch=epoch_43.pkl\n",
      "[epoch_43.pkl---mpiigaze] Total Num:3000,MAE:6.511979089342834  06/27/2022 15:19:53\n",
      "entering epoch=epoch_44.pkl\n",
      "[epoch_44.pkl---mpiigaze] Total Num:3000,MAE:6.9103963350948545  06/27/2022 15:20:05\n",
      "entering epoch=epoch_45.pkl\n",
      "[epoch_45.pkl---mpiigaze] Total Num:3000,MAE:6.527189144089715  06/27/2022 15:20:19\n",
      "entering epoch=epoch_46.pkl\n",
      "[epoch_46.pkl---mpiigaze] Total Num:3000,MAE:8.246914082771966  06/27/2022 15:20:32\n",
      "entering epoch=epoch_47.pkl\n",
      "[epoch_47.pkl---mpiigaze] Total Num:3000,MAE:7.325287379286991  06/27/2022 15:20:45\n",
      "entering epoch=epoch_48.pkl\n",
      "[epoch_48.pkl---mpiigaze] Total Num:3000,MAE:6.553058423751227  06/27/2022 15:20:59\n",
      "entering epoch=epoch_49.pkl\n",
      "[epoch_49.pkl---mpiigaze] Total Num:3000,MAE:7.041716334529233  06/27/2022 15:21:10\n",
      "entering epoch=epoch_50.pkl\n",
      "[epoch_50.pkl---mpiigaze] Total Num:3000,MAE:6.8608962675915395  06/27/2022 15:21:24\n",
      "entering epoch=epoch_51.pkl\n",
      "[epoch_51.pkl---mpiigaze] Total Num:3000,MAE:6.3975517423837776  06/27/2022 15:21:37\n",
      "entering epoch=epoch_52.pkl\n",
      "[epoch_52.pkl---mpiigaze] Total Num:3000,MAE:6.625616944155894  06/27/2022 15:21:50\n",
      "entering epoch=epoch_53.pkl\n",
      "[epoch_53.pkl---mpiigaze] Total Num:3000,MAE:7.0141471417034404  06/27/2022 15:22:03\n",
      "entering epoch=epoch_54.pkl\n",
      "[epoch_54.pkl---mpiigaze] Total Num:3000,MAE:7.018848883640535  06/27/2022 15:22:16\n",
      "entering epoch=epoch_55.pkl\n",
      "[epoch_55.pkl---mpiigaze] Total Num:3000,MAE:7.197830119122733  06/27/2022 15:22:29\n",
      "entering epoch=epoch_56.pkl\n",
      "[epoch_56.pkl---mpiigaze] Total Num:3000,MAE:6.4245644450895805  06/27/2022 15:22:43\n",
      "entering epoch=epoch_57.pkl\n",
      "[epoch_57.pkl---mpiigaze] Total Num:3000,MAE:6.450332776385322  06/27/2022 15:22:54\n",
      "entering epoch=epoch_58.pkl\n",
      "[epoch_58.pkl---mpiigaze] Total Num:3000,MAE:7.36811616485986  06/27/2022 15:23:07\n",
      "entering epoch=epoch_59.pkl\n",
      "[epoch_59.pkl---mpiigaze] Total Num:3000,MAE:6.301114876616718  06/27/2022 15:23:19\n",
      "entering epoch=epoch_60.pkl\n",
      "[epoch_60.pkl---mpiigaze] Total Num:3000,MAE:7.2866691031919615  06/27/2022 15:23:32\n"
     ]
    },
    {
     "data": {
      "text/html": [
       "Waiting for W&B process to finish... <strong style=\"color:green\">(success).</strong>"
      ],
      "text/plain": [
       "<IPython.core.display.HTML object>"
      ]
     },
     "metadata": {},
     "output_type": "display_data"
    },
    {
     "data": {
      "application/vnd.jupyter.widget-view+json": {
       "model_id": "",
       "version_major": 2,
       "version_minor": 0
      },
      "text/plain": [
       "VBox(children=(Label(value='0.001 MB of 0.001 MB uploaded (0.000 MB deduped)\\r'), FloatProgress(value=1.0, max…"
      ]
     },
     "metadata": {},
     "output_type": "display_data"
    },
    {
     "data": {
      "text/html": [
       "<style>\n",
       "    table.wandb td:nth-child(1) { padding: 0 10px; text-align: right }\n",
       "    .wandb-row { display: flex; flex-direction: row; flex-wrap: wrap; width: 100% }\n",
       "    .wandb-col { display: flex; flex-direction: column; flex-basis: 100%; flex: 1; padding: 10px; }\n",
       "    </style>\n",
       "<div class=\"wandb-row\"><div class=\"wandb-col\"><h3>Run history:</h3><br/><table class=\"wandb\"><tr><td>try3_fold_14_avg_mae</td><td>▅█▆▄▅▅▄▅▃▃▂▁▄▂▃▃▄▁▃▂▂▁▁▂▂▃▂▂▂▂▄▃▂▂▂▂▂▂▃▃</td></tr></table><br/></div><div class=\"wandb-col\"><h3>Run summary:</h3><br/><table class=\"wandb\"><tr><td>epoch</td><td>epoch_60.pkl</td></tr><tr><td>try3_fold_14_avg_mae</td><td>7.28667</td></tr></table><br/></div></div>"
      ],
      "text/plain": [
       "<IPython.core.display.HTML object>"
      ]
     },
     "metadata": {},
     "output_type": "display_data"
    },
    {
     "data": {
      "text/html": [
       "Synced <strong style=\"color:#cdcd00\">wobbly-bird-49</strong>: <a href=\"https://wandb.ai/synthesis-ai/51_syn_mode_real_data/runs/84zpqndd\" target=\"_blank\">https://wandb.ai/synthesis-ai/51_syn_mode_real_data/runs/84zpqndd</a><br/>Synced 5 W&B file(s), 0 media file(s), 0 artifact file(s) and 0 other file(s)"
      ],
      "text/plain": [
       "<IPython.core.display.HTML object>"
      ]
     },
     "metadata": {},
     "output_type": "display_data"
    },
    {
     "data": {
      "text/html": [
       "Find logs at: <code>./wandb/run-20220627_221038-84zpqndd/logs</code>"
      ],
      "text/plain": [
       "<IPython.core.display.HTML object>"
      ]
     },
     "metadata": {},
     "output_type": "display_data"
    },
    {
     "name": "stdout",
     "output_type": "stream",
     "text": [
      "CPU times: user 2h 50min 44s, sys: 21min 46s, total: 3h 12min 31s\n",
      "Wall time: 2h 56min 58s\n"
     ]
    }
   ],
   "source": [
    "%%time\n",
    "all_MAE = []\n",
    "# tosave={}\n",
    "for fold in range(15):\n",
    "    frun = wandb.init(project=\"51_syn_mode_real_data\")\n",
    "    frun.name = f'fold{fold}_mae'\n",
    "    \n",
    "    print(f\"fold={fold}\")\n",
    "    \n",
    "    epoch_values=[]\n",
    "    mae_values=[]\n",
    "\n",
    "    now = get_now()\n",
    "    \n",
    "    print(args.gazeMpiilabel_dir)\n",
    "    folder = os.listdir(args.gazeMpiilabel_dir)\n",
    "    folder.sort()  #individual label files\n",
    "    testlabelpathcombined = [os.path.join(args.gazeMpiilabel_dir, j) for j in folder] \n",
    "    \n",
    "    gaze_dataset=datasets.Mpiigaze(testlabelpathcombined, args.gazeMpiimage_dir, transformations, False, angle, fold)\n",
    "\n",
    "    test_loader = torch.utils.data.DataLoader(\n",
    "        dataset=gaze_dataset,\n",
    "        batch_size=batch_size,\n",
    "        shuffle=True,\n",
    "        num_workers=4,\n",
    "        pin_memory=True)\n",
    "\n",
    "#     fold_path = os.path.join(evalpath, 'fold' + f'{fold:0>2}'+'/')  #for evaluation\n",
    "#     print(f\"fold_path is {fold_path}\")\n",
    "#     if not os.path.exists(fold_path):\n",
    "#         os.makedirs(fold_path)\n",
    "\n",
    "#     if not os.path.exists(os.path.join(evalpath, f\"fold\"+str(fold))):\n",
    "#         os.makedirs(os.path.join(evalpath, f\"fold\"+str(fold)))\n",
    "\n",
    "    # list all epoch for testing\n",
    "    folder = os.listdir(os.path.join(snapshot_path, \"fold\" + f'{fold:0>2}'))\n",
    "    folder.sort(key=natural_keys)\n",
    "#     folder.pop(-1)  #remove the tensorboard file, now all snapshot files\n",
    "#     print(f\"folder={folder}\")\n",
    "                    \n",
    "\n",
    "    softmax = nn.Softmax(dim=1)\n",
    "#     with open(os.path.join(evalpath, os.path.join(\"fold\"+f'{fold:0>2}', data_set+\".log\")), 'w') as outfile:\n",
    "        \n",
    "    configuration = (f\"\\ntest configuration equal gpu_id={gpu}, batch_size={batch_size}, model_arch={arch}\\n\"\n",
    "                     f\"Start testing dataset={data_set}, FOLD={fold} --{now}---------\")\n",
    "    print(configuration)\n",
    "#     tosave['time':now]\n",
    "#     outfile.write(configuration)\n",
    "    epoch_list=[]\n",
    "    avg_MAE=[]\n",
    "    for epoch in folder: \n",
    "        print(f\"entering epoch={epoch}\")\n",
    "        model=model_used\n",
    "        checkpoint = torch.load(os.path.join(snapshot_path+\"fold\"+f'{fold:0>2}', epoch))\n",
    "        saved_state_dict = checkpoint['model_state_dict']\n",
    "        model= nn.DataParallel(model,device_ids=[0])\n",
    "        model.load_state_dict(saved_state_dict)\n",
    "        model.cuda(gpu)\n",
    "        model.eval()\n",
    "        total = 0\n",
    "        idx_tensor = [idx for idx in range(35)]\n",
    "        idx_tensor = torch.FloatTensor(idx_tensor).cuda(gpu)\n",
    "        avg_error = .0\n",
    "        with torch.no_grad():\n",
    "            for j, (images, labels, cont_labels, name) in enumerate(test_loader):\n",
    "                images = Variable(images).cuda(gpu)\n",
    "                total += cont_labels.size(0)\n",
    "\n",
    "                label_pitch = cont_labels[:,0].float()*np.pi/180\n",
    "                label_yaw = cont_labels[:,1].float()*np.pi/180\n",
    "\n",
    "                gaze_pitch, gaze_yaw = model(images)\n",
    "\n",
    "                # Binned predictions\n",
    "                _, pitch_bpred = torch.max(gaze_pitch.data, 1)\n",
    "                _, yaw_bpred = torch.max(gaze_yaw.data, 1)\n",
    "\n",
    "                # Continuous predictions\n",
    "                pitch_predicted = softmax(gaze_pitch)\n",
    "                yaw_predicted = softmax(gaze_yaw)\n",
    "\n",
    "                # mapping from binned (0 to 28) to angels (-42 to 42)                \n",
    "                pitch_predicted = \\\n",
    "                    torch.sum(pitch_predicted * idx_tensor, 1).cpu() * 3 - 52\n",
    "                yaw_predicted = \\\n",
    "                    torch.sum(yaw_predicted * idx_tensor, 1).cpu() * 3 - 52\n",
    "\n",
    "                pitch_predicted = pitch_predicted*np.pi/180\n",
    "                yaw_predicted = yaw_predicted*np.pi/180\n",
    "\n",
    "                for p,y,pl,yl in zip(pitch_predicted, yaw_predicted, label_pitch, label_yaw):\n",
    "                    pl, yl = yl, pl*(-1.0)\n",
    "#                     yl = yl*(-1.0)\n",
    "                    avg_error += angular(gazeto3d([p,y]), gazeto3d([pl,yl]))\n",
    "\n",
    "        x = ''.join(filter(lambda i: i.isdigit(), epoch))\n",
    "#             print(f\"x={x}\")\n",
    "        \n",
    "        epoch_list.append(x)\n",
    "        mean_mae = avg_error/total  #mean mae over the 3000 iamges\n",
    "        avg_MAE.append(mean_mae)  \n",
    "#             print(f\"total={total}\")\n",
    "        now = get_now()\n",
    "        loger = f\"[{epoch}---{args.dataset}] Total Num:{total},MAE:{mean_mae}  {now}\"\n",
    "#         outfile.write(loger)\n",
    "        print(loger)\n",
    "#             print(f\"done epoch={epochs}\")\n",
    "        epochn = int(x)\n",
    "#         wandb.log({'epoch':epochn,'total':total, 'MAE':mean_mae, 'FOLD':fold })\n",
    "#         tosave ={'epoch':epochn,'total':total, 'MAE':mean_mae, 'FOLD':fold }\n",
    "        epoch_values.append(epochn)\n",
    "        mae_values.append(mean_mae)\n",
    "# #         wandb.log(tosave)\n",
    "        wandb.log({'epoch': epoch, f'try3_fold_{fold}_avg_mae':mean_mae}, step=epochn)\n",
    "       \n",
    "    all_MAE.append(avg_MAE)\n",
    "    wandb.finish()\n"
   ]
  },
  {
   "cell_type": "code",
   "execution_count": 8,
   "id": "065622ef",
   "metadata": {},
   "outputs": [],
   "source": [
    "all_MAE=np.array(all_MAE)"
   ]
  },
  {
   "cell_type": "code",
   "execution_count": 6,
   "id": "eea42e21",
   "metadata": {},
   "outputs": [],
   "source": [
    "save_file = Path(snapshot_path).parent/\"all_MAE.npy\""
   ]
  },
  {
   "cell_type": "code",
   "execution_count": 10,
   "id": "bb586e6b",
   "metadata": {},
   "outputs": [],
   "source": [
    "with open(save_file, 'wb') as f:\n",
    "    np.save(f, all_MAE)"
   ]
  },
  {
   "cell_type": "code",
   "execution_count": 11,
   "id": "0872f6ce",
   "metadata": {},
   "outputs": [
    {
     "name": "stdout",
     "output_type": "stream",
     "text": [
      "(15, 60)\n",
      "[9.3957585  8.98776868 8.53235168 8.50999417 7.89214242 8.15227883\n",
      " 8.03376209 8.06915903 7.63007331 8.2019409  8.08020162 7.78318193\n",
      " 7.83476043 7.8168375  7.96919987 7.82936575 7.68852823 7.8608107\n",
      " 7.67840561 7.57252635 7.58342264 7.5715159  7.49181993 7.5322482\n",
      " 7.97471473 7.50702839 7.67136904 7.56152917 7.46948226 7.46211908\n",
      " 7.39060439 7.32388153 7.2386315  7.37255232 7.26857423 7.46167483\n",
      " 7.37338248 7.51982735 7.6398238  7.28205503 7.18300088 7.20701827\n",
      " 7.50341573 7.54836921 7.27364037 7.50750178 7.39335302 7.18739933\n",
      " 7.39655064 7.40429373 7.54000949 7.40005583 7.50630661 7.42796113\n",
      " 7.34882317 7.22433685 7.31092217 7.41462253 7.49038525 7.47316476]\n",
      "[ 4.79202495  6.47641447  6.0299531   7.90100698  6.54459702  6.2748614\n",
      " 10.90614332  7.43677399  7.6887817   8.80412051 10.8005085   7.49378621\n",
      "  8.13757408  7.86425131  7.58831126]\n",
      "41 7.183000883806455\n"
     ]
    }
   ],
   "source": [
    "\n",
    "print(all_MAE.shape)\n",
    "print(all_MAE.mean(axis=0))\n",
    "print(all_MAE.mean(axis=1))\n",
    "print(all_MAE.mean(axis=0).argmin()+1 ,all_MAE.mean(axis=0).min())"
   ]
  },
  {
   "cell_type": "code",
   "execution_count": 12,
   "id": "e80e9406",
   "metadata": {},
   "outputs": [
    {
     "name": "stdout",
     "output_type": "stream",
     "text": [
      "41 7.183000883806455 (60,)\n"
     ]
    }
   ],
   "source": [
    "best_epoch = all_MAE.mean(axis=0).argmin()+1\n",
    "min_error = all_MAE.mean(axis=0).min()\n",
    "mean_errors = all_MAE.mean(axis=0)\n",
    "print(best_epoch,min_error, mean_errors.shape )"
   ]
  },
  {
   "cell_type": "code",
   "execution_count": 13,
   "id": "2f3e55ad",
   "metadata": {},
   "outputs": [
    {
     "data": {
      "text/html": [
       "wandb version 0.12.19 is available!  To upgrade, please run:\n",
       " $ pip install wandb --upgrade"
      ],
      "text/plain": [
       "<IPython.core.display.HTML object>"
      ]
     },
     "metadata": {},
     "output_type": "display_data"
    },
    {
     "data": {
      "text/html": [
       "Tracking run with wandb version 0.12.15"
      ],
      "text/plain": [
       "<IPython.core.display.HTML object>"
      ]
     },
     "metadata": {},
     "output_type": "display_data"
    },
    {
     "data": {
      "text/html": [
       "Run data is saved locally in <code>/project/notebooks/wandb/run-20220627_222336-33g0tpvy</code>"
      ],
      "text/plain": [
       "<IPython.core.display.HTML object>"
      ]
     },
     "metadata": {},
     "output_type": "display_data"
    },
    {
     "data": {
      "text/html": [
       "Syncing run <strong><a href=\"https://wandb.ai/synthesis-ai/51_syn_mode_real_data/runs/33g0tpvy\" target=\"_blank\">lilac-silence-50</a></strong> to <a href=\"https://wandb.ai/synthesis-ai/51_syn_mode_real_data\" target=\"_blank\">Weights & Biases</a> (<a href=\"https://wandb.me/run\" target=\"_blank\">docs</a>)<br/>"
      ],
      "text/plain": [
       "<IPython.core.display.HTML object>"
      ]
     },
     "metadata": {},
     "output_type": "display_data"
    },
    {
     "data": {
      "text/html": [
       "Waiting for W&B process to finish... <strong style=\"color:green\">(success).</strong>"
      ],
      "text/plain": [
       "<IPython.core.display.HTML object>"
      ]
     },
     "metadata": {},
     "output_type": "display_data"
    },
    {
     "data": {
      "application/vnd.jupyter.widget-view+json": {
       "model_id": "",
       "version_major": 2,
       "version_minor": 0
      },
      "text/plain": [
       "VBox(children=(Label(value='0.001 MB of 0.001 MB uploaded (0.000 MB deduped)\\r'), FloatProgress(value=1.0, max…"
      ]
     },
     "metadata": {},
     "output_type": "display_data"
    },
    {
     "data": {
      "text/html": [
       "<style>\n",
       "    table.wandb td:nth-child(1) { padding: 0 10px; text-align: right }\n",
       "    .wandb-row { display: flex; flex-direction: row; flex-wrap: wrap; width: 100% }\n",
       "    .wandb-col { display: flex; flex-direction: column; flex-basis: 100%; flex: 1; padding: 10px; }\n",
       "    </style>\n",
       "<div class=\"wandb-row\"><div class=\"wandb-col\"><h3>Run history:</h3><br/><table class=\"wandb\"><tr><td>mean epoch error (degree)</td><td>█▇▅▃▄▄▄▄▃▃▃▃▃▂▂▂▄▂▂▂▂▁▂▁▂▂▁▁▂▂▂▂▂▂▂▂▂▁▂▂</td></tr></table><br/></div><div class=\"wandb-col\"><h3>Run summary:</h3><br/><table class=\"wandb\"><tr><td>mean epoch error (degree)</td><td>7.47316</td></tr><tr><td>minimum_error (degree)</td><td>7.183</td></tr></table><br/></div></div>"
      ],
      "text/plain": [
       "<IPython.core.display.HTML object>"
      ]
     },
     "metadata": {},
     "output_type": "display_data"
    },
    {
     "data": {
      "text/html": [
       "Synced <strong style=\"color:#cdcd00\">lilac-silence-50</strong>: <a href=\"https://wandb.ai/synthesis-ai/51_syn_mode_real_data/runs/33g0tpvy\" target=\"_blank\">https://wandb.ai/synthesis-ai/51_syn_mode_real_data/runs/33g0tpvy</a><br/>Synced 4 W&B file(s), 0 media file(s), 0 artifact file(s) and 0 other file(s)"
      ],
      "text/plain": [
       "<IPython.core.display.HTML object>"
      ]
     },
     "metadata": {},
     "output_type": "display_data"
    },
    {
     "data": {
      "text/html": [
       "Find logs at: <code>./wandb/run-20220627_222336-33g0tpvy/logs</code>"
      ],
      "text/plain": [
       "<IPython.core.display.HTML object>"
      ]
     },
     "metadata": {},
     "output_type": "display_data"
    }
   ],
   "source": [
    "xx = mean_errors\n",
    "min_error = 100\n",
    "with wandb.init(project=\"51_syn_mode_real_data\") as run:\n",
    "    run.name = \"mean_error_per_epoch\"\n",
    "    for epoch in range(len(xx)):\n",
    "        err = xx[epoch]\n",
    "        if err < min_error:\n",
    "            min_error = err\n",
    "            run.summary[\"minimum_error (degree)\"] = min_error\n",
    "        run.log({f'mean epoch error (degree)':err}, step=epoch)\n",
    "        "
   ]
  },
  {
   "cell_type": "code",
   "execution_count": 41,
   "id": "257cf58e",
   "metadata": {},
   "outputs": [
    {
     "name": "stdout",
     "output_type": "stream",
     "text": [
      "fold   best_epoch error(degree)\n",
      " 0        28         4.164   \n",
      " 1        15         5.675   \n",
      " 2        20         5.499   \n",
      " 3        12         5.931   \n",
      " 4        59         5.573   \n",
      " 5        36         5.969   \n",
      " 6        56         8.927   \n",
      " 7        56         6.521   \n",
      " 8        57         6.756   \n",
      " 9        35         7.391   \n",
      " 10       2          8.515   \n",
      " 11       56         6.589   \n",
      " 12       58         7.173   \n",
      " 13       7          6.623   \n",
      " 14       26         5.989   \n"
     ]
    }
   ],
   "source": [
    "\n",
    "\n",
    "best_epoch = {}\n",
    "best_epoch_error = {}\n",
    "print(f\"fold   best_epoch error(degree)\")\n",
    "for idx, fdata in enumerate(all_MAE):\n",
    "    epoch_min_error = np.argmin(fdata)+1\n",
    "    print(f'{idx:^4} {np.argmin(fdata)+1:^12} {fdata.min():^11.3f}')\n",
    "    best_epoch[idx+1] = epoch_min_error\n",
    "    best_epoch_error[idx+1]=fdata.min()\n"
   ]
  },
  {
   "cell_type": "code",
   "execution_count": 7,
   "id": "77a04070",
   "metadata": {},
   "outputs": [],
   "source": [
    "all_MAE = np.load(save_file)"
   ]
  },
  {
   "cell_type": "code",
   "execution_count": 9,
   "id": "ecb1a779",
   "metadata": {},
   "outputs": [
    {
     "data": {
      "text/plain": [
       "(15, 60)"
      ]
     },
     "execution_count": 9,
     "metadata": {},
     "output_type": "execute_result"
    }
   ],
   "source": [
    "all_MAE.shape"
   ]
  },
  {
   "cell_type": "code",
   "execution_count": 37,
   "id": "23d940e2",
   "metadata": {},
   "outputs": [
    {
     "data": {
      "text/html": [
       "wandb version 0.12.19 is available!  To upgrade, please run:\n",
       " $ pip install wandb --upgrade"
      ],
      "text/plain": [
       "<IPython.core.display.HTML object>"
      ]
     },
     "metadata": {},
     "output_type": "display_data"
    },
    {
     "data": {
      "text/html": [
       "Tracking run with wandb version 0.12.15"
      ],
      "text/plain": [
       "<IPython.core.display.HTML object>"
      ]
     },
     "metadata": {},
     "output_type": "display_data"
    },
    {
     "data": {
      "text/html": [
       "Run data is saved locally in <code>/project/notebooks/wandb/run-20220628_075824-36ozqcyz</code>"
      ],
      "text/plain": [
       "<IPython.core.display.HTML object>"
      ]
     },
     "metadata": {},
     "output_type": "display_data"
    },
    {
     "data": {
      "text/html": [
       "Syncing run <strong><a href=\"https://wandb.ai/synthesis-ai/51_syn_mode_real_data/runs/36ozqcyz\" target=\"_blank\">vague-haze-52</a></strong> to <a href=\"https://wandb.ai/synthesis-ai/51_syn_mode_real_data\" target=\"_blank\">Weights & Biases</a> (<a href=\"https://wandb.me/run\" target=\"_blank\">docs</a>)<br/>"
      ],
      "text/plain": [
       "<IPython.core.display.HTML object>"
      ]
     },
     "metadata": {},
     "output_type": "display_data"
    },
    {
     "data": {
      "text/html": [
       "Waiting for W&B process to finish... <strong style=\"color:green\">(success).</strong>"
      ],
      "text/plain": [
       "<IPython.core.display.HTML object>"
      ]
     },
     "metadata": {},
     "output_type": "display_data"
    },
    {
     "data": {
      "application/vnd.jupyter.widget-view+json": {
       "model_id": "",
       "version_major": 2,
       "version_minor": 0
      },
      "text/plain": [
       "VBox(children=(Label(value='0.015 MB of 0.015 MB uploaded (0.000 MB deduped)\\r'), FloatProgress(value=1.0, max…"
      ]
     },
     "metadata": {},
     "output_type": "display_data"
    },
    {
     "data": {
      "text/html": [
       "Synced <strong style=\"color:#cdcd00\">vague-haze-52</strong>: <a href=\"https://wandb.ai/synthesis-ai/51_syn_mode_real_data/runs/36ozqcyz\" target=\"_blank\">https://wandb.ai/synthesis-ai/51_syn_mode_real_data/runs/36ozqcyz</a><br/>Synced 4 W&B file(s), 1 media file(s), 0 artifact file(s) and 0 other file(s)"
      ],
      "text/plain": [
       "<IPython.core.display.HTML object>"
      ]
     },
     "metadata": {},
     "output_type": "display_data"
    },
    {
     "data": {
      "text/html": [
       "Find logs at: <code>./wandb/run-20220628_075824-36ozqcyz/logs</code>"
      ],
      "text/plain": [
       "<IPython.core.display.HTML object>"
      ]
     },
     "metadata": {},
     "output_type": "display_data"
    },
    {
     "data": {
      "image/png": "[encoded data removed]",
      "text/plain": [
       "<Figure size 432x288 with 1 Axes>"
      ]
     },
     "metadata": {
      "needs_background": "light"
     },
     "output_type": "display_data"
    }
   ],
   "source": [
    "plt.plot(all_MAE.min(axis=1))\n",
    "plt.title('distribution of error over fold')\n",
    "plt.xlabel('fold')\n",
    "plt.ylabel('error(degree)')\n",
    "with wandb.init(project=\"51_syn_mode_real_data\") as run:\n",
    "    run.log({'data':wandb.Image(plt)})"
   ]
  }
 ],
 "metadata": {
  "kernelspec": {
   "display_name": "Python 3 (ipykernel)",
   "language": "python",
   "name": "python3"
  },
  "language_info": {
   "codemirror_mode": {
    "name": "ipython",
    "version": 3
   },
   "file_extension": ".py",
   "mimetype": "text/x-python",
   "name": "python",
   "nbconvert_exporter": "python",
   "pygments_lexer": "ipython3",
   "version": "3.8.10"
  }
 },
 "nbformat": 4,
 "nbformat_minor": 5
}
