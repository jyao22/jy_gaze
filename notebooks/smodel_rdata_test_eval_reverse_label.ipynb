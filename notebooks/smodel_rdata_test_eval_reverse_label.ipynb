{
 "cells": [
  {
   "cell_type": "code",
   "execution_count": 1,
   "id": "662efc9c",
   "metadata": {},
   "outputs": [],
   "source": [
    "import os, argparse\n",
    "import numpy as np\n",
    "import matplotlib.pyplot as plt\n",
    "from datetime import datetime\n",
    "from pytz import timezone\n",
    "import torch\n",
    "import torch.nn as nn\n",
    "from torch.autograd import Variable\n",
    "from torch.utils.data import DataLoader\n",
    "from torchvision import transforms\n",
    "import torch.backends.cudnn as cudnn\n",
    "import torchvision\n",
    "import wandb\n",
    "\n",
    "import datasets\n",
    "# from utils import select_device, natural_keys, gazeto3d, angular, getArch\n",
    "from utils import select_device, natural_keys, gazeto3d, angular, getArch\n",
    "from model import L2CS"
   ]
  },
  {
   "cell_type": "code",
   "execution_count": 2,
   "id": "a4662630",
   "metadata": {},
   "outputs": [],
   "source": [
    "# wandb.init(project=\"smode_rdata_reverse_label\")"
   ]
  },
  {
   "cell_type": "code",
   "execution_count": 3,
   "id": "abd3bfac",
   "metadata": {},
   "outputs": [],
   "source": [
    "# # check if we have the correct number of checkpoint files \n",
    "# ppath ='/project/results/soutput/snapshots/' \n",
    "# for fold in range(15):\n",
    "#     foldstr = f\"fold{fold:0>2}\"\n",
    "#     cpath =os.path.join(ppath, foldstr)\n",
    "#     files = os.listdir(cpath)\n",
    "#     print(len(files), end=\" \")"
   ]
  },
  {
   "cell_type": "code",
   "execution_count": 3,
   "id": "f1b3b505",
   "metadata": {},
   "outputs": [
    {
     "data": {
      "text/plain": [
       "[0, 1, 2, 3, 4]"
      ]
     },
     "execution_count": 3,
     "metadata": {},
     "output_type": "execute_result"
    }
   ],
   "source": [
    "list(range(5))"
   ]
  },
  {
   "cell_type": "code",
   "execution_count": 4,
   "id": "ed29c578",
   "metadata": {},
   "outputs": [],
   "source": [
    "\n",
    "args = argparse.Namespace()\n",
    "args.gazeMpiimage_dir = '/project/data/Image'  #real data \n",
    "args.gazeMpiilabel_dir = '/project/data/Label'  #real label\n",
    "args.output = '/project/results/soutput/snapshots/'\n",
    "args.dataset = 'mpiigaze'\n",
    "args.snapshot='/project/results/soutput/snapshots/'\n",
    "args.evalpath = '/project/results/sroutput/evaluation/'\n",
    "args.gpu_id = '0,1,2,3'\n",
    "args.gpu_id = '0'\n",
    "args.batch_size = 20\n",
    "args.arch = 'ResNet50'\n",
    "args.bins=28\n",
    "args.angle = 180\n",
    "args.bin_width = 4\n"
   ]
  },
  {
   "cell_type": "code",
   "execution_count": 5,
   "id": "d0e11321",
   "metadata": {},
   "outputs": [],
   "source": [
    "batch_size=args.batch_size\n",
    "arch=args.arch\n",
    "data_set=args.dataset\n",
    "evalpath =args.evalpath\n",
    "snapshot_path = args.snapshot\n",
    "bins=args.bins\n",
    "angle=args.angle\n",
    "bin_width=args.bin_width"
   ]
  },
  {
   "cell_type": "code",
   "execution_count": 6,
   "id": "0504fda4",
   "metadata": {},
   "outputs": [],
   "source": [
    "# args = parse_args()\n",
    "cudnn.enabled = True\n",
    "gpu = select_device(args.gpu_id, batch_size=args.batch_size)\n",
    "transformations = transforms.Compose([\n",
    "    transforms.Resize(448),\n",
    "    transforms.ToTensor(),\n",
    "    transforms.Normalize(\n",
    "        mean=[0.485, 0.456, 0.406],\n",
    "        std=[0.229, 0.224, 0.225]\n",
    "    )\n",
    "])\n",
    "\n",
    "model_used=getArch(arch, bins)  #resnet50 and 28 bins"
   ]
  },
  {
   "cell_type": "code",
   "execution_count": 7,
   "id": "238ef93e",
   "metadata": {},
   "outputs": [],
   "source": [
    "# fold=2\n",
    "# folder = os.listdir(os.path.join(snapshot_path, \"fold\" + f'{fold:0>2}'))\n",
    "# folder.sort(key=natural_keys)\n",
    "# folder.pop(-1)  #remove the tensorboard file\n",
    "# # print(folder)\n",
    "# epochs = folder[3]\n",
    "# os.path.join(snapshot_path+\"fold\"+f'{fold:0>2}', epochs)"
   ]
  },
  {
   "cell_type": "code",
   "execution_count": null,
   "id": "03b27088",
   "metadata": {},
   "outputs": [],
   "source": []
  },
  {
   "cell_type": "code",
   "execution_count": 8,
   "id": "12438eb5",
   "metadata": {},
   "outputs": [],
   "source": [
    "# print(evalpath, snapshot_path)"
   ]
  },
  {
   "cell_type": "code",
   "execution_count": 9,
   "id": "6d9f4709",
   "metadata": {},
   "outputs": [],
   "source": [
    "# print(data_set)"
   ]
  },
  {
   "cell_type": "code",
   "execution_count": 10,
   "id": "f0cf2212",
   "metadata": {},
   "outputs": [
    {
     "name": "stderr",
     "output_type": "stream",
     "text": [
      "\u001b[34m\u001b[1mwandb\u001b[0m: Currently logged in as: \u001b[33msynthesis-ai\u001b[0m (use `wandb login --relogin` to force relogin)\n"
     ]
    },
    {
     "data": {
      "text/html": [
       "wandb version 0.12.18 is available!  To upgrade, please run:\n",
       " $ pip install wandb --upgrade"
      ],
      "text/plain": [
       "<IPython.core.display.HTML object>"
      ]
     },
     "metadata": {},
     "output_type": "display_data"
    },
    {
     "data": {
      "text/html": [
       "Tracking run with wandb version 0.12.15"
      ],
      "text/plain": [
       "<IPython.core.display.HTML object>"
      ]
     },
     "metadata": {},
     "output_type": "display_data"
    },
    {
     "data": {
      "text/html": [
       "Run data is saved locally in <code>/project/notebooks/wandb/run-20220621_040552-nrhfgw21</code>"
      ],
      "text/plain": [
       "<IPython.core.display.HTML object>"
      ]
     },
     "metadata": {},
     "output_type": "display_data"
    },
    {
     "data": {
      "text/html": [
       "Syncing run <strong><a href=\"https://wandb.ai/synthesis-ai/smode_rdata_reverse_label/runs/nrhfgw21\" target=\"_blank\">laced-water-5</a></strong> to <a href=\"https://wandb.ai/synthesis-ai/smode_rdata_reverse_label\" target=\"_blank\">Weights & Biases</a> (<a href=\"https://wandb.me/run\" target=\"_blank\">docs</a>)<br/>"
      ],
      "text/plain": [
       "<IPython.core.display.HTML object>"
      ]
     },
     "metadata": {},
     "output_type": "display_data"
    },
    {
     "name": "stdout",
     "output_type": "stream",
     "text": [
      "fold=0\n",
      "/project/data/Label\n",
      "0 items removed from dataset that have an angle > 180\n",
      "\n",
      "test configuration equal gpu_id=cuda:0, batch_size=20, model_arch=ResNet50\n",
      "Start testing dataset=mpiigaze, FOLD=0 --06/20/2022 21:05:55---------\n",
      "entering epoch=epoch_1.pkl\n",
      "[epoch_1.pkl---mpiigaze] Total Num:3000,MAE:13.96576477015002\n",
      "entering epoch=epoch_2.pkl\n",
      "[epoch_2.pkl---mpiigaze] Total Num:3000,MAE:13.310476886626795\n",
      "entering epoch=epoch_3.pkl\n",
      "[epoch_3.pkl---mpiigaze] Total Num:3000,MAE:13.964950913253988\n",
      "entering epoch=epoch_4.pkl\n",
      "[epoch_4.pkl---mpiigaze] Total Num:3000,MAE:13.938010759117995\n",
      "entering epoch=epoch_5.pkl\n",
      "[epoch_5.pkl---mpiigaze] Total Num:3000,MAE:13.047713832480746\n",
      "entering epoch=epoch_6.pkl\n",
      "[epoch_6.pkl---mpiigaze] Total Num:3000,MAE:12.701151995302485\n",
      "entering epoch=epoch_7.pkl\n",
      "[epoch_7.pkl---mpiigaze] Total Num:3000,MAE:12.697705981177705\n",
      "entering epoch=epoch_8.pkl\n",
      "[epoch_8.pkl---mpiigaze] Total Num:3000,MAE:13.714712629553418\n",
      "entering epoch=epoch_9.pkl\n",
      "[epoch_9.pkl---mpiigaze] Total Num:3000,MAE:12.81540426447044\n",
      "entering epoch=epoch_10.pkl\n",
      "[epoch_10.pkl---mpiigaze] Total Num:3000,MAE:13.260283160203151\n",
      "entering epoch=epoch_11.pkl\n",
      "[epoch_11.pkl---mpiigaze] Total Num:3000,MAE:13.941974588568945\n",
      "entering epoch=epoch_12.pkl\n",
      "[epoch_12.pkl---mpiigaze] Total Num:3000,MAE:13.619629835892683\n",
      "entering epoch=epoch_13.pkl\n",
      "[epoch_13.pkl---mpiigaze] Total Num:3000,MAE:12.753899080797712\n",
      "entering epoch=epoch_14.pkl\n",
      "[epoch_14.pkl---mpiigaze] Total Num:3000,MAE:13.238229137907384\n",
      "entering epoch=epoch_15.pkl\n",
      "[epoch_15.pkl---mpiigaze] Total Num:3000,MAE:12.507904497450761\n",
      "entering epoch=epoch_16.pkl\n",
      "[epoch_16.pkl---mpiigaze] Total Num:3000,MAE:13.155326818142033\n",
      "entering epoch=epoch_17.pkl\n",
      "[epoch_17.pkl---mpiigaze] Total Num:3000,MAE:13.586905413067017\n",
      "entering epoch=epoch_18.pkl\n",
      "[epoch_18.pkl---mpiigaze] Total Num:3000,MAE:13.530029523415724\n",
      "entering epoch=epoch_19.pkl\n",
      "[epoch_19.pkl---mpiigaze] Total Num:3000,MAE:13.545754121355975\n",
      "entering epoch=epoch_20.pkl\n",
      "[epoch_20.pkl---mpiigaze] Total Num:3000,MAE:13.503233960094542\n",
      "entering epoch=epoch_21.pkl\n",
      "[epoch_21.pkl---mpiigaze] Total Num:3000,MAE:13.60214855410733\n",
      "entering epoch=epoch_22.pkl\n",
      "[epoch_22.pkl---mpiigaze] Total Num:3000,MAE:13.33705633163344\n",
      "entering epoch=epoch_23.pkl\n",
      "[epoch_23.pkl---mpiigaze] Total Num:3000,MAE:13.112049201512525\n",
      "entering epoch=epoch_24.pkl\n",
      "[epoch_24.pkl---mpiigaze] Total Num:3000,MAE:13.321175511555433\n",
      "entering epoch=epoch_25.pkl\n",
      "[epoch_25.pkl---mpiigaze] Total Num:3000,MAE:13.57864304875995\n",
      "entering epoch=epoch_26.pkl\n",
      "[epoch_26.pkl---mpiigaze] Total Num:3000,MAE:12.869688875095541\n",
      "entering epoch=epoch_27.pkl\n",
      "[epoch_27.pkl---mpiigaze] Total Num:3000,MAE:13.116768373532134\n",
      "entering epoch=epoch_28.pkl\n",
      "[epoch_28.pkl---mpiigaze] Total Num:3000,MAE:13.10894066945396\n",
      "entering epoch=epoch_29.pkl\n",
      "[epoch_29.pkl---mpiigaze] Total Num:3000,MAE:13.159443976889115\n",
      "entering epoch=epoch_30.pkl\n",
      "[epoch_30.pkl---mpiigaze] Total Num:3000,MAE:13.531797274777288\n",
      "entering epoch=epoch_31.pkl\n",
      "[epoch_31.pkl---mpiigaze] Total Num:3000,MAE:13.44719409056315\n",
      "entering epoch=epoch_32.pkl\n",
      "[epoch_32.pkl---mpiigaze] Total Num:3000,MAE:13.91533377828834\n",
      "entering epoch=epoch_33.pkl\n",
      "[epoch_33.pkl---mpiigaze] Total Num:3000,MAE:13.453213715140715\n",
      "entering epoch=epoch_34.pkl\n",
      "[epoch_34.pkl---mpiigaze] Total Num:3000,MAE:13.331104879342856\n",
      "entering epoch=epoch_35.pkl\n",
      "[epoch_35.pkl---mpiigaze] Total Num:3000,MAE:13.370361035448036\n",
      "entering epoch=epoch_36.pkl\n",
      "[epoch_36.pkl---mpiigaze] Total Num:3000,MAE:13.270272054122378\n",
      "entering epoch=epoch_37.pkl\n",
      "[epoch_37.pkl---mpiigaze] Total Num:3000,MAE:13.26142635086822\n",
      "entering epoch=epoch_38.pkl\n",
      "[epoch_38.pkl---mpiigaze] Total Num:3000,MAE:13.141410404790776\n",
      "entering epoch=epoch_39.pkl\n",
      "[epoch_39.pkl---mpiigaze] Total Num:3000,MAE:13.625135125902329\n",
      "entering epoch=epoch_40.pkl\n",
      "[epoch_40.pkl---mpiigaze] Total Num:3000,MAE:13.265272893231941\n",
      "entering epoch=epoch_41.pkl\n",
      "[epoch_41.pkl---mpiigaze] Total Num:3000,MAE:13.415971342278812\n",
      "entering epoch=epoch_42.pkl\n",
      "[epoch_42.pkl---mpiigaze] Total Num:3000,MAE:13.457687206146433\n",
      "entering epoch=epoch_43.pkl\n",
      "[epoch_43.pkl---mpiigaze] Total Num:3000,MAE:13.171170878659371\n",
      "entering epoch=epoch_44.pkl\n",
      "[epoch_44.pkl---mpiigaze] Total Num:3000,MAE:13.326393296095114\n",
      "entering epoch=epoch_45.pkl\n",
      "[epoch_45.pkl---mpiigaze] Total Num:3000,MAE:13.22715637737124\n",
      "entering epoch=epoch_46.pkl\n",
      "[epoch_46.pkl---mpiigaze] Total Num:3000,MAE:13.140135372366672\n",
      "entering epoch=epoch_47.pkl\n",
      "[epoch_47.pkl---mpiigaze] Total Num:3000,MAE:13.721016395386973\n",
      "entering epoch=epoch_48.pkl\n",
      "[epoch_48.pkl---mpiigaze] Total Num:3000,MAE:13.408840206597095\n",
      "entering epoch=epoch_49.pkl\n",
      "[epoch_49.pkl---mpiigaze] Total Num:3000,MAE:14.039260141283707\n",
      "entering epoch=epoch_50.pkl\n",
      "[epoch_50.pkl---mpiigaze] Total Num:3000,MAE:13.680354781340942\n",
      "entering epoch=epoch_51.pkl\n",
      "[epoch_51.pkl---mpiigaze] Total Num:3000,MAE:13.540099748966897\n",
      "entering epoch=epoch_52.pkl\n",
      "[epoch_52.pkl---mpiigaze] Total Num:3000,MAE:13.304932088180466\n",
      "entering epoch=epoch_53.pkl\n",
      "[epoch_53.pkl---mpiigaze] Total Num:3000,MAE:13.611382893841823\n",
      "entering epoch=epoch_54.pkl\n",
      "[epoch_54.pkl---mpiigaze] Total Num:3000,MAE:13.367300005411492\n",
      "entering epoch=epoch_55.pkl\n",
      "[epoch_55.pkl---mpiigaze] Total Num:3000,MAE:13.835514537573617\n",
      "entering epoch=epoch_56.pkl\n",
      "[epoch_56.pkl---mpiigaze] Total Num:3000,MAE:13.331226987042625\n",
      "entering epoch=epoch_57.pkl\n",
      "[epoch_57.pkl---mpiigaze] Total Num:3000,MAE:12.90513549869353\n",
      "entering epoch=epoch_58.pkl\n",
      "[epoch_58.pkl---mpiigaze] Total Num:3000,MAE:13.416237232362061\n",
      "entering epoch=epoch_59.pkl\n",
      "[epoch_59.pkl---mpiigaze] Total Num:3000,MAE:13.110898423215595\n",
      "entering epoch=epoch_60.pkl\n",
      "[epoch_60.pkl---mpiigaze] Total Num:3000,MAE:13.353781351550465\n"
     ]
    },
    {
     "data": {
      "text/html": [
       "Waiting for W&B process to finish... <strong style=\"color:green\">(success).</strong>"
      ],
      "text/plain": [
       "<IPython.core.display.HTML object>"
      ]
     },
     "metadata": {},
     "output_type": "display_data"
    },
    {
     "data": {
      "application/vnd.jupyter.widget-view+json": {
       "model_id": "",
       "version_major": 2,
       "version_minor": 0
      },
      "text/plain": [
       "VBox(children=(Label(value='0.001 MB of 0.001 MB uploaded (0.000 MB deduped)\\r'), FloatProgress(value=1.0, max…"
      ]
     },
     "metadata": {},
     "output_type": "display_data"
    },
    {
     "data": {
      "text/html": [
       "<style>\n",
       "    table.wandb td:nth-child(1) { padding: 0 10px; text-align: right }\n",
       "    .wandb-row { display: flex; flex-direction: row; flex-wrap: wrap; width: 100% }\n",
       "    .wandb-col { display: flex; flex-direction: column; flex-basis: 100%; flex: 1; padding: 10px; }\n",
       "    </style>\n",
       "<div class=\"wandb-row\"><div class=\"wandb-col\"><h3>Run history:</h3><br/><table class=\"wandb\"><tr><td>fold_0_mean_mae</td><td>█▄▇▃▁▆▄▇▁▄▃▆▅▅▄▃▆▂▃▃▅▇▄▅▄▃▄▅▃▄▃▆█▆▄▆▇▄▅▄</td></tr></table><br/></div><div class=\"wandb-col\"><h3>Run summary:</h3><br/><table class=\"wandb\"><tr><td>epoch</td><td>epoch_60.pkl</td></tr><tr><td>fold_0_mean_mae</td><td>13.35378</td></tr></table><br/></div></div>"
      ],
      "text/plain": [
       "<IPython.core.display.HTML object>"
      ]
     },
     "metadata": {},
     "output_type": "display_data"
    },
    {
     "data": {
      "text/html": [
       "Synced <strong style=\"color:#cdcd00\">laced-water-5</strong>: <a href=\"https://wandb.ai/synthesis-ai/smode_rdata_reverse_label/runs/nrhfgw21\" target=\"_blank\">https://wandb.ai/synthesis-ai/smode_rdata_reverse_label/runs/nrhfgw21</a><br/>Synced 5 W&B file(s), 0 media file(s), 0 artifact file(s) and 0 other file(s)"
      ],
      "text/plain": [
       "<IPython.core.display.HTML object>"
      ]
     },
     "metadata": {},
     "output_type": "display_data"
    },
    {
     "data": {
      "text/html": [
       "Find logs at: <code>./wandb/run-20220621_040552-nrhfgw21/logs</code>"
      ],
      "text/plain": [
       "<IPython.core.display.HTML object>"
      ]
     },
     "metadata": {},
     "output_type": "display_data"
    },
    {
     "data": {
      "text/html": [
       "wandb version 0.12.18 is available!  To upgrade, please run:\n",
       " $ pip install wandb --upgrade"
      ],
      "text/plain": [
       "<IPython.core.display.HTML object>"
      ]
     },
     "metadata": {},
     "output_type": "display_data"
    },
    {
     "data": {
      "text/html": [
       "Tracking run with wandb version 0.12.15"
      ],
      "text/plain": [
       "<IPython.core.display.HTML object>"
      ]
     },
     "metadata": {},
     "output_type": "display_data"
    },
    {
     "data": {
      "text/html": [
       "Run data is saved locally in <code>/project/notebooks/wandb/run-20220621_042017-3io0if64</code>"
      ],
      "text/plain": [
       "<IPython.core.display.HTML object>"
      ]
     },
     "metadata": {},
     "output_type": "display_data"
    },
    {
     "data": {
      "text/html": [
       "Syncing run <strong><a href=\"https://wandb.ai/synthesis-ai/smode_rdata_reverse_label/runs/3io0if64\" target=\"_blank\">atomic-dust-6</a></strong> to <a href=\"https://wandb.ai/synthesis-ai/smode_rdata_reverse_label\" target=\"_blank\">Weights & Biases</a> (<a href=\"https://wandb.me/run\" target=\"_blank\">docs</a>)<br/>"
      ],
      "text/plain": [
       "<IPython.core.display.HTML object>"
      ]
     },
     "metadata": {},
     "output_type": "display_data"
    },
    {
     "name": "stdout",
     "output_type": "stream",
     "text": [
      "fold=1\n",
      "/project/data/Label\n",
      "0 items removed from dataset that have an angle > 180\n",
      "\n",
      "test configuration equal gpu_id=cuda:0, batch_size=20, model_arch=ResNet50\n",
      "Start testing dataset=mpiigaze, FOLD=1 --06/20/2022 21:20:20---------\n",
      "entering epoch=epoch_1.pkl\n",
      "[epoch_1.pkl---mpiigaze] Total Num:3000,MAE:12.313656857753333\n",
      "entering epoch=epoch_2.pkl\n",
      "[epoch_2.pkl---mpiigaze] Total Num:3000,MAE:11.901546817312619\n",
      "entering epoch=epoch_3.pkl\n",
      "[epoch_3.pkl---mpiigaze] Total Num:3000,MAE:11.141222875901208\n",
      "entering epoch=epoch_4.pkl\n",
      "[epoch_4.pkl---mpiigaze] Total Num:3000,MAE:10.968451740481804\n",
      "entering epoch=epoch_5.pkl\n",
      "[epoch_5.pkl---mpiigaze] Total Num:3000,MAE:10.783773419285248\n",
      "entering epoch=epoch_6.pkl\n",
      "[epoch_6.pkl---mpiigaze] Total Num:3000,MAE:10.868463089685612\n",
      "entering epoch=epoch_7.pkl\n",
      "[epoch_7.pkl---mpiigaze] Total Num:3000,MAE:10.667637538264225\n",
      "entering epoch=epoch_8.pkl\n",
      "[epoch_8.pkl---mpiigaze] Total Num:3000,MAE:14.180968262555458\n",
      "entering epoch=epoch_9.pkl\n",
      "[epoch_9.pkl---mpiigaze] Total Num:3000,MAE:11.524203018893383\n",
      "entering epoch=epoch_10.pkl\n",
      "[epoch_10.pkl---mpiigaze] Total Num:3000,MAE:11.704333208569201\n",
      "entering epoch=epoch_11.pkl\n",
      "[epoch_11.pkl---mpiigaze] Total Num:3000,MAE:11.314012616059653\n",
      "entering epoch=epoch_12.pkl\n",
      "[epoch_12.pkl---mpiigaze] Total Num:3000,MAE:11.30355991415242\n",
      "entering epoch=epoch_13.pkl\n",
      "[epoch_13.pkl---mpiigaze] Total Num:3000,MAE:12.396232346759463\n",
      "entering epoch=epoch_14.pkl\n",
      "[epoch_14.pkl---mpiigaze] Total Num:3000,MAE:11.642089360979037\n",
      "entering epoch=epoch_15.pkl\n",
      "[epoch_15.pkl---mpiigaze] Total Num:3000,MAE:11.592712182214091\n",
      "entering epoch=epoch_16.pkl\n",
      "[epoch_16.pkl---mpiigaze] Total Num:3000,MAE:12.601866899439315\n",
      "entering epoch=epoch_17.pkl\n",
      "[epoch_17.pkl---mpiigaze] Total Num:3000,MAE:11.341789359135621\n",
      "entering epoch=epoch_18.pkl\n",
      "[epoch_18.pkl---mpiigaze] Total Num:3000,MAE:11.880984467547915\n",
      "entering epoch=epoch_19.pkl\n",
      "[epoch_19.pkl---mpiigaze] Total Num:3000,MAE:12.269039580345972\n",
      "entering epoch=epoch_20.pkl\n",
      "[epoch_20.pkl---mpiigaze] Total Num:3000,MAE:11.140274267519679\n",
      "entering epoch=epoch_21.pkl\n",
      "[epoch_21.pkl---mpiigaze] Total Num:3000,MAE:11.495029155109131\n",
      "entering epoch=epoch_22.pkl\n",
      "[epoch_22.pkl---mpiigaze] Total Num:3000,MAE:11.99325871623677\n",
      "entering epoch=epoch_23.pkl\n",
      "[epoch_23.pkl---mpiigaze] Total Num:3000,MAE:12.361065083346991\n",
      "entering epoch=epoch_24.pkl\n",
      "[epoch_24.pkl---mpiigaze] Total Num:3000,MAE:12.443422614327627\n",
      "entering epoch=epoch_25.pkl\n",
      "[epoch_25.pkl---mpiigaze] Total Num:3000,MAE:12.219744453476943\n",
      "entering epoch=epoch_26.pkl\n",
      "[epoch_26.pkl---mpiigaze] Total Num:3000,MAE:12.470472909940414\n",
      "entering epoch=epoch_27.pkl\n",
      "[epoch_27.pkl---mpiigaze] Total Num:3000,MAE:12.667021065067525\n",
      "entering epoch=epoch_28.pkl\n",
      "[epoch_28.pkl---mpiigaze] Total Num:3000,MAE:12.525552246106107\n",
      "entering epoch=epoch_29.pkl\n",
      "[epoch_29.pkl---mpiigaze] Total Num:3000,MAE:12.319937061646511\n",
      "entering epoch=epoch_30.pkl\n",
      "[epoch_30.pkl---mpiigaze] Total Num:3000,MAE:13.267670324544202\n",
      "entering epoch=epoch_31.pkl\n",
      "[epoch_31.pkl---mpiigaze] Total Num:3000,MAE:12.572314475529634\n",
      "entering epoch=epoch_32.pkl\n",
      "[epoch_32.pkl---mpiigaze] Total Num:3000,MAE:13.166079413527271\n",
      "entering epoch=epoch_33.pkl\n",
      "[epoch_33.pkl---mpiigaze] Total Num:3000,MAE:12.945796813020925\n",
      "entering epoch=epoch_34.pkl\n",
      "[epoch_34.pkl---mpiigaze] Total Num:3000,MAE:12.475418304092292\n",
      "entering epoch=epoch_35.pkl\n",
      "[epoch_35.pkl---mpiigaze] Total Num:3000,MAE:12.063085345284872\n",
      "entering epoch=epoch_36.pkl\n",
      "[epoch_36.pkl---mpiigaze] Total Num:3000,MAE:13.661911198221778\n",
      "entering epoch=epoch_37.pkl\n",
      "[epoch_37.pkl---mpiigaze] Total Num:3000,MAE:12.656170323309237\n",
      "entering epoch=epoch_38.pkl\n",
      "[epoch_38.pkl---mpiigaze] Total Num:3000,MAE:12.302184630329815\n",
      "entering epoch=epoch_39.pkl\n",
      "[epoch_39.pkl---mpiigaze] Total Num:3000,MAE:12.833857167732441\n",
      "entering epoch=epoch_40.pkl\n",
      "[epoch_40.pkl---mpiigaze] Total Num:3000,MAE:12.782668427506845\n",
      "entering epoch=epoch_41.pkl\n",
      "[epoch_41.pkl---mpiigaze] Total Num:3000,MAE:12.528315243240826\n",
      "entering epoch=epoch_42.pkl\n",
      "[epoch_42.pkl---mpiigaze] Total Num:3000,MAE:13.528603275960968\n",
      "entering epoch=epoch_43.pkl\n",
      "[epoch_43.pkl---mpiigaze] Total Num:3000,MAE:13.346865133012612\n",
      "entering epoch=epoch_44.pkl\n",
      "[epoch_44.pkl---mpiigaze] Total Num:3000,MAE:13.413585831852686\n",
      "entering epoch=epoch_45.pkl\n",
      "[epoch_45.pkl---mpiigaze] Total Num:3000,MAE:13.614334813142484\n",
      "entering epoch=epoch_46.pkl\n",
      "[epoch_46.pkl---mpiigaze] Total Num:3000,MAE:13.074439279211347\n",
      "entering epoch=epoch_47.pkl\n",
      "[epoch_47.pkl---mpiigaze] Total Num:3000,MAE:14.36953537573375\n",
      "entering epoch=epoch_48.pkl\n",
      "[epoch_48.pkl---mpiigaze] Total Num:3000,MAE:13.312857561623872\n",
      "entering epoch=epoch_49.pkl\n",
      "[epoch_49.pkl---mpiigaze] Total Num:3000,MAE:13.248739523604637\n",
      "entering epoch=epoch_50.pkl\n",
      "[epoch_50.pkl---mpiigaze] Total Num:3000,MAE:13.576089233532462\n",
      "entering epoch=epoch_51.pkl\n",
      "[epoch_51.pkl---mpiigaze] Total Num:3000,MAE:13.2108685528637\n",
      "entering epoch=epoch_52.pkl\n",
      "[epoch_52.pkl---mpiigaze] Total Num:3000,MAE:13.983961196055079\n",
      "entering epoch=epoch_53.pkl\n",
      "[epoch_53.pkl---mpiigaze] Total Num:3000,MAE:12.803160236282022\n",
      "entering epoch=epoch_54.pkl\n",
      "[epoch_54.pkl---mpiigaze] Total Num:3000,MAE:13.711729414423669\n",
      "entering epoch=epoch_55.pkl\n",
      "[epoch_55.pkl---mpiigaze] Total Num:3000,MAE:13.647586232433724\n",
      "entering epoch=epoch_56.pkl\n",
      "[epoch_56.pkl---mpiigaze] Total Num:3000,MAE:14.384945841592115\n",
      "entering epoch=epoch_57.pkl\n",
      "[epoch_57.pkl---mpiigaze] Total Num:3000,MAE:13.97466975639496\n",
      "entering epoch=epoch_58.pkl\n",
      "[epoch_58.pkl---mpiigaze] Total Num:3000,MAE:13.65901659546671\n",
      "entering epoch=epoch_59.pkl\n",
      "[epoch_59.pkl---mpiigaze] Total Num:3000,MAE:14.103753241766373\n",
      "entering epoch=epoch_60.pkl\n",
      "[epoch_60.pkl---mpiigaze] Total Num:3000,MAE:13.118273951535743\n"
     ]
    },
    {
     "data": {
      "text/html": [
       "Waiting for W&B process to finish... <strong style=\"color:green\">(success).</strong>"
      ],
      "text/plain": [
       "<IPython.core.display.HTML object>"
      ]
     },
     "metadata": {},
     "output_type": "display_data"
    },
    {
     "data": {
      "application/vnd.jupyter.widget-view+json": {
       "model_id": "",
       "version_major": 2,
       "version_minor": 0
      },
      "text/plain": [
       "VBox(children=(Label(value='0.001 MB of 0.001 MB uploaded (0.000 MB deduped)\\r'), FloatProgress(value=1.0, max…"
      ]
     },
     "metadata": {},
     "output_type": "display_data"
    },
    {
     "data": {
      "text/html": [
       "<style>\n",
       "    table.wandb td:nth-child(1) { padding: 0 10px; text-align: right }\n",
       "    .wandb-row { display: flex; flex-direction: row; flex-wrap: wrap; width: 100% }\n",
       "    .wandb-col { display: flex; flex-direction: column; flex-basis: 100%; flex: 1; padding: 10px; }\n",
       "    </style>\n",
       "<div class=\"wandb-row\"><div class=\"wandb-col\"><h3>Run history:</h3><br/><table class=\"wandb\"><tr><td>fold_1_mean_mae</td><td>▄▃▂▁▁█▃▂▄▃▅▂▄▂▃▄▄▄▄▄▅▆▄▄▅▄▅▅▆▆▆█▆▆▇▅▇█▇▆</td></tr></table><br/></div><div class=\"wandb-col\"><h3>Run summary:</h3><br/><table class=\"wandb\"><tr><td>epoch</td><td>epoch_60.pkl</td></tr><tr><td>fold_1_mean_mae</td><td>13.11827</td></tr></table><br/></div></div>"
      ],
      "text/plain": [
       "<IPython.core.display.HTML object>"
      ]
     },
     "metadata": {},
     "output_type": "display_data"
    },
    {
     "data": {
      "text/html": [
       "Synced <strong style=\"color:#cdcd00\">atomic-dust-6</strong>: <a href=\"https://wandb.ai/synthesis-ai/smode_rdata_reverse_label/runs/3io0if64\" target=\"_blank\">https://wandb.ai/synthesis-ai/smode_rdata_reverse_label/runs/3io0if64</a><br/>Synced 5 W&B file(s), 0 media file(s), 0 artifact file(s) and 0 other file(s)"
      ],
      "text/plain": [
       "<IPython.core.display.HTML object>"
      ]
     },
     "metadata": {},
     "output_type": "display_data"
    },
    {
     "data": {
      "text/html": [
       "Find logs at: <code>./wandb/run-20220621_042017-3io0if64/logs</code>"
      ],
      "text/plain": [
       "<IPython.core.display.HTML object>"
      ]
     },
     "metadata": {},
     "output_type": "display_data"
    },
    {
     "data": {
      "text/html": [
       "wandb version 0.12.18 is available!  To upgrade, please run:\n",
       " $ pip install wandb --upgrade"
      ],
      "text/plain": [
       "<IPython.core.display.HTML object>"
      ]
     },
     "metadata": {},
     "output_type": "display_data"
    },
    {
     "data": {
      "text/html": [
       "Tracking run with wandb version 0.12.15"
      ],
      "text/plain": [
       "<IPython.core.display.HTML object>"
      ]
     },
     "metadata": {},
     "output_type": "display_data"
    },
    {
     "data": {
      "text/html": [
       "Run data is saved locally in <code>/project/notebooks/wandb/run-20220621_043446-rw4m5z7w</code>"
      ],
      "text/plain": [
       "<IPython.core.display.HTML object>"
      ]
     },
     "metadata": {},
     "output_type": "display_data"
    },
    {
     "data": {
      "text/html": [
       "Syncing run <strong><a href=\"https://wandb.ai/synthesis-ai/smode_rdata_reverse_label/runs/rw4m5z7w\" target=\"_blank\">vibrant-serenity-7</a></strong> to <a href=\"https://wandb.ai/synthesis-ai/smode_rdata_reverse_label\" target=\"_blank\">Weights & Biases</a> (<a href=\"https://wandb.me/run\" target=\"_blank\">docs</a>)<br/>"
      ],
      "text/plain": [
       "<IPython.core.display.HTML object>"
      ]
     },
     "metadata": {},
     "output_type": "display_data"
    },
    {
     "name": "stdout",
     "output_type": "stream",
     "text": [
      "fold=2\n",
      "/project/data/Label\n",
      "0 items removed from dataset that have an angle > 180\n",
      "\n",
      "test configuration equal gpu_id=cuda:0, batch_size=20, model_arch=ResNet50\n",
      "Start testing dataset=mpiigaze, FOLD=2 --06/20/2022 21:34:49---------\n",
      "entering epoch=epoch_1.pkl\n",
      "[epoch_1.pkl---mpiigaze] Total Num:3000,MAE:12.206413037405762\n",
      "entering epoch=epoch_2.pkl\n",
      "[epoch_2.pkl---mpiigaze] Total Num:3000,MAE:13.258188177126883\n",
      "entering epoch=epoch_3.pkl\n",
      "[epoch_3.pkl---mpiigaze] Total Num:3000,MAE:13.15244741800395\n",
      "entering epoch=epoch_4.pkl\n",
      "[epoch_4.pkl---mpiigaze] Total Num:3000,MAE:15.342670062386228\n",
      "entering epoch=epoch_5.pkl\n",
      "[epoch_5.pkl---mpiigaze] Total Num:3000,MAE:14.485099743956479\n",
      "entering epoch=epoch_6.pkl\n",
      "[epoch_6.pkl---mpiigaze] Total Num:3000,MAE:13.986011253860514\n",
      "entering epoch=epoch_7.pkl\n",
      "[epoch_7.pkl---mpiigaze] Total Num:3000,MAE:13.738809941634008\n",
      "entering epoch=epoch_8.pkl\n",
      "[epoch_8.pkl---mpiigaze] Total Num:3000,MAE:13.84982645213682\n",
      "entering epoch=epoch_9.pkl\n",
      "[epoch_9.pkl---mpiigaze] Total Num:3000,MAE:14.657175115322575\n",
      "entering epoch=epoch_10.pkl\n",
      "[epoch_10.pkl---mpiigaze] Total Num:3000,MAE:14.832560754995876\n",
      "entering epoch=epoch_11.pkl\n",
      "[epoch_11.pkl---mpiigaze] Total Num:3000,MAE:14.730658848795137\n",
      "entering epoch=epoch_12.pkl\n",
      "[epoch_12.pkl---mpiigaze] Total Num:3000,MAE:15.151914116062994\n",
      "entering epoch=epoch_13.pkl\n",
      "[epoch_13.pkl---mpiigaze] Total Num:3000,MAE:14.28052715892722\n",
      "entering epoch=epoch_14.pkl\n",
      "[epoch_14.pkl---mpiigaze] Total Num:3000,MAE:15.595876770004779\n",
      "entering epoch=epoch_15.pkl\n",
      "[epoch_15.pkl---mpiigaze] Total Num:3000,MAE:14.695546207620463\n",
      "entering epoch=epoch_16.pkl\n",
      "[epoch_16.pkl---mpiigaze] Total Num:3000,MAE:15.623115325713334\n",
      "entering epoch=epoch_17.pkl\n",
      "[epoch_17.pkl---mpiigaze] Total Num:3000,MAE:15.122220684908767\n",
      "entering epoch=epoch_18.pkl\n",
      "[epoch_18.pkl---mpiigaze] Total Num:3000,MAE:15.14889392818355\n",
      "entering epoch=epoch_19.pkl\n",
      "[epoch_19.pkl---mpiigaze] Total Num:3000,MAE:14.901380478392282\n",
      "entering epoch=epoch_20.pkl\n",
      "[epoch_20.pkl---mpiigaze] Total Num:3000,MAE:14.31370765624716\n",
      "entering epoch=epoch_21.pkl\n",
      "[epoch_21.pkl---mpiigaze] Total Num:3000,MAE:14.52927765870782\n",
      "entering epoch=epoch_22.pkl\n",
      "[epoch_22.pkl---mpiigaze] Total Num:3000,MAE:15.487453281049728\n",
      "entering epoch=epoch_23.pkl\n",
      "[epoch_23.pkl---mpiigaze] Total Num:3000,MAE:15.308961816219023\n",
      "entering epoch=epoch_24.pkl\n",
      "[epoch_24.pkl---mpiigaze] Total Num:3000,MAE:15.67024687311124\n",
      "entering epoch=epoch_25.pkl\n",
      "[epoch_25.pkl---mpiigaze] Total Num:3000,MAE:14.19326439493026\n",
      "entering epoch=epoch_26.pkl\n",
      "[epoch_27.pkl---mpiigaze] Total Num:3000,MAE:15.982126790340484\n",
      "entering epoch=epoch_28.pkl\n",
      "[epoch_28.pkl---mpiigaze] Total Num:3000,MAE:15.244585762835893\n",
      "entering epoch=epoch_29.pkl\n",
      "[epoch_29.pkl---mpiigaze] Total Num:3000,MAE:15.559093305184996\n",
      "entering epoch=epoch_30.pkl\n",
      "[epoch_30.pkl---mpiigaze] Total Num:3000,MAE:15.238589538441559\n",
      "entering epoch=epoch_31.pkl\n",
      "[epoch_31.pkl---mpiigaze] Total Num:3000,MAE:15.83288498114437\n",
      "entering epoch=epoch_32.pkl\n",
      "[epoch_32.pkl---mpiigaze] Total Num:3000,MAE:15.293997021259274\n",
      "entering epoch=epoch_33.pkl\n",
      "[epoch_33.pkl---mpiigaze] Total Num:3000,MAE:14.882155427407728\n",
      "entering epoch=epoch_34.pkl\n",
      "[epoch_34.pkl---mpiigaze] Total Num:3000,MAE:15.019664830478906\n",
      "entering epoch=epoch_35.pkl\n",
      "[epoch_35.pkl---mpiigaze] Total Num:3000,MAE:15.507485621545273\n",
      "entering epoch=epoch_36.pkl\n",
      "[epoch_36.pkl---mpiigaze] Total Num:3000,MAE:15.067949200260486\n",
      "entering epoch=epoch_37.pkl\n",
      "[epoch_37.pkl---mpiigaze] Total Num:3000,MAE:15.102756528494147\n",
      "entering epoch=epoch_38.pkl\n",
      "[epoch_38.pkl---mpiigaze] Total Num:3000,MAE:14.916879175246871\n",
      "entering epoch=epoch_39.pkl\n",
      "[epoch_39.pkl---mpiigaze] Total Num:3000,MAE:15.178708681740947\n",
      "entering epoch=epoch_40.pkl\n",
      "[epoch_40.pkl---mpiigaze] Total Num:3000,MAE:15.538198505904\n",
      "entering epoch=epoch_41.pkl\n",
      "[epoch_41.pkl---mpiigaze] Total Num:3000,MAE:15.94476145677248\n",
      "entering epoch=epoch_42.pkl\n",
      "[epoch_42.pkl---mpiigaze] Total Num:3000,MAE:15.10408986678967\n",
      "entering epoch=epoch_43.pkl\n",
      "[epoch_43.pkl---mpiigaze] Total Num:3000,MAE:15.773857234821012\n",
      "entering epoch=epoch_44.pkl\n",
      "[epoch_44.pkl---mpiigaze] Total Num:3000,MAE:15.322823203957286\n",
      "entering epoch=epoch_45.pkl\n",
      "[epoch_45.pkl---mpiigaze] Total Num:3000,MAE:15.58127389088356\n",
      "entering epoch=epoch_46.pkl\n",
      "[epoch_46.pkl---mpiigaze] Total Num:3000,MAE:15.666119342980037\n",
      "entering epoch=epoch_47.pkl\n",
      "[epoch_47.pkl---mpiigaze] Total Num:3000,MAE:15.908787721895663\n",
      "entering epoch=epoch_48.pkl\n",
      "[epoch_48.pkl---mpiigaze] Total Num:3000,MAE:14.801775375171877\n",
      "entering epoch=epoch_49.pkl\n",
      "[epoch_49.pkl---mpiigaze] Total Num:3000,MAE:14.752087879667425\n",
      "entering epoch=epoch_50.pkl\n",
      "[epoch_50.pkl---mpiigaze] Total Num:3000,MAE:15.236306061088651\n",
      "entering epoch=epoch_51.pkl\n",
      "[epoch_51.pkl---mpiigaze] Total Num:3000,MAE:14.60586071485765\n",
      "entering epoch=epoch_52.pkl\n",
      "[epoch_52.pkl---mpiigaze] Total Num:3000,MAE:15.557818243850614\n",
      "entering epoch=epoch_53.pkl\n",
      "[epoch_53.pkl---mpiigaze] Total Num:3000,MAE:14.484603907966047\n",
      "entering epoch=epoch_54.pkl\n",
      "[epoch_54.pkl---mpiigaze] Total Num:3000,MAE:15.253826780143848\n",
      "entering epoch=epoch_55.pkl\n",
      "[epoch_55.pkl---mpiigaze] Total Num:3000,MAE:15.0981605208101\n",
      "entering epoch=epoch_56.pkl\n",
      "[epoch_56.pkl---mpiigaze] Total Num:3000,MAE:14.970694758401077\n",
      "entering epoch=epoch_57.pkl\n",
      "[epoch_57.pkl---mpiigaze] Total Num:3000,MAE:15.37808007167934\n",
      "entering epoch=epoch_58.pkl\n",
      "[epoch_58.pkl---mpiigaze] Total Num:3000,MAE:15.134079797038682\n",
      "entering epoch=epoch_59.pkl\n",
      "[epoch_59.pkl---mpiigaze] Total Num:3000,MAE:15.357914333818444\n",
      "entering epoch=epoch_60.pkl\n",
      "[epoch_60.pkl---mpiigaze] Total Num:3000,MAE:14.567953151026192\n"
     ]
    },
    {
     "data": {
      "text/html": [
       "Waiting for W&B process to finish... <strong style=\"color:green\">(success).</strong>"
      ],
      "text/plain": [
       "<IPython.core.display.HTML object>"
      ]
     },
     "metadata": {},
     "output_type": "display_data"
    },
    {
     "data": {
      "application/vnd.jupyter.widget-view+json": {
       "model_id": "",
       "version_major": 2,
       "version_minor": 0
      },
      "text/plain": [
       "VBox(children=(Label(value='0.001 MB of 0.001 MB uploaded (0.000 MB deduped)\\r'), FloatProgress(value=1.0, max…"
      ]
     },
     "metadata": {},
     "output_type": "display_data"
    },
    {
     "data": {
      "text/html": [
       "<style>\n",
       "    table.wandb td:nth-child(1) { padding: 0 10px; text-align: right }\n",
       "    .wandb-row { display: flex; flex-direction: row; flex-wrap: wrap; width: 100% }\n",
       "    .wandb-col { display: flex; flex-direction: column; flex-basis: 100%; flex: 1; padding: 10px; }\n",
       "    </style>\n",
       "<div class=\"wandb-row\"><div class=\"wandb-col\"><h3>Run history:</h3><br/><table class=\"wandb\"><tr><td>fold_2_mean_mae</td><td>▁▃▇▅▄▄▆▆▅▇▇▆▆▅▇▇▅▇▇▇█▇▆▇▆▆▇██▇▇█▆▇▇▅▆▆▆▅</td></tr></table><br/></div><div class=\"wandb-col\"><h3>Run summary:</h3><br/><table class=\"wandb\"><tr><td>epoch</td><td>epoch_60.pkl</td></tr><tr><td>fold_2_mean_mae</td><td>14.56795</td></tr></table><br/></div></div>"
      ],
      "text/plain": [
       "<IPython.core.display.HTML object>"
      ]
     },
     "metadata": {},
     "output_type": "display_data"
    },
    {
     "data": {
      "text/html": [
       "Synced <strong style=\"color:#cdcd00\">vibrant-serenity-7</strong>: <a href=\"https://wandb.ai/synthesis-ai/smode_rdata_reverse_label/runs/rw4m5z7w\" target=\"_blank\">https://wandb.ai/synthesis-ai/smode_rdata_reverse_label/runs/rw4m5z7w</a><br/>Synced 5 W&B file(s), 0 media file(s), 0 artifact file(s) and 0 other file(s)"
      ],
      "text/plain": [
       "<IPython.core.display.HTML object>"
      ]
     },
     "metadata": {},
     "output_type": "display_data"
    },
    {
     "data": {
      "text/html": [
       "Find logs at: <code>./wandb/run-20220621_043446-rw4m5z7w/logs</code>"
      ],
      "text/plain": [
       "<IPython.core.display.HTML object>"
      ]
     },
     "metadata": {},
     "output_type": "display_data"
    },
    {
     "data": {
      "text/html": [
       "wandb version 0.12.18 is available!  To upgrade, please run:\n",
       " $ pip install wandb --upgrade"
      ],
      "text/plain": [
       "<IPython.core.display.HTML object>"
      ]
     },
     "metadata": {},
     "output_type": "display_data"
    },
    {
     "data": {
      "text/html": [
       "Tracking run with wandb version 0.12.15"
      ],
      "text/plain": [
       "<IPython.core.display.HTML object>"
      ]
     },
     "metadata": {},
     "output_type": "display_data"
    },
    {
     "data": {
      "text/html": [
       "Run data is saved locally in <code>/project/notebooks/wandb/run-20220621_044909-3rytqqhm</code>"
      ],
      "text/plain": [
       "<IPython.core.display.HTML object>"
      ]
     },
     "metadata": {},
     "output_type": "display_data"
    },
    {
     "data": {
      "text/html": [
       "Syncing run <strong><a href=\"https://wandb.ai/synthesis-ai/smode_rdata_reverse_label/runs/3rytqqhm\" target=\"_blank\">sage-shape-8</a></strong> to <a href=\"https://wandb.ai/synthesis-ai/smode_rdata_reverse_label\" target=\"_blank\">Weights & Biases</a> (<a href=\"https://wandb.me/run\" target=\"_blank\">docs</a>)<br/>"
      ],
      "text/plain": [
       "<IPython.core.display.HTML object>"
      ]
     },
     "metadata": {},
     "output_type": "display_data"
    },
    {
     "name": "stdout",
     "output_type": "stream",
     "text": [
      "fold=3\n",
      "/project/data/Label\n",
      "0 items removed from dataset that have an angle > 180\n",
      "\n",
      "test configuration equal gpu_id=cuda:0, batch_size=20, model_arch=ResNet50\n",
      "Start testing dataset=mpiigaze, FOLD=3 --06/20/2022 21:49:13---------\n",
      "entering epoch=epoch_1.pkl\n",
      "[epoch_1.pkl---mpiigaze] Total Num:3000,MAE:14.193659044699425\n",
      "entering epoch=epoch_2.pkl\n",
      "[epoch_2.pkl---mpiigaze] Total Num:3000,MAE:14.890921829918724\n",
      "entering epoch=epoch_3.pkl\n",
      "[epoch_3.pkl---mpiigaze] Total Num:3000,MAE:14.987873298281569\n",
      "entering epoch=epoch_4.pkl\n",
      "[epoch_4.pkl---mpiigaze] Total Num:3000,MAE:15.089173001624538\n",
      "entering epoch=epoch_5.pkl\n",
      "[epoch_5.pkl---mpiigaze] Total Num:3000,MAE:16.43396279077604\n",
      "entering epoch=epoch_6.pkl\n",
      "[epoch_6.pkl---mpiigaze] Total Num:3000,MAE:15.102110774273456\n",
      "entering epoch=epoch_7.pkl\n",
      "[epoch_7.pkl---mpiigaze] Total Num:3000,MAE:14.982834525915433\n",
      "entering epoch=epoch_8.pkl\n",
      "[epoch_8.pkl---mpiigaze] Total Num:3000,MAE:15.866509204618001\n",
      "entering epoch=epoch_9.pkl\n",
      "[epoch_9.pkl---mpiigaze] Total Num:3000,MAE:16.432752921039118\n",
      "entering epoch=epoch_10.pkl\n",
      "[epoch_10.pkl---mpiigaze] Total Num:3000,MAE:15.870015080849669\n",
      "entering epoch=epoch_11.pkl\n",
      "[epoch_11.pkl---mpiigaze] Total Num:3000,MAE:16.054214682406784\n",
      "entering epoch=epoch_12.pkl\n",
      "[epoch_12.pkl---mpiigaze] Total Num:3000,MAE:16.180795668165985\n",
      "entering epoch=epoch_13.pkl\n",
      "[epoch_13.pkl---mpiigaze] Total Num:3000,MAE:17.192623226263887\n",
      "entering epoch=epoch_14.pkl\n",
      "[epoch_14.pkl---mpiigaze] Total Num:3000,MAE:16.439022927689347\n",
      "entering epoch=epoch_15.pkl\n",
      "[epoch_15.pkl---mpiigaze] Total Num:3000,MAE:15.710511153859695\n",
      "entering epoch=epoch_16.pkl\n",
      "[epoch_16.pkl---mpiigaze] Total Num:3000,MAE:16.642114310352493\n",
      "entering epoch=epoch_17.pkl\n",
      "[epoch_17.pkl---mpiigaze] Total Num:3000,MAE:16.674246731340684\n",
      "entering epoch=epoch_18.pkl\n",
      "[epoch_18.pkl---mpiigaze] Total Num:3000,MAE:16.195755723317056\n",
      "entering epoch=epoch_19.pkl\n",
      "[epoch_19.pkl---mpiigaze] Total Num:3000,MAE:15.200887653817446\n",
      "entering epoch=epoch_20.pkl\n",
      "[epoch_20.pkl---mpiigaze] Total Num:3000,MAE:16.147885387713867\n",
      "entering epoch=epoch_21.pkl\n",
      "[epoch_21.pkl---mpiigaze] Total Num:3000,MAE:15.679065371670433\n",
      "entering epoch=epoch_22.pkl\n",
      "[epoch_22.pkl---mpiigaze] Total Num:3000,MAE:15.816315378120548\n",
      "entering epoch=epoch_23.pkl\n",
      "[epoch_23.pkl---mpiigaze] Total Num:3000,MAE:16.555379644373467\n",
      "entering epoch=epoch_24.pkl\n",
      "[epoch_24.pkl---mpiigaze] Total Num:3000,MAE:16.299692098510597\n",
      "entering epoch=epoch_25.pkl\n",
      "[epoch_25.pkl---mpiigaze] Total Num:3000,MAE:16.512634852027233\n",
      "entering epoch=epoch_26.pkl\n",
      "[epoch_26.pkl---mpiigaze] Total Num:3000,MAE:16.236591525568365\n",
      "entering epoch=epoch_27.pkl\n",
      "[epoch_27.pkl---mpiigaze] Total Num:3000,MAE:16.134774576412426\n",
      "entering epoch=epoch_28.pkl\n",
      "[epoch_28.pkl---mpiigaze] Total Num:3000,MAE:16.282749384862292\n",
      "entering epoch=epoch_29.pkl\n",
      "[epoch_29.pkl---mpiigaze] Total Num:3000,MAE:16.387205495477197\n",
      "entering epoch=epoch_30.pkl\n",
      "[epoch_30.pkl---mpiigaze] Total Num:3000,MAE:15.90949790268243\n",
      "entering epoch=epoch_31.pkl\n",
      "[epoch_31.pkl---mpiigaze] Total Num:3000,MAE:15.902835868349475\n",
      "entering epoch=epoch_32.pkl\n",
      "[epoch_32.pkl---mpiigaze] Total Num:3000,MAE:15.913486455708002\n",
      "entering epoch=epoch_33.pkl\n",
      "[epoch_33.pkl---mpiigaze] Total Num:3000,MAE:16.219600778874966\n",
      "entering epoch=epoch_34.pkl\n",
      "[epoch_34.pkl---mpiigaze] Total Num:3000,MAE:16.5589345529454\n",
      "entering epoch=epoch_35.pkl\n",
      "[epoch_35.pkl---mpiigaze] Total Num:3000,MAE:16.549440608712203\n",
      "entering epoch=epoch_36.pkl\n",
      "[epoch_36.pkl---mpiigaze] Total Num:3000,MAE:16.0079519235896\n",
      "entering epoch=epoch_37.pkl\n",
      "[epoch_37.pkl---mpiigaze] Total Num:3000,MAE:16.017836454365785\n",
      "entering epoch=epoch_38.pkl\n",
      "[epoch_46.pkl---mpiigaze] Total Num:3000,MAE:16.49028057550444\n",
      "entering epoch=epoch_47.pkl\n",
      "[epoch_47.pkl---mpiigaze] Total Num:3000,MAE:16.29900942197942\n",
      "entering epoch=epoch_48.pkl\n",
      "[epoch_48.pkl---mpiigaze] Total Num:3000,MAE:16.546668319805697\n",
      "entering epoch=epoch_49.pkl\n",
      "[epoch_49.pkl---mpiigaze] Total Num:3000,MAE:16.235637643443567\n",
      "entering epoch=epoch_50.pkl\n",
      "[epoch_50.pkl---mpiigaze] Total Num:3000,MAE:16.109365469728164\n",
      "entering epoch=epoch_51.pkl\n",
      "[epoch_51.pkl---mpiigaze] Total Num:3000,MAE:16.270260421550866\n",
      "entering epoch=epoch_52.pkl\n",
      "[epoch_52.pkl---mpiigaze] Total Num:3000,MAE:16.419741652634595\n",
      "entering epoch=epoch_53.pkl\n",
      "[epoch_53.pkl---mpiigaze] Total Num:3000,MAE:16.713531953305846\n",
      "entering epoch=epoch_54.pkl\n",
      "[epoch_54.pkl---mpiigaze] Total Num:3000,MAE:16.506067646940785\n",
      "entering epoch=epoch_55.pkl\n",
      "[epoch_55.pkl---mpiigaze] Total Num:3000,MAE:16.699826272982982\n",
      "entering epoch=epoch_56.pkl\n",
      "[epoch_56.pkl---mpiigaze] Total Num:3000,MAE:15.270994475433207\n",
      "entering epoch=epoch_57.pkl\n",
      "[epoch_57.pkl---mpiigaze] Total Num:3000,MAE:16.5817367870513\n",
      "entering epoch=epoch_58.pkl\n",
      "[epoch_58.pkl---mpiigaze] Total Num:3000,MAE:16.181115165999536\n",
      "entering epoch=epoch_59.pkl\n",
      "[epoch_59.pkl---mpiigaze] Total Num:3000,MAE:16.360897337780255\n",
      "entering epoch=epoch_60.pkl\n",
      "[epoch_60.pkl---mpiigaze] Total Num:3000,MAE:15.389459254743743\n"
     ]
    },
    {
     "data": {
      "text/html": [
       "Waiting for W&B process to finish... <strong style=\"color:green\">(success).</strong>"
      ],
      "text/plain": [
       "<IPython.core.display.HTML object>"
      ]
     },
     "metadata": {},
     "output_type": "display_data"
    },
    {
     "data": {
      "application/vnd.jupyter.widget-view+json": {
       "model_id": "",
       "version_major": 2,
       "version_minor": 0
      },
      "text/plain": [
       "VBox(children=(Label(value='0.001 MB of 0.001 MB uploaded (0.000 MB deduped)\\r'), FloatProgress(value=1.0, max…"
      ]
     },
     "metadata": {},
     "output_type": "display_data"
    },
    {
     "data": {
      "text/html": [
       "<style>\n",
       "    table.wandb td:nth-child(1) { padding: 0 10px; text-align: right }\n",
       "    .wandb-row { display: flex; flex-direction: row; flex-wrap: wrap; width: 100% }\n",
       "    .wandb-col { display: flex; flex-direction: column; flex-basis: 100%; flex: 1; padding: 10px; }\n",
       "    </style>\n",
       "<div class=\"wandb-row\"><div class=\"wandb-col\"><h3>Run history:</h3><br/><table class=\"wandb\"><tr><td>fold_3_mean_mae</td><td>▁▃▃▆▃▅▅▅█▆▇▇▃▆▅▇▆▆▆▆▅▅▇▆▅▆▆▆▇▅▆▆▆▅▆▇▇▄▆▄</td></tr></table><br/></div><div class=\"wandb-col\"><h3>Run summary:</h3><br/><table class=\"wandb\"><tr><td>epoch</td><td>epoch_60.pkl</td></tr><tr><td>fold_3_mean_mae</td><td>15.38946</td></tr></table><br/></div></div>"
      ],
      "text/plain": [
       "<IPython.core.display.HTML object>"
      ]
     },
     "metadata": {},
     "output_type": "display_data"
    },
    {
     "data": {
      "text/html": [
       "Synced <strong style=\"color:#cdcd00\">sage-shape-8</strong>: <a href=\"https://wandb.ai/synthesis-ai/smode_rdata_reverse_label/runs/3rytqqhm\" target=\"_blank\">https://wandb.ai/synthesis-ai/smode_rdata_reverse_label/runs/3rytqqhm</a><br/>Synced 5 W&B file(s), 0 media file(s), 0 artifact file(s) and 0 other file(s)"
      ],
      "text/plain": [
       "<IPython.core.display.HTML object>"
      ]
     },
     "metadata": {},
     "output_type": "display_data"
    },
    {
     "data": {
      "text/html": [
       "Find logs at: <code>./wandb/run-20220621_044909-3rytqqhm/logs</code>"
      ],
      "text/plain": [
       "<IPython.core.display.HTML object>"
      ]
     },
     "metadata": {},
     "output_type": "display_data"
    },
    {
     "data": {
      "text/html": [
       "wandb version 0.12.18 is available!  To upgrade, please run:\n",
       " $ pip install wandb --upgrade"
      ],
      "text/plain": [
       "<IPython.core.display.HTML object>"
      ]
     },
     "metadata": {},
     "output_type": "display_data"
    },
    {
     "data": {
      "text/html": [
       "Tracking run with wandb version 0.12.15"
      ],
      "text/plain": [
       "<IPython.core.display.HTML object>"
      ]
     },
     "metadata": {},
     "output_type": "display_data"
    },
    {
     "data": {
      "text/html": [
       "Run data is saved locally in <code>/project/notebooks/wandb/run-20220621_050332-2cj40i3i</code>"
      ],
      "text/plain": [
       "<IPython.core.display.HTML object>"
      ]
     },
     "metadata": {},
     "output_type": "display_data"
    },
    {
     "data": {
      "text/html": [
       "Syncing run <strong><a href=\"https://wandb.ai/synthesis-ai/smode_rdata_reverse_label/runs/2cj40i3i\" target=\"_blank\">denim-paper-9</a></strong> to <a href=\"https://wandb.ai/synthesis-ai/smode_rdata_reverse_label\" target=\"_blank\">Weights & Biases</a> (<a href=\"https://wandb.me/run\" target=\"_blank\">docs</a>)<br/>"
      ],
      "text/plain": [
       "<IPython.core.display.HTML object>"
      ]
     },
     "metadata": {},
     "output_type": "display_data"
    },
    {
     "name": "stdout",
     "output_type": "stream",
     "text": [
      "fold=4\n",
      "/project/data/Label\n",
      "0 items removed from dataset that have an angle > 180\n",
      "\n",
      "test configuration equal gpu_id=cuda:0, batch_size=20, model_arch=ResNet50\n",
      "Start testing dataset=mpiigaze, FOLD=4 --06/20/2022 22:03:35---------\n",
      "entering epoch=epoch_1.pkl\n",
      "[epoch_1.pkl---mpiigaze] Total Num:3000,MAE:9.920093812763126\n",
      "entering epoch=epoch_2.pkl\n",
      "[epoch_2.pkl---mpiigaze] Total Num:3000,MAE:9.861471007121873\n",
      "entering epoch=epoch_3.pkl\n",
      "[epoch_3.pkl---mpiigaze] Total Num:3000,MAE:10.904965647433492\n",
      "entering epoch=epoch_4.pkl\n",
      "[epoch_4.pkl---mpiigaze] Total Num:3000,MAE:10.193754824357002\n",
      "entering epoch=epoch_5.pkl\n",
      "[epoch_5.pkl---mpiigaze] Total Num:3000,MAE:11.062341626368388\n",
      "entering epoch=epoch_6.pkl\n",
      "[epoch_6.pkl---mpiigaze] Total Num:3000,MAE:9.866244072837176\n",
      "entering epoch=epoch_7.pkl\n",
      "[epoch_7.pkl---mpiigaze] Total Num:3000,MAE:9.873031018169206\n",
      "entering epoch=epoch_8.pkl\n",
      "[epoch_8.pkl---mpiigaze] Total Num:3000,MAE:9.724990443211752\n",
      "entering epoch=epoch_9.pkl\n",
      "[epoch_9.pkl---mpiigaze] Total Num:3000,MAE:9.58942166946495\n",
      "entering epoch=epoch_10.pkl\n",
      "[epoch_10.pkl---mpiigaze] Total Num:3000,MAE:9.844716958024582\n",
      "entering epoch=epoch_11.pkl\n",
      "[epoch_11.pkl---mpiigaze] Total Num:3000,MAE:9.923279543972862\n",
      "entering epoch=epoch_12.pkl\n",
      "[epoch_12.pkl---mpiigaze] Total Num:3000,MAE:9.997420862490074\n",
      "entering epoch=epoch_13.pkl\n",
      "[epoch_13.pkl---mpiigaze] Total Num:3000,MAE:9.957436848232595\n",
      "entering epoch=epoch_14.pkl\n",
      "[epoch_14.pkl---mpiigaze] Total Num:3000,MAE:9.847744851757735\n",
      "entering epoch=epoch_15.pkl\n",
      "[epoch_15.pkl---mpiigaze] Total Num:3000,MAE:10.247536608118057\n",
      "entering epoch=epoch_16.pkl\n",
      "[epoch_16.pkl---mpiigaze] Total Num:3000,MAE:10.066257903418824\n",
      "entering epoch=epoch_17.pkl\n",
      "[epoch_17.pkl---mpiigaze] Total Num:3000,MAE:9.94577121725452\n",
      "entering epoch=epoch_18.pkl\n",
      "[epoch_18.pkl---mpiigaze] Total Num:3000,MAE:9.954116512816555\n",
      "entering epoch=epoch_19.pkl\n",
      "[epoch_19.pkl---mpiigaze] Total Num:3000,MAE:9.924609349991057\n",
      "entering epoch=epoch_20.pkl\n",
      "[epoch_20.pkl---mpiigaze] Total Num:3000,MAE:9.860015762077238\n",
      "entering epoch=epoch_21.pkl\n",
      "[epoch_21.pkl---mpiigaze] Total Num:3000,MAE:10.029634684860397\n",
      "entering epoch=epoch_22.pkl\n",
      "[epoch_22.pkl---mpiigaze] Total Num:3000,MAE:10.061160337424\n",
      "entering epoch=epoch_23.pkl\n",
      "[epoch_23.pkl---mpiigaze] Total Num:3000,MAE:10.744338691955289\n",
      "entering epoch=epoch_24.pkl\n",
      "[epoch_30.pkl---mpiigaze] Total Num:3000,MAE:10.524963090516104\n",
      "entering epoch=epoch_31.pkl\n",
      "[epoch_31.pkl---mpiigaze] Total Num:3000,MAE:10.13429962743757\n",
      "entering epoch=epoch_32.pkl\n",
      "[epoch_32.pkl---mpiigaze] Total Num:3000,MAE:10.455991222666341\n",
      "entering epoch=epoch_33.pkl\n",
      "[epoch_33.pkl---mpiigaze] Total Num:3000,MAE:10.286655545217315\n",
      "entering epoch=epoch_34.pkl\n",
      "[epoch_34.pkl---mpiigaze] Total Num:3000,MAE:10.19872713540147\n",
      "entering epoch=epoch_35.pkl\n",
      "[epoch_35.pkl---mpiigaze] Total Num:3000,MAE:10.560396963458858\n",
      "entering epoch=epoch_36.pkl\n",
      "[epoch_36.pkl---mpiigaze] Total Num:3000,MAE:10.31572283034609\n",
      "entering epoch=epoch_37.pkl\n",
      "[epoch_37.pkl---mpiigaze] Total Num:3000,MAE:10.869316048800249\n",
      "entering epoch=epoch_38.pkl\n",
      "[epoch_38.pkl---mpiigaze] Total Num:3000,MAE:10.612632550620166\n",
      "entering epoch=epoch_39.pkl\n",
      "[epoch_39.pkl---mpiigaze] Total Num:3000,MAE:10.863241278459627\n",
      "entering epoch=epoch_40.pkl\n",
      "[epoch_40.pkl---mpiigaze] Total Num:3000,MAE:11.256608623924002\n",
      "entering epoch=epoch_41.pkl\n",
      "[epoch_41.pkl---mpiigaze] Total Num:3000,MAE:11.745890939487415\n",
      "entering epoch=epoch_42.pkl\n",
      "[epoch_42.pkl---mpiigaze] Total Num:3000,MAE:11.197423921873964\n",
      "entering epoch=epoch_43.pkl\n",
      "[epoch_43.pkl---mpiigaze] Total Num:3000,MAE:10.822028648752271\n",
      "entering epoch=epoch_44.pkl\n",
      "[epoch_44.pkl---mpiigaze] Total Num:3000,MAE:11.177681318972674\n",
      "entering epoch=epoch_45.pkl\n",
      "[epoch_45.pkl---mpiigaze] Total Num:3000,MAE:11.521700821269015\n",
      "entering epoch=epoch_46.pkl\n",
      "[epoch_46.pkl---mpiigaze] Total Num:3000,MAE:11.295800844808488\n",
      "entering epoch=epoch_47.pkl\n",
      "[epoch_47.pkl---mpiigaze] Total Num:3000,MAE:11.618644901698074\n",
      "entering epoch=epoch_48.pkl\n",
      "[epoch_48.pkl---mpiigaze] Total Num:3000,MAE:11.271511730061997\n",
      "entering epoch=epoch_49.pkl\n",
      "[epoch_49.pkl---mpiigaze] Total Num:3000,MAE:11.790277212104217\n",
      "entering epoch=epoch_50.pkl\n",
      "[epoch_50.pkl---mpiigaze] Total Num:3000,MAE:11.408949035936722\n",
      "entering epoch=epoch_51.pkl\n",
      "[epoch_51.pkl---mpiigaze] Total Num:3000,MAE:11.397646834649315\n",
      "entering epoch=epoch_52.pkl\n",
      "[epoch_52.pkl---mpiigaze] Total Num:3000,MAE:11.776231918954958\n",
      "entering epoch=epoch_53.pkl\n",
      "[epoch_53.pkl---mpiigaze] Total Num:3000,MAE:11.3642659488978\n",
      "entering epoch=epoch_54.pkl\n",
      "[epoch_54.pkl---mpiigaze] Total Num:3000,MAE:12.02860218738856\n",
      "entering epoch=epoch_55.pkl\n",
      "[epoch_55.pkl---mpiigaze] Total Num:3000,MAE:11.514966789601228\n",
      "entering epoch=epoch_56.pkl\n",
      "[epoch_56.pkl---mpiigaze] Total Num:3000,MAE:12.269615460972588\n",
      "entering epoch=epoch_57.pkl\n",
      "[epoch_57.pkl---mpiigaze] Total Num:3000,MAE:12.462024608634763\n",
      "entering epoch=epoch_58.pkl\n",
      "[epoch_58.pkl---mpiigaze] Total Num:3000,MAE:11.492200569178742\n",
      "entering epoch=epoch_59.pkl\n",
      "[epoch_59.pkl---mpiigaze] Total Num:3000,MAE:12.026316116184702\n",
      "entering epoch=epoch_60.pkl\n",
      "[epoch_60.pkl---mpiigaze] Total Num:3000,MAE:12.284077200372053\n"
     ]
    },
    {
     "data": {
      "text/html": [
       "Waiting for W&B process to finish... <strong style=\"color:green\">(success).</strong>"
      ],
      "text/plain": [
       "<IPython.core.display.HTML object>"
      ]
     },
     "metadata": {},
     "output_type": "display_data"
    },
    {
     "data": {
      "application/vnd.jupyter.widget-view+json": {
       "model_id": "",
       "version_major": 2,
       "version_minor": 0
      },
      "text/plain": [
       "VBox(children=(Label(value='0.001 MB of 0.001 MB uploaded (0.000 MB deduped)\\r'), FloatProgress(value=1.0, max…"
      ]
     },
     "metadata": {},
     "output_type": "display_data"
    },
    {
     "data": {
      "text/html": [
       "<style>\n",
       "    table.wandb td:nth-child(1) { padding: 0 10px; text-align: right }\n",
       "    .wandb-row { display: flex; flex-direction: row; flex-wrap: wrap; width: 100% }\n",
       "    .wandb-col { display: flex; flex-direction: column; flex-basis: 100%; flex: 1; padding: 10px; }\n",
       "    </style>\n",
       "<div class=\"wandb-row\"><div class=\"wandb-col\"><h3>Run history:</h3><br/><table class=\"wandb\"><tr><td>fold_4_mean_mae</td><td>▂▁▂▅▁▁▁▂▂▁▂▂▂▁▂▄▂▄▂▃▂▃▂▃▄▃▅▇▄▅▅▆▇▆▇▅▆█▆█</td></tr></table><br/></div><div class=\"wandb-col\"><h3>Run summary:</h3><br/><table class=\"wandb\"><tr><td>epoch</td><td>epoch_60.pkl</td></tr><tr><td>fold_4_mean_mae</td><td>12.28408</td></tr></table><br/></div></div>"
      ],
      "text/plain": [
       "<IPython.core.display.HTML object>"
      ]
     },
     "metadata": {},
     "output_type": "display_data"
    },
    {
     "data": {
      "text/html": [
       "Synced <strong style=\"color:#cdcd00\">denim-paper-9</strong>: <a href=\"https://wandb.ai/synthesis-ai/smode_rdata_reverse_label/runs/2cj40i3i\" target=\"_blank\">https://wandb.ai/synthesis-ai/smode_rdata_reverse_label/runs/2cj40i3i</a><br/>Synced 5 W&B file(s), 0 media file(s), 0 artifact file(s) and 0 other file(s)"
      ],
      "text/plain": [
       "<IPython.core.display.HTML object>"
      ]
     },
     "metadata": {},
     "output_type": "display_data"
    },
    {
     "data": {
      "text/html": [
       "Find logs at: <code>./wandb/run-20220621_050332-2cj40i3i/logs</code>"
      ],
      "text/plain": [
       "<IPython.core.display.HTML object>"
      ]
     },
     "metadata": {},
     "output_type": "display_data"
    },
    {
     "data": {
      "text/html": [
       "wandb version 0.12.18 is available!  To upgrade, please run:\n",
       " $ pip install wandb --upgrade"
      ],
      "text/plain": [
       "<IPython.core.display.HTML object>"
      ]
     },
     "metadata": {},
     "output_type": "display_data"
    },
    {
     "data": {
      "text/html": [
       "Tracking run with wandb version 0.12.15"
      ],
      "text/plain": [
       "<IPython.core.display.HTML object>"
      ]
     },
     "metadata": {},
     "output_type": "display_data"
    },
    {
     "data": {
      "text/html": [
       "Run data is saved locally in <code>/project/notebooks/wandb/run-20220621_051754-7rh931ne</code>"
      ],
      "text/plain": [
       "<IPython.core.display.HTML object>"
      ]
     },
     "metadata": {},
     "output_type": "display_data"
    },
    {
     "data": {
      "text/html": [
       "Syncing run <strong><a href=\"https://wandb.ai/synthesis-ai/smode_rdata_reverse_label/runs/7rh931ne\" target=\"_blank\">swift-river-10</a></strong> to <a href=\"https://wandb.ai/synthesis-ai/smode_rdata_reverse_label\" target=\"_blank\">Weights & Biases</a> (<a href=\"https://wandb.me/run\" target=\"_blank\">docs</a>)<br/>"
      ],
      "text/plain": [
       "<IPython.core.display.HTML object>"
      ]
     },
     "metadata": {},
     "output_type": "display_data"
    },
    {
     "name": "stdout",
     "output_type": "stream",
     "text": [
      "fold=5\n",
      "/project/data/Label\n",
      "0 items removed from dataset that have an angle > 180\n",
      "\n",
      "test configuration equal gpu_id=cuda:0, batch_size=20, model_arch=ResNet50\n",
      "Start testing dataset=mpiigaze, FOLD=5 --06/20/2022 22:17:58---------\n",
      "entering epoch=epoch_1.pkl\n",
      "[epoch_1.pkl---mpiigaze] Total Num:3000,MAE:12.896225222131754\n",
      "entering epoch=epoch_2.pkl\n",
      "[epoch_2.pkl---mpiigaze] Total Num:3000,MAE:13.325778018020358\n",
      "entering epoch=epoch_3.pkl\n",
      "[epoch_3.pkl---mpiigaze] Total Num:3000,MAE:12.846304352699466\n",
      "entering epoch=epoch_4.pkl\n",
      "[epoch_4.pkl---mpiigaze] Total Num:3000,MAE:13.434094562002217\n",
      "entering epoch=epoch_5.pkl\n",
      "[epoch_5.pkl---mpiigaze] Total Num:3000,MAE:12.74976691443045\n",
      "entering epoch=epoch_6.pkl\n",
      "[epoch_6.pkl---mpiigaze] Total Num:3000,MAE:12.99852154232479\n",
      "entering epoch=epoch_7.pkl\n",
      "[epoch_7.pkl---mpiigaze] Total Num:3000,MAE:12.87232623612823\n",
      "entering epoch=epoch_8.pkl\n",
      "[epoch_8.pkl---mpiigaze] Total Num:3000,MAE:13.226746640795112\n",
      "entering epoch=epoch_9.pkl\n",
      "[epoch_9.pkl---mpiigaze] Total Num:3000,MAE:13.188350810349371\n",
      "entering epoch=epoch_10.pkl\n",
      "[epoch_10.pkl---mpiigaze] Total Num:3000,MAE:13.529302729026059\n",
      "entering epoch=epoch_11.pkl\n",
      "[epoch_11.pkl---mpiigaze] Total Num:3000,MAE:13.315193054703835\n",
      "entering epoch=epoch_12.pkl\n",
      "[epoch_12.pkl---mpiigaze] Total Num:3000,MAE:13.117100255498801\n",
      "entering epoch=epoch_13.pkl\n",
      "[epoch_13.pkl---mpiigaze] Total Num:3000,MAE:12.938567435509547\n",
      "entering epoch=epoch_14.pkl\n",
      "[epoch_14.pkl---mpiigaze] Total Num:3000,MAE:13.060504049243189\n",
      "entering epoch=epoch_15.pkl\n",
      "[epoch_15.pkl---mpiigaze] Total Num:3000,MAE:13.001987952044155\n",
      "entering epoch=epoch_16.pkl\n",
      "[epoch_16.pkl---mpiigaze] Total Num:3000,MAE:13.569340009777044\n",
      "entering epoch=epoch_17.pkl\n",
      "[epoch_17.pkl---mpiigaze] Total Num:3000,MAE:13.327584574413418\n",
      "entering epoch=epoch_18.pkl\n",
      "[epoch_18.pkl---mpiigaze] Total Num:3000,MAE:13.257617554183543\n",
      "entering epoch=epoch_19.pkl\n",
      "[epoch_19.pkl---mpiigaze] Total Num:3000,MAE:13.091408770654322\n",
      "entering epoch=epoch_20.pkl\n",
      "[epoch_20.pkl---mpiigaze] Total Num:3000,MAE:13.334996964755446\n",
      "entering epoch=epoch_21.pkl\n",
      "[epoch_28.pkl---mpiigaze] Total Num:3000,MAE:13.494513120373476\n",
      "entering epoch=epoch_29.pkl\n",
      "[epoch_29.pkl---mpiigaze] Total Num:3000,MAE:13.482708383054474\n",
      "entering epoch=epoch_30.pkl\n",
      "[epoch_30.pkl---mpiigaze] Total Num:3000,MAE:13.550598660829671\n",
      "entering epoch=epoch_31.pkl\n",
      "[epoch_31.pkl---mpiigaze] Total Num:3000,MAE:13.676450839515926\n",
      "entering epoch=epoch_32.pkl\n",
      "[epoch_32.pkl---mpiigaze] Total Num:3000,MAE:13.839422153373514\n",
      "entering epoch=epoch_33.pkl\n",
      "[epoch_33.pkl---mpiigaze] Total Num:3000,MAE:13.75932166192864\n",
      "entering epoch=epoch_34.pkl\n",
      "[epoch_34.pkl---mpiigaze] Total Num:3000,MAE:13.724673993178417\n",
      "entering epoch=epoch_35.pkl\n",
      "[epoch_35.pkl---mpiigaze] Total Num:3000,MAE:13.576381380134473\n",
      "entering epoch=epoch_36.pkl\n",
      "[epoch_36.pkl---mpiigaze] Total Num:3000,MAE:13.679294892811216\n",
      "entering epoch=epoch_37.pkl\n",
      "[epoch_37.pkl---mpiigaze] Total Num:3000,MAE:13.548353878670593\n",
      "entering epoch=epoch_38.pkl\n",
      "[epoch_38.pkl---mpiigaze] Total Num:3000,MAE:14.087720314406226\n",
      "entering epoch=epoch_39.pkl\n",
      "[epoch_39.pkl---mpiigaze] Total Num:3000,MAE:13.782022688035921\n",
      "entering epoch=epoch_40.pkl\n",
      "[epoch_40.pkl---mpiigaze] Total Num:3000,MAE:14.196050026240053\n",
      "entering epoch=epoch_41.pkl\n",
      "[epoch_41.pkl---mpiigaze] Total Num:3000,MAE:13.579823736073896\n",
      "entering epoch=epoch_42.pkl\n",
      "[epoch_42.pkl---mpiigaze] Total Num:3000,MAE:13.54211225374639\n",
      "entering epoch=epoch_43.pkl\n",
      "[epoch_43.pkl---mpiigaze] Total Num:3000,MAE:13.811021191397439\n",
      "entering epoch=epoch_44.pkl\n",
      "[epoch_44.pkl---mpiigaze] Total Num:3000,MAE:13.742300379174825\n",
      "entering epoch=epoch_45.pkl\n",
      "[epoch_45.pkl---mpiigaze] Total Num:3000,MAE:14.037453418225368\n",
      "entering epoch=epoch_46.pkl\n",
      "[epoch_46.pkl---mpiigaze] Total Num:3000,MAE:13.763443706652321\n",
      "entering epoch=epoch_47.pkl\n",
      "[epoch_47.pkl---mpiigaze] Total Num:3000,MAE:13.512240887425262\n",
      "entering epoch=epoch_48.pkl\n",
      "[epoch_48.pkl---mpiigaze] Total Num:3000,MAE:13.906843842087765\n",
      "entering epoch=epoch_49.pkl\n",
      "[epoch_49.pkl---mpiigaze] Total Num:3000,MAE:13.7653161285442\n",
      "entering epoch=epoch_50.pkl\n",
      "[epoch_50.pkl---mpiigaze] Total Num:3000,MAE:13.489924494443274\n",
      "entering epoch=epoch_51.pkl\n",
      "[epoch_51.pkl---mpiigaze] Total Num:3000,MAE:13.540116439825649\n",
      "entering epoch=epoch_52.pkl\n",
      "[epoch_52.pkl---mpiigaze] Total Num:3000,MAE:13.361919390690566\n",
      "entering epoch=epoch_53.pkl\n",
      "[epoch_53.pkl---mpiigaze] Total Num:3000,MAE:14.019183231778523\n",
      "entering epoch=epoch_54.pkl\n",
      "[epoch_54.pkl---mpiigaze] Total Num:3000,MAE:13.559114843958234\n",
      "entering epoch=epoch_55.pkl\n",
      "[epoch_55.pkl---mpiigaze] Total Num:3000,MAE:13.773545360216549\n",
      "entering epoch=epoch_56.pkl\n",
      "[epoch_56.pkl---mpiigaze] Total Num:3000,MAE:13.553235596898688\n",
      "entering epoch=epoch_57.pkl\n",
      "[epoch_57.pkl---mpiigaze] Total Num:3000,MAE:13.591692597062613\n",
      "entering epoch=epoch_58.pkl\n",
      "[epoch_58.pkl---mpiigaze] Total Num:3000,MAE:13.153397134888476\n",
      "entering epoch=epoch_59.pkl\n",
      "[epoch_59.pkl---mpiigaze] Total Num:3000,MAE:13.638433732285991\n",
      "entering epoch=epoch_60.pkl\n",
      "[epoch_60.pkl---mpiigaze] Total Num:3000,MAE:13.303637760445321\n"
     ]
    },
    {
     "data": {
      "text/html": [
       "Waiting for W&B process to finish... <strong style=\"color:green\">(success).</strong>"
      ],
      "text/plain": [
       "<IPython.core.display.HTML object>"
      ]
     },
     "metadata": {},
     "output_type": "display_data"
    },
    {
     "data": {
      "application/vnd.jupyter.widget-view+json": {
       "model_id": "",
       "version_major": 2,
       "version_minor": 0
      },
      "text/plain": [
       "VBox(children=(Label(value='0.001 MB of 0.001 MB uploaded (0.000 MB deduped)\\r'), FloatProgress(value=1.0, max…"
      ]
     },
     "metadata": {},
     "output_type": "display_data"
    },
    {
     "data": {
      "text/html": [
       "<style>\n",
       "    table.wandb td:nth-child(1) { padding: 0 10px; text-align: right }\n",
       "    .wandb-row { display: flex; flex-direction: row; flex-wrap: wrap; width: 100% }\n",
       "    .wandb-col { display: flex; flex-direction: column; flex-basis: 100%; flex: 1; padding: 10px; }\n",
       "    </style>\n",
       "<div class=\"wandb-row\"><div class=\"wandb-col\"><h3>Run history:</h3><br/><table class=\"wandb\"><tr><td>fold_5_mean_mae</td><td>▂▄▄▁▂▃▅▄▂▃▅▄▃▄▄▄▄▅▅▅▅▆▆▅▅▇█▅▆▆▆▅▆▅▄▇▆▅▃▄</td></tr></table><br/></div><div class=\"wandb-col\"><h3>Run summary:</h3><br/><table class=\"wandb\"><tr><td>epoch</td><td>epoch_60.pkl</td></tr><tr><td>fold_5_mean_mae</td><td>13.30364</td></tr></table><br/></div></div>"
      ],
      "text/plain": [
       "<IPython.core.display.HTML object>"
      ]
     },
     "metadata": {},
     "output_type": "display_data"
    },
    {
     "data": {
      "text/html": [
       "Synced <strong style=\"color:#cdcd00\">swift-river-10</strong>: <a href=\"https://wandb.ai/synthesis-ai/smode_rdata_reverse_label/runs/7rh931ne\" target=\"_blank\">https://wandb.ai/synthesis-ai/smode_rdata_reverse_label/runs/7rh931ne</a><br/>Synced 5 W&B file(s), 0 media file(s), 0 artifact file(s) and 0 other file(s)"
      ],
      "text/plain": [
       "<IPython.core.display.HTML object>"
      ]
     },
     "metadata": {},
     "output_type": "display_data"
    },
    {
     "data": {
      "text/html": [
       "Find logs at: <code>./wandb/run-20220621_051754-7rh931ne/logs</code>"
      ],
      "text/plain": [
       "<IPython.core.display.HTML object>"
      ]
     },
     "metadata": {},
     "output_type": "display_data"
    },
    {
     "data": {
      "text/html": [
       "wandb version 0.12.18 is available!  To upgrade, please run:\n",
       " $ pip install wandb --upgrade"
      ],
      "text/plain": [
       "<IPython.core.display.HTML object>"
      ]
     },
     "metadata": {},
     "output_type": "display_data"
    },
    {
     "data": {
      "text/html": [
       "Tracking run with wandb version 0.12.15"
      ],
      "text/plain": [
       "<IPython.core.display.HTML object>"
      ]
     },
     "metadata": {},
     "output_type": "display_data"
    },
    {
     "data": {
      "text/html": [
       "Run data is saved locally in <code>/project/notebooks/wandb/run-20220621_053220-1myoazox</code>"
      ],
      "text/plain": [
       "<IPython.core.display.HTML object>"
      ]
     },
     "metadata": {},
     "output_type": "display_data"
    },
    {
     "data": {
      "text/html": [
       "Syncing run <strong><a href=\"https://wandb.ai/synthesis-ai/smode_rdata_reverse_label/runs/1myoazox\" target=\"_blank\">flowing-jazz-11</a></strong> to <a href=\"https://wandb.ai/synthesis-ai/smode_rdata_reverse_label\" target=\"_blank\">Weights & Biases</a> (<a href=\"https://wandb.me/run\" target=\"_blank\">docs</a>)<br/>"
      ],
      "text/plain": [
       "<IPython.core.display.HTML object>"
      ]
     },
     "metadata": {},
     "output_type": "display_data"
    },
    {
     "name": "stdout",
     "output_type": "stream",
     "text": [
      "fold=6\n",
      "/project/data/Label\n",
      "0 items removed from dataset that have an angle > 180\n",
      "\n",
      "test configuration equal gpu_id=cuda:0, batch_size=20, model_arch=ResNet50\n",
      "Start testing dataset=mpiigaze, FOLD=6 --06/20/2022 22:32:23---------\n",
      "entering epoch=epoch_1.pkl\n",
      "[epoch_1.pkl---mpiigaze] Total Num:3000,MAE:16.08042335047568\n",
      "entering epoch=epoch_2.pkl\n",
      "[epoch_2.pkl---mpiigaze] Total Num:3000,MAE:18.57745937462132\n",
      "entering epoch=epoch_3.pkl\n",
      "[epoch_3.pkl---mpiigaze] Total Num:3000,MAE:17.663260546605283\n",
      "entering epoch=epoch_4.pkl\n",
      "[epoch_4.pkl---mpiigaze] Total Num:3000,MAE:18.944636289659122\n",
      "entering epoch=epoch_5.pkl\n",
      "[epoch_5.pkl---mpiigaze] Total Num:3000,MAE:17.63721201236719\n",
      "entering epoch=epoch_6.pkl\n",
      "[epoch_6.pkl---mpiigaze] Total Num:3000,MAE:17.178765873483226\n",
      "entering epoch=epoch_7.pkl\n",
      "[epoch_7.pkl---mpiigaze] Total Num:3000,MAE:18.88427000839935\n",
      "entering epoch=epoch_8.pkl\n",
      "[epoch_8.pkl---mpiigaze] Total Num:3000,MAE:19.98379432247739\n",
      "entering epoch=epoch_9.pkl\n",
      "[epoch_9.pkl---mpiigaze] Total Num:3000,MAE:19.12567129138522\n",
      "entering epoch=epoch_10.pkl\n",
      "[epoch_10.pkl---mpiigaze] Total Num:3000,MAE:18.43187072890757\n",
      "entering epoch=epoch_11.pkl\n",
      "[epoch_11.pkl---mpiigaze] Total Num:3000,MAE:17.52479398477413\n",
      "entering epoch=epoch_12.pkl\n",
      "[epoch_12.pkl---mpiigaze] Total Num:3000,MAE:18.01563188301022\n",
      "entering epoch=epoch_13.pkl\n",
      "[epoch_13.pkl---mpiigaze] Total Num:3000,MAE:18.814522221090506\n",
      "entering epoch=epoch_14.pkl\n",
      "[epoch_14.pkl---mpiigaze] Total Num:3000,MAE:19.1795793671175\n",
      "entering epoch=epoch_15.pkl\n",
      "[epoch_15.pkl---mpiigaze] Total Num:3000,MAE:18.99468395880513\n",
      "entering epoch=epoch_16.pkl\n",
      "[epoch_16.pkl---mpiigaze] Total Num:3000,MAE:19.48466414172324\n",
      "entering epoch=epoch_17.pkl\n",
      "[epoch_17.pkl---mpiigaze] Total Num:3000,MAE:19.65241262491118\n",
      "entering epoch=epoch_18.pkl\n",
      "[epoch_18.pkl---mpiigaze] Total Num:3000,MAE:18.75119176238532\n",
      "entering epoch=epoch_19.pkl\n",
      "[epoch_19.pkl---mpiigaze] Total Num:3000,MAE:19.30657590857963\n",
      "entering epoch=epoch_20.pkl\n",
      "[epoch_20.pkl---mpiigaze] Total Num:3000,MAE:18.918015751310907\n",
      "entering epoch=epoch_21.pkl\n",
      "[epoch_21.pkl---mpiigaze] Total Num:3000,MAE:19.043578459361186\n",
      "entering epoch=epoch_22.pkl\n",
      "[epoch_22.pkl---mpiigaze] Total Num:3000,MAE:18.234151902200406\n",
      "entering epoch=epoch_23.pkl\n",
      "[epoch_23.pkl---mpiigaze] Total Num:3000,MAE:18.804681438175813\n",
      "entering epoch=epoch_24.pkl\n",
      "[epoch_24.pkl---mpiigaze] Total Num:3000,MAE:18.83699370631025\n",
      "entering epoch=epoch_25.pkl\n",
      "[epoch_25.pkl---mpiigaze] Total Num:3000,MAE:18.492965213930898\n",
      "entering epoch=epoch_26.pkl\n",
      "[epoch_26.pkl---mpiigaze] Total Num:3000,MAE:18.92770643586399\n",
      "entering epoch=epoch_27.pkl\n",
      "[epoch_27.pkl---mpiigaze] Total Num:3000,MAE:19.61008302992706\n",
      "entering epoch=epoch_28.pkl\n",
      "[epoch_28.pkl---mpiigaze] Total Num:3000,MAE:18.48358346825369\n",
      "entering epoch=epoch_29.pkl\n",
      "[epoch_29.pkl---mpiigaze] Total Num:3000,MAE:19.129543850443522\n",
      "entering epoch=epoch_30.pkl\n",
      "[epoch_30.pkl---mpiigaze] Total Num:3000,MAE:18.80947413384006\n",
      "entering epoch=epoch_31.pkl\n",
      "[epoch_31.pkl---mpiigaze] Total Num:3000,MAE:18.567257131383737\n",
      "entering epoch=epoch_32.pkl\n",
      "[epoch_32.pkl---mpiigaze] Total Num:3000,MAE:18.962034561884472\n",
      "entering epoch=epoch_33.pkl\n",
      "[epoch_33.pkl---mpiigaze] Total Num:3000,MAE:19.158396739446857\n",
      "entering epoch=epoch_34.pkl\n",
      "[epoch_34.pkl---mpiigaze] Total Num:3000,MAE:18.675427979712953\n",
      "entering epoch=epoch_35.pkl\n",
      "[epoch_35.pkl---mpiigaze] Total Num:3000,MAE:18.490562947655246\n",
      "entering epoch=epoch_36.pkl\n",
      "[epoch_36.pkl---mpiigaze] Total Num:3000,MAE:19.78324134847403\n",
      "entering epoch=epoch_37.pkl\n",
      "[epoch_37.pkl---mpiigaze] Total Num:3000,MAE:18.86653726714449\n",
      "entering epoch=epoch_38.pkl\n",
      "[epoch_38.pkl---mpiigaze] Total Num:3000,MAE:18.952265463737355\n",
      "entering epoch=epoch_39.pkl\n",
      "[epoch_39.pkl---mpiigaze] Total Num:3000,MAE:19.162819586739076\n",
      "entering epoch=epoch_40.pkl\n",
      "[epoch_40.pkl---mpiigaze] Total Num:3000,MAE:19.17524551477562\n",
      "entering epoch=epoch_41.pkl\n",
      "[epoch_41.pkl---mpiigaze] Total Num:3000,MAE:18.890016756626558\n",
      "entering epoch=epoch_42.pkl\n",
      "[epoch_42.pkl---mpiigaze] Total Num:3000,MAE:19.205605144722643\n",
      "entering epoch=epoch_43.pkl\n",
      "[epoch_43.pkl---mpiigaze] Total Num:3000,MAE:18.96253476672595\n",
      "entering epoch=epoch_44.pkl\n",
      "[epoch_44.pkl---mpiigaze] Total Num:3000,MAE:19.253399233352617\n",
      "entering epoch=epoch_45.pkl\n",
      "[epoch_45.pkl---mpiigaze] Total Num:3000,MAE:18.78209659530503\n",
      "entering epoch=epoch_46.pkl\n",
      "[epoch_46.pkl---mpiigaze] Total Num:3000,MAE:18.84939115940292\n",
      "entering epoch=epoch_47.pkl\n",
      "[epoch_47.pkl---mpiigaze] Total Num:3000,MAE:19.164472246306445\n",
      "entering epoch=epoch_48.pkl\n",
      "[epoch_48.pkl---mpiigaze] Total Num:3000,MAE:18.39982716458885\n",
      "entering epoch=epoch_49.pkl\n",
      "[epoch_49.pkl---mpiigaze] Total Num:3000,MAE:18.948511554283115\n",
      "entering epoch=epoch_50.pkl\n",
      "[epoch_50.pkl---mpiigaze] Total Num:3000,MAE:19.633711771208358\n",
      "entering epoch=epoch_51.pkl\n",
      "[epoch_51.pkl---mpiigaze] Total Num:3000,MAE:18.628862841472657\n",
      "entering epoch=epoch_52.pkl\n",
      "[epoch_52.pkl---mpiigaze] Total Num:3000,MAE:19.069163364718303\n",
      "entering epoch=epoch_53.pkl\n",
      "[epoch_53.pkl---mpiigaze] Total Num:3000,MAE:18.605500158332255\n",
      "entering epoch=epoch_54.pkl\n",
      "[epoch_54.pkl---mpiigaze] Total Num:3000,MAE:19.45495750100235\n",
      "entering epoch=epoch_55.pkl\n",
      "[epoch_55.pkl---mpiigaze] Total Num:3000,MAE:18.832142560527334\n",
      "entering epoch=epoch_56.pkl\n",
      "[epoch_56.pkl---mpiigaze] Total Num:3000,MAE:19.6260538932151\n",
      "entering epoch=epoch_57.pkl\n",
      "[epoch_57.pkl---mpiigaze] Total Num:3000,MAE:18.530289905928537\n",
      "entering epoch=epoch_58.pkl\n",
      "[epoch_58.pkl---mpiigaze] Total Num:3000,MAE:19.30868829735716\n",
      "entering epoch=epoch_59.pkl\n",
      "[epoch_59.pkl---mpiigaze] Total Num:3000,MAE:19.24065792603441\n",
      "entering epoch=epoch_60.pkl\n",
      "[epoch_60.pkl---mpiigaze] Total Num:3000,MAE:18.801815797026922\n"
     ]
    },
    {
     "data": {
      "text/html": [
       "Waiting for W&B process to finish... <strong style=\"color:green\">(success).</strong>"
      ],
      "text/plain": [
       "<IPython.core.display.HTML object>"
      ]
     },
     "metadata": {},
     "output_type": "display_data"
    },
    {
     "data": {
      "application/vnd.jupyter.widget-view+json": {
       "model_id": "",
       "version_major": 2,
       "version_minor": 0
      },
      "text/plain": [
       "VBox(children=(Label(value='0.001 MB of 0.001 MB uploaded (0.000 MB deduped)\\r'), FloatProgress(value=1.0, max…"
      ]
     },
     "metadata": {},
     "output_type": "display_data"
    },
    {
     "data": {
      "text/html": [
       "<style>\n",
       "    table.wandb td:nth-child(1) { padding: 0 10px; text-align: right }\n",
       "    .wandb-row { display: flex; flex-direction: row; flex-wrap: wrap; width: 100% }\n",
       "    .wandb-col { display: flex; flex-direction: column; flex-basis: 100%; flex: 1; padding: 10px; }\n",
       "    </style>\n",
       "<div class=\"wandb-row\"><div class=\"wandb-col\"><h3>Run history:</h3><br/><table class=\"wandb\"><tr><td>fold_6_mean_mae</td><td>▁▅▆▄▆█▅▄▆▇▇▇▇▆▅▆▅▆▅▆▅▆▆▅▆▆▇▆▆▇▆▇▆▇▆▆▆▇▇▆</td></tr></table><br/></div><div class=\"wandb-col\"><h3>Run summary:</h3><br/><table class=\"wandb\"><tr><td>epoch</td><td>epoch_60.pkl</td></tr><tr><td>fold_6_mean_mae</td><td>18.80182</td></tr></table><br/></div></div>"
      ],
      "text/plain": [
       "<IPython.core.display.HTML object>"
      ]
     },
     "metadata": {},
     "output_type": "display_data"
    },
    {
     "data": {
      "text/html": [
       "Synced <strong style=\"color:#cdcd00\">flowing-jazz-11</strong>: <a href=\"https://wandb.ai/synthesis-ai/smode_rdata_reverse_label/runs/1myoazox\" target=\"_blank\">https://wandb.ai/synthesis-ai/smode_rdata_reverse_label/runs/1myoazox</a><br/>Synced 5 W&B file(s), 0 media file(s), 0 artifact file(s) and 0 other file(s)"
      ],
      "text/plain": [
       "<IPython.core.display.HTML object>"
      ]
     },
     "metadata": {},
     "output_type": "display_data"
    },
    {
     "data": {
      "text/html": [
       "Find logs at: <code>./wandb/run-20220621_053220-1myoazox/logs</code>"
      ],
      "text/plain": [
       "<IPython.core.display.HTML object>"
      ]
     },
     "metadata": {},
     "output_type": "display_data"
    },
    {
     "data": {
      "text/html": [
       "wandb version 0.12.18 is available!  To upgrade, please run:\n",
       " $ pip install wandb --upgrade"
      ],
      "text/plain": [
       "<IPython.core.display.HTML object>"
      ]
     },
     "metadata": {},
     "output_type": "display_data"
    },
    {
     "data": {
      "text/html": [
       "Tracking run with wandb version 0.12.15"
      ],
      "text/plain": [
       "<IPython.core.display.HTML object>"
      ]
     },
     "metadata": {},
     "output_type": "display_data"
    },
    {
     "data": {
      "text/html": [
       "Run data is saved locally in <code>/project/notebooks/wandb/run-20220621_054649-oauwdb4q</code>"
      ],
      "text/plain": [
       "<IPython.core.display.HTML object>"
      ]
     },
     "metadata": {},
     "output_type": "display_data"
    },
    {
     "data": {
      "text/html": [
       "Syncing run <strong><a href=\"https://wandb.ai/synthesis-ai/smode_rdata_reverse_label/runs/oauwdb4q\" target=\"_blank\">swift-violet-12</a></strong> to <a href=\"https://wandb.ai/synthesis-ai/smode_rdata_reverse_label\" target=\"_blank\">Weights & Biases</a> (<a href=\"https://wandb.me/run\" target=\"_blank\">docs</a>)<br/>"
      ],
      "text/plain": [
       "<IPython.core.display.HTML object>"
      ]
     },
     "metadata": {},
     "output_type": "display_data"
    },
    {
     "name": "stdout",
     "output_type": "stream",
     "text": [
      "fold=7\n",
      "/project/data/Label\n",
      "0 items removed from dataset that have an angle > 180\n",
      "\n",
      "test configuration equal gpu_id=cuda:0, batch_size=20, model_arch=ResNet50\n",
      "Start testing dataset=mpiigaze, FOLD=7 --06/20/2022 22:46:52---------\n",
      "entering epoch=epoch_1.pkl\n",
      "[epoch_1.pkl---mpiigaze] Total Num:3000,MAE:11.701558426092147\n",
      "entering epoch=epoch_2.pkl\n",
      "[epoch_2.pkl---mpiigaze] Total Num:3000,MAE:11.32095934983376\n",
      "entering epoch=epoch_3.pkl\n",
      "[epoch_3.pkl---mpiigaze] Total Num:3000,MAE:13.055555310235041\n",
      "entering epoch=epoch_4.pkl\n",
      "[epoch_4.pkl---mpiigaze] Total Num:3000,MAE:12.49989937133561\n",
      "entering epoch=epoch_5.pkl\n",
      "[epoch_5.pkl---mpiigaze] Total Num:3000,MAE:12.915228684669462\n",
      "entering epoch=epoch_6.pkl\n",
      "[epoch_6.pkl---mpiigaze] Total Num:3000,MAE:13.030572695991978\n",
      "entering epoch=epoch_7.pkl\n",
      "[epoch_7.pkl---mpiigaze] Total Num:3000,MAE:13.738697004583607\n",
      "entering epoch=epoch_8.pkl\n",
      "[epoch_8.pkl---mpiigaze] Total Num:3000,MAE:13.85463794012471\n",
      "entering epoch=epoch_9.pkl\n",
      "[epoch_9.pkl---mpiigaze] Total Num:3000,MAE:15.592536990124424\n",
      "entering epoch=epoch_10.pkl\n",
      "[epoch_10.pkl---mpiigaze] Total Num:3000,MAE:13.962183637390297\n",
      "entering epoch=epoch_11.pkl\n",
      "[epoch_11.pkl---mpiigaze] Total Num:3000,MAE:14.85563004689227\n",
      "entering epoch=epoch_12.pkl\n",
      "[epoch_12.pkl---mpiigaze] Total Num:3000,MAE:15.563331182730032\n",
      "entering epoch=epoch_13.pkl\n",
      "[epoch_13.pkl---mpiigaze] Total Num:3000,MAE:14.516710183762582\n",
      "entering epoch=epoch_14.pkl\n",
      "[epoch_14.pkl---mpiigaze] Total Num:3000,MAE:15.15267281493918\n",
      "entering epoch=epoch_15.pkl\n",
      "[epoch_15.pkl---mpiigaze] Total Num:3000,MAE:14.436092634341016\n",
      "entering epoch=epoch_16.pkl\n",
      "[epoch_16.pkl---mpiigaze] Total Num:3000,MAE:14.590438098339051\n",
      "entering epoch=epoch_17.pkl\n",
      "[epoch_17.pkl---mpiigaze] Total Num:3000,MAE:15.458827577848249\n",
      "entering epoch=epoch_18.pkl\n",
      "[epoch_18.pkl---mpiigaze] Total Num:3000,MAE:16.186598365890465\n",
      "entering epoch=epoch_19.pkl\n",
      "[epoch_19.pkl---mpiigaze] Total Num:3000,MAE:14.84114362833392\n",
      "entering epoch=epoch_20.pkl\n",
      "[epoch_20.pkl---mpiigaze] Total Num:3000,MAE:15.38382350929064\n",
      "entering epoch=epoch_21.pkl\n",
      "[epoch_21.pkl---mpiigaze] Total Num:3000,MAE:15.716236473602187\n",
      "entering epoch=epoch_22.pkl\n",
      "[epoch_22.pkl---mpiigaze] Total Num:3000,MAE:15.453584588423437\n",
      "entering epoch=epoch_23.pkl\n",
      "[epoch_23.pkl---mpiigaze] Total Num:3000,MAE:15.968966853301286\n",
      "entering epoch=epoch_24.pkl\n",
      "[epoch_24.pkl---mpiigaze] Total Num:3000,MAE:15.037302366628753\n",
      "entering epoch=epoch_25.pkl\n",
      "[epoch_25.pkl---mpiigaze] Total Num:3000,MAE:16.035048839486226\n",
      "entering epoch=epoch_26.pkl\n",
      "[epoch_26.pkl---mpiigaze] Total Num:3000,MAE:15.570618571009067\n",
      "entering epoch=epoch_27.pkl\n",
      "[epoch_27.pkl---mpiigaze] Total Num:3000,MAE:15.560434858245697\n",
      "entering epoch=epoch_28.pkl\n",
      "[epoch_28.pkl---mpiigaze] Total Num:3000,MAE:15.239337456585568\n",
      "entering epoch=epoch_29.pkl\n",
      "[epoch_29.pkl---mpiigaze] Total Num:3000,MAE:15.814567793278925\n",
      "entering epoch=epoch_30.pkl\n",
      "[epoch_30.pkl---mpiigaze] Total Num:3000,MAE:16.63372980531391\n",
      "entering epoch=epoch_31.pkl\n",
      "[epoch_31.pkl---mpiigaze] Total Num:3000,MAE:15.495482409024875\n",
      "entering epoch=epoch_32.pkl\n",
      "[epoch_32.pkl---mpiigaze] Total Num:3000,MAE:16.405543084205583\n",
      "entering epoch=epoch_33.pkl\n",
      "[epoch_33.pkl---mpiigaze] Total Num:3000,MAE:15.69108342918444\n",
      "entering epoch=epoch_34.pkl\n",
      "[epoch_34.pkl---mpiigaze] Total Num:3000,MAE:16.225898091628423\n",
      "entering epoch=epoch_35.pkl\n",
      "[epoch_35.pkl---mpiigaze] Total Num:3000,MAE:16.63968829141144\n",
      "entering epoch=epoch_36.pkl\n",
      "[epoch_36.pkl---mpiigaze] Total Num:3000,MAE:16.33269295747969\n",
      "entering epoch=epoch_37.pkl\n",
      "[epoch_37.pkl---mpiigaze] Total Num:3000,MAE:16.955215548989973\n",
      "entering epoch=epoch_38.pkl\n",
      "[epoch_38.pkl---mpiigaze] Total Num:3000,MAE:16.624600311921622\n",
      "entering epoch=epoch_39.pkl\n",
      "[epoch_39.pkl---mpiigaze] Total Num:3000,MAE:16.524658596950164\n",
      "entering epoch=epoch_40.pkl\n",
      "[epoch_40.pkl---mpiigaze] Total Num:3000,MAE:16.7754477026667\n",
      "entering epoch=epoch_41.pkl\n",
      "[epoch_41.pkl---mpiigaze] Total Num:3000,MAE:16.335941874567478\n",
      "entering epoch=epoch_42.pkl\n",
      "[epoch_42.pkl---mpiigaze] Total Num:3000,MAE:16.22957639254282\n",
      "entering epoch=epoch_43.pkl\n",
      "[epoch_43.pkl---mpiigaze] Total Num:3000,MAE:16.559732909810517\n",
      "entering epoch=epoch_44.pkl\n",
      "[epoch_44.pkl---mpiigaze] Total Num:3000,MAE:16.158693135188614\n",
      "entering epoch=epoch_45.pkl\n",
      "[epoch_45.pkl---mpiigaze] Total Num:3000,MAE:15.653597419547555\n",
      "entering epoch=epoch_46.pkl\n",
      "[epoch_46.pkl---mpiigaze] Total Num:3000,MAE:15.910180420266812\n",
      "entering epoch=epoch_47.pkl\n",
      "[epoch_47.pkl---mpiigaze] Total Num:3000,MAE:16.2732708673434\n",
      "entering epoch=epoch_48.pkl\n",
      "[epoch_48.pkl---mpiigaze] Total Num:3000,MAE:16.437332578077463\n",
      "entering epoch=epoch_49.pkl\n",
      "[epoch_49.pkl---mpiigaze] Total Num:3000,MAE:16.12566556968042\n",
      "entering epoch=epoch_50.pkl\n",
      "[epoch_50.pkl---mpiigaze] Total Num:3000,MAE:15.632793714228429\n",
      "entering epoch=epoch_51.pkl\n",
      "[epoch_51.pkl---mpiigaze] Total Num:3000,MAE:16.48978895685608\n",
      "entering epoch=epoch_52.pkl\n",
      "[epoch_52.pkl---mpiigaze] Total Num:3000,MAE:16.397829076359717\n",
      "entering epoch=epoch_53.pkl\n",
      "[epoch_53.pkl---mpiigaze] Total Num:3000,MAE:15.693701150905996\n",
      "entering epoch=epoch_54.pkl\n",
      "[epoch_54.pkl---mpiigaze] Total Num:3000,MAE:16.241718796199464\n",
      "entering epoch=epoch_55.pkl\n",
      "[epoch_55.pkl---mpiigaze] Total Num:3000,MAE:16.150276022753086\n",
      "entering epoch=epoch_56.pkl\n",
      "[epoch_56.pkl---mpiigaze] Total Num:3000,MAE:16.251759000888764\n",
      "entering epoch=epoch_57.pkl\n",
      "[epoch_57.pkl---mpiigaze] Total Num:3000,MAE:16.415972950372105\n",
      "entering epoch=epoch_58.pkl\n",
      "[epoch_58.pkl---mpiigaze] Total Num:3000,MAE:15.364603578490588\n",
      "entering epoch=epoch_59.pkl\n",
      "[epoch_59.pkl---mpiigaze] Total Num:3000,MAE:16.08030123386042\n",
      "entering epoch=epoch_60.pkl\n",
      "[epoch_60.pkl---mpiigaze] Total Num:3000,MAE:16.180221214004785\n"
     ]
    },
    {
     "data": {
      "text/html": [
       "Waiting for W&B process to finish... <strong style=\"color:green\">(success).</strong>"
      ],
      "text/plain": [
       "<IPython.core.display.HTML object>"
      ]
     },
     "metadata": {},
     "output_type": "display_data"
    },
    {
     "data": {
      "application/vnd.jupyter.widget-view+json": {
       "model_id": "",
       "version_major": 2,
       "version_minor": 0
      },
      "text/plain": [
       "VBox(children=(Label(value='0.001 MB of 0.001 MB uploaded (0.000 MB deduped)\\r'), FloatProgress(value=1.0, max…"
      ]
     },
     "metadata": {},
     "output_type": "display_data"
    },
    {
     "data": {
      "text/html": [
       "<style>\n",
       "    table.wandb td:nth-child(1) { padding: 0 10px; text-align: right }\n",
       "    .wandb-row { display: flex; flex-direction: row; flex-wrap: wrap; width: 100% }\n",
       "    .wandb-col { display: flex; flex-direction: column; flex-basis: 100%; flex: 1; padding: 10px; }\n",
       "    </style>\n",
       "<div class=\"wandb-row\"><div class=\"wandb-col\"><h3>Run history:</h3><br/><table class=\"wandb\"><tr><td>fold_7_mean_mae</td><td>▁▁▂▃▄▄▄▅▅▆▅▆▅▆▆▇▇▆▆▇▆▇▇████▇█▇▇▇▇▆▇▆▇▇▆▇</td></tr></table><br/></div><div class=\"wandb-col\"><h3>Run summary:</h3><br/><table class=\"wandb\"><tr><td>epoch</td><td>epoch_60.pkl</td></tr><tr><td>fold_7_mean_mae</td><td>16.18022</td></tr></table><br/></div></div>"
      ],
      "text/plain": [
       "<IPython.core.display.HTML object>"
      ]
     },
     "metadata": {},
     "output_type": "display_data"
    },
    {
     "data": {
      "text/html": [
       "Synced <strong style=\"color:#cdcd00\">swift-violet-12</strong>: <a href=\"https://wandb.ai/synthesis-ai/smode_rdata_reverse_label/runs/oauwdb4q\" target=\"_blank\">https://wandb.ai/synthesis-ai/smode_rdata_reverse_label/runs/oauwdb4q</a><br/>Synced 5 W&B file(s), 0 media file(s), 0 artifact file(s) and 0 other file(s)"
      ],
      "text/plain": [
       "<IPython.core.display.HTML object>"
      ]
     },
     "metadata": {},
     "output_type": "display_data"
    },
    {
     "data": {
      "text/html": [
       "Find logs at: <code>./wandb/run-20220621_054649-oauwdb4q/logs</code>"
      ],
      "text/plain": [
       "<IPython.core.display.HTML object>"
      ]
     },
     "metadata": {},
     "output_type": "display_data"
    },
    {
     "data": {
      "text/html": [
       "wandb version 0.12.18 is available!  To upgrade, please run:\n",
       " $ pip install wandb --upgrade"
      ],
      "text/plain": [
       "<IPython.core.display.HTML object>"
      ]
     },
     "metadata": {},
     "output_type": "display_data"
    },
    {
     "data": {
      "text/html": [
       "Tracking run with wandb version 0.12.15"
      ],
      "text/plain": [
       "<IPython.core.display.HTML object>"
      ]
     },
     "metadata": {},
     "output_type": "display_data"
    },
    {
     "data": {
      "text/html": [
       "Run data is saved locally in <code>/project/notebooks/wandb/run-20220621_060114-1567co1o</code>"
      ],
      "text/plain": [
       "<IPython.core.display.HTML object>"
      ]
     },
     "metadata": {},
     "output_type": "display_data"
    },
    {
     "data": {
      "text/html": [
       "Syncing run <strong><a href=\"https://wandb.ai/synthesis-ai/smode_rdata_reverse_label/runs/1567co1o\" target=\"_blank\">cosmic-dust-13</a></strong> to <a href=\"https://wandb.ai/synthesis-ai/smode_rdata_reverse_label\" target=\"_blank\">Weights & Biases</a> (<a href=\"https://wandb.me/run\" target=\"_blank\">docs</a>)<br/>"
      ],
      "text/plain": [
       "<IPython.core.display.HTML object>"
      ]
     },
     "metadata": {},
     "output_type": "display_data"
    },
    {
     "name": "stdout",
     "output_type": "stream",
     "text": [
      "fold=8\n",
      "/project/data/Label\n",
      "0 items removed from dataset that have an angle > 180\n",
      "\n",
      "test configuration equal gpu_id=cuda:0, batch_size=20, model_arch=ResNet50\n",
      "Start testing dataset=mpiigaze, FOLD=8 --06/20/2022 23:01:18---------\n",
      "entering epoch=epoch_1.pkl\n",
      "[epoch_1.pkl---mpiigaze] Total Num:3000,MAE:10.95402214855577\n",
      "entering epoch=epoch_2.pkl\n",
      "[epoch_2.pkl---mpiigaze] Total Num:3000,MAE:11.304049121940958\n",
      "entering epoch=epoch_3.pkl\n",
      "[epoch_3.pkl---mpiigaze] Total Num:3000,MAE:11.893687034377889\n",
      "entering epoch=epoch_4.pkl\n",
      "[epoch_4.pkl---mpiigaze] Total Num:3000,MAE:12.36003662439404\n",
      "entering epoch=epoch_5.pkl\n",
      "[epoch_5.pkl---mpiigaze] Total Num:3000,MAE:12.2392622219831\n",
      "entering epoch=epoch_6.pkl\n",
      "[epoch_6.pkl---mpiigaze] Total Num:3000,MAE:12.29843624485193\n",
      "entering epoch=epoch_7.pkl\n",
      "[epoch_7.pkl---mpiigaze] Total Num:3000,MAE:12.52418600846771\n",
      "entering epoch=epoch_8.pkl\n",
      "[epoch_8.pkl---mpiigaze] Total Num:3000,MAE:12.476249925474956\n",
      "entering epoch=epoch_9.pkl\n",
      "[epoch_9.pkl---mpiigaze] Total Num:3000,MAE:12.790121631825993\n",
      "entering epoch=epoch_10.pkl\n",
      "[epoch_10.pkl---mpiigaze] Total Num:3000,MAE:12.671244104213017\n",
      "entering epoch=epoch_11.pkl\n",
      "[epoch_11.pkl---mpiigaze] Total Num:3000,MAE:12.859664554893993\n",
      "entering epoch=epoch_12.pkl\n",
      "[epoch_12.pkl---mpiigaze] Total Num:3000,MAE:13.202106253206964\n",
      "entering epoch=epoch_13.pkl\n",
      "[epoch_13.pkl---mpiigaze] Total Num:3000,MAE:12.696000904229622\n",
      "entering epoch=epoch_14.pkl\n",
      "[epoch_14.pkl---mpiigaze] Total Num:3000,MAE:13.013730947767366\n",
      "entering epoch=epoch_15.pkl\n",
      "[epoch_15.pkl---mpiigaze] Total Num:3000,MAE:13.709083112239066\n",
      "entering epoch=epoch_16.pkl\n",
      "[epoch_16.pkl---mpiigaze] Total Num:3000,MAE:12.997212660853569\n",
      "entering epoch=epoch_17.pkl\n",
      "[epoch_17.pkl---mpiigaze] Total Num:3000,MAE:13.663755620349962\n",
      "entering epoch=epoch_18.pkl\n",
      "[epoch_18.pkl---mpiigaze] Total Num:3000,MAE:13.963093546690367\n",
      "entering epoch=epoch_19.pkl\n",
      "[epoch_19.pkl---mpiigaze] Total Num:3000,MAE:13.198257964222375\n",
      "entering epoch=epoch_20.pkl\n",
      "[epoch_20.pkl---mpiigaze] Total Num:3000,MAE:12.810557918098498\n",
      "entering epoch=epoch_21.pkl\n",
      "[epoch_21.pkl---mpiigaze] Total Num:3000,MAE:14.137539727938645\n",
      "entering epoch=epoch_22.pkl\n",
      "[epoch_22.pkl---mpiigaze] Total Num:3000,MAE:13.416081780714931\n",
      "entering epoch=epoch_23.pkl\n",
      "[epoch_23.pkl---mpiigaze] Total Num:3000,MAE:12.906299428469419\n",
      "entering epoch=epoch_24.pkl\n",
      "[epoch_24.pkl---mpiigaze] Total Num:3000,MAE:13.620868650757192\n",
      "entering epoch=epoch_25.pkl\n",
      "[epoch_25.pkl---mpiigaze] Total Num:3000,MAE:12.929473038861989\n",
      "entering epoch=epoch_26.pkl\n",
      "[epoch_26.pkl---mpiigaze] Total Num:3000,MAE:13.67281070322366\n",
      "entering epoch=epoch_27.pkl\n",
      "[epoch_27.pkl---mpiigaze] Total Num:3000,MAE:13.66730298689462\n",
      "entering epoch=epoch_28.pkl\n",
      "[epoch_28.pkl---mpiigaze] Total Num:3000,MAE:13.859982099055163\n",
      "entering epoch=epoch_29.pkl\n",
      "[epoch_29.pkl---mpiigaze] Total Num:3000,MAE:13.559314143130694\n",
      "entering epoch=epoch_30.pkl\n",
      "[epoch_30.pkl---mpiigaze] Total Num:3000,MAE:13.52061251090307\n",
      "entering epoch=epoch_31.pkl\n",
      "[epoch_31.pkl---mpiigaze] Total Num:3000,MAE:13.53623438547011\n",
      "entering epoch=epoch_32.pkl\n",
      "[epoch_32.pkl---mpiigaze] Total Num:3000,MAE:13.967053089411042\n",
      "entering epoch=epoch_33.pkl\n",
      "[epoch_33.pkl---mpiigaze] Total Num:3000,MAE:13.32585174186542\n",
      "entering epoch=epoch_34.pkl\n",
      "[epoch_34.pkl---mpiigaze] Total Num:3000,MAE:13.638361444741523\n",
      "entering epoch=epoch_35.pkl\n",
      "[epoch_35.pkl---mpiigaze] Total Num:3000,MAE:13.862296269514118\n",
      "entering epoch=epoch_36.pkl\n",
      "[epoch_36.pkl---mpiigaze] Total Num:3000,MAE:13.802867834109835\n",
      "entering epoch=epoch_37.pkl\n",
      "[epoch_37.pkl---mpiigaze] Total Num:3000,MAE:13.87833342892931\n",
      "entering epoch=epoch_38.pkl\n",
      "[epoch_38.pkl---mpiigaze] Total Num:3000,MAE:13.932734707915339\n",
      "entering epoch=epoch_39.pkl\n",
      "[epoch_39.pkl---mpiigaze] Total Num:3000,MAE:14.359070348037848\n",
      "entering epoch=epoch_40.pkl\n",
      "[epoch_40.pkl---mpiigaze] Total Num:3000,MAE:13.554474874677574\n",
      "entering epoch=epoch_41.pkl\n",
      "[epoch_41.pkl---mpiigaze] Total Num:3000,MAE:13.7452056842509\n",
      "entering epoch=epoch_42.pkl\n",
      "[epoch_42.pkl---mpiigaze] Total Num:3000,MAE:13.922077039789995\n",
      "entering epoch=epoch_43.pkl\n",
      "[epoch_43.pkl---mpiigaze] Total Num:3000,MAE:13.688208087472718\n",
      "entering epoch=epoch_44.pkl\n",
      "[epoch_44.pkl---mpiigaze] Total Num:3000,MAE:13.829781734817796\n",
      "entering epoch=epoch_45.pkl\n",
      "[epoch_45.pkl---mpiigaze] Total Num:3000,MAE:13.626198131892231\n",
      "entering epoch=epoch_46.pkl\n",
      "[epoch_46.pkl---mpiigaze] Total Num:3000,MAE:14.346772197645143\n",
      "entering epoch=epoch_47.pkl\n",
      "[epoch_47.pkl---mpiigaze] Total Num:3000,MAE:14.392168867337103\n",
      "entering epoch=epoch_48.pkl\n",
      "[epoch_48.pkl---mpiigaze] Total Num:3000,MAE:14.101224822770908\n",
      "entering epoch=epoch_49.pkl\n",
      "[epoch_49.pkl---mpiigaze] Total Num:3000,MAE:13.986615942915778\n",
      "entering epoch=epoch_50.pkl\n",
      "[epoch_50.pkl---mpiigaze] Total Num:3000,MAE:14.399989367619302\n",
      "entering epoch=epoch_51.pkl\n",
      "[epoch_51.pkl---mpiigaze] Total Num:3000,MAE:14.771328018650308\n",
      "entering epoch=epoch_52.pkl\n",
      "[epoch_52.pkl---mpiigaze] Total Num:3000,MAE:14.429561441770169\n",
      "entering epoch=epoch_53.pkl\n",
      "[epoch_53.pkl---mpiigaze] Total Num:3000,MAE:14.30665605862791\n",
      "entering epoch=epoch_54.pkl\n",
      "[epoch_54.pkl---mpiigaze] Total Num:3000,MAE:14.516049136536411\n",
      "entering epoch=epoch_55.pkl\n",
      "[epoch_55.pkl---mpiigaze] Total Num:3000,MAE:14.683908874637456\n",
      "entering epoch=epoch_56.pkl\n",
      "[epoch_56.pkl---mpiigaze] Total Num:3000,MAE:14.952086995069653\n",
      "entering epoch=epoch_57.pkl\n",
      "[epoch_57.pkl---mpiigaze] Total Num:3000,MAE:14.65115918711316\n",
      "entering epoch=epoch_58.pkl\n",
      "[epoch_58.pkl---mpiigaze] Total Num:3000,MAE:15.371799699234057\n",
      "entering epoch=epoch_59.pkl\n",
      "[epoch_59.pkl---mpiigaze] Total Num:3000,MAE:14.82481723572677\n",
      "entering epoch=epoch_60.pkl\n",
      "[epoch_60.pkl---mpiigaze] Total Num:3000,MAE:14.844476823869018\n"
     ]
    },
    {
     "data": {
      "text/html": [
       "Waiting for W&B process to finish... <strong style=\"color:green\">(success).</strong>"
      ],
      "text/plain": [
       "<IPython.core.display.HTML object>"
      ]
     },
     "metadata": {},
     "output_type": "display_data"
    },
    {
     "data": {
      "application/vnd.jupyter.widget-view+json": {
       "model_id": "",
       "version_major": 2,
       "version_minor": 0
      },
      "text/plain": [
       "VBox(children=(Label(value='0.001 MB of 0.001 MB uploaded (0.000 MB deduped)\\r'), FloatProgress(value=1.0, max…"
      ]
     },
     "metadata": {},
     "output_type": "display_data"
    },
    {
     "data": {
      "text/html": [
       "<style>\n",
       "    table.wandb td:nth-child(1) { padding: 0 10px; text-align: right }\n",
       "    .wandb-row { display: flex; flex-direction: row; flex-wrap: wrap; width: 100% }\n",
       "    .wandb-col { display: flex; flex-direction: column; flex-basis: 100%; flex: 1; padding: 10px; }\n",
       "    </style>\n",
       "<div class=\"wandb-row\"><div class=\"wandb-col\"><h3>Run history:</h3><br/><table class=\"wandb\"><tr><td>fold_8_mean_mae</td><td>▁▂▃▃▃▃▄▄▄▄▄▅▅▄▅▄▄▅▆▅▅▆▅▆▆▆▅▅▅▆▆▆▆▆▇▆▇▇█▇</td></tr></table><br/></div><div class=\"wandb-col\"><h3>Run summary:</h3><br/><table class=\"wandb\"><tr><td>epoch</td><td>epoch_60.pkl</td></tr><tr><td>fold_8_mean_mae</td><td>14.84448</td></tr></table><br/></div></div>"
      ],
      "text/plain": [
       "<IPython.core.display.HTML object>"
      ]
     },
     "metadata": {},
     "output_type": "display_data"
    },
    {
     "data": {
      "text/html": [
       "Synced <strong style=\"color:#cdcd00\">cosmic-dust-13</strong>: <a href=\"https://wandb.ai/synthesis-ai/smode_rdata_reverse_label/runs/1567co1o\" target=\"_blank\">https://wandb.ai/synthesis-ai/smode_rdata_reverse_label/runs/1567co1o</a><br/>Synced 5 W&B file(s), 0 media file(s), 0 artifact file(s) and 0 other file(s)"
      ],
      "text/plain": [
       "<IPython.core.display.HTML object>"
      ]
     },
     "metadata": {},
     "output_type": "display_data"
    },
    {
     "data": {
      "text/html": [
       "Find logs at: <code>./wandb/run-20220621_060114-1567co1o/logs</code>"
      ],
      "text/plain": [
       "<IPython.core.display.HTML object>"
      ]
     },
     "metadata": {},
     "output_type": "display_data"
    },
    {
     "data": {
      "text/html": [
       "wandb version 0.12.18 is available!  To upgrade, please run:\n",
       " $ pip install wandb --upgrade"
      ],
      "text/plain": [
       "<IPython.core.display.HTML object>"
      ]
     },
     "metadata": {},
     "output_type": "display_data"
    },
    {
     "data": {
      "text/html": [
       "Tracking run with wandb version 0.12.15"
      ],
      "text/plain": [
       "<IPython.core.display.HTML object>"
      ]
     },
     "metadata": {},
     "output_type": "display_data"
    },
    {
     "data": {
      "text/html": [
       "Run data is saved locally in <code>/project/notebooks/wandb/run-20220621_061541-23bqw7h4</code>"
      ],
      "text/plain": [
       "<IPython.core.display.HTML object>"
      ]
     },
     "metadata": {},
     "output_type": "display_data"
    },
    {
     "data": {
      "text/html": [
       "Syncing run <strong><a href=\"https://wandb.ai/synthesis-ai/smode_rdata_reverse_label/runs/23bqw7h4\" target=\"_blank\">crimson-pond-14</a></strong> to <a href=\"https://wandb.ai/synthesis-ai/smode_rdata_reverse_label\" target=\"_blank\">Weights & Biases</a> (<a href=\"https://wandb.me/run\" target=\"_blank\">docs</a>)<br/>"
      ],
      "text/plain": [
       "<IPython.core.display.HTML object>"
      ]
     },
     "metadata": {},
     "output_type": "display_data"
    },
    {
     "name": "stdout",
     "output_type": "stream",
     "text": [
      "fold=9\n",
      "/project/data/Label\n",
      "0 items removed from dataset that have an angle > 180\n",
      "\n",
      "test configuration equal gpu_id=cuda:0, batch_size=20, model_arch=ResNet50\n",
      "Start testing dataset=mpiigaze, FOLD=9 --06/20/2022 23:15:44---------\n",
      "entering epoch=epoch_1.pkl\n",
      "[epoch_1.pkl---mpiigaze] Total Num:3000,MAE:12.053100030656031\n",
      "entering epoch=epoch_2.pkl\n",
      "[epoch_2.pkl---mpiigaze] Total Num:3000,MAE:10.836655655801914\n",
      "entering epoch=epoch_3.pkl\n",
      "[epoch_3.pkl---mpiigaze] Total Num:3000,MAE:11.25992503464087\n",
      "entering epoch=epoch_4.pkl\n",
      "[epoch_4.pkl---mpiigaze] Total Num:3000,MAE:10.604978366348888\n",
      "entering epoch=epoch_5.pkl\n",
      "[epoch_5.pkl---mpiigaze] Total Num:3000,MAE:10.789469488122933\n",
      "entering epoch=epoch_6.pkl\n",
      "[epoch_6.pkl---mpiigaze] Total Num:3000,MAE:10.834001876221553\n",
      "entering epoch=epoch_7.pkl\n",
      "[epoch_7.pkl---mpiigaze] Total Num:3000,MAE:11.128504542851912\n",
      "entering epoch=epoch_8.pkl\n",
      "[epoch_8.pkl---mpiigaze] Total Num:3000,MAE:11.223071720138968\n",
      "entering epoch=epoch_9.pkl\n",
      "[epoch_9.pkl---mpiigaze] Total Num:3000,MAE:11.928570003691478\n",
      "entering epoch=epoch_10.pkl\n",
      "[epoch_10.pkl---mpiigaze] Total Num:3000,MAE:11.675110606186504\n",
      "entering epoch=epoch_11.pkl\n",
      "[epoch_11.pkl---mpiigaze] Total Num:3000,MAE:11.756610842100434\n",
      "entering epoch=epoch_12.pkl\n",
      "[epoch_12.pkl---mpiigaze] Total Num:3000,MAE:11.375079952526969\n",
      "entering epoch=epoch_13.pkl\n",
      "[epoch_13.pkl---mpiigaze] Total Num:3000,MAE:11.623018563856135\n",
      "entering epoch=epoch_14.pkl\n",
      "[epoch_14.pkl---mpiigaze] Total Num:3000,MAE:12.049018201804962\n",
      "entering epoch=epoch_15.pkl\n",
      "[epoch_15.pkl---mpiigaze] Total Num:3000,MAE:11.5017459583685\n",
      "entering epoch=epoch_16.pkl\n",
      "[epoch_16.pkl---mpiigaze] Total Num:3000,MAE:12.019992065191106\n",
      "entering epoch=epoch_17.pkl\n",
      "[epoch_17.pkl---mpiigaze] Total Num:3000,MAE:11.731784960433254\n",
      "entering epoch=epoch_18.pkl\n",
      "[epoch_18.pkl---mpiigaze] Total Num:3000,MAE:11.817036159595785\n",
      "entering epoch=epoch_19.pkl\n",
      "[epoch_19.pkl---mpiigaze] Total Num:3000,MAE:11.866317849164528\n",
      "entering epoch=epoch_20.pkl\n",
      "[epoch_20.pkl---mpiigaze] Total Num:3000,MAE:11.393026223426423\n",
      "entering epoch=epoch_21.pkl\n",
      "[epoch_21.pkl---mpiigaze] Total Num:3000,MAE:11.767032410661212\n",
      "entering epoch=epoch_22.pkl\n",
      "[epoch_22.pkl---mpiigaze] Total Num:3000,MAE:12.131849146025685\n",
      "entering epoch=epoch_23.pkl\n",
      "[epoch_23.pkl---mpiigaze] Total Num:3000,MAE:11.542238749020294\n",
      "entering epoch=epoch_24.pkl\n",
      "[epoch_24.pkl---mpiigaze] Total Num:3000,MAE:11.45803143672494\n",
      "entering epoch=epoch_25.pkl\n",
      "[epoch_25.pkl---mpiigaze] Total Num:3000,MAE:11.891103614014423\n",
      "entering epoch=epoch_26.pkl\n",
      "[epoch_26.pkl---mpiigaze] Total Num:3000,MAE:12.094697891133256\n",
      "entering epoch=epoch_27.pkl\n",
      "[epoch_27.pkl---mpiigaze] Total Num:3000,MAE:11.691587397068727\n",
      "entering epoch=epoch_28.pkl\n",
      "[epoch_28.pkl---mpiigaze] Total Num:3000,MAE:12.245230796986855\n",
      "entering epoch=epoch_29.pkl\n",
      "[epoch_29.pkl---mpiigaze] Total Num:3000,MAE:12.002905976223417\n",
      "entering epoch=epoch_30.pkl\n",
      "[epoch_30.pkl---mpiigaze] Total Num:3000,MAE:12.146610933781407\n",
      "entering epoch=epoch_31.pkl\n",
      "[epoch_31.pkl---mpiigaze] Total Num:3000,MAE:12.437113196995476\n",
      "entering epoch=epoch_32.pkl\n",
      "[epoch_32.pkl---mpiigaze] Total Num:3000,MAE:13.18092699401156\n",
      "entering epoch=epoch_33.pkl\n",
      "[epoch_33.pkl---mpiigaze] Total Num:3000,MAE:12.795815531769492\n",
      "entering epoch=epoch_34.pkl\n",
      "[epoch_34.pkl---mpiigaze] Total Num:3000,MAE:11.941647486323314\n",
      "entering epoch=epoch_35.pkl\n",
      "[epoch_35.pkl---mpiigaze] Total Num:3000,MAE:12.634665807483476\n",
      "entering epoch=epoch_36.pkl\n",
      "[epoch_36.pkl---mpiigaze] Total Num:3000,MAE:12.782748744975695\n",
      "entering epoch=epoch_37.pkl\n",
      "[epoch_37.pkl---mpiigaze] Total Num:3000,MAE:12.455965938090923\n",
      "entering epoch=epoch_38.pkl\n",
      "[epoch_38.pkl---mpiigaze] Total Num:3000,MAE:12.724993518425096\n",
      "entering epoch=epoch_39.pkl\n",
      "[epoch_39.pkl---mpiigaze] Total Num:3000,MAE:13.000373559635523\n",
      "entering epoch=epoch_40.pkl\n",
      "[epoch_40.pkl---mpiigaze] Total Num:3000,MAE:11.753425579174458\n",
      "entering epoch=epoch_41.pkl\n",
      "[epoch_41.pkl---mpiigaze] Total Num:3000,MAE:12.51182358399635\n",
      "entering epoch=epoch_42.pkl\n",
      "[epoch_42.pkl---mpiigaze] Total Num:3000,MAE:12.627364141672105\n",
      "entering epoch=epoch_43.pkl\n",
      "[epoch_43.pkl---mpiigaze] Total Num:3000,MAE:12.441824097651322\n",
      "entering epoch=epoch_44.pkl\n",
      "[epoch_44.pkl---mpiigaze] Total Num:3000,MAE:12.158319291966967\n",
      "entering epoch=epoch_45.pkl\n",
      "[epoch_45.pkl---mpiigaze] Total Num:3000,MAE:11.97823323809436\n",
      "entering epoch=epoch_46.pkl\n",
      "[epoch_46.pkl---mpiigaze] Total Num:3000,MAE:11.971812767910565\n",
      "entering epoch=epoch_47.pkl\n",
      "[epoch_47.pkl---mpiigaze] Total Num:3000,MAE:12.159251012399967\n",
      "entering epoch=epoch_48.pkl\n",
      "[epoch_48.pkl---mpiigaze] Total Num:3000,MAE:12.315153478925913\n",
      "entering epoch=epoch_49.pkl\n",
      "[epoch_49.pkl---mpiigaze] Total Num:3000,MAE:13.027403475838012\n",
      "entering epoch=epoch_50.pkl\n",
      "[epoch_50.pkl---mpiigaze] Total Num:3000,MAE:12.424751918794703\n",
      "entering epoch=epoch_51.pkl\n",
      "[epoch_51.pkl---mpiigaze] Total Num:3000,MAE:12.53986596794166\n",
      "entering epoch=epoch_52.pkl\n",
      "[epoch_59.pkl---mpiigaze] Total Num:3000,MAE:12.488353358235747\n",
      "entering epoch=epoch_60.pkl\n",
      "[epoch_60.pkl---mpiigaze] Total Num:3000,MAE:11.831848556428941\n"
     ]
    },
    {
     "data": {
      "text/html": [
       "Waiting for W&B process to finish... <strong style=\"color:green\">(success).</strong>"
      ],
      "text/plain": [
       "<IPython.core.display.HTML object>"
      ]
     },
     "metadata": {},
     "output_type": "display_data"
    },
    {
     "data": {
      "application/vnd.jupyter.widget-view+json": {
       "model_id": "",
       "version_major": 2,
       "version_minor": 0
      },
      "text/plain": [
       "VBox(children=(Label(value='0.001 MB of 0.001 MB uploaded (0.000 MB deduped)\\r'), FloatProgress(value=1.0, max…"
      ]
     },
     "metadata": {},
     "output_type": "display_data"
    },
    {
     "data": {
      "text/html": [
       "<style>\n",
       "    table.wandb td:nth-child(1) { padding: 0 10px; text-align: right }\n",
       "    .wandb-row { display: flex; flex-direction: row; flex-wrap: wrap; width: 100% }\n",
       "    .wandb-col { display: flex; flex-direction: column; flex-basis: 100%; flex: 1; padding: 10px; }\n",
       "    </style>\n",
       "<div class=\"wandb-row\"><div class=\"wandb-col\"><h3>Run history:</h3><br/><table class=\"wandb\"><tr><td>fold_9_mean_mae</td><td>▅▂▁▂▂▃▄▄▄▅▅▄▄▃▅▄▄▅▅▅▆█▅▇▆▇▄▆▆▅▅▅█▆▇▆▆▅▅▄</td></tr></table><br/></div><div class=\"wandb-col\"><h3>Run summary:</h3><br/><table class=\"wandb\"><tr><td>epoch</td><td>epoch_60.pkl</td></tr><tr><td>fold_9_mean_mae</td><td>11.83185</td></tr></table><br/></div></div>"
      ],
      "text/plain": [
       "<IPython.core.display.HTML object>"
      ]
     },
     "metadata": {},
     "output_type": "display_data"
    },
    {
     "data": {
      "text/html": [
       "Synced <strong style=\"color:#cdcd00\">crimson-pond-14</strong>: <a href=\"https://wandb.ai/synthesis-ai/smode_rdata_reverse_label/runs/23bqw7h4\" target=\"_blank\">https://wandb.ai/synthesis-ai/smode_rdata_reverse_label/runs/23bqw7h4</a><br/>Synced 5 W&B file(s), 0 media file(s), 0 artifact file(s) and 0 other file(s)"
      ],
      "text/plain": [
       "<IPython.core.display.HTML object>"
      ]
     },
     "metadata": {},
     "output_type": "display_data"
    },
    {
     "data": {
      "text/html": [
       "Find logs at: <code>./wandb/run-20220621_061541-23bqw7h4/logs</code>"
      ],
      "text/plain": [
       "<IPython.core.display.HTML object>"
      ]
     },
     "metadata": {},
     "output_type": "display_data"
    },
    {
     "data": {
      "text/html": [
       "wandb version 0.12.18 is available!  To upgrade, please run:\n",
       " $ pip install wandb --upgrade"
      ],
      "text/plain": [
       "<IPython.core.display.HTML object>"
      ]
     },
     "metadata": {},
     "output_type": "display_data"
    },
    {
     "data": {
      "text/html": [
       "Tracking run with wandb version 0.12.15"
      ],
      "text/plain": [
       "<IPython.core.display.HTML object>"
      ]
     },
     "metadata": {},
     "output_type": "display_data"
    },
    {
     "data": {
      "text/html": [
       "Run data is saved locally in <code>/project/notebooks/wandb/run-20220621_063005-1lixv3fs</code>"
      ],
      "text/plain": [
       "<IPython.core.display.HTML object>"
      ]
     },
     "metadata": {},
     "output_type": "display_data"
    },
    {
     "data": {
      "text/html": [
       "Syncing run <strong><a href=\"https://wandb.ai/synthesis-ai/smode_rdata_reverse_label/runs/1lixv3fs\" target=\"_blank\">effortless-dream-15</a></strong> to <a href=\"https://wandb.ai/synthesis-ai/smode_rdata_reverse_label\" target=\"_blank\">Weights & Biases</a> (<a href=\"https://wandb.me/run\" target=\"_blank\">docs</a>)<br/>"
      ],
      "text/plain": [
       "<IPython.core.display.HTML object>"
      ]
     },
     "metadata": {},
     "output_type": "display_data"
    },
    {
     "name": "stdout",
     "output_type": "stream",
     "text": [
      "fold=10\n",
      "/project/data/Label\n",
      "0 items removed from dataset that have an angle > 180\n",
      "\n",
      "test configuration equal gpu_id=cuda:0, batch_size=20, model_arch=ResNet50\n",
      "Start testing dataset=mpiigaze, FOLD=10 --06/20/2022 23:30:09---------\n",
      "entering epoch=epoch_1.pkl\n",
      "[epoch_1.pkl---mpiigaze] Total Num:3000,MAE:14.026045527678201\n",
      "entering epoch=epoch_2.pkl\n",
      "[epoch_2.pkl---mpiigaze] Total Num:3000,MAE:12.136281040961569\n",
      "entering epoch=epoch_3.pkl\n",
      "[epoch_3.pkl---mpiigaze] Total Num:3000,MAE:13.225938089796129\n",
      "entering epoch=epoch_4.pkl\n",
      "[epoch_4.pkl---mpiigaze] Total Num:3000,MAE:13.465097483772086\n",
      "entering epoch=epoch_5.pkl\n",
      "[epoch_5.pkl---mpiigaze] Total Num:3000,MAE:14.788034810014489\n",
      "entering epoch=epoch_6.pkl\n",
      "[epoch_6.pkl---mpiigaze] Total Num:3000,MAE:14.885312819890736\n",
      "entering epoch=epoch_7.pkl\n",
      "[epoch_7.pkl---mpiigaze] Total Num:3000,MAE:14.173229873404438\n",
      "entering epoch=epoch_8.pkl\n",
      "[epoch_8.pkl---mpiigaze] Total Num:3000,MAE:16.03686463377074\n",
      "entering epoch=epoch_9.pkl\n",
      "[epoch_9.pkl---mpiigaze] Total Num:3000,MAE:15.79653918042376\n",
      "entering epoch=epoch_10.pkl\n",
      "[epoch_10.pkl---mpiigaze] Total Num:3000,MAE:14.848003142147219\n",
      "entering epoch=epoch_11.pkl\n",
      "[epoch_11.pkl---mpiigaze] Total Num:3000,MAE:15.486896998055855\n",
      "entering epoch=epoch_12.pkl\n",
      "[epoch_12.pkl---mpiigaze] Total Num:3000,MAE:17.006600604860342\n",
      "entering epoch=epoch_13.pkl\n",
      "[epoch_13.pkl---mpiigaze] Total Num:3000,MAE:15.579800699938248\n",
      "entering epoch=epoch_14.pkl\n",
      "[epoch_14.pkl---mpiigaze] Total Num:3000,MAE:15.35349285115954\n",
      "entering epoch=epoch_15.pkl\n",
      "[epoch_15.pkl---mpiigaze] Total Num:3000,MAE:16.459606134161703\n",
      "entering epoch=epoch_16.pkl\n",
      "[epoch_16.pkl---mpiigaze] Total Num:3000,MAE:15.917542043677008\n",
      "entering epoch=epoch_17.pkl\n",
      "[epoch_17.pkl---mpiigaze] Total Num:3000,MAE:15.88516081485681\n",
      "entering epoch=epoch_18.pkl\n",
      "[epoch_18.pkl---mpiigaze] Total Num:3000,MAE:16.374044516805657\n",
      "entering epoch=epoch_19.pkl\n",
      "[epoch_19.pkl---mpiigaze] Total Num:3000,MAE:16.412761040012157\n",
      "entering epoch=epoch_20.pkl\n",
      "[epoch_20.pkl---mpiigaze] Total Num:3000,MAE:15.65393615651894\n",
      "entering epoch=epoch_21.pkl\n",
      "[epoch_21.pkl---mpiigaze] Total Num:3000,MAE:15.439448086658638\n",
      "entering epoch=epoch_22.pkl\n",
      "[epoch_22.pkl---mpiigaze] Total Num:3000,MAE:15.655157954453319\n",
      "entering epoch=epoch_23.pkl\n",
      "[epoch_23.pkl---mpiigaze] Total Num:3000,MAE:16.367493352419682\n",
      "entering epoch=epoch_24.pkl\n",
      "[epoch_24.pkl---mpiigaze] Total Num:3000,MAE:15.621272693116172\n",
      "entering epoch=epoch_25.pkl\n",
      "[epoch_25.pkl---mpiigaze] Total Num:3000,MAE:15.900427399228521\n",
      "entering epoch=epoch_26.pkl\n",
      "[epoch_26.pkl---mpiigaze] Total Num:3000,MAE:15.989933237084552\n",
      "entering epoch=epoch_27.pkl\n",
      "[epoch_27.pkl---mpiigaze] Total Num:3000,MAE:16.065051188071042\n",
      "entering epoch=epoch_28.pkl\n",
      "[epoch_28.pkl---mpiigaze] Total Num:3000,MAE:15.873972077397845\n",
      "entering epoch=epoch_29.pkl\n",
      "[epoch_29.pkl---mpiigaze] Total Num:3000,MAE:15.80886741892494\n",
      "entering epoch=epoch_30.pkl\n",
      "[epoch_30.pkl---mpiigaze] Total Num:3000,MAE:16.64313862267533\n",
      "entering epoch=epoch_31.pkl\n",
      "[epoch_31.pkl---mpiigaze] Total Num:3000,MAE:15.584023775261256\n",
      "entering epoch=epoch_32.pkl\n",
      "[epoch_32.pkl---mpiigaze] Total Num:3000,MAE:15.502082855439838\n",
      "entering epoch=epoch_33.pkl\n",
      "[epoch_33.pkl---mpiigaze] Total Num:3000,MAE:15.208973834435158\n",
      "entering epoch=epoch_34.pkl\n",
      "[epoch_34.pkl---mpiigaze] Total Num:3000,MAE:15.600379358440051\n",
      "entering epoch=epoch_35.pkl\n",
      "[epoch_35.pkl---mpiigaze] Total Num:3000,MAE:16.019603355001298\n",
      "entering epoch=epoch_36.pkl\n",
      "[epoch_36.pkl---mpiigaze] Total Num:3000,MAE:16.5239402812117\n",
      "entering epoch=epoch_37.pkl\n",
      "[epoch_37.pkl---mpiigaze] Total Num:3000,MAE:15.841663286928776\n",
      "entering epoch=epoch_38.pkl\n",
      "[epoch_38.pkl---mpiigaze] Total Num:3000,MAE:16.235026492409393\n",
      "entering epoch=epoch_39.pkl\n",
      "[epoch_39.pkl---mpiigaze] Total Num:3000,MAE:17.153769372826773\n",
      "entering epoch=epoch_40.pkl\n",
      "[epoch_40.pkl---mpiigaze] Total Num:3000,MAE:16.64583588236251\n",
      "entering epoch=epoch_41.pkl\n",
      "[epoch_41.pkl---mpiigaze] Total Num:3000,MAE:16.76980353791167\n",
      "entering epoch=epoch_42.pkl\n",
      "[epoch_42.pkl---mpiigaze] Total Num:3000,MAE:16.805868589849755\n",
      "entering epoch=epoch_43.pkl\n",
      "[epoch_43.pkl---mpiigaze] Total Num:3000,MAE:17.100363150297994\n",
      "entering epoch=epoch_44.pkl\n",
      "[epoch_44.pkl---mpiigaze] Total Num:3000,MAE:16.468586603379308\n",
      "entering epoch=epoch_45.pkl\n",
      "[epoch_45.pkl---mpiigaze] Total Num:3000,MAE:17.194414672498475\n",
      "entering epoch=epoch_46.pkl\n",
      "[epoch_46.pkl---mpiigaze] Total Num:3000,MAE:16.942328958168293\n",
      "entering epoch=epoch_47.pkl\n",
      "[epoch_47.pkl---mpiigaze] Total Num:3000,MAE:16.869719278227144\n",
      "entering epoch=epoch_48.pkl\n",
      "[epoch_48.pkl---mpiigaze] Total Num:3000,MAE:16.69094239013943\n",
      "entering epoch=epoch_49.pkl\n",
      "[epoch_49.pkl---mpiigaze] Total Num:3000,MAE:17.303503155991848\n",
      "entering epoch=epoch_50.pkl\n",
      "[epoch_50.pkl---mpiigaze] Total Num:3000,MAE:16.588144558160433\n",
      "entering epoch=epoch_51.pkl\n",
      "[epoch_51.pkl---mpiigaze] Total Num:3000,MAE:16.639938532775744\n",
      "entering epoch=epoch_52.pkl\n",
      "[epoch_52.pkl---mpiigaze] Total Num:3000,MAE:17.233166337713943\n",
      "entering epoch=epoch_53.pkl\n",
      "[epoch_53.pkl---mpiigaze] Total Num:3000,MAE:16.56407133192244\n",
      "entering epoch=epoch_54.pkl\n",
      "[epoch_54.pkl---mpiigaze] Total Num:3000,MAE:16.084261300260454\n",
      "entering epoch=epoch_55.pkl\n",
      "[epoch_55.pkl---mpiigaze] Total Num:3000,MAE:17.029636592457578\n",
      "entering epoch=epoch_56.pkl\n",
      "[epoch_56.pkl---mpiigaze] Total Num:3000,MAE:17.21276292112059\n",
      "entering epoch=epoch_57.pkl\n",
      "[epoch_57.pkl---mpiigaze] Total Num:3000,MAE:16.899170573293148\n",
      "entering epoch=epoch_58.pkl\n",
      "[epoch_58.pkl---mpiigaze] Total Num:3000,MAE:17.032065263582545\n",
      "entering epoch=epoch_59.pkl\n",
      "[epoch_59.pkl---mpiigaze] Total Num:3000,MAE:17.357816643878724\n",
      "entering epoch=epoch_60.pkl\n",
      "[epoch_60.pkl---mpiigaze] Total Num:3000,MAE:17.28508930026929\n"
     ]
    },
    {
     "data": {
      "text/html": [
       "Waiting for W&B process to finish... <strong style=\"color:green\">(success).</strong>"
      ],
      "text/plain": [
       "<IPython.core.display.HTML object>"
      ]
     },
     "metadata": {},
     "output_type": "display_data"
    },
    {
     "data": {
      "application/vnd.jupyter.widget-view+json": {
       "model_id": "",
       "version_major": 2,
       "version_minor": 0
      },
      "text/plain": [
       "VBox(children=(Label(value='0.001 MB of 0.001 MB uploaded (0.000 MB deduped)\\r'), FloatProgress(value=1.0, max…"
      ]
     },
     "metadata": {},
     "output_type": "display_data"
    },
    {
     "data": {
      "text/html": [
       "<style>\n",
       "    table.wandb td:nth-child(1) { padding: 0 10px; text-align: right }\n",
       "    .wandb-row { display: flex; flex-direction: row; flex-wrap: wrap; width: 100% }\n",
       "    .wandb-col { display: flex; flex-direction: column; flex-basis: 100%; flex: 1; padding: 10px; }\n",
       "    </style>\n",
       "<div class=\"wandb-row\"><div class=\"wandb-col\"><h3>Run history:</h3><br/><table class=\"wandb\"><tr><td>fold_10_mean_mae</td><td>▄▁▃▅▄▆▅▆▆▅▆▆▇▆▆▇▆▆▆▆▆▆▆▆▆▇▇▇█▇█▇█▇█▇████</td></tr></table><br/></div><div class=\"wandb-col\"><h3>Run summary:</h3><br/><table class=\"wandb\"><tr><td>epoch</td><td>epoch_60.pkl</td></tr><tr><td>fold_10_mean_mae</td><td>17.28509</td></tr></table><br/></div></div>"
      ],
      "text/plain": [
       "<IPython.core.display.HTML object>"
      ]
     },
     "metadata": {},
     "output_type": "display_data"
    },
    {
     "data": {
      "text/html": [
       "Synced <strong style=\"color:#cdcd00\">effortless-dream-15</strong>: <a href=\"https://wandb.ai/synthesis-ai/smode_rdata_reverse_label/runs/1lixv3fs\" target=\"_blank\">https://wandb.ai/synthesis-ai/smode_rdata_reverse_label/runs/1lixv3fs</a><br/>Synced 5 W&B file(s), 0 media file(s), 0 artifact file(s) and 0 other file(s)"
      ],
      "text/plain": [
       "<IPython.core.display.HTML object>"
      ]
     },
     "metadata": {},
     "output_type": "display_data"
    },
    {
     "data": {
      "text/html": [
       "Find logs at: <code>./wandb/run-20220621_063005-1lixv3fs/logs</code>"
      ],
      "text/plain": [
       "<IPython.core.display.HTML object>"
      ]
     },
     "metadata": {},
     "output_type": "display_data"
    },
    {
     "data": {
      "text/html": [
       "wandb version 0.12.18 is available!  To upgrade, please run:\n",
       " $ pip install wandb --upgrade"
      ],
      "text/plain": [
       "<IPython.core.display.HTML object>"
      ]
     },
     "metadata": {},
     "output_type": "display_data"
    },
    {
     "data": {
      "text/html": [
       "Tracking run with wandb version 0.12.15"
      ],
      "text/plain": [
       "<IPython.core.display.HTML object>"
      ]
     },
     "metadata": {},
     "output_type": "display_data"
    },
    {
     "data": {
      "text/html": [
       "Run data is saved locally in <code>/project/notebooks/wandb/run-20220621_064433-bqnfg0k2</code>"
      ],
      "text/plain": [
       "<IPython.core.display.HTML object>"
      ]
     },
     "metadata": {},
     "output_type": "display_data"
    },
    {
     "data": {
      "text/html": [
       "Syncing run <strong><a href=\"https://wandb.ai/synthesis-ai/smode_rdata_reverse_label/runs/bqnfg0k2\" target=\"_blank\">sage-microwave-16</a></strong> to <a href=\"https://wandb.ai/synthesis-ai/smode_rdata_reverse_label\" target=\"_blank\">Weights & Biases</a> (<a href=\"https://wandb.me/run\" target=\"_blank\">docs</a>)<br/>"
      ],
      "text/plain": [
       "<IPython.core.display.HTML object>"
      ]
     },
     "metadata": {},
     "output_type": "display_data"
    },
    {
     "name": "stdout",
     "output_type": "stream",
     "text": [
      "fold=11\n",
      "/project/data/Label\n",
      "0 items removed from dataset that have an angle > 180\n",
      "\n",
      "test configuration equal gpu_id=cuda:0, batch_size=20, model_arch=ResNet50\n",
      "Start testing dataset=mpiigaze, FOLD=11 --06/20/2022 23:44:37---------\n",
      "entering epoch=epoch_1.pkl\n",
      "[epoch_1.pkl---mpiigaze] Total Num:3000,MAE:11.490080483564013\n",
      "entering epoch=epoch_2.pkl\n",
      "[epoch_2.pkl---mpiigaze] Total Num:3000,MAE:10.332594824431318\n",
      "entering epoch=epoch_3.pkl\n",
      "[epoch_3.pkl---mpiigaze] Total Num:3000,MAE:11.274987415346894\n",
      "entering epoch=epoch_4.pkl\n",
      "[epoch_12.pkl---mpiigaze] Total Num:3000,MAE:12.723917560817192\n",
      "entering epoch=epoch_13.pkl\n",
      "[epoch_13.pkl---mpiigaze] Total Num:3000,MAE:13.069127892516116\n",
      "entering epoch=epoch_14.pkl\n",
      "[epoch_14.pkl---mpiigaze] Total Num:3000,MAE:12.069215167718205\n",
      "entering epoch=epoch_15.pkl\n",
      "[epoch_15.pkl---mpiigaze] Total Num:3000,MAE:12.666568554731976\n",
      "entering epoch=epoch_16.pkl\n",
      "[epoch_16.pkl---mpiigaze] Total Num:3000,MAE:12.716631392521272\n",
      "entering epoch=epoch_17.pkl\n",
      "[epoch_17.pkl---mpiigaze] Total Num:3000,MAE:13.135636405154422\n",
      "entering epoch=epoch_18.pkl\n",
      "[epoch_18.pkl---mpiigaze] Total Num:3000,MAE:12.610325406064364\n",
      "entering epoch=epoch_19.pkl\n",
      "[epoch_19.pkl---mpiigaze] Total Num:3000,MAE:12.124805429652644\n",
      "entering epoch=epoch_20.pkl\n",
      "[epoch_20.pkl---mpiigaze] Total Num:3000,MAE:12.353923175465972\n",
      "entering epoch=epoch_21.pkl\n",
      "[epoch_21.pkl---mpiigaze] Total Num:3000,MAE:12.61094819399145\n",
      "entering epoch=epoch_22.pkl\n",
      "[epoch_22.pkl---mpiigaze] Total Num:3000,MAE:12.692246790367708\n",
      "entering epoch=epoch_23.pkl\n",
      "[epoch_23.pkl---mpiigaze] Total Num:3000,MAE:12.565784908365092\n",
      "entering epoch=epoch_24.pkl\n",
      "[epoch_24.pkl---mpiigaze] Total Num:3000,MAE:13.68195093174086\n",
      "entering epoch=epoch_25.pkl\n",
      "[epoch_25.pkl---mpiigaze] Total Num:3000,MAE:12.388349355904602\n",
      "entering epoch=epoch_26.pkl\n",
      "[epoch_26.pkl---mpiigaze] Total Num:3000,MAE:12.288920895147346\n",
      "entering epoch=epoch_27.pkl\n",
      "[epoch_27.pkl---mpiigaze] Total Num:3000,MAE:12.880609639570595\n",
      "entering epoch=epoch_28.pkl\n",
      "[epoch_28.pkl---mpiigaze] Total Num:3000,MAE:12.944593763008752\n",
      "entering epoch=epoch_29.pkl\n",
      "[epoch_29.pkl---mpiigaze] Total Num:3000,MAE:13.419915294094555\n",
      "entering epoch=epoch_30.pkl\n",
      "[epoch_30.pkl---mpiigaze] Total Num:3000,MAE:12.516441837076517\n",
      "entering epoch=epoch_31.pkl\n",
      "[epoch_31.pkl---mpiigaze] Total Num:3000,MAE:12.711235094129263\n",
      "entering epoch=epoch_32.pkl\n",
      "[epoch_32.pkl---mpiigaze] Total Num:3000,MAE:12.863599423105489\n",
      "entering epoch=epoch_33.pkl\n",
      "[epoch_33.pkl---mpiigaze] Total Num:3000,MAE:12.49879022902198\n",
      "entering epoch=epoch_34.pkl\n",
      "[epoch_34.pkl---mpiigaze] Total Num:3000,MAE:12.395770347707186\n",
      "entering epoch=epoch_35.pkl\n",
      "[epoch_35.pkl---mpiigaze] Total Num:3000,MAE:12.697419639445606\n",
      "entering epoch=epoch_36.pkl\n",
      "[epoch_36.pkl---mpiigaze] Total Num:3000,MAE:13.02667812107914\n",
      "entering epoch=epoch_37.pkl\n",
      "[epoch_37.pkl---mpiigaze] Total Num:3000,MAE:12.052164857047755\n",
      "entering epoch=epoch_38.pkl\n",
      "[epoch_38.pkl---mpiigaze] Total Num:3000,MAE:13.283074984965165\n",
      "entering epoch=epoch_39.pkl\n",
      "[epoch_39.pkl---mpiigaze] Total Num:3000,MAE:12.416606922528118\n",
      "entering epoch=epoch_40.pkl\n",
      "[epoch_40.pkl---mpiigaze] Total Num:3000,MAE:12.379944423887629\n",
      "entering epoch=epoch_41.pkl\n",
      "[epoch_41.pkl---mpiigaze] Total Num:3000,MAE:12.346652489803363\n",
      "entering epoch=epoch_42.pkl\n",
      "[epoch_42.pkl---mpiigaze] Total Num:3000,MAE:12.72349975717705\n",
      "entering epoch=epoch_43.pkl\n",
      "[epoch_43.pkl---mpiigaze] Total Num:3000,MAE:12.375617056812752\n",
      "entering epoch=epoch_44.pkl\n",
      "[epoch_44.pkl---mpiigaze] Total Num:3000,MAE:12.80241761264202\n",
      "entering epoch=epoch_45.pkl\n",
      "[epoch_45.pkl---mpiigaze] Total Num:3000,MAE:12.37690081909588\n",
      "entering epoch=epoch_46.pkl\n",
      "[epoch_46.pkl---mpiigaze] Total Num:3000,MAE:12.327404955103278\n",
      "entering epoch=epoch_47.pkl\n",
      "[epoch_47.pkl---mpiigaze] Total Num:3000,MAE:12.329112327351105\n",
      "entering epoch=epoch_48.pkl\n",
      "[epoch_48.pkl---mpiigaze] Total Num:3000,MAE:12.437562183729915\n",
      "entering epoch=epoch_49.pkl\n",
      "[epoch_49.pkl---mpiigaze] Total Num:3000,MAE:12.644873185820254\n",
      "entering epoch=epoch_50.pkl\n",
      "[epoch_50.pkl---mpiigaze] Total Num:3000,MAE:12.255906263756911\n",
      "entering epoch=epoch_51.pkl\n",
      "[epoch_51.pkl---mpiigaze] Total Num:3000,MAE:12.590170548715745\n",
      "entering epoch=epoch_52.pkl\n",
      "[epoch_52.pkl---mpiigaze] Total Num:3000,MAE:12.554989597061933\n",
      "entering epoch=epoch_53.pkl\n",
      "[epoch_53.pkl---mpiigaze] Total Num:3000,MAE:12.706324076818085\n",
      "entering epoch=epoch_54.pkl\n",
      "[epoch_54.pkl---mpiigaze] Total Num:3000,MAE:11.907337619104531\n",
      "entering epoch=epoch_55.pkl\n",
      "[epoch_55.pkl---mpiigaze] Total Num:3000,MAE:12.787070107191168\n",
      "entering epoch=epoch_56.pkl\n",
      "[epoch_56.pkl---mpiigaze] Total Num:3000,MAE:12.570971227545565\n",
      "entering epoch=epoch_57.pkl\n",
      "[epoch_57.pkl---mpiigaze] Total Num:3000,MAE:12.398178537254676\n",
      "entering epoch=epoch_58.pkl\n",
      "[epoch_58.pkl---mpiigaze] Total Num:3000,MAE:12.367334578552954\n",
      "entering epoch=epoch_59.pkl\n",
      "[epoch_59.pkl---mpiigaze] Total Num:3000,MAE:12.214118207778887\n",
      "entering epoch=epoch_60.pkl\n",
      "[epoch_60.pkl---mpiigaze] Total Num:3000,MAE:12.636634903365792\n"
     ]
    },
    {
     "data": {
      "text/html": [
       "Waiting for W&B process to finish... <strong style=\"color:green\">(success).</strong>"
      ],
      "text/plain": [
       "<IPython.core.display.HTML object>"
      ]
     },
     "metadata": {},
     "output_type": "display_data"
    },
    {
     "data": {
      "application/vnd.jupyter.widget-view+json": {
       "model_id": "",
       "version_major": 2,
       "version_minor": 0
      },
      "text/plain": [
       "VBox(children=(Label(value='0.001 MB of 0.001 MB uploaded (0.000 MB deduped)\\r'), FloatProgress(value=1.0, max…"
      ]
     },
     "metadata": {},
     "output_type": "display_data"
    },
    {
     "data": {
      "text/html": [
       "<style>\n",
       "    table.wandb td:nth-child(1) { padding: 0 10px; text-align: right }\n",
       "    .wandb-row { display: flex; flex-direction: row; flex-wrap: wrap; width: 100% }\n",
       "    .wandb-col { display: flex; flex-direction: column; flex-basis: 100%; flex: 1; padding: 10px; }\n",
       "    </style>\n",
       "<div class=\"wandb-row\"><div class=\"wandb-col\"><h3>Run history:</h3><br/><table class=\"wandb\"><tr><td>fold_11_mean_mae</td><td>▄▁▅▅▅▅▅▇▇▅▆▇▅▆▆▆▆▅▇█▆▇▆▆▅█▆▆▆▇▆▆▆▅▆▆▇▆▆▆</td></tr></table><br/></div><div class=\"wandb-col\"><h3>Run summary:</h3><br/><table class=\"wandb\"><tr><td>epoch</td><td>epoch_60.pkl</td></tr><tr><td>fold_11_mean_mae</td><td>12.63663</td></tr></table><br/></div></div>"
      ],
      "text/plain": [
       "<IPython.core.display.HTML object>"
      ]
     },
     "metadata": {},
     "output_type": "display_data"
    },
    {
     "data": {
      "text/html": [
       "Synced <strong style=\"color:#cdcd00\">sage-microwave-16</strong>: <a href=\"https://wandb.ai/synthesis-ai/smode_rdata_reverse_label/runs/bqnfg0k2\" target=\"_blank\">https://wandb.ai/synthesis-ai/smode_rdata_reverse_label/runs/bqnfg0k2</a><br/>Synced 5 W&B file(s), 0 media file(s), 0 artifact file(s) and 0 other file(s)"
      ],
      "text/plain": [
       "<IPython.core.display.HTML object>"
      ]
     },
     "metadata": {},
     "output_type": "display_data"
    },
    {
     "data": {
      "text/html": [
       "Find logs at: <code>./wandb/run-20220621_064433-bqnfg0k2/logs</code>"
      ],
      "text/plain": [
       "<IPython.core.display.HTML object>"
      ]
     },
     "metadata": {},
     "output_type": "display_data"
    },
    {
     "data": {
      "text/html": [
       "wandb version 0.12.18 is available!  To upgrade, please run:\n",
       " $ pip install wandb --upgrade"
      ],
      "text/plain": [
       "<IPython.core.display.HTML object>"
      ]
     },
     "metadata": {},
     "output_type": "display_data"
    },
    {
     "data": {
      "text/html": [
       "Tracking run with wandb version 0.12.15"
      ],
      "text/plain": [
       "<IPython.core.display.HTML object>"
      ]
     },
     "metadata": {},
     "output_type": "display_data"
    },
    {
     "data": {
      "text/html": [
       "Run data is saved locally in <code>/project/notebooks/wandb/run-20220621_065857-h5ql330f</code>"
      ],
      "text/plain": [
       "<IPython.core.display.HTML object>"
      ]
     },
     "metadata": {},
     "output_type": "display_data"
    },
    {
     "data": {
      "text/html": [
       "Syncing run <strong><a href=\"https://wandb.ai/synthesis-ai/smode_rdata_reverse_label/runs/h5ql330f\" target=\"_blank\">apricot-universe-17</a></strong> to <a href=\"https://wandb.ai/synthesis-ai/smode_rdata_reverse_label\" target=\"_blank\">Weights & Biases</a> (<a href=\"https://wandb.me/run\" target=\"_blank\">docs</a>)<br/>"
      ],
      "text/plain": [
       "<IPython.core.display.HTML object>"
      ]
     },
     "metadata": {},
     "output_type": "display_data"
    },
    {
     "name": "stdout",
     "output_type": "stream",
     "text": [
      "fold=12\n",
      "/project/data/Label\n",
      "0 items removed from dataset that have an angle > 180\n",
      "\n",
      "test configuration equal gpu_id=cuda:0, batch_size=20, model_arch=ResNet50\n",
      "Start testing dataset=mpiigaze, FOLD=12 --06/20/2022 23:59:00---------\n",
      "entering epoch=epoch_1.pkl\n",
      "[epoch_1.pkl---mpiigaze] Total Num:3000,MAE:12.305478381140679\n",
      "entering epoch=epoch_2.pkl\n",
      "[epoch_2.pkl---mpiigaze] Total Num:3000,MAE:12.616858931405725\n",
      "entering epoch=epoch_3.pkl\n",
      "[epoch_3.pkl---mpiigaze] Total Num:3000,MAE:16.282369353006708\n",
      "entering epoch=epoch_4.pkl\n",
      "[epoch_4.pkl---mpiigaze] Total Num:3000,MAE:15.217970902078578\n",
      "entering epoch=epoch_5.pkl\n",
      "[epoch_5.pkl---mpiigaze] Total Num:3000,MAE:15.634677898807457\n",
      "entering epoch=epoch_6.pkl\n",
      "[epoch_6.pkl---mpiigaze] Total Num:3000,MAE:17.746802709679073\n",
      "entering epoch=epoch_7.pkl\n",
      "[epoch_7.pkl---mpiigaze] Total Num:3000,MAE:15.399169884053823\n",
      "entering epoch=epoch_8.pkl\n",
      "[epoch_8.pkl---mpiigaze] Total Num:3000,MAE:16.24718414358331\n",
      "entering epoch=epoch_9.pkl\n",
      "[epoch_9.pkl---mpiigaze] Total Num:3000,MAE:16.54370765569778\n",
      "entering epoch=epoch_10.pkl\n",
      "[epoch_10.pkl---mpiigaze] Total Num:3000,MAE:15.407737714185032\n",
      "entering epoch=epoch_11.pkl\n",
      "[epoch_11.pkl---mpiigaze] Total Num:3000,MAE:15.517656247758568\n",
      "entering epoch=epoch_12.pkl\n",
      "[epoch_12.pkl---mpiigaze] Total Num:3000,MAE:17.687143551235945\n",
      "entering epoch=epoch_13.pkl\n",
      "[epoch_13.pkl---mpiigaze] Total Num:3000,MAE:17.006995682787483\n",
      "entering epoch=epoch_14.pkl\n",
      "[epoch_14.pkl---mpiigaze] Total Num:3000,MAE:16.302428475318905\n",
      "entering epoch=epoch_15.pkl\n",
      "[epoch_21.pkl---mpiigaze] Total Num:3000,MAE:17.215034002645496\n",
      "entering epoch=epoch_22.pkl\n",
      "[epoch_22.pkl---mpiigaze] Total Num:3000,MAE:16.44033360124048\n",
      "entering epoch=epoch_23.pkl\n",
      "[epoch_23.pkl---mpiigaze] Total Num:3000,MAE:16.655559716748755\n",
      "entering epoch=epoch_24.pkl\n",
      "[epoch_24.pkl---mpiigaze] Total Num:3000,MAE:16.179043399150544\n",
      "entering epoch=epoch_25.pkl\n",
      "[epoch_25.pkl---mpiigaze] Total Num:3000,MAE:15.885619365807518\n",
      "entering epoch=epoch_26.pkl\n",
      "[epoch_26.pkl---mpiigaze] Total Num:3000,MAE:16.912975087057145\n",
      "entering epoch=epoch_27.pkl\n",
      "[epoch_27.pkl---mpiigaze] Total Num:3000,MAE:17.901559396872393\n",
      "entering epoch=epoch_28.pkl\n",
      "[epoch_28.pkl---mpiigaze] Total Num:3000,MAE:16.477938281997872\n",
      "entering epoch=epoch_29.pkl\n",
      "[epoch_29.pkl---mpiigaze] Total Num:3000,MAE:16.910246645940425\n",
      "entering epoch=epoch_30.pkl\n",
      "[epoch_30.pkl---mpiigaze] Total Num:3000,MAE:16.88053301397398\n",
      "entering epoch=epoch_31.pkl\n",
      "[epoch_31.pkl---mpiigaze] Total Num:3000,MAE:16.672270632635158\n",
      "entering epoch=epoch_32.pkl\n",
      "[epoch_32.pkl---mpiigaze] Total Num:3000,MAE:17.241671748437835\n",
      "entering epoch=epoch_33.pkl\n",
      "[epoch_33.pkl---mpiigaze] Total Num:3000,MAE:16.87131270747255\n",
      "entering epoch=epoch_34.pkl\n",
      "[epoch_34.pkl---mpiigaze] Total Num:3000,MAE:16.13431304248899\n",
      "entering epoch=epoch_35.pkl\n",
      "[epoch_35.pkl---mpiigaze] Total Num:3000,MAE:17.00659611646263\n",
      "entering epoch=epoch_36.pkl\n",
      "[epoch_36.pkl---mpiigaze] Total Num:3000,MAE:15.53486339741402\n",
      "entering epoch=epoch_37.pkl\n",
      "[epoch_37.pkl---mpiigaze] Total Num:3000,MAE:16.055121249559082\n",
      "entering epoch=epoch_38.pkl\n",
      "[epoch_38.pkl---mpiigaze] Total Num:3000,MAE:16.66261441143676\n",
      "entering epoch=epoch_39.pkl\n",
      "[epoch_39.pkl---mpiigaze] Total Num:3000,MAE:16.16413343480072\n",
      "entering epoch=epoch_40.pkl\n",
      "[epoch_40.pkl---mpiigaze] Total Num:3000,MAE:16.699619493090054\n",
      "entering epoch=epoch_41.pkl\n",
      "[epoch_41.pkl---mpiigaze] Total Num:3000,MAE:16.513958718969974\n",
      "entering epoch=epoch_42.pkl\n",
      "[epoch_42.pkl---mpiigaze] Total Num:3000,MAE:17.183799454131808\n",
      "entering epoch=epoch_43.pkl\n",
      "[epoch_43.pkl---mpiigaze] Total Num:3000,MAE:16.80887357199949\n",
      "entering epoch=epoch_44.pkl\n",
      "[epoch_44.pkl---mpiigaze] Total Num:3000,MAE:17.00301173394433\n",
      "entering epoch=epoch_45.pkl\n",
      "[epoch_45.pkl---mpiigaze] Total Num:3000,MAE:16.15442257580473\n",
      "entering epoch=epoch_46.pkl\n",
      "[epoch_46.pkl---mpiigaze] Total Num:3000,MAE:17.57362423677196\n",
      "entering epoch=epoch_47.pkl\n",
      "[epoch_47.pkl---mpiigaze] Total Num:3000,MAE:16.16626182478957\n",
      "entering epoch=epoch_48.pkl\n",
      "[epoch_48.pkl---mpiigaze] Total Num:3000,MAE:16.515966085699983\n",
      "entering epoch=epoch_49.pkl\n",
      "[epoch_49.pkl---mpiigaze] Total Num:3000,MAE:17.375582322104\n",
      "entering epoch=epoch_50.pkl\n",
      "[epoch_50.pkl---mpiigaze] Total Num:3000,MAE:17.453548690274868\n",
      "entering epoch=epoch_51.pkl\n",
      "[epoch_51.pkl---mpiigaze] Total Num:3000,MAE:16.425911157173324\n",
      "entering epoch=epoch_52.pkl\n",
      "[epoch_52.pkl---mpiigaze] Total Num:3000,MAE:17.47573484550907\n",
      "entering epoch=epoch_53.pkl\n",
      "[epoch_53.pkl---mpiigaze] Total Num:3000,MAE:17.178731665796843\n",
      "entering epoch=epoch_54.pkl\n",
      "[epoch_54.pkl---mpiigaze] Total Num:3000,MAE:16.798652586145497\n",
      "entering epoch=epoch_55.pkl\n",
      "[epoch_55.pkl---mpiigaze] Total Num:3000,MAE:17.40036880065688\n",
      "entering epoch=epoch_56.pkl\n",
      "[epoch_56.pkl---mpiigaze] Total Num:3000,MAE:17.044866783969237\n",
      "entering epoch=epoch_57.pkl\n",
      "[epoch_57.pkl---mpiigaze] Total Num:3000,MAE:17.344436096055468\n",
      "entering epoch=epoch_58.pkl\n",
      "[epoch_58.pkl---mpiigaze] Total Num:3000,MAE:17.147890717677083\n",
      "entering epoch=epoch_59.pkl\n",
      "[epoch_59.pkl---mpiigaze] Total Num:3000,MAE:17.14585445385121\n",
      "entering epoch=epoch_60.pkl\n",
      "[epoch_60.pkl---mpiigaze] Total Num:3000,MAE:17.573079884218426\n"
     ]
    },
    {
     "data": {
      "text/html": [
       "Waiting for W&B process to finish... <strong style=\"color:green\">(success).</strong>"
      ],
      "text/plain": [
       "<IPython.core.display.HTML object>"
      ]
     },
     "metadata": {},
     "output_type": "display_data"
    },
    {
     "data": {
      "application/vnd.jupyter.widget-view+json": {
       "model_id": "",
       "version_major": 2,
       "version_minor": 0
      },
      "text/plain": [
       "VBox(children=(Label(value='0.001 MB of 0.001 MB uploaded (0.000 MB deduped)\\r'), FloatProgress(value=1.0, max…"
      ]
     },
     "metadata": {},
     "output_type": "display_data"
    },
    {
     "data": {
      "text/html": [
       "<style>\n",
       "    table.wandb td:nth-child(1) { padding: 0 10px; text-align: right }\n",
       "    .wandb-row { display: flex; flex-direction: row; flex-wrap: wrap; width: 100% }\n",
       "    .wandb-col { display: flex; flex-direction: column; flex-basis: 100%; flex: 1; padding: 10px; }\n",
       "    </style>\n",
       "<div class=\"wandb-row\"><div class=\"wandb-col\"><h3>Run history:</h3><br/><table class=\"wandb\"><tr><td>fold_12_mean_mae</td><td>▁▁▅▅▅▆▅▅▇▆▇▅█▇▆▇▆▇▇▇▇█▆▇▆▇▇▇▇▇█▆███▇█▇▇█</td></tr></table><br/></div><div class=\"wandb-col\"><h3>Run summary:</h3><br/><table class=\"wandb\"><tr><td>epoch</td><td>epoch_60.pkl</td></tr><tr><td>fold_12_mean_mae</td><td>17.57308</td></tr></table><br/></div></div>"
      ],
      "text/plain": [
       "<IPython.core.display.HTML object>"
      ]
     },
     "metadata": {},
     "output_type": "display_data"
    },
    {
     "data": {
      "text/html": [
       "Synced <strong style=\"color:#cdcd00\">apricot-universe-17</strong>: <a href=\"https://wandb.ai/synthesis-ai/smode_rdata_reverse_label/runs/h5ql330f\" target=\"_blank\">https://wandb.ai/synthesis-ai/smode_rdata_reverse_label/runs/h5ql330f</a><br/>Synced 5 W&B file(s), 0 media file(s), 0 artifact file(s) and 0 other file(s)"
      ],
      "text/plain": [
       "<IPython.core.display.HTML object>"
      ]
     },
     "metadata": {},
     "output_type": "display_data"
    },
    {
     "data": {
      "text/html": [
       "Find logs at: <code>./wandb/run-20220621_065857-h5ql330f/logs</code>"
      ],
      "text/plain": [
       "<IPython.core.display.HTML object>"
      ]
     },
     "metadata": {},
     "output_type": "display_data"
    },
    {
     "data": {
      "text/html": [
       "wandb version 0.12.18 is available!  To upgrade, please run:\n",
       " $ pip install wandb --upgrade"
      ],
      "text/plain": [
       "<IPython.core.display.HTML object>"
      ]
     },
     "metadata": {},
     "output_type": "display_data"
    },
    {
     "data": {
      "text/html": [
       "Tracking run with wandb version 0.12.15"
      ],
      "text/plain": [
       "<IPython.core.display.HTML object>"
      ]
     },
     "metadata": {},
     "output_type": "display_data"
    },
    {
     "data": {
      "text/html": [
       "Run data is saved locally in <code>/project/notebooks/wandb/run-20220621_071322-8aih9od3</code>"
      ],
      "text/plain": [
       "<IPython.core.display.HTML object>"
      ]
     },
     "metadata": {},
     "output_type": "display_data"
    },
    {
     "data": {
      "text/html": [
       "Syncing run <strong><a href=\"https://wandb.ai/synthesis-ai/smode_rdata_reverse_label/runs/8aih9od3\" target=\"_blank\">confused-disco-18</a></strong> to <a href=\"https://wandb.ai/synthesis-ai/smode_rdata_reverse_label\" target=\"_blank\">Weights & Biases</a> (<a href=\"https://wandb.me/run\" target=\"_blank\">docs</a>)<br/>"
      ],
      "text/plain": [
       "<IPython.core.display.HTML object>"
      ]
     },
     "metadata": {},
     "output_type": "display_data"
    },
    {
     "name": "stdout",
     "output_type": "stream",
     "text": [
      "fold=13\n",
      "/project/data/Label\n",
      "0 items removed from dataset that have an angle > 180\n",
      "\n",
      "test configuration equal gpu_id=cuda:0, batch_size=20, model_arch=ResNet50\n",
      "Start testing dataset=mpiigaze, FOLD=13 --06/21/2022 00:13:26---------\n",
      "entering epoch=epoch_1.pkl\n",
      "[epoch_1.pkl---mpiigaze] Total Num:3000,MAE:11.10332914845438\n",
      "entering epoch=epoch_2.pkl\n",
      "[epoch_2.pkl---mpiigaze] Total Num:3000,MAE:12.027709468396369\n",
      "entering epoch=epoch_3.pkl\n",
      "[epoch_3.pkl---mpiigaze] Total Num:3000,MAE:12.055008106365518\n",
      "entering epoch=epoch_4.pkl\n",
      "[epoch_4.pkl---mpiigaze] Total Num:3000,MAE:12.472338344167351\n",
      "entering epoch=epoch_5.pkl\n",
      "[epoch_5.pkl---mpiigaze] Total Num:3000,MAE:11.14111707376403\n",
      "entering epoch=epoch_6.pkl\n",
      "[epoch_6.pkl---mpiigaze] Total Num:3000,MAE:11.406657086240395\n",
      "entering epoch=epoch_7.pkl\n",
      "[epoch_7.pkl---mpiigaze] Total Num:3000,MAE:11.470589459958413\n",
      "entering epoch=epoch_8.pkl\n",
      "[epoch_8.pkl---mpiigaze] Total Num:3000,MAE:12.357909917498924\n",
      "entering epoch=epoch_9.pkl\n",
      "[epoch_9.pkl---mpiigaze] Total Num:3000,MAE:12.163530057359171\n",
      "entering epoch=epoch_10.pkl\n",
      "[epoch_10.pkl---mpiigaze] Total Num:3000,MAE:12.57328332223713\n",
      "entering epoch=epoch_11.pkl\n",
      "[epoch_11.pkl---mpiigaze] Total Num:3000,MAE:11.98997890245222\n",
      "entering epoch=epoch_12.pkl\n",
      "[epoch_12.pkl---mpiigaze] Total Num:3000,MAE:13.240626295666749\n",
      "entering epoch=epoch_13.pkl\n",
      "[epoch_13.pkl---mpiigaze] Total Num:3000,MAE:11.681386050320972\n",
      "entering epoch=epoch_14.pkl\n",
      "[epoch_14.pkl---mpiigaze] Total Num:3000,MAE:12.13019627554008\n",
      "entering epoch=epoch_15.pkl\n",
      "[epoch_15.pkl---mpiigaze] Total Num:3000,MAE:13.728926114942263\n",
      "entering epoch=epoch_16.pkl\n",
      "[epoch_16.pkl---mpiigaze] Total Num:3000,MAE:12.115758079636603\n",
      "entering epoch=epoch_17.pkl\n",
      "[epoch_17.pkl---mpiigaze] Total Num:3000,MAE:11.881493260612084\n",
      "entering epoch=epoch_18.pkl\n",
      "[epoch_18.pkl---mpiigaze] Total Num:3000,MAE:12.412095832444447\n",
      "entering epoch=epoch_19.pkl\n",
      "[epoch_19.pkl---mpiigaze] Total Num:3000,MAE:12.363754177560265\n",
      "entering epoch=epoch_20.pkl\n",
      "[epoch_20.pkl---mpiigaze] Total Num:3000,MAE:11.625622236426558\n",
      "entering epoch=epoch_21.pkl\n",
      "[epoch_21.pkl---mpiigaze] Total Num:3000,MAE:11.938123917828813\n",
      "entering epoch=epoch_22.pkl\n",
      "[epoch_27.pkl---mpiigaze] Total Num:3000,MAE:11.840321320344302\n",
      "entering epoch=epoch_28.pkl\n",
      "[epoch_28.pkl---mpiigaze] Total Num:3000,MAE:11.788675363067235\n",
      "entering epoch=epoch_29.pkl\n",
      "[epoch_29.pkl---mpiigaze] Total Num:3000,MAE:12.365129315291895\n",
      "entering epoch=epoch_30.pkl\n",
      "[epoch_30.pkl---mpiigaze] Total Num:3000,MAE:12.599394173419743\n",
      "entering epoch=epoch_31.pkl\n",
      "[epoch_31.pkl---mpiigaze] Total Num:3000,MAE:12.059631703317025\n",
      "entering epoch=epoch_32.pkl\n",
      "[epoch_32.pkl---mpiigaze] Total Num:3000,MAE:12.367818851796079\n",
      "entering epoch=epoch_33.pkl\n",
      "[epoch_33.pkl---mpiigaze] Total Num:3000,MAE:12.053536254078743\n",
      "entering epoch=epoch_34.pkl\n",
      "[epoch_34.pkl---mpiigaze] Total Num:3000,MAE:11.918096601996023\n",
      "entering epoch=epoch_35.pkl\n",
      "[epoch_35.pkl---mpiigaze] Total Num:3000,MAE:12.14695397428791\n",
      "entering epoch=epoch_36.pkl\n",
      "[epoch_36.pkl---mpiigaze] Total Num:3000,MAE:12.05896433916166\n",
      "entering epoch=epoch_37.pkl\n",
      "[epoch_37.pkl---mpiigaze] Total Num:3000,MAE:11.85285421416005\n",
      "entering epoch=epoch_38.pkl\n",
      "[epoch_38.pkl---mpiigaze] Total Num:3000,MAE:11.647884095346575\n",
      "entering epoch=epoch_39.pkl\n",
      "[epoch_39.pkl---mpiigaze] Total Num:3000,MAE:11.751535927494459\n",
      "entering epoch=epoch_40.pkl\n",
      "[epoch_40.pkl---mpiigaze] Total Num:3000,MAE:12.080089165386793\n",
      "entering epoch=epoch_41.pkl\n",
      "[epoch_41.pkl---mpiigaze] Total Num:3000,MAE:11.792144736867105\n",
      "entering epoch=epoch_42.pkl\n",
      "[epoch_42.pkl---mpiigaze] Total Num:3000,MAE:11.788769550491493\n",
      "entering epoch=epoch_43.pkl\n",
      "[epoch_43.pkl---mpiigaze] Total Num:3000,MAE:12.105213416643307\n",
      "entering epoch=epoch_44.pkl\n",
      "[epoch_44.pkl---mpiigaze] Total Num:3000,MAE:11.857697698224559\n",
      "entering epoch=epoch_45.pkl\n",
      "[epoch_45.pkl---mpiigaze] Total Num:3000,MAE:12.00458964008193\n",
      "entering epoch=epoch_46.pkl\n",
      "[epoch_46.pkl---mpiigaze] Total Num:3000,MAE:11.908342460692523\n",
      "entering epoch=epoch_47.pkl\n",
      "[epoch_47.pkl---mpiigaze] Total Num:3000,MAE:12.126370115847445\n",
      "entering epoch=epoch_48.pkl\n",
      "[epoch_48.pkl---mpiigaze] Total Num:3000,MAE:11.95486568232363\n",
      "entering epoch=epoch_49.pkl\n",
      "[epoch_49.pkl---mpiigaze] Total Num:3000,MAE:12.17428191859666\n",
      "entering epoch=epoch_50.pkl\n",
      "[epoch_50.pkl---mpiigaze] Total Num:3000,MAE:12.278553694639186\n",
      "entering epoch=epoch_51.pkl\n",
      "[epoch_51.pkl---mpiigaze] Total Num:3000,MAE:11.396577891609237\n",
      "entering epoch=epoch_52.pkl\n",
      "[epoch_52.pkl---mpiigaze] Total Num:3000,MAE:11.696687837565541\n",
      "entering epoch=epoch_53.pkl\n",
      "[epoch_53.pkl---mpiigaze] Total Num:3000,MAE:12.030621096195993\n",
      "entering epoch=epoch_54.pkl\n",
      "[epoch_54.pkl---mpiigaze] Total Num:3000,MAE:11.850421731219562\n",
      "entering epoch=epoch_55.pkl\n",
      "[epoch_55.pkl---mpiigaze] Total Num:3000,MAE:12.36088963380706\n",
      "entering epoch=epoch_56.pkl\n",
      "[epoch_56.pkl---mpiigaze] Total Num:3000,MAE:12.31475191899632\n",
      "entering epoch=epoch_57.pkl\n",
      "[epoch_57.pkl---mpiigaze] Total Num:3000,MAE:12.240898501226171\n",
      "entering epoch=epoch_58.pkl\n",
      "[epoch_58.pkl---mpiigaze] Total Num:3000,MAE:12.867751412885303\n",
      "entering epoch=epoch_59.pkl\n",
      "[epoch_59.pkl---mpiigaze] Total Num:3000,MAE:12.177032861373101\n",
      "entering epoch=epoch_60.pkl\n",
      "[epoch_60.pkl---mpiigaze] Total Num:3000,MAE:12.67179758749724\n"
     ]
    },
    {
     "data": {
      "text/html": [
       "Waiting for W&B process to finish... <strong style=\"color:green\">(success).</strong>"
      ],
      "text/plain": [
       "<IPython.core.display.HTML object>"
      ]
     },
     "metadata": {},
     "output_type": "display_data"
    },
    {
     "data": {
      "application/vnd.jupyter.widget-view+json": {
       "model_id": "",
       "version_major": 2,
       "version_minor": 0
      },
      "text/plain": [
       "VBox(children=(Label(value='0.001 MB of 0.001 MB uploaded (0.000 MB deduped)\\r'), FloatProgress(value=1.0, max…"
      ]
     },
     "metadata": {},
     "output_type": "display_data"
    },
    {
     "data": {
      "text/html": [
       "<style>\n",
       "    table.wandb td:nth-child(1) { padding: 0 10px; text-align: right }\n",
       "    .wandb-row { display: flex; flex-direction: row; flex-wrap: wrap; width: 100% }\n",
       "    .wandb-col { display: flex; flex-direction: column; flex-basis: 100%; flex: 1; padding: 10px; }\n",
       "    </style>\n",
       "<div class=\"wandb-row\"><div class=\"wandb-col\"><h3>Run history:</h3><br/><table class=\"wandb\"><tr><td>fold_13_mean_mae</td><td>▁▅▆▁▂▆▇▅▃▅▅▄▆▃▅▄▅▅▄▆▅▆▄▅▄▃▅▄▅▄▄▅▅▆▃▅▆▆█▇</td></tr></table><br/></div><div class=\"wandb-col\"><h3>Run summary:</h3><br/><table class=\"wandb\"><tr><td>epoch</td><td>epoch_60.pkl</td></tr><tr><td>fold_13_mean_mae</td><td>12.6718</td></tr></table><br/></div></div>"
      ],
      "text/plain": [
       "<IPython.core.display.HTML object>"
      ]
     },
     "metadata": {},
     "output_type": "display_data"
    },
    {
     "data": {
      "text/html": [
       "Synced <strong style=\"color:#cdcd00\">confused-disco-18</strong>: <a href=\"https://wandb.ai/synthesis-ai/smode_rdata_reverse_label/runs/8aih9od3\" target=\"_blank\">https://wandb.ai/synthesis-ai/smode_rdata_reverse_label/runs/8aih9od3</a><br/>Synced 5 W&B file(s), 0 media file(s), 0 artifact file(s) and 0 other file(s)"
      ],
      "text/plain": [
       "<IPython.core.display.HTML object>"
      ]
     },
     "metadata": {},
     "output_type": "display_data"
    },
    {
     "data": {
      "text/html": [
       "Find logs at: <code>./wandb/run-20220621_071322-8aih9od3/logs</code>"
      ],
      "text/plain": [
       "<IPython.core.display.HTML object>"
      ]
     },
     "metadata": {},
     "output_type": "display_data"
    },
    {
     "data": {
      "text/html": [
       "wandb version 0.12.18 is available!  To upgrade, please run:\n",
       " $ pip install wandb --upgrade"
      ],
      "text/plain": [
       "<IPython.core.display.HTML object>"
      ]
     },
     "metadata": {},
     "output_type": "display_data"
    },
    {
     "data": {
      "text/html": [
       "Tracking run with wandb version 0.12.15"
      ],
      "text/plain": [
       "<IPython.core.display.HTML object>"
      ]
     },
     "metadata": {},
     "output_type": "display_data"
    },
    {
     "data": {
      "text/html": [
       "Run data is saved locally in <code>/project/notebooks/wandb/run-20220621_072749-1k5gvx6v</code>"
      ],
      "text/plain": [
       "<IPython.core.display.HTML object>"
      ]
     },
     "metadata": {},
     "output_type": "display_data"
    },
    {
     "data": {
      "text/html": [
       "Syncing run <strong><a href=\"https://wandb.ai/synthesis-ai/smode_rdata_reverse_label/runs/1k5gvx6v\" target=\"_blank\">floral-bee-19</a></strong> to <a href=\"https://wandb.ai/synthesis-ai/smode_rdata_reverse_label\" target=\"_blank\">Weights & Biases</a> (<a href=\"https://wandb.me/run\" target=\"_blank\">docs</a>)<br/>"
      ],
      "text/plain": [
       "<IPython.core.display.HTML object>"
      ]
     },
     "metadata": {},
     "output_type": "display_data"
    },
    {
     "name": "stdout",
     "output_type": "stream",
     "text": [
      "fold=14\n",
      "/project/data/Label\n",
      "0 items removed from dataset that have an angle > 180\n",
      "\n",
      "test configuration equal gpu_id=cuda:0, batch_size=20, model_arch=ResNet50\n",
      "Start testing dataset=mpiigaze, FOLD=14 --06/21/2022 00:27:52---------\n",
      "entering epoch=epoch_1.pkl\n",
      "[epoch_1.pkl---mpiigaze] Total Num:3000,MAE:15.788152016217147\n",
      "entering epoch=epoch_2.pkl\n",
      "[epoch_2.pkl---mpiigaze] Total Num:3000,MAE:14.3454567268855\n",
      "entering epoch=epoch_3.pkl\n",
      "[epoch_3.pkl---mpiigaze] Total Num:3000,MAE:15.76232974685266\n",
      "entering epoch=epoch_4.pkl\n",
      "[epoch_4.pkl---mpiigaze] Total Num:3000,MAE:15.864862304226396\n",
      "entering epoch=epoch_5.pkl\n",
      "[epoch_5.pkl---mpiigaze] Total Num:3000,MAE:16.60083878664961\n",
      "entering epoch=epoch_6.pkl\n",
      "[epoch_6.pkl---mpiigaze] Total Num:3000,MAE:17.393769591897794\n",
      "entering epoch=epoch_7.pkl\n",
      "[epoch_7.pkl---mpiigaze] Total Num:3000,MAE:15.359396749798583\n",
      "entering epoch=epoch_8.pkl\n",
      "[epoch_8.pkl---mpiigaze] Total Num:3000,MAE:16.744807709166757\n",
      "entering epoch=epoch_9.pkl\n",
      "[epoch_9.pkl---mpiigaze] Total Num:3000,MAE:16.395578695693104\n",
      "entering epoch=epoch_10.pkl\n",
      "[epoch_10.pkl---mpiigaze] Total Num:3000,MAE:16.94231357521441\n",
      "entering epoch=epoch_11.pkl\n",
      "[epoch_11.pkl---mpiigaze] Total Num:3000,MAE:16.314846991964668\n",
      "entering epoch=epoch_12.pkl\n",
      "[epoch_12.pkl---mpiigaze] Total Num:3000,MAE:16.73608532891325\n",
      "entering epoch=epoch_13.pkl\n",
      "[epoch_13.pkl---mpiigaze] Total Num:3000,MAE:17.132773760291652\n",
      "entering epoch=epoch_14.pkl\n",
      "[epoch_14.pkl---mpiigaze] Total Num:3000,MAE:16.544510591484826\n",
      "entering epoch=epoch_15.pkl\n",
      "[epoch_15.pkl---mpiigaze] Total Num:3000,MAE:16.78730227724203\n",
      "entering epoch=epoch_16.pkl\n",
      "[epoch_16.pkl---mpiigaze] Total Num:3000,MAE:16.88360672413834\n",
      "entering epoch=epoch_17.pkl\n",
      "[epoch_17.pkl---mpiigaze] Total Num:3000,MAE:16.557702724412046\n",
      "entering epoch=epoch_18.pkl\n",
      "[epoch_18.pkl---mpiigaze] Total Num:3000,MAE:16.816812358602142\n",
      "entering epoch=epoch_19.pkl\n",
      "[epoch_19.pkl---mpiigaze] Total Num:3000,MAE:17.463092934324703\n",
      "entering epoch=epoch_20.pkl\n",
      "[epoch_20.pkl---mpiigaze] Total Num:3000,MAE:16.95284572241772\n",
      "entering epoch=epoch_21.pkl\n",
      "[epoch_21.pkl---mpiigaze] Total Num:3000,MAE:17.00943737248954\n",
      "entering epoch=epoch_22.pkl\n",
      "[epoch_22.pkl---mpiigaze] Total Num:3000,MAE:16.99995361858843\n",
      "entering epoch=epoch_23.pkl\n",
      "[epoch_23.pkl---mpiigaze] Total Num:3000,MAE:17.07413543565143\n",
      "entering epoch=epoch_24.pkl\n",
      "[epoch_24.pkl---mpiigaze] Total Num:3000,MAE:17.41498191189165\n",
      "entering epoch=epoch_25.pkl\n",
      "[epoch_25.pkl---mpiigaze] Total Num:3000,MAE:17.066311486774584\n",
      "entering epoch=epoch_26.pkl\n",
      "[epoch_26.pkl---mpiigaze] Total Num:3000,MAE:16.9369095432516\n",
      "entering epoch=epoch_27.pkl\n",
      "[epoch_27.pkl---mpiigaze] Total Num:3000,MAE:16.932329875630554\n",
      "entering epoch=epoch_28.pkl\n",
      "[epoch_28.pkl---mpiigaze] Total Num:3000,MAE:17.30943456998639\n",
      "entering epoch=epoch_29.pkl\n",
      "[epoch_29.pkl---mpiigaze] Total Num:3000,MAE:17.43562341086947\n",
      "entering epoch=epoch_30.pkl\n",
      "[epoch_30.pkl---mpiigaze] Total Num:3000,MAE:17.189288898032014\n",
      "entering epoch=epoch_31.pkl\n",
      "[epoch_31.pkl---mpiigaze] Total Num:3000,MAE:17.375311859074255\n",
      "entering epoch=epoch_32.pkl\n",
      "[epoch_32.pkl---mpiigaze] Total Num:3000,MAE:17.317304257219675\n",
      "entering epoch=epoch_33.pkl\n",
      "[epoch_33.pkl---mpiigaze] Total Num:3000,MAE:17.435512115775442\n",
      "entering epoch=epoch_34.pkl\n",
      "[epoch_34.pkl---mpiigaze] Total Num:3000,MAE:17.4032468826337\n",
      "entering epoch=epoch_35.pkl\n",
      "[epoch_35.pkl---mpiigaze] Total Num:3000,MAE:17.88526040150474\n",
      "entering epoch=epoch_36.pkl\n",
      "[epoch_36.pkl---mpiigaze] Total Num:3000,MAE:17.309727328766083\n",
      "entering epoch=epoch_37.pkl\n",
      "[epoch_37.pkl---mpiigaze] Total Num:3000,MAE:16.860421243629048\n",
      "entering epoch=epoch_38.pkl\n",
      "[epoch_38.pkl---mpiigaze] Total Num:3000,MAE:17.13435965914414\n",
      "entering epoch=epoch_39.pkl\n",
      "[epoch_39.pkl---mpiigaze] Total Num:3000,MAE:17.331746069390974\n",
      "entering epoch=epoch_40.pkl\n",
      "[epoch_40.pkl---mpiigaze] Total Num:3000,MAE:17.062803001830606\n",
      "entering epoch=epoch_41.pkl\n",
      "[epoch_41.pkl---mpiigaze] Total Num:3000,MAE:16.946418333231353\n",
      "entering epoch=epoch_42.pkl\n",
      "[epoch_42.pkl---mpiigaze] Total Num:3000,MAE:17.1122136462283\n",
      "entering epoch=epoch_43.pkl\n",
      "[epoch_43.pkl---mpiigaze] Total Num:3000,MAE:17.088383158672833\n",
      "entering epoch=epoch_44.pkl\n",
      "[epoch_44.pkl---mpiigaze] Total Num:3000,MAE:16.955643902158087\n",
      "entering epoch=epoch_45.pkl\n",
      "[epoch_45.pkl---mpiigaze] Total Num:3000,MAE:17.083548699283906\n",
      "entering epoch=epoch_46.pkl\n",
      "[epoch_46.pkl---mpiigaze] Total Num:3000,MAE:17.091970259724356\n",
      "entering epoch=epoch_47.pkl\n",
      "[epoch_47.pkl---mpiigaze] Total Num:3000,MAE:16.90039204523108\n",
      "entering epoch=epoch_48.pkl\n",
      "[epoch_48.pkl---mpiigaze] Total Num:3000,MAE:17.450515401748003\n",
      "entering epoch=epoch_49.pkl\n",
      "[epoch_49.pkl---mpiigaze] Total Num:3000,MAE:17.35665712788078\n",
      "entering epoch=epoch_50.pkl\n",
      "[epoch_50.pkl---mpiigaze] Total Num:3000,MAE:16.85688973289973\n",
      "entering epoch=epoch_51.pkl\n",
      "[epoch_51.pkl---mpiigaze] Total Num:3000,MAE:17.026717122254038\n",
      "entering epoch=epoch_52.pkl\n",
      "[epoch_52.pkl---mpiigaze] Total Num:3000,MAE:17.311981660768815\n",
      "entering epoch=epoch_53.pkl\n",
      "[epoch_53.pkl---mpiigaze] Total Num:3000,MAE:16.909406866146867\n",
      "entering epoch=epoch_54.pkl\n",
      "[epoch_54.pkl---mpiigaze] Total Num:3000,MAE:17.78340528531125\n",
      "entering epoch=epoch_55.pkl\n",
      "[epoch_55.pkl---mpiigaze] Total Num:3000,MAE:17.462613611218227\n",
      "entering epoch=epoch_56.pkl\n",
      "[epoch_56.pkl---mpiigaze] Total Num:3000,MAE:17.905955483827398\n",
      "entering epoch=epoch_57.pkl\n",
      "[epoch_57.pkl---mpiigaze] Total Num:3000,MAE:18.004919262540895\n",
      "entering epoch=epoch_58.pkl\n",
      "[epoch_58.pkl---mpiigaze] Total Num:3000,MAE:17.502305737169298\n",
      "entering epoch=epoch_59.pkl\n",
      "[epoch_59.pkl---mpiigaze] Total Num:3000,MAE:17.47018810677383\n",
      "entering epoch=epoch_60.pkl\n",
      "[epoch_60.pkl---mpiigaze] Total Num:3000,MAE:17.59056805316447\n"
     ]
    },
    {
     "data": {
      "text/html": [
       "Waiting for W&B process to finish... <strong style=\"color:green\">(success).</strong>"
      ],
      "text/plain": [
       "<IPython.core.display.HTML object>"
      ]
     },
     "metadata": {},
     "output_type": "display_data"
    },
    {
     "data": {
      "application/vnd.jupyter.widget-view+json": {
       "model_id": "",
       "version_major": 2,
       "version_minor": 0
      },
      "text/plain": [
       "VBox(children=(Label(value='0.001 MB of 0.001 MB uploaded (0.000 MB deduped)\\r'), FloatProgress(value=1.0, max…"
      ]
     },
     "metadata": {},
     "output_type": "display_data"
    },
    {
     "data": {
      "text/html": [
       "<style>\n",
       "    table.wandb td:nth-child(1) { padding: 0 10px; text-align: right }\n",
       "    .wandb-row { display: flex; flex-direction: row; flex-wrap: wrap; width: 100% }\n",
       "    .wandb-col { display: flex; flex-direction: column; flex-basis: 100%; flex: 1; padding: 10px; }\n",
       "    </style>\n",
       "<div class=\"wandb-row\"><div class=\"wandb-col\"><h3>Run history:</h3><br/><table class=\"wandb\"><tr><td>fold_14_mean_mae</td><td>▄▁▄▅▃▆▆▅▆▅▆▅▇▆▆▆▆▆▇▇▇▇▇█▆▆▆▆▆▆▆▆▇▆▇▆▇█▇▇</td></tr></table><br/></div><div class=\"wandb-col\"><h3>Run summary:</h3><br/><table class=\"wandb\"><tr><td>epoch</td><td>epoch_60.pkl</td></tr><tr><td>fold_14_mean_mae</td><td>17.59057</td></tr></table><br/></div></div>"
      ],
      "text/plain": [
       "<IPython.core.display.HTML object>"
      ]
     },
     "metadata": {},
     "output_type": "display_data"
    },
    {
     "data": {
      "text/html": [
       "Synced <strong style=\"color:#cdcd00\">floral-bee-19</strong>: <a href=\"https://wandb.ai/synthesis-ai/smode_rdata_reverse_label/runs/1k5gvx6v\" target=\"_blank\">https://wandb.ai/synthesis-ai/smode_rdata_reverse_label/runs/1k5gvx6v</a><br/>Synced 5 W&B file(s), 0 media file(s), 0 artifact file(s) and 0 other file(s)"
      ],
      "text/plain": [
       "<IPython.core.display.HTML object>"
      ]
     },
     "metadata": {},
     "output_type": "display_data"
    },
    {
     "data": {
      "text/html": [
       "Find logs at: <code>./wandb/run-20220621_072749-1k5gvx6v/logs</code>"
      ],
      "text/plain": [
       "<IPython.core.display.HTML object>"
      ]
     },
     "metadata": {},
     "output_type": "display_data"
    },
    {
     "name": "stdout",
     "output_type": "stream",
     "text": [
      "CPU times: user 2h 54min 25s, sys: 1h 7min 35s, total: 4h 2min 1s\n",
      "Wall time: 3h 36min 22s\n"
     ]
    }
   ],
   "source": [
    "%%time\n",
    "all_MAE = []\n",
    "# tosave={}\n",
    "for fold in range(15):\n",
    "    wandb.init(project=\"smode_rdata_reverse_label\")\n",
    "    print(f\"fold={fold}\")\n",
    "    \n",
    "    epoch_values=[]\n",
    "    mae_values=[]\n",
    "\n",
    "    now = datetime.utcnow()\n",
    "    now = now.astimezone(timezone('US/Pacific'))\n",
    "    date_format='%m/%d/%Y %H:%M:%S'\n",
    "    now = now.strftime(date_format)\n",
    "    \n",
    "    print(args.gazeMpiilabel_dir)\n",
    "    folder = os.listdir(args.gazeMpiilabel_dir)\n",
    "    folder.sort()  #individual label files\n",
    "    testlabelpathcombined = [os.path.join(args.gazeMpiilabel_dir, j) for j in folder] \n",
    "    \n",
    "    gaze_dataset=datasets.Mpiigaze(testlabelpathcombined, args.gazeMpiimage_dir, transformations, False, angle, fold)\n",
    "\n",
    "    test_loader = torch.utils.data.DataLoader(\n",
    "        dataset=gaze_dataset,\n",
    "        batch_size=batch_size,\n",
    "        shuffle=True,\n",
    "        num_workers=4,\n",
    "        pin_memory=True)\n",
    "\n",
    "    fold_path = os.path.join(evalpath, 'fold' + f'{fold:0>2}'+'/')  #for evaluation\n",
    "#     print(f\"fold_path is {fold_path}\")\n",
    "    if not os.path.exists(fold_path):\n",
    "        os.makedirs(fold_path)\n",
    "\n",
    "#     if not os.path.exists(os.path.join(evalpath, f\"fold\"+str(fold))):\n",
    "#         os.makedirs(os.path.join(evalpath, f\"fold\"+str(fold)))\n",
    "\n",
    "    # list all epoch for testing\n",
    "    folder = os.listdir(os.path.join(snapshot_path, \"fold\" + f'{fold:0>2}'))\n",
    "    folder.sort(key=natural_keys)\n",
    "    folder.pop(-1)  #remove the tensorboard file, now all snapshot files\n",
    "#     print(f\"folder={folder}\")\n",
    "                    \n",
    "\n",
    "    softmax = nn.Softmax(dim=1)\n",
    "#     with open(os.path.join(evalpath, os.path.join(\"fold\"+f'{fold:0>2}', data_set+\".log\")), 'w') as outfile:\n",
    "        \n",
    "    configuration = (f\"\\ntest configuration equal gpu_id={gpu}, batch_size={batch_size}, model_arch={arch}\\n\"\n",
    "                     f\"Start testing dataset={data_set}, FOLD={fold} --{now}---------\")\n",
    "    print(configuration)\n",
    "#     tosave['time':now]\n",
    "#     outfile.write(configuration)\n",
    "    epoch_list=[]\n",
    "    avg_MAE=[]\n",
    "    for epoch in folder: \n",
    "        print(f\"entering epoch={epoch}\")\n",
    "        model=model_used\n",
    "        checkpoint = torch.load(os.path.join(snapshot_path+\"fold\"+f'{fold:0>2}', epoch))\n",
    "        saved_state_dict = checkpoint['model_state_dict']\n",
    "        model= nn.DataParallel(model,device_ids=[0])\n",
    "        model.load_state_dict(saved_state_dict)\n",
    "        model.cuda(gpu)\n",
    "        model.eval()\n",
    "        total = 0\n",
    "        idx_tensor = [idx for idx in range(28)]\n",
    "        idx_tensor = torch.FloatTensor(idx_tensor).cuda(gpu)\n",
    "        avg_error = .0\n",
    "        with torch.no_grad():\n",
    "            for j, (images, labels, cont_labels, name) in enumerate(test_loader):\n",
    "                images = Variable(images).cuda(gpu)\n",
    "                total += cont_labels.size(0)\n",
    "\n",
    "                label_pitch = cont_labels[:,0].float()*np.pi/180\n",
    "                label_yaw = cont_labels[:,1].float()*np.pi/180\n",
    "\n",
    "                gaze_pitch, gaze_yaw = model(images)\n",
    "\n",
    "                # Binned predictions\n",
    "                _, pitch_bpred = torch.max(gaze_pitch.data, 1)\n",
    "                _, yaw_bpred = torch.max(gaze_yaw.data, 1)\n",
    "\n",
    "                # Continuous predictions\n",
    "                pitch_predicted = softmax(gaze_pitch)\n",
    "                yaw_predicted = softmax(gaze_yaw)\n",
    "\n",
    "                # mapping from binned (0 to 28) to angels (-42 to 42)                \n",
    "                pitch_predicted = \\\n",
    "                    torch.sum(pitch_predicted * idx_tensor, 1).cpu() * 3 - 42\n",
    "                yaw_predicted = \\\n",
    "                    torch.sum(yaw_predicted * idx_tensor, 1).cpu() * 3 - 42\n",
    "\n",
    "                pitch_predicted = pitch_predicted*np.pi/180\n",
    "                yaw_predicted = yaw_predicted*np.pi/180\n",
    "\n",
    "                for p,y,pl,yl in zip(pitch_predicted, yaw_predicted, label_pitch, label_yaw):\n",
    "                    pl, yl = yl, pl\n",
    "#                     yl = yl*(-1.0)\n",
    "                    avg_error += angular(gazeto3d([p,y]), gazeto3d([pl,yl]))\n",
    "\n",
    "        x = ''.join(filter(lambda i: i.isdigit(), epoch))\n",
    "#             print(f\"x={x}\")\n",
    "        \n",
    "        epoch_list.append(x)\n",
    "        mean_mae = avg_error/total  #mean mae over the 3000 iamges\n",
    "        avg_MAE.append(mean_mae)  \n",
    "#             print(f\"total={total}\")\n",
    "        \n",
    "        loger = f\"[{epoch}---{args.dataset}] Total Num:{total},MAE:{mean_mae}\"\n",
    "#         outfile.write(loger)\n",
    "        print(loger)\n",
    "#             print(f\"done epoch={epochs}\")\n",
    "        epochn = int(x)\n",
    "#         wandb.log({'epoch':epochn,'total':total, 'MAE':mean_mae, 'FOLD':fold })\n",
    "#         tosave ={'epoch':epochn,'total':total, 'MAE':mean_mae, 'FOLD':fold }\n",
    "        epoch_values.append(epochn)\n",
    "        mae_values.append(mean_mae)\n",
    "# #         wandb.log(tosave)\n",
    "        wandb.log({'epoch': epoch, f'fold_{fold}_mean_mae':mean_mae}, step=epochn)\n",
    "       \n",
    "    all_MAE.append(avg_MAE)\n",
    "    wandb.finish()\n",
    "#     data = [[x, y] for (x, y) in zip(epoch_values, mae_values)]\n",
    "#     table = wandb.Table(data=data, columns = [\"x\", \"y\"])\n",
    "#     wandb.log({\"epoch_losses\" : wandb.plot.line(table, \"x\", \"y\",\n",
    "#                title=\"Epoch loss for each fold\")})\n",
    "    \n",
    "#     fig = plt.figure(figsize=(14, 8))        \n",
    "#     plt.xlabel('epoch')\n",
    "#     plt.ylabel('avg')\n",
    "#     plt.title('Gaze angular error')\n",
    "#     plt.legend()\n",
    "#     plt.plot(epoch_list, avg_MAE, color='k', label='mae')\n",
    "#     fig.savefig(os.path.join(evalpath, os.path.join(\"fold\"+f'{fold:0>2}', data_set+\".png\")), format='png')\n",
    "#     # plt.show() "
   ]
  },
  {
   "cell_type": "code",
   "execution_count": 11,
   "id": "065622ef",
   "metadata": {},
   "outputs": [],
   "source": [
    "all_MAE=np.array(all_MAE)"
   ]
  },
  {
   "cell_type": "code",
   "execution_count": 12,
   "id": "0872f6ce",
   "metadata": {},
   "outputs": [
    {
     "name": "stdout",
     "output_type": "stream",
     "text": [
      "(15, 60)\n",
      "[12.73320015 12.66976048 13.29805501 13.49525361 13.49816027 13.51472531\n",
      " 13.30842204 14.09889858 14.05949045 13.85637639 13.90967756 14.32806288\n",
      " 14.10930814 14.10788745 14.14207063 14.32835782 14.23040513 14.34655454\n",
      " 14.26615159 14.00458119 14.25726836 14.20687374 14.35447629 14.36525256\n",
      " 14.18271497 14.39796341 14.50344808 14.32886481 14.53107158 14.59748938\n",
      " 14.40030267 14.69282299 14.43906777 14.34944433 14.60067985 14.61058843\n",
      " 14.41827577 14.57232955 14.66060559 14.62001057 14.61284852 14.69078068\n",
      " 14.71025778 14.62712429 14.61639218 14.69013644 14.78735022 14.63679245\n",
      " 14.85162752 14.73501859 14.60493425 14.88924773 14.64028477 14.7535466\n",
      " 14.90905922 14.91213516 14.91818184 14.808922   14.90649021 14.76218099]\n",
      "[13.36636655 12.58951346 14.97902285 16.07620969 10.7099251  13.46431787\n",
      " 18.8250614  15.43233654 13.56937345 12.01918444 16.02104838 12.47781844\n",
      " 16.52140525 12.06828396 16.99469796]\n",
      "2 12.669760482027044\n"
     ]
    }
   ],
   "source": [
    "\n",
    "print(all_MAE.shape)\n",
    "print(all_MAE.mean(axis=0))\n",
    "print(all_MAE.mean(axis=1))\n",
    "print(all_MAE.mean(axis=0).argmin()+1 ,all_MAE.mean(axis=0).min())"
   ]
  }
 ],
 "metadata": {
  "kernelspec": {
   "display_name": "Python 3 (ipykernel)",
   "language": "python",
   "name": "python3"
  },
  "language_info": {
   "codemirror_mode": {
    "name": "ipython",
    "version": 3
   },
   "file_extension": ".py",
   "mimetype": "text/x-python",
   "name": "python",
   "nbconvert_exporter": "python",
   "pygments_lexer": "ipython3",
   "version": "3.8.10"
  }
 },
 "nbformat": 4,
 "nbformat_minor": 5
}
