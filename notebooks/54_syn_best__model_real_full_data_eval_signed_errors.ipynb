{
 "cells": [
  {
   "cell_type": "code",
   "execution_count": 1,
   "id": "9132df96",
   "metadata": {},
   "outputs": [],
   "source": [
    "# Use the best model for each checkpoint folder to test maes for all data folds"
   ]
  },
  {
   "cell_type": "code",
   "execution_count": 2,
   "id": "662efc9c",
   "metadata": {},
   "outputs": [],
   "source": [
    "import os, argparse\n",
    "import numpy as np\n",
    "import matplotlib.pyplot as plt\n",
    "from datetime import datetime\n",
    "from pytz import timezone\n",
    "from pathlib import Path\n",
    "import torch\n",
    "import torch.nn as nn\n",
    "from torch.autograd import Variable\n",
    "from torch.utils.data import DataLoader\n",
    "from torchvision import transforms\n",
    "import torch.backends.cudnn as cudnn\n",
    "import torchvision\n",
    "import wandb\n",
    "\n",
    "import datasets\n",
    "# from utils import select_device, natural_keys, gazeto3d, angular, getArch\n",
    "from utils import select_device, natural_keys, gazeto3d, angular, getArch\n",
    "from model import L2CS"
   ]
  },
  {
   "cell_type": "code",
   "execution_count": 3,
   "id": "ed29c578",
   "metadata": {},
   "outputs": [],
   "source": [
    "args = argparse.Namespace()\n",
    "args.gazeMpiimage_dir = '/project/data/Image'  #real data \n",
    "args.gazeMpiilabel_dir = '/project/data/Label'  #real label\n",
    "# args.output = '/project/results/soutput1/snapshots/'\n",
    "args.dataset = 'mpiigaze'\n",
    "args.snapshot='/project/results/soutput1/snapshots/'\n",
    "# args.evalpath = '/project/results/sroutput1/evaluation/'\n",
    "args.gpu_id = '0,1,2,3'\n",
    "args.gpu_id = '0'\n",
    "args.batch_size = 20\n",
    "args.arch = 'ResNet50'\n",
    "args.bins=35\n",
    "args.angle = 180\n",
    "args.bin_width = 4\n"
   ]
  },
  {
   "cell_type": "code",
   "execution_count": 4,
   "id": "d0e11321",
   "metadata": {},
   "outputs": [],
   "source": [
    "batch_size=args.batch_size\n",
    "arch=args.arch\n",
    "data_set=args.dataset\n",
    "# evalpath =args.evalpath\n",
    "snapshot_path = args.snapshot\n",
    "bins=args.bins\n",
    "angle=args.angle\n",
    "bin_width=args.bin_width\n",
    "gazeMpiimage_dir = args.gazeMpiimage_dir\n",
    "gazeMpiilabel_dir=args.gazeMpiilabel_dir"
   ]
  },
  {
   "cell_type": "code",
   "execution_count": 5,
   "id": "0504fda4",
   "metadata": {},
   "outputs": [],
   "source": [
    "# args = parse_args()\n",
    "cudnn.enabled = True\n",
    "gpu = select_device(args.gpu_id, batch_size=args.batch_size)\n",
    "transformations = transforms.Compose([\n",
    "    transforms.Resize(448),\n",
    "    transforms.ToTensor(),\n",
    "    transforms.Normalize(\n",
    "        mean=[0.485, 0.456, 0.406],\n",
    "        std=[0.229, 0.224, 0.225]\n",
    "    )\n",
    "])\n",
    "\n",
    "model_used= getArch(arch, bins)  #resnet50 and 28 bins"
   ]
  },
  {
   "cell_type": "code",
   "execution_count": 6,
   "id": "2a3aa734",
   "metadata": {},
   "outputs": [
    {
     "name": "stdout",
     "output_type": "stream",
     "text": [
      "fold   best_epoch error(degree)\n",
      " 0        34         2.818   \n",
      " 1        60         2.734   \n",
      " 2        36         3.001   \n",
      " 3        59         3.617   \n",
      " 4        57         3.239   \n",
      " 5        36         2.433   \n",
      " 6        49         3.298   \n",
      " 7        41         3.077   \n",
      " 8        29         4.815   \n",
      " 9        32         4.783   \n",
      " 10       30         2.987   \n",
      " 11       39         2.451   \n",
      " 12       8          3.177   \n",
      " 13       51         2.539   \n",
      " 14       10         3.189   \n"
     ]
    }
   ],
   "source": [
    "#read the fold epoch table\n",
    "dfile = Path(snapshot_path).parent/\"syn_syn__all_MAE.npy\"\n",
    "all_MAE = np.load(dfile)\n",
    "best_epoch = {}\n",
    "best_epoch_error = {}\n",
    "print(f\"fold   best_epoch error(degree)\")\n",
    "for idx, fdata in enumerate(all_MAE):\n",
    "#     print(idx, type(idx))\n",
    "    epoch_min_error = np.argmin(fdata)+1\n",
    "    print(f'{idx:^4} {np.argmin(fdata)+1:^12} {fdata.min():^11.3f}')\n",
    "    best_epoch[idx+1] = epoch_min_error\n",
    "    best_epoch_error[idx+1]=fdata.min()"
   ]
  },
  {
   "cell_type": "code",
   "execution_count": 7,
   "id": "6e2eff08",
   "metadata": {},
   "outputs": [
    {
     "name": "stdout",
     "output_type": "stream",
     "text": [
      "0:60 1:60 2:60 3:60 4:60 5:60 6:60 7:60 8:60 9:60 10:60 11:60 12:60 13:60 14:60 "
     ]
    }
   ],
   "source": [
    "# check if we have the correct number of checkpoint files \n",
    "ppath = snapshot_path\n",
    "for fold in range(15):\n",
    "    foldstr = f\"fold{fold:0>2}\"\n",
    "    cpath =os.path.join(ppath, foldstr)\n",
    "    files = os.listdir(cpath)\n",
    "    print(f'{fold}:{len(files)}',end=\" \")"
   ]
  },
  {
   "cell_type": "code",
   "execution_count": 8,
   "id": "72df5465",
   "metadata": {},
   "outputs": [
    {
     "name": "stdout",
     "output_type": "stream",
     "text": [
      "06/29/2022 15:09:42\n"
     ]
    }
   ],
   "source": [
    "def get_now():\n",
    "    now = datetime.utcnow()\n",
    "    now = now.astimezone(timezone('US/Pacific'))\n",
    "    date_format='%m/%d/%Y %H:%M:%S'\n",
    "    now = now.strftime(date_format) \n",
    "    return now\n",
    "print(get_now())"
   ]
  },
  {
   "cell_type": "code",
   "execution_count": 9,
   "id": "aac76d00",
   "metadata": {},
   "outputs": [
    {
     "name": "stdout",
     "output_type": "stream",
     "text": [
      "['/project/data/Label/p00.label', '/project/data/Label/p01.label', '/project/data/Label/p02.label', '/project/data/Label/p03.label', '/project/data/Label/p04.label', '/project/data/Label/p05.label', '/project/data/Label/p06.label', '/project/data/Label/p07.label', '/project/data/Label/p08.label', '/project/data/Label/p09.label', '/project/data/Label/p10.label', '/project/data/Label/p11.label', '/project/data/Label/p12.label', '/project/data/Label/p13.label', '/project/data/Label/p14.label']\n",
      "cfold=fold00\n",
      "0 items removed from dataset that have an angle > 180\n",
      "\n",
      "test configuration: gpu_id=cuda:0, batch_size=20\n",
      "model_arch=ResNet50 Start testing dataset=mpiigaze\n",
      "cFOLD=0 dFOLD=0--06/29/2022 15:09:46----\n",
      "pitches:tensor([ -5.5269,  -2.7193,  -5.2837,  -3.2096, -14.7763, -14.3312,  -5.6325,\n",
      "         -4.3949, -15.8153,  -4.8895,  -1.7909, -10.9892,  -5.1384,  -3.7959,\n",
      "          0.1870,  -4.3136,  -6.5062,  -7.2208, -15.7221,  -1.3563])\n",
      "yaws:tensor([ -9.3991,  -3.7673,  -1.5014,  -0.8891,  -7.1782,  -7.5295,   9.7830,\n",
      "        -10.8463,  -7.0362,  -3.8641,   4.3694,   2.9756, -11.9962,   6.4096,\n",
      "         -1.7772,   0.3063,  -1.3905,  -3.5922,   9.0680,  -9.7126])\n",
      "pitches_predicted:tensor([ -2.2639,  -5.5727,  -4.7916,  -2.1184, -21.6372, -15.0733,  -7.6631,\n",
      "         -0.4298, -10.4681,  -3.3549,  -2.4232, -12.0665,  -4.1466,  -5.5896,\n",
      "          1.0337,  -3.6541,  -7.0956,  -3.7944,  -8.2884,  -0.3199])\n",
      "yaws_predicted:tensor([ -8.9839,  -2.7352,  -3.3723,  -3.1749, -16.2219,  -8.8315,   8.9521,\n",
      "         -0.4190,  -7.8530,  -6.6342,   7.4140,   4.1362, -16.4774,   7.7489,\n",
      "          1.4600,  -0.8954,  -1.2785,  -5.9255,   7.1997, -12.1871])\n",
      "pitches_errors:tensor([ 3.2630, -2.8534,  0.4920,  1.0912, -6.8609, -0.7421, -2.0307,  3.9651,\n",
      "         5.3472,  1.5346, -0.6323, -1.0773,  0.9918, -1.7937,  0.8466,  0.6595,\n",
      "        -0.5894,  3.4264,  7.4337,  1.0364])\n",
      "yaws_errors:tensor([ 0.4152,  1.0321, -1.8709, -2.2858, -9.0437, -1.3021, -0.8310, 10.4273,\n",
      "        -0.8168, -2.7701,  3.0446,  1.1606, -4.4812,  1.3393,  3.2372, -1.2018,\n",
      "         0.1121, -2.3332, -1.8682, -2.4746])\n",
      "0 items removed from dataset that have an angle > 180\n",
      "\n",
      "test configuration: gpu_id=cuda:0, batch_size=20\n",
      "model_arch=ResNet50 Start testing dataset=mpiigaze\n",
      "cFOLD=0 dFOLD=1--06/29/2022 15:10:00----\n",
      "pitches:tensor([ -1.5178, -12.1562, -10.6092, -15.2865, -11.5299,  -4.8218,  -3.6050,\n",
      "         -5.6814,  -8.2467, -12.6177, -10.9924,  -7.0420,  -3.5115,  -2.1741,\n",
      "        -18.0463, -15.1370, -10.2688,  -7.3471,  -4.0409,  -7.4884])\n",
      "yaws:tensor([  8.3835,  15.0203, -11.7168,   0.4294,  -8.2663,   6.3546,  -4.3189,\n",
      "         -7.9571,  12.5630,  10.8759,   7.0017,   5.6184,  -7.2225,  13.0958,\n",
      "         -5.8079,   0.3809,   2.6261,  -4.5793, -11.7397,  -2.3344])\n",
      "pitches_predicted:tensor([ -3.2821, -12.5790,  -5.2382, -16.7149, -10.3043,  -0.0535,  -3.5667,\n",
      "         -4.9795,  -3.7422, -15.7049,  -4.5103, -10.1203,  -3.5985,  -4.9859,\n",
      "        -24.0409, -16.9689,  -5.9723,  -4.8159,  -2.2575,  -9.0212])\n",
      "yaws_predicted:tensor([  4.3742,   7.2486,  -7.8456,  -8.0657,  -0.6198,   1.2440,  -1.7931,\n",
      "         -4.3443,   1.0575,   6.1706,   0.1903,   8.7053, -10.9554,   2.8864,\n",
      "        -14.2865,  -1.5827,  -2.0142,   0.3221,  -9.5725,  -1.5158])\n",
      "pitches_errors:tensor([-1.7643, -0.4228,  5.3710, -1.4284,  1.2256,  4.7683,  0.0383,  0.7020,\n",
      "         4.5045, -3.0872,  6.4821, -3.0783, -0.0870, -2.8118, -5.9946, -1.8319,\n",
      "         4.2966,  2.5312,  1.7834, -1.5329])\n",
      "yaws_errors:tensor([ -4.0093,  -7.7717,   3.8711,  -8.4951,   7.6464,  -5.1106,   2.5257,\n",
      "          3.6129, -11.5055,  -4.7052,  -6.8114,   3.0869,  -3.7329, -10.2094,\n",
      "         -8.4785,  -1.9636,  -4.6403,   4.9014,   2.1672,   0.8187])\n",
      "0 items removed from dataset that have an angle > 180\n",
      "\n",
      "test configuration: gpu_id=cuda:0, batch_size=20\n",
      "model_arch=ResNet50 Start testing dataset=mpiigaze\n",
      "cFOLD=0 dFOLD=2--06/29/2022 15:10:13----\n",
      "pitches:tensor([ -1.1545, -10.1369, -13.1140,  -7.5109,  -8.5536,  -7.0841,  -8.0413,\n",
      "        -10.2462, -15.5151,  -9.3155,  -5.1551, -10.1932, -11.5421,  -8.6686,\n",
      "        -15.0404,  -9.1814,  -8.7119, -10.2689,  -1.0875,   0.5241])\n",
      "yaws:tensor([  9.3966,  -1.1476,   2.1297,  -8.1994,   7.8815,  -6.7843,   7.1053,\n",
      "        -12.8121,   5.8448,   2.3182, -12.5667, -13.6947,  14.1960,   2.8784,\n",
      "         10.8657,   9.6459,   7.2778,  11.9854,   2.8569,   5.9615])\n",
      "pitches_predicted:tensor([ -5.2462, -15.6961, -13.5987,  -9.6250, -10.8434,  -3.8464,  -8.0609,\n",
      "         -9.0586, -13.9812, -16.7548, -13.7643, -10.3157,  -5.1006, -11.7966,\n",
      "        -13.5103,  -9.8309,  -9.7387,  -6.2207,  -9.4358, -11.0843])\n",
      "yaws_predicted:tensor([ 12.5692,  -5.6073,   8.8466,  -1.8087,  15.5890,  -3.8652,   2.6923,\n",
      "        -15.9110,  11.2979,   8.3966, -14.6159, -11.5948,  17.2398,   3.2737,\n",
      "         18.0541,   9.6564,   5.8117,  10.7412,   7.8314,  14.5828])\n",
      "pitches_errors:tensor([ -4.0917,  -5.5592,  -0.4847,  -2.1142,  -2.2898,   3.2377,  -0.0196,\n",
      "          1.1875,   1.5339,  -7.4393,  -8.6092,  -0.1225,   6.4415,  -3.1279,\n",
      "          1.5301,  -0.6495,  -1.0268,   4.0483,  -8.3482, -11.6084])\n",
      "yaws_errors:tensor([ 3.1725, -4.4598,  6.7169,  6.3907,  7.7075,  2.9191, -4.4130, -3.0990,\n",
      "         5.4531,  6.0784, -2.0491,  2.0999,  3.0438,  0.3952,  7.1884,  0.0105,\n",
      "        -1.4661, -1.2442,  4.9745,  8.6213])\n",
      "0 items removed from dataset that have an angle > 180\n",
      "\n",
      "test configuration: gpu_id=cuda:0, batch_size=20\n",
      "model_arch=ResNet50 Start testing dataset=mpiigaze\n",
      "cFOLD=0 dFOLD=3--06/29/2022 15:10:26----\n",
      "pitches:tensor([ -0.4531,  -8.3200,  -0.7906, -18.8933,  -8.1600, -15.5842,  -4.5667,\n",
      "         -7.0072,  -9.4502, -16.8718, -16.2989,  -8.0471, -17.2855,  -0.4021,\n",
      "         -3.4204, -11.8592,  -5.4709,  -3.3814, -13.0774,  -8.3807])\n",
      "yaws:tensor([ 12.7986,   3.5006, -12.8980,   8.1703, -10.8979,  -3.9004,   8.2579,\n",
      "         13.3665,  -0.9366,   4.3541,  -1.1348,  -0.9919,  -6.1369,   4.1654,\n",
      "         10.3204,  -6.7577,  13.4781, -12.7577, -13.9978,   5.8932])\n",
      "pitches_predicted:tensor([  3.4276,  -5.0566,  -3.4567, -17.9780,  -4.3578,  -7.5581,  -1.2363,\n",
      "         -3.4384,  -8.8874,  -4.5215, -10.7662,  -3.0876, -12.9069,   2.6237,\n",
      "         -3.2831,  -6.2406,   1.5871,  -3.3841,  -7.5228,  -6.9002])\n",
      "yaws_predicted:tensor([ 1.2997e+01,  3.7157e+00, -2.2430e+01,  1.0640e+01, -1.4381e+01,\n",
      "        -4.1621e+00,  8.8545e+00,  1.4972e+01, -2.0512e-02,  2.3018e+00,\n",
      "         4.4551e-01, -4.8631e+00, -8.9641e+00,  4.2350e+00,  1.1026e+01,\n",
      "        -6.4158e-01,  1.2831e+01, -1.2733e+01, -1.9105e+01,  1.0551e+01])\n",
      "pitches_errors:tensor([ 3.8807e+00,  3.2634e+00, -2.6662e+00,  9.1532e-01,  3.8021e+00,\n",
      "         8.0261e+00,  3.3303e+00,  3.5688e+00,  5.6280e-01,  1.2350e+01,\n",
      "         5.5328e+00,  4.9595e+00,  4.3786e+00,  3.0259e+00,  1.3725e-01,\n",
      "         5.6186e+00,  7.0581e+00, -2.6555e-03,  5.5546e+00,  1.4805e+00])\n",
      "yaws_errors:tensor([ 0.1981,  0.2151, -9.5316,  2.4697, -3.4832, -0.2617,  0.5966,  1.6058,\n",
      "         0.9161, -2.0523,  1.5803, -3.8712, -2.8272,  0.0696,  0.7055,  6.1161,\n",
      "        -0.6474,  0.0243, -5.1077,  4.6583])\n",
      "0 items removed from dataset that have an angle > 180\n",
      "\n",
      "test configuration: gpu_id=cuda:0, batch_size=20\n",
      "model_arch=ResNet50 Start testing dataset=mpiigaze\n",
      "cFOLD=0 dFOLD=4--06/29/2022 15:10:38----\n",
      "pitches:tensor([-10.7684,  -5.6698,  -4.4613,  -1.5004,  -6.9300, -11.2924,  -6.5119,\n",
      "        -10.5748, -13.7156, -13.3244,  -6.0431, -10.4697,  -2.5084,  -9.1220,\n",
      "         -8.6791,  -0.2088,   0.4326,  -4.6546,  -0.1824,  -1.9639])\n",
      "yaws:tensor([ 10.0303,  12.2335,  11.3485,   1.7443,  -6.3294,  -1.0334,  -1.4273,\n",
      "        -10.4269,   6.1054,  12.2226,   6.4453,  -1.3098,   5.0304,   6.9048,\n",
      "         -9.8192, -12.0096, -14.4417,  -9.6695,   4.8745,   6.7677])\n",
      "pitches_predicted:tensor([-17.1216, -10.2230, -10.9428,  -6.2291,  -9.1022, -21.9799, -11.3350,\n",
      "        -11.4217,  -8.9893, -13.3784, -15.0089, -11.4146,   2.3148, -15.5284,\n",
      "         -7.8937,  -3.1566,   3.0161,  -0.6558,  -3.0964,  -7.4438])\n",
      "yaws_predicted:tensor([  8.9607,   8.5535,  10.6597,   1.1902,  -3.9623,   1.7459,  -0.5734,\n",
      "        -10.5099,   7.1442,   9.2712,   7.4996,  -3.8642,   6.2669,   3.5797,\n",
      "         -4.3623,  -7.5090,  -6.8742,  -9.0099,   4.4258,   9.3141])\n",
      "pitches_errors:tensor([ -6.3532,  -4.5532,  -6.4815,  -4.7287,  -2.1723, -10.6875,  -4.8231,\n",
      "         -0.8469,   4.7264,  -0.0541,  -8.9658,  -0.9449,   4.8232,  -6.4065,\n",
      "          0.7854,  -2.9478,   2.5835,   3.9989,  -2.9140,  -5.4800])\n",
      "yaws_errors:tensor([-1.0696, -3.6800, -0.6888, -0.5541,  2.3671,  2.7793,  0.8539, -0.0830,\n",
      "         1.0388, -2.9513,  1.0543, -2.5544,  1.2365, -3.3251,  5.4568,  4.5006,\n",
      "         7.5675,  0.6597, -0.4486,  2.5464])\n"
     ]
    },
    {
     "name": "stdout",
     "output_type": "stream",
     "text": [
      "0 items removed from dataset that have an angle > 180\n",
      "\n",
      "test configuration: gpu_id=cuda:0, batch_size=20\n",
      "model_arch=ResNet50 Start testing dataset=mpiigaze\n",
      "cFOLD=0 dFOLD=5--06/29/2022 15:10:51----\n",
      "pitches:tensor([-10.1743,  -9.4695, -12.8874, -15.8769,   1.9931,  -4.0371, -15.9945,\n",
      "         -5.3909, -16.2406, -17.5410, -13.8287, -12.5662,  -3.0738,  -0.0927,\n",
      "         -1.2745, -17.1732,  -0.6780, -12.4380, -13.9356,  -7.8783])\n",
      "yaws:tensor([ -1.1514,   9.4329,  -6.5448,  -5.1748,  14.6348, -10.0609, -17.1409,\n",
      "         -6.3797,  -2.8090,  -9.2804,  13.6656,  15.4238,   4.7233,   9.6799,\n",
      "          1.4061,   0.5893,  -7.2273,  15.4625, -11.0950,  11.3100])\n",
      "pitches_predicted:tensor([ -9.7669, -10.1331, -11.6791, -12.1390,   1.1450, -14.1734,  -7.7590,\n",
      "         -0.6924, -13.0893, -16.1346,  -8.4090, -11.7979,   0.3457,  -4.3184,\n",
      "          0.6164, -21.0711,  -2.4004, -15.1710, -16.5996,  -6.5168])\n",
      "yaws_predicted:tensor([ -3.6788,   8.0828,  -5.3770,   0.3711,  12.6400,   0.7954, -11.8667,\n",
      "         -1.4784,  -6.1473,  -2.9177,   5.2919,   1.8136,  10.6964,   4.2772,\n",
      "          2.8690,  -3.9281,  -2.6401,  11.9600,   1.6644,  11.6420])\n",
      "pitches_errors:tensor([  0.4074,  -0.6637,   1.2083,   3.7379,  -0.8481, -10.1363,   8.2355,\n",
      "          4.6985,   3.1513,   1.4063,   5.4197,   0.7683,   3.4195,  -4.2257,\n",
      "          1.8910,  -3.8979,  -1.7223,  -2.7331,  -2.6640,   1.3615])\n",
      "yaws_errors:tensor([ -2.5274,  -1.3501,   1.1678,   5.5459,  -1.9948,  10.8563,   5.2742,\n",
      "          4.9012,  -3.3383,   6.3627,  -8.3737, -13.6101,   5.9731,  -5.4027,\n",
      "          1.4629,  -4.5173,   4.5872,  -3.5025,  12.7594,   0.3320])\n",
      "0 items removed from dataset that have an angle > 180\n",
      "\n",
      "test configuration: gpu_id=cuda:0, batch_size=20\n",
      "model_arch=ResNet50 Start testing dataset=mpiigaze\n",
      "cFOLD=0 dFOLD=6--06/29/2022 15:11:04----\n",
      "pitches:tensor([ -2.7992, -13.7072,  -0.3980,  -8.7009, -18.7052, -14.8178, -16.7251,\n",
      "        -20.4512, -16.9745, -13.1503,  -5.7227, -11.3772,  -5.1291, -15.9832,\n",
      "        -17.4087,  -2.2811,  -0.3987, -13.8240, -12.0133, -17.8404])\n",
      "yaws:tensor([-10.2487,  13.1888,  -6.1501,  -9.0012, -11.9220,  16.0082,   5.4720,\n",
      "         -7.2957,  11.8151,   5.4937, -13.4265,  14.4679,   1.6162,  -8.7686,\n",
      "         15.3656, -14.9068,  -5.9204, -13.0236,  11.3310,   3.9179])\n",
      "pitches_predicted:tensor([  0.7838,  -2.3362,  -7.0598,  -1.6676, -15.3707,  -6.9048,  -0.9670,\n",
      "         -6.8239,  -8.6823,  -3.0819,   5.1716,  -3.1175,   1.5231,  -0.4132,\n",
      "        -13.6582,   8.5319,  -1.6192,  -5.8258,  -7.8503,  -4.6353])\n",
      "yaws_predicted:tensor([ -5.2508,   5.5942,  -1.4248,  -9.1160,  -5.7499,   7.8113,   3.7342,\n",
      "          1.4373,   7.2183,   5.9930, -14.2814,  18.1827,  -6.3256,  -5.6166,\n",
      "         23.0240, -14.4148,  -7.9399,  -2.8488,   9.3094,   0.8863])\n",
      "pitches_errors:tensor([ 3.5830, 11.3709, -6.6619,  7.0332,  3.3345,  7.9131, 15.7582, 13.6273,\n",
      "         8.2922, 10.0683, 10.8943,  8.2597,  6.6522, 15.5700,  3.7505, 10.8130,\n",
      "        -1.2205,  7.9981,  4.1630, 13.2051])\n",
      "yaws_errors:tensor([ 4.9979, -7.5946,  4.7253, -0.1148,  6.1722, -8.1969, -1.7378,  8.7331,\n",
      "        -4.5968,  0.4993, -0.8549,  3.7149, -7.9417,  3.1520,  7.6584,  0.4919,\n",
      "        -2.0195, 10.1748, -2.0216, -3.0316])\n",
      "0 items removed from dataset that have an angle > 180\n",
      "\n",
      "test configuration: gpu_id=cuda:0, batch_size=20\n",
      "model_arch=ResNet50 Start testing dataset=mpiigaze\n",
      "cFOLD=0 dFOLD=7--06/29/2022 15:11:16----\n",
      "pitches:tensor([ -4.9974,  -6.4079, -10.2472, -11.4778, -11.8108,  -8.9716, -15.9132,\n",
      "        -15.1151, -16.1305, -16.2959,  -6.4017, -14.4879, -16.6950, -17.6365,\n",
      "         -9.0027,  -8.9303, -14.9691,  -2.2092, -10.3568,  -1.6538])\n",
      "yaws:tensor([  6.8269,  10.6463,  -1.8090,   3.0878,   1.0908,   3.9542,   7.4683,\n",
      "          9.4726,  12.1507,  -4.3350,  11.8071,  -9.4730,  -6.7478,   8.3667,\n",
      "          4.9625,  -5.7120,  -6.8650, -12.0091,  -1.1191,  13.7025])\n",
      "pitches_predicted:tensor([-12.7683, -12.2625,  -5.4015, -12.4852, -11.8291,  -7.7458,  -9.8122,\n",
      "        -11.1746,  -4.5681, -13.4445, -10.9556, -13.9901, -21.2209, -12.0692,\n",
      "        -10.0797, -10.5759, -13.1504,  -2.1933, -12.8207,  -1.6913])\n",
      "yaws_predicted:tensor([  5.5580,  12.6101,   1.2892,   3.0012,   0.5343,   9.1185,   2.0682,\n",
      "          7.2312,   6.2616,   3.9949,   7.9821,  -6.0989,  -5.0135,   7.5708,\n",
      "          0.9459,  -4.3699,  -9.7404, -11.7115,  -2.1838,   8.3733])\n",
      "pitches_errors:tensor([-7.7709, -5.8545,  4.8457, -1.0074, -0.0183,  1.2258,  6.1010,  3.9405,\n",
      "        11.5624,  2.8515, -4.5538,  0.4978, -4.5259,  5.5673, -1.0770, -1.6456,\n",
      "         1.8187,  0.0159, -2.4638, -0.0374])\n",
      "yaws_errors:tensor([-1.2690,  1.9638,  3.0982, -0.0866, -0.5565,  5.1643, -5.4001, -2.2414,\n",
      "        -5.8891,  8.3299, -3.8250,  3.3741,  1.7343, -0.7959, -4.0166,  1.3421,\n",
      "        -2.8754,  0.2976, -1.0647, -5.3292])\n",
      "0 items removed from dataset that have an angle > 180\n",
      "\n",
      "test configuration: gpu_id=cuda:0, batch_size=20\n",
      "model_arch=ResNet50 Start testing dataset=mpiigaze\n",
      "cFOLD=0 dFOLD=8--06/29/2022 15:11:30----\n",
      "pitches:tensor([-19.8512,  -1.1797,  -1.7809,  -7.4446, -19.6750, -15.7539,  -8.3375,\n",
      "        -17.5931, -13.0575,  -6.7942, -11.0090, -12.2876,  -8.0749,  -5.9971,\n",
      "        -10.8542, -10.5552, -14.4561,  -8.7425, -12.2458, -13.8088])\n",
      "yaws:tensor([ 5.8062, -3.5334, -9.6492,  3.5789, -5.8181, -1.1397, -4.9676,  6.6272,\n",
      "        -1.0344,  4.3122,  6.4558,  4.0171,  4.7930,  0.9681, 14.6572,  5.5918,\n",
      "         3.6854,  2.6473,  5.0506,  7.5360])\n",
      "pitches_predicted:tensor([-22.2548,  -2.4434,   2.2775,  -9.2374, -20.2956,  -9.4843, -14.2966,\n",
      "         -0.3095,  -6.8150, -18.4411,  -6.9165, -19.6737, -10.1283,  -6.6998,\n",
      "         -3.8572,  -2.6689, -13.1666, -15.2845,  15.2391, -14.0447])\n",
      "yaws_predicted:tensor([ 4.9895, -0.7685, -4.3822,  6.4762, -3.3284, -0.1570, -8.6458,  7.3812,\n",
      "        -2.1508, -1.7918,  6.0116,  8.3670, -0.6417,  4.5417,  8.8648, 12.3530,\n",
      "         5.7490,  1.5397, 22.4673,  4.1112])\n",
      "pitches_errors:tensor([ -2.4036,  -1.2637,   4.0584,  -1.7928,  -0.6207,   6.2696,  -5.9591,\n",
      "         17.2836,   6.2425, -11.6469,   4.0926,  -7.3862,  -2.0534,  -0.7027,\n",
      "          6.9970,   7.8863,   1.2896,  -6.5420,  27.4849,  -0.2360])\n",
      "yaws_errors:tensor([-0.8167,  2.7650,  5.2670,  2.8973,  2.4897,  0.9827, -3.6782,  0.7540,\n",
      "        -1.1164, -6.1040, -0.4442,  4.3500, -5.4347,  3.5736, -5.7924,  6.7612,\n",
      "         2.0636, -1.1076, 17.4167, -3.4248])\n",
      "0 items removed from dataset that have an angle > 180\n",
      "\n",
      "test configuration: gpu_id=cuda:0, batch_size=20\n",
      "model_arch=ResNet50 Start testing dataset=mpiigaze\n",
      "cFOLD=0 dFOLD=9--06/29/2022 15:11:43----\n",
      "pitches:tensor([ -0.4936,  -8.9291,  -0.6747,  -2.8886,  -9.5318,  -5.1832, -10.0868,\n",
      "        -14.6421,  -7.2903, -16.2010, -17.2642, -15.3587,  -1.5407,  -6.6202,\n",
      "        -13.4763, -10.8421, -16.5776,  -0.4823, -17.9355,  -6.5237])\n",
      "yaws:tensor([  9.0332,  10.6403,   6.3342,   3.5722,  -4.9912,   8.4113,  -7.4282,\n",
      "         -5.6808,  -5.4143,   7.4026,   4.1192,  -9.4730, -12.3007, -12.9256,\n",
      "         -8.0318,   7.8733,  -5.5354,   7.8898,  -3.3221,  -9.5727])\n",
      "pitches_predicted:tensor([ -7.3160, -12.6312,   1.5486,  -9.1870,  -5.6004,  -5.1051,  -7.1408,\n",
      "        -15.6594,  -7.2533, -12.0941, -13.5568,  -9.8787,  -8.3231,  -3.4824,\n",
      "          4.1666,  -0.4242,  -3.3322,   6.1439, -13.1664,  -8.7208])\n",
      "yaws_predicted:tensor([  2.4273,   6.7990,  -1.0942,  -1.7075,   0.9296,  -0.3563,  -7.6031,\n",
      "        -10.6591,  -7.8228,   1.7343,  -0.3013, -12.6919, -13.5139,  -9.3425,\n",
      "         -8.9167,  -1.8382, -10.5504,  -0.1072,  -5.9494,  -2.4511])\n",
      "pitches_errors:tensor([-6.8224, -3.7021,  2.2233, -6.2984,  3.9314,  0.0780,  2.9460, -1.0173,\n",
      "         0.0370,  4.1069,  3.7074,  5.4800, -6.7824,  3.1378, 17.6429, 10.4179,\n",
      "        13.2455,  6.6262,  4.7691, -2.1971])\n",
      "yaws_errors:tensor([-6.6059, -3.8413, -7.4285, -5.2797,  5.9208, -8.7676, -0.1749, -4.9782,\n",
      "        -2.4085, -5.6683, -4.4206, -3.2189, -1.2131,  3.5830, -0.8849, -9.7115,\n",
      "        -5.0150, -7.9970, -2.6273,  7.1216])\n",
      "0 items removed from dataset that have an angle > 180\n",
      "\n",
      "test configuration: gpu_id=cuda:0, batch_size=20\n",
      "model_arch=ResNet50 Start testing dataset=mpiigaze\n",
      "cFOLD=0 dFOLD=10--06/29/2022 15:11:55----\n",
      "pitches:tensor([ -7.6115, -17.0442, -12.8676,  -8.9451,  -5.1988, -10.1651,  -0.6965,\n",
      "         -8.0154, -13.6395,  -6.1056, -12.9056,  -6.9732, -13.2891,  -7.9669,\n",
      "         -9.2815,  -2.3566,  -1.6181,  -1.2586,  -5.8790, -15.4652])\n",
      "yaws:tensor([  2.3479,   0.5803,  -8.1386, -13.7085,   9.9417,  -9.1573,  -0.8969,\n",
      "        -13.2619,   8.1861,  10.0022,  -0.6929,  10.3675,  10.2673,  -6.3831,\n",
      "         -1.7436,  -6.3982,   9.8728,  -3.8698,  12.2477,   6.9244])\n",
      "pitches_predicted:tensor([ -6.4443, -10.7193, -11.2142,   0.5061,   2.8080,  -2.5054,  -3.8353,\n",
      "        -14.2055,  -0.3404,   0.9523,   2.1518,  -3.8132,  -8.8980,  -3.8613,\n",
      "         -6.5244,  -2.0058,   4.0088,   2.6103,  -0.3803,  -0.2758])\n",
      "yaws_predicted:tensor([  2.3408,  -4.1231, -13.0369, -15.9963,   4.3730,  -9.4772,  -4.4260,\n",
      "        -17.9795,   5.2819,   8.0985,  -0.0819,   8.9870,   3.0680,  -9.1060,\n",
      "          2.8478, -10.1537,   3.9004,  -3.2392,  10.4636,   6.8288])\n",
      "pitches_errors:tensor([ 1.1672,  6.3249,  1.6534,  9.4512,  8.0068,  7.6597, -3.1387, -6.1901,\n",
      "        13.2991,  7.0579, 15.0573,  3.1600,  4.3911,  4.1056,  2.7571,  0.3509,\n",
      "         5.6269,  3.8688,  5.4987, 15.1894])\n",
      "yaws_errors:tensor([-7.1137e-03, -4.7035e+00, -4.8984e+00, -2.2878e+00, -5.5687e+00,\n",
      "        -3.1988e-01, -3.5290e+00, -4.7176e+00, -2.9042e+00, -1.9037e+00,\n",
      "         6.1096e-01, -1.3806e+00, -7.1993e+00, -2.7229e+00,  4.5914e+00,\n",
      "        -3.7555e+00, -5.9725e+00,  6.3068e-01, -1.7841e+00, -9.5592e-02])\n"
     ]
    },
    {
     "name": "stdout",
     "output_type": "stream",
     "text": [
      "0 items removed from dataset that have an angle > 180\n",
      "\n",
      "test configuration: gpu_id=cuda:0, batch_size=20\n",
      "model_arch=ResNet50 Start testing dataset=mpiigaze\n",
      "cFOLD=0 dFOLD=11--06/29/2022 15:12:08----\n",
      "pitches:tensor([ -3.4868, -16.5005,  -8.9926, -15.4797,  -8.4932,  -8.8044, -10.5074,\n",
      "         -0.7728, -11.0455,  -5.9414, -14.9210, -11.3588, -17.8268, -10.9496,\n",
      "         -9.1380,  -9.1789, -15.9285, -10.8827,  -5.3252,  -2.9795])\n",
      "yaws:tensor([  0.8171,  10.8765,  -6.4906,  -9.0493,   4.3876,   7.7151,  -6.0850,\n",
      "          5.3825,   9.1850,  -8.5139,   0.1649,  -5.4293,  -5.7077,   1.8305,\n",
      "          1.1590,  -5.9481,   3.4750, -12.4769,  11.2429,  -8.3068])\n",
      "pitches_predicted:tensor([-20.8417,  -7.5115, -12.6277, -19.5277, -21.3413,  -9.7589, -17.8079,\n",
      "         -7.5111,  -9.1453, -10.3352, -17.1111, -18.8744,  -9.3481, -12.6714,\n",
      "        -20.7609, -10.1410, -19.2585,  -7.2286, -21.6326, -11.1406])\n",
      "yaws_predicted:tensor([  7.2165,  10.7777,  -5.3595,   4.1870,  18.1359,   4.8791,   7.8380,\n",
      "          3.9418,   8.8317,  -7.9781,   6.0285,   7.0713,   3.8256,   3.2581,\n",
      "          7.5740,  -9.7987,   7.4498, -10.5257,  20.9605, -12.6606])\n",
      "pitches_errors:tensor([-17.3549,   8.9891,  -3.6351,  -4.0480, -12.8481,  -0.9544,  -7.3006,\n",
      "         -6.7384,   1.9002,  -4.3938,  -2.1901,  -7.5156,   8.4787,  -1.7217,\n",
      "        -11.6229,  -0.9621,  -3.3300,   3.6541, -16.3074,  -8.1612])\n",
      "yaws_errors:tensor([ 6.3994, -0.0988,  1.1311, 13.2363, 13.7484, -2.8361, 13.9229, -1.4407,\n",
      "        -0.3533,  0.5358,  5.8636, 12.5006,  9.5333,  1.4276,  6.4150, -3.8505,\n",
      "         3.9747,  1.9512,  9.7176, -4.3538])\n",
      "0 items removed from dataset that have an angle > 180\n",
      "\n",
      "test configuration: gpu_id=cuda:0, batch_size=20\n",
      "model_arch=ResNet50 Start testing dataset=mpiigaze\n",
      "cFOLD=0 dFOLD=12--06/29/2022 15:12:21----\n",
      "pitches:tensor([ -4.4092,  -8.2248,  -0.9222, -15.1270,  -7.1590,  -7.3583,  -5.6048,\n",
      "         -7.3454,  -7.2999,  -5.3133,  -9.2850,  -3.0809, -17.5289,  -8.4575,\n",
      "         -7.9226, -11.5308,  -1.3982,  -9.0236,  -0.5840, -10.5182])\n",
      "yaws:tensor([  7.8609, -10.7578,  -0.3023, -13.1275, -13.1838, -13.0698,  -2.1592,\n",
      "          1.6013,  -7.4489,   8.1784,  12.6208,   2.5306,  -3.1455,  -5.3510,\n",
      "        -12.2634,  11.1842,  -6.9828, -11.4899,   5.3075, -13.5980])\n",
      "pitches_predicted:tensor([ -4.6384,  -5.1142,  -2.2138,   1.9368,   2.8402, -18.9603,   9.6555,\n",
      "         -4.5483,   2.8059,  -2.4544,  -6.1798,   3.9344, -10.0136,  -7.7552,\n",
      "          1.1620,  -5.8695,   3.3991,  -0.8513,   1.4601,  -1.4552])\n",
      "yaws_predicted:tensor([  2.7522,  -9.8013,   2.2776,  -6.9646, -13.4553,  -8.5007,  -7.4047,\n",
      "          0.9121,  -0.8667,   7.7227,   8.3294,   0.5340,  -0.4848,  -6.4544,\n",
      "        -10.5542,   8.7783,  -8.0297,  -9.3369,  -1.8786, -10.4138])\n",
      "pitches_errors:tensor([ -0.2293,   3.1106,  -1.2917,  17.0639,   9.9992, -11.6020,  15.2603,\n",
      "          2.7971,  10.1059,   2.8589,   3.1052,   7.0152,   7.5153,   0.7023,\n",
      "          9.0846,   5.6613,   4.7972,   8.1722,   2.0441,   9.0630])\n",
      "yaws_errors:tensor([-5.1087,  0.9564,  2.5799,  6.1629, -0.2715,  4.5691, -5.2454, -0.6892,\n",
      "         6.5822, -0.4557, -4.2914, -1.9966,  2.6608, -1.1034,  1.7092, -2.4059,\n",
      "        -1.0468,  2.1531, -7.1861,  3.1842])\n",
      "0 items removed from dataset that have an angle > 180\n",
      "\n",
      "test configuration: gpu_id=cuda:0, batch_size=20\n",
      "model_arch=ResNet50 Start testing dataset=mpiigaze\n",
      "cFOLD=0 dFOLD=13--06/29/2022 15:12:34----\n",
      "pitches:tensor([ -6.6266,  -6.0595,  -7.6390,  -6.3372,  -4.5396,  -3.9752,  -9.8963,\n",
      "         -6.8125,  -3.9229, -10.7737,  -7.0597,  -3.8222,  -7.2726, -10.3550,\n",
      "         -9.2004, -16.1648, -15.8854, -14.1971,  -1.2694,  -9.1820])\n",
      "yaws:tensor([ 15.0535,  13.9076,  14.6236,   4.9662,   4.8676,   5.4293,   5.3582,\n",
      "         11.9937, -13.1951,  -5.9046,  -8.7984,  -8.4078,   4.4392, -14.9019,\n",
      "         -0.9788, -14.2789, -10.7222,   2.3191,  -6.8524,   7.3930])\n",
      "pitches_predicted:tensor([ -2.1659,  -2.4653,  -4.3317,  -5.5143,  -3.1206,  -2.0342, -13.1081,\n",
      "         -3.6357,   4.7039, -10.2463,  -2.3284,  -3.2604,  -6.9966,  -9.8914,\n",
      "         -1.2672, -14.6194, -12.3153, -11.4138,  -5.4680,  -4.0517])\n",
      "yaws_predicted:tensor([ 11.7875,  12.6220,  11.7242,   6.5051,   2.1177,   5.7734,   7.8792,\n",
      "         10.4640, -12.1883,  -9.7008,  -2.0211,   0.9797,   6.0998, -16.8029,\n",
      "        -16.9008, -20.5903, -14.9551,   4.1316,  -5.0013,   3.5721])\n",
      "pitches_errors:tensor([ 4.4607,  3.5943,  3.3073,  0.8229,  1.4191,  1.9410, -3.2118,  3.1769,\n",
      "         8.6268,  0.5274,  4.7314,  0.5618,  0.2759,  0.4636,  7.9332,  1.5454,\n",
      "         3.5701,  2.7833, -4.1986,  5.1303])\n",
      "yaws_errors:tensor([ -3.2660,  -1.2856,  -2.8994,   1.5389,  -2.7498,   0.3441,   2.5211,\n",
      "         -1.5297,   1.0069,  -3.7962,   6.7773,   9.3874,   1.6605,  -1.9010,\n",
      "        -15.9220,  -6.3114,  -4.2328,   1.8125,   1.8511,  -3.8209])\n",
      "0 items removed from dataset that have an angle > 180\n",
      "\n",
      "test configuration: gpu_id=cuda:0, batch_size=20\n",
      "model_arch=ResNet50 Start testing dataset=mpiigaze\n",
      "cFOLD=0 dFOLD=14--06/29/2022 15:12:47----\n",
      "pitches:tensor([ -3.6052, -14.8726,   2.2795, -13.7174,  -3.9715,   0.6677,   0.2180,\n",
      "        -10.0454,  -0.5858, -13.9352, -10.7675,   2.4861,   1.8999, -11.5483,\n",
      "         -6.1609, -14.8239,  -7.4736,  -3.5657,  -7.1449,  -4.6684])\n",
      "yaws:tensor([  4.4943,  -1.3997,  -4.2199,   2.6678,   3.9025,   9.4557,  -5.7698,\n",
      "        -17.3072,  -2.8596,   5.4476,  -8.0689,  19.4408,   0.6417,  -3.5826,\n",
      "        -17.3658,  -7.2671,  13.2929,  -3.7655,  -9.0234, -10.6189])\n",
      "pitches_predicted:tensor([ -8.9960,  -9.4972,  -1.3067, -17.2721, -10.1492,  -8.6948,  -3.4194,\n",
      "        -12.7381,  -6.0326, -16.8652, -11.6405,  -3.0405,  -0.6660, -12.7014,\n",
      "         -8.6947, -17.7648, -11.4105,  -4.6281,  -9.4696,  -9.0361])\n",
      "yaws_predicted:tensor([ -0.6962,  -1.5439,  -2.3905,   8.7017,   9.6685,  16.2811,  -4.6264,\n",
      "        -16.0339,  -6.6574,   6.5212,  -9.2387,  14.3565,  -4.0077,  -1.2291,\n",
      "        -15.7248, -11.9770,  10.1996,  -2.5972, -13.3268, -19.8202])\n",
      "pitches_errors:tensor([-5.3908,  5.3754, -3.5863, -3.5547, -6.1777, -9.3624, -3.6374, -2.6928,\n",
      "        -5.4468, -2.9300, -0.8730, -5.5266, -2.5660, -1.1531, -2.5339, -2.9408,\n",
      "        -3.9370, -1.0624, -2.3247, -4.3676])\n",
      "yaws_errors:tensor([-5.1905, -0.1442,  1.8294,  6.0339,  5.7659,  6.8254,  1.1434,  1.2733,\n",
      "        -3.7978,  1.0736, -1.1697, -5.0843, -4.6494,  2.3536,  1.6410, -4.7099,\n",
      "        -3.0933,  1.1683, -4.3034, -9.2013])\n",
      "CPU times: user 2min 44s, sys: 1min 9s, total: 3min 54s\n",
      "Wall time: 3min 17s\n"
     ]
    }
   ],
   "source": [
    "%%time\n",
    "# all_MAE = []\n",
    "# tosave={}\n",
    "lfolder = os.listdir(gazeMpiilabel_dir)\n",
    "lfolder.sort()  #individual label files\n",
    "testlabelpathcombined = [os.path.join(gazeMpiilabel_dir, j) for j in lfolder] \n",
    "print(testlabelpathcombined)\n",
    "model = model_used\n",
    "model= nn.DataParallel(model,device_ids=[0])  #important to load state dict\n",
    "# for cfold in range(15):  #checkpoint folds\n",
    "cfold=0\n",
    "\n",
    "\n",
    "cfoldstr = f\"fold{cfold:0>2}\"\n",
    "print(f\"cfold={cfoldstr}\")\n",
    "idx = cfold + 1\n",
    "b_epoch = best_epoch[idx]\n",
    "\n",
    "checkpoint_path = Path(snapshot_path)/cfoldstr\n",
    "best_checkpoint_file = 'epoch_'+str(b_epoch)+'.pkl'\n",
    "best_checkpoint_file = checkpoint_path/best_checkpoint_file\n",
    "#     print(best_checkpoint_file, type(best_checkpoint_file))\n",
    "checkpoint = torch.load(best_checkpoint_file)\n",
    "saved_state_dict = checkpoint['model_state_dict']\n",
    "model.load_state_dict(saved_state_dict)\n",
    "\n",
    "model.cuda(gpu)\n",
    "model.eval()\n",
    "idx_tensor = [idx for idx in range(35)]\n",
    "idx_tensor = torch.FloatTensor(idx_tensor).cuda(gpu)\n",
    "softmax = nn.Softmax(dim=1)\n",
    "best_model_maes =[]  # error for each data fold\n",
    "\n",
    "\n",
    "all_pitches=[]\n",
    "all_pitch_errors =[]\n",
    "all_yaws=[]\n",
    "all_yaw_errors =[]\n",
    "\n",
    "for dfold in range(15):  #data folds\n",
    "    gaze_dataset=datasets.Mpiigaze(testlabelpathcombined, gazeMpiimage_dir, transformations, False, angle, dfold)\n",
    "    test_loader = torch.utils.data.DataLoader(\n",
    "        dataset=gaze_dataset,\n",
    "        batch_size=batch_size,\n",
    "        shuffle=True,\n",
    "        num_workers=4,\n",
    "        pin_memory=True)\n",
    "    now = get_now()\n",
    "    configuration = f\"\\ntest configuration: gpu_id={gpu}, batch_size={batch_size}\\n\"\n",
    "    configuration += f\"model_arch={arch} Start testing dataset={data_set}\\n\"\n",
    "    configuration +=  f\"cFOLD={cfold} dFOLD={dfold}--{now}----\"\n",
    "    print(configuration)\n",
    "\n",
    "#     total = 0  \n",
    "#     avg_error = .0\n",
    "    with torch.no_grad():\n",
    "        for j, (images, labels, cont_labels, name) in enumerate(test_loader):\n",
    "            images = Variable(images).cuda(gpu)\n",
    "#             total += cont_labels.size(0)\n",
    "\n",
    "            label_pitch = cont_labels[:,1].float()*np.pi/180\n",
    "            label_yaw = cont_labels[:,0].float()*np.pi/180\n",
    "            label_yaw = label_yaw*(-1.0)\n",
    "\n",
    "            gaze_pitch, gaze_yaw = model(images)\n",
    "\n",
    "            # Binned predictions\n",
    "            _, pitch_bpred = torch.max(gaze_pitch.data, 1)\n",
    "            _, yaw_bpred = torch.max(gaze_yaw.data, 1)\n",
    "\n",
    "            # Continuous predictions\n",
    "            pitch_predicted = softmax(gaze_pitch)\n",
    "            yaw_predicted = softmax(gaze_yaw)\n",
    "\n",
    "            # mapping from binned (0 to 28) to angels (-42 to 42)                \n",
    "            pitch_predicted = \\\n",
    "                torch.sum(pitch_predicted * idx_tensor, 1).cpu() * 3 - 52\n",
    "            yaw_predicted = \\\n",
    "                torch.sum(yaw_predicted * idx_tensor, 1).cpu() * 3 - 52\n",
    "\n",
    "            label_yaw = label_yaw*180/np.pi\n",
    "            label_pitch = label_pitch*180/np.pi\n",
    "            \n",
    "#             pitch_predicted = pitch_predicted\n",
    "#             yaw_predicted = yaw_predicted\n",
    "            \n",
    "            pitch_errors = pitch_predicted - label_pitch\n",
    "            yaw_errors = yaw_predicted - label_yaw\n",
    "            \n",
    "            all_yaws.extend(label_yaw.numpy())\n",
    "            all_pitches.extend(label_pitch.numpy())\n",
    "            all_yaw_errors.extend(yaw_errors.numpy())\n",
    "            all_pitch_errors.extend(pitch_errors.numpy())\n",
    "            if j == 2:\n",
    "                print(f\"pitches:{label_pitch}\")\n",
    "                print(f\"yaws:{label_yaw}\")\n",
    "                print(f\"pitches_predicted:{pitch_predicted}\")\n",
    "                print(f\"yaws_predicted:{yaw_predicted}\")\n",
    "                print(f\"pitches_errors:{pitch_errors}\")\n",
    "                print(f\"yaws_errors:{yaw_errors}\")\n"
   ]
  },
  {
   "cell_type": "code",
   "execution_count": 10,
   "id": "8c552df3",
   "metadata": {},
   "outputs": [],
   "source": [
    "all_yaws = np.array(all_yaws)\n",
    "all_pitches = np.array(all_pitches)\n",
    "all_yaw_errors = np.array(all_yaw_errors)\n",
    "all_pitch_errors = np.array(all_pitch_errors)"
   ]
  },
  {
   "cell_type": "code",
   "execution_count": 11,
   "id": "b517786d",
   "metadata": {},
   "outputs": [],
   "source": [
    "# frun = wandb.init(project=\"54_best_smodel_all_rdata_sign_errors\")\n",
    "# frun.name = f'signed_errors_best_smodel_all_rdata'"
   ]
  },
  {
   "cell_type": "code",
   "execution_count": 12,
   "id": "8e9d51c3",
   "metadata": {},
   "outputs": [
    {
     "data": {
      "text/plain": [
       "(array([1.000e+00, 0.000e+00, 1.000e+00, 1.000e+00, 0.000e+00, 3.000e+00,\n",
       "        4.000e+00, 8.000e+00, 5.000e+00, 5.000e+00, 8.000e+00, 2.200e+01,\n",
       "        4.500e+01, 7.700e+01, 1.730e+02, 3.680e+02, 7.720e+02, 1.484e+03,\n",
       "        2.841e+03, 4.584e+03, 6.338e+03, 7.072e+03, 6.690e+03, 5.524e+03,\n",
       "        3.643e+03, 2.251e+03, 1.313e+03, 7.150e+02, 4.370e+02, 2.320e+02,\n",
       "        1.460e+02, 9.100e+01, 5.500e+01, 3.000e+01, 2.600e+01, 1.400e+01,\n",
       "        6.000e+00, 7.000e+00, 6.000e+00, 2.000e+00]),\n",
       " array([-4.03326874e+01, -3.84993744e+01, -3.66660614e+01, -3.48327484e+01,\n",
       "        -3.29994354e+01, -3.11661224e+01, -2.93328094e+01, -2.74994965e+01,\n",
       "        -2.56661835e+01, -2.38328705e+01, -2.19995575e+01, -2.01662464e+01,\n",
       "        -1.83329334e+01, -1.64996204e+01, -1.46663065e+01, -1.28329945e+01,\n",
       "        -1.09996815e+01, -9.16636848e+00, -7.33305550e+00, -5.49974251e+00,\n",
       "        -3.66642952e+00, -1.83311665e+00,  1.96266177e-04,  1.83350921e+00,\n",
       "         3.66682196e+00,  5.50013494e+00,  7.33344793e+00,  9.16676044e+00,\n",
       "         1.10000734e+01,  1.28333864e+01,  1.46666994e+01,  1.65000114e+01,\n",
       "         1.83333244e+01,  2.01666374e+01,  2.19999504e+01,  2.38332634e+01,\n",
       "         2.56665764e+01,  2.74998894e+01,  2.93332024e+01,  3.11665154e+01,\n",
       "         3.29998283e+01], dtype=float32),\n",
       " <BarContainer object of 40 artists>)"
      ]
     },
     "execution_count": 12,
     "metadata": {},
     "output_type": "execute_result"
    },
    {
     "data": {
      "image/png": "[encoded data removed]",
      "text/plain": [
       "<Figure size 432x288 with 1 Axes>"
      ]
     },
     "metadata": {
      "needs_background": "light"
     },
     "output_type": "display_data"
    }
   ],
   "source": [
    "plt.hist(all_yaw_errors, bins=40)"
   ]
  },
  {
   "cell_type": "code",
   "execution_count": 13,
   "id": "f8fc9690",
   "metadata": {},
   "outputs": [
    {
     "name": "stderr",
     "output_type": "stream",
     "text": [
      "\u001b[34m\u001b[1mwandb\u001b[0m: Currently logged in as: \u001b[33msynthesis-ai\u001b[0m (use `wandb login --relogin` to force relogin)\n"
     ]
    },
    {
     "data": {
      "text/html": [
       "wandb version 0.12.20 is available!  To upgrade, please run:\n",
       " $ pip install wandb --upgrade"
      ],
      "text/plain": [
       "<IPython.core.display.HTML object>"
      ]
     },
     "metadata": {},
     "output_type": "display_data"
    },
    {
     "data": {
      "text/html": [
       "Tracking run with wandb version 0.12.15"
      ],
      "text/plain": [
       "<IPython.core.display.HTML object>"
      ]
     },
     "metadata": {},
     "output_type": "display_data"
    },
    {
     "data": {
      "text/html": [
       "Run data is saved locally in <code>/project/notebooks/wandb/run-20220629_221300-wecihhir</code>"
      ],
      "text/plain": [
       "<IPython.core.display.HTML object>"
      ]
     },
     "metadata": {},
     "output_type": "display_data"
    },
    {
     "data": {
      "text/html": [
       "Syncing run <strong><a href=\"https://wandb.ai/synthesis-ai/54%20best%20smodel%20all%20rdata%20signed%20errors/runs/wecihhir\" target=\"_blank\">radiant-pine-17</a></strong> to <a href=\"https://wandb.ai/synthesis-ai/54%20best%20smodel%20all%20rdata%20signed%20errors\" target=\"_blank\">Weights & Biases</a> (<a href=\"https://wandb.me/run\" target=\"_blank\">docs</a>)<br/>"
      ],
      "text/plain": [
       "<IPython.core.display.HTML object>"
      ]
     },
     "metadata": {},
     "output_type": "display_data"
    },
    {
     "data": {
      "text/html": [
       "Waiting for W&B process to finish... <strong style=\"color:green\">(success).</strong>"
      ],
      "text/plain": [
       "<IPython.core.display.HTML object>"
      ]
     },
     "metadata": {},
     "output_type": "display_data"
    },
    {
     "data": {
      "application/vnd.jupyter.widget-view+json": {
       "model_id": "",
       "version_major": 2,
       "version_minor": 0
      },
      "text/plain": [
       "VBox(children=(Label(value='0.009 MB of 0.009 MB uploaded (0.000 MB deduped)\\r'), FloatProgress(value=1.0, max…"
      ]
     },
     "metadata": {},
     "output_type": "display_data"
    },
    {
     "data": {
      "text/html": [
       "Synced <strong style=\"color:#cdcd00\">radiant-pine-17</strong>: <a href=\"https://wandb.ai/synthesis-ai/54%20best%20smodel%20all%20rdata%20signed%20errors/runs/wecihhir\" target=\"_blank\">https://wandb.ai/synthesis-ai/54%20best%20smodel%20all%20rdata%20signed%20errors/runs/wecihhir</a><br/>Synced 4 W&B file(s), 1 media file(s), 0 artifact file(s) and 0 other file(s)"
      ],
      "text/plain": [
       "<IPython.core.display.HTML object>"
      ]
     },
     "metadata": {},
     "output_type": "display_data"
    },
    {
     "data": {
      "text/html": [
       "Find logs at: <code>./wandb/run-20220629_221300-wecihhir/logs</code>"
      ],
      "text/plain": [
       "<IPython.core.display.HTML object>"
      ]
     },
     "metadata": {},
     "output_type": "display_data"
    },
    {
     "data": {
      "image/png": "[encoded data removed]",
      "text/plain": [
       "<Figure size 432x288 with 1 Axes>"
      ]
     },
     "metadata": {
      "needs_background": "light"
     },
     "output_type": "display_data"
    }
   ],
   "source": [
    "with wandb.init(project=\"54 best smodel all rdata signed errors\") as run:\n",
    "    plt.hist(all_yaw_errors, bins=40)\n",
    "    plt.title(\"signed yaw error distribution: best syn model all_real data\")\n",
    "    plt.xlabel(\"degree\")\n",
    "    run.log({\"data\":wandb.Image(plt)})"
   ]
  },
  {
   "cell_type": "code",
   "execution_count": 14,
   "id": "c77b66ea",
   "metadata": {},
   "outputs": [
    {
     "data": {
      "text/html": [
       "wandb version 0.12.20 is available!  To upgrade, please run:\n",
       " $ pip install wandb --upgrade"
      ],
      "text/plain": [
       "<IPython.core.display.HTML object>"
      ]
     },
     "metadata": {},
     "output_type": "display_data"
    },
    {
     "data": {
      "text/html": [
       "Tracking run with wandb version 0.12.15"
      ],
      "text/plain": [
       "<IPython.core.display.HTML object>"
      ]
     },
     "metadata": {},
     "output_type": "display_data"
    },
    {
     "data": {
      "text/html": [
       "Run data is saved locally in <code>/project/notebooks/wandb/run-20220629_221308-d58ao5qp</code>"
      ],
      "text/plain": [
       "<IPython.core.display.HTML object>"
      ]
     },
     "metadata": {},
     "output_type": "display_data"
    },
    {
     "data": {
      "text/html": [
       "Syncing run <strong><a href=\"https://wandb.ai/synthesis-ai/54%20best%20smodel%20all%20rdata%20signed%20errors/runs/d58ao5qp\" target=\"_blank\">crimson-river-18</a></strong> to <a href=\"https://wandb.ai/synthesis-ai/54%20best%20smodel%20all%20rdata%20signed%20errors\" target=\"_blank\">Weights & Biases</a> (<a href=\"https://wandb.me/run\" target=\"_blank\">docs</a>)<br/>"
      ],
      "text/plain": [
       "<IPython.core.display.HTML object>"
      ]
     },
     "metadata": {},
     "output_type": "display_data"
    },
    {
     "data": {
      "text/html": [
       "Waiting for W&B process to finish... <strong style=\"color:green\">(success).</strong>"
      ],
      "text/plain": [
       "<IPython.core.display.HTML object>"
      ]
     },
     "metadata": {},
     "output_type": "display_data"
    },
    {
     "data": {
      "application/vnd.jupyter.widget-view+json": {
       "model_id": "",
       "version_major": 2,
       "version_minor": 0
      },
      "text/plain": [
       "VBox(children=(Label(value='0.008 MB of 0.008 MB uploaded (0.000 MB deduped)\\r'), FloatProgress(value=1.0, max…"
      ]
     },
     "metadata": {},
     "output_type": "display_data"
    },
    {
     "data": {
      "text/html": [
       "Synced <strong style=\"color:#cdcd00\">crimson-river-18</strong>: <a href=\"https://wandb.ai/synthesis-ai/54%20best%20smodel%20all%20rdata%20signed%20errors/runs/d58ao5qp\" target=\"_blank\">https://wandb.ai/synthesis-ai/54%20best%20smodel%20all%20rdata%20signed%20errors/runs/d58ao5qp</a><br/>Synced 4 W&B file(s), 1 media file(s), 0 artifact file(s) and 0 other file(s)"
      ],
      "text/plain": [
       "<IPython.core.display.HTML object>"
      ]
     },
     "metadata": {},
     "output_type": "display_data"
    },
    {
     "data": {
      "text/html": [
       "Find logs at: <code>./wandb/run-20220629_221308-d58ao5qp/logs</code>"
      ],
      "text/plain": [
       "<IPython.core.display.HTML object>"
      ]
     },
     "metadata": {},
     "output_type": "display_data"
    },
    {
     "data": {
      "image/png": "[encoded data removed]",
      "text/plain": [
       "<Figure size 432x288 with 1 Axes>"
      ]
     },
     "metadata": {
      "needs_background": "light"
     },
     "output_type": "display_data"
    }
   ],
   "source": [
    "with wandb.init(project=\"54 best smodel all rdata signed errors\") as run:\n",
    "    plt.hist(all_pitch_errors, bins=40)\n",
    "    plt.title(\"signed pitch error distribution: best syn model all_real data\")\n",
    "    plt.xlabel(\"degree\")\n",
    "    run.log({\"data\":wandb.Image(plt)})"
   ]
  },
  {
   "cell_type": "code",
   "execution_count": null,
   "id": "327971ee",
   "metadata": {},
   "outputs": [],
   "source": []
  },
  {
   "cell_type": "code",
   "execution_count": 15,
   "id": "97818f5b",
   "metadata": {},
   "outputs": [
    {
     "data": {
      "text/html": [
       "wandb version 0.12.20 is available!  To upgrade, please run:\n",
       " $ pip install wandb --upgrade"
      ],
      "text/plain": [
       "<IPython.core.display.HTML object>"
      ]
     },
     "metadata": {},
     "output_type": "display_data"
    },
    {
     "data": {
      "text/html": [
       "Tracking run with wandb version 0.12.15"
      ],
      "text/plain": [
       "<IPython.core.display.HTML object>"
      ]
     },
     "metadata": {},
     "output_type": "display_data"
    },
    {
     "data": {
      "text/html": [
       "Run data is saved locally in <code>/project/notebooks/wandb/run-20220629_221316-1n7chcwh</code>"
      ],
      "text/plain": [
       "<IPython.core.display.HTML object>"
      ]
     },
     "metadata": {},
     "output_type": "display_data"
    },
    {
     "data": {
      "text/html": [
       "Syncing run <strong><a href=\"https://wandb.ai/synthesis-ai/54%20best%20smodel%20all%20rdata%20signed%20errors/runs/1n7chcwh\" target=\"_blank\">earthy-microwave-19</a></strong> to <a href=\"https://wandb.ai/synthesis-ai/54%20best%20smodel%20all%20rdata%20signed%20errors\" target=\"_blank\">Weights & Biases</a> (<a href=\"https://wandb.me/run\" target=\"_blank\">docs</a>)<br/>"
      ],
      "text/plain": [
       "<IPython.core.display.HTML object>"
      ]
     },
     "metadata": {},
     "output_type": "display_data"
    },
    {
     "data": {
      "text/html": [
       "Waiting for W&B process to finish... <strong style=\"color:green\">(success).</strong>"
      ],
      "text/plain": [
       "<IPython.core.display.HTML object>"
      ]
     },
     "metadata": {},
     "output_type": "display_data"
    },
    {
     "data": {
      "application/vnd.jupyter.widget-view+json": {
       "model_id": "",
       "version_major": 2,
       "version_minor": 0
      },
      "text/plain": [
       "VBox(children=(Label(value='1.802 MB of 2.202 MB uploaded (0.000 MB deduped)\\r'), FloatProgress(value=0.818096…"
      ]
     },
     "metadata": {},
     "output_type": "display_data"
    },
    {
     "data": {
      "text/html": [
       "Synced <strong style=\"color:#cdcd00\">earthy-microwave-19</strong>: <a href=\"https://wandb.ai/synthesis-ai/54%20best%20smodel%20all%20rdata%20signed%20errors/runs/1n7chcwh\" target=\"_blank\">https://wandb.ai/synthesis-ai/54%20best%20smodel%20all%20rdata%20signed%20errors/runs/1n7chcwh</a><br/>Synced 4 W&B file(s), 1 media file(s), 1 artifact file(s) and 0 other file(s)"
      ],
      "text/plain": [
       "<IPython.core.display.HTML object>"
      ]
     },
     "metadata": {},
     "output_type": "display_data"
    },
    {
     "data": {
      "text/html": [
       "Find logs at: <code>./wandb/run-20220629_221316-1n7chcwh/logs</code>"
      ],
      "text/plain": [
       "<IPython.core.display.HTML object>"
      ]
     },
     "metadata": {},
     "output_type": "display_data"
    }
   ],
   "source": [
    "with wandb.init(project=\"54 best smodel all rdata signed errors\") as run:\n",
    "    data = [[x, y] for (x, y) in zip(all_yaws, all_yaw_errors)]\n",
    "    table = wandb.Table(data=data, columns = [\"truth_degree\", \"error_degree\"])\n",
    "    wandb.log({\"yaw_error_scatter\" : wandb.plot.scatter(table, \"truth_degree\", \"error_degree\", title=\"pitch error vs ground truth\")})\n"
   ]
  },
  {
   "cell_type": "code",
   "execution_count": 16,
   "id": "ae39ea4d",
   "metadata": {},
   "outputs": [
    {
     "data": {
      "text/html": [
       "wandb version 0.12.20 is available!  To upgrade, please run:\n",
       " $ pip install wandb --upgrade"
      ],
      "text/plain": [
       "<IPython.core.display.HTML object>"
      ]
     },
     "metadata": {},
     "output_type": "display_data"
    },
    {
     "data": {
      "text/html": [
       "Tracking run with wandb version 0.12.15"
      ],
      "text/plain": [
       "<IPython.core.display.HTML object>"
      ]
     },
     "metadata": {},
     "output_type": "display_data"
    },
    {
     "data": {
      "text/html": [
       "Run data is saved locally in <code>/project/notebooks/wandb/run-20220629_221326-2u29ccmw</code>"
      ],
      "text/plain": [
       "<IPython.core.display.HTML object>"
      ]
     },
     "metadata": {},
     "output_type": "display_data"
    },
    {
     "data": {
      "text/html": [
       "Syncing run <strong><a href=\"https://wandb.ai/synthesis-ai/54%20best%20smodel%20all%20rdata%20signed%20errors/runs/2u29ccmw\" target=\"_blank\">crisp-elevator-20</a></strong> to <a href=\"https://wandb.ai/synthesis-ai/54%20best%20smodel%20all%20rdata%20signed%20errors\" target=\"_blank\">Weights & Biases</a> (<a href=\"https://wandb.me/run\" target=\"_blank\">docs</a>)<br/>"
      ],
      "text/plain": [
       "<IPython.core.display.HTML object>"
      ]
     },
     "metadata": {},
     "output_type": "display_data"
    },
    {
     "data": {
      "text/html": [
       "Waiting for W&B process to finish... <strong style=\"color:green\">(success).</strong>"
      ],
      "text/plain": [
       "<IPython.core.display.HTML object>"
      ]
     },
     "metadata": {},
     "output_type": "display_data"
    },
    {
     "data": {
      "application/vnd.jupyter.widget-view+json": {
       "model_id": "",
       "version_major": 2,
       "version_minor": 0
      },
      "text/plain": [
       "VBox(children=(Label(value='1.818 MB of 2.222 MB uploaded (0.000 MB deduped)\\r'), FloatProgress(value=0.818048…"
      ]
     },
     "metadata": {},
     "output_type": "display_data"
    },
    {
     "data": {
      "text/html": [
       "Synced <strong style=\"color:#cdcd00\">crisp-elevator-20</strong>: <a href=\"https://wandb.ai/synthesis-ai/54%20best%20smodel%20all%20rdata%20signed%20errors/runs/2u29ccmw\" target=\"_blank\">https://wandb.ai/synthesis-ai/54%20best%20smodel%20all%20rdata%20signed%20errors/runs/2u29ccmw</a><br/>Synced 4 W&B file(s), 1 media file(s), 1 artifact file(s) and 0 other file(s)"
      ],
      "text/plain": [
       "<IPython.core.display.HTML object>"
      ]
     },
     "metadata": {},
     "output_type": "display_data"
    },
    {
     "data": {
      "text/html": [
       "Find logs at: <code>./wandb/run-20220629_221326-2u29ccmw/logs</code>"
      ],
      "text/plain": [
       "<IPython.core.display.HTML object>"
      ]
     },
     "metadata": {},
     "output_type": "display_data"
    }
   ],
   "source": [
    "with wandb.init(project=\"54 best smodel all rdata signed errors\") as run:\n",
    "    data = [[x, y] for (x, y) in zip(all_pitches, all_pitch_errors)]\n",
    "    table = wandb.Table(data=data, columns = [\"truth_degree\", \"error_degree\"])\n",
    "    wandb.log({\"pitch_error_scatter\" : wandb.plot.scatter(table, \"truth_degree\", \"error_degree\", title=\"yaw error vs ground truth\")})\n"
   ]
  }
 ],
 "metadata": {
  "kernelspec": {
   "display_name": "Python 3 (ipykernel)",
   "language": "python",
   "name": "python3"
  },
  "language_info": {
   "codemirror_mode": {
    "name": "ipython",
    "version": 3
   },
   "file_extension": ".py",
   "mimetype": "text/x-python",
   "name": "python",
   "nbconvert_exporter": "python",
   "pygments_lexer": "ipython3",
   "version": "3.8.10"
  }
 },
 "nbformat": 4,
 "nbformat_minor": 5
}
