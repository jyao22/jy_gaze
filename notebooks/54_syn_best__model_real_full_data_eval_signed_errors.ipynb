{
 "cells": [
  {
   "cell_type": "code",
   "execution_count": 1,
   "id": "9132df96",
   "metadata": {},
   "outputs": [],
   "source": [
    "# Use the best model for each checkpoint folder to test maes for all data folds"
   ]
  },
  {
   "cell_type": "code",
   "execution_count": 2,
   "id": "662efc9c",
   "metadata": {},
   "outputs": [],
   "source": [
    "import os, argparse\n",
    "import numpy as np\n",
    "import matplotlib.pyplot as plt\n",
    "from datetime import datetime\n",
    "from pytz import timezone\n",
    "from pathlib import Path\n",
    "import torch\n",
    "import torch.nn as nn\n",
    "from torch.autograd import Variable\n",
    "from torch.utils.data import DataLoader\n",
    "from torchvision import transforms\n",
    "import torch.backends.cudnn as cudnn\n",
    "import torchvision\n",
    "import wandb\n",
    "\n",
    "import datasets\n",
    "# from utils import select_device, natural_keys, gazeto3d, angular, getArch\n",
    "from utils import select_device, natural_keys, gazeto3d, angular, getArch\n",
    "from model import L2CS"
   ]
  },
  {
   "cell_type": "code",
   "execution_count": 3,
   "id": "ed29c578",
   "metadata": {},
   "outputs": [],
   "source": [
    "args = argparse.Namespace()\n",
    "args.gazeMpiimage_dir = '/project/data/Image'  #real data \n",
    "args.gazeMpiilabel_dir = '/project/data/Label'  #real label\n",
    "# args.output = '/project/results/soutput1/snapshots/'\n",
    "args.dataset = 'mpiigaze'\n",
    "args.snapshot='/project/results/soutput1/snapshots/'\n",
    "# args.evalpath = '/project/results/sroutput1/evaluation/'\n",
    "args.gpu_id = '0,1,2,3'\n",
    "args.gpu_id = '0'\n",
    "args.batch_size = 20\n",
    "args.arch = 'ResNet50'\n",
    "args.bins=35\n",
    "args.angle = 180\n",
    "args.bin_width = 4\n"
   ]
  },
  {
   "cell_type": "code",
   "execution_count": 4,
   "id": "d0e11321",
   "metadata": {},
   "outputs": [],
   "source": [
    "batch_size=args.batch_size\n",
    "arch=args.arch\n",
    "data_set=args.dataset\n",
    "# evalpath =args.evalpath\n",
    "snapshot_path = args.snapshot\n",
    "bins=args.bins\n",
    "angle=args.angle\n",
    "bin_width=args.bin_width\n",
    "gazeMpiimage_dir = args.gazeMpiimage_dir\n",
    "gazeMpiilabel_dir=args.gazeMpiilabel_dir"
   ]
  },
  {
   "cell_type": "code",
   "execution_count": 5,
   "id": "0504fda4",
   "metadata": {},
   "outputs": [],
   "source": [
    "# args = parse_args()\n",
    "cudnn.enabled = True\n",
    "gpu = select_device(args.gpu_id, batch_size=args.batch_size)\n",
    "transformations = transforms.Compose([\n",
    "    transforms.Resize(448),\n",
    "    transforms.ToTensor(),\n",
    "    transforms.Normalize(\n",
    "        mean=[0.485, 0.456, 0.406],\n",
    "        std=[0.229, 0.224, 0.225]\n",
    "    )\n",
    "])\n",
    "\n",
    "model_used= getArch(arch, bins)  #resnet50 and 28 bins"
   ]
  },
  {
   "cell_type": "code",
   "execution_count": 6,
   "id": "2a3aa734",
   "metadata": {},
   "outputs": [
    {
     "name": "stdout",
     "output_type": "stream",
     "text": [
      "fold   best_epoch error(degree)\n",
      " 0        34         2.818   \n",
      " 1        60         2.734   \n",
      " 2        36         3.001   \n",
      " 3        59         3.617   \n",
      " 4        57         3.239   \n",
      " 5        36         2.433   \n",
      " 6        49         3.298   \n",
      " 7        41         3.077   \n",
      " 8        29         4.815   \n",
      " 9        32         4.783   \n",
      " 10       30         2.987   \n",
      " 11       39         2.451   \n",
      " 12       8          3.177   \n",
      " 13       51         2.539   \n",
      " 14       10         3.189   \n"
     ]
    }
   ],
   "source": [
    "#read the fold epoch table\n",
    "dfile = Path(snapshot_path).parent/\"syn_syn_all_MAE.npy\"\n",
    "all_MAE = np.load(dfile)\n",
    "best_epoch = {}\n",
    "best_epoch_error = {}\n",
    "print(f\"fold   best_epoch error(degree)\")\n",
    "for idx, fdata in enumerate(all_MAE):\n",
    "#     print(idx, type(idx))\n",
    "    epoch_min_error = np.argmin(fdata)+1\n",
    "    print(f'{idx:^4} {np.argmin(fdata)+1:^12} {fdata.min():^11.3f}')\n",
    "    best_epoch[idx+1] = epoch_min_error\n",
    "    best_epoch_error[idx+1]=fdata.min()"
   ]
  },
  {
   "cell_type": "code",
   "execution_count": 7,
   "id": "6e2eff08",
   "metadata": {},
   "outputs": [
    {
     "name": "stdout",
     "output_type": "stream",
     "text": [
      "0:60 1:60 2:60 3:60 4:60 5:60 6:60 7:60 8:60 9:60 10:60 11:60 12:60 13:60 14:60 "
     ]
    }
   ],
   "source": [
    "# check if we have the correct number of checkpoint files \n",
    "ppath = snapshot_path\n",
    "for fold in range(15):\n",
    "    foldstr = f\"fold{fold:0>2}\"\n",
    "    cpath =os.path.join(ppath, foldstr)\n",
    "    files = os.listdir(cpath)\n",
    "    print(f'{fold}:{len(files)}',end=\" \")"
   ]
  },
  {
   "cell_type": "code",
   "execution_count": 8,
   "id": "72df5465",
   "metadata": {},
   "outputs": [
    {
     "name": "stdout",
     "output_type": "stream",
     "text": [
      "06/29/2022 07:45:08\n"
     ]
    }
   ],
   "source": [
    "def get_now():\n",
    "    now = datetime.utcnow()\n",
    "    now = now.astimezone(timezone('US/Pacific'))\n",
    "    date_format='%m/%d/%Y %H:%M:%S'\n",
    "    now = now.strftime(date_format) \n",
    "    return now\n",
    "print(get_now())"
   ]
  },
  {
   "cell_type": "code",
   "execution_count": 9,
   "id": "aac76d00",
   "metadata": {},
   "outputs": [
    {
     "name": "stdout",
     "output_type": "stream",
     "text": [
      "['/project/data/Label/p00.label', '/project/data/Label/p01.label', '/project/data/Label/p02.label', '/project/data/Label/p03.label', '/project/data/Label/p04.label', '/project/data/Label/p05.label', '/project/data/Label/p06.label', '/project/data/Label/p07.label', '/project/data/Label/p08.label', '/project/data/Label/p09.label', '/project/data/Label/p10.label', '/project/data/Label/p11.label', '/project/data/Label/p12.label', '/project/data/Label/p13.label', '/project/data/Label/p14.label']\n",
      "cfold=fold00\n",
      "0 items removed from dataset that have an angle > 180\n",
      "\n",
      "test configuration: gpu_id=cuda:0, batch_size=20\n",
      "model_arch=ResNet50 Start testing dataset=mpiigaze\n",
      "cFOLD=0 dFOLD=0--06/29/2022 07:45:13----\n",
      "pitches:tensor([ -4.8820,  -6.5243,  -0.7648,  -0.7189,  -2.9655,  -4.9288,  -0.1362,\n",
      "         -3.6959,  -4.6100, -10.9831,  -3.6763,  -7.5602, -14.2586, -13.5323,\n",
      "         -8.6919, -13.0550, -12.8631,  -9.5182, -12.2954,  -2.4044])\n",
      "yaws:tensor([  7.7475,   7.4152, -10.3139,   8.0941,   3.6850,   9.2401, -15.2661,\n",
      "         -8.3265,  -3.1214,   5.5628,  -9.6103,  13.1728,  -0.4213,  -9.8035,\n",
      "          7.1157,   8.6269,   9.6881, -10.0235,  -5.6304,   3.5995])\n",
      "pitches_predicted:tensor([-13.9550,  -3.7017,   2.5120,  -1.6259,  -1.1091,  -4.1590,   3.6540,\n",
      "         -2.9506,  -5.7176,  -8.9331,  -0.7038,  -6.2575,  -9.3524,  -9.9033,\n",
      "         -9.1831, -11.1867, -11.0404, -11.2043,  -5.4661,  -6.4700])\n",
      "yaws_predicted:tensor([  8.8240,   2.4549, -10.1968,   8.2220,   1.3893,   7.1084, -20.9363,\n",
      "         -7.4521,  -3.5140,   6.1926,  -8.0994,  14.5702,  -6.7411,  -8.3448,\n",
      "          6.5849,   7.1532,  13.5923,  -9.9478, -10.4657,   3.1135])\n",
      "pitches_errors:tensor([-9.0730,  2.8225,  3.2768, -0.9070,  1.8563,  0.7698,  3.7901,  0.7454,\n",
      "        -1.1076,  2.0501,  2.9724,  1.3027,  4.9062,  3.6290, -0.4912,  1.8682,\n",
      "         1.8228, -1.6862,  6.8293, -4.0656])\n",
      "yaws_errors:tensor([ 1.0766, -4.9603,  0.1171,  0.1279, -2.2957, -2.1317, -5.6702,  0.8743,\n",
      "        -0.3926,  0.6298,  1.5110,  1.3974, -6.3198,  1.4587, -0.5308, -1.4737,\n",
      "         3.9043,  0.0757, -4.8352, -0.4860])\n",
      "0 items removed from dataset that have an angle > 180\n",
      "\n",
      "test configuration: gpu_id=cuda:0, batch_size=20\n",
      "model_arch=ResNet50 Start testing dataset=mpiigaze\n",
      "cFOLD=0 dFOLD=1--06/29/2022 07:45:30----\n",
      "pitches:tensor([ -1.7900,  -5.6647, -18.1066, -12.9684,  -3.1551,  -9.1710,  -6.2046,\n",
      "        -13.8890,  -2.5641,  -3.9895,  -3.9912,  -2.1387, -17.1643,  -1.6549,\n",
      "         -7.4716,  -2.4221,  -3.1005,  -3.6599,  -8.8585, -15.1057])\n",
      "yaws:tensor([ -2.7384,   4.3590, -12.1579,  14.6645,   9.9996,  -8.3777,   4.5229,\n",
      "          3.2536,  11.2953,   2.0364,  -1.4723,   0.2696, -10.2352,  -0.4727,\n",
      "          5.2198,  -6.5075,   4.1669,  -1.4397,  12.9745,   3.3830])\n",
      "pitches_predicted:tensor([ -1.2928,  -3.9688, -18.2544,  -5.8597,  -8.1947,  -8.2480,  -1.4682,\n",
      "        -10.1738,  -7.2872,  -5.9134,  -2.8957,  -3.3355,  -9.4317,  -1.9035,\n",
      "         -2.7836,   0.7739,  -2.3476,  -8.0149,  -4.8662,  -8.2223])\n",
      "yaws_predicted:tensor([ -1.1431,   0.5190,  -5.5966,  -0.1196,   8.4491,  -9.7963,  -2.6048,\n",
      "         -0.7069,   8.4671,   1.9917,  -4.0360,  -0.4832,  -9.2148,  -5.1484,\n",
      "         -2.2274, -12.9835,   3.6579,  -3.9598,   0.9540,  -0.5587])\n",
      "pitches_errors:tensor([ 0.4972,  1.6958, -0.1478,  7.1088, -5.0396,  0.9230,  4.7364,  3.7152,\n",
      "        -4.7231, -1.9240,  1.0955, -1.1967,  7.7325, -0.2487,  4.6879,  3.1959,\n",
      "         0.7529, -4.3550,  3.9923,  6.8835])\n",
      "yaws_errors:tensor([  1.5953,  -3.8401,   6.5613, -14.7841,  -1.5505,  -1.4186,  -7.1277,\n",
      "         -3.9605,  -2.8282,  -0.0447,  -2.5638,  -0.7528,   1.0205,  -4.6757,\n",
      "         -7.4473,  -6.4760,  -0.5090,  -2.5201, -12.0204,  -3.9417])\n",
      "0 items removed from dataset that have an angle > 180\n",
      "\n",
      "test configuration: gpu_id=cuda:0, batch_size=20\n",
      "model_arch=ResNet50 Start testing dataset=mpiigaze\n",
      "cFOLD=0 dFOLD=2--06/29/2022 07:45:47----\n",
      "pitches:tensor([ -7.1694,  -6.3425,  -1.2810,   1.3220,  -8.3004,   1.1440,  -0.7569,\n",
      "        -14.5928, -13.6460,  -3.9655,  -8.9921,  -0.0318,  -9.4576,  -0.1527,\n",
      "         -3.8064,  -1.6515,  -4.6769,  -9.3336,  -7.7851, -12.8210])\n",
      "yaws:tensor([  2.9007,  -5.6156,  -8.0020,  -6.3858,  -3.0562,  -8.9641,  -7.4151,\n",
      "         12.3860,  11.6515,  -2.8506,   1.1624,   8.8316,   3.3617,  13.6966,\n",
      "          3.4855,  -4.2649,   0.1308,  -1.4577,  -3.7673, -11.9674])\n",
      "pitches_predicted:tensor([ -8.8391, -13.5928,   2.4071,   2.4318, -15.8426,  -9.2453,  -5.8537,\n",
      "        -26.8655, -12.5077,  -8.6305,  -9.2006, -10.7432,  -5.4340,  -4.1905,\n",
      "        -12.2135,  -4.5420,  -9.4554,  -9.0082, -15.8618, -14.8194])\n",
      "yaws_predicted:tensor([  4.8459,   0.2376,  -9.3388,  -1.7626,   1.1347, -11.2721, -11.3469,\n",
      "         12.7615,  12.6002,   3.0831,  -5.3815,  10.2900,   1.1549,  17.0507,\n",
      "          3.9384,   3.4251,   3.0528,  -5.4456,  -2.4561,  -7.3562])\n",
      "pitches_errors:tensor([ -1.6698,  -7.2504,   3.6881,   1.1098,  -7.5422, -10.3893,  -5.0967,\n",
      "        -12.2727,   1.1382,  -4.6650,  -0.2085, -10.7114,   4.0236,  -4.0378,\n",
      "         -8.4071,  -2.8906,  -4.7785,   0.3254,  -8.0767,  -1.9984])\n",
      "yaws_errors:tensor([ 1.9453,  5.8532, -1.3367,  4.6232,  4.1908, -2.3080, -3.9319,  0.3755,\n",
      "         0.9487,  5.9337, -6.5439,  1.4584, -2.2068,  3.3541,  0.4529,  7.6900,\n",
      "         2.9220, -3.9879,  1.3112,  4.6112])\n",
      "0 items removed from dataset that have an angle > 180\n",
      "\n",
      "test configuration: gpu_id=cuda:0, batch_size=20\n",
      "model_arch=ResNet50 Start testing dataset=mpiigaze\n",
      "cFOLD=0 dFOLD=3--06/29/2022 07:46:04----\n",
      "pitches:tensor([ -9.7178, -16.4627, -16.8743,  -9.8578, -11.4951, -10.5166,  -6.5676,\n",
      "         -1.8996, -16.7846, -18.3785,  -2.1680,  -0.5998, -16.8258, -15.2054,\n",
      "         -4.5929, -13.1191, -11.9135,   0.5617,  -2.7638, -18.9779])\n",
      "yaws:tensor([-11.9829, -12.3002,  -1.6433,  -6.0760,  -0.8776, -11.4815,   5.4849,\n",
      "        -11.2124,   4.3015, -13.5782,   6.2448,   5.3456,   4.7676,  15.4031,\n",
      "          9.9543,   4.9897, -11.1227,  -0.9735,  -6.4936,  -6.1567])\n",
      "pitches_predicted:tensor([ -9.8893,  -2.8665, -10.5931,   3.6526,  -7.5415,  -9.0831,  -3.8629,\n",
      "          1.0533,  -7.1982, -10.7285,   2.0906,  -1.5506,  -4.9508,  -9.5772,\n",
      "         -2.8133, -10.5197, -13.6998,  -7.9297,  -1.4136,  -6.7547])\n",
      "yaws_predicted:tensor([ -8.5405, -20.3412,  -0.0555,  -8.5911,  -6.3924, -15.8945,   8.4701,\n",
      "        -17.3682,   6.9831, -16.5142,   6.4230,   9.1108,   2.3963,  17.3533,\n",
      "          8.6229,   4.9258, -11.9543,  -3.8445,  -8.2212,  -7.1414])\n",
      "pitches_errors:tensor([-0.1715, 13.5961,  6.2812, 13.5103,  3.9536,  1.4335,  2.7048,  2.9529,\n",
      "         9.5865,  7.6500,  4.2586, -0.9508, 11.8750,  5.6282,  1.7795,  2.5995,\n",
      "        -1.7863, -8.4914,  1.3503, 12.2231])\n",
      "yaws_errors:tensor([ 3.4424, -8.0410,  1.5878, -2.5151, -5.5148, -4.4131,  2.9852, -6.1558,\n",
      "         2.6816, -2.9360,  0.1782,  3.7652, -2.3713,  1.9501, -1.3313, -0.0639,\n",
      "        -0.8316, -2.8710, -1.7276, -0.9848])\n",
      "0 items removed from dataset that have an angle > 180\n",
      "\n",
      "test configuration: gpu_id=cuda:0, batch_size=20\n",
      "model_arch=ResNet50 Start testing dataset=mpiigaze\n",
      "cFOLD=0 dFOLD=4--06/29/2022 07:46:21----\n",
      "pitches:tensor([-11.5727,  -9.2378, -10.2465, -14.7288, -14.1159, -10.0101,  -1.9330,\n",
      "        -10.4572, -14.0365,  -9.5015, -12.2062,  -8.2806,  -3.6463, -16.6311,\n",
      "        -15.1817, -14.2798, -11.2756, -11.1461, -14.6662, -13.5679])\n",
      "yaws:tensor([-2.2567, 12.0277,  1.6039, 11.4747,  1.9948,  5.4082, -2.6249, 10.4385,\n",
      "        10.7894, -9.3361,  1.5146, -8.9540, -6.1803, 13.3632, -6.7391,  5.3013,\n",
      "        -3.7960, -1.1364,  5.9013,  1.2139])\n",
      "pitches_predicted:tensor([-13.3956, -22.5261, -14.9387, -13.4819, -16.3863, -15.5789, -10.1608,\n",
      "        -11.2640, -16.1506, -19.1804, -16.6088,  -8.5530, -14.0749, -15.6539,\n",
      "        -18.3057, -18.2203, -21.0957, -16.5576,  -6.1283, -25.8009])\n",
      "yaws_predicted:tensor([ 0.8622, 10.3069, -1.1973,  3.7818,  4.9106,  1.6105, -0.8391,  7.3654,\n",
      "         8.2833, -4.0006,  1.8995, -1.6790, -5.6108,  7.7149, -2.1050,  3.5577,\n",
      "         0.5974, -3.0525,  5.5124,  0.3908])\n",
      "pitches_errors:tensor([ -1.8229, -13.2882,  -4.6921,   1.2469,  -2.2704,  -5.5687,  -8.2278,\n",
      "         -0.8068,  -2.1141,  -9.6789,  -4.4026,  -0.2724, -10.4286,   0.9772,\n",
      "         -3.1240,  -3.9405,  -9.8201,  -5.4115,   8.5378, -12.2329])\n",
      "yaws_errors:tensor([ 3.1188, -1.7208, -2.8012, -7.6929,  2.9158, -3.7977,  1.7858, -3.0731,\n",
      "        -2.5061,  5.3355,  0.3848,  7.2750,  0.5695, -5.6483,  4.6341, -1.7436,\n",
      "         4.3934, -1.9161, -0.3888, -0.8230])\n"
     ]
    },
    {
     "name": "stdout",
     "output_type": "stream",
     "text": [
      "0 items removed from dataset that have an angle > 180\n",
      "\n",
      "test configuration: gpu_id=cuda:0, batch_size=20\n",
      "model_arch=ResNet50 Start testing dataset=mpiigaze\n",
      "cFOLD=0 dFOLD=5--06/29/2022 07:46:38----\n",
      "pitches:tensor([-14.2993, -12.5260, -11.2984,  -6.1397,   0.3458,  -9.0198,  -4.6164,\n",
      "         -4.8223,  -9.7970,  -0.4385, -16.8585,  -8.0611,  -0.3970,  -7.0598,\n",
      "        -11.5999,  -9.1570,  -8.1216,  -5.6075,  -7.7831,  -8.6389])\n",
      "yaws:tensor([  6.4498,   0.2275,   1.5339,  10.6489, -12.5612,  11.2027,  -4.3496,\n",
      "          7.7562,   2.1246,   1.1918,   4.9083, -10.2791,  13.5569,  -4.3467,\n",
      "         12.3455,   5.2376, -18.5561,  14.5507,   8.2426,   6.3484])\n",
      "pitches_predicted:tensor([-14.7194, -10.2804, -11.6954,  -5.3503,   1.5071, -13.0689,  -3.5733,\n",
      "         -2.9179,  -7.9335,   0.9043, -19.4675, -11.9236,  -4.0582, -10.0888,\n",
      "        -23.5146,  -3.8603,  -9.7464, -10.2694,  -9.0672,  -3.6173])\n",
      "yaws_predicted:tensor([ -0.2390,   0.9493,  -4.7517,   1.4496, -15.7870,   9.8280,   4.9497,\n",
      "         10.2445,  -1.2779,  -4.6723,   2.1067,  -8.1354,   6.3534,  -3.2493,\n",
      "         -1.5717,   7.6293, -13.7401,   6.7927,   4.8757,  -2.7456])\n",
      "pitches_errors:tensor([ -0.4201,   2.2456,  -0.3970,   0.7894,   1.1613,  -4.0491,   1.0431,\n",
      "          1.9044,   1.8635,   1.3427,  -2.6090,  -3.8625,  -3.6612,  -3.0290,\n",
      "        -11.9147,   5.2967,  -1.6247,  -4.6619,  -1.2842,   5.0217])\n",
      "yaws_errors:tensor([ -6.6889,   0.7217,  -6.2856,  -9.1993,  -3.2258,  -1.3747,   9.2993,\n",
      "          2.4883,  -3.4026,  -5.8641,  -2.8016,   2.1437,  -7.2035,   1.0974,\n",
      "        -13.9172,   2.3917,   4.8160,  -7.7580,  -3.3669,  -9.0940])\n",
      "0 items removed from dataset that have an angle > 180\n",
      "\n",
      "test configuration: gpu_id=cuda:0, batch_size=20\n",
      "model_arch=ResNet50 Start testing dataset=mpiigaze\n",
      "cFOLD=0 dFOLD=6--06/29/2022 07:46:55----\n",
      "pitches:tensor([-17.7911,  -2.7569,  -5.8530,  -5.0684, -17.3070, -19.7142, -11.4391,\n",
      "        -12.3867,  -2.9579,  -6.2371, -13.9890, -20.3780, -11.8870, -16.3032,\n",
      "         -2.4261, -13.7149, -13.0416, -14.4940, -18.0698,  -1.8172])\n",
      "yaws:tensor([-14.5354,  15.2683,  13.8995,  13.1868,   1.3581, -10.8519,  10.0777,\n",
      "        -10.3256,  -8.4041,  15.5918,   5.8252,   8.7370,  12.1559,  14.5817,\n",
      "          1.1329,  12.6046,   1.9835, -14.7174,  -8.7468,  -4.9364])\n",
      "pitches_predicted:tensor([ -6.0612,   1.9777,  -3.3684, -10.9599,  -8.5196,  -8.6916,  -6.7429,\n",
      "          1.7412,   4.8938,   1.1947,   0.0472,  -1.5935,  -3.1531,  -4.4685,\n",
      "         -0.1937,  -2.9133,  -1.6078,  -2.4622,  -2.9509,   4.4870])\n",
      "yaws_predicted:tensor([  1.4064,   9.7921,  17.3810,  11.7791,   5.5608,   3.3093,   1.0065,\n",
      "         -2.6776, -13.4683,  15.9084,   4.0535,   8.5583,   3.8490,  11.3404,\n",
      "          2.8639,   6.5641,   0.6821,  -6.0996,  -7.0675,  -3.7285])\n",
      "pitches_errors:tensor([11.7298,  4.7346,  2.4846, -5.8915,  8.7873, 11.0225,  4.6962, 14.1279,\n",
      "         7.8517,  7.4318, 14.0362, 18.7844,  8.7339, 11.8347,  2.2324, 10.8016,\n",
      "        11.4338, 12.0319, 15.1189,  6.3042])\n",
      "yaws_errors:tensor([15.9418, -5.4762,  3.4815, -1.4076,  4.2027, 14.1612, -9.0712,  7.6480,\n",
      "        -5.0643,  0.3166, -1.7717, -0.1786, -8.3069, -3.2414,  1.7309, -6.0405,\n",
      "        -1.3013,  8.6178,  1.6793,  1.2079])\n",
      "0 items removed from dataset that have an angle > 180\n",
      "\n",
      "test configuration: gpu_id=cuda:0, batch_size=20\n",
      "model_arch=ResNet50 Start testing dataset=mpiigaze\n",
      "cFOLD=0 dFOLD=7--06/29/2022 07:47:13----\n",
      "pitches:tensor([ -9.5389, -13.0543, -16.3340, -11.1728,  -9.6608, -13.5189,  -5.1506,\n",
      "         -5.9445,  -7.3945,  -8.9081,  -1.9003, -12.9532, -11.4113,  -1.5391,\n",
      "        -13.8526,  -6.1082,  -0.2741, -15.4833,  -9.7679,  -2.2342])\n",
      "yaws:tensor([ -4.5386,   8.5671,  10.0711,   6.9533,  14.2397,  -7.1226,   7.2654,\n",
      "        -12.0551,  -0.7534,   1.4510,   8.2424,  13.1890,  15.7604,  13.8336,\n",
      "          8.1477,  11.0405,  10.4075,   0.5062, -10.0069,  -5.8710])\n",
      "pitches_predicted:tensor([ -9.0963,  -9.5874,  -8.2130,  -6.7656, -13.2571,  -7.7546,  -2.3819,\n",
      "        -10.3905,  -3.5125,  -7.7733,  -4.4595, -12.9027, -13.5384,  -4.0391,\n",
      "        -11.5172,  -9.4291,  -1.3964, -14.1344,  -8.2813,  -1.5462])\n",
      "yaws_predicted:tensor([  1.0587,   3.5781,   8.1655,   0.9836,  12.9567,   1.7285,  -0.5398,\n",
      "        -10.6444,   4.1423, -12.1488,   7.2333,   6.7925,  13.7124,   5.8241,\n",
      "          4.0466,   9.3452,   7.5624,   3.1285,  -4.5721,  -4.2037])\n",
      "pitches_errors:tensor([ 0.4426,  3.4670,  8.1209,  4.4071, -3.5964,  5.7643,  2.7687, -4.4461,\n",
      "         3.8821,  1.1348, -2.5592,  0.0505, -2.1271, -2.5000,  2.3353, -3.3209,\n",
      "        -1.1223,  1.3488,  1.4865,  0.6881])\n",
      "yaws_errors:tensor([  5.5973,  -4.9890,  -1.9056,  -5.9696,  -1.2830,   8.8512,  -7.8052,\n",
      "          1.4107,   4.8957, -13.5998,  -1.0091,  -6.3965,  -2.0479,  -8.0095,\n",
      "         -4.1011,  -1.6953,  -2.8451,   2.6224,   5.4348,   1.6673])\n",
      "0 items removed from dataset that have an angle > 180\n",
      "\n",
      "test configuration: gpu_id=cuda:0, batch_size=20\n",
      "model_arch=ResNet50 Start testing dataset=mpiigaze\n",
      "cFOLD=0 dFOLD=8--06/29/2022 07:47:30----\n",
      "pitches:tensor([ -4.3637, -11.7072,  -7.6060,  -8.9034,  -2.5536, -18.0352,  -3.4642,\n",
      "         -6.3699,  -3.6019, -11.8835, -15.2309, -14.9366,  -6.2931, -10.0300,\n",
      "        -17.4930,  -9.9340,  -6.2619, -12.9855, -17.8300, -16.2018])\n",
      "yaws:tensor([ -2.3159,  -7.7374,  15.4981,  19.5097, -10.6312,  13.3225,  -9.1756,\n",
      "        -16.0421,  -6.7951,   9.7433, -11.5031,  -6.7140,  -9.2522,   4.0657,\n",
      "          6.8988,   0.1788,  -4.2295,  -0.2299,   7.7195,   0.1262])\n",
      "pitches_predicted:tensor([-13.0806,  -6.6645, -15.5799, -18.7126,  -4.5580, -16.6144,  -7.1826,\n",
      "        -18.0822, -12.2629,  -3.1676,  17.5814,  -6.0786, -11.3112, -12.3713,\n",
      "        -10.1255, -17.8703,  -3.1260, -13.0363, -26.0705, -26.8632])\n",
      "yaws_predicted:tensor([ -3.7764,  -4.3180,  13.2771,  21.8433, -14.1103,   6.6057,  -2.8555,\n",
      "         -2.3477,  -3.0487,   4.0039,  -5.5833,  -4.8473,  -1.7839,   1.1416,\n",
      "         -1.3376,   4.3051,   1.3521,   2.9139,  12.5908,   6.2295])\n",
      "pitches_errors:tensor([ -8.7170,   5.0427,  -7.9740,  -9.8092,  -2.0044,   1.4208,  -3.7184,\n",
      "        -11.7123,  -8.6610,   8.7160,  32.8122,   8.8579,  -5.0181,  -2.3413,\n",
      "          7.3675,  -7.9363,   3.1359,  -0.0508,  -8.2405, -10.6614])\n",
      "yaws_errors:tensor([-1.4605,  3.4194, -2.2210,  2.3336, -3.4792, -6.7169,  6.3201, 13.6944,\n",
      "         3.7464, -5.7394,  5.9198,  1.8667,  7.4683, -2.9241, -8.2365,  4.1262,\n",
      "         5.5816,  3.1438,  4.8712,  6.1033])\n",
      "0 items removed from dataset that have an angle > 180\n",
      "\n",
      "test configuration: gpu_id=cuda:0, batch_size=20\n",
      "model_arch=ResNet50 Start testing dataset=mpiigaze\n",
      "cFOLD=0 dFOLD=9--06/29/2022 07:47:46----\n",
      "pitches:tensor([ -5.5146,  -5.4151, -15.9723,  -3.5171, -12.6298,  -2.8848, -15.6613,\n",
      "         -7.9696,  -2.2510, -13.8478,  -8.7892,  -1.8559, -12.5102,  -5.7436,\n",
      "         -3.7034, -15.9543,  -6.5644, -16.6101, -16.1467,  -3.8301])\n",
      "yaws:tensor([ 11.9307,   5.1558,  -8.4515,  -7.6845,   9.3206,  11.9097,   9.8571,\n",
      "         -6.4581,  -4.3223,  -7.5962,   4.1339,  -9.9856,   9.7459,  -6.4161,\n",
      "         -0.8114,  -7.2463,  -0.4868,  -9.2703, -12.0888,  -3.3751])\n",
      "pitches_predicted:tensor([-13.1180,  -6.9761, -14.2643,  -5.4356, -12.6600,  -5.6983, -11.0165,\n",
      "        -11.2576,   0.5225, -18.5682, -11.9399, -11.2484, -12.8065,  -5.8204,\n",
      "         -9.4730, -11.5782,  -9.4954, -23.3869,  -6.2561,  -4.1192])\n",
      "yaws_predicted:tensor([  9.3705,   2.4521,  -9.9739,  -3.2814,  -3.1473,   3.8461,   5.0078,\n",
      "        -12.0210,  -4.4451,  -5.6878,   2.1650,  -8.5573,   3.1444,  -6.0974,\n",
      "         -5.2944,  -0.7221,  -5.0289,  -5.2661, -11.4436,  -6.1530])\n",
      "pitches_errors:tensor([-7.6034, -1.5610,  1.7080, -1.9185, -0.0302, -2.8136,  4.6448, -3.2881,\n",
      "         2.7734, -4.7204, -3.1507, -9.3925, -0.2963, -0.0769, -5.7696,  4.3761,\n",
      "        -2.9310, -6.7769,  9.8905, -0.2891])\n",
      "yaws_errors:tensor([ -2.5601,  -2.7037,  -1.5224,   4.4031, -12.4679,  -8.0636,  -4.8493,\n",
      "         -5.5629,  -0.1228,   1.9084,  -1.9689,   1.4282,  -6.6015,   0.3187,\n",
      "         -4.4830,   6.5242,  -4.5422,   4.0043,   0.6453,  -2.7779])\n",
      "0 items removed from dataset that have an angle > 180\n",
      "\n",
      "test configuration: gpu_id=cuda:0, batch_size=20\n",
      "model_arch=ResNet50 Start testing dataset=mpiigaze\n",
      "cFOLD=0 dFOLD=10--06/29/2022 07:48:04----\n",
      "pitches:tensor([ -1.7086, -16.4723,  -8.1528,  -8.1423, -13.5274,  -6.3506, -16.1359,\n",
      "        -14.3129,  -1.1215,  -2.5389,  -7.7205,  -8.8913, -12.2170, -15.7059,\n",
      "         -1.8859, -11.9675,  -7.5458, -11.9611,  -7.7420,  -9.2325])\n",
      "yaws:tensor([ 13.2900,  -1.2574,   5.0774,   7.3902, -10.3724,   8.6379,  -0.8976,\n",
      "          6.8071,  10.4962,   6.5107,  10.2726,   1.1013,  -5.0977,  -0.2130,\n",
      "         13.6163,   5.7318, -10.2803, -12.2114,   5.7725, -14.1016])\n",
      "pitches_predicted:tensor([ -4.0731,  -8.9011,   4.6059,  -0.0506, -17.1113,  -2.8489, -10.2993,\n",
      "         -2.2633,   4.2946,   2.5873, -11.8791,  -3.6120,   2.0519,  -8.4759,\n",
      "          0.8337,  -3.2173,  -4.5663,  -8.6132,   6.0473,   2.5672])\n",
      "yaws_predicted:tensor([ 12.1057,   3.4344,   2.6105,   5.8037, -15.3831,  11.1650,  -5.9959,\n",
      "          6.8834,  11.2147,  10.5083,   6.4644,  -1.6217,  -4.2728,  -0.2601,\n",
      "          8.3905,   5.1546, -14.8321, -11.8091,   6.1951, -13.6974])\n",
      "pitches_errors:tensor([-2.3645,  7.5713, 12.7587,  8.0917, -3.5839,  3.5017,  5.8365, 12.0496,\n",
      "         5.4161,  5.1262, -4.1586,  5.2793, 14.2689,  7.2299,  2.7195,  8.7502,\n",
      "         2.9795,  3.3479, 13.7893, 11.7997])\n",
      "yaws_errors:tensor([-1.1843,  4.6918, -2.4670, -1.5865, -5.0106,  2.5272, -5.0983,  0.0763,\n",
      "         0.7185,  3.9976, -3.8081, -2.7230,  0.8249, -0.0471, -5.2257, -0.5772,\n",
      "        -4.5517,  0.4023,  0.4226,  0.4042])\n"
     ]
    },
    {
     "name": "stdout",
     "output_type": "stream",
     "text": [
      "0 items removed from dataset that have an angle > 180\n",
      "\n",
      "test configuration: gpu_id=cuda:0, batch_size=20\n",
      "model_arch=ResNet50 Start testing dataset=mpiigaze\n",
      "cFOLD=0 dFOLD=11--06/29/2022 07:48:21----\n",
      "pitches:tensor([ -8.8805,  -8.1871,  -6.5117,  -3.8416,  -7.2281, -13.8365,  -7.4979,\n",
      "         -2.3657,  -9.0176, -10.0364,  -3.5352, -10.7789,  -4.7780,  -5.1809,\n",
      "        -14.8587, -12.9766,  -8.3004, -11.2493, -15.9432,  -4.8877])\n",
      "yaws:tensor([-12.4049,   8.5991,  -9.9404,   3.6835,   0.4973,  -8.8294,   7.7089,\n",
      "         -6.5441,   1.1848,  -0.4645, -10.5449,  12.6817,   6.8931,   2.0635,\n",
      "         -9.0122,  -6.6591,  -7.6857,   1.2516,  -5.9804, -12.1634])\n",
      "pitches_predicted:tensor([ -8.7769,  -3.7316,  -5.3165, -15.7361,  -2.0317, -16.6875, -12.4509,\n",
      "         -9.9722, -12.9179, -17.3815, -17.6492, -11.7002, -20.7166,  -7.9618,\n",
      "        -19.0632,  -8.4839, -16.9118, -11.9798,  -5.0598,  -8.7789])\n",
      "yaws_predicted:tensor([ -6.4269,   5.6776, -11.7421,   2.3848,  11.8822,  -1.0747,   9.4049,\n",
      "        -12.8194,   6.6938,   1.4618,  -2.4203,  12.7027,   5.5968,   1.8421,\n",
      "         -6.0491,   1.9670,   5.9116,  12.6356,  -5.2866, -10.6644])\n",
      "pitches_errors:tensor([  0.1035,   4.4556,   1.1951, -11.8944,   5.1964,  -2.8510,  -4.9530,\n",
      "         -7.6064,  -3.9003,  -7.3451, -14.1140,  -0.9213, -15.9386,  -2.7809,\n",
      "         -4.2045,   4.4927,  -8.6114,  -0.7305,  10.8833,  -3.8912])\n",
      "yaws_errors:tensor([ 5.9780, -2.9215, -1.8017, -1.2987, 11.3849,  7.7547,  1.6961, -6.2754,\n",
      "         5.5091,  1.9263,  8.1246,  0.0209, -1.2963, -0.2214,  2.9631,  8.6261,\n",
      "        13.5972, 11.3840,  0.6937,  1.4990])\n",
      "0 items removed from dataset that have an angle > 180\n",
      "\n",
      "test configuration: gpu_id=cuda:0, batch_size=20\n",
      "model_arch=ResNet50 Start testing dataset=mpiigaze\n",
      "cFOLD=0 dFOLD=12--06/29/2022 07:48:36----\n",
      "pitches:tensor([ -3.7352, -12.7820,  -4.2458, -14.9780,  -9.2560,  -2.6358,  -0.3122,\n",
      "         -3.8890,  -7.3242,  -1.6977,  -4.1805,   0.3317, -13.5445,  -9.0030,\n",
      "        -12.2102,  -9.7025,  -6.3010,  -7.3454,  -4.5432,  -8.7442])\n",
      "yaws:tensor([  0.6749,   3.3026,   6.8173,   0.9263, -10.9376, -11.4066,  -2.7607,\n",
      "         -4.2847,  13.4855,  -2.0994, -13.5164, -13.6418,  -0.1162, -11.5103,\n",
      "          2.2849,  -5.5732, -10.6671,  -1.6013,   1.9039,   7.9701])\n",
      "pitches_predicted:tensor([ -3.1410, -13.3102,  -3.5473,  -3.2735, -11.1542,   0.4592,   5.2202,\n",
      "        -11.5297,  -8.4337,   3.4012,   0.6219,   1.2217,  -8.3391,  -1.3405,\n",
      "         -9.0605,  -0.0397,  -9.0068,  -7.5785,  -3.2322, -11.2603])\n",
      "yaws_predicted:tensor([ -4.0739,   5.4818,   3.4068,  -3.4197,   2.3596, -14.3396,  -2.2281,\n",
      "         -8.3759,   7.6328,  -1.3958, -11.8137, -15.7841,  -0.8873, -11.5147,\n",
      "         -1.4329,  -4.2483,  -4.1104,   0.3003,   0.2437,   1.0743])\n",
      "pitches_errors:tensor([ 0.5942, -0.5282,  0.6984, 11.7045, -1.8982,  3.0950,  5.5323, -7.6407,\n",
      "        -1.1095,  5.0989,  4.8024,  0.8900,  5.2053,  7.6626,  3.1497,  9.6628,\n",
      "        -2.7058, -0.2331,  1.3110, -2.5161])\n",
      "yaws_errors:tensor([-4.7488e+00,  2.1792e+00, -3.4106e+00, -4.3460e+00,  1.3297e+01,\n",
      "        -2.9330e+00,  5.3262e-01, -4.0912e+00, -5.8527e+00,  7.0363e-01,\n",
      "         1.7027e+00, -2.1423e+00, -7.7107e-01, -4.3736e-03, -3.7178e+00,\n",
      "         1.3249e+00,  6.5567e+00,  1.9016e+00, -1.6601e+00, -6.8958e+00])\n",
      "0 items removed from dataset that have an angle > 180\n",
      "\n",
      "test configuration: gpu_id=cuda:0, batch_size=20\n",
      "model_arch=ResNet50 Start testing dataset=mpiigaze\n",
      "cFOLD=0 dFOLD=13--06/29/2022 07:48:54----\n",
      "pitches:tensor([-14.5846, -16.6428,  -3.3950, -10.5121,  -1.0460, -14.5846, -13.2269,\n",
      "         -8.9653, -14.7783,  -4.2344, -11.2208,  -8.5697,  -2.3204,  -5.2875,\n",
      "         -5.1635, -14.2696,  -7.4037,  -3.9752,  -3.5417, -13.9489])\n",
      "yaws:tensor([  7.3433,  -7.2149, -13.7580,   1.9455, -10.4596,  -7.3433,  -6.4020,\n",
      "          6.0479,   1.2416,  13.7975,   5.0697,   0.4268,  -6.5740,  -6.4702,\n",
      "         12.2737, -11.3073,  -1.0643,   5.4293,   2.9706,  -3.1071])\n",
      "pitches_predicted:tensor([ -9.8353,  -8.5653,  -0.1809,  -1.9914,   5.4225, -10.0693, -14.5222,\n",
      "          0.0789, -11.9331,   0.4322,   1.5012,  -0.4984,  -1.0788,  -8.1459,\n",
      "         -5.6658,  -6.8888,   4.1073,  -2.0342,  -3.8942,  -3.7022])\n",
      "yaws_predicted:tensor([ 3.8220e+00, -1.6106e+00, -6.5573e+00,  3.0790e+00, -1.1273e+01,\n",
      "        -6.8774e+00, -8.0709e+00,  4.8891e+00,  1.3265e+00,  1.0775e+01,\n",
      "         7.3407e-01,  6.8017e-01, -6.9803e+00,  7.9590e+00,  1.2929e+01,\n",
      "        -1.2213e+01,  3.0871e+00,  5.7734e+00,  8.7738e-05,  1.5660e+00])\n",
      "pitches_errors:tensor([ 4.7493,  8.0774,  3.2141,  8.5207,  6.4685,  4.5153, -1.2953,  9.0442,\n",
      "         2.8452,  4.6666, 12.7220,  8.0713,  1.2416, -2.8583, -0.5023,  7.3809,\n",
      "        11.5110,  1.9410, -0.3525, 10.2467])\n",
      "yaws_errors:tensor([-3.5212,  5.6043,  7.2007,  1.1336, -0.8129,  0.4659, -1.6689, -1.1588,\n",
      "         0.0849, -3.0225, -4.3357,  0.2533, -0.4064, 14.4292,  0.6555, -0.9060,\n",
      "         4.1513,  0.3441, -2.9705,  4.6732])\n",
      "0 items removed from dataset that have an angle > 180\n",
      "\n",
      "test configuration: gpu_id=cuda:0, batch_size=20\n",
      "model_arch=ResNet50 Start testing dataset=mpiigaze\n",
      "cFOLD=0 dFOLD=14--06/29/2022 07:49:11----\n",
      "pitches:tensor([ -6.3838,  -5.4022, -14.6739,  -8.5957,   3.4038,   0.3671,  -7.9741,\n",
      "         -6.5475,   0.8416,  -6.1834,   2.7711,   0.7306, -16.0183,  -2.6236,\n",
      "         -3.6052, -12.6344, -15.1332, -14.7481,  -2.3640,  -9.5414])\n",
      "yaws:tensor([  1.5543,   9.2619,   3.1623, -19.1749,   0.1876,  -6.0666,   4.0383,\n",
      "        -13.8550,   2.0491,   9.8385, -10.7372,  -8.6092,  -0.5778,   1.6709,\n",
      "         -4.4943,   7.0151,  -9.0764,  -1.9088,   3.6728,  10.7491])\n",
      "pitches_predicted:tensor([ -9.1942,  -7.0876, -12.4546, -11.0485,  -5.5666, -10.3736, -12.4264,\n",
      "        -13.7226,  -8.6959, -11.9222,  -0.5412,  -0.4540, -11.8454,  -7.2508,\n",
      "         -6.2924, -15.0628, -16.3082, -18.4828,  -8.8612, -12.1478])\n",
      "yaws_predicted:tensor([ -2.1531,   8.1844,  -0.6430, -17.1259,   5.8107,  -5.2141,   4.6675,\n",
      "        -14.2459,  -1.1023,  14.5847, -12.8224, -11.3613,   0.0241,   8.2329,\n",
      "         -2.2215,  10.3781, -15.2518,   2.1238,   0.4039,   7.3889])\n",
      "pitches_errors:tensor([ -2.8104,  -1.6854,   2.2193,  -2.4528,  -8.9704, -10.7407,  -4.4523,\n",
      "         -7.1751,  -9.5375,  -5.7388,  -3.3123,  -1.1845,   4.1729,  -4.6272,\n",
      "         -2.6872,  -2.4283,  -1.1750,  -3.7347,  -6.4972,  -2.6063])\n",
      "yaws_errors:tensor([-3.7074, -1.0775, -3.8053,  2.0490,  5.6231,  0.8525,  0.6292, -0.3909,\n",
      "        -3.1514,  4.7462, -2.0852, -2.7521,  0.6020,  6.5620,  2.2728,  3.3630,\n",
      "        -6.1754,  4.0326, -3.2690, -3.3602])\n",
      "CPU times: user 2min 39s, sys: 1min 9s, total: 3min 48s\n",
      "Wall time: 4min 19s\n"
     ]
    }
   ],
   "source": [
    "%%time\n",
    "# all_MAE = []\n",
    "# tosave={}\n",
    "lfolder = os.listdir(gazeMpiilabel_dir)\n",
    "lfolder.sort()  #individual label files\n",
    "testlabelpathcombined = [os.path.join(gazeMpiilabel_dir, j) for j in lfolder] \n",
    "print(testlabelpathcombined)\n",
    "model = model_used\n",
    "model= nn.DataParallel(model,device_ids=[0])  #important to load state dict\n",
    "# for cfold in range(15):  #checkpoint folds\n",
    "cfold=0\n",
    "\n",
    "\n",
    "cfoldstr = f\"fold{cfold:0>2}\"\n",
    "print(f\"cfold={cfoldstr}\")\n",
    "idx = cfold + 1\n",
    "b_epoch = best_epoch[idx]\n",
    "\n",
    "checkpoint_path = Path(snapshot_path)/cfoldstr\n",
    "best_checkpoint_file = 'epoch_'+str(b_epoch)+'.pkl'\n",
    "best_checkpoint_file = checkpoint_path/best_checkpoint_file\n",
    "#     print(best_checkpoint_file, type(best_checkpoint_file))\n",
    "checkpoint = torch.load(best_checkpoint_file)\n",
    "saved_state_dict = checkpoint['model_state_dict']\n",
    "model.load_state_dict(saved_state_dict)\n",
    "\n",
    "model.cuda(gpu)\n",
    "model.eval()\n",
    "idx_tensor = [idx for idx in range(35)]\n",
    "idx_tensor = torch.FloatTensor(idx_tensor).cuda(gpu)\n",
    "softmax = nn.Softmax(dim=1)\n",
    "best_model_maes =[]  # error for each data fold\n",
    "\n",
    "\n",
    "all_pitches=[]\n",
    "all_pitch_errors =[]\n",
    "all_yaws=[]\n",
    "all_yaw_errors =[]\n",
    "\n",
    "for dfold in range(15):  #data folds\n",
    "    gaze_dataset=datasets.Mpiigaze(testlabelpathcombined, gazeMpiimage_dir, transformations, False, angle, dfold)\n",
    "    test_loader = torch.utils.data.DataLoader(\n",
    "        dataset=gaze_dataset,\n",
    "        batch_size=batch_size,\n",
    "        shuffle=True,\n",
    "        num_workers=4,\n",
    "        pin_memory=True)\n",
    "    now = get_now()\n",
    "    configuration = f\"\\ntest configuration: gpu_id={gpu}, batch_size={batch_size}\\n\"\n",
    "    configuration += f\"model_arch={arch} Start testing dataset={data_set}\\n\"\n",
    "    configuration +=  f\"cFOLD={cfold} dFOLD={dfold}--{now}----\"\n",
    "    print(configuration)\n",
    "\n",
    "#     total = 0  \n",
    "#     avg_error = .0\n",
    "    with torch.no_grad():\n",
    "        for j, (images, labels, cont_labels, name) in enumerate(test_loader):\n",
    "            images = Variable(images).cuda(gpu)\n",
    "#             total += cont_labels.size(0)\n",
    "\n",
    "            label_pitch = cont_labels[:,1].float()*np.pi/180\n",
    "            label_yaw = cont_labels[:,0].float()*np.pi/180\n",
    "            label_yaw = label_yaw*(-1.0)\n",
    "\n",
    "            gaze_pitch, gaze_yaw = model(images)\n",
    "\n",
    "            # Binned predictions\n",
    "            _, pitch_bpred = torch.max(gaze_pitch.data, 1)\n",
    "            _, yaw_bpred = torch.max(gaze_yaw.data, 1)\n",
    "\n",
    "            # Continuous predictions\n",
    "            pitch_predicted = softmax(gaze_pitch)\n",
    "            yaw_predicted = softmax(gaze_yaw)\n",
    "\n",
    "            # mapping from binned (0 to 28) to angels (-42 to 42)                \n",
    "            pitch_predicted = \\\n",
    "                torch.sum(pitch_predicted * idx_tensor, 1).cpu() * 3 - 52\n",
    "            yaw_predicted = \\\n",
    "                torch.sum(yaw_predicted * idx_tensor, 1).cpu() * 3 - 52\n",
    "\n",
    "            label_yaw = label_yaw*180/np.pi\n",
    "            label_pitch = label_pitch*180/np.pi\n",
    "            \n",
    "#             pitch_predicted = pitch_predicted\n",
    "#             yaw_predicted = yaw_predicted\n",
    "            \n",
    "            pitch_errors = pitch_predicted - label_pitch\n",
    "            yaw_errors = yaw_predicted - label_yaw\n",
    "            \n",
    "            all_yaws.extend(label_yaw.numpy())\n",
    "            all_pitches.extend(label_pitch.numpy())\n",
    "            all_yaw_errors.extend(yaw_errors.numpy())\n",
    "            all_pitch_errors.extend(pitch_errors.numpy())\n",
    "            if j == 2:\n",
    "                print(f\"pitches:{label_pitch}\")\n",
    "                print(f\"yaws:{label_yaw}\")\n",
    "                print(f\"pitches_predicted:{pitch_predicted}\")\n",
    "                print(f\"yaws_predicted:{yaw_predicted}\")\n",
    "                print(f\"pitches_errors:{pitch_errors}\")\n",
    "                print(f\"yaws_errors:{yaw_errors}\")\n"
   ]
  },
  {
   "cell_type": "code",
   "execution_count": 10,
   "id": "8c552df3",
   "metadata": {},
   "outputs": [],
   "source": [
    "all_yaws = np.array(all_yaws)\n",
    "all_pitches = np.array(all_pitches)\n",
    "all_yaw_errors = np.array(all_yaw_errors)\n",
    "all_pitch_errors = np.array(all_pitch_errors)"
   ]
  },
  {
   "cell_type": "code",
   "execution_count": 11,
   "id": "b517786d",
   "metadata": {},
   "outputs": [],
   "source": [
    "# frun = wandb.init(project=\"54_best_smodel_all_rdata_sign_errors\")\n",
    "# frun.name = f'signed_errors_best_smodel_all_rdata'"
   ]
  },
  {
   "cell_type": "code",
   "execution_count": 12,
   "id": "8e9d51c3",
   "metadata": {},
   "outputs": [
    {
     "data": {
      "text/plain": [
       "(array([1.000e+00, 0.000e+00, 1.000e+00, 1.000e+00, 0.000e+00, 3.000e+00,\n",
       "        4.000e+00, 8.000e+00, 5.000e+00, 5.000e+00, 8.000e+00, 2.200e+01,\n",
       "        4.500e+01, 7.700e+01, 1.730e+02, 3.680e+02, 7.720e+02, 1.484e+03,\n",
       "        2.841e+03, 4.584e+03, 6.338e+03, 7.072e+03, 6.690e+03, 5.524e+03,\n",
       "        3.643e+03, 2.251e+03, 1.313e+03, 7.150e+02, 4.370e+02, 2.320e+02,\n",
       "        1.460e+02, 9.100e+01, 5.500e+01, 3.000e+01, 2.600e+01, 1.400e+01,\n",
       "        6.000e+00, 7.000e+00, 6.000e+00, 2.000e+00]),\n",
       " array([-4.03326874e+01, -3.84993744e+01, -3.66660614e+01, -3.48327484e+01,\n",
       "        -3.29994354e+01, -3.11661224e+01, -2.93328094e+01, -2.74994965e+01,\n",
       "        -2.56661835e+01, -2.38328705e+01, -2.19995575e+01, -2.01662464e+01,\n",
       "        -1.83329334e+01, -1.64996204e+01, -1.46663065e+01, -1.28329945e+01,\n",
       "        -1.09996815e+01, -9.16636848e+00, -7.33305550e+00, -5.49974251e+00,\n",
       "        -3.66642952e+00, -1.83311665e+00,  1.96266177e-04,  1.83350921e+00,\n",
       "         3.66682196e+00,  5.50013494e+00,  7.33344793e+00,  9.16676044e+00,\n",
       "         1.10000734e+01,  1.28333864e+01,  1.46666994e+01,  1.65000114e+01,\n",
       "         1.83333244e+01,  2.01666374e+01,  2.19999504e+01,  2.38332634e+01,\n",
       "         2.56665764e+01,  2.74998894e+01,  2.93332024e+01,  3.11665154e+01,\n",
       "         3.29998283e+01], dtype=float32),\n",
       " <BarContainer object of 40 artists>)"
      ]
     },
     "execution_count": 12,
     "metadata": {},
     "output_type": "execute_result"
    },
    {
     "data": {
      "image/png": "[encoded data removed]",
      "text/plain": [
       "<Figure size 432x288 with 1 Axes>"
      ]
     },
     "metadata": {
      "needs_background": "light"
     },
     "output_type": "display_data"
    }
   ],
   "source": [
    "plt.hist(all_yaw_errors, bins=40)"
   ]
  },
  {
   "cell_type": "code",
   "execution_count": 13,
   "id": "f8fc9690",
   "metadata": {},
   "outputs": [
    {
     "name": "stderr",
     "output_type": "stream",
     "text": [
      "\u001b[34m\u001b[1mwandb\u001b[0m: Currently logged in as: \u001b[33msynthesis-ai\u001b[0m (use `wandb login --relogin` to force relogin)\n"
     ]
    },
    {
     "data": {
      "text/html": [
       "wandb version 0.12.19 is available!  To upgrade, please run:\n",
       " $ pip install wandb --upgrade"
      ],
      "text/plain": [
       "<IPython.core.display.HTML object>"
      ]
     },
     "metadata": {},
     "output_type": "display_data"
    },
    {
     "data": {
      "text/html": [
       "Tracking run with wandb version 0.12.15"
      ],
      "text/plain": [
       "<IPython.core.display.HTML object>"
      ]
     },
     "metadata": {},
     "output_type": "display_data"
    },
    {
     "data": {
      "text/html": [
       "Run data is saved locally in <code>/project/notebooks/wandb/run-20220629_144928-t4rf4lxm</code>"
      ],
      "text/plain": [
       "<IPython.core.display.HTML object>"
      ]
     },
     "metadata": {},
     "output_type": "display_data"
    },
    {
     "data": {
      "text/html": [
       "Syncing run <strong><a href=\"https://wandb.ai/synthesis-ai/54%20best%20smodel%20all%20rdata%20signed%20errors/runs/t4rf4lxm\" target=\"_blank\">young-smoke-13</a></strong> to <a href=\"https://wandb.ai/synthesis-ai/54%20best%20smodel%20all%20rdata%20signed%20errors\" target=\"_blank\">Weights & Biases</a> (<a href=\"https://wandb.me/run\" target=\"_blank\">docs</a>)<br/>"
      ],
      "text/plain": [
       "<IPython.core.display.HTML object>"
      ]
     },
     "metadata": {},
     "output_type": "display_data"
    },
    {
     "data": {
      "text/html": [
       "Waiting for W&B process to finish... <strong style=\"color:green\">(success).</strong>"
      ],
      "text/plain": [
       "<IPython.core.display.HTML object>"
      ]
     },
     "metadata": {},
     "output_type": "display_data"
    },
    {
     "data": {
      "application/vnd.jupyter.widget-view+json": {
       "model_id": "",
       "version_major": 2,
       "version_minor": 0
      },
      "text/plain": [
       "VBox(children=(Label(value='0.001 MB of 0.009 MB uploaded (0.000 MB deduped)\\r'), FloatProgress(value=0.071907…"
      ]
     },
     "metadata": {},
     "output_type": "display_data"
    },
    {
     "data": {
      "text/html": [
       "Synced <strong style=\"color:#cdcd00\">young-smoke-13</strong>: <a href=\"https://wandb.ai/synthesis-ai/54%20best%20smodel%20all%20rdata%20signed%20errors/runs/t4rf4lxm\" target=\"_blank\">https://wandb.ai/synthesis-ai/54%20best%20smodel%20all%20rdata%20signed%20errors/runs/t4rf4lxm</a><br/>Synced 4 W&B file(s), 1 media file(s), 0 artifact file(s) and 0 other file(s)"
      ],
      "text/plain": [
       "<IPython.core.display.HTML object>"
      ]
     },
     "metadata": {},
     "output_type": "display_data"
    },
    {
     "data": {
      "text/html": [
       "Find logs at: <code>./wandb/run-20220629_144928-t4rf4lxm/logs</code>"
      ],
      "text/plain": [
       "<IPython.core.display.HTML object>"
      ]
     },
     "metadata": {},
     "output_type": "display_data"
    },
    {
     "data": {
      "image/png": "[encoded data removed]",
      "text/plain": [
       "<Figure size 432x288 with 1 Axes>"
      ]
     },
     "metadata": {
      "needs_background": "light"
     },
     "output_type": "display_data"
    }
   ],
   "source": [
    "with wandb.init(project=\"54 best smodel all rdata signed errors\") as run:\n",
    "    plt.hist(all_yaw_errors, bins=40)\n",
    "    plt.title(\"signed yaw error distribution: best syn model all_real data\")\n",
    "    plt.xlabel(\"degree\")\n",
    "    run.log({\"data\":wandb.Image(plt)})"
   ]
  },
  {
   "cell_type": "code",
   "execution_count": 14,
   "id": "c77b66ea",
   "metadata": {},
   "outputs": [
    {
     "data": {
      "text/html": [
       "wandb version 0.12.19 is available!  To upgrade, please run:\n",
       " $ pip install wandb --upgrade"
      ],
      "text/plain": [
       "<IPython.core.display.HTML object>"
      ]
     },
     "metadata": {},
     "output_type": "display_data"
    },
    {
     "data": {
      "text/html": [
       "Tracking run with wandb version 0.12.15"
      ],
      "text/plain": [
       "<IPython.core.display.HTML object>"
      ]
     },
     "metadata": {},
     "output_type": "display_data"
    },
    {
     "data": {
      "text/html": [
       "Run data is saved locally in <code>/project/notebooks/wandb/run-20220629_144935-21f6v9e1</code>"
      ],
      "text/plain": [
       "<IPython.core.display.HTML object>"
      ]
     },
     "metadata": {},
     "output_type": "display_data"
    },
    {
     "data": {
      "text/html": [
       "Syncing run <strong><a href=\"https://wandb.ai/synthesis-ai/54%20best%20smodel%20all%20rdata%20signed%20errors/runs/21f6v9e1\" target=\"_blank\">fresh-snow-14</a></strong> to <a href=\"https://wandb.ai/synthesis-ai/54%20best%20smodel%20all%20rdata%20signed%20errors\" target=\"_blank\">Weights & Biases</a> (<a href=\"https://wandb.me/run\" target=\"_blank\">docs</a>)<br/>"
      ],
      "text/plain": [
       "<IPython.core.display.HTML object>"
      ]
     },
     "metadata": {},
     "output_type": "display_data"
    },
    {
     "data": {
      "text/html": [
       "Waiting for W&B process to finish... <strong style=\"color:green\">(success).</strong>"
      ],
      "text/plain": [
       "<IPython.core.display.HTML object>"
      ]
     },
     "metadata": {},
     "output_type": "display_data"
    },
    {
     "data": {
      "application/vnd.jupyter.widget-view+json": {
       "model_id": "",
       "version_major": 2,
       "version_minor": 0
      },
      "text/plain": [
       "VBox(children=(Label(value='0.008 MB of 0.008 MB uploaded (0.000 MB deduped)\\r'), FloatProgress(value=1.0, max…"
      ]
     },
     "metadata": {},
     "output_type": "display_data"
    },
    {
     "data": {
      "text/html": [
       "Synced <strong style=\"color:#cdcd00\">fresh-snow-14</strong>: <a href=\"https://wandb.ai/synthesis-ai/54%20best%20smodel%20all%20rdata%20signed%20errors/runs/21f6v9e1\" target=\"_blank\">https://wandb.ai/synthesis-ai/54%20best%20smodel%20all%20rdata%20signed%20errors/runs/21f6v9e1</a><br/>Synced 4 W&B file(s), 1 media file(s), 0 artifact file(s) and 0 other file(s)"
      ],
      "text/plain": [
       "<IPython.core.display.HTML object>"
      ]
     },
     "metadata": {},
     "output_type": "display_data"
    },
    {
     "data": {
      "text/html": [
       "Find logs at: <code>./wandb/run-20220629_144935-21f6v9e1/logs</code>"
      ],
      "text/plain": [
       "<IPython.core.display.HTML object>"
      ]
     },
     "metadata": {},
     "output_type": "display_data"
    },
    {
     "data": {
      "image/png": "[encoded data removed]",
      "text/plain": [
       "<Figure size 432x288 with 1 Axes>"
      ]
     },
     "metadata": {
      "needs_background": "light"
     },
     "output_type": "display_data"
    }
   ],
   "source": [
    "with wandb.init(project=\"54 best smodel all rdata signed errors\") as run:\n",
    "    plt.hist(all_pitch_errors, bins=40)\n",
    "    plt.title(\"signed pitch error distribution: best syn model all_real data\")\n",
    "    plt.xlabel(\"degree\")\n",
    "    run.log({\"data\":wandb.Image(plt)})"
   ]
  },
  {
   "cell_type": "code",
   "execution_count": null,
   "id": "327971ee",
   "metadata": {},
   "outputs": [],
   "source": []
  },
  {
   "cell_type": "code",
   "execution_count": 15,
   "id": "97818f5b",
   "metadata": {},
   "outputs": [
    {
     "data": {
      "text/html": [
       "wandb version 0.12.19 is available!  To upgrade, please run:\n",
       " $ pip install wandb --upgrade"
      ],
      "text/plain": [
       "<IPython.core.display.HTML object>"
      ]
     },
     "metadata": {},
     "output_type": "display_data"
    },
    {
     "data": {
      "text/html": [
       "Tracking run with wandb version 0.12.15"
      ],
      "text/plain": [
       "<IPython.core.display.HTML object>"
      ]
     },
     "metadata": {},
     "output_type": "display_data"
    },
    {
     "data": {
      "text/html": [
       "Run data is saved locally in <code>/project/notebooks/wandb/run-20220629_144942-2ea2vobe</code>"
      ],
      "text/plain": [
       "<IPython.core.display.HTML object>"
      ]
     },
     "metadata": {},
     "output_type": "display_data"
    },
    {
     "data": {
      "text/html": [
       "Syncing run <strong><a href=\"https://wandb.ai/synthesis-ai/54%20best%20smodel%20all%20rdata%20signed%20errors/runs/2ea2vobe\" target=\"_blank\">tough-paper-15</a></strong> to <a href=\"https://wandb.ai/synthesis-ai/54%20best%20smodel%20all%20rdata%20signed%20errors\" target=\"_blank\">Weights & Biases</a> (<a href=\"https://wandb.me/run\" target=\"_blank\">docs</a>)<br/>"
      ],
      "text/plain": [
       "<IPython.core.display.HTML object>"
      ]
     },
     "metadata": {},
     "output_type": "display_data"
    },
    {
     "data": {
      "text/html": [
       "Waiting for W&B process to finish... <strong style=\"color:green\">(success).</strong>"
      ],
      "text/plain": [
       "<IPython.core.display.HTML object>"
      ]
     },
     "metadata": {},
     "output_type": "display_data"
    },
    {
     "data": {
      "application/vnd.jupyter.widget-view+json": {
       "model_id": "",
       "version_major": 2,
       "version_minor": 0
      },
      "text/plain": [
       "VBox(children=(Label(value='1.802 MB of 2.202 MB uploaded (0.000 MB deduped)\\r'), FloatProgress(value=0.818092…"
      ]
     },
     "metadata": {},
     "output_type": "display_data"
    },
    {
     "data": {
      "text/html": [
       "Synced <strong style=\"color:#cdcd00\">tough-paper-15</strong>: <a href=\"https://wandb.ai/synthesis-ai/54%20best%20smodel%20all%20rdata%20signed%20errors/runs/2ea2vobe\" target=\"_blank\">https://wandb.ai/synthesis-ai/54%20best%20smodel%20all%20rdata%20signed%20errors/runs/2ea2vobe</a><br/>Synced 4 W&B file(s), 1 media file(s), 1 artifact file(s) and 0 other file(s)"
      ],
      "text/plain": [
       "<IPython.core.display.HTML object>"
      ]
     },
     "metadata": {},
     "output_type": "display_data"
    },
    {
     "data": {
      "text/html": [
       "Find logs at: <code>./wandb/run-20220629_144942-2ea2vobe/logs</code>"
      ],
      "text/plain": [
       "<IPython.core.display.HTML object>"
      ]
     },
     "metadata": {},
     "output_type": "display_data"
    }
   ],
   "source": [
    "with wandb.init(project=\"54 best smodel all rdata signed errors\") as run:\n",
    "    data = [[x, y] for (x, y) in zip(all_yaws, all_yaw_errors)]\n",
    "    table = wandb.Table(data=data, columns = [\"truth_degree\", \"error_degree\"])\n",
    "    wandb.log({\"yaw_error_scatter\" : wandb.plot.scatter(table, \"truth_degree\", \"error_degree\", title=\"yaw error vs ground truth\")})\n"
   ]
  },
  {
   "cell_type": "code",
   "execution_count": 16,
   "id": "ae39ea4d",
   "metadata": {},
   "outputs": [
    {
     "data": {
      "text/html": [
       "wandb version 0.12.19 is available!  To upgrade, please run:\n",
       " $ pip install wandb --upgrade"
      ],
      "text/plain": [
       "<IPython.core.display.HTML object>"
      ]
     },
     "metadata": {},
     "output_type": "display_data"
    },
    {
     "data": {
      "text/html": [
       "Tracking run with wandb version 0.12.15"
      ],
      "text/plain": [
       "<IPython.core.display.HTML object>"
      ]
     },
     "metadata": {},
     "output_type": "display_data"
    },
    {
     "data": {
      "text/html": [
       "Run data is saved locally in <code>/project/notebooks/wandb/run-20220629_144953-12zgcp5m</code>"
      ],
      "text/plain": [
       "<IPython.core.display.HTML object>"
      ]
     },
     "metadata": {},
     "output_type": "display_data"
    },
    {
     "data": {
      "text/html": [
       "Syncing run <strong><a href=\"https://wandb.ai/synthesis-ai/54%20best%20smodel%20all%20rdata%20signed%20errors/runs/12zgcp5m\" target=\"_blank\">curious-sound-16</a></strong> to <a href=\"https://wandb.ai/synthesis-ai/54%20best%20smodel%20all%20rdata%20signed%20errors\" target=\"_blank\">Weights & Biases</a> (<a href=\"https://wandb.me/run\" target=\"_blank\">docs</a>)<br/>"
      ],
      "text/plain": [
       "<IPython.core.display.HTML object>"
      ]
     },
     "metadata": {},
     "output_type": "display_data"
    },
    {
     "data": {
      "text/html": [
       "Waiting for W&B process to finish... <strong style=\"color:green\">(success).</strong>"
      ],
      "text/plain": [
       "<IPython.core.display.HTML object>"
      ]
     },
     "metadata": {},
     "output_type": "display_data"
    },
    {
     "data": {
      "application/vnd.jupyter.widget-view+json": {
       "model_id": "",
       "version_major": 2,
       "version_minor": 0
      },
      "text/plain": [
       "VBox(children=(Label(value='1.818 MB of 2.222 MB uploaded (0.000 MB deduped)\\r'), FloatProgress(value=0.818076…"
      ]
     },
     "metadata": {},
     "output_type": "display_data"
    },
    {
     "data": {
      "text/html": [
       "Synced <strong style=\"color:#cdcd00\">curious-sound-16</strong>: <a href=\"https://wandb.ai/synthesis-ai/54%20best%20smodel%20all%20rdata%20signed%20errors/runs/12zgcp5m\" target=\"_blank\">https://wandb.ai/synthesis-ai/54%20best%20smodel%20all%20rdata%20signed%20errors/runs/12zgcp5m</a><br/>Synced 4 W&B file(s), 1 media file(s), 1 artifact file(s) and 0 other file(s)"
      ],
      "text/plain": [
       "<IPython.core.display.HTML object>"
      ]
     },
     "metadata": {},
     "output_type": "display_data"
    },
    {
     "data": {
      "text/html": [
       "Find logs at: <code>./wandb/run-20220629_144953-12zgcp5m/logs</code>"
      ],
      "text/plain": [
       "<IPython.core.display.HTML object>"
      ]
     },
     "metadata": {},
     "output_type": "display_data"
    }
   ],
   "source": [
    "with wandb.init(project=\"54 best smodel all rdata signed errors\") as run:\n",
    "    data = [[x, y] for (x, y) in zip(all_pitches, all_pitch_errors)]\n",
    "    table = wandb.Table(data=data, columns = [\"truth_degree\", \"error_degree\"])\n",
    "    wandb.log({\"pitch_error_scatter\" : wandb.plot.scatter(table, \"truth_degree\", \"error_degree\", title=\"pitch error vs ground truth\")})\n"
   ]
  }
 ],
 "metadata": {
  "kernelspec": {
   "display_name": "Python 3 (ipykernel)",
   "language": "python",
   "name": "python3"
  },
  "language_info": {
   "codemirror_mode": {
    "name": "ipython",
    "version": 3
   },
   "file_extension": ".py",
   "mimetype": "text/x-python",
   "name": "python",
   "nbconvert_exporter": "python",
   "pygments_lexer": "ipython3",
   "version": "3.8.10"
  }
 },
 "nbformat": 4,
 "nbformat_minor": 5
}
