{
 "cells": [
  {
   "cell_type": "code",
   "execution_count": null,
   "id": "662efc9c",
   "metadata": {},
   "outputs": [],
   "source": [
    "import os, argparse\n",
    "import numpy as np\n",
    "import matplotlib.pyplot as plt\n",
    "from datetime import datetime\n",
    "from pytz import timezone\n",
    "import torch\n",
    "import torch.nn as nn\n",
    "from torch.autograd import Variable\n",
    "from torch.utils.data import DataLoader\n",
    "from torchvision import transforms\n",
    "import torch.backends.cudnn as cudnn\n",
    "import torchvision\n",
    "import wandb\n",
    "import datasets\n",
    "# from utils import select_device, natural_keys, gazeto3d, angular, getArch\n",
    "from utils import select_device, natural_keys, gazeto3d, angular, getArch\n",
    "from model import L2CS"
   ]
  },
  {
   "cell_type": "code",
   "execution_count": null,
   "id": "ed29c578",
   "metadata": {},
   "outputs": [],
   "source": [
    "\n",
    "args = argparse.Namespace()\n",
    "args.gazeMpiimage_dir = '/project/data/Image'  # syn data \n",
    "args.gazeMpiilabel_dir = '/project/data/Label'  # syn label\n",
    "args.output = '/project/results/soutput/snapshots/'  # real model\n",
    "args.dataset = 'mpiigaze'\n",
    "args.snapshot='/project/results/soutput/snapshots/'  # real data model\n",
    "args.evalpath = '/project/results/rsoutput/evaluation/'\n",
    "args.gpu_id = '0,1,2,3'\n",
    "args.gpu_id = '0'\n",
    "args.batch_size = 20\n",
    "args.arch = 'ResNet50'\n",
    "args.bins=28\n",
    "args.angle = 180\n",
    "args.bin_width = 4\n",
    "\n",
    "batch_size=args.batch_size\n",
    "arch=args.arch\n",
    "data_set=args.dataset\n",
    "evalpath =args.evalpath\n",
    "snapshot_path = args.snapshot\n",
    "bins=args.bins\n",
    "angle=args.angle\n",
    "bin_width=args.bin_width\n",
    "cudnn.enabled = True\n",
    "gpu = select_device(args.gpu_id, batch_size=args.batch_size)"
   ]
  },
  {
   "cell_type": "code",
   "execution_count": null,
   "id": "d0e11321",
   "metadata": {},
   "outputs": [],
   "source": [
    "transformations = transforms.Compose([\n",
    "    transforms.Resize(448),\n",
    "    transforms.ToTensor(),\n",
    "    transforms.Normalize(\n",
    "        mean=[0.485, 0.456, 0.406],\n",
    "        std=[0.229, 0.224, 0.225]\n",
    "    )\n",
    "])\n",
    "\n",
    "model_used=getArch(arch, bins)  #resnet50 and 28 bins"
   ]
  },
  {
   "cell_type": "code",
   "execution_count": null,
   "id": "6d9f4709",
   "metadata": {},
   "outputs": [],
   "source": []
  },
  {
   "cell_type": "code",
   "execution_count": null,
   "id": "c7434f02",
   "metadata": {
    "scrolled": false
   },
   "outputs": [],
   "source": [
    "%%time\n",
    "\n",
    "pitch_errs = {}\n",
    "yaw_errs = {}\n",
    "\n",
    "pitch_xs = []\n",
    "pitch_ys = []\n",
    "yaw_xs = []\n",
    "yaw_ys =[]\n",
    "\n",
    "for fold in range(15):\n",
    "    print(f\"fold={fold}\")\n",
    "    \n",
    "    now = datetime.utcnow()\n",
    "    now = now.astimezone(timezone('US/Pacific'))\n",
    "    date_format='%m/%d/%Y %H:%M:%S'\n",
    "    now = now.strftime(date_format)\n",
    "    \n",
    "    print(args.gazeMpiilabel_dir)\n",
    "    folder = os.listdir(args.gazeMpiilabel_dir)\n",
    "    folder.sort()  #individual label files\n",
    "    testlabelpathcombined = [os.path.join(args.gazeMpiilabel_dir, j) for j in folder] \n",
    "#     print(testlabelpathcombined)\n",
    "#     print(args.gazeMpiimage_dir)\n",
    "    gaze_dataset=datasets.Mpiigaze(testlabelpathcombined, args.gazeMpiimage_dir, transformations, False, angle, fold)\n",
    "\n",
    "    test_loader = torch.utils.data.DataLoader(\n",
    "        dataset=gaze_dataset,\n",
    "        batch_size=batch_size,\n",
    "        shuffle=False,\n",
    "        num_workers=4,\n",
    "        pin_memory=True)\n",
    "\n",
    "    fold_path = os.path.join(evalpath, 'fold' + f'{fold:0>2}'+'/')  #for evaluation\n",
    "\n",
    "    # list all epochs for testing\n",
    "    folder = os.listdir(os.path.join(snapshot_path, \"fold\" + f'{fold:0>2}'))\n",
    "    folder.sort(key=natural_keys)\n",
    "    folder.pop(-1)  #remove the tensorboard file, now all snapshot files\n",
    "#     print(f\"folder={folder}\")  #contains all the checkpoint files\n",
    "                    \n",
    "\n",
    "    softmax = nn.Softmax(dim=1)\n",
    "#     with open(os.path.join(evalpath, os.path.join(\"fold\"+f'{fold:0>2}', data_set+\".log\")), 'w') as outfile:\n",
    "        \n",
    "    configuration = (f\"\\ntest configuration equal gpu_id={gpu}, batch_size={batch_size}, model_arch={arch}\\n\"\n",
    "                     f\"Start testing dataset={data_set}, FOLD={fold} --{now}---------\")\n",
    "    print(configuration)\n",
    "\n",
    "#     outfile.write(configuration)\n",
    "    epoch_list=[]\n",
    "    avg_MAE=[]\n",
    "    \n",
    "    \n",
    "    for epochs in folder: \n",
    "        x = ''.join(filter(lambda i: i.isdigit(), epochs))\n",
    "        x = int(x)\n",
    "        if x != 39:\n",
    "            continue\n",
    "#         print(f\"epochs={epochs}\")\n",
    "        model=model_used\n",
    "        checkpoint = torch.load(os.path.join(snapshot_path+\"fold\"+f'{fold:0>2}', epochs))\n",
    "#         print(f\"checkpoint={checkpoint}\")\n",
    "        saved_state_dict = checkpoint['model_state_dict']\n",
    "        model= nn.DataParallel(model,device_ids=[0])\n",
    "        model.load_state_dict(saved_state_dict)\n",
    "        model.cuda(gpu)\n",
    "        model.eval()\n",
    "        total = 0\n",
    "        idx_tensor = [idx for idx in range(28)]\n",
    "        idx_tensor = torch.FloatTensor(idx_tensor).cuda(gpu)\n",
    "        avg_error = .0\n",
    "        \n",
    "        print(f\"epochs={epochs}\")\n",
    "        \n",
    "        with torch.no_grad():\n",
    "            for j, (images, labels, cont_labels, name) in enumerate(test_loader):\n",
    "#                 print(f\"name={name}\")\n",
    "                images = Variable(images).cuda(gpu)\n",
    "                total += cont_labels.size(0)\n",
    "\n",
    "                label_pitch = cont_labels[:,0].float()*np.pi/180\n",
    "                label_yaw = cont_labels[:,1].float()*np.pi/180\n",
    "\n",
    "                gaze_pitch, gaze_yaw = model(images)\n",
    "\n",
    "                # Binned predictions\n",
    "                _, pitch_bpred = torch.max(gaze_pitch.data, 1)\n",
    "                _, yaw_bpred = torch.max(gaze_yaw.data, 1)\n",
    "\n",
    "                # Continuous predictions\n",
    "                pitch_predicted = softmax(gaze_pitch)\n",
    "                yaw_predicted = softmax(gaze_yaw)\n",
    "\n",
    "                # mapping from binned (0 to 28) to angels (-42 to 42)                \n",
    "                pitch_predicted = \\\n",
    "                    torch.sum(pitch_predicted * idx_tensor, 1).cpu() * 3 - 42\n",
    "                yaw_predicted = \\\n",
    "                    torch.sum(yaw_predicted * idx_tensor, 1).cpu() * 3 - 42\n",
    "\n",
    "                pitch_predicted = pitch_predicted*np.pi/180\n",
    "                yaw_predicted = yaw_predicted*np.pi/180\n",
    "\n",
    "                ## reverse labels\n",
    "                label_pitch, label_yaw = label_yaw, label_pitch\n",
    "                \n",
    "                pitch_errors = (pitch_predicted - label_pitch)*180/np.pi\n",
    "                tdict = dict(zip(name, pitch_errors))\n",
    "                pitch_errs.update(tdict)\n",
    "                \n",
    "                yaw_errors = (yaw_predicted - label_yaw)*180/np.pi\n",
    "                tdict = dict(zip(name, yaw_errors))\n",
    "                yaw_errs.update(tdict)\n",
    "                \n",
    "                label_pitch = label_pitch*180.0/np.pi\n",
    "                label_yaw = label_yaw*180/np.pi\n",
    "                pitch_xs.extend(label_pitch.numpy())\n",
    "                pitch_ys.extend(pitch_errors.numpy())\n",
    "                yaw_xs.extend(label_yaw.numpy())\n",
    "                yaw_ys.extend(yaw_errors.numpy())\n",
    "        \n",
    "                \n"
   ]
  },
  {
   "cell_type": "code",
   "execution_count": null,
   "id": "065622ef",
   "metadata": {},
   "outputs": [],
   "source": [
    "pitch_errs = dict(sorted(pitch_errs.items(), key=lambda item: item[1], reverse=True))\n",
    "yaw_errs = dict(sorted(yaw_errs.items(), key=lambda item: item[1], reverse=True))"
   ]
  },
  {
   "cell_type": "code",
   "execution_count": null,
   "id": "ee3c04cf",
   "metadata": {},
   "outputs": [],
   "source": [
    "pitch_errors = np.array(list(pitch_errs.values()))\n",
    "yaw_errors = np.array(list(yaw_errs.values()))"
   ]
  },
  {
   "cell_type": "code",
   "execution_count": null,
   "id": "737d5ff6",
   "metadata": {},
   "outputs": [],
   "source": []
  },
  {
   "cell_type": "code",
   "execution_count": null,
   "id": "9c13c306",
   "metadata": {},
   "outputs": [],
   "source": [
    "# results shows only heatmap like figure and zoomed in?\n",
    "# np.histogram(pitch_errors,bins=40)\n",
    "# wandb.init(project=\"syn model real data signed errors reverse label\")\n",
    "# hist = np.histogram(pitch_errors, bins=40)\n",
    "# wandb.log({'pitch_error_histogram': wandb.Histogram(np_histogram=hist,)})"
   ]
  },
  {
   "cell_type": "code",
   "execution_count": null,
   "id": "c67c9b95",
   "metadata": {},
   "outputs": [],
   "source": [
    "# negative numbers got missing and unable to change bins\n",
    "# wandb.init(project=\"syn model real data signed errors reverse label\")\n",
    "# data = [[e] for e in pitch_errors ]\n",
    "# table = wandb.Table(data=data, columns=[\"pitch_errors\"])\n",
    "# wandb.log({'pitch_error_histogram': wandb.plot.histogram(table, \"pitch_errors\",\n",
    "#            title='pitch signed errors')})"
   ]
  },
  {
   "cell_type": "code",
   "execution_count": null,
   "id": "67d107e7",
   "metadata": {},
   "outputs": [],
   "source": [
    "# wandb.init(project=\"syn model real data signed errors reverse label\")\n",
    "# data1 = [[e] for e in yaw_errors ]\n",
    "# table = wandb.Table(data=data1, columns=[\"yaw_errors\"])\n",
    "# wandb.log({'yaw_error_histogram': wandb.plot.histogram(table, \"yaw_errors\",\n",
    "#            title='yaw signed errors', bins=40)})\n"
   ]
  },
  {
   "cell_type": "code",
   "execution_count": null,
   "id": "def6e5e3",
   "metadata": {},
   "outputs": [],
   "source": [
    "with wandb.init(project=\"21 reverse label syn model real data signed errors\") as run:\n",
    "    plt.hist(pitch_errors, bins=40)\n",
    "    plt.title(\"signed pitch error distribution: syn model real data\")\n",
    "    plt.xlabel(\"degree\")\n",
    "    run.log({\"data\":wandb.Image(plt)})\n",
    "#     run.log({\"changed_data\":wandb.Image(plt)})"
   ]
  },
  {
   "cell_type": "code",
   "execution_count": null,
   "id": "b6c7f6e8",
   "metadata": {},
   "outputs": [],
   "source": [
    "with wandb.init(project=\"21 reverse label syn model real data signed errors\") as run:\n",
    "    plt.hist(yaw_errors, bins=40)\n",
    "    plt.title(\"signed yaw error distribution: syn model real data\")\n",
    "    plt.xlabel(\"degree\")\n",
    "    run.log({\"data\":wandb.Image(plt)})"
   ]
  },
  {
   "cell_type": "code",
   "execution_count": null,
   "id": "9d51f62e",
   "metadata": {},
   "outputs": [],
   "source": [
    "with wandb.init(project=\"21 reverse label syn model real data signed errors\") as run:\n",
    "    data = [[x, y] for (x, y) in zip(pitch_xs, pitch_ys)]\n",
    "    table = wandb.Table(data=data, columns = [\"truth_degree\", \"error_degree\"])\n",
    "    wandb.log({\"pitch_error_scatter\" : wandb.plot.scatter(table, \"truth_degree\", \"error_degree\", title=\"pitch error vs ground truth\")})\n",
    "    "
   ]
  },
  {
   "cell_type": "code",
   "execution_count": null,
   "id": "81a6cde7",
   "metadata": {},
   "outputs": [],
   "source": [
    "with wandb.init(project=\"21 reverse label syn model real data signed errors\") as run:\n",
    "    data = [[x, y] for (x, y) in zip(yaw_xs, yaw_ys)]\n",
    "    table = wandb.Table(data=data, columns = [\"truth_degree\", \"error_degree\"])\n",
    "    wandb.log({\"yaw_error_scatter\" : wandb.plot.scatter(table, \"truth_degree\", \"error_degree\", title=\"yaw error vs ground truth\")})\n",
    "    "
   ]
  },
  {
   "cell_type": "code",
   "execution_count": null,
   "id": "a7f4885c",
   "metadata": {},
   "outputs": [],
   "source": [
    "# plt.hist(pitch_errors, bins=40)\n",
    "# plt.title(\"signed pitch error distribution: syn model real data\")\n",
    "# hists = plt.xlabel(\"degree\")"
   ]
  },
  {
   "cell_type": "code",
   "execution_count": null,
   "id": "22a353bf",
   "metadata": {},
   "outputs": [],
   "source": [
    "# plt.hist(yaw_errors, bins=40)\n",
    "# plt.title(\"signed yaw error distribution: syn model real data\")\n",
    "# plt.xlabel(\"degree\")"
   ]
  },
  {
   "cell_type": "code",
   "execution_count": null,
   "id": "ef170f22",
   "metadata": {},
   "outputs": [],
   "source": [
    "# plt.scatter(pitch_xs, pitch_ys)\n",
    "# plt.title(\"signed pitch error vs label\")\n",
    "# plt.xlabel(\"degree (labeled)\")"
   ]
  },
  {
   "cell_type": "code",
   "execution_count": null,
   "id": "10567018",
   "metadata": {},
   "outputs": [],
   "source": [
    "# plt.scatter(yaw_xs, yaw_ys)\n",
    "# plt.title(\"signed yaw error vs label\")\n",
    "# plt.xlabel(\"degree (labeled)\")"
   ]
  }
 ],
 "metadata": {
  "kernelspec": {
   "display_name": "Python 3 (ipykernel)",
   "language": "python",
   "name": "python3"
  },
  "language_info": {
   "codemirror_mode": {
    "name": "ipython",
    "version": 3
   },
   "file_extension": ".py",
   "mimetype": "text/x-python",
   "name": "python",
   "nbconvert_exporter": "python",
   "pygments_lexer": "ipython3",
   "version": "3.8.10"
  }
 },
 "nbformat": 4,
 "nbformat_minor": 5
}
