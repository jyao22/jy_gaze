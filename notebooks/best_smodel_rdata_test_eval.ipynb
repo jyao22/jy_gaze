{
 "cells": [
  {
   "cell_type": "code",
   "execution_count": 1,
   "id": "662efc9c",
   "metadata": {},
   "outputs": [],
   "source": [
    "import os, argparse\n",
    "import numpy as np\n",
    "import matplotlib.pyplot as plt\n",
    "from datetime import datetime\n",
    "from pytz import timezone\n",
    "import torch\n",
    "import torch.nn as nn\n",
    "from torch.autograd import Variable\n",
    "from torch.utils.data import DataLoader\n",
    "from torchvision import transforms\n",
    "import torch.backends.cudnn as cudnn\n",
    "import torchvision\n",
    "import wandb\n",
    "\n",
    "import datasets\n",
    "# from utils import select_device, natural_keys, gazeto3d, angular, getArch\n",
    "from utils import select_device, natural_keys, gazeto3d, angular, getArch\n",
    "from model import L2CS"
   ]
  },
  {
   "cell_type": "code",
   "execution_count": 2,
   "id": "abd3bfac",
   "metadata": {},
   "outputs": [
    {
     "name": "stdout",
     "output_type": "stream",
     "text": [
      "61 61 61 61 61 61 61 61 61 61 61 61 61 61 61 "
     ]
    }
   ],
   "source": [
    "# check if we have the correct number of checkpoint files \n",
    "ppath ='/project/results/output/snapshots/' \n",
    "for fold in range(15):\n",
    "    foldstr = f\"fold{fold:0>2}\"\n",
    "    cpath =os.path.join(ppath, foldstr)\n",
    "    files = os.listdir(cpath)\n",
    "    print(len(files), end=\" \")"
   ]
  },
  {
   "cell_type": "code",
   "execution_count": 4,
   "id": "ed29c578",
   "metadata": {},
   "outputs": [],
   "source": [
    "args = argparse.Namespace()\n",
    "args.gazeMpiimage_dir = '/project/data/Image'  # syn data \n",
    "args.gazeMpiilabel_dir = '/project/data/Label'  # syn label\n",
    "args.output = '/project/results/soutput/snapshots/'  # real model\n",
    "args.dataset = 'mpiigaze'\n",
    "args.snapshot='/project/results/soutput/snapshots/'  # real data model\n",
    "args.evalpath = '/project/results/rsoutput/evaluation/'\n",
    "args.gpu_id = '0,1,2,3'\n",
    "args.gpu_id = '0'\n",
    "args.batch_size = 20\n",
    "args.arch = 'ResNet50'\n",
    "args.bins=28\n",
    "args.angle = 180\n",
    "args.bin_width = 4\n"
   ]
  },
  {
   "cell_type": "code",
   "execution_count": 5,
   "id": "d0e11321",
   "metadata": {},
   "outputs": [],
   "source": [
    "batch_size=args.batch_size\n",
    "arch=args.arch\n",
    "data_set=args.dataset\n",
    "evalpath =args.evalpath\n",
    "snapshot_path = args.snapshot\n",
    "bins=args.bins\n",
    "angle=args.angle\n",
    "bin_width=args.bin_width\n",
    "cudnn.enabled = True"
   ]
  },
  {
   "cell_type": "code",
   "execution_count": 7,
   "id": "0504fda4",
   "metadata": {},
   "outputs": [],
   "source": [
    "gpu = select_device(args.gpu_id, batch_size=args.batch_size)\n",
    "\n",
    "transformations = transforms.Compose([\n",
    "    transforms.Resize(448),\n",
    "    transforms.ToTensor(),\n",
    "    transforms.Normalize(\n",
    "        mean=[0.485, 0.456, 0.406],\n",
    "        std=[0.229, 0.224, 0.225]\n",
    "    )\n",
    "])\n",
    "\n",
    "model_used=getArch(arch, bins)  #resnet50 and 28 bins"
   ]
  },
  {
   "cell_type": "code",
   "execution_count": 11,
   "id": "c7434f02",
   "metadata": {
    "scrolled": false
   },
   "outputs": [
    {
     "name": "stdout",
     "output_type": "stream",
     "text": [
      "fold=0\n",
      "/project/data/Label\n",
      "['/project/data/Label/p00.label', '/project/data/Label/p01.label', '/project/data/Label/p02.label', '/project/data/Label/p03.label', '/project/data/Label/p04.label', '/project/data/Label/p05.label', '/project/data/Label/p06.label', '/project/data/Label/p07.label', '/project/data/Label/p08.label', '/project/data/Label/p09.label', '/project/data/Label/p10.label', '/project/data/Label/p11.label', '/project/data/Label/p12.label', '/project/data/Label/p13.label', '/project/data/Label/p14.label']\n",
      "/project/data/Image\n",
      "0 items removed from dataset that have an angle > 180\n",
      "\n",
      "test configuration equal gpu_id=cuda:0, batch_size=20, model_arch=ResNet50\n",
      "Start testing dataset=mpiigaze, FOLD=0 --06/17/2022 11:05:46---------\n",
      "epochs=epoch_39.pkl\n",
      "fold=1\n",
      "/project/data/Label\n",
      "['/project/data/Label/p00.label', '/project/data/Label/p01.label', '/project/data/Label/p02.label', '/project/data/Label/p03.label', '/project/data/Label/p04.label', '/project/data/Label/p05.label', '/project/data/Label/p06.label', '/project/data/Label/p07.label', '/project/data/Label/p08.label', '/project/data/Label/p09.label', '/project/data/Label/p10.label', '/project/data/Label/p11.label', '/project/data/Label/p12.label', '/project/data/Label/p13.label', '/project/data/Label/p14.label']\n",
      "/project/data/Image\n",
      "0 items removed from dataset that have an angle > 180\n",
      "\n",
      "test configuration equal gpu_id=cuda:0, batch_size=20, model_arch=ResNet50\n",
      "Start testing dataset=mpiigaze, FOLD=1 --06/17/2022 11:06:05---------\n",
      "epochs=epoch_39.pkl\n",
      "fold=2\n",
      "/project/data/Label\n",
      "['/project/data/Label/p00.label', '/project/data/Label/p01.label', '/project/data/Label/p02.label', '/project/data/Label/p03.label', '/project/data/Label/p04.label', '/project/data/Label/p05.label', '/project/data/Label/p06.label', '/project/data/Label/p07.label', '/project/data/Label/p08.label', '/project/data/Label/p09.label', '/project/data/Label/p10.label', '/project/data/Label/p11.label', '/project/data/Label/p12.label', '/project/data/Label/p13.label', '/project/data/Label/p14.label']\n",
      "/project/data/Image\n",
      "0 items removed from dataset that have an angle > 180\n",
      "\n",
      "test configuration equal gpu_id=cuda:0, batch_size=20, model_arch=ResNet50\n",
      "Start testing dataset=mpiigaze, FOLD=2 --06/17/2022 11:06:18---------\n",
      "epochs=epoch_39.pkl\n",
      "fold=3\n",
      "/project/data/Label\n",
      "['/project/data/Label/p00.label', '/project/data/Label/p01.label', '/project/data/Label/p02.label', '/project/data/Label/p03.label', '/project/data/Label/p04.label', '/project/data/Label/p05.label', '/project/data/Label/p06.label', '/project/data/Label/p07.label', '/project/data/Label/p08.label', '/project/data/Label/p09.label', '/project/data/Label/p10.label', '/project/data/Label/p11.label', '/project/data/Label/p12.label', '/project/data/Label/p13.label', '/project/data/Label/p14.label']\n",
      "/project/data/Image\n",
      "0 items removed from dataset that have an angle > 180\n",
      "\n",
      "test configuration equal gpu_id=cuda:0, batch_size=20, model_arch=ResNet50\n",
      "Start testing dataset=mpiigaze, FOLD=3 --06/17/2022 11:06:31---------\n",
      "epochs=epoch_39.pkl\n",
      "fold=4\n",
      "/project/data/Label\n",
      "['/project/data/Label/p00.label', '/project/data/Label/p01.label', '/project/data/Label/p02.label', '/project/data/Label/p03.label', '/project/data/Label/p04.label', '/project/data/Label/p05.label', '/project/data/Label/p06.label', '/project/data/Label/p07.label', '/project/data/Label/p08.label', '/project/data/Label/p09.label', '/project/data/Label/p10.label', '/project/data/Label/p11.label', '/project/data/Label/p12.label', '/project/data/Label/p13.label', '/project/data/Label/p14.label']\n",
      "/project/data/Image\n",
      "0 items removed from dataset that have an angle > 180\n",
      "\n",
      "test configuration equal gpu_id=cuda:0, batch_size=20, model_arch=ResNet50\n",
      "Start testing dataset=mpiigaze, FOLD=4 --06/17/2022 11:06:45---------\n",
      "epochs=epoch_39.pkl\n",
      "fold=5\n",
      "/project/data/Label\n",
      "['/project/data/Label/p00.label', '/project/data/Label/p01.label', '/project/data/Label/p02.label', '/project/data/Label/p03.label', '/project/data/Label/p04.label', '/project/data/Label/p05.label', '/project/data/Label/p06.label', '/project/data/Label/p07.label', '/project/data/Label/p08.label', '/project/data/Label/p09.label', '/project/data/Label/p10.label', '/project/data/Label/p11.label', '/project/data/Label/p12.label', '/project/data/Label/p13.label', '/project/data/Label/p14.label']\n",
      "/project/data/Image\n",
      "0 items removed from dataset that have an angle > 180\n",
      "\n",
      "test configuration equal gpu_id=cuda:0, batch_size=20, model_arch=ResNet50\n",
      "Start testing dataset=mpiigaze, FOLD=5 --06/17/2022 11:06:58---------\n",
      "epochs=epoch_39.pkl\n",
      "fold=6\n",
      "/project/data/Label\n",
      "['/project/data/Label/p00.label', '/project/data/Label/p01.label', '/project/data/Label/p02.label', '/project/data/Label/p03.label', '/project/data/Label/p04.label', '/project/data/Label/p05.label', '/project/data/Label/p06.label', '/project/data/Label/p07.label', '/project/data/Label/p08.label', '/project/data/Label/p09.label', '/project/data/Label/p10.label', '/project/data/Label/p11.label', '/project/data/Label/p12.label', '/project/data/Label/p13.label', '/project/data/Label/p14.label']\n",
      "/project/data/Image\n",
      "0 items removed from dataset that have an angle > 180\n",
      "\n",
      "test configuration equal gpu_id=cuda:0, batch_size=20, model_arch=ResNet50\n",
      "Start testing dataset=mpiigaze, FOLD=6 --06/17/2022 11:07:11---------\n",
      "epochs=epoch_39.pkl\n",
      "fold=7\n",
      "/project/data/Label\n",
      "['/project/data/Label/p00.label', '/project/data/Label/p01.label', '/project/data/Label/p02.label', '/project/data/Label/p03.label', '/project/data/Label/p04.label', '/project/data/Label/p05.label', '/project/data/Label/p06.label', '/project/data/Label/p07.label', '/project/data/Label/p08.label', '/project/data/Label/p09.label', '/project/data/Label/p10.label', '/project/data/Label/p11.label', '/project/data/Label/p12.label', '/project/data/Label/p13.label', '/project/data/Label/p14.label']\n",
      "/project/data/Image\n",
      "0 items removed from dataset that have an angle > 180\n",
      "\n",
      "test configuration equal gpu_id=cuda:0, batch_size=20, model_arch=ResNet50\n",
      "Start testing dataset=mpiigaze, FOLD=7 --06/17/2022 11:07:24---------\n",
      "epochs=epoch_39.pkl\n",
      "fold=8\n",
      "/project/data/Label\n",
      "['/project/data/Label/p00.label', '/project/data/Label/p01.label', '/project/data/Label/p02.label', '/project/data/Label/p03.label', '/project/data/Label/p04.label', '/project/data/Label/p05.label', '/project/data/Label/p06.label', '/project/data/Label/p07.label', '/project/data/Label/p08.label', '/project/data/Label/p09.label', '/project/data/Label/p10.label', '/project/data/Label/p11.label', '/project/data/Label/p12.label', '/project/data/Label/p13.label', '/project/data/Label/p14.label']\n",
      "/project/data/Image\n",
      "0 items removed from dataset that have an angle > 180\n",
      "\n",
      "test configuration equal gpu_id=cuda:0, batch_size=20, model_arch=ResNet50\n",
      "Start testing dataset=mpiigaze, FOLD=8 --06/17/2022 11:07:37---------\n",
      "epochs=epoch_39.pkl\n",
      "fold=9\n",
      "/project/data/Label\n",
      "['/project/data/Label/p00.label', '/project/data/Label/p01.label', '/project/data/Label/p02.label', '/project/data/Label/p03.label', '/project/data/Label/p04.label', '/project/data/Label/p05.label', '/project/data/Label/p06.label', '/project/data/Label/p07.label', '/project/data/Label/p08.label', '/project/data/Label/p09.label', '/project/data/Label/p10.label', '/project/data/Label/p11.label', '/project/data/Label/p12.label', '/project/data/Label/p13.label', '/project/data/Label/p14.label']\n",
      "/project/data/Image\n",
      "0 items removed from dataset that have an angle > 180\n",
      "\n",
      "test configuration equal gpu_id=cuda:0, batch_size=20, model_arch=ResNet50\n",
      "Start testing dataset=mpiigaze, FOLD=9 --06/17/2022 11:07:51---------\n",
      "epochs=epoch_39.pkl\n",
      "fold=10\n",
      "/project/data/Label\n",
      "['/project/data/Label/p00.label', '/project/data/Label/p01.label', '/project/data/Label/p02.label', '/project/data/Label/p03.label', '/project/data/Label/p04.label', '/project/data/Label/p05.label', '/project/data/Label/p06.label', '/project/data/Label/p07.label', '/project/data/Label/p08.label', '/project/data/Label/p09.label', '/project/data/Label/p10.label', '/project/data/Label/p11.label', '/project/data/Label/p12.label', '/project/data/Label/p13.label', '/project/data/Label/p14.label']\n",
      "/project/data/Image\n",
      "0 items removed from dataset that have an angle > 180\n",
      "\n",
      "test configuration equal gpu_id=cuda:0, batch_size=20, model_arch=ResNet50\n",
      "Start testing dataset=mpiigaze, FOLD=10 --06/17/2022 11:08:04---------\n"
     ]
    },
    {
     "name": "stdout",
     "output_type": "stream",
     "text": [
      "epochs=epoch_39.pkl\n",
      "fold=11\n",
      "/project/data/Label\n",
      "['/project/data/Label/p00.label', '/project/data/Label/p01.label', '/project/data/Label/p02.label', '/project/data/Label/p03.label', '/project/data/Label/p04.label', '/project/data/Label/p05.label', '/project/data/Label/p06.label', '/project/data/Label/p07.label', '/project/data/Label/p08.label', '/project/data/Label/p09.label', '/project/data/Label/p10.label', '/project/data/Label/p11.label', '/project/data/Label/p12.label', '/project/data/Label/p13.label', '/project/data/Label/p14.label']\n",
      "/project/data/Image\n",
      "0 items removed from dataset that have an angle > 180\n",
      "\n",
      "test configuration equal gpu_id=cuda:0, batch_size=20, model_arch=ResNet50\n",
      "Start testing dataset=mpiigaze, FOLD=11 --06/17/2022 11:08:17---------\n",
      "epochs=epoch_39.pkl\n",
      "fold=12\n",
      "/project/data/Label\n",
      "['/project/data/Label/p00.label', '/project/data/Label/p01.label', '/project/data/Label/p02.label', '/project/data/Label/p03.label', '/project/data/Label/p04.label', '/project/data/Label/p05.label', '/project/data/Label/p06.label', '/project/data/Label/p07.label', '/project/data/Label/p08.label', '/project/data/Label/p09.label', '/project/data/Label/p10.label', '/project/data/Label/p11.label', '/project/data/Label/p12.label', '/project/data/Label/p13.label', '/project/data/Label/p14.label']\n",
      "/project/data/Image\n",
      "0 items removed from dataset that have an angle > 180\n",
      "\n",
      "test configuration equal gpu_id=cuda:0, batch_size=20, model_arch=ResNet50\n",
      "Start testing dataset=mpiigaze, FOLD=12 --06/17/2022 11:08:30---------\n",
      "epochs=epoch_39.pkl\n",
      "fold=13\n",
      "/project/data/Label\n",
      "['/project/data/Label/p00.label', '/project/data/Label/p01.label', '/project/data/Label/p02.label', '/project/data/Label/p03.label', '/project/data/Label/p04.label', '/project/data/Label/p05.label', '/project/data/Label/p06.label', '/project/data/Label/p07.label', '/project/data/Label/p08.label', '/project/data/Label/p09.label', '/project/data/Label/p10.label', '/project/data/Label/p11.label', '/project/data/Label/p12.label', '/project/data/Label/p13.label', '/project/data/Label/p14.label']\n",
      "/project/data/Image\n",
      "0 items removed from dataset that have an angle > 180\n",
      "\n",
      "test configuration equal gpu_id=cuda:0, batch_size=20, model_arch=ResNet50\n",
      "Start testing dataset=mpiigaze, FOLD=13 --06/17/2022 11:08:44---------\n",
      "epochs=epoch_39.pkl\n",
      "fold=14\n",
      "/project/data/Label\n",
      "['/project/data/Label/p00.label', '/project/data/Label/p01.label', '/project/data/Label/p02.label', '/project/data/Label/p03.label', '/project/data/Label/p04.label', '/project/data/Label/p05.label', '/project/data/Label/p06.label', '/project/data/Label/p07.label', '/project/data/Label/p08.label', '/project/data/Label/p09.label', '/project/data/Label/p10.label', '/project/data/Label/p11.label', '/project/data/Label/p12.label', '/project/data/Label/p13.label', '/project/data/Label/p14.label']\n",
      "/project/data/Image\n",
      "0 items removed from dataset that have an angle > 180\n",
      "\n",
      "test configuration equal gpu_id=cuda:0, batch_size=20, model_arch=ResNet50\n",
      "Start testing dataset=mpiigaze, FOLD=14 --06/17/2022 11:08:57---------\n",
      "epochs=epoch_39.pkl\n",
      "CPU times: user 2min 59s, sys: 1min 9s, total: 4min 8s\n",
      "Wall time: 3min 24s\n"
     ]
    }
   ],
   "source": [
    "%%time\n",
    "\n",
    "ims_errs = {}\n",
    "\n",
    "for fold in range(15):\n",
    "    print(f\"fold={fold}\")\n",
    "    \n",
    "    now = datetime.utcnow()\n",
    "    now = now.astimezone(timezone('US/Pacific'))\n",
    "    date_format='%m/%d/%Y %H:%M:%S'\n",
    "    now = now.strftime(date_format)\n",
    "    \n",
    "    print(args.gazeMpiilabel_dir)\n",
    "    folder = os.listdir(args.gazeMpiilabel_dir)\n",
    "    folder.sort()  #individual label files\n",
    "    testlabelpathcombined = [os.path.join(args.gazeMpiilabel_dir, j) for j in folder] \n",
    "#     print(testlabelpathcombined)\n",
    "#     print(args.gazeMpiimage_dir)\n",
    "    gaze_dataset=datasets.Mpiigaze(testlabelpathcombined, args.gazeMpiimage_dir, transformations, False, angle, fold)\n",
    "\n",
    "    test_loader = torch.utils.data.DataLoader(\n",
    "        dataset=gaze_dataset,\n",
    "        batch_size=batch_size,\n",
    "        shuffle=False,\n",
    "        num_workers=4,\n",
    "        pin_memory=True)\n",
    "\n",
    "    fold_path = os.path.join(evalpath, 'fold' + f'{fold:0>2}'+'/')  #for evaluation\n",
    "#     print(f\"fold_path is {fold_path}\")\n",
    "#     if not os.path.exists(fold_path):\n",
    "#         os.makedirs(fold_path)\n",
    "\n",
    "#     if not os.path.exists(os.path.join(evalpath, f\"fold\"+str(fold))):\n",
    "#         os.makedirs(os.path.join(evalpath, f\"fold\"+str(fold)))\n",
    "\n",
    "    # list all epochs for testing\n",
    "    folder = os.listdir(os.path.join(snapshot_path, \"fold\" + f'{fold:0>2}'))\n",
    "    folder.sort(key=natural_keys)\n",
    "    folder.pop(-1)  #remove the tensorboard file, now all snapshot files\n",
    "#     print(f\"folder={folder}\")  #contains all the checkpoint files\n",
    "                    \n",
    "\n",
    "    softmax = nn.Softmax(dim=1)\n",
    "#     with open(os.path.join(evalpath, os.path.join(\"fold\"+f'{fold:0>2}', data_set+\".log\")), 'w') as outfile:\n",
    "        \n",
    "    configuration = (f\"\\ntest configuration equal gpu_id={gpu}, batch_size={batch_size}, model_arch={arch}\\n\"\n",
    "                     f\"Start testing dataset={data_set}, FOLD={fold} --{now}---------\")\n",
    "    print(configuration)\n",
    "\n",
    "#     outfile.write(configuration)\n",
    "    epoch_list=[]\n",
    "    avg_MAE=[]\n",
    "    for epochs in folder: \n",
    "        x = ''.join(filter(lambda i: i.isdigit(), epochs))\n",
    "        x = int(x)\n",
    "        if x != 39:\n",
    "            continue\n",
    "#         print(f\"epochs={epochs}\")\n",
    "        model=model_used\n",
    "        checkpoint = torch.load(os.path.join(snapshot_path+\"fold\"+f'{fold:0>2}', epochs))\n",
    "#         print(f\"checkpoint={checkpoint}\")\n",
    "        saved_state_dict = checkpoint['model_state_dict']\n",
    "        model= nn.DataParallel(model,device_ids=[0])\n",
    "        model.load_state_dict(saved_state_dict)\n",
    "        model.cuda(gpu)\n",
    "        model.eval()\n",
    "        total = 0\n",
    "        idx_tensor = [idx for idx in range(28)]\n",
    "        idx_tensor = torch.FloatTensor(idx_tensor).cuda(gpu)\n",
    "        avg_error = .0\n",
    "        \n",
    "        print(f\"epochs={epochs}\")\n",
    "        \n",
    "        with torch.no_grad():\n",
    "            for j, (images, labels, cont_labels, name) in enumerate(test_loader):\n",
    "#                 print(f\"name={name}\")\n",
    "                images = Variable(images).cuda(gpu)\n",
    "                total += cont_labels.size(0)\n",
    "\n",
    "                label_pitch = cont_labels[:,0].float()*np.pi/180\n",
    "                label_yaw = cont_labels[:,1].float()*np.pi/180\n",
    "\n",
    "                gaze_pitch, gaze_yaw = model(images)\n",
    "\n",
    "                # Binned predictions\n",
    "                _, pitch_bpred = torch.max(gaze_pitch.data, 1)\n",
    "                _, yaw_bpred = torch.max(gaze_yaw.data, 1)\n",
    "\n",
    "                # Continuous predictions\n",
    "                pitch_predicted = softmax(gaze_pitch)\n",
    "                yaw_predicted = softmax(gaze_yaw)\n",
    "\n",
    "                # mapping from binned (0 to 28) to angels (-42 to 42)                \n",
    "                pitch_predicted = \\\n",
    "                    torch.sum(pitch_predicted * idx_tensor, 1).cpu() * 3 - 42\n",
    "                yaw_predicted = \\\n",
    "                    torch.sum(yaw_predicted * idx_tensor, 1).cpu() * 3 - 42\n",
    "\n",
    "                pitch_predicted = pitch_predicted*np.pi/180\n",
    "                yaw_predicted = yaw_predicted*np.pi/180\n",
    "\n",
    "#                 print(f\"name={name}\")\n",
    "                errors = []\n",
    "                for idx, (p,y,pl,yl) in enumerate(zip(pitch_predicted, yaw_predicted, label_pitch, label_yaw)):\n",
    "                    angular_error = angular(gazeto3d([p,y]), gazeto3d([pl,yl]))\n",
    "#                         print(f\"type OF angular error {type(angular_error)}\")\n",
    "#                     print(f\"angular error={angular_error}\")\n",
    "                    avg_error += angular_error\n",
    "                    angular_error = angular_error.item()  #numpy float to float\n",
    "                    errors.append(angular_error)\n",
    "                tdict = dict(zip(name, errors))\n",
    "                ims_errs.update(tdict)\n",
    "        epoch_list.append(x)"
   ]
  },
  {
   "cell_type": "code",
   "execution_count": 12,
   "id": "065622ef",
   "metadata": {},
   "outputs": [],
   "source": [
    "images_errors = dict(sorted(ims_errs.items(), key=lambda item: item[1], reverse=True))"
   ]
  },
  {
   "cell_type": "code",
   "execution_count": 13,
   "id": "211ce764",
   "metadata": {},
   "outputs": [
    {
     "data": {
      "text/plain": [
       "5.0"
      ]
     },
     "execution_count": 13,
     "metadata": {},
     "output_type": "execute_result"
    }
   ],
   "source": [
    "20*15/60"
   ]
  },
  {
   "cell_type": "code",
   "execution_count": 14,
   "id": "7fcabdd7",
   "metadata": {},
   "outputs": [
    {
     "name": "stdout",
     "output_type": "stream",
     "text": [
      "<class 'str'> p10/face/2584.jpg\n",
      "<class 'float'> 48.97344562592427\n",
      "<class 'str'> p08/face/1749.jpg\n",
      "<class 'float'> 41.55213714349922\n",
      "<class 'str'> p08/face/2264.jpg\n",
      "<class 'float'> 41.282525148702625\n",
      "<class 'str'> p10/face/1733.jpg\n",
      "<class 'float'> 40.923377060470294\n"
     ]
    }
   ],
   "source": [
    "ix=0\n",
    "for k in images_errors:\n",
    "    if ix >3:\n",
    "        break\n",
    "    print(type(k), k)\n",
    "    print(type(images_errors[k]), images_errors[k])\n",
    "    ix += 1"
   ]
  },
  {
   "cell_type": "code",
   "execution_count": 15,
   "id": "ee3c04cf",
   "metadata": {},
   "outputs": [],
   "source": [
    "errors = np.array(list(images_errors.values()))"
   ]
  },
  {
   "cell_type": "code",
   "execution_count": 21,
   "id": "a7f4885c",
   "metadata": {},
   "outputs": [
    {
     "data": {
      "text/plain": [
       "Text(0.5, 0, 'degree')"
      ]
     },
     "execution_count": 21,
     "metadata": {},
     "output_type": "execute_result"
    },
    {
     "data": {
      "image/png": "[encoded data removed]",
      "text/plain": [
       "<Figure size 432x288 with 1 Axes>"
      ]
     },
     "metadata": {
      "needs_background": "light"
     },
     "output_type": "display_data"
    }
   ],
   "source": [
    "plt.hist(errors, bins=40)\n",
    "plt.title(\"error distribution: syn model real data\")\n",
    "plt.xlabel(\"degree\")"
   ]
  },
  {
   "cell_type": "code",
   "execution_count": 17,
   "id": "9d6d7709",
   "metadata": {},
   "outputs": [
    {
     "name": "stdout",
     "output_type": "stream",
     "text": [
      "14.106722314182216\n"
     ]
    }
   ],
   "source": [
    "mean_error = errors.mean()\n",
    "print(mean_error)"
   ]
  },
  {
   "cell_type": "code",
   "execution_count": 18,
   "id": "0872f6ce",
   "metadata": {},
   "outputs": [
    {
     "name": "stdout",
     "output_type": "stream",
     "text": [
      "p10/face/2584.jpg 48.97344562592427\n",
      "p08/face/1749.jpg 41.55213714349922\n",
      "p08/face/2264.jpg 41.282525148702625\n",
      "p10/face/1733.jpg 40.923377060470294\n",
      "p10/face/2683.jpg 40.3679560744306\n",
      "p05/face/2073.jpg 38.71083030264406\n",
      "p10/face/1776.jpg 38.25028925047584\n",
      "p07/face/2181.jpg 37.71612064676238\n",
      "p02/face/1384.jpg 37.6712621623118\n",
      "p08/face/1839.jpg 36.932030065207414\n",
      "p03/face/911.jpg 36.91308960073547\n",
      "p03/face/93.jpg 36.43789330804177\n",
      "p10/face/1064.jpg 36.08756394846143\n",
      "p06/face/1792.jpg 36.01722732785607\n",
      "p07/face/2424.jpg 35.80745247292433\n",
      "p08/face/554.jpg 35.59480946566982\n",
      "p04/face/2969.jpg 35.50168276071368\n",
      "p08/face/1843.jpg 35.49906712767133\n",
      "p08/face/1637.jpg 35.094083237602945\n",
      "p04/face/2482.jpg 34.9995377208971\n",
      "p08/face/1882.jpg 34.95584291307669\n"
     ]
    }
   ],
   "source": [
    "ix = 0\n",
    "for k, v in images_errors.items():\n",
    "    if ix >20:\n",
    "        break\n",
    "    print(k, v)\n",
    "    ix += 1"
   ]
  },
  {
   "cell_type": "code",
   "execution_count": 22,
   "id": "c5fd60e5",
   "metadata": {},
   "outputs": [
    {
     "data": {
      "text/plain": [
       "45000"
      ]
     },
     "execution_count": 22,
     "metadata": {},
     "output_type": "execute_result"
    }
   ],
   "source": [
    "len(images_errors)"
   ]
  },
  {
   "cell_type": "code",
   "execution_count": 23,
   "id": "bd22731a",
   "metadata": {},
   "outputs": [
    {
     "name": "stdout",
     "output_type": "stream",
     "text": [
      "p10/face/2584.jpg 48.97344562592427\n",
      "p08/face/1749.jpg 41.55213714349922\n",
      "p08/face/2264.jpg 41.282525148702625\n",
      "p10/face/1733.jpg 40.923377060470294\n",
      "p10/face/2683.jpg 40.3679560744306\n",
      "p05/face/2073.jpg 38.71083030264406\n",
      "p10/face/1776.jpg 38.25028925047584\n",
      "p07/face/2181.jpg 37.71612064676238\n",
      "p02/face/1384.jpg 37.6712621623118\n",
      "p08/face/1839.jpg 36.932030065207414\n",
      "p03/face/911.jpg 36.91308960073547\n",
      "p03/face/93.jpg 36.43789330804177\n",
      "p10/face/1064.jpg 36.08756394846143\n",
      "p06/face/1792.jpg 36.01722732785607\n",
      "p07/face/2424.jpg 35.80745247292433\n",
      "p08/face/554.jpg 35.59480946566982\n",
      "p04/face/2969.jpg 35.50168276071368\n",
      "p08/face/1843.jpg 35.49906712767133\n",
      "p08/face/1637.jpg 35.094083237602945\n",
      "p04/face/2482.jpg 34.9995377208971\n",
      "p08/face/1882.jpg 34.95584291307669\n"
     ]
    }
   ],
   "source": [
    "ix = 0\n",
    "for k, v in images_errors.items():\n",
    "    if ix >20:\n",
    "        break\n",
    "    print(k, v)\n",
    "    ix += 1"
   ]
  },
  {
   "cell_type": "code",
   "execution_count": 26,
   "id": "d561f4f1",
   "metadata": {},
   "outputs": [
    {
     "name": "stdout",
     "output_type": "stream",
     "text": [
      "p03/face/495.jpg 0.4140718492294549\n",
      "p13/face/711.jpg 0.4103402850581999\n",
      "p13/face/2623.jpg 0.4023572317430559\n",
      "p14/face/2583.jpg 0.3984362865547407\n",
      "p07/face/1502.jpg 0.39691274795764764\n",
      "p03/face/2823.jpg 0.3905926890263135\n",
      "p12/face/1169.jpg 0.3635561994070233\n",
      "p00/face/1379.jpg 0.3497070933133568\n",
      "p14/face/648.jpg 0.33795465326370144\n",
      "p00/face/2698.jpg 0.3210336157079494\n",
      "p02/face/849.jpg 0.3191513647263278\n",
      "p06/face/1319.jpg 0.3188226212047413\n",
      "p09/face/2701.jpg 0.27614662709741866\n",
      "p10/face/1394.jpg 0.25930844905319345\n",
      "p10/face/1205.jpg 0.24080743758116976\n",
      "p07/face/2542.jpg 0.15721851442286455\n",
      "p05/face/883.jpg 0.15147917848628337\n",
      "p06/face/1771.jpg 0.1480399607113712\n",
      "p00/face/150.jpg 0.1312691368755004\n",
      "p12/face/668.jpg 0.11127899985979915\n",
      "p02/face/2050.jpg 0.07329438786876252\n"
     ]
    }
   ],
   "source": [
    "ix = 0\n",
    "for k, v in images_errors.items():\n",
    "    ix += 1\n",
    "    if ix <44980:\n",
    "        continue\n",
    "    print(k, v)\n",
    "    "
   ]
  },
  {
   "cell_type": "code",
   "execution_count": 27,
   "id": "eb9e6165",
   "metadata": {},
   "outputs": [
    {
     "name": "stdout",
     "output_type": "stream",
     "text": [
      "p04/face/1193.jpg 14.08724462916532\n",
      "p01/face/530.jpg 14.086394733282408\n",
      "p03/face/2270.jpg 14.085951417698213\n",
      "p10/face/1396.jpg 14.085055660319535\n",
      "p14/face/1431.jpg 14.084846335711944\n",
      "p03/face/1549.jpg 14.08482724414551\n",
      "p09/face/989.jpg 14.084373943818264\n",
      "p09/face/1088.jpg 14.08421368526111\n",
      "p05/face/1383.jpg 14.083858016583047\n",
      "p11/face/292.jpg 14.083567054233383\n",
      "p14/face/861.jpg 14.083079985953518\n",
      "p02/face/872.jpg 14.081976879563333\n",
      "p09/face/275.jpg 14.081453302449894\n",
      "p10/face/1307.jpg 14.081335849066832\n",
      "p06/face/69.jpg 14.081314339458558\n",
      "p14/face/2991.jpg 14.080152495309724\n",
      "p11/face/769.jpg 14.079666513896832\n",
      "p01/face/2373.jpg 14.079624384157766\n",
      "p08/face/2293.jpg 14.079370709443582\n",
      "p11/face/728.jpg 14.079369249195265\n",
      "p07/face/2847.jpg 14.079304551506421\n"
     ]
    }
   ],
   "source": [
    "ix = 0\n",
    "for k, v in images_errors.items():\n",
    "    ix += 1\n",
    "    if ix <22480 or ix >22500:\n",
    "        continue\n",
    "    print(k, v)"
   ]
  }
 ],
 "metadata": {
  "kernelspec": {
   "display_name": "Python 3 (ipykernel)",
   "language": "python",
   "name": "python3"
  },
  "language_info": {
   "codemirror_mode": {
    "name": "ipython",
    "version": 3
   },
   "file_extension": ".py",
   "mimetype": "text/x-python",
   "name": "python",
   "nbconvert_exporter": "python",
   "pygments_lexer": "ipython3",
   "version": "3.8.10"
  }
 },
 "nbformat": 4,
 "nbformat_minor": 5
}
