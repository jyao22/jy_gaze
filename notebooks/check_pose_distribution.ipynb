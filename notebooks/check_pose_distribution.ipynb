{
 "cells": [
  {
   "cell_type": "code",
   "execution_count": 17,
   "id": "1708e58e",
   "metadata": {},
   "outputs": [],
   "source": [
    "import os\n",
    "import numpy as np\n",
    "import glob\n",
    "import matplotlib.pyplot as plt\n",
    "# import seaborn as sns"
   ]
  },
  {
   "cell_type": "code",
   "execution_count": 9,
   "id": "6bdd9708",
   "metadata": {},
   "outputs": [],
   "source": [
    "label_dir = \"../data/Label\""
   ]
  },
  {
   "cell_type": "code",
   "execution_count": 10,
   "id": "55301fc1",
   "metadata": {},
   "outputs": [
    {
     "name": "stdout",
     "output_type": "stream",
     "text": [
      "['p02.label', 'p11.label', 'p06.label', 'p04.label', 'p13.label', 'p08.label', 'p00.label', 'p03.label', 'p12.label', 'p07.label', 'p05.label', 'p14.label', 'p09.label', 'p10.label', 'p01.label']\n"
     ]
    }
   ],
   "source": [
    "dirs = os.listdir(label_dir)\n",
    "print(dirs)"
   ]
  },
  {
   "cell_type": "code",
   "execution_count": 11,
   "id": "f047e5ea",
   "metadata": {},
   "outputs": [
    {
     "name": "stdout",
     "output_type": "stream",
     "text": [
      "['../data/Label/p00.label', '../data/Label/p01.label', '../data/Label/p02.label', '../data/Label/p03.label', '../data/Label/p04.label', '../data/Label/p05.label', '../data/Label/p06.label', '../data/Label/p07.label', '../data/Label/p08.label', '../data/Label/p09.label', '../data/Label/p10.label', '../data/Label/p11.label', '../data/Label/p12.label', '../data/Label/p13.label', '../data/Label/p14.label']\n"
     ]
    }
   ],
   "source": [
    "label_files = glob.glob(label_dir+'/p*')\n",
    "label_files.sort()\n",
    "print(label_files)"
   ]
  },
  {
   "cell_type": "code",
   "execution_count": 12,
   "id": "e2a7544e",
   "metadata": {},
   "outputs": [
    {
     "name": "stdout",
     "output_type": "stream",
     "text": [
      "Face Left Right Origin WhichEye 3DGaze 3DHead 2DGaze 2DHead Rmat Smat GazeOrigin\n",
      "\n",
      "Face Left Right Origin WhichEye 3DGaze 3DHead 2DGaze 2DHead Rmat Smat GazeOrigin\n",
      "\n",
      "Face Left Right Origin WhichEye 3DGaze 3DHead 2DGaze 2DHead Rmat Smat GazeOrigin\n",
      "\n",
      "Face Left Right Origin WhichEye 3DGaze 3DHead 2DGaze 2DHead Rmat Smat GazeOrigin\n",
      "\n",
      "Face Left Right Origin WhichEye 3DGaze 3DHead 2DGaze 2DHead Rmat Smat GazeOrigin\n",
      "\n",
      "Face Left Right Origin WhichEye 3DGaze 3DHead 2DGaze 2DHead Rmat Smat GazeOrigin\n",
      "\n",
      "Face Left Right Origin WhichEye 3DGaze 3DHead 2DGaze 2DHead Rmat Smat GazeOrigin\n",
      "\n",
      "Face Left Right Origin WhichEye 3DGaze 3DHead 2DGaze 2DHead Rmat Smat GazeOrigin\n",
      "\n",
      "Face Left Right Origin WhichEye 3DGaze 3DHead 2DGaze 2DHead Rmat Smat GazeOrigin\n",
      "\n",
      "Face Left Right Origin WhichEye 3DGaze 3DHead 2DGaze 2DHead Rmat Smat GazeOrigin\n",
      "\n",
      "Face Left Right Origin WhichEye 3DGaze 3DHead 2DGaze 2DHead Rmat Smat GazeOrigin\n",
      "\n",
      "Face Left Right Origin WhichEye 3DGaze 3DHead 2DGaze 2DHead Rmat Smat GazeOrigin\n",
      "\n",
      "Face Left Right Origin WhichEye 3DGaze 3DHead 2DGaze 2DHead Rmat Smat GazeOrigin\n",
      "\n",
      "Face Left Right Origin WhichEye 3DGaze 3DHead 2DGaze 2DHead Rmat Smat GazeOrigin\n",
      "\n",
      "Face Left Right Origin WhichEye 3DGaze 3DHead 2DGaze 2DHead Rmat Smat GazeOrigin\n",
      "\n"
     ]
    }
   ],
   "source": [
    "pitches = []\n",
    "yaws = []\n",
    "for lfile in label_files:\n",
    "    with open(lfile) as f:\n",
    "        lines = list(f)\n",
    "        print(lines[0])\n",
    "        for line in lines[1:]:\n",
    "            line = line.strip().split(\" \")\n",
    "            gaze2d = line[8]\n",
    "            label = np.array(gaze2d.split(\",\")).astype(\"float\")\n",
    "#             label = torch.from_numpy(label).type(torch.FloatTensor)\n",
    "            pitch = label[0]* 180 / np.pi\n",
    "            yaw = label[1]* 180 / np.pi\n",
    "            pitches.append(pitch)\n",
    "            yaws.append(yaw)\n",
    "#             print(pitch, yaw)"
   ]
  },
  {
   "cell_type": "code",
   "execution_count": 13,
   "id": "968244bb",
   "metadata": {},
   "outputs": [],
   "source": [
    "pitches = np.array(pitches)\n",
    "yaws = np.array(yaws)"
   ]
  },
  {
   "cell_type": "code",
   "execution_count": 19,
   "id": "adff517b",
   "metadata": {},
   "outputs": [
    {
     "data": {
      "text/plain": [
       "Text(0.5, 0, 'degree')"
      ]
     },
     "execution_count": 19,
     "metadata": {},
     "output_type": "execute_result"
    },
    {
     "data": {
      "image/png": "[encoded data removed]",
      "text/plain": [
       "<Figure size 432x288 with 1 Axes>"
      ]
     },
     "metadata": {
      "needs_background": "light"
     },
     "output_type": "display_data"
    }
   ],
   "source": [
    "plt.hist(pitches,bins=50)\n",
    "plt.title(\"pose pitch distribution\")\n",
    "plt.xlabel(\"degree\")"
   ]
  },
  {
   "cell_type": "code",
   "execution_count": 20,
   "id": "7f340dd0",
   "metadata": {},
   "outputs": [
    {
     "data": {
      "text/plain": [
       "Text(0.5, 0, 'degree')"
      ]
     },
     "execution_count": 20,
     "metadata": {},
     "output_type": "execute_result"
    },
    {
     "data": {
      "image/png": "[encoded data removed]",
      "text/plain": [
       "<Figure size 432x288 with 1 Axes>"
      ]
     },
     "metadata": {
      "needs_background": "light"
     },
     "output_type": "display_data"
    }
   ],
   "source": [
    "plt.hist(yaws,bins=50)\n",
    "plt.title(\"pose yaw distribution\")\n",
    "plt.xlabel(\"degree\")"
   ]
  },
  {
   "cell_type": "code",
   "execution_count": null,
   "id": "99a337d1",
   "metadata": {},
   "outputs": [],
   "source": []
  },
  {
   "cell_type": "code",
   "execution_count": 14,
   "id": "f2fcb6b7",
   "metadata": {},
   "outputs": [
    {
     "ename": "NameError",
     "evalue": "name 'sns' is not defined",
     "output_type": "error",
     "traceback": [
      "\u001b[0;31m---------------------------------------------------------------------------\u001b[0m",
      "\u001b[0;31mNameError\u001b[0m                                 Traceback (most recent call last)",
      "Input \u001b[0;32mIn [14]\u001b[0m, in \u001b[0;36m<cell line: 1>\u001b[0;34m()\u001b[0m\n\u001b[0;32m----> 1\u001b[0m \u001b[43msns\u001b[49m\u001b[38;5;241m.\u001b[39mset_theme()\n\u001b[1;32m      2\u001b[0m np\u001b[38;5;241m.\u001b[39mrandom\u001b[38;5;241m.\u001b[39mseed(\u001b[38;5;241m0\u001b[39m)\n\u001b[1;32m      3\u001b[0m ax \u001b[38;5;241m=\u001b[39m sns\u001b[38;5;241m.\u001b[39mdistplot(pitches)\n",
      "\u001b[0;31mNameError\u001b[0m: name 'sns' is not defined"
     ]
    }
   ],
   "source": [
    "sns.set_theme()\n",
    "np.random.seed(0)\n",
    "ax = sns.distplot(pitches)"
   ]
  },
  {
   "cell_type": "code",
   "execution_count": null,
   "id": "cd070903",
   "metadata": {},
   "outputs": [],
   "source": [
    "ax = sns.distplot(yaws)"
   ]
  },
  {
   "cell_type": "code",
   "execution_count": null,
   "id": "a3bdc30c",
   "metadata": {},
   "outputs": [],
   "source": [
    "\n",
    "print(sorted(pitches)[0:5], sorted(pitches)[-5:])\n",
    "print(f\"total number of pitch values: {len(pitches)}\")\n",
    "print(pitches.mean())"
   ]
  },
  {
   "cell_type": "code",
   "execution_count": null,
   "id": "9d29bd3d",
   "metadata": {},
   "outputs": [],
   "source": [
    "print(sorted(yaws)[0:5])\n",
    "print(sorted(yaws)[-5:])\n",
    "print(f\"total number of yaw values: {len(yaws)}\")\n",
    "print(yaws.mean())"
   ]
  }
 ],
 "metadata": {
  "kernelspec": {
   "display_name": "Python 3 (ipykernel)",
   "language": "python",
   "name": "python3"
  },
  "language_info": {
   "codemirror_mode": {
    "name": "ipython",
    "version": 3
   },
   "file_extension": ".py",
   "mimetype": "text/x-python",
   "name": "python",
   "nbconvert_exporter": "python",
   "pygments_lexer": "ipython3",
   "version": "3.8.10"
  }
 },
 "nbformat": 4,
 "nbformat_minor": 5
}
