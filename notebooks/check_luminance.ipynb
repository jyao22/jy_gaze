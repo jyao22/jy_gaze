{
 "cells": [
  {
   "cell_type": "code",
   "execution_count": 7,
   "id": "1708e58e",
   "metadata": {},
   "outputs": [],
   "source": [
    "import os\n",
    "import sys\n",
    "import numpy as np\n",
    "import glob\n",
    "# import seaborn as sns\n",
    "from PIL import Image\n",
    "from PIL import ImageStat\n",
    "from pathlib import Path\n",
    "import matplotlib.pyplot as plt"
   ]
  },
  {
   "cell_type": "code",
   "execution_count": 8,
   "id": "8b6849b0",
   "metadata": {},
   "outputs": [],
   "source": [
    "# def calculate_brightness(image):\n",
    "#     greyscale_image = image.convert('L')\n",
    "#     histogram = greyscale_image.histogram()\n",
    "#     pixels = sum(histogram)\n",
    "#     brightness = scale = len(histogram)\n",
    "\n",
    "#     for index in range(0, scale):\n",
    "#         ratio = histogram[index] / pixels\n",
    "#         brightness += ratio * (-scale + index)\n",
    "\n",
    "#     return 1 if brightness == 255 else brightness / scale"
   ]
  },
  {
   "cell_type": "code",
   "execution_count": 9,
   "id": "d8780675",
   "metadata": {},
   "outputs": [],
   "source": [
    "impath = Path('../data/Image')"
   ]
  },
  {
   "cell_type": "code",
   "execution_count": 10,
   "id": "5ca945ad",
   "metadata": {},
   "outputs": [],
   "source": [
    "def brightness(im_file ):\n",
    "    img = Image.open(im_file).convert('L')\n",
    "    stat = ImageStat.Stat(img)\n",
    "    return stat.rms[0]/255.0"
   ]
  },
  {
   "cell_type": "code",
   "execution_count": 11,
   "id": "f9ccef66",
   "metadata": {},
   "outputs": [
    {
     "name": "stdout",
     "output_type": "stream",
     "text": [
      "../data/Image/p02/face/28.jpg\r\n"
     ]
    }
   ],
   "source": [
    "!ls ../data/Image/p02/face/28.jpg"
   ]
  },
  {
   "cell_type": "code",
   "execution_count": 12,
   "id": "e8af14ea",
   "metadata": {},
   "outputs": [],
   "source": [
    "bright_imgf = Path('../data/Image/p02/face/28.jpg')"
   ]
  },
  {
   "cell_type": "code",
   "execution_count": 13,
   "id": "79b43ba3",
   "metadata": {},
   "outputs": [],
   "source": [
    "dark_imgf = Path('../data/Image/p02/face/42.jpg')"
   ]
  },
  {
   "cell_type": "code",
   "execution_count": 14,
   "id": "f1f3b431",
   "metadata": {},
   "outputs": [
    {
     "name": "stdout",
     "output_type": "stream",
     "text": [
      "0.11057496145778019\n",
      "0.7749160397081406\n"
     ]
    },
    {
     "data": {
      "text/plain": [
       "(None, None)"
      ]
     },
     "execution_count": 14,
     "metadata": {},
     "output_type": "execute_result"
    }
   ],
   "source": [
    "print(brightness(dark_imgf)), print(brightness(bright_imgf))"
   ]
  },
  {
   "cell_type": "code",
   "execution_count": 15,
   "id": "7425b8bf",
   "metadata": {
    "scrolled": true
   },
   "outputs": [
    {
     "name": "stdout",
     "output_type": "stream",
     "text": [
      "fold=../data/Image/p00\n",
      "fold=../data/Image/p01\n",
      "fold=../data/Image/p02\n",
      "fold=../data/Image/p03\n",
      "fold=../data/Image/p04\n",
      "fold=../data/Image/p05\n",
      "fold=../data/Image/p06\n",
      "fold=../data/Image/p07\n",
      "fold=../data/Image/p08\n",
      "fold=../data/Image/p09\n",
      "fold=../data/Image/p10\n",
      "fold=../data/Image/p11\n",
      "fold=../data/Image/p12\n",
      "fold=../data/Image/p13\n",
      "fold=../data/Image/p14\n",
      "CPU times: user 41.3 s, sys: 3.55 s, total: 44.9 s\n",
      "Wall time: 2min 30s\n"
     ]
    }
   ],
   "source": [
    "%%time\n",
    "bnesses =[]\n",
    "for fold in sorted(impath.iterdir()):\n",
    "    print(f\"fold={fold}\")\n",
    "    for faced in fold.iterdir():\n",
    "        if faced.name == 'face':\n",
    "            for imfile in faced.iterdir():\n",
    "                try:\n",
    "                    bness = brightness(imfile)\n",
    "                    bnesses.append(bness)\n",
    "#                     print(bness)\n",
    "                except:\n",
    "                    continue"
   ]
  },
  {
   "cell_type": "code",
   "execution_count": 16,
   "id": "4608de85",
   "metadata": {},
   "outputs": [
    {
     "data": {
      "text/plain": [
       "Text(0.5, 0, 'brightness')"
      ]
     },
     "execution_count": 16,
     "metadata": {},
     "output_type": "execute_result"
    },
    {
     "data": {
      "image/png": "[encoded data removed]",
      "text/plain": [
       "<Figure size 432x288 with 1 Axes>"
      ]
     },
     "metadata": {
      "needs_background": "light"
     },
     "output_type": "display_data"
    }
   ],
   "source": [
    "bnesses = np.array(bnesses)\n",
    "plt.hist(bnesses, bins=100)\n",
    "plt.title(\"brightness distribution of real face iamges\")\n",
    "plt.xlabel(\"brightness\")"
   ]
  },
  {
   "cell_type": "code",
   "execution_count": 17,
   "id": "e3dfdc66",
   "metadata": {},
   "outputs": [
    {
     "ename": "SystemExit",
     "evalue": "",
     "output_type": "error",
     "traceback": [
      "An exception has occurred, use %tb to see the full traceback.\n",
      "\u001b[0;31mSystemExit\u001b[0m\n"
     ]
    },
    {
     "name": "stderr",
     "output_type": "stream",
     "text": [
      "/usr/local/lib/python3.8/dist-packages/IPython/core/interactiveshell.py:3405: UserWarning: To exit: use 'exit', 'quit', or Ctrl-D.\n",
      "  warn(\"To exit: use 'exit', 'quit', or Ctrl-D.\", stacklevel=1)\n"
     ]
    }
   ],
   "source": [
    "sys.exit()"
   ]
  }
 ],
 "metadata": {
  "kernelspec": {
   "display_name": "Python 3 (ipykernel)",
   "language": "python",
   "name": "python3"
  },
  "language_info": {
   "codemirror_mode": {
    "name": "ipython",
    "version": 3
   },
   "file_extension": ".py",
   "mimetype": "text/x-python",
   "name": "python",
   "nbconvert_exporter": "python",
   "pygments_lexer": "ipython3",
   "version": "3.8.10"
  }
 },
 "nbformat": 4,
 "nbformat_minor": 5
}
