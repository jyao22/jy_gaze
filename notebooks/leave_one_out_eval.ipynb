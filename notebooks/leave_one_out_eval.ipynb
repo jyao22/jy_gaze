{
 "cells": [
  {
   "cell_type": "code",
   "execution_count": 1,
   "id": "b202c9b1",
   "metadata": {},
   "outputs": [],
   "source": [
    "import os\n",
    "import argparse"
   ]
  },
  {
   "cell_type": "code",
   "execution_count": 2,
   "id": "4f402894",
   "metadata": {},
   "outputs": [],
   "source": [
    "# aparse.ArgumentParser(\n",
    "#         description='gaze estimation using binned loss function.')\n",
    "#     parser.add_argument(\n",
    "#         '--evalpath', dest='evalpath', help='path for evaluating gaze test.',\n",
    "#         default=\"evaluation\\L2CS-gaze360-_standard-10\", type=str)\n",
    "#     parser.add_argument(\n",
    "#         '--respath', dest='respath', help='path for saving result.',\n",
    "#         default=\"evaluation\\L2CS-gaze360-_standard-10\", type=str)"
   ]
  },
  {
   "cell_type": "code",
   "execution_count": 3,
   "id": "ba0a3d7a",
   "metadata": {},
   "outputs": [],
   "source": [
    "# args = parse_args()\n",
    "# evalpath =args.evalpath\n",
    "# respath=args.respath\n"
   ]
  },
  {
   "cell_type": "code",
   "execution_count": 4,
   "id": "d80f0f4c",
   "metadata": {},
   "outputs": [],
   "source": [
    "evalpath = '../results/output/evaluation'\n",
    "respath = '../results/output/eval'\n",
    "n_epochs = 60"
   ]
  },
  {
   "cell_type": "code",
   "execution_count": 5,
   "id": "7236a80f",
   "metadata": {},
   "outputs": [],
   "source": [
    "if not os.path.exists(respath):\n",
    "        os.makedirs(respath)\n",
    "        "
   ]
  },
  {
   "cell_type": "code",
   "execution_count": 6,
   "id": "cd9aad3e",
   "metadata": {},
   "outputs": [
    {
     "name": "stdout",
     "output_type": "stream",
     "text": [
      "../results/output/evaluation\n"
     ]
    }
   ],
   "source": [
    "print(evalpath)"
   ]
  },
  {
   "cell_type": "code",
   "execution_count": null,
   "id": "9847df2f",
   "metadata": {},
   "outputs": [],
   "source": []
  },
  {
   "cell_type": "code",
   "execution_count": 7,
   "id": "c1c02e6b",
   "metadata": {},
   "outputs": [
    {
     "name": "stdout",
     "output_type": "stream",
     "text": [
      "['fold00', 'fold01', 'fold02', 'fold03', 'fold04', 'fold05', 'fold06', 'fold07', 'fold08', 'fold09', 'fold10', 'fold11', 'fold12', 'fold13', 'fold14']\n"
     ]
    }
   ],
   "source": [
    "dirlist = os.listdir(evalpath)\n",
    "dirlist.sort()\n",
    "print(dirlist)"
   ]
  },
  {
   "cell_type": "code",
   "execution_count": null,
   "id": "fa8898ad",
   "metadata": {},
   "outputs": [],
   "source": []
  },
  {
   "cell_type": "code",
   "execution_count": 8,
   "id": "2dfcfca4",
   "metadata": {},
   "outputs": [
    {
     "name": "stdout",
     "output_type": "stream",
     "text": [
      "min angular error equal= 4.1214934638514125at epoch= 14\n",
      "\n",
      "4.1214934638514125\n"
     ]
    }
   ],
   "source": [
    "with open(os.path.join(respath,\"avg.log\"), 'w') as outfile:    \n",
    "    outfile.write(\"Average equal\\n\")\n",
    "    min=10.0\n",
    "    dirlist = os.listdir(evalpath)\n",
    "    dirlist.sort()\n",
    "    n_folds = len(dirlist)\n",
    "    l = 0.0\n",
    "    for j in range(n_epochs):  # j = epoch-1\n",
    "#         j=20   # strange?\n",
    "        avg = 0.0\n",
    "        h = j+3  # remove 3 lines at the top\n",
    "        for i in dirlist:  # traverse each fold\n",
    "            with open(evalpath + \"/\" + i + \"/mpiigaze.log\") as myfile: #resad the save file for jth epoch\n",
    "\n",
    "                x=list(myfile)[h]\n",
    "#                 print(i,j+1, x)\n",
    "                str1 = \"\" \n",
    "\n",
    "                # traverse in the string  \n",
    "                for ele in x: \n",
    "                    str1 += ele \n",
    "#                 print(\"x :\", x)\n",
    "#                 print(\"str1:\",str1)\n",
    "                split_string = str1.split(\"MAE:\",1)[1]  # 1 is the max number of split/separation\n",
    "                avg+=float(split_string)\n",
    "        avg = avg/n_folds  #average MAE for the specified epoch\n",
    "        if avg < min:\n",
    "            min = avg\n",
    "            l = j + 1\n",
    "        outfile.write(\"epoch\"+str(j+1)+\"= \"+str(avg)+\"\\n\")\n",
    "    outfile.write(\"min angular error equal= \"+str(min)+\"at epoch= \"+str(l)+\"\\n\")\n",
    "print(\"min angular error equal= \"+str(min)+\"at epoch= \"+str(l)+\"\\n\")   \n",
    "print(min)"
   ]
  }
 ],
 "metadata": {
  "kernelspec": {
   "display_name": "Python 3 (ipykernel)",
   "language": "python",
   "name": "python3"
  },
  "language_info": {
   "codemirror_mode": {
    "name": "ipython",
    "version": 3
   },
   "file_extension": ".py",
   "mimetype": "text/x-python",
   "name": "python",
   "nbconvert_exporter": "python",
   "pygments_lexer": "ipython3",
   "version": "3.8.10"
  }
 },
 "nbformat": 4,
 "nbformat_minor": 5
}
