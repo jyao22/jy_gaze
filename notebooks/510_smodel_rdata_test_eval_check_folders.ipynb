{
 "cells": [
  {
   "cell_type": "code",
   "execution_count": 1,
   "id": "662efc9c",
   "metadata": {},
   "outputs": [],
   "source": [
    "import os, argparse\n",
    "import numpy as np\n",
    "import matplotlib.pyplot as plt\n",
    "from datetime import datetime\n",
    "from pytz import timezone\n",
    "import torch\n",
    "import torch.nn as nn\n",
    "from torch.autograd import Variable\n",
    "from torch.utils.data import DataLoader\n",
    "from torchvision import transforms\n",
    "import torch.backends.cudnn as cudnn\n",
    "import torchvision\n",
    "import wandb\n",
    "\n",
    "import datasets\n",
    "# from utils import select_device, natural_keys, gazeto3d, angular, getArch\n",
    "from utils import select_device, natural_keys, gazeto3d, angular, getArch\n",
    "from model import L2CS"
   ]
  },
  {
   "cell_type": "code",
   "execution_count": 2,
   "id": "ed29c578",
   "metadata": {},
   "outputs": [],
   "source": [
    "\n",
    "args = argparse.Namespace()\n",
    "args.gazeMpiimage_dir = '/project/data/Image'  #real data \n",
    "args.gazeMpiilabel_dir = '/project/data/Label'  #real label\n",
    "# args.output = '/project/results/soutput1/snapshots/'\n",
    "args.dataset = 'mpiigaze'\n",
    "args.snapshot='/project/results/soutput1/snapshots/'\n",
    "# args.evalpath = '/project/results/sroutput1/evaluation/'\n",
    "args.gpu_id = '0,1,2,3'\n",
    "args.gpu_id = '0'\n",
    "args.batch_size = 20\n",
    "args.arch = 'ResNet50'\n",
    "args.bins=35\n",
    "args.angle = 180\n",
    "args.bin_width = 4\n"
   ]
  },
  {
   "cell_type": "code",
   "execution_count": 3,
   "id": "d0e11321",
   "metadata": {},
   "outputs": [],
   "source": [
    "batch_size=args.batch_size\n",
    "arch=args.arch\n",
    "data_set=args.dataset\n",
    "# evalpath =args.evalpath\n",
    "snapshot_path = args.snapshot\n",
    "bins=args.bins\n",
    "angle=args.angle\n",
    "bin_width=args.bin_width"
   ]
  },
  {
   "cell_type": "code",
   "execution_count": 4,
   "id": "0504fda4",
   "metadata": {},
   "outputs": [],
   "source": [
    "# args = parse_args()\n",
    "cudnn.enabled = True\n",
    "gpu = select_device(args.gpu_id, batch_size=args.batch_size)\n",
    "transformations = transforms.Compose([\n",
    "    transforms.Resize(448),\n",
    "    transforms.ToTensor(),\n",
    "    transforms.Normalize(\n",
    "        mean=[0.485, 0.456, 0.406],\n",
    "        std=[0.229, 0.224, 0.225]\n",
    "    )\n",
    "])\n",
    "\n",
    "model_used=getArch(arch, bins)  #resnet50 and 28 bins"
   ]
  },
  {
   "cell_type": "code",
   "execution_count": 5,
   "id": "6e2eff08",
   "metadata": {},
   "outputs": [
    {
     "name": "stdout",
     "output_type": "stream",
     "text": [
      "0:60 1:60 2:60 3:60 4:60 5:60 6:60 7:60 8:60 9:60 10:60 11:60 12:60 13:60 14:60 "
     ]
    }
   ],
   "source": [
    "# check if we have the correct number of checkpoint files \n",
    "ppath = snapshot_path\n",
    "for fold in range(15):\n",
    "    foldstr = f\"fold{fold:0>2}\"\n",
    "    cpath =os.path.join(ppath, foldstr)\n",
    "    files = os.listdir(cpath)\n",
    "    print(f'{fold}:{len(files)}',end=\" \")"
   ]
  },
  {
   "cell_type": "code",
   "execution_count": 6,
   "id": "72df5465",
   "metadata": {},
   "outputs": [
    {
     "name": "stdout",
     "output_type": "stream",
     "text": [
      "06/27/2022 12:16:36\n"
     ]
    }
   ],
   "source": [
    "def get_now():\n",
    "    now = datetime.utcnow()\n",
    "    now = now.astimezone(timezone('US/Pacific'))\n",
    "    date_format='%m/%d/%Y %H:%M:%S'\n",
    "    now = now.strftime(date_format) \n",
    "    return now\n",
    "print(get_now())"
   ]
  },
  {
   "cell_type": "code",
   "execution_count": 9,
   "id": "84697a04",
   "metadata": {},
   "outputs": [
    {
     "name": "stdout",
     "output_type": "stream",
     "text": [
      "fold=0\n",
      "['epoch_49.pkl', 'epoch_58.pkl', 'epoch_32.pkl', 'epoch_5.pkl', 'epoch_50.pkl', 'epoch_14.pkl', 'epoch_41.pkl', 'epoch_23.pkl', 'epoch_1.pkl', 'epoch_10.pkl', 'epoch_36.pkl', 'epoch_9.pkl', 'epoch_54.pkl', 'epoch_18.pkl', 'epoch_45.pkl', 'epoch_27.pkl', 'epoch_34.pkl', 'epoch_7.pkl', 'epoch_52.pkl', 'epoch_16.pkl', 'epoch_43.pkl', 'epoch_25.pkl', 'epoch_30.pkl', 'epoch_3.pkl', 'epoch_12.pkl', 'epoch_21.pkl', 'epoch_38.pkl', 'epoch_56.pkl', 'epoch_47.pkl', 'epoch_29.pkl', 'epoch_59.pkl', 'epoch_6.pkl', 'epoch_33.pkl', 'epoch_15.pkl', 'epoch_51.pkl', 'epoch_42.pkl', 'epoch_24.pkl', 'epoch_60.pkl', 'epoch_2.pkl', 'epoch_11.pkl', 'epoch_20.pkl', 'epoch_37.pkl', 'epoch_19.pkl', 'epoch_55.pkl', 'epoch_46.pkl', 'epoch_28.pkl', 'epoch_8.pkl', 'epoch_35.pkl', 'epoch_17.pkl', 'epoch_53.pkl', 'epoch_44.pkl', 'epoch_26.pkl', 'epoch_4.pkl', 'epoch_31.pkl', 'epoch_13.pkl', 'epoch_40.pkl', 'epoch_22.pkl', 'epoch_39.pkl', 'epoch_57.pkl', 'epoch_48.pkl']\n",
      "folder=['epoch_1.pkl', 'epoch_2.pkl', 'epoch_3.pkl', 'epoch_4.pkl', 'epoch_5.pkl', 'epoch_6.pkl', 'epoch_7.pkl', 'epoch_8.pkl', 'epoch_9.pkl', 'epoch_10.pkl', 'epoch_11.pkl', 'epoch_12.pkl', 'epoch_13.pkl', 'epoch_14.pkl', 'epoch_15.pkl', 'epoch_16.pkl', 'epoch_17.pkl', 'epoch_18.pkl', 'epoch_19.pkl', 'epoch_20.pkl', 'epoch_21.pkl', 'epoch_22.pkl', 'epoch_23.pkl', 'epoch_24.pkl', 'epoch_25.pkl', 'epoch_26.pkl', 'epoch_27.pkl', 'epoch_28.pkl', 'epoch_29.pkl', 'epoch_30.pkl', 'epoch_31.pkl', 'epoch_32.pkl', 'epoch_33.pkl', 'epoch_34.pkl', 'epoch_35.pkl', 'epoch_36.pkl', 'epoch_37.pkl', 'epoch_38.pkl', 'epoch_39.pkl', 'epoch_40.pkl', 'epoch_41.pkl', 'epoch_42.pkl', 'epoch_43.pkl', 'epoch_44.pkl', 'epoch_45.pkl', 'epoch_46.pkl', 'epoch_47.pkl', 'epoch_48.pkl', 'epoch_49.pkl', 'epoch_50.pkl', 'epoch_51.pkl', 'epoch_52.pkl', 'epoch_53.pkl', 'epoch_54.pkl', 'epoch_55.pkl', 'epoch_56.pkl', 'epoch_57.pkl', 'epoch_58.pkl', 'epoch_59.pkl']\n",
      "fold=1\n",
      "['epoch_49.pkl', 'epoch_58.pkl', 'epoch_32.pkl', 'epoch_5.pkl', 'epoch_50.pkl', 'epoch_14.pkl', 'epoch_41.pkl', 'epoch_23.pkl', 'epoch_1.pkl', 'epoch_10.pkl', 'epoch_36.pkl', 'epoch_9.pkl', 'epoch_54.pkl', 'epoch_18.pkl', 'epoch_45.pkl', 'epoch_27.pkl', 'epoch_34.pkl', 'epoch_7.pkl', 'epoch_52.pkl', 'epoch_16.pkl', 'epoch_43.pkl', 'epoch_25.pkl', 'epoch_30.pkl', 'epoch_3.pkl', 'epoch_12.pkl', 'epoch_21.pkl', 'epoch_38.pkl', 'epoch_56.pkl', 'epoch_47.pkl', 'epoch_29.pkl', 'epoch_59.pkl', 'epoch_6.pkl', 'epoch_33.pkl', 'epoch_15.pkl', 'epoch_51.pkl', 'epoch_42.pkl', 'epoch_24.pkl', 'epoch_60.pkl', 'epoch_2.pkl', 'epoch_11.pkl', 'epoch_20.pkl', 'epoch_37.pkl', 'epoch_19.pkl', 'epoch_55.pkl', 'epoch_46.pkl', 'epoch_28.pkl', 'epoch_8.pkl', 'epoch_35.pkl', 'epoch_17.pkl', 'epoch_53.pkl', 'epoch_44.pkl', 'epoch_26.pkl', 'epoch_4.pkl', 'epoch_31.pkl', 'epoch_13.pkl', 'epoch_40.pkl', 'epoch_22.pkl', 'epoch_39.pkl', 'epoch_57.pkl', 'epoch_48.pkl']\n",
      "folder=['epoch_1.pkl', 'epoch_2.pkl', 'epoch_3.pkl', 'epoch_4.pkl', 'epoch_5.pkl', 'epoch_6.pkl', 'epoch_7.pkl', 'epoch_8.pkl', 'epoch_9.pkl', 'epoch_10.pkl', 'epoch_11.pkl', 'epoch_12.pkl', 'epoch_13.pkl', 'epoch_14.pkl', 'epoch_15.pkl', 'epoch_16.pkl', 'epoch_17.pkl', 'epoch_18.pkl', 'epoch_19.pkl', 'epoch_20.pkl', 'epoch_21.pkl', 'epoch_22.pkl', 'epoch_23.pkl', 'epoch_24.pkl', 'epoch_25.pkl', 'epoch_26.pkl', 'epoch_27.pkl', 'epoch_28.pkl', 'epoch_29.pkl', 'epoch_30.pkl', 'epoch_31.pkl', 'epoch_32.pkl', 'epoch_33.pkl', 'epoch_34.pkl', 'epoch_35.pkl', 'epoch_36.pkl', 'epoch_37.pkl', 'epoch_38.pkl', 'epoch_39.pkl', 'epoch_40.pkl', 'epoch_41.pkl', 'epoch_42.pkl', 'epoch_43.pkl', 'epoch_44.pkl', 'epoch_45.pkl', 'epoch_46.pkl', 'epoch_47.pkl', 'epoch_48.pkl', 'epoch_49.pkl', 'epoch_50.pkl', 'epoch_51.pkl', 'epoch_52.pkl', 'epoch_53.pkl', 'epoch_54.pkl', 'epoch_55.pkl', 'epoch_56.pkl', 'epoch_57.pkl', 'epoch_58.pkl', 'epoch_59.pkl']\n",
      "fold=2\n",
      "['epoch_49.pkl', 'epoch_58.pkl', 'epoch_32.pkl', 'epoch_5.pkl', 'epoch_50.pkl', 'epoch_14.pkl', 'epoch_41.pkl', 'epoch_23.pkl', 'epoch_1.pkl', 'epoch_10.pkl', 'epoch_36.pkl', 'epoch_9.pkl', 'epoch_54.pkl', 'epoch_18.pkl', 'epoch_45.pkl', 'epoch_27.pkl', 'epoch_34.pkl', 'epoch_7.pkl', 'epoch_52.pkl', 'epoch_16.pkl', 'epoch_43.pkl', 'epoch_25.pkl', 'epoch_30.pkl', 'epoch_3.pkl', 'epoch_12.pkl', 'epoch_21.pkl', 'epoch_38.pkl', 'epoch_56.pkl', 'epoch_47.pkl', 'epoch_29.pkl', 'epoch_59.pkl', 'epoch_6.pkl', 'epoch_33.pkl', 'epoch_15.pkl', 'epoch_51.pkl', 'epoch_42.pkl', 'epoch_24.pkl', 'epoch_60.pkl', 'epoch_2.pkl', 'epoch_11.pkl', 'epoch_20.pkl', 'epoch_37.pkl', 'epoch_19.pkl', 'epoch_55.pkl', 'epoch_46.pkl', 'epoch_28.pkl', 'epoch_8.pkl', 'epoch_35.pkl', 'epoch_17.pkl', 'epoch_53.pkl', 'epoch_44.pkl', 'epoch_26.pkl', 'epoch_4.pkl', 'epoch_31.pkl', 'epoch_13.pkl', 'epoch_40.pkl', 'epoch_22.pkl', 'epoch_39.pkl', 'epoch_57.pkl', 'epoch_48.pkl']\n",
      "folder=['epoch_1.pkl', 'epoch_2.pkl', 'epoch_3.pkl', 'epoch_4.pkl', 'epoch_5.pkl', 'epoch_6.pkl', 'epoch_7.pkl', 'epoch_8.pkl', 'epoch_9.pkl', 'epoch_10.pkl', 'epoch_11.pkl', 'epoch_12.pkl', 'epoch_13.pkl', 'epoch_14.pkl', 'epoch_15.pkl', 'epoch_16.pkl', 'epoch_17.pkl', 'epoch_18.pkl', 'epoch_19.pkl', 'epoch_20.pkl', 'epoch_21.pkl', 'epoch_22.pkl', 'epoch_23.pkl', 'epoch_24.pkl', 'epoch_25.pkl', 'epoch_26.pkl', 'epoch_27.pkl', 'epoch_28.pkl', 'epoch_29.pkl', 'epoch_30.pkl', 'epoch_31.pkl', 'epoch_32.pkl', 'epoch_33.pkl', 'epoch_34.pkl', 'epoch_35.pkl', 'epoch_36.pkl', 'epoch_37.pkl', 'epoch_38.pkl', 'epoch_39.pkl', 'epoch_40.pkl', 'epoch_41.pkl', 'epoch_42.pkl', 'epoch_43.pkl', 'epoch_44.pkl', 'epoch_45.pkl', 'epoch_46.pkl', 'epoch_47.pkl', 'epoch_48.pkl', 'epoch_49.pkl', 'epoch_50.pkl', 'epoch_51.pkl', 'epoch_52.pkl', 'epoch_53.pkl', 'epoch_54.pkl', 'epoch_55.pkl', 'epoch_56.pkl', 'epoch_57.pkl', 'epoch_58.pkl', 'epoch_59.pkl']\n",
      "fold=3\n",
      "['epoch_49.pkl', 'epoch_58.pkl', 'epoch_32.pkl', 'epoch_5.pkl', 'epoch_50.pkl', 'epoch_14.pkl', 'epoch_41.pkl', 'epoch_23.pkl', 'epoch_1.pkl', 'epoch_10.pkl', 'epoch_36.pkl', 'epoch_9.pkl', 'epoch_54.pkl', 'epoch_18.pkl', 'epoch_45.pkl', 'epoch_27.pkl', 'epoch_34.pkl', 'epoch_7.pkl', 'epoch_52.pkl', 'epoch_16.pkl', 'epoch_43.pkl', 'epoch_25.pkl', 'epoch_30.pkl', 'epoch_3.pkl', 'epoch_12.pkl', 'epoch_21.pkl', 'epoch_38.pkl', 'epoch_56.pkl', 'epoch_47.pkl', 'epoch_29.pkl', 'epoch_59.pkl', 'epoch_6.pkl', 'epoch_33.pkl', 'epoch_15.pkl', 'epoch_51.pkl', 'epoch_42.pkl', 'epoch_24.pkl', 'epoch_60.pkl', 'epoch_2.pkl', 'epoch_11.pkl', 'epoch_20.pkl', 'epoch_37.pkl', 'epoch_19.pkl', 'epoch_55.pkl', 'epoch_46.pkl', 'epoch_28.pkl', 'epoch_8.pkl', 'epoch_35.pkl', 'epoch_17.pkl', 'epoch_53.pkl', 'epoch_44.pkl', 'epoch_26.pkl', 'epoch_4.pkl', 'epoch_31.pkl', 'epoch_13.pkl', 'epoch_40.pkl', 'epoch_22.pkl', 'epoch_39.pkl', 'epoch_57.pkl', 'epoch_48.pkl']\n",
      "folder=['epoch_1.pkl', 'epoch_2.pkl', 'epoch_3.pkl', 'epoch_4.pkl', 'epoch_5.pkl', 'epoch_6.pkl', 'epoch_7.pkl', 'epoch_8.pkl', 'epoch_9.pkl', 'epoch_10.pkl', 'epoch_11.pkl', 'epoch_12.pkl', 'epoch_13.pkl', 'epoch_14.pkl', 'epoch_15.pkl', 'epoch_16.pkl', 'epoch_17.pkl', 'epoch_18.pkl', 'epoch_19.pkl', 'epoch_20.pkl', 'epoch_21.pkl', 'epoch_22.pkl', 'epoch_23.pkl', 'epoch_24.pkl', 'epoch_25.pkl', 'epoch_26.pkl', 'epoch_27.pkl', 'epoch_28.pkl', 'epoch_29.pkl', 'epoch_30.pkl', 'epoch_31.pkl', 'epoch_32.pkl', 'epoch_33.pkl', 'epoch_34.pkl', 'epoch_35.pkl', 'epoch_36.pkl', 'epoch_37.pkl', 'epoch_38.pkl', 'epoch_39.pkl', 'epoch_40.pkl', 'epoch_41.pkl', 'epoch_42.pkl', 'epoch_43.pkl', 'epoch_44.pkl', 'epoch_45.pkl', 'epoch_46.pkl', 'epoch_47.pkl', 'epoch_48.pkl', 'epoch_49.pkl', 'epoch_50.pkl', 'epoch_51.pkl', 'epoch_52.pkl', 'epoch_53.pkl', 'epoch_54.pkl', 'epoch_55.pkl', 'epoch_56.pkl', 'epoch_57.pkl', 'epoch_58.pkl', 'epoch_59.pkl']\n",
      "fold=4\n",
      "['epoch_49.pkl', 'epoch_58.pkl', 'epoch_32.pkl', 'epoch_5.pkl', 'epoch_50.pkl', 'epoch_14.pkl', 'epoch_41.pkl', 'epoch_23.pkl', 'epoch_1.pkl', 'epoch_10.pkl', 'epoch_36.pkl', 'epoch_9.pkl', 'epoch_54.pkl', 'epoch_18.pkl', 'epoch_45.pkl', 'epoch_27.pkl', 'epoch_34.pkl', 'epoch_7.pkl', 'epoch_52.pkl', 'epoch_16.pkl', 'epoch_43.pkl', 'epoch_25.pkl', 'epoch_30.pkl', 'epoch_3.pkl', 'epoch_12.pkl', 'epoch_21.pkl', 'epoch_38.pkl', 'epoch_56.pkl', 'epoch_47.pkl', 'epoch_29.pkl', 'epoch_59.pkl', 'epoch_6.pkl', 'epoch_33.pkl', 'epoch_15.pkl', 'epoch_51.pkl', 'epoch_42.pkl', 'epoch_24.pkl', 'epoch_60.pkl', 'epoch_2.pkl', 'epoch_11.pkl', 'epoch_20.pkl', 'epoch_37.pkl', 'epoch_19.pkl', 'epoch_55.pkl', 'epoch_46.pkl', 'epoch_28.pkl', 'epoch_8.pkl', 'epoch_35.pkl', 'epoch_17.pkl', 'epoch_53.pkl', 'epoch_44.pkl', 'epoch_26.pkl', 'epoch_4.pkl', 'epoch_31.pkl', 'epoch_13.pkl', 'epoch_40.pkl', 'epoch_22.pkl', 'epoch_39.pkl', 'epoch_57.pkl', 'epoch_48.pkl']\n",
      "folder=['epoch_1.pkl', 'epoch_2.pkl', 'epoch_3.pkl', 'epoch_4.pkl', 'epoch_5.pkl', 'epoch_6.pkl', 'epoch_7.pkl', 'epoch_8.pkl', 'epoch_9.pkl', 'epoch_10.pkl', 'epoch_11.pkl', 'epoch_12.pkl', 'epoch_13.pkl', 'epoch_14.pkl', 'epoch_15.pkl', 'epoch_16.pkl', 'epoch_17.pkl', 'epoch_18.pkl', 'epoch_19.pkl', 'epoch_20.pkl', 'epoch_21.pkl', 'epoch_22.pkl', 'epoch_23.pkl', 'epoch_24.pkl', 'epoch_25.pkl', 'epoch_26.pkl', 'epoch_27.pkl', 'epoch_28.pkl', 'epoch_29.pkl', 'epoch_30.pkl', 'epoch_31.pkl', 'epoch_32.pkl', 'epoch_33.pkl', 'epoch_34.pkl', 'epoch_35.pkl', 'epoch_36.pkl', 'epoch_37.pkl', 'epoch_38.pkl', 'epoch_39.pkl', 'epoch_40.pkl', 'epoch_41.pkl', 'epoch_42.pkl', 'epoch_43.pkl', 'epoch_44.pkl', 'epoch_45.pkl', 'epoch_46.pkl', 'epoch_47.pkl', 'epoch_48.pkl', 'epoch_49.pkl', 'epoch_50.pkl', 'epoch_51.pkl', 'epoch_52.pkl', 'epoch_53.pkl', 'epoch_54.pkl', 'epoch_55.pkl', 'epoch_56.pkl', 'epoch_57.pkl', 'epoch_58.pkl', 'epoch_59.pkl']\n",
      "fold=5\n",
      "['epoch_49.pkl', 'epoch_58.pkl', 'epoch_32.pkl', 'epoch_5.pkl', 'epoch_50.pkl', 'epoch_14.pkl', 'epoch_41.pkl', 'epoch_23.pkl', 'epoch_1.pkl', 'epoch_10.pkl', 'epoch_36.pkl', 'epoch_9.pkl', 'epoch_54.pkl', 'epoch_18.pkl', 'epoch_45.pkl', 'epoch_27.pkl', 'epoch_34.pkl', 'epoch_7.pkl', 'epoch_52.pkl', 'epoch_16.pkl', 'epoch_43.pkl', 'epoch_25.pkl', 'epoch_30.pkl', 'epoch_3.pkl', 'epoch_12.pkl', 'epoch_21.pkl', 'epoch_38.pkl', 'epoch_56.pkl', 'epoch_47.pkl', 'epoch_29.pkl', 'epoch_59.pkl', 'epoch_6.pkl', 'epoch_33.pkl', 'epoch_15.pkl', 'epoch_51.pkl', 'epoch_42.pkl', 'epoch_24.pkl', 'epoch_60.pkl', 'epoch_2.pkl', 'epoch_11.pkl', 'epoch_20.pkl', 'epoch_37.pkl', 'epoch_19.pkl', 'epoch_55.pkl', 'epoch_46.pkl', 'epoch_28.pkl', 'epoch_8.pkl', 'epoch_35.pkl', 'epoch_17.pkl', 'epoch_53.pkl', 'epoch_44.pkl', 'epoch_26.pkl', 'epoch_4.pkl', 'epoch_31.pkl', 'epoch_13.pkl', 'epoch_40.pkl', 'epoch_22.pkl', 'epoch_39.pkl', 'epoch_57.pkl', 'epoch_48.pkl']\n",
      "folder=['epoch_1.pkl', 'epoch_2.pkl', 'epoch_3.pkl', 'epoch_4.pkl', 'epoch_5.pkl', 'epoch_6.pkl', 'epoch_7.pkl', 'epoch_8.pkl', 'epoch_9.pkl', 'epoch_10.pkl', 'epoch_11.pkl', 'epoch_12.pkl', 'epoch_13.pkl', 'epoch_14.pkl', 'epoch_15.pkl', 'epoch_16.pkl', 'epoch_17.pkl', 'epoch_18.pkl', 'epoch_19.pkl', 'epoch_20.pkl', 'epoch_21.pkl', 'epoch_22.pkl', 'epoch_23.pkl', 'epoch_24.pkl', 'epoch_25.pkl', 'epoch_26.pkl', 'epoch_27.pkl', 'epoch_28.pkl', 'epoch_29.pkl', 'epoch_30.pkl', 'epoch_31.pkl', 'epoch_32.pkl', 'epoch_33.pkl', 'epoch_34.pkl', 'epoch_35.pkl', 'epoch_36.pkl', 'epoch_37.pkl', 'epoch_38.pkl', 'epoch_39.pkl', 'epoch_40.pkl', 'epoch_41.pkl', 'epoch_42.pkl', 'epoch_43.pkl', 'epoch_44.pkl', 'epoch_45.pkl', 'epoch_46.pkl', 'epoch_47.pkl', 'epoch_48.pkl', 'epoch_49.pkl', 'epoch_50.pkl', 'epoch_51.pkl', 'epoch_52.pkl', 'epoch_53.pkl', 'epoch_54.pkl', 'epoch_55.pkl', 'epoch_56.pkl', 'epoch_57.pkl', 'epoch_58.pkl', 'epoch_59.pkl']\n",
      "fold=6\n",
      "['epoch_49.pkl', 'epoch_58.pkl', 'epoch_32.pkl', 'epoch_5.pkl', 'epoch_50.pkl', 'epoch_14.pkl', 'epoch_41.pkl', 'epoch_23.pkl', 'epoch_1.pkl', 'epoch_10.pkl', 'epoch_36.pkl', 'epoch_9.pkl', 'epoch_54.pkl', 'epoch_18.pkl', 'epoch_45.pkl', 'epoch_27.pkl', 'epoch_34.pkl', 'epoch_7.pkl', 'epoch_52.pkl', 'epoch_16.pkl', 'epoch_43.pkl', 'epoch_25.pkl', 'epoch_30.pkl', 'epoch_3.pkl', 'epoch_12.pkl', 'epoch_21.pkl', 'epoch_38.pkl', 'epoch_56.pkl', 'epoch_47.pkl', 'epoch_29.pkl', 'epoch_59.pkl', 'epoch_6.pkl', 'epoch_33.pkl', 'epoch_15.pkl', 'epoch_51.pkl', 'epoch_42.pkl', 'epoch_24.pkl', 'epoch_60.pkl', 'epoch_2.pkl', 'epoch_11.pkl', 'epoch_20.pkl', 'epoch_37.pkl', 'epoch_19.pkl', 'epoch_55.pkl', 'epoch_46.pkl', 'epoch_28.pkl', 'epoch_8.pkl', 'epoch_35.pkl', 'epoch_17.pkl', 'epoch_53.pkl', 'epoch_44.pkl', 'epoch_26.pkl', 'epoch_4.pkl', 'epoch_31.pkl', 'epoch_13.pkl', 'epoch_40.pkl', 'epoch_22.pkl', 'epoch_39.pkl', 'epoch_57.pkl', 'epoch_48.pkl']\n",
      "folder=['epoch_1.pkl', 'epoch_2.pkl', 'epoch_3.pkl', 'epoch_4.pkl', 'epoch_5.pkl', 'epoch_6.pkl', 'epoch_7.pkl', 'epoch_8.pkl', 'epoch_9.pkl', 'epoch_10.pkl', 'epoch_11.pkl', 'epoch_12.pkl', 'epoch_13.pkl', 'epoch_14.pkl', 'epoch_15.pkl', 'epoch_16.pkl', 'epoch_17.pkl', 'epoch_18.pkl', 'epoch_19.pkl', 'epoch_20.pkl', 'epoch_21.pkl', 'epoch_22.pkl', 'epoch_23.pkl', 'epoch_24.pkl', 'epoch_25.pkl', 'epoch_26.pkl', 'epoch_27.pkl', 'epoch_28.pkl', 'epoch_29.pkl', 'epoch_30.pkl', 'epoch_31.pkl', 'epoch_32.pkl', 'epoch_33.pkl', 'epoch_34.pkl', 'epoch_35.pkl', 'epoch_36.pkl', 'epoch_37.pkl', 'epoch_38.pkl', 'epoch_39.pkl', 'epoch_40.pkl', 'epoch_41.pkl', 'epoch_42.pkl', 'epoch_43.pkl', 'epoch_44.pkl', 'epoch_45.pkl', 'epoch_46.pkl', 'epoch_47.pkl', 'epoch_48.pkl', 'epoch_49.pkl', 'epoch_50.pkl', 'epoch_51.pkl', 'epoch_52.pkl', 'epoch_53.pkl', 'epoch_54.pkl', 'epoch_55.pkl', 'epoch_56.pkl', 'epoch_57.pkl', 'epoch_58.pkl', 'epoch_59.pkl']\n",
      "fold=7\n",
      "['epoch_49.pkl', 'epoch_58.pkl', 'epoch_32.pkl', 'epoch_5.pkl', 'epoch_50.pkl', 'epoch_14.pkl', 'epoch_41.pkl', 'epoch_23.pkl', 'epoch_1.pkl', 'epoch_10.pkl', 'epoch_36.pkl', 'epoch_9.pkl', 'epoch_54.pkl', 'epoch_18.pkl', 'epoch_45.pkl', 'epoch_27.pkl', 'epoch_34.pkl', 'epoch_7.pkl', 'epoch_52.pkl', 'epoch_16.pkl', 'epoch_43.pkl', 'epoch_25.pkl', 'epoch_30.pkl', 'epoch_3.pkl', 'epoch_12.pkl', 'epoch_21.pkl', 'epoch_38.pkl', 'epoch_56.pkl', 'epoch_47.pkl', 'epoch_29.pkl', 'epoch_59.pkl', 'epoch_6.pkl', 'epoch_33.pkl', 'epoch_15.pkl', 'epoch_51.pkl', 'epoch_42.pkl', 'epoch_24.pkl', 'epoch_60.pkl', 'epoch_2.pkl', 'epoch_11.pkl', 'epoch_20.pkl', 'epoch_37.pkl', 'epoch_19.pkl', 'epoch_55.pkl', 'epoch_46.pkl', 'epoch_28.pkl', 'epoch_8.pkl', 'epoch_35.pkl', 'epoch_17.pkl', 'epoch_53.pkl', 'epoch_44.pkl', 'epoch_26.pkl', 'epoch_4.pkl', 'epoch_31.pkl', 'epoch_13.pkl', 'epoch_40.pkl', 'epoch_22.pkl', 'epoch_39.pkl', 'epoch_57.pkl', 'epoch_48.pkl']\n",
      "folder=['epoch_1.pkl', 'epoch_2.pkl', 'epoch_3.pkl', 'epoch_4.pkl', 'epoch_5.pkl', 'epoch_6.pkl', 'epoch_7.pkl', 'epoch_8.pkl', 'epoch_9.pkl', 'epoch_10.pkl', 'epoch_11.pkl', 'epoch_12.pkl', 'epoch_13.pkl', 'epoch_14.pkl', 'epoch_15.pkl', 'epoch_16.pkl', 'epoch_17.pkl', 'epoch_18.pkl', 'epoch_19.pkl', 'epoch_20.pkl', 'epoch_21.pkl', 'epoch_22.pkl', 'epoch_23.pkl', 'epoch_24.pkl', 'epoch_25.pkl', 'epoch_26.pkl', 'epoch_27.pkl', 'epoch_28.pkl', 'epoch_29.pkl', 'epoch_30.pkl', 'epoch_31.pkl', 'epoch_32.pkl', 'epoch_33.pkl', 'epoch_34.pkl', 'epoch_35.pkl', 'epoch_36.pkl', 'epoch_37.pkl', 'epoch_38.pkl', 'epoch_39.pkl', 'epoch_40.pkl', 'epoch_41.pkl', 'epoch_42.pkl', 'epoch_43.pkl', 'epoch_44.pkl', 'epoch_45.pkl', 'epoch_46.pkl', 'epoch_47.pkl', 'epoch_48.pkl', 'epoch_49.pkl', 'epoch_50.pkl', 'epoch_51.pkl', 'epoch_52.pkl', 'epoch_53.pkl', 'epoch_54.pkl', 'epoch_55.pkl', 'epoch_56.pkl', 'epoch_57.pkl', 'epoch_58.pkl', 'epoch_59.pkl']\n",
      "fold=8\n",
      "['epoch_49.pkl', 'epoch_58.pkl', 'epoch_32.pkl', 'epoch_5.pkl', 'epoch_50.pkl', 'epoch_14.pkl', 'epoch_41.pkl', 'epoch_23.pkl', 'epoch_1.pkl', 'epoch_10.pkl', 'epoch_36.pkl', 'epoch_9.pkl', 'epoch_54.pkl', 'epoch_18.pkl', 'epoch_45.pkl', 'epoch_27.pkl', 'epoch_34.pkl', 'epoch_7.pkl', 'epoch_52.pkl', 'epoch_16.pkl', 'epoch_43.pkl', 'epoch_25.pkl', 'epoch_30.pkl', 'epoch_3.pkl', 'epoch_12.pkl', 'epoch_21.pkl', 'epoch_38.pkl', 'epoch_56.pkl', 'epoch_47.pkl', 'epoch_29.pkl', 'epoch_59.pkl', 'epoch_6.pkl', 'epoch_33.pkl', 'epoch_15.pkl', 'epoch_51.pkl', 'epoch_42.pkl', 'epoch_24.pkl', 'epoch_60.pkl', 'epoch_2.pkl', 'epoch_11.pkl', 'epoch_20.pkl', 'epoch_37.pkl', 'epoch_19.pkl', 'epoch_55.pkl', 'epoch_46.pkl', 'epoch_28.pkl', 'epoch_8.pkl', 'epoch_35.pkl', 'epoch_17.pkl', 'epoch_53.pkl', 'epoch_44.pkl', 'epoch_26.pkl', 'epoch_4.pkl', 'epoch_31.pkl', 'epoch_13.pkl', 'epoch_40.pkl', 'epoch_22.pkl', 'epoch_39.pkl', 'epoch_57.pkl', 'epoch_48.pkl']\n",
      "folder=['epoch_1.pkl', 'epoch_2.pkl', 'epoch_3.pkl', 'epoch_4.pkl', 'epoch_5.pkl', 'epoch_6.pkl', 'epoch_7.pkl', 'epoch_8.pkl', 'epoch_9.pkl', 'epoch_10.pkl', 'epoch_11.pkl', 'epoch_12.pkl', 'epoch_13.pkl', 'epoch_14.pkl', 'epoch_15.pkl', 'epoch_16.pkl', 'epoch_17.pkl', 'epoch_18.pkl', 'epoch_19.pkl', 'epoch_20.pkl', 'epoch_21.pkl', 'epoch_22.pkl', 'epoch_23.pkl', 'epoch_24.pkl', 'epoch_25.pkl', 'epoch_26.pkl', 'epoch_27.pkl', 'epoch_28.pkl', 'epoch_29.pkl', 'epoch_30.pkl', 'epoch_31.pkl', 'epoch_32.pkl', 'epoch_33.pkl', 'epoch_34.pkl', 'epoch_35.pkl', 'epoch_36.pkl', 'epoch_37.pkl', 'epoch_38.pkl', 'epoch_39.pkl', 'epoch_40.pkl', 'epoch_41.pkl', 'epoch_42.pkl', 'epoch_43.pkl', 'epoch_44.pkl', 'epoch_45.pkl', 'epoch_46.pkl', 'epoch_47.pkl', 'epoch_48.pkl', 'epoch_49.pkl', 'epoch_50.pkl', 'epoch_51.pkl', 'epoch_52.pkl', 'epoch_53.pkl', 'epoch_54.pkl', 'epoch_55.pkl', 'epoch_56.pkl', 'epoch_57.pkl', 'epoch_58.pkl', 'epoch_59.pkl']\n",
      "fold=9\n",
      "['epoch_49.pkl', 'epoch_58.pkl', 'epoch_32.pkl', 'epoch_5.pkl', 'epoch_50.pkl', 'epoch_14.pkl', 'epoch_41.pkl', 'epoch_23.pkl', 'epoch_1.pkl', 'epoch_10.pkl', 'epoch_36.pkl', 'epoch_9.pkl', 'epoch_54.pkl', 'epoch_18.pkl', 'epoch_45.pkl', 'epoch_27.pkl', 'epoch_34.pkl', 'epoch_7.pkl', 'epoch_52.pkl', 'epoch_16.pkl', 'epoch_43.pkl', 'epoch_25.pkl', 'epoch_30.pkl', 'epoch_3.pkl', 'epoch_12.pkl', 'epoch_21.pkl', 'epoch_38.pkl', 'epoch_56.pkl', 'epoch_47.pkl', 'epoch_29.pkl', 'epoch_59.pkl', 'epoch_6.pkl', 'epoch_33.pkl', 'epoch_15.pkl', 'epoch_51.pkl', 'epoch_42.pkl', 'epoch_24.pkl', 'epoch_60.pkl', 'epoch_2.pkl', 'epoch_11.pkl', 'epoch_20.pkl', 'epoch_37.pkl', 'epoch_19.pkl', 'epoch_55.pkl', 'epoch_46.pkl', 'epoch_28.pkl', 'epoch_8.pkl', 'epoch_35.pkl', 'epoch_17.pkl', 'epoch_53.pkl', 'epoch_44.pkl', 'epoch_26.pkl', 'epoch_4.pkl', 'epoch_31.pkl', 'epoch_13.pkl', 'epoch_40.pkl', 'epoch_22.pkl', 'epoch_39.pkl', 'epoch_57.pkl', 'epoch_48.pkl']\n",
      "folder=['epoch_1.pkl', 'epoch_2.pkl', 'epoch_3.pkl', 'epoch_4.pkl', 'epoch_5.pkl', 'epoch_6.pkl', 'epoch_7.pkl', 'epoch_8.pkl', 'epoch_9.pkl', 'epoch_10.pkl', 'epoch_11.pkl', 'epoch_12.pkl', 'epoch_13.pkl', 'epoch_14.pkl', 'epoch_15.pkl', 'epoch_16.pkl', 'epoch_17.pkl', 'epoch_18.pkl', 'epoch_19.pkl', 'epoch_20.pkl', 'epoch_21.pkl', 'epoch_22.pkl', 'epoch_23.pkl', 'epoch_24.pkl', 'epoch_25.pkl', 'epoch_26.pkl', 'epoch_27.pkl', 'epoch_28.pkl', 'epoch_29.pkl', 'epoch_30.pkl', 'epoch_31.pkl', 'epoch_32.pkl', 'epoch_33.pkl', 'epoch_34.pkl', 'epoch_35.pkl', 'epoch_36.pkl', 'epoch_37.pkl', 'epoch_38.pkl', 'epoch_39.pkl', 'epoch_40.pkl', 'epoch_41.pkl', 'epoch_42.pkl', 'epoch_43.pkl', 'epoch_44.pkl', 'epoch_45.pkl', 'epoch_46.pkl', 'epoch_47.pkl', 'epoch_48.pkl', 'epoch_49.pkl', 'epoch_50.pkl', 'epoch_51.pkl', 'epoch_52.pkl', 'epoch_53.pkl', 'epoch_54.pkl', 'epoch_55.pkl', 'epoch_56.pkl', 'epoch_57.pkl', 'epoch_58.pkl', 'epoch_59.pkl']\n",
      "fold=10\n",
      "['epoch_49.pkl', 'epoch_58.pkl', 'epoch_32.pkl', 'epoch_5.pkl', 'epoch_50.pkl', 'epoch_14.pkl', 'epoch_41.pkl', 'epoch_23.pkl', 'epoch_1.pkl', 'epoch_10.pkl', 'epoch_36.pkl', 'epoch_9.pkl', 'epoch_54.pkl', 'epoch_18.pkl', 'epoch_45.pkl', 'epoch_27.pkl', 'epoch_34.pkl', 'epoch_7.pkl', 'epoch_52.pkl', 'epoch_16.pkl', 'epoch_43.pkl', 'epoch_25.pkl', 'epoch_30.pkl', 'epoch_3.pkl', 'epoch_12.pkl', 'epoch_21.pkl', 'epoch_38.pkl', 'epoch_56.pkl', 'epoch_47.pkl', 'epoch_29.pkl', 'epoch_59.pkl', 'epoch_6.pkl', 'epoch_33.pkl', 'epoch_15.pkl', 'epoch_51.pkl', 'epoch_42.pkl', 'epoch_24.pkl', 'epoch_60.pkl', 'epoch_2.pkl', 'epoch_11.pkl', 'epoch_20.pkl', 'epoch_37.pkl', 'epoch_19.pkl', 'epoch_55.pkl', 'epoch_46.pkl', 'epoch_28.pkl', 'epoch_8.pkl', 'epoch_35.pkl', 'epoch_17.pkl', 'epoch_53.pkl', 'epoch_44.pkl', 'epoch_26.pkl', 'epoch_4.pkl', 'epoch_31.pkl', 'epoch_13.pkl', 'epoch_40.pkl', 'epoch_22.pkl', 'epoch_39.pkl', 'epoch_57.pkl', 'epoch_48.pkl']\n",
      "folder=['epoch_1.pkl', 'epoch_2.pkl', 'epoch_3.pkl', 'epoch_4.pkl', 'epoch_5.pkl', 'epoch_6.pkl', 'epoch_7.pkl', 'epoch_8.pkl', 'epoch_9.pkl', 'epoch_10.pkl', 'epoch_11.pkl', 'epoch_12.pkl', 'epoch_13.pkl', 'epoch_14.pkl', 'epoch_15.pkl', 'epoch_16.pkl', 'epoch_17.pkl', 'epoch_18.pkl', 'epoch_19.pkl', 'epoch_20.pkl', 'epoch_21.pkl', 'epoch_22.pkl', 'epoch_23.pkl', 'epoch_24.pkl', 'epoch_25.pkl', 'epoch_26.pkl', 'epoch_27.pkl', 'epoch_28.pkl', 'epoch_29.pkl', 'epoch_30.pkl', 'epoch_31.pkl', 'epoch_32.pkl', 'epoch_33.pkl', 'epoch_34.pkl', 'epoch_35.pkl', 'epoch_36.pkl', 'epoch_37.pkl', 'epoch_38.pkl', 'epoch_39.pkl', 'epoch_40.pkl', 'epoch_41.pkl', 'epoch_42.pkl', 'epoch_43.pkl', 'epoch_44.pkl', 'epoch_45.pkl', 'epoch_46.pkl', 'epoch_47.pkl', 'epoch_48.pkl', 'epoch_49.pkl', 'epoch_50.pkl', 'epoch_51.pkl', 'epoch_52.pkl', 'epoch_53.pkl', 'epoch_54.pkl', 'epoch_55.pkl', 'epoch_56.pkl', 'epoch_57.pkl', 'epoch_58.pkl', 'epoch_59.pkl']\n",
      "fold=11\n",
      "['epoch_49.pkl', 'epoch_58.pkl', 'epoch_32.pkl', 'epoch_5.pkl', 'epoch_50.pkl', 'epoch_14.pkl', 'epoch_41.pkl', 'epoch_23.pkl', 'epoch_1.pkl', 'epoch_10.pkl', 'epoch_36.pkl', 'epoch_9.pkl', 'epoch_54.pkl', 'epoch_18.pkl', 'epoch_45.pkl', 'epoch_27.pkl', 'epoch_34.pkl', 'epoch_7.pkl', 'epoch_52.pkl', 'epoch_16.pkl', 'epoch_43.pkl', 'epoch_25.pkl', 'epoch_30.pkl', 'epoch_3.pkl', 'epoch_12.pkl', 'epoch_21.pkl', 'epoch_38.pkl', 'epoch_56.pkl', 'epoch_47.pkl', 'epoch_29.pkl', 'epoch_59.pkl', 'epoch_6.pkl', 'epoch_33.pkl', 'epoch_15.pkl', 'epoch_51.pkl', 'epoch_42.pkl', 'epoch_24.pkl', 'epoch_60.pkl', 'epoch_2.pkl', 'epoch_11.pkl', 'epoch_20.pkl', 'epoch_37.pkl', 'epoch_19.pkl', 'epoch_55.pkl', 'epoch_46.pkl', 'epoch_28.pkl', 'epoch_8.pkl', 'epoch_35.pkl', 'epoch_17.pkl', 'epoch_53.pkl', 'epoch_44.pkl', 'epoch_26.pkl', 'epoch_4.pkl', 'epoch_31.pkl', 'epoch_13.pkl', 'epoch_40.pkl', 'epoch_22.pkl', 'epoch_39.pkl', 'epoch_57.pkl', 'epoch_48.pkl']\n",
      "folder=['epoch_1.pkl', 'epoch_2.pkl', 'epoch_3.pkl', 'epoch_4.pkl', 'epoch_5.pkl', 'epoch_6.pkl', 'epoch_7.pkl', 'epoch_8.pkl', 'epoch_9.pkl', 'epoch_10.pkl', 'epoch_11.pkl', 'epoch_12.pkl', 'epoch_13.pkl', 'epoch_14.pkl', 'epoch_15.pkl', 'epoch_16.pkl', 'epoch_17.pkl', 'epoch_18.pkl', 'epoch_19.pkl', 'epoch_20.pkl', 'epoch_21.pkl', 'epoch_22.pkl', 'epoch_23.pkl', 'epoch_24.pkl', 'epoch_25.pkl', 'epoch_26.pkl', 'epoch_27.pkl', 'epoch_28.pkl', 'epoch_29.pkl', 'epoch_30.pkl', 'epoch_31.pkl', 'epoch_32.pkl', 'epoch_33.pkl', 'epoch_34.pkl', 'epoch_35.pkl', 'epoch_36.pkl', 'epoch_37.pkl', 'epoch_38.pkl', 'epoch_39.pkl', 'epoch_40.pkl', 'epoch_41.pkl', 'epoch_42.pkl', 'epoch_43.pkl', 'epoch_44.pkl', 'epoch_45.pkl', 'epoch_46.pkl', 'epoch_47.pkl', 'epoch_48.pkl', 'epoch_49.pkl', 'epoch_50.pkl', 'epoch_51.pkl', 'epoch_52.pkl', 'epoch_53.pkl', 'epoch_54.pkl', 'epoch_55.pkl', 'epoch_56.pkl', 'epoch_57.pkl', 'epoch_58.pkl', 'epoch_59.pkl']\n",
      "fold=12\n",
      "['epoch_49.pkl', 'epoch_58.pkl', 'epoch_32.pkl', 'epoch_5.pkl', 'epoch_50.pkl', 'epoch_14.pkl', 'epoch_41.pkl', 'epoch_23.pkl', 'epoch_1.pkl', 'epoch_10.pkl', 'epoch_36.pkl', 'epoch_9.pkl', 'epoch_54.pkl', 'epoch_18.pkl', 'epoch_45.pkl', 'epoch_27.pkl', 'epoch_34.pkl', 'epoch_7.pkl', 'epoch_52.pkl', 'epoch_16.pkl', 'epoch_43.pkl', 'epoch_25.pkl', 'epoch_30.pkl', 'epoch_3.pkl', 'epoch_12.pkl', 'epoch_21.pkl', 'epoch_38.pkl', 'epoch_56.pkl', 'epoch_47.pkl', 'epoch_29.pkl', 'epoch_59.pkl', 'epoch_6.pkl', 'epoch_33.pkl', 'epoch_15.pkl', 'epoch_51.pkl', 'epoch_42.pkl', 'epoch_24.pkl', 'epoch_60.pkl', 'epoch_2.pkl', 'epoch_11.pkl', 'epoch_20.pkl', 'epoch_37.pkl', 'epoch_19.pkl', 'epoch_55.pkl', 'epoch_46.pkl', 'epoch_28.pkl', 'epoch_8.pkl', 'epoch_35.pkl', 'epoch_17.pkl', 'epoch_53.pkl', 'epoch_44.pkl', 'epoch_26.pkl', 'epoch_4.pkl', 'epoch_31.pkl', 'epoch_13.pkl', 'epoch_40.pkl', 'epoch_22.pkl', 'epoch_39.pkl', 'epoch_57.pkl', 'epoch_48.pkl']\n",
      "folder=['epoch_1.pkl', 'epoch_2.pkl', 'epoch_3.pkl', 'epoch_4.pkl', 'epoch_5.pkl', 'epoch_6.pkl', 'epoch_7.pkl', 'epoch_8.pkl', 'epoch_9.pkl', 'epoch_10.pkl', 'epoch_11.pkl', 'epoch_12.pkl', 'epoch_13.pkl', 'epoch_14.pkl', 'epoch_15.pkl', 'epoch_16.pkl', 'epoch_17.pkl', 'epoch_18.pkl', 'epoch_19.pkl', 'epoch_20.pkl', 'epoch_21.pkl', 'epoch_22.pkl', 'epoch_23.pkl', 'epoch_24.pkl', 'epoch_25.pkl', 'epoch_26.pkl', 'epoch_27.pkl', 'epoch_28.pkl', 'epoch_29.pkl', 'epoch_30.pkl', 'epoch_31.pkl', 'epoch_32.pkl', 'epoch_33.pkl', 'epoch_34.pkl', 'epoch_35.pkl', 'epoch_36.pkl', 'epoch_37.pkl', 'epoch_38.pkl', 'epoch_39.pkl', 'epoch_40.pkl', 'epoch_41.pkl', 'epoch_42.pkl', 'epoch_43.pkl', 'epoch_44.pkl', 'epoch_45.pkl', 'epoch_46.pkl', 'epoch_47.pkl', 'epoch_48.pkl', 'epoch_49.pkl', 'epoch_50.pkl', 'epoch_51.pkl', 'epoch_52.pkl', 'epoch_53.pkl', 'epoch_54.pkl', 'epoch_55.pkl', 'epoch_56.pkl', 'epoch_57.pkl', 'epoch_58.pkl', 'epoch_59.pkl']\n",
      "fold=13\n",
      "['epoch_49.pkl', 'epoch_58.pkl', 'epoch_32.pkl', 'epoch_5.pkl', 'epoch_50.pkl', 'epoch_14.pkl', 'epoch_41.pkl', 'epoch_23.pkl', 'epoch_1.pkl', 'epoch_10.pkl', 'epoch_36.pkl', 'epoch_9.pkl', 'epoch_54.pkl', 'epoch_18.pkl', 'epoch_45.pkl', 'epoch_27.pkl', 'epoch_34.pkl', 'epoch_7.pkl', 'epoch_52.pkl', 'epoch_16.pkl', 'epoch_43.pkl', 'epoch_25.pkl', 'epoch_30.pkl', 'epoch_3.pkl', 'epoch_12.pkl', 'epoch_21.pkl', 'epoch_38.pkl', 'epoch_56.pkl', 'epoch_47.pkl', 'epoch_29.pkl', 'epoch_59.pkl', 'epoch_6.pkl', 'epoch_33.pkl', 'epoch_15.pkl', 'epoch_51.pkl', 'epoch_42.pkl', 'epoch_24.pkl', 'epoch_60.pkl', 'epoch_2.pkl', 'epoch_11.pkl', 'epoch_20.pkl', 'epoch_37.pkl', 'epoch_19.pkl', 'epoch_55.pkl', 'epoch_46.pkl', 'epoch_28.pkl', 'epoch_8.pkl', 'epoch_35.pkl', 'epoch_17.pkl', 'epoch_53.pkl', 'epoch_44.pkl', 'epoch_26.pkl', 'epoch_4.pkl', 'epoch_31.pkl', 'epoch_13.pkl', 'epoch_40.pkl', 'epoch_22.pkl', 'epoch_39.pkl', 'epoch_57.pkl', 'epoch_48.pkl']\n",
      "folder=['epoch_1.pkl', 'epoch_2.pkl', 'epoch_3.pkl', 'epoch_4.pkl', 'epoch_5.pkl', 'epoch_6.pkl', 'epoch_7.pkl', 'epoch_8.pkl', 'epoch_9.pkl', 'epoch_10.pkl', 'epoch_11.pkl', 'epoch_12.pkl', 'epoch_13.pkl', 'epoch_14.pkl', 'epoch_15.pkl', 'epoch_16.pkl', 'epoch_17.pkl', 'epoch_18.pkl', 'epoch_19.pkl', 'epoch_20.pkl', 'epoch_21.pkl', 'epoch_22.pkl', 'epoch_23.pkl', 'epoch_24.pkl', 'epoch_25.pkl', 'epoch_26.pkl', 'epoch_27.pkl', 'epoch_28.pkl', 'epoch_29.pkl', 'epoch_30.pkl', 'epoch_31.pkl', 'epoch_32.pkl', 'epoch_33.pkl', 'epoch_34.pkl', 'epoch_35.pkl', 'epoch_36.pkl', 'epoch_37.pkl', 'epoch_38.pkl', 'epoch_39.pkl', 'epoch_40.pkl', 'epoch_41.pkl', 'epoch_42.pkl', 'epoch_43.pkl', 'epoch_44.pkl', 'epoch_45.pkl', 'epoch_46.pkl', 'epoch_47.pkl', 'epoch_48.pkl', 'epoch_49.pkl', 'epoch_50.pkl', 'epoch_51.pkl', 'epoch_52.pkl', 'epoch_53.pkl', 'epoch_54.pkl', 'epoch_55.pkl', 'epoch_56.pkl', 'epoch_57.pkl', 'epoch_58.pkl', 'epoch_59.pkl']\n",
      "fold=14\n",
      "['epoch_49.pkl', 'epoch_58.pkl', 'epoch_32.pkl', 'epoch_5.pkl', 'epoch_50.pkl', 'epoch_14.pkl', 'epoch_41.pkl', 'epoch_23.pkl', 'epoch_1.pkl', 'epoch_10.pkl', 'epoch_36.pkl', 'epoch_9.pkl', 'epoch_54.pkl', 'epoch_18.pkl', 'epoch_45.pkl', 'epoch_27.pkl', 'epoch_34.pkl', 'epoch_7.pkl', 'epoch_52.pkl', 'epoch_16.pkl', 'epoch_43.pkl', 'epoch_25.pkl', 'epoch_30.pkl', 'epoch_3.pkl', 'epoch_12.pkl', 'epoch_21.pkl', 'epoch_38.pkl', 'epoch_56.pkl', 'epoch_47.pkl', 'epoch_29.pkl', 'epoch_59.pkl', 'epoch_6.pkl', 'epoch_33.pkl', 'epoch_15.pkl', 'epoch_51.pkl', 'epoch_42.pkl', 'epoch_24.pkl', 'epoch_60.pkl', 'epoch_2.pkl', 'epoch_11.pkl', 'epoch_20.pkl', 'epoch_37.pkl', 'epoch_19.pkl', 'epoch_55.pkl', 'epoch_46.pkl', 'epoch_28.pkl', 'epoch_8.pkl', 'epoch_35.pkl', 'epoch_17.pkl', 'epoch_53.pkl', 'epoch_44.pkl', 'epoch_26.pkl', 'epoch_4.pkl', 'epoch_31.pkl', 'epoch_13.pkl', 'epoch_40.pkl', 'epoch_22.pkl', 'epoch_39.pkl', 'epoch_57.pkl', 'epoch_48.pkl']\n",
      "folder=['epoch_1.pkl', 'epoch_2.pkl', 'epoch_3.pkl', 'epoch_4.pkl', 'epoch_5.pkl', 'epoch_6.pkl', 'epoch_7.pkl', 'epoch_8.pkl', 'epoch_9.pkl', 'epoch_10.pkl', 'epoch_11.pkl', 'epoch_12.pkl', 'epoch_13.pkl', 'epoch_14.pkl', 'epoch_15.pkl', 'epoch_16.pkl', 'epoch_17.pkl', 'epoch_18.pkl', 'epoch_19.pkl', 'epoch_20.pkl', 'epoch_21.pkl', 'epoch_22.pkl', 'epoch_23.pkl', 'epoch_24.pkl', 'epoch_25.pkl', 'epoch_26.pkl', 'epoch_27.pkl', 'epoch_28.pkl', 'epoch_29.pkl', 'epoch_30.pkl', 'epoch_31.pkl', 'epoch_32.pkl', 'epoch_33.pkl', 'epoch_34.pkl', 'epoch_35.pkl', 'epoch_36.pkl', 'epoch_37.pkl', 'epoch_38.pkl', 'epoch_39.pkl', 'epoch_40.pkl', 'epoch_41.pkl', 'epoch_42.pkl', 'epoch_43.pkl', 'epoch_44.pkl', 'epoch_45.pkl', 'epoch_46.pkl', 'epoch_47.pkl', 'epoch_48.pkl', 'epoch_49.pkl', 'epoch_50.pkl', 'epoch_51.pkl', 'epoch_52.pkl', 'epoch_53.pkl', 'epoch_54.pkl', 'epoch_55.pkl', 'epoch_56.pkl', 'epoch_57.pkl', 'epoch_58.pkl', 'epoch_59.pkl']\n",
      "CPU times: user 3.11 ms, sys: 2.08 ms, total: 5.19 ms\n",
      "Wall time: 14.5 ms\n"
     ]
    }
   ],
   "source": [
    "%%time\n",
    "all_MAE = []\n",
    "# tosave={}\n",
    "for fold in range(15):\n",
    "#     frun = wandb.init(project=\"51_syn_mode_real_data\")\n",
    "#     frun.name = f'fold{fold}_mae'\n",
    "    print(f\"fold={fold}\")\n",
    "#     epoch_values=[]\n",
    "#     mae_values=[]\n",
    "    now = get_now()\n",
    "#     print(args.gazeMpiilabel_dir)\n",
    "#     folder = os.listdir(args.gazeMpiilabel_dir)\n",
    "#     folder.sort()  #individual label files\n",
    "#     testlabelpathcombined = [os.path.join(args.gazeMpiilabel_dir, j) for j in folder] \n",
    "    \n",
    "#     gaze_dataset=datasets.Mpiigaze(testlabelpathcombined, args.gazeMpiimage_dir, transformations, False, angle, fold)\n",
    "\n",
    "#     test_loader = torch.utils.data.DataLoader(\n",
    "#         dataset=gaze_dataset,\n",
    "#         batch_size=batch_size,\n",
    "#         shuffle=True,\n",
    "#         num_workers=4,\n",
    "#         pin_memory=True)\n",
    "\n",
    "#     fold_path = os.path.join(evalpath, 'fold' + f'{fold:0>2}'+'/')  #for evaluation\n",
    "#     print(f\"fold_path is {fold_path}\")\n",
    "#     if not os.path.exists(fold_path):\n",
    "#         os.makedirs(fold_path)\n",
    "\n",
    "#     if not os.path.exists(os.path.join(evalpath, f\"fold\"+str(fold))):\n",
    "#         os.makedirs(os.path.join(evalpath, f\"fold\"+str(fold)))\n",
    "\n",
    "    # list all epoch for testing\n",
    "    folder = os.listdir(os.path.join(snapshot_path, \"fold\" + f'{fold:0>2}'))\n",
    "    print(folder)\n",
    "    folder.sort(key=natural_keys)\n",
    "#     folder.pop(-1)  #remove the tensorboard file, now all snapshot files\n",
    "    print(f\"folder={folder}\")\n",
    "  "
   ]
  },
  {
   "cell_type": "code",
   "execution_count": null,
   "id": "f0cf2212",
   "metadata": {},
   "outputs": [],
   "source": [
    "                  \n",
    "\n",
    "    softmax = nn.Softmax(dim=1)\n",
    "#     with open(os.path.join(evalpath, os.path.join(\"fold\"+f'{fold:0>2}', data_set+\".log\")), 'w') as outfile:\n",
    "        \n",
    "    configuration = (f\"\\ntest configuration equal gpu_id={gpu}, batch_size={batch_size}, model_arch={arch}\\n\"\n",
    "                     f\"Start testing dataset={data_set}, FOLD={fold} --{now}---------\")\n",
    "    print(configuration)\n",
    "#     tosave['time':now]\n",
    "#     outfile.write(configuration)\n",
    "    epoch_list=[]\n",
    "    avg_MAE=[]\n",
    "    for epoch in folder: \n",
    "        print(f\"entering epoch={epoch}\")\n",
    "        model=model_used\n",
    "        checkpoint = torch.load(os.path.join(snapshot_path+\"fold\"+f'{fold:0>2}', epoch))\n",
    "        saved_state_dict = checkpoint['model_state_dict']\n",
    "        model= nn.DataParallel(model,device_ids=[0])\n",
    "        model.load_state_dict(saved_state_dict)\n",
    "        model.cuda(gpu)\n",
    "        model.eval()\n",
    "        total = 0\n",
    "        idx_tensor = [idx for idx in range(35)]\n",
    "        idx_tensor = torch.FloatTensor(idx_tensor).cuda(gpu)\n",
    "        avg_error = .0\n",
    "        with torch.no_grad():\n",
    "            for j, (images, labels, cont_labels, name) in enumerate(test_loader):\n",
    "                images = Variable(images).cuda(gpu)\n",
    "                total += cont_labels.size(0)\n",
    "\n",
    "                label_pitch = cont_labels[:,0].float()*np.pi/180\n",
    "                label_yaw = cont_labels[:,1].float()*np.pi/180\n",
    "\n",
    "                gaze_pitch, gaze_yaw = model(images)\n",
    "\n",
    "                # Binned predictions\n",
    "                _, pitch_bpred = torch.max(gaze_pitch.data, 1)\n",
    "                _, yaw_bpred = torch.max(gaze_yaw.data, 1)\n",
    "\n",
    "                # Continuous predictions\n",
    "                pitch_predicted = softmax(gaze_pitch)\n",
    "                yaw_predicted = softmax(gaze_yaw)\n",
    "\n",
    "                # mapping from binned (0 to 28) to angels (-42 to 42)                \n",
    "                pitch_predicted = \\\n",
    "                    torch.sum(pitch_predicted * idx_tensor, 1).cpu() * 3 - 52\n",
    "                yaw_predicted = \\\n",
    "                    torch.sum(yaw_predicted * idx_tensor, 1).cpu() * 3 - 52\n",
    "\n",
    "                pitch_predicted = pitch_predicted*np.pi/180\n",
    "                yaw_predicted = yaw_predicted*np.pi/180\n",
    "\n",
    "                for p,y,pl,yl in zip(pitch_predicted, yaw_predicted, label_pitch, label_yaw):\n",
    "                    pl, yl = yl, pl*(-1.0)\n",
    "#                     yl = yl*(-1.0)\n",
    "                    avg_error += angular(gazeto3d([p,y]), gazeto3d([pl,yl]))\n",
    "\n",
    "        x = ''.join(filter(lambda i: i.isdigit(), epoch))\n",
    "#             print(f\"x={x}\")\n",
    "        \n",
    "        epoch_list.append(x)\n",
    "        mean_mae = avg_error/total  #mean mae over the 3000 iamges\n",
    "        avg_MAE.append(mean_mae)  \n",
    "#             print(f\"total={total}\")\n",
    "        now = get_now()\n",
    "        loger = f\"[{epoch}---{args.dataset}] Total Num:{total},MAE:{mean_mae}  {now}\"\n",
    "#         outfile.write(loger)\n",
    "        print(loger)\n",
    "#             print(f\"done epoch={epochs}\")\n",
    "        epochn = int(x)\n",
    "#         wandb.log({'epoch':epochn,'total':total, 'MAE':mean_mae, 'FOLD':fold })\n",
    "#         tosave ={'epoch':epochn,'total':total, 'MAE':mean_mae, 'FOLD':fold }\n",
    "        epoch_values.append(epochn)\n",
    "        mae_values.append(mean_mae)\n",
    "# #         wandb.log(tosave)\n",
    "        wandb.log({'epoch': epoch, f'try3_fold_{fold}_avg_mae':mean_mae}, step=epochn)\n",
    "       \n",
    "    all_MAE.append(avg_MAE)\n",
    "    wandb.finish()"
   ]
  },
  {
   "cell_type": "code",
   "execution_count": null,
   "id": "065622ef",
   "metadata": {},
   "outputs": [],
   "source": [
    "all_MAE=np.array(all_MAE)"
   ]
  },
  {
   "cell_type": "code",
   "execution_count": null,
   "id": "0872f6ce",
   "metadata": {},
   "outputs": [],
   "source": [
    "\n",
    "print(all_MAE.shape)\n",
    "print(all_MAE.mean(axis=0))\n",
    "print(all_MAE.mean(axis=1))\n",
    "print(all_MAE.mean(axis=0).argmin()+1 ,all_MAE.mean(axis=0).min())"
   ]
  },
  {
   "cell_type": "code",
   "execution_count": null,
   "id": "e80e9406",
   "metadata": {},
   "outputs": [],
   "source": [
    "best_epoch = all_MAE.mean(axis=0).argmin()+1\n",
    "min_error = all_MAE.mean(axis=0).min()\n",
    "mean_errors = all_MAE.mean(axis=0)\n",
    "print(best_epoch,min_error, mean_errors.shape )"
   ]
  },
  {
   "cell_type": "code",
   "execution_count": null,
   "id": "2f3e55ad",
   "metadata": {},
   "outputs": [],
   "source": [
    "xx = mean_errors\n",
    "min_error = 100\n",
    "with wandb.init(project=\"51_syn_mode_real_data\") as run:\n",
    "    run.name = \"mean_error_per_epoch\"\n",
    "    for epoch in range(len(xx)):\n",
    "        err = xx[epoch]\n",
    "        if err < min_error:\n",
    "            min_error = err\n",
    "            run.summary[\"minimum_error (degree)\"] = min_error\n",
    "        run.log({f'mean epoch error (degree)':err}, step=epoch)\n",
    "        "
   ]
  },
  {
   "cell_type": "code",
   "execution_count": 23,
   "id": "257cf58e",
   "metadata": {},
   "outputs": [
    {
     "name": "stdout",
     "output_type": "stream",
     "text": [
      "[5.46698438 3.96265729 4.06472395 0.8865131  3.47301196 7.25025669]\n",
      "0.8865131006431637 4\n",
      "[2.55403933 5.66630394 1.48551851 8.9010489  8.82885815 1.64175271]\n",
      "1.4855185086970635 3\n",
      "[8.65936227 6.86737658 0.37053953 5.95360818 3.36476025 9.77142008]\n",
      "0.3705395291158198 3\n",
      "[5.94438774 5.99168893 2.66488245 5.21474523 5.38320772 3.08296203]\n",
      "2.6648824519239636 3\n",
      "[0.26761896 4.91284112 8.31060362 5.63338567 5.08647442 0.01119055]\n",
      "0.011190553776925238 6\n"
     ]
    }
   ],
   "source": [
    "xx = 10*np.random.random((5, 6))\n",
    "for row in xx:\n",
    "    print(row)\n",
    "    print(row.min(), np.argmin(row)+1)\n"
   ]
  },
  {
   "cell_type": "code",
   "execution_count": null,
   "id": "51104be8",
   "metadata": {},
   "outputs": [],
   "source": [
    "for fdata in all_MAE:\n",
    "    best_epoch = np.argmin(fdata)+1\n",
    "    min_at_best\n",
    "    "
   ]
  }
 ],
 "metadata": {
  "kernelspec": {
   "display_name": "Python 3 (ipykernel)",
   "language": "python",
   "name": "python3"
  },
  "language_info": {
   "codemirror_mode": {
    "name": "ipython",
    "version": 3
   },
   "file_extension": ".py",
   "mimetype": "text/x-python",
   "name": "python",
   "nbconvert_exporter": "python",
   "pygments_lexer": "ipython3",
   "version": "3.8.10"
  }
 },
 "nbformat": 4,
 "nbformat_minor": 5
}
