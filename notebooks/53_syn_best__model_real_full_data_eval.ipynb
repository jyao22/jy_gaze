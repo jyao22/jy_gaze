{
 "cells": [
  {
   "cell_type": "code",
   "execution_count": null,
   "id": "d6676383",
   "metadata": {},
   "outputs": [],
   "source": [
    "# will use the best "
   ]
  },
  {
   "cell_type": "code",
   "execution_count": 5,
   "id": "662efc9c",
   "metadata": {},
   "outputs": [],
   "source": [
    "import os, argparse\n",
    "import numpy as np\n",
    "import matplotlib.pyplot as plt\n",
    "from datetime import datetime\n",
    "from pytz import timezone\n",
    "from pathlib import Path\n",
    "import torch\n",
    "import torch.nn as nn\n",
    "from torch.autograd import Variable\n",
    "from torch.utils.data import DataLoader\n",
    "from torchvision import transforms\n",
    "import torch.backends.cudnn as cudnn\n",
    "import torchvision\n",
    "import wandb\n",
    "\n",
    "import datasets\n",
    "# from utils import select_device, natural_keys, gazeto3d, angular, getArch\n",
    "from utils import select_device, natural_keys, gazeto3d, angular, getArch\n",
    "from model import L2CS"
   ]
  },
  {
   "cell_type": "code",
   "execution_count": 6,
   "id": "ed29c578",
   "metadata": {},
   "outputs": [],
   "source": [
    "\n",
    "args = argparse.Namespace()\n",
    "args.gazeMpiimage_dir = '/project/data/Image'  #real data \n",
    "args.gazeMpiilabel_dir = '/project/data/Label'  #real label\n",
    "# args.output = '/project/results/soutput1/snapshots/'\n",
    "args.dataset = 'mpiigaze'\n",
    "args.snapshot='/project/results/soutput1/snapshots/'\n",
    "# args.evalpath = '/project/results/sroutput1/evaluation/'\n",
    "args.gpu_id = '0,1,2,3'\n",
    "args.gpu_id = '0'\n",
    "args.batch_size = 20\n",
    "args.arch = 'ResNet50'\n",
    "args.bins=35\n",
    "args.angle = 180\n",
    "args.bin_width = 4\n"
   ]
  },
  {
   "cell_type": "code",
   "execution_count": 8,
   "id": "d0e11321",
   "metadata": {},
   "outputs": [],
   "source": [
    "batch_size=args.batch_size\n",
    "arch=args.arch\n",
    "data_set=args.dataset\n",
    "# evalpath =args.evalpath\n",
    "snapshot_path = args.snapshot\n",
    "bins=args.bins\n",
    "angle=args.angle\n",
    "bin_width=args.bin_width"
   ]
  },
  {
   "cell_type": "code",
   "execution_count": 9,
   "id": "0504fda4",
   "metadata": {},
   "outputs": [],
   "source": [
    "# args = parse_args()\n",
    "cudnn.enabled = True\n",
    "gpu = select_device(args.gpu_id, batch_size=args.batch_size)\n",
    "transformations = transforms.Compose([\n",
    "    transforms.Resize(448),\n",
    "    transforms.ToTensor(),\n",
    "    transforms.Normalize(\n",
    "        mean=[0.485, 0.456, 0.406],\n",
    "        std=[0.229, 0.224, 0.225]\n",
    "    )\n",
    "])\n",
    "\n",
    "model_used=getArch(arch, bins)  #resnet50 and 28 bins"
   ]
  },
  {
   "cell_type": "code",
   "execution_count": 11,
   "id": "92510632",
   "metadata": {},
   "outputs": [],
   "source": [
    "#read the fold epoch table\n",
    "dfile = Path(snapshot_path).parent/\"syn_syn_all_MAE.npy\"\n",
    "all_MAE = np.load(dfile)\n"
   ]
  },
  {
   "cell_type": "code",
   "execution_count": 5,
   "id": "6e2eff08",
   "metadata": {},
   "outputs": [
    {
     "name": "stdout",
     "output_type": "stream",
     "text": [
      "0:60 1:60 2:60 3:60 4:60 5:60 6:60 7:60 8:60 9:60 10:60 11:60 12:60 13:60 14:60 "
     ]
    }
   ],
   "source": [
    "# check if we have the correct number of checkpoint files \n",
    "ppath = snapshot_path\n",
    "for fold in range(15):\n",
    "    foldstr = f\"fold{fold:0>2}\"\n",
    "    cpath =os.path.join(ppath, foldstr)\n",
    "    files = os.listdir(cpath)\n",
    "    print(f'{fold}:{len(files)}',end=\" \")"
   ]
  },
  {
   "cell_type": "code",
   "execution_count": 6,
   "id": "72df5465",
   "metadata": {},
   "outputs": [
    {
     "name": "stdout",
     "output_type": "stream",
     "text": [
      "06/27/2022 12:38:23\n"
     ]
    }
   ],
   "source": [
    "def get_now():\n",
    "    now = datetime.utcnow()\n",
    "    now = now.astimezone(timezone('US/Pacific'))\n",
    "    date_format='%m/%d/%Y %H:%M:%S'\n",
    "    now = now.strftime(date_format) \n",
    "    return now\n",
    "print(get_now())"
   ]
  },
  {
   "cell_type": "code",
   "execution_count": 7,
   "id": "f0cf2212",
   "metadata": {},
   "outputs": [
    {
     "name": "stderr",
     "output_type": "stream",
     "text": [
      "\u001b[34m\u001b[1mwandb\u001b[0m: Currently logged in as: \u001b[33msynthesis-ai\u001b[0m (use `wandb login --relogin` to force relogin)\n"
     ]
    },
    {
     "data": {
      "text/html": [
       "wandb version 0.12.19 is available!  To upgrade, please run:\n",
       " $ pip install wandb --upgrade"
      ],
      "text/plain": [
       "<IPython.core.display.HTML object>"
      ]
     },
     "metadata": {},
     "output_type": "display_data"
    },
    {
     "data": {
      "text/html": [
       "Tracking run with wandb version 0.12.15"
      ],
      "text/plain": [
       "<IPython.core.display.HTML object>"
      ]
     },
     "metadata": {},
     "output_type": "display_data"
    },
    {
     "data": {
      "text/html": [
       "Run data is saved locally in <code>/project/notebooks/wandb/run-20220627_193823-3tgfecpq</code>"
      ],
      "text/plain": [
       "<IPython.core.display.HTML object>"
      ]
     },
     "metadata": {},
     "output_type": "display_data"
    },
    {
     "data": {
      "text/html": [
       "Syncing run <strong><a href=\"https://wandb.ai/synthesis-ai/52_syn_mode_syn_data/runs/3tgfecpq\" target=\"_blank\">stellar-sunset-33</a></strong> to <a href=\"https://wandb.ai/synthesis-ai/52_syn_mode_syn_data\" target=\"_blank\">Weights & Biases</a> (<a href=\"https://wandb.me/run\" target=\"_blank\">docs</a>)<br/>"
      ],
      "text/plain": [
       "<IPython.core.display.HTML object>"
      ]
     },
     "metadata": {},
     "output_type": "display_data"
    },
    {
     "name": "stdout",
     "output_type": "stream",
     "text": [
      "fold=0\n",
      "/project/data/sdata1/Label\n",
      "34 items removed from dataset that have an angle > 180\n",
      "\n",
      "test configuration equal gpu_id=cuda:0, batch_size=20, model_arch=ResNet50\n",
      "Start testing dataset=mpiigaze, FOLD=0 --06/27/2022 12:38:27---------\n",
      "entering epoch=epoch_1.pkl\n",
      "[epoch_1.pkl---mpiigaze] Total Num:2965,MAE:4.160915964395066  06/27/2022 12:38:45\n",
      "entering epoch=epoch_2.pkl\n",
      "[epoch_2.pkl---mpiigaze] Total Num:2965,MAE:5.33510551449734  06/27/2022 12:38:56\n",
      "entering epoch=epoch_3.pkl\n",
      "[epoch_3.pkl---mpiigaze] Total Num:2965,MAE:4.246983338873192  06/27/2022 12:39:08\n",
      "entering epoch=epoch_4.pkl\n",
      "[epoch_4.pkl---mpiigaze] Total Num:2965,MAE:4.236115192593811  06/27/2022 12:39:17\n",
      "entering epoch=epoch_5.pkl\n",
      "[epoch_5.pkl---mpiigaze] Total Num:2965,MAE:3.223275941795794  06/27/2022 12:39:27\n",
      "entering epoch=epoch_6.pkl\n",
      "[epoch_6.pkl---mpiigaze] Total Num:2965,MAE:4.100781316145508  06/27/2022 12:39:38\n",
      "entering epoch=epoch_7.pkl\n",
      "[epoch_7.pkl---mpiigaze] Total Num:2965,MAE:4.755649508429863  06/27/2022 12:39:47\n",
      "entering epoch=epoch_8.pkl\n",
      "[epoch_8.pkl---mpiigaze] Total Num:2965,MAE:3.9642673930677192  06/27/2022 12:39:59\n",
      "entering epoch=epoch_9.pkl\n",
      "[epoch_9.pkl---mpiigaze] Total Num:2965,MAE:3.8520882023445253  06/27/2022 12:40:09\n",
      "entering epoch=epoch_10.pkl\n",
      "[epoch_10.pkl---mpiigaze] Total Num:2965,MAE:3.677283762126258  06/27/2022 12:40:20\n",
      "entering epoch=epoch_11.pkl\n",
      "[epoch_11.pkl---mpiigaze] Total Num:2965,MAE:3.2156752260145947  06/27/2022 12:40:31\n",
      "entering epoch=epoch_12.pkl\n",
      "[epoch_12.pkl---mpiigaze] Total Num:2965,MAE:2.8995507344677223  06/27/2022 12:40:43\n",
      "entering epoch=epoch_13.pkl\n",
      "[epoch_13.pkl---mpiigaze] Total Num:2965,MAE:3.780264248505874  06/27/2022 12:40:54\n",
      "entering epoch=epoch_14.pkl\n",
      "[epoch_14.pkl---mpiigaze] Total Num:2965,MAE:4.059562251205801  06/27/2022 12:41:04\n",
      "entering epoch=epoch_15.pkl\n",
      "[epoch_15.pkl---mpiigaze] Total Num:2965,MAE:3.821437591592677  06/27/2022 12:41:15\n",
      "entering epoch=epoch_16.pkl\n",
      "[epoch_16.pkl---mpiigaze] Total Num:2965,MAE:3.293156588962341  06/27/2022 12:41:26\n",
      "entering epoch=epoch_17.pkl\n",
      "[epoch_17.pkl---mpiigaze] Total Num:2965,MAE:4.04402348006235  06/27/2022 12:41:37\n",
      "entering epoch=epoch_18.pkl\n",
      "[epoch_18.pkl---mpiigaze] Total Num:2965,MAE:3.8396109150801254  06/27/2022 12:41:48\n",
      "entering epoch=epoch_19.pkl\n",
      "[epoch_19.pkl---mpiigaze] Total Num:2965,MAE:3.330191228798332  06/27/2022 12:41:59\n",
      "entering epoch=epoch_20.pkl\n",
      "[epoch_20.pkl---mpiigaze] Total Num:2965,MAE:3.18198406446833  06/27/2022 12:42:11\n",
      "entering epoch=epoch_21.pkl\n",
      "[epoch_21.pkl---mpiigaze] Total Num:2965,MAE:4.2693305471094245  06/27/2022 12:42:22\n",
      "entering epoch=epoch_22.pkl\n",
      "[epoch_22.pkl---mpiigaze] Total Num:2965,MAE:3.724451875747099  06/27/2022 12:42:34\n",
      "entering epoch=epoch_23.pkl\n",
      "[epoch_23.pkl---mpiigaze] Total Num:2965,MAE:2.9298716242731646  06/27/2022 12:42:46\n",
      "entering epoch=epoch_24.pkl\n",
      "[epoch_24.pkl---mpiigaze] Total Num:2965,MAE:3.126422407389586  06/27/2022 12:42:58\n",
      "entering epoch=epoch_25.pkl\n",
      "[epoch_25.pkl---mpiigaze] Total Num:2965,MAE:3.333158524215804  06/27/2022 12:43:10\n",
      "entering epoch=epoch_26.pkl\n",
      "[epoch_26.pkl---mpiigaze] Total Num:2965,MAE:2.887020029122162  06/27/2022 12:43:22\n",
      "entering epoch=epoch_27.pkl\n",
      "[epoch_27.pkl---mpiigaze] Total Num:2965,MAE:3.3648381907177303  06/27/2022 12:43:35\n",
      "entering epoch=epoch_28.pkl\n",
      "[epoch_28.pkl---mpiigaze] Total Num:2965,MAE:3.600869714661277  06/27/2022 12:43:46\n",
      "entering epoch=epoch_29.pkl\n",
      "[epoch_29.pkl---mpiigaze] Total Num:2965,MAE:2.934868505022086  06/27/2022 12:43:58\n",
      "entering epoch=epoch_30.pkl\n",
      "[epoch_30.pkl---mpiigaze] Total Num:2965,MAE:3.2593945966211204  06/27/2022 12:44:09\n",
      "entering epoch=epoch_31.pkl\n",
      "[epoch_31.pkl---mpiigaze] Total Num:2965,MAE:3.408645795163362  06/27/2022 12:44:20\n",
      "entering epoch=epoch_32.pkl\n",
      "[epoch_32.pkl---mpiigaze] Total Num:2965,MAE:3.1941499792494548  06/27/2022 12:44:31\n",
      "entering epoch=epoch_33.pkl\n",
      "[epoch_33.pkl---mpiigaze] Total Num:2965,MAE:3.397558549622935  06/27/2022 12:44:41\n",
      "entering epoch=epoch_34.pkl\n",
      "[epoch_34.pkl---mpiigaze] Total Num:2965,MAE:2.8175722511793686  06/27/2022 12:44:50\n",
      "entering epoch=epoch_35.pkl\n",
      "[epoch_35.pkl---mpiigaze] Total Num:2965,MAE:3.0675796207434463  06/27/2022 12:45:01\n",
      "entering epoch=epoch_36.pkl\n",
      "[epoch_36.pkl---mpiigaze] Total Num:2965,MAE:3.5162939732099496  06/27/2022 12:45:12\n",
      "entering epoch=epoch_37.pkl\n",
      "[epoch_37.pkl---mpiigaze] Total Num:2965,MAE:2.889635251891274  06/27/2022 12:45:24\n",
      "entering epoch=epoch_38.pkl\n",
      "[epoch_38.pkl---mpiigaze] Total Num:2965,MAE:3.15612283669609  06/27/2022 12:45:34\n",
      "entering epoch=epoch_39.pkl\n",
      "[epoch_39.pkl---mpiigaze] Total Num:2965,MAE:3.0976058272587106  06/27/2022 12:45:45\n",
      "entering epoch=epoch_40.pkl\n",
      "[epoch_40.pkl---mpiigaze] Total Num:2965,MAE:3.234409005672778  06/27/2022 12:45:57\n",
      "entering epoch=epoch_41.pkl\n",
      "[epoch_41.pkl---mpiigaze] Total Num:2965,MAE:2.878470289070611  06/27/2022 12:46:09\n",
      "entering epoch=epoch_42.pkl\n",
      "[epoch_42.pkl---mpiigaze] Total Num:2965,MAE:2.98083525420385  06/27/2022 12:46:21\n",
      "entering epoch=epoch_43.pkl\n",
      "[epoch_43.pkl---mpiigaze] Total Num:2965,MAE:3.126160395487247  06/27/2022 12:46:33\n",
      "entering epoch=epoch_44.pkl\n",
      "[epoch_44.pkl---mpiigaze] Total Num:2965,MAE:3.4611821491105665  06/27/2022 12:46:45\n",
      "entering epoch=epoch_45.pkl\n",
      "[epoch_45.pkl---mpiigaze] Total Num:2965,MAE:3.1898803794967954  06/27/2022 12:46:55\n",
      "entering epoch=epoch_46.pkl\n",
      "[epoch_46.pkl---mpiigaze] Total Num:2965,MAE:3.175885611396017  06/27/2022 12:47:08\n",
      "entering epoch=epoch_47.pkl\n",
      "[epoch_47.pkl---mpiigaze] Total Num:2965,MAE:2.8891507151949485  06/27/2022 12:47:20\n",
      "entering epoch=epoch_48.pkl\n",
      "[epoch_48.pkl---mpiigaze] Total Num:2965,MAE:3.0903160169503647  06/27/2022 12:47:32\n",
      "entering epoch=epoch_49.pkl\n",
      "[epoch_49.pkl---mpiigaze] Total Num:2965,MAE:2.920684639864195  06/27/2022 12:47:45\n",
      "entering epoch=epoch_50.pkl\n",
      "[epoch_50.pkl---mpiigaze] Total Num:2965,MAE:3.175212355207005  06/27/2022 12:47:57\n",
      "entering epoch=epoch_51.pkl\n",
      "[epoch_51.pkl---mpiigaze] Total Num:2965,MAE:3.0968688513245417  06/27/2022 12:48:09\n",
      "entering epoch=epoch_52.pkl\n",
      "[epoch_52.pkl---mpiigaze] Total Num:2965,MAE:3.58352417420663  06/27/2022 12:48:21\n",
      "entering epoch=epoch_53.pkl\n",
      "[epoch_53.pkl---mpiigaze] Total Num:2965,MAE:3.263805582743227  06/27/2022 12:48:31\n",
      "entering epoch=epoch_54.pkl\n",
      "[epoch_54.pkl---mpiigaze] Total Num:2965,MAE:3.1057364410591957  06/27/2022 12:48:43\n",
      "entering epoch=epoch_55.pkl\n",
      "[epoch_55.pkl---mpiigaze] Total Num:2965,MAE:3.029108319879065  06/27/2022 12:48:54\n",
      "entering epoch=epoch_56.pkl\n",
      "[epoch_56.pkl---mpiigaze] Total Num:2965,MAE:3.587248178197563  06/27/2022 12:49:05\n",
      "entering epoch=epoch_57.pkl\n",
      "[epoch_57.pkl---mpiigaze] Total Num:2965,MAE:3.1574343671043796  06/27/2022 12:49:16\n",
      "entering epoch=epoch_58.pkl\n",
      "[epoch_58.pkl---mpiigaze] Total Num:2965,MAE:3.030116576837156  06/27/2022 12:49:27\n",
      "entering epoch=epoch_59.pkl\n",
      "[epoch_59.pkl---mpiigaze] Total Num:2965,MAE:2.8493412829549656  06/27/2022 12:49:38\n",
      "entering epoch=epoch_60.pkl\n",
      "[epoch_60.pkl---mpiigaze] Total Num:2965,MAE:2.9208998758955085  06/27/2022 12:49:49\n"
     ]
    },
    {
     "data": {
      "text/html": [
       "Waiting for W&B process to finish... <strong style=\"color:green\">(success).</strong>"
      ],
      "text/plain": [
       "<IPython.core.display.HTML object>"
      ]
     },
     "metadata": {},
     "output_type": "display_data"
    },
    {
     "data": {
      "application/vnd.jupyter.widget-view+json": {
       "model_id": "",
       "version_major": 2,
       "version_minor": 0
      },
      "text/plain": [
       "VBox(children=(Label(value='0.001 MB of 0.001 MB uploaded (0.000 MB deduped)\\r'), FloatProgress(value=1.0, max…"
      ]
     },
     "metadata": {},
     "output_type": "display_data"
    },
    {
     "data": {
      "text/html": [
       "<style>\n",
       "    table.wandb td:nth-child(1) { padding: 0 10px; text-align: right }\n",
       "    .wandb-row { display: flex; flex-direction: row; flex-wrap: wrap; width: 100% }\n",
       "    .wandb-col { display: flex; flex-direction: column; flex-basis: 100%; flex: 1; padding: 10px; }\n",
       "    </style>\n",
       "<div class=\"wandb-row\"><div class=\"wandb-col\"><h3>Run history:</h3><br/><table class=\"wandb\"><tr><td>try3-fold_0_mean_mae</td><td>▅█▅▂▆▄▃▂▄▄▂▄▂▂▄▁▂▁▃▁▃▂▁▂▁▂▂▁▂▃▂▁▁▂▃▂▂▃▂▁</td></tr></table><br/></div><div class=\"wandb-col\"><h3>Run summary:</h3><br/><table class=\"wandb\"><tr><td>epoch</td><td>epoch_60.pkl</td></tr><tr><td>try3-fold_0_mean_mae</td><td>2.9209</td></tr></table><br/></div></div>"
      ],
      "text/plain": [
       "<IPython.core.display.HTML object>"
      ]
     },
     "metadata": {},
     "output_type": "display_data"
    },
    {
     "data": {
      "text/html": [
       "Synced <strong style=\"color:#cdcd00\">stellar-sunset-33</strong>: <a href=\"https://wandb.ai/synthesis-ai/52_syn_mode_syn_data/runs/3tgfecpq\" target=\"_blank\">https://wandb.ai/synthesis-ai/52_syn_mode_syn_data/runs/3tgfecpq</a><br/>Synced 5 W&B file(s), 0 media file(s), 0 artifact file(s) and 0 other file(s)"
      ],
      "text/plain": [
       "<IPython.core.display.HTML object>"
      ]
     },
     "metadata": {},
     "output_type": "display_data"
    },
    {
     "data": {
      "text/html": [
       "Find logs at: <code>./wandb/run-20220627_193823-3tgfecpq/logs</code>"
      ],
      "text/plain": [
       "<IPython.core.display.HTML object>"
      ]
     },
     "metadata": {},
     "output_type": "display_data"
    },
    {
     "data": {
      "text/html": [
       "wandb version 0.12.19 is available!  To upgrade, please run:\n",
       " $ pip install wandb --upgrade"
      ],
      "text/plain": [
       "<IPython.core.display.HTML object>"
      ]
     },
     "metadata": {},
     "output_type": "display_data"
    },
    {
     "data": {
      "text/html": [
       "Tracking run with wandb version 0.12.15"
      ],
      "text/plain": [
       "<IPython.core.display.HTML object>"
      ]
     },
     "metadata": {},
     "output_type": "display_data"
    },
    {
     "data": {
      "text/html": [
       "Run data is saved locally in <code>/project/notebooks/wandb/run-20220627_194953-19tqktlq</code>"
      ],
      "text/plain": [
       "<IPython.core.display.HTML object>"
      ]
     },
     "metadata": {},
     "output_type": "display_data"
    },
    {
     "data": {
      "text/html": [
       "Syncing run <strong><a href=\"https://wandb.ai/synthesis-ai/52_syn_mode_syn_data/runs/19tqktlq\" target=\"_blank\">daily-tree-34</a></strong> to <a href=\"https://wandb.ai/synthesis-ai/52_syn_mode_syn_data\" target=\"_blank\">Weights & Biases</a> (<a href=\"https://wandb.me/run\" target=\"_blank\">docs</a>)<br/>"
      ],
      "text/plain": [
       "<IPython.core.display.HTML object>"
      ]
     },
     "metadata": {},
     "output_type": "display_data"
    },
    {
     "name": "stdout",
     "output_type": "stream",
     "text": [
      "fold=1\n",
      "/project/data/sdata1/Label\n",
      "29 items removed from dataset that have an angle > 180\n",
      "\n",
      "test configuration equal gpu_id=cuda:0, batch_size=20, model_arch=ResNet50\n",
      "Start testing dataset=mpiigaze, FOLD=1 --06/27/2022 12:49:56---------\n",
      "entering epoch=epoch_1.pkl\n",
      "[epoch_1.pkl---mpiigaze] Total Num:2970,MAE:4.214985442861321  06/27/2022 12:50:08\n",
      "entering epoch=epoch_2.pkl\n",
      "[epoch_2.pkl---mpiigaze] Total Num:2970,MAE:3.5431420969877454  06/27/2022 12:50:18\n",
      "entering epoch=epoch_3.pkl\n",
      "[epoch_3.pkl---mpiigaze] Total Num:2970,MAE:3.153305267352677  06/27/2022 12:50:28\n",
      "entering epoch=epoch_4.pkl\n",
      "[epoch_4.pkl---mpiigaze] Total Num:2970,MAE:3.057250446086016  06/27/2022 12:50:38\n",
      "entering epoch=epoch_5.pkl\n",
      "[epoch_5.pkl---mpiigaze] Total Num:2970,MAE:3.1736970597216074  06/27/2022 12:50:48\n",
      "entering epoch=epoch_6.pkl\n",
      "[epoch_6.pkl---mpiigaze] Total Num:2970,MAE:2.9861852528065915  06/27/2022 12:50:59\n",
      "entering epoch=epoch_7.pkl\n",
      "[epoch_7.pkl---mpiigaze] Total Num:2970,MAE:3.0149085547382244  06/27/2022 12:51:11\n",
      "entering epoch=epoch_8.pkl\n",
      "[epoch_8.pkl---mpiigaze] Total Num:2970,MAE:2.9846846745108535  06/27/2022 12:51:22\n",
      "entering epoch=epoch_9.pkl\n",
      "[epoch_9.pkl---mpiigaze] Total Num:2970,MAE:3.0188465502059256  06/27/2022 12:51:31\n",
      "entering epoch=epoch_10.pkl\n",
      "[epoch_10.pkl---mpiigaze] Total Num:2970,MAE:2.9284960855917324  06/27/2022 12:51:42\n",
      "entering epoch=epoch_11.pkl\n",
      "[epoch_11.pkl---mpiigaze] Total Num:2970,MAE:3.038019367887343  06/27/2022 12:51:52\n",
      "entering epoch=epoch_12.pkl\n",
      "[epoch_12.pkl---mpiigaze] Total Num:2970,MAE:2.96327208552599  06/27/2022 12:52:03\n",
      "entering epoch=epoch_13.pkl\n",
      "[epoch_13.pkl---mpiigaze] Total Num:2970,MAE:2.974327178808967  06/27/2022 12:52:14\n",
      "entering epoch=epoch_14.pkl\n",
      "[epoch_14.pkl---mpiigaze] Total Num:2970,MAE:3.228079810981991  06/27/2022 12:52:25\n",
      "entering epoch=epoch_15.pkl\n",
      "[epoch_15.pkl---mpiigaze] Total Num:2970,MAE:3.462674710453402  06/27/2022 12:52:37\n",
      "entering epoch=epoch_16.pkl\n",
      "[epoch_16.pkl---mpiigaze] Total Num:2970,MAE:3.0988080947530254  06/27/2022 12:52:48\n",
      "entering epoch=epoch_17.pkl\n",
      "[epoch_17.pkl---mpiigaze] Total Num:2970,MAE:2.9670720704152673  06/27/2022 12:52:58\n",
      "entering epoch=epoch_18.pkl\n",
      "[epoch_18.pkl---mpiigaze] Total Num:2970,MAE:3.1540963099599577  06/27/2022 12:53:09\n",
      "entering epoch=epoch_19.pkl\n",
      "[epoch_19.pkl---mpiigaze] Total Num:2970,MAE:2.9175490878336747  06/27/2022 12:53:19\n",
      "entering epoch=epoch_20.pkl\n",
      "[epoch_20.pkl---mpiigaze] Total Num:2970,MAE:2.90727167902074  06/27/2022 12:53:29\n",
      "entering epoch=epoch_21.pkl\n",
      "[epoch_21.pkl---mpiigaze] Total Num:2970,MAE:2.807899300645361  06/27/2022 12:53:40\n",
      "entering epoch=epoch_22.pkl\n",
      "[epoch_22.pkl---mpiigaze] Total Num:2970,MAE:2.7793588577006734  06/27/2022 12:53:51\n",
      "entering epoch=epoch_23.pkl\n",
      "[epoch_23.pkl---mpiigaze] Total Num:2970,MAE:2.8284025171480827  06/27/2022 12:54:02\n",
      "entering epoch=epoch_24.pkl\n",
      "[epoch_24.pkl---mpiigaze] Total Num:2970,MAE:2.802080986407444  06/27/2022 12:54:12\n",
      "entering epoch=epoch_25.pkl\n",
      "[epoch_25.pkl---mpiigaze] Total Num:2970,MAE:2.950040908234543  06/27/2022 12:54:21\n",
      "entering epoch=epoch_26.pkl\n",
      "[epoch_26.pkl---mpiigaze] Total Num:2970,MAE:3.0795780217717725  06/27/2022 12:54:31\n",
      "entering epoch=epoch_27.pkl\n",
      "[epoch_27.pkl---mpiigaze] Total Num:2970,MAE:3.02706985225614  06/27/2022 12:54:41\n",
      "entering epoch=epoch_28.pkl\n",
      "[epoch_28.pkl---mpiigaze] Total Num:2970,MAE:2.8027274237044675  06/27/2022 12:54:51\n",
      "entering epoch=epoch_29.pkl\n",
      "[epoch_29.pkl---mpiigaze] Total Num:2970,MAE:2.917978259973239  06/27/2022 12:55:02\n",
      "entering epoch=epoch_30.pkl\n",
      "[epoch_30.pkl---mpiigaze] Total Num:2970,MAE:2.9957670816872066  06/27/2022 12:55:14\n",
      "entering epoch=epoch_31.pkl\n",
      "[epoch_31.pkl---mpiigaze] Total Num:2970,MAE:2.823689150744704  06/27/2022 12:55:23\n",
      "entering epoch=epoch_32.pkl\n",
      "[epoch_32.pkl---mpiigaze] Total Num:2970,MAE:2.895324489973778  06/27/2022 12:55:34\n",
      "entering epoch=epoch_33.pkl\n",
      "[epoch_33.pkl---mpiigaze] Total Num:2970,MAE:2.869915455316277  06/27/2022 12:55:44\n",
      "entering epoch=epoch_34.pkl\n",
      "[epoch_34.pkl---mpiigaze] Total Num:2970,MAE:2.8708267742744766  06/27/2022 12:55:54\n",
      "entering epoch=epoch_35.pkl\n",
      "[epoch_35.pkl---mpiigaze] Total Num:2970,MAE:2.8718012121665017  06/27/2022 12:56:04\n",
      "entering epoch=epoch_36.pkl\n",
      "[epoch_36.pkl---mpiigaze] Total Num:2970,MAE:2.8168666095566457  06/27/2022 12:56:14\n",
      "entering epoch=epoch_37.pkl\n",
      "[epoch_37.pkl---mpiigaze] Total Num:2970,MAE:2.9039339675568328  06/27/2022 12:56:25\n",
      "entering epoch=epoch_38.pkl\n",
      "[epoch_38.pkl---mpiigaze] Total Num:2970,MAE:2.871373937670375  06/27/2022 12:56:37\n",
      "entering epoch=epoch_39.pkl\n",
      "[epoch_39.pkl---mpiigaze] Total Num:2970,MAE:2.793931831121065  06/27/2022 12:56:44\n",
      "entering epoch=epoch_40.pkl\n",
      "[epoch_40.pkl---mpiigaze] Total Num:2970,MAE:2.870742790412116  06/27/2022 12:56:55\n",
      "entering epoch=epoch_41.pkl\n",
      "[epoch_41.pkl---mpiigaze] Total Num:2970,MAE:2.8387957617334916  06/27/2022 12:57:06\n",
      "entering epoch=epoch_42.pkl\n",
      "[epoch_42.pkl---mpiigaze] Total Num:2970,MAE:2.8910865963117987  06/27/2022 12:57:16\n",
      "entering epoch=epoch_43.pkl\n",
      "[epoch_43.pkl---mpiigaze] Total Num:2970,MAE:2.7727518756563527  06/27/2022 12:57:26\n",
      "entering epoch=epoch_44.pkl\n",
      "[epoch_44.pkl---mpiigaze] Total Num:2970,MAE:2.85021592223748  06/27/2022 12:57:36\n",
      "entering epoch=epoch_45.pkl\n",
      "[epoch_45.pkl---mpiigaze] Total Num:2970,MAE:2.8356325406266967  06/27/2022 12:57:46\n",
      "entering epoch=epoch_46.pkl\n",
      "[epoch_46.pkl---mpiigaze] Total Num:2970,MAE:2.803646714513656  06/27/2022 12:57:57\n",
      "entering epoch=epoch_47.pkl\n",
      "[epoch_47.pkl---mpiigaze] Total Num:2970,MAE:2.927590214666424  06/27/2022 12:58:08\n",
      "entering epoch=epoch_48.pkl\n",
      "[epoch_48.pkl---mpiigaze] Total Num:2970,MAE:2.7931992316116814  06/27/2022 12:58:19\n",
      "entering epoch=epoch_49.pkl\n",
      "[epoch_49.pkl---mpiigaze] Total Num:2970,MAE:2.77233845695317  06/27/2022 12:58:29\n",
      "entering epoch=epoch_50.pkl\n",
      "[epoch_50.pkl---mpiigaze] Total Num:2970,MAE:2.818949113792055  06/27/2022 12:58:40\n",
      "entering epoch=epoch_51.pkl\n",
      "[epoch_51.pkl---mpiigaze] Total Num:2970,MAE:2.8275015810750794  06/27/2022 12:58:50\n",
      "entering epoch=epoch_52.pkl\n",
      "[epoch_52.pkl---mpiigaze] Total Num:2970,MAE:2.8733178753550237  06/27/2022 12:59:00\n",
      "entering epoch=epoch_53.pkl\n",
      "[epoch_53.pkl---mpiigaze] Total Num:2970,MAE:2.86669173289754  06/27/2022 12:59:11\n",
      "entering epoch=epoch_54.pkl\n",
      "[epoch_54.pkl---mpiigaze] Total Num:2970,MAE:2.9459280524670945  06/27/2022 12:59:23\n",
      "entering epoch=epoch_55.pkl\n",
      "[epoch_55.pkl---mpiigaze] Total Num:2970,MAE:2.781262959860762  06/27/2022 12:59:34\n",
      "entering epoch=epoch_56.pkl\n",
      "[epoch_56.pkl---mpiigaze] Total Num:2970,MAE:2.9399973544362332  06/27/2022 12:59:44\n",
      "entering epoch=epoch_57.pkl\n",
      "[epoch_57.pkl---mpiigaze] Total Num:2970,MAE:2.832834047231237  06/27/2022 12:59:55\n",
      "entering epoch=epoch_58.pkl\n",
      "[epoch_58.pkl---mpiigaze] Total Num:2970,MAE:2.924564718109556  06/27/2022 13:00:05\n",
      "entering epoch=epoch_59.pkl\n",
      "[epoch_59.pkl---mpiigaze] Total Num:2970,MAE:2.8979504108563403  06/27/2022 13:00:14\n",
      "entering epoch=epoch_60.pkl\n",
      "[epoch_60.pkl---mpiigaze] Total Num:2970,MAE:2.733735111049329  06/27/2022 13:00:25\n"
     ]
    },
    {
     "data": {
      "text/html": [
       "Waiting for W&B process to finish... <strong style=\"color:green\">(success).</strong>"
      ],
      "text/plain": [
       "<IPython.core.display.HTML object>"
      ]
     },
     "metadata": {},
     "output_type": "display_data"
    },
    {
     "data": {
      "application/vnd.jupyter.widget-view+json": {
       "model_id": "",
       "version_major": 2,
       "version_minor": 0
      },
      "text/plain": [
       "VBox(children=(Label(value='0.001 MB of 0.001 MB uploaded (0.000 MB deduped)\\r'), FloatProgress(value=1.0, max…"
      ]
     },
     "metadata": {},
     "output_type": "display_data"
    },
    {
     "data": {
      "text/html": [
       "<style>\n",
       "    table.wandb td:nth-child(1) { padding: 0 10px; text-align: right }\n",
       "    .wandb-row { display: flex; flex-direction: row; flex-wrap: wrap; width: 100% }\n",
       "    .wandb-col { display: flex; flex-direction: column; flex-basis: 100%; flex: 1; padding: 10px; }\n",
       "    </style>\n",
       "<div class=\"wandb-row\"><div class=\"wandb-col\"><h3>Run history:</h3><br/><table class=\"wandb\"><tr><td>try3-fold_1_mean_mae</td><td>█▅▃▃▂▂▂▂▂▃▃▂▂▂▁▁▂▃▁▂▁▂▂▂▂▂▂▁▁▂▁▂▁▁▂▂▁▂▂▁</td></tr></table><br/></div><div class=\"wandb-col\"><h3>Run summary:</h3><br/><table class=\"wandb\"><tr><td>epoch</td><td>epoch_60.pkl</td></tr><tr><td>try3-fold_1_mean_mae</td><td>2.73374</td></tr></table><br/></div></div>"
      ],
      "text/plain": [
       "<IPython.core.display.HTML object>"
      ]
     },
     "metadata": {},
     "output_type": "display_data"
    },
    {
     "data": {
      "text/html": [
       "Synced <strong style=\"color:#cdcd00\">daily-tree-34</strong>: <a href=\"https://wandb.ai/synthesis-ai/52_syn_mode_syn_data/runs/19tqktlq\" target=\"_blank\">https://wandb.ai/synthesis-ai/52_syn_mode_syn_data/runs/19tqktlq</a><br/>Synced 5 W&B file(s), 0 media file(s), 0 artifact file(s) and 0 other file(s)"
      ],
      "text/plain": [
       "<IPython.core.display.HTML object>"
      ]
     },
     "metadata": {},
     "output_type": "display_data"
    },
    {
     "data": {
      "text/html": [
       "Find logs at: <code>./wandb/run-20220627_194953-19tqktlq/logs</code>"
      ],
      "text/plain": [
       "<IPython.core.display.HTML object>"
      ]
     },
     "metadata": {},
     "output_type": "display_data"
    },
    {
     "data": {
      "text/html": [
       "wandb version 0.12.19 is available!  To upgrade, please run:\n",
       " $ pip install wandb --upgrade"
      ],
      "text/plain": [
       "<IPython.core.display.HTML object>"
      ]
     },
     "metadata": {},
     "output_type": "display_data"
    },
    {
     "data": {
      "text/html": [
       "Tracking run with wandb version 0.12.15"
      ],
      "text/plain": [
       "<IPython.core.display.HTML object>"
      ]
     },
     "metadata": {},
     "output_type": "display_data"
    },
    {
     "data": {
      "text/html": [
       "Run data is saved locally in <code>/project/notebooks/wandb/run-20220627_200029-12nvk0ec</code>"
      ],
      "text/plain": [
       "<IPython.core.display.HTML object>"
      ]
     },
     "metadata": {},
     "output_type": "display_data"
    },
    {
     "data": {
      "text/html": [
       "Syncing run <strong><a href=\"https://wandb.ai/synthesis-ai/52_syn_mode_syn_data/runs/12nvk0ec\" target=\"_blank\">dry-wood-35</a></strong> to <a href=\"https://wandb.ai/synthesis-ai/52_syn_mode_syn_data\" target=\"_blank\">Weights & Biases</a> (<a href=\"https://wandb.me/run\" target=\"_blank\">docs</a>)<br/>"
      ],
      "text/plain": [
       "<IPython.core.display.HTML object>"
      ]
     },
     "metadata": {},
     "output_type": "display_data"
    },
    {
     "name": "stdout",
     "output_type": "stream",
     "text": [
      "fold=2\n",
      "/project/data/sdata1/Label\n",
      "22 items removed from dataset that have an angle > 180\n",
      "\n",
      "test configuration equal gpu_id=cuda:0, batch_size=20, model_arch=ResNet50\n",
      "Start testing dataset=mpiigaze, FOLD=2 --06/27/2022 13:00:32---------\n",
      "entering epoch=epoch_1.pkl\n",
      "[epoch_1.pkl---mpiigaze] Total Num:2977,MAE:3.567734358000204  06/27/2022 13:00:44\n",
      "entering epoch=epoch_2.pkl\n",
      "[epoch_2.pkl---mpiigaze] Total Num:2977,MAE:7.022065788018168  06/27/2022 13:00:54\n",
      "entering epoch=epoch_3.pkl\n",
      "[epoch_3.pkl---mpiigaze] Total Num:2977,MAE:3.4466644734718477  06/27/2022 13:01:05\n",
      "entering epoch=epoch_4.pkl\n",
      "[epoch_4.pkl---mpiigaze] Total Num:2977,MAE:3.248089017954897  06/27/2022 13:01:15\n",
      "entering epoch=epoch_5.pkl\n",
      "[epoch_5.pkl---mpiigaze] Total Num:2977,MAE:3.600243817441238  06/27/2022 13:01:25\n",
      "entering epoch=epoch_6.pkl\n",
      "[epoch_6.pkl---mpiigaze] Total Num:2977,MAE:3.662555296595227  06/27/2022 13:01:35\n",
      "entering epoch=epoch_7.pkl\n",
      "[epoch_7.pkl---mpiigaze] Total Num:2977,MAE:3.866286899181476  06/27/2022 13:01:45\n",
      "entering epoch=epoch_8.pkl\n",
      "[epoch_8.pkl---mpiigaze] Total Num:2977,MAE:3.7569699334566433  06/27/2022 13:01:56\n",
      "entering epoch=epoch_9.pkl\n",
      "[epoch_9.pkl---mpiigaze] Total Num:2977,MAE:3.710167189466242  06/27/2022 13:02:06\n",
      "entering epoch=epoch_10.pkl\n",
      "[epoch_10.pkl---mpiigaze] Total Num:2977,MAE:3.1416774757122297  06/27/2022 13:02:18\n",
      "entering epoch=epoch_11.pkl\n",
      "[epoch_11.pkl---mpiigaze] Total Num:2977,MAE:3.6792024154894816  06/27/2022 13:02:27\n",
      "entering epoch=epoch_12.pkl\n",
      "[epoch_12.pkl---mpiigaze] Total Num:2977,MAE:3.2103777855848374  06/27/2022 13:02:38\n",
      "entering epoch=epoch_13.pkl\n",
      "[epoch_13.pkl---mpiigaze] Total Num:2977,MAE:3.6601041253625546  06/27/2022 13:02:49\n",
      "entering epoch=epoch_14.pkl\n",
      "[epoch_14.pkl---mpiigaze] Total Num:2977,MAE:3.69613221130883  06/27/2022 13:02:59\n",
      "entering epoch=epoch_15.pkl\n",
      "[epoch_15.pkl---mpiigaze] Total Num:2977,MAE:3.864578843383935  06/27/2022 13:03:09\n",
      "entering epoch=epoch_16.pkl\n",
      "[epoch_16.pkl---mpiigaze] Total Num:2977,MAE:3.4191551163896343  06/27/2022 13:03:18\n",
      "entering epoch=epoch_17.pkl\n",
      "[epoch_17.pkl---mpiigaze] Total Num:2977,MAE:3.6957291802568046  06/27/2022 13:03:29\n",
      "entering epoch=epoch_18.pkl\n",
      "[epoch_18.pkl---mpiigaze] Total Num:2977,MAE:3.9690492778850923  06/27/2022 13:03:41\n",
      "entering epoch=epoch_19.pkl\n",
      "[epoch_19.pkl---mpiigaze] Total Num:2977,MAE:3.4434963160286403  06/27/2022 13:03:52\n",
      "entering epoch=epoch_20.pkl\n",
      "[epoch_20.pkl---mpiigaze] Total Num:2977,MAE:3.513344279132291  06/27/2022 13:04:01\n",
      "entering epoch=epoch_21.pkl\n",
      "[epoch_21.pkl---mpiigaze] Total Num:2977,MAE:3.6964495378622897  06/27/2022 13:04:11\n",
      "entering epoch=epoch_22.pkl\n",
      "[epoch_22.pkl---mpiigaze] Total Num:2977,MAE:3.651332615041021  06/27/2022 13:04:21\n",
      "entering epoch=epoch_23.pkl\n",
      "[epoch_23.pkl---mpiigaze] Total Num:2977,MAE:3.4712577378842044  06/27/2022 13:04:31\n",
      "entering epoch=epoch_24.pkl\n",
      "[epoch_24.pkl---mpiigaze] Total Num:2977,MAE:3.2195709670857706  06/27/2022 13:04:41\n",
      "entering epoch=epoch_25.pkl\n",
      "[epoch_25.pkl---mpiigaze] Total Num:2977,MAE:3.110325020962862  06/27/2022 13:04:52\n",
      "entering epoch=epoch_26.pkl\n",
      "[epoch_26.pkl---mpiigaze] Total Num:2977,MAE:3.6238005032579235  06/27/2022 13:05:04\n",
      "entering epoch=epoch_27.pkl\n",
      "[epoch_27.pkl---mpiigaze] Total Num:2977,MAE:3.3836066119752584  06/27/2022 13:05:16\n",
      "entering epoch=epoch_28.pkl\n",
      "[epoch_28.pkl---mpiigaze] Total Num:2977,MAE:3.216065999175005  06/27/2022 13:05:26\n",
      "entering epoch=epoch_29.pkl\n",
      "[epoch_29.pkl---mpiigaze] Total Num:2977,MAE:3.3587970534232183  06/27/2022 13:05:37\n",
      "entering epoch=epoch_30.pkl\n",
      "[epoch_30.pkl---mpiigaze] Total Num:2977,MAE:3.686067309372834  06/27/2022 13:05:47\n",
      "entering epoch=epoch_31.pkl\n",
      "[epoch_31.pkl---mpiigaze] Total Num:2977,MAE:3.2882621903088936  06/27/2022 13:05:57\n",
      "entering epoch=epoch_32.pkl\n",
      "[epoch_32.pkl---mpiigaze] Total Num:2977,MAE:3.452332916281212  06/27/2022 13:06:07\n",
      "entering epoch=epoch_33.pkl\n",
      "[epoch_33.pkl---mpiigaze] Total Num:2977,MAE:3.2834437719023892  06/27/2022 13:06:18\n",
      "entering epoch=epoch_34.pkl\n",
      "[epoch_34.pkl---mpiigaze] Total Num:2977,MAE:3.3695442627891037  06/27/2022 13:06:29\n",
      "entering epoch=epoch_35.pkl\n",
      "[epoch_35.pkl---mpiigaze] Total Num:2977,MAE:3.1725449899877525  06/27/2022 13:06:39\n",
      "entering epoch=epoch_36.pkl\n",
      "[epoch_36.pkl---mpiigaze] Total Num:2977,MAE:3.000589953114087  06/27/2022 13:06:50\n",
      "entering epoch=epoch_37.pkl\n",
      "[epoch_37.pkl---mpiigaze] Total Num:2977,MAE:3.2179069098142894  06/27/2022 13:07:00\n",
      "entering epoch=epoch_38.pkl\n",
      "[epoch_38.pkl---mpiigaze] Total Num:2977,MAE:3.2314281185140583  06/27/2022 13:07:11\n",
      "entering epoch=epoch_39.pkl\n",
      "[epoch_39.pkl---mpiigaze] Total Num:2977,MAE:3.167246623387678  06/27/2022 13:07:21\n",
      "entering epoch=epoch_40.pkl\n",
      "[epoch_40.pkl---mpiigaze] Total Num:2977,MAE:3.4739774791495255  06/27/2022 13:07:31\n",
      "entering epoch=epoch_41.pkl\n",
      "[epoch_41.pkl---mpiigaze] Total Num:2977,MAE:3.2988867192071436  06/27/2022 13:07:41\n",
      "entering epoch=epoch_42.pkl\n",
      "[epoch_42.pkl---mpiigaze] Total Num:2977,MAE:3.6266196933247246  06/27/2022 13:07:53\n",
      "entering epoch=epoch_43.pkl\n",
      "[epoch_43.pkl---mpiigaze] Total Num:2977,MAE:3.431231954571742  06/27/2022 13:08:03\n",
      "entering epoch=epoch_44.pkl\n",
      "[epoch_44.pkl---mpiigaze] Total Num:2977,MAE:3.2388199636179325  06/27/2022 13:08:14\n",
      "entering epoch=epoch_45.pkl\n",
      "[epoch_45.pkl---mpiigaze] Total Num:2977,MAE:3.508926392512203  06/27/2022 13:08:24\n",
      "entering epoch=epoch_46.pkl\n",
      "[epoch_46.pkl---mpiigaze] Total Num:2977,MAE:3.2503553307248216  06/27/2022 13:08:34\n",
      "entering epoch=epoch_47.pkl\n",
      "[epoch_47.pkl---mpiigaze] Total Num:2977,MAE:3.113383603835083  06/27/2022 13:08:43\n",
      "entering epoch=epoch_48.pkl\n",
      "[epoch_48.pkl---mpiigaze] Total Num:2977,MAE:3.412274881014071  06/27/2022 13:08:51\n",
      "entering epoch=epoch_49.pkl\n",
      "[epoch_49.pkl---mpiigaze] Total Num:2977,MAE:3.4777109370512136  06/27/2022 13:09:02\n",
      "entering epoch=epoch_50.pkl\n",
      "[epoch_50.pkl---mpiigaze] Total Num:2977,MAE:3.408971624119943  06/27/2022 13:09:13\n",
      "entering epoch=epoch_51.pkl\n",
      "[epoch_51.pkl---mpiigaze] Total Num:2977,MAE:3.218497512988617  06/27/2022 13:09:24\n",
      "entering epoch=epoch_52.pkl\n",
      "[epoch_52.pkl---mpiigaze] Total Num:2977,MAE:3.3432865866854677  06/27/2022 13:09:35\n",
      "entering epoch=epoch_53.pkl\n",
      "[epoch_53.pkl---mpiigaze] Total Num:2977,MAE:3.2539083590116857  06/27/2022 13:09:46\n",
      "entering epoch=epoch_54.pkl\n",
      "[epoch_54.pkl---mpiigaze] Total Num:2977,MAE:3.086269650957627  06/27/2022 13:09:56\n",
      "entering epoch=epoch_55.pkl\n",
      "[epoch_55.pkl---mpiigaze] Total Num:2977,MAE:3.384529732818198  06/27/2022 13:10:05\n",
      "entering epoch=epoch_56.pkl\n",
      "[epoch_56.pkl---mpiigaze] Total Num:2977,MAE:3.4393760940584315  06/27/2022 13:10:15\n",
      "entering epoch=epoch_57.pkl\n",
      "[epoch_57.pkl---mpiigaze] Total Num:2977,MAE:3.00116646422659  06/27/2022 13:10:26\n",
      "entering epoch=epoch_58.pkl\n",
      "[epoch_58.pkl---mpiigaze] Total Num:2977,MAE:3.5045828135081214  06/27/2022 13:10:38\n",
      "entering epoch=epoch_59.pkl\n",
      "[epoch_59.pkl---mpiigaze] Total Num:2977,MAE:3.573054432725886  06/27/2022 13:10:49\n",
      "entering epoch=epoch_60.pkl\n",
      "[epoch_60.pkl---mpiigaze] Total Num:2977,MAE:3.1916092833827236  06/27/2022 13:11:00\n"
     ]
    },
    {
     "data": {
      "text/html": [
       "Waiting for W&B process to finish... <strong style=\"color:green\">(success).</strong>"
      ],
      "text/plain": [
       "<IPython.core.display.HTML object>"
      ]
     },
     "metadata": {},
     "output_type": "display_data"
    },
    {
     "data": {
      "application/vnd.jupyter.widget-view+json": {
       "model_id": "",
       "version_major": 2,
       "version_minor": 0
      },
      "text/plain": [
       "VBox(children=(Label(value='0.001 MB of 0.001 MB uploaded (0.000 MB deduped)\\r'), FloatProgress(value=1.0, max…"
      ]
     },
     "metadata": {},
     "output_type": "display_data"
    },
    {
     "data": {
      "text/html": [
       "<style>\n",
       "    table.wandb td:nth-child(1) { padding: 0 10px; text-align: right }\n",
       "    .wandb-row { display: flex; flex-direction: row; flex-wrap: wrap; width: 100% }\n",
       "    .wandb-col { display: flex; flex-direction: column; flex-basis: 100%; flex: 1; padding: 10px; }\n",
       "    </style>\n",
       "<div class=\"wandb-row\"><div class=\"wandb-col\"><h3>Run history:</h3><br/><table class=\"wandb\"><tr><td>try3-fold_2_mean_mae</td><td>▂█▁▂▂▂▁▂▂▂▂▂▂▂▂▂▁▂▁▁▁▂▁▁▁▁▂▁▂▁▁▁▂▂▁▁▁▂▂▁</td></tr></table><br/></div><div class=\"wandb-col\"><h3>Run summary:</h3><br/><table class=\"wandb\"><tr><td>epoch</td><td>epoch_60.pkl</td></tr><tr><td>try3-fold_2_mean_mae</td><td>3.19161</td></tr></table><br/></div></div>"
      ],
      "text/plain": [
       "<IPython.core.display.HTML object>"
      ]
     },
     "metadata": {},
     "output_type": "display_data"
    },
    {
     "data": {
      "text/html": [
       "Synced <strong style=\"color:#cdcd00\">dry-wood-35</strong>: <a href=\"https://wandb.ai/synthesis-ai/52_syn_mode_syn_data/runs/12nvk0ec\" target=\"_blank\">https://wandb.ai/synthesis-ai/52_syn_mode_syn_data/runs/12nvk0ec</a><br/>Synced 5 W&B file(s), 0 media file(s), 0 artifact file(s) and 0 other file(s)"
      ],
      "text/plain": [
       "<IPython.core.display.HTML object>"
      ]
     },
     "metadata": {},
     "output_type": "display_data"
    },
    {
     "data": {
      "text/html": [
       "Find logs at: <code>./wandb/run-20220627_200029-12nvk0ec/logs</code>"
      ],
      "text/plain": [
       "<IPython.core.display.HTML object>"
      ]
     },
     "metadata": {},
     "output_type": "display_data"
    },
    {
     "data": {
      "text/html": [
       "wandb version 0.12.19 is available!  To upgrade, please run:\n",
       " $ pip install wandb --upgrade"
      ],
      "text/plain": [
       "<IPython.core.display.HTML object>"
      ]
     },
     "metadata": {},
     "output_type": "display_data"
    },
    {
     "data": {
      "text/html": [
       "Tracking run with wandb version 0.12.15"
      ],
      "text/plain": [
       "<IPython.core.display.HTML object>"
      ]
     },
     "metadata": {},
     "output_type": "display_data"
    },
    {
     "data": {
      "text/html": [
       "Run data is saved locally in <code>/project/notebooks/wandb/run-20220627_201104-18rntjuc</code>"
      ],
      "text/plain": [
       "<IPython.core.display.HTML object>"
      ]
     },
     "metadata": {},
     "output_type": "display_data"
    },
    {
     "data": {
      "text/html": [
       "Syncing run <strong><a href=\"https://wandb.ai/synthesis-ai/52_syn_mode_syn_data/runs/18rntjuc\" target=\"_blank\">lilac-rain-36</a></strong> to <a href=\"https://wandb.ai/synthesis-ai/52_syn_mode_syn_data\" target=\"_blank\">Weights & Biases</a> (<a href=\"https://wandb.me/run\" target=\"_blank\">docs</a>)<br/>"
      ],
      "text/plain": [
       "<IPython.core.display.HTML object>"
      ]
     },
     "metadata": {},
     "output_type": "display_data"
    },
    {
     "name": "stdout",
     "output_type": "stream",
     "text": [
      "fold=3\n",
      "/project/data/sdata1/Label\n",
      "36 items removed from dataset that have an angle > 180\n",
      "\n",
      "test configuration equal gpu_id=cuda:0, batch_size=20, model_arch=ResNet50\n",
      "Start testing dataset=mpiigaze, FOLD=3 --06/27/2022 13:11:06---------\n",
      "entering epoch=epoch_1.pkl\n",
      "[epoch_1.pkl---mpiigaze] Total Num:2963,MAE:5.892046401385769  06/27/2022 13:11:19\n",
      "entering epoch=epoch_2.pkl\n",
      "[epoch_2.pkl---mpiigaze] Total Num:2963,MAE:5.36937214675907  06/27/2022 13:11:30\n",
      "entering epoch=epoch_3.pkl\n",
      "[epoch_3.pkl---mpiigaze] Total Num:2963,MAE:4.76729125725076  06/27/2022 13:11:40\n",
      "entering epoch=epoch_4.pkl\n",
      "[epoch_4.pkl---mpiigaze] Total Num:2963,MAE:4.283020504548157  06/27/2022 13:11:50\n",
      "entering epoch=epoch_5.pkl\n",
      "[epoch_5.pkl---mpiigaze] Total Num:2963,MAE:4.204758563250648  06/27/2022 13:12:01\n",
      "entering epoch=epoch_6.pkl\n",
      "[epoch_6.pkl---mpiigaze] Total Num:2963,MAE:4.311878499175377  06/27/2022 13:12:12\n",
      "entering epoch=epoch_7.pkl\n",
      "[epoch_7.pkl---mpiigaze] Total Num:2963,MAE:4.6208306010548394  06/27/2022 13:12:23\n",
      "entering epoch=epoch_8.pkl\n",
      "[epoch_8.pkl---mpiigaze] Total Num:2963,MAE:4.17829743996446  06/27/2022 13:12:34\n",
      "entering epoch=epoch_9.pkl\n",
      "[epoch_9.pkl---mpiigaze] Total Num:2963,MAE:4.199575979349474  06/27/2022 13:12:44\n",
      "entering epoch=epoch_10.pkl\n",
      "[epoch_10.pkl---mpiigaze] Total Num:2963,MAE:4.606979978886758  06/27/2022 13:12:55\n",
      "entering epoch=epoch_11.pkl\n",
      "[epoch_11.pkl---mpiigaze] Total Num:2963,MAE:3.9503267362900827  06/27/2022 13:13:04\n",
      "entering epoch=epoch_12.pkl\n",
      "[epoch_12.pkl---mpiigaze] Total Num:2963,MAE:4.029154740529197  06/27/2022 13:13:14\n",
      "entering epoch=epoch_13.pkl\n",
      "[epoch_13.pkl---mpiigaze] Total Num:2963,MAE:4.095569407740326  06/27/2022 13:13:24\n",
      "entering epoch=epoch_14.pkl\n",
      "[epoch_14.pkl---mpiigaze] Total Num:2963,MAE:4.090013812924521  06/27/2022 13:13:35\n",
      "entering epoch=epoch_15.pkl\n",
      "[epoch_15.pkl---mpiigaze] Total Num:2963,MAE:3.908811721706562  06/27/2022 13:13:47\n",
      "entering epoch=epoch_16.pkl\n",
      "[epoch_16.pkl---mpiigaze] Total Num:2963,MAE:3.9839396626504158  06/27/2022 13:13:57\n",
      "entering epoch=epoch_17.pkl\n",
      "[epoch_17.pkl---mpiigaze] Total Num:2963,MAE:4.100637932185426  06/27/2022 13:14:08\n",
      "entering epoch=epoch_18.pkl\n",
      "[epoch_18.pkl---mpiigaze] Total Num:2963,MAE:3.9228692142689283  06/27/2022 13:14:18\n",
      "entering epoch=epoch_19.pkl\n",
      "[epoch_19.pkl---mpiigaze] Total Num:2963,MAE:3.947280130234834  06/27/2022 13:14:28\n",
      "entering epoch=epoch_20.pkl\n",
      "[epoch_20.pkl---mpiigaze] Total Num:2963,MAE:4.128422701583816  06/27/2022 13:14:39\n",
      "entering epoch=epoch_21.pkl\n",
      "[epoch_21.pkl---mpiigaze] Total Num:2963,MAE:3.913569325960594  06/27/2022 13:14:49\n",
      "entering epoch=epoch_22.pkl\n",
      "[epoch_22.pkl---mpiigaze] Total Num:2963,MAE:3.9530863475629348  06/27/2022 13:15:00\n",
      "entering epoch=epoch_23.pkl\n",
      "[epoch_23.pkl---mpiigaze] Total Num:2963,MAE:3.8437395907952765  06/27/2022 13:15:11\n",
      "entering epoch=epoch_24.pkl\n",
      "[epoch_24.pkl---mpiigaze] Total Num:2963,MAE:3.8383766059850726  06/27/2022 13:15:21\n",
      "entering epoch=epoch_25.pkl\n",
      "[epoch_25.pkl---mpiigaze] Total Num:2963,MAE:3.8676844098622887  06/27/2022 13:15:33\n",
      "entering epoch=epoch_26.pkl\n",
      "[epoch_26.pkl---mpiigaze] Total Num:2963,MAE:3.9056323400750808  06/27/2022 13:15:43\n",
      "entering epoch=epoch_27.pkl\n",
      "[epoch_27.pkl---mpiigaze] Total Num:2963,MAE:4.20041278472452  06/27/2022 13:15:53\n",
      "entering epoch=epoch_28.pkl\n",
      "[epoch_28.pkl---mpiigaze] Total Num:2963,MAE:4.143163006220633  06/27/2022 13:16:03\n",
      "entering epoch=epoch_29.pkl\n",
      "[epoch_29.pkl---mpiigaze] Total Num:2963,MAE:3.7239387446762375  06/27/2022 13:16:13\n",
      "entering epoch=epoch_30.pkl\n",
      "[epoch_30.pkl---mpiigaze] Total Num:2963,MAE:3.8076626886703964  06/27/2022 13:16:24\n",
      "entering epoch=epoch_31.pkl\n",
      "[epoch_31.pkl---mpiigaze] Total Num:2963,MAE:3.928397898076006  06/27/2022 13:16:35\n",
      "entering epoch=epoch_32.pkl\n",
      "[epoch_32.pkl---mpiigaze] Total Num:2963,MAE:3.6487877367818493  06/27/2022 13:16:46\n",
      "entering epoch=epoch_33.pkl\n",
      "[epoch_33.pkl---mpiigaze] Total Num:2963,MAE:3.7925400162420493  06/27/2022 13:16:57\n",
      "entering epoch=epoch_34.pkl\n",
      "[epoch_34.pkl---mpiigaze] Total Num:2963,MAE:3.8368715054960645  06/27/2022 13:17:07\n",
      "entering epoch=epoch_35.pkl\n",
      "[epoch_35.pkl---mpiigaze] Total Num:2963,MAE:3.810027118470777  06/27/2022 13:17:18\n",
      "entering epoch=epoch_36.pkl\n",
      "[epoch_36.pkl---mpiigaze] Total Num:2963,MAE:3.725021775844932  06/27/2022 13:17:28\n",
      "entering epoch=epoch_37.pkl\n",
      "[epoch_37.pkl---mpiigaze] Total Num:2963,MAE:3.6982440638949847  06/27/2022 13:17:39\n",
      "entering epoch=epoch_38.pkl\n",
      "[epoch_38.pkl---mpiigaze] Total Num:2963,MAE:3.8840319634948517  06/27/2022 13:17:49\n",
      "entering epoch=epoch_39.pkl\n",
      "[epoch_39.pkl---mpiigaze] Total Num:2963,MAE:3.7839170214274973  06/27/2022 13:18:00\n",
      "entering epoch=epoch_40.pkl\n",
      "[epoch_40.pkl---mpiigaze] Total Num:2963,MAE:3.775514423588229  06/27/2022 13:18:11\n",
      "entering epoch=epoch_41.pkl\n",
      "[epoch_41.pkl---mpiigaze] Total Num:2963,MAE:3.656925539956829  06/27/2022 13:18:22\n",
      "entering epoch=epoch_42.pkl\n",
      "[epoch_42.pkl---mpiigaze] Total Num:2963,MAE:3.6800574739449456  06/27/2022 13:18:32\n",
      "entering epoch=epoch_43.pkl\n",
      "[epoch_43.pkl---mpiigaze] Total Num:2963,MAE:3.8688610161418637  06/27/2022 13:18:43\n",
      "entering epoch=epoch_44.pkl\n",
      "[epoch_44.pkl---mpiigaze] Total Num:2963,MAE:3.7215183136639514  06/27/2022 13:18:52\n",
      "entering epoch=epoch_45.pkl\n",
      "[epoch_45.pkl---mpiigaze] Total Num:2963,MAE:3.7924021859442227  06/27/2022 13:19:02\n",
      "entering epoch=epoch_46.pkl\n",
      "[epoch_46.pkl---mpiigaze] Total Num:2963,MAE:3.7288258103673004  06/27/2022 13:19:14\n",
      "entering epoch=epoch_47.pkl\n",
      "[epoch_47.pkl---mpiigaze] Total Num:2963,MAE:3.7246805613873804  06/27/2022 13:19:25\n",
      "entering epoch=epoch_48.pkl\n",
      "[epoch_48.pkl---mpiigaze] Total Num:2963,MAE:3.6680225218454803  06/27/2022 13:19:36\n",
      "entering epoch=epoch_49.pkl\n",
      "[epoch_49.pkl---mpiigaze] Total Num:2963,MAE:3.6307088977193125  06/27/2022 13:19:46\n",
      "entering epoch=epoch_50.pkl\n",
      "[epoch_50.pkl---mpiigaze] Total Num:2963,MAE:3.7356049899803625  06/27/2022 13:19:56\n",
      "entering epoch=epoch_51.pkl\n",
      "[epoch_51.pkl---mpiigaze] Total Num:2963,MAE:3.7520172078526124  06/27/2022 13:20:06\n",
      "entering epoch=epoch_52.pkl\n",
      "[epoch_52.pkl---mpiigaze] Total Num:2963,MAE:3.741396306335743  06/27/2022 13:20:16\n",
      "entering epoch=epoch_53.pkl\n",
      "[epoch_53.pkl---mpiigaze] Total Num:2963,MAE:3.711345179915161  06/27/2022 13:20:28\n",
      "entering epoch=epoch_54.pkl\n",
      "[epoch_54.pkl---mpiigaze] Total Num:2963,MAE:3.7482062543888217  06/27/2022 13:20:40\n",
      "entering epoch=epoch_55.pkl\n",
      "[epoch_55.pkl---mpiigaze] Total Num:2963,MAE:3.6291012262605067  06/27/2022 13:20:51\n",
      "entering epoch=epoch_56.pkl\n",
      "[epoch_56.pkl---mpiigaze] Total Num:2963,MAE:3.716843771363701  06/27/2022 13:20:58\n",
      "entering epoch=epoch_57.pkl\n",
      "[epoch_57.pkl---mpiigaze] Total Num:2963,MAE:3.7129602651255387  06/27/2022 13:21:07\n",
      "entering epoch=epoch_58.pkl\n",
      "[epoch_58.pkl---mpiigaze] Total Num:2963,MAE:3.6860459292042367  06/27/2022 13:21:17\n",
      "entering epoch=epoch_59.pkl\n",
      "[epoch_59.pkl---mpiigaze] Total Num:2963,MAE:3.617358918954061  06/27/2022 13:21:27\n",
      "entering epoch=epoch_60.pkl\n",
      "[epoch_60.pkl---mpiigaze] Total Num:2963,MAE:3.711641521606323  06/27/2022 13:21:37\n"
     ]
    },
    {
     "data": {
      "text/html": [
       "Waiting for W&B process to finish... <strong style=\"color:green\">(success).</strong>"
      ],
      "text/plain": [
       "<IPython.core.display.HTML object>"
      ]
     },
     "metadata": {},
     "output_type": "display_data"
    },
    {
     "data": {
      "application/vnd.jupyter.widget-view+json": {
       "model_id": "",
       "version_major": 2,
       "version_minor": 0
      },
      "text/plain": [
       "VBox(children=(Label(value='0.001 MB of 0.001 MB uploaded (0.000 MB deduped)\\r'), FloatProgress(value=1.0, max…"
      ]
     },
     "metadata": {},
     "output_type": "display_data"
    },
    {
     "data": {
      "text/html": [
       "<style>\n",
       "    table.wandb td:nth-child(1) { padding: 0 10px; text-align: right }\n",
       "    .wandb-row { display: flex; flex-direction: row; flex-wrap: wrap; width: 100% }\n",
       "    .wandb-col { display: flex; flex-direction: column; flex-basis: 100%; flex: 1; padding: 10px; }\n",
       "    </style>\n",
       "<div class=\"wandb-row\"><div class=\"wandb-col\"><h3>Run history:</h3><br/><table class=\"wandb\"><tr><td>try3-fold_3_mean_mae</td><td>█▆▃▃▄▃▄▂▂▂▂▂▂▃▂▂▂▂▃▁▂▁▂▂▁▂▁▁▂▁▁▁▁▁▁▁▁▁▁▁</td></tr></table><br/></div><div class=\"wandb-col\"><h3>Run summary:</h3><br/><table class=\"wandb\"><tr><td>epoch</td><td>epoch_60.pkl</td></tr><tr><td>try3-fold_3_mean_mae</td><td>3.71164</td></tr></table><br/></div></div>"
      ],
      "text/plain": [
       "<IPython.core.display.HTML object>"
      ]
     },
     "metadata": {},
     "output_type": "display_data"
    },
    {
     "data": {
      "text/html": [
       "Synced <strong style=\"color:#cdcd00\">lilac-rain-36</strong>: <a href=\"https://wandb.ai/synthesis-ai/52_syn_mode_syn_data/runs/18rntjuc\" target=\"_blank\">https://wandb.ai/synthesis-ai/52_syn_mode_syn_data/runs/18rntjuc</a><br/>Synced 5 W&B file(s), 0 media file(s), 0 artifact file(s) and 0 other file(s)"
      ],
      "text/plain": [
       "<IPython.core.display.HTML object>"
      ]
     },
     "metadata": {},
     "output_type": "display_data"
    },
    {
     "data": {
      "text/html": [
       "Find logs at: <code>./wandb/run-20220627_201104-18rntjuc/logs</code>"
      ],
      "text/plain": [
       "<IPython.core.display.HTML object>"
      ]
     },
     "metadata": {},
     "output_type": "display_data"
    },
    {
     "data": {
      "text/html": [
       "wandb version 0.12.19 is available!  To upgrade, please run:\n",
       " $ pip install wandb --upgrade"
      ],
      "text/plain": [
       "<IPython.core.display.HTML object>"
      ]
     },
     "metadata": {},
     "output_type": "display_data"
    },
    {
     "data": {
      "text/html": [
       "Tracking run with wandb version 0.12.15"
      ],
      "text/plain": [
       "<IPython.core.display.HTML object>"
      ]
     },
     "metadata": {},
     "output_type": "display_data"
    },
    {
     "data": {
      "text/html": [
       "Run data is saved locally in <code>/project/notebooks/wandb/run-20220627_202142-75ts78pu</code>"
      ],
      "text/plain": [
       "<IPython.core.display.HTML object>"
      ]
     },
     "metadata": {},
     "output_type": "display_data"
    },
    {
     "data": {
      "text/html": [
       "Syncing run <strong><a href=\"https://wandb.ai/synthesis-ai/52_syn_mode_syn_data/runs/75ts78pu\" target=\"_blank\">scarlet-disco-37</a></strong> to <a href=\"https://wandb.ai/synthesis-ai/52_syn_mode_syn_data\" target=\"_blank\">Weights & Biases</a> (<a href=\"https://wandb.me/run\" target=\"_blank\">docs</a>)<br/>"
      ],
      "text/plain": [
       "<IPython.core.display.HTML object>"
      ]
     },
     "metadata": {},
     "output_type": "display_data"
    },
    {
     "name": "stdout",
     "output_type": "stream",
     "text": [
      "fold=4\n",
      "/project/data/sdata1/Label\n",
      "20 items removed from dataset that have an angle > 180\n",
      "\n",
      "test configuration equal gpu_id=cuda:0, batch_size=20, model_arch=ResNet50\n",
      "Start testing dataset=mpiigaze, FOLD=4 --06/27/2022 13:21:45---------\n",
      "entering epoch=epoch_1.pkl\n",
      "[epoch_1.pkl---mpiigaze] Total Num:2979,MAE:5.060646086333538  06/27/2022 13:21:56\n",
      "entering epoch=epoch_2.pkl\n",
      "[epoch_2.pkl---mpiigaze] Total Num:2979,MAE:3.956127948780497  06/27/2022 13:22:08\n",
      "entering epoch=epoch_3.pkl\n",
      "[epoch_3.pkl---mpiigaze] Total Num:2979,MAE:3.892459065566375  06/27/2022 13:22:19\n",
      "entering epoch=epoch_4.pkl\n",
      "[epoch_4.pkl---mpiigaze] Total Num:2979,MAE:3.9245981779336163  06/27/2022 13:22:28\n",
      "entering epoch=epoch_5.pkl\n",
      "[epoch_5.pkl---mpiigaze] Total Num:2979,MAE:3.648523304863124  06/27/2022 13:22:38\n",
      "entering epoch=epoch_6.pkl\n",
      "[epoch_6.pkl---mpiigaze] Total Num:2979,MAE:3.7516980954605934  06/27/2022 13:22:48\n",
      "entering epoch=epoch_7.pkl\n",
      "[epoch_7.pkl---mpiigaze] Total Num:2979,MAE:3.5642397915177626  06/27/2022 13:22:58\n",
      "entering epoch=epoch_8.pkl\n",
      "[epoch_8.pkl---mpiigaze] Total Num:2979,MAE:3.3420038471209645  06/27/2022 13:23:09\n",
      "entering epoch=epoch_9.pkl\n",
      "[epoch_9.pkl---mpiigaze] Total Num:2979,MAE:3.655687913922889  06/27/2022 13:23:19\n",
      "entering epoch=epoch_10.pkl\n",
      "[epoch_10.pkl---mpiigaze] Total Num:2979,MAE:4.174734713817196  06/27/2022 13:23:31\n",
      "entering epoch=epoch_11.pkl\n",
      "[epoch_11.pkl---mpiigaze] Total Num:2979,MAE:3.7399497451614563  06/27/2022 13:23:42\n",
      "entering epoch=epoch_12.pkl\n",
      "[epoch_12.pkl---mpiigaze] Total Num:2979,MAE:3.6224918704337736  06/27/2022 13:23:52\n",
      "entering epoch=epoch_13.pkl\n",
      "[epoch_13.pkl---mpiigaze] Total Num:2979,MAE:3.4172610204866753  06/27/2022 13:24:03\n",
      "entering epoch=epoch_14.pkl\n",
      "[epoch_14.pkl---mpiigaze] Total Num:2979,MAE:3.8994189010394567  06/27/2022 13:24:13\n",
      "entering epoch=epoch_15.pkl\n",
      "[epoch_15.pkl---mpiigaze] Total Num:2979,MAE:4.221701589415875  06/27/2022 13:24:23\n",
      "entering epoch=epoch_16.pkl\n",
      "[epoch_16.pkl---mpiigaze] Total Num:2979,MAE:3.923195585511597  06/27/2022 13:24:33\n",
      "entering epoch=epoch_17.pkl\n",
      "[epoch_27.pkl---mpiigaze] Total Num:2979,MAE:3.717796851215934  06/27/2022 13:26:29\n",
      "entering epoch=epoch_28.pkl\n",
      "[epoch_28.pkl---mpiigaze] Total Num:2979,MAE:3.54879423034063  06/27/2022 13:26:40\n",
      "entering epoch=epoch_29.pkl\n",
      "[epoch_29.pkl---mpiigaze] Total Num:2979,MAE:3.522597539657569  06/27/2022 13:26:51\n",
      "entering epoch=epoch_30.pkl\n",
      "[epoch_30.pkl---mpiigaze] Total Num:2979,MAE:3.4725607117785087  06/27/2022 13:27:01\n",
      "entering epoch=epoch_31.pkl\n",
      "[epoch_31.pkl---mpiigaze] Total Num:2979,MAE:3.5837821999650847  06/27/2022 13:27:11\n",
      "entering epoch=epoch_32.pkl\n",
      "[epoch_32.pkl---mpiigaze] Total Num:2979,MAE:3.459357068592079  06/27/2022 13:27:21\n",
      "entering epoch=epoch_33.pkl\n",
      "[epoch_33.pkl---mpiigaze] Total Num:2979,MAE:3.4325988324069203  06/27/2022 13:27:32\n",
      "entering epoch=epoch_34.pkl\n",
      "[epoch_34.pkl---mpiigaze] Total Num:2979,MAE:3.4227922409059706  06/27/2022 13:27:42\n",
      "entering epoch=epoch_35.pkl\n",
      "[epoch_35.pkl---mpiigaze] Total Num:2979,MAE:3.627139764967122  06/27/2022 13:27:54\n",
      "entering epoch=epoch_36.pkl\n",
      "[epoch_36.pkl---mpiigaze] Total Num:2979,MAE:3.5393156857836043  06/27/2022 13:28:05\n",
      "entering epoch=epoch_37.pkl\n",
      "[epoch_37.pkl---mpiigaze] Total Num:2979,MAE:3.488973986206808  06/27/2022 13:28:15\n",
      "entering epoch=epoch_38.pkl\n",
      "[epoch_38.pkl---mpiigaze] Total Num:2979,MAE:3.3827225868462167  06/27/2022 13:28:26\n",
      "entering epoch=epoch_39.pkl\n",
      "[epoch_39.pkl---mpiigaze] Total Num:2979,MAE:3.4916192506131614  06/27/2022 13:28:36\n",
      "entering epoch=epoch_40.pkl\n",
      "[epoch_40.pkl---mpiigaze] Total Num:2979,MAE:3.497178736927211  06/27/2022 13:28:46\n",
      "entering epoch=epoch_41.pkl\n",
      "[epoch_41.pkl---mpiigaze] Total Num:2979,MAE:3.3649661282006007  06/27/2022 13:28:56\n",
      "entering epoch=epoch_42.pkl\n",
      "[epoch_42.pkl---mpiigaze] Total Num:2979,MAE:3.7315596195363243  06/27/2022 13:29:08\n",
      "entering epoch=epoch_43.pkl\n",
      "[epoch_43.pkl---mpiigaze] Total Num:2979,MAE:3.4248802254509725  06/27/2022 13:29:19\n",
      "entering epoch=epoch_44.pkl\n",
      "[epoch_44.pkl---mpiigaze] Total Num:2979,MAE:3.401711280938401  06/27/2022 13:29:29\n",
      "entering epoch=epoch_45.pkl\n",
      "[epoch_45.pkl---mpiigaze] Total Num:2979,MAE:3.507977921397034  06/27/2022 13:29:40\n",
      "entering epoch=epoch_46.pkl\n",
      "[epoch_46.pkl---mpiigaze] Total Num:2979,MAE:3.6107714742640886  06/27/2022 13:29:50\n",
      "entering epoch=epoch_47.pkl\n",
      "[epoch_47.pkl---mpiigaze] Total Num:2979,MAE:3.581141830898667  06/27/2022 13:30:00\n",
      "entering epoch=epoch_48.pkl\n",
      "[epoch_48.pkl---mpiigaze] Total Num:2979,MAE:3.3700208314687212  06/27/2022 13:30:10\n",
      "entering epoch=epoch_49.pkl\n",
      "[epoch_49.pkl---mpiigaze] Total Num:2979,MAE:3.4162972950121886  06/27/2022 13:30:20\n",
      "entering epoch=epoch_50.pkl\n",
      "[epoch_50.pkl---mpiigaze] Total Num:2979,MAE:3.358600635006842  06/27/2022 13:30:31\n",
      "entering epoch=epoch_51.pkl\n",
      "[epoch_51.pkl---mpiigaze] Total Num:2979,MAE:3.474457822469342  06/27/2022 13:30:42\n",
      "entering epoch=epoch_52.pkl\n",
      "[epoch_52.pkl---mpiigaze] Total Num:2979,MAE:3.5835416790508923  06/27/2022 13:30:54\n",
      "entering epoch=epoch_53.pkl\n",
      "[epoch_53.pkl---mpiigaze] Total Num:2979,MAE:3.519359632446051  06/27/2022 13:31:05\n",
      "entering epoch=epoch_54.pkl\n",
      "[epoch_54.pkl---mpiigaze] Total Num:2979,MAE:3.4018986499633286  06/27/2022 13:31:14\n",
      "entering epoch=epoch_55.pkl\n",
      "[epoch_55.pkl---mpiigaze] Total Num:2979,MAE:3.404998140522645  06/27/2022 13:31:24\n",
      "entering epoch=epoch_56.pkl\n",
      "[epoch_56.pkl---mpiigaze] Total Num:2979,MAE:3.416881657597811  06/27/2022 13:31:34\n",
      "entering epoch=epoch_57.pkl\n",
      "[epoch_57.pkl---mpiigaze] Total Num:2979,MAE:3.2385842677050265  06/27/2022 13:31:44\n",
      "entering epoch=epoch_58.pkl\n",
      "[epoch_58.pkl---mpiigaze] Total Num:2979,MAE:3.305728755309379  06/27/2022 13:31:55\n",
      "entering epoch=epoch_59.pkl\n",
      "[epoch_59.pkl---mpiigaze] Total Num:2979,MAE:3.38328439070553  06/27/2022 13:32:06\n",
      "entering epoch=epoch_60.pkl\n",
      "[epoch_60.pkl---mpiigaze] Total Num:2979,MAE:3.6495342507215462  06/27/2022 13:32:17\n"
     ]
    },
    {
     "data": {
      "text/html": [
       "Waiting for W&B process to finish... <strong style=\"color:green\">(success).</strong>"
      ],
      "text/plain": [
       "<IPython.core.display.HTML object>"
      ]
     },
     "metadata": {},
     "output_type": "display_data"
    },
    {
     "data": {
      "application/vnd.jupyter.widget-view+json": {
       "model_id": "",
       "version_major": 2,
       "version_minor": 0
      },
      "text/plain": [
       "VBox(children=(Label(value='0.001 MB of 0.001 MB uploaded (0.000 MB deduped)\\r'), FloatProgress(value=1.0, max…"
      ]
     },
     "metadata": {},
     "output_type": "display_data"
    },
    {
     "data": {
      "text/html": [
       "<style>\n",
       "    table.wandb td:nth-child(1) { padding: 0 10px; text-align: right }\n",
       "    .wandb-row { display: flex; flex-direction: row; flex-wrap: wrap; width: 100% }\n",
       "    .wandb-col { display: flex; flex-direction: column; flex-basis: 100%; flex: 1; padding: 10px; }\n",
       "    </style>\n",
       "<div class=\"wandb-row\"><div class=\"wandb-col\"><h3>Run history:</h3><br/><table class=\"wandb\"><tr><td>try3-fold_4_mean_mae</td><td>█▄▃▂▂▁▄▃▁▃▃▂▂▂▃▂▂▃▂▂▂▂▁▂▂▁▂▁▁▁▂▂▁▁▂▂▁▁▁▂</td></tr></table><br/></div><div class=\"wandb-col\"><h3>Run summary:</h3><br/><table class=\"wandb\"><tr><td>epoch</td><td>epoch_60.pkl</td></tr><tr><td>try3-fold_4_mean_mae</td><td>3.64953</td></tr></table><br/></div></div>"
      ],
      "text/plain": [
       "<IPython.core.display.HTML object>"
      ]
     },
     "metadata": {},
     "output_type": "display_data"
    },
    {
     "data": {
      "text/html": [
       "Synced <strong style=\"color:#cdcd00\">scarlet-disco-37</strong>: <a href=\"https://wandb.ai/synthesis-ai/52_syn_mode_syn_data/runs/75ts78pu\" target=\"_blank\">https://wandb.ai/synthesis-ai/52_syn_mode_syn_data/runs/75ts78pu</a><br/>Synced 5 W&B file(s), 0 media file(s), 0 artifact file(s) and 0 other file(s)"
      ],
      "text/plain": [
       "<IPython.core.display.HTML object>"
      ]
     },
     "metadata": {},
     "output_type": "display_data"
    },
    {
     "data": {
      "text/html": [
       "Find logs at: <code>./wandb/run-20220627_202142-75ts78pu/logs</code>"
      ],
      "text/plain": [
       "<IPython.core.display.HTML object>"
      ]
     },
     "metadata": {},
     "output_type": "display_data"
    },
    {
     "data": {
      "text/html": [
       "wandb version 0.12.19 is available!  To upgrade, please run:\n",
       " $ pip install wandb --upgrade"
      ],
      "text/plain": [
       "<IPython.core.display.HTML object>"
      ]
     },
     "metadata": {},
     "output_type": "display_data"
    },
    {
     "data": {
      "text/html": [
       "Tracking run with wandb version 0.12.15"
      ],
      "text/plain": [
       "<IPython.core.display.HTML object>"
      ]
     },
     "metadata": {},
     "output_type": "display_data"
    },
    {
     "data": {
      "text/html": [
       "Run data is saved locally in <code>/project/notebooks/wandb/run-20220627_203222-a08xfci6</code>"
      ],
      "text/plain": [
       "<IPython.core.display.HTML object>"
      ]
     },
     "metadata": {},
     "output_type": "display_data"
    },
    {
     "data": {
      "text/html": [
       "Syncing run <strong><a href=\"https://wandb.ai/synthesis-ai/52_syn_mode_syn_data/runs/a08xfci6\" target=\"_blank\">dutiful-shape-38</a></strong> to <a href=\"https://wandb.ai/synthesis-ai/52_syn_mode_syn_data\" target=\"_blank\">Weights & Biases</a> (<a href=\"https://wandb.me/run\" target=\"_blank\">docs</a>)<br/>"
      ],
      "text/plain": [
       "<IPython.core.display.HTML object>"
      ]
     },
     "metadata": {},
     "output_type": "display_data"
    },
    {
     "name": "stdout",
     "output_type": "stream",
     "text": [
      "fold=5\n",
      "/project/data/sdata1/Label\n",
      "21 items removed from dataset that have an angle > 180\n",
      "\n",
      "test configuration equal gpu_id=cuda:0, batch_size=20, model_arch=ResNet50\n",
      "Start testing dataset=mpiigaze, FOLD=5 --06/27/2022 13:32:25---------\n",
      "entering epoch=epoch_1.pkl\n",
      "[epoch_1.pkl---mpiigaze] Total Num:2978,MAE:4.401179075037885  06/27/2022 13:32:38\n",
      "entering epoch=epoch_2.pkl\n",
      "[epoch_2.pkl---mpiigaze] Total Num:2978,MAE:3.750035342240335  06/27/2022 13:32:48\n",
      "entering epoch=epoch_3.pkl\n",
      "[epoch_3.pkl---mpiigaze] Total Num:2978,MAE:3.622163273818718  06/27/2022 13:32:56\n",
      "entering epoch=epoch_4.pkl\n",
      "[epoch_4.pkl---mpiigaze] Total Num:2978,MAE:3.921433422992826  06/27/2022 13:33:05\n",
      "entering epoch=epoch_5.pkl\n",
      "[epoch_5.pkl---mpiigaze] Total Num:2978,MAE:4.026667395699148  06/27/2022 13:33:15\n",
      "entering epoch=epoch_6.pkl\n",
      "[epoch_6.pkl---mpiigaze] Total Num:2978,MAE:3.293585863115065  06/27/2022 13:33:25\n",
      "entering epoch=epoch_7.pkl\n",
      "[epoch_7.pkl---mpiigaze] Total Num:2978,MAE:2.8230933534573226  06/27/2022 13:33:35\n",
      "entering epoch=epoch_8.pkl\n",
      "[epoch_8.pkl---mpiigaze] Total Num:2978,MAE:2.7773800239610105  06/27/2022 13:33:45\n",
      "entering epoch=epoch_9.pkl\n",
      "[epoch_9.pkl---mpiigaze] Total Num:2978,MAE:3.104943605293502  06/27/2022 13:33:57\n",
      "entering epoch=epoch_10.pkl\n",
      "[epoch_10.pkl---mpiigaze] Total Num:2978,MAE:2.9183771374161314  06/27/2022 13:34:07\n",
      "entering epoch=epoch_11.pkl\n",
      "[epoch_11.pkl---mpiigaze] Total Num:2978,MAE:3.947667723892869  06/27/2022 13:34:17\n",
      "entering epoch=epoch_12.pkl\n",
      "[epoch_12.pkl---mpiigaze] Total Num:2978,MAE:3.3512569160878742  06/27/2022 13:34:27\n",
      "entering epoch=epoch_13.pkl\n",
      "[epoch_13.pkl---mpiigaze] Total Num:2978,MAE:3.320266750160655  06/27/2022 13:34:37\n",
      "entering epoch=epoch_14.pkl\n",
      "[epoch_14.pkl---mpiigaze] Total Num:2978,MAE:2.9981757195926027  06/27/2022 13:34:47\n",
      "entering epoch=epoch_15.pkl\n",
      "[epoch_15.pkl---mpiigaze] Total Num:2978,MAE:2.929354739213165  06/27/2022 13:34:58\n",
      "entering epoch=epoch_16.pkl\n",
      "[epoch_16.pkl---mpiigaze] Total Num:2978,MAE:3.162425497360326  06/27/2022 13:35:09\n",
      "entering epoch=epoch_17.pkl\n",
      "[epoch_17.pkl---mpiigaze] Total Num:2978,MAE:2.5401213138619507  06/27/2022 13:35:20\n",
      "entering epoch=epoch_18.pkl\n",
      "[epoch_18.pkl---mpiigaze] Total Num:2978,MAE:2.999337057561635  06/27/2022 13:35:29\n",
      "entering epoch=epoch_19.pkl\n",
      "[epoch_19.pkl---mpiigaze] Total Num:2978,MAE:2.571648844757466  06/27/2022 13:35:39\n",
      "entering epoch=epoch_20.pkl\n",
      "[epoch_20.pkl---mpiigaze] Total Num:2978,MAE:2.6545848832819035  06/27/2022 13:35:50\n",
      "entering epoch=epoch_21.pkl\n",
      "[epoch_21.pkl---mpiigaze] Total Num:2978,MAE:2.731213750038126  06/27/2022 13:36:00\n",
      "entering epoch=epoch_22.pkl\n",
      "[epoch_22.pkl---mpiigaze] Total Num:2978,MAE:2.676155867542064  06/27/2022 13:36:11\n",
      "entering epoch=epoch_23.pkl\n",
      "[epoch_23.pkl---mpiigaze] Total Num:2978,MAE:2.7547791653789706  06/27/2022 13:36:22\n",
      "entering epoch=epoch_24.pkl\n",
      "[epoch_24.pkl---mpiigaze] Total Num:2978,MAE:3.313945661723242  06/27/2022 13:36:34\n",
      "entering epoch=epoch_25.pkl\n",
      "[epoch_25.pkl---mpiigaze] Total Num:2978,MAE:2.8745926020804697  06/27/2022 13:36:45\n",
      "entering epoch=epoch_26.pkl\n",
      "[epoch_26.pkl---mpiigaze] Total Num:2978,MAE:2.884211451518021  06/27/2022 13:36:55\n",
      "entering epoch=epoch_27.pkl\n",
      "[epoch_27.pkl---mpiigaze] Total Num:2978,MAE:2.7388029457707592  06/27/2022 13:37:05\n",
      "entering epoch=epoch_28.pkl\n",
      "[epoch_28.pkl---mpiigaze] Total Num:2978,MAE:2.801039439048818  06/27/2022 13:37:15\n",
      "entering epoch=epoch_29.pkl\n",
      "[epoch_29.pkl---mpiigaze] Total Num:2978,MAE:2.7069909999629984  06/27/2022 13:37:26\n",
      "entering epoch=epoch_30.pkl\n",
      "[epoch_30.pkl---mpiigaze] Total Num:2978,MAE:2.8680971737457894  06/27/2022 13:37:37\n",
      "entering epoch=epoch_31.pkl\n",
      "[epoch_31.pkl---mpiigaze] Total Num:2978,MAE:2.759781991954082  06/27/2022 13:37:46\n",
      "entering epoch=epoch_32.pkl\n",
      "[epoch_32.pkl---mpiigaze] Total Num:2978,MAE:2.9751902345192844  06/27/2022 13:37:57\n",
      "entering epoch=epoch_33.pkl\n",
      "[epoch_33.pkl---mpiigaze] Total Num:2978,MAE:2.652538207698686  06/27/2022 13:38:09\n",
      "entering epoch=epoch_34.pkl\n",
      "[epoch_34.pkl---mpiigaze] Total Num:2978,MAE:2.860864450573737  06/27/2022 13:38:19\n",
      "entering epoch=epoch_35.pkl\n",
      "[epoch_35.pkl---mpiigaze] Total Num:2978,MAE:2.5781809119693735  06/27/2022 13:38:30\n",
      "entering epoch=epoch_36.pkl\n",
      "[epoch_36.pkl---mpiigaze] Total Num:2978,MAE:2.4332355778628934  06/27/2022 13:38:40\n",
      "entering epoch=epoch_37.pkl\n",
      "[epoch_37.pkl---mpiigaze] Total Num:2978,MAE:2.6728318799498094  06/27/2022 13:38:50\n",
      "entering epoch=epoch_38.pkl\n",
      "[epoch_38.pkl---mpiigaze] Total Num:2978,MAE:2.931962821931839  06/27/2022 13:39:00\n",
      "entering epoch=epoch_39.pkl\n",
      "[epoch_39.pkl---mpiigaze] Total Num:2978,MAE:2.83331606075806  06/27/2022 13:39:11\n",
      "entering epoch=epoch_40.pkl\n",
      "[epoch_40.pkl---mpiigaze] Total Num:2978,MAE:2.5514558881009597  06/27/2022 13:39:21\n",
      "entering epoch=epoch_41.pkl\n",
      "[epoch_41.pkl---mpiigaze] Total Num:2978,MAE:2.6113091417520224  06/27/2022 13:39:32\n",
      "entering epoch=epoch_42.pkl\n",
      "[epoch_42.pkl---mpiigaze] Total Num:2978,MAE:2.571743611012385  06/27/2022 13:39:42\n",
      "entering epoch=epoch_43.pkl\n",
      "[epoch_43.pkl---mpiigaze] Total Num:2978,MAE:2.8843470585084683  06/27/2022 13:39:52\n",
      "entering epoch=epoch_44.pkl\n",
      "[epoch_44.pkl---mpiigaze] Total Num:2978,MAE:2.5144603836103774  06/27/2022 13:40:02\n",
      "entering epoch=epoch_45.pkl\n",
      "[epoch_45.pkl---mpiigaze] Total Num:2978,MAE:2.596198409036633  06/27/2022 13:40:13\n",
      "entering epoch=epoch_46.pkl\n",
      "[epoch_46.pkl---mpiigaze] Total Num:2978,MAE:2.62462193064179  06/27/2022 13:40:23\n",
      "entering epoch=epoch_47.pkl\n",
      "[epoch_47.pkl---mpiigaze] Total Num:2978,MAE:2.736037479556195  06/27/2022 13:40:33\n",
      "entering epoch=epoch_48.pkl\n",
      "[epoch_48.pkl---mpiigaze] Total Num:2978,MAE:2.594371476922268  06/27/2022 13:40:45\n",
      "entering epoch=epoch_49.pkl\n",
      "[epoch_49.pkl---mpiigaze] Total Num:2978,MAE:2.663660991895869  06/27/2022 13:40:55\n",
      "entering epoch=epoch_50.pkl\n",
      "[epoch_50.pkl---mpiigaze] Total Num:2978,MAE:2.6376828698915786  06/27/2022 13:41:05\n",
      "entering epoch=epoch_51.pkl\n",
      "[epoch_51.pkl---mpiigaze] Total Num:2978,MAE:2.6917044320814747  06/27/2022 13:41:15\n",
      "entering epoch=epoch_52.pkl\n",
      "[epoch_52.pkl---mpiigaze] Total Num:2978,MAE:2.7387570294267274  06/27/2022 13:41:24\n",
      "entering epoch=epoch_53.pkl\n",
      "[epoch_53.pkl---mpiigaze] Total Num:2978,MAE:2.5150888763806347  06/27/2022 13:41:35\n",
      "entering epoch=epoch_54.pkl\n",
      "[epoch_54.pkl---mpiigaze] Total Num:2978,MAE:2.8279582411578597  06/27/2022 13:41:45\n",
      "entering epoch=epoch_55.pkl\n",
      "[epoch_55.pkl---mpiigaze] Total Num:2978,MAE:2.5792156145041703  06/27/2022 13:41:55\n",
      "entering epoch=epoch_56.pkl\n",
      "[epoch_56.pkl---mpiigaze] Total Num:2978,MAE:2.8867743139626136  06/27/2022 13:42:06\n",
      "entering epoch=epoch_57.pkl\n",
      "[epoch_57.pkl---mpiigaze] Total Num:2978,MAE:2.5857793612559528  06/27/2022 13:42:17\n",
      "entering epoch=epoch_58.pkl\n",
      "[epoch_58.pkl---mpiigaze] Total Num:2978,MAE:2.666618542016087  06/27/2022 13:42:27\n",
      "entering epoch=epoch_59.pkl\n",
      "[epoch_59.pkl---mpiigaze] Total Num:2978,MAE:2.8104807139679973  06/27/2022 13:42:37\n",
      "entering epoch=epoch_60.pkl\n",
      "[epoch_60.pkl---mpiigaze] Total Num:2978,MAE:3.0386515676598624  06/27/2022 13:42:47\n"
     ]
    },
    {
     "data": {
      "text/html": [
       "Waiting for W&B process to finish... <strong style=\"color:green\">(success).</strong>"
      ],
      "text/plain": [
       "<IPython.core.display.HTML object>"
      ]
     },
     "metadata": {},
     "output_type": "display_data"
    },
    {
     "data": {
      "application/vnd.jupyter.widget-view+json": {
       "model_id": "",
       "version_major": 2,
       "version_minor": 0
      },
      "text/plain": [
       "VBox(children=(Label(value='0.001 MB of 0.001 MB uploaded (0.000 MB deduped)\\r'), FloatProgress(value=1.0, max…"
      ]
     },
     "metadata": {},
     "output_type": "display_data"
    },
    {
     "data": {
      "text/html": [
       "<style>\n",
       "    table.wandb td:nth-child(1) { padding: 0 10px; text-align: right }\n",
       "    .wandb-row { display: flex; flex-direction: row; flex-wrap: wrap; width: 100% }\n",
       "    .wandb-col { display: flex; flex-direction: column; flex-basis: 100%; flex: 1; padding: 10px; }\n",
       "    </style>\n",
       "<div class=\"wandb-row\"><div class=\"wandb-col\"><h3>Run history:</h3><br/><table class=\"wandb\"><tr><td>try3-fold_5_mean_mae</td><td>█▆▆▇▂▂▂▆▄▃▃▁▁▂▂▂▂▂▂▂▂▃▂▁▂▃▁▁▂▁▁▂▂▁▂▁▁▂▂▃</td></tr></table><br/></div><div class=\"wandb-col\"><h3>Run summary:</h3><br/><table class=\"wandb\"><tr><td>epoch</td><td>epoch_60.pkl</td></tr><tr><td>try3-fold_5_mean_mae</td><td>3.03865</td></tr></table><br/></div></div>"
      ],
      "text/plain": [
       "<IPython.core.display.HTML object>"
      ]
     },
     "metadata": {},
     "output_type": "display_data"
    },
    {
     "data": {
      "text/html": [
       "Synced <strong style=\"color:#cdcd00\">dutiful-shape-38</strong>: <a href=\"https://wandb.ai/synthesis-ai/52_syn_mode_syn_data/runs/a08xfci6\" target=\"_blank\">https://wandb.ai/synthesis-ai/52_syn_mode_syn_data/runs/a08xfci6</a><br/>Synced 5 W&B file(s), 0 media file(s), 0 artifact file(s) and 0 other file(s)"
      ],
      "text/plain": [
       "<IPython.core.display.HTML object>"
      ]
     },
     "metadata": {},
     "output_type": "display_data"
    },
    {
     "data": {
      "text/html": [
       "Find logs at: <code>./wandb/run-20220627_203222-a08xfci6/logs</code>"
      ],
      "text/plain": [
       "<IPython.core.display.HTML object>"
      ]
     },
     "metadata": {},
     "output_type": "display_data"
    },
    {
     "data": {
      "text/html": [
       "wandb version 0.12.19 is available!  To upgrade, please run:\n",
       " $ pip install wandb --upgrade"
      ],
      "text/plain": [
       "<IPython.core.display.HTML object>"
      ]
     },
     "metadata": {},
     "output_type": "display_data"
    },
    {
     "data": {
      "text/html": [
       "Tracking run with wandb version 0.12.15"
      ],
      "text/plain": [
       "<IPython.core.display.HTML object>"
      ]
     },
     "metadata": {},
     "output_type": "display_data"
    },
    {
     "data": {
      "text/html": [
       "Run data is saved locally in <code>/project/notebooks/wandb/run-20220627_204252-99ffedo3</code>"
      ],
      "text/plain": [
       "<IPython.core.display.HTML object>"
      ]
     },
     "metadata": {},
     "output_type": "display_data"
    },
    {
     "data": {
      "text/html": [
       "Syncing run <strong><a href=\"https://wandb.ai/synthesis-ai/52_syn_mode_syn_data/runs/99ffedo3\" target=\"_blank\">morning-dragon-39</a></strong> to <a href=\"https://wandb.ai/synthesis-ai/52_syn_mode_syn_data\" target=\"_blank\">Weights & Biases</a> (<a href=\"https://wandb.me/run\" target=\"_blank\">docs</a>)<br/>"
      ],
      "text/plain": [
       "<IPython.core.display.HTML object>"
      ]
     },
     "metadata": {},
     "output_type": "display_data"
    },
    {
     "name": "stdout",
     "output_type": "stream",
     "text": [
      "fold=6\n",
      "/project/data/sdata1/Label\n",
      "31 items removed from dataset that have an angle > 180\n",
      "\n",
      "test configuration equal gpu_id=cuda:0, batch_size=20, model_arch=ResNet50\n",
      "Start testing dataset=mpiigaze, FOLD=6 --06/27/2022 13:42:55---------\n",
      "entering epoch=epoch_1.pkl\n",
      "[epoch_1.pkl---mpiigaze] Total Num:2968,MAE:5.327604438815179  06/27/2022 13:43:07\n",
      "entering epoch=epoch_2.pkl\n",
      "[epoch_2.pkl---mpiigaze] Total Num:2968,MAE:4.620460845216112  06/27/2022 13:43:18\n",
      "entering epoch=epoch_3.pkl\n",
      "[epoch_3.pkl---mpiigaze] Total Num:2968,MAE:4.521482609710548  06/27/2022 13:43:28\n",
      "entering epoch=epoch_4.pkl\n",
      "[epoch_4.pkl---mpiigaze] Total Num:2968,MAE:5.286073727286319  06/27/2022 13:43:39\n",
      "entering epoch=epoch_5.pkl\n",
      "[epoch_5.pkl---mpiigaze] Total Num:2968,MAE:4.360088196901146  06/27/2022 13:43:50\n",
      "entering epoch=epoch_6.pkl\n",
      "[epoch_6.pkl---mpiigaze] Total Num:2968,MAE:4.506393938772337  06/27/2022 13:44:01\n",
      "entering epoch=epoch_7.pkl\n",
      "[epoch_7.pkl---mpiigaze] Total Num:2968,MAE:4.808913950289701  06/27/2022 13:44:11\n",
      "entering epoch=epoch_8.pkl\n",
      "[epoch_8.pkl---mpiigaze] Total Num:2968,MAE:4.255510014070881  06/27/2022 13:44:21\n",
      "entering epoch=epoch_9.pkl\n",
      "[epoch_9.pkl---mpiigaze] Total Num:2968,MAE:4.152744533336268  06/27/2022 13:44:31\n",
      "entering epoch=epoch_10.pkl\n",
      "[epoch_10.pkl---mpiigaze] Total Num:2968,MAE:4.105351480031355  06/27/2022 13:44:41\n",
      "entering epoch=epoch_11.pkl\n",
      "[epoch_11.pkl---mpiigaze] Total Num:2968,MAE:4.019921338041051  06/27/2022 13:44:52\n",
      "entering epoch=epoch_12.pkl\n",
      "[epoch_12.pkl---mpiigaze] Total Num:2968,MAE:3.758989093521745  06/27/2022 13:44:59\n",
      "entering epoch=epoch_13.pkl\n",
      "[epoch_13.pkl---mpiigaze] Total Num:2968,MAE:3.883748384407698  06/27/2022 13:45:11\n",
      "entering epoch=epoch_14.pkl\n",
      "[epoch_14.pkl---mpiigaze] Total Num:2968,MAE:3.6850581206811635  06/27/2022 13:45:21\n",
      "entering epoch=epoch_15.pkl\n",
      "[epoch_15.pkl---mpiigaze] Total Num:2968,MAE:3.575936827061194  06/27/2022 13:45:32\n",
      "entering epoch=epoch_16.pkl\n",
      "[epoch_16.pkl---mpiigaze] Total Num:2968,MAE:3.7767110090738356  06/27/2022 13:45:42\n",
      "entering epoch=epoch_17.pkl\n",
      "[epoch_17.pkl---mpiigaze] Total Num:2968,MAE:3.6176222366741997  06/27/2022 13:45:52\n",
      "entering epoch=epoch_18.pkl\n",
      "[epoch_18.pkl---mpiigaze] Total Num:2968,MAE:3.6459545728439093  06/27/2022 13:46:02\n",
      "entering epoch=epoch_19.pkl\n",
      "[epoch_19.pkl---mpiigaze] Total Num:2968,MAE:3.5711459137227544  06/27/2022 13:46:13\n",
      "entering epoch=epoch_20.pkl\n",
      "[epoch_20.pkl---mpiigaze] Total Num:2968,MAE:3.6557796429528495  06/27/2022 13:46:24\n",
      "entering epoch=epoch_21.pkl\n",
      "[epoch_21.pkl---mpiigaze] Total Num:2968,MAE:3.700013500500748  06/27/2022 13:46:34\n",
      "entering epoch=epoch_22.pkl\n",
      "[epoch_22.pkl---mpiigaze] Total Num:2968,MAE:3.729337328586259  06/27/2022 13:46:44\n",
      "entering epoch=epoch_23.pkl\n",
      "[epoch_23.pkl---mpiigaze] Total Num:2968,MAE:3.6464074931834602  06/27/2022 13:46:54\n",
      "entering epoch=epoch_24.pkl\n",
      "[epoch_24.pkl---mpiigaze] Total Num:2968,MAE:3.6309763266538813  06/27/2022 13:47:04\n",
      "entering epoch=epoch_25.pkl\n",
      "[epoch_25.pkl---mpiigaze] Total Num:2968,MAE:3.400320070981111  06/27/2022 13:47:15\n",
      "entering epoch=epoch_26.pkl\n",
      "[epoch_26.pkl---mpiigaze] Total Num:2968,MAE:3.6261543607527833  06/27/2022 13:47:25\n",
      "entering epoch=epoch_27.pkl\n",
      "[epoch_27.pkl---mpiigaze] Total Num:2968,MAE:3.6031074471611535  06/27/2022 13:47:35\n",
      "entering epoch=epoch_28.pkl\n",
      "[epoch_28.pkl---mpiigaze] Total Num:2968,MAE:3.6020171554290927  06/27/2022 13:47:45\n",
      "entering epoch=epoch_29.pkl\n",
      "[epoch_29.pkl---mpiigaze] Total Num:2968,MAE:3.41482207412291  06/27/2022 13:47:57\n",
      "entering epoch=epoch_30.pkl\n",
      "[epoch_30.pkl---mpiigaze] Total Num:2968,MAE:3.435642034308187  06/27/2022 13:48:08\n",
      "entering epoch=epoch_31.pkl\n",
      "[epoch_31.pkl---mpiigaze] Total Num:2968,MAE:3.4939384820562474  06/27/2022 13:48:17\n",
      "entering epoch=epoch_32.pkl\n",
      "[epoch_32.pkl---mpiigaze] Total Num:2968,MAE:3.621277168541986  06/27/2022 13:48:27\n",
      "entering epoch=epoch_33.pkl\n",
      "[epoch_33.pkl---mpiigaze] Total Num:2968,MAE:3.4833985930302633  06/27/2022 13:48:38\n",
      "entering epoch=epoch_34.pkl\n",
      "[epoch_34.pkl---mpiigaze] Total Num:2968,MAE:3.6233528524964496  06/27/2022 13:48:48\n",
      "entering epoch=epoch_35.pkl\n",
      "[epoch_35.pkl---mpiigaze] Total Num:2968,MAE:3.472750246205721  06/27/2022 13:48:59\n",
      "entering epoch=epoch_36.pkl\n",
      "[epoch_36.pkl---mpiigaze] Total Num:2968,MAE:3.380216271361059  06/27/2022 13:49:11\n",
      "entering epoch=epoch_37.pkl\n",
      "[epoch_37.pkl---mpiigaze] Total Num:2968,MAE:3.6881110669909574  06/27/2022 13:49:22\n",
      "entering epoch=epoch_38.pkl\n",
      "[epoch_38.pkl---mpiigaze] Total Num:2968,MAE:3.3822785388027494  06/27/2022 13:49:32\n",
      "entering epoch=epoch_39.pkl\n",
      "[epoch_39.pkl---mpiigaze] Total Num:2968,MAE:3.4231744218115643  06/27/2022 13:49:42\n",
      "entering epoch=epoch_40.pkl\n",
      "[epoch_40.pkl---mpiigaze] Total Num:2968,MAE:3.535796178183386  06/27/2022 13:49:52\n",
      "entering epoch=epoch_41.pkl\n",
      "[epoch_41.pkl---mpiigaze] Total Num:2968,MAE:3.435334592120475  06/27/2022 13:50:02\n",
      "entering epoch=epoch_42.pkl\n",
      "[epoch_42.pkl---mpiigaze] Total Num:2968,MAE:3.394196945586642  06/27/2022 13:50:12\n",
      "entering epoch=epoch_43.pkl\n",
      "[epoch_43.pkl---mpiigaze] Total Num:2968,MAE:3.368336608705293  06/27/2022 13:50:23\n",
      "entering epoch=epoch_44.pkl\n",
      "[epoch_44.pkl---mpiigaze] Total Num:2968,MAE:3.4338210197172465  06/27/2022 13:50:35\n",
      "entering epoch=epoch_45.pkl\n",
      "[epoch_45.pkl---mpiigaze] Total Num:2968,MAE:3.6248099004524255  06/27/2022 13:50:46\n",
      "entering epoch=epoch_46.pkl\n",
      "[epoch_46.pkl---mpiigaze] Total Num:2968,MAE:3.3323179782468504  06/27/2022 13:50:57\n",
      "entering epoch=epoch_47.pkl\n",
      "[epoch_47.pkl---mpiigaze] Total Num:2968,MAE:3.409737911327875  06/27/2022 13:51:06\n",
      "entering epoch=epoch_48.pkl\n",
      "[epoch_48.pkl---mpiigaze] Total Num:2968,MAE:3.4018185121330284  06/27/2022 13:51:16\n",
      "entering epoch=epoch_49.pkl\n",
      "[epoch_49.pkl---mpiigaze] Total Num:2968,MAE:3.297719393598437  06/27/2022 13:51:26\n",
      "entering epoch=epoch_50.pkl\n",
      "[epoch_50.pkl---mpiigaze] Total Num:2968,MAE:3.365370095402443  06/27/2022 13:51:38\n",
      "entering epoch=epoch_51.pkl\n",
      "[epoch_51.pkl---mpiigaze] Total Num:2968,MAE:3.2996404231883583  06/27/2022 13:51:47\n",
      "entering epoch=epoch_52.pkl\n",
      "[epoch_52.pkl---mpiigaze] Total Num:2968,MAE:3.3706632792623648  06/27/2022 13:51:58\n",
      "entering epoch=epoch_53.pkl\n",
      "[epoch_53.pkl---mpiigaze] Total Num:2968,MAE:3.3818480572474945  06/27/2022 13:52:07\n",
      "entering epoch=epoch_54.pkl\n",
      "[epoch_54.pkl---mpiigaze] Total Num:2968,MAE:3.520864030601426  06/27/2022 13:52:18\n",
      "entering epoch=epoch_55.pkl\n",
      "[epoch_55.pkl---mpiigaze] Total Num:2968,MAE:3.365860574910526  06/27/2022 13:52:27\n",
      "entering epoch=epoch_56.pkl\n",
      "[epoch_56.pkl---mpiigaze] Total Num:2968,MAE:3.3660506278149764  06/27/2022 13:52:38\n",
      "entering epoch=epoch_57.pkl\n",
      "[epoch_57.pkl---mpiigaze] Total Num:2968,MAE:3.474795107168555  06/27/2022 13:52:49\n",
      "entering epoch=epoch_58.pkl\n",
      "[epoch_58.pkl---mpiigaze] Total Num:2968,MAE:3.3327361817481918  06/27/2022 13:53:00\n",
      "entering epoch=epoch_59.pkl\n",
      "[epoch_59.pkl---mpiigaze] Total Num:2968,MAE:3.3415744542548755  06/27/2022 13:53:11\n",
      "entering epoch=epoch_60.pkl\n",
      "[epoch_60.pkl---mpiigaze] Total Num:2968,MAE:3.304562054038435  06/27/2022 13:53:22\n"
     ]
    },
    {
     "data": {
      "text/html": [
       "Waiting for W&B process to finish... <strong style=\"color:green\">(success).</strong>"
      ],
      "text/plain": [
       "<IPython.core.display.HTML object>"
      ]
     },
     "metadata": {},
     "output_type": "display_data"
    },
    {
     "data": {
      "application/vnd.jupyter.widget-view+json": {
       "model_id": "",
       "version_major": 2,
       "version_minor": 0
      },
      "text/plain": [
       "VBox(children=(Label(value='0.001 MB of 0.001 MB uploaded (0.000 MB deduped)\\r'), FloatProgress(value=1.0, max…"
      ]
     },
     "metadata": {},
     "output_type": "display_data"
    },
    {
     "data": {
      "text/html": [
       "<style>\n",
       "    table.wandb td:nth-child(1) { padding: 0 10px; text-align: right }\n",
       "    .wandb-row { display: flex; flex-direction: row; flex-wrap: wrap; width: 100% }\n",
       "    .wandb-col { display: flex; flex-direction: column; flex-basis: 100%; flex: 1; padding: 10px; }\n",
       "    </style>\n",
       "<div class=\"wandb-row\"><div class=\"wandb-col\"><h3>Run history:</h3><br/><table class=\"wandb\"><tr><td>try3-fold_6_mean_mae</td><td>█▆█▅▆▄▄▃▃▂▃▂▂▂▂▂▁▂▂▁▂▂▂▂▂▁▂▁▁▁▁▁▁▁▁▁▁▁▁▁</td></tr></table><br/></div><div class=\"wandb-col\"><h3>Run summary:</h3><br/><table class=\"wandb\"><tr><td>epoch</td><td>epoch_60.pkl</td></tr><tr><td>try3-fold_6_mean_mae</td><td>3.30456</td></tr></table><br/></div></div>"
      ],
      "text/plain": [
       "<IPython.core.display.HTML object>"
      ]
     },
     "metadata": {},
     "output_type": "display_data"
    },
    {
     "data": {
      "text/html": [
       "Synced <strong style=\"color:#cdcd00\">morning-dragon-39</strong>: <a href=\"https://wandb.ai/synthesis-ai/52_syn_mode_syn_data/runs/99ffedo3\" target=\"_blank\">https://wandb.ai/synthesis-ai/52_syn_mode_syn_data/runs/99ffedo3</a><br/>Synced 5 W&B file(s), 0 media file(s), 0 artifact file(s) and 0 other file(s)"
      ],
      "text/plain": [
       "<IPython.core.display.HTML object>"
      ]
     },
     "metadata": {},
     "output_type": "display_data"
    },
    {
     "data": {
      "text/html": [
       "Find logs at: <code>./wandb/run-20220627_204252-99ffedo3/logs</code>"
      ],
      "text/plain": [
       "<IPython.core.display.HTML object>"
      ]
     },
     "metadata": {},
     "output_type": "display_data"
    },
    {
     "data": {
      "text/html": [
       "wandb version 0.12.19 is available!  To upgrade, please run:\n",
       " $ pip install wandb --upgrade"
      ],
      "text/plain": [
       "<IPython.core.display.HTML object>"
      ]
     },
     "metadata": {},
     "output_type": "display_data"
    },
    {
     "data": {
      "text/html": [
       "Tracking run with wandb version 0.12.15"
      ],
      "text/plain": [
       "<IPython.core.display.HTML object>"
      ]
     },
     "metadata": {},
     "output_type": "display_data"
    },
    {
     "data": {
      "text/html": [
       "Run data is saved locally in <code>/project/notebooks/wandb/run-20220627_205326-aizkxy60</code>"
      ],
      "text/plain": [
       "<IPython.core.display.HTML object>"
      ]
     },
     "metadata": {},
     "output_type": "display_data"
    },
    {
     "data": {
      "text/html": [
       "Syncing run <strong><a href=\"https://wandb.ai/synthesis-ai/52_syn_mode_syn_data/runs/aizkxy60\" target=\"_blank\">fine-frog-40</a></strong> to <a href=\"https://wandb.ai/synthesis-ai/52_syn_mode_syn_data\" target=\"_blank\">Weights & Biases</a> (<a href=\"https://wandb.me/run\" target=\"_blank\">docs</a>)<br/>"
      ],
      "text/plain": [
       "<IPython.core.display.HTML object>"
      ]
     },
     "metadata": {},
     "output_type": "display_data"
    },
    {
     "name": "stdout",
     "output_type": "stream",
     "text": [
      "fold=7\n",
      "/project/data/sdata1/Label\n",
      "39 items removed from dataset that have an angle > 180\n",
      "\n",
      "test configuration equal gpu_id=cuda:0, batch_size=20, model_arch=ResNet50\n",
      "Start testing dataset=mpiigaze, FOLD=7 --06/27/2022 13:53:28---------\n",
      "entering epoch=epoch_1.pkl\n",
      "[epoch_1.pkl---mpiigaze] Total Num:2960,MAE:4.199771226083595  06/27/2022 13:53:41\n",
      "entering epoch=epoch_2.pkl\n",
      "[epoch_2.pkl---mpiigaze] Total Num:2960,MAE:4.22227794546392  06/27/2022 13:53:51\n",
      "entering epoch=epoch_3.pkl\n",
      "[epoch_3.pkl---mpiigaze] Total Num:2960,MAE:3.8406006060857796  06/27/2022 13:54:00\n",
      "entering epoch=epoch_4.pkl\n",
      "[epoch_4.pkl---mpiigaze] Total Num:2960,MAE:3.669048137559241  06/27/2022 13:54:11\n",
      "entering epoch=epoch_5.pkl\n",
      "[epoch_5.pkl---mpiigaze] Total Num:2960,MAE:3.6894449083045795  06/27/2022 13:54:21\n",
      "entering epoch=epoch_6.pkl\n",
      "[epoch_6.pkl---mpiigaze] Total Num:2960,MAE:3.6873136622908693  06/27/2022 13:54:32\n",
      "entering epoch=epoch_7.pkl\n",
      "[epoch_7.pkl---mpiigaze] Total Num:2960,MAE:4.466733570819677  06/27/2022 13:54:44\n",
      "entering epoch=epoch_8.pkl\n",
      "[epoch_8.pkl---mpiigaze] Total Num:2960,MAE:3.564165243444817  06/27/2022 13:54:54\n",
      "entering epoch=epoch_9.pkl\n",
      "[epoch_9.pkl---mpiigaze] Total Num:2960,MAE:3.881573231616322  06/27/2022 13:55:04\n",
      "entering epoch=epoch_10.pkl\n",
      "[epoch_10.pkl---mpiigaze] Total Num:2960,MAE:3.600297398714299  06/27/2022 13:55:15\n",
      "entering epoch=epoch_11.pkl\n",
      "[epoch_11.pkl---mpiigaze] Total Num:2960,MAE:3.2629628997129516  06/27/2022 13:55:24\n",
      "entering epoch=epoch_12.pkl\n",
      "[epoch_12.pkl---mpiigaze] Total Num:2960,MAE:3.2863451530635093  06/27/2022 13:55:35\n",
      "entering epoch=epoch_13.pkl\n",
      "[epoch_13.pkl---mpiigaze] Total Num:2960,MAE:3.325614281170872  06/27/2022 13:55:45\n",
      "entering epoch=epoch_14.pkl\n",
      "[epoch_14.pkl---mpiigaze] Total Num:2960,MAE:3.5660293430224845  06/27/2022 13:55:56\n",
      "entering epoch=epoch_15.pkl\n",
      "[epoch_15.pkl---mpiigaze] Total Num:2960,MAE:3.166589215022538  06/27/2022 13:56:07\n",
      "entering epoch=epoch_16.pkl\n",
      "[epoch_16.pkl---mpiigaze] Total Num:2960,MAE:3.357836391647037  06/27/2022 13:56:17\n",
      "entering epoch=epoch_17.pkl\n",
      "[epoch_17.pkl---mpiigaze] Total Num:2960,MAE:3.3868428282207144  06/27/2022 13:56:26\n",
      "entering epoch=epoch_18.pkl\n",
      "[epoch_18.pkl---mpiigaze] Total Num:2960,MAE:3.2304247471686103  06/27/2022 13:56:36\n",
      "entering epoch=epoch_19.pkl\n",
      "[epoch_19.pkl---mpiigaze] Total Num:2960,MAE:3.6774518477171414  06/27/2022 13:56:46\n",
      "entering epoch=epoch_20.pkl\n",
      "[epoch_20.pkl---mpiigaze] Total Num:2960,MAE:3.5307676718143455  06/27/2022 13:56:57\n",
      "entering epoch=epoch_21.pkl\n",
      "[epoch_21.pkl---mpiigaze] Total Num:2960,MAE:3.718561220616139  06/27/2022 13:57:04\n",
      "entering epoch=epoch_22.pkl\n",
      "[epoch_22.pkl---mpiigaze] Total Num:2960,MAE:3.5053497405941605  06/27/2022 13:57:15\n",
      "entering epoch=epoch_23.pkl\n",
      "[epoch_23.pkl---mpiigaze] Total Num:2960,MAE:3.366917130782549  06/27/2022 13:57:25\n",
      "entering epoch=epoch_24.pkl\n",
      "[epoch_24.pkl---mpiigaze] Total Num:2960,MAE:3.4274965141008904  06/27/2022 13:57:35\n",
      "entering epoch=epoch_25.pkl\n",
      "[epoch_25.pkl---mpiigaze] Total Num:2960,MAE:3.3782247774469614  06/27/2022 13:57:45\n",
      "entering epoch=epoch_26.pkl\n",
      "[epoch_26.pkl---mpiigaze] Total Num:2960,MAE:3.326264889439451  06/27/2022 13:57:55\n",
      "entering epoch=epoch_27.pkl\n",
      "[epoch_27.pkl---mpiigaze] Total Num:2960,MAE:3.258535885721808  06/27/2022 13:58:05\n",
      "entering epoch=epoch_28.pkl\n",
      "[epoch_28.pkl---mpiigaze] Total Num:2960,MAE:3.364083977754865  06/27/2022 13:58:16\n",
      "entering epoch=epoch_29.pkl\n",
      "[epoch_29.pkl---mpiigaze] Total Num:2960,MAE:3.38740550296644  06/27/2022 13:58:27\n",
      "entering epoch=epoch_30.pkl\n",
      "[epoch_30.pkl---mpiigaze] Total Num:2960,MAE:3.1813121389151835  06/27/2022 13:58:37\n",
      "entering epoch=epoch_31.pkl\n",
      "[epoch_31.pkl---mpiigaze] Total Num:2960,MAE:3.414498508450944  06/27/2022 13:58:46\n",
      "entering epoch=epoch_32.pkl\n",
      "[epoch_32.pkl---mpiigaze] Total Num:2960,MAE:3.3258368684473774  06/27/2022 13:58:56\n",
      "entering epoch=epoch_33.pkl\n",
      "[epoch_33.pkl---mpiigaze] Total Num:2960,MAE:3.2977221329385658  06/27/2022 13:59:07\n",
      "entering epoch=epoch_34.pkl\n",
      "[epoch_34.pkl---mpiigaze] Total Num:2960,MAE:3.737980462593187  06/27/2022 13:59:17\n",
      "entering epoch=epoch_35.pkl\n",
      "[epoch_35.pkl---mpiigaze] Total Num:2960,MAE:3.2291181942527762  06/27/2022 13:59:28\n",
      "entering epoch=epoch_36.pkl\n",
      "[epoch_36.pkl---mpiigaze] Total Num:2960,MAE:3.1950168692600798  06/27/2022 13:59:39\n",
      "entering epoch=epoch_37.pkl\n",
      "[epoch_37.pkl---mpiigaze] Total Num:2960,MAE:3.2281169149504754  06/27/2022 13:59:50\n",
      "entering epoch=epoch_38.pkl\n",
      "[epoch_38.pkl---mpiigaze] Total Num:2960,MAE:3.2218356512333783  06/27/2022 14:00:00\n",
      "entering epoch=epoch_39.pkl\n",
      "[epoch_39.pkl---mpiigaze] Total Num:2960,MAE:3.3060923535873568  06/27/2022 14:00:10\n",
      "entering epoch=epoch_40.pkl\n",
      "[epoch_40.pkl---mpiigaze] Total Num:2960,MAE:3.1453851426394257  06/27/2022 14:00:20\n",
      "entering epoch=epoch_41.pkl\n",
      "[epoch_41.pkl---mpiigaze] Total Num:2960,MAE:3.0766720905331026  06/27/2022 14:00:29\n",
      "entering epoch=epoch_42.pkl\n",
      "[epoch_42.pkl---mpiigaze] Total Num:2960,MAE:3.572690719350449  06/27/2022 14:00:39\n",
      "entering epoch=epoch_43.pkl\n",
      "[epoch_43.pkl---mpiigaze] Total Num:2960,MAE:3.3412874143140927  06/27/2022 14:00:50\n",
      "entering epoch=epoch_44.pkl\n",
      "[epoch_44.pkl---mpiigaze] Total Num:2960,MAE:3.216270588432293  06/27/2022 14:01:01\n",
      "entering epoch=epoch_45.pkl\n",
      "[epoch_45.pkl---mpiigaze] Total Num:2960,MAE:3.125236868896852  06/27/2022 14:01:12\n",
      "entering epoch=epoch_46.pkl\n",
      "[epoch_46.pkl---mpiigaze] Total Num:2960,MAE:3.159743621676593  06/27/2022 14:01:22\n",
      "entering epoch=epoch_47.pkl\n",
      "[epoch_47.pkl---mpiigaze] Total Num:2960,MAE:3.084935048636667  06/27/2022 14:01:32\n",
      "entering epoch=epoch_48.pkl\n",
      "[epoch_48.pkl---mpiigaze] Total Num:2960,MAE:3.1187698870128573  06/27/2022 14:01:42\n",
      "entering epoch=epoch_49.pkl\n",
      "[epoch_49.pkl---mpiigaze] Total Num:2960,MAE:3.1269622227846847  06/27/2022 14:01:52\n",
      "entering epoch=epoch_50.pkl\n",
      "[epoch_50.pkl---mpiigaze] Total Num:2960,MAE:3.1222628355418194  06/27/2022 14:02:02\n",
      "entering epoch=epoch_51.pkl\n",
      "[epoch_51.pkl---mpiigaze] Total Num:2960,MAE:3.179296167096155  06/27/2022 14:02:13\n",
      "entering epoch=epoch_52.pkl\n",
      "[epoch_52.pkl---mpiigaze] Total Num:2960,MAE:3.102847798824338  06/27/2022 14:02:24\n",
      "entering epoch=epoch_53.pkl\n",
      "[epoch_53.pkl---mpiigaze] Total Num:2960,MAE:3.4072040577924847  06/27/2022 14:02:35\n",
      "entering epoch=epoch_54.pkl\n",
      "[epoch_54.pkl---mpiigaze] Total Num:2960,MAE:3.1181414514433707  06/27/2022 14:02:46\n",
      "entering epoch=epoch_55.pkl\n",
      "[epoch_55.pkl---mpiigaze] Total Num:2960,MAE:3.339295538984469  06/27/2022 14:02:55\n",
      "entering epoch=epoch_56.pkl\n",
      "[epoch_56.pkl---mpiigaze] Total Num:2960,MAE:3.2638352571832456  06/27/2022 14:03:06\n",
      "entering epoch=epoch_57.pkl\n",
      "[epoch_57.pkl---mpiigaze] Total Num:2960,MAE:3.1012638256808693  06/27/2022 14:03:16\n",
      "entering epoch=epoch_58.pkl\n",
      "[epoch_58.pkl---mpiigaze] Total Num:2960,MAE:3.3297481948000023  06/27/2022 14:03:26\n",
      "entering epoch=epoch_59.pkl\n",
      "[epoch_59.pkl---mpiigaze] Total Num:2960,MAE:3.377379349612801  06/27/2022 14:03:38\n",
      "entering epoch=epoch_60.pkl\n",
      "[epoch_60.pkl---mpiigaze] Total Num:2960,MAE:3.2491887086608204  06/27/2022 14:03:49\n"
     ]
    },
    {
     "data": {
      "text/html": [
       "Waiting for W&B process to finish... <strong style=\"color:green\">(success).</strong>"
      ],
      "text/plain": [
       "<IPython.core.display.HTML object>"
      ]
     },
     "metadata": {},
     "output_type": "display_data"
    },
    {
     "data": {
      "application/vnd.jupyter.widget-view+json": {
       "model_id": "",
       "version_major": 2,
       "version_minor": 0
      },
      "text/plain": [
       "VBox(children=(Label(value='0.001 MB of 0.001 MB uploaded (0.000 MB deduped)\\r'), FloatProgress(value=1.0, max…"
      ]
     },
     "metadata": {},
     "output_type": "display_data"
    },
    {
     "data": {
      "text/html": [
       "<style>\n",
       "    table.wandb td:nth-child(1) { padding: 0 10px; text-align: right }\n",
       "    .wandb-row { display: flex; flex-direction: row; flex-wrap: wrap; width: 100% }\n",
       "    .wandb-col { display: flex; flex-direction: column; flex-basis: 100%; flex: 1; padding: 10px; }\n",
       "    </style>\n",
       "<div class=\"wandb-row\"><div class=\"wandb-col\"><h3>Run history:</h3><br/><table class=\"wandb\"><tr><td>try3-fold_7_mean_mae</td><td>▇▇▄▄█▃▄▂▂▃▂▃▄▃▃▂▃▂▂▃▃▂▄▂▂▂▁▁▂▂▁▁▁▁▁▃▂▂▂▂</td></tr></table><br/></div><div class=\"wandb-col\"><h3>Run summary:</h3><br/><table class=\"wandb\"><tr><td>epoch</td><td>epoch_60.pkl</td></tr><tr><td>try3-fold_7_mean_mae</td><td>3.24919</td></tr></table><br/></div></div>"
      ],
      "text/plain": [
       "<IPython.core.display.HTML object>"
      ]
     },
     "metadata": {},
     "output_type": "display_data"
    },
    {
     "data": {
      "text/html": [
       "Synced <strong style=\"color:#cdcd00\">fine-frog-40</strong>: <a href=\"https://wandb.ai/synthesis-ai/52_syn_mode_syn_data/runs/aizkxy60\" target=\"_blank\">https://wandb.ai/synthesis-ai/52_syn_mode_syn_data/runs/aizkxy60</a><br/>Synced 5 W&B file(s), 0 media file(s), 0 artifact file(s) and 0 other file(s)"
      ],
      "text/plain": [
       "<IPython.core.display.HTML object>"
      ]
     },
     "metadata": {},
     "output_type": "display_data"
    },
    {
     "data": {
      "text/html": [
       "Find logs at: <code>./wandb/run-20220627_205326-aizkxy60/logs</code>"
      ],
      "text/plain": [
       "<IPython.core.display.HTML object>"
      ]
     },
     "metadata": {},
     "output_type": "display_data"
    },
    {
     "data": {
      "text/html": [
       "wandb version 0.12.19 is available!  To upgrade, please run:\n",
       " $ pip install wandb --upgrade"
      ],
      "text/plain": [
       "<IPython.core.display.HTML object>"
      ]
     },
     "metadata": {},
     "output_type": "display_data"
    },
    {
     "data": {
      "text/html": [
       "Tracking run with wandb version 0.12.15"
      ],
      "text/plain": [
       "<IPython.core.display.HTML object>"
      ]
     },
     "metadata": {},
     "output_type": "display_data"
    },
    {
     "data": {
      "text/html": [
       "Run data is saved locally in <code>/project/notebooks/wandb/run-20220627_210352-20yh3r2o</code>"
      ],
      "text/plain": [
       "<IPython.core.display.HTML object>"
      ]
     },
     "metadata": {},
     "output_type": "display_data"
    },
    {
     "data": {
      "text/html": [
       "Syncing run <strong><a href=\"https://wandb.ai/synthesis-ai/52_syn_mode_syn_data/runs/20yh3r2o\" target=\"_blank\">earthy-firebrand-41</a></strong> to <a href=\"https://wandb.ai/synthesis-ai/52_syn_mode_syn_data\" target=\"_blank\">Weights & Biases</a> (<a href=\"https://wandb.me/run\" target=\"_blank\">docs</a>)<br/>"
      ],
      "text/plain": [
       "<IPython.core.display.HTML object>"
      ]
     },
     "metadata": {},
     "output_type": "display_data"
    },
    {
     "name": "stdout",
     "output_type": "stream",
     "text": [
      "fold=8\n",
      "/project/data/sdata1/Label\n",
      "17 items removed from dataset that have an angle > 180\n",
      "\n",
      "test configuration equal gpu_id=cuda:0, batch_size=20, model_arch=ResNet50\n",
      "Start testing dataset=mpiigaze, FOLD=8 --06/27/2022 14:03:55---------\n",
      "entering epoch=epoch_1.pkl\n",
      "[epoch_1.pkl---mpiigaze] Total Num:2982,MAE:5.939591266583501  06/27/2022 14:04:07\n",
      "entering epoch=epoch_2.pkl\n",
      "[epoch_2.pkl---mpiigaze] Total Num:2982,MAE:5.465458008419479  06/27/2022 14:04:18\n",
      "entering epoch=epoch_3.pkl\n",
      "[epoch_3.pkl---mpiigaze] Total Num:2982,MAE:5.326255973842835  06/27/2022 14:04:27\n",
      "entering epoch=epoch_4.pkl\n",
      "[epoch_4.pkl---mpiigaze] Total Num:2982,MAE:5.191548703341843  06/27/2022 14:04:38\n",
      "entering epoch=epoch_5.pkl\n",
      "[epoch_5.pkl---mpiigaze] Total Num:2982,MAE:5.434303196526493  06/27/2022 14:04:48\n",
      "entering epoch=epoch_6.pkl\n",
      "[epoch_6.pkl---mpiigaze] Total Num:2982,MAE:5.152739885049064  06/27/2022 14:04:59\n",
      "entering epoch=epoch_7.pkl\n",
      "[epoch_7.pkl---mpiigaze] Total Num:2982,MAE:5.224137482110321  06/27/2022 14:05:10\n",
      "entering epoch=epoch_8.pkl\n",
      "[epoch_8.pkl---mpiigaze] Total Num:2982,MAE:5.435863159289216  06/27/2022 14:05:21\n",
      "entering epoch=epoch_9.pkl\n",
      "[epoch_9.pkl---mpiigaze] Total Num:2982,MAE:5.366482537895506  06/27/2022 14:05:31\n",
      "entering epoch=epoch_10.pkl\n",
      "[epoch_10.pkl---mpiigaze] Total Num:2982,MAE:4.960861021843636  06/27/2022 14:05:41\n",
      "entering epoch=epoch_11.pkl\n",
      "[epoch_11.pkl---mpiigaze] Total Num:2982,MAE:5.120170409061942  06/27/2022 14:05:51\n",
      "entering epoch=epoch_12.pkl\n",
      "[epoch_12.pkl---mpiigaze] Total Num:2982,MAE:5.0196934455873885  06/27/2022 14:06:01\n",
      "entering epoch=epoch_13.pkl\n",
      "[epoch_13.pkl---mpiigaze] Total Num:2982,MAE:5.364857266717236  06/27/2022 14:06:12\n",
      "entering epoch=epoch_14.pkl\n",
      "[epoch_14.pkl---mpiigaze] Total Num:2982,MAE:4.980368332019124  06/27/2022 14:06:22\n",
      "entering epoch=epoch_15.pkl\n",
      "[epoch_15.pkl---mpiigaze] Total Num:2982,MAE:4.987237238598429  06/27/2022 14:06:32\n",
      "entering epoch=epoch_16.pkl\n",
      "[epoch_16.pkl---mpiigaze] Total Num:2982,MAE:5.063140662122274  06/27/2022 14:06:44\n",
      "entering epoch=epoch_17.pkl\n",
      "[epoch_17.pkl---mpiigaze] Total Num:2982,MAE:5.278763270821521  06/27/2022 14:06:55\n",
      "entering epoch=epoch_18.pkl\n",
      "[epoch_18.pkl---mpiigaze] Total Num:2982,MAE:5.240947624369494  06/27/2022 14:07:06\n",
      "entering epoch=epoch_19.pkl\n",
      "[epoch_19.pkl---mpiigaze] Total Num:2982,MAE:4.994572992182725  06/27/2022 14:07:16\n",
      "entering epoch=epoch_20.pkl\n",
      "[epoch_20.pkl---mpiigaze] Total Num:2982,MAE:5.1633935572808785  06/27/2022 14:07:26\n",
      "entering epoch=epoch_21.pkl\n",
      "[epoch_21.pkl---mpiigaze] Total Num:2982,MAE:4.982782236824803  06/27/2022 14:07:36\n",
      "entering epoch=epoch_22.pkl\n",
      "[epoch_22.pkl---mpiigaze] Total Num:2982,MAE:5.017836290353105  06/27/2022 14:07:46\n",
      "entering epoch=epoch_23.pkl\n",
      "[epoch_23.pkl---mpiigaze] Total Num:2982,MAE:5.025412324615937  06/27/2022 14:07:58\n",
      "entering epoch=epoch_24.pkl\n",
      "[epoch_24.pkl---mpiigaze] Total Num:2982,MAE:4.920305863548139  06/27/2022 14:08:09\n",
      "entering epoch=epoch_25.pkl\n",
      "[epoch_25.pkl---mpiigaze] Total Num:2982,MAE:5.017160660935945  06/27/2022 14:08:19\n",
      "entering epoch=epoch_26.pkl\n",
      "[epoch_26.pkl---mpiigaze] Total Num:2982,MAE:5.2281304990129485  06/27/2022 14:08:30\n",
      "entering epoch=epoch_27.pkl\n",
      "[epoch_27.pkl---mpiigaze] Total Num:2982,MAE:5.050381631649201  06/27/2022 14:08:41\n",
      "entering epoch=epoch_28.pkl\n",
      "[epoch_28.pkl---mpiigaze] Total Num:2982,MAE:5.251275725510335  06/27/2022 14:08:51\n",
      "entering epoch=epoch_29.pkl\n",
      "[epoch_29.pkl---mpiigaze] Total Num:2982,MAE:4.814923114864992  06/27/2022 14:09:00\n",
      "entering epoch=epoch_30.pkl\n",
      "[epoch_30.pkl---mpiigaze] Total Num:2982,MAE:4.948021201614034  06/27/2022 14:09:08\n",
      "entering epoch=epoch_31.pkl\n",
      "[epoch_31.pkl---mpiigaze] Total Num:2982,MAE:4.841125647104878  06/27/2022 14:09:19\n",
      "entering epoch=epoch_32.pkl\n",
      "[epoch_32.pkl---mpiigaze] Total Num:2982,MAE:5.046408352767147  06/27/2022 14:09:28\n",
      "entering epoch=epoch_33.pkl\n",
      "[epoch_33.pkl---mpiigaze] Total Num:2982,MAE:4.920794607945446  06/27/2022 14:09:39\n",
      "entering epoch=epoch_34.pkl\n",
      "[epoch_34.pkl---mpiigaze] Total Num:2982,MAE:5.068934116046252  06/27/2022 14:09:51\n",
      "entering epoch=epoch_35.pkl\n",
      "[epoch_35.pkl---mpiigaze] Total Num:2982,MAE:5.135893742283728  06/27/2022 14:10:02\n",
      "entering epoch=epoch_36.pkl\n",
      "[epoch_36.pkl---mpiigaze] Total Num:2982,MAE:4.965808246542242  06/27/2022 14:10:11\n",
      "entering epoch=epoch_37.pkl\n",
      "[epoch_37.pkl---mpiigaze] Total Num:2982,MAE:5.059251669802755  06/27/2022 14:10:21\n",
      "entering epoch=epoch_38.pkl\n",
      "[epoch_38.pkl---mpiigaze] Total Num:2982,MAE:5.294889649512359  06/27/2022 14:10:32\n",
      "entering epoch=epoch_39.pkl\n",
      "[epoch_39.pkl---mpiigaze] Total Num:2982,MAE:5.05792946248313  06/27/2022 14:10:41\n",
      "entering epoch=epoch_40.pkl\n",
      "[epoch_40.pkl---mpiigaze] Total Num:2982,MAE:4.856976395688044  06/27/2022 14:10:52\n",
      "entering epoch=epoch_41.pkl\n",
      "[epoch_41.pkl---mpiigaze] Total Num:2982,MAE:4.87581178207245  06/27/2022 14:11:03\n",
      "entering epoch=epoch_42.pkl\n",
      "[epoch_42.pkl---mpiigaze] Total Num:2982,MAE:4.987036274576559  06/27/2022 14:11:15\n",
      "entering epoch=epoch_43.pkl\n",
      "[epoch_43.pkl---mpiigaze] Total Num:2982,MAE:4.893550201876763  06/27/2022 14:11:26\n",
      "entering epoch=epoch_44.pkl\n",
      "[epoch_44.pkl---mpiigaze] Total Num:2982,MAE:5.2401455603303315  06/27/2022 14:11:36\n",
      "entering epoch=epoch_45.pkl\n",
      "[epoch_45.pkl---mpiigaze] Total Num:2982,MAE:4.979485880687765  06/27/2022 14:11:47\n",
      "entering epoch=epoch_46.pkl\n",
      "[epoch_46.pkl---mpiigaze] Total Num:2982,MAE:4.924937886712876  06/27/2022 14:11:57\n",
      "entering epoch=epoch_47.pkl\n",
      "[epoch_47.pkl---mpiigaze] Total Num:2982,MAE:5.036914803510188  06/27/2022 14:12:08\n",
      "entering epoch=epoch_48.pkl\n",
      "[epoch_48.pkl---mpiigaze] Total Num:2982,MAE:4.9930603791209345  06/27/2022 14:12:19\n",
      "entering epoch=epoch_49.pkl\n",
      "[epoch_49.pkl---mpiigaze] Total Num:2982,MAE:4.864422087422528  06/27/2022 14:12:30\n",
      "entering epoch=epoch_50.pkl\n",
      "[epoch_50.pkl---mpiigaze] Total Num:2982,MAE:5.00793110280466  06/27/2022 14:12:42\n",
      "entering epoch=epoch_51.pkl\n",
      "[epoch_51.pkl---mpiigaze] Total Num:2982,MAE:4.890559927634939  06/27/2022 14:12:53\n",
      "entering epoch=epoch_52.pkl\n",
      "[epoch_52.pkl---mpiigaze] Total Num:2982,MAE:4.856223387239678  06/27/2022 14:13:03\n",
      "entering epoch=epoch_53.pkl\n",
      "[epoch_53.pkl---mpiigaze] Total Num:2982,MAE:4.896715644243592  06/27/2022 14:13:13\n",
      "entering epoch=epoch_54.pkl\n",
      "[epoch_54.pkl---mpiigaze] Total Num:2982,MAE:4.923194692525334  06/27/2022 14:13:23\n",
      "entering epoch=epoch_55.pkl\n",
      "[epoch_55.pkl---mpiigaze] Total Num:2982,MAE:4.957741406664143  06/27/2022 14:13:33\n",
      "entering epoch=epoch_56.pkl\n",
      "[epoch_56.pkl---mpiigaze] Total Num:2982,MAE:4.885318092052045  06/27/2022 14:13:43\n",
      "entering epoch=epoch_57.pkl\n",
      "[epoch_57.pkl---mpiigaze] Total Num:2982,MAE:4.907943039956232  06/27/2022 14:13:54\n",
      "entering epoch=epoch_58.pkl\n",
      "[epoch_58.pkl---mpiigaze] Total Num:2982,MAE:4.823029147558786  06/27/2022 14:14:04\n",
      "entering epoch=epoch_59.pkl\n",
      "[epoch_59.pkl---mpiigaze] Total Num:2982,MAE:4.8925534936597606  06/27/2022 14:14:15\n",
      "entering epoch=epoch_60.pkl\n",
      "[epoch_60.pkl---mpiigaze] Total Num:2982,MAE:4.968043646970324  06/27/2022 14:14:25\n"
     ]
    },
    {
     "data": {
      "text/html": [
       "Waiting for W&B process to finish... <strong style=\"color:green\">(success).</strong>"
      ],
      "text/plain": [
       "<IPython.core.display.HTML object>"
      ]
     },
     "metadata": {},
     "output_type": "display_data"
    },
    {
     "data": {
      "application/vnd.jupyter.widget-view+json": {
       "model_id": "",
       "version_major": 2,
       "version_minor": 0
      },
      "text/plain": [
       "VBox(children=(Label(value='0.001 MB of 0.001 MB uploaded (0.000 MB deduped)\\r'), FloatProgress(value=1.0, max…"
      ]
     },
     "metadata": {},
     "output_type": "display_data"
    },
    {
     "data": {
      "text/html": [
       "<style>\n",
       "    table.wandb td:nth-child(1) { padding: 0 10px; text-align: right }\n",
       "    .wandb-row { display: flex; flex-direction: row; flex-wrap: wrap; width: 100% }\n",
       "    .wandb-col { display: flex; flex-direction: column; flex-basis: 100%; flex: 1; padding: 10px; }\n",
       "    </style>\n",
       "<div class=\"wandb-row\"><div class=\"wandb-col\"><h3>Run history:</h3><br/><table class=\"wandb\"><tr><td>try3-fold_8_mean_mae</td><td>█▅▃▅▄▅▂▃▄▂▃▄▂▃▂▂▂▄▄▁▁▂▃▃▃▄▁▁▁▄▂▂▁▂▁▂▂▁▁▂</td></tr></table><br/></div><div class=\"wandb-col\"><h3>Run summary:</h3><br/><table class=\"wandb\"><tr><td>epoch</td><td>epoch_60.pkl</td></tr><tr><td>try3-fold_8_mean_mae</td><td>4.96804</td></tr></table><br/></div></div>"
      ],
      "text/plain": [
       "<IPython.core.display.HTML object>"
      ]
     },
     "metadata": {},
     "output_type": "display_data"
    },
    {
     "data": {
      "text/html": [
       "Synced <strong style=\"color:#cdcd00\">earthy-firebrand-41</strong>: <a href=\"https://wandb.ai/synthesis-ai/52_syn_mode_syn_data/runs/20yh3r2o\" target=\"_blank\">https://wandb.ai/synthesis-ai/52_syn_mode_syn_data/runs/20yh3r2o</a><br/>Synced 5 W&B file(s), 0 media file(s), 0 artifact file(s) and 0 other file(s)"
      ],
      "text/plain": [
       "<IPython.core.display.HTML object>"
      ]
     },
     "metadata": {},
     "output_type": "display_data"
    },
    {
     "data": {
      "text/html": [
       "Find logs at: <code>./wandb/run-20220627_210352-20yh3r2o/logs</code>"
      ],
      "text/plain": [
       "<IPython.core.display.HTML object>"
      ]
     },
     "metadata": {},
     "output_type": "display_data"
    },
    {
     "data": {
      "text/html": [
       "wandb version 0.12.19 is available!  To upgrade, please run:\n",
       " $ pip install wandb --upgrade"
      ],
      "text/plain": [
       "<IPython.core.display.HTML object>"
      ]
     },
     "metadata": {},
     "output_type": "display_data"
    },
    {
     "data": {
      "text/html": [
       "Tracking run with wandb version 0.12.15"
      ],
      "text/plain": [
       "<IPython.core.display.HTML object>"
      ]
     },
     "metadata": {},
     "output_type": "display_data"
    },
    {
     "data": {
      "text/html": [
       "Run data is saved locally in <code>/project/notebooks/wandb/run-20220627_211429-1nouma5x</code>"
      ],
      "text/plain": [
       "<IPython.core.display.HTML object>"
      ]
     },
     "metadata": {},
     "output_type": "display_data"
    },
    {
     "data": {
      "text/html": [
       "Syncing run <strong><a href=\"https://wandb.ai/synthesis-ai/52_syn_mode_syn_data/runs/1nouma5x\" target=\"_blank\">mild-elevator-42</a></strong> to <a href=\"https://wandb.ai/synthesis-ai/52_syn_mode_syn_data\" target=\"_blank\">Weights & Biases</a> (<a href=\"https://wandb.me/run\" target=\"_blank\">docs</a>)<br/>"
      ],
      "text/plain": [
       "<IPython.core.display.HTML object>"
      ]
     },
     "metadata": {},
     "output_type": "display_data"
    },
    {
     "name": "stdout",
     "output_type": "stream",
     "text": [
      "fold=9\n",
      "/project/data/sdata1/Label\n",
      "41 items removed from dataset that have an angle > 180\n",
      "\n",
      "test configuration equal gpu_id=cuda:0, batch_size=20, model_arch=ResNet50\n",
      "Start testing dataset=mpiigaze, FOLD=9 --06/27/2022 14:14:31---------\n",
      "entering epoch=epoch_1.pkl\n",
      "[epoch_1.pkl---mpiigaze] Total Num:2958,MAE:6.496261421181461  06/27/2022 14:14:45\n",
      "entering epoch=epoch_2.pkl\n",
      "[epoch_2.pkl---mpiigaze] Total Num:2958,MAE:5.153506621752405  06/27/2022 14:14:55\n",
      "entering epoch=epoch_3.pkl\n",
      "[epoch_3.pkl---mpiigaze] Total Num:2958,MAE:5.646784911050485  06/27/2022 14:15:05\n",
      "entering epoch=epoch_4.pkl\n",
      "[epoch_4.pkl---mpiigaze] Total Num:2958,MAE:5.094301919955337  06/27/2022 14:15:15\n",
      "entering epoch=epoch_5.pkl\n",
      "[epoch_5.pkl---mpiigaze] Total Num:2958,MAE:4.876535323963285  06/27/2022 14:15:26\n",
      "entering epoch=epoch_6.pkl\n",
      "[epoch_6.pkl---mpiigaze] Total Num:2958,MAE:4.822909826554476  06/27/2022 14:15:37\n",
      "entering epoch=epoch_7.pkl\n",
      "[epoch_7.pkl---mpiigaze] Total Num:2958,MAE:5.400320336751881  06/27/2022 14:15:49\n",
      "entering epoch=epoch_8.pkl\n",
      "[epoch_8.pkl---mpiigaze] Total Num:2958,MAE:5.360196992001518  06/27/2022 14:16:00\n",
      "entering epoch=epoch_9.pkl\n",
      "[epoch_9.pkl---mpiigaze] Total Num:2958,MAE:5.468961226338952  06/27/2022 14:16:11\n",
      "entering epoch=epoch_10.pkl\n",
      "[epoch_10.pkl---mpiigaze] Total Num:2958,MAE:4.861980752138366  06/27/2022 14:16:21\n",
      "entering epoch=epoch_11.pkl\n",
      "[epoch_11.pkl---mpiigaze] Total Num:2958,MAE:5.178694292107373  06/27/2022 14:16:31\n",
      "entering epoch=epoch_12.pkl\n",
      "[epoch_12.pkl---mpiigaze] Total Num:2958,MAE:5.248774038532058  06/27/2022 14:16:41\n",
      "entering epoch=epoch_13.pkl\n",
      "[epoch_13.pkl---mpiigaze] Total Num:2958,MAE:4.908245636306672  06/27/2022 14:16:52\n",
      "entering epoch=epoch_14.pkl\n",
      "[epoch_14.pkl---mpiigaze] Total Num:2958,MAE:5.012231065128205  06/27/2022 14:17:02\n",
      "entering epoch=epoch_15.pkl\n",
      "[epoch_15.pkl---mpiigaze] Total Num:2958,MAE:5.153360628454739  06/27/2022 14:17:13\n",
      "entering epoch=epoch_16.pkl\n",
      "[epoch_16.pkl---mpiigaze] Total Num:2958,MAE:5.358518007270532  06/27/2022 14:17:24\n",
      "entering epoch=epoch_17.pkl\n",
      "[epoch_17.pkl---mpiigaze] Total Num:2958,MAE:5.117434492172692  06/27/2022 14:17:34\n",
      "entering epoch=epoch_18.pkl\n",
      "[epoch_18.pkl---mpiigaze] Total Num:2958,MAE:5.268586582128743  06/27/2022 14:17:46\n",
      "entering epoch=epoch_19.pkl\n",
      "[epoch_19.pkl---mpiigaze] Total Num:2958,MAE:4.9453331503271105  06/27/2022 14:17:57\n",
      "entering epoch=epoch_20.pkl\n",
      "[epoch_20.pkl---mpiigaze] Total Num:2958,MAE:5.116109133511137  06/27/2022 14:18:07\n",
      "entering epoch=epoch_21.pkl\n",
      "[epoch_21.pkl---mpiigaze] Total Num:2958,MAE:4.862709345301847  06/27/2022 14:18:17\n",
      "entering epoch=epoch_22.pkl\n",
      "[epoch_22.pkl---mpiigaze] Total Num:2958,MAE:5.182980992135849  06/27/2022 14:18:28\n",
      "entering epoch=epoch_23.pkl\n",
      "[epoch_23.pkl---mpiigaze] Total Num:2958,MAE:4.869683803803422  06/27/2022 14:18:38\n",
      "entering epoch=epoch_24.pkl\n",
      "[epoch_24.pkl---mpiigaze] Total Num:2958,MAE:5.019504386402267  06/27/2022 14:18:50\n",
      "entering epoch=epoch_25.pkl\n",
      "[epoch_25.pkl---mpiigaze] Total Num:2958,MAE:5.162827600920174  06/27/2022 14:19:00\n",
      "entering epoch=epoch_26.pkl\n",
      "[epoch_26.pkl---mpiigaze] Total Num:2958,MAE:4.930361980702745  06/27/2022 14:19:10\n",
      "entering epoch=epoch_27.pkl\n",
      "[epoch_27.pkl---mpiigaze] Total Num:2958,MAE:4.985046946704344  06/27/2022 14:19:19\n",
      "entering epoch=epoch_28.pkl\n",
      "[epoch_28.pkl---mpiigaze] Total Num:2958,MAE:4.975494703121126  06/27/2022 14:19:29\n",
      "entering epoch=epoch_29.pkl\n",
      "[epoch_29.pkl---mpiigaze] Total Num:2958,MAE:4.825080993811786  06/27/2022 14:19:39\n",
      "entering epoch=epoch_30.pkl\n",
      "[epoch_30.pkl---mpiigaze] Total Num:2958,MAE:4.979288499000115  06/27/2022 14:19:49\n",
      "entering epoch=epoch_31.pkl\n",
      "[epoch_31.pkl---mpiigaze] Total Num:2958,MAE:5.09424907467822  06/27/2022 14:20:00\n",
      "entering epoch=epoch_32.pkl\n",
      "[epoch_32.pkl---mpiigaze] Total Num:2958,MAE:4.782696547997513  06/27/2022 14:20:11\n",
      "entering epoch=epoch_33.pkl\n",
      "[epoch_33.pkl---mpiigaze] Total Num:2958,MAE:5.0736612122596805  06/27/2022 14:20:21\n",
      "entering epoch=epoch_34.pkl\n",
      "[epoch_34.pkl---mpiigaze] Total Num:2958,MAE:4.939744293288851  06/27/2022 14:20:30\n",
      "entering epoch=epoch_35.pkl\n",
      "[epoch_35.pkl---mpiigaze] Total Num:2958,MAE:4.908347203817869  06/27/2022 14:20:41\n",
      "entering epoch=epoch_36.pkl\n",
      "[epoch_36.pkl---mpiigaze] Total Num:2958,MAE:5.152327716534004  06/27/2022 14:20:50\n",
      "entering epoch=epoch_37.pkl\n",
      "[epoch_37.pkl---mpiigaze] Total Num:2958,MAE:4.961782769002261  06/27/2022 14:21:00\n",
      "entering epoch=epoch_38.pkl\n",
      "[epoch_38.pkl---mpiigaze] Total Num:2958,MAE:5.118455251373243  06/27/2022 14:21:07\n",
      "entering epoch=epoch_39.pkl\n",
      "[epoch_39.pkl---mpiigaze] Total Num:2958,MAE:4.896669327142224  06/27/2022 14:21:19\n",
      "entering epoch=epoch_40.pkl\n",
      "[epoch_40.pkl---mpiigaze] Total Num:2958,MAE:4.97149930236233  06/27/2022 14:21:30\n",
      "entering epoch=epoch_41.pkl\n",
      "[epoch_41.pkl---mpiigaze] Total Num:2958,MAE:4.8771533856781  06/27/2022 14:21:41\n",
      "entering epoch=epoch_42.pkl\n",
      "[epoch_42.pkl---mpiigaze] Total Num:2958,MAE:5.143115178267505  06/27/2022 14:21:51\n",
      "entering epoch=epoch_43.pkl\n",
      "[epoch_43.pkl---mpiigaze] Total Num:2958,MAE:4.825031571056501  06/27/2022 14:22:02\n",
      "entering epoch=epoch_44.pkl\n",
      "[epoch_44.pkl---mpiigaze] Total Num:2958,MAE:4.918588581829644  06/27/2022 14:22:12\n",
      "entering epoch=epoch_45.pkl\n",
      "[epoch_45.pkl---mpiigaze] Total Num:2958,MAE:4.888735595854883  06/27/2022 14:22:23\n",
      "entering epoch=epoch_46.pkl\n",
      "[epoch_46.pkl---mpiigaze] Total Num:2958,MAE:4.979364074210154  06/27/2022 14:22:33\n",
      "entering epoch=epoch_47.pkl\n",
      "[epoch_47.pkl---mpiigaze] Total Num:2958,MAE:5.039762512975531  06/27/2022 14:22:45\n",
      "entering epoch=epoch_48.pkl\n",
      "[epoch_48.pkl---mpiigaze] Total Num:2958,MAE:4.991208861149683  06/27/2022 14:22:55\n",
      "entering epoch=epoch_49.pkl\n",
      "[epoch_49.pkl---mpiigaze] Total Num:2958,MAE:4.957761323958402  06/27/2022 14:23:04\n",
      "entering epoch=epoch_50.pkl\n",
      "[epoch_50.pkl---mpiigaze] Total Num:2958,MAE:4.8991710454197  06/27/2022 14:23:14\n",
      "entering epoch=epoch_51.pkl\n",
      "[epoch_51.pkl---mpiigaze] Total Num:2958,MAE:5.059927755985007  06/27/2022 14:23:25\n",
      "entering epoch=epoch_52.pkl\n",
      "[epoch_52.pkl---mpiigaze] Total Num:2958,MAE:4.971357401893729  06/27/2022 14:23:35\n",
      "entering epoch=epoch_53.pkl\n",
      "[epoch_53.pkl---mpiigaze] Total Num:2958,MAE:5.088395032741988  06/27/2022 14:23:45\n",
      "entering epoch=epoch_54.pkl\n",
      "[epoch_54.pkl---mpiigaze] Total Num:2958,MAE:4.9599136477521775  06/27/2022 14:23:56\n",
      "entering epoch=epoch_55.pkl\n",
      "[epoch_55.pkl---mpiigaze] Total Num:2958,MAE:4.918498977432  06/27/2022 14:24:08\n",
      "entering epoch=epoch_56.pkl\n",
      "[epoch_56.pkl---mpiigaze] Total Num:2958,MAE:4.928819275884477  06/27/2022 14:24:18\n",
      "entering epoch=epoch_57.pkl\n",
      "[epoch_57.pkl---mpiigaze] Total Num:2958,MAE:5.089472183290668  06/27/2022 14:24:29\n",
      "entering epoch=epoch_58.pkl\n",
      "[epoch_58.pkl---mpiigaze] Total Num:2958,MAE:4.915032151609457  06/27/2022 14:24:39\n",
      "entering epoch=epoch_59.pkl\n",
      "[epoch_59.pkl---mpiigaze] Total Num:2958,MAE:4.880654329503901  06/27/2022 14:24:48\n",
      "entering epoch=epoch_60.pkl\n",
      "[epoch_60.pkl---mpiigaze] Total Num:2958,MAE:5.094051214370356  06/27/2022 14:24:59\n"
     ]
    },
    {
     "data": {
      "text/html": [
       "Waiting for W&B process to finish... <strong style=\"color:green\">(success).</strong>"
      ],
      "text/plain": [
       "<IPython.core.display.HTML object>"
      ]
     },
     "metadata": {},
     "output_type": "display_data"
    },
    {
     "data": {
      "application/vnd.jupyter.widget-view+json": {
       "model_id": "",
       "version_major": 2,
       "version_minor": 0
      },
      "text/plain": [
       "VBox(children=(Label(value='0.001 MB of 0.001 MB uploaded (0.000 MB deduped)\\r'), FloatProgress(value=1.0, max…"
      ]
     },
     "metadata": {},
     "output_type": "display_data"
    },
    {
     "data": {
      "text/html": [
       "<style>\n",
       "    table.wandb td:nth-child(1) { padding: 0 10px; text-align: right }\n",
       "    .wandb-row { display: flex; flex-direction: row; flex-wrap: wrap; width: 100% }\n",
       "    .wandb-col { display: flex; flex-direction: column; flex-basis: 100%; flex: 1; padding: 10px; }\n",
       "    </style>\n",
       "<div class=\"wandb-row\"><div class=\"wandb-col\"><h3>Run history:</h3><br/><table class=\"wandb\"><tr><td>try3-fold_9_mean_mae</td><td>█▃▂▁▄▃▁▃▂▂▃▂▂▂▃▁▃▂▂▁▂▁▂▂▂▂▂▁▁▂▂▂▂▁▂▂▂▂▂▂</td></tr></table><br/></div><div class=\"wandb-col\"><h3>Run summary:</h3><br/><table class=\"wandb\"><tr><td>epoch</td><td>epoch_60.pkl</td></tr><tr><td>try3-fold_9_mean_mae</td><td>5.09405</td></tr></table><br/></div></div>"
      ],
      "text/plain": [
       "<IPython.core.display.HTML object>"
      ]
     },
     "metadata": {},
     "output_type": "display_data"
    },
    {
     "data": {
      "text/html": [
       "Synced <strong style=\"color:#cdcd00\">mild-elevator-42</strong>: <a href=\"https://wandb.ai/synthesis-ai/52_syn_mode_syn_data/runs/1nouma5x\" target=\"_blank\">https://wandb.ai/synthesis-ai/52_syn_mode_syn_data/runs/1nouma5x</a><br/>Synced 5 W&B file(s), 0 media file(s), 0 artifact file(s) and 0 other file(s)"
      ],
      "text/plain": [
       "<IPython.core.display.HTML object>"
      ]
     },
     "metadata": {},
     "output_type": "display_data"
    },
    {
     "data": {
      "text/html": [
       "Find logs at: <code>./wandb/run-20220627_211429-1nouma5x/logs</code>"
      ],
      "text/plain": [
       "<IPython.core.display.HTML object>"
      ]
     },
     "metadata": {},
     "output_type": "display_data"
    },
    {
     "data": {
      "text/html": [
       "wandb version 0.12.19 is available!  To upgrade, please run:\n",
       " $ pip install wandb --upgrade"
      ],
      "text/plain": [
       "<IPython.core.display.HTML object>"
      ]
     },
     "metadata": {},
     "output_type": "display_data"
    },
    {
     "data": {
      "text/html": [
       "Tracking run with wandb version 0.12.15"
      ],
      "text/plain": [
       "<IPython.core.display.HTML object>"
      ]
     },
     "metadata": {},
     "output_type": "display_data"
    },
    {
     "data": {
      "text/html": [
       "Run data is saved locally in <code>/project/notebooks/wandb/run-20220627_212502-6uctyb7i</code>"
      ],
      "text/plain": [
       "<IPython.core.display.HTML object>"
      ]
     },
     "metadata": {},
     "output_type": "display_data"
    },
    {
     "data": {
      "text/html": [
       "Syncing run <strong><a href=\"https://wandb.ai/synthesis-ai/52_syn_mode_syn_data/runs/6uctyb7i\" target=\"_blank\">vibrant-bee-43</a></strong> to <a href=\"https://wandb.ai/synthesis-ai/52_syn_mode_syn_data\" target=\"_blank\">Weights & Biases</a> (<a href=\"https://wandb.me/run\" target=\"_blank\">docs</a>)<br/>"
      ],
      "text/plain": [
       "<IPython.core.display.HTML object>"
      ]
     },
     "metadata": {},
     "output_type": "display_data"
    },
    {
     "name": "stdout",
     "output_type": "stream",
     "text": [
      "fold=10\n",
      "/project/data/sdata1/Label\n",
      "31 items removed from dataset that have an angle > 180\n",
      "\n",
      "test configuration equal gpu_id=cuda:0, batch_size=20, model_arch=ResNet50\n",
      "Start testing dataset=mpiigaze, FOLD=10 --06/27/2022 14:25:05---------\n",
      "entering epoch=epoch_1.pkl\n",
      "[epoch_1.pkl---mpiigaze] Total Num:2968,MAE:4.518349462848147  06/27/2022 14:25:18\n",
      "entering epoch=epoch_2.pkl\n",
      "[epoch_2.pkl---mpiigaze] Total Num:2968,MAE:4.348314404107653  06/27/2022 14:25:29\n",
      "entering epoch=epoch_3.pkl\n",
      "[epoch_3.pkl---mpiigaze] Total Num:2968,MAE:4.511143199811951  06/27/2022 14:25:39\n",
      "entering epoch=epoch_4.pkl\n",
      "[epoch_4.pkl---mpiigaze] Total Num:2968,MAE:3.9273182174557095  06/27/2022 14:25:49\n",
      "entering epoch=epoch_5.pkl\n",
      "[epoch_5.pkl---mpiigaze] Total Num:2968,MAE:3.405844711028264  06/27/2022 14:26:00\n",
      "entering epoch=epoch_6.pkl\n",
      "[epoch_6.pkl---mpiigaze] Total Num:2968,MAE:3.7771564762954615  06/27/2022 14:26:09\n",
      "entering epoch=epoch_7.pkl\n",
      "[epoch_7.pkl---mpiigaze] Total Num:2968,MAE:3.605368850265452  06/27/2022 14:26:20\n",
      "entering epoch=epoch_8.pkl\n",
      "[epoch_8.pkl---mpiigaze] Total Num:2968,MAE:3.3484972766082723  06/27/2022 14:26:31\n",
      "entering epoch=epoch_9.pkl\n",
      "[epoch_9.pkl---mpiigaze] Total Num:2968,MAE:3.5263612465537233  06/27/2022 14:26:43\n",
      "entering epoch=epoch_10.pkl\n",
      "[epoch_10.pkl---mpiigaze] Total Num:2968,MAE:3.198642255139667  06/27/2022 14:26:54\n",
      "entering epoch=epoch_11.pkl\n",
      "[epoch_11.pkl---mpiigaze] Total Num:2968,MAE:3.5175675535998225  06/27/2022 14:27:04\n",
      "entering epoch=epoch_12.pkl\n",
      "[epoch_12.pkl---mpiigaze] Total Num:2968,MAE:3.4687920123655327  06/27/2022 14:27:14\n",
      "entering epoch=epoch_13.pkl\n",
      "[epoch_13.pkl---mpiigaze] Total Num:2968,MAE:3.397834780553919  06/27/2022 14:27:24\n",
      "entering epoch=epoch_14.pkl\n",
      "[epoch_14.pkl---mpiigaze] Total Num:2968,MAE:3.5220199350438914  06/27/2022 14:27:33\n",
      "entering epoch=epoch_15.pkl\n",
      "[epoch_15.pkl---mpiigaze] Total Num:2968,MAE:3.396576515213581  06/27/2022 14:27:44\n",
      "entering epoch=epoch_16.pkl\n",
      "[epoch_16.pkl---mpiigaze] Total Num:2968,MAE:3.3955830080091256  06/27/2022 14:27:56\n",
      "entering epoch=epoch_17.pkl\n",
      "[epoch_17.pkl---mpiigaze] Total Num:2968,MAE:3.570019729088471  06/27/2022 14:28:07\n",
      "entering epoch=epoch_18.pkl\n",
      "[epoch_18.pkl---mpiigaze] Total Num:2968,MAE:3.060347376605653  06/27/2022 14:28:17\n",
      "entering epoch=epoch_19.pkl\n",
      "[epoch_19.pkl---mpiigaze] Total Num:2968,MAE:3.0874350933404635  06/27/2022 14:28:27\n",
      "entering epoch=epoch_20.pkl\n",
      "[epoch_20.pkl---mpiigaze] Total Num:2968,MAE:3.1040547963590326  06/27/2022 14:28:37\n",
      "entering epoch=epoch_21.pkl\n",
      "[epoch_21.pkl---mpiigaze] Total Num:2968,MAE:3.148296541067439  06/27/2022 14:28:48\n",
      "entering epoch=epoch_22.pkl\n",
      "[epoch_22.pkl---mpiigaze] Total Num:2968,MAE:3.2942740889452904  06/27/2022 14:28:58\n",
      "entering epoch=epoch_23.pkl\n",
      "[epoch_23.pkl---mpiigaze] Total Num:2968,MAE:3.196824494022254  06/27/2022 14:29:08\n",
      "entering epoch=epoch_24.pkl\n",
      "[epoch_24.pkl---mpiigaze] Total Num:2968,MAE:3.1334583021647426  06/27/2022 14:29:19\n",
      "entering epoch=epoch_25.pkl\n",
      "[epoch_25.pkl---mpiigaze] Total Num:2968,MAE:3.0651888127060487  06/27/2022 14:29:30\n",
      "entering epoch=epoch_26.pkl\n",
      "[epoch_26.pkl---mpiigaze] Total Num:2968,MAE:3.2168553828736663  06/27/2022 14:29:40\n",
      "entering epoch=epoch_27.pkl\n",
      "[epoch_27.pkl---mpiigaze] Total Num:2968,MAE:3.0731404538700717  06/27/2022 14:29:50\n",
      "entering epoch=epoch_28.pkl\n",
      "[epoch_28.pkl---mpiigaze] Total Num:2968,MAE:3.2960518608948806  06/27/2022 14:30:00\n",
      "entering epoch=epoch_29.pkl\n",
      "[epoch_29.pkl---mpiigaze] Total Num:2968,MAE:3.0604062295231036  06/27/2022 14:30:10\n",
      "entering epoch=epoch_30.pkl\n",
      "[epoch_30.pkl---mpiigaze] Total Num:2968,MAE:2.9867269395008074  06/27/2022 14:30:21\n",
      "entering epoch=epoch_31.pkl\n",
      "[epoch_31.pkl---mpiigaze] Total Num:2968,MAE:3.257183746746813  06/27/2022 14:30:33\n",
      "entering epoch=epoch_32.pkl\n",
      "[epoch_32.pkl---mpiigaze] Total Num:2968,MAE:3.121054941696197  06/27/2022 14:30:44\n",
      "entering epoch=epoch_33.pkl\n",
      "[epoch_33.pkl---mpiigaze] Total Num:2968,MAE:3.387728653569511  06/27/2022 14:30:55\n",
      "entering epoch=epoch_34.pkl\n",
      "[epoch_34.pkl---mpiigaze] Total Num:2968,MAE:3.23582436265875  06/27/2022 14:31:05\n",
      "entering epoch=epoch_35.pkl\n",
      "[epoch_35.pkl---mpiigaze] Total Num:2968,MAE:3.1433218834203656  06/27/2022 14:31:15\n",
      "entering epoch=epoch_36.pkl\n",
      "[epoch_36.pkl---mpiigaze] Total Num:2968,MAE:3.1383852919936808  06/27/2022 14:31:25\n",
      "entering epoch=epoch_37.pkl\n",
      "[epoch_37.pkl---mpiigaze] Total Num:2968,MAE:3.2902788687905455  06/27/2022 14:31:35\n",
      "entering epoch=epoch_38.pkl\n",
      "[epoch_38.pkl---mpiigaze] Total Num:2968,MAE:3.325806827817635  06/27/2022 14:31:46\n",
      "entering epoch=epoch_39.pkl\n",
      "[epoch_39.pkl---mpiigaze] Total Num:2968,MAE:3.1562420019798663  06/27/2022 14:31:58\n",
      "entering epoch=epoch_40.pkl\n",
      "[epoch_40.pkl---mpiigaze] Total Num:2968,MAE:3.166945237968433  06/27/2022 14:32:09\n",
      "entering epoch=epoch_41.pkl\n",
      "[epoch_41.pkl---mpiigaze] Total Num:2968,MAE:3.6852639696954976  06/27/2022 14:32:20\n",
      "entering epoch=epoch_42.pkl\n",
      "[epoch_42.pkl---mpiigaze] Total Num:2968,MAE:3.35149938855325  06/27/2022 14:32:30\n",
      "entering epoch=epoch_43.pkl\n",
      "[epoch_43.pkl---mpiigaze] Total Num:2968,MAE:3.258093002668855  06/27/2022 14:32:41\n",
      "entering epoch=epoch_44.pkl\n",
      "[epoch_44.pkl---mpiigaze] Total Num:2968,MAE:3.3266927912721123  06/27/2022 14:32:51\n",
      "entering epoch=epoch_45.pkl\n",
      "[epoch_45.pkl---mpiigaze] Total Num:2968,MAE:3.4805895833490292  06/27/2022 14:33:01\n",
      "entering epoch=epoch_46.pkl\n",
      "[epoch_46.pkl---mpiigaze] Total Num:2968,MAE:3.1683468826907557  06/27/2022 14:33:12\n",
      "entering epoch=epoch_47.pkl\n",
      "[epoch_47.pkl---mpiigaze] Total Num:2968,MAE:3.2947656578642928  06/27/2022 14:33:18\n",
      "entering epoch=epoch_48.pkl\n",
      "[epoch_48.pkl---mpiigaze] Total Num:2968,MAE:3.8490818730519503  06/27/2022 14:33:30\n",
      "entering epoch=epoch_49.pkl\n",
      "[epoch_49.pkl---mpiigaze] Total Num:2968,MAE:3.3169036549876565  06/27/2022 14:33:41\n",
      "entering epoch=epoch_50.pkl\n",
      "[epoch_50.pkl---mpiigaze] Total Num:2968,MAE:3.3591748394478227  06/27/2022 14:33:51\n",
      "entering epoch=epoch_51.pkl\n",
      "[epoch_51.pkl---mpiigaze] Total Num:2968,MAE:3.3031462238271185  06/27/2022 14:34:01\n",
      "entering epoch=epoch_52.pkl\n",
      "[epoch_52.pkl---mpiigaze] Total Num:2968,MAE:3.429486852182684  06/27/2022 14:34:11\n",
      "entering epoch=epoch_53.pkl\n",
      "[epoch_53.pkl---mpiigaze] Total Num:2968,MAE:3.1454525694528646  06/27/2022 14:34:21\n",
      "entering epoch=epoch_54.pkl\n",
      "[epoch_54.pkl---mpiigaze] Total Num:2968,MAE:3.1834769289119236  06/27/2022 14:34:32\n",
      "entering epoch=epoch_55.pkl\n",
      "[epoch_55.pkl---mpiigaze] Total Num:2968,MAE:3.1032711833986384  06/27/2022 14:34:44\n",
      "entering epoch=epoch_56.pkl\n",
      "[epoch_56.pkl---mpiigaze] Total Num:2968,MAE:3.2135482768764856  06/27/2022 14:34:55\n",
      "entering epoch=epoch_57.pkl\n",
      "[epoch_57.pkl---mpiigaze] Total Num:2968,MAE:3.200559369141315  06/27/2022 14:35:05\n",
      "entering epoch=epoch_58.pkl\n",
      "[epoch_58.pkl---mpiigaze] Total Num:2968,MAE:3.035023308136433  06/27/2022 14:35:15\n",
      "entering epoch=epoch_59.pkl\n",
      "[epoch_59.pkl---mpiigaze] Total Num:2968,MAE:3.0538995325002736  06/27/2022 14:35:25\n",
      "entering epoch=epoch_60.pkl\n",
      "[epoch_60.pkl---mpiigaze] Total Num:2968,MAE:3.147888021485396  06/27/2022 14:35:35\n"
     ]
    },
    {
     "data": {
      "text/html": [
       "Waiting for W&B process to finish... <strong style=\"color:green\">(success).</strong>"
      ],
      "text/plain": [
       "<IPython.core.display.HTML object>"
      ]
     },
     "metadata": {},
     "output_type": "display_data"
    },
    {
     "data": {
      "application/vnd.jupyter.widget-view+json": {
       "model_id": "",
       "version_major": 2,
       "version_minor": 0
      },
      "text/plain": [
       "VBox(children=(Label(value='0.001 MB of 0.001 MB uploaded (0.000 MB deduped)\\r'), FloatProgress(value=1.0, max…"
      ]
     },
     "metadata": {},
     "output_type": "display_data"
    },
    {
     "data": {
      "text/html": [
       "<style>\n",
       "    table.wandb td:nth-child(1) { padding: 0 10px; text-align: right }\n",
       "    .wandb-row { display: flex; flex-direction: row; flex-wrap: wrap; width: 100% }\n",
       "    .wandb-col { display: flex; flex-direction: column; flex-basis: 100%; flex: 1; padding: 10px; }\n",
       "    </style>\n",
       "<div class=\"wandb-row\"><div class=\"wandb-col\"><h3>Run history:</h3><br/><table class=\"wandb\"><tr><td>try3-fold_10_mean_mae</td><td>█▇▅▃▄▂▂▃▃▃▃▄▁▁▂▂▁▂▂▁▂▁▂▂▂▂▂▄▂▂▂▂▂▃▃▂▁▂▁▂</td></tr></table><br/></div><div class=\"wandb-col\"><h3>Run summary:</h3><br/><table class=\"wandb\"><tr><td>epoch</td><td>epoch_60.pkl</td></tr><tr><td>try3-fold_10_mean_mae</td><td>3.14789</td></tr></table><br/></div></div>"
      ],
      "text/plain": [
       "<IPython.core.display.HTML object>"
      ]
     },
     "metadata": {},
     "output_type": "display_data"
    },
    {
     "data": {
      "text/html": [
       "Synced <strong style=\"color:#cdcd00\">vibrant-bee-43</strong>: <a href=\"https://wandb.ai/synthesis-ai/52_syn_mode_syn_data/runs/6uctyb7i\" target=\"_blank\">https://wandb.ai/synthesis-ai/52_syn_mode_syn_data/runs/6uctyb7i</a><br/>Synced 5 W&B file(s), 0 media file(s), 0 artifact file(s) and 0 other file(s)"
      ],
      "text/plain": [
       "<IPython.core.display.HTML object>"
      ]
     },
     "metadata": {},
     "output_type": "display_data"
    },
    {
     "data": {
      "text/html": [
       "Find logs at: <code>./wandb/run-20220627_212502-6uctyb7i/logs</code>"
      ],
      "text/plain": [
       "<IPython.core.display.HTML object>"
      ]
     },
     "metadata": {},
     "output_type": "display_data"
    },
    {
     "data": {
      "text/html": [
       "wandb version 0.12.19 is available!  To upgrade, please run:\n",
       " $ pip install wandb --upgrade"
      ],
      "text/plain": [
       "<IPython.core.display.HTML object>"
      ]
     },
     "metadata": {},
     "output_type": "display_data"
    },
    {
     "data": {
      "text/html": [
       "Tracking run with wandb version 0.12.15"
      ],
      "text/plain": [
       "<IPython.core.display.HTML object>"
      ]
     },
     "metadata": {},
     "output_type": "display_data"
    },
    {
     "data": {
      "text/html": [
       "Run data is saved locally in <code>/project/notebooks/wandb/run-20220627_213539-h5ap2xej</code>"
      ],
      "text/plain": [
       "<IPython.core.display.HTML object>"
      ]
     },
     "metadata": {},
     "output_type": "display_data"
    },
    {
     "data": {
      "text/html": [
       "Syncing run <strong><a href=\"https://wandb.ai/synthesis-ai/52_syn_mode_syn_data/runs/h5ap2xej\" target=\"_blank\">fancy-dust-44</a></strong> to <a href=\"https://wandb.ai/synthesis-ai/52_syn_mode_syn_data\" target=\"_blank\">Weights & Biases</a> (<a href=\"https://wandb.me/run\" target=\"_blank\">docs</a>)<br/>"
      ],
      "text/plain": [
       "<IPython.core.display.HTML object>"
      ]
     },
     "metadata": {},
     "output_type": "display_data"
    },
    {
     "name": "stdout",
     "output_type": "stream",
     "text": [
      "fold=11\n",
      "/project/data/sdata1/Label\n",
      "29 items removed from dataset that have an angle > 180\n",
      "\n",
      "test configuration equal gpu_id=cuda:0, batch_size=20, model_arch=ResNet50\n",
      "Start testing dataset=mpiigaze, FOLD=11 --06/27/2022 14:35:42---------\n",
      "entering epoch=epoch_1.pkl\n",
      "[epoch_1.pkl---mpiigaze] Total Num:2970,MAE:4.47905994765751  06/27/2022 14:35:54\n",
      "entering epoch=epoch_2.pkl\n",
      "[epoch_2.pkl---mpiigaze] Total Num:2970,MAE:5.126440632095597  06/27/2022 14:36:05\n",
      "entering epoch=epoch_3.pkl\n",
      "[epoch_3.pkl---mpiigaze] Total Num:2970,MAE:3.876386695782913  06/27/2022 14:36:16\n",
      "entering epoch=epoch_4.pkl\n",
      "[epoch_4.pkl---mpiigaze] Total Num:2970,MAE:4.457832833247019  06/27/2022 14:36:27\n",
      "entering epoch=epoch_5.pkl\n",
      "[epoch_5.pkl---mpiigaze] Total Num:2970,MAE:3.1539596524644935  06/27/2022 14:36:37\n",
      "entering epoch=epoch_6.pkl\n",
      "[epoch_6.pkl---mpiigaze] Total Num:2970,MAE:3.6897568982272277  06/27/2022 14:36:48\n",
      "entering epoch=epoch_7.pkl\n",
      "[epoch_7.pkl---mpiigaze] Total Num:2970,MAE:2.8751502066868437  06/27/2022 14:36:58\n",
      "entering epoch=epoch_8.pkl\n",
      "[epoch_8.pkl---mpiigaze] Total Num:2970,MAE:3.191658803332563  06/27/2022 14:37:09\n",
      "entering epoch=epoch_9.pkl\n",
      "[epoch_9.pkl---mpiigaze] Total Num:2970,MAE:3.021840068173467  06/27/2022 14:37:19\n",
      "entering epoch=epoch_10.pkl\n",
      "[epoch_10.pkl---mpiigaze] Total Num:2970,MAE:2.731056377679403  06/27/2022 14:37:29\n",
      "entering epoch=epoch_11.pkl\n",
      "[epoch_11.pkl---mpiigaze] Total Num:2970,MAE:2.9339342906159054  06/27/2022 14:37:40\n",
      "entering epoch=epoch_12.pkl\n",
      "[epoch_12.pkl---mpiigaze] Total Num:2970,MAE:2.9639084761372225  06/27/2022 14:37:51\n",
      "entering epoch=epoch_13.pkl\n",
      "[epoch_13.pkl---mpiigaze] Total Num:2970,MAE:2.7208398313537714  06/27/2022 14:38:01\n",
      "entering epoch=epoch_14.pkl\n",
      "[epoch_14.pkl---mpiigaze] Total Num:2970,MAE:2.6812623002817113  06/27/2022 14:38:11\n",
      "entering epoch=epoch_15.pkl\n",
      "[epoch_15.pkl---mpiigaze] Total Num:2970,MAE:2.7851121038596633  06/27/2022 14:38:21\n",
      "entering epoch=epoch_16.pkl\n",
      "[epoch_16.pkl---mpiigaze] Total Num:2970,MAE:2.572011143388071  06/27/2022 14:38:31\n",
      "entering epoch=epoch_17.pkl\n",
      "[epoch_17.pkl---mpiigaze] Total Num:2970,MAE:2.9913733577135493  06/27/2022 14:38:42\n",
      "entering epoch=epoch_18.pkl\n",
      "[epoch_18.pkl---mpiigaze] Total Num:2970,MAE:2.7129093215463556  06/27/2022 14:38:54\n",
      "entering epoch=epoch_19.pkl\n",
      "[epoch_19.pkl---mpiigaze] Total Num:2970,MAE:2.6839062144336596  06/27/2022 14:39:05\n",
      "entering epoch=epoch_20.pkl\n",
      "[epoch_20.pkl---mpiigaze] Total Num:2970,MAE:2.8019017445257814  06/27/2022 14:39:15\n",
      "entering epoch=epoch_21.pkl\n",
      "[epoch_21.pkl---mpiigaze] Total Num:2970,MAE:2.7644032256173294  06/27/2022 14:39:25\n",
      "entering epoch=epoch_22.pkl\n",
      "[epoch_22.pkl---mpiigaze] Total Num:2970,MAE:2.6703608984653235  06/27/2022 14:39:35\n",
      "entering epoch=epoch_23.pkl\n",
      "[epoch_23.pkl---mpiigaze] Total Num:2970,MAE:2.858898249878288  06/27/2022 14:39:44\n",
      "entering epoch=epoch_24.pkl\n",
      "[epoch_24.pkl---mpiigaze] Total Num:2970,MAE:2.7036636350762215  06/27/2022 14:39:55\n",
      "entering epoch=epoch_25.pkl\n",
      "[epoch_25.pkl---mpiigaze] Total Num:2970,MAE:2.761824222007215  06/27/2022 14:40:07\n",
      "entering epoch=epoch_26.pkl\n",
      "[epoch_26.pkl---mpiigaze] Total Num:2970,MAE:2.971231551316578  06/27/2022 14:40:18\n",
      "entering epoch=epoch_27.pkl\n",
      "[epoch_27.pkl---mpiigaze] Total Num:2970,MAE:2.5664021653538884  06/27/2022 14:40:29\n",
      "entering epoch=epoch_28.pkl\n",
      "[epoch_28.pkl---mpiigaze] Total Num:2970,MAE:2.6245711337054494  06/27/2022 14:40:39\n",
      "entering epoch=epoch_29.pkl\n",
      "[epoch_29.pkl---mpiigaze] Total Num:2970,MAE:2.6677082231210445  06/27/2022 14:40:49\n",
      "entering epoch=epoch_30.pkl\n",
      "[epoch_30.pkl---mpiigaze] Total Num:2970,MAE:2.5892435442004356  06/27/2022 14:40:59\n",
      "entering epoch=epoch_31.pkl\n",
      "[epoch_31.pkl---mpiigaze] Total Num:2970,MAE:2.516207831374576  06/27/2022 14:41:09\n",
      "entering epoch=epoch_32.pkl\n",
      "[epoch_32.pkl---mpiigaze] Total Num:2970,MAE:2.6087884127993175  06/27/2022 14:41:20\n",
      "entering epoch=epoch_33.pkl\n",
      "[epoch_33.pkl---mpiigaze] Total Num:2970,MAE:2.8057375321776843  06/27/2022 14:41:30\n",
      "entering epoch=epoch_34.pkl\n",
      "[epoch_34.pkl---mpiigaze] Total Num:2970,MAE:2.650264232107204  06/27/2022 14:41:41\n",
      "entering epoch=epoch_35.pkl\n",
      "[epoch_35.pkl---mpiigaze] Total Num:2970,MAE:2.7569955764044547  06/27/2022 14:41:51\n",
      "entering epoch=epoch_36.pkl\n",
      "[epoch_36.pkl---mpiigaze] Total Num:2970,MAE:2.5880302445003656  06/27/2022 14:42:02\n",
      "entering epoch=epoch_37.pkl\n",
      "[epoch_37.pkl---mpiigaze] Total Num:2970,MAE:2.66307611513544  06/27/2022 14:42:12\n",
      "entering epoch=epoch_38.pkl\n",
      "[epoch_38.pkl---mpiigaze] Total Num:2970,MAE:2.553119414910761  06/27/2022 14:42:22\n",
      "entering epoch=epoch_39.pkl\n",
      "[epoch_39.pkl---mpiigaze] Total Num:2970,MAE:2.4511471773270643  06/27/2022 14:42:32\n",
      "entering epoch=epoch_40.pkl\n",
      "[epoch_40.pkl---mpiigaze] Total Num:2970,MAE:2.5448997761731373  06/27/2022 14:42:43\n",
      "entering epoch=epoch_41.pkl\n",
      "[epoch_41.pkl---mpiigaze] Total Num:2970,MAE:2.652773998222286  06/27/2022 14:42:54\n",
      "entering epoch=epoch_42.pkl\n",
      "[epoch_42.pkl---mpiigaze] Total Num:2970,MAE:2.6650182672128153  06/27/2022 14:43:04\n",
      "entering epoch=epoch_43.pkl\n",
      "[epoch_43.pkl---mpiigaze] Total Num:2970,MAE:2.7959110838044476  06/27/2022 14:43:15\n",
      "entering epoch=epoch_44.pkl\n",
      "[epoch_44.pkl---mpiigaze] Total Num:2970,MAE:2.5947819315086864  06/27/2022 14:43:25\n",
      "entering epoch=epoch_45.pkl\n",
      "[epoch_45.pkl---mpiigaze] Total Num:2970,MAE:2.590693209970579  06/27/2022 14:43:35\n",
      "entering epoch=epoch_46.pkl\n",
      "[epoch_46.pkl---mpiigaze] Total Num:2970,MAE:2.467343351528434  06/27/2022 14:43:45\n",
      "entering epoch=epoch_47.pkl\n",
      "[epoch_47.pkl---mpiigaze] Total Num:2970,MAE:2.467019300898446  06/27/2022 14:43:56\n",
      "entering epoch=epoch_48.pkl\n",
      "[epoch_48.pkl---mpiigaze] Total Num:2970,MAE:2.6127093994803072  06/27/2022 14:44:08\n",
      "entering epoch=epoch_49.pkl\n",
      "[epoch_49.pkl---mpiigaze] Total Num:2970,MAE:2.601830756390581  06/27/2022 14:44:19\n",
      "entering epoch=epoch_50.pkl\n",
      "[epoch_50.pkl---mpiigaze] Total Num:2970,MAE:2.589399288864299  06/27/2022 14:44:29\n",
      "entering epoch=epoch_51.pkl\n",
      "[epoch_51.pkl---mpiigaze] Total Num:2970,MAE:2.5742601684732893  06/27/2022 14:44:39\n",
      "entering epoch=epoch_52.pkl\n",
      "[epoch_52.pkl---mpiigaze] Total Num:2970,MAE:2.665459817720632  06/27/2022 14:44:49\n",
      "entering epoch=epoch_53.pkl\n",
      "[epoch_53.pkl---mpiigaze] Total Num:2970,MAE:2.881492490869489  06/27/2022 14:44:59\n",
      "entering epoch=epoch_54.pkl\n",
      "[epoch_54.pkl---mpiigaze] Total Num:2970,MAE:2.764873653006783  06/27/2022 14:45:09\n",
      "entering epoch=epoch_55.pkl\n",
      "[epoch_55.pkl---mpiigaze] Total Num:2970,MAE:2.552279101782347  06/27/2022 14:45:21\n",
      "entering epoch=epoch_56.pkl\n",
      "[epoch_56.pkl---mpiigaze] Total Num:2970,MAE:2.6748024115240505  06/27/2022 14:45:27\n",
      "entering epoch=epoch_57.pkl\n",
      "[epoch_57.pkl---mpiigaze] Total Num:2970,MAE:2.654734591665933  06/27/2022 14:45:38\n",
      "entering epoch=epoch_58.pkl\n",
      "[epoch_58.pkl---mpiigaze] Total Num:2970,MAE:2.505489056367574  06/27/2022 14:45:48\n",
      "entering epoch=epoch_59.pkl\n",
      "[epoch_59.pkl---mpiigaze] Total Num:2970,MAE:2.5495393735981478  06/27/2022 14:45:58\n",
      "entering epoch=epoch_60.pkl\n",
      "[epoch_60.pkl---mpiigaze] Total Num:2970,MAE:2.6283318375846263  06/27/2022 14:46:09\n"
     ]
    },
    {
     "data": {
      "text/html": [
       "Waiting for W&B process to finish... <strong style=\"color:green\">(success).</strong>"
      ],
      "text/plain": [
       "<IPython.core.display.HTML object>"
      ]
     },
     "metadata": {},
     "output_type": "display_data"
    },
    {
     "data": {
      "application/vnd.jupyter.widget-view+json": {
       "model_id": "",
       "version_major": 2,
       "version_minor": 0
      },
      "text/plain": [
       "VBox(children=(Label(value='0.001 MB of 0.001 MB uploaded (0.000 MB deduped)\\r'), FloatProgress(value=1.0, max…"
      ]
     },
     "metadata": {},
     "output_type": "display_data"
    },
    {
     "data": {
      "text/html": [
       "<style>\n",
       "    table.wandb td:nth-child(1) { padding: 0 10px; text-align: right }\n",
       "    .wandb-row { display: flex; flex-direction: row; flex-wrap: wrap; width: 100% }\n",
       "    .wandb-col { display: flex; flex-direction: column; flex-basis: 100%; flex: 1; padding: 10px; }\n",
       "    </style>\n",
       "<div class=\"wandb-row\"><div class=\"wandb-col\"><h3>Run history:</h3><br/><table class=\"wandb\"><tr><td>try3-fold_11_mean_mae</td><td>▆█▆▃▂▃▂▂▂▂▁▂▂▂▂▂▂▂▁▂▁▁▁▂▂▁▁▁▂▁▁▁▁▁▂▂▁▂▁▁</td></tr></table><br/></div><div class=\"wandb-col\"><h3>Run summary:</h3><br/><table class=\"wandb\"><tr><td>epoch</td><td>epoch_60.pkl</td></tr><tr><td>try3-fold_11_mean_mae</td><td>2.62833</td></tr></table><br/></div></div>"
      ],
      "text/plain": [
       "<IPython.core.display.HTML object>"
      ]
     },
     "metadata": {},
     "output_type": "display_data"
    },
    {
     "data": {
      "text/html": [
       "Synced <strong style=\"color:#cdcd00\">fancy-dust-44</strong>: <a href=\"https://wandb.ai/synthesis-ai/52_syn_mode_syn_data/runs/h5ap2xej\" target=\"_blank\">https://wandb.ai/synthesis-ai/52_syn_mode_syn_data/runs/h5ap2xej</a><br/>Synced 5 W&B file(s), 0 media file(s), 0 artifact file(s) and 0 other file(s)"
      ],
      "text/plain": [
       "<IPython.core.display.HTML object>"
      ]
     },
     "metadata": {},
     "output_type": "display_data"
    },
    {
     "data": {
      "text/html": [
       "Find logs at: <code>./wandb/run-20220627_213539-h5ap2xej/logs</code>"
      ],
      "text/plain": [
       "<IPython.core.display.HTML object>"
      ]
     },
     "metadata": {},
     "output_type": "display_data"
    },
    {
     "data": {
      "text/html": [
       "wandb version 0.12.19 is available!  To upgrade, please run:\n",
       " $ pip install wandb --upgrade"
      ],
      "text/plain": [
       "<IPython.core.display.HTML object>"
      ]
     },
     "metadata": {},
     "output_type": "display_data"
    },
    {
     "data": {
      "text/html": [
       "Tracking run with wandb version 0.12.15"
      ],
      "text/plain": [
       "<IPython.core.display.HTML object>"
      ]
     },
     "metadata": {},
     "output_type": "display_data"
    },
    {
     "data": {
      "text/html": [
       "Run data is saved locally in <code>/project/notebooks/wandb/run-20220627_214613-309c8a6o</code>"
      ],
      "text/plain": [
       "<IPython.core.display.HTML object>"
      ]
     },
     "metadata": {},
     "output_type": "display_data"
    },
    {
     "data": {
      "text/html": [
       "Syncing run <strong><a href=\"https://wandb.ai/synthesis-ai/52_syn_mode_syn_data/runs/309c8a6o\" target=\"_blank\">splendid-monkey-45</a></strong> to <a href=\"https://wandb.ai/synthesis-ai/52_syn_mode_syn_data\" target=\"_blank\">Weights & Biases</a> (<a href=\"https://wandb.me/run\" target=\"_blank\">docs</a>)<br/>"
      ],
      "text/plain": [
       "<IPython.core.display.HTML object>"
      ]
     },
     "metadata": {},
     "output_type": "display_data"
    },
    {
     "name": "stdout",
     "output_type": "stream",
     "text": [
      "fold=12\n",
      "/project/data/sdata1/Label\n",
      "35 items removed from dataset that have an angle > 180\n",
      "\n",
      "test configuration equal gpu_id=cuda:0, batch_size=20, model_arch=ResNet50\n",
      "Start testing dataset=mpiigaze, FOLD=12 --06/27/2022 14:46:16---------\n",
      "entering epoch=epoch_1.pkl\n",
      "[epoch_1.pkl---mpiigaze] Total Num:2964,MAE:4.0190678112387035  06/27/2022 14:46:28\n",
      "entering epoch=epoch_2.pkl\n",
      "[epoch_2.pkl---mpiigaze] Total Num:2964,MAE:4.348293692940053  06/27/2022 14:46:38\n",
      "entering epoch=epoch_3.pkl\n",
      "[epoch_3.pkl---mpiigaze] Total Num:2964,MAE:3.8956533896650978  06/27/2022 14:46:48\n",
      "entering epoch=epoch_4.pkl\n",
      "[epoch_4.pkl---mpiigaze] Total Num:2964,MAE:3.6282367120020598  06/27/2022 14:47:00\n",
      "entering epoch=epoch_5.pkl\n",
      "[epoch_5.pkl---mpiigaze] Total Num:2964,MAE:4.330356854696424  06/27/2022 14:47:11\n",
      "entering epoch=epoch_6.pkl\n",
      "[epoch_6.pkl---mpiigaze] Total Num:2964,MAE:3.4526466580933586  06/27/2022 14:47:22\n",
      "entering epoch=epoch_7.pkl\n",
      "[epoch_7.pkl---mpiigaze] Total Num:2964,MAE:3.522340800800964  06/27/2022 14:47:32\n",
      "entering epoch=epoch_8.pkl\n",
      "[epoch_8.pkl---mpiigaze] Total Num:2964,MAE:3.1771322107325326  06/27/2022 14:47:42\n",
      "entering epoch=epoch_9.pkl\n",
      "[epoch_9.pkl---mpiigaze] Total Num:2964,MAE:4.32694492451749  06/27/2022 14:47:53\n",
      "entering epoch=epoch_10.pkl\n",
      "[epoch_10.pkl---mpiigaze] Total Num:2964,MAE:4.717029447081267  06/27/2022 14:48:03\n",
      "entering epoch=epoch_11.pkl\n",
      "[epoch_11.pkl---mpiigaze] Total Num:2964,MAE:3.990978977663822  06/27/2022 14:48:14\n",
      "entering epoch=epoch_12.pkl\n",
      "[epoch_12.pkl---mpiigaze] Total Num:2964,MAE:4.63944068069766  06/27/2022 14:48:25\n",
      "entering epoch=epoch_13.pkl\n",
      "[epoch_13.pkl---mpiigaze] Total Num:2964,MAE:3.4274588941174176  06/27/2022 14:48:37\n",
      "entering epoch=epoch_14.pkl\n",
      "[epoch_23.pkl---mpiigaze] Total Num:2964,MAE:3.9566969430479504  06/27/2022 14:50:22\n",
      "entering epoch=epoch_24.pkl\n",
      "[epoch_24.pkl---mpiigaze] Total Num:2964,MAE:3.9908518219360585  06/27/2022 14:50:32\n",
      "entering epoch=epoch_25.pkl\n",
      "[epoch_25.pkl---mpiigaze] Total Num:2964,MAE:4.162663529686842  06/27/2022 14:50:42\n",
      "entering epoch=epoch_26.pkl\n",
      "[epoch_26.pkl---mpiigaze] Total Num:2964,MAE:3.5429211933313565  06/27/2022 14:50:51\n",
      "entering epoch=epoch_27.pkl\n",
      "[epoch_27.pkl---mpiigaze] Total Num:2964,MAE:3.8130162050774166  06/27/2022 14:51:02\n",
      "entering epoch=epoch_28.pkl\n",
      "[epoch_28.pkl---mpiigaze] Total Num:2964,MAE:3.5647260781490484  06/27/2022 14:51:13\n",
      "entering epoch=epoch_29.pkl\n",
      "[epoch_29.pkl---mpiigaze] Total Num:2964,MAE:3.6956008049265416  06/27/2022 14:51:23\n",
      "entering epoch=epoch_30.pkl\n",
      "[epoch_30.pkl---mpiigaze] Total Num:2964,MAE:4.123078144539373  06/27/2022 14:51:33\n",
      "entering epoch=epoch_31.pkl\n",
      "[epoch_31.pkl---mpiigaze] Total Num:2964,MAE:3.842966022292294  06/27/2022 14:51:43\n",
      "entering epoch=epoch_32.pkl\n",
      "[epoch_32.pkl---mpiigaze] Total Num:2964,MAE:3.9525889727749606  06/27/2022 14:51:54\n",
      "entering epoch=epoch_33.pkl\n",
      "[epoch_33.pkl---mpiigaze] Total Num:2964,MAE:3.6611110039009183  06/27/2022 14:52:03\n",
      "entering epoch=epoch_34.pkl\n",
      "[epoch_34.pkl---mpiigaze] Total Num:2964,MAE:3.872177530734122  06/27/2022 14:52:13\n",
      "entering epoch=epoch_35.pkl\n",
      "[epoch_35.pkl---mpiigaze] Total Num:2964,MAE:3.6952820943372537  06/27/2022 14:52:24\n",
      "entering epoch=epoch_36.pkl\n",
      "[epoch_36.pkl---mpiigaze] Total Num:2964,MAE:3.6185460976041264  06/27/2022 14:52:35\n",
      "entering epoch=epoch_37.pkl\n",
      "[epoch_37.pkl---mpiigaze] Total Num:2964,MAE:3.8137102884905243  06/27/2022 14:52:47\n",
      "entering epoch=epoch_38.pkl\n",
      "[epoch_38.pkl---mpiigaze] Total Num:2964,MAE:3.880431247186522  06/27/2022 14:53:00\n",
      "entering epoch=epoch_39.pkl\n",
      "[epoch_39.pkl---mpiigaze] Total Num:2964,MAE:4.359881327501504  06/27/2022 14:53:12\n",
      "entering epoch=epoch_40.pkl\n",
      "[epoch_40.pkl---mpiigaze] Total Num:2964,MAE:3.6089196065064204  06/27/2022 14:53:24\n",
      "entering epoch=epoch_41.pkl\n",
      "[epoch_41.pkl---mpiigaze] Total Num:2964,MAE:4.151372656520264  06/27/2022 14:53:37\n",
      "entering epoch=epoch_42.pkl\n",
      "[epoch_42.pkl---mpiigaze] Total Num:2964,MAE:3.9218790686103544  06/27/2022 14:53:49\n",
      "entering epoch=epoch_43.pkl\n",
      "[epoch_43.pkl---mpiigaze] Total Num:2964,MAE:3.93406143036877  06/27/2022 14:54:02\n",
      "entering epoch=epoch_44.pkl\n",
      "[epoch_44.pkl---mpiigaze] Total Num:2964,MAE:3.5375818982558385  06/27/2022 14:54:14\n",
      "entering epoch=epoch_45.pkl\n",
      "[epoch_45.pkl---mpiigaze] Total Num:2964,MAE:4.189258230868655  06/27/2022 14:54:25\n",
      "entering epoch=epoch_46.pkl\n",
      "[epoch_46.pkl---mpiigaze] Total Num:2964,MAE:3.710048238773878  06/27/2022 14:54:38\n",
      "entering epoch=epoch_47.pkl\n",
      "[epoch_47.pkl---mpiigaze] Total Num:2964,MAE:3.835855451270668  06/27/2022 14:54:52\n",
      "entering epoch=epoch_48.pkl\n",
      "[epoch_48.pkl---mpiigaze] Total Num:2964,MAE:3.9529780162044803  06/27/2022 14:55:05\n",
      "entering epoch=epoch_49.pkl\n",
      "[epoch_49.pkl---mpiigaze] Total Num:2964,MAE:3.7949665665001713  06/27/2022 14:55:18\n",
      "entering epoch=epoch_50.pkl\n",
      "[epoch_50.pkl---mpiigaze] Total Num:2964,MAE:3.443175618158332  06/27/2022 14:55:31\n",
      "entering epoch=epoch_51.pkl\n",
      "[epoch_51.pkl---mpiigaze] Total Num:2964,MAE:3.7464445430644413  06/27/2022 14:55:44\n",
      "entering epoch=epoch_52.pkl\n",
      "[epoch_52.pkl---mpiigaze] Total Num:2964,MAE:3.8972665278492666  06/27/2022 14:55:57\n",
      "entering epoch=epoch_53.pkl\n",
      "[epoch_53.pkl---mpiigaze] Total Num:2964,MAE:3.5049499801327313  06/27/2022 14:56:09\n",
      "entering epoch=epoch_54.pkl\n",
      "[epoch_54.pkl---mpiigaze] Total Num:2964,MAE:3.7299938109772857  06/27/2022 14:56:22\n",
      "entering epoch=epoch_55.pkl\n",
      "[epoch_55.pkl---mpiigaze] Total Num:2964,MAE:3.6382256827439976  06/27/2022 14:56:35\n",
      "entering epoch=epoch_56.pkl\n",
      "[epoch_56.pkl---mpiigaze] Total Num:2964,MAE:3.82175567800712  06/27/2022 14:56:46\n",
      "entering epoch=epoch_57.pkl\n",
      "[epoch_57.pkl---mpiigaze] Total Num:2964,MAE:3.5855724449312  06/27/2022 14:57:00\n",
      "entering epoch=epoch_58.pkl\n",
      "[epoch_58.pkl---mpiigaze] Total Num:2964,MAE:3.6896797913311543  06/27/2022 14:57:13\n",
      "entering epoch=epoch_59.pkl\n",
      "[epoch_59.pkl---mpiigaze] Total Num:2964,MAE:3.9231039070083433  06/27/2022 14:57:26\n",
      "entering epoch=epoch_60.pkl\n",
      "[epoch_60.pkl---mpiigaze] Total Num:2964,MAE:3.6811746985816947  06/27/2022 14:57:38\n"
     ]
    },
    {
     "data": {
      "text/html": [
       "Waiting for W&B process to finish... <strong style=\"color:green\">(success).</strong>"
      ],
      "text/plain": [
       "<IPython.core.display.HTML object>"
      ]
     },
     "metadata": {},
     "output_type": "display_data"
    },
    {
     "data": {
      "application/vnd.jupyter.widget-view+json": {
       "model_id": "",
       "version_major": 2,
       "version_minor": 0
      },
      "text/plain": [
       "VBox(children=(Label(value='0.001 MB of 0.001 MB uploaded (0.000 MB deduped)\\r'), FloatProgress(value=1.0, max…"
      ]
     },
     "metadata": {},
     "output_type": "display_data"
    },
    {
     "data": {
      "text/html": [
       "<style>\n",
       "    table.wandb td:nth-child(1) { padding: 0 10px; text-align: right }\n",
       "    .wandb-row { display: flex; flex-direction: row; flex-wrap: wrap; width: 100% }\n",
       "    .wandb-col { display: flex; flex-direction: column; flex-basis: 100%; flex: 1; padding: 10px; }\n",
       "    </style>\n",
       "<div class=\"wandb-row\"><div class=\"wandb-col\"><h3>Run history:</h3><br/><table class=\"wandb\"><tr><td>try3-fold_12_mean_mae</td><td>▅▆▃▆▃▁█▅▂▇▃▄▄▄▃▅▅▃▃▃▄▅▄▃▄▄▃▅▄▃▃▄▄▂▄▂▃▄▃▃</td></tr></table><br/></div><div class=\"wandb-col\"><h3>Run summary:</h3><br/><table class=\"wandb\"><tr><td>epoch</td><td>epoch_60.pkl</td></tr><tr><td>try3-fold_12_mean_mae</td><td>3.68117</td></tr></table><br/></div></div>"
      ],
      "text/plain": [
       "<IPython.core.display.HTML object>"
      ]
     },
     "metadata": {},
     "output_type": "display_data"
    },
    {
     "data": {
      "text/html": [
       "Synced <strong style=\"color:#cdcd00\">splendid-monkey-45</strong>: <a href=\"https://wandb.ai/synthesis-ai/52_syn_mode_syn_data/runs/309c8a6o\" target=\"_blank\">https://wandb.ai/synthesis-ai/52_syn_mode_syn_data/runs/309c8a6o</a><br/>Synced 5 W&B file(s), 0 media file(s), 0 artifact file(s) and 0 other file(s)"
      ],
      "text/plain": [
       "<IPython.core.display.HTML object>"
      ]
     },
     "metadata": {},
     "output_type": "display_data"
    },
    {
     "data": {
      "text/html": [
       "Find logs at: <code>./wandb/run-20220627_214613-309c8a6o/logs</code>"
      ],
      "text/plain": [
       "<IPython.core.display.HTML object>"
      ]
     },
     "metadata": {},
     "output_type": "display_data"
    },
    {
     "data": {
      "text/html": [
       "wandb version 0.12.19 is available!  To upgrade, please run:\n",
       " $ pip install wandb --upgrade"
      ],
      "text/plain": [
       "<IPython.core.display.HTML object>"
      ]
     },
     "metadata": {},
     "output_type": "display_data"
    },
    {
     "data": {
      "text/html": [
       "Tracking run with wandb version 0.12.15"
      ],
      "text/plain": [
       "<IPython.core.display.HTML object>"
      ]
     },
     "metadata": {},
     "output_type": "display_data"
    },
    {
     "data": {
      "text/html": [
       "Run data is saved locally in <code>/project/notebooks/wandb/run-20220627_215742-1smhaktp</code>"
      ],
      "text/plain": [
       "<IPython.core.display.HTML object>"
      ]
     },
     "metadata": {},
     "output_type": "display_data"
    },
    {
     "data": {
      "text/html": [
       "Syncing run <strong><a href=\"https://wandb.ai/synthesis-ai/52_syn_mode_syn_data/runs/1smhaktp\" target=\"_blank\">soft-deluge-46</a></strong> to <a href=\"https://wandb.ai/synthesis-ai/52_syn_mode_syn_data\" target=\"_blank\">Weights & Biases</a> (<a href=\"https://wandb.me/run\" target=\"_blank\">docs</a>)<br/>"
      ],
      "text/plain": [
       "<IPython.core.display.HTML object>"
      ]
     },
     "metadata": {},
     "output_type": "display_data"
    },
    {
     "name": "stdout",
     "output_type": "stream",
     "text": [
      "fold=13\n",
      "/project/data/sdata1/Label\n",
      "36 items removed from dataset that have an angle > 180\n",
      "\n",
      "test configuration equal gpu_id=cuda:0, batch_size=20, model_arch=ResNet50\n",
      "Start testing dataset=mpiigaze, FOLD=13 --06/27/2022 14:57:45---------\n",
      "entering epoch=epoch_1.pkl\n",
      "[epoch_1.pkl---mpiigaze] Total Num:2963,MAE:5.238642698029521  06/27/2022 14:57:58\n",
      "entering epoch=epoch_2.pkl\n",
      "[epoch_2.pkl---mpiigaze] Total Num:2963,MAE:3.3351880417867714  06/27/2022 14:58:11\n",
      "entering epoch=epoch_3.pkl\n",
      "[epoch_3.pkl---mpiigaze] Total Num:2963,MAE:3.544214449016411  06/27/2022 14:58:22\n",
      "entering epoch=epoch_4.pkl\n",
      "[epoch_4.pkl---mpiigaze] Total Num:2963,MAE:2.926210910409632  06/27/2022 14:58:35\n",
      "entering epoch=epoch_5.pkl\n",
      "[epoch_5.pkl---mpiigaze] Total Num:2963,MAE:2.893756407494572  06/27/2022 14:58:49\n",
      "entering epoch=epoch_6.pkl\n",
      "[epoch_6.pkl---mpiigaze] Total Num:2963,MAE:2.9984522293649487  06/27/2022 14:59:01\n",
      "entering epoch=epoch_7.pkl\n",
      "[epoch_7.pkl---mpiigaze] Total Num:2963,MAE:3.2209221049859216  06/27/2022 14:59:14\n",
      "entering epoch=epoch_8.pkl\n",
      "[epoch_8.pkl---mpiigaze] Total Num:2963,MAE:3.302268217765768  06/27/2022 14:59:27\n",
      "entering epoch=epoch_9.pkl\n",
      "[epoch_9.pkl---mpiigaze] Total Num:2963,MAE:3.217179977524949  06/27/2022 14:59:41\n",
      "entering epoch=epoch_10.pkl\n",
      "[epoch_10.pkl---mpiigaze] Total Num:2963,MAE:2.870519386106014  06/27/2022 14:59:52\n",
      "entering epoch=epoch_11.pkl\n",
      "[epoch_11.pkl---mpiigaze] Total Num:2963,MAE:3.072623887225812  06/27/2022 15:00:05\n",
      "entering epoch=epoch_12.pkl\n",
      "[epoch_12.pkl---mpiigaze] Total Num:2963,MAE:2.7732949211608386  06/27/2022 15:00:19\n",
      "entering epoch=epoch_13.pkl\n",
      "[epoch_13.pkl---mpiigaze] Total Num:2963,MAE:2.7810491010609995  06/27/2022 15:00:32\n",
      "entering epoch=epoch_14.pkl\n",
      "[epoch_14.pkl---mpiigaze] Total Num:2963,MAE:2.6920222254063426  06/27/2022 15:00:45\n",
      "entering epoch=epoch_15.pkl\n",
      "[epoch_15.pkl---mpiigaze] Total Num:2963,MAE:2.7734419658207985  06/27/2022 15:00:59\n",
      "entering epoch=epoch_16.pkl\n",
      "[epoch_16.pkl---mpiigaze] Total Num:2963,MAE:2.715003036067464  06/27/2022 15:01:12\n",
      "entering epoch=epoch_17.pkl\n",
      "[epoch_17.pkl---mpiigaze] Total Num:2963,MAE:2.9858565217470594  06/27/2022 15:01:25\n",
      "entering epoch=epoch_18.pkl\n",
      "[epoch_18.pkl---mpiigaze] Total Num:2963,MAE:2.7900323939322944  06/27/2022 15:01:38\n",
      "entering epoch=epoch_19.pkl\n",
      "[epoch_19.pkl---mpiigaze] Total Num:2963,MAE:2.6837733426668002  06/27/2022 15:01:50\n",
      "entering epoch=epoch_20.pkl\n",
      "[epoch_20.pkl---mpiigaze] Total Num:2963,MAE:2.6149055189517387  06/27/2022 15:02:04\n",
      "entering epoch=epoch_21.pkl\n",
      "[epoch_21.pkl---mpiigaze] Total Num:2963,MAE:2.637186220542961  06/27/2022 15:02:16\n",
      "entering epoch=epoch_22.pkl\n",
      "[epoch_22.pkl---mpiigaze] Total Num:2963,MAE:2.781152850911195  06/27/2022 15:02:30\n",
      "entering epoch=epoch_23.pkl\n",
      "[epoch_23.pkl---mpiigaze] Total Num:2963,MAE:2.9354702629304117  06/27/2022 15:02:43\n",
      "entering epoch=epoch_24.pkl\n",
      "[epoch_24.pkl---mpiigaze] Total Num:2963,MAE:2.6645060557500257  06/27/2022 15:02:56\n",
      "entering epoch=epoch_25.pkl\n",
      "[epoch_25.pkl---mpiigaze] Total Num:2963,MAE:2.6611559553073696  06/27/2022 15:03:10\n",
      "entering epoch=epoch_26.pkl\n",
      "[epoch_26.pkl---mpiigaze] Total Num:2963,MAE:2.7084142262935074  06/27/2022 15:03:23\n",
      "entering epoch=epoch_27.pkl\n",
      "[epoch_27.pkl---mpiigaze] Total Num:2963,MAE:2.7084936957052865  06/27/2022 15:03:37\n",
      "entering epoch=epoch_28.pkl\n",
      "[epoch_28.pkl---mpiigaze] Total Num:2963,MAE:2.725905261888343  06/27/2022 15:03:49\n",
      "entering epoch=epoch_29.pkl\n",
      "[epoch_29.pkl---mpiigaze] Total Num:2963,MAE:2.8732320056393563  06/27/2022 15:04:01\n",
      "entering epoch=epoch_30.pkl\n",
      "[epoch_30.pkl---mpiigaze] Total Num:2963,MAE:2.7986724704811716  06/27/2022 15:04:13\n",
      "entering epoch=epoch_31.pkl\n",
      "[epoch_31.pkl---mpiigaze] Total Num:2963,MAE:2.656639089254406  06/27/2022 15:04:26\n",
      "entering epoch=epoch_32.pkl\n",
      "[epoch_32.pkl---mpiigaze] Total Num:2963,MAE:2.691954275682894  06/27/2022 15:04:39\n",
      "entering epoch=epoch_33.pkl\n",
      "[epoch_33.pkl---mpiigaze] Total Num:2963,MAE:2.6821923984765683  06/27/2022 15:04:52\n",
      "entering epoch=epoch_34.pkl\n",
      "[epoch_34.pkl---mpiigaze] Total Num:2963,MAE:2.7001991152784734  06/27/2022 15:05:05\n",
      "entering epoch=epoch_35.pkl\n",
      "[epoch_35.pkl---mpiigaze] Total Num:2963,MAE:2.7402638323266184  06/27/2022 15:05:18\n",
      "entering epoch=epoch_36.pkl\n",
      "[epoch_36.pkl---mpiigaze] Total Num:2963,MAE:2.6139584007569012  06/27/2022 15:05:32\n",
      "entering epoch=epoch_37.pkl\n",
      "[epoch_37.pkl---mpiigaze] Total Num:2963,MAE:2.576881216250667  06/27/2022 15:05:45\n",
      "entering epoch=epoch_38.pkl\n",
      "[epoch_38.pkl---mpiigaze] Total Num:2963,MAE:2.6209118203099933  06/27/2022 15:05:58\n",
      "entering epoch=epoch_39.pkl\n",
      "[epoch_39.pkl---mpiigaze] Total Num:2963,MAE:2.8033086700728442  06/27/2022 15:06:09\n",
      "entering epoch=epoch_40.pkl\n",
      "[epoch_40.pkl---mpiigaze] Total Num:2963,MAE:2.739189039800251  06/27/2022 15:06:21\n",
      "entering epoch=epoch_41.pkl\n",
      "[epoch_41.pkl---mpiigaze] Total Num:2963,MAE:2.6902756468471773  06/27/2022 15:06:34\n",
      "entering epoch=epoch_42.pkl\n",
      "[epoch_42.pkl---mpiigaze] Total Num:2963,MAE:2.6554847533538455  06/27/2022 15:06:46\n",
      "entering epoch=epoch_43.pkl\n",
      "[epoch_43.pkl---mpiigaze] Total Num:2963,MAE:2.6441173659430954  06/27/2022 15:06:59\n",
      "entering epoch=epoch_44.pkl\n",
      "[epoch_44.pkl---mpiigaze] Total Num:2963,MAE:2.6372549713579954  06/27/2022 15:07:12\n",
      "entering epoch=epoch_45.pkl\n",
      "[epoch_45.pkl---mpiigaze] Total Num:2963,MAE:2.6230227342631967  06/27/2022 15:07:25\n",
      "entering epoch=epoch_46.pkl\n",
      "[epoch_46.pkl---mpiigaze] Total Num:2963,MAE:2.7278323433297467  06/27/2022 15:07:39\n",
      "entering epoch=epoch_47.pkl\n",
      "[epoch_47.pkl---mpiigaze] Total Num:2963,MAE:2.6450076967590848  06/27/2022 15:07:50\n",
      "entering epoch=epoch_48.pkl\n",
      "[epoch_48.pkl---mpiigaze] Total Num:2963,MAE:2.630086618419453  06/27/2022 15:08:03\n",
      "entering epoch=epoch_49.pkl\n",
      "[epoch_49.pkl---mpiigaze] Total Num:2963,MAE:2.6403587756206353  06/27/2022 15:08:16\n",
      "entering epoch=epoch_50.pkl\n",
      "[epoch_50.pkl---mpiigaze] Total Num:2963,MAE:2.5483269564305777  06/27/2022 15:08:29\n",
      "entering epoch=epoch_51.pkl\n",
      "[epoch_51.pkl---mpiigaze] Total Num:2963,MAE:2.5392931078252388  06/27/2022 15:08:43\n",
      "entering epoch=epoch_52.pkl\n",
      "[epoch_52.pkl---mpiigaze] Total Num:2963,MAE:2.613839769377886  06/27/2022 15:08:54\n",
      "entering epoch=epoch_53.pkl\n",
      "[epoch_53.pkl---mpiigaze] Total Num:2963,MAE:2.588359644220646  06/27/2022 15:09:05\n",
      "entering epoch=epoch_54.pkl\n",
      "[epoch_54.pkl---mpiigaze] Total Num:2963,MAE:2.597343775635212  06/27/2022 15:09:19\n",
      "entering epoch=epoch_55.pkl\n",
      "[epoch_55.pkl---mpiigaze] Total Num:2963,MAE:2.6498747576730866  06/27/2022 15:09:32\n",
      "entering epoch=epoch_56.pkl\n",
      "[epoch_56.pkl---mpiigaze] Total Num:2963,MAE:2.564458835051118  06/27/2022 15:09:45\n",
      "entering epoch=epoch_57.pkl\n",
      "[epoch_57.pkl---mpiigaze] Total Num:2963,MAE:2.587641806621135  06/27/2022 15:09:58\n",
      "entering epoch=epoch_58.pkl\n",
      "[epoch_58.pkl---mpiigaze] Total Num:2963,MAE:2.5826937819981715  06/27/2022 15:10:09\n",
      "entering epoch=epoch_59.pkl\n",
      "[epoch_59.pkl---mpiigaze] Total Num:2963,MAE:2.6247821590750684  06/27/2022 15:10:20\n",
      "entering epoch=epoch_60.pkl\n",
      "[epoch_60.pkl---mpiigaze] Total Num:2963,MAE:2.601760218588393  06/27/2022 15:10:34\n"
     ]
    },
    {
     "data": {
      "text/html": [
       "Waiting for W&B process to finish... <strong style=\"color:green\">(success).</strong>"
      ],
      "text/plain": [
       "<IPython.core.display.HTML object>"
      ]
     },
     "metadata": {},
     "output_type": "display_data"
    },
    {
     "data": {
      "application/vnd.jupyter.widget-view+json": {
       "model_id": "",
       "version_major": 2,
       "version_minor": 0
      },
      "text/plain": [
       "VBox(children=(Label(value='0.001 MB of 0.001 MB uploaded (0.000 MB deduped)\\r'), FloatProgress(value=1.0, max…"
      ]
     },
     "metadata": {},
     "output_type": "display_data"
    },
    {
     "data": {
      "text/html": [
       "<style>\n",
       "    table.wandb td:nth-child(1) { padding: 0 10px; text-align: right }\n",
       "    .wandb-row { display: flex; flex-direction: row; flex-wrap: wrap; width: 100% }\n",
       "    .wandb-col { display: flex; flex-direction: column; flex-basis: 100%; flex: 1; padding: 10px; }\n",
       "    </style>\n",
       "<div class=\"wandb-row\"><div class=\"wandb-col\"><h3>Run history:</h3><br/><table class=\"wandb\"><tr><td>try3-fold_13_mean_mae</td><td>█▃▂▂▃▃▂▂▂▁▁▂▁▁▂▂▁▁▁▂▁▁▁▁▁▁▁▁▁▁▁▁▁▁▁▁▁▁▁▁</td></tr></table><br/></div><div class=\"wandb-col\"><h3>Run summary:</h3><br/><table class=\"wandb\"><tr><td>epoch</td><td>epoch_60.pkl</td></tr><tr><td>try3-fold_13_mean_mae</td><td>2.60176</td></tr></table><br/></div></div>"
      ],
      "text/plain": [
       "<IPython.core.display.HTML object>"
      ]
     },
     "metadata": {},
     "output_type": "display_data"
    },
    {
     "data": {
      "text/html": [
       "Synced <strong style=\"color:#cdcd00\">soft-deluge-46</strong>: <a href=\"https://wandb.ai/synthesis-ai/52_syn_mode_syn_data/runs/1smhaktp\" target=\"_blank\">https://wandb.ai/synthesis-ai/52_syn_mode_syn_data/runs/1smhaktp</a><br/>Synced 5 W&B file(s), 0 media file(s), 0 artifact file(s) and 0 other file(s)"
      ],
      "text/plain": [
       "<IPython.core.display.HTML object>"
      ]
     },
     "metadata": {},
     "output_type": "display_data"
    },
    {
     "data": {
      "text/html": [
       "Find logs at: <code>./wandb/run-20220627_215742-1smhaktp/logs</code>"
      ],
      "text/plain": [
       "<IPython.core.display.HTML object>"
      ]
     },
     "metadata": {},
     "output_type": "display_data"
    },
    {
     "data": {
      "text/html": [
       "wandb version 0.12.19 is available!  To upgrade, please run:\n",
       " $ pip install wandb --upgrade"
      ],
      "text/plain": [
       "<IPython.core.display.HTML object>"
      ]
     },
     "metadata": {},
     "output_type": "display_data"
    },
    {
     "data": {
      "text/html": [
       "Tracking run with wandb version 0.12.15"
      ],
      "text/plain": [
       "<IPython.core.display.HTML object>"
      ]
     },
     "metadata": {},
     "output_type": "display_data"
    },
    {
     "data": {
      "text/html": [
       "Run data is saved locally in <code>/project/notebooks/wandb/run-20220627_221038-3gtnz7i6</code>"
      ],
      "text/plain": [
       "<IPython.core.display.HTML object>"
      ]
     },
     "metadata": {},
     "output_type": "display_data"
    },
    {
     "data": {
      "text/html": [
       "Syncing run <strong><a href=\"https://wandb.ai/synthesis-ai/52_syn_mode_syn_data/runs/3gtnz7i6\" target=\"_blank\">solar-surf-47</a></strong> to <a href=\"https://wandb.ai/synthesis-ai/52_syn_mode_syn_data\" target=\"_blank\">Weights & Biases</a> (<a href=\"https://wandb.me/run\" target=\"_blank\">docs</a>)<br/>"
      ],
      "text/plain": [
       "<IPython.core.display.HTML object>"
      ]
     },
     "metadata": {},
     "output_type": "display_data"
    },
    {
     "name": "stdout",
     "output_type": "stream",
     "text": [
      "fold=14\n",
      "/project/data/sdata1/Label\n",
      "31 items removed from dataset that have an angle > 180\n",
      "\n",
      "test configuration equal gpu_id=cuda:0, batch_size=20, model_arch=ResNet50\n",
      "Start testing dataset=mpiigaze, FOLD=14 --06/27/2022 15:10:41---------\n",
      "entering epoch=epoch_1.pkl\n",
      "[epoch_1.pkl---mpiigaze] Total Num:2968,MAE:4.766217458223812  06/27/2022 15:10:54\n",
      "entering epoch=epoch_2.pkl\n",
      "[epoch_2.pkl---mpiigaze] Total Num:2968,MAE:4.7719846206787215  06/27/2022 15:11:07\n",
      "entering epoch=epoch_3.pkl\n",
      "[epoch_3.pkl---mpiigaze] Total Num:2968,MAE:3.416069430115444  06/27/2022 15:11:19\n",
      "entering epoch=epoch_4.pkl\n",
      "[epoch_4.pkl---mpiigaze] Total Num:2968,MAE:3.6964162508978418  06/27/2022 15:11:32\n",
      "entering epoch=epoch_5.pkl\n",
      "[epoch_5.pkl---mpiigaze] Total Num:2968,MAE:4.4210412299329045  06/27/2022 15:11:45\n",
      "entering epoch=epoch_6.pkl\n",
      "[epoch_6.pkl---mpiigaze] Total Num:2968,MAE:3.947910450984582  06/27/2022 15:11:58\n",
      "entering epoch=epoch_7.pkl\n",
      "[epoch_7.pkl---mpiigaze] Total Num:2968,MAE:3.416745725306349  06/27/2022 15:12:11\n",
      "entering epoch=epoch_8.pkl\n",
      "[epoch_8.pkl---mpiigaze] Total Num:2968,MAE:4.539033505656926  06/27/2022 15:12:24\n",
      "entering epoch=epoch_9.pkl\n",
      "[epoch_9.pkl---mpiigaze] Total Num:2968,MAE:3.353655842317229  06/27/2022 15:12:37\n",
      "entering epoch=epoch_10.pkl\n",
      "[epoch_10.pkl---mpiigaze] Total Num:2968,MAE:3.189168878736072  06/27/2022 15:12:49\n",
      "entering epoch=epoch_11.pkl\n",
      "[epoch_11.pkl---mpiigaze] Total Num:2968,MAE:3.8645273496143275  06/27/2022 15:13:02\n",
      "entering epoch=epoch_12.pkl\n",
      "[epoch_12.pkl---mpiigaze] Total Num:2968,MAE:3.401546910612887  06/27/2022 15:13:15\n",
      "entering epoch=epoch_13.pkl\n",
      "[epoch_13.pkl---mpiigaze] Total Num:2968,MAE:3.750080830837312  06/27/2022 15:13:28\n",
      "entering epoch=epoch_14.pkl\n",
      "[epoch_14.pkl---mpiigaze] Total Num:2968,MAE:4.295298874763036  06/27/2022 15:13:40\n",
      "entering epoch=epoch_15.pkl\n",
      "[epoch_15.pkl---mpiigaze] Total Num:2968,MAE:3.5169589123178486  06/27/2022 15:13:53\n",
      "entering epoch=epoch_16.pkl\n",
      "[epoch_16.pkl---mpiigaze] Total Num:2968,MAE:3.7252759972312566  06/27/2022 15:14:07\n",
      "entering epoch=epoch_17.pkl\n",
      "[epoch_17.pkl---mpiigaze] Total Num:2968,MAE:3.926772614532768  06/27/2022 15:14:18\n",
      "entering epoch=epoch_18.pkl\n",
      "[epoch_18.pkl---mpiigaze] Total Num:2968,MAE:3.7297583002197565  06/27/2022 15:14:32\n",
      "entering epoch=epoch_19.pkl\n",
      "[epoch_19.pkl---mpiigaze] Total Num:2968,MAE:3.9247923175204704  06/27/2022 15:14:45\n",
      "entering epoch=epoch_20.pkl\n",
      "[epoch_20.pkl---mpiigaze] Total Num:2968,MAE:3.511005785310599  06/27/2022 15:14:58\n",
      "entering epoch=epoch_21.pkl\n",
      "[epoch_21.pkl---mpiigaze] Total Num:2968,MAE:3.9535150859120476  06/27/2022 15:15:10\n",
      "entering epoch=epoch_22.pkl\n",
      "[epoch_22.pkl---mpiigaze] Total Num:2968,MAE:3.4371099402001852  06/27/2022 15:15:23\n",
      "entering epoch=epoch_23.pkl\n",
      "[epoch_23.pkl---mpiigaze] Total Num:2968,MAE:3.456422735710466  06/27/2022 15:15:35\n",
      "entering epoch=epoch_24.pkl\n",
      "[epoch_24.pkl---mpiigaze] Total Num:2968,MAE:3.323559817374575  06/27/2022 15:15:49\n",
      "entering epoch=epoch_25.pkl\n",
      "[epoch_25.pkl---mpiigaze] Total Num:2968,MAE:4.383401621761297  06/27/2022 15:16:02\n",
      "entering epoch=epoch_26.pkl\n",
      "[epoch_26.pkl---mpiigaze] Total Num:2968,MAE:4.016268488458621  06/27/2022 15:16:15\n",
      "entering epoch=epoch_27.pkl\n",
      "[epoch_27.pkl---mpiigaze] Total Num:2968,MAE:3.563312852871727  06/27/2022 15:16:28\n",
      "entering epoch=epoch_28.pkl\n",
      "[epoch_28.pkl---mpiigaze] Total Num:2968,MAE:3.5340184209355607  06/27/2022 15:16:41\n",
      "entering epoch=epoch_29.pkl\n",
      "[epoch_29.pkl---mpiigaze] Total Num:2968,MAE:3.5873831261478784  06/27/2022 15:16:54\n",
      "entering epoch=epoch_30.pkl\n",
      "[epoch_30.pkl---mpiigaze] Total Num:2968,MAE:3.5731133885268793  06/27/2022 15:17:07\n",
      "entering epoch=epoch_31.pkl\n",
      "[epoch_31.pkl---mpiigaze] Total Num:2968,MAE:3.558622574067045  06/27/2022 15:17:19\n",
      "entering epoch=epoch_32.pkl\n",
      "[epoch_32.pkl---mpiigaze] Total Num:2968,MAE:4.034635010566815  06/27/2022 15:17:32\n",
      "entering epoch=epoch_33.pkl\n",
      "[epoch_33.pkl---mpiigaze] Total Num:2968,MAE:4.106947361341276  06/27/2022 15:17:46\n",
      "entering epoch=epoch_34.pkl\n",
      "[epoch_34.pkl---mpiigaze] Total Num:2968,MAE:3.695847392564853  06/27/2022 15:17:59\n",
      "entering epoch=epoch_35.pkl\n",
      "[epoch_35.pkl---mpiigaze] Total Num:2968,MAE:3.55796068935958  06/27/2022 15:18:12\n",
      "entering epoch=epoch_36.pkl\n",
      "[epoch_36.pkl---mpiigaze] Total Num:2968,MAE:3.3394023269166793  06/27/2022 15:18:26\n",
      "entering epoch=epoch_37.pkl\n",
      "[epoch_37.pkl---mpiigaze] Total Num:2968,MAE:3.7654932087562396  06/27/2022 15:18:38\n",
      "entering epoch=epoch_38.pkl\n",
      "[epoch_38.pkl---mpiigaze] Total Num:2968,MAE:3.4755063431296818  06/27/2022 15:18:50\n",
      "entering epoch=epoch_39.pkl\n",
      "[epoch_39.pkl---mpiigaze] Total Num:2968,MAE:3.481146517106055  06/27/2022 15:19:03\n",
      "entering epoch=epoch_40.pkl\n",
      "[epoch_40.pkl---mpiigaze] Total Num:2968,MAE:3.460272916344875  06/27/2022 15:19:16\n",
      "entering epoch=epoch_41.pkl\n",
      "[epoch_41.pkl---mpiigaze] Total Num:2968,MAE:3.5994118153366714  06/27/2022 15:19:28\n",
      "entering epoch=epoch_42.pkl\n",
      "[epoch_42.pkl---mpiigaze] Total Num:2968,MAE:3.6270463878230523  06/27/2022 15:19:41\n",
      "entering epoch=epoch_43.pkl\n",
      "[epoch_43.pkl---mpiigaze] Total Num:2968,MAE:3.798248620394663  06/27/2022 15:19:53\n",
      "entering epoch=epoch_44.pkl\n",
      "[epoch_44.pkl---mpiigaze] Total Num:2968,MAE:3.6879288597380433  06/27/2022 15:20:05\n",
      "entering epoch=epoch_45.pkl\n",
      "[epoch_45.pkl---mpiigaze] Total Num:2968,MAE:3.8336162415735746  06/27/2022 15:20:19\n",
      "entering epoch=epoch_46.pkl\n",
      "[epoch_46.pkl---mpiigaze] Total Num:2968,MAE:3.3609845471217064  06/27/2022 15:20:32\n",
      "entering epoch=epoch_47.pkl\n",
      "[epoch_47.pkl---mpiigaze] Total Num:2968,MAE:3.4513819283875597  06/27/2022 15:20:46\n",
      "entering epoch=epoch_48.pkl\n",
      "[epoch_48.pkl---mpiigaze] Total Num:2968,MAE:3.667590057794815  06/27/2022 15:20:59\n",
      "entering epoch=epoch_49.pkl\n",
      "[epoch_49.pkl---mpiigaze] Total Num:2968,MAE:3.6409382837035236  06/27/2022 15:21:10\n",
      "entering epoch=epoch_50.pkl\n",
      "[epoch_50.pkl---mpiigaze] Total Num:2968,MAE:3.722039958776835  06/27/2022 15:21:24\n",
      "entering epoch=epoch_51.pkl\n",
      "[epoch_51.pkl---mpiigaze] Total Num:2968,MAE:3.612491409069128  06/27/2022 15:21:37\n",
      "entering epoch=epoch_52.pkl\n",
      "[epoch_52.pkl---mpiigaze] Total Num:2968,MAE:3.6246095713547017  06/27/2022 15:21:50\n",
      "entering epoch=epoch_53.pkl\n",
      "[epoch_53.pkl---mpiigaze] Total Num:2968,MAE:3.6856226461711037  06/27/2022 15:22:03\n",
      "entering epoch=epoch_54.pkl\n",
      "[epoch_54.pkl---mpiigaze] Total Num:2968,MAE:3.6609263646724695  06/27/2022 15:22:16\n",
      "entering epoch=epoch_55.pkl\n",
      "[epoch_55.pkl---mpiigaze] Total Num:2968,MAE:3.54554248735905  06/27/2022 15:22:29\n",
      "entering epoch=epoch_56.pkl\n",
      "[epoch_56.pkl---mpiigaze] Total Num:2968,MAE:3.7645460344271595  06/27/2022 15:22:43\n",
      "entering epoch=epoch_57.pkl\n",
      "[epoch_57.pkl---mpiigaze] Total Num:2968,MAE:3.6457278632306016  06/27/2022 15:22:54\n",
      "entering epoch=epoch_58.pkl\n",
      "[epoch_58.pkl---mpiigaze] Total Num:2968,MAE:3.741075445356056  06/27/2022 15:23:07\n",
      "entering epoch=epoch_59.pkl\n",
      "[epoch_59.pkl---mpiigaze] Total Num:2968,MAE:3.727600007442798  06/27/2022 15:23:20\n",
      "entering epoch=epoch_60.pkl\n",
      "[epoch_60.pkl---mpiigaze] Total Num:2968,MAE:3.775528616194838  06/27/2022 15:23:32\n"
     ]
    },
    {
     "data": {
      "text/html": [
       "Waiting for W&B process to finish... <strong style=\"color:green\">(success).</strong>"
      ],
      "text/plain": [
       "<IPython.core.display.HTML object>"
      ]
     },
     "metadata": {},
     "output_type": "display_data"
    },
    {
     "data": {
      "application/vnd.jupyter.widget-view+json": {
       "model_id": "",
       "version_major": 2,
       "version_minor": 0
      },
      "text/plain": [
       "VBox(children=(Label(value='0.001 MB of 0.001 MB uploaded (0.000 MB deduped)\\r'), FloatProgress(value=1.0, max…"
      ]
     },
     "metadata": {},
     "output_type": "display_data"
    },
    {
     "data": {
      "text/html": [
       "<style>\n",
       "    table.wandb td:nth-child(1) { padding: 0 10px; text-align: right }\n",
       "    .wandb-row { display: flex; flex-direction: row; flex-wrap: wrap; width: 100% }\n",
       "    .wandb-col { display: flex; flex-direction: column; flex-basis: 100%; flex: 1; padding: 10px; }\n",
       "    </style>\n",
       "<div class=\"wandb-row\"><div class=\"wandb-col\"><h3>Run history:</h3><br/><table class=\"wandb\"><tr><td>try3-fold_14_mean_mae</td><td>██▃▆▂▇▁▄▃▆▃▄▄▂▂▂▆▅▃▃▃▅▃▃▄▂▂▃▄▃▂▂▃▃▃▃▃▄▃▄</td></tr></table><br/></div><div class=\"wandb-col\"><h3>Run summary:</h3><br/><table class=\"wandb\"><tr><td>epoch</td><td>epoch_60.pkl</td></tr><tr><td>try3-fold_14_mean_mae</td><td>3.77553</td></tr></table><br/></div></div>"
      ],
      "text/plain": [
       "<IPython.core.display.HTML object>"
      ]
     },
     "metadata": {},
     "output_type": "display_data"
    },
    {
     "data": {
      "text/html": [
       "Synced <strong style=\"color:#cdcd00\">solar-surf-47</strong>: <a href=\"https://wandb.ai/synthesis-ai/52_syn_mode_syn_data/runs/3gtnz7i6\" target=\"_blank\">https://wandb.ai/synthesis-ai/52_syn_mode_syn_data/runs/3gtnz7i6</a><br/>Synced 5 W&B file(s), 0 media file(s), 0 artifact file(s) and 0 other file(s)"
      ],
      "text/plain": [
       "<IPython.core.display.HTML object>"
      ]
     },
     "metadata": {},
     "output_type": "display_data"
    },
    {
     "data": {
      "text/html": [
       "Find logs at: <code>./wandb/run-20220627_221038-3gtnz7i6/logs</code>"
      ],
      "text/plain": [
       "<IPython.core.display.HTML object>"
      ]
     },
     "metadata": {},
     "output_type": "display_data"
    },
    {
     "name": "stdout",
     "output_type": "stream",
     "text": [
      "CPU times: user 2h 47min 28s, sys: 22min 39s, total: 3h 10min 7s\n",
      "Wall time: 2h 45min 13s\n"
     ]
    }
   ],
   "source": [
    "%%time\n",
    "all_MAE = []\n",
    "# tosave={}\n",
    "for fold in range(15):\n",
    "    frun = wandb.init(project=\"52_syn_mode_syn_data\")\n",
    "    frun.name = f'fold{fold}_mae'\n",
    "    \n",
    "    print(f\"fold={fold}\")\n",
    "    \n",
    "    epoch_values=[]\n",
    "    mae_values=[]\n",
    "\n",
    "    now = get_now()\n",
    "    \n",
    "    print(args.gazeMpiilabel_dir)\n",
    "    folder = os.listdir(args.gazeMpiilabel_dir)\n",
    "    folder.sort()  #individual label files\n",
    "    testlabelpathcombined = [os.path.join(args.gazeMpiilabel_dir, j) for j in folder] \n",
    "    \n",
    "    gaze_dataset=datasets.Mpiigaze(testlabelpathcombined, args.gazeMpiimage_dir, transformations, False, angle, fold)\n",
    "\n",
    "    test_loader = torch.utils.data.DataLoader(\n",
    "        dataset=gaze_dataset,\n",
    "        batch_size=batch_size,\n",
    "        shuffle=True,\n",
    "        num_workers=4,\n",
    "        pin_memory=True)\n",
    "\n",
    "#     fold_path = os.path.join(evalpath, 'fold' + f'{fold:0>2}'+'/')  #for evaluation\n",
    "# #     print(f\"fold_path is {fold_path}\")\n",
    "#     if not os.path.exists(fold_path):\n",
    "#         os.makedirs(fold_path)\n",
    "\n",
    "#     if not os.path.exists(os.path.join(evalpath, f\"fold\"+str(fold))):\n",
    "#         os.makedirs(os.path.join(evalpath, f\"fold\"+str(fold)))\n",
    "\n",
    "    # list all epoch for testing\n",
    "    folder = os.listdir(os.path.join(snapshot_path, \"fold\" + f'{fold:0>2}'))\n",
    "    folder.sort(key=natural_keys)\n",
    "#     folder.pop(-1)  #remove the tensorboard file, now all snapshot files\n",
    "#     print(f\"folder={folder}\")\n",
    "                    \n",
    "\n",
    "    softmax = nn.Softmax(dim=1)\n",
    "#     with open(os.path.join(evalpath, os.path.join(\"fold\"+f'{fold:0>2}', data_set+\".log\")), 'w') as outfile:\n",
    "        \n",
    "    configuration = (f\"\\ntest configuration equal gpu_id={gpu}, batch_size={batch_size}, model_arch={arch}\\n\"\n",
    "                     f\"Start testing dataset={data_set}, FOLD={fold} --{now}---------\")\n",
    "    print(configuration)\n",
    "#     tosave['time':now]\n",
    "#     outfile.write(configuration)\n",
    "    epoch_list=[]\n",
    "    avg_MAE=[]\n",
    "    for epoch in folder: \n",
    "        print(f\"entering epoch={epoch}\")\n",
    "        model=model_used\n",
    "        checkpoint = torch.load(os.path.join(snapshot_path+\"fold\"+f'{fold:0>2}', epoch))\n",
    "        saved_state_dict = checkpoint['model_state_dict']\n",
    "        model= nn.DataParallel(model,device_ids=[0])\n",
    "        model.load_state_dict(saved_state_dict)\n",
    "        model.cuda(gpu)\n",
    "        model.eval()\n",
    "        total = 0\n",
    "        idx_tensor = [idx for idx in range(35)]\n",
    "        idx_tensor = torch.FloatTensor(idx_tensor).cuda(gpu)\n",
    "        avg_error = .0\n",
    "        with torch.no_grad():\n",
    "            for j, (images, labels, cont_labels, name) in enumerate(test_loader):\n",
    "                images = Variable(images).cuda(gpu)\n",
    "                total += cont_labels.size(0)\n",
    "\n",
    "                label_pitch = cont_labels[:,0].float()*np.pi/180\n",
    "                label_yaw = cont_labels[:,1].float()*np.pi/180\n",
    "\n",
    "                gaze_pitch, gaze_yaw = model(images)\n",
    "\n",
    "                # Binned predictions\n",
    "                _, pitch_bpred = torch.max(gaze_pitch.data, 1)\n",
    "                _, yaw_bpred = torch.max(gaze_yaw.data, 1)\n",
    "\n",
    "                # Continuous predictions\n",
    "                pitch_predicted = softmax(gaze_pitch)\n",
    "                yaw_predicted = softmax(gaze_yaw)\n",
    "\n",
    "                # mapping from binned (0 to 28) to angels (-42 to 42)                \n",
    "                pitch_predicted = \\\n",
    "                    torch.sum(pitch_predicted * idx_tensor, 1).cpu() * 3 - 52\n",
    "                yaw_predicted = \\\n",
    "                    torch.sum(yaw_predicted * idx_tensor, 1).cpu() * 3 - 52\n",
    "\n",
    "                pitch_predicted = pitch_predicted*np.pi/180\n",
    "                yaw_predicted = yaw_predicted*np.pi/180\n",
    "\n",
    "                for p,y,pl,yl in zip(pitch_predicted, yaw_predicted, label_pitch, label_yaw):\n",
    "#                     pl, yl = yl, pl*(-1.0)\n",
    "#                     yl = yl*(-1.0)\n",
    "                    avg_error += angular(gazeto3d([p,y]), gazeto3d([pl,yl]))\n",
    "\n",
    "        x = ''.join(filter(lambda i: i.isdigit(), epoch))\n",
    "#             print(f\"x={x}\")\n",
    "        \n",
    "        epoch_list.append(x)\n",
    "        mean_mae = avg_error/total  #mean mae over the 3000 iamges\n",
    "        avg_MAE.append(mean_mae)  \n",
    "#             print(f\"total={total}\")\n",
    "        now = get_now()\n",
    "        loger = f\"[{epoch}---{args.dataset}] Total Num:{total},MAE:{mean_mae}  {now}\"\n",
    "#         outfile.write(loger)\n",
    "        print(loger)\n",
    "#             print(f\"done epoch={epochs}\")\n",
    "        epochn = int(x)\n",
    "#         wandb.log({'epoch':epochn,'total':total, 'MAE':mean_mae, 'FOLD':fold })\n",
    "#         tosave ={'epoch':epochn,'total':total, 'MAE':mean_mae, 'FOLD':fold }\n",
    "        epoch_values.append(epochn)\n",
    "        mae_values.append(mean_mae)\n",
    "# #         wandb.log(tosave)\n",
    "        wandb.log({'epoch': epoch, f'try3-fold_{fold}_mean_mae':mean_mae}, step=epochn)\n",
    "       \n",
    "    all_MAE.append(avg_MAE)\n",
    "    wandb.finish()\n"
   ]
  },
  {
   "cell_type": "code",
   "execution_count": 8,
   "id": "065622ef",
   "metadata": {},
   "outputs": [],
   "source": [
    "all_MAE=np.array(all_MAE)"
   ]
  },
  {
   "cell_type": "code",
   "execution_count": 9,
   "id": "0872f6ce",
   "metadata": {},
   "outputs": [
    {
     "name": "stdout",
     "output_type": "stream",
     "text": [
      "(15, 60)\n",
      "[4.81880487 4.69118491 4.11383053 4.03649961 3.89616644 3.87613096\n",
      " 3.94570945 3.81186192 3.85713687 3.71216374 3.76881481 3.64245926\n",
      " 3.65383478 3.79200469 3.69814821 3.62933359 3.70801662 3.69448166\n",
      " 3.53346677 3.55119761 3.65790676 3.58120133 3.50860357 3.52823219\n",
      " 3.58579835 3.57960182 3.53693097 3.53672028 3.43278221 3.51364319\n",
      " 3.49786601 3.5206922  3.52319256 3.51351972 3.45114714 3.40153434\n",
      " 3.46121521 3.48872513 3.47354852 3.42887746 3.44622823 3.51999128\n",
      " 3.49112465 3.45206495 3.5177644  3.40166839 3.41582431 3.47636724\n",
      " 3.40821762 3.41279156 3.41774048 3.49303854 3.4473493  3.43831504\n",
      " 3.39192038 3.49801706 3.38509793 3.40481096 3.43350378 3.44644004]\n",
      "[3.41232638 2.95489953 3.48352727 3.96510368 3.60943806 2.90813912\n",
      " 3.69751067 3.40068128 5.06698743 5.06012454 3.35478976 2.83759362\n",
      " 3.85699563 2.80234767 3.72735097]\n",
      "57 3.3850979336223492\n"
     ]
    }
   ],
   "source": [
    "\n",
    "print(all_MAE.shape)\n",
    "print(all_MAE.mean(axis=0))\n",
    "print(all_MAE.mean(axis=1))\n",
    "print(all_MAE.mean(axis=0).argmin()+1 ,all_MAE.mean(axis=0).min())"
   ]
  },
  {
   "cell_type": "code",
   "execution_count": 10,
   "id": "e80e9406",
   "metadata": {},
   "outputs": [
    {
     "name": "stdout",
     "output_type": "stream",
     "text": [
      "57 3.3850979336223492 (60,)\n"
     ]
    }
   ],
   "source": [
    "best_epoch = all_MAE.mean(axis=0).argmin()+1\n",
    "min_error = all_MAE.mean(axis=0).min()\n",
    "mean_errors = all_MAE.mean(axis=0)\n",
    "print(best_epoch,min_error, mean_errors.shape )"
   ]
  },
  {
   "cell_type": "code",
   "execution_count": 11,
   "id": "2f3e55ad",
   "metadata": {},
   "outputs": [
    {
     "data": {
      "text/html": [
       "wandb version 0.12.19 is available!  To upgrade, please run:\n",
       " $ pip install wandb --upgrade"
      ],
      "text/plain": [
       "<IPython.core.display.HTML object>"
      ]
     },
     "metadata": {},
     "output_type": "display_data"
    },
    {
     "data": {
      "text/html": [
       "Tracking run with wandb version 0.12.15"
      ],
      "text/plain": [
       "<IPython.core.display.HTML object>"
      ]
     },
     "metadata": {},
     "output_type": "display_data"
    },
    {
     "data": {
      "text/html": [
       "Run data is saved locally in <code>/project/notebooks/wandb/run-20220627_222336-1sfjrqfa</code>"
      ],
      "text/plain": [
       "<IPython.core.display.HTML object>"
      ]
     },
     "metadata": {},
     "output_type": "display_data"
    },
    {
     "data": {
      "text/html": [
       "Syncing run <strong><a href=\"https://wandb.ai/synthesis-ai/52_syn_mode_syn_data/runs/1sfjrqfa\" target=\"_blank\">charmed-snowflake-48</a></strong> to <a href=\"https://wandb.ai/synthesis-ai/52_syn_mode_syn_data\" target=\"_blank\">Weights & Biases</a> (<a href=\"https://wandb.me/run\" target=\"_blank\">docs</a>)<br/>"
      ],
      "text/plain": [
       "<IPython.core.display.HTML object>"
      ]
     },
     "metadata": {},
     "output_type": "display_data"
    },
    {
     "data": {
      "text/html": [
       "Waiting for W&B process to finish... <strong style=\"color:green\">(success).</strong>"
      ],
      "text/plain": [
       "<IPython.core.display.HTML object>"
      ]
     },
     "metadata": {},
     "output_type": "display_data"
    },
    {
     "data": {
      "application/vnd.jupyter.widget-view+json": {
       "model_id": "",
       "version_major": 2,
       "version_minor": 0
      },
      "text/plain": [
       "VBox(children=(Label(value='0.001 MB of 0.001 MB uploaded (0.000 MB deduped)\\r'), FloatProgress(value=1.0, max…"
      ]
     },
     "metadata": {},
     "output_type": "display_data"
    },
    {
     "data": {
      "text/html": [
       "<style>\n",
       "    table.wandb td:nth-child(1) { padding: 0 10px; text-align: right }\n",
       "    .wandb-row { display: flex; flex-direction: row; flex-wrap: wrap; width: 100% }\n",
       "    .wandb-col { display: flex; flex-direction: column; flex-basis: 100%; flex: 1; padding: 10px; }\n",
       "    </style>\n",
       "<div class=\"wandb-row\"><div class=\"wandb-col\"><h3>Run history:</h3><br/><table class=\"wandb\"><tr><td>mean epoch error (degree)</td><td>█▇▄▃▄▃▃▃▂▃▂▃▂▂▂▂▂▂▂▁▂▂▂▁▁▁▁▁▁▁▁▁▁▁▁▁▁▂▁▁</td></tr></table><br/></div><div class=\"wandb-col\"><h3>Run summary:</h3><br/><table class=\"wandb\"><tr><td>mean epoch error (degree)</td><td>3.44644</td></tr><tr><td>minimum_error (degree)</td><td>3.3851</td></tr></table><br/></div></div>"
      ],
      "text/plain": [
       "<IPython.core.display.HTML object>"
      ]
     },
     "metadata": {},
     "output_type": "display_data"
    },
    {
     "data": {
      "text/html": [
       "Synced <strong style=\"color:#cdcd00\">charmed-snowflake-48</strong>: <a href=\"https://wandb.ai/synthesis-ai/52_syn_mode_syn_data/runs/1sfjrqfa\" target=\"_blank\">https://wandb.ai/synthesis-ai/52_syn_mode_syn_data/runs/1sfjrqfa</a><br/>Synced 4 W&B file(s), 0 media file(s), 0 artifact file(s) and 0 other file(s)"
      ],
      "text/plain": [
       "<IPython.core.display.HTML object>"
      ]
     },
     "metadata": {},
     "output_type": "display_data"
    },
    {
     "data": {
      "text/html": [
       "Find logs at: <code>./wandb/run-20220627_222336-1sfjrqfa/logs</code>"
      ],
      "text/plain": [
       "<IPython.core.display.HTML object>"
      ]
     },
     "metadata": {},
     "output_type": "display_data"
    }
   ],
   "source": [
    "xx = mean_errors\n",
    "min_error = 100\n",
    "with wandb.init(project=\"52_syn_mode_syn_data\") as run:\n",
    "    run.name = \"mean_error_per_epoch\"\n",
    "    for epoch in range(len(xx)):\n",
    "        err = xx[epoch]\n",
    "        if err < min_error:\n",
    "            min_error = err\n",
    "            run.summary[\"minimum_error (degree)\"] = min_error\n",
    "        run.log({f'mean epoch error (degree)':err}, step=epoch)\n",
    "        "
   ]
  },
  {
   "cell_type": "code",
   "execution_count": 14,
   "id": "257cf58e",
   "metadata": {},
   "outputs": [],
   "source": [
    "save_file = Path(snapshot_path).parent/\"syn_syn_all_MAE.npy\"\n",
    "with open(save_file, 'wb') as f:\n",
    "    np.save(f, all_MAE)"
   ]
  },
  {
   "cell_type": "code",
   "execution_count": 16,
   "id": "d349bfa9",
   "metadata": {},
   "outputs": [
    {
     "name": "stdout",
     "output_type": "stream",
     "text": [
      "0 34 2.8175722511793686\n",
      "1 60 2.733735111049329\n",
      "2 36 3.000589953114087\n",
      "3 59 3.617358918954061\n",
      "4 57 3.2385842677050265\n",
      "5 36 2.4332355778628934\n",
      "6 49 3.297719393598437\n",
      "7 41 3.0766720905331026\n",
      "8 29 4.814923114864992\n",
      "9 32 4.782696547997513\n",
      "10 30 2.9867269395008074\n",
      "11 39 2.4511471773270643\n",
      "12 8 3.1771322107325326\n",
      "13 51 2.5392931078252388\n",
      "14 10 3.189168878736072\n"
     ]
    }
   ],
   "source": [
    "for idx, fdata in enumerate(all_MAE):\n",
    "    print(idx, np.argmin(fdata)+1, fdata.min())"
   ]
  }
 ],
 "metadata": {
  "kernelspec": {
   "display_name": "Python 3 (ipykernel)",
   "language": "python",
   "name": "python3"
  },
  "language_info": {
   "codemirror_mode": {
    "name": "ipython",
    "version": 3
   },
   "file_extension": ".py",
   "mimetype": "text/x-python",
   "name": "python",
   "nbconvert_exporter": "python",
   "pygments_lexer": "ipython3",
   "version": "3.8.10"
  }
 },
 "nbformat": 4,
 "nbformat_minor": 5
}
