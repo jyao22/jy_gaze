{
 "cells": [
  {
   "cell_type": "code",
   "execution_count": 14,
   "id": "ce8eebe3",
   "metadata": {},
   "outputs": [],
   "source": [
    "import os\n",
    "import sys\n",
    "import numpy as np\n",
    "from PIL import Image\n",
    "import arrow\n",
    "import time\n",
    "from pathlib import Path"
   ]
  },
  {
   "cell_type": "code",
   "execution_count": 4,
   "id": "b5f9192b",
   "metadata": {},
   "outputs": [],
   "source": [
    "p = Path(r'C:\\Users\\akrio\\Desktop\\Test').glob('**/*')\n",
    "files = [x for x in p if x.is_file()]"
   ]
  },
  {
   "cell_type": "code",
   "execution_count": 5,
   "id": "3ebb5040",
   "metadata": {},
   "outputs": [],
   "source": [
    "dpath = Path('/Users/jyao/JIAN/work/SAI/projects/2022/Synthesize_gaze_data/seventy5k/download/')"
   ]
  },
  {
   "cell_type": "code",
   "execution_count": 18,
   "id": "8f09dba1",
   "metadata": {},
   "outputs": [
    {
     "name": "stdout",
     "output_type": "stream",
     "text": [
      "0 fold00\n",
      "1 fold01\n",
      "2 fold02\n",
      "3 fold03\n",
      "4 fold04\n",
      "5 fold05\n",
      "6 fold06\n",
      "7 fold07\n",
      "8 fold08\n",
      "9 fold09\n",
      "10 fold10\n",
      "11 fold11\n",
      "12 fold12\n",
      "13 fold13\n",
      "14 fold14\n"
     ]
    }
   ],
   "source": [
    "for fold in range(15):\n",
    "    foldstr = f'fold{fold:0>2}'\n",
    "    print(fold, foldstr)"
   ]
  },
  {
   "cell_type": "code",
   "execution_count": 21,
   "id": "6cfe0f24",
   "metadata": {},
   "outputs": [
    {
     "name": "stdout",
     "output_type": "stream",
     "text": [
      "0 fold00 3000 3000\n",
      "1 fold01 3000 3000\n",
      "2 fold02 3000 3000\n",
      "3 fold03 3000 3000\n",
      "4 fold04 3000 3000\n",
      "5 fold05 3000 3000\n",
      "6 fold06 3000 3000\n",
      "7 fold07 3000 3000\n",
      "8 fold08 3000 3000\n",
      "9 fold09 3000 3000\n",
      "10 fold10 3000 3000\n",
      "11 fold11 3000 3000\n",
      "12 fold12 3000 3000\n",
      "13 fold13 3000 3000\n",
      "14 fold14 3000 3000\n"
     ]
    }
   ],
   "source": [
    "for fold in range(15):\n",
    "    foldstr = f'fold{fold:0>2}'\n",
    "    pth = dpath/foldstr\n",
    "    jfiles = pth.glob('*.json')\n",
    "    mfiles = pth.glob('*.png')\n",
    "    \n",
    "#     print(fold, foldstr, pth)\n",
    "    print(fold, foldstr, len(list(jfiles)),len(list(mfiles) ))\n",
    "    time.sleep(1)"
   ]
  }
 ],
 "metadata": {
  "kernelspec": {
   "display_name": "Python 3 (ipykernel)",
   "language": "python",
   "name": "python3"
  },
  "language_info": {
   "codemirror_mode": {
    "name": "ipython",
    "version": 3
   },
   "file_extension": ".py",
   "mimetype": "text/x-python",
   "name": "python",
   "nbconvert_exporter": "python",
   "pygments_lexer": "ipython3",
   "version": "3.9.7"
  }
 },
 "nbformat": 4,
 "nbformat_minor": 5
}
