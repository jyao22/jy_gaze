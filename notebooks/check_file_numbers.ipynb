{
 "cells": [
  {
   "cell_type": "code",
   "execution_count": 6,
   "id": "ce8eebe3",
   "metadata": {},
   "outputs": [],
   "source": [
    "import os\n",
    "import sys\n",
    "import numpy as np\n",
    "from PIL import Image\n",
    "# import arrow\n",
    "import time\n",
    "from pathlib import Path"
   ]
  },
  {
   "cell_type": "code",
   "execution_count": 7,
   "id": "3ebb5040",
   "metadata": {},
   "outputs": [],
   "source": [
    "dpath = Path('/project/data/sdata/Image/face')"
   ]
  },
  {
   "cell_type": "code",
   "execution_count": 8,
   "id": "8f09dba1",
   "metadata": {},
   "outputs": [
    {
     "name": "stdout",
     "output_type": "stream",
     "text": [
      "0 fold00\n",
      "1 fold01\n",
      "2 fold02\n",
      "3 fold03\n",
      "4 fold04\n",
      "5 fold05\n",
      "6 fold06\n",
      "7 fold07\n",
      "8 fold08\n",
      "9 fold09\n",
      "10 fold10\n",
      "11 fold11\n",
      "12 fold12\n",
      "13 fold13\n",
      "14 fold14\n"
     ]
    }
   ],
   "source": [
    "for fold in range(15):\n",
    "    foldstr = f'fold{fold:0>2}'\n",
    "    print(fold, foldstr)"
   ]
  },
  {
   "cell_type": "code",
   "execution_count": 9,
   "id": "6cfe0f24",
   "metadata": {},
   "outputs": [
    {
     "name": "stdout",
     "output_type": "stream",
     "text": [
      "0 fold00 0 3000\n",
      "1 fold01 0 3000\n",
      "2 fold02 0 3000\n",
      "3 fold03 0 3000\n",
      "4 fold04 0 3000\n",
      "5 fold05 0 3000\n",
      "6 fold06 0 3000\n",
      "7 fold07 0 3000\n",
      "8 fold08 0 3000\n",
      "9 fold09 0 3000\n",
      "10 fold10 0 3000\n",
      "11 fold11 0 3000\n",
      "12 fold12 0 3000\n",
      "13 fold13 0 3000\n",
      "14 fold14 0 3000\n"
     ]
    }
   ],
   "source": [
    "for fold in range(15):\n",
    "    foldstr = f'fold{fold:0>2}'\n",
    "    pth = dpath/foldstr\n",
    "    jfiles = pth.glob('*.json')\n",
    "    mfiles = pth.glob('*.jpeg')\n",
    "    \n",
    "#     print(fold, foldstr, pth)\n",
    "    print(fold, foldstr, len(list(jfiles)),len(list(mfiles) ))\n",
    "#     time.sleep()"
   ]
  },
  {
   "cell_type": "code",
   "execution_count": 10,
   "id": "bf473255",
   "metadata": {},
   "outputs": [],
   "source": [
    "import pkg_resources"
   ]
  }
 ],
 "metadata": {
  "kernelspec": {
   "display_name": "Python 3 (ipykernel)",
   "language": "python",
   "name": "python3"
  },
  "language_info": {
   "codemirror_mode": {
    "name": "ipython",
    "version": 3
   },
   "file_extension": ".py",
   "mimetype": "text/x-python",
   "name": "python",
   "nbconvert_exporter": "python",
   "pygments_lexer": "ipython3",
   "version": "3.8.10"
  }
 },
 "nbformat": 4,
 "nbformat_minor": 5
}
