{
 "cells": [
  {
   "cell_type": "code",
   "execution_count": 1,
   "id": "8c268e07",
   "metadata": {},
   "outputs": [],
   "source": [
    "import os\n",
    "import sys\n",
    "import argparse\n",
    "import time\n",
    "\n",
    "import torch.utils.model_zoo as model_zoo\n",
    "import torch\n",
    "import torch.nn as nn\n",
    "from torch.autograd import Variable\n",
    "from torch.utils.data import DataLoader\n",
    "from torchvision import transforms\n",
    "import torch.backends.cudnn as cudnn\n",
    "import torchvision\n",
    "import wandb\n",
    "\n",
    "import datasets\n",
    "from model import L2CS\n",
    "from utils import select_device"
   ]
  },
  {
   "cell_type": "code",
   "execution_count": 2,
   "id": "3b78d2ff",
   "metadata": {},
   "outputs": [
    {
     "name": "stdout",
     "output_type": "stream",
     "text": [
      "Wed Jun 22 06:02:49 2022       \n",
      "+-----------------------------------------------------------------------------+\n",
      "| NVIDIA-SMI 470.57.02    Driver Version: 470.57.02    CUDA Version: 11.4     |\n",
      "|-------------------------------+----------------------+----------------------+\n",
      "| GPU  Name        Persistence-M| Bus-Id        Disp.A | Volatile Uncorr. ECC |\n",
      "| Fan  Temp  Perf  Pwr:Usage/Cap|         Memory-Usage | GPU-Util  Compute M. |\n",
      "|                               |                      |               MIG M. |\n",
      "|===============================+======================+======================|\n",
      "|   0  Tesla V100-SXM2...  On   | 00000000:00:1B.0 Off |                    0 |\n",
      "| N/A   48C    P0    37W / 300W |      0MiB / 16160MiB |      0%      Default |\n",
      "|                               |                      |                  N/A |\n",
      "+-------------------------------+----------------------+----------------------+\n",
      "|   1  Tesla V100-SXM2...  On   | 00000000:00:1C.0 Off |                    0 |\n",
      "| N/A   46C    P0    38W / 300W |      0MiB / 16160MiB |      0%      Default |\n",
      "|                               |                      |                  N/A |\n",
      "+-------------------------------+----------------------+----------------------+\n",
      "|   2  Tesla V100-SXM2...  On   | 00000000:00:1D.0 Off |                    0 |\n",
      "| N/A   46C    P0    42W / 300W |      0MiB / 16160MiB |      0%      Default |\n",
      "|                               |                      |                  N/A |\n",
      "+-------------------------------+----------------------+----------------------+\n",
      "|   3  Tesla V100-SXM2...  On   | 00000000:00:1E.0 Off |                    0 |\n",
      "| N/A   50C    P0    42W / 300W |      0MiB / 16160MiB |      0%      Default |\n",
      "|                               |                      |                  N/A |\n",
      "+-------------------------------+----------------------+----------------------+\n",
      "                                                                               \n",
      "+-----------------------------------------------------------------------------+\n",
      "| Processes:                                                                  |\n",
      "|  GPU   GI   CI        PID   Type   Process name                  GPU Memory |\n",
      "|        ID   ID                                                   Usage      |\n",
      "|=============================================================================|\n",
      "|  No running processes found                                                 |\n",
      "+-----------------------------------------------------------------------------+\n"
     ]
    }
   ],
   "source": [
    "!nvidia-smi"
   ]
  },
  {
   "cell_type": "code",
   "execution_count": 3,
   "id": "11bac42c",
   "metadata": {},
   "outputs": [
    {
     "name": "stdout",
     "output_type": "stream",
     "text": [
      "Image  Label\r\n"
     ]
    }
   ],
   "source": [
    "!ls ../data/adata"
   ]
  },
  {
   "cell_type": "code",
   "execution_count": 4,
   "id": "68d997c2",
   "metadata": {},
   "outputs": [
    {
     "name": "stdout",
     "output_type": "stream",
     "text": [
      "p00.label  p03.label  p06.label  p09.label  p12.label\r\n",
      "p01.label  p04.label  p07.label  p10.label  p13.label\r\n",
      "p02.label  p05.label  p08.label  p11.label  p14.label\r\n"
     ]
    }
   ],
   "source": [
    "!ls /project/data/adata/Label"
   ]
  },
  {
   "cell_type": "code",
   "execution_count": 5,
   "id": "e7f8116e",
   "metadata": {},
   "outputs": [
    {
     "name": "stdout",
     "output_type": "stream",
     "text": [
      "fold00\tfold02\tfold04\tfold06\tfold08\tfold10\tfold12\tfold14\r\n",
      "fold01\tfold03\tfold05\tfold07\tfold09\tfold11\tfold13\r\n"
     ]
    }
   ],
   "source": [
    "!ls /project/data/adata/Image/face"
   ]
  },
  {
   "cell_type": "code",
   "execution_count": null,
   "id": "963cb35a",
   "metadata": {},
   "outputs": [],
   "source": []
  },
  {
   "cell_type": "code",
   "execution_count": 6,
   "id": "1fff063b",
   "metadata": {},
   "outputs": [],
   "source": [
    "args=argparse.Namespace()\n",
    "args.gazeMpiimage_dir = '/project/data/adata/Image'\n",
    "args.gazeMpiilabel_dir = '/project/data/adata/Label'\n",
    "args.output = '/project/results/aoutput/snapshots/'\n",
    "args.dataset = 'mpiigaze'\n",
    "args.snapshot=''\n",
    "args.gpu_id = '0,1,2,3'\n",
    "args.num_epochs = 60\n",
    "args.batch_size = 100\n",
    "args.arch = 'ResNet50'\n",
    "args.alpha = 1.0\n",
    "args.lr = 0.00001\n",
    "\n"
   ]
  },
  {
   "cell_type": "code",
   "execution_count": 7,
   "id": "1aec867d",
   "metadata": {},
   "outputs": [],
   "source": [
    "def get_ignored_params(model):\n",
    "    # Generator function that yields ignored params.\n",
    "    b = [model.conv1, model.bn1, model.fc_finetune]\n",
    "    for i in range(len(b)):\n",
    "        for module_name, module in b[i].named_modules():\n",
    "            if 'bn' in module_name:\n",
    "                module.eval()\n",
    "            for name, param in module.named_parameters():\n",
    "                yield param\n",
    "\n",
    "def get_non_ignored_params(model):\n",
    "    # Generator function that yields params that will be optimized.\n",
    "    b = [model.layer1, model.layer2, model.layer3, model.layer4]\n",
    "    for i in range(len(b)):\n",
    "        for module_name, module in b[i].named_modules():\n",
    "            if 'bn' in module_name:\n",
    "                module.eval()\n",
    "            for name, param in module.named_parameters():\n",
    "                yield param\n",
    "\n",
    "def get_fc_params(model):\n",
    "    # Generator function that yields fc layer params.\n",
    "    b = [model.fc_yaw_gaze, model.fc_pitch_gaze]\n",
    "    for i in range(len(b)):\n",
    "        for module_name, module in b[i].named_modules():\n",
    "            for name, param in module.named_parameters():\n",
    "                yield param\n",
    "                \n",
    "def load_filtered_state_dict(model, snapshot):\n",
    "    # By user apaszke from discuss.pytorch.org\n",
    "    model_dict = model.state_dict()\n",
    "    snapshot = {k: v for k, v in snapshot.items() if k in model_dict}\n",
    "    model_dict.update(snapshot)\n",
    "    model.load_state_dict(model_dict)\n",
    "\n",
    "\n",
    "def getArch_weights(arch, bins):\n",
    "    if arch == 'ResNet18':\n",
    "        model = L2CS(torchvision.models.resnet.BasicBlock, [2, 2, 2, 2], bins)\n",
    "        pre_url = 'https://download.pytorch.org/models/resnet18-5c106cde.pth'\n",
    "    elif arch == 'ResNet34':\n",
    "        model = L2CS(torchvision.models.resnet.BasicBlock, [3, 4, 6, 3], bins)\n",
    "        pre_url = 'https://download.pytorch.org/models/resnet34-333f7ec4.pth'\n",
    "    elif arch == 'ResNet101':\n",
    "        model = L2CS(torchvision.models.resnet.Bottleneck, [3, 4, 23, 3], bins)\n",
    "        pre_url = 'https://download.pytorch.org/models/resnet101-5d3b4d8f.pth'\n",
    "    elif arch == 'ResNet152':\n",
    "        model = L2CS(torchvision.models.resnet.Bottleneck,[3, 8, 36, 3], bins)\n",
    "        pre_url = 'https://download.pytorch.org/models/resnet152-b121ed2d.pth'\n",
    "    else:\n",
    "        if arch != 'ResNet50':\n",
    "            print('Invalid value for architecture is passed! '\n",
    "                  'The default value of ResNet50 will be used instead!')\n",
    "        model = L2CS(torchvision.models.resnet.Bottleneck, [3, 4, 6, 3], bins)\n",
    "        pre_url = 'https://download.pytorch.org/models/resnet50-19c8e357.pth'\n",
    "\n",
    "    return model, pre_url"
   ]
  },
  {
   "cell_type": "code",
   "execution_count": 8,
   "id": "c1ec3e99",
   "metadata": {},
   "outputs": [],
   "source": [
    "# args = parse_args()\n",
    "cudnn.enabled = True\n",
    "num_epochs = args.num_epochs\n",
    "batch_size = args.batch_size"
   ]
  },
  {
   "cell_type": "code",
   "execution_count": 9,
   "id": "ab31dc88",
   "metadata": {},
   "outputs": [
    {
     "name": "stdout",
     "output_type": "stream",
     "text": [
      "cuda:0\n"
     ]
    }
   ],
   "source": [
    "gpu = select_device(args.gpu_id, batch_size=args.batch_size)\n",
    "print(gpu)"
   ]
  },
  {
   "cell_type": "code",
   "execution_count": 10,
   "id": "8b3beb47",
   "metadata": {},
   "outputs": [],
   "source": [
    "data_set=args.dataset\n",
    "alpha = args.alpha\n",
    "output=args.output\n",
    "\n",
    "transformations = transforms.Compose([\n",
    "    transforms.Resize(448),\n",
    "    transforms.ToTensor(),\n",
    "    transforms.Normalize(\n",
    "        mean=[0.485, 0.456, 0.406],\n",
    "        std=[0.229, 0.224, 0.225]\n",
    "    )\n",
    "])"
   ]
  },
  {
   "cell_type": "code",
   "execution_count": null,
   "id": "ea0d4999",
   "metadata": {
    "scrolled": true
   },
   "outputs": [
    {
     "name": "stderr",
     "output_type": "stream",
     "text": [
      "\u001b[34m\u001b[1mwandb\u001b[0m: Currently logged in as: \u001b[33msynthesis-ai\u001b[0m (use `wandb login --relogin` to force relogin)\n"
     ]
    },
    {
     "data": {
      "text/html": [
       "wandb version 0.12.18 is available!  To upgrade, please run:\n",
       " $ pip install wandb --upgrade"
      ],
      "text/plain": [
       "<IPython.core.display.HTML object>"
      ]
     },
     "metadata": {},
     "output_type": "display_data"
    },
    {
     "data": {
      "text/html": [
       "Tracking run with wandb version 0.12.15"
      ],
      "text/plain": [
       "<IPython.core.display.HTML object>"
      ]
     },
     "metadata": {},
     "output_type": "display_data"
    },
    {
     "data": {
      "text/html": [
       "Run data is saved locally in <code>/project/notebooks/wandb/run-20220622_060253-1imsrwf2</code>"
      ],
      "text/plain": [
       "<IPython.core.display.HTML object>"
      ]
     },
     "metadata": {},
     "output_type": "display_data"
    },
    {
     "data": {
      "text/html": [
       "Syncing run <strong><a href=\"https://wandb.ai/synthesis-ai/adata_training/runs/1imsrwf2\" target=\"_blank\">grateful-snowflake-3</a></strong> to <a href=\"https://wandb.ai/synthesis-ai/adata_training\" target=\"_blank\">Weights & Biases</a> (<a href=\"https://wandb.me/run\" target=\"_blank\">docs</a>)<br/>"
      ],
      "text/plain": [
       "<IPython.core.display.HTML object>"
      ]
     },
     "metadata": {},
     "output_type": "display_data"
    },
    {
     "name": "stdout",
     "output_type": "stream",
     "text": [
      "0 Conv2d(3, 64, kernel_size=(7, 7), stride=(2, 2), padding=(3, 3), bias=False)\n",
      "Loading data.\n",
      "0 items removed from dataset that have an angle > 180\n",
      "fold_path is /project/results/aoutput/snapshots/fold00/\n"
     ]
    },
    {
     "name": "stderr",
     "output_type": "stream",
     "text": [
      "/usr/local/lib/python3.8/dist-packages/torch/optim/adam.py:81: UserWarning: optimizer contains a parameter group with duplicate parameters; in future, this will cause an error; see github.com/pytorch/pytorch/issues/40967 for more information\n",
      "  super(Adam, self).__init__(params, defaults)\n"
     ]
    },
    {
     "name": "stdout",
     "output_type": "stream",
     "text": [
      "fold_path is still? /project/results/aoutput/snapshots/fold00/\n",
      "/project/results/aoutput/snapshots/fold00/epoch_1.pkl\n",
      "Taking snapshot...\n",
      "fold_path is still? /project/results/aoutput/snapshots/fold00/\n",
      "/project/results/aoutput/snapshots/fold00/epoch_2.pkl\n",
      "Taking snapshot...\n",
      "fold_path is still? /project/results/aoutput/snapshots/fold00/\n",
      "/project/results/aoutput/snapshots/fold00/epoch_3.pkl\n",
      "Taking snapshot...\n",
      "fold_path is still? /project/results/aoutput/snapshots/fold00/\n",
      "/project/results/aoutput/snapshots/fold00/epoch_4.pkl\n",
      "Taking snapshot...\n",
      "fold_path is still? /project/results/aoutput/snapshots/fold00/\n",
      "/project/results/aoutput/snapshots/fold00/epoch_5.pkl\n",
      "Taking snapshot...\n",
      "fold_path is still? /project/results/aoutput/snapshots/fold00/\n",
      "/project/results/aoutput/snapshots/fold00/epoch_6.pkl\n",
      "Taking snapshot...\n",
      "fold_path is still? /project/results/aoutput/snapshots/fold00/\n",
      "/project/results/aoutput/snapshots/fold00/epoch_7.pkl\n",
      "Taking snapshot...\n",
      "fold_path is still? /project/results/aoutput/snapshots/fold00/\n",
      "/project/results/aoutput/snapshots/fold00/epoch_8.pkl\n",
      "Taking snapshot...\n",
      "fold_path is still? /project/results/aoutput/snapshots/fold00/\n",
      "/project/results/aoutput/snapshots/fold00/epoch_9.pkl\n",
      "Taking snapshot...\n",
      "fold_path is still? /project/results/aoutput/snapshots/fold00/\n",
      "/project/results/aoutput/snapshots/fold00/epoch_10.pkl\n",
      "Taking snapshot...\n",
      "fold_path is still? /project/results/aoutput/snapshots/fold00/\n",
      "/project/results/aoutput/snapshots/fold00/epoch_11.pkl\n",
      "Taking snapshot...\n",
      "fold_path is still? /project/results/aoutput/snapshots/fold00/\n",
      "/project/results/aoutput/snapshots/fold00/epoch_12.pkl\n",
      "Taking snapshot...\n",
      "fold_path is still? /project/results/aoutput/snapshots/fold00/\n",
      "/project/results/aoutput/snapshots/fold00/epoch_13.pkl\n",
      "Taking snapshot...\n",
      "fold_path is still? /project/results/aoutput/snapshots/fold00/\n",
      "/project/results/aoutput/snapshots/fold00/epoch_14.pkl\n",
      "Taking snapshot...\n",
      "fold_path is still? /project/results/aoutput/snapshots/fold00/\n",
      "/project/results/aoutput/snapshots/fold00/epoch_15.pkl\n",
      "Taking snapshot...\n",
      "fold_path is still? /project/results/aoutput/snapshots/fold00/\n",
      "/project/results/aoutput/snapshots/fold00/epoch_16.pkl\n",
      "Taking snapshot...\n",
      "fold_path is still? /project/results/aoutput/snapshots/fold00/\n",
      "/project/results/aoutput/snapshots/fold00/epoch_17.pkl\n",
      "Taking snapshot...\n",
      "fold_path is still? /project/results/aoutput/snapshots/fold00/\n",
      "/project/results/aoutput/snapshots/fold00/epoch_18.pkl\n",
      "Taking snapshot...\n",
      "fold_path is still? /project/results/aoutput/snapshots/fold00/\n",
      "/project/results/aoutput/snapshots/fold00/epoch_20.pkl\n",
      "Taking snapshot...\n",
      "fold_path is still? /project/results/aoutput/snapshots/fold00/\n",
      "/project/results/aoutput/snapshots/fold00/epoch_21.pkl\n",
      "Taking snapshot...\n",
      "fold_path is still? /project/results/aoutput/snapshots/fold00/\n",
      "/project/results/aoutput/snapshots/fold00/epoch_22.pkl\n",
      "Taking snapshot...\n",
      "fold_path is still? /project/results/aoutput/snapshots/fold00/\n",
      "/project/results/aoutput/snapshots/fold00/epoch_23.pkl\n",
      "Taking snapshot...\n",
      "fold_path is still? /project/results/aoutput/snapshots/fold00/\n",
      "/project/results/aoutput/snapshots/fold00/epoch_24.pkl\n",
      "Taking snapshot...\n",
      "fold_path is still? /project/results/aoutput/snapshots/fold00/\n",
      "/project/results/aoutput/snapshots/fold00/epoch_25.pkl\n",
      "Taking snapshot...\n",
      "fold_path is still? /project/results/aoutput/snapshots/fold00/\n",
      "/project/results/aoutput/snapshots/fold00/epoch_26.pkl\n",
      "Taking snapshot...\n",
      "fold_path is still? /project/results/aoutput/snapshots/fold00/\n",
      "/project/results/aoutput/snapshots/fold00/epoch_27.pkl\n",
      "Taking snapshot...\n",
      "fold_path is still? /project/results/aoutput/snapshots/fold00/\n",
      "/project/results/aoutput/snapshots/fold00/epoch_28.pkl\n",
      "Taking snapshot...\n",
      "fold_path is still? /project/results/aoutput/snapshots/fold00/\n",
      "/project/results/aoutput/snapshots/fold00/epoch_29.pkl\n",
      "Taking snapshot...\n",
      "fold_path is still? /project/results/aoutput/snapshots/fold00/\n",
      "/project/results/aoutput/snapshots/fold00/epoch_30.pkl\n",
      "Taking snapshot...\n",
      "fold_path is still? /project/results/aoutput/snapshots/fold00/\n",
      "/project/results/aoutput/snapshots/fold00/epoch_31.pkl\n",
      "Taking snapshot...\n",
      "fold_path is still? /project/results/aoutput/snapshots/fold00/\n",
      "/project/results/aoutput/snapshots/fold00/epoch_32.pkl\n",
      "Taking snapshot...\n",
      "fold_path is still? /project/results/aoutput/snapshots/fold00/\n",
      "/project/results/aoutput/snapshots/fold00/epoch_33.pkl\n",
      "Taking snapshot...\n",
      "fold_path is still? /project/results/aoutput/snapshots/fold00/\n",
      "/project/results/aoutput/snapshots/fold00/epoch_34.pkl\n",
      "Taking snapshot...\n",
      "fold_path is still? /project/results/aoutput/snapshots/fold00/\n",
      "/project/results/aoutput/snapshots/fold00/epoch_35.pkl\n",
      "Taking snapshot...\n",
      "fold_path is still? /project/results/aoutput/snapshots/fold00/\n",
      "/project/results/aoutput/snapshots/fold00/epoch_36.pkl\n",
      "Taking snapshot...\n",
      "fold_path is still? /project/results/aoutput/snapshots/fold00/\n",
      "/project/results/aoutput/snapshots/fold00/epoch_37.pkl\n",
      "Taking snapshot...\n",
      "fold_path is still? /project/results/aoutput/snapshots/fold00/\n",
      "/project/results/aoutput/snapshots/fold00/epoch_38.pkl\n",
      "Taking snapshot...\n",
      "fold_path is still? /project/results/aoutput/snapshots/fold00/\n",
      "/project/results/aoutput/snapshots/fold00/epoch_39.pkl\n",
      "Taking snapshot...\n",
      "fold_path is still? /project/results/aoutput/snapshots/fold00/\n",
      "/project/results/aoutput/snapshots/fold00/epoch_40.pkl\n",
      "Taking snapshot...\n",
      "fold_path is still? /project/results/aoutput/snapshots/fold00/\n",
      "/project/results/aoutput/snapshots/fold00/epoch_41.pkl\n",
      "Taking snapshot...\n",
      "fold_path is still? /project/results/aoutput/snapshots/fold00/\n",
      "/project/results/aoutput/snapshots/fold00/epoch_42.pkl\n",
      "Taking snapshot...\n",
      "fold_path is still? /project/results/aoutput/snapshots/fold00/\n",
      "/project/results/aoutput/snapshots/fold00/epoch_43.pkl\n",
      "Taking snapshot...\n",
      "fold_path is still? /project/results/aoutput/snapshots/fold00/\n",
      "/project/results/aoutput/snapshots/fold00/epoch_44.pkl\n",
      "Taking snapshot...\n",
      "fold_path is still? /project/results/aoutput/snapshots/fold00/\n",
      "/project/results/aoutput/snapshots/fold00/epoch_45.pkl\n",
      "Taking snapshot...\n",
      "fold_path is still? /project/results/aoutput/snapshots/fold00/\n",
      "/project/results/aoutput/snapshots/fold00/epoch_46.pkl\n",
      "Taking snapshot...\n",
      "fold_path is still? /project/results/aoutput/snapshots/fold00/\n",
      "/project/results/aoutput/snapshots/fold00/epoch_47.pkl\n",
      "Taking snapshot...\n",
      "fold_path is still? /project/results/aoutput/snapshots/fold00/\n",
      "/project/results/aoutput/snapshots/fold00/epoch_48.pkl\n",
      "Taking snapshot...\n",
      "fold_path is still? /project/results/aoutput/snapshots/fold00/\n",
      "/project/results/aoutput/snapshots/fold00/epoch_49.pkl\n",
      "Taking snapshot...\n",
      "fold_path is still? /project/results/aoutput/snapshots/fold00/\n",
      "/project/results/aoutput/snapshots/fold00/epoch_50.pkl\n",
      "Taking snapshot...\n",
      "fold_path is still? /project/results/aoutput/snapshots/fold00/\n",
      "/project/results/aoutput/snapshots/fold00/epoch_51.pkl\n",
      "Taking snapshot...\n",
      "fold_path is still? /project/results/aoutput/snapshots/fold00/\n",
      "/project/results/aoutput/snapshots/fold00/epoch_52.pkl\n",
      "Taking snapshot...\n",
      "fold_path is still? /project/results/aoutput/snapshots/fold00/\n",
      "/project/results/aoutput/snapshots/fold00/epoch_53.pkl\n",
      "Taking snapshot...\n",
      "fold_path is still? /project/results/aoutput/snapshots/fold00/\n",
      "/project/results/aoutput/snapshots/fold00/epoch_54.pkl\n",
      "Taking snapshot...\n",
      "fold_path is still? /project/results/aoutput/snapshots/fold00/\n",
      "/project/results/aoutput/snapshots/fold00/epoch_55.pkl\n",
      "Taking snapshot...\n",
      "fold_path is still? /project/results/aoutput/snapshots/fold00/\n",
      "/project/results/aoutput/snapshots/fold00/epoch_56.pkl\n",
      "Taking snapshot...\n",
      "fold_path is still? /project/results/aoutput/snapshots/fold00/\n",
      "/project/results/aoutput/snapshots/fold00/epoch_57.pkl\n",
      "Taking snapshot...\n",
      "fold_path is still? /project/results/aoutput/snapshots/fold00/\n",
      "/project/results/aoutput/snapshots/fold00/epoch_58.pkl\n",
      "Taking snapshot...\n",
      "fold_path is still? /project/results/aoutput/snapshots/fold00/\n",
      "/project/results/aoutput/snapshots/fold00/epoch_59.pkl\n",
      "Taking snapshot...\n",
      "fold_path is still? /project/results/aoutput/snapshots/fold00/\n",
      "/project/results/aoutput/snapshots/fold00/epoch_60.pkl\n",
      "Taking snapshot...\n"
     ]
    },
    {
     "data": {
      "text/html": [
       "Finishing last run (ID:1imsrwf2) before initializing another..."
      ],
      "text/plain": [
       "<IPython.core.display.HTML object>"
      ]
     },
     "metadata": {},
     "output_type": "display_data"
    },
    {
     "data": {
      "text/html": [
       "Waiting for W&B process to finish... <strong style=\"color:green\">(success).</strong>"
      ],
      "text/plain": [
       "<IPython.core.display.HTML object>"
      ]
     },
     "metadata": {},
     "output_type": "display_data"
    },
    {
     "data": {
      "application/vnd.jupyter.widget-view+json": {
       "model_id": "",
       "version_major": 2,
       "version_minor": 0
      },
      "text/plain": [
       "VBox(children=(Label(value='0.001 MB of 0.001 MB uploaded (0.000 MB deduped)\\r'), FloatProgress(value=1.0, max…"
      ]
     },
     "metadata": {},
     "output_type": "display_data"
    },
    {
     "data": {
      "text/html": [
       "Synced <strong style=\"color:#cdcd00\">grateful-snowflake-3</strong>: <a href=\"https://wandb.ai/synthesis-ai/adata_training/runs/1imsrwf2\" target=\"_blank\">https://wandb.ai/synthesis-ai/adata_training/runs/1imsrwf2</a><br/>Synced 5 W&B file(s), 0 media file(s), 0 artifact file(s) and 0 other file(s)"
      ],
      "text/plain": [
       "<IPython.core.display.HTML object>"
      ]
     },
     "metadata": {},
     "output_type": "display_data"
    },
    {
     "data": {
      "text/html": [
       "Find logs at: <code>./wandb/run-20220622_060253-1imsrwf2/logs</code>"
      ],
      "text/plain": [
       "<IPython.core.display.HTML object>"
      ]
     },
     "metadata": {},
     "output_type": "display_data"
    },
    {
     "data": {
      "text/html": [
       "Successfully finished last run (ID:1imsrwf2). Initializing new run:<br/>"
      ],
      "text/plain": [
       "<IPython.core.display.HTML object>"
      ]
     },
     "metadata": {},
     "output_type": "display_data"
    },
    {
     "data": {
      "text/html": [
       "wandb version 0.12.18 is available!  To upgrade, please run:\n",
       " $ pip install wandb --upgrade"
      ],
      "text/plain": [
       "<IPython.core.display.HTML object>"
      ]
     },
     "metadata": {},
     "output_type": "display_data"
    },
    {
     "data": {
      "text/html": [
       "Tracking run with wandb version 0.12.15"
      ],
      "text/plain": [
       "<IPython.core.display.HTML object>"
      ]
     },
     "metadata": {},
     "output_type": "display_data"
    },
    {
     "data": {
      "text/html": [
       "Run data is saved locally in <code>/project/notebooks/wandb/run-20220622_083621-z24wp3ec</code>"
      ],
      "text/plain": [
       "<IPython.core.display.HTML object>"
      ]
     },
     "metadata": {},
     "output_type": "display_data"
    },
    {
     "data": {
      "text/html": [
       "Syncing run <strong><a href=\"https://wandb.ai/synthesis-ai/adata_training/runs/z24wp3ec\" target=\"_blank\">still-pyramid-4</a></strong> to <a href=\"https://wandb.ai/synthesis-ai/adata_training\" target=\"_blank\">Weights & Biases</a> (<a href=\"https://wandb.me/run\" target=\"_blank\">docs</a>)<br/>"
      ],
      "text/plain": [
       "<IPython.core.display.HTML object>"
      ]
     },
     "metadata": {},
     "output_type": "display_data"
    },
    {
     "name": "stdout",
     "output_type": "stream",
     "text": [
      "1 Conv2d(3, 64, kernel_size=(7, 7), stride=(2, 2), padding=(3, 3), bias=False)\n",
      "Loading data.\n",
      "0 items removed from dataset that have an angle > 180\n",
      "fold_path is /project/results/aoutput/snapshots/fold01/\n",
      "fold_path is still? /project/results/aoutput/snapshots/fold01/\n",
      "/project/results/aoutput/snapshots/fold01/epoch_1.pkl\n",
      "Taking snapshot...\n",
      "fold_path is still? /project/results/aoutput/snapshots/fold01/\n",
      "/project/results/aoutput/snapshots/fold01/epoch_2.pkl\n",
      "Taking snapshot...\n",
      "fold_path is still? /project/results/aoutput/snapshots/fold01/\n",
      "/project/results/aoutput/snapshots/fold01/epoch_3.pkl\n",
      "Taking snapshot...\n",
      "fold_path is still? /project/results/aoutput/snapshots/fold01/\n",
      "/project/results/aoutput/snapshots/fold01/epoch_4.pkl\n",
      "Taking snapshot...\n",
      "fold_path is still? /project/results/aoutput/snapshots/fold01/\n",
      "/project/results/aoutput/snapshots/fold01/epoch_5.pkl\n",
      "Taking snapshot...\n",
      "fold_path is still? /project/results/aoutput/snapshots/fold01/\n",
      "/project/results/aoutput/snapshots/fold01/epoch_6.pkl\n",
      "Taking snapshot...\n",
      "fold_path is still? /project/results/aoutput/snapshots/fold01/\n",
      "/project/results/aoutput/snapshots/fold01/epoch_7.pkl\n",
      "Taking snapshot...\n",
      "fold_path is still? /project/results/aoutput/snapshots/fold01/\n",
      "/project/results/aoutput/snapshots/fold01/epoch_8.pkl\n",
      "Taking snapshot...\n",
      "fold_path is still? /project/results/aoutput/snapshots/fold01/\n",
      "/project/results/aoutput/snapshots/fold01/epoch_10.pkl\n",
      "Taking snapshot...\n",
      "fold_path is still? /project/results/aoutput/snapshots/fold01/\n",
      "/project/results/aoutput/snapshots/fold01/epoch_11.pkl\n",
      "Taking snapshot...\n",
      "fold_path is still? /project/results/aoutput/snapshots/fold01/\n",
      "/project/results/aoutput/snapshots/fold01/epoch_12.pkl\n",
      "Taking snapshot...\n",
      "fold_path is still? /project/results/aoutput/snapshots/fold01/\n",
      "/project/results/aoutput/snapshots/fold01/epoch_13.pkl\n",
      "Taking snapshot...\n",
      "fold_path is still? /project/results/aoutput/snapshots/fold01/\n",
      "/project/results/aoutput/snapshots/fold01/epoch_14.pkl\n",
      "Taking snapshot...\n",
      "fold_path is still? /project/results/aoutput/snapshots/fold01/\n",
      "/project/results/aoutput/snapshots/fold01/epoch_15.pkl\n",
      "Taking snapshot...\n",
      "fold_path is still? /project/results/aoutput/snapshots/fold01/\n",
      "/project/results/aoutput/snapshots/fold01/epoch_16.pkl\n",
      "Taking snapshot...\n",
      "fold_path is still? /project/results/aoutput/snapshots/fold01/\n",
      "/project/results/aoutput/snapshots/fold01/epoch_17.pkl\n",
      "Taking snapshot...\n",
      "fold_path is still? /project/results/aoutput/snapshots/fold01/\n",
      "/project/results/aoutput/snapshots/fold01/epoch_18.pkl\n",
      "Taking snapshot...\n",
      "fold_path is still? /project/results/aoutput/snapshots/fold01/\n",
      "/project/results/aoutput/snapshots/fold01/epoch_19.pkl\n",
      "Taking snapshot...\n",
      "fold_path is still? /project/results/aoutput/snapshots/fold01/\n",
      "/project/results/aoutput/snapshots/fold01/epoch_20.pkl\n",
      "Taking snapshot...\n",
      "fold_path is still? /project/results/aoutput/snapshots/fold01/\n",
      "/project/results/aoutput/snapshots/fold01/epoch_21.pkl\n",
      "Taking snapshot...\n",
      "fold_path is still? /project/results/aoutput/snapshots/fold01/\n",
      "/project/results/aoutput/snapshots/fold01/epoch_22.pkl\n",
      "Taking snapshot...\n",
      "fold_path is still? /project/results/aoutput/snapshots/fold01/\n",
      "/project/results/aoutput/snapshots/fold01/epoch_23.pkl\n",
      "Taking snapshot...\n",
      "fold_path is still? /project/results/aoutput/snapshots/fold01/\n",
      "/project/results/aoutput/snapshots/fold01/epoch_24.pkl\n",
      "Taking snapshot...\n",
      "fold_path is still? /project/results/aoutput/snapshots/fold01/\n",
      "/project/results/aoutput/snapshots/fold01/epoch_25.pkl\n",
      "Taking snapshot...\n",
      "fold_path is still? /project/results/aoutput/snapshots/fold01/\n",
      "/project/results/aoutput/snapshots/fold01/epoch_26.pkl\n",
      "Taking snapshot...\n",
      "fold_path is still? /project/results/aoutput/snapshots/fold01/\n",
      "/project/results/aoutput/snapshots/fold01/epoch_27.pkl\n",
      "Taking snapshot...\n",
      "fold_path is still? /project/results/aoutput/snapshots/fold01/\n",
      "/project/results/aoutput/snapshots/fold01/epoch_28.pkl\n",
      "Taking snapshot...\n",
      "fold_path is still? /project/results/aoutput/snapshots/fold01/\n",
      "/project/results/aoutput/snapshots/fold01/epoch_29.pkl\n",
      "Taking snapshot...\n",
      "fold_path is still? /project/results/aoutput/snapshots/fold01/\n",
      "/project/results/aoutput/snapshots/fold01/epoch_30.pkl\n",
      "Taking snapshot...\n",
      "fold_path is still? /project/results/aoutput/snapshots/fold01/\n",
      "/project/results/aoutput/snapshots/fold01/epoch_31.pkl\n",
      "Taking snapshot...\n",
      "fold_path is still? /project/results/aoutput/snapshots/fold01/\n",
      "/project/results/aoutput/snapshots/fold01/epoch_32.pkl\n",
      "Taking snapshot...\n",
      "fold_path is still? /project/results/aoutput/snapshots/fold01/\n",
      "/project/results/aoutput/snapshots/fold01/epoch_33.pkl\n",
      "Taking snapshot...\n",
      "fold_path is still? /project/results/aoutput/snapshots/fold01/\n",
      "/project/results/aoutput/snapshots/fold01/epoch_34.pkl\n",
      "Taking snapshot...\n",
      "fold_path is still? /project/results/aoutput/snapshots/fold01/\n",
      "/project/results/aoutput/snapshots/fold01/epoch_35.pkl\n",
      "Taking snapshot...\n",
      "fold_path is still? /project/results/aoutput/snapshots/fold01/\n",
      "/project/results/aoutput/snapshots/fold01/epoch_36.pkl\n",
      "Taking snapshot...\n",
      "fold_path is still? /project/results/aoutput/snapshots/fold01/\n",
      "/project/results/aoutput/snapshots/fold01/epoch_37.pkl\n",
      "Taking snapshot...\n",
      "fold_path is still? /project/results/aoutput/snapshots/fold01/\n",
      "/project/results/aoutput/snapshots/fold01/epoch_38.pkl\n",
      "Taking snapshot...\n",
      "fold_path is still? /project/results/aoutput/snapshots/fold01/\n",
      "/project/results/aoutput/snapshots/fold01/epoch_39.pkl\n",
      "Taking snapshot...\n",
      "fold_path is still? /project/results/aoutput/snapshots/fold01/\n",
      "/project/results/aoutput/snapshots/fold01/epoch_40.pkl\n",
      "Taking snapshot...\n",
      "fold_path is still? /project/results/aoutput/snapshots/fold01/\n",
      "/project/results/aoutput/snapshots/fold01/epoch_41.pkl\n",
      "Taking snapshot...\n",
      "fold_path is still? /project/results/aoutput/snapshots/fold01/\n",
      "/project/results/aoutput/snapshots/fold01/epoch_42.pkl\n",
      "Taking snapshot...\n",
      "fold_path is still? /project/results/aoutput/snapshots/fold01/\n",
      "/project/results/aoutput/snapshots/fold01/epoch_43.pkl\n",
      "Taking snapshot...\n",
      "fold_path is still? /project/results/aoutput/snapshots/fold01/\n",
      "/project/results/aoutput/snapshots/fold01/epoch_44.pkl\n",
      "Taking snapshot...\n",
      "fold_path is still? /project/results/aoutput/snapshots/fold01/\n",
      "/project/results/aoutput/snapshots/fold01/epoch_45.pkl\n",
      "Taking snapshot...\n",
      "fold_path is still? /project/results/aoutput/snapshots/fold01/\n",
      "/project/results/aoutput/snapshots/fold01/epoch_46.pkl\n",
      "Taking snapshot...\n",
      "fold_path is still? /project/results/aoutput/snapshots/fold01/\n",
      "/project/results/aoutput/snapshots/fold01/epoch_47.pkl\n",
      "Taking snapshot...\n",
      "fold_path is still? /project/results/aoutput/snapshots/fold01/\n",
      "/project/results/aoutput/snapshots/fold01/epoch_48.pkl\n",
      "Taking snapshot...\n",
      "fold_path is still? /project/results/aoutput/snapshots/fold01/\n",
      "/project/results/aoutput/snapshots/fold01/epoch_49.pkl\n",
      "Taking snapshot...\n",
      "fold_path is still? /project/results/aoutput/snapshots/fold01/\n",
      "/project/results/aoutput/snapshots/fold01/epoch_50.pkl\n",
      "Taking snapshot...\n",
      "fold_path is still? /project/results/aoutput/snapshots/fold01/\n",
      "/project/results/aoutput/snapshots/fold01/epoch_51.pkl\n",
      "Taking snapshot...\n",
      "fold_path is still? /project/results/aoutput/snapshots/fold01/\n",
      "/project/results/aoutput/snapshots/fold01/epoch_52.pkl\n",
      "Taking snapshot...\n",
      "fold_path is still? /project/results/aoutput/snapshots/fold01/\n",
      "/project/results/aoutput/snapshots/fold01/epoch_53.pkl\n",
      "Taking snapshot...\n",
      "fold_path is still? /project/results/aoutput/snapshots/fold01/\n",
      "/project/results/aoutput/snapshots/fold01/epoch_54.pkl\n",
      "Taking snapshot...\n",
      "fold_path is still? /project/results/aoutput/snapshots/fold01/\n",
      "/project/results/aoutput/snapshots/fold01/epoch_55.pkl\n",
      "Taking snapshot...\n",
      "fold_path is still? /project/results/aoutput/snapshots/fold01/\n",
      "/project/results/aoutput/snapshots/fold01/epoch_56.pkl\n",
      "Taking snapshot...\n",
      "fold_path is still? /project/results/aoutput/snapshots/fold01/\n",
      "/project/results/aoutput/snapshots/fold01/epoch_57.pkl\n",
      "Taking snapshot...\n",
      "fold_path is still? /project/results/aoutput/snapshots/fold01/\n",
      "/project/results/aoutput/snapshots/fold01/epoch_58.pkl\n",
      "Taking snapshot...\n",
      "fold_path is still? /project/results/aoutput/snapshots/fold01/\n",
      "/project/results/aoutput/snapshots/fold01/epoch_60.pkl\n",
      "Taking snapshot...\n"
     ]
    },
    {
     "data": {
      "text/html": [
       "Finishing last run (ID:z24wp3ec) before initializing another..."
      ],
      "text/plain": [
       "<IPython.core.display.HTML object>"
      ]
     },
     "metadata": {},
     "output_type": "display_data"
    },
    {
     "data": {
      "text/html": [
       "Waiting for W&B process to finish... <strong style=\"color:green\">(success).</strong>"
      ],
      "text/plain": [
       "<IPython.core.display.HTML object>"
      ]
     },
     "metadata": {},
     "output_type": "display_data"
    },
    {
     "data": {
      "application/vnd.jupyter.widget-view+json": {
       "model_id": "",
       "version_major": 2,
       "version_minor": 0
      },
      "text/plain": [
       "VBox(children=(Label(value='0.001 MB of 0.001 MB uploaded (0.000 MB deduped)\\r'), FloatProgress(value=1.0, max…"
      ]
     },
     "metadata": {},
     "output_type": "display_data"
    },
    {
     "data": {
      "text/html": [
       "Synced <strong style=\"color:#cdcd00\">still-pyramid-4</strong>: <a href=\"https://wandb.ai/synthesis-ai/adata_training/runs/z24wp3ec\" target=\"_blank\">https://wandb.ai/synthesis-ai/adata_training/runs/z24wp3ec</a><br/>Synced 5 W&B file(s), 0 media file(s), 0 artifact file(s) and 0 other file(s)"
      ],
      "text/plain": [
       "<IPython.core.display.HTML object>"
      ]
     },
     "metadata": {},
     "output_type": "display_data"
    },
    {
     "data": {
      "text/html": [
       "Find logs at: <code>./wandb/run-20220622_083621-z24wp3ec/logs</code>"
      ],
      "text/plain": [
       "<IPython.core.display.HTML object>"
      ]
     },
     "metadata": {},
     "output_type": "display_data"
    },
    {
     "data": {
      "text/html": [
       "Successfully finished last run (ID:z24wp3ec). Initializing new run:<br/>"
      ],
      "text/plain": [
       "<IPython.core.display.HTML object>"
      ]
     },
     "metadata": {},
     "output_type": "display_data"
    },
    {
     "data": {
      "text/html": [
       "wandb version 0.12.18 is available!  To upgrade, please run:\n",
       " $ pip install wandb --upgrade"
      ],
      "text/plain": [
       "<IPython.core.display.HTML object>"
      ]
     },
     "metadata": {},
     "output_type": "display_data"
    },
    {
     "data": {
      "text/html": [
       "Tracking run with wandb version 0.12.15"
      ],
      "text/plain": [
       "<IPython.core.display.HTML object>"
      ]
     },
     "metadata": {},
     "output_type": "display_data"
    },
    {
     "data": {
      "text/html": [
       "Run data is saved locally in <code>/project/notebooks/wandb/run-20220622_110842-2xv3rd40</code>"
      ],
      "text/plain": [
       "<IPython.core.display.HTML object>"
      ]
     },
     "metadata": {},
     "output_type": "display_data"
    },
    {
     "data": {
      "text/html": [
       "Syncing run <strong><a href=\"https://wandb.ai/synthesis-ai/adata_training/runs/2xv3rd40\" target=\"_blank\">restful-snowflake-5</a></strong> to <a href=\"https://wandb.ai/synthesis-ai/adata_training\" target=\"_blank\">Weights & Biases</a> (<a href=\"https://wandb.me/run\" target=\"_blank\">docs</a>)<br/>"
      ],
      "text/plain": [
       "<IPython.core.display.HTML object>"
      ]
     },
     "metadata": {},
     "output_type": "display_data"
    },
    {
     "name": "stdout",
     "output_type": "stream",
     "text": [
      "2 Conv2d(3, 64, kernel_size=(7, 7), stride=(2, 2), padding=(3, 3), bias=False)\n",
      "Loading data.\n",
      "0 items removed from dataset that have an angle > 180\n",
      "fold_path is /project/results/aoutput/snapshots/fold02/\n",
      "fold_path is still? /project/results/aoutput/snapshots/fold02/\n",
      "/project/results/aoutput/snapshots/fold02/epoch_1.pkl\n",
      "Taking snapshot...\n",
      "fold_path is still? /project/results/aoutput/snapshots/fold02/\n",
      "/project/results/aoutput/snapshots/fold02/epoch_2.pkl\n",
      "Taking snapshot...\n",
      "fold_path is still? /project/results/aoutput/snapshots/fold02/\n",
      "/project/results/aoutput/snapshots/fold02/epoch_3.pkl\n",
      "Taking snapshot...\n",
      "fold_path is still? /project/results/aoutput/snapshots/fold02/\n",
      "/project/results/aoutput/snapshots/fold02/epoch_4.pkl\n",
      "Taking snapshot...\n",
      "fold_path is still? /project/results/aoutput/snapshots/fold02/\n",
      "/project/results/aoutput/snapshots/fold02/epoch_5.pkl\n",
      "Taking snapshot...\n",
      "fold_path is still? /project/results/aoutput/snapshots/fold02/\n",
      "/project/results/aoutput/snapshots/fold02/epoch_6.pkl\n",
      "Taking snapshot...\n",
      "fold_path is still? /project/results/aoutput/snapshots/fold02/\n",
      "/project/results/aoutput/snapshots/fold02/epoch_7.pkl\n",
      "Taking snapshot...\n",
      "fold_path is still? /project/results/aoutput/snapshots/fold02/\n",
      "/project/results/aoutput/snapshots/fold02/epoch_8.pkl\n",
      "Taking snapshot...\n",
      "fold_path is still? /project/results/aoutput/snapshots/fold02/\n",
      "/project/results/aoutput/snapshots/fold02/epoch_9.pkl\n",
      "Taking snapshot...\n",
      "fold_path is still? /project/results/aoutput/snapshots/fold02/\n",
      "/project/results/aoutput/snapshots/fold02/epoch_10.pkl\n",
      "Taking snapshot...\n",
      "fold_path is still? /project/results/aoutput/snapshots/fold02/\n",
      "/project/results/aoutput/snapshots/fold02/epoch_11.pkl\n",
      "Taking snapshot...\n",
      "fold_path is still? /project/results/aoutput/snapshots/fold02/\n",
      "/project/results/aoutput/snapshots/fold02/epoch_12.pkl\n",
      "Taking snapshot...\n",
      "fold_path is still? /project/results/aoutput/snapshots/fold02/\n",
      "/project/results/aoutput/snapshots/fold02/epoch_13.pkl\n",
      "Taking snapshot...\n",
      "fold_path is still? /project/results/aoutput/snapshots/fold02/\n",
      "/project/results/aoutput/snapshots/fold02/epoch_14.pkl\n",
      "Taking snapshot...\n",
      "fold_path is still? /project/results/aoutput/snapshots/fold02/\n",
      "/project/results/aoutput/snapshots/fold02/epoch_15.pkl\n",
      "Taking snapshot...\n",
      "fold_path is still? /project/results/aoutput/snapshots/fold02/\n",
      "/project/results/aoutput/snapshots/fold02/epoch_16.pkl\n",
      "Taking snapshot...\n",
      "fold_path is still? /project/results/aoutput/snapshots/fold02/\n",
      "/project/results/aoutput/snapshots/fold02/epoch_17.pkl\n",
      "Taking snapshot...\n",
      "fold_path is still? /project/results/aoutput/snapshots/fold02/\n",
      "/project/results/aoutput/snapshots/fold02/epoch_18.pkl\n",
      "Taking snapshot...\n",
      "fold_path is still? /project/results/aoutput/snapshots/fold02/\n",
      "/project/results/aoutput/snapshots/fold02/epoch_19.pkl\n",
      "Taking snapshot...\n",
      "fold_path is still? /project/results/aoutput/snapshots/fold02/\n",
      "/project/results/aoutput/snapshots/fold02/epoch_20.pkl\n",
      "Taking snapshot...\n",
      "fold_path is still? /project/results/aoutput/snapshots/fold02/\n",
      "/project/results/aoutput/snapshots/fold02/epoch_21.pkl\n",
      "Taking snapshot...\n",
      "fold_path is still? /project/results/aoutput/snapshots/fold02/\n",
      "/project/results/aoutput/snapshots/fold02/epoch_22.pkl\n",
      "Taking snapshot...\n",
      "fold_path is still? /project/results/aoutput/snapshots/fold02/\n",
      "/project/results/aoutput/snapshots/fold02/epoch_23.pkl\n",
      "Taking snapshot...\n",
      "fold_path is still? /project/results/aoutput/snapshots/fold02/\n",
      "/project/results/aoutput/snapshots/fold02/epoch_24.pkl\n",
      "Taking snapshot...\n",
      "fold_path is still? /project/results/aoutput/snapshots/fold02/\n",
      "/project/results/aoutput/snapshots/fold02/epoch_25.pkl\n",
      "Taking snapshot...\n",
      "fold_path is still? /project/results/aoutput/snapshots/fold02/\n",
      "/project/results/aoutput/snapshots/fold02/epoch_26.pkl\n",
      "Taking snapshot...\n",
      "fold_path is still? /project/results/aoutput/snapshots/fold02/\n",
      "/project/results/aoutput/snapshots/fold02/epoch_27.pkl\n",
      "Taking snapshot...\n",
      "fold_path is still? /project/results/aoutput/snapshots/fold02/\n",
      "/project/results/aoutput/snapshots/fold02/epoch_28.pkl\n",
      "Taking snapshot...\n",
      "fold_path is still? /project/results/aoutput/snapshots/fold02/\n",
      "/project/results/aoutput/snapshots/fold02/epoch_30.pkl\n",
      "Taking snapshot...\n",
      "fold_path is still? /project/results/aoutput/snapshots/fold02/\n",
      "/project/results/aoutput/snapshots/fold02/epoch_31.pkl\n",
      "Taking snapshot...\n",
      "fold_path is still? /project/results/aoutput/snapshots/fold02/\n",
      "/project/results/aoutput/snapshots/fold02/epoch_32.pkl\n",
      "Taking snapshot...\n",
      "fold_path is still? /project/results/aoutput/snapshots/fold02/\n",
      "/project/results/aoutput/snapshots/fold02/epoch_33.pkl\n",
      "Taking snapshot...\n",
      "fold_path is still? /project/results/aoutput/snapshots/fold02/\n",
      "/project/results/aoutput/snapshots/fold02/epoch_34.pkl\n",
      "Taking snapshot...\n",
      "fold_path is still? /project/results/aoutput/snapshots/fold02/\n",
      "/project/results/aoutput/snapshots/fold02/epoch_35.pkl\n",
      "Taking snapshot...\n",
      "fold_path is still? /project/results/aoutput/snapshots/fold02/\n",
      "/project/results/aoutput/snapshots/fold02/epoch_36.pkl\n",
      "Taking snapshot...\n",
      "fold_path is still? /project/results/aoutput/snapshots/fold02/\n",
      "/project/results/aoutput/snapshots/fold02/epoch_37.pkl\n",
      "Taking snapshot...\n",
      "fold_path is still? /project/results/aoutput/snapshots/fold02/\n",
      "/project/results/aoutput/snapshots/fold02/epoch_38.pkl\n",
      "Taking snapshot...\n",
      "fold_path is still? /project/results/aoutput/snapshots/fold02/\n",
      "/project/results/aoutput/snapshots/fold02/epoch_39.pkl\n",
      "Taking snapshot...\n",
      "fold_path is still? /project/results/aoutput/snapshots/fold02/\n",
      "/project/results/aoutput/snapshots/fold02/epoch_40.pkl\n",
      "Taking snapshot...\n",
      "fold_path is still? /project/results/aoutput/snapshots/fold02/\n",
      "/project/results/aoutput/snapshots/fold02/epoch_41.pkl\n",
      "Taking snapshot...\n",
      "fold_path is still? /project/results/aoutput/snapshots/fold02/\n",
      "/project/results/aoutput/snapshots/fold02/epoch_42.pkl\n",
      "Taking snapshot...\n",
      "fold_path is still? /project/results/aoutput/snapshots/fold02/\n",
      "/project/results/aoutput/snapshots/fold02/epoch_43.pkl\n",
      "Taking snapshot...\n",
      "fold_path is still? /project/results/aoutput/snapshots/fold02/\n",
      "/project/results/aoutput/snapshots/fold02/epoch_44.pkl\n",
      "Taking snapshot...\n",
      "fold_path is still? /project/results/aoutput/snapshots/fold02/\n",
      "/project/results/aoutput/snapshots/fold02/epoch_45.pkl\n",
      "Taking snapshot...\n",
      "fold_path is still? /project/results/aoutput/snapshots/fold02/\n",
      "/project/results/aoutput/snapshots/fold02/epoch_46.pkl\n",
      "Taking snapshot...\n",
      "fold_path is still? /project/results/aoutput/snapshots/fold02/\n",
      "/project/results/aoutput/snapshots/fold02/epoch_47.pkl\n",
      "Taking snapshot...\n",
      "fold_path is still? /project/results/aoutput/snapshots/fold02/\n",
      "/project/results/aoutput/snapshots/fold02/epoch_48.pkl\n",
      "Taking snapshot...\n",
      "fold_path is still? /project/results/aoutput/snapshots/fold02/\n",
      "/project/results/aoutput/snapshots/fold02/epoch_49.pkl\n",
      "Taking snapshot...\n",
      "fold_path is still? /project/results/aoutput/snapshots/fold02/\n",
      "/project/results/aoutput/snapshots/fold02/epoch_50.pkl\n",
      "Taking snapshot...\n",
      "fold_path is still? /project/results/aoutput/snapshots/fold02/\n",
      "/project/results/aoutput/snapshots/fold02/epoch_51.pkl\n",
      "Taking snapshot...\n",
      "fold_path is still? /project/results/aoutput/snapshots/fold02/\n",
      "/project/results/aoutput/snapshots/fold02/epoch_52.pkl\n",
      "Taking snapshot...\n",
      "fold_path is still? /project/results/aoutput/snapshots/fold02/\n",
      "/project/results/aoutput/snapshots/fold02/epoch_53.pkl\n",
      "Taking snapshot...\n",
      "fold_path is still? /project/results/aoutput/snapshots/fold02/\n",
      "/project/results/aoutput/snapshots/fold02/epoch_54.pkl\n",
      "Taking snapshot...\n",
      "fold_path is still? /project/results/aoutput/snapshots/fold02/\n",
      "/project/results/aoutput/snapshots/fold02/epoch_55.pkl\n",
      "Taking snapshot...\n",
      "fold_path is still? /project/results/aoutput/snapshots/fold02/\n",
      "/project/results/aoutput/snapshots/fold02/epoch_56.pkl\n",
      "Taking snapshot...\n",
      "fold_path is still? /project/results/aoutput/snapshots/fold02/\n",
      "/project/results/aoutput/snapshots/fold02/epoch_57.pkl\n",
      "Taking snapshot...\n",
      "fold_path is still? /project/results/aoutput/snapshots/fold02/\n",
      "/project/results/aoutput/snapshots/fold02/epoch_58.pkl\n",
      "Taking snapshot...\n",
      "fold_path is still? /project/results/aoutput/snapshots/fold02/\n",
      "/project/results/aoutput/snapshots/fold02/epoch_60.pkl\n",
      "Taking snapshot...\n"
     ]
    },
    {
     "data": {
      "text/html": [
       "Finishing last run (ID:2xv3rd40) before initializing another..."
      ],
      "text/plain": [
       "<IPython.core.display.HTML object>"
      ]
     },
     "metadata": {},
     "output_type": "display_data"
    },
    {
     "data": {
      "text/html": [
       "Waiting for W&B process to finish... <strong style=\"color:green\">(success).</strong>"
      ],
      "text/plain": [
       "<IPython.core.display.HTML object>"
      ]
     },
     "metadata": {},
     "output_type": "display_data"
    },
    {
     "data": {
      "application/vnd.jupyter.widget-view+json": {
       "model_id": "",
       "version_major": 2,
       "version_minor": 0
      },
      "text/plain": [
       "VBox(children=(Label(value='0.001 MB of 0.001 MB uploaded (0.000 MB deduped)\\r'), FloatProgress(value=1.0, max…"
      ]
     },
     "metadata": {},
     "output_type": "display_data"
    },
    {
     "data": {
      "text/html": [
       "Synced <strong style=\"color:#cdcd00\">restful-snowflake-5</strong>: <a href=\"https://wandb.ai/synthesis-ai/adata_training/runs/2xv3rd40\" target=\"_blank\">https://wandb.ai/synthesis-ai/adata_training/runs/2xv3rd40</a><br/>Synced 5 W&B file(s), 0 media file(s), 0 artifact file(s) and 0 other file(s)"
      ],
      "text/plain": [
       "<IPython.core.display.HTML object>"
      ]
     },
     "metadata": {},
     "output_type": "display_data"
    },
    {
     "data": {
      "text/html": [
       "Find logs at: <code>./wandb/run-20220622_110842-2xv3rd40/logs</code>"
      ],
      "text/plain": [
       "<IPython.core.display.HTML object>"
      ]
     },
     "metadata": {},
     "output_type": "display_data"
    },
    {
     "data": {
      "text/html": [
       "Successfully finished last run (ID:2xv3rd40). Initializing new run:<br/>"
      ],
      "text/plain": [
       "<IPython.core.display.HTML object>"
      ]
     },
     "metadata": {},
     "output_type": "display_data"
    },
    {
     "data": {
      "text/html": [
       "wandb version 0.12.18 is available!  To upgrade, please run:\n",
       " $ pip install wandb --upgrade"
      ],
      "text/plain": [
       "<IPython.core.display.HTML object>"
      ]
     },
     "metadata": {},
     "output_type": "display_data"
    },
    {
     "data": {
      "text/html": [
       "Tracking run with wandb version 0.12.15"
      ],
      "text/plain": [
       "<IPython.core.display.HTML object>"
      ]
     },
     "metadata": {},
     "output_type": "display_data"
    },
    {
     "data": {
      "text/html": [
       "Run data is saved locally in <code>/project/notebooks/wandb/run-20220622_134136-1phinmmz</code>"
      ],
      "text/plain": [
       "<IPython.core.display.HTML object>"
      ]
     },
     "metadata": {},
     "output_type": "display_data"
    },
    {
     "data": {
      "text/html": [
       "Syncing run <strong><a href=\"https://wandb.ai/synthesis-ai/adata_training/runs/1phinmmz\" target=\"_blank\">splendid-grass-6</a></strong> to <a href=\"https://wandb.ai/synthesis-ai/adata_training\" target=\"_blank\">Weights & Biases</a> (<a href=\"https://wandb.me/run\" target=\"_blank\">docs</a>)<br/>"
      ],
      "text/plain": [
       "<IPython.core.display.HTML object>"
      ]
     },
     "metadata": {},
     "output_type": "display_data"
    },
    {
     "name": "stdout",
     "output_type": "stream",
     "text": [
      "3 Conv2d(3, 64, kernel_size=(7, 7), stride=(2, 2), padding=(3, 3), bias=False)\n",
      "Loading data.\n",
      "0 items removed from dataset that have an angle > 180\n",
      "fold_path is /project/results/aoutput/snapshots/fold03/\n",
      "fold_path is still? /project/results/aoutput/snapshots/fold03/\n",
      "/project/results/aoutput/snapshots/fold03/epoch_1.pkl\n",
      "Taking snapshot...\n",
      "fold_path is still? /project/results/aoutput/snapshots/fold03/\n",
      "/project/results/aoutput/snapshots/fold03/epoch_2.pkl\n",
      "Taking snapshot...\n",
      "fold_path is still? /project/results/aoutput/snapshots/fold03/\n",
      "/project/results/aoutput/snapshots/fold03/epoch_3.pkl\n",
      "Taking snapshot...\n",
      "fold_path is still? /project/results/aoutput/snapshots/fold03/\n",
      "/project/results/aoutput/snapshots/fold03/epoch_4.pkl\n",
      "Taking snapshot...\n",
      "fold_path is still? /project/results/aoutput/snapshots/fold03/\n",
      "/project/results/aoutput/snapshots/fold03/epoch_5.pkl\n",
      "Taking snapshot...\n",
      "fold_path is still? /project/results/aoutput/snapshots/fold03/\n",
      "/project/results/aoutput/snapshots/fold03/epoch_6.pkl\n",
      "Taking snapshot...\n",
      "fold_path is still? /project/results/aoutput/snapshots/fold03/\n",
      "/project/results/aoutput/snapshots/fold03/epoch_7.pkl\n",
      "Taking snapshot...\n",
      "fold_path is still? /project/results/aoutput/snapshots/fold03/\n",
      "/project/results/aoutput/snapshots/fold03/epoch_8.pkl\n",
      "Taking snapshot...\n",
      "fold_path is still? /project/results/aoutput/snapshots/fold03/\n",
      "/project/results/aoutput/snapshots/fold03/epoch_9.pkl\n",
      "Taking snapshot...\n",
      "fold_path is still? /project/results/aoutput/snapshots/fold03/\n",
      "/project/results/aoutput/snapshots/fold03/epoch_10.pkl\n",
      "Taking snapshot...\n",
      "fold_path is still? /project/results/aoutput/snapshots/fold03/\n",
      "/project/results/aoutput/snapshots/fold03/epoch_11.pkl\n",
      "Taking snapshot...\n",
      "fold_path is still? /project/results/aoutput/snapshots/fold03/\n",
      "/project/results/aoutput/snapshots/fold03/epoch_12.pkl\n",
      "Taking snapshot...\n",
      "fold_path is still? /project/results/aoutput/snapshots/fold03/\n",
      "/project/results/aoutput/snapshots/fold03/epoch_13.pkl\n",
      "Taking snapshot...\n",
      "fold_path is still? /project/results/aoutput/snapshots/fold03/\n",
      "/project/results/aoutput/snapshots/fold03/epoch_14.pkl\n",
      "Taking snapshot...\n",
      "fold_path is still? /project/results/aoutput/snapshots/fold03/\n",
      "/project/results/aoutput/snapshots/fold03/epoch_15.pkl\n",
      "Taking snapshot...\n",
      "fold_path is still? /project/results/aoutput/snapshots/fold03/\n",
      "/project/results/aoutput/snapshots/fold03/epoch_16.pkl\n",
      "Taking snapshot...\n",
      "fold_path is still? /project/results/aoutput/snapshots/fold03/\n",
      "/project/results/aoutput/snapshots/fold03/epoch_17.pkl\n",
      "Taking snapshot...\n",
      "fold_path is still? /project/results/aoutput/snapshots/fold03/\n",
      "/project/results/aoutput/snapshots/fold03/epoch_18.pkl\n",
      "Taking snapshot...\n",
      "fold_path is still? /project/results/aoutput/snapshots/fold03/\n",
      "/project/results/aoutput/snapshots/fold03/epoch_19.pkl\n",
      "Taking snapshot...\n",
      "fold_path is still? /project/results/aoutput/snapshots/fold03/\n",
      "/project/results/aoutput/snapshots/fold03/epoch_20.pkl\n",
      "Taking snapshot...\n",
      "fold_path is still? /project/results/aoutput/snapshots/fold03/\n",
      "/project/results/aoutput/snapshots/fold03/epoch_21.pkl\n",
      "Taking snapshot...\n",
      "fold_path is still? /project/results/aoutput/snapshots/fold03/\n",
      "/project/results/aoutput/snapshots/fold03/epoch_22.pkl\n",
      "Taking snapshot...\n",
      "fold_path is still? /project/results/aoutput/snapshots/fold03/\n",
      "/project/results/aoutput/snapshots/fold03/epoch_23.pkl\n",
      "Taking snapshot...\n",
      "fold_path is still? /project/results/aoutput/snapshots/fold03/\n",
      "/project/results/aoutput/snapshots/fold03/epoch_24.pkl\n",
      "Taking snapshot...\n",
      "fold_path is still? /project/results/aoutput/snapshots/fold03/\n",
      "/project/results/aoutput/snapshots/fold03/epoch_25.pkl\n",
      "Taking snapshot...\n",
      "fold_path is still? /project/results/aoutput/snapshots/fold03/\n",
      "/project/results/aoutput/snapshots/fold03/epoch_26.pkl\n",
      "Taking snapshot...\n",
      "fold_path is still? /project/results/aoutput/snapshots/fold03/\n",
      "/project/results/aoutput/snapshots/fold03/epoch_27.pkl\n",
      "Taking snapshot...\n",
      "fold_path is still? /project/results/aoutput/snapshots/fold03/\n",
      "/project/results/aoutput/snapshots/fold03/epoch_28.pkl\n",
      "Taking snapshot...\n",
      "fold_path is still? /project/results/aoutput/snapshots/fold03/\n",
      "/project/results/aoutput/snapshots/fold03/epoch_29.pkl\n",
      "Taking snapshot...\n",
      "fold_path is still? /project/results/aoutput/snapshots/fold03/\n",
      "/project/results/aoutput/snapshots/fold03/epoch_30.pkl\n",
      "Taking snapshot...\n",
      "fold_path is still? /project/results/aoutput/snapshots/fold03/\n",
      "/project/results/aoutput/snapshots/fold03/epoch_31.pkl\n",
      "Taking snapshot...\n",
      "fold_path is still? /project/results/aoutput/snapshots/fold03/\n",
      "/project/results/aoutput/snapshots/fold03/epoch_32.pkl\n",
      "Taking snapshot...\n",
      "fold_path is still? /project/results/aoutput/snapshots/fold03/\n",
      "/project/results/aoutput/snapshots/fold03/epoch_33.pkl\n",
      "Taking snapshot...\n",
      "fold_path is still? /project/results/aoutput/snapshots/fold03/\n",
      "/project/results/aoutput/snapshots/fold03/epoch_34.pkl\n",
      "Taking snapshot...\n",
      "fold_path is still? /project/results/aoutput/snapshots/fold03/\n",
      "/project/results/aoutput/snapshots/fold03/epoch_35.pkl\n",
      "Taking snapshot...\n",
      "fold_path is still? /project/results/aoutput/snapshots/fold03/\n",
      "/project/results/aoutput/snapshots/fold03/epoch_36.pkl\n",
      "Taking snapshot...\n",
      "fold_path is still? /project/results/aoutput/snapshots/fold03/\n",
      "/project/results/aoutput/snapshots/fold03/epoch_37.pkl\n",
      "Taking snapshot...\n",
      "fold_path is still? /project/results/aoutput/snapshots/fold03/\n",
      "/project/results/aoutput/snapshots/fold03/epoch_38.pkl\n",
      "Taking snapshot...\n",
      "fold_path is still? /project/results/aoutput/snapshots/fold03/\n",
      "/project/results/aoutput/snapshots/fold03/epoch_39.pkl\n",
      "Taking snapshot...\n",
      "fold_path is still? /project/results/aoutput/snapshots/fold03/\n",
      "/project/results/aoutput/snapshots/fold03/epoch_40.pkl\n",
      "Taking snapshot...\n",
      "fold_path is still? /project/results/aoutput/snapshots/fold03/\n",
      "/project/results/aoutput/snapshots/fold03/epoch_41.pkl\n",
      "Taking snapshot...\n",
      "fold_path is still? /project/results/aoutput/snapshots/fold03/\n",
      "/project/results/aoutput/snapshots/fold03/epoch_42.pkl\n",
      "Taking snapshot...\n",
      "fold_path is still? /project/results/aoutput/snapshots/fold03/\n",
      "/project/results/aoutput/snapshots/fold03/epoch_43.pkl\n",
      "Taking snapshot...\n",
      "fold_path is still? /project/results/aoutput/snapshots/fold03/\n",
      "/project/results/aoutput/snapshots/fold03/epoch_44.pkl\n",
      "Taking snapshot...\n",
      "fold_path is still? /project/results/aoutput/snapshots/fold03/\n",
      "/project/results/aoutput/snapshots/fold03/epoch_45.pkl\n",
      "Taking snapshot...\n",
      "fold_path is still? /project/results/aoutput/snapshots/fold03/\n",
      "/project/results/aoutput/snapshots/fold03/epoch_46.pkl\n",
      "Taking snapshot...\n",
      "fold_path is still? /project/results/aoutput/snapshots/fold03/\n",
      "/project/results/aoutput/snapshots/fold03/epoch_47.pkl\n",
      "Taking snapshot...\n",
      "fold_path is still? /project/results/aoutput/snapshots/fold03/\n",
      "/project/results/aoutput/snapshots/fold03/epoch_48.pkl\n",
      "Taking snapshot...\n",
      "fold_path is still? /project/results/aoutput/snapshots/fold03/\n",
      "/project/results/aoutput/snapshots/fold03/epoch_49.pkl\n",
      "Taking snapshot...\n",
      "fold_path is still? /project/results/aoutput/snapshots/fold03/\n",
      "/project/results/aoutput/snapshots/fold03/epoch_50.pkl\n",
      "Taking snapshot...\n",
      "fold_path is still? /project/results/aoutput/snapshots/fold03/\n",
      "/project/results/aoutput/snapshots/fold03/epoch_51.pkl\n",
      "Taking snapshot...\n",
      "fold_path is still? /project/results/aoutput/snapshots/fold03/\n",
      "/project/results/aoutput/snapshots/fold03/epoch_52.pkl\n",
      "Taking snapshot...\n",
      "fold_path is still? /project/results/aoutput/snapshots/fold03/\n",
      "/project/results/aoutput/snapshots/fold03/epoch_54.pkl\n",
      "Taking snapshot...\n",
      "fold_path is still? /project/results/aoutput/snapshots/fold03/\n",
      "/project/results/aoutput/snapshots/fold03/epoch_55.pkl\n",
      "Taking snapshot...\n",
      "fold_path is still? /project/results/aoutput/snapshots/fold03/\n",
      "/project/results/aoutput/snapshots/fold03/epoch_56.pkl\n",
      "Taking snapshot...\n",
      "fold_path is still? /project/results/aoutput/snapshots/fold03/\n",
      "/project/results/aoutput/snapshots/fold03/epoch_57.pkl\n",
      "Taking snapshot...\n",
      "fold_path is still? /project/results/aoutput/snapshots/fold03/\n",
      "/project/results/aoutput/snapshots/fold03/epoch_58.pkl\n",
      "Taking snapshot...\n",
      "fold_path is still? /project/results/aoutput/snapshots/fold03/\n",
      "/project/results/aoutput/snapshots/fold03/epoch_59.pkl\n",
      "Taking snapshot...\n",
      "fold_path is still? /project/results/aoutput/snapshots/fold03/\n",
      "/project/results/aoutput/snapshots/fold03/epoch_60.pkl\n",
      "Taking snapshot...\n"
     ]
    },
    {
     "data": {
      "text/html": [
       "Finishing last run (ID:1phinmmz) before initializing another..."
      ],
      "text/plain": [
       "<IPython.core.display.HTML object>"
      ]
     },
     "metadata": {},
     "output_type": "display_data"
    },
    {
     "data": {
      "text/html": [
       "Waiting for W&B process to finish... <strong style=\"color:green\">(success).</strong>"
      ],
      "text/plain": [
       "<IPython.core.display.HTML object>"
      ]
     },
     "metadata": {},
     "output_type": "display_data"
    },
    {
     "data": {
      "application/vnd.jupyter.widget-view+json": {
       "model_id": "",
       "version_major": 2,
       "version_minor": 0
      },
      "text/plain": [
       "VBox(children=(Label(value='0.001 MB of 0.001 MB uploaded (0.000 MB deduped)\\r'), FloatProgress(value=1.0, max…"
      ]
     },
     "metadata": {},
     "output_type": "display_data"
    },
    {
     "data": {
      "text/html": [
       "Synced <strong style=\"color:#cdcd00\">splendid-grass-6</strong>: <a href=\"https://wandb.ai/synthesis-ai/adata_training/runs/1phinmmz\" target=\"_blank\">https://wandb.ai/synthesis-ai/adata_training/runs/1phinmmz</a><br/>Synced 5 W&B file(s), 0 media file(s), 0 artifact file(s) and 0 other file(s)"
      ],
      "text/plain": [
       "<IPython.core.display.HTML object>"
      ]
     },
     "metadata": {},
     "output_type": "display_data"
    },
    {
     "data": {
      "text/html": [
       "Find logs at: <code>./wandb/run-20220622_134136-1phinmmz/logs</code>"
      ],
      "text/plain": [
       "<IPython.core.display.HTML object>"
      ]
     },
     "metadata": {},
     "output_type": "display_data"
    },
    {
     "data": {
      "text/html": [
       "Successfully finished last run (ID:1phinmmz). Initializing new run:<br/>"
      ],
      "text/plain": [
       "<IPython.core.display.HTML object>"
      ]
     },
     "metadata": {},
     "output_type": "display_data"
    },
    {
     "data": {
      "text/html": [
       "wandb version 0.12.19 is available!  To upgrade, please run:\n",
       " $ pip install wandb --upgrade"
      ],
      "text/plain": [
       "<IPython.core.display.HTML object>"
      ]
     },
     "metadata": {},
     "output_type": "display_data"
    },
    {
     "data": {
      "text/html": [
       "Tracking run with wandb version 0.12.15"
      ],
      "text/plain": [
       "<IPython.core.display.HTML object>"
      ]
     },
     "metadata": {},
     "output_type": "display_data"
    },
    {
     "data": {
      "text/html": [
       "Run data is saved locally in <code>/project/notebooks/wandb/run-20220622_161436-avjs0bo6</code>"
      ],
      "text/plain": [
       "<IPython.core.display.HTML object>"
      ]
     },
     "metadata": {},
     "output_type": "display_data"
    },
    {
     "data": {
      "text/html": [
       "Syncing run <strong><a href=\"https://wandb.ai/synthesis-ai/adata_training/runs/avjs0bo6\" target=\"_blank\">polar-capybara-7</a></strong> to <a href=\"https://wandb.ai/synthesis-ai/adata_training\" target=\"_blank\">Weights & Biases</a> (<a href=\"https://wandb.me/run\" target=\"_blank\">docs</a>)<br/>"
      ],
      "text/plain": [
       "<IPython.core.display.HTML object>"
      ]
     },
     "metadata": {},
     "output_type": "display_data"
    },
    {
     "name": "stdout",
     "output_type": "stream",
     "text": [
      "4 Conv2d(3, 64, kernel_size=(7, 7), stride=(2, 2), padding=(3, 3), bias=False)\n",
      "Loading data.\n",
      "0 items removed from dataset that have an angle > 180\n",
      "fold_path is /project/results/aoutput/snapshots/fold04/\n",
      "fold_path is still? /project/results/aoutput/snapshots/fold04/\n",
      "/project/results/aoutput/snapshots/fold04/epoch_1.pkl\n",
      "Taking snapshot...\n",
      "fold_path is still? /project/results/aoutput/snapshots/fold04/\n",
      "/project/results/aoutput/snapshots/fold04/epoch_2.pkl\n",
      "Taking snapshot...\n",
      "fold_path is still? /project/results/aoutput/snapshots/fold04/\n",
      "/project/results/aoutput/snapshots/fold04/epoch_3.pkl\n",
      "Taking snapshot...\n",
      "fold_path is still? /project/results/aoutput/snapshots/fold04/\n",
      "/project/results/aoutput/snapshots/fold04/epoch_4.pkl\n",
      "Taking snapshot...\n",
      "fold_path is still? /project/results/aoutput/snapshots/fold04/\n",
      "/project/results/aoutput/snapshots/fold04/epoch_5.pkl\n",
      "Taking snapshot...\n",
      "fold_path is still? /project/results/aoutput/snapshots/fold04/\n",
      "/project/results/aoutput/snapshots/fold04/epoch_6.pkl\n",
      "Taking snapshot...\n",
      "fold_path is still? /project/results/aoutput/snapshots/fold04/\n",
      "/project/results/aoutput/snapshots/fold04/epoch_7.pkl\n",
      "Taking snapshot...\n",
      "fold_path is still? /project/results/aoutput/snapshots/fold04/\n",
      "/project/results/aoutput/snapshots/fold04/epoch_8.pkl\n",
      "Taking snapshot...\n",
      "fold_path is still? /project/results/aoutput/snapshots/fold04/\n",
      "/project/results/aoutput/snapshots/fold04/epoch_9.pkl\n",
      "Taking snapshot...\n",
      "fold_path is still? /project/results/aoutput/snapshots/fold04/\n",
      "/project/results/aoutput/snapshots/fold04/epoch_10.pkl\n",
      "Taking snapshot...\n",
      "fold_path is still? /project/results/aoutput/snapshots/fold04/\n",
      "/project/results/aoutput/snapshots/fold04/epoch_11.pkl\n",
      "Taking snapshot...\n",
      "fold_path is still? /project/results/aoutput/snapshots/fold04/\n",
      "/project/results/aoutput/snapshots/fold04/epoch_12.pkl\n",
      "Taking snapshot...\n",
      "fold_path is still? /project/results/aoutput/snapshots/fold04/\n",
      "/project/results/aoutput/snapshots/fold04/epoch_13.pkl\n",
      "Taking snapshot...\n",
      "fold_path is still? /project/results/aoutput/snapshots/fold04/\n",
      "/project/results/aoutput/snapshots/fold04/epoch_14.pkl\n",
      "Taking snapshot...\n",
      "fold_path is still? /project/results/aoutput/snapshots/fold04/\n",
      "/project/results/aoutput/snapshots/fold04/epoch_15.pkl\n",
      "Taking snapshot...\n",
      "fold_path is still? /project/results/aoutput/snapshots/fold04/\n",
      "/project/results/aoutput/snapshots/fold04/epoch_16.pkl\n",
      "Taking snapshot...\n",
      "fold_path is still? /project/results/aoutput/snapshots/fold04/\n",
      "/project/results/aoutput/snapshots/fold04/epoch_17.pkl\n",
      "Taking snapshot...\n",
      "fold_path is still? /project/results/aoutput/snapshots/fold04/\n",
      "/project/results/aoutput/snapshots/fold04/epoch_18.pkl\n",
      "Taking snapshot...\n",
      "fold_path is still? /project/results/aoutput/snapshots/fold04/\n",
      "/project/results/aoutput/snapshots/fold04/epoch_19.pkl\n",
      "Taking snapshot...\n",
      "fold_path is still? /project/results/aoutput/snapshots/fold04/\n",
      "/project/results/aoutput/snapshots/fold04/epoch_20.pkl\n",
      "Taking snapshot...\n",
      "fold_path is still? /project/results/aoutput/snapshots/fold04/\n",
      "/project/results/aoutput/snapshots/fold04/epoch_21.pkl\n",
      "Taking snapshot...\n",
      "fold_path is still? /project/results/aoutput/snapshots/fold04/\n",
      "/project/results/aoutput/snapshots/fold04/epoch_22.pkl\n",
      "Taking snapshot...\n",
      "fold_path is still? /project/results/aoutput/snapshots/fold04/\n",
      "/project/results/aoutput/snapshots/fold04/epoch_23.pkl\n",
      "Taking snapshot...\n",
      "fold_path is still? /project/results/aoutput/snapshots/fold04/\n",
      "/project/results/aoutput/snapshots/fold04/epoch_24.pkl\n",
      "Taking snapshot...\n",
      "fold_path is still? /project/results/aoutput/snapshots/fold04/\n",
      "/project/results/aoutput/snapshots/fold04/epoch_25.pkl\n",
      "Taking snapshot...\n",
      "fold_path is still? /project/results/aoutput/snapshots/fold04/\n",
      "/project/results/aoutput/snapshots/fold04/epoch_26.pkl\n",
      "Taking snapshot...\n",
      "fold_path is still? /project/results/aoutput/snapshots/fold04/\n",
      "/project/results/aoutput/snapshots/fold04/epoch_27.pkl\n",
      "Taking snapshot...\n",
      "fold_path is still? /project/results/aoutput/snapshots/fold04/\n",
      "/project/results/aoutput/snapshots/fold04/epoch_28.pkl\n",
      "Taking snapshot...\n",
      "fold_path is still? /project/results/aoutput/snapshots/fold04/\n",
      "/project/results/aoutput/snapshots/fold04/epoch_29.pkl\n",
      "Taking snapshot...\n",
      "fold_path is still? /project/results/aoutput/snapshots/fold04/\n",
      "/project/results/aoutput/snapshots/fold04/epoch_30.pkl\n",
      "Taking snapshot...\n",
      "fold_path is still? /project/results/aoutput/snapshots/fold04/\n",
      "/project/results/aoutput/snapshots/fold04/epoch_31.pkl\n",
      "Taking snapshot...\n",
      "fold_path is still? /project/results/aoutput/snapshots/fold04/\n",
      "/project/results/aoutput/snapshots/fold04/epoch_32.pkl\n",
      "Taking snapshot...\n",
      "fold_path is still? /project/results/aoutput/snapshots/fold04/\n",
      "/project/results/aoutput/snapshots/fold04/epoch_33.pkl\n",
      "Taking snapshot...\n",
      "fold_path is still? /project/results/aoutput/snapshots/fold04/\n",
      "/project/results/aoutput/snapshots/fold04/epoch_34.pkl\n",
      "Taking snapshot...\n",
      "fold_path is still? /project/results/aoutput/snapshots/fold04/\n",
      "/project/results/aoutput/snapshots/fold04/epoch_35.pkl\n",
      "Taking snapshot...\n",
      "fold_path is still? /project/results/aoutput/snapshots/fold04/\n",
      "/project/results/aoutput/snapshots/fold04/epoch_36.pkl\n",
      "Taking snapshot...\n",
      "fold_path is still? /project/results/aoutput/snapshots/fold04/\n",
      "/project/results/aoutput/snapshots/fold04/epoch_37.pkl\n",
      "Taking snapshot...\n",
      "fold_path is still? /project/results/aoutput/snapshots/fold04/\n",
      "/project/results/aoutput/snapshots/fold04/epoch_38.pkl\n",
      "Taking snapshot...\n",
      "fold_path is still? /project/results/aoutput/snapshots/fold04/\n",
      "/project/results/aoutput/snapshots/fold04/epoch_39.pkl\n",
      "Taking snapshot...\n",
      "fold_path is still? /project/results/aoutput/snapshots/fold04/\n",
      "/project/results/aoutput/snapshots/fold04/epoch_40.pkl\n",
      "Taking snapshot...\n",
      "fold_path is still? /project/results/aoutput/snapshots/fold04/\n",
      "/project/results/aoutput/snapshots/fold04/epoch_41.pkl\n",
      "Taking snapshot...\n",
      "fold_path is still? /project/results/aoutput/snapshots/fold04/\n",
      "/project/results/aoutput/snapshots/fold04/epoch_42.pkl\n",
      "Taking snapshot...\n",
      "fold_path is still? /project/results/aoutput/snapshots/fold04/\n",
      "/project/results/aoutput/snapshots/fold04/epoch_43.pkl\n",
      "Taking snapshot...\n",
      "fold_path is still? /project/results/aoutput/snapshots/fold04/\n",
      "/project/results/aoutput/snapshots/fold04/epoch_44.pkl\n",
      "Taking snapshot...\n",
      "fold_path is still? /project/results/aoutput/snapshots/fold04/\n",
      "/project/results/aoutput/snapshots/fold04/epoch_45.pkl\n",
      "Taking snapshot...\n",
      "fold_path is still? /project/results/aoutput/snapshots/fold04/\n",
      "/project/results/aoutput/snapshots/fold04/epoch_46.pkl\n",
      "Taking snapshot...\n",
      "fold_path is still? /project/results/aoutput/snapshots/fold04/\n",
      "/project/results/aoutput/snapshots/fold04/epoch_47.pkl\n",
      "Taking snapshot...\n",
      "fold_path is still? /project/results/aoutput/snapshots/fold04/\n",
      "/project/results/aoutput/snapshots/fold04/epoch_48.pkl\n",
      "Taking snapshot...\n",
      "fold_path is still? /project/results/aoutput/snapshots/fold04/\n",
      "/project/results/aoutput/snapshots/fold04/epoch_49.pkl\n",
      "Taking snapshot...\n",
      "fold_path is still? /project/results/aoutput/snapshots/fold04/\n",
      "/project/results/aoutput/snapshots/fold04/epoch_50.pkl\n",
      "Taking snapshot...\n",
      "fold_path is still? /project/results/aoutput/snapshots/fold04/\n",
      "/project/results/aoutput/snapshots/fold04/epoch_51.pkl\n",
      "Taking snapshot...\n",
      "fold_path is still? /project/results/aoutput/snapshots/fold04/\n",
      "/project/results/aoutput/snapshots/fold04/epoch_52.pkl\n",
      "Taking snapshot...\n",
      "fold_path is still? /project/results/aoutput/snapshots/fold04/\n",
      "/project/results/aoutput/snapshots/fold04/epoch_53.pkl\n",
      "Taking snapshot...\n",
      "fold_path is still? /project/results/aoutput/snapshots/fold04/\n",
      "/project/results/aoutput/snapshots/fold04/epoch_54.pkl\n",
      "Taking snapshot...\n",
      "fold_path is still? /project/results/aoutput/snapshots/fold04/\n",
      "/project/results/aoutput/snapshots/fold04/epoch_55.pkl\n",
      "Taking snapshot...\n",
      "fold_path is still? /project/results/aoutput/snapshots/fold04/\n",
      "/project/results/aoutput/snapshots/fold04/epoch_56.pkl\n",
      "Taking snapshot...\n",
      "fold_path is still? /project/results/aoutput/snapshots/fold04/\n",
      "/project/results/aoutput/snapshots/fold04/epoch_57.pkl\n",
      "Taking snapshot...\n",
      "fold_path is still? /project/results/aoutput/snapshots/fold04/\n",
      "/project/results/aoutput/snapshots/fold04/epoch_58.pkl\n",
      "Taking snapshot...\n",
      "fold_path is still? /project/results/aoutput/snapshots/fold04/\n",
      "/project/results/aoutput/snapshots/fold04/epoch_59.pkl\n",
      "Taking snapshot...\n"
     ]
    },
    {
     "name": "stdout",
     "output_type": "stream",
     "text": [
      "fold_path is still? /project/results/aoutput/snapshots/fold04/\n",
      "/project/results/aoutput/snapshots/fold04/epoch_60.pkl\n",
      "Taking snapshot...\n"
     ]
    },
    {
     "data": {
      "text/html": [
       "Finishing last run (ID:avjs0bo6) before initializing another..."
      ],
      "text/plain": [
       "<IPython.core.display.HTML object>"
      ]
     },
     "metadata": {},
     "output_type": "display_data"
    },
    {
     "data": {
      "text/html": [
       "Waiting for W&B process to finish... <strong style=\"color:green\">(success).</strong>"
      ],
      "text/plain": [
       "<IPython.core.display.HTML object>"
      ]
     },
     "metadata": {},
     "output_type": "display_data"
    },
    {
     "data": {
      "application/vnd.jupyter.widget-view+json": {
       "model_id": "",
       "version_major": 2,
       "version_minor": 0
      },
      "text/plain": [
       "VBox(children=(Label(value='0.001 MB of 0.001 MB uploaded (0.000 MB deduped)\\r'), FloatProgress(value=1.0, max…"
      ]
     },
     "metadata": {},
     "output_type": "display_data"
    },
    {
     "data": {
      "text/html": [
       "Synced <strong style=\"color:#cdcd00\">polar-capybara-7</strong>: <a href=\"https://wandb.ai/synthesis-ai/adata_training/runs/avjs0bo6\" target=\"_blank\">https://wandb.ai/synthesis-ai/adata_training/runs/avjs0bo6</a><br/>Synced 5 W&B file(s), 0 media file(s), 0 artifact file(s) and 0 other file(s)"
      ],
      "text/plain": [
       "<IPython.core.display.HTML object>"
      ]
     },
     "metadata": {},
     "output_type": "display_data"
    },
    {
     "data": {
      "text/html": [
       "Find logs at: <code>./wandb/run-20220622_161436-avjs0bo6/logs</code>"
      ],
      "text/plain": [
       "<IPython.core.display.HTML object>"
      ]
     },
     "metadata": {},
     "output_type": "display_data"
    },
    {
     "data": {
      "text/html": [
       "Successfully finished last run (ID:avjs0bo6). Initializing new run:<br/>"
      ],
      "text/plain": [
       "<IPython.core.display.HTML object>"
      ]
     },
     "metadata": {},
     "output_type": "display_data"
    },
    {
     "data": {
      "text/html": [
       "wandb version 0.12.19 is available!  To upgrade, please run:\n",
       " $ pip install wandb --upgrade"
      ],
      "text/plain": [
       "<IPython.core.display.HTML object>"
      ]
     },
     "metadata": {},
     "output_type": "display_data"
    },
    {
     "data": {
      "text/html": [
       "Tracking run with wandb version 0.12.15"
      ],
      "text/plain": [
       "<IPython.core.display.HTML object>"
      ]
     },
     "metadata": {},
     "output_type": "display_data"
    },
    {
     "data": {
      "text/html": [
       "Run data is saved locally in <code>/project/notebooks/wandb/run-20220622_184752-331a8vo9</code>"
      ],
      "text/plain": [
       "<IPython.core.display.HTML object>"
      ]
     },
     "metadata": {},
     "output_type": "display_data"
    },
    {
     "data": {
      "text/html": [
       "Syncing run <strong><a href=\"https://wandb.ai/synthesis-ai/adata_training/runs/331a8vo9\" target=\"_blank\">atomic-deluge-8</a></strong> to <a href=\"https://wandb.ai/synthesis-ai/adata_training\" target=\"_blank\">Weights & Biases</a> (<a href=\"https://wandb.me/run\" target=\"_blank\">docs</a>)<br/>"
      ],
      "text/plain": [
       "<IPython.core.display.HTML object>"
      ]
     },
     "metadata": {},
     "output_type": "display_data"
    },
    {
     "name": "stdout",
     "output_type": "stream",
     "text": [
      "5 Conv2d(3, 64, kernel_size=(7, 7), stride=(2, 2), padding=(3, 3), bias=False)\n",
      "Loading data.\n",
      "0 items removed from dataset that have an angle > 180\n",
      "fold_path is /project/results/aoutput/snapshots/fold05/\n",
      "fold_path is still? /project/results/aoutput/snapshots/fold05/\n",
      "/project/results/aoutput/snapshots/fold05/epoch_1.pkl\n",
      "Taking snapshot...\n",
      "fold_path is still? /project/results/aoutput/snapshots/fold05/\n",
      "/project/results/aoutput/snapshots/fold05/epoch_2.pkl\n",
      "Taking snapshot...\n",
      "fold_path is still? /project/results/aoutput/snapshots/fold05/\n",
      "/project/results/aoutput/snapshots/fold05/epoch_3.pkl\n",
      "Taking snapshot...\n",
      "fold_path is still? /project/results/aoutput/snapshots/fold05/\n",
      "/project/results/aoutput/snapshots/fold05/epoch_4.pkl\n",
      "Taking snapshot...\n",
      "fold_path is still? /project/results/aoutput/snapshots/fold05/\n",
      "/project/results/aoutput/snapshots/fold05/epoch_5.pkl\n",
      "Taking snapshot...\n",
      "fold_path is still? /project/results/aoutput/snapshots/fold05/\n",
      "/project/results/aoutput/snapshots/fold05/epoch_6.pkl\n",
      "Taking snapshot...\n",
      "fold_path is still? /project/results/aoutput/snapshots/fold05/\n",
      "/project/results/aoutput/snapshots/fold05/epoch_7.pkl\n",
      "Taking snapshot...\n",
      "fold_path is still? /project/results/aoutput/snapshots/fold05/\n",
      "/project/results/aoutput/snapshots/fold05/epoch_8.pkl\n",
      "Taking snapshot...\n",
      "fold_path is still? /project/results/aoutput/snapshots/fold05/\n",
      "/project/results/aoutput/snapshots/fold05/epoch_9.pkl\n",
      "Taking snapshot...\n",
      "fold_path is still? /project/results/aoutput/snapshots/fold05/\n",
      "/project/results/aoutput/snapshots/fold05/epoch_10.pkl\n",
      "Taking snapshot...\n",
      "fold_path is still? /project/results/aoutput/snapshots/fold05/\n",
      "/project/results/aoutput/snapshots/fold05/epoch_11.pkl\n",
      "Taking snapshot...\n",
      "fold_path is still? /project/results/aoutput/snapshots/fold05/\n",
      "/project/results/aoutput/snapshots/fold05/epoch_12.pkl\n",
      "Taking snapshot...\n",
      "fold_path is still? /project/results/aoutput/snapshots/fold05/\n",
      "/project/results/aoutput/snapshots/fold05/epoch_13.pkl\n",
      "Taking snapshot...\n",
      "fold_path is still? /project/results/aoutput/snapshots/fold05/\n",
      "/project/results/aoutput/snapshots/fold05/epoch_14.pkl\n",
      "Taking snapshot...\n",
      "fold_path is still? /project/results/aoutput/snapshots/fold05/\n",
      "/project/results/aoutput/snapshots/fold05/epoch_15.pkl\n",
      "Taking snapshot...\n",
      "fold_path is still? /project/results/aoutput/snapshots/fold05/\n",
      "/project/results/aoutput/snapshots/fold05/epoch_16.pkl\n",
      "Taking snapshot...\n",
      "fold_path is still? /project/results/aoutput/snapshots/fold05/\n",
      "/project/results/aoutput/snapshots/fold05/epoch_17.pkl\n",
      "Taking snapshot...\n",
      "fold_path is still? /project/results/aoutput/snapshots/fold05/\n",
      "/project/results/aoutput/snapshots/fold05/epoch_18.pkl\n",
      "Taking snapshot...\n",
      "fold_path is still? /project/results/aoutput/snapshots/fold05/\n",
      "/project/results/aoutput/snapshots/fold05/epoch_19.pkl\n",
      "Taking snapshot...\n",
      "fold_path is still? /project/results/aoutput/snapshots/fold05/\n",
      "/project/results/aoutput/snapshots/fold05/epoch_20.pkl\n",
      "Taking snapshot...\n",
      "fold_path is still? /project/results/aoutput/snapshots/fold05/\n",
      "/project/results/aoutput/snapshots/fold05/epoch_21.pkl\n",
      "Taking snapshot...\n",
      "fold_path is still? /project/results/aoutput/snapshots/fold05/\n",
      "/project/results/aoutput/snapshots/fold05/epoch_22.pkl\n",
      "Taking snapshot...\n",
      "fold_path is still? /project/results/aoutput/snapshots/fold05/\n",
      "/project/results/aoutput/snapshots/fold05/epoch_23.pkl\n",
      "Taking snapshot...\n",
      "fold_path is still? /project/results/aoutput/snapshots/fold05/\n",
      "/project/results/aoutput/snapshots/fold05/epoch_24.pkl\n",
      "Taking snapshot...\n",
      "fold_path is still? /project/results/aoutput/snapshots/fold05/\n",
      "/project/results/aoutput/snapshots/fold05/epoch_25.pkl\n",
      "Taking snapshot...\n",
      "fold_path is still? /project/results/aoutput/snapshots/fold05/\n",
      "/project/results/aoutput/snapshots/fold05/epoch_26.pkl\n",
      "Taking snapshot...\n",
      "fold_path is still? /project/results/aoutput/snapshots/fold05/\n",
      "/project/results/aoutput/snapshots/fold05/epoch_27.pkl\n",
      "Taking snapshot...\n",
      "fold_path is still? /project/results/aoutput/snapshots/fold05/\n",
      "/project/results/aoutput/snapshots/fold05/epoch_28.pkl\n",
      "Taking snapshot...\n",
      "fold_path is still? /project/results/aoutput/snapshots/fold05/\n",
      "/project/results/aoutput/snapshots/fold05/epoch_29.pkl\n",
      "Taking snapshot...\n",
      "fold_path is still? /project/results/aoutput/snapshots/fold05/\n",
      "/project/results/aoutput/snapshots/fold05/epoch_30.pkl\n",
      "Taking snapshot...\n",
      "fold_path is still? /project/results/aoutput/snapshots/fold05/\n",
      "/project/results/aoutput/snapshots/fold05/epoch_31.pkl\n",
      "Taking snapshot...\n",
      "fold_path is still? /project/results/aoutput/snapshots/fold05/\n",
      "/project/results/aoutput/snapshots/fold05/epoch_32.pkl\n",
      "Taking snapshot...\n",
      "fold_path is still? /project/results/aoutput/snapshots/fold05/\n",
      "/project/results/aoutput/snapshots/fold05/epoch_33.pkl\n",
      "Taking snapshot...\n",
      "fold_path is still? /project/results/aoutput/snapshots/fold05/\n",
      "/project/results/aoutput/snapshots/fold05/epoch_34.pkl\n",
      "Taking snapshot...\n",
      "fold_path is still? /project/results/aoutput/snapshots/fold05/\n",
      "/project/results/aoutput/snapshots/fold05/epoch_35.pkl\n",
      "Taking snapshot...\n",
      "fold_path is still? /project/results/aoutput/snapshots/fold05/\n",
      "/project/results/aoutput/snapshots/fold05/epoch_36.pkl\n",
      "Taking snapshot...\n",
      "fold_path is still? /project/results/aoutput/snapshots/fold05/\n",
      "/project/results/aoutput/snapshots/fold05/epoch_37.pkl\n",
      "Taking snapshot...\n",
      "fold_path is still? /project/results/aoutput/snapshots/fold05/\n",
      "/project/results/aoutput/snapshots/fold05/epoch_38.pkl\n",
      "Taking snapshot...\n",
      "fold_path is still? /project/results/aoutput/snapshots/fold05/\n",
      "/project/results/aoutput/snapshots/fold05/epoch_39.pkl\n",
      "Taking snapshot...\n",
      "fold_path is still? /project/results/aoutput/snapshots/fold05/\n",
      "/project/results/aoutput/snapshots/fold05/epoch_40.pkl\n",
      "Taking snapshot...\n",
      "fold_path is still? /project/results/aoutput/snapshots/fold05/\n",
      "/project/results/aoutput/snapshots/fold05/epoch_41.pkl\n",
      "Taking snapshot...\n",
      "fold_path is still? /project/results/aoutput/snapshots/fold05/\n",
      "/project/results/aoutput/snapshots/fold05/epoch_42.pkl\n",
      "Taking snapshot...\n",
      "fold_path is still? /project/results/aoutput/snapshots/fold05/\n",
      "/project/results/aoutput/snapshots/fold05/epoch_43.pkl\n",
      "Taking snapshot...\n",
      "fold_path is still? /project/results/aoutput/snapshots/fold05/\n",
      "/project/results/aoutput/snapshots/fold05/epoch_44.pkl\n",
      "Taking snapshot...\n",
      "fold_path is still? /project/results/aoutput/snapshots/fold05/\n",
      "/project/results/aoutput/snapshots/fold05/epoch_45.pkl\n",
      "Taking snapshot...\n",
      "fold_path is still? /project/results/aoutput/snapshots/fold05/\n",
      "/project/results/aoutput/snapshots/fold05/epoch_46.pkl\n",
      "Taking snapshot...\n",
      "fold_path is still? /project/results/aoutput/snapshots/fold05/\n",
      "/project/results/aoutput/snapshots/fold05/epoch_47.pkl\n",
      "Taking snapshot...\n",
      "fold_path is still? /project/results/aoutput/snapshots/fold05/\n",
      "/project/results/aoutput/snapshots/fold05/epoch_48.pkl\n",
      "Taking snapshot...\n",
      "fold_path is still? /project/results/aoutput/snapshots/fold05/\n",
      "/project/results/aoutput/snapshots/fold05/epoch_49.pkl\n",
      "Taking snapshot...\n",
      "fold_path is still? /project/results/aoutput/snapshots/fold05/\n",
      "/project/results/aoutput/snapshots/fold05/epoch_50.pkl\n",
      "Taking snapshot...\n",
      "fold_path is still? /project/results/aoutput/snapshots/fold05/\n",
      "/project/results/aoutput/snapshots/fold05/epoch_51.pkl\n",
      "Taking snapshot...\n",
      "fold_path is still? /project/results/aoutput/snapshots/fold05/\n",
      "/project/results/aoutput/snapshots/fold05/epoch_52.pkl\n",
      "Taking snapshot...\n",
      "fold_path is still? /project/results/aoutput/snapshots/fold05/\n",
      "/project/results/aoutput/snapshots/fold05/epoch_53.pkl\n",
      "Taking snapshot...\n",
      "fold_path is still? /project/results/aoutput/snapshots/fold05/\n",
      "/project/results/aoutput/snapshots/fold05/epoch_54.pkl\n",
      "Taking snapshot...\n",
      "fold_path is still? /project/results/aoutput/snapshots/fold05/\n",
      "/project/results/aoutput/snapshots/fold05/epoch_55.pkl\n",
      "Taking snapshot...\n",
      "fold_path is still? /project/results/aoutput/snapshots/fold05/\n",
      "/project/results/aoutput/snapshots/fold05/epoch_56.pkl\n",
      "Taking snapshot...\n",
      "fold_path is still? /project/results/aoutput/snapshots/fold05/\n",
      "/project/results/aoutput/snapshots/fold05/epoch_57.pkl\n",
      "Taking snapshot...\n",
      "fold_path is still? /project/results/aoutput/snapshots/fold05/\n",
      "/project/results/aoutput/snapshots/fold05/epoch_58.pkl\n",
      "Taking snapshot...\n",
      "fold_path is still? /project/results/aoutput/snapshots/fold05/\n",
      "/project/results/aoutput/snapshots/fold05/epoch_59.pkl\n",
      "Taking snapshot...\n"
     ]
    }
   ],
   "source": [
    "%%time\n",
    "start = time.time()\n",
    "\n",
    "folder = os.listdir(args.gazeMpiilabel_dir)\n",
    "folder.sort()\n",
    "testlabelpathcombined = [os.path.join(args.gazeMpiilabel_dir, j) for j in folder]\n",
    "for fold in range(15):\n",
    "    \n",
    "    wandb.init(project='adata_training')\n",
    "    \n",
    "    model, pre_url = getArch_weights(args.arch, 28)\n",
    "    print(fold, model.conv1)\n",
    "    load_filtered_state_dict(model, model_zoo.load_url(pre_url))\n",
    "    print('Loading data.')\n",
    "    dataset=datasets.Mpiigaze(testlabelpathcombined,args.gazeMpiimage_dir, transformations, True, 180, fold)\n",
    "    \n",
    "    train_loader_gaze = DataLoader(\n",
    "        dataset=dataset,\n",
    "        batch_size=int(batch_size),\n",
    "        shuffle=True,\n",
    "        num_workers=4,\n",
    "        pin_memory=True)\n",
    "    \n",
    "    torch.backends.cudnn.benchmark = True\n",
    "    \n",
    "    fold_path = os.path.join(output, 'fold' + f'{fold:0>2}'+'/')\n",
    "    print(f\"fold_path is {fold_path}\")\n",
    "    if not os.path.exists(fold_path):\n",
    "        os.makedirs(fold_path)\n",
    "    \n",
    "    criterion = nn.CrossEntropyLoss().cuda(gpu)\n",
    "    reg_criterion = nn.MSELoss().cuda(gpu)\n",
    "    softmax = nn.Softmax(dim=1).cuda(gpu)\n",
    "    idx_tensor = [idx for idx in range(28)]\n",
    "    idx_tensor = Variable(torch.FloatTensor(idx_tensor)).cuda(gpu)\n",
    "\n",
    "    #### origianally wrong number of arguments\n",
    "    optimizer_gaze = torch.optim.Adam([\n",
    "        {'params': get_ignored_params(model), 'lr': 0}, \n",
    "        {'params': get_non_ignored_params(model), 'lr': args.lr},\n",
    "        {'params': get_fc_params(model), 'lr': args.lr}\n",
    "    ], args.lr)\n",
    "\n",
    "    \n",
    "    \n",
    "    configuration = f\"\\ntrain configuration, gpu_id={args.gpu_id}, batch_size={batch_size}, model_arch={args.arch}\\n Start training dataset={data_set}, loader={len(train_loader_gaze)}, fold={fold}--------------\\n\"\n",
    "#     print(configuration)\n",
    "    model.to(gpu)\n",
    "    model = nn.DataParallel(model, device_ids=[0,1,2,3])\n",
    "    \n",
    "    for epoch in range(num_epochs):\n",
    "        sum_loss_pitch_gaze = sum_loss_yaw_gaze = iter_gaze = 0\n",
    "\n",
    "        for i, (images_gaze, labels_gaze, cont_labels_gaze,name) in enumerate(train_loader_gaze):\n",
    "            images_gaze = Variable(images_gaze).cuda(gpu)\n",
    "\n",
    "            # Binned labels\n",
    "            label_pitch_gaze = Variable(labels_gaze[:, 0]).cuda(gpu)\n",
    "            label_yaw_gaze = Variable(labels_gaze[:, 1]).cuda(gpu)\n",
    "\n",
    "            # Continuous labels\n",
    "            label_pitch_cont_gaze = Variable(cont_labels_gaze[:, 0]).cuda(gpu)\n",
    "            label_yaw_cont_gaze = Variable(cont_labels_gaze[:, 1]).cuda(gpu)\n",
    "\n",
    "            pitch, yaw = model(images_gaze)\n",
    "\n",
    "            # Cross entropy loss\n",
    "            loss_pitch_gaze = criterion(pitch, label_pitch_gaze)\n",
    "            loss_yaw_gaze = criterion(yaw, label_yaw_gaze)\n",
    "\n",
    "            # MSE loss\n",
    "            pitch_predicted = softmax(pitch)\n",
    "            yaw_predicted = softmax(yaw)\n",
    "\n",
    "            # mapping from binned (0 to 28) to angels (-42 to 42) \n",
    "            pitch_predicted = \\\n",
    "                torch.sum(pitch_predicted * idx_tensor, 1) * 3 - 42\n",
    "            yaw_predicted = \\\n",
    "                torch.sum(yaw_predicted * idx_tensor, 1) * 3 - 42\n",
    "\n",
    "            loss_reg_pitch = reg_criterion(\n",
    "                pitch_predicted, label_pitch_cont_gaze)\n",
    "            loss_reg_yaw = reg_criterion(\n",
    "                yaw_predicted, label_yaw_cont_gaze)\n",
    "\n",
    "            \n",
    "            # Total loss\n",
    "            loss_pitch_gaze += alpha * loss_reg_pitch\n",
    "            loss_yaw_gaze += alpha * loss_reg_yaw\n",
    "\n",
    "            sum_loss_pitch_gaze += loss_pitch_gaze\n",
    "            sum_loss_yaw_gaze += loss_yaw_gaze\n",
    "\n",
    "            \n",
    "            \n",
    "            loss_seq = [loss_pitch_gaze, loss_yaw_gaze]\n",
    "            grad_seq = \\\n",
    "                [torch.tensor(1.0).cuda(gpu) for _ in range(len(loss_seq))]\n",
    "\n",
    "            optimizer_gaze.zero_grad(set_to_none=True)\n",
    "            torch.autograd.backward(loss_seq, grad_seq)\n",
    "            optimizer_gaze.step()\n",
    "\n",
    "            iter_gaze += 1\n",
    "            yaw_loss = sum_loss_pitch_gaze/iter_gaze\n",
    "            pitch_loss = sum_loss_yaw_gaze/iter_gaze\n",
    "            \n",
    "            iterations = len(dataset)//batch_size\n",
    "            div10 = iterations/10\n",
    "            if (i+1) % div10 == 0:  #for every div10 batches\n",
    "                now=time.time()\n",
    "                elapsed = now-start\n",
    "                \n",
    "\n",
    "                print(f'Fold: {fold} Epoch [{epoch+1}/{num_epochs}], Iter [{i+1}/{len(dataset)//batch_size}] Losses: '\n",
    "                        f'Gaze Yaw {yaw_loss:.4f},Gaze Pitch {pitch_loss:.3f}'\n",
    "                         f' elapsed:{elapsed:.1f}s')\n",
    "                \n",
    "                wandb.log({f'fold_{fold}_pitch_loss':pitch_loss, f'fold_{fold}_yaw_loss':yaw_loss })\n",
    "    \n",
    "        if epoch % 1 == 0 and epoch < num_epochs:\n",
    "            print(f\"fold_path is still? {fold_path}, epoch = {epoch+1}\")\n",
    "            pathf = fold_path + 'epoch_' + str(epoch+1) + '.pkl'\n",
    "            print(pathf)\n",
    "            print('Taking snapshot...')\n",
    "            \n",
    "            torch.save({\n",
    "                'epoch': epoch,\n",
    "                'model_state_dict': model.state_dict(),\n",
    "                'optimizer_state_dict': optimizer_gaze\n",
    "                    .state_dict(),\n",
    "                'pitch_loss': pitch_loss,\n",
    "                'yaw_loss': yaw_loss\n",
    "                }, pathf)\n",
    "            \n"
   ]
  },
  {
   "cell_type": "code",
   "execution_count": 13,
   "id": "1594c041",
   "metadata": {},
   "outputs": [
    {
     "name": "stdout",
     "output_type": "stream",
     "text": [
      "total 4\r\n",
      "drwxr-xr-x 17 root root 6144 Jun 23 17:52 snapshots\r\n"
     ]
    }
   ],
   "source": [
    "!ls -l /project/results/aoutput"
   ]
  },
  {
   "cell_type": "code",
   "execution_count": null,
   "id": "16dfb53a",
   "metadata": {},
   "outputs": [],
   "source": []
  },
  {
   "cell_type": "code",
   "execution_count": null,
   "id": "ab3703a1",
   "metadata": {},
   "outputs": [],
   "source": []
  },
  {
   "cell_type": "code",
   "execution_count": null,
   "id": "81a9969d",
   "metadata": {},
   "outputs": [],
   "source": []
  },
  {
   "cell_type": "code",
   "execution_count": null,
   "id": "11ac279c",
   "metadata": {},
   "outputs": [],
   "source": []
  }
 ],
 "metadata": {
  "kernelspec": {
   "display_name": "Python 3 (ipykernel)",
   "language": "python",
   "name": "python3"
  },
  "language_info": {
   "codemirror_mode": {
    "name": "ipython",
    "version": 3
   },
   "file_extension": ".py",
   "mimetype": "text/x-python",
   "name": "python",
   "nbconvert_exporter": "python",
   "pygments_lexer": "ipython3",
   "version": "3.8.10"
  }
 },
 "nbformat": 4,
 "nbformat_minor": 5
}
