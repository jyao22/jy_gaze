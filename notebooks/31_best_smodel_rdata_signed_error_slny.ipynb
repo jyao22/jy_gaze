{
 "cells": [
  {
   "cell_type": "code",
   "execution_count": 1,
   "id": "8c2d16e8",
   "metadata": {},
   "outputs": [],
   "source": [
    "# best syn model r data, slny: switchh label, negated yaw"
   ]
  },
  {
   "cell_type": "code",
   "execution_count": 2,
   "id": "662efc9c",
   "metadata": {},
   "outputs": [],
   "source": [
    "import os, argparse\n",
    "import numpy as np\n",
    "import matplotlib.pyplot as plt\n",
    "from datetime import datetime\n",
    "from pytz import timezone\n",
    "import torch\n",
    "import torch.nn as nn\n",
    "from torch.autograd import Variable\n",
    "from torch.utils.data import DataLoader\n",
    "from torchvision import transforms\n",
    "import torch.backends.cudnn as cudnn\n",
    "import torchvision\n",
    "import wandb\n",
    "\n",
    "import datasets\n",
    "# from utils import select_device, natural_keys, gazeto3d, angular, getArch\n",
    "from utils import select_device, natural_keys, gazeto3d, angular, getArch\n",
    "from model import L2CS"
   ]
  },
  {
   "cell_type": "code",
   "execution_count": 3,
   "id": "abd3bfac",
   "metadata": {},
   "outputs": [
    {
     "name": "stdout",
     "output_type": "stream",
     "text": [
      "61 61 61 61 61 61 61 61 61 61 61 61 61 61 61 "
     ]
    }
   ],
   "source": [
    "# check if we have the correct number of checkpoint files \n",
    "ppath ='/project/results/soutput/snapshots/' \n",
    "for fold in range(15):\n",
    "    foldstr = f\"fold{fold:0>2}\"\n",
    "    cpath =os.path.join(ppath, foldstr)\n",
    "    files = os.listdir(cpath)\n",
    "    print(len(files), end=\" \")"
   ]
  },
  {
   "cell_type": "code",
   "execution_count": 4,
   "id": "ed29c578",
   "metadata": {},
   "outputs": [],
   "source": [
    "args = argparse.Namespace()\n",
    "args.gazeMpiimage_dir = '/project/data/Image'  # syn data \n",
    "args.gazeMpiilabel_dir = '/project/data/Label'  # syn label\n",
    "args.dataset = 'mpiigaze'\n",
    "args.snapshot='/project/results/soutput/snapshots/'  # real data model\n",
    "args.gpu_id = '0,1,2,3'\n",
    "args.gpu_id = '0'\n",
    "args.batch_size = 20\n",
    "args.arch = 'ResNet50'\n",
    "args.bins=28\n",
    "args.angle = 180\n",
    "args.bin_width = 4\n"
   ]
  },
  {
   "cell_type": "code",
   "execution_count": 5,
   "id": "d0e11321",
   "metadata": {},
   "outputs": [],
   "source": [
    "batch_size=args.batch_size\n",
    "arch=args.arch\n",
    "data_set=args.dataset\n",
    "snapshot_path = args.snapshot\n",
    "bins=args.bins\n",
    "angle=args.angle\n",
    "bin_width=args.bin_width\n",
    "cudnn.enabled = True\n",
    "gazeMpiimage_dir = args.gazeMpiimage_dir\n",
    "gazeMpiilabel_dir = args.gazeMpiilabel_dir"
   ]
  },
  {
   "cell_type": "code",
   "execution_count": 6,
   "id": "ee43ec23",
   "metadata": {},
   "outputs": [
    {
     "name": "stdout",
     "output_type": "stream",
     "text": [
      "README\taoutput  daoutput  output  rsoutput  soutput  sroutput\r\n"
     ]
    }
   ],
   "source": [
    "!ls ../results"
   ]
  },
  {
   "cell_type": "code",
   "execution_count": 7,
   "id": "0504fda4",
   "metadata": {},
   "outputs": [],
   "source": [
    "gpu = select_device(args.gpu_id, batch_size=args.batch_size)\n",
    "transformations = transforms.Compose([\n",
    "    transforms.Resize(448),\n",
    "    transforms.ToTensor(),\n",
    "    transforms.Normalize(\n",
    "        mean=[0.485, 0.456, 0.406],\n",
    "        std=[0.229, 0.224, 0.225]\n",
    "    )\n",
    "])\n",
    "\n",
    "model_used=getArch(arch, bins)  #resnet50 and 28 bins"
   ]
  },
  {
   "cell_type": "code",
   "execution_count": 8,
   "id": "2d262ede",
   "metadata": {},
   "outputs": [],
   "source": [
    "def run_fold(fold, pitch_xs, pitch_ys, yaw_xs, yaw_ys, pitch_errs, yaw_errs):\n",
    "    \n",
    "    gaze_dataset=datasets.Mpiigaze(testlabelpathcombined, gazeMpiimage_dir, transformations, False, angle, fold)\n",
    "\n",
    "    test_loader = torch.utils.data.DataLoader(\n",
    "        dataset=gaze_dataset,\n",
    "        batch_size=batch_size,\n",
    "        shuffle=False,\n",
    "        num_workers=4,\n",
    "        pin_memory=True)\n",
    "\n",
    "    # list all 60 epochs of the fold for testing\n",
    "    folder = os.listdir(os.path.join(snapshot_path, \"fold\" + f'{fold:0>2}'))\n",
    "    folder.sort(key=natural_keys)\n",
    "    folder.pop(-1)\n",
    "    \n",
    "    \n",
    "    \n",
    "    for epochs in folder: \n",
    "        x = ''.join(filter(lambda i: i.isdigit(), epochs))\n",
    "        x = int(x)\n",
    "        if x != BEST_EPOCH:\n",
    "            continue\n",
    "        #         print(f\"epochs={epochs}\")\n",
    "        model=model_used\n",
    "        checkpoint = torch.load(os.path.join(snapshot_path+\"fold\"+f'{fold:0>2}', epochs))\n",
    "        #         print(f\"checkpoint={checkpoint}\")\n",
    "        saved_state_dict = checkpoint['model_state_dict']\n",
    "        model= nn.DataParallel(model,device_ids=[0])\n",
    "        model.load_state_dict(saved_state_dict)\n",
    "        model.cuda(gpu)\n",
    "        model.eval()\n",
    "        total = 0\n",
    "        idx_tensor = [idx for idx in range(28)]\n",
    "        idx_tensor = torch.FloatTensor(idx_tensor).cuda(gpu)\n",
    "        avg_error = .0\n",
    "\n",
    "        print(f\"epochs={epochs}\")\n",
    "\n",
    "        with torch.no_grad():\n",
    "            for j, (images, labels, cont_labels, name) in enumerate(test_loader):\n",
    "        #                 print(f\"name={name}\")\n",
    "                images = Variable(images).cuda(gpu)\n",
    "                total += cont_labels.size(0)\n",
    "\n",
    "                label_pitch = cont_labels[:,0].float()*np.pi/180\n",
    "                label_yaw = cont_labels[:,1].float()*np.pi/180\n",
    "\n",
    "                gaze_pitch, gaze_yaw = model(images)\n",
    "\n",
    "                # Binned predictions\n",
    "                _, pitch_bpred = torch.max(gaze_pitch.data, 1)\n",
    "                _, yaw_bpred = torch.max(gaze_yaw.data, 1)\n",
    "\n",
    "                # Continuous predictions\n",
    "                pitch_predicted = softmax(gaze_pitch)\n",
    "                yaw_predicted = softmax(gaze_yaw)\n",
    "\n",
    "                # mapping from binned (0 to 28) to angels (-42 to 42)                \n",
    "                pitch_predicted = \\\n",
    "                    torch.sum(pitch_predicted * idx_tensor, 1).cpu() * 3 - 42\n",
    "                yaw_predicted = \\\n",
    "                    torch.sum(yaw_predicted * idx_tensor, 1).cpu() * 3 - 42\n",
    "\n",
    "                pitch_predicted = pitch_predicted*np.pi/180\n",
    "                yaw_predicted = yaw_predicted*np.pi/180\n",
    "\n",
    "                ## switch label, reverse yao\n",
    "                label_pitch, label_yaw = label_yaw, label_pitch*(-1.0)\n",
    "\n",
    "                pitch_errors = (pitch_predicted - label_pitch)*180/np.pi\n",
    "                tdict = dict(zip(name, pitch_errors))\n",
    "                pitch_errs.update(tdict)\n",
    "\n",
    "                yaw_errors = (yaw_predicted - label_yaw)*180/np.pi\n",
    "                tdict = dict(zip(name, yaw_errors))\n",
    "                yaw_errs.update(tdict)\n",
    "\n",
    "                label_pitch = label_pitch*180.0/np.pi\n",
    "                label_yaw = label_yaw*180/np.pi\n",
    "                pitch_xs.extend(label_pitch.numpy())\n",
    "                pitch_ys.extend(pitch_errors.numpy())\n",
    "                yaw_xs.extend(label_yaw.numpy())\n",
    "                yaw_ys.extend(yaw_errors.numpy())\n",
    "                \n",
    "                "
   ]
  },
  {
   "cell_type": "code",
   "execution_count": 9,
   "id": "f47539e8",
   "metadata": {},
   "outputs": [
    {
     "name": "stdout",
     "output_type": "stream",
     "text": [
      "fold=0\n",
      "\n",
      "test configuration equal gpu_id=cuda:0, batch_size=20, model_arch=ResNet50\n",
      "Start testing dataset=mpiigaze, FOLD=0 --06/22/2022 19:21:41---------\n",
      "0 items removed from dataset that have an angle > 180\n",
      "epochs=epoch_7.pkl\n",
      "fold=1\n",
      "\n",
      "test configuration equal gpu_id=cuda:0, batch_size=20, model_arch=ResNet50\n",
      "Start testing dataset=mpiigaze, FOLD=1 --06/22/2022 19:21:59---------\n",
      "0 items removed from dataset that have an angle > 180\n",
      "epochs=epoch_7.pkl\n",
      "fold=2\n",
      "\n",
      "test configuration equal gpu_id=cuda:0, batch_size=20, model_arch=ResNet50\n",
      "Start testing dataset=mpiigaze, FOLD=2 --06/22/2022 19:22:11---------\n",
      "0 items removed from dataset that have an angle > 180\n",
      "epochs=epoch_7.pkl\n",
      "fold=3\n",
      "\n",
      "test configuration equal gpu_id=cuda:0, batch_size=20, model_arch=ResNet50\n",
      "Start testing dataset=mpiigaze, FOLD=3 --06/22/2022 19:22:23---------\n",
      "0 items removed from dataset that have an angle > 180\n",
      "epochs=epoch_7.pkl\n",
      "fold=4\n",
      "\n",
      "test configuration equal gpu_id=cuda:0, batch_size=20, model_arch=ResNet50\n",
      "Start testing dataset=mpiigaze, FOLD=4 --06/22/2022 19:22:36---------\n",
      "0 items removed from dataset that have an angle > 180\n",
      "epochs=epoch_7.pkl\n",
      "fold=5\n",
      "\n",
      "test configuration equal gpu_id=cuda:0, batch_size=20, model_arch=ResNet50\n",
      "Start testing dataset=mpiigaze, FOLD=5 --06/22/2022 19:22:48---------\n",
      "0 items removed from dataset that have an angle > 180\n",
      "epochs=epoch_7.pkl\n",
      "fold=6\n",
      "\n",
      "test configuration equal gpu_id=cuda:0, batch_size=20, model_arch=ResNet50\n",
      "Start testing dataset=mpiigaze, FOLD=6 --06/22/2022 19:23:01---------\n",
      "0 items removed from dataset that have an angle > 180\n",
      "epochs=epoch_7.pkl\n",
      "fold=7\n",
      "\n",
      "test configuration equal gpu_id=cuda:0, batch_size=20, model_arch=ResNet50\n",
      "Start testing dataset=mpiigaze, FOLD=7 --06/22/2022 19:23:13---------\n",
      "0 items removed from dataset that have an angle > 180\n",
      "epochs=epoch_7.pkl\n",
      "fold=8\n",
      "\n",
      "test configuration equal gpu_id=cuda:0, batch_size=20, model_arch=ResNet50\n",
      "Start testing dataset=mpiigaze, FOLD=8 --06/22/2022 19:23:25---------\n",
      "0 items removed from dataset that have an angle > 180\n",
      "epochs=epoch_7.pkl\n",
      "fold=9\n",
      "\n",
      "test configuration equal gpu_id=cuda:0, batch_size=20, model_arch=ResNet50\n",
      "Start testing dataset=mpiigaze, FOLD=9 --06/22/2022 19:23:38---------\n",
      "0 items removed from dataset that have an angle > 180\n",
      "epochs=epoch_7.pkl\n",
      "fold=10\n",
      "\n",
      "test configuration equal gpu_id=cuda:0, batch_size=20, model_arch=ResNet50\n",
      "Start testing dataset=mpiigaze, FOLD=10 --06/22/2022 19:23:50---------\n",
      "0 items removed from dataset that have an angle > 180\n",
      "epochs=epoch_7.pkl\n",
      "fold=11\n",
      "\n",
      "test configuration equal gpu_id=cuda:0, batch_size=20, model_arch=ResNet50\n",
      "Start testing dataset=mpiigaze, FOLD=11 --06/22/2022 19:24:02---------\n",
      "0 items removed from dataset that have an angle > 180\n",
      "epochs=epoch_7.pkl\n",
      "fold=12\n",
      "\n",
      "test configuration equal gpu_id=cuda:0, batch_size=20, model_arch=ResNet50\n",
      "Start testing dataset=mpiigaze, FOLD=12 --06/22/2022 19:24:15---------\n",
      "0 items removed from dataset that have an angle > 180\n",
      "epochs=epoch_7.pkl\n",
      "fold=13\n",
      "\n",
      "test configuration equal gpu_id=cuda:0, batch_size=20, model_arch=ResNet50\n",
      "Start testing dataset=mpiigaze, FOLD=13 --06/22/2022 19:24:27---------\n",
      "0 items removed from dataset that have an angle > 180\n",
      "epochs=epoch_7.pkl\n",
      "fold=14\n",
      "\n",
      "test configuration equal gpu_id=cuda:0, batch_size=20, model_arch=ResNet50\n",
      "Start testing dataset=mpiigaze, FOLD=14 --06/22/2022 19:24:39---------\n",
      "0 items removed from dataset that have an angle > 180\n",
      "epochs=epoch_7.pkl\n",
      "CPU times: user 2min 49s, sys: 1min 8s, total: 3min 58s\n",
      "Wall time: 3min 11s\n"
     ]
    }
   ],
   "source": [
    "%%time\n",
    "\n",
    "pitch_errs = {}\n",
    "yaw_errs = {}\n",
    "\n",
    "pitch_xs = []\n",
    "pitch_ys = []\n",
    "yaw_xs = []\n",
    "yaw_ys =[]\n",
    "\n",
    "BEST_EPOCH = 7\n",
    "\n",
    "folder = os.listdir(gazeMpiilabel_dir)\n",
    "folder.sort()  #individual label files\n",
    "testlabelpathcombined = [os.path.join(args.gazeMpiilabel_dir, j) for j in folder] \n",
    "\n",
    "# print(testlabelpathcombined)\n",
    "\n",
    "for fold in range(15):\n",
    "    print(f\"fold={fold}\")\n",
    "    \n",
    "    now = datetime.utcnow()\n",
    "    now = now.astimezone(timezone('US/Pacific'))\n",
    "    date_format='%m/%d/%Y %H:%M:%S'\n",
    "    now = now.strftime(date_format)       \n",
    "\n",
    "    softmax = nn.Softmax(dim=1)\n",
    "    configuration = (f\"\\ntest configuration equal gpu_id={gpu}, batch_size={batch_size}, model_arch={arch}\\n\"\n",
    "                     f\"Start testing dataset={data_set}, FOLD={fold} --{now}---------\")\n",
    "    print(configuration)\n",
    "\n",
    "    run_fold(fold, pitch_xs, pitch_ys, yaw_xs, yaw_ys, pitch_errs, yaw_errs)\n",
    "    \n",
    "                "
   ]
  },
  {
   "cell_type": "code",
   "execution_count": 10,
   "id": "065622ef",
   "metadata": {},
   "outputs": [],
   "source": [
    "pitch_errs = dict(sorted(pitch_errs.items(), key=lambda item: item[1], reverse=True))\n",
    "yaw_errs = dict(sorted(yaw_errs.items(), key=lambda item: item[1], reverse=True))\n",
    "\n",
    "pitch_errors = np.array(list(pitch_errs.values()))\n",
    "yaw_errors = np.array(list(yaw_errs.values()))"
   ]
  },
  {
   "cell_type": "code",
   "execution_count": null,
   "id": "715afb18",
   "metadata": {},
   "outputs": [],
   "source": []
  },
  {
   "cell_type": "code",
   "execution_count": 11,
   "id": "a7f4885c",
   "metadata": {},
   "outputs": [
    {
     "name": "stderr",
     "output_type": "stream",
     "text": [
      "\u001b[34m\u001b[1mwandb\u001b[0m: Currently logged in as: \u001b[33msynthesis-ai\u001b[0m (use `wandb login --relogin` to force relogin)\n"
     ]
    },
    {
     "data": {
      "text/html": [
       "wandb version 0.12.19 is available!  To upgrade, please run:\n",
       " $ pip install wandb --upgrade"
      ],
      "text/plain": [
       "<IPython.core.display.HTML object>"
      ]
     },
     "metadata": {},
     "output_type": "display_data"
    },
    {
     "data": {
      "text/html": [
       "Tracking run with wandb version 0.12.15"
      ],
      "text/plain": [
       "<IPython.core.display.HTML object>"
      ]
     },
     "metadata": {},
     "output_type": "display_data"
    },
    {
     "data": {
      "text/html": [
       "Run data is saved locally in <code>/project/notebooks/wandb/run-20220623_022456-73ntm3gh</code>"
      ],
      "text/plain": [
       "<IPython.core.display.HTML object>"
      ]
     },
     "metadata": {},
     "output_type": "display_data"
    },
    {
     "data": {
      "text/html": [
       "Syncing run <strong><a href=\"https://wandb.ai/synthesis-ai/31%20best%20syn%20model%20real%20data%20SLNY/runs/73ntm3gh\" target=\"_blank\">splendid-plasma-5</a></strong> to <a href=\"https://wandb.ai/synthesis-ai/31%20best%20syn%20model%20real%20data%20SLNY\" target=\"_blank\">Weights & Biases</a> (<a href=\"https://wandb.me/run\" target=\"_blank\">docs</a>)<br/>"
      ],
      "text/plain": [
       "<IPython.core.display.HTML object>"
      ]
     },
     "metadata": {},
     "output_type": "display_data"
    },
    {
     "data": {
      "text/html": [
       "Waiting for W&B process to finish... <strong style=\"color:green\">(success).</strong>"
      ],
      "text/plain": [
       "<IPython.core.display.HTML object>"
      ]
     },
     "metadata": {},
     "output_type": "display_data"
    },
    {
     "data": {
      "application/vnd.jupyter.widget-view+json": {
       "model_id": "",
       "version_major": 2,
       "version_minor": 0
      },
      "text/plain": [
       "VBox(children=(Label(value='0.001 MB of 0.009 MB uploaded (0.000 MB deduped)\\r'), FloatProgress(value=0.071694…"
      ]
     },
     "metadata": {},
     "output_type": "display_data"
    },
    {
     "data": {
      "text/html": [
       "Synced <strong style=\"color:#cdcd00\">splendid-plasma-5</strong>: <a href=\"https://wandb.ai/synthesis-ai/31%20best%20syn%20model%20real%20data%20SLNY/runs/73ntm3gh\" target=\"_blank\">https://wandb.ai/synthesis-ai/31%20best%20syn%20model%20real%20data%20SLNY/runs/73ntm3gh</a><br/>Synced 4 W&B file(s), 1 media file(s), 0 artifact file(s) and 0 other file(s)"
      ],
      "text/plain": [
       "<IPython.core.display.HTML object>"
      ]
     },
     "metadata": {},
     "output_type": "display_data"
    },
    {
     "data": {
      "text/html": [
       "Find logs at: <code>./wandb/run-20220623_022456-73ntm3gh/logs</code>"
      ],
      "text/plain": [
       "<IPython.core.display.HTML object>"
      ]
     },
     "metadata": {},
     "output_type": "display_data"
    },
    {
     "data": {
      "image/png": "[encoded data removed]",
      "text/plain": [
       "<Figure size 432x288 with 1 Axes>"
      ]
     },
     "metadata": {
      "needs_background": "light"
     },
     "output_type": "display_data"
    }
   ],
   "source": [
    "with wandb.init(project=\"31 best syn model real data SLNY\") as run:\n",
    "    plt.hist(pitch_errors, bins=40)\n",
    "    plt.title(\"signed pitch error distribution: syn model real data\")\n",
    "    plt.xlabel(\"degree\")\n",
    "    run.log({\"data\":wandb.Image(plt)})"
   ]
  },
  {
   "cell_type": "code",
   "execution_count": 12,
   "id": "22a353bf",
   "metadata": {},
   "outputs": [
    {
     "data": {
      "text/html": [
       "wandb version 0.12.19 is available!  To upgrade, please run:\n",
       " $ pip install wandb --upgrade"
      ],
      "text/plain": [
       "<IPython.core.display.HTML object>"
      ]
     },
     "metadata": {},
     "output_type": "display_data"
    },
    {
     "data": {
      "text/html": [
       "Tracking run with wandb version 0.12.15"
      ],
      "text/plain": [
       "<IPython.core.display.HTML object>"
      ]
     },
     "metadata": {},
     "output_type": "display_data"
    },
    {
     "data": {
      "text/html": [
       "Run data is saved locally in <code>/project/notebooks/wandb/run-20220623_022503-27rxnj4y</code>"
      ],
      "text/plain": [
       "<IPython.core.display.HTML object>"
      ]
     },
     "metadata": {},
     "output_type": "display_data"
    },
    {
     "data": {
      "text/html": [
       "Syncing run <strong><a href=\"https://wandb.ai/synthesis-ai/31%20best%20syn%20model%20real%20data%20SLNY/runs/27rxnj4y\" target=\"_blank\">chocolate-glitter-6</a></strong> to <a href=\"https://wandb.ai/synthesis-ai/31%20best%20syn%20model%20real%20data%20SLNY\" target=\"_blank\">Weights & Biases</a> (<a href=\"https://wandb.me/run\" target=\"_blank\">docs</a>)<br/>"
      ],
      "text/plain": [
       "<IPython.core.display.HTML object>"
      ]
     },
     "metadata": {},
     "output_type": "display_data"
    },
    {
     "data": {
      "text/html": [
       "Waiting for W&B process to finish... <strong style=\"color:green\">(success).</strong>"
      ],
      "text/plain": [
       "<IPython.core.display.HTML object>"
      ]
     },
     "metadata": {},
     "output_type": "display_data"
    },
    {
     "data": {
      "application/vnd.jupyter.widget-view+json": {
       "model_id": "",
       "version_major": 2,
       "version_minor": 0
      },
      "text/plain": [
       "VBox(children=(Label(value='0.008 MB of 0.008 MB uploaded (0.000 MB deduped)\\r'), FloatProgress(value=1.0, max…"
      ]
     },
     "metadata": {},
     "output_type": "display_data"
    },
    {
     "data": {
      "text/html": [
       "Synced <strong style=\"color:#cdcd00\">chocolate-glitter-6</strong>: <a href=\"https://wandb.ai/synthesis-ai/31%20best%20syn%20model%20real%20data%20SLNY/runs/27rxnj4y\" target=\"_blank\">https://wandb.ai/synthesis-ai/31%20best%20syn%20model%20real%20data%20SLNY/runs/27rxnj4y</a><br/>Synced 4 W&B file(s), 1 media file(s), 0 artifact file(s) and 0 other file(s)"
      ],
      "text/plain": [
       "<IPython.core.display.HTML object>"
      ]
     },
     "metadata": {},
     "output_type": "display_data"
    },
    {
     "data": {
      "text/html": [
       "Find logs at: <code>./wandb/run-20220623_022503-27rxnj4y/logs</code>"
      ],
      "text/plain": [
       "<IPython.core.display.HTML object>"
      ]
     },
     "metadata": {},
     "output_type": "display_data"
    },
    {
     "data": {
      "image/png": "[encoded data removed]",
      "text/plain": [
       "<Figure size 432x288 with 1 Axes>"
      ]
     },
     "metadata": {
      "needs_background": "light"
     },
     "output_type": "display_data"
    }
   ],
   "source": [
    "with wandb.init(project=\"31 best syn model real data SLNY\") as run:\n",
    "    plt.hist(yaw_errors, bins=40)\n",
    "    plt.title(\"signed yaw error distribution: syn model real data\")\n",
    "    plt.xlabel(\"degree\")\n",
    "    run.log({\"data\":wandb.Image(plt)})"
   ]
  },
  {
   "cell_type": "code",
   "execution_count": 13,
   "id": "ef170f22",
   "metadata": {},
   "outputs": [
    {
     "data": {
      "text/html": [
       "wandb version 0.12.19 is available!  To upgrade, please run:\n",
       " $ pip install wandb --upgrade"
      ],
      "text/plain": [
       "<IPython.core.display.HTML object>"
      ]
     },
     "metadata": {},
     "output_type": "display_data"
    },
    {
     "data": {
      "text/html": [
       "Tracking run with wandb version 0.12.15"
      ],
      "text/plain": [
       "<IPython.core.display.HTML object>"
      ]
     },
     "metadata": {},
     "output_type": "display_data"
    },
    {
     "data": {
      "text/html": [
       "Run data is saved locally in <code>/project/notebooks/wandb/run-20220623_022511-3vg63vxe</code>"
      ],
      "text/plain": [
       "<IPython.core.display.HTML object>"
      ]
     },
     "metadata": {},
     "output_type": "display_data"
    },
    {
     "data": {
      "text/html": [
       "Syncing run <strong><a href=\"https://wandb.ai/synthesis-ai/31%20best%20syn%20model%20real%20data%20SLNY/runs/3vg63vxe\" target=\"_blank\">fearless-armadillo-7</a></strong> to <a href=\"https://wandb.ai/synthesis-ai/31%20best%20syn%20model%20real%20data%20SLNY\" target=\"_blank\">Weights & Biases</a> (<a href=\"https://wandb.me/run\" target=\"_blank\">docs</a>)<br/>"
      ],
      "text/plain": [
       "<IPython.core.display.HTML object>"
      ]
     },
     "metadata": {},
     "output_type": "display_data"
    },
    {
     "data": {
      "text/html": [
       "Waiting for W&B process to finish... <strong style=\"color:green\">(success).</strong>"
      ],
      "text/plain": [
       "<IPython.core.display.HTML object>"
      ]
     },
     "metadata": {},
     "output_type": "display_data"
    },
    {
     "data": {
      "application/vnd.jupyter.widget-view+json": {
       "model_id": "",
       "version_major": 2,
       "version_minor": 0
      },
      "text/plain": [
       "VBox(children=(Label(value='1.812 MB of 2.214 MB uploaded (0.000 MB deduped)\\r'), FloatProgress(value=0.818530…"
      ]
     },
     "metadata": {},
     "output_type": "display_data"
    },
    {
     "data": {
      "text/html": [
       "Synced <strong style=\"color:#cdcd00\">fearless-armadillo-7</strong>: <a href=\"https://wandb.ai/synthesis-ai/31%20best%20syn%20model%20real%20data%20SLNY/runs/3vg63vxe\" target=\"_blank\">https://wandb.ai/synthesis-ai/31%20best%20syn%20model%20real%20data%20SLNY/runs/3vg63vxe</a><br/>Synced 4 W&B file(s), 1 media file(s), 1 artifact file(s) and 0 other file(s)"
      ],
      "text/plain": [
       "<IPython.core.display.HTML object>"
      ]
     },
     "metadata": {},
     "output_type": "display_data"
    },
    {
     "data": {
      "text/html": [
       "Find logs at: <code>./wandb/run-20220623_022511-3vg63vxe/logs</code>"
      ],
      "text/plain": [
       "<IPython.core.display.HTML object>"
      ]
     },
     "metadata": {},
     "output_type": "display_data"
    }
   ],
   "source": [
    "with wandb.init(project=\"31 best syn model real data SLNY\") as run:\n",
    "    data = [[x, y] for (x, y) in zip(pitch_xs, pitch_ys)]\n",
    "    table = wandb.Table(data=data, columns = [\"truth_degree\", \"error_degree\"])\n",
    "    wandb.log({\"pitch_error_scatter\" : wandb.plot.scatter(table, \"truth_degree\", \"error_degree\", title=\"pitch error vs ground truth\")})\n"
   ]
  },
  {
   "cell_type": "code",
   "execution_count": 14,
   "id": "10567018",
   "metadata": {},
   "outputs": [
    {
     "data": {
      "text/html": [
       "wandb version 0.12.19 is available!  To upgrade, please run:\n",
       " $ pip install wandb --upgrade"
      ],
      "text/plain": [
       "<IPython.core.display.HTML object>"
      ]
     },
     "metadata": {},
     "output_type": "display_data"
    },
    {
     "data": {
      "text/html": [
       "Tracking run with wandb version 0.12.15"
      ],
      "text/plain": [
       "<IPython.core.display.HTML object>"
      ]
     },
     "metadata": {},
     "output_type": "display_data"
    },
    {
     "data": {
      "text/html": [
       "Run data is saved locally in <code>/project/notebooks/wandb/run-20220623_022522-124nfyaj</code>"
      ],
      "text/plain": [
       "<IPython.core.display.HTML object>"
      ]
     },
     "metadata": {},
     "output_type": "display_data"
    },
    {
     "data": {
      "text/html": [
       "Syncing run <strong><a href=\"https://wandb.ai/synthesis-ai/31%20best%20syn%20model%20real%20data%20SLNY/runs/124nfyaj\" target=\"_blank\">dashing-water-8</a></strong> to <a href=\"https://wandb.ai/synthesis-ai/31%20best%20syn%20model%20real%20data%20SLNY\" target=\"_blank\">Weights & Biases</a> (<a href=\"https://wandb.me/run\" target=\"_blank\">docs</a>)<br/>"
      ],
      "text/plain": [
       "<IPython.core.display.HTML object>"
      ]
     },
     "metadata": {},
     "output_type": "display_data"
    },
    {
     "data": {
      "text/html": [
       "Waiting for W&B process to finish... <strong style=\"color:green\">(success).</strong>"
      ],
      "text/plain": [
       "<IPython.core.display.HTML object>"
      ]
     },
     "metadata": {},
     "output_type": "display_data"
    },
    {
     "data": {
      "application/vnd.jupyter.widget-view+json": {
       "model_id": "",
       "version_major": 2,
       "version_minor": 0
      },
      "text/plain": [
       "VBox(children=(Label(value='1.798 MB of 2.198 MB uploaded (0.000 MB deduped)\\r'), FloatProgress(value=0.818093…"
      ]
     },
     "metadata": {},
     "output_type": "display_data"
    },
    {
     "data": {
      "text/html": [
       "Synced <strong style=\"color:#cdcd00\">dashing-water-8</strong>: <a href=\"https://wandb.ai/synthesis-ai/31%20best%20syn%20model%20real%20data%20SLNY/runs/124nfyaj\" target=\"_blank\">https://wandb.ai/synthesis-ai/31%20best%20syn%20model%20real%20data%20SLNY/runs/124nfyaj</a><br/>Synced 4 W&B file(s), 1 media file(s), 1 artifact file(s) and 0 other file(s)"
      ],
      "text/plain": [
       "<IPython.core.display.HTML object>"
      ]
     },
     "metadata": {},
     "output_type": "display_data"
    },
    {
     "data": {
      "text/html": [
       "Find logs at: <code>./wandb/run-20220623_022522-124nfyaj/logs</code>"
      ],
      "text/plain": [
       "<IPython.core.display.HTML object>"
      ]
     },
     "metadata": {},
     "output_type": "display_data"
    }
   ],
   "source": [
    "with wandb.init(project=\"31 best syn model real data SLNY\") as run:\n",
    "    data = [[x, y] for (x, y) in zip(yaw_xs, yaw_ys)]\n",
    "    table = wandb.Table(data=data, columns = [\"truth_degree\", \"error_degree\"])\n",
    "    wandb.log({\"yaw_error_scatter\" : wandb.plot.scatter(table, \"truth_degree\", \"error_degree\", title=\"yaw error vs ground truth\")})\n"
   ]
  }
 ],
 "metadata": {
  "kernelspec": {
   "display_name": "Python 3 (ipykernel)",
   "language": "python",
   "name": "python3"
  },
  "language_info": {
   "codemirror_mode": {
    "name": "ipython",
    "version": 3
   },
   "file_extension": ".py",
   "mimetype": "text/x-python",
   "name": "python",
   "nbconvert_exporter": "python",
   "pygments_lexer": "ipython3",
   "version": "3.8.10"
  }
 },
 "nbformat": 4,
 "nbformat_minor": 5
}
