{
 "cells": [
  {
   "cell_type": "code",
   "execution_count": null,
   "id": "a9c9cf91",
   "metadata": {},
   "outputs": [],
   "source": [
    "import os\n",
    "import numpy as np\n",
    "import glob\n",
    "import matplotlib.pyplot as plt\n",
    "import wandb\n",
    "\n",
    "label_dir = \"../data/Label\"\n",
    "\n",
    "dirs = os.listdir(label_dir)\n",
    "# print(dirs)\n",
    "\n",
    "label_files = glob.glob(label_dir+'/p*')\n",
    "label_files.sort()\n",
    "# print(label_files)\n",
    "\n",
    "pitches = []\n",
    "yaws = []\n",
    "for lfile in label_files:\n",
    "    with open(lfile) as f:\n",
    "        lines = list(f)\n",
    "        for line in lines[1:]:\n",
    "            line = line.strip().split(\" \")\n",
    "            gaze2d = line[7]\n",
    "            label = np.array(gaze2d.split(\",\")).astype(\"float\")\n",
    "#             label = torch.from_numpy(label).type(torch.FloatTensor)\n",
    "            pitch = label[0]* 180 / np.pi\n",
    "            yaw = label[1]* 180 / np.pi\n",
    "            pitches.append(pitch)\n",
    "            yaws.append(yaw)\n",
    "#             print(pitch, yaw)\n",
    "\n",
    "pitches = np.array(pitches)\n",
    "yaws = np.array(yaws)\n",
    "\n",
    "ax = plt.hist(pitches,bins=50)\n",
    "plt.title(\"pose pitch distribution\")\n",
    "plt.xlabel(\"degree\")\n",
    "\n",
    "with wandb.init(project='real data pose and gaze distributions') as run:\n",
    "    run.log({\"data\":wandb.Image(plt)})\n",
    "\n",
    "plt.cla()\n",
    "plt.hist(yaws,bins=50, color='r')\n",
    "plt.title(\"pose yaw distribution\")\n",
    "plt.xlabel(\"degree\")\n",
    "\n",
    "with wandb.init(project='real data pose and gaze distributions') as run:\n",
    "    run.log({\"data\":wandb.Image(plt)})"
   ]
  }
 ],
 "metadata": {
  "kernelspec": {
   "display_name": "Python 3 (ipykernel)",
   "language": "python",
   "name": "python3"
  },
  "language_info": {
   "codemirror_mode": {
    "name": "ipython",
    "version": 3
   },
   "file_extension": ".py",
   "mimetype": "text/x-python",
   "name": "python",
   "nbconvert_exporter": "python",
   "pygments_lexer": "ipython3",
   "version": "3.8.10"
  }
 },
 "nbformat": 4,
 "nbformat_minor": 5
}
