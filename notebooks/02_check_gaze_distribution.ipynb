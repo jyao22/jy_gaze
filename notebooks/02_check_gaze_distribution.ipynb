{
 "cells": [
  {
   "cell_type": "code",
   "execution_count": 1,
   "id": "2e007e77",
   "metadata": {},
   "outputs": [],
   "source": [
    "import os\n",
    "import numpy as np\n",
    "import glob\n",
    "import matplotlib.pyplot as plt\n",
    "import wandb\n",
    "\n",
    "label_dir = \"../data/Label\"\n",
    "\n",
    "dirs = os.listdir(label_dir)\n",
    "# print(dirs)\n",
    "\n",
    "label_files = glob.glob(label_dir+'/p*')\n",
    "label_files.sort()\n",
    "# print(label_files)\n",
    "\n",
    "pitches = []\n",
    "yaws = []\n",
    "for lfile in label_files:\n",
    "    with open(lfile) as f:\n",
    "        lines = list(f)\n",
    "        for line in lines[1:]:\n",
    "            line = line.strip().split(\" \")\n",
    "            gaze2d = line[7]\n",
    "            label = np.array(gaze2d.split(\",\")).astype(\"float\")\n",
    "#             label = torch.from_numpy(label).type(torch.FloatTensor)\n",
    "            pitch = label[0]* 180 / np.pi\n",
    "            yaw = label[1]* 180 / np.pi\n",
    "            yaw, pitch  = -1*pitch, yaw\n",
    "            pitches.append(pitch)\n",
    "            yaws.append(yaw)\n",
    "#             print(pitch, yaw)\n",
    "\n",
    "pitches = np.array(pitches)\n",
    "yaws = np.array(yaws)"
   ]
  },
  {
   "cell_type": "code",
   "execution_count": 2,
   "id": "3531b413",
   "metadata": {},
   "outputs": [
    {
     "data": {
      "image/png": "[encoded data removed]",
      "text/plain": [
       "<Figure size 432x288 with 1 Axes>"
      ]
     },
     "metadata": {
      "needs_background": "light"
     },
     "output_type": "display_data"
    },
    {
     "name": "stderr",
     "output_type": "stream",
     "text": [
      "\u001b[34m\u001b[1mwandb\u001b[0m: Currently logged in as: \u001b[33msynthesis-ai\u001b[0m (use `wandb login --relogin` to force relogin)\n"
     ]
    },
    {
     "data": {
      "text/html": [
       "wandb version 0.12.21 is available!  To upgrade, please run:\n",
       " $ pip install wandb --upgrade"
      ],
      "text/plain": [
       "<IPython.core.display.HTML object>"
      ]
     },
     "metadata": {},
     "output_type": "display_data"
    },
    {
     "data": {
      "text/html": [
       "Tracking run with wandb version 0.12.15"
      ],
      "text/plain": [
       "<IPython.core.display.HTML object>"
      ]
     },
     "metadata": {},
     "output_type": "display_data"
    },
    {
     "data": {
      "text/html": [
       "Run data is saved locally in <code>/project/notebooks/wandb/run-20220712_140419-2ecbd6tt</code>"
      ],
      "text/plain": [
       "<IPython.core.display.HTML object>"
      ]
     },
     "metadata": {},
     "output_type": "display_data"
    },
    {
     "data": {
      "text/html": [
       "Syncing run <strong><a href=\"https://wandb.ai/synthesis-ai/real%20data%20gaze%20pitch%20distributions/runs/2ecbd6tt\" target=\"_blank\">glamorous-silence-3</a></strong> to <a href=\"https://wandb.ai/synthesis-ai/real%20data%20gaze%20pitch%20distributions\" target=\"_blank\">Weights & Biases</a> (<a href=\"https://wandb.me/run\" target=\"_blank\">docs</a>)<br/>"
      ],
      "text/plain": [
       "<IPython.core.display.HTML object>"
      ]
     },
     "metadata": {},
     "output_type": "display_data"
    },
    {
     "data": {
      "text/html": [
       "Waiting for W&B process to finish... <strong style=\"color:green\">(success).</strong>"
      ],
      "text/plain": [
       "<IPython.core.display.HTML object>"
      ]
     },
     "metadata": {},
     "output_type": "display_data"
    },
    {
     "data": {
      "application/vnd.jupyter.widget-view+json": {
       "model_id": "",
       "version_major": 2,
       "version_minor": 0
      },
      "text/plain": [
       "VBox(children=(Label(value='0.002 MB of 0.002 MB uploaded (0.000 MB deduped)\\r'), FloatProgress(value=1.0, max…"
      ]
     },
     "metadata": {},
     "output_type": "display_data"
    },
    {
     "data": {
      "text/html": [
       "Synced <strong style=\"color:#cdcd00\">glamorous-silence-3</strong>: <a href=\"https://wandb.ai/synthesis-ai/real%20data%20gaze%20pitch%20distributions/runs/2ecbd6tt\" target=\"_blank\">https://wandb.ai/synthesis-ai/real%20data%20gaze%20pitch%20distributions/runs/2ecbd6tt</a><br/>Synced 4 W&B file(s), 1 media file(s), 0 artifact file(s) and 0 other file(s)"
      ],
      "text/plain": [
       "<IPython.core.display.HTML object>"
      ]
     },
     "metadata": {},
     "output_type": "display_data"
    },
    {
     "data": {
      "text/html": [
       "Find logs at: <code>./wandb/run-20220712_140419-2ecbd6tt/logs</code>"
      ],
      "text/plain": [
       "<IPython.core.display.HTML object>"
      ]
     },
     "metadata": {},
     "output_type": "display_data"
    },
    {
     "data": {
      "text/plain": [
       "<Figure size 432x288 with 0 Axes>"
      ]
     },
     "metadata": {},
     "output_type": "display_data"
    }
   ],
   "source": [
    "ax = plt.hist(pitches,bins=50)\n",
    "plt.title(\"gaze pitch distribution\")\n",
    "plt.xlabel(\"degree\")\n",
    "plt.show()\n",
    "\n",
    "with wandb.init(project='real data gaze pitch distributions') as run:\n",
    "    run.log({\"data\":wandb.Image(plt)})"
   ]
  },
  {
   "cell_type": "code",
   "execution_count": 3,
   "id": "a9c9cf91",
   "metadata": {},
   "outputs": [
    {
     "data": {
      "image/png": "[encoded data removed]",
      "text/plain": [
       "<Figure size 432x288 with 1 Axes>"
      ]
     },
     "metadata": {
      "needs_background": "light"
     },
     "output_type": "display_data"
    },
    {
     "data": {
      "text/html": [
       "wandb version 0.12.21 is available!  To upgrade, please run:\n",
       " $ pip install wandb --upgrade"
      ],
      "text/plain": [
       "<IPython.core.display.HTML object>"
      ]
     },
     "metadata": {},
     "output_type": "display_data"
    },
    {
     "data": {
      "text/html": [
       "Tracking run with wandb version 0.12.15"
      ],
      "text/plain": [
       "<IPython.core.display.HTML object>"
      ]
     },
     "metadata": {},
     "output_type": "display_data"
    },
    {
     "data": {
      "text/html": [
       "Run data is saved locally in <code>/project/notebooks/wandb/run-20220712_140427-10i9qdon</code>"
      ],
      "text/plain": [
       "<IPython.core.display.HTML object>"
      ]
     },
     "metadata": {},
     "output_type": "display_data"
    },
    {
     "data": {
      "text/html": [
       "Syncing run <strong><a href=\"https://wandb.ai/synthesis-ai/real%20data%20gaze%20yaw%20distributions/runs/10i9qdon\" target=\"_blank\">silvery-pyramid-3</a></strong> to <a href=\"https://wandb.ai/synthesis-ai/real%20data%20gaze%20yaw%20distributions\" target=\"_blank\">Weights & Biases</a> (<a href=\"https://wandb.me/run\" target=\"_blank\">docs</a>)<br/>"
      ],
      "text/plain": [
       "<IPython.core.display.HTML object>"
      ]
     },
     "metadata": {},
     "output_type": "display_data"
    },
    {
     "data": {
      "text/html": [
       "Waiting for W&B process to finish... <strong style=\"color:green\">(success).</strong>"
      ],
      "text/plain": [
       "<IPython.core.display.HTML object>"
      ]
     },
     "metadata": {},
     "output_type": "display_data"
    },
    {
     "data": {
      "application/vnd.jupyter.widget-view+json": {
       "model_id": "",
       "version_major": 2,
       "version_minor": 0
      },
      "text/plain": [
       "VBox(children=(Label(value='0.002 MB of 0.002 MB uploaded (0.000 MB deduped)\\r'), FloatProgress(value=1.0, max…"
      ]
     },
     "metadata": {},
     "output_type": "display_data"
    },
    {
     "data": {
      "text/html": [
       "Synced <strong style=\"color:#cdcd00\">silvery-pyramid-3</strong>: <a href=\"https://wandb.ai/synthesis-ai/real%20data%20gaze%20yaw%20distributions/runs/10i9qdon\" target=\"_blank\">https://wandb.ai/synthesis-ai/real%20data%20gaze%20yaw%20distributions/runs/10i9qdon</a><br/>Synced 4 W&B file(s), 1 media file(s), 0 artifact file(s) and 0 other file(s)"
      ],
      "text/plain": [
       "<IPython.core.display.HTML object>"
      ]
     },
     "metadata": {},
     "output_type": "display_data"
    },
    {
     "data": {
      "text/html": [
       "Find logs at: <code>./wandb/run-20220712_140427-10i9qdon/logs</code>"
      ],
      "text/plain": [
       "<IPython.core.display.HTML object>"
      ]
     },
     "metadata": {},
     "output_type": "display_data"
    },
    {
     "data": {
      "text/plain": [
       "<Figure size 432x288 with 0 Axes>"
      ]
     },
     "metadata": {},
     "output_type": "display_data"
    }
   ],
   "source": [
    "plt.cla()\n",
    "plt.hist(yaws,bins=50, color='r')\n",
    "plt.title(\"gaze yaw distribution\")\n",
    "plt.xlabel(\"degree\")\n",
    "plt.show()\n",
    "with wandb.init(project='real data gaze yaw distributions') as run:\n",
    "    run.log({\"data\":wandb.Image(plt)})"
   ]
  }
 ],
 "metadata": {
  "kernelspec": {
   "display_name": "Python 3 (ipykernel)",
   "language": "python",
   "name": "python3"
  },
  "language_info": {
   "codemirror_mode": {
    "name": "ipython",
    "version": 3
   },
   "file_extension": ".py",
   "mimetype": "text/x-python",
   "name": "python",
   "nbconvert_exporter": "python",
   "pygments_lexer": "ipython3",
   "version": "3.8.10"
  }
 },
 "nbformat": 4,
 "nbformat_minor": 5
}
