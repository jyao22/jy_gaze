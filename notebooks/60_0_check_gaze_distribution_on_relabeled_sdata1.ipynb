{
 "cells": [
  {
   "cell_type": "code",
   "execution_count": 1,
   "id": "1708e58e",
   "metadata": {},
   "outputs": [],
   "source": [
    "import os\n",
    "import numpy as np\n",
    "import glob\n",
    "import matplotlib.pyplot as plt\n",
    "# import seaborn as sns"
   ]
  },
  {
   "cell_type": "code",
   "execution_count": 2,
   "id": "6bdd9708",
   "metadata": {},
   "outputs": [],
   "source": [
    "label_dir = \"../data/sdata2/Label\""
   ]
  },
  {
   "cell_type": "code",
   "execution_count": 3,
   "id": "55301fc1",
   "metadata": {},
   "outputs": [
    {
     "name": "stdout",
     "output_type": "stream",
     "text": [
      "['p00.label', 'p01.label', 'p02.label', 'p03.label', 'p04.label', 'p05.label', 'p06.label', 'p07.label', 'p08.label', 'p09.label', 'p10.label', 'p11.label', 'p12.label', 'p13.label', 'p14.label']\n"
     ]
    }
   ],
   "source": [
    "dirs = os.listdir(label_dir)\n",
    "print(dirs)"
   ]
  },
  {
   "cell_type": "code",
   "execution_count": 4,
   "id": "f047e5ea",
   "metadata": {},
   "outputs": [
    {
     "name": "stdout",
     "output_type": "stream",
     "text": [
      "['../data/sdata2/Label/p00.label', '../data/sdata2/Label/p01.label', '../data/sdata2/Label/p02.label', '../data/sdata2/Label/p03.label', '../data/sdata2/Label/p04.label', '../data/sdata2/Label/p05.label', '../data/sdata2/Label/p06.label', '../data/sdata2/Label/p07.label', '../data/sdata2/Label/p08.label', '../data/sdata2/Label/p09.label', '../data/sdata2/Label/p10.label', '../data/sdata2/Label/p11.label', '../data/sdata2/Label/p12.label', '../data/sdata2/Label/p13.label', '../data/sdata2/Label/p14.label']\n"
     ]
    }
   ],
   "source": [
    "label_files = glob.glob(label_dir+'/p*')\n",
    "label_files.sort()\n",
    "print(label_files)"
   ]
  },
  {
   "cell_type": "code",
   "execution_count": 5,
   "id": "e2a7544e",
   "metadata": {},
   "outputs": [],
   "source": [
    "pitches = []\n",
    "yaws = []\n",
    "for lfile in label_files:\n",
    "    with open(lfile) as f:\n",
    "        lines = list(f)\n",
    "        for line in lines[1:]:\n",
    "            line = line.strip().split(\" \")\n",
    "            gaze2d = line[7]\n",
    "            label = np.array(gaze2d.split(\",\")).astype(\"float\")\n",
    "#             label = torch.from_numpy(label).type(torch.FloatTensor)\n",
    "            pitch = label[0]* 180 / np.pi\n",
    "            yaw = label[1]* 180 / np.pi\n",
    "            pitches.append(pitch)\n",
    "            yaws.append(yaw)\n",
    "#             print(pitch, yaw)"
   ]
  },
  {
   "cell_type": "code",
   "execution_count": 6,
   "id": "968244bb",
   "metadata": {},
   "outputs": [],
   "source": [
    "pitches = np.array(pitches)\n",
    "yaws = np.array(yaws)"
   ]
  },
  {
   "cell_type": "code",
   "execution_count": 7,
   "id": "adff517b",
   "metadata": {},
   "outputs": [
    {
     "data": {
      "image/png": "[encoded data removed]",
      "text/plain": [
       "<Figure size 432x288 with 1 Axes>"
      ]
     },
     "metadata": {
      "needs_background": "light"
     },
     "output_type": "display_data"
    }
   ],
   "source": [
    "num_bins=50\n",
    "n, bins, patches = plt.hist(pitches, num_bins, \n",
    "                            density = 1, \n",
    "                            color ='green',\n",
    "                            alpha = 0.7)"
   ]
  },
  {
   "cell_type": "code",
   "execution_count": 8,
   "id": "79207c95",
   "metadata": {},
   "outputs": [
    {
     "data": {
      "image/png": "[encoded data removed]",
      "text/plain": [
       "<Figure size 432x288 with 1 Axes>"
      ]
     },
     "metadata": {
      "needs_background": "light"
     },
     "output_type": "display_data"
    }
   ],
   "source": [
    "num_bins=50\n",
    "n, bins, patches = plt.hist(yaws, num_bins, \n",
    "                            density = 1, \n",
    "                            color ='green',\n",
    "                            alpha = 0.7)"
   ]
  },
  {
   "cell_type": "code",
   "execution_count": 9,
   "id": "be99a2aa",
   "metadata": {},
   "outputs": [],
   "source": [
    "yaw_sorted = sorted(yaws)"
   ]
  },
  {
   "cell_type": "code",
   "execution_count": 10,
   "id": "d823fd13",
   "metadata": {},
   "outputs": [
    {
     "data": {
      "text/plain": [
       "([-44.617891042340815,\n",
       "  -44.309497416404305,\n",
       "  -44.24036948426196,\n",
       "  -44.05620010192033,\n",
       "  -43.94250258863115],\n",
       " [28.739750575518684,\n",
       "  28.874913532697374,\n",
       "  28.87551852781311,\n",
       "  28.998437061868028,\n",
       "  29.334587508189475])"
      ]
     },
     "execution_count": 10,
     "metadata": {},
     "output_type": "execute_result"
    }
   ],
   "source": [
    "yaw_sorted[0:5], yaw_sorted[-5:]"
   ]
  },
  {
   "cell_type": "code",
   "execution_count": 11,
   "id": "3e338e4f",
   "metadata": {},
   "outputs": [],
   "source": [
    "pitch_sorted = sorted(pitches)"
   ]
  },
  {
   "cell_type": "code",
   "execution_count": 12,
   "id": "32464e70",
   "metadata": {},
   "outputs": [
    {
     "data": {
      "text/plain": [
       "([-49.75397702319502,\n",
       "  -49.31336944224672,\n",
       "  -49.13717557073314,\n",
       "  -48.2077374752906,\n",
       "  -47.13123793414603],\n",
       " [47.707802764330644,\n",
       "  47.88546796345487,\n",
       "  48.18172468974917,\n",
       "  48.27887542214367,\n",
       "  50.868711720139245])"
      ]
     },
     "execution_count": 12,
     "metadata": {},
     "output_type": "execute_result"
    }
   ],
   "source": [
    "pitch_sorted[0:5], pitch_sorted[-5:]"
   ]
  },
  {
   "cell_type": "code",
   "execution_count": null,
   "id": "7e2564ab",
   "metadata": {},
   "outputs": [],
   "source": []
  },
  {
   "cell_type": "code",
   "execution_count": null,
   "id": "7fd89b83",
   "metadata": {},
   "outputs": [],
   "source": []
  },
  {
   "cell_type": "code",
   "execution_count": 13,
   "id": "f2fcb6b7",
   "metadata": {},
   "outputs": [
    {
     "ename": "NameError",
     "evalue": "name 'sns' is not defined",
     "output_type": "error",
     "traceback": [
      "\u001b[0;31m---------------------------------------------------------------------------\u001b[0m",
      "\u001b[0;31mNameError\u001b[0m                                 Traceback (most recent call last)",
      "Input \u001b[0;32mIn [13]\u001b[0m, in \u001b[0;36m<cell line: 1>\u001b[0;34m()\u001b[0m\n\u001b[0;32m----> 1\u001b[0m \u001b[43msns\u001b[49m\u001b[38;5;241m.\u001b[39mset_theme()\n\u001b[1;32m      2\u001b[0m np\u001b[38;5;241m.\u001b[39mrandom\u001b[38;5;241m.\u001b[39mseed(\u001b[38;5;241m0\u001b[39m)\n\u001b[1;32m      3\u001b[0m ax \u001b[38;5;241m=\u001b[39m sns\u001b[38;5;241m.\u001b[39mdistplot(pitches)\n",
      "\u001b[0;31mNameError\u001b[0m: name 'sns' is not defined"
     ]
    }
   ],
   "source": [
    "sns.set_theme()\n",
    "np.random.seed(0)\n",
    "ax = sns.distplot(pitches)"
   ]
  },
  {
   "cell_type": "code",
   "execution_count": null,
   "id": "cd070903",
   "metadata": {},
   "outputs": [],
   "source": [
    "ax = sns.distplot(yaws)"
   ]
  },
  {
   "cell_type": "code",
   "execution_count": null,
   "id": "a3bdc30c",
   "metadata": {},
   "outputs": [],
   "source": [
    "\n",
    "print(sorted(pitches)[0:5], sorted(pitches)[-5:])\n",
    "print(f\"total number of pitch values: {len(pitches)}\")\n",
    "print(pitches.mean())"
   ]
  },
  {
   "cell_type": "code",
   "execution_count": null,
   "id": "9d29bd3d",
   "metadata": {},
   "outputs": [],
   "source": [
    "print(sorted(yaws)[0:5])\n",
    "print(sorted(yaws)[-5:])\n",
    "print(f\"total number of yaw values: {len(yaws)}\")\n",
    "print(yaws.mean())"
   ]
  }
 ],
 "metadata": {
  "kernelspec": {
   "display_name": "Python 3 (ipykernel)",
   "language": "python",
   "name": "python3"
  },
  "language_info": {
   "codemirror_mode": {
    "name": "ipython",
    "version": 3
   },
   "file_extension": ".py",
   "mimetype": "text/x-python",
   "name": "python",
   "nbconvert_exporter": "python",
   "pygments_lexer": "ipython3",
   "version": "3.9.7"
  }
 },
 "nbformat": 4,
 "nbformat_minor": 5
}
