{
 "cells": [
  {
   "cell_type": "code",
   "execution_count": 1,
   "id": "662efc9c",
   "metadata": {},
   "outputs": [],
   "source": [
    "import os, argparse\n",
    "import numpy as np\n",
    "import matplotlib.pyplot as plt\n",
    "from datetime import datetime\n",
    "from pytz import timezone\n",
    "from pathlib import Path\n",
    "import torch\n",
    "import torch.nn as nn\n",
    "from torch.autograd import Variable\n",
    "from torch.utils.data import DataLoader\n",
    "from torchvision import transforms\n",
    "import torch.backends.cudnn as cudnn\n",
    "import torchvision\n",
    "import wandb\n",
    "\n",
    "import datasets\n",
    "# from utils import select_device, natural_keys, gazeto3d, angular, getArch\n",
    "from utils import select_device, natural_keys, gazeto3d, angular, getArch\n",
    "from model import L2CS"
   ]
  },
  {
   "cell_type": "code",
   "execution_count": 2,
   "id": "ed29c578",
   "metadata": {},
   "outputs": [],
   "source": [
    "\n",
    "args = argparse.Namespace()\n",
    "args.gazeMpiimage_dir = '/project/data/Image'  #real data \n",
    "args.gazeMpiilabel_dir = '/project/data/Label'  #real label\n",
    "# args.output = '/project/results/soutput1/snapshots/'\n",
    "args.dataset = 'mpiigaze'\n",
    "args.snapshot='/project/results/soutput2/snapshots/'\n",
    "# args.evalpath = '/project/results/sroutput1/evaluation/'\n",
    "args.gpu_id = '0,1,2,3'\n",
    "args.gpu_id = '0'\n",
    "args.batch_size = 20\n",
    "args.arch = 'ResNet50'\n",
    "args.bins=35\n",
    "args.angle = 180\n",
    "args.bin_width = 4\n"
   ]
  },
  {
   "cell_type": "code",
   "execution_count": 3,
   "id": "d0e11321",
   "metadata": {},
   "outputs": [],
   "source": [
    "batch_size=args.batch_size\n",
    "arch=args.arch\n",
    "data_set=args.dataset\n",
    "# evalpath =args.evalpath\n",
    "snapshot_path = args.snapshot\n",
    "bins=args.bins\n",
    "angle=args.angle\n",
    "bin_width=args.bin_width"
   ]
  },
  {
   "cell_type": "code",
   "execution_count": 4,
   "id": "0504fda4",
   "metadata": {},
   "outputs": [],
   "source": [
    "# args = parse_args()\n",
    "cudnn.enabled = True\n",
    "gpu = select_device(args.gpu_id, batch_size=args.batch_size)\n",
    "transformations = transforms.Compose([\n",
    "    transforms.Resize(448),\n",
    "    transforms.ToTensor(),\n",
    "    transforms.Normalize(\n",
    "        mean=[0.485, 0.456, 0.406],\n",
    "        std=[0.229, 0.224, 0.225]\n",
    "    )\n",
    "])\n",
    "\n",
    "model_used=getArch(arch, bins)  #resnet50 and 28 bins"
   ]
  },
  {
   "cell_type": "code",
   "execution_count": 5,
   "id": "6e2eff08",
   "metadata": {},
   "outputs": [
    {
     "name": "stdout",
     "output_type": "stream",
     "text": [
      "0:60 1:60 2:60 3:60 4:60 5:60 6:60 7:60 8:60 9:60 10:60 11:60 12:60 13:60 14:60 "
     ]
    }
   ],
   "source": [
    "# check if we have the correct number of checkpoint files \n",
    "ppath = snapshot_path\n",
    "for fold in range(15):\n",
    "    foldstr = f\"fold{fold:0>2}\"\n",
    "    cpath =os.path.join(ppath, foldstr)\n",
    "    files = os.listdir(cpath)\n",
    "    print(f'{fold}:{len(files)}',end=\" \")"
   ]
  },
  {
   "cell_type": "code",
   "execution_count": 6,
   "id": "72df5465",
   "metadata": {},
   "outputs": [
    {
     "name": "stdout",
     "output_type": "stream",
     "text": [
      "07/11/2022 08:50:24\n"
     ]
    }
   ],
   "source": [
    "def get_now():\n",
    "    now = datetime.utcnow()\n",
    "    now = now.astimezone(timezone('US/Pacific'))\n",
    "    date_format='%m/%d/%Y %H:%M:%S'\n",
    "    now = now.strftime(date_format) \n",
    "    return now\n",
    "print(get_now())"
   ]
  },
  {
   "cell_type": "code",
   "execution_count": null,
   "id": "f0cf2212",
   "metadata": {},
   "outputs": [
    {
     "name": "stderr",
     "output_type": "stream",
     "text": [
      "\u001b[34m\u001b[1mwandb\u001b[0m: Currently logged in as: \u001b[33msynthesis-ai\u001b[0m (use `wandb login --relogin` to force relogin)\n"
     ]
    },
    {
     "data": {
      "text/html": [
       "wandb version 0.12.21 is available!  To upgrade, please run:\n",
       " $ pip install wandb --upgrade"
      ],
      "text/plain": [
       "<IPython.core.display.HTML object>"
      ]
     },
     "metadata": {},
     "output_type": "display_data"
    },
    {
     "data": {
      "text/html": [
       "Tracking run with wandb version 0.12.15"
      ],
      "text/plain": [
       "<IPython.core.display.HTML object>"
      ]
     },
     "metadata": {},
     "output_type": "display_data"
    },
    {
     "data": {
      "text/html": [
       "Run data is saved locally in <code>/project/notebooks/wandb/run-20220711_155025-2gfnk1d8</code>"
      ],
      "text/plain": [
       "<IPython.core.display.HTML object>"
      ]
     },
     "metadata": {},
     "output_type": "display_data"
    },
    {
     "data": {
      "text/html": [
       "Syncing run <strong><a href=\"https://wandb.ai/synthesis-ai/61_syn_mode_sdata2_real_data/runs/2gfnk1d8\" target=\"_blank\">atomic-pond-1</a></strong> to <a href=\"https://wandb.ai/synthesis-ai/61_syn_mode_sdata2_real_data\" target=\"_blank\">Weights & Biases</a> (<a href=\"https://wandb.me/run\" target=\"_blank\">docs</a>)<br/>"
      ],
      "text/plain": [
       "<IPython.core.display.HTML object>"
      ]
     },
     "metadata": {},
     "output_type": "display_data"
    },
    {
     "name": "stdout",
     "output_type": "stream",
     "text": [
      "fold=0\n",
      "/project/data/Label\n",
      "0 items removed from dataset that have an angle > 180\n",
      "\n",
      "test configuration equal gpu_id=cuda:0, batch_size=20, model_arch=ResNet50\n",
      "Start testing dataset=mpiigaze, FOLD=0 --07/11/2022 08:50:28---------\n",
      "entering epoch=epoch_1.pkl\n",
      "[epoch_1.pkl---mpiigaze] Total Num:3000,MAE:6.399443599182071  07/11/2022 08:50:51\n",
      "entering epoch=epoch_2.pkl\n",
      "[epoch_2.pkl---mpiigaze] Total Num:3000,MAE:7.428557377941425  07/11/2022 08:51:06\n",
      "entering epoch=epoch_3.pkl\n",
      "[epoch_3.pkl---mpiigaze] Total Num:3000,MAE:4.518547983982202  07/11/2022 08:51:20\n",
      "entering epoch=epoch_4.pkl\n",
      "[epoch_4.pkl---mpiigaze] Total Num:3000,MAE:4.5789420240625  07/11/2022 08:51:34\n",
      "entering epoch=epoch_5.pkl\n",
      "[epoch_5.pkl---mpiigaze] Total Num:3000,MAE:4.223323457528585  07/11/2022 08:51:49\n",
      "entering epoch=epoch_6.pkl\n",
      "[epoch_6.pkl---mpiigaze] Total Num:3000,MAE:4.246873095102045  07/11/2022 08:52:03\n",
      "entering epoch=epoch_7.pkl\n",
      "[epoch_7.pkl---mpiigaze] Total Num:3000,MAE:4.777595268148093  07/11/2022 08:52:18\n",
      "entering epoch=epoch_8.pkl\n",
      "[epoch_8.pkl---mpiigaze] Total Num:3000,MAE:4.724075093531412  07/11/2022 08:52:32\n",
      "entering epoch=epoch_9.pkl\n",
      "[epoch_9.pkl---mpiigaze] Total Num:3000,MAE:4.375143113606695  07/11/2022 08:52:47\n",
      "entering epoch=epoch_10.pkl\n",
      "[epoch_10.pkl---mpiigaze] Total Num:3000,MAE:4.703542939476509  07/11/2022 08:53:01\n",
      "entering epoch=epoch_11.pkl\n",
      "[epoch_11.pkl---mpiigaze] Total Num:3000,MAE:4.70483053399041  07/11/2022 08:53:15\n",
      "entering epoch=epoch_12.pkl\n",
      "[epoch_12.pkl---mpiigaze] Total Num:3000,MAE:4.520130195804123  07/11/2022 08:53:30\n",
      "entering epoch=epoch_13.pkl\n",
      "[epoch_13.pkl---mpiigaze] Total Num:3000,MAE:4.388819599655238  07/11/2022 08:53:44\n",
      "entering epoch=epoch_14.pkl\n",
      "[epoch_14.pkl---mpiigaze] Total Num:3000,MAE:4.701439185155488  07/11/2022 08:53:58\n",
      "entering epoch=epoch_15.pkl\n",
      "[epoch_15.pkl---mpiigaze] Total Num:3000,MAE:4.665128987889327  07/11/2022 08:54:13\n",
      "entering epoch=epoch_16.pkl\n",
      "[epoch_16.pkl---mpiigaze] Total Num:3000,MAE:4.379800707450631  07/11/2022 08:54:27\n",
      "entering epoch=epoch_17.pkl\n",
      "[epoch_17.pkl---mpiigaze] Total Num:3000,MAE:4.347583779579803  07/11/2022 08:54:41\n",
      "entering epoch=epoch_18.pkl\n",
      "[epoch_18.pkl---mpiigaze] Total Num:3000,MAE:5.10738454380104  07/11/2022 08:54:56\n",
      "entering epoch=epoch_19.pkl\n",
      "[epoch_19.pkl---mpiigaze] Total Num:3000,MAE:4.270309705125218  07/11/2022 08:55:11\n",
      "entering epoch=epoch_20.pkl\n",
      "[epoch_20.pkl---mpiigaze] Total Num:3000,MAE:4.725784897604906  07/11/2022 08:55:25\n",
      "entering epoch=epoch_21.pkl\n",
      "[epoch_21.pkl---mpiigaze] Total Num:3000,MAE:4.527003204124381  07/11/2022 08:55:39\n",
      "entering epoch=epoch_22.pkl\n",
      "[epoch_22.pkl---mpiigaze] Total Num:3000,MAE:4.355472021291975  07/11/2022 08:55:54\n",
      "entering epoch=epoch_23.pkl\n",
      "[epoch_23.pkl---mpiigaze] Total Num:3000,MAE:4.66673117610674  07/11/2022 08:56:08\n",
      "entering epoch=epoch_24.pkl\n",
      "[epoch_24.pkl---mpiigaze] Total Num:3000,MAE:4.279544455796029  07/11/2022 08:56:23\n",
      "entering epoch=epoch_25.pkl\n",
      "[epoch_25.pkl---mpiigaze] Total Num:3000,MAE:4.5622692424511895  07/11/2022 08:56:37\n",
      "entering epoch=epoch_26.pkl\n",
      "[epoch_26.pkl---mpiigaze] Total Num:3000,MAE:4.5942403263791  07/11/2022 08:56:51\n",
      "entering epoch=epoch_27.pkl\n",
      "[epoch_27.pkl---mpiigaze] Total Num:3000,MAE:4.929092686272034  07/11/2022 08:57:06\n",
      "entering epoch=epoch_28.pkl\n",
      "[epoch_28.pkl---mpiigaze] Total Num:3000,MAE:4.581939983981913  07/11/2022 08:57:20\n",
      "entering epoch=epoch_29.pkl\n",
      "[epoch_29.pkl---mpiigaze] Total Num:3000,MAE:5.002518715103753  07/11/2022 08:57:34\n",
      "entering epoch=epoch_30.pkl\n",
      "[epoch_30.pkl---mpiigaze] Total Num:3000,MAE:4.528672508079432  07/11/2022 08:57:49\n",
      "entering epoch=epoch_31.pkl\n",
      "[epoch_31.pkl---mpiigaze] Total Num:3000,MAE:5.041697376597467  07/11/2022 08:58:03\n",
      "entering epoch=epoch_32.pkl\n",
      "[epoch_32.pkl---mpiigaze] Total Num:3000,MAE:5.083142067098361  07/11/2022 08:58:17\n",
      "entering epoch=epoch_33.pkl\n",
      "[epoch_33.pkl---mpiigaze] Total Num:3000,MAE:4.915479573701699  07/11/2022 08:58:32\n",
      "entering epoch=epoch_34.pkl\n",
      "[epoch_34.pkl---mpiigaze] Total Num:3000,MAE:4.635537702835921  07/11/2022 08:58:46\n",
      "entering epoch=epoch_35.pkl\n",
      "[epoch_35.pkl---mpiigaze] Total Num:3000,MAE:4.438866309323946  07/11/2022 08:59:01\n",
      "entering epoch=epoch_36.pkl\n",
      "[epoch_36.pkl---mpiigaze] Total Num:3000,MAE:4.631712304754346  07/11/2022 08:59:15\n",
      "entering epoch=epoch_37.pkl\n",
      "[epoch_37.pkl---mpiigaze] Total Num:3000,MAE:4.6212234059120645  07/11/2022 08:59:29\n",
      "entering epoch=epoch_38.pkl\n",
      "[epoch_38.pkl---mpiigaze] Total Num:3000,MAE:4.670727657406122  07/11/2022 08:59:44\n",
      "entering epoch=epoch_39.pkl\n",
      "[epoch_39.pkl---mpiigaze] Total Num:3000,MAE:4.953430784322511  07/11/2022 08:59:58\n",
      "entering epoch=epoch_40.pkl\n",
      "[epoch_40.pkl---mpiigaze] Total Num:3000,MAE:4.20406948120156  07/11/2022 09:00:13\n",
      "entering epoch=epoch_41.pkl\n",
      "[epoch_41.pkl---mpiigaze] Total Num:3000,MAE:4.924027218426989  07/11/2022 09:00:27\n",
      "entering epoch=epoch_42.pkl\n",
      "[epoch_42.pkl---mpiigaze] Total Num:3000,MAE:4.439072208460235  07/11/2022 09:00:41\n",
      "entering epoch=epoch_43.pkl\n",
      "[epoch_43.pkl---mpiigaze] Total Num:3000,MAE:4.606074188183717  07/11/2022 09:00:56\n",
      "entering epoch=epoch_44.pkl\n",
      "[epoch_44.pkl---mpiigaze] Total Num:3000,MAE:4.547231579622527  07/11/2022 09:01:10\n",
      "entering epoch=epoch_45.pkl\n",
      "[epoch_45.pkl---mpiigaze] Total Num:3000,MAE:4.6425105898202395  07/11/2022 09:01:25\n",
      "entering epoch=epoch_46.pkl\n",
      "[epoch_46.pkl---mpiigaze] Total Num:3000,MAE:4.5910406120294995  07/11/2022 09:01:39\n",
      "entering epoch=epoch_47.pkl\n",
      "[epoch_47.pkl---mpiigaze] Total Num:3000,MAE:4.7606037780146675  07/11/2022 09:01:54\n",
      "entering epoch=epoch_48.pkl\n",
      "[epoch_48.pkl---mpiigaze] Total Num:3000,MAE:4.890768375885745  07/11/2022 09:02:08\n",
      "entering epoch=epoch_49.pkl\n",
      "[epoch_49.pkl---mpiigaze] Total Num:3000,MAE:4.983176837043064  07/11/2022 09:02:22\n",
      "entering epoch=epoch_50.pkl\n",
      "[epoch_50.pkl---mpiigaze] Total Num:3000,MAE:4.510046623657812  07/11/2022 09:02:37\n",
      "entering epoch=epoch_51.pkl\n",
      "[epoch_51.pkl---mpiigaze] Total Num:3000,MAE:4.472791266650933  07/11/2022 09:02:51\n",
      "entering epoch=epoch_52.pkl\n",
      "[epoch_52.pkl---mpiigaze] Total Num:3000,MAE:4.586256347330548  07/11/2022 09:03:05\n",
      "entering epoch=epoch_53.pkl\n",
      "[epoch_53.pkl---mpiigaze] Total Num:3000,MAE:4.497799931636701  07/11/2022 09:03:20\n",
      "entering epoch=epoch_54.pkl\n",
      "[epoch_54.pkl---mpiigaze] Total Num:3000,MAE:4.202229940937644  07/11/2022 09:03:34\n",
      "entering epoch=epoch_55.pkl\n",
      "[epoch_55.pkl---mpiigaze] Total Num:3000,MAE:4.39218602292267  07/11/2022 09:03:49\n",
      "entering epoch=epoch_56.pkl\n",
      "[epoch_56.pkl---mpiigaze] Total Num:3000,MAE:4.394263397467285  07/11/2022 09:04:03\n",
      "entering epoch=epoch_57.pkl\n",
      "[epoch_57.pkl---mpiigaze] Total Num:3000,MAE:4.587174344604045  07/11/2022 09:04:17\n",
      "entering epoch=epoch_58.pkl\n",
      "[epoch_58.pkl---mpiigaze] Total Num:3000,MAE:4.436296852622103  07/11/2022 09:04:32\n",
      "entering epoch=epoch_59.pkl\n",
      "[epoch_59.pkl---mpiigaze] Total Num:3000,MAE:4.490677292728336  07/11/2022 09:04:46\n",
      "entering epoch=epoch_60.pkl\n",
      "[epoch_60.pkl---mpiigaze] Total Num:3000,MAE:4.659545943445833  07/11/2022 09:05:01\n"
     ]
    },
    {
     "data": {
      "text/html": [
       "Waiting for W&B process to finish... <strong style=\"color:green\">(success).</strong>"
      ],
      "text/plain": [
       "<IPython.core.display.HTML object>"
      ]
     },
     "metadata": {},
     "output_type": "display_data"
    },
    {
     "data": {
      "application/vnd.jupyter.widget-view+json": {
       "model_id": "",
       "version_major": 2,
       "version_minor": 0
      },
      "text/plain": [
       "VBox(children=(Label(value='0.001 MB of 0.001 MB uploaded (0.000 MB deduped)\\r'), FloatProgress(value=1.0, max…"
      ]
     },
     "metadata": {},
     "output_type": "display_data"
    },
    {
     "data": {
      "text/html": [
       "<style>\n",
       "    table.wandb td:nth-child(1) { padding: 0 10px; text-align: right }\n",
       "    .wandb-row { display: flex; flex-direction: row; flex-wrap: wrap; width: 100% }\n",
       "    .wandb-col { display: flex; flex-direction: column; flex-basis: 100%; flex: 1; padding: 10px; }\n",
       "    </style>\n",
       "<div class=\"wandb-row\"><div class=\"wandb-col\"><h3>Run history:</h3><br/><table class=\"wandb\"><tr><td>fold_0_avg_mae</td><td>▆█▂▁▂▂▂▂▁▂▁▁▁▂▁▂▂▂▂▃▃▃▂▂▂▂▁▃▂▂▂▂▃▂▂▂▁▁▂▂</td></tr></table><br/></div><div class=\"wandb-col\"><h3>Run summary:</h3><br/><table class=\"wandb\"><tr><td>epoch</td><td>epoch_60.pkl</td></tr><tr><td>fold_0_avg_mae</td><td>4.65955</td></tr></table><br/></div></div>"
      ],
      "text/plain": [
       "<IPython.core.display.HTML object>"
      ]
     },
     "metadata": {},
     "output_type": "display_data"
    },
    {
     "data": {
      "text/html": [
       "Synced <strong style=\"color:#cdcd00\">atomic-pond-1</strong>: <a href=\"https://wandb.ai/synthesis-ai/61_syn_mode_sdata2_real_data/runs/2gfnk1d8\" target=\"_blank\">https://wandb.ai/synthesis-ai/61_syn_mode_sdata2_real_data/runs/2gfnk1d8</a><br/>Synced 5 W&B file(s), 0 media file(s), 0 artifact file(s) and 0 other file(s)"
      ],
      "text/plain": [
       "<IPython.core.display.HTML object>"
      ]
     },
     "metadata": {},
     "output_type": "display_data"
    },
    {
     "data": {
      "text/html": [
       "Find logs at: <code>./wandb/run-20220711_155025-2gfnk1d8/logs</code>"
      ],
      "text/plain": [
       "<IPython.core.display.HTML object>"
      ]
     },
     "metadata": {},
     "output_type": "display_data"
    },
    {
     "data": {
      "text/html": [
       "wandb version 0.12.21 is available!  To upgrade, please run:\n",
       " $ pip install wandb --upgrade"
      ],
      "text/plain": [
       "<IPython.core.display.HTML object>"
      ]
     },
     "metadata": {},
     "output_type": "display_data"
    },
    {
     "data": {
      "text/html": [
       "Tracking run with wandb version 0.12.15"
      ],
      "text/plain": [
       "<IPython.core.display.HTML object>"
      ]
     },
     "metadata": {},
     "output_type": "display_data"
    },
    {
     "data": {
      "text/html": [
       "Run data is saved locally in <code>/project/notebooks/wandb/run-20220711_160505-3mojwfnd</code>"
      ],
      "text/plain": [
       "<IPython.core.display.HTML object>"
      ]
     },
     "metadata": {},
     "output_type": "display_data"
    },
    {
     "data": {
      "text/html": [
       "Syncing run <strong><a href=\"https://wandb.ai/synthesis-ai/61_syn_mode_sdata2_real_data/runs/3mojwfnd\" target=\"_blank\">giddy-resonance-2</a></strong> to <a href=\"https://wandb.ai/synthesis-ai/61_syn_mode_sdata2_real_data\" target=\"_blank\">Weights & Biases</a> (<a href=\"https://wandb.me/run\" target=\"_blank\">docs</a>)<br/>"
      ],
      "text/plain": [
       "<IPython.core.display.HTML object>"
      ]
     },
     "metadata": {},
     "output_type": "display_data"
    },
    {
     "name": "stdout",
     "output_type": "stream",
     "text": [
      "fold=1\n",
      "/project/data/Label\n",
      "0 items removed from dataset that have an angle > 180\n",
      "\n",
      "test configuration equal gpu_id=cuda:0, batch_size=20, model_arch=ResNet50\n",
      "Start testing dataset=mpiigaze, FOLD=1 --07/11/2022 09:05:09---------\n",
      "entering epoch=epoch_1.pkl\n",
      "[epoch_8.pkl---mpiigaze] Total Num:3000,MAE:6.9937760735096814  07/11/2022 09:07:07\n",
      "entering epoch=epoch_9.pkl\n",
      "[epoch_9.pkl---mpiigaze] Total Num:3000,MAE:9.904218630844667  07/11/2022 09:07:21\n",
      "entering epoch=epoch_10.pkl\n",
      "[epoch_10.pkl---mpiigaze] Total Num:3000,MAE:8.444881588081254  07/11/2022 09:07:35\n",
      "entering epoch=epoch_11.pkl\n",
      "[epoch_11.pkl---mpiigaze] Total Num:3000,MAE:7.10754324667955  07/11/2022 09:07:50\n",
      "entering epoch=epoch_12.pkl\n",
      "[epoch_12.pkl---mpiigaze] Total Num:3000,MAE:8.962572431639547  07/11/2022 09:08:04\n",
      "entering epoch=epoch_13.pkl\n",
      "[epoch_13.pkl---mpiigaze] Total Num:3000,MAE:5.641800087853064  07/11/2022 09:08:19\n",
      "entering epoch=epoch_14.pkl\n",
      "[epoch_14.pkl---mpiigaze] Total Num:3000,MAE:7.62733896000107  07/11/2022 09:08:33\n",
      "entering epoch=epoch_15.pkl\n",
      "[epoch_15.pkl---mpiigaze] Total Num:3000,MAE:5.885254838342372  07/11/2022 09:08:48\n",
      "entering epoch=epoch_16.pkl\n",
      "[epoch_16.pkl---mpiigaze] Total Num:3000,MAE:6.026747404556748  07/11/2022 09:09:02\n",
      "entering epoch=epoch_17.pkl\n",
      "[epoch_17.pkl---mpiigaze] Total Num:3000,MAE:6.958713919180935  07/11/2022 09:09:17\n",
      "entering epoch=epoch_18.pkl\n",
      "[epoch_18.pkl---mpiigaze] Total Num:3000,MAE:7.679698294123128  07/11/2022 09:09:31\n",
      "entering epoch=epoch_19.pkl\n",
      "[epoch_19.pkl---mpiigaze] Total Num:3000,MAE:7.058444920209828  07/11/2022 09:09:45\n",
      "entering epoch=epoch_20.pkl\n",
      "[epoch_20.pkl---mpiigaze] Total Num:3000,MAE:6.568764671391348  07/11/2022 09:10:00\n",
      "entering epoch=epoch_21.pkl\n",
      "[epoch_21.pkl---mpiigaze] Total Num:3000,MAE:6.304990939730372  07/11/2022 09:10:14\n",
      "entering epoch=epoch_22.pkl\n",
      "[epoch_22.pkl---mpiigaze] Total Num:3000,MAE:6.537657862298519  07/11/2022 09:10:29\n",
      "entering epoch=epoch_23.pkl\n",
      "[epoch_23.pkl---mpiigaze] Total Num:3000,MAE:6.690529864312445  07/11/2022 09:10:43\n",
      "entering epoch=epoch_24.pkl\n",
      "[epoch_24.pkl---mpiigaze] Total Num:3000,MAE:6.625726844689792  07/11/2022 09:10:58\n",
      "entering epoch=epoch_25.pkl\n",
      "[epoch_25.pkl---mpiigaze] Total Num:3000,MAE:6.825968789743367  07/11/2022 09:11:12\n",
      "entering epoch=epoch_26.pkl\n",
      "[epoch_26.pkl---mpiigaze] Total Num:3000,MAE:6.072988623162476  07/11/2022 09:11:26\n",
      "entering epoch=epoch_27.pkl\n",
      "[epoch_27.pkl---mpiigaze] Total Num:3000,MAE:6.165877031391404  07/11/2022 09:11:41\n",
      "entering epoch=epoch_28.pkl\n",
      "[epoch_28.pkl---mpiigaze] Total Num:3000,MAE:6.657294999860643  07/11/2022 09:11:55\n",
      "entering epoch=epoch_29.pkl\n",
      "[epoch_29.pkl---mpiigaze] Total Num:3000,MAE:7.16202769683423  07/11/2022 09:12:09\n",
      "entering epoch=epoch_30.pkl\n",
      "[epoch_30.pkl---mpiigaze] Total Num:3000,MAE:6.3765065511596575  07/11/2022 09:12:24\n",
      "entering epoch=epoch_31.pkl\n",
      "[epoch_31.pkl---mpiigaze] Total Num:3000,MAE:7.067536136275185  07/11/2022 09:12:38\n",
      "entering epoch=epoch_32.pkl\n",
      "[epoch_32.pkl---mpiigaze] Total Num:3000,MAE:6.831489620019754  07/11/2022 09:12:53\n",
      "entering epoch=epoch_33.pkl\n",
      "[epoch_33.pkl---mpiigaze] Total Num:3000,MAE:8.42876201035034  07/11/2022 09:13:07\n",
      "entering epoch=epoch_34.pkl\n",
      "[epoch_34.pkl---mpiigaze] Total Num:3000,MAE:5.809464756903967  07/11/2022 09:13:22\n",
      "entering epoch=epoch_35.pkl\n",
      "[epoch_35.pkl---mpiigaze] Total Num:3000,MAE:6.90669669456493  07/11/2022 09:13:37\n",
      "entering epoch=epoch_36.pkl\n",
      "[epoch_36.pkl---mpiigaze] Total Num:3000,MAE:7.24676787190303  07/11/2022 09:13:51\n",
      "entering epoch=epoch_37.pkl\n",
      "[epoch_37.pkl---mpiigaze] Total Num:3000,MAE:6.03345322376401  07/11/2022 09:14:06\n",
      "entering epoch=epoch_38.pkl\n",
      "[epoch_38.pkl---mpiigaze] Total Num:3000,MAE:7.107773033291828  07/11/2022 09:14:20\n",
      "entering epoch=epoch_39.pkl\n",
      "[epoch_39.pkl---mpiigaze] Total Num:3000,MAE:6.274800330038472  07/11/2022 09:14:34\n",
      "entering epoch=epoch_40.pkl\n",
      "[epoch_40.pkl---mpiigaze] Total Num:3000,MAE:6.532562584245618  07/11/2022 09:14:49\n",
      "entering epoch=epoch_41.pkl\n",
      "[epoch_41.pkl---mpiigaze] Total Num:3000,MAE:6.953571925754409  07/11/2022 09:15:03\n",
      "entering epoch=epoch_42.pkl\n",
      "[epoch_42.pkl---mpiigaze] Total Num:3000,MAE:7.532664935628201  07/11/2022 09:15:18\n",
      "entering epoch=epoch_43.pkl\n",
      "[epoch_43.pkl---mpiigaze] Total Num:3000,MAE:6.650373701457766  07/11/2022 09:15:32\n",
      "entering epoch=epoch_44.pkl\n",
      "[epoch_44.pkl---mpiigaze] Total Num:3000,MAE:6.80462376326279  07/11/2022 09:15:46\n",
      "entering epoch=epoch_45.pkl\n",
      "[epoch_45.pkl---mpiigaze] Total Num:3000,MAE:8.034243095683774  07/11/2022 09:16:01\n",
      "entering epoch=epoch_46.pkl\n",
      "[epoch_46.pkl---mpiigaze] Total Num:3000,MAE:6.965729533692818  07/11/2022 09:16:15\n",
      "entering epoch=epoch_47.pkl\n",
      "[epoch_47.pkl---mpiigaze] Total Num:3000,MAE:7.103871670875833  07/11/2022 09:16:29\n",
      "entering epoch=epoch_48.pkl\n",
      "[epoch_48.pkl---mpiigaze] Total Num:3000,MAE:6.9331057866846555  07/11/2022 09:16:44\n",
      "entering epoch=epoch_49.pkl\n",
      "[epoch_49.pkl---mpiigaze] Total Num:3000,MAE:7.495998261174688  07/11/2022 09:16:58\n",
      "entering epoch=epoch_50.pkl\n",
      "[epoch_50.pkl---mpiigaze] Total Num:3000,MAE:6.202702652772889  07/11/2022 09:17:12\n",
      "entering epoch=epoch_51.pkl\n",
      "[epoch_51.pkl---mpiigaze] Total Num:3000,MAE:7.064791328704675  07/11/2022 09:17:27\n",
      "entering epoch=epoch_52.pkl\n",
      "[epoch_52.pkl---mpiigaze] Total Num:3000,MAE:8.054406279658902  07/11/2022 09:17:41\n",
      "entering epoch=epoch_53.pkl\n",
      "[epoch_53.pkl---mpiigaze] Total Num:3000,MAE:6.548816140149818  07/11/2022 09:17:55\n",
      "entering epoch=epoch_54.pkl\n",
      "[epoch_54.pkl---mpiigaze] Total Num:3000,MAE:7.120206790120736  07/11/2022 09:18:10\n",
      "entering epoch=epoch_55.pkl\n",
      "[epoch_55.pkl---mpiigaze] Total Num:3000,MAE:7.096040153084885  07/11/2022 09:18:24\n",
      "entering epoch=epoch_56.pkl\n",
      "[epoch_56.pkl---mpiigaze] Total Num:3000,MAE:7.599710005801391  07/11/2022 09:18:39\n",
      "entering epoch=epoch_57.pkl\n",
      "[epoch_57.pkl---mpiigaze] Total Num:3000,MAE:7.27365156230338  07/11/2022 09:18:53\n",
      "entering epoch=epoch_58.pkl\n",
      "[epoch_58.pkl---mpiigaze] Total Num:3000,MAE:5.954246269497086  07/11/2022 09:19:08\n",
      "entering epoch=epoch_59.pkl\n",
      "[epoch_59.pkl---mpiigaze] Total Num:3000,MAE:6.6528447322608555  07/11/2022 09:19:22\n",
      "entering epoch=epoch_60.pkl\n",
      "[epoch_60.pkl---mpiigaze] Total Num:3000,MAE:6.557444880686198  07/11/2022 09:19:36\n"
     ]
    },
    {
     "data": {
      "text/html": [
       "Waiting for W&B process to finish... <strong style=\"color:green\">(success).</strong>"
      ],
      "text/plain": [
       "<IPython.core.display.HTML object>"
      ]
     },
     "metadata": {},
     "output_type": "display_data"
    },
    {
     "data": {
      "application/vnd.jupyter.widget-view+json": {
       "model_id": "",
       "version_major": 2,
       "version_minor": 0
      },
      "text/plain": [
       "VBox(children=(Label(value='0.001 MB of 0.001 MB uploaded (0.000 MB deduped)\\r'), FloatProgress(value=1.0, max…"
      ]
     },
     "metadata": {},
     "output_type": "display_data"
    },
    {
     "data": {
      "text/html": [
       "<style>\n",
       "    table.wandb td:nth-child(1) { padding: 0 10px; text-align: right }\n",
       "    .wandb-row { display: flex; flex-direction: row; flex-wrap: wrap; width: 100% }\n",
       "    .wandb-col { display: flex; flex-direction: column; flex-basis: 100%; flex: 1; padding: 10px; }\n",
       "    </style>\n",
       "<div class=\"wandb-row\"><div class=\"wandb-col\"><h3>Run history:</h3><br/><table class=\"wandb\"><tr><td>fold_1_avg_mae</td><td>▇▇▅█▂▄█▅▁▆▂▄▄▃▃▄▄▂▃▅▄▄▁▄▂▅▃▄▃▄▄▅▆▂▇▃▅▆▂▃</td></tr></table><br/></div><div class=\"wandb-col\"><h3>Run summary:</h3><br/><table class=\"wandb\"><tr><td>epoch</td><td>epoch_60.pkl</td></tr><tr><td>fold_1_avg_mae</td><td>6.55744</td></tr></table><br/></div></div>"
      ],
      "text/plain": [
       "<IPython.core.display.HTML object>"
      ]
     },
     "metadata": {},
     "output_type": "display_data"
    },
    {
     "data": {
      "text/html": [
       "Synced <strong style=\"color:#cdcd00\">giddy-resonance-2</strong>: <a href=\"https://wandb.ai/synthesis-ai/61_syn_mode_sdata2_real_data/runs/3mojwfnd\" target=\"_blank\">https://wandb.ai/synthesis-ai/61_syn_mode_sdata2_real_data/runs/3mojwfnd</a><br/>Synced 5 W&B file(s), 0 media file(s), 0 artifact file(s) and 0 other file(s)"
      ],
      "text/plain": [
       "<IPython.core.display.HTML object>"
      ]
     },
     "metadata": {},
     "output_type": "display_data"
    },
    {
     "data": {
      "text/html": [
       "Find logs at: <code>./wandb/run-20220711_160505-3mojwfnd/logs</code>"
      ],
      "text/plain": [
       "<IPython.core.display.HTML object>"
      ]
     },
     "metadata": {},
     "output_type": "display_data"
    },
    {
     "data": {
      "text/html": [
       "wandb version 0.12.21 is available!  To upgrade, please run:\n",
       " $ pip install wandb --upgrade"
      ],
      "text/plain": [
       "<IPython.core.display.HTML object>"
      ]
     },
     "metadata": {},
     "output_type": "display_data"
    },
    {
     "data": {
      "text/html": [
       "Tracking run with wandb version 0.12.15"
      ],
      "text/plain": [
       "<IPython.core.display.HTML object>"
      ]
     },
     "metadata": {},
     "output_type": "display_data"
    },
    {
     "data": {
      "text/html": [
       "Run data is saved locally in <code>/project/notebooks/wandb/run-20220711_161940-4fq36x4h</code>"
      ],
      "text/plain": [
       "<IPython.core.display.HTML object>"
      ]
     },
     "metadata": {},
     "output_type": "display_data"
    },
    {
     "data": {
      "text/html": [
       "Syncing run <strong><a href=\"https://wandb.ai/synthesis-ai/61_syn_mode_sdata2_real_data/runs/4fq36x4h\" target=\"_blank\">rose-wave-3</a></strong> to <a href=\"https://wandb.ai/synthesis-ai/61_syn_mode_sdata2_real_data\" target=\"_blank\">Weights & Biases</a> (<a href=\"https://wandb.me/run\" target=\"_blank\">docs</a>)<br/>"
      ],
      "text/plain": [
       "<IPython.core.display.HTML object>"
      ]
     },
     "metadata": {},
     "output_type": "display_data"
    },
    {
     "name": "stdout",
     "output_type": "stream",
     "text": [
      "fold=2\n",
      "/project/data/Label\n",
      "0 items removed from dataset that have an angle > 180\n",
      "\n",
      "test configuration equal gpu_id=cuda:0, batch_size=20, model_arch=ResNet50\n",
      "Start testing dataset=mpiigaze, FOLD=2 --07/11/2022 09:19:43---------\n",
      "entering epoch=epoch_1.pkl\n",
      "[epoch_1.pkl---mpiigaze] Total Num:3000,MAE:6.280678896382697  07/11/2022 09:20:00\n",
      "entering epoch=epoch_2.pkl\n",
      "[epoch_2.pkl---mpiigaze] Total Num:3000,MAE:6.597661334471954  07/11/2022 09:20:14\n",
      "entering epoch=epoch_3.pkl\n",
      "[epoch_3.pkl---mpiigaze] Total Num:3000,MAE:7.45808390245677  07/11/2022 09:20:29\n",
      "entering epoch=epoch_4.pkl\n",
      "[epoch_4.pkl---mpiigaze] Total Num:3000,MAE:7.360693001051163  07/11/2022 09:20:43\n",
      "entering epoch=epoch_5.pkl\n",
      "[epoch_5.pkl---mpiigaze] Total Num:3000,MAE:8.289383837401978  07/11/2022 09:20:58\n",
      "entering epoch=epoch_6.pkl\n",
      "[epoch_6.pkl---mpiigaze] Total Num:3000,MAE:6.915700757723663  07/11/2022 09:21:12\n",
      "entering epoch=epoch_7.pkl\n",
      "[epoch_7.pkl---mpiigaze] Total Num:3000,MAE:6.863332876624724  07/11/2022 09:21:26\n",
      "entering epoch=epoch_8.pkl\n",
      "[epoch_8.pkl---mpiigaze] Total Num:3000,MAE:5.7853706336300155  07/11/2022 09:21:40\n",
      "entering epoch=epoch_9.pkl\n",
      "[epoch_9.pkl---mpiigaze] Total Num:3000,MAE:5.780901107260908  07/11/2022 09:21:55\n",
      "entering epoch=epoch_10.pkl\n",
      "[epoch_10.pkl---mpiigaze] Total Num:3000,MAE:6.112420990220467  07/11/2022 09:22:09\n",
      "entering epoch=epoch_11.pkl\n",
      "[epoch_11.pkl---mpiigaze] Total Num:3000,MAE:5.169233585169265  07/11/2022 09:22:24\n",
      "entering epoch=epoch_12.pkl\n",
      "[epoch_12.pkl---mpiigaze] Total Num:3000,MAE:5.797504011583992  07/11/2022 09:22:38\n",
      "entering epoch=epoch_13.pkl\n",
      "[epoch_13.pkl---mpiigaze] Total Num:3000,MAE:6.595562128456938  07/11/2022 09:22:52\n",
      "entering epoch=epoch_14.pkl\n",
      "[epoch_14.pkl---mpiigaze] Total Num:3000,MAE:6.317638998714839  07/11/2022 09:23:07\n",
      "entering epoch=epoch_15.pkl\n",
      "[epoch_15.pkl---mpiigaze] Total Num:3000,MAE:5.516930749714862  07/11/2022 09:23:21\n",
      "entering epoch=epoch_16.pkl\n",
      "[epoch_16.pkl---mpiigaze] Total Num:3000,MAE:6.007276830392379  07/11/2022 09:23:35\n",
      "entering epoch=epoch_17.pkl\n",
      "[epoch_17.pkl---mpiigaze] Total Num:3000,MAE:5.600456643280003  07/11/2022 09:23:50\n",
      "entering epoch=epoch_18.pkl\n",
      "[epoch_18.pkl---mpiigaze] Total Num:3000,MAE:6.113091824722766  07/11/2022 09:24:05\n",
      "entering epoch=epoch_19.pkl\n",
      "[epoch_19.pkl---mpiigaze] Total Num:3000,MAE:5.764248207309611  07/11/2022 09:24:19\n",
      "entering epoch=epoch_20.pkl\n",
      "[epoch_20.pkl---mpiigaze] Total Num:3000,MAE:5.343855064456644  07/11/2022 09:24:33\n",
      "entering epoch=epoch_21.pkl\n",
      "[epoch_21.pkl---mpiigaze] Total Num:3000,MAE:5.676764617850093  07/11/2022 09:24:48\n",
      "entering epoch=epoch_22.pkl\n",
      "[epoch_22.pkl---mpiigaze] Total Num:3000,MAE:6.003368845746619  07/11/2022 09:25:02\n",
      "entering epoch=epoch_23.pkl\n",
      "[epoch_23.pkl---mpiigaze] Total Num:3000,MAE:5.398062244718671  07/11/2022 09:25:16\n",
      "entering epoch=epoch_24.pkl\n",
      "[epoch_24.pkl---mpiigaze] Total Num:3000,MAE:5.781052789337614  07/11/2022 09:25:31\n",
      "entering epoch=epoch_25.pkl\n",
      "[epoch_25.pkl---mpiigaze] Total Num:3000,MAE:5.811964780716639  07/11/2022 09:25:45\n",
      "entering epoch=epoch_26.pkl\n",
      "[epoch_26.pkl---mpiigaze] Total Num:3000,MAE:5.449017704965211  07/11/2022 09:25:59\n",
      "entering epoch=epoch_27.pkl\n",
      "[epoch_27.pkl---mpiigaze] Total Num:3000,MAE:5.824507555700157  07/11/2022 09:26:14\n",
      "entering epoch=epoch_28.pkl\n",
      "[epoch_28.pkl---mpiigaze] Total Num:3000,MAE:5.993443901367562  07/11/2022 09:26:28\n",
      "entering epoch=epoch_29.pkl\n",
      "[epoch_29.pkl---mpiigaze] Total Num:3000,MAE:5.963317682876417  07/11/2022 09:26:43\n",
      "entering epoch=epoch_30.pkl\n",
      "[epoch_37.pkl---mpiigaze] Total Num:3000,MAE:6.438529449566647  07/11/2022 09:28:39\n",
      "entering epoch=epoch_38.pkl\n",
      "[epoch_38.pkl---mpiigaze] Total Num:3000,MAE:5.847948709922052  07/11/2022 09:28:53\n",
      "entering epoch=epoch_39.pkl\n",
      "[epoch_39.pkl---mpiigaze] Total Num:3000,MAE:5.877645528546527  07/11/2022 09:29:08\n",
      "entering epoch=epoch_40.pkl\n",
      "[epoch_40.pkl---mpiigaze] Total Num:3000,MAE:5.548166925729546  07/11/2022 09:29:22\n",
      "entering epoch=epoch_41.pkl\n",
      "[epoch_41.pkl---mpiigaze] Total Num:3000,MAE:5.634855700521661  07/11/2022 09:29:37\n",
      "entering epoch=epoch_42.pkl\n",
      "[epoch_42.pkl---mpiigaze] Total Num:3000,MAE:5.588436864344352  07/11/2022 09:29:51\n",
      "entering epoch=epoch_43.pkl\n",
      "[epoch_43.pkl---mpiigaze] Total Num:3000,MAE:5.26563363950058  07/11/2022 09:30:06\n",
      "entering epoch=epoch_44.pkl\n",
      "[epoch_44.pkl---mpiigaze] Total Num:3000,MAE:5.203237995884299  07/11/2022 09:30:20\n",
      "entering epoch=epoch_45.pkl\n",
      "[epoch_45.pkl---mpiigaze] Total Num:3000,MAE:5.431174466147034  07/11/2022 09:30:35\n",
      "entering epoch=epoch_46.pkl\n",
      "[epoch_46.pkl---mpiigaze] Total Num:3000,MAE:5.25356237414004  07/11/2022 09:30:49\n",
      "entering epoch=epoch_47.pkl\n",
      "[epoch_47.pkl---mpiigaze] Total Num:3000,MAE:5.522676734066417  07/11/2022 09:31:04\n",
      "entering epoch=epoch_48.pkl\n",
      "[epoch_48.pkl---mpiigaze] Total Num:3000,MAE:5.222777155567498  07/11/2022 09:31:18\n",
      "entering epoch=epoch_49.pkl\n",
      "[epoch_55.pkl---mpiigaze] Total Num:3000,MAE:5.338000116548269  07/11/2022 09:33:00\n",
      "entering epoch=epoch_56.pkl\n",
      "[epoch_56.pkl---mpiigaze] Total Num:3000,MAE:5.656006343540168  07/11/2022 09:33:14\n",
      "entering epoch=epoch_57.pkl\n",
      "[epoch_57.pkl---mpiigaze] Total Num:3000,MAE:5.412071036959174  07/11/2022 09:33:29\n",
      "entering epoch=epoch_58.pkl\n",
      "[epoch_58.pkl---mpiigaze] Total Num:3000,MAE:5.373274559637564  07/11/2022 09:33:44\n",
      "entering epoch=epoch_59.pkl\n",
      "[epoch_59.pkl---mpiigaze] Total Num:3000,MAE:5.331907352700754  07/11/2022 09:33:58\n",
      "entering epoch=epoch_60.pkl\n",
      "[epoch_60.pkl---mpiigaze] Total Num:3000,MAE:5.501648907910681  07/11/2022 09:34:13\n"
     ]
    },
    {
     "data": {
      "text/html": [
       "Waiting for W&B process to finish... <strong style=\"color:green\">(success).</strong>"
      ],
      "text/plain": [
       "<IPython.core.display.HTML object>"
      ]
     },
     "metadata": {},
     "output_type": "display_data"
    },
    {
     "data": {
      "application/vnd.jupyter.widget-view+json": {
       "model_id": "",
       "version_major": 2,
       "version_minor": 0
      },
      "text/plain": [
       "VBox(children=(Label(value='0.001 MB of 0.001 MB uploaded (0.000 MB deduped)\\r'), FloatProgress(value=1.0, max…"
      ]
     },
     "metadata": {},
     "output_type": "display_data"
    },
    {
     "data": {
      "text/html": [
       "<style>\n",
       "    table.wandb td:nth-child(1) { padding: 0 10px; text-align: right }\n",
       "    .wandb-row { display: flex; flex-direction: row; flex-wrap: wrap; width: 100% }\n",
       "    .wandb-col { display: flex; flex-direction: column; flex-basis: 100%; flex: 1; padding: 10px; }\n",
       "    </style>\n",
       "<div class=\"wandb-row\"><div class=\"wandb-col\"><h3>Run history:</h3><br/><table class=\"wandb\"><tr><td>fold_2_avg_mae</td><td>▄▄▆█▅▃▃▁▄▄▃▂▃▂▃▂▃▂▃▃▁▁▂▂▄▃▂▂▂▁▂▂▂▁▂▁▂▂▂▂</td></tr></table><br/></div><div class=\"wandb-col\"><h3>Run summary:</h3><br/><table class=\"wandb\"><tr><td>epoch</td><td>epoch_60.pkl</td></tr><tr><td>fold_2_avg_mae</td><td>5.50165</td></tr></table><br/></div></div>"
      ],
      "text/plain": [
       "<IPython.core.display.HTML object>"
      ]
     },
     "metadata": {},
     "output_type": "display_data"
    },
    {
     "data": {
      "text/html": [
       "Synced <strong style=\"color:#cdcd00\">rose-wave-3</strong>: <a href=\"https://wandb.ai/synthesis-ai/61_syn_mode_sdata2_real_data/runs/4fq36x4h\" target=\"_blank\">https://wandb.ai/synthesis-ai/61_syn_mode_sdata2_real_data/runs/4fq36x4h</a><br/>Synced 5 W&B file(s), 0 media file(s), 0 artifact file(s) and 0 other file(s)"
      ],
      "text/plain": [
       "<IPython.core.display.HTML object>"
      ]
     },
     "metadata": {},
     "output_type": "display_data"
    },
    {
     "data": {
      "text/html": [
       "Find logs at: <code>./wandb/run-20220711_161940-4fq36x4h/logs</code>"
      ],
      "text/plain": [
       "<IPython.core.display.HTML object>"
      ]
     },
     "metadata": {},
     "output_type": "display_data"
    },
    {
     "data": {
      "text/html": [
       "wandb version 0.12.21 is available!  To upgrade, please run:\n",
       " $ pip install wandb --upgrade"
      ],
      "text/plain": [
       "<IPython.core.display.HTML object>"
      ]
     },
     "metadata": {},
     "output_type": "display_data"
    },
    {
     "data": {
      "text/html": [
       "Tracking run with wandb version 0.12.15"
      ],
      "text/plain": [
       "<IPython.core.display.HTML object>"
      ]
     },
     "metadata": {},
     "output_type": "display_data"
    },
    {
     "data": {
      "text/html": [
       "Run data is saved locally in <code>/project/notebooks/wandb/run-20220711_163417-1r5eaczf</code>"
      ],
      "text/plain": [
       "<IPython.core.display.HTML object>"
      ]
     },
     "metadata": {},
     "output_type": "display_data"
    },
    {
     "data": {
      "text/html": [
       "Syncing run <strong><a href=\"https://wandb.ai/synthesis-ai/61_syn_mode_sdata2_real_data/runs/1r5eaczf\" target=\"_blank\">logical-sun-4</a></strong> to <a href=\"https://wandb.ai/synthesis-ai/61_syn_mode_sdata2_real_data\" target=\"_blank\">Weights & Biases</a> (<a href=\"https://wandb.me/run\" target=\"_blank\">docs</a>)<br/>"
      ],
      "text/plain": [
       "<IPython.core.display.HTML object>"
      ]
     },
     "metadata": {},
     "output_type": "display_data"
    },
    {
     "name": "stdout",
     "output_type": "stream",
     "text": [
      "fold=3\n",
      "/project/data/Label\n",
      "0 items removed from dataset that have an angle > 180\n",
      "\n",
      "test configuration equal gpu_id=cuda:0, batch_size=20, model_arch=ResNet50\n",
      "Start testing dataset=mpiigaze, FOLD=3 --07/11/2022 09:34:21---------\n",
      "entering epoch=epoch_1.pkl\n",
      "[epoch_1.pkl---mpiigaze] Total Num:3000,MAE:12.383911191099546  07/11/2022 09:34:38\n",
      "entering epoch=epoch_2.pkl\n",
      "[epoch_2.pkl---mpiigaze] Total Num:3000,MAE:9.61426767033823  07/11/2022 09:34:53\n",
      "entering epoch=epoch_3.pkl\n",
      "[epoch_3.pkl---mpiigaze] Total Num:3000,MAE:12.381017761046094  07/11/2022 09:35:08\n",
      "entering epoch=epoch_4.pkl\n",
      "[epoch_4.pkl---mpiigaze] Total Num:3000,MAE:10.110962361580398  07/11/2022 09:35:22\n",
      "entering epoch=epoch_5.pkl\n",
      "[epoch_5.pkl---mpiigaze] Total Num:3000,MAE:8.349143982556848  07/11/2022 09:35:37\n",
      "entering epoch=epoch_6.pkl\n",
      "[epoch_6.pkl---mpiigaze] Total Num:3000,MAE:6.690295579105698  07/11/2022 09:35:51\n",
      "entering epoch=epoch_7.pkl\n",
      "[epoch_7.pkl---mpiigaze] Total Num:3000,MAE:6.363062764566744  07/11/2022 09:36:06\n",
      "entering epoch=epoch_8.pkl\n",
      "[epoch_8.pkl---mpiigaze] Total Num:3000,MAE:5.746712480075554  07/11/2022 09:36:21\n",
      "entering epoch=epoch_9.pkl\n",
      "[epoch_9.pkl---mpiigaze] Total Num:3000,MAE:7.524333171105185  07/11/2022 09:36:35\n",
      "entering epoch=epoch_10.pkl\n",
      "[epoch_10.pkl---mpiigaze] Total Num:3000,MAE:8.022884116293245  07/11/2022 09:36:50\n",
      "entering epoch=epoch_11.pkl\n",
      "[epoch_11.pkl---mpiigaze] Total Num:3000,MAE:5.966282093868691  07/11/2022 09:37:04\n",
      "entering epoch=epoch_12.pkl\n",
      "[epoch_12.pkl---mpiigaze] Total Num:3000,MAE:5.574839836454962  07/11/2022 09:37:19\n",
      "entering epoch=epoch_13.pkl\n",
      "[epoch_13.pkl---mpiigaze] Total Num:3000,MAE:7.709634985525528  07/11/2022 09:37:33\n",
      "entering epoch=epoch_14.pkl\n",
      "[epoch_14.pkl---mpiigaze] Total Num:3000,MAE:7.068697628833136  07/11/2022 09:37:48\n",
      "entering epoch=epoch_15.pkl\n",
      "[epoch_15.pkl---mpiigaze] Total Num:3000,MAE:7.415829197040335  07/11/2022 09:38:02\n",
      "entering epoch=epoch_16.pkl\n",
      "[epoch_16.pkl---mpiigaze] Total Num:3000,MAE:5.6285116676372065  07/11/2022 09:38:17\n",
      "entering epoch=epoch_17.pkl\n",
      "[epoch_17.pkl---mpiigaze] Total Num:3000,MAE:7.714194156037989  07/11/2022 09:38:31\n",
      "entering epoch=epoch_18.pkl\n",
      "[epoch_18.pkl---mpiigaze] Total Num:3000,MAE:5.734890024394754  07/11/2022 09:38:46\n",
      "entering epoch=epoch_19.pkl\n",
      "[epoch_19.pkl---mpiigaze] Total Num:3000,MAE:7.802403069155267  07/11/2022 09:39:00\n",
      "entering epoch=epoch_20.pkl\n",
      "[epoch_20.pkl---mpiigaze] Total Num:3000,MAE:7.114253459217831  07/11/2022 09:39:14\n",
      "entering epoch=epoch_21.pkl\n",
      "[epoch_21.pkl---mpiigaze] Total Num:3000,MAE:6.6362295608852016  07/11/2022 09:39:29\n",
      "entering epoch=epoch_22.pkl\n",
      "[epoch_22.pkl---mpiigaze] Total Num:3000,MAE:7.805518025603157  07/11/2022 09:39:43\n",
      "entering epoch=epoch_23.pkl\n",
      "[epoch_23.pkl---mpiigaze] Total Num:3000,MAE:7.439181636655105  07/11/2022 09:39:58\n",
      "entering epoch=epoch_24.pkl\n",
      "[epoch_24.pkl---mpiigaze] Total Num:3000,MAE:6.226137402192271  07/11/2022 09:40:12\n",
      "entering epoch=epoch_25.pkl\n",
      "[epoch_25.pkl---mpiigaze] Total Num:3000,MAE:7.5089395275153095  07/11/2022 09:40:27\n",
      "entering epoch=epoch_26.pkl\n",
      "[epoch_26.pkl---mpiigaze] Total Num:3000,MAE:7.522123234073064  07/11/2022 09:40:42\n",
      "entering epoch=epoch_27.pkl\n",
      "[epoch_27.pkl---mpiigaze] Total Num:3000,MAE:6.741603269096821  07/11/2022 09:40:56\n",
      "entering epoch=epoch_28.pkl\n",
      "[epoch_28.pkl---mpiigaze] Total Num:3000,MAE:5.942032582940686  07/11/2022 09:41:11\n",
      "entering epoch=epoch_29.pkl\n",
      "[epoch_29.pkl---mpiigaze] Total Num:3000,MAE:6.835647769941413  07/11/2022 09:41:25\n",
      "entering epoch=epoch_30.pkl\n",
      "[epoch_30.pkl---mpiigaze] Total Num:3000,MAE:7.54743220697096  07/11/2022 09:41:40\n",
      "entering epoch=epoch_31.pkl\n",
      "[epoch_31.pkl---mpiigaze] Total Num:3000,MAE:6.60507499133809  07/11/2022 09:41:54\n",
      "entering epoch=epoch_32.pkl\n",
      "[epoch_32.pkl---mpiigaze] Total Num:3000,MAE:7.201459226833666  07/11/2022 09:42:09\n",
      "entering epoch=epoch_33.pkl\n",
      "[epoch_33.pkl---mpiigaze] Total Num:3000,MAE:6.4757391567302065  07/11/2022 09:42:23\n",
      "entering epoch=epoch_34.pkl\n",
      "[epoch_34.pkl---mpiigaze] Total Num:3000,MAE:7.0245375730902415  07/11/2022 09:42:38\n",
      "entering epoch=epoch_35.pkl\n",
      "[epoch_35.pkl---mpiigaze] Total Num:3000,MAE:7.0976722254940565  07/11/2022 09:42:52\n",
      "entering epoch=epoch_36.pkl\n",
      "[epoch_36.pkl---mpiigaze] Total Num:3000,MAE:6.974447742528827  07/11/2022 09:43:07\n",
      "entering epoch=epoch_37.pkl\n",
      "[epoch_37.pkl---mpiigaze] Total Num:3000,MAE:7.336072890079082  07/11/2022 09:43:21\n",
      "entering epoch=epoch_38.pkl\n",
      "[epoch_38.pkl---mpiigaze] Total Num:3000,MAE:7.637278932192989  07/11/2022 09:43:36\n",
      "entering epoch=epoch_39.pkl\n",
      "[epoch_39.pkl---mpiigaze] Total Num:3000,MAE:8.749647035000025  07/11/2022 09:43:50\n",
      "entering epoch=epoch_40.pkl\n",
      "[epoch_40.pkl---mpiigaze] Total Num:3000,MAE:7.702069873150344  07/11/2022 09:44:05\n",
      "entering epoch=epoch_41.pkl\n",
      "[epoch_41.pkl---mpiigaze] Total Num:3000,MAE:7.663205266264877  07/11/2022 09:44:19\n",
      "entering epoch=epoch_42.pkl\n",
      "[epoch_42.pkl---mpiigaze] Total Num:3000,MAE:6.916127242990572  07/11/2022 09:44:34\n",
      "entering epoch=epoch_43.pkl\n",
      "[epoch_43.pkl---mpiigaze] Total Num:3000,MAE:7.003502263257183  07/11/2022 09:44:48\n",
      "entering epoch=epoch_44.pkl\n",
      "[epoch_44.pkl---mpiigaze] Total Num:3000,MAE:7.713719228988627  07/11/2022 09:45:03\n",
      "entering epoch=epoch_45.pkl\n",
      "[epoch_45.pkl---mpiigaze] Total Num:3000,MAE:6.639656634842938  07/11/2022 09:45:18\n",
      "entering epoch=epoch_46.pkl\n",
      "[epoch_46.pkl---mpiigaze] Total Num:3000,MAE:7.134431428205171  07/11/2022 09:45:32\n",
      "entering epoch=epoch_47.pkl\n",
      "[epoch_47.pkl---mpiigaze] Total Num:3000,MAE:6.676583039133594  07/11/2022 09:45:47\n",
      "entering epoch=epoch_48.pkl\n",
      "[epoch_48.pkl---mpiigaze] Total Num:3000,MAE:7.048196857943532  07/11/2022 09:46:02\n",
      "entering epoch=epoch_49.pkl\n",
      "[epoch_49.pkl---mpiigaze] Total Num:3000,MAE:7.044841319797514  07/11/2022 09:46:16\n",
      "entering epoch=epoch_50.pkl\n",
      "[epoch_50.pkl---mpiigaze] Total Num:3000,MAE:7.180740628683086  07/11/2022 09:46:31\n",
      "entering epoch=epoch_51.pkl\n",
      "[epoch_51.pkl---mpiigaze] Total Num:3000,MAE:6.386186930049469  07/11/2022 09:46:45\n",
      "entering epoch=epoch_52.pkl\n",
      "[epoch_52.pkl---mpiigaze] Total Num:3000,MAE:7.276760215437479  07/11/2022 09:47:00\n",
      "entering epoch=epoch_53.pkl\n",
      "[epoch_53.pkl---mpiigaze] Total Num:3000,MAE:7.1560363494746415  07/11/2022 09:47:14\n",
      "entering epoch=epoch_54.pkl\n",
      "[epoch_54.pkl---mpiigaze] Total Num:3000,MAE:7.172356711660811  07/11/2022 09:47:29\n",
      "entering epoch=epoch_55.pkl\n",
      "[epoch_55.pkl---mpiigaze] Total Num:3000,MAE:6.802353824614404  07/11/2022 09:47:43\n",
      "entering epoch=epoch_56.pkl\n",
      "[epoch_56.pkl---mpiigaze] Total Num:3000,MAE:6.438589673920183  07/11/2022 09:47:58\n",
      "entering epoch=epoch_57.pkl\n",
      "[epoch_57.pkl---mpiigaze] Total Num:3000,MAE:6.529706670814442  07/11/2022 09:48:12\n",
      "entering epoch=epoch_58.pkl\n",
      "[epoch_58.pkl---mpiigaze] Total Num:3000,MAE:6.56189094593182  07/11/2022 09:48:27\n",
      "entering epoch=epoch_59.pkl\n",
      "[epoch_59.pkl---mpiigaze] Total Num:3000,MAE:5.978904336117138  07/11/2022 09:48:41\n",
      "entering epoch=epoch_60.pkl\n",
      "[epoch_60.pkl---mpiigaze] Total Num:3000,MAE:7.482917173511535  07/11/2022 09:48:55\n"
     ]
    },
    {
     "data": {
      "text/html": [
       "Waiting for W&B process to finish... <strong style=\"color:green\">(success).</strong>"
      ],
      "text/plain": [
       "<IPython.core.display.HTML object>"
      ]
     },
     "metadata": {},
     "output_type": "display_data"
    },
    {
     "data": {
      "application/vnd.jupyter.widget-view+json": {
       "model_id": "",
       "version_major": 2,
       "version_minor": 0
      },
      "text/plain": [
       "VBox(children=(Label(value='0.001 MB of 0.001 MB uploaded (0.000 MB deduped)\\r'), FloatProgress(value=1.0, max…"
      ]
     },
     "metadata": {},
     "output_type": "display_data"
    },
    {
     "data": {
      "text/html": [
       "<style>\n",
       "    table.wandb td:nth-child(1) { padding: 0 10px; text-align: right }\n",
       "    .wandb-row { display: flex; flex-direction: row; flex-wrap: wrap; width: 100% }\n",
       "    .wandb-col { display: flex; flex-direction: column; flex-basis: 100%; flex: 1; padding: 10px; }\n",
       "    </style>\n",
       "<div class=\"wandb-row\"><div class=\"wandb-col\"><h3>Run history:</h3><br/><table class=\"wandb\"><tr><td>fold_3_avg_mae</td><td>█▅▆▄▂▁▃▁▃▂▁▃▃▃▃▃▃▃▁▂▂▃▂▃▃▃▃▃▂▃▃▂▂▃▃▃▂▂▂▃</td></tr></table><br/></div><div class=\"wandb-col\"><h3>Run summary:</h3><br/><table class=\"wandb\"><tr><td>epoch</td><td>epoch_60.pkl</td></tr><tr><td>fold_3_avg_mae</td><td>7.48292</td></tr></table><br/></div></div>"
      ],
      "text/plain": [
       "<IPython.core.display.HTML object>"
      ]
     },
     "metadata": {},
     "output_type": "display_data"
    },
    {
     "data": {
      "text/html": [
       "Synced <strong style=\"color:#cdcd00\">logical-sun-4</strong>: <a href=\"https://wandb.ai/synthesis-ai/61_syn_mode_sdata2_real_data/runs/1r5eaczf\" target=\"_blank\">https://wandb.ai/synthesis-ai/61_syn_mode_sdata2_real_data/runs/1r5eaczf</a><br/>Synced 5 W&B file(s), 0 media file(s), 0 artifact file(s) and 0 other file(s)"
      ],
      "text/plain": [
       "<IPython.core.display.HTML object>"
      ]
     },
     "metadata": {},
     "output_type": "display_data"
    },
    {
     "data": {
      "text/html": [
       "Find logs at: <code>./wandb/run-20220711_163417-1r5eaczf/logs</code>"
      ],
      "text/plain": [
       "<IPython.core.display.HTML object>"
      ]
     },
     "metadata": {},
     "output_type": "display_data"
    },
    {
     "data": {
      "text/html": [
       "wandb version 0.12.21 is available!  To upgrade, please run:\n",
       " $ pip install wandb --upgrade"
      ],
      "text/plain": [
       "<IPython.core.display.HTML object>"
      ]
     },
     "metadata": {},
     "output_type": "display_data"
    },
    {
     "data": {
      "text/html": [
       "Tracking run with wandb version 0.12.15"
      ],
      "text/plain": [
       "<IPython.core.display.HTML object>"
      ]
     },
     "metadata": {},
     "output_type": "display_data"
    },
    {
     "data": {
      "text/html": [
       "Run data is saved locally in <code>/project/notebooks/wandb/run-20220711_164859-2wvojy7y</code>"
      ],
      "text/plain": [
       "<IPython.core.display.HTML object>"
      ]
     },
     "metadata": {},
     "output_type": "display_data"
    },
    {
     "data": {
      "text/html": [
       "Syncing run <strong><a href=\"https://wandb.ai/synthesis-ai/61_syn_mode_sdata2_real_data/runs/2wvojy7y\" target=\"_blank\">jumping-totem-5</a></strong> to <a href=\"https://wandb.ai/synthesis-ai/61_syn_mode_sdata2_real_data\" target=\"_blank\">Weights & Biases</a> (<a href=\"https://wandb.me/run\" target=\"_blank\">docs</a>)<br/>"
      ],
      "text/plain": [
       "<IPython.core.display.HTML object>"
      ]
     },
     "metadata": {},
     "output_type": "display_data"
    },
    {
     "name": "stdout",
     "output_type": "stream",
     "text": [
      "fold=4\n",
      "/project/data/Label\n",
      "0 items removed from dataset that have an angle > 180\n",
      "\n",
      "test configuration equal gpu_id=cuda:0, batch_size=20, model_arch=ResNet50\n",
      "Start testing dataset=mpiigaze, FOLD=4 --07/11/2022 09:49:02---------\n",
      "entering epoch=epoch_1.pkl\n",
      "[epoch_1.pkl---mpiigaze] Total Num:3000,MAE:7.06465414139884  07/11/2022 09:49:20\n",
      "entering epoch=epoch_2.pkl\n",
      "[epoch_2.pkl---mpiigaze] Total Num:3000,MAE:6.617114381180186  07/11/2022 09:49:35\n",
      "entering epoch=epoch_3.pkl\n",
      "[epoch_3.pkl---mpiigaze] Total Num:3000,MAE:6.651385921678674  07/11/2022 09:49:49\n",
      "entering epoch=epoch_4.pkl\n",
      "[epoch_4.pkl---mpiigaze] Total Num:3000,MAE:6.794621794314378  07/11/2022 09:50:04\n",
      "entering epoch=epoch_5.pkl\n",
      "[epoch_5.pkl---mpiigaze] Total Num:3000,MAE:6.401991491512461  07/11/2022 09:50:19\n",
      "entering epoch=epoch_6.pkl\n",
      "[epoch_6.pkl---mpiigaze] Total Num:3000,MAE:7.6347867451627955  07/11/2022 09:50:33\n",
      "entering epoch=epoch_7.pkl\n",
      "[epoch_7.pkl---mpiigaze] Total Num:3000,MAE:6.254193597285652  07/11/2022 09:50:48\n",
      "entering epoch=epoch_8.pkl\n",
      "[epoch_8.pkl---mpiigaze] Total Num:3000,MAE:6.350046670613323  07/11/2022 09:51:03\n",
      "entering epoch=epoch_9.pkl\n",
      "[epoch_9.pkl---mpiigaze] Total Num:3000,MAE:7.031278067058075  07/11/2022 09:51:18\n",
      "entering epoch=epoch_10.pkl\n",
      "[epoch_10.pkl---mpiigaze] Total Num:3000,MAE:6.96595006171324  07/11/2022 09:51:33\n",
      "entering epoch=epoch_11.pkl\n",
      "[epoch_11.pkl---mpiigaze] Total Num:3000,MAE:7.612071418017346  07/11/2022 09:51:47\n",
      "entering epoch=epoch_12.pkl\n",
      "[epoch_12.pkl---mpiigaze] Total Num:3000,MAE:6.89640913762403  07/11/2022 09:52:02\n",
      "entering epoch=epoch_13.pkl\n",
      "[epoch_13.pkl---mpiigaze] Total Num:3000,MAE:7.0112332889194935  07/11/2022 09:52:17\n",
      "entering epoch=epoch_14.pkl\n",
      "[epoch_14.pkl---mpiigaze] Total Num:3000,MAE:6.79796919845003  07/11/2022 09:52:31\n",
      "entering epoch=epoch_15.pkl\n",
      "[epoch_15.pkl---mpiigaze] Total Num:3000,MAE:7.512843289548177  07/11/2022 09:52:46\n",
      "entering epoch=epoch_16.pkl\n",
      "[epoch_16.pkl---mpiigaze] Total Num:3000,MAE:6.908770485043912  07/11/2022 09:53:00\n",
      "entering epoch=epoch_17.pkl\n",
      "[epoch_17.pkl---mpiigaze] Total Num:3000,MAE:8.324778663113234  07/11/2022 09:53:15\n",
      "entering epoch=epoch_18.pkl\n",
      "[epoch_18.pkl---mpiigaze] Total Num:3000,MAE:6.421301984175738  07/11/2022 09:53:30\n",
      "entering epoch=epoch_19.pkl\n",
      "[epoch_19.pkl---mpiigaze] Total Num:3000,MAE:5.989570296839588  07/11/2022 09:53:44\n",
      "entering epoch=epoch_20.pkl\n",
      "[epoch_20.pkl---mpiigaze] Total Num:3000,MAE:6.468953247569396  07/11/2022 09:53:59\n",
      "entering epoch=epoch_21.pkl\n",
      "[epoch_21.pkl---mpiigaze] Total Num:3000,MAE:6.8719803784201465  07/11/2022 09:54:14\n",
      "entering epoch=epoch_22.pkl\n",
      "[epoch_22.pkl---mpiigaze] Total Num:3000,MAE:6.758926395816377  07/11/2022 09:54:28\n",
      "entering epoch=epoch_23.pkl\n",
      "[epoch_23.pkl---mpiigaze] Total Num:3000,MAE:6.342119099599463  07/11/2022 09:54:43\n",
      "entering epoch=epoch_24.pkl\n",
      "[epoch_24.pkl---mpiigaze] Total Num:3000,MAE:6.564726541990785  07/11/2022 09:54:57\n",
      "entering epoch=epoch_25.pkl\n",
      "[epoch_25.pkl---mpiigaze] Total Num:3000,MAE:6.716619495037121  07/11/2022 09:55:12\n",
      "entering epoch=epoch_26.pkl\n",
      "[epoch_26.pkl---mpiigaze] Total Num:3000,MAE:6.553509767872128  07/11/2022 09:55:26\n",
      "entering epoch=epoch_27.pkl\n",
      "[epoch_27.pkl---mpiigaze] Total Num:3000,MAE:6.607882934885268  07/11/2022 09:55:41\n",
      "entering epoch=epoch_28.pkl\n",
      "[epoch_28.pkl---mpiigaze] Total Num:3000,MAE:5.6540998177923925  07/11/2022 09:55:55\n",
      "entering epoch=epoch_29.pkl\n",
      "[epoch_29.pkl---mpiigaze] Total Num:3000,MAE:6.83230840250359  07/11/2022 09:56:10\n",
      "entering epoch=epoch_30.pkl\n",
      "[epoch_30.pkl---mpiigaze] Total Num:3000,MAE:5.967654713684673  07/11/2022 09:56:24\n",
      "entering epoch=epoch_31.pkl\n",
      "[epoch_31.pkl---mpiigaze] Total Num:3000,MAE:6.26639599053658  07/11/2022 09:56:39\n",
      "entering epoch=epoch_32.pkl\n",
      "[epoch_32.pkl---mpiigaze] Total Num:3000,MAE:5.983899697199436  07/11/2022 09:56:54\n",
      "entering epoch=epoch_33.pkl\n",
      "[epoch_33.pkl---mpiigaze] Total Num:3000,MAE:6.494625628363805  07/11/2022 09:57:08\n",
      "entering epoch=epoch_34.pkl\n",
      "[epoch_34.pkl---mpiigaze] Total Num:3000,MAE:6.481826891992443  07/11/2022 09:57:23\n",
      "entering epoch=epoch_35.pkl\n",
      "[epoch_35.pkl---mpiigaze] Total Num:3000,MAE:6.830967746793376  07/11/2022 09:57:37\n",
      "entering epoch=epoch_36.pkl\n",
      "[epoch_36.pkl---mpiigaze] Total Num:3000,MAE:6.320905587765491  07/11/2022 09:57:52\n",
      "entering epoch=epoch_37.pkl\n",
      "[epoch_37.pkl---mpiigaze] Total Num:3000,MAE:6.186175567151848  07/11/2022 09:58:06\n",
      "entering epoch=epoch_38.pkl\n",
      "[epoch_38.pkl---mpiigaze] Total Num:3000,MAE:6.312840500284268  07/11/2022 09:58:21\n",
      "entering epoch=epoch_39.pkl\n",
      "[epoch_39.pkl---mpiigaze] Total Num:3000,MAE:6.269856706646122  07/11/2022 09:58:36\n",
      "entering epoch=epoch_40.pkl\n",
      "[epoch_40.pkl---mpiigaze] Total Num:3000,MAE:6.4177319658439895  07/11/2022 09:58:50\n",
      "entering epoch=epoch_41.pkl\n",
      "[epoch_41.pkl---mpiigaze] Total Num:3000,MAE:6.159054567310662  07/11/2022 09:59:05\n",
      "entering epoch=epoch_42.pkl\n",
      "[epoch_42.pkl---mpiigaze] Total Num:3000,MAE:6.550921539957776  07/11/2022 09:59:19\n",
      "entering epoch=epoch_43.pkl\n",
      "[epoch_43.pkl---mpiigaze] Total Num:3000,MAE:6.501335679147974  07/11/2022 09:59:33\n",
      "entering epoch=epoch_44.pkl\n",
      "[epoch_44.pkl---mpiigaze] Total Num:3000,MAE:6.1263445747364615  07/11/2022 09:59:48\n",
      "entering epoch=epoch_45.pkl\n",
      "[epoch_45.pkl---mpiigaze] Total Num:3000,MAE:6.681906242733918  07/11/2022 10:00:02\n",
      "entering epoch=epoch_46.pkl\n",
      "[epoch_46.pkl---mpiigaze] Total Num:3000,MAE:6.184773802229553  07/11/2022 10:00:17\n",
      "entering epoch=epoch_47.pkl\n",
      "[epoch_47.pkl---mpiigaze] Total Num:3000,MAE:6.070438410759708  07/11/2022 10:00:32\n",
      "entering epoch=epoch_48.pkl\n",
      "[epoch_48.pkl---mpiigaze] Total Num:3000,MAE:6.050377594950037  07/11/2022 10:00:46\n",
      "entering epoch=epoch_49.pkl\n",
      "[epoch_49.pkl---mpiigaze] Total Num:3000,MAE:5.784397453966388  07/11/2022 10:01:01\n",
      "entering epoch=epoch_50.pkl\n",
      "[epoch_50.pkl---mpiigaze] Total Num:3000,MAE:5.98577399200982  07/11/2022 10:01:15\n",
      "entering epoch=epoch_51.pkl\n",
      "[epoch_57.pkl---mpiigaze] Total Num:3000,MAE:5.581176413341293  07/11/2022 10:02:56\n",
      "entering epoch=epoch_58.pkl\n",
      "[epoch_58.pkl---mpiigaze] Total Num:3000,MAE:5.883444572468377  07/11/2022 10:03:11\n",
      "entering epoch=epoch_59.pkl\n",
      "[epoch_59.pkl---mpiigaze] Total Num:3000,MAE:5.706979273116507  07/11/2022 10:03:25\n",
      "entering epoch=epoch_60.pkl\n",
      "[epoch_60.pkl---mpiigaze] Total Num:3000,MAE:5.652747989781645  07/11/2022 10:03:39\n"
     ]
    },
    {
     "data": {
      "text/html": [
       "Waiting for W&B process to finish... <strong style=\"color:green\">(success).</strong>"
      ],
      "text/plain": [
       "<IPython.core.display.HTML object>"
      ]
     },
     "metadata": {},
     "output_type": "display_data"
    },
    {
     "data": {
      "application/vnd.jupyter.widget-view+json": {
       "model_id": "",
       "version_major": 2,
       "version_minor": 0
      },
      "text/plain": [
       "VBox(children=(Label(value='0.001 MB of 0.001 MB uploaded (0.000 MB deduped)\\r'), FloatProgress(value=1.0, max…"
      ]
     },
     "metadata": {},
     "output_type": "display_data"
    },
    {
     "data": {
      "text/html": [
       "<style>\n",
       "    table.wandb td:nth-child(1) { padding: 0 10px; text-align: right }\n",
       "    .wandb-row { display: flex; flex-direction: row; flex-wrap: wrap; width: 100% }\n",
       "    .wandb-col { display: flex; flex-direction: column; flex-basis: 100%; flex: 1; padding: 10px; }\n",
       "    </style>\n",
       "<div class=\"wandb-row\"><div class=\"wandb-col\"><h3>Run history:</h3><br/><table class=\"wandb\"><tr><td>fold_4_avg_mae</td><td>▅▄▄▃▃▃▅▆▅▄▄█▂▃▄▃▄▃▁▄▃▂▃▄▃▃▃▂▃▂▃▂▂▂▂▂▃▁▂▁</td></tr></table><br/></div><div class=\"wandb-col\"><h3>Run summary:</h3><br/><table class=\"wandb\"><tr><td>epoch</td><td>epoch_60.pkl</td></tr><tr><td>fold_4_avg_mae</td><td>5.65275</td></tr></table><br/></div></div>"
      ],
      "text/plain": [
       "<IPython.core.display.HTML object>"
      ]
     },
     "metadata": {},
     "output_type": "display_data"
    },
    {
     "data": {
      "text/html": [
       "Synced <strong style=\"color:#cdcd00\">jumping-totem-5</strong>: <a href=\"https://wandb.ai/synthesis-ai/61_syn_mode_sdata2_real_data/runs/2wvojy7y\" target=\"_blank\">https://wandb.ai/synthesis-ai/61_syn_mode_sdata2_real_data/runs/2wvojy7y</a><br/>Synced 5 W&B file(s), 0 media file(s), 0 artifact file(s) and 0 other file(s)"
      ],
      "text/plain": [
       "<IPython.core.display.HTML object>"
      ]
     },
     "metadata": {},
     "output_type": "display_data"
    },
    {
     "data": {
      "text/html": [
       "Find logs at: <code>./wandb/run-20220711_164859-2wvojy7y/logs</code>"
      ],
      "text/plain": [
       "<IPython.core.display.HTML object>"
      ]
     },
     "metadata": {},
     "output_type": "display_data"
    },
    {
     "data": {
      "text/html": [
       "wandb version 0.12.21 is available!  To upgrade, please run:\n",
       " $ pip install wandb --upgrade"
      ],
      "text/plain": [
       "<IPython.core.display.HTML object>"
      ]
     },
     "metadata": {},
     "output_type": "display_data"
    },
    {
     "data": {
      "text/html": [
       "Tracking run with wandb version 0.12.15"
      ],
      "text/plain": [
       "<IPython.core.display.HTML object>"
      ]
     },
     "metadata": {},
     "output_type": "display_data"
    },
    {
     "data": {
      "text/html": [
       "Run data is saved locally in <code>/project/notebooks/wandb/run-20220711_170343-12ikvqbf</code>"
      ],
      "text/plain": [
       "<IPython.core.display.HTML object>"
      ]
     },
     "metadata": {},
     "output_type": "display_data"
    },
    {
     "data": {
      "text/html": [
       "Syncing run <strong><a href=\"https://wandb.ai/synthesis-ai/61_syn_mode_sdata2_real_data/runs/12ikvqbf\" target=\"_blank\">graceful-yogurt-6</a></strong> to <a href=\"https://wandb.ai/synthesis-ai/61_syn_mode_sdata2_real_data\" target=\"_blank\">Weights & Biases</a> (<a href=\"https://wandb.me/run\" target=\"_blank\">docs</a>)<br/>"
      ],
      "text/plain": [
       "<IPython.core.display.HTML object>"
      ]
     },
     "metadata": {},
     "output_type": "display_data"
    },
    {
     "name": "stdout",
     "output_type": "stream",
     "text": [
      "fold=5\n",
      "/project/data/Label\n",
      "0 items removed from dataset that have an angle > 180\n",
      "\n",
      "test configuration equal gpu_id=cuda:0, batch_size=20, model_arch=ResNet50\n",
      "Start testing dataset=mpiigaze, FOLD=5 --07/11/2022 10:03:47---------\n",
      "entering epoch=epoch_1.pkl\n",
      "[epoch_1.pkl---mpiigaze] Total Num:3000,MAE:7.082138818303245  07/11/2022 10:04:04\n",
      "entering epoch=epoch_2.pkl\n",
      "[epoch_2.pkl---mpiigaze] Total Num:3000,MAE:7.01836761651123  07/11/2022 10:04:19\n",
      "entering epoch=epoch_3.pkl\n",
      "[epoch_3.pkl---mpiigaze] Total Num:3000,MAE:7.182290571056994  07/11/2022 10:04:33\n",
      "entering epoch=epoch_4.pkl\n",
      "[epoch_4.pkl---mpiigaze] Total Num:3000,MAE:7.692483114575103  07/11/2022 10:04:48\n",
      "entering epoch=epoch_5.pkl\n",
      "[epoch_5.pkl---mpiigaze] Total Num:3000,MAE:6.688610673881446  07/11/2022 10:05:02\n",
      "entering epoch=epoch_6.pkl\n",
      "[epoch_6.pkl---mpiigaze] Total Num:3000,MAE:6.887718780645401  07/11/2022 10:05:17\n",
      "entering epoch=epoch_7.pkl\n",
      "[epoch_7.pkl---mpiigaze] Total Num:3000,MAE:6.703625224385895  07/11/2022 10:05:31\n",
      "entering epoch=epoch_8.pkl\n",
      "[epoch_8.pkl---mpiigaze] Total Num:3000,MAE:6.566021121312468  07/11/2022 10:05:45\n",
      "entering epoch=epoch_9.pkl\n",
      "[epoch_9.pkl---mpiigaze] Total Num:3000,MAE:6.815993112114121  07/11/2022 10:06:00\n",
      "entering epoch=epoch_10.pkl\n",
      "[epoch_10.pkl---mpiigaze] Total Num:3000,MAE:6.543272059268968  07/11/2022 10:06:14\n",
      "entering epoch=epoch_11.pkl\n",
      "[epoch_11.pkl---mpiigaze] Total Num:3000,MAE:6.583846144301236  07/11/2022 10:06:28\n",
      "entering epoch=epoch_12.pkl\n",
      "[epoch_12.pkl---mpiigaze] Total Num:3000,MAE:6.657601271561867  07/11/2022 10:06:43\n",
      "entering epoch=epoch_13.pkl\n",
      "[epoch_19.pkl---mpiigaze] Total Num:3000,MAE:6.858294078299798  07/11/2022 10:08:24\n",
      "entering epoch=epoch_20.pkl\n",
      "[epoch_20.pkl---mpiigaze] Total Num:3000,MAE:6.5264365236315465  07/11/2022 10:08:38\n",
      "entering epoch=epoch_21.pkl\n",
      "[epoch_21.pkl---mpiigaze] Total Num:3000,MAE:6.341640260651866  07/11/2022 10:08:53\n",
      "entering epoch=epoch_22.pkl\n",
      "[epoch_22.pkl---mpiigaze] Total Num:3000,MAE:6.65373779226297  07/11/2022 10:09:07\n",
      "entering epoch=epoch_23.pkl\n",
      "[epoch_23.pkl---mpiigaze] Total Num:3000,MAE:6.449299967848195  07/11/2022 10:09:22\n",
      "entering epoch=epoch_24.pkl\n",
      "[epoch_24.pkl---mpiigaze] Total Num:3000,MAE:6.427651327097338  07/11/2022 10:09:36\n",
      "entering epoch=epoch_25.pkl\n",
      "[epoch_25.pkl---mpiigaze] Total Num:3000,MAE:6.411805339674858  07/11/2022 10:09:51\n",
      "entering epoch=epoch_26.pkl\n",
      "[epoch_26.pkl---mpiigaze] Total Num:3000,MAE:6.452535572920386  07/11/2022 10:10:06\n",
      "entering epoch=epoch_27.pkl\n",
      "[epoch_27.pkl---mpiigaze] Total Num:3000,MAE:6.690638269393405  07/11/2022 10:10:20\n",
      "entering epoch=epoch_28.pkl\n",
      "[epoch_28.pkl---mpiigaze] Total Num:3000,MAE:6.2614505178443505  07/11/2022 10:10:35\n",
      "entering epoch=epoch_29.pkl\n",
      "[epoch_29.pkl---mpiigaze] Total Num:3000,MAE:6.262215909800632  07/11/2022 10:10:50\n",
      "entering epoch=epoch_30.pkl\n",
      "[epoch_30.pkl---mpiigaze] Total Num:3000,MAE:6.1903010683733966  07/11/2022 10:11:05\n",
      "entering epoch=epoch_31.pkl\n",
      "[epoch_31.pkl---mpiigaze] Total Num:3000,MAE:6.244842268449216  07/11/2022 10:11:19\n",
      "entering epoch=epoch_32.pkl\n",
      "[epoch_32.pkl---mpiigaze] Total Num:3000,MAE:6.253135475305289  07/11/2022 10:11:33\n",
      "entering epoch=epoch_33.pkl\n",
      "[epoch_33.pkl---mpiigaze] Total Num:3000,MAE:6.36432986201048  07/11/2022 10:11:48\n",
      "entering epoch=epoch_34.pkl\n",
      "[epoch_34.pkl---mpiigaze] Total Num:3000,MAE:6.517317315964384  07/11/2022 10:12:02\n",
      "entering epoch=epoch_35.pkl\n",
      "[epoch_35.pkl---mpiigaze] Total Num:3000,MAE:6.5343719639186855  07/11/2022 10:12:17\n",
      "entering epoch=epoch_36.pkl\n",
      "[epoch_36.pkl---mpiigaze] Total Num:3000,MAE:6.343273844451791  07/11/2022 10:12:31\n",
      "entering epoch=epoch_37.pkl\n",
      "[epoch_37.pkl---mpiigaze] Total Num:3000,MAE:6.4202592649113805  07/11/2022 10:12:45\n",
      "entering epoch=epoch_38.pkl\n",
      "[epoch_38.pkl---mpiigaze] Total Num:3000,MAE:6.509965215664865  07/11/2022 10:13:00\n",
      "entering epoch=epoch_39.pkl\n",
      "[epoch_39.pkl---mpiigaze] Total Num:3000,MAE:6.328810487948775  07/11/2022 10:13:14\n",
      "entering epoch=epoch_40.pkl\n",
      "[epoch_40.pkl---mpiigaze] Total Num:3000,MAE:6.339745992917303  07/11/2022 10:13:29\n",
      "entering epoch=epoch_41.pkl\n",
      "[epoch_41.pkl---mpiigaze] Total Num:3000,MAE:6.237259745951311  07/11/2022 10:13:43\n",
      "entering epoch=epoch_42.pkl\n",
      "[epoch_42.pkl---mpiigaze] Total Num:3000,MAE:6.132947102428186  07/11/2022 10:13:58\n",
      "entering epoch=epoch_43.pkl\n",
      "[epoch_43.pkl---mpiigaze] Total Num:3000,MAE:6.269639818459273  07/11/2022 10:14:12\n",
      "entering epoch=epoch_44.pkl\n",
      "[epoch_44.pkl---mpiigaze] Total Num:3000,MAE:6.267930594847089  07/11/2022 10:14:27\n",
      "entering epoch=epoch_45.pkl\n",
      "[epoch_45.pkl---mpiigaze] Total Num:3000,MAE:6.256864915467207  07/11/2022 10:14:41\n",
      "entering epoch=epoch_46.pkl\n",
      "[epoch_46.pkl---mpiigaze] Total Num:3000,MAE:6.253168566588964  07/11/2022 10:14:56\n",
      "entering epoch=epoch_47.pkl\n",
      "[epoch_47.pkl---mpiigaze] Total Num:3000,MAE:6.328179849233935  07/11/2022 10:15:10\n",
      "entering epoch=epoch_48.pkl\n",
      "[epoch_55.pkl---mpiigaze] Total Num:3000,MAE:6.24334498481777  07/11/2022 10:17:06\n",
      "entering epoch=epoch_56.pkl\n",
      "[epoch_56.pkl---mpiigaze] Total Num:3000,MAE:6.259218772895824  07/11/2022 10:17:20\n",
      "entering epoch=epoch_57.pkl\n",
      "[epoch_57.pkl---mpiigaze] Total Num:3000,MAE:6.270365691291265  07/11/2022 10:17:35\n",
      "entering epoch=epoch_58.pkl\n",
      "[epoch_58.pkl---mpiigaze] Total Num:3000,MAE:6.256580005693212  07/11/2022 10:17:49\n",
      "entering epoch=epoch_59.pkl\n",
      "[epoch_59.pkl---mpiigaze] Total Num:3000,MAE:6.27967519382859  07/11/2022 10:18:04\n",
      "entering epoch=epoch_60.pkl\n",
      "[epoch_60.pkl---mpiigaze] Total Num:3000,MAE:6.172758748786259  07/11/2022 10:18:18\n"
     ]
    },
    {
     "data": {
      "text/html": [
       "Waiting for W&B process to finish... <strong style=\"color:green\">(success).</strong>"
      ],
      "text/plain": [
       "<IPython.core.display.HTML object>"
      ]
     },
     "metadata": {},
     "output_type": "display_data"
    },
    {
     "data": {
      "application/vnd.jupyter.widget-view+json": {
       "model_id": "",
       "version_major": 2,
       "version_minor": 0
      },
      "text/plain": [
       "VBox(children=(Label(value='0.001 MB of 0.001 MB uploaded (0.000 MB deduped)\\r'), FloatProgress(value=1.0, max…"
      ]
     },
     "metadata": {},
     "output_type": "display_data"
    },
    {
     "data": {
      "text/html": [
       "<style>\n",
       "    table.wandb td:nth-child(1) { padding: 0 10px; text-align: right }\n",
       "    .wandb-row { display: flex; flex-direction: row; flex-wrap: wrap; width: 100% }\n",
       "    .wandb-col { display: flex; flex-direction: column; flex-basis: 100%; flex: 1; padding: 10px; }\n",
       "    </style>\n",
       "<div class=\"wandb-row\"><div class=\"wandb-col\"><h3>Run history:</h3><br/><table class=\"wandb\"><tr><td>fold_5_avg_mae</td><td>▅▅█▃▃▃▃▃▃▃▂▃▄▃▃▂▂▂▁▁▁▁▃▃▂▃▂▁▁▁▁▂▁▁▂▃▁▁▁▁</td></tr></table><br/></div><div class=\"wandb-col\"><h3>Run summary:</h3><br/><table class=\"wandb\"><tr><td>epoch</td><td>epoch_60.pkl</td></tr><tr><td>fold_5_avg_mae</td><td>6.17276</td></tr></table><br/></div></div>"
      ],
      "text/plain": [
       "<IPython.core.display.HTML object>"
      ]
     },
     "metadata": {},
     "output_type": "display_data"
    },
    {
     "data": {
      "text/html": [
       "Synced <strong style=\"color:#cdcd00\">graceful-yogurt-6</strong>: <a href=\"https://wandb.ai/synthesis-ai/61_syn_mode_sdata2_real_data/runs/12ikvqbf\" target=\"_blank\">https://wandb.ai/synthesis-ai/61_syn_mode_sdata2_real_data/runs/12ikvqbf</a><br/>Synced 5 W&B file(s), 0 media file(s), 0 artifact file(s) and 0 other file(s)"
      ],
      "text/plain": [
       "<IPython.core.display.HTML object>"
      ]
     },
     "metadata": {},
     "output_type": "display_data"
    },
    {
     "data": {
      "text/html": [
       "Find logs at: <code>./wandb/run-20220711_170343-12ikvqbf/logs</code>"
      ],
      "text/plain": [
       "<IPython.core.display.HTML object>"
      ]
     },
     "metadata": {},
     "output_type": "display_data"
    },
    {
     "data": {
      "text/html": [
       "wandb version 0.12.21 is available!  To upgrade, please run:\n",
       " $ pip install wandb --upgrade"
      ],
      "text/plain": [
       "<IPython.core.display.HTML object>"
      ]
     },
     "metadata": {},
     "output_type": "display_data"
    },
    {
     "data": {
      "text/html": [
       "Tracking run with wandb version 0.12.15"
      ],
      "text/plain": [
       "<IPython.core.display.HTML object>"
      ]
     },
     "metadata": {},
     "output_type": "display_data"
    },
    {
     "data": {
      "text/html": [
       "Run data is saved locally in <code>/project/notebooks/wandb/run-20220711_171823-2tu30q3m</code>"
      ],
      "text/plain": [
       "<IPython.core.display.HTML object>"
      ]
     },
     "metadata": {},
     "output_type": "display_data"
    },
    {
     "data": {
      "text/html": [
       "Syncing run <strong><a href=\"https://wandb.ai/synthesis-ai/61_syn_mode_sdata2_real_data/runs/2tu30q3m\" target=\"_blank\">azure-music-7</a></strong> to <a href=\"https://wandb.ai/synthesis-ai/61_syn_mode_sdata2_real_data\" target=\"_blank\">Weights & Biases</a> (<a href=\"https://wandb.me/run\" target=\"_blank\">docs</a>)<br/>"
      ],
      "text/plain": [
       "<IPython.core.display.HTML object>"
      ]
     },
     "metadata": {},
     "output_type": "display_data"
    },
    {
     "name": "stdout",
     "output_type": "stream",
     "text": [
      "fold=6\n",
      "/project/data/Label\n",
      "0 items removed from dataset that have an angle > 180\n",
      "\n",
      "test configuration equal gpu_id=cuda:0, batch_size=20, model_arch=ResNet50\n",
      "Start testing dataset=mpiigaze, FOLD=6 --07/11/2022 10:18:26---------\n",
      "entering epoch=epoch_1.pkl\n",
      "[epoch_7.pkl---mpiigaze] Total Num:3000,MAE:12.699302606315852  07/11/2022 10:20:10\n",
      "entering epoch=epoch_8.pkl\n",
      "[epoch_8.pkl---mpiigaze] Total Num:3000,MAE:10.514230488782964  07/11/2022 10:20:25\n",
      "entering epoch=epoch_9.pkl\n",
      "[epoch_9.pkl---mpiigaze] Total Num:3000,MAE:11.966484642022953  07/11/2022 10:20:39\n",
      "entering epoch=epoch_10.pkl\n",
      "[epoch_10.pkl---mpiigaze] Total Num:3000,MAE:12.966179964170541  07/11/2022 10:20:53\n",
      "entering epoch=epoch_11.pkl\n",
      "[epoch_11.pkl---mpiigaze] Total Num:3000,MAE:12.583686490444515  07/11/2022 10:21:08\n",
      "entering epoch=epoch_12.pkl\n",
      "[epoch_12.pkl---mpiigaze] Total Num:3000,MAE:11.029578495061772  07/11/2022 10:21:22\n",
      "entering epoch=epoch_13.pkl\n",
      "[epoch_13.pkl---mpiigaze] Total Num:3000,MAE:11.807491898230003  07/11/2022 10:21:37\n",
      "entering epoch=epoch_14.pkl\n",
      "[epoch_14.pkl---mpiigaze] Total Num:3000,MAE:10.967348626833424  07/11/2022 10:21:51\n",
      "entering epoch=epoch_15.pkl\n",
      "[epoch_15.pkl---mpiigaze] Total Num:3000,MAE:11.657468248799914  07/11/2022 10:22:06\n",
      "entering epoch=epoch_16.pkl\n",
      "[epoch_16.pkl---mpiigaze] Total Num:3000,MAE:9.963369567717377  07/11/2022 10:22:20\n",
      "entering epoch=epoch_17.pkl\n",
      "[epoch_17.pkl---mpiigaze] Total Num:3000,MAE:10.374226386074644  07/11/2022 10:22:35\n",
      "entering epoch=epoch_18.pkl\n",
      "[epoch_18.pkl---mpiigaze] Total Num:3000,MAE:9.36270919112057  07/11/2022 10:22:49\n",
      "entering epoch=epoch_19.pkl\n",
      "[epoch_19.pkl---mpiigaze] Total Num:3000,MAE:12.425943804455848  07/11/2022 10:23:03\n",
      "entering epoch=epoch_20.pkl\n",
      "[epoch_20.pkl---mpiigaze] Total Num:3000,MAE:11.166026949895338  07/11/2022 10:23:18\n",
      "entering epoch=epoch_21.pkl\n",
      "[epoch_21.pkl---mpiigaze] Total Num:3000,MAE:10.989722892207455  07/11/2022 10:23:32\n",
      "entering epoch=epoch_22.pkl\n",
      "[epoch_22.pkl---mpiigaze] Total Num:3000,MAE:10.786304635221768  07/11/2022 10:23:47\n",
      "entering epoch=epoch_23.pkl\n",
      "[epoch_23.pkl---mpiigaze] Total Num:3000,MAE:10.021223059254712  07/11/2022 10:24:01\n",
      "entering epoch=epoch_24.pkl\n",
      "[epoch_24.pkl---mpiigaze] Total Num:3000,MAE:10.625141685391888  07/11/2022 10:24:15\n",
      "entering epoch=epoch_25.pkl\n",
      "[epoch_25.pkl---mpiigaze] Total Num:3000,MAE:11.509770903636454  07/11/2022 10:24:30\n",
      "entering epoch=epoch_26.pkl\n",
      "[epoch_26.pkl---mpiigaze] Total Num:3000,MAE:11.224142592478689  07/11/2022 10:24:44\n",
      "entering epoch=epoch_27.pkl\n",
      "[epoch_35.pkl---mpiigaze] Total Num:3000,MAE:9.930288129712117  07/11/2022 10:26:54\n",
      "entering epoch=epoch_36.pkl\n",
      "[epoch_36.pkl---mpiigaze] Total Num:3000,MAE:11.021524592612355  07/11/2022 10:27:08\n",
      "entering epoch=epoch_37.pkl\n",
      "[epoch_37.pkl---mpiigaze] Total Num:3000,MAE:10.07750169788101  07/11/2022 10:27:23\n",
      "entering epoch=epoch_38.pkl\n",
      "[epoch_38.pkl---mpiigaze] Total Num:3000,MAE:9.393319077302204  07/11/2022 10:27:37\n",
      "entering epoch=epoch_39.pkl\n",
      "[epoch_39.pkl---mpiigaze] Total Num:3000,MAE:10.828424776957402  07/11/2022 10:27:52\n",
      "entering epoch=epoch_40.pkl\n",
      "[epoch_40.pkl---mpiigaze] Total Num:3000,MAE:10.3663349098692  07/11/2022 10:28:06\n",
      "entering epoch=epoch_41.pkl\n",
      "[epoch_41.pkl---mpiigaze] Total Num:3000,MAE:11.232500998679537  07/11/2022 10:28:21\n",
      "entering epoch=epoch_42.pkl\n",
      "[epoch_42.pkl---mpiigaze] Total Num:3000,MAE:10.442926441201372  07/11/2022 10:28:35\n",
      "entering epoch=epoch_43.pkl\n",
      "[epoch_43.pkl---mpiigaze] Total Num:3000,MAE:10.900038650666685  07/11/2022 10:28:50\n",
      "entering epoch=epoch_44.pkl\n",
      "[epoch_44.pkl---mpiigaze] Total Num:3000,MAE:11.03067420471786  07/11/2022 10:29:05\n",
      "entering epoch=epoch_45.pkl\n",
      "[epoch_45.pkl---mpiigaze] Total Num:3000,MAE:10.96875701491748  07/11/2022 10:29:19\n",
      "entering epoch=epoch_46.pkl\n",
      "[epoch_46.pkl---mpiigaze] Total Num:3000,MAE:10.171991905247351  07/11/2022 10:29:34\n",
      "entering epoch=epoch_47.pkl\n",
      "[epoch_47.pkl---mpiigaze] Total Num:3000,MAE:9.281614680667653  07/11/2022 10:29:49\n",
      "entering epoch=epoch_48.pkl\n",
      "[epoch_48.pkl---mpiigaze] Total Num:3000,MAE:10.967325486700659  07/11/2022 10:30:04\n",
      "entering epoch=epoch_49.pkl\n",
      "[epoch_49.pkl---mpiigaze] Total Num:3000,MAE:9.679298109177386  07/11/2022 10:30:18\n",
      "entering epoch=epoch_50.pkl\n",
      "[epoch_50.pkl---mpiigaze] Total Num:3000,MAE:9.560361849298292  07/11/2022 10:30:33\n",
      "entering epoch=epoch_51.pkl\n",
      "[epoch_51.pkl---mpiigaze] Total Num:3000,MAE:10.79951598065425  07/11/2022 10:30:47\n",
      "entering epoch=epoch_52.pkl\n",
      "[epoch_57.pkl---mpiigaze] Total Num:3000,MAE:10.951783042868469  07/11/2022 10:32:15\n",
      "entering epoch=epoch_58.pkl\n",
      "[epoch_58.pkl---mpiigaze] Total Num:3000,MAE:11.3850315274004  07/11/2022 10:32:30\n",
      "entering epoch=epoch_59.pkl\n",
      "[epoch_59.pkl---mpiigaze] Total Num:3000,MAE:10.494441448205825  07/11/2022 10:32:44\n",
      "entering epoch=epoch_60.pkl\n",
      "[epoch_60.pkl---mpiigaze] Total Num:3000,MAE:10.970766605579884  07/11/2022 10:32:59\n"
     ]
    },
    {
     "data": {
      "text/html": [
       "Waiting for W&B process to finish... <strong style=\"color:green\">(success).</strong>"
      ],
      "text/plain": [
       "<IPython.core.display.HTML object>"
      ]
     },
     "metadata": {},
     "output_type": "display_data"
    },
    {
     "data": {
      "application/vnd.jupyter.widget-view+json": {
       "model_id": "",
       "version_major": 2,
       "version_minor": 0
      },
      "text/plain": [
       "VBox(children=(Label(value='0.001 MB of 0.001 MB uploaded (0.000 MB deduped)\\r'), FloatProgress(value=1.0, max…"
      ]
     },
     "metadata": {},
     "output_type": "display_data"
    },
    {
     "data": {
      "text/html": [
       "<style>\n",
       "    table.wandb td:nth-child(1) { padding: 0 10px; text-align: right }\n",
       "    .wandb-row { display: flex; flex-direction: row; flex-wrap: wrap; width: 100% }\n",
       "    .wandb-col { display: flex; flex-direction: column; flex-basis: 100%; flex: 1; padding: 10px; }\n",
       "    </style>\n",
       "<div class=\"wandb-row\"><div class=\"wandb-col\"><h3>Run history:</h3><br/><table class=\"wandb\"><tr><td>fold_6_avg_mae</td><td>▅█▅▅▇▃▇▆▅▄▂▃▆▄▃▂▅▄▃▂▅▄▃▂▂▁▃▄▄▄▂▁▂▁▄▂▄▄▄▄</td></tr></table><br/></div><div class=\"wandb-col\"><h3>Run summary:</h3><br/><table class=\"wandb\"><tr><td>epoch</td><td>epoch_60.pkl</td></tr><tr><td>fold_6_avg_mae</td><td>10.97077</td></tr></table><br/></div></div>"
      ],
      "text/plain": [
       "<IPython.core.display.HTML object>"
      ]
     },
     "metadata": {},
     "output_type": "display_data"
    },
    {
     "data": {
      "text/html": [
       "Synced <strong style=\"color:#cdcd00\">azure-music-7</strong>: <a href=\"https://wandb.ai/synthesis-ai/61_syn_mode_sdata2_real_data/runs/2tu30q3m\" target=\"_blank\">https://wandb.ai/synthesis-ai/61_syn_mode_sdata2_real_data/runs/2tu30q3m</a><br/>Synced 5 W&B file(s), 0 media file(s), 0 artifact file(s) and 0 other file(s)"
      ],
      "text/plain": [
       "<IPython.core.display.HTML object>"
      ]
     },
     "metadata": {},
     "output_type": "display_data"
    },
    {
     "data": {
      "text/html": [
       "Find logs at: <code>./wandb/run-20220711_171823-2tu30q3m/logs</code>"
      ],
      "text/plain": [
       "<IPython.core.display.HTML object>"
      ]
     },
     "metadata": {},
     "output_type": "display_data"
    },
    {
     "data": {
      "text/html": [
       "wandb version 0.12.21 is available!  To upgrade, please run:\n",
       " $ pip install wandb --upgrade"
      ],
      "text/plain": [
       "<IPython.core.display.HTML object>"
      ]
     },
     "metadata": {},
     "output_type": "display_data"
    },
    {
     "data": {
      "text/html": [
       "Tracking run with wandb version 0.12.15"
      ],
      "text/plain": [
       "<IPython.core.display.HTML object>"
      ]
     },
     "metadata": {},
     "output_type": "display_data"
    },
    {
     "data": {
      "text/html": [
       "Run data is saved locally in <code>/project/notebooks/wandb/run-20220711_173303-2z661br0</code>"
      ],
      "text/plain": [
       "<IPython.core.display.HTML object>"
      ]
     },
     "metadata": {},
     "output_type": "display_data"
    },
    {
     "data": {
      "text/html": [
       "Syncing run <strong><a href=\"https://wandb.ai/synthesis-ai/61_syn_mode_sdata2_real_data/runs/2z661br0\" target=\"_blank\">distinctive-leaf-8</a></strong> to <a href=\"https://wandb.ai/synthesis-ai/61_syn_mode_sdata2_real_data\" target=\"_blank\">Weights & Biases</a> (<a href=\"https://wandb.me/run\" target=\"_blank\">docs</a>)<br/>"
      ],
      "text/plain": [
       "<IPython.core.display.HTML object>"
      ]
     },
     "metadata": {},
     "output_type": "display_data"
    },
    {
     "name": "stdout",
     "output_type": "stream",
     "text": [
      "fold=7\n",
      "/project/data/Label\n",
      "0 items removed from dataset that have an angle > 180\n",
      "\n",
      "test configuration equal gpu_id=cuda:0, batch_size=20, model_arch=ResNet50\n",
      "Start testing dataset=mpiigaze, FOLD=7 --07/11/2022 10:33:07---------\n",
      "entering epoch=epoch_1.pkl\n",
      "[epoch_1.pkl---mpiigaze] Total Num:3000,MAE:10.381215330206656  07/11/2022 10:33:24\n",
      "entering epoch=epoch_2.pkl\n",
      "[epoch_2.pkl---mpiigaze] Total Num:3000,MAE:9.051539642868734  07/11/2022 10:33:38\n",
      "entering epoch=epoch_3.pkl\n",
      "[epoch_3.pkl---mpiigaze] Total Num:3000,MAE:9.54350689979478  07/11/2022 10:33:53\n",
      "entering epoch=epoch_4.pkl\n",
      "[epoch_4.pkl---mpiigaze] Total Num:3000,MAE:8.518542575758342  07/11/2022 10:34:07\n",
      "entering epoch=epoch_5.pkl\n",
      "[epoch_5.pkl---mpiigaze] Total Num:3000,MAE:9.281011268277965  07/11/2022 10:34:22\n",
      "entering epoch=epoch_6.pkl\n",
      "[epoch_6.pkl---mpiigaze] Total Num:3000,MAE:8.215630901777443  07/11/2022 10:34:36\n",
      "entering epoch=epoch_7.pkl\n",
      "[epoch_7.pkl---mpiigaze] Total Num:3000,MAE:8.956826774446576  07/11/2022 10:34:51\n",
      "entering epoch=epoch_8.pkl\n",
      "[epoch_8.pkl---mpiigaze] Total Num:3000,MAE:8.20932549117702  07/11/2022 10:35:05\n",
      "entering epoch=epoch_9.pkl\n",
      "[epoch_9.pkl---mpiigaze] Total Num:3000,MAE:10.070392753599279  07/11/2022 10:35:21\n",
      "entering epoch=epoch_10.pkl\n",
      "[epoch_10.pkl---mpiigaze] Total Num:3000,MAE:8.137834447154633  07/11/2022 10:35:35\n",
      "entering epoch=epoch_11.pkl\n",
      "[epoch_11.pkl---mpiigaze] Total Num:3000,MAE:8.431419403644632  07/11/2022 10:35:50\n",
      "entering epoch=epoch_12.pkl\n",
      "[epoch_12.pkl---mpiigaze] Total Num:3000,MAE:9.204753236979256  07/11/2022 10:36:04\n",
      "entering epoch=epoch_13.pkl\n",
      "[epoch_13.pkl---mpiigaze] Total Num:3000,MAE:8.923826201147076  07/11/2022 10:36:19\n",
      "entering epoch=epoch_14.pkl\n",
      "[epoch_14.pkl---mpiigaze] Total Num:3000,MAE:8.138749785327684  07/11/2022 10:36:33\n",
      "entering epoch=epoch_15.pkl\n",
      "[epoch_15.pkl---mpiigaze] Total Num:3000,MAE:8.407050416036869  07/11/2022 10:36:48\n",
      "entering epoch=epoch_16.pkl\n",
      "[epoch_16.pkl---mpiigaze] Total Num:3000,MAE:9.589915571374235  07/11/2022 10:37:02\n",
      "entering epoch=epoch_17.pkl\n",
      "[epoch_17.pkl---mpiigaze] Total Num:3000,MAE:8.274416118274592  07/11/2022 10:37:17\n",
      "entering epoch=epoch_18.pkl\n",
      "[epoch_18.pkl---mpiigaze] Total Num:3000,MAE:8.151001643242402  07/11/2022 10:37:31\n",
      "entering epoch=epoch_19.pkl\n",
      "[epoch_19.pkl---mpiigaze] Total Num:3000,MAE:8.069051705217925  07/11/2022 10:37:46\n",
      "entering epoch=epoch_20.pkl\n",
      "[epoch_20.pkl---mpiigaze] Total Num:3000,MAE:7.734338258752644  07/11/2022 10:38:00\n",
      "entering epoch=epoch_21.pkl\n",
      "[epoch_21.pkl---mpiigaze] Total Num:3000,MAE:7.497542774780112  07/11/2022 10:38:15\n",
      "entering epoch=epoch_22.pkl\n",
      "[epoch_22.pkl---mpiigaze] Total Num:3000,MAE:8.088748217920882  07/11/2022 10:38:29\n",
      "entering epoch=epoch_23.pkl\n",
      "[epoch_23.pkl---mpiigaze] Total Num:3000,MAE:7.350471417430147  07/11/2022 10:38:44\n",
      "entering epoch=epoch_24.pkl\n",
      "[epoch_24.pkl---mpiigaze] Total Num:3000,MAE:7.156565526577593  07/11/2022 10:38:58\n",
      "entering epoch=epoch_25.pkl\n",
      "[epoch_25.pkl---mpiigaze] Total Num:3000,MAE:7.673631902471129  07/11/2022 10:39:13\n",
      "entering epoch=epoch_26.pkl\n",
      "[epoch_26.pkl---mpiigaze] Total Num:3000,MAE:6.971760672249944  07/11/2022 10:39:27\n",
      "entering epoch=epoch_27.pkl\n",
      "[epoch_27.pkl---mpiigaze] Total Num:3000,MAE:7.9683332997815635  07/11/2022 10:39:42\n",
      "entering epoch=epoch_28.pkl\n",
      "[epoch_28.pkl---mpiigaze] Total Num:3000,MAE:7.6975236141622565  07/11/2022 10:39:56\n",
      "entering epoch=epoch_29.pkl\n",
      "[epoch_29.pkl---mpiigaze] Total Num:3000,MAE:7.568986028886444  07/11/2022 10:40:11\n",
      "entering epoch=epoch_30.pkl\n",
      "[epoch_30.pkl---mpiigaze] Total Num:3000,MAE:7.511753883396019  07/11/2022 10:40:25\n",
      "entering epoch=epoch_31.pkl\n",
      "[epoch_31.pkl---mpiigaze] Total Num:3000,MAE:7.1857959198543675  07/11/2022 10:40:40\n",
      "entering epoch=epoch_32.pkl\n",
      "[epoch_32.pkl---mpiigaze] Total Num:3000,MAE:7.719791452064178  07/11/2022 10:40:55\n",
      "entering epoch=epoch_33.pkl\n",
      "[epoch_33.pkl---mpiigaze] Total Num:3000,MAE:7.399252332437732  07/11/2022 10:41:09\n",
      "entering epoch=epoch_34.pkl\n",
      "[epoch_34.pkl---mpiigaze] Total Num:3000,MAE:7.732334010441968  07/11/2022 10:41:24\n",
      "entering epoch=epoch_35.pkl\n",
      "[epoch_35.pkl---mpiigaze] Total Num:3000,MAE:7.155283536581693  07/11/2022 10:41:38\n",
      "entering epoch=epoch_36.pkl\n",
      "[epoch_36.pkl---mpiigaze] Total Num:3000,MAE:7.381400297180345  07/11/2022 10:41:53\n",
      "entering epoch=epoch_37.pkl\n",
      "[epoch_37.pkl---mpiigaze] Total Num:3000,MAE:7.065570625636435  07/11/2022 10:42:07\n",
      "entering epoch=epoch_38.pkl\n",
      "[epoch_38.pkl---mpiigaze] Total Num:3000,MAE:7.018217241366511  07/11/2022 10:42:22\n",
      "entering epoch=epoch_39.pkl\n",
      "[epoch_39.pkl---mpiigaze] Total Num:3000,MAE:7.162275553306989  07/11/2022 10:42:36\n",
      "entering epoch=epoch_40.pkl\n",
      "[epoch_40.pkl---mpiigaze] Total Num:3000,MAE:7.1552704996109755  07/11/2022 10:42:51\n",
      "entering epoch=epoch_41.pkl\n",
      "[epoch_41.pkl---mpiigaze] Total Num:3000,MAE:7.524536653590892  07/11/2022 10:43:05\n",
      "entering epoch=epoch_42.pkl\n",
      "[epoch_42.pkl---mpiigaze] Total Num:3000,MAE:6.747583847780153  07/11/2022 10:43:19\n",
      "entering epoch=epoch_43.pkl\n",
      "[epoch_43.pkl---mpiigaze] Total Num:3000,MAE:7.132070173689573  07/11/2022 10:43:34\n",
      "entering epoch=epoch_44.pkl\n",
      "[epoch_44.pkl---mpiigaze] Total Num:3000,MAE:7.381726203217104  07/11/2022 10:43:48\n",
      "entering epoch=epoch_45.pkl\n",
      "[epoch_45.pkl---mpiigaze] Total Num:3000,MAE:7.558353120831147  07/11/2022 10:44:02\n",
      "entering epoch=epoch_46.pkl\n",
      "[epoch_46.pkl---mpiigaze] Total Num:3000,MAE:7.456746415516301  07/11/2022 10:44:17\n",
      "entering epoch=epoch_47.pkl\n",
      "[epoch_47.pkl---mpiigaze] Total Num:3000,MAE:7.684853885780584  07/11/2022 10:44:31\n",
      "entering epoch=epoch_48.pkl\n",
      "[epoch_48.pkl---mpiigaze] Total Num:3000,MAE:7.331870691788312  07/11/2022 10:44:45\n",
      "entering epoch=epoch_49.pkl\n",
      "[epoch_49.pkl---mpiigaze] Total Num:3000,MAE:7.9312237745865035  07/11/2022 10:44:59\n",
      "entering epoch=epoch_50.pkl\n",
      "[epoch_50.pkl---mpiigaze] Total Num:3000,MAE:7.15154480489809  07/11/2022 10:45:14\n",
      "entering epoch=epoch_51.pkl\n",
      "[epoch_51.pkl---mpiigaze] Total Num:3000,MAE:7.723132044032722  07/11/2022 10:45:28\n",
      "entering epoch=epoch_52.pkl\n",
      "[epoch_52.pkl---mpiigaze] Total Num:3000,MAE:7.48521632124593  07/11/2022 10:45:42\n",
      "entering epoch=epoch_53.pkl\n",
      "[epoch_53.pkl---mpiigaze] Total Num:3000,MAE:7.068855137219626  07/11/2022 10:45:56\n",
      "entering epoch=epoch_54.pkl\n",
      "[epoch_54.pkl---mpiigaze] Total Num:3000,MAE:7.107416881253354  07/11/2022 10:46:11\n",
      "entering epoch=epoch_55.pkl\n",
      "[epoch_55.pkl---mpiigaze] Total Num:3000,MAE:7.070009030823891  07/11/2022 10:46:25\n",
      "entering epoch=epoch_56.pkl\n",
      "[epoch_56.pkl---mpiigaze] Total Num:3000,MAE:7.2475926524881675  07/11/2022 10:46:39\n",
      "entering epoch=epoch_57.pkl\n",
      "[epoch_57.pkl---mpiigaze] Total Num:3000,MAE:6.8397508262392925  07/11/2022 10:46:53\n",
      "entering epoch=epoch_58.pkl\n",
      "[epoch_58.pkl---mpiigaze] Total Num:3000,MAE:7.153323417356103  07/11/2022 10:47:08\n",
      "entering epoch=epoch_59.pkl\n",
      "[epoch_59.pkl---mpiigaze] Total Num:3000,MAE:6.976449608404016  07/11/2022 10:47:22\n",
      "entering epoch=epoch_60.pkl\n",
      "[epoch_60.pkl---mpiigaze] Total Num:3000,MAE:7.176102128170806  07/11/2022 10:47:36\n"
     ]
    },
    {
     "data": {
      "text/html": [
       "Waiting for W&B process to finish... <strong style=\"color:green\">(success).</strong>"
      ],
      "text/plain": [
       "<IPython.core.display.HTML object>"
      ]
     },
     "metadata": {},
     "output_type": "display_data"
    },
    {
     "data": {
      "application/vnd.jupyter.widget-view+json": {
       "model_id": "",
       "version_major": 2,
       "version_minor": 0
      },
      "text/plain": [
       "VBox(children=(Label(value='0.001 MB of 0.001 MB uploaded (0.000 MB deduped)\\r'), FloatProgress(value=1.0, max…"
      ]
     },
     "metadata": {},
     "output_type": "display_data"
    },
    {
     "data": {
      "text/html": [
       "<style>\n",
       "    table.wandb td:nth-child(1) { padding: 0 10px; text-align: right }\n",
       "    .wandb-row { display: flex; flex-direction: row; flex-wrap: wrap; width: 100% }\n",
       "    .wandb-col { display: flex; flex-direction: column; flex-basis: 100%; flex: 1; padding: 10px; }\n",
       "    </style>\n",
       "<div class=\"wandb-row\"><div class=\"wandb-col\"><h3>Run history:</h3><br/><table class=\"wandb\"><tr><td>fold_7_avg_mae</td><td>█▅▄▆▅▄▃▄▅▃▆▄▃▃▃▂▂▁▂▂▁▃▃▁▁▁▁▂▁▂▂▂▃▁▂▁▁▂▁▁</td></tr></table><br/></div><div class=\"wandb-col\"><h3>Run summary:</h3><br/><table class=\"wandb\"><tr><td>epoch</td><td>epoch_60.pkl</td></tr><tr><td>fold_7_avg_mae</td><td>7.1761</td></tr></table><br/></div></div>"
      ],
      "text/plain": [
       "<IPython.core.display.HTML object>"
      ]
     },
     "metadata": {},
     "output_type": "display_data"
    },
    {
     "data": {
      "text/html": [
       "Synced <strong style=\"color:#cdcd00\">distinctive-leaf-8</strong>: <a href=\"https://wandb.ai/synthesis-ai/61_syn_mode_sdata2_real_data/runs/2z661br0\" target=\"_blank\">https://wandb.ai/synthesis-ai/61_syn_mode_sdata2_real_data/runs/2z661br0</a><br/>Synced 5 W&B file(s), 0 media file(s), 0 artifact file(s) and 0 other file(s)"
      ],
      "text/plain": [
       "<IPython.core.display.HTML object>"
      ]
     },
     "metadata": {},
     "output_type": "display_data"
    },
    {
     "data": {
      "text/html": [
       "Find logs at: <code>./wandb/run-20220711_173303-2z661br0/logs</code>"
      ],
      "text/plain": [
       "<IPython.core.display.HTML object>"
      ]
     },
     "metadata": {},
     "output_type": "display_data"
    },
    {
     "data": {
      "text/html": [
       "wandb version 0.12.21 is available!  To upgrade, please run:\n",
       " $ pip install wandb --upgrade"
      ],
      "text/plain": [
       "<IPython.core.display.HTML object>"
      ]
     },
     "metadata": {},
     "output_type": "display_data"
    },
    {
     "data": {
      "text/html": [
       "Tracking run with wandb version 0.12.15"
      ],
      "text/plain": [
       "<IPython.core.display.HTML object>"
      ]
     },
     "metadata": {},
     "output_type": "display_data"
    },
    {
     "data": {
      "text/html": [
       "Run data is saved locally in <code>/project/notebooks/wandb/run-20220711_174740-39jzw5tk</code>"
      ],
      "text/plain": [
       "<IPython.core.display.HTML object>"
      ]
     },
     "metadata": {},
     "output_type": "display_data"
    },
    {
     "data": {
      "text/html": [
       "Syncing run <strong><a href=\"https://wandb.ai/synthesis-ai/61_syn_mode_sdata2_real_data/runs/39jzw5tk\" target=\"_blank\">copper-yogurt-9</a></strong> to <a href=\"https://wandb.ai/synthesis-ai/61_syn_mode_sdata2_real_data\" target=\"_blank\">Weights & Biases</a> (<a href=\"https://wandb.me/run\" target=\"_blank\">docs</a>)<br/>"
      ],
      "text/plain": [
       "<IPython.core.display.HTML object>"
      ]
     },
     "metadata": {},
     "output_type": "display_data"
    },
    {
     "name": "stdout",
     "output_type": "stream",
     "text": [
      "fold=8\n",
      "/project/data/Label\n",
      "0 items removed from dataset that have an angle > 180\n",
      "\n",
      "test configuration equal gpu_id=cuda:0, batch_size=20, model_arch=ResNet50\n",
      "Start testing dataset=mpiigaze, FOLD=8 --07/11/2022 10:47:45---------\n",
      "entering epoch=epoch_1.pkl\n",
      "[epoch_1.pkl---mpiigaze] Total Num:3000,MAE:8.477220175769343  07/11/2022 10:48:02\n",
      "entering epoch=epoch_2.pkl\n",
      "[epoch_10.pkl---mpiigaze] Total Num:3000,MAE:9.231433060476979  07/11/2022 10:50:13\n",
      "entering epoch=epoch_11.pkl\n",
      "[epoch_11.pkl---mpiigaze] Total Num:3000,MAE:8.518488835903863  07/11/2022 10:50:28\n",
      "entering epoch=epoch_12.pkl\n",
      "[epoch_12.pkl---mpiigaze] Total Num:3000,MAE:8.099363728179757  07/11/2022 10:50:42\n",
      "entering epoch=epoch_13.pkl\n",
      "[epoch_13.pkl---mpiigaze] Total Num:3000,MAE:7.824289263663898  07/11/2022 10:50:56\n",
      "entering epoch=epoch_14.pkl\n",
      "[epoch_14.pkl---mpiigaze] Total Num:3000,MAE:7.949546656270929  07/11/2022 10:51:11\n",
      "entering epoch=epoch_15.pkl\n",
      "[epoch_15.pkl---mpiigaze] Total Num:3000,MAE:7.486317005125426  07/11/2022 10:51:25\n",
      "entering epoch=epoch_16.pkl\n",
      "[epoch_16.pkl---mpiigaze] Total Num:3000,MAE:8.111014565054464  07/11/2022 10:51:39\n",
      "entering epoch=epoch_17.pkl\n",
      "[epoch_17.pkl---mpiigaze] Total Num:3000,MAE:8.166415007270874  07/11/2022 10:51:54\n",
      "entering epoch=epoch_18.pkl\n",
      "[epoch_18.pkl---mpiigaze] Total Num:3000,MAE:7.345794617248271  07/11/2022 10:52:08\n",
      "entering epoch=epoch_19.pkl\n",
      "[epoch_19.pkl---mpiigaze] Total Num:3000,MAE:7.554893485383713  07/11/2022 10:52:22\n",
      "entering epoch=epoch_20.pkl\n",
      "[epoch_20.pkl---mpiigaze] Total Num:3000,MAE:7.4995701399239625  07/11/2022 10:52:36\n",
      "entering epoch=epoch_21.pkl\n",
      "[epoch_21.pkl---mpiigaze] Total Num:3000,MAE:7.3964820240969225  07/11/2022 10:52:51\n",
      "entering epoch=epoch_22.pkl\n",
      "[epoch_22.pkl---mpiigaze] Total Num:3000,MAE:7.347520070300531  07/11/2022 10:53:05\n",
      "entering epoch=epoch_23.pkl\n",
      "[epoch_23.pkl---mpiigaze] Total Num:3000,MAE:7.063735758435379  07/11/2022 10:53:20\n",
      "entering epoch=epoch_24.pkl\n",
      "[epoch_24.pkl---mpiigaze] Total Num:3000,MAE:8.136238402080599  07/11/2022 10:53:34\n",
      "entering epoch=epoch_25.pkl\n",
      "[epoch_25.pkl---mpiigaze] Total Num:3000,MAE:9.279947747493617  07/11/2022 10:53:48\n",
      "entering epoch=epoch_26.pkl\n",
      "[epoch_26.pkl---mpiigaze] Total Num:3000,MAE:7.533999707910236  07/11/2022 10:54:03\n",
      "entering epoch=epoch_27.pkl\n",
      "[epoch_27.pkl---mpiigaze] Total Num:3000,MAE:8.37277292117824  07/11/2022 10:54:17\n",
      "entering epoch=epoch_28.pkl\n",
      "[epoch_28.pkl---mpiigaze] Total Num:3000,MAE:7.318351768153242  07/11/2022 10:54:31\n",
      "entering epoch=epoch_29.pkl\n",
      "[epoch_29.pkl---mpiigaze] Total Num:3000,MAE:7.091355941850678  07/11/2022 10:54:46\n",
      "entering epoch=epoch_30.pkl\n",
      "[epoch_30.pkl---mpiigaze] Total Num:3000,MAE:7.222093070622263  07/11/2022 10:55:00\n",
      "entering epoch=epoch_31.pkl\n",
      "[epoch_31.pkl---mpiigaze] Total Num:3000,MAE:7.290699482464476  07/11/2022 10:55:14\n",
      "entering epoch=epoch_32.pkl\n",
      "[epoch_32.pkl---mpiigaze] Total Num:3000,MAE:7.072282195751949  07/11/2022 10:55:29\n",
      "entering epoch=epoch_33.pkl\n",
      "[epoch_41.pkl---mpiigaze] Total Num:3000,MAE:6.908903539374272  07/11/2022 10:57:38\n",
      "entering epoch=epoch_42.pkl\n",
      "[epoch_42.pkl---mpiigaze] Total Num:3000,MAE:7.14771455553763  07/11/2022 10:57:52\n",
      "entering epoch=epoch_43.pkl\n",
      "[epoch_43.pkl---mpiigaze] Total Num:3000,MAE:6.830477041844358  07/11/2022 10:58:06\n",
      "entering epoch=epoch_44.pkl\n",
      "[epoch_44.pkl---mpiigaze] Total Num:3000,MAE:7.372646719233024  07/11/2022 10:58:20\n",
      "entering epoch=epoch_45.pkl\n",
      "[epoch_45.pkl---mpiigaze] Total Num:3000,MAE:6.879482172918973  07/11/2022 10:58:35\n",
      "entering epoch=epoch_46.pkl\n",
      "[epoch_46.pkl---mpiigaze] Total Num:3000,MAE:6.939975339684559  07/11/2022 10:58:49\n",
      "entering epoch=epoch_47.pkl\n",
      "[epoch_47.pkl---mpiigaze] Total Num:3000,MAE:6.7964347452311635  07/11/2022 10:59:03\n",
      "entering epoch=epoch_48.pkl\n",
      "[epoch_48.pkl---mpiigaze] Total Num:3000,MAE:6.895590784380562  07/11/2022 10:59:18\n",
      "entering epoch=epoch_49.pkl\n",
      "[epoch_49.pkl---mpiigaze] Total Num:3000,MAE:7.270058620912245  07/11/2022 10:59:32\n",
      "entering epoch=epoch_50.pkl\n",
      "[epoch_50.pkl---mpiigaze] Total Num:3000,MAE:6.8866745546078905  07/11/2022 10:59:46\n",
      "entering epoch=epoch_51.pkl\n",
      "[epoch_51.pkl---mpiigaze] Total Num:3000,MAE:6.797223409954569  07/11/2022 11:00:01\n",
      "entering epoch=epoch_52.pkl\n",
      "[epoch_52.pkl---mpiigaze] Total Num:3000,MAE:6.644296122400923  07/11/2022 11:00:15\n",
      "entering epoch=epoch_53.pkl\n",
      "[epoch_58.pkl---mpiigaze] Total Num:3000,MAE:7.0082125845813374  07/11/2022 11:01:42\n",
      "entering epoch=epoch_59.pkl\n",
      "[epoch_59.pkl---mpiigaze] Total Num:3000,MAE:6.737074052488667  07/11/2022 11:01:57\n",
      "entering epoch=epoch_60.pkl\n",
      "[epoch_60.pkl---mpiigaze] Total Num:3000,MAE:8.930893247062535  07/11/2022 11:02:11\n"
     ]
    },
    {
     "data": {
      "text/html": [
       "Waiting for W&B process to finish... <strong style=\"color:green\">(success).</strong>"
      ],
      "text/plain": [
       "<IPython.core.display.HTML object>"
      ]
     },
     "metadata": {},
     "output_type": "display_data"
    },
    {
     "data": {
      "application/vnd.jupyter.widget-view+json": {
       "model_id": "",
       "version_major": 2,
       "version_minor": 0
      },
      "text/plain": [
       "VBox(children=(Label(value='0.001 MB of 0.001 MB uploaded (0.000 MB deduped)\\r'), FloatProgress(value=1.0, max…"
      ]
     },
     "metadata": {},
     "output_type": "display_data"
    },
    {
     "data": {
      "text/html": [
       "<style>\n",
       "    table.wandb td:nth-child(1) { padding: 0 10px; text-align: right }\n",
       "    .wandb-row { display: flex; flex-direction: row; flex-wrap: wrap; width: 100% }\n",
       "    .wandb-col { display: flex; flex-direction: column; flex-basis: 100%; flex: 1; padding: 10px; }\n",
       "    </style>\n",
       "<div class=\"wandb-row\"><div class=\"wandb-col\"><h3>Run history:</h3><br/><table class=\"wandb\"><tr><td>fold_8_avg_mae</td><td>▃▅█▅▅▄▄▃▂▃▃▃▂▂▂▂▄▂▂▂▂▂▁▁▁▂▁▁▁▂▁▁▂▁▁▁▁▂▁▄</td></tr></table><br/></div><div class=\"wandb-col\"><h3>Run summary:</h3><br/><table class=\"wandb\"><tr><td>epoch</td><td>epoch_60.pkl</td></tr><tr><td>fold_8_avg_mae</td><td>8.93089</td></tr></table><br/></div></div>"
      ],
      "text/plain": [
       "<IPython.core.display.HTML object>"
      ]
     },
     "metadata": {},
     "output_type": "display_data"
    },
    {
     "data": {
      "text/html": [
       "Synced <strong style=\"color:#cdcd00\">copper-yogurt-9</strong>: <a href=\"https://wandb.ai/synthesis-ai/61_syn_mode_sdata2_real_data/runs/39jzw5tk\" target=\"_blank\">https://wandb.ai/synthesis-ai/61_syn_mode_sdata2_real_data/runs/39jzw5tk</a><br/>Synced 5 W&B file(s), 0 media file(s), 0 artifact file(s) and 0 other file(s)"
      ],
      "text/plain": [
       "<IPython.core.display.HTML object>"
      ]
     },
     "metadata": {},
     "output_type": "display_data"
    },
    {
     "data": {
      "text/html": [
       "Find logs at: <code>./wandb/run-20220711_174740-39jzw5tk/logs</code>"
      ],
      "text/plain": [
       "<IPython.core.display.HTML object>"
      ]
     },
     "metadata": {},
     "output_type": "display_data"
    },
    {
     "data": {
      "text/html": [
       "wandb version 0.12.21 is available!  To upgrade, please run:\n",
       " $ pip install wandb --upgrade"
      ],
      "text/plain": [
       "<IPython.core.display.HTML object>"
      ]
     },
     "metadata": {},
     "output_type": "display_data"
    },
    {
     "data": {
      "text/html": [
       "Tracking run with wandb version 0.12.15"
      ],
      "text/plain": [
       "<IPython.core.display.HTML object>"
      ]
     },
     "metadata": {},
     "output_type": "display_data"
    },
    {
     "data": {
      "text/html": [
       "Run data is saved locally in <code>/project/notebooks/wandb/run-20220711_180215-18htu5c8</code>"
      ],
      "text/plain": [
       "<IPython.core.display.HTML object>"
      ]
     },
     "metadata": {},
     "output_type": "display_data"
    },
    {
     "data": {
      "text/html": [
       "Syncing run <strong><a href=\"https://wandb.ai/synthesis-ai/61_syn_mode_sdata2_real_data/runs/18htu5c8\" target=\"_blank\">prime-forest-10</a></strong> to <a href=\"https://wandb.ai/synthesis-ai/61_syn_mode_sdata2_real_data\" target=\"_blank\">Weights & Biases</a> (<a href=\"https://wandb.me/run\" target=\"_blank\">docs</a>)<br/>"
      ],
      "text/plain": [
       "<IPython.core.display.HTML object>"
      ]
     },
     "metadata": {},
     "output_type": "display_data"
    },
    {
     "name": "stdout",
     "output_type": "stream",
     "text": [
      "fold=9\n",
      "/project/data/Label\n",
      "0 items removed from dataset that have an angle > 180\n",
      "\n",
      "test configuration equal gpu_id=cuda:0, batch_size=20, model_arch=ResNet50\n",
      "Start testing dataset=mpiigaze, FOLD=9 --07/11/2022 11:02:19---------\n",
      "entering epoch=epoch_1.pkl\n",
      "[epoch_1.pkl---mpiigaze] Total Num:3000,MAE:9.014246264571034  07/11/2022 11:02:36\n",
      "entering epoch=epoch_2.pkl\n",
      "[epoch_2.pkl---mpiigaze] Total Num:3000,MAE:7.6483212986684315  07/11/2022 11:02:51\n",
      "entering epoch=epoch_3.pkl\n",
      "[epoch_3.pkl---mpiigaze] Total Num:3000,MAE:8.054272641315661  07/11/2022 11:03:05\n",
      "entering epoch=epoch_4.pkl\n",
      "[epoch_4.pkl---mpiigaze] Total Num:3000,MAE:8.11015796893555  07/11/2022 11:03:21\n",
      "entering epoch=epoch_5.pkl\n",
      "[epoch_5.pkl---mpiigaze] Total Num:3000,MAE:8.336224198815371  07/11/2022 11:03:36\n",
      "entering epoch=epoch_6.pkl\n",
      "[epoch_6.pkl---mpiigaze] Total Num:3000,MAE:8.222703090041595  07/11/2022 11:03:51\n",
      "entering epoch=epoch_7.pkl\n",
      "[epoch_7.pkl---mpiigaze] Total Num:3000,MAE:10.43449235710157  07/11/2022 11:04:05\n",
      "entering epoch=epoch_8.pkl\n",
      "[epoch_8.pkl---mpiigaze] Total Num:3000,MAE:8.866270085811554  07/11/2022 11:04:20\n",
      "entering epoch=epoch_9.pkl\n",
      "[epoch_9.pkl---mpiigaze] Total Num:3000,MAE:8.324733559385727  07/11/2022 11:04:35\n",
      "entering epoch=epoch_10.pkl\n",
      "[epoch_10.pkl---mpiigaze] Total Num:3000,MAE:8.553493409285233  07/11/2022 11:04:49\n",
      "entering epoch=epoch_11.pkl\n",
      "[epoch_11.pkl---mpiigaze] Total Num:3000,MAE:8.899727808443316  07/11/2022 11:05:04\n",
      "entering epoch=epoch_12.pkl\n",
      "[epoch_12.pkl---mpiigaze] Total Num:3000,MAE:9.345936656383927  07/11/2022 11:05:18\n",
      "entering epoch=epoch_13.pkl\n",
      "[epoch_13.pkl---mpiigaze] Total Num:3000,MAE:8.790750993659918  07/11/2022 11:05:33\n",
      "entering epoch=epoch_14.pkl\n",
      "[epoch_14.pkl---mpiigaze] Total Num:3000,MAE:9.635004741853129  07/11/2022 11:05:47\n",
      "entering epoch=epoch_15.pkl\n",
      "[epoch_15.pkl---mpiigaze] Total Num:3000,MAE:8.00688004442486  07/11/2022 11:06:02\n",
      "entering epoch=epoch_16.pkl\n",
      "[epoch_16.pkl---mpiigaze] Total Num:3000,MAE:8.223413269031505  07/11/2022 11:06:17\n",
      "entering epoch=epoch_17.pkl\n",
      "[epoch_17.pkl---mpiigaze] Total Num:3000,MAE:8.226230403363074  07/11/2022 11:06:31\n",
      "entering epoch=epoch_18.pkl\n",
      "[epoch_18.pkl---mpiigaze] Total Num:3000,MAE:8.451088677961595  07/11/2022 11:06:46\n",
      "entering epoch=epoch_19.pkl\n",
      "[epoch_19.pkl---mpiigaze] Total Num:3000,MAE:8.47099663276263  07/11/2022 11:07:00\n",
      "entering epoch=epoch_20.pkl\n",
      "[epoch_20.pkl---mpiigaze] Total Num:3000,MAE:8.012520762810688  07/11/2022 11:07:15\n",
      "entering epoch=epoch_21.pkl\n",
      "[epoch_21.pkl---mpiigaze] Total Num:3000,MAE:7.345534735951171  07/11/2022 11:07:29\n",
      "entering epoch=epoch_22.pkl\n",
      "[epoch_22.pkl---mpiigaze] Total Num:3000,MAE:7.967710225968151  07/11/2022 11:07:44\n",
      "entering epoch=epoch_23.pkl\n",
      "[epoch_23.pkl---mpiigaze] Total Num:3000,MAE:7.927862385184219  07/11/2022 11:07:58\n",
      "entering epoch=epoch_24.pkl\n",
      "[epoch_24.pkl---mpiigaze] Total Num:3000,MAE:7.351912760939226  07/11/2022 11:08:13\n",
      "entering epoch=epoch_25.pkl\n",
      "[epoch_25.pkl---mpiigaze] Total Num:3000,MAE:7.346435262588233  07/11/2022 11:08:28\n",
      "entering epoch=epoch_26.pkl\n",
      "[epoch_26.pkl---mpiigaze] Total Num:3000,MAE:7.281787606076579  07/11/2022 11:08:42\n",
      "entering epoch=epoch_27.pkl\n",
      "[epoch_27.pkl---mpiigaze] Total Num:3000,MAE:8.114448051799407  07/11/2022 11:08:57\n",
      "entering epoch=epoch_28.pkl\n",
      "[epoch_28.pkl---mpiigaze] Total Num:3000,MAE:7.979650181857322  07/11/2022 11:09:11\n",
      "entering epoch=epoch_29.pkl\n",
      "[epoch_29.pkl---mpiigaze] Total Num:3000,MAE:7.563089035857399  07/11/2022 11:09:26\n",
      "entering epoch=epoch_30.pkl\n",
      "[epoch_36.pkl---mpiigaze] Total Num:3000,MAE:7.597783710430237  07/11/2022 11:11:07\n",
      "entering epoch=epoch_37.pkl\n",
      "[epoch_37.pkl---mpiigaze] Total Num:3000,MAE:7.824295015510431  07/11/2022 11:11:21\n",
      "entering epoch=epoch_38.pkl\n",
      "[epoch_38.pkl---mpiigaze] Total Num:3000,MAE:6.936422562255019  07/11/2022 11:11:36\n",
      "entering epoch=epoch_39.pkl\n",
      "[epoch_39.pkl---mpiigaze] Total Num:3000,MAE:7.972084315869029  07/11/2022 11:11:50\n",
      "entering epoch=epoch_40.pkl\n",
      "[epoch_40.pkl---mpiigaze] Total Num:3000,MAE:7.9182203323960545  07/11/2022 11:12:04\n",
      "entering epoch=epoch_41.pkl\n",
      "[epoch_41.pkl---mpiigaze] Total Num:3000,MAE:7.523232447275617  07/11/2022 11:12:19\n",
      "entering epoch=epoch_42.pkl\n",
      "[epoch_42.pkl---mpiigaze] Total Num:3000,MAE:7.359303655112103  07/11/2022 11:12:33\n",
      "entering epoch=epoch_43.pkl\n",
      "[epoch_43.pkl---mpiigaze] Total Num:3000,MAE:7.476251532516952  07/11/2022 11:12:48\n",
      "entering epoch=epoch_44.pkl\n",
      "[epoch_44.pkl---mpiigaze] Total Num:3000,MAE:8.181561451526992  07/11/2022 11:13:02\n",
      "entering epoch=epoch_45.pkl\n",
      "[epoch_45.pkl---mpiigaze] Total Num:3000,MAE:7.301918623278898  07/11/2022 11:13:17\n",
      "entering epoch=epoch_46.pkl\n",
      "[epoch_46.pkl---mpiigaze] Total Num:3000,MAE:7.6118549301830924  07/11/2022 11:13:31\n",
      "entering epoch=epoch_47.pkl\n",
      "[epoch_47.pkl---mpiigaze] Total Num:3000,MAE:7.057514836385647  07/11/2022 11:13:46\n",
      "entering epoch=epoch_48.pkl\n",
      "[epoch_48.pkl---mpiigaze] Total Num:3000,MAE:7.708711222698662  07/11/2022 11:14:00\n",
      "entering epoch=epoch_49.pkl\n",
      "[epoch_49.pkl---mpiigaze] Total Num:3000,MAE:7.632735209180949  07/11/2022 11:14:15\n",
      "entering epoch=epoch_50.pkl\n",
      "[epoch_50.pkl---mpiigaze] Total Num:3000,MAE:7.035031231136251  07/11/2022 11:14:29\n",
      "entering epoch=epoch_51.pkl\n",
      "[epoch_51.pkl---mpiigaze] Total Num:3000,MAE:7.4004909199220394  07/11/2022 11:14:43\n",
      "entering epoch=epoch_52.pkl\n",
      "[epoch_52.pkl---mpiigaze] Total Num:3000,MAE:7.942339330216095  07/11/2022 11:14:58\n",
      "entering epoch=epoch_53.pkl\n",
      "[epoch_53.pkl---mpiigaze] Total Num:3000,MAE:8.453829137046007  07/11/2022 11:15:12\n",
      "entering epoch=epoch_54.pkl\n",
      "[epoch_54.pkl---mpiigaze] Total Num:3000,MAE:6.765730387097635  07/11/2022 11:15:27\n",
      "entering epoch=epoch_55.pkl\n",
      "[epoch_55.pkl---mpiigaze] Total Num:3000,MAE:7.250007850291071  07/11/2022 11:15:41\n",
      "entering epoch=epoch_56.pkl\n",
      "[epoch_56.pkl---mpiigaze] Total Num:3000,MAE:7.06737646078368  07/11/2022 11:15:56\n",
      "entering epoch=epoch_57.pkl\n",
      "[epoch_57.pkl---mpiigaze] Total Num:3000,MAE:6.8677131285742705  07/11/2022 11:16:10\n",
      "entering epoch=epoch_58.pkl\n",
      "[epoch_58.pkl---mpiigaze] Total Num:3000,MAE:7.5910748008822795  07/11/2022 11:16:25\n",
      "entering epoch=epoch_59.pkl\n",
      "[epoch_59.pkl---mpiigaze] Total Num:3000,MAE:7.127792078047422  07/11/2022 11:16:39\n",
      "entering epoch=epoch_60.pkl\n",
      "[epoch_60.pkl---mpiigaze] Total Num:3000,MAE:7.509461945064114  07/11/2022 11:16:54\n"
     ]
    },
    {
     "data": {
      "text/html": [
       "Waiting for W&B process to finish... <strong style=\"color:green\">(success).</strong>"
      ],
      "text/plain": [
       "<IPython.core.display.HTML object>"
      ]
     },
     "metadata": {},
     "output_type": "display_data"
    },
    {
     "data": {
      "application/vnd.jupyter.widget-view+json": {
       "model_id": "",
       "version_major": 2,
       "version_minor": 0
      },
      "text/plain": [
       "VBox(children=(Label(value='0.001 MB of 0.001 MB uploaded (0.000 MB deduped)\\r'), FloatProgress(value=1.0, max…"
      ]
     },
     "metadata": {},
     "output_type": "display_data"
    },
    {
     "data": {
      "text/html": [
       "<style>\n",
       "    table.wandb td:nth-child(1) { padding: 0 10px; text-align: right }\n",
       "    .wandb-row { display: flex; flex-direction: row; flex-wrap: wrap; width: 100% }\n",
       "    .wandb-col { display: flex; flex-direction: column; flex-basis: 100%; flex: 1; padding: 10px; }\n",
       "    </style>\n",
       "<div class=\"wandb-row\"><div class=\"wandb-col\"><h3>Run history:</h3><br/><table class=\"wandb\"><tr><td>fold_9_avg_mae</td><td>▅▂▃▄█▅▄▅▅▆▄▄▄▃▃▃▂▂▃▂▃▂▃▁▃▁▃▂▂▃▂▁▂▁▃▄▂▁▂▂</td></tr></table><br/></div><div class=\"wandb-col\"><h3>Run summary:</h3><br/><table class=\"wandb\"><tr><td>epoch</td><td>epoch_60.pkl</td></tr><tr><td>fold_9_avg_mae</td><td>7.50946</td></tr></table><br/></div></div>"
      ],
      "text/plain": [
       "<IPython.core.display.HTML object>"
      ]
     },
     "metadata": {},
     "output_type": "display_data"
    },
    {
     "data": {
      "text/html": [
       "Synced <strong style=\"color:#cdcd00\">prime-forest-10</strong>: <a href=\"https://wandb.ai/synthesis-ai/61_syn_mode_sdata2_real_data/runs/18htu5c8\" target=\"_blank\">https://wandb.ai/synthesis-ai/61_syn_mode_sdata2_real_data/runs/18htu5c8</a><br/>Synced 5 W&B file(s), 0 media file(s), 0 artifact file(s) and 0 other file(s)"
      ],
      "text/plain": [
       "<IPython.core.display.HTML object>"
      ]
     },
     "metadata": {},
     "output_type": "display_data"
    },
    {
     "data": {
      "text/html": [
       "Find logs at: <code>./wandb/run-20220711_180215-18htu5c8/logs</code>"
      ],
      "text/plain": [
       "<IPython.core.display.HTML object>"
      ]
     },
     "metadata": {},
     "output_type": "display_data"
    },
    {
     "data": {
      "text/html": [
       "wandb version 0.12.21 is available!  To upgrade, please run:\n",
       " $ pip install wandb --upgrade"
      ],
      "text/plain": [
       "<IPython.core.display.HTML object>"
      ]
     },
     "metadata": {},
     "output_type": "display_data"
    },
    {
     "data": {
      "text/html": [
       "Tracking run with wandb version 0.12.15"
      ],
      "text/plain": [
       "<IPython.core.display.HTML object>"
      ]
     },
     "metadata": {},
     "output_type": "display_data"
    },
    {
     "data": {
      "text/html": [
       "Run data is saved locally in <code>/project/notebooks/wandb/run-20220711_181701-fpbm1309</code>"
      ],
      "text/plain": [
       "<IPython.core.display.HTML object>"
      ]
     },
     "metadata": {},
     "output_type": "display_data"
    },
    {
     "data": {
      "text/html": [
       "Syncing run <strong><a href=\"https://wandb.ai/synthesis-ai/61_syn_mode_sdata2_real_data/runs/fpbm1309\" target=\"_blank\">soft-disco-11</a></strong> to <a href=\"https://wandb.ai/synthesis-ai/61_syn_mode_sdata2_real_data\" target=\"_blank\">Weights & Biases</a> (<a href=\"https://wandb.me/run\" target=\"_blank\">docs</a>)<br/>"
      ],
      "text/plain": [
       "<IPython.core.display.HTML object>"
      ]
     },
     "metadata": {},
     "output_type": "display_data"
    },
    {
     "name": "stdout",
     "output_type": "stream",
     "text": [
      "fold=10\n",
      "/project/data/Label\n",
      "0 items removed from dataset that have an angle > 180\n",
      "\n",
      "test configuration equal gpu_id=cuda:0, batch_size=20, model_arch=ResNet50\n",
      "Start testing dataset=mpiigaze, FOLD=10 --07/11/2022 11:17:05---------\n",
      "entering epoch=epoch_1.pkl\n",
      "[epoch_1.pkl---mpiigaze] Total Num:3000,MAE:8.410022149127274  07/11/2022 11:17:22\n",
      "entering epoch=epoch_2.pkl\n",
      "[epoch_2.pkl---mpiigaze] Total Num:3000,MAE:7.807960420536017  07/11/2022 11:17:37\n",
      "entering epoch=epoch_3.pkl\n",
      "[epoch_3.pkl---mpiigaze] Total Num:3000,MAE:9.379036444707388  07/11/2022 11:17:51\n",
      "entering epoch=epoch_4.pkl\n",
      "[epoch_4.pkl---mpiigaze] Total Num:3000,MAE:9.740532454594618  07/11/2022 11:18:07\n",
      "entering epoch=epoch_5.pkl\n",
      "[epoch_5.pkl---mpiigaze] Total Num:3000,MAE:7.398501188985419  07/11/2022 11:18:21\n",
      "entering epoch=epoch_6.pkl\n",
      "[epoch_6.pkl---mpiigaze] Total Num:3000,MAE:9.668411216104037  07/11/2022 11:18:36\n",
      "entering epoch=epoch_7.pkl\n",
      "[epoch_7.pkl---mpiigaze] Total Num:3000,MAE:8.415780888896506  07/11/2022 11:18:50\n",
      "entering epoch=epoch_8.pkl\n",
      "[epoch_8.pkl---mpiigaze] Total Num:3000,MAE:8.230463115742353  07/11/2022 11:19:05\n",
      "entering epoch=epoch_9.pkl\n",
      "[epoch_9.pkl---mpiigaze] Total Num:3000,MAE:8.152207779074637  07/11/2022 11:19:19\n",
      "entering epoch=epoch_10.pkl\n",
      "[epoch_10.pkl---mpiigaze] Total Num:3000,MAE:8.289661489037579  07/11/2022 11:19:34\n",
      "entering epoch=epoch_11.pkl\n",
      "[epoch_11.pkl---mpiigaze] Total Num:3000,MAE:8.377197515192575  07/11/2022 11:19:48\n",
      "entering epoch=epoch_12.pkl\n",
      "[epoch_12.pkl---mpiigaze] Total Num:3000,MAE:7.944196715963494  07/11/2022 11:20:03\n",
      "entering epoch=epoch_13.pkl\n",
      "[epoch_21.pkl---mpiigaze] Total Num:3000,MAE:7.6719469441172405  07/11/2022 11:22:14\n",
      "entering epoch=epoch_22.pkl\n",
      "[epoch_22.pkl---mpiigaze] Total Num:3000,MAE:8.435139914204186  07/11/2022 11:22:29\n",
      "entering epoch=epoch_23.pkl\n",
      "[epoch_23.pkl---mpiigaze] Total Num:3000,MAE:7.900859899913948  07/11/2022 11:22:44\n",
      "entering epoch=epoch_24.pkl\n",
      "[epoch_24.pkl---mpiigaze] Total Num:3000,MAE:8.459646846114245  07/11/2022 11:22:58\n",
      "entering epoch=epoch_25.pkl\n",
      "[epoch_25.pkl---mpiigaze] Total Num:3000,MAE:7.761157814684744  07/11/2022 11:23:12\n",
      "entering epoch=epoch_26.pkl\n",
      "[epoch_26.pkl---mpiigaze] Total Num:3000,MAE:8.77012343538794  07/11/2022 11:23:27\n",
      "entering epoch=epoch_27.pkl\n",
      "[epoch_27.pkl---mpiigaze] Total Num:3000,MAE:10.049131831420189  07/11/2022 11:23:42\n",
      "entering epoch=epoch_28.pkl\n",
      "[epoch_28.pkl---mpiigaze] Total Num:3000,MAE:8.321803607051304  07/11/2022 11:23:56\n",
      "entering epoch=epoch_29.pkl\n",
      "[epoch_29.pkl---mpiigaze] Total Num:3000,MAE:7.798356693775089  07/11/2022 11:24:11\n",
      "entering epoch=epoch_30.pkl\n",
      "[epoch_30.pkl---mpiigaze] Total Num:3000,MAE:8.254964894553598  07/11/2022 11:24:25\n",
      "entering epoch=epoch_31.pkl\n",
      "[epoch_31.pkl---mpiigaze] Total Num:3000,MAE:9.0856455329855  07/11/2022 11:24:40\n",
      "entering epoch=epoch_32.pkl\n",
      "[epoch_32.pkl---mpiigaze] Total Num:3000,MAE:8.399401441867429  07/11/2022 11:24:55\n",
      "entering epoch=epoch_33.pkl\n",
      "[epoch_33.pkl---mpiigaze] Total Num:3000,MAE:7.532003198042966  07/11/2022 11:25:10\n",
      "entering epoch=epoch_34.pkl\n",
      "[epoch_34.pkl---mpiigaze] Total Num:3000,MAE:8.46516182864662  07/11/2022 11:25:24\n",
      "entering epoch=epoch_35.pkl\n",
      "[epoch_35.pkl---mpiigaze] Total Num:3000,MAE:8.057654238291466  07/11/2022 11:25:39\n",
      "entering epoch=epoch_36.pkl\n",
      "[epoch_36.pkl---mpiigaze] Total Num:3000,MAE:8.272812982101192  07/11/2022 11:25:54\n",
      "entering epoch=epoch_37.pkl\n",
      "[epoch_37.pkl---mpiigaze] Total Num:3000,MAE:7.819010558944415  07/11/2022 11:26:08\n",
      "entering epoch=epoch_38.pkl\n",
      "[epoch_43.pkl---mpiigaze] Total Num:3000,MAE:8.222473665303959  07/11/2022 11:27:35\n",
      "entering epoch=epoch_44.pkl\n",
      "[epoch_44.pkl---mpiigaze] Total Num:3000,MAE:8.423345359311407  07/11/2022 11:27:49\n",
      "entering epoch=epoch_45.pkl\n",
      "[epoch_45.pkl---mpiigaze] Total Num:3000,MAE:8.237416712097785  07/11/2022 11:28:04\n",
      "entering epoch=epoch_46.pkl\n",
      "[epoch_46.pkl---mpiigaze] Total Num:3000,MAE:9.257353904945317  07/11/2022 11:28:18\n",
      "entering epoch=epoch_47.pkl\n",
      "[epoch_47.pkl---mpiigaze] Total Num:3000,MAE:8.50244102473623  07/11/2022 11:28:32\n",
      "entering epoch=epoch_48.pkl\n",
      "[epoch_48.pkl---mpiigaze] Total Num:3000,MAE:8.622960203425  07/11/2022 11:28:47\n",
      "entering epoch=epoch_49.pkl\n",
      "[epoch_49.pkl---mpiigaze] Total Num:3000,MAE:8.533515827849213  07/11/2022 11:29:01\n",
      "entering epoch=epoch_50.pkl\n",
      "[epoch_50.pkl---mpiigaze] Total Num:3000,MAE:7.691348270293541  07/11/2022 11:29:15\n",
      "entering epoch=epoch_51.pkl\n",
      "[epoch_51.pkl---mpiigaze] Total Num:3000,MAE:7.473758967068101  07/11/2022 11:29:30\n",
      "entering epoch=epoch_52.pkl\n",
      "[epoch_52.pkl---mpiigaze] Total Num:3000,MAE:8.188428656159312  07/11/2022 11:29:45\n",
      "entering epoch=epoch_53.pkl\n",
      "[epoch_53.pkl---mpiigaze] Total Num:3000,MAE:9.054035981921086  07/11/2022 11:29:59\n",
      "entering epoch=epoch_54.pkl\n",
      "[epoch_54.pkl---mpiigaze] Total Num:3000,MAE:8.00255024001962  07/11/2022 11:30:13\n",
      "entering epoch=epoch_55.pkl\n",
      "[epoch_55.pkl---mpiigaze] Total Num:3000,MAE:7.753518305033366  07/11/2022 11:30:28\n",
      "entering epoch=epoch_56.pkl\n",
      "[epoch_56.pkl---mpiigaze] Total Num:3000,MAE:8.356213610329826  07/11/2022 11:30:42\n",
      "entering epoch=epoch_57.pkl\n",
      "[epoch_57.pkl---mpiigaze] Total Num:3000,MAE:7.774088431051001  07/11/2022 11:30:57\n",
      "entering epoch=epoch_58.pkl\n",
      "[epoch_58.pkl---mpiigaze] Total Num:3000,MAE:8.176132891320467  07/11/2022 11:31:11\n",
      "entering epoch=epoch_59.pkl\n",
      "[epoch_59.pkl---mpiigaze] Total Num:3000,MAE:6.501257168270084  07/11/2022 11:31:26\n",
      "entering epoch=epoch_60.pkl\n",
      "[epoch_60.pkl---mpiigaze] Total Num:3000,MAE:8.199606832809732  07/11/2022 11:31:40\n"
     ]
    },
    {
     "data": {
      "text/html": [
       "Waiting for W&B process to finish... <strong style=\"color:green\">(success).</strong>"
      ],
      "text/plain": [
       "<IPython.core.display.HTML object>"
      ]
     },
     "metadata": {},
     "output_type": "display_data"
    },
    {
     "data": {
      "application/vnd.jupyter.widget-view+json": {
       "model_id": "",
       "version_major": 2,
       "version_minor": 0
      },
      "text/plain": [
       "VBox(children=(Label(value='0.001 MB of 0.001 MB uploaded (0.000 MB deduped)\\r'), FloatProgress(value=1.0, max…"
      ]
     },
     "metadata": {},
     "output_type": "display_data"
    },
    {
     "data": {
      "text/html": [
       "<style>\n",
       "    table.wandb td:nth-child(1) { padding: 0 10px; text-align: right }\n",
       "    .wandb-row { display: flex; flex-direction: row; flex-wrap: wrap; width: 100% }\n",
       "    .wandb-col { display: flex; flex-direction: column; flex-basis: 100%; flex: 1; padding: 10px; }\n",
       "    </style>\n",
       "<div class=\"wandb-row\"><div class=\"wandb-col\"><h3>Run history:</h3><br/><table class=\"wandb\"><tr><td>fold_10_avg_mae</td><td>▄▂█▁▄▄▄▄▇▅▇▅▃▃▄▃▂▅▄▂▆▄▄▃▂▃▅▁▄▄▇▄▅▂▄▆▂▄▄▄</td></tr></table><br/></div><div class=\"wandb-col\"><h3>Run summary:</h3><br/><table class=\"wandb\"><tr><td>epoch</td><td>epoch_60.pkl</td></tr><tr><td>fold_10_avg_mae</td><td>8.19961</td></tr></table><br/></div></div>"
      ],
      "text/plain": [
       "<IPython.core.display.HTML object>"
      ]
     },
     "metadata": {},
     "output_type": "display_data"
    },
    {
     "data": {
      "text/html": [
       "Synced <strong style=\"color:#cdcd00\">soft-disco-11</strong>: <a href=\"https://wandb.ai/synthesis-ai/61_syn_mode_sdata2_real_data/runs/fpbm1309\" target=\"_blank\">https://wandb.ai/synthesis-ai/61_syn_mode_sdata2_real_data/runs/fpbm1309</a><br/>Synced 5 W&B file(s), 0 media file(s), 0 artifact file(s) and 0 other file(s)"
      ],
      "text/plain": [
       "<IPython.core.display.HTML object>"
      ]
     },
     "metadata": {},
     "output_type": "display_data"
    },
    {
     "data": {
      "text/html": [
       "Find logs at: <code>./wandb/run-20220711_181701-fpbm1309/logs</code>"
      ],
      "text/plain": [
       "<IPython.core.display.HTML object>"
      ]
     },
     "metadata": {},
     "output_type": "display_data"
    },
    {
     "data": {
      "text/html": [
       "wandb version 0.12.21 is available!  To upgrade, please run:\n",
       " $ pip install wandb --upgrade"
      ],
      "text/plain": [
       "<IPython.core.display.HTML object>"
      ]
     },
     "metadata": {},
     "output_type": "display_data"
    },
    {
     "data": {
      "text/html": [
       "Tracking run with wandb version 0.12.15"
      ],
      "text/plain": [
       "<IPython.core.display.HTML object>"
      ]
     },
     "metadata": {},
     "output_type": "display_data"
    },
    {
     "data": {
      "text/html": [
       "Run data is saved locally in <code>/project/notebooks/wandb/run-20220711_183144-2rg0yyal</code>"
      ],
      "text/plain": [
       "<IPython.core.display.HTML object>"
      ]
     },
     "metadata": {},
     "output_type": "display_data"
    },
    {
     "data": {
      "text/html": [
       "Syncing run <strong><a href=\"https://wandb.ai/synthesis-ai/61_syn_mode_sdata2_real_data/runs/2rg0yyal\" target=\"_blank\">dulcet-smoke-12</a></strong> to <a href=\"https://wandb.ai/synthesis-ai/61_syn_mode_sdata2_real_data\" target=\"_blank\">Weights & Biases</a> (<a href=\"https://wandb.me/run\" target=\"_blank\">docs</a>)<br/>"
      ],
      "text/plain": [
       "<IPython.core.display.HTML object>"
      ]
     },
     "metadata": {},
     "output_type": "display_data"
    },
    {
     "name": "stdout",
     "output_type": "stream",
     "text": [
      "fold=11\n",
      "/project/data/Label\n",
      "0 items removed from dataset that have an angle > 180\n",
      "\n",
      "test configuration equal gpu_id=cuda:0, batch_size=20, model_arch=ResNet50\n",
      "Start testing dataset=mpiigaze, FOLD=11 --07/11/2022 11:31:48---------\n",
      "entering epoch=epoch_1.pkl\n",
      "[epoch_1.pkl---mpiigaze] Total Num:3000,MAE:9.285822328543263  07/11/2022 11:32:05\n",
      "entering epoch=epoch_2.pkl\n",
      "[epoch_7.pkl---mpiigaze] Total Num:3000,MAE:8.29358139783298  07/11/2022 11:33:32\n",
      "entering epoch=epoch_8.pkl\n",
      "[epoch_8.pkl---mpiigaze] Total Num:3000,MAE:7.714649024055463  07/11/2022 11:33:49\n",
      "entering epoch=epoch_9.pkl\n",
      "[epoch_9.pkl---mpiigaze] Total Num:3000,MAE:8.750848906648066  07/11/2022 11:34:04\n",
      "entering epoch=epoch_10.pkl\n",
      "[epoch_10.pkl---mpiigaze] Total Num:3000,MAE:8.096643747492301  07/11/2022 11:34:18\n",
      "entering epoch=epoch_11.pkl\n",
      "[epoch_11.pkl---mpiigaze] Total Num:3000,MAE:8.049872440414166  07/11/2022 11:34:33\n",
      "entering epoch=epoch_12.pkl\n",
      "[epoch_12.pkl---mpiigaze] Total Num:3000,MAE:9.259239932724855  07/11/2022 11:34:48\n",
      "entering epoch=epoch_13.pkl\n",
      "[epoch_13.pkl---mpiigaze] Total Num:3000,MAE:8.224197902787074  07/11/2022 11:35:02\n",
      "entering epoch=epoch_14.pkl\n",
      "[epoch_14.pkl---mpiigaze] Total Num:3000,MAE:7.841181298416856  07/11/2022 11:35:17\n",
      "entering epoch=epoch_15.pkl\n",
      "[epoch_15.pkl---mpiigaze] Total Num:3000,MAE:8.721348514623307  07/11/2022 11:35:31\n",
      "entering epoch=epoch_16.pkl\n",
      "[epoch_16.pkl---mpiigaze] Total Num:3000,MAE:8.29166981923177  07/11/2022 11:35:46\n",
      "entering epoch=epoch_17.pkl\n",
      "[epoch_17.pkl---mpiigaze] Total Num:3000,MAE:7.981572537510107  07/11/2022 11:36:01\n",
      "entering epoch=epoch_18.pkl\n",
      "[epoch_18.pkl---mpiigaze] Total Num:3000,MAE:8.032286439231582  07/11/2022 11:36:16\n",
      "entering epoch=epoch_19.pkl\n",
      "[epoch_19.pkl---mpiigaze] Total Num:3000,MAE:8.480056066213809  07/11/2022 11:36:30\n",
      "entering epoch=epoch_20.pkl\n",
      "[epoch_20.pkl---mpiigaze] Total Num:3000,MAE:8.283604663934494  07/11/2022 11:36:45\n",
      "entering epoch=epoch_21.pkl\n",
      "[epoch_21.pkl---mpiigaze] Total Num:3000,MAE:7.96494353938662  07/11/2022 11:36:59\n",
      "entering epoch=epoch_22.pkl\n",
      "[epoch_22.pkl---mpiigaze] Total Num:3000,MAE:8.425643875481  07/11/2022 11:37:13\n",
      "entering epoch=epoch_23.pkl\n",
      "[epoch_23.pkl---mpiigaze] Total Num:3000,MAE:7.657131064140044  07/11/2022 11:37:28\n",
      "entering epoch=epoch_24.pkl\n",
      "[epoch_24.pkl---mpiigaze] Total Num:3000,MAE:8.019399817999773  07/11/2022 11:37:43\n",
      "entering epoch=epoch_25.pkl\n",
      "[epoch_25.pkl---mpiigaze] Total Num:3000,MAE:8.091256942344016  07/11/2022 11:37:57\n",
      "entering epoch=epoch_26.pkl\n",
      "[epoch_26.pkl---mpiigaze] Total Num:3000,MAE:7.995577472875425  07/11/2022 11:38:12\n",
      "entering epoch=epoch_27.pkl\n",
      "[epoch_27.pkl---mpiigaze] Total Num:3000,MAE:8.060574391486732  07/11/2022 11:38:26\n",
      "entering epoch=epoch_28.pkl\n",
      "[epoch_28.pkl---mpiigaze] Total Num:3000,MAE:8.076016275028708  07/11/2022 11:38:41\n",
      "entering epoch=epoch_29.pkl\n",
      "[epoch_29.pkl---mpiigaze] Total Num:3000,MAE:8.216597342538998  07/11/2022 11:38:56\n",
      "entering epoch=epoch_30.pkl\n",
      "[epoch_30.pkl---mpiigaze] Total Num:3000,MAE:7.645664966351678  07/11/2022 11:39:10\n",
      "entering epoch=epoch_31.pkl\n",
      "[epoch_31.pkl---mpiigaze] Total Num:3000,MAE:7.941167789144284  07/11/2022 11:39:24\n",
      "entering epoch=epoch_32.pkl\n",
      "[epoch_32.pkl---mpiigaze] Total Num:3000,MAE:8.369649742242727  07/11/2022 11:39:39\n",
      "entering epoch=epoch_33.pkl\n",
      "[epoch_33.pkl---mpiigaze] Total Num:3000,MAE:7.9131817525842525  07/11/2022 11:39:53\n",
      "entering epoch=epoch_34.pkl\n",
      "[epoch_34.pkl---mpiigaze] Total Num:3000,MAE:7.504454662609224  07/11/2022 11:40:08\n",
      "entering epoch=epoch_35.pkl\n",
      "[epoch_35.pkl---mpiigaze] Total Num:3000,MAE:8.250227216988833  07/11/2022 11:40:23\n",
      "entering epoch=epoch_36.pkl\n",
      "[epoch_36.pkl---mpiigaze] Total Num:3000,MAE:8.092520440310723  07/11/2022 11:40:38\n",
      "entering epoch=epoch_37.pkl\n",
      "[epoch_37.pkl---mpiigaze] Total Num:3000,MAE:7.154069570938009  07/11/2022 11:40:52\n",
      "entering epoch=epoch_38.pkl\n",
      "[epoch_38.pkl---mpiigaze] Total Num:3000,MAE:7.499349096732678  07/11/2022 11:41:07\n",
      "entering epoch=epoch_39.pkl\n",
      "[epoch_39.pkl---mpiigaze] Total Num:3000,MAE:8.159998932924456  07/11/2022 11:41:21\n",
      "entering epoch=epoch_40.pkl\n",
      "[epoch_40.pkl---mpiigaze] Total Num:3000,MAE:8.053621399593663  07/11/2022 11:41:36\n",
      "entering epoch=epoch_41.pkl\n",
      "[epoch_41.pkl---mpiigaze] Total Num:3000,MAE:8.291219137006701  07/11/2022 11:41:51\n",
      "entering epoch=epoch_42.pkl\n",
      "[epoch_42.pkl---mpiigaze] Total Num:3000,MAE:8.228366765354876  07/11/2022 11:42:06\n",
      "entering epoch=epoch_43.pkl\n",
      "[epoch_43.pkl---mpiigaze] Total Num:3000,MAE:8.466109777340417  07/11/2022 11:42:20\n",
      "entering epoch=epoch_44.pkl\n",
      "[epoch_44.pkl---mpiigaze] Total Num:3000,MAE:7.510079238670608  07/11/2022 11:42:35\n",
      "entering epoch=epoch_45.pkl\n",
      "[epoch_45.pkl---mpiigaze] Total Num:3000,MAE:7.837057161087561  07/11/2022 11:42:49\n",
      "entering epoch=epoch_46.pkl\n",
      "[epoch_46.pkl---mpiigaze] Total Num:3000,MAE:7.898625891514984  07/11/2022 11:43:04\n",
      "entering epoch=epoch_47.pkl\n",
      "[epoch_47.pkl---mpiigaze] Total Num:3000,MAE:7.60605273292889  07/11/2022 11:43:19\n",
      "entering epoch=epoch_48.pkl\n",
      "[epoch_48.pkl---mpiigaze] Total Num:3000,MAE:7.454861777079027  07/11/2022 11:43:34\n",
      "entering epoch=epoch_49.pkl\n",
      "[epoch_49.pkl---mpiigaze] Total Num:3000,MAE:7.868092564905199  07/11/2022 11:43:48\n",
      "entering epoch=epoch_50.pkl\n",
      "[epoch_50.pkl---mpiigaze] Total Num:3000,MAE:7.811053569215226  07/11/2022 11:44:03\n",
      "entering epoch=epoch_51.pkl\n",
      "[epoch_51.pkl---mpiigaze] Total Num:3000,MAE:8.418820236141734  07/11/2022 11:44:18\n",
      "entering epoch=epoch_52.pkl\n",
      "[epoch_52.pkl---mpiigaze] Total Num:3000,MAE:8.253941727223054  07/11/2022 11:44:32\n",
      "entering epoch=epoch_53.pkl\n",
      "[epoch_53.pkl---mpiigaze] Total Num:3000,MAE:7.592624396932556  07/11/2022 11:44:47\n",
      "entering epoch=epoch_54.pkl\n",
      "[epoch_54.pkl---mpiigaze] Total Num:3000,MAE:7.882607454870586  07/11/2022 11:45:01\n",
      "entering epoch=epoch_55.pkl\n",
      "[epoch_55.pkl---mpiigaze] Total Num:3000,MAE:7.491095194295152  07/11/2022 11:45:16\n",
      "entering epoch=epoch_56.pkl\n",
      "[epoch_56.pkl---mpiigaze] Total Num:3000,MAE:7.496111149940792  07/11/2022 11:45:31\n",
      "entering epoch=epoch_57.pkl\n",
      "[epoch_57.pkl---mpiigaze] Total Num:3000,MAE:7.06376796317491  07/11/2022 11:45:45\n",
      "entering epoch=epoch_58.pkl\n",
      "[epoch_58.pkl---mpiigaze] Total Num:3000,MAE:7.798127560044693  07/11/2022 11:46:00\n",
      "entering epoch=epoch_59.pkl\n",
      "[epoch_59.pkl---mpiigaze] Total Num:3000,MAE:6.969577626508794  07/11/2022 11:46:14\n",
      "entering epoch=epoch_60.pkl\n",
      "[epoch_60.pkl---mpiigaze] Total Num:3000,MAE:7.832288155915529  07/11/2022 11:46:29\n"
     ]
    },
    {
     "data": {
      "text/html": [
       "Waiting for W&B process to finish... <strong style=\"color:green\">(success).</strong>"
      ],
      "text/plain": [
       "<IPython.core.display.HTML object>"
      ]
     },
     "metadata": {},
     "output_type": "display_data"
    },
    {
     "data": {
      "application/vnd.jupyter.widget-view+json": {
       "model_id": "",
       "version_major": 2,
       "version_minor": 0
      },
      "text/plain": [
       "VBox(children=(Label(value='0.001 MB of 0.001 MB uploaded (0.000 MB deduped)\\r'), FloatProgress(value=1.0, max…"
      ]
     },
     "metadata": {},
     "output_type": "display_data"
    },
    {
     "data": {
      "text/html": [
       "<style>\n",
       "    table.wandb td:nth-child(1) { padding: 0 10px; text-align: right }\n",
       "    .wandb-row { display: flex; flex-direction: row; flex-wrap: wrap; width: 100% }\n",
       "    .wandb-col { display: flex; flex-direction: column; flex-basis: 100%; flex: 1; padding: 10px; }\n",
       "    </style>\n",
       "<div class=\"wandb-row\"><div class=\"wandb-col\"><h3>Run history:</h3><br/><table class=\"wandb\"><tr><td>fold_11_avg_mae</td><td>█▆▃▄▅▃▄▄▅▃▅▄▅▅▅▃▄▄▄▄▄▅▂▅▁▂▄▅▅▂▃▂▃▃▅▂▂▂▃▃</td></tr></table><br/></div><div class=\"wandb-col\"><h3>Run summary:</h3><br/><table class=\"wandb\"><tr><td>epoch</td><td>epoch_60.pkl</td></tr><tr><td>fold_11_avg_mae</td><td>7.83229</td></tr></table><br/></div></div>"
      ],
      "text/plain": [
       "<IPython.core.display.HTML object>"
      ]
     },
     "metadata": {},
     "output_type": "display_data"
    },
    {
     "data": {
      "text/html": [
       "Synced <strong style=\"color:#cdcd00\">dulcet-smoke-12</strong>: <a href=\"https://wandb.ai/synthesis-ai/61_syn_mode_sdata2_real_data/runs/2rg0yyal\" target=\"_blank\">https://wandb.ai/synthesis-ai/61_syn_mode_sdata2_real_data/runs/2rg0yyal</a><br/>Synced 5 W&B file(s), 0 media file(s), 0 artifact file(s) and 0 other file(s)"
      ],
      "text/plain": [
       "<IPython.core.display.HTML object>"
      ]
     },
     "metadata": {},
     "output_type": "display_data"
    },
    {
     "data": {
      "text/html": [
       "Find logs at: <code>./wandb/run-20220711_183144-2rg0yyal/logs</code>"
      ],
      "text/plain": [
       "<IPython.core.display.HTML object>"
      ]
     },
     "metadata": {},
     "output_type": "display_data"
    },
    {
     "data": {
      "text/html": [
       "wandb version 0.12.21 is available!  To upgrade, please run:\n",
       " $ pip install wandb --upgrade"
      ],
      "text/plain": [
       "<IPython.core.display.HTML object>"
      ]
     },
     "metadata": {},
     "output_type": "display_data"
    },
    {
     "data": {
      "text/html": [
       "Tracking run with wandb version 0.12.15"
      ],
      "text/plain": [
       "<IPython.core.display.HTML object>"
      ]
     },
     "metadata": {},
     "output_type": "display_data"
    },
    {
     "data": {
      "text/html": [
       "Run data is saved locally in <code>/project/notebooks/wandb/run-20220711_184633-3tkhx8w5</code>"
      ],
      "text/plain": [
       "<IPython.core.display.HTML object>"
      ]
     },
     "metadata": {},
     "output_type": "display_data"
    },
    {
     "data": {
      "text/html": [
       "Syncing run <strong><a href=\"https://wandb.ai/synthesis-ai/61_syn_mode_sdata2_real_data/runs/3tkhx8w5\" target=\"_blank\">eager-surf-13</a></strong> to <a href=\"https://wandb.ai/synthesis-ai/61_syn_mode_sdata2_real_data\" target=\"_blank\">Weights & Biases</a> (<a href=\"https://wandb.me/run\" target=\"_blank\">docs</a>)<br/>"
      ],
      "text/plain": [
       "<IPython.core.display.HTML object>"
      ]
     },
     "metadata": {},
     "output_type": "display_data"
    },
    {
     "name": "stdout",
     "output_type": "stream",
     "text": [
      "fold=12\n",
      "/project/data/Label\n",
      "0 items removed from dataset that have an angle > 180\n",
      "\n",
      "test configuration equal gpu_id=cuda:0, batch_size=20, model_arch=ResNet50\n",
      "Start testing dataset=mpiigaze, FOLD=12 --07/11/2022 11:46:37---------\n",
      "entering epoch=epoch_1.pkl\n",
      "[epoch_1.pkl---mpiigaze] Total Num:3000,MAE:10.106593678996957  07/11/2022 11:46:55\n",
      "entering epoch=epoch_2.pkl\n",
      "[epoch_2.pkl---mpiigaze] Total Num:3000,MAE:10.299983357337705  07/11/2022 11:47:10\n",
      "entering epoch=epoch_3.pkl\n",
      "[epoch_3.pkl---mpiigaze] Total Num:3000,MAE:8.522723181086619  07/11/2022 11:47:24\n",
      "entering epoch=epoch_4.pkl\n",
      "[epoch_4.pkl---mpiigaze] Total Num:3000,MAE:9.76337780829122  07/11/2022 11:47:39\n",
      "entering epoch=epoch_5.pkl\n",
      "[epoch_5.pkl---mpiigaze] Total Num:3000,MAE:8.856436763663167  07/11/2022 11:47:54\n",
      "entering epoch=epoch_6.pkl\n",
      "[epoch_6.pkl---mpiigaze] Total Num:3000,MAE:9.491702402235575  07/11/2022 11:48:08\n",
      "entering epoch=epoch_7.pkl\n",
      "[epoch_7.pkl---mpiigaze] Total Num:3000,MAE:9.282208092068073  07/11/2022 11:48:23\n",
      "entering epoch=epoch_8.pkl\n",
      "[epoch_8.pkl---mpiigaze] Total Num:3000,MAE:8.773694453000047  07/11/2022 11:48:38\n",
      "entering epoch=epoch_9.pkl\n",
      "[epoch_9.pkl---mpiigaze] Total Num:3000,MAE:9.180359960810485  07/11/2022 11:48:52\n",
      "entering epoch=epoch_10.pkl\n",
      "[epoch_10.pkl---mpiigaze] Total Num:3000,MAE:9.387924725385487  07/11/2022 11:49:07\n",
      "entering epoch=epoch_11.pkl\n",
      "[epoch_11.pkl---mpiigaze] Total Num:3000,MAE:8.945777195916685  07/11/2022 11:49:21\n",
      "entering epoch=epoch_12.pkl\n",
      "[epoch_12.pkl---mpiigaze] Total Num:3000,MAE:9.950994813648233  07/11/2022 11:49:36\n",
      "entering epoch=epoch_13.pkl\n",
      "[epoch_13.pkl---mpiigaze] Total Num:3000,MAE:9.463174077367917  07/11/2022 11:49:50\n",
      "entering epoch=epoch_14.pkl\n",
      "[epoch_14.pkl---mpiigaze] Total Num:3000,MAE:9.443876123278942  07/11/2022 11:50:04\n",
      "entering epoch=epoch_15.pkl\n",
      "[epoch_15.pkl---mpiigaze] Total Num:3000,MAE:9.43030376839253  07/11/2022 11:50:19\n",
      "entering epoch=epoch_16.pkl\n",
      "[epoch_16.pkl---mpiigaze] Total Num:3000,MAE:10.573689854305426  07/11/2022 11:50:33\n",
      "entering epoch=epoch_17.pkl\n",
      "[epoch_17.pkl---mpiigaze] Total Num:3000,MAE:9.429490471089217  07/11/2022 11:50:48\n",
      "entering epoch=epoch_18.pkl\n",
      "[epoch_18.pkl---mpiigaze] Total Num:3000,MAE:9.122504469775176  07/11/2022 11:51:03\n",
      "entering epoch=epoch_19.pkl\n",
      "[epoch_19.pkl---mpiigaze] Total Num:3000,MAE:8.557669377986864  07/11/2022 11:51:17\n",
      "entering epoch=epoch_20.pkl\n",
      "[epoch_20.pkl---mpiigaze] Total Num:3000,MAE:7.922968479960542  07/11/2022 11:51:32\n",
      "entering epoch=epoch_21.pkl\n",
      "[epoch_21.pkl---mpiigaze] Total Num:3000,MAE:9.992001404243055  07/11/2022 11:51:46\n",
      "entering epoch=epoch_22.pkl\n",
      "[epoch_22.pkl---mpiigaze] Total Num:3000,MAE:7.889815209590671  07/11/2022 11:52:01\n",
      "entering epoch=epoch_23.pkl\n",
      "[epoch_23.pkl---mpiigaze] Total Num:3000,MAE:9.447804267301576  07/11/2022 11:52:15\n",
      "entering epoch=epoch_24.pkl\n",
      "[epoch_24.pkl---mpiigaze] Total Num:3000,MAE:8.204610571222146  07/11/2022 11:52:29\n",
      "entering epoch=epoch_25.pkl\n",
      "[epoch_25.pkl---mpiigaze] Total Num:3000,MAE:8.550801931654844  07/11/2022 11:52:44\n",
      "entering epoch=epoch_26.pkl\n",
      "[epoch_26.pkl---mpiigaze] Total Num:3000,MAE:8.859851055564592  07/11/2022 11:52:58\n",
      "entering epoch=epoch_27.pkl\n",
      "[epoch_27.pkl---mpiigaze] Total Num:3000,MAE:9.468517503996805  07/11/2022 11:53:13\n",
      "entering epoch=epoch_28.pkl\n",
      "[epoch_28.pkl---mpiigaze] Total Num:3000,MAE:7.9933992236569615  07/11/2022 11:53:27\n",
      "entering epoch=epoch_29.pkl\n",
      "[epoch_29.pkl---mpiigaze] Total Num:3000,MAE:8.668189295584575  07/11/2022 11:53:41\n",
      "entering epoch=epoch_30.pkl\n",
      "[epoch_39.pkl---mpiigaze] Total Num:3000,MAE:8.33423602065273  07/11/2022 11:56:05\n",
      "entering epoch=epoch_40.pkl\n",
      "[epoch_40.pkl---mpiigaze] Total Num:3000,MAE:8.316450831821976  07/11/2022 11:56:19\n",
      "entering epoch=epoch_41.pkl\n",
      "[epoch_41.pkl---mpiigaze] Total Num:3000,MAE:9.247166827894642  07/11/2022 11:56:34\n",
      "entering epoch=epoch_42.pkl\n",
      "[epoch_42.pkl---mpiigaze] Total Num:3000,MAE:8.596068414895878  07/11/2022 11:56:48\n",
      "entering epoch=epoch_43.pkl\n",
      "[epoch_43.pkl---mpiigaze] Total Num:3000,MAE:8.636475499661653  07/11/2022 11:57:03\n",
      "entering epoch=epoch_44.pkl\n",
      "[epoch_44.pkl---mpiigaze] Total Num:3000,MAE:8.601923765097364  07/11/2022 11:57:17\n",
      "entering epoch=epoch_45.pkl\n",
      "[epoch_45.pkl---mpiigaze] Total Num:3000,MAE:8.634307018545401  07/11/2022 11:57:31\n",
      "entering epoch=epoch_46.pkl\n",
      "[epoch_46.pkl---mpiigaze] Total Num:3000,MAE:9.93424436377007  07/11/2022 11:57:45\n",
      "entering epoch=epoch_47.pkl\n",
      "[epoch_47.pkl---mpiigaze] Total Num:3000,MAE:9.918327779370408  07/11/2022 11:58:00\n",
      "entering epoch=epoch_48.pkl\n",
      "[epoch_48.pkl---mpiigaze] Total Num:3000,MAE:8.681985824396593  07/11/2022 11:58:14\n",
      "entering epoch=epoch_49.pkl\n",
      "[epoch_49.pkl---mpiigaze] Total Num:3000,MAE:9.264899935225191  07/11/2022 11:58:28\n",
      "entering epoch=epoch_50.pkl\n",
      "[epoch_50.pkl---mpiigaze] Total Num:3000,MAE:8.941355630573637  07/11/2022 11:58:43\n",
      "entering epoch=epoch_51.pkl\n",
      "[epoch_51.pkl---mpiigaze] Total Num:3000,MAE:8.794024040556138  07/11/2022 11:58:57\n",
      "entering epoch=epoch_52.pkl\n",
      "[epoch_52.pkl---mpiigaze] Total Num:3000,MAE:9.046223752781874  07/11/2022 11:59:11\n",
      "entering epoch=epoch_53.pkl\n",
      "[epoch_53.pkl---mpiigaze] Total Num:3000,MAE:8.908391127950583  07/11/2022 11:59:26\n",
      "entering epoch=epoch_54.pkl\n",
      "[epoch_54.pkl---mpiigaze] Total Num:3000,MAE:8.823589645995856  07/11/2022 11:59:40\n",
      "entering epoch=epoch_55.pkl\n",
      "[epoch_55.pkl---mpiigaze] Total Num:3000,MAE:9.190976561526588  07/11/2022 11:59:55\n",
      "entering epoch=epoch_56.pkl\n",
      "[epoch_56.pkl---mpiigaze] Total Num:3000,MAE:9.55012301771061  07/11/2022 12:00:09\n",
      "entering epoch=epoch_57.pkl\n",
      "[epoch_57.pkl---mpiigaze] Total Num:3000,MAE:9.16307662483178  07/11/2022 12:00:24\n",
      "entering epoch=epoch_58.pkl\n",
      "[epoch_58.pkl---mpiigaze] Total Num:3000,MAE:8.855401660212394  07/11/2022 12:00:38\n",
      "entering epoch=epoch_59.pkl\n",
      "[epoch_59.pkl---mpiigaze] Total Num:3000,MAE:9.093514769187445  07/11/2022 12:00:52\n",
      "entering epoch=epoch_60.pkl\n",
      "[epoch_60.pkl---mpiigaze] Total Num:3000,MAE:9.567002158973743  07/11/2022 12:01:07\n"
     ]
    },
    {
     "data": {
      "text/html": [
       "Waiting for W&B process to finish... <strong style=\"color:green\">(success).</strong>"
      ],
      "text/plain": [
       "<IPython.core.display.HTML object>"
      ]
     },
     "metadata": {},
     "output_type": "display_data"
    },
    {
     "data": {
      "application/vnd.jupyter.widget-view+json": {
       "model_id": "",
       "version_major": 2,
       "version_minor": 0
      },
      "text/plain": [
       "VBox(children=(Label(value='0.001 MB of 0.001 MB uploaded (0.000 MB deduped)\\r'), FloatProgress(value=1.0, max…"
      ]
     },
     "metadata": {},
     "output_type": "display_data"
    },
    {
     "data": {
      "text/html": [
       "<style>\n",
       "    table.wandb td:nth-child(1) { padding: 0 10px; text-align: right }\n",
       "    .wandb-row { display: flex; flex-direction: row; flex-wrap: wrap; width: 100% }\n",
       "    .wandb-col { display: flex; flex-direction: column; flex-basis: 100%; flex: 1; padding: 10px; }\n",
       "    </style>\n",
       "<div class=\"wandb-row\"><div class=\"wandb-col\"><h3>Run history:</h3><br/><table class=\"wandb\"><tr><td>fold_12_avg_mae</td><td>▇▇▆▄▅▃▅▄▅▅█▅▃▁▁▅▃▄▁▃▅▂▃▄▅▂▂▅▃▃▆▆▅▄▄▄▄▅▄▅</td></tr></table><br/></div><div class=\"wandb-col\"><h3>Run summary:</h3><br/><table class=\"wandb\"><tr><td>epoch</td><td>epoch_60.pkl</td></tr><tr><td>fold_12_avg_mae</td><td>9.567</td></tr></table><br/></div></div>"
      ],
      "text/plain": [
       "<IPython.core.display.HTML object>"
      ]
     },
     "metadata": {},
     "output_type": "display_data"
    },
    {
     "data": {
      "text/html": [
       "Synced <strong style=\"color:#cdcd00\">eager-surf-13</strong>: <a href=\"https://wandb.ai/synthesis-ai/61_syn_mode_sdata2_real_data/runs/3tkhx8w5\" target=\"_blank\">https://wandb.ai/synthesis-ai/61_syn_mode_sdata2_real_data/runs/3tkhx8w5</a><br/>Synced 5 W&B file(s), 0 media file(s), 0 artifact file(s) and 0 other file(s)"
      ],
      "text/plain": [
       "<IPython.core.display.HTML object>"
      ]
     },
     "metadata": {},
     "output_type": "display_data"
    },
    {
     "data": {
      "text/html": [
       "Find logs at: <code>./wandb/run-20220711_184633-3tkhx8w5/logs</code>"
      ],
      "text/plain": [
       "<IPython.core.display.HTML object>"
      ]
     },
     "metadata": {},
     "output_type": "display_data"
    },
    {
     "data": {
      "text/html": [
       "wandb version 0.12.21 is available!  To upgrade, please run:\n",
       " $ pip install wandb --upgrade"
      ],
      "text/plain": [
       "<IPython.core.display.HTML object>"
      ]
     },
     "metadata": {},
     "output_type": "display_data"
    },
    {
     "data": {
      "text/html": [
       "Tracking run with wandb version 0.12.15"
      ],
      "text/plain": [
       "<IPython.core.display.HTML object>"
      ]
     },
     "metadata": {},
     "output_type": "display_data"
    },
    {
     "data": {
      "text/html": [
       "Run data is saved locally in <code>/project/notebooks/wandb/run-20220711_190111-2v63b048</code>"
      ],
      "text/plain": [
       "<IPython.core.display.HTML object>"
      ]
     },
     "metadata": {},
     "output_type": "display_data"
    },
    {
     "data": {
      "text/html": [
       "Syncing run <strong><a href=\"https://wandb.ai/synthesis-ai/61_syn_mode_sdata2_real_data/runs/2v63b048\" target=\"_blank\">cosmic-capybara-14</a></strong> to <a href=\"https://wandb.ai/synthesis-ai/61_syn_mode_sdata2_real_data\" target=\"_blank\">Weights & Biases</a> (<a href=\"https://wandb.me/run\" target=\"_blank\">docs</a>)<br/>"
      ],
      "text/plain": [
       "<IPython.core.display.HTML object>"
      ]
     },
     "metadata": {},
     "output_type": "display_data"
    },
    {
     "name": "stdout",
     "output_type": "stream",
     "text": [
      "fold=13\n",
      "/project/data/Label\n",
      "0 items removed from dataset that have an angle > 180\n",
      "\n",
      "test configuration equal gpu_id=cuda:0, batch_size=20, model_arch=ResNet50\n",
      "Start testing dataset=mpiigaze, FOLD=13 --07/11/2022 12:01:14---------\n",
      "entering epoch=epoch_1.pkl\n",
      "[epoch_1.pkl---mpiigaze] Total Num:3000,MAE:14.338220346889772  07/11/2022 12:01:31\n",
      "entering epoch=epoch_2.pkl\n",
      "[epoch_2.pkl---mpiigaze] Total Num:3000,MAE:13.018350540535295  07/11/2022 12:01:46\n",
      "entering epoch=epoch_3.pkl\n",
      "[epoch_3.pkl---mpiigaze] Total Num:3000,MAE:11.78913000558656  07/11/2022 12:02:00\n",
      "entering epoch=epoch_4.pkl\n",
      "[epoch_4.pkl---mpiigaze] Total Num:3000,MAE:13.464470480010565  07/11/2022 12:02:14\n",
      "entering epoch=epoch_5.pkl\n",
      "[epoch_5.pkl---mpiigaze] Total Num:3000,MAE:12.558073823655551  07/11/2022 12:02:29\n",
      "entering epoch=epoch_6.pkl\n",
      "[epoch_6.pkl---mpiigaze] Total Num:3000,MAE:9.501403405338639  07/11/2022 12:02:43\n",
      "entering epoch=epoch_7.pkl\n",
      "[epoch_7.pkl---mpiigaze] Total Num:3000,MAE:10.073072561458714  07/11/2022 12:02:58\n",
      "entering epoch=epoch_8.pkl\n",
      "[epoch_8.pkl---mpiigaze] Total Num:3000,MAE:12.358897033663355  07/11/2022 12:03:12\n",
      "entering epoch=epoch_9.pkl\n",
      "[epoch_9.pkl---mpiigaze] Total Num:3000,MAE:10.582347559940436  07/11/2022 12:03:28\n",
      "entering epoch=epoch_10.pkl\n",
      "[epoch_10.pkl---mpiigaze] Total Num:3000,MAE:13.53744203858927  07/11/2022 12:03:43\n",
      "entering epoch=epoch_11.pkl\n",
      "[epoch_11.pkl---mpiigaze] Total Num:3000,MAE:10.73558107528688  07/11/2022 12:03:57\n",
      "entering epoch=epoch_12.pkl\n",
      "[epoch_12.pkl---mpiigaze] Total Num:3000,MAE:11.509077560505453  07/11/2022 12:04:12\n",
      "entering epoch=epoch_13.pkl\n",
      "[epoch_13.pkl---mpiigaze] Total Num:3000,MAE:11.654896694157504  07/11/2022 12:04:26\n",
      "entering epoch=epoch_14.pkl\n",
      "[epoch_14.pkl---mpiigaze] Total Num:3000,MAE:11.636727014943698  07/11/2022 12:04:41\n",
      "entering epoch=epoch_15.pkl\n",
      "[epoch_15.pkl---mpiigaze] Total Num:3000,MAE:12.144600601145989  07/11/2022 12:04:55\n",
      "entering epoch=epoch_16.pkl\n",
      "[epoch_16.pkl---mpiigaze] Total Num:3000,MAE:15.63140300436533  07/11/2022 12:05:09\n",
      "entering epoch=epoch_17.pkl\n",
      "[epoch_17.pkl---mpiigaze] Total Num:3000,MAE:11.798184019310517  07/11/2022 12:05:24\n",
      "entering epoch=epoch_18.pkl\n",
      "[epoch_18.pkl---mpiigaze] Total Num:3000,MAE:13.253544827106335  07/11/2022 12:05:39\n",
      "entering epoch=epoch_19.pkl\n",
      "[epoch_19.pkl---mpiigaze] Total Num:3000,MAE:13.30413018351739  07/11/2022 12:05:53\n",
      "entering epoch=epoch_20.pkl\n",
      "[epoch_20.pkl---mpiigaze] Total Num:3000,MAE:12.022186949546006  07/11/2022 12:06:08\n",
      "entering epoch=epoch_21.pkl\n",
      "[epoch_21.pkl---mpiigaze] Total Num:3000,MAE:11.004552433528492  07/11/2022 12:06:22\n",
      "entering epoch=epoch_22.pkl\n",
      "[epoch_22.pkl---mpiigaze] Total Num:3000,MAE:11.448912352933146  07/11/2022 12:06:36\n",
      "entering epoch=epoch_23.pkl\n",
      "[epoch_23.pkl---mpiigaze] Total Num:3000,MAE:10.340964349115238  07/11/2022 12:06:51\n",
      "entering epoch=epoch_24.pkl\n",
      "[epoch_24.pkl---mpiigaze] Total Num:3000,MAE:12.459155332233701  07/11/2022 12:07:05\n",
      "entering epoch=epoch_25.pkl\n",
      "[epoch_25.pkl---mpiigaze] Total Num:3000,MAE:10.667976234896567  07/11/2022 12:07:20\n",
      "entering epoch=epoch_26.pkl\n",
      "[epoch_26.pkl---mpiigaze] Total Num:3000,MAE:10.563371727578954  07/11/2022 12:07:34\n",
      "entering epoch=epoch_27.pkl\n",
      "[epoch_27.pkl---mpiigaze] Total Num:3000,MAE:11.58546583673268  07/11/2022 12:07:48\n",
      "entering epoch=epoch_28.pkl\n",
      "[epoch_28.pkl---mpiigaze] Total Num:3000,MAE:10.798237870090881  07/11/2022 12:08:03\n",
      "entering epoch=epoch_29.pkl\n",
      "[epoch_29.pkl---mpiigaze] Total Num:3000,MAE:11.588968687932262  07/11/2022 12:08:17\n",
      "entering epoch=epoch_30.pkl\n",
      "[epoch_30.pkl---mpiigaze] Total Num:3000,MAE:11.900740247429722  07/11/2022 12:08:31\n",
      "entering epoch=epoch_31.pkl\n",
      "[epoch_31.pkl---mpiigaze] Total Num:3000,MAE:11.397387782475773  07/11/2022 12:08:46\n",
      "entering epoch=epoch_32.pkl\n",
      "[epoch_32.pkl---mpiigaze] Total Num:3000,MAE:10.266641245580095  07/11/2022 12:09:00\n",
      "entering epoch=epoch_33.pkl\n",
      "[epoch_33.pkl---mpiigaze] Total Num:3000,MAE:10.429870596159244  07/11/2022 12:09:14\n",
      "entering epoch=epoch_34.pkl\n",
      "[epoch_34.pkl---mpiigaze] Total Num:3000,MAE:9.452390391272427  07/11/2022 12:09:29\n",
      "entering epoch=epoch_35.pkl\n",
      "[epoch_35.pkl---mpiigaze] Total Num:3000,MAE:11.138229199725817  07/11/2022 12:09:43\n",
      "entering epoch=epoch_36.pkl\n",
      "[epoch_36.pkl---mpiigaze] Total Num:3000,MAE:9.904190991223862  07/11/2022 12:09:57\n",
      "entering epoch=epoch_37.pkl\n",
      "[epoch_37.pkl---mpiigaze] Total Num:3000,MAE:10.996510942355421  07/11/2022 12:10:12\n",
      "entering epoch=epoch_38.pkl\n",
      "[epoch_38.pkl---mpiigaze] Total Num:3000,MAE:10.144333813256436  07/11/2022 12:10:26\n",
      "entering epoch=epoch_39.pkl\n",
      "[epoch_39.pkl---mpiigaze] Total Num:3000,MAE:12.91643731693353  07/11/2022 12:10:40\n",
      "entering epoch=epoch_40.pkl\n",
      "[epoch_40.pkl---mpiigaze] Total Num:3000,MAE:11.41766726759308  07/11/2022 12:10:54\n",
      "entering epoch=epoch_41.pkl\n",
      "[epoch_41.pkl---mpiigaze] Total Num:3000,MAE:10.060952188351287  07/11/2022 12:11:09\n",
      "entering epoch=epoch_42.pkl\n",
      "[epoch_42.pkl---mpiigaze] Total Num:3000,MAE:10.228654693722582  07/11/2022 12:11:23\n",
      "entering epoch=epoch_43.pkl\n",
      "[epoch_43.pkl---mpiigaze] Total Num:3000,MAE:14.125056144074197  07/11/2022 12:11:38\n",
      "entering epoch=epoch_44.pkl\n",
      "[epoch_44.pkl---mpiigaze] Total Num:3000,MAE:11.295407132922893  07/11/2022 12:11:52\n",
      "entering epoch=epoch_45.pkl\n",
      "[epoch_45.pkl---mpiigaze] Total Num:3000,MAE:11.0349316431289  07/11/2022 12:12:07\n",
      "entering epoch=epoch_46.pkl\n",
      "[epoch_52.pkl---mpiigaze] Total Num:3000,MAE:10.441201766514643  07/11/2022 12:13:48\n",
      "entering epoch=epoch_53.pkl\n",
      "[epoch_53.pkl---mpiigaze] Total Num:3000,MAE:13.791918474774228  07/11/2022 12:14:02\n",
      "entering epoch=epoch_54.pkl\n",
      "[epoch_54.pkl---mpiigaze] Total Num:3000,MAE:10.157758870511522  07/11/2022 12:14:17\n",
      "entering epoch=epoch_55.pkl\n",
      "[epoch_55.pkl---mpiigaze] Total Num:3000,MAE:11.298343554313627  07/11/2022 12:14:31\n",
      "entering epoch=epoch_56.pkl\n",
      "[epoch_56.pkl---mpiigaze] Total Num:3000,MAE:10.223208088959543  07/11/2022 12:14:46\n",
      "entering epoch=epoch_57.pkl\n",
      "[epoch_57.pkl---mpiigaze] Total Num:3000,MAE:10.15718184355024  07/11/2022 12:15:00\n",
      "entering epoch=epoch_58.pkl\n",
      "[epoch_58.pkl---mpiigaze] Total Num:3000,MAE:11.02617768595924  07/11/2022 12:15:15\n",
      "entering epoch=epoch_59.pkl\n",
      "[epoch_59.pkl---mpiigaze] Total Num:3000,MAE:10.81905228926926  07/11/2022 12:15:29\n",
      "entering epoch=epoch_60.pkl\n",
      "[epoch_60.pkl---mpiigaze] Total Num:3000,MAE:10.511027269728922  07/11/2022 12:15:44\n"
     ]
    },
    {
     "data": {
      "text/html": [
       "Waiting for W&B process to finish... <strong style=\"color:green\">(success).</strong>"
      ],
      "text/plain": [
       "<IPython.core.display.HTML object>"
      ]
     },
     "metadata": {},
     "output_type": "display_data"
    },
    {
     "data": {
      "application/vnd.jupyter.widget-view+json": {
       "model_id": "",
       "version_major": 2,
       "version_minor": 0
      },
      "text/plain": [
       "VBox(children=(Label(value='0.001 MB of 0.001 MB uploaded (0.000 MB deduped)\\r'), FloatProgress(value=1.0, max…"
      ]
     },
     "metadata": {},
     "output_type": "display_data"
    },
    {
     "data": {
      "text/html": [
       "<style>\n",
       "    table.wandb td:nth-child(1) { padding: 0 10px; text-align: right }\n",
       "    .wandb-row { display: flex; flex-direction: row; flex-wrap: wrap; width: 100% }\n",
       "    .wandb-col { display: flex; flex-direction: column; flex-basis: 100%; flex: 1; padding: 10px; }\n",
       "    </style>\n",
       "<div class=\"wandb-row\"><div class=\"wandb-col\"><h3>Run history:</h3><br/><table class=\"wandb\"><tr><td>fold_13_avg_mae</td><td>▇▅▆▅▂▄▆▂▃▃█▄▅▄▃▂▂▂▃▃▃▂▁▃▃▂▃▂▆▃▁▂▃▃▂▆▃▂▃▂</td></tr></table><br/></div><div class=\"wandb-col\"><h3>Run summary:</h3><br/><table class=\"wandb\"><tr><td>epoch</td><td>epoch_60.pkl</td></tr><tr><td>fold_13_avg_mae</td><td>10.51103</td></tr></table><br/></div></div>"
      ],
      "text/plain": [
       "<IPython.core.display.HTML object>"
      ]
     },
     "metadata": {},
     "output_type": "display_data"
    },
    {
     "data": {
      "text/html": [
       "Synced <strong style=\"color:#cdcd00\">cosmic-capybara-14</strong>: <a href=\"https://wandb.ai/synthesis-ai/61_syn_mode_sdata2_real_data/runs/2v63b048\" target=\"_blank\">https://wandb.ai/synthesis-ai/61_syn_mode_sdata2_real_data/runs/2v63b048</a><br/>Synced 5 W&B file(s), 0 media file(s), 0 artifact file(s) and 0 other file(s)"
      ],
      "text/plain": [
       "<IPython.core.display.HTML object>"
      ]
     },
     "metadata": {},
     "output_type": "display_data"
    },
    {
     "data": {
      "text/html": [
       "Find logs at: <code>./wandb/run-20220711_190111-2v63b048/logs</code>"
      ],
      "text/plain": [
       "<IPython.core.display.HTML object>"
      ]
     },
     "metadata": {},
     "output_type": "display_data"
    },
    {
     "data": {
      "text/html": [
       "wandb version 0.12.21 is available!  To upgrade, please run:\n",
       " $ pip install wandb --upgrade"
      ],
      "text/plain": [
       "<IPython.core.display.HTML object>"
      ]
     },
     "metadata": {},
     "output_type": "display_data"
    },
    {
     "data": {
      "text/html": [
       "Tracking run with wandb version 0.12.15"
      ],
      "text/plain": [
       "<IPython.core.display.HTML object>"
      ]
     },
     "metadata": {},
     "output_type": "display_data"
    },
    {
     "data": {
      "text/html": [
       "Run data is saved locally in <code>/project/notebooks/wandb/run-20220711_191547-13o99y9p</code>"
      ],
      "text/plain": [
       "<IPython.core.display.HTML object>"
      ]
     },
     "metadata": {},
     "output_type": "display_data"
    },
    {
     "data": {
      "text/html": [
       "Syncing run <strong><a href=\"https://wandb.ai/synthesis-ai/61_syn_mode_sdata2_real_data/runs/13o99y9p\" target=\"_blank\">pious-snow-15</a></strong> to <a href=\"https://wandb.ai/synthesis-ai/61_syn_mode_sdata2_real_data\" target=\"_blank\">Weights & Biases</a> (<a href=\"https://wandb.me/run\" target=\"_blank\">docs</a>)<br/>"
      ],
      "text/plain": [
       "<IPython.core.display.HTML object>"
      ]
     },
     "metadata": {},
     "output_type": "display_data"
    },
    {
     "name": "stdout",
     "output_type": "stream",
     "text": [
      "fold=14\n",
      "/project/data/Label\n",
      "0 items removed from dataset that have an angle > 180\n",
      "\n",
      "test configuration equal gpu_id=cuda:0, batch_size=20, model_arch=ResNet50\n",
      "Start testing dataset=mpiigaze, FOLD=14 --07/11/2022 12:15:51---------\n",
      "entering epoch=epoch_1.pkl\n",
      "[epoch_1.pkl---mpiigaze] Total Num:3000,MAE:9.483897073534171  07/11/2022 12:16:08\n",
      "entering epoch=epoch_2.pkl\n",
      "[epoch_2.pkl---mpiigaze] Total Num:3000,MAE:8.143008340438856  07/11/2022 12:16:22\n",
      "entering epoch=epoch_3.pkl\n",
      "[epoch_3.pkl---mpiigaze] Total Num:3000,MAE:9.298228963167924  07/11/2022 12:16:37\n",
      "entering epoch=epoch_4.pkl\n",
      "[epoch_4.pkl---mpiigaze] Total Num:3000,MAE:10.061603253653164  07/11/2022 12:16:52\n",
      "entering epoch=epoch_5.pkl\n",
      "[epoch_5.pkl---mpiigaze] Total Num:3000,MAE:8.82462046209274  07/11/2022 12:17:06\n",
      "entering epoch=epoch_6.pkl\n",
      "[epoch_6.pkl---mpiigaze] Total Num:3000,MAE:6.966477507628795  07/11/2022 12:17:21\n",
      "entering epoch=epoch_7.pkl\n",
      "[epoch_7.pkl---mpiigaze] Total Num:3000,MAE:8.412647805739699  07/11/2022 12:17:35\n",
      "entering epoch=epoch_8.pkl\n",
      "[epoch_8.pkl---mpiigaze] Total Num:3000,MAE:7.450936615720612  07/11/2022 12:17:49\n",
      "entering epoch=epoch_9.pkl\n",
      "[epoch_9.pkl---mpiigaze] Total Num:3000,MAE:6.997778603057552  07/11/2022 12:18:04\n",
      "entering epoch=epoch_10.pkl\n",
      "[epoch_10.pkl---mpiigaze] Total Num:3000,MAE:8.301505886856784  07/11/2022 12:18:18\n",
      "entering epoch=epoch_11.pkl\n",
      "[epoch_11.pkl---mpiigaze] Total Num:3000,MAE:7.963188174634116  07/11/2022 12:18:33\n",
      "entering epoch=epoch_12.pkl\n",
      "[epoch_12.pkl---mpiigaze] Total Num:3000,MAE:7.106867380391597  07/11/2022 12:18:49\n",
      "entering epoch=epoch_13.pkl\n",
      "[epoch_13.pkl---mpiigaze] Total Num:3000,MAE:7.404019175492053  07/11/2022 12:19:03\n",
      "entering epoch=epoch_14.pkl\n",
      "[epoch_14.pkl---mpiigaze] Total Num:3000,MAE:6.244207615870009  07/11/2022 12:19:18\n",
      "entering epoch=epoch_15.pkl\n",
      "[epoch_15.pkl---mpiigaze] Total Num:3000,MAE:7.5630197368446375  07/11/2022 12:19:32\n",
      "entering epoch=epoch_16.pkl\n",
      "[epoch_16.pkl---mpiigaze] Total Num:3000,MAE:6.188402995748024  07/11/2022 12:19:46\n",
      "entering epoch=epoch_17.pkl\n",
      "[epoch_17.pkl---mpiigaze] Total Num:3000,MAE:7.712821693557099  07/11/2022 12:20:01\n",
      "entering epoch=epoch_18.pkl\n",
      "[epoch_18.pkl---mpiigaze] Total Num:3000,MAE:6.91134359505702  07/11/2022 12:20:15\n",
      "entering epoch=epoch_19.pkl\n",
      "[epoch_19.pkl---mpiigaze] Total Num:3000,MAE:5.655184365887273  07/11/2022 12:20:30\n",
      "entering epoch=epoch_20.pkl\n",
      "[epoch_20.pkl---mpiigaze] Total Num:3000,MAE:6.209672617044777  07/11/2022 12:20:44\n",
      "entering epoch=epoch_21.pkl\n",
      "[epoch_21.pkl---mpiigaze] Total Num:3000,MAE:5.595546003769527  07/11/2022 12:20:59\n",
      "entering epoch=epoch_22.pkl\n",
      "[epoch_22.pkl---mpiigaze] Total Num:3000,MAE:6.499438053139047  07/11/2022 12:21:13\n",
      "entering epoch=epoch_23.pkl\n",
      "[epoch_23.pkl---mpiigaze] Total Num:3000,MAE:6.56508239610424  07/11/2022 12:21:28\n",
      "entering epoch=epoch_24.pkl\n",
      "[epoch_24.pkl---mpiigaze] Total Num:3000,MAE:6.343104595278458  07/11/2022 12:21:42\n",
      "entering epoch=epoch_25.pkl\n",
      "[epoch_25.pkl---mpiigaze] Total Num:3000,MAE:7.292386273967746  07/11/2022 12:21:57\n",
      "entering epoch=epoch_26.pkl\n",
      "[epoch_26.pkl---mpiigaze] Total Num:3000,MAE:5.827489535681185  07/11/2022 12:22:11\n",
      "entering epoch=epoch_27.pkl\n",
      "[epoch_27.pkl---mpiigaze] Total Num:3000,MAE:6.698324443576714  07/11/2022 12:22:26\n",
      "entering epoch=epoch_28.pkl\n",
      "[epoch_28.pkl---mpiigaze] Total Num:3000,MAE:6.515659074875159  07/11/2022 12:22:40\n",
      "entering epoch=epoch_29.pkl\n",
      "[epoch_29.pkl---mpiigaze] Total Num:3000,MAE:6.24739969601437  07/11/2022 12:22:55\n",
      "entering epoch=epoch_30.pkl\n",
      "[epoch_30.pkl---mpiigaze] Total Num:3000,MAE:5.963905363441075  07/11/2022 12:23:09\n",
      "entering epoch=epoch_31.pkl\n",
      "[epoch_31.pkl---mpiigaze] Total Num:3000,MAE:5.8589490156764334  07/11/2022 12:23:24\n",
      "entering epoch=epoch_32.pkl\n",
      "[epoch_32.pkl---mpiigaze] Total Num:3000,MAE:5.899718877301535  07/11/2022 12:23:38\n",
      "entering epoch=epoch_33.pkl\n",
      "[epoch_33.pkl---mpiigaze] Total Num:3000,MAE:6.012030023109835  07/11/2022 12:23:52\n",
      "entering epoch=epoch_34.pkl\n",
      "[epoch_34.pkl---mpiigaze] Total Num:3000,MAE:5.4012147551488265  07/11/2022 12:24:07\n",
      "entering epoch=epoch_35.pkl\n",
      "[epoch_35.pkl---mpiigaze] Total Num:3000,MAE:6.221467085901615  07/11/2022 12:24:21\n",
      "entering epoch=epoch_36.pkl\n",
      "[epoch_36.pkl---mpiigaze] Total Num:3000,MAE:5.64480810970712  07/11/2022 12:24:36\n",
      "entering epoch=epoch_37.pkl\n",
      "[epoch_37.pkl---mpiigaze] Total Num:3000,MAE:5.661104117662532  07/11/2022 12:24:50\n",
      "entering epoch=epoch_38.pkl\n",
      "[epoch_38.pkl---mpiigaze] Total Num:3000,MAE:5.6638473785613845  07/11/2022 12:25:04\n",
      "entering epoch=epoch_39.pkl\n",
      "[epoch_39.pkl---mpiigaze] Total Num:3000,MAE:5.706749198258453  07/11/2022 12:25:19\n",
      "entering epoch=epoch_40.pkl\n",
      "[epoch_40.pkl---mpiigaze] Total Num:3000,MAE:5.822874463226193  07/11/2022 12:25:33\n",
      "entering epoch=epoch_41.pkl\n",
      "[epoch_41.pkl---mpiigaze] Total Num:3000,MAE:6.334663343140981  07/11/2022 12:25:48\n",
      "entering epoch=epoch_42.pkl\n",
      "[epoch_42.pkl---mpiigaze] Total Num:3000,MAE:6.137051153470818  07/11/2022 12:26:02\n",
      "entering epoch=epoch_43.pkl\n",
      "[epoch_43.pkl---mpiigaze] Total Num:3000,MAE:5.636553527643311  07/11/2022 12:26:17\n",
      "entering epoch=epoch_44.pkl\n",
      "[epoch_44.pkl---mpiigaze] Total Num:3000,MAE:5.992805303914528  07/11/2022 12:26:31\n",
      "entering epoch=epoch_45.pkl\n",
      "[epoch_45.pkl---mpiigaze] Total Num:3000,MAE:6.480130385277627  07/11/2022 12:26:46\n",
      "entering epoch=epoch_46.pkl\n",
      "[epoch_46.pkl---mpiigaze] Total Num:3000,MAE:6.967629643745631  07/11/2022 12:27:00\n",
      "entering epoch=epoch_47.pkl\n",
      "[epoch_47.pkl---mpiigaze] Total Num:3000,MAE:6.3451278669288635  07/11/2022 12:27:15\n",
      "entering epoch=epoch_48.pkl\n",
      "[epoch_48.pkl---mpiigaze] Total Num:3000,MAE:6.501211618211469  07/11/2022 12:27:29\n",
      "entering epoch=epoch_49.pkl\n",
      "[epoch_49.pkl---mpiigaze] Total Num:3000,MAE:6.165404245814236  07/11/2022 12:27:43\n",
      "entering epoch=epoch_50.pkl\n",
      "[epoch_50.pkl---mpiigaze] Total Num:3000,MAE:5.710548783052695  07/11/2022 12:27:58\n",
      "entering epoch=epoch_51.pkl\n",
      "[epoch_51.pkl---mpiigaze] Total Num:3000,MAE:5.885824166923535  07/11/2022 12:28:12\n",
      "entering epoch=epoch_52.pkl\n",
      "[epoch_52.pkl---mpiigaze] Total Num:3000,MAE:6.013396239645068  07/11/2022 12:28:27\n",
      "entering epoch=epoch_53.pkl\n",
      "[epoch_53.pkl---mpiigaze] Total Num:3000,MAE:6.026408978648419  07/11/2022 12:28:41\n",
      "entering epoch=epoch_54.pkl\n",
      "[epoch_54.pkl---mpiigaze] Total Num:3000,MAE:5.681530520895867  07/11/2022 12:28:56\n",
      "entering epoch=epoch_55.pkl\n",
      "[epoch_55.pkl---mpiigaze] Total Num:3000,MAE:6.029414966698605  07/11/2022 12:29:10\n",
      "entering epoch=epoch_56.pkl\n",
      "[epoch_56.pkl---mpiigaze] Total Num:3000,MAE:6.06049150808662  07/11/2022 12:29:24\n",
      "entering epoch=epoch_57.pkl\n",
      "[epoch_57.pkl---mpiigaze] Total Num:3000,MAE:6.073417334254313  07/11/2022 12:29:39\n",
      "entering epoch=epoch_58.pkl\n",
      "[epoch_58.pkl---mpiigaze] Total Num:3000,MAE:6.075307335134465  07/11/2022 12:29:53\n",
      "entering epoch=epoch_59.pkl\n"
     ]
    }
   ],
   "source": [
    "%%time\n",
    "all_MAE = []\n",
    "# tosave={}\n",
    "for fold in range(15):\n",
    "    frun = wandb.init(project=\"61_syn_mode_sdata2_real_data\")\n",
    "    frun.name = f'fold{fold}_mae'\n",
    "    \n",
    "    print(f\"fold={fold}\")\n",
    "    \n",
    "    epoch_values=[]\n",
    "    mae_values=[]\n",
    "\n",
    "    now = get_now()\n",
    "    \n",
    "    print(args.gazeMpiilabel_dir)\n",
    "    folder = os.listdir(args.gazeMpiilabel_dir)\n",
    "    folder.sort()  #individual label files\n",
    "    testlabelpathcombined = [os.path.join(args.gazeMpiilabel_dir, j) for j in folder] \n",
    "    \n",
    "    gaze_dataset=datasets.Mpiigaze(testlabelpathcombined, args.gazeMpiimage_dir, transformations, False, angle, fold)\n",
    "\n",
    "    test_loader = torch.utils.data.DataLoader(\n",
    "        dataset=gaze_dataset,\n",
    "        batch_size=batch_size,\n",
    "        shuffle=True,\n",
    "        num_workers=4,\n",
    "        pin_memory=True)\n",
    "\n",
    "#     fold_path = os.path.join(evalpath, 'fold' + f'{fold:0>2}'+'/')  #for evaluation\n",
    "#     print(f\"fold_path is {fold_path}\")\n",
    "#     if not os.path.exists(fold_path):\n",
    "#         os.makedirs(fold_path)\n",
    "\n",
    "#     if not os.path.exists(os.path.join(evalpath, f\"fold\"+str(fold))):\n",
    "#         os.makedirs(os.path.join(evalpath, f\"fold\"+str(fold)))\n",
    "\n",
    "    # list all epoch for testing\n",
    "    folder = os.listdir(os.path.join(snapshot_path, \"fold\" + f'{fold:0>2}'))\n",
    "    folder.sort(key=natural_keys)\n",
    "#     folder.pop(-1)  #remove the tensorboard file, now all snapshot files\n",
    "#     print(f\"folder={folder}\")\n",
    "                    \n",
    "\n",
    "    softmax = nn.Softmax(dim=1)\n",
    "#     with open(os.path.join(evalpath, os.path.join(\"fold\"+f'{fold:0>2}', data_set+\".log\")), 'w') as outfile:\n",
    "        \n",
    "    configuration = (f\"\\ntest configuration equal gpu_id={gpu}, batch_size={batch_size}, model_arch={arch}\\n\"\n",
    "                     f\"Start testing dataset={data_set}, FOLD={fold} --{now}---------\")\n",
    "    print(configuration)\n",
    "#     tosave['time':now]\n",
    "#     outfile.write(configuration)\n",
    "    epoch_list=[]\n",
    "    avg_MAE=[]\n",
    "    for epoch in folder: \n",
    "        print(f\"entering epoch={epoch}\")\n",
    "        model=model_used\n",
    "        checkpoint = torch.load(os.path.join(snapshot_path+\"fold\"+f'{fold:0>2}', epoch))\n",
    "        saved_state_dict = checkpoint['model_state_dict']\n",
    "        model= nn.DataParallel(model,device_ids=[0])\n",
    "        model.load_state_dict(saved_state_dict)\n",
    "        model.cuda(gpu)\n",
    "        model.eval()\n",
    "        total = 0\n",
    "        idx_tensor = [idx for idx in range(35)]\n",
    "        idx_tensor = torch.FloatTensor(idx_tensor).cuda(gpu)\n",
    "        avg_error = .0\n",
    "        with torch.no_grad():\n",
    "            for j, (images, labels, cont_labels, name) in enumerate(test_loader):\n",
    "                images = Variable(images).cuda(gpu)\n",
    "                total += cont_labels.size(0)\n",
    "\n",
    "                label_pitch = cont_labels[:,0].float()*np.pi/180\n",
    "                label_yaw = cont_labels[:,1].float()*np.pi/180\n",
    "\n",
    "                gaze_pitch, gaze_yaw = model(images)\n",
    "\n",
    "                # Binned predictions\n",
    "                _, pitch_bpred = torch.max(gaze_pitch.data, 1)\n",
    "                _, yaw_bpred = torch.max(gaze_yaw.data, 1)\n",
    "\n",
    "                # Continuous predictions\n",
    "                pitch_predicted = softmax(gaze_pitch)\n",
    "                yaw_predicted = softmax(gaze_yaw)\n",
    "\n",
    "                # mapping from binned (0 to 28) to angels (-42 to 42)                \n",
    "                pitch_predicted = \\\n",
    "                    torch.sum(pitch_predicted * idx_tensor, 1).cpu() * 3 - 52\n",
    "                yaw_predicted = \\\n",
    "                    torch.sum(yaw_predicted * idx_tensor, 1).cpu() * 3 - 52\n",
    "\n",
    "                pitch_predicted = pitch_predicted*np.pi/180\n",
    "                yaw_predicted = yaw_predicted*np.pi/180\n",
    "\n",
    "                for p,y,pl,yl in zip(pitch_predicted, yaw_predicted, label_pitch, label_yaw):\n",
    "                    pl, yl = yl, pl*(-1.0)\n",
    "#                     yl = yl*(-1.0)\n",
    "                    avg_error += angular(gazeto3d([p,y]), gazeto3d([pl,yl]))\n",
    "\n",
    "        x = ''.join(filter(lambda i: i.isdigit(), epoch))\n",
    "#             print(f\"x={x}\")\n",
    "        \n",
    "        epoch_list.append(x)\n",
    "        mean_mae = avg_error/total  #mean mae over the 3000 iamges\n",
    "        avg_MAE.append(mean_mae)  \n",
    "#             print(f\"total={total}\")\n",
    "        now = get_now()\n",
    "        loger = f\"[{epoch}---{args.dataset}] Total Num:{total},MAE:{mean_mae}  {now}\"\n",
    "#         outfile.write(loger)\n",
    "        print(loger)\n",
    "#             print(f\"done epoch={epochs}\")\n",
    "        epochn = int(x)\n",
    "#         wandb.log({'epoch':epochn,'total':total, 'MAE':mean_mae, 'FOLD':fold })\n",
    "#         tosave ={'epoch':epochn,'total':total, 'MAE':mean_mae, 'FOLD':fold }\n",
    "        epoch_values.append(epochn)\n",
    "        mae_values.append(mean_mae)\n",
    "# #         wandb.log(tosave)\n",
    "        wandb.log({'epoch': epoch, f'fold_{fold}_avg_mae':mean_mae}, step=epochn)\n",
    "       \n",
    "    all_MAE.append(avg_MAE)\n",
    "    wandb.finish()\n"
   ]
  },
  {
   "cell_type": "code",
   "execution_count": null,
   "id": "065622ef",
   "metadata": {},
   "outputs": [],
   "source": [
    "all_MAE=np.array(all_MAE)"
   ]
  },
  {
   "cell_type": "code",
   "execution_count": null,
   "id": "eea42e21",
   "metadata": {},
   "outputs": [],
   "source": [
    "save_file = Path(snapshot_path).parent/\"all_MAE.npy\""
   ]
  },
  {
   "cell_type": "code",
   "execution_count": null,
   "id": "bb586e6b",
   "metadata": {},
   "outputs": [],
   "source": [
    "with open(save_file, 'wb') as f:\n",
    "    np.save(f, all_MAE)"
   ]
  },
  {
   "cell_type": "code",
   "execution_count": null,
   "id": "0872f6ce",
   "metadata": {},
   "outputs": [],
   "source": [
    "\n",
    "print(all_MAE.shape)\n",
    "print(all_MAE.mean(axis=0))\n",
    "print(all_MAE.mean(axis=1))\n",
    "print(all_MAE.mean(axis=0).argmin()+1 ,all_MAE.mean(axis=0).min())"
   ]
  },
  {
   "cell_type": "code",
   "execution_count": null,
   "id": "e80e9406",
   "metadata": {},
   "outputs": [],
   "source": [
    "best_epoch = all_MAE.mean(axis=0).argmin()+1\n",
    "min_error = all_MAE.mean(axis=0).min()\n",
    "mean_errors = all_MAE.mean(axis=0)\n",
    "print(best_epoch,min_error, mean_errors.shape )"
   ]
  },
  {
   "cell_type": "code",
   "execution_count": null,
   "id": "2f3e55ad",
   "metadata": {},
   "outputs": [],
   "source": [
    "xx = mean_errors\n",
    "min_error = 100\n",
    "with wandb.init(project=\"61_syn_mode_sdata2_real_data\") as run:\n",
    "    run.name = \"mean_error_per_epoch\"\n",
    "    for epoch in range(len(xx)):\n",
    "        err = xx[epoch]\n",
    "        if err < min_error:\n",
    "            min_error = err\n",
    "            run.summary[\"minimum_error (degree)\"] = min_error\n",
    "        run.log({f'mean epoch error (degree)':err}, step=epoch)\n",
    "        "
   ]
  },
  {
   "cell_type": "code",
   "execution_count": null,
   "id": "257cf58e",
   "metadata": {},
   "outputs": [],
   "source": [
    "\n",
    "\n",
    "best_epoch = {}\n",
    "best_epoch_error = {}\n",
    "print(f\"fold   best_epoch error(degree)\")\n",
    "for idx, fdata in enumerate(all_MAE):\n",
    "    epoch_min_error = np.argmin(fdata)+1\n",
    "    print(f'{idx:^4} {np.argmin(fdata)+1:^12} {fdata.min():^11.3f}')\n",
    "    best_epoch[idx+1] = epoch_min_error\n",
    "    best_epoch_error[idx+1]=fdata.min()\n"
   ]
  },
  {
   "cell_type": "code",
   "execution_count": null,
   "id": "77a04070",
   "metadata": {},
   "outputs": [],
   "source": [
    "all_MAE = np.load(save_file)"
   ]
  },
  {
   "cell_type": "code",
   "execution_count": null,
   "id": "ecb1a779",
   "metadata": {},
   "outputs": [],
   "source": [
    "all_MAE.shape"
   ]
  },
  {
   "cell_type": "code",
   "execution_count": null,
   "id": "23d940e2",
   "metadata": {},
   "outputs": [],
   "source": [
    "plt.plot(all_MAE.min(axis=1))\n",
    "plt.title('distribution of error over fold')\n",
    "plt.xlabel('fold')\n",
    "plt.ylabel('error(degree)')\n",
    "with wandb.init(project=\"51_syn_mode_real_data\") as run:\n",
    "    run.log({'data':wandb.Image(plt)})"
   ]
  }
 ],
 "metadata": {
  "kernelspec": {
   "display_name": "Python 3 (ipykernel)",
   "language": "python",
   "name": "python3"
  },
  "language_info": {
   "codemirror_mode": {
    "name": "ipython",
    "version": 3
   },
   "file_extension": ".py",
   "mimetype": "text/x-python",
   "name": "python",
   "nbconvert_exporter": "python",
   "pygments_lexer": "ipython3",
   "version": "3.8.10"
  }
 },
 "nbformat": 4,
 "nbformat_minor": 5
}
