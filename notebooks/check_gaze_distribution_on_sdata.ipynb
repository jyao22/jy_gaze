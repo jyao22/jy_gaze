{
 "cells": [
  {
   "cell_type": "code",
   "execution_count": 9,
   "id": "1708e58e",
   "metadata": {},
   "outputs": [],
   "source": [
    "import os\n",
    "import numpy as np\n",
    "import glob\n",
    "import matplotlib.pyplot as plt\n",
    "# import seaborn as sns"
   ]
  },
  {
   "cell_type": "code",
   "execution_count": 3,
   "id": "6bdd9708",
   "metadata": {},
   "outputs": [],
   "source": [
    "label_dir = \"../data/sdata/Label\""
   ]
  },
  {
   "cell_type": "code",
   "execution_count": 4,
   "id": "55301fc1",
   "metadata": {},
   "outputs": [
    {
     "name": "stdout",
     "output_type": "stream",
     "text": [
      "['p02.label', 'p11.label', 'p06.label', 'p04.label', 'p13.label', 'p08.label', 'p00.label', 'p03.label', 'p12.label', 'p07.label', 'p05.label', 'p14.label', 'p09.label', 'p10.label', 'p01.label']\n"
     ]
    }
   ],
   "source": [
    "dirs = os.listdir(label_dir)\n",
    "print(dirs)"
   ]
  },
  {
   "cell_type": "code",
   "execution_count": 5,
   "id": "f047e5ea",
   "metadata": {},
   "outputs": [
    {
     "name": "stdout",
     "output_type": "stream",
     "text": [
      "['../data/sdata/Label/p00.label', '../data/sdata/Label/p01.label', '../data/sdata/Label/p02.label', '../data/sdata/Label/p03.label', '../data/sdata/Label/p04.label', '../data/sdata/Label/p05.label', '../data/sdata/Label/p06.label', '../data/sdata/Label/p07.label', '../data/sdata/Label/p08.label', '../data/sdata/Label/p09.label', '../data/sdata/Label/p10.label', '../data/sdata/Label/p11.label', '../data/sdata/Label/p12.label', '../data/sdata/Label/p13.label', '../data/sdata/Label/p14.label']\n"
     ]
    }
   ],
   "source": [
    "label_files = glob.glob(label_dir+'/p*')\n",
    "label_files.sort()\n",
    "print(label_files)"
   ]
  },
  {
   "cell_type": "code",
   "execution_count": 6,
   "id": "e2a7544e",
   "metadata": {},
   "outputs": [],
   "source": [
    "pitches = []\n",
    "yaws = []\n",
    "for lfile in label_files:\n",
    "    with open(lfile) as f:\n",
    "        lines = list(f)\n",
    "        for line in lines[1:]:\n",
    "            line = line.strip().split(\" \")\n",
    "            gaze2d = line[7]\n",
    "            label = np.array(gaze2d.split(\",\")).astype(\"float\")\n",
    "#             label = torch.from_numpy(label).type(torch.FloatTensor)\n",
    "            pitch = label[0]* 180 / np.pi\n",
    "            yaw = label[1]* 180 / np.pi\n",
    "            pitches.append(pitch)\n",
    "            yaws.append(yaw)\n",
    "#             print(pitch, yaw)"
   ]
  },
  {
   "cell_type": "code",
   "execution_count": 7,
   "id": "968244bb",
   "metadata": {},
   "outputs": [],
   "source": [
    "pitches = np.array(pitches)\n",
    "yaws = np.array(yaws)"
   ]
  },
  {
   "cell_type": "code",
   "execution_count": 10,
   "id": "adff517b",
   "metadata": {},
   "outputs": [
    {
     "data": {
      "image/png": "[encoded data removed]",
      "text/plain": [
       "<Figure size 432x288 with 1 Axes>"
      ]
     },
     "metadata": {
      "needs_background": "light"
     },
     "output_type": "display_data"
    }
   ],
   "source": [
    "num_bins=50\n",
    "n, bins, patches = plt.hist(pitches, num_bins, \n",
    "                            density = 1, \n",
    "                            color ='green',\n",
    "                            alpha = 0.7)"
   ]
  },
  {
   "cell_type": "code",
   "execution_count": 11,
   "id": "84f2b11c",
   "metadata": {},
   "outputs": [
    {
     "data": {
      "image/png": "[encoded data removed]",
      "text/plain": [
       "<Figure size 432x288 with 1 Axes>"
      ]
     },
     "metadata": {
      "needs_background": "light"
     },
     "output_type": "display_data"
    }
   ],
   "source": [
    "num_bins=50\n",
    "n, bins, patches = plt.hist(yaws, num_bins, \n",
    "                            density = 1, \n",
    "                            color ='green',\n",
    "                            alpha = 0.7)"
   ]
  },
  {
   "cell_type": "code",
   "execution_count": null,
   "id": "473eca6a",
   "metadata": {},
   "outputs": [],
   "source": []
  },
  {
   "cell_type": "code",
   "execution_count": null,
   "id": "f2fcb6b7",
   "metadata": {},
   "outputs": [],
   "source": [
    "sns.set_theme()\n",
    "np.random.seed(0)\n",
    "ax = sns.distplot(pitches)"
   ]
  },
  {
   "cell_type": "code",
   "execution_count": null,
   "id": "cd070903",
   "metadata": {},
   "outputs": [],
   "source": [
    "ax = sns.distplot(yaws)"
   ]
  },
  {
   "cell_type": "code",
   "execution_count": null,
   "id": "a3bdc30c",
   "metadata": {},
   "outputs": [],
   "source": [
    "\n",
    "print(sorted(pitches)[0:5], sorted(pitches)[-5:])\n",
    "print(f\"total number of pitch values: {len(pitches)}\")\n",
    "print(pitches.mean())"
   ]
  },
  {
   "cell_type": "code",
   "execution_count": null,
   "id": "9d29bd3d",
   "metadata": {},
   "outputs": [],
   "source": [
    "print(sorted(yaws)[0:5])\n",
    "print(sorted(yaws)[-5:])\n",
    "print(f\"total number of yaw values: {len(yaws)}\")\n",
    "print(yaws.mean())"
   ]
  },
  {
   "cell_type": "code",
   "execution_count": 2,
   "id": "48175213",
   "metadata": {},
   "outputs": [
    {
     "data": {
      "text/plain": [
       "2.752173913043478"
      ]
     },
     "execution_count": 2,
     "metadata": {},
     "output_type": "execute_result"
    }
   ],
   "source": [
    "(9*60+55+38)/(180+50)"
   ]
  },
  {
   "cell_type": "code",
   "execution_count": 4,
   "id": "921f66db",
   "metadata": {},
   "outputs": [
    {
     "data": {
      "text/plain": [
       "41.25"
      ]
     },
     "execution_count": 4,
     "metadata": {},
     "output_type": "execute_result"
    }
   ],
   "source": [
    "2475/60"
   ]
  }
 ],
 "metadata": {
  "kernelspec": {
   "display_name": "Python 3 (ipykernel)",
   "language": "python",
   "name": "python3"
  },
  "language_info": {
   "codemirror_mode": {
    "name": "ipython",
    "version": 3
   },
   "file_extension": ".py",
   "mimetype": "text/x-python",
   "name": "python",
   "nbconvert_exporter": "python",
   "pygments_lexer": "ipython3",
   "version": "3.8.10"
  }
 },
 "nbformat": 4,
 "nbformat_minor": 5
}
