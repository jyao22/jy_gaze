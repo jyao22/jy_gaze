{
 "cells": [
  {
   "cell_type": "code",
   "execution_count": 1,
   "id": "9132df96",
   "metadata": {},
   "outputs": [],
   "source": [
    "# Use the best model for each checkpoint folder to test maes for all data folds"
   ]
  },
  {
   "cell_type": "code",
   "execution_count": 2,
   "id": "662efc9c",
   "metadata": {},
   "outputs": [],
   "source": [
    "import os, argparse\n",
    "import numpy as np\n",
    "import matplotlib.pyplot as plt\n",
    "from datetime import datetime\n",
    "from pytz import timezone\n",
    "from pathlib import Path\n",
    "import torch\n",
    "import torch.nn as nn\n",
    "from torch.autograd import Variable\n",
    "from torch.utils.data import DataLoader\n",
    "from torchvision import transforms\n",
    "import torch.backends.cudnn as cudnn\n",
    "import torchvision\n",
    "import wandb\n",
    "\n",
    "import datasets\n",
    "# from utils import select_device, natural_keys, gazeto3d, angular, getArch\n",
    "from utils import select_device, natural_keys, gazeto3d, angular, getArch\n",
    "from model import L2CS"
   ]
  },
  {
   "cell_type": "code",
   "execution_count": 3,
   "id": "ed29c578",
   "metadata": {},
   "outputs": [],
   "source": [
    "args = argparse.Namespace()\n",
    "args.gazeMpiimage_dir = '/project/data/Image'  #real data \n",
    "args.gazeMpiilabel_dir = '/project/data/Label'  #real label\n",
    "# args.output = '/project/results/soutput1/snapshots/'\n",
    "args.dataset = 'mpiigaze'\n",
    "args.snapshot='/project/results/soutput1/snapshots/'\n",
    "# args.evalpath = '/project/results/sroutput1/evaluation/'\n",
    "args.gpu_id = '0,1,2,3'\n",
    "args.gpu_id = '0'\n",
    "args.batch_size = 20\n",
    "args.arch = 'ResNet50'\n",
    "args.bins=35\n",
    "args.angle = 180\n",
    "args.bin_width = 4\n"
   ]
  },
  {
   "cell_type": "code",
   "execution_count": 4,
   "id": "d0e11321",
   "metadata": {},
   "outputs": [],
   "source": [
    "batch_size=args.batch_size\n",
    "arch=args.arch\n",
    "data_set=args.dataset\n",
    "# evalpath =args.evalpath\n",
    "snapshot_path = args.snapshot\n",
    "bins=args.bins\n",
    "angle=args.angle\n",
    "bin_width=args.bin_width\n",
    "gazeMpiimage_dir = args.gazeMpiimage_dir\n",
    "gazeMpiilabel_dir=args.gazeMpiilabel_dir"
   ]
  },
  {
   "cell_type": "code",
   "execution_count": 5,
   "id": "0504fda4",
   "metadata": {},
   "outputs": [],
   "source": [
    "# args = parse_args()\n",
    "cudnn.enabled = True\n",
    "gpu = select_device(args.gpu_id, batch_size=args.batch_size)\n",
    "transformations = transforms.Compose([\n",
    "    transforms.Resize(448),\n",
    "    transforms.RandomEqualize(p=1.0),\n",
    "    transforms.ToTensor(),\n",
    "    transforms.Normalize(\n",
    "        mean=[0.485, 0.456, 0.406],\n",
    "        std=[0.229, 0.224, 0.225]\n",
    "    )\n",
    "])\n",
    "\n",
    "model_used= getArch(arch, bins)  #resnet50 and 28 bins"
   ]
  },
  {
   "cell_type": "code",
   "execution_count": 6,
   "id": "2a3aa734",
   "metadata": {},
   "outputs": [
    {
     "name": "stdout",
     "output_type": "stream",
     "text": [
      "fold   best_epoch error(degree)\n",
      " 0        34         2.818   \n",
      " 1        60         2.734   \n",
      " 2        36         3.001   \n",
      " 3        59         3.617   \n",
      " 4        57         3.239   \n",
      " 5        36         2.433   \n",
      " 6        49         3.298   \n",
      " 7        41         3.077   \n",
      " 8        29         4.815   \n",
      " 9        32         4.783   \n",
      " 10       30         2.987   \n",
      " 11       39         2.451   \n",
      " 12       8          3.177   \n",
      " 13       51         2.539   \n",
      " 14       10         3.189   \n"
     ]
    }
   ],
   "source": [
    "#read the fold epoch table\n",
    "dfile = Path(snapshot_path).parent/\"syn_syn_all_MAE.npy\"\n",
    "all_MAE = np.load(dfile)\n",
    "best_epoch = {}\n",
    "best_epoch_error = {}\n",
    "print(f\"fold   best_epoch error(degree)\")\n",
    "for idx, fdata in enumerate(all_MAE):\n",
    "#     print(idx, type(idx))\n",
    "    epoch_min_error = np.argmin(fdata)+1\n",
    "    print(f'{idx:^4} {np.argmin(fdata)+1:^12} {fdata.min():^11.3f}')\n",
    "    best_epoch[idx+1] = epoch_min_error\n",
    "    best_epoch_error[idx+1]=fdata.min()"
   ]
  },
  {
   "cell_type": "code",
   "execution_count": 7,
   "id": "6e2eff08",
   "metadata": {},
   "outputs": [
    {
     "name": "stdout",
     "output_type": "stream",
     "text": [
      "0:60 1:60 2:60 3:60 4:60 5:60 6:60 7:60 8:60 9:60 10:60 11:60 12:60 13:60 14:60 "
     ]
    }
   ],
   "source": [
    "# check if we have the correct number of checkpoint files \n",
    "ppath = snapshot_path\n",
    "for fold in range(15):\n",
    "    foldstr = f\"fold{fold:0>2}\"\n",
    "    cpath =os.path.join(ppath, foldstr)\n",
    "    files = os.listdir(cpath)\n",
    "    print(f'{fold}:{len(files)}',end=\" \")"
   ]
  },
  {
   "cell_type": "code",
   "execution_count": 8,
   "id": "72df5465",
   "metadata": {},
   "outputs": [
    {
     "name": "stdout",
     "output_type": "stream",
     "text": [
      "06/29/2022 16:03:24\n"
     ]
    }
   ],
   "source": [
    "def get_now():\n",
    "    now = datetime.utcnow()\n",
    "    now = now.astimezone(timezone('US/Pacific'))\n",
    "    date_format='%m/%d/%Y %H:%M:%S'\n",
    "    now = now.strftime(date_format) \n",
    "    return now\n",
    "print(get_now())"
   ]
  },
  {
   "cell_type": "code",
   "execution_count": 9,
   "id": "aac76d00",
   "metadata": {},
   "outputs": [
    {
     "name": "stdout",
     "output_type": "stream",
     "text": [
      "['/project/data/Label/p00.label', '/project/data/Label/p01.label', '/project/data/Label/p02.label', '/project/data/Label/p03.label', '/project/data/Label/p04.label', '/project/data/Label/p05.label', '/project/data/Label/p06.label', '/project/data/Label/p07.label', '/project/data/Label/p08.label', '/project/data/Label/p09.label', '/project/data/Label/p10.label', '/project/data/Label/p11.label', '/project/data/Label/p12.label', '/project/data/Label/p13.label', '/project/data/Label/p14.label']\n"
     ]
    },
    {
     "name": "stderr",
     "output_type": "stream",
     "text": [
      "\u001b[34m\u001b[1mwandb\u001b[0m: Currently logged in as: \u001b[33msynthesis-ai\u001b[0m (use `wandb login --relogin` to force relogin)\n"
     ]
    },
    {
     "data": {
      "text/html": [
       "wandb version 0.12.20 is available!  To upgrade, please run:\n",
       " $ pip install wandb --upgrade"
      ],
      "text/plain": [
       "<IPython.core.display.HTML object>"
      ]
     },
     "metadata": {},
     "output_type": "display_data"
    },
    {
     "data": {
      "text/html": [
       "Tracking run with wandb version 0.12.15"
      ],
      "text/plain": [
       "<IPython.core.display.HTML object>"
      ]
     },
     "metadata": {},
     "output_type": "display_data"
    },
    {
     "data": {
      "text/html": [
       "Run data is saved locally in <code>/project/notebooks/wandb/run-20220629_230328-3s9xa167</code>"
      ],
      "text/plain": [
       "<IPython.core.display.HTML object>"
      ]
     },
     "metadata": {},
     "output_type": "display_data"
    },
    {
     "data": {
      "text/html": [
       "Syncing run <strong><a href=\"https://wandb.ai/synthesis-ai/55_best_checkpoint_model_all_real_data_folds_equalized/runs/3s9xa167\" target=\"_blank\">glad-sun-2</a></strong> to <a href=\"https://wandb.ai/synthesis-ai/55_best_checkpoint_model_all_real_data_folds_equalized\" target=\"_blank\">Weights & Biases</a> (<a href=\"https://wandb.me/run\" target=\"_blank\">docs</a>)<br/>"
      ],
      "text/plain": [
       "<IPython.core.display.HTML object>"
      ]
     },
     "metadata": {},
     "output_type": "display_data"
    },
    {
     "name": "stdout",
     "output_type": "stream",
     "text": [
      "cfold=fold00\n",
      "0 items removed from dataset that have an angle > 180\n",
      "\n",
      "test configuration: gpu_id=cuda:0, batch_size=20\n",
      "model_arch=ResNet50 Start testing dataset=mpiigaze\n",
      "cFOLD=0 dFOLD=0--06/29/2022 16:03:32----\n",
      "[cfold0---dfold 0] Total Num:3000, MAE:5.684274629884484  06/29/2022 16:03:47\n",
      "0 items removed from dataset that have an angle > 180\n",
      "\n",
      "test configuration: gpu_id=cuda:0, batch_size=20\n",
      "model_arch=ResNet50 Start testing dataset=mpiigaze\n",
      "cFOLD=0 dFOLD=1--06/29/2022 16:03:47----\n",
      "[cfold0---dfold 1] Total Num:3000, MAE:8.227338349421263  06/29/2022 16:04:00\n",
      "0 items removed from dataset that have an angle > 180\n",
      "\n",
      "test configuration: gpu_id=cuda:0, batch_size=20\n",
      "model_arch=ResNet50 Start testing dataset=mpiigaze\n",
      "cFOLD=0 dFOLD=2--06/29/2022 16:04:00----\n",
      "[cfold0---dfold 2] Total Num:3000, MAE:4.703570786133523  06/29/2022 16:04:13\n",
      "0 items removed from dataset that have an angle > 180\n",
      "\n",
      "test configuration: gpu_id=cuda:0, batch_size=20\n",
      "model_arch=ResNet50 Start testing dataset=mpiigaze\n",
      "cFOLD=0 dFOLD=3--06/29/2022 16:04:13----\n",
      "[cfold0---dfold 3] Total Num:3000, MAE:7.05268332003898  06/29/2022 16:04:27\n",
      "0 items removed from dataset that have an angle > 180\n",
      "\n",
      "test configuration: gpu_id=cuda:0, batch_size=20\n",
      "model_arch=ResNet50 Start testing dataset=mpiigaze\n",
      "cFOLD=0 dFOLD=4--06/29/2022 16:04:27----\n",
      "[cfold0---dfold 4] Total Num:3000, MAE:6.216106084000517  06/29/2022 16:04:41\n",
      "0 items removed from dataset that have an angle > 180\n",
      "\n",
      "test configuration: gpu_id=cuda:0, batch_size=20\n",
      "model_arch=ResNet50 Start testing dataset=mpiigaze\n",
      "cFOLD=0 dFOLD=5--06/29/2022 16:04:41----\n",
      "[cfold0---dfold 5] Total Num:3000, MAE:6.326648985497956  06/29/2022 16:04:54\n",
      "0 items removed from dataset that have an angle > 180\n",
      "\n",
      "test configuration: gpu_id=cuda:0, batch_size=20\n",
      "model_arch=ResNet50 Start testing dataset=mpiigaze\n",
      "cFOLD=0 dFOLD=6--06/29/2022 16:04:54----\n",
      "[cfold0---dfold 6] Total Num:3000, MAE:10.357087594555432  06/29/2022 16:05:08\n",
      "0 items removed from dataset that have an angle > 180\n",
      "\n",
      "test configuration: gpu_id=cuda:0, batch_size=20\n",
      "model_arch=ResNet50 Start testing dataset=mpiigaze\n",
      "cFOLD=0 dFOLD=7--06/29/2022 16:05:08----\n",
      "[cfold0---dfold 7] Total Num:3000, MAE:7.5318411246601435  06/29/2022 16:05:21\n",
      "0 items removed from dataset that have an angle > 180\n",
      "\n",
      "test configuration: gpu_id=cuda:0, batch_size=20\n",
      "model_arch=ResNet50 Start testing dataset=mpiigaze\n",
      "cFOLD=0 dFOLD=8--06/29/2022 16:05:21----\n",
      "[cfold0---dfold 8] Total Num:3000, MAE:7.308493142987107  06/29/2022 16:05:35\n",
      "0 items removed from dataset that have an angle > 180\n",
      "\n",
      "test configuration: gpu_id=cuda:0, batch_size=20\n",
      "model_arch=ResNet50 Start testing dataset=mpiigaze\n",
      "cFOLD=0 dFOLD=9--06/29/2022 16:05:35----\n",
      "[cfold0---dfold 9] Total Num:3000, MAE:11.506694230647488  06/29/2022 16:05:49\n",
      "0 items removed from dataset that have an angle > 180\n",
      "\n",
      "test configuration: gpu_id=cuda:0, batch_size=20\n",
      "model_arch=ResNet50 Start testing dataset=mpiigaze\n",
      "cFOLD=0 dFOLD=10--06/29/2022 16:05:49----\n",
      "[cfold0---dfold 10] Total Num:3000, MAE:9.163421107941172  06/29/2022 16:06:03\n",
      "0 items removed from dataset that have an angle > 180\n",
      "\n",
      "test configuration: gpu_id=cuda:0, batch_size=20\n",
      "model_arch=ResNet50 Start testing dataset=mpiigaze\n",
      "cFOLD=0 dFOLD=11--06/29/2022 16:06:03----\n",
      "[cfold0---dfold 11] Total Num:3000, MAE:5.883263134961376  06/29/2022 16:06:17\n",
      "0 items removed from dataset that have an angle > 180\n",
      "\n",
      "test configuration: gpu_id=cuda:0, batch_size=20\n",
      "model_arch=ResNet50 Start testing dataset=mpiigaze\n",
      "cFOLD=0 dFOLD=12--06/29/2022 16:06:17----\n",
      "[cfold0---dfold 12] Total Num:3000, MAE:8.507082767710195  06/29/2022 16:06:31\n",
      "0 items removed from dataset that have an angle > 180\n",
      "\n",
      "test configuration: gpu_id=cuda:0, batch_size=20\n",
      "model_arch=ResNet50 Start testing dataset=mpiigaze\n",
      "cFOLD=0 dFOLD=13--06/29/2022 16:06:31----\n",
      "[cfold0---dfold 13] Total Num:3000, MAE:8.377298581774818  06/29/2022 16:06:45\n",
      "0 items removed from dataset that have an angle > 180\n",
      "\n",
      "test configuration: gpu_id=cuda:0, batch_size=20\n",
      "model_arch=ResNet50 Start testing dataset=mpiigaze\n",
      "cFOLD=0 dFOLD=14--06/29/2022 16:06:45----\n",
      "[cfold0---dfold 14] Total Num:3000, MAE:5.348675652239687  06/29/2022 16:06:59\n",
      "[cfold0--] MAE for this fold best model:7.479631966163611  06/29/2022 16:06:59\n"
     ]
    },
    {
     "data": {
      "text/html": [
       "Finishing last run (ID:3s9xa167) before initializing another..."
      ],
      "text/plain": [
       "<IPython.core.display.HTML object>"
      ]
     },
     "metadata": {},
     "output_type": "display_data"
    },
    {
     "data": {
      "text/html": [
       "Waiting for W&B process to finish... <strong style=\"color:green\">(success).</strong>"
      ],
      "text/plain": [
       "<IPython.core.display.HTML object>"
      ]
     },
     "metadata": {},
     "output_type": "display_data"
    },
    {
     "data": {
      "application/vnd.jupyter.widget-view+json": {
       "model_id": "",
       "version_major": 2,
       "version_minor": 0
      },
      "text/plain": [
       "VBox(children=(Label(value='0.001 MB of 0.001 MB uploaded (0.000 MB deduped)\\r'), FloatProgress(value=1.0, max…"
      ]
     },
     "metadata": {},
     "output_type": "display_data"
    },
    {
     "data": {
      "text/html": [
       "<style>\n",
       "    table.wandb td:nth-child(1) { padding: 0 10px; text-align: right }\n",
       "    .wandb-row { display: flex; flex-direction: row; flex-wrap: wrap; width: 100% }\n",
       "    .wandb-col { display: flex; flex-direction: column; flex-basis: 100%; flex: 1; padding: 10px; }\n",
       "    </style>\n",
       "<div class=\"wandb-row\"><div class=\"wandb-col\"><h3>Run history:</h3><br/><table class=\"wandb\"><tr><td>data fold</td><td>▁▁▂▃▃▃▄▅▅▅▆▇▇▇█</td></tr><tr><td>dfold_0_avg_mae</td><td>▁</td></tr><tr><td>dfold_10_avg_mae</td><td>▁</td></tr><tr><td>dfold_11_avg_mae</td><td>▁</td></tr><tr><td>dfold_12_avg_mae</td><td>▁</td></tr><tr><td>dfold_13_avg_mae</td><td>▁</td></tr><tr><td>dfold_14_avg_mae</td><td>▁</td></tr><tr><td>dfold_1_avg_mae</td><td>▁</td></tr><tr><td>dfold_2_avg_mae</td><td>▁</td></tr><tr><td>dfold_3_avg_mae</td><td>▁</td></tr><tr><td>dfold_4_avg_mae</td><td>▁</td></tr><tr><td>dfold_5_avg_mae</td><td>▁</td></tr><tr><td>dfold_6_avg_mae</td><td>▁</td></tr><tr><td>dfold_7_avg_mae</td><td>▁</td></tr><tr><td>dfold_8_avg_mae</td><td>▁</td></tr><tr><td>dfold_9_avg_mae</td><td>▁</td></tr></table><br/></div><div class=\"wandb-col\"><h3>Run summary:</h3><br/><table class=\"wandb\"><tr><td>data fold</td><td>14</td></tr><tr><td>dfold_0_avg_mae</td><td>5.68427</td></tr><tr><td>dfold_10_avg_mae</td><td>9.16342</td></tr><tr><td>dfold_11_avg_mae</td><td>5.88326</td></tr><tr><td>dfold_12_avg_mae</td><td>8.50708</td></tr><tr><td>dfold_13_avg_mae</td><td>8.3773</td></tr><tr><td>dfold_14_avg_mae</td><td>5.34868</td></tr><tr><td>dfold_1_avg_mae</td><td>8.22734</td></tr><tr><td>dfold_2_avg_mae</td><td>4.70357</td></tr><tr><td>dfold_3_avg_mae</td><td>7.05268</td></tr><tr><td>dfold_4_avg_mae</td><td>6.21611</td></tr><tr><td>dfold_5_avg_mae</td><td>6.32665</td></tr><tr><td>dfold_6_avg_mae</td><td>10.35709</td></tr><tr><td>dfold_7_avg_mae</td><td>7.53184</td></tr><tr><td>dfold_8_avg_mae</td><td>7.30849</td></tr><tr><td>dfold_9_avg_mae</td><td>11.50669</td></tr></table><br/></div></div>"
      ],
      "text/plain": [
       "<IPython.core.display.HTML object>"
      ]
     },
     "metadata": {},
     "output_type": "display_data"
    },
    {
     "data": {
      "text/html": [
       "Synced <strong style=\"color:#cdcd00\">glad-sun-2</strong>: <a href=\"https://wandb.ai/synthesis-ai/55_best_checkpoint_model_all_real_data_folds_equalized/runs/3s9xa167\" target=\"_blank\">https://wandb.ai/synthesis-ai/55_best_checkpoint_model_all_real_data_folds_equalized/runs/3s9xa167</a><br/>Synced 5 W&B file(s), 0 media file(s), 0 artifact file(s) and 0 other file(s)"
      ],
      "text/plain": [
       "<IPython.core.display.HTML object>"
      ]
     },
     "metadata": {},
     "output_type": "display_data"
    },
    {
     "data": {
      "text/html": [
       "Find logs at: <code>./wandb/run-20220629_230328-3s9xa167/logs</code>"
      ],
      "text/plain": [
       "<IPython.core.display.HTML object>"
      ]
     },
     "metadata": {},
     "output_type": "display_data"
    },
    {
     "data": {
      "text/html": [
       "Successfully finished last run (ID:3s9xa167). Initializing new run:<br/>"
      ],
      "text/plain": [
       "<IPython.core.display.HTML object>"
      ]
     },
     "metadata": {},
     "output_type": "display_data"
    },
    {
     "data": {
      "text/html": [
       "wandb version 0.12.20 is available!  To upgrade, please run:\n",
       " $ pip install wandb --upgrade"
      ],
      "text/plain": [
       "<IPython.core.display.HTML object>"
      ]
     },
     "metadata": {},
     "output_type": "display_data"
    },
    {
     "data": {
      "text/html": [
       "Tracking run with wandb version 0.12.15"
      ],
      "text/plain": [
       "<IPython.core.display.HTML object>"
      ]
     },
     "metadata": {},
     "output_type": "display_data"
    },
    {
     "data": {
      "text/html": [
       "Run data is saved locally in <code>/project/notebooks/wandb/run-20220629_230659-20gbd1hc</code>"
      ],
      "text/plain": [
       "<IPython.core.display.HTML object>"
      ]
     },
     "metadata": {},
     "output_type": "display_data"
    },
    {
     "data": {
      "text/html": [
       "Syncing run <strong><a href=\"https://wandb.ai/synthesis-ai/55_best_checkpoint_model_all_real_data_folds_equalized/runs/20gbd1hc\" target=\"_blank\">fragrant-thunder-3</a></strong> to <a href=\"https://wandb.ai/synthesis-ai/55_best_checkpoint_model_all_real_data_folds_equalized\" target=\"_blank\">Weights & Biases</a> (<a href=\"https://wandb.me/run\" target=\"_blank\">docs</a>)<br/>"
      ],
      "text/plain": [
       "<IPython.core.display.HTML object>"
      ]
     },
     "metadata": {},
     "output_type": "display_data"
    },
    {
     "name": "stdout",
     "output_type": "stream",
     "text": [
      "cfold=fold01\n",
      "0 items removed from dataset that have an angle > 180\n",
      "\n",
      "test configuration: gpu_id=cuda:0, batch_size=20\n",
      "model_arch=ResNet50 Start testing dataset=mpiigaze\n",
      "cFOLD=1 dFOLD=0--06/29/2022 16:07:08----\n",
      "[cfold1---dfold 0] Total Num:3000, MAE:6.854609514261331  06/29/2022 16:07:21\n",
      "0 items removed from dataset that have an angle > 180\n",
      "\n",
      "test configuration: gpu_id=cuda:0, batch_size=20\n",
      "model_arch=ResNet50 Start testing dataset=mpiigaze\n",
      "cFOLD=1 dFOLD=1--06/29/2022 16:07:21----\n",
      "[cfold1---dfold 1] Total Num:3000, MAE:8.679644218269296  06/29/2022 16:07:34\n",
      "0 items removed from dataset that have an angle > 180\n",
      "\n",
      "test configuration: gpu_id=cuda:0, batch_size=20\n",
      "model_arch=ResNet50 Start testing dataset=mpiigaze\n",
      "cFOLD=1 dFOLD=2--06/29/2022 16:07:34----\n",
      "[cfold1---dfold 2] Total Num:3000, MAE:5.6030778999843776  06/29/2022 16:07:47\n",
      "0 items removed from dataset that have an angle > 180\n",
      "\n",
      "test configuration: gpu_id=cuda:0, batch_size=20\n",
      "model_arch=ResNet50 Start testing dataset=mpiigaze\n",
      "cFOLD=1 dFOLD=3--06/29/2022 16:07:47----\n",
      "[cfold1---dfold 3] Total Num:3000, MAE:8.253986747757375  06/29/2022 16:08:00\n",
      "0 items removed from dataset that have an angle > 180\n",
      "\n",
      "test configuration: gpu_id=cuda:0, batch_size=20\n",
      "model_arch=ResNet50 Start testing dataset=mpiigaze\n",
      "cFOLD=1 dFOLD=4--06/29/2022 16:08:00----\n",
      "[cfold1---dfold 4] Total Num:3000, MAE:6.489928389519238  06/29/2022 16:08:13\n",
      "0 items removed from dataset that have an angle > 180\n",
      "\n",
      "test configuration: gpu_id=cuda:0, batch_size=20\n",
      "model_arch=ResNet50 Start testing dataset=mpiigaze\n",
      "cFOLD=1 dFOLD=5--06/29/2022 16:08:13----\n",
      "[cfold1---dfold 5] Total Num:3000, MAE:6.519774376888071  06/29/2022 16:08:26\n",
      "0 items removed from dataset that have an angle > 180\n",
      "\n",
      "test configuration: gpu_id=cuda:0, batch_size=20\n",
      "model_arch=ResNet50 Start testing dataset=mpiigaze\n",
      "cFOLD=1 dFOLD=6--06/29/2022 16:08:26----\n",
      "[cfold1---dfold 6] Total Num:3000, MAE:10.681294090552282  06/29/2022 16:08:39\n",
      "0 items removed from dataset that have an angle > 180\n",
      "\n",
      "test configuration: gpu_id=cuda:0, batch_size=20\n",
      "model_arch=ResNet50 Start testing dataset=mpiigaze\n",
      "cFOLD=1 dFOLD=7--06/29/2022 16:08:39----\n",
      "[cfold1---dfold 7] Total Num:3000, MAE:8.341665827420726  06/29/2022 16:08:52\n",
      "0 items removed from dataset that have an angle > 180\n",
      "\n",
      "test configuration: gpu_id=cuda:0, batch_size=20\n",
      "model_arch=ResNet50 Start testing dataset=mpiigaze\n",
      "cFOLD=1 dFOLD=8--06/29/2022 16:08:52----\n",
      "[cfold1---dfold 8] Total Num:3000, MAE:7.039996115060408  06/29/2022 16:09:05\n",
      "0 items removed from dataset that have an angle > 180\n",
      "\n",
      "test configuration: gpu_id=cuda:0, batch_size=20\n",
      "model_arch=ResNet50 Start testing dataset=mpiigaze\n",
      "cFOLD=1 dFOLD=9--06/29/2022 16:09:05----\n",
      "[cfold1---dfold 9] Total Num:3000, MAE:11.17064668806458  06/29/2022 16:09:19\n",
      "0 items removed from dataset that have an angle > 180\n",
      "\n",
      "test configuration: gpu_id=cuda:0, batch_size=20\n",
      "model_arch=ResNet50 Start testing dataset=mpiigaze\n",
      "cFOLD=1 dFOLD=10--06/29/2022 16:09:19----\n",
      "[cfold1---dfold 10] Total Num:3000, MAE:11.113252449859516  06/29/2022 16:09:32\n",
      "0 items removed from dataset that have an angle > 180\n",
      "\n",
      "test configuration: gpu_id=cuda:0, batch_size=20\n",
      "model_arch=ResNet50 Start testing dataset=mpiigaze\n",
      "cFOLD=1 dFOLD=11--06/29/2022 16:09:32----\n",
      "[cfold1---dfold 11] Total Num:3000, MAE:6.142515325809214  06/29/2022 16:09:45\n",
      "0 items removed from dataset that have an angle > 180\n",
      "\n",
      "test configuration: gpu_id=cuda:0, batch_size=20\n",
      "model_arch=ResNet50 Start testing dataset=mpiigaze\n",
      "cFOLD=1 dFOLD=12--06/29/2022 16:09:45----\n",
      "[cfold1---dfold 12] Total Num:3000, MAE:8.785829749992189  06/29/2022 16:09:58\n",
      "0 items removed from dataset that have an angle > 180\n",
      "\n",
      "test configuration: gpu_id=cuda:0, batch_size=20\n",
      "model_arch=ResNet50 Start testing dataset=mpiigaze\n",
      "cFOLD=1 dFOLD=13--06/29/2022 16:09:58----\n",
      "[cfold1---dfold 13] Total Num:3000, MAE:8.747976226518261  06/29/2022 16:10:11\n",
      "0 items removed from dataset that have an angle > 180\n",
      "\n",
      "test configuration: gpu_id=cuda:0, batch_size=20\n",
      "model_arch=ResNet50 Start testing dataset=mpiigaze\n",
      "cFOLD=1 dFOLD=14--06/29/2022 16:10:11----\n",
      "[cfold1---dfold 14] Total Num:3000, MAE:5.792680854408976  06/29/2022 16:10:24\n",
      "[cfold1--] MAE for this fold best model:8.014458564957723  06/29/2022 16:10:24\n"
     ]
    },
    {
     "data": {
      "text/html": [
       "Finishing last run (ID:20gbd1hc) before initializing another..."
      ],
      "text/plain": [
       "<IPython.core.display.HTML object>"
      ]
     },
     "metadata": {},
     "output_type": "display_data"
    },
    {
     "data": {
      "text/html": [
       "Waiting for W&B process to finish... <strong style=\"color:green\">(success).</strong>"
      ],
      "text/plain": [
       "<IPython.core.display.HTML object>"
      ]
     },
     "metadata": {},
     "output_type": "display_data"
    },
    {
     "data": {
      "application/vnd.jupyter.widget-view+json": {
       "model_id": "",
       "version_major": 2,
       "version_minor": 0
      },
      "text/plain": [
       "VBox(children=(Label(value='0.001 MB of 0.001 MB uploaded (0.000 MB deduped)\\r'), FloatProgress(value=1.0, max…"
      ]
     },
     "metadata": {},
     "output_type": "display_data"
    },
    {
     "data": {
      "text/html": [
       "<style>\n",
       "    table.wandb td:nth-child(1) { padding: 0 10px; text-align: right }\n",
       "    .wandb-row { display: flex; flex-direction: row; flex-wrap: wrap; width: 100% }\n",
       "    .wandb-col { display: flex; flex-direction: column; flex-basis: 100%; flex: 1; padding: 10px; }\n",
       "    </style>\n",
       "<div class=\"wandb-row\"><div class=\"wandb-col\"><h3>Run history:</h3><br/><table class=\"wandb\"><tr><td>data fold</td><td>▁▁▂▃▃▃▄▅▅▅▆▇▇▇█</td></tr><tr><td>dfold_0_avg_mae</td><td>▁</td></tr><tr><td>dfold_10_avg_mae</td><td>▁</td></tr><tr><td>dfold_11_avg_mae</td><td>▁</td></tr><tr><td>dfold_12_avg_mae</td><td>▁</td></tr><tr><td>dfold_13_avg_mae</td><td>▁</td></tr><tr><td>dfold_14_avg_mae</td><td>▁</td></tr><tr><td>dfold_1_avg_mae</td><td>▁</td></tr><tr><td>dfold_2_avg_mae</td><td>▁</td></tr><tr><td>dfold_3_avg_mae</td><td>▁</td></tr><tr><td>dfold_4_avg_mae</td><td>▁</td></tr><tr><td>dfold_5_avg_mae</td><td>▁</td></tr><tr><td>dfold_6_avg_mae</td><td>▁</td></tr><tr><td>dfold_7_avg_mae</td><td>▁</td></tr><tr><td>dfold_8_avg_mae</td><td>▁</td></tr><tr><td>dfold_9_avg_mae</td><td>▁</td></tr></table><br/></div><div class=\"wandb-col\"><h3>Run summary:</h3><br/><table class=\"wandb\"><tr><td>data fold</td><td>14</td></tr><tr><td>dfold_0_avg_mae</td><td>6.85461</td></tr><tr><td>dfold_10_avg_mae</td><td>11.11325</td></tr><tr><td>dfold_11_avg_mae</td><td>6.14252</td></tr><tr><td>dfold_12_avg_mae</td><td>8.78583</td></tr><tr><td>dfold_13_avg_mae</td><td>8.74798</td></tr><tr><td>dfold_14_avg_mae</td><td>5.79268</td></tr><tr><td>dfold_1_avg_mae</td><td>8.67964</td></tr><tr><td>dfold_2_avg_mae</td><td>5.60308</td></tr><tr><td>dfold_3_avg_mae</td><td>8.25399</td></tr><tr><td>dfold_4_avg_mae</td><td>6.48993</td></tr><tr><td>dfold_5_avg_mae</td><td>6.51977</td></tr><tr><td>dfold_6_avg_mae</td><td>10.68129</td></tr><tr><td>dfold_7_avg_mae</td><td>8.34167</td></tr><tr><td>dfold_8_avg_mae</td><td>7.04</td></tr><tr><td>dfold_9_avg_mae</td><td>11.17065</td></tr></table><br/></div></div>"
      ],
      "text/plain": [
       "<IPython.core.display.HTML object>"
      ]
     },
     "metadata": {},
     "output_type": "display_data"
    },
    {
     "data": {
      "text/html": [
       "Synced <strong style=\"color:#cdcd00\">fragrant-thunder-3</strong>: <a href=\"https://wandb.ai/synthesis-ai/55_best_checkpoint_model_all_real_data_folds_equalized/runs/20gbd1hc\" target=\"_blank\">https://wandb.ai/synthesis-ai/55_best_checkpoint_model_all_real_data_folds_equalized/runs/20gbd1hc</a><br/>Synced 5 W&B file(s), 0 media file(s), 0 artifact file(s) and 0 other file(s)"
      ],
      "text/plain": [
       "<IPython.core.display.HTML object>"
      ]
     },
     "metadata": {},
     "output_type": "display_data"
    },
    {
     "data": {
      "text/html": [
       "Find logs at: <code>./wandb/run-20220629_230659-20gbd1hc/logs</code>"
      ],
      "text/plain": [
       "<IPython.core.display.HTML object>"
      ]
     },
     "metadata": {},
     "output_type": "display_data"
    },
    {
     "data": {
      "text/html": [
       "Successfully finished last run (ID:20gbd1hc). Initializing new run:<br/>"
      ],
      "text/plain": [
       "<IPython.core.display.HTML object>"
      ]
     },
     "metadata": {},
     "output_type": "display_data"
    },
    {
     "data": {
      "text/html": [
       "wandb version 0.12.20 is available!  To upgrade, please run:\n",
       " $ pip install wandb --upgrade"
      ],
      "text/plain": [
       "<IPython.core.display.HTML object>"
      ]
     },
     "metadata": {},
     "output_type": "display_data"
    },
    {
     "data": {
      "text/html": [
       "Tracking run with wandb version 0.12.15"
      ],
      "text/plain": [
       "<IPython.core.display.HTML object>"
      ]
     },
     "metadata": {},
     "output_type": "display_data"
    },
    {
     "data": {
      "text/html": [
       "Run data is saved locally in <code>/project/notebooks/wandb/run-20220629_231024-27nf8cxz</code>"
      ],
      "text/plain": [
       "<IPython.core.display.HTML object>"
      ]
     },
     "metadata": {},
     "output_type": "display_data"
    },
    {
     "data": {
      "text/html": [
       "Syncing run <strong><a href=\"https://wandb.ai/synthesis-ai/55_best_checkpoint_model_all_real_data_folds_equalized/runs/27nf8cxz\" target=\"_blank\">charmed-breeze-4</a></strong> to <a href=\"https://wandb.ai/synthesis-ai/55_best_checkpoint_model_all_real_data_folds_equalized\" target=\"_blank\">Weights & Biases</a> (<a href=\"https://wandb.me/run\" target=\"_blank\">docs</a>)<br/>"
      ],
      "text/plain": [
       "<IPython.core.display.HTML object>"
      ]
     },
     "metadata": {},
     "output_type": "display_data"
    },
    {
     "name": "stdout",
     "output_type": "stream",
     "text": [
      "cfold=fold02\n",
      "0 items removed from dataset that have an angle > 180\n",
      "\n",
      "test configuration: gpu_id=cuda:0, batch_size=20\n",
      "model_arch=ResNet50 Start testing dataset=mpiigaze\n",
      "cFOLD=2 dFOLD=0--06/29/2022 16:10:34----\n",
      "[cfold2---dfold 0] Total Num:3000, MAE:4.649414874989085  06/29/2022 16:10:47\n",
      "0 items removed from dataset that have an angle > 180\n",
      "\n",
      "test configuration: gpu_id=cuda:0, batch_size=20\n",
      "model_arch=ResNet50 Start testing dataset=mpiigaze\n",
      "cFOLD=2 dFOLD=1--06/29/2022 16:10:47----\n",
      "[cfold2---dfold 1] Total Num:3000, MAE:11.531196171623039  06/29/2022 16:11:00\n",
      "0 items removed from dataset that have an angle > 180\n",
      "\n",
      "test configuration: gpu_id=cuda:0, batch_size=20\n",
      "model_arch=ResNet50 Start testing dataset=mpiigaze\n",
      "cFOLD=2 dFOLD=2--06/29/2022 16:11:00----\n",
      "[cfold2---dfold 2] Total Num:3000, MAE:5.27261567563628  06/29/2022 16:11:13\n",
      "0 items removed from dataset that have an angle > 180\n",
      "\n",
      "test configuration: gpu_id=cuda:0, batch_size=20\n",
      "model_arch=ResNet50 Start testing dataset=mpiigaze\n",
      "cFOLD=2 dFOLD=3--06/29/2022 16:11:13----\n",
      "[cfold2---dfold 3] Total Num:3000, MAE:5.874651392713394  06/29/2022 16:11:26\n",
      "0 items removed from dataset that have an angle > 180\n",
      "\n",
      "test configuration: gpu_id=cuda:0, batch_size=20\n",
      "model_arch=ResNet50 Start testing dataset=mpiigaze\n",
      "cFOLD=2 dFOLD=4--06/29/2022 16:11:26----\n",
      "[cfold2---dfold 4] Total Num:3000, MAE:5.763291092630409  06/29/2022 16:11:39\n",
      "0 items removed from dataset that have an angle > 180\n",
      "\n",
      "test configuration: gpu_id=cuda:0, batch_size=20\n",
      "model_arch=ResNet50 Start testing dataset=mpiigaze\n",
      "cFOLD=2 dFOLD=5--06/29/2022 16:11:40----\n",
      "[cfold2---dfold 5] Total Num:3000, MAE:6.341893293781332  06/29/2022 16:11:53\n",
      "0 items removed from dataset that have an angle > 180\n",
      "\n",
      "test configuration: gpu_id=cuda:0, batch_size=20\n",
      "model_arch=ResNet50 Start testing dataset=mpiigaze\n",
      "cFOLD=2 dFOLD=6--06/29/2022 16:11:53----\n",
      "[cfold2---dfold 6] Total Num:3000, MAE:10.435169281634252  06/29/2022 16:12:06\n",
      "0 items removed from dataset that have an angle > 180\n",
      "\n",
      "test configuration: gpu_id=cuda:0, batch_size=20\n",
      "model_arch=ResNet50 Start testing dataset=mpiigaze\n",
      "cFOLD=2 dFOLD=7--06/29/2022 16:12:06----\n",
      "[cfold2---dfold 7] Total Num:3000, MAE:7.580717961605356  06/29/2022 16:12:19\n",
      "0 items removed from dataset that have an angle > 180\n",
      "\n",
      "test configuration: gpu_id=cuda:0, batch_size=20\n",
      "model_arch=ResNet50 Start testing dataset=mpiigaze\n",
      "cFOLD=2 dFOLD=8--06/29/2022 16:12:19----\n",
      "[cfold2---dfold 8] Total Num:3000, MAE:7.122993475797162  06/29/2022 16:12:32\n",
      "0 items removed from dataset that have an angle > 180\n",
      "\n",
      "test configuration: gpu_id=cuda:0, batch_size=20\n",
      "model_arch=ResNet50 Start testing dataset=mpiigaze\n",
      "cFOLD=2 dFOLD=9--06/29/2022 16:12:32----\n",
      "[cfold2---dfold 9] Total Num:3000, MAE:10.917723203379023  06/29/2022 16:12:45\n",
      "0 items removed from dataset that have an angle > 180\n",
      "\n",
      "test configuration: gpu_id=cuda:0, batch_size=20\n",
      "model_arch=ResNet50 Start testing dataset=mpiigaze\n",
      "cFOLD=2 dFOLD=10--06/29/2022 16:12:45----\n",
      "[cfold2---dfold 10] Total Num:3000, MAE:10.099420974700022  06/29/2022 16:12:58\n",
      "0 items removed from dataset that have an angle > 180\n",
      "\n",
      "test configuration: gpu_id=cuda:0, batch_size=20\n",
      "model_arch=ResNet50 Start testing dataset=mpiigaze\n",
      "cFOLD=2 dFOLD=11--06/29/2022 16:12:58----\n",
      "[cfold2---dfold 11] Total Num:3000, MAE:5.688031669734487  06/29/2022 16:13:10\n",
      "0 items removed from dataset that have an angle > 180\n",
      "\n",
      "test configuration: gpu_id=cuda:0, batch_size=20\n",
      "model_arch=ResNet50 Start testing dataset=mpiigaze\n",
      "cFOLD=2 dFOLD=12--06/29/2022 16:13:10----\n",
      "[cfold2---dfold 12] Total Num:3000, MAE:8.146234257103336  06/29/2022 16:13:23\n",
      "0 items removed from dataset that have an angle > 180\n",
      "\n",
      "test configuration: gpu_id=cuda:0, batch_size=20\n",
      "model_arch=ResNet50 Start testing dataset=mpiigaze\n",
      "cFOLD=2 dFOLD=13--06/29/2022 16:13:23----\n",
      "[cfold2---dfold 13] Total Num:3000, MAE:7.230492544015492  06/29/2022 16:13:36\n",
      "0 items removed from dataset that have an angle > 180\n",
      "\n",
      "test configuration: gpu_id=cuda:0, batch_size=20\n",
      "model_arch=ResNet50 Start testing dataset=mpiigaze\n",
      "cFOLD=2 dFOLD=14--06/29/2022 16:13:37----\n",
      "[cfold2---dfold 14] Total Num:3000, MAE:5.8722023049824905  06/29/2022 16:13:50\n",
      "[cfold2--] MAE for this fold best model:7.50173654495501  06/29/2022 16:13:50\n"
     ]
    },
    {
     "data": {
      "text/html": [
       "Finishing last run (ID:27nf8cxz) before initializing another..."
      ],
      "text/plain": [
       "<IPython.core.display.HTML object>"
      ]
     },
     "metadata": {},
     "output_type": "display_data"
    },
    {
     "data": {
      "text/html": [
       "Waiting for W&B process to finish... <strong style=\"color:green\">(success).</strong>"
      ],
      "text/plain": [
       "<IPython.core.display.HTML object>"
      ]
     },
     "metadata": {},
     "output_type": "display_data"
    },
    {
     "data": {
      "application/vnd.jupyter.widget-view+json": {
       "model_id": "",
       "version_major": 2,
       "version_minor": 0
      },
      "text/plain": [
       "VBox(children=(Label(value='0.001 MB of 0.001 MB uploaded (0.000 MB deduped)\\r'), FloatProgress(value=1.0, max…"
      ]
     },
     "metadata": {},
     "output_type": "display_data"
    },
    {
     "data": {
      "text/html": [
       "<style>\n",
       "    table.wandb td:nth-child(1) { padding: 0 10px; text-align: right }\n",
       "    .wandb-row { display: flex; flex-direction: row; flex-wrap: wrap; width: 100% }\n",
       "    .wandb-col { display: flex; flex-direction: column; flex-basis: 100%; flex: 1; padding: 10px; }\n",
       "    </style>\n",
       "<div class=\"wandb-row\"><div class=\"wandb-col\"><h3>Run history:</h3><br/><table class=\"wandb\"><tr><td>data fold</td><td>▁▁▂▃▃▃▄▅▅▅▆▇▇▇█</td></tr><tr><td>dfold_0_avg_mae</td><td>▁</td></tr><tr><td>dfold_10_avg_mae</td><td>▁</td></tr><tr><td>dfold_11_avg_mae</td><td>▁</td></tr><tr><td>dfold_12_avg_mae</td><td>▁</td></tr><tr><td>dfold_13_avg_mae</td><td>▁</td></tr><tr><td>dfold_14_avg_mae</td><td>▁</td></tr><tr><td>dfold_1_avg_mae</td><td>▁</td></tr><tr><td>dfold_2_avg_mae</td><td>▁</td></tr><tr><td>dfold_3_avg_mae</td><td>▁</td></tr><tr><td>dfold_4_avg_mae</td><td>▁</td></tr><tr><td>dfold_5_avg_mae</td><td>▁</td></tr><tr><td>dfold_6_avg_mae</td><td>▁</td></tr><tr><td>dfold_7_avg_mae</td><td>▁</td></tr><tr><td>dfold_8_avg_mae</td><td>▁</td></tr><tr><td>dfold_9_avg_mae</td><td>▁</td></tr></table><br/></div><div class=\"wandb-col\"><h3>Run summary:</h3><br/><table class=\"wandb\"><tr><td>data fold</td><td>14</td></tr><tr><td>dfold_0_avg_mae</td><td>4.64941</td></tr><tr><td>dfold_10_avg_mae</td><td>10.09942</td></tr><tr><td>dfold_11_avg_mae</td><td>5.68803</td></tr><tr><td>dfold_12_avg_mae</td><td>8.14623</td></tr><tr><td>dfold_13_avg_mae</td><td>7.23049</td></tr><tr><td>dfold_14_avg_mae</td><td>5.8722</td></tr><tr><td>dfold_1_avg_mae</td><td>11.5312</td></tr><tr><td>dfold_2_avg_mae</td><td>5.27262</td></tr><tr><td>dfold_3_avg_mae</td><td>5.87465</td></tr><tr><td>dfold_4_avg_mae</td><td>5.76329</td></tr><tr><td>dfold_5_avg_mae</td><td>6.34189</td></tr><tr><td>dfold_6_avg_mae</td><td>10.43517</td></tr><tr><td>dfold_7_avg_mae</td><td>7.58072</td></tr><tr><td>dfold_8_avg_mae</td><td>7.12299</td></tr><tr><td>dfold_9_avg_mae</td><td>10.91772</td></tr></table><br/></div></div>"
      ],
      "text/plain": [
       "<IPython.core.display.HTML object>"
      ]
     },
     "metadata": {},
     "output_type": "display_data"
    },
    {
     "data": {
      "text/html": [
       "Synced <strong style=\"color:#cdcd00\">charmed-breeze-4</strong>: <a href=\"https://wandb.ai/synthesis-ai/55_best_checkpoint_model_all_real_data_folds_equalized/runs/27nf8cxz\" target=\"_blank\">https://wandb.ai/synthesis-ai/55_best_checkpoint_model_all_real_data_folds_equalized/runs/27nf8cxz</a><br/>Synced 5 W&B file(s), 0 media file(s), 0 artifact file(s) and 0 other file(s)"
      ],
      "text/plain": [
       "<IPython.core.display.HTML object>"
      ]
     },
     "metadata": {},
     "output_type": "display_data"
    },
    {
     "data": {
      "text/html": [
       "Find logs at: <code>./wandb/run-20220629_231024-27nf8cxz/logs</code>"
      ],
      "text/plain": [
       "<IPython.core.display.HTML object>"
      ]
     },
     "metadata": {},
     "output_type": "display_data"
    },
    {
     "data": {
      "text/html": [
       "Successfully finished last run (ID:27nf8cxz). Initializing new run:<br/>"
      ],
      "text/plain": [
       "<IPython.core.display.HTML object>"
      ]
     },
     "metadata": {},
     "output_type": "display_data"
    },
    {
     "data": {
      "text/html": [
       "wandb version 0.12.20 is available!  To upgrade, please run:\n",
       " $ pip install wandb --upgrade"
      ],
      "text/plain": [
       "<IPython.core.display.HTML object>"
      ]
     },
     "metadata": {},
     "output_type": "display_data"
    },
    {
     "data": {
      "text/html": [
       "Tracking run with wandb version 0.12.15"
      ],
      "text/plain": [
       "<IPython.core.display.HTML object>"
      ]
     },
     "metadata": {},
     "output_type": "display_data"
    },
    {
     "data": {
      "text/html": [
       "Run data is saved locally in <code>/project/notebooks/wandb/run-20220629_231350-2zfskx07</code>"
      ],
      "text/plain": [
       "<IPython.core.display.HTML object>"
      ]
     },
     "metadata": {},
     "output_type": "display_data"
    },
    {
     "data": {
      "text/html": [
       "Syncing run <strong><a href=\"https://wandb.ai/synthesis-ai/55_best_checkpoint_model_all_real_data_folds_equalized/runs/2zfskx07\" target=\"_blank\">fast-tree-5</a></strong> to <a href=\"https://wandb.ai/synthesis-ai/55_best_checkpoint_model_all_real_data_folds_equalized\" target=\"_blank\">Weights & Biases</a> (<a href=\"https://wandb.me/run\" target=\"_blank\">docs</a>)<br/>"
      ],
      "text/plain": [
       "<IPython.core.display.HTML object>"
      ]
     },
     "metadata": {},
     "output_type": "display_data"
    },
    {
     "name": "stdout",
     "output_type": "stream",
     "text": [
      "cfold=fold03\n",
      "0 items removed from dataset that have an angle > 180\n",
      "\n",
      "test configuration: gpu_id=cuda:0, batch_size=20\n",
      "model_arch=ResNet50 Start testing dataset=mpiigaze\n",
      "cFOLD=3 dFOLD=0--06/29/2022 16:13:58----\n",
      "[cfold3---dfold 0] Total Num:3000, MAE:6.85517450363529  06/29/2022 16:14:11\n",
      "0 items removed from dataset that have an angle > 180\n",
      "\n",
      "test configuration: gpu_id=cuda:0, batch_size=20\n",
      "model_arch=ResNet50 Start testing dataset=mpiigaze\n",
      "cFOLD=3 dFOLD=1--06/29/2022 16:14:11----\n",
      "[cfold3---dfold 1] Total Num:3000, MAE:9.55253857614994  06/29/2022 16:14:24\n",
      "0 items removed from dataset that have an angle > 180\n",
      "\n",
      "test configuration: gpu_id=cuda:0, batch_size=20\n",
      "model_arch=ResNet50 Start testing dataset=mpiigaze\n",
      "cFOLD=3 dFOLD=2--06/29/2022 16:14:24----\n",
      "[cfold3---dfold 2] Total Num:3000, MAE:5.1359538405107665  06/29/2022 16:14:37\n",
      "0 items removed from dataset that have an angle > 180\n",
      "\n",
      "test configuration: gpu_id=cuda:0, batch_size=20\n",
      "model_arch=ResNet50 Start testing dataset=mpiigaze\n",
      "cFOLD=3 dFOLD=3--06/29/2022 16:14:37----\n",
      "[cfold3---dfold 3] Total Num:3000, MAE:8.0315946289266  06/29/2022 16:14:51\n",
      "0 items removed from dataset that have an angle > 180\n",
      "\n",
      "test configuration: gpu_id=cuda:0, batch_size=20\n",
      "model_arch=ResNet50 Start testing dataset=mpiigaze\n",
      "cFOLD=3 dFOLD=4--06/29/2022 16:14:51----\n",
      "[cfold3---dfold 4] Total Num:3000, MAE:5.921107683097347  06/29/2022 16:15:04\n",
      "0 items removed from dataset that have an angle > 180\n",
      "\n",
      "test configuration: gpu_id=cuda:0, batch_size=20\n",
      "model_arch=ResNet50 Start testing dataset=mpiigaze\n",
      "cFOLD=3 dFOLD=5--06/29/2022 16:15:04----\n",
      "[cfold3---dfold 5] Total Num:3000, MAE:6.4584392442843335  06/29/2022 16:15:17\n",
      "0 items removed from dataset that have an angle > 180\n",
      "\n",
      "test configuration: gpu_id=cuda:0, batch_size=20\n",
      "model_arch=ResNet50 Start testing dataset=mpiigaze\n",
      "cFOLD=3 dFOLD=6--06/29/2022 16:15:17----\n",
      "[cfold3---dfold 6] Total Num:3000, MAE:10.795455087249957  06/29/2022 16:15:30\n",
      "0 items removed from dataset that have an angle > 180\n",
      "\n",
      "test configuration: gpu_id=cuda:0, batch_size=20\n",
      "model_arch=ResNet50 Start testing dataset=mpiigaze\n",
      "cFOLD=3 dFOLD=7--06/29/2022 16:15:30----\n",
      "[cfold3---dfold 7] Total Num:3000, MAE:8.75479861197583  06/29/2022 16:15:43\n",
      "0 items removed from dataset that have an angle > 180\n",
      "\n",
      "test configuration: gpu_id=cuda:0, batch_size=20\n",
      "model_arch=ResNet50 Start testing dataset=mpiigaze\n",
      "cFOLD=3 dFOLD=8--06/29/2022 16:15:43----\n",
      "[cfold3---dfold 8] Total Num:3000, MAE:7.550761102372617  06/29/2022 16:15:56\n",
      "0 items removed from dataset that have an angle > 180\n",
      "\n",
      "test configuration: gpu_id=cuda:0, batch_size=20\n",
      "model_arch=ResNet50 Start testing dataset=mpiigaze\n",
      "cFOLD=3 dFOLD=9--06/29/2022 16:15:56----\n",
      "[cfold3---dfold 9] Total Num:3000, MAE:9.456559230681355  06/29/2022 16:16:09\n",
      "0 items removed from dataset that have an angle > 180\n",
      "\n",
      "test configuration: gpu_id=cuda:0, batch_size=20\n",
      "model_arch=ResNet50 Start testing dataset=mpiigaze\n",
      "cFOLD=3 dFOLD=10--06/29/2022 16:16:09----\n",
      "[cfold3---dfold 10] Total Num:3000, MAE:9.635697431396729  06/29/2022 16:16:22\n",
      "0 items removed from dataset that have an angle > 180\n",
      "\n",
      "test configuration: gpu_id=cuda:0, batch_size=20\n",
      "model_arch=ResNet50 Start testing dataset=mpiigaze\n",
      "cFOLD=3 dFOLD=11--06/29/2022 16:16:22----\n",
      "[cfold3---dfold 11] Total Num:3000, MAE:6.393831888296644  06/29/2022 16:16:35\n",
      "0 items removed from dataset that have an angle > 180\n",
      "\n",
      "test configuration: gpu_id=cuda:0, batch_size=20\n",
      "model_arch=ResNet50 Start testing dataset=mpiigaze\n",
      "cFOLD=3 dFOLD=12--06/29/2022 16:16:35----\n",
      "[cfold3---dfold 12] Total Num:3000, MAE:8.943255319932232  06/29/2022 16:16:48\n",
      "0 items removed from dataset that have an angle > 180\n",
      "\n",
      "test configuration: gpu_id=cuda:0, batch_size=20\n",
      "model_arch=ResNet50 Start testing dataset=mpiigaze\n",
      "cFOLD=3 dFOLD=13--06/29/2022 16:16:48----\n",
      "[cfold3---dfold 13] Total Num:3000, MAE:9.252440799293769  06/29/2022 16:17:01\n",
      "0 items removed from dataset that have an angle > 180\n",
      "\n",
      "test configuration: gpu_id=cuda:0, batch_size=20\n",
      "model_arch=ResNet50 Start testing dataset=mpiigaze\n",
      "cFOLD=3 dFOLD=14--06/29/2022 16:17:01----\n",
      "[cfold3---dfold 14] Total Num:3000, MAE:5.944222458864586  06/29/2022 16:17:14\n",
      "[cfold3--] MAE for this fold best model:7.912122027111199  06/29/2022 16:17:14\n"
     ]
    },
    {
     "data": {
      "text/html": [
       "Finishing last run (ID:2zfskx07) before initializing another..."
      ],
      "text/plain": [
       "<IPython.core.display.HTML object>"
      ]
     },
     "metadata": {},
     "output_type": "display_data"
    },
    {
     "data": {
      "text/html": [
       "Waiting for W&B process to finish... <strong style=\"color:green\">(success).</strong>"
      ],
      "text/plain": [
       "<IPython.core.display.HTML object>"
      ]
     },
     "metadata": {},
     "output_type": "display_data"
    },
    {
     "data": {
      "application/vnd.jupyter.widget-view+json": {
       "model_id": "",
       "version_major": 2,
       "version_minor": 0
      },
      "text/plain": [
       "VBox(children=(Label(value='0.001 MB of 0.001 MB uploaded (0.000 MB deduped)\\r'), FloatProgress(value=1.0, max…"
      ]
     },
     "metadata": {},
     "output_type": "display_data"
    },
    {
     "data": {
      "text/html": [
       "<style>\n",
       "    table.wandb td:nth-child(1) { padding: 0 10px; text-align: right }\n",
       "    .wandb-row { display: flex; flex-direction: row; flex-wrap: wrap; width: 100% }\n",
       "    .wandb-col { display: flex; flex-direction: column; flex-basis: 100%; flex: 1; padding: 10px; }\n",
       "    </style>\n",
       "<div class=\"wandb-row\"><div class=\"wandb-col\"><h3>Run history:</h3><br/><table class=\"wandb\"><tr><td>data fold</td><td>▁▁▂▃▃▃▄▅▅▅▆▇▇▇█</td></tr><tr><td>dfold_0_avg_mae</td><td>▁</td></tr><tr><td>dfold_10_avg_mae</td><td>▁</td></tr><tr><td>dfold_11_avg_mae</td><td>▁</td></tr><tr><td>dfold_12_avg_mae</td><td>▁</td></tr><tr><td>dfold_13_avg_mae</td><td>▁</td></tr><tr><td>dfold_14_avg_mae</td><td>▁</td></tr><tr><td>dfold_1_avg_mae</td><td>▁</td></tr><tr><td>dfold_2_avg_mae</td><td>▁</td></tr><tr><td>dfold_3_avg_mae</td><td>▁</td></tr><tr><td>dfold_4_avg_mae</td><td>▁</td></tr><tr><td>dfold_5_avg_mae</td><td>▁</td></tr><tr><td>dfold_6_avg_mae</td><td>▁</td></tr><tr><td>dfold_7_avg_mae</td><td>▁</td></tr><tr><td>dfold_8_avg_mae</td><td>▁</td></tr><tr><td>dfold_9_avg_mae</td><td>▁</td></tr></table><br/></div><div class=\"wandb-col\"><h3>Run summary:</h3><br/><table class=\"wandb\"><tr><td>data fold</td><td>14</td></tr><tr><td>dfold_0_avg_mae</td><td>6.85517</td></tr><tr><td>dfold_10_avg_mae</td><td>9.6357</td></tr><tr><td>dfold_11_avg_mae</td><td>6.39383</td></tr><tr><td>dfold_12_avg_mae</td><td>8.94326</td></tr><tr><td>dfold_13_avg_mae</td><td>9.25244</td></tr><tr><td>dfold_14_avg_mae</td><td>5.94422</td></tr><tr><td>dfold_1_avg_mae</td><td>9.55254</td></tr><tr><td>dfold_2_avg_mae</td><td>5.13595</td></tr><tr><td>dfold_3_avg_mae</td><td>8.03159</td></tr><tr><td>dfold_4_avg_mae</td><td>5.92111</td></tr><tr><td>dfold_5_avg_mae</td><td>6.45844</td></tr><tr><td>dfold_6_avg_mae</td><td>10.79546</td></tr><tr><td>dfold_7_avg_mae</td><td>8.7548</td></tr><tr><td>dfold_8_avg_mae</td><td>7.55076</td></tr><tr><td>dfold_9_avg_mae</td><td>9.45656</td></tr></table><br/></div></div>"
      ],
      "text/plain": [
       "<IPython.core.display.HTML object>"
      ]
     },
     "metadata": {},
     "output_type": "display_data"
    },
    {
     "data": {
      "text/html": [
       "Synced <strong style=\"color:#cdcd00\">fast-tree-5</strong>: <a href=\"https://wandb.ai/synthesis-ai/55_best_checkpoint_model_all_real_data_folds_equalized/runs/2zfskx07\" target=\"_blank\">https://wandb.ai/synthesis-ai/55_best_checkpoint_model_all_real_data_folds_equalized/runs/2zfskx07</a><br/>Synced 5 W&B file(s), 0 media file(s), 0 artifact file(s) and 0 other file(s)"
      ],
      "text/plain": [
       "<IPython.core.display.HTML object>"
      ]
     },
     "metadata": {},
     "output_type": "display_data"
    },
    {
     "data": {
      "text/html": [
       "Find logs at: <code>./wandb/run-20220629_231350-2zfskx07/logs</code>"
      ],
      "text/plain": [
       "<IPython.core.display.HTML object>"
      ]
     },
     "metadata": {},
     "output_type": "display_data"
    },
    {
     "data": {
      "text/html": [
       "Successfully finished last run (ID:2zfskx07). Initializing new run:<br/>"
      ],
      "text/plain": [
       "<IPython.core.display.HTML object>"
      ]
     },
     "metadata": {},
     "output_type": "display_data"
    },
    {
     "data": {
      "text/html": [
       "wandb version 0.12.20 is available!  To upgrade, please run:\n",
       " $ pip install wandb --upgrade"
      ],
      "text/plain": [
       "<IPython.core.display.HTML object>"
      ]
     },
     "metadata": {},
     "output_type": "display_data"
    },
    {
     "data": {
      "text/html": [
       "Tracking run with wandb version 0.12.15"
      ],
      "text/plain": [
       "<IPython.core.display.HTML object>"
      ]
     },
     "metadata": {},
     "output_type": "display_data"
    },
    {
     "data": {
      "text/html": [
       "Run data is saved locally in <code>/project/notebooks/wandb/run-20220629_231714-3ot1l57s</code>"
      ],
      "text/plain": [
       "<IPython.core.display.HTML object>"
      ]
     },
     "metadata": {},
     "output_type": "display_data"
    },
    {
     "data": {
      "text/html": [
       "Syncing run <strong><a href=\"https://wandb.ai/synthesis-ai/55_best_checkpoint_model_all_real_data_folds_equalized/runs/3ot1l57s\" target=\"_blank\">summer-thunder-6</a></strong> to <a href=\"https://wandb.ai/synthesis-ai/55_best_checkpoint_model_all_real_data_folds_equalized\" target=\"_blank\">Weights & Biases</a> (<a href=\"https://wandb.me/run\" target=\"_blank\">docs</a>)<br/>"
      ],
      "text/plain": [
       "<IPython.core.display.HTML object>"
      ]
     },
     "metadata": {},
     "output_type": "display_data"
    },
    {
     "name": "stdout",
     "output_type": "stream",
     "text": [
      "cfold=fold04\n",
      "0 items removed from dataset that have an angle > 180\n",
      "\n",
      "test configuration: gpu_id=cuda:0, batch_size=20\n",
      "model_arch=ResNet50 Start testing dataset=mpiigaze\n",
      "cFOLD=4 dFOLD=0--06/29/2022 16:17:23----\n",
      "[cfold4---dfold 0] Total Num:3000, MAE:7.994938902230879  06/29/2022 16:17:36\n",
      "0 items removed from dataset that have an angle > 180\n",
      "\n",
      "test configuration: gpu_id=cuda:0, batch_size=20\n",
      "model_arch=ResNet50 Start testing dataset=mpiigaze\n",
      "cFOLD=4 dFOLD=1--06/29/2022 16:17:36----\n",
      "[cfold4---dfold 1] Total Num:3000, MAE:12.39172979491563  06/29/2022 16:17:49\n",
      "0 items removed from dataset that have an angle > 180\n",
      "\n",
      "test configuration: gpu_id=cuda:0, batch_size=20\n",
      "model_arch=ResNet50 Start testing dataset=mpiigaze\n",
      "cFOLD=4 dFOLD=2--06/29/2022 16:17:49----\n",
      "[cfold4---dfold 2] Total Num:3000, MAE:6.334374232628904  06/29/2022 16:18:02\n",
      "0 items removed from dataset that have an angle > 180\n",
      "\n",
      "test configuration: gpu_id=cuda:0, batch_size=20\n",
      "model_arch=ResNet50 Start testing dataset=mpiigaze\n",
      "cFOLD=4 dFOLD=3--06/29/2022 16:18:02----\n",
      "[cfold4---dfold 3] Total Num:3000, MAE:9.760311605358721  06/29/2022 16:18:15\n",
      "0 items removed from dataset that have an angle > 180\n",
      "\n",
      "test configuration: gpu_id=cuda:0, batch_size=20\n",
      "model_arch=ResNet50 Start testing dataset=mpiigaze\n",
      "cFOLD=4 dFOLD=4--06/29/2022 16:18:15----\n",
      "[cfold4---dfold 4] Total Num:3000, MAE:8.127000840879472  06/29/2022 16:18:28\n",
      "0 items removed from dataset that have an angle > 180\n",
      "\n",
      "test configuration: gpu_id=cuda:0, batch_size=20\n",
      "model_arch=ResNet50 Start testing dataset=mpiigaze\n",
      "cFOLD=4 dFOLD=5--06/29/2022 16:18:28----\n",
      "[cfold4---dfold 5] Total Num:3000, MAE:7.10307191415388  06/29/2022 16:18:41\n",
      "0 items removed from dataset that have an angle > 180\n",
      "\n",
      "test configuration: gpu_id=cuda:0, batch_size=20\n",
      "model_arch=ResNet50 Start testing dataset=mpiigaze\n",
      "cFOLD=4 dFOLD=6--06/29/2022 16:18:41----\n",
      "[cfold4---dfold 6] Total Num:3000, MAE:12.456769410121641  06/29/2022 16:18:54\n",
      "0 items removed from dataset that have an angle > 180\n",
      "\n",
      "test configuration: gpu_id=cuda:0, batch_size=20\n",
      "model_arch=ResNet50 Start testing dataset=mpiigaze\n",
      "cFOLD=4 dFOLD=7--06/29/2022 16:18:55----\n",
      "[cfold4---dfold 7] Total Num:3000, MAE:10.575628650420978  06/29/2022 16:19:08\n",
      "0 items removed from dataset that have an angle > 180\n",
      "\n",
      "test configuration: gpu_id=cuda:0, batch_size=20\n",
      "model_arch=ResNet50 Start testing dataset=mpiigaze\n",
      "cFOLD=4 dFOLD=8--06/29/2022 16:19:08----\n",
      "[cfold4---dfold 8] Total Num:3000, MAE:8.317156933716573  06/29/2022 16:19:21\n",
      "0 items removed from dataset that have an angle > 180\n",
      "\n",
      "test configuration: gpu_id=cuda:0, batch_size=20\n",
      "model_arch=ResNet50 Start testing dataset=mpiigaze\n",
      "cFOLD=4 dFOLD=9--06/29/2022 16:19:21----\n",
      "[cfold4---dfold 9] Total Num:3000, MAE:13.947572979617702  06/29/2022 16:19:34\n",
      "0 items removed from dataset that have an angle > 180\n",
      "\n",
      "test configuration: gpu_id=cuda:0, batch_size=20\n",
      "model_arch=ResNet50 Start testing dataset=mpiigaze\n",
      "cFOLD=4 dFOLD=10--06/29/2022 16:19:34----\n",
      "[cfold4---dfold 10] Total Num:3000, MAE:12.874204776269396  06/29/2022 16:19:47\n",
      "0 items removed from dataset that have an angle > 180\n",
      "\n",
      "test configuration: gpu_id=cuda:0, batch_size=20\n",
      "model_arch=ResNet50 Start testing dataset=mpiigaze\n",
      "cFOLD=4 dFOLD=11--06/29/2022 16:19:47----\n",
      "[cfold4---dfold 11] Total Num:3000, MAE:7.113427648035501  06/29/2022 16:20:00\n",
      "0 items removed from dataset that have an angle > 180\n",
      "\n",
      "test configuration: gpu_id=cuda:0, batch_size=20\n",
      "model_arch=ResNet50 Start testing dataset=mpiigaze\n",
      "cFOLD=4 dFOLD=12--06/29/2022 16:20:00----\n",
      "[cfold4---dfold 12] Total Num:3000, MAE:10.467406782220637  06/29/2022 16:20:13\n",
      "0 items removed from dataset that have an angle > 180\n",
      "\n",
      "test configuration: gpu_id=cuda:0, batch_size=20\n",
      "model_arch=ResNet50 Start testing dataset=mpiigaze\n",
      "cFOLD=4 dFOLD=13--06/29/2022 16:20:13----\n",
      "[cfold4---dfold 13] Total Num:3000, MAE:10.194516356310551  06/29/2022 16:20:26\n",
      "0 items removed from dataset that have an angle > 180\n",
      "\n",
      "test configuration: gpu_id=cuda:0, batch_size=20\n",
      "model_arch=ResNet50 Start testing dataset=mpiigaze\n",
      "cFOLD=4 dFOLD=14--06/29/2022 16:20:26----\n",
      "[cfold4---dfold 14] Total Num:3000, MAE:7.413285034891258  06/29/2022 16:20:39\n",
      "[cfold4--] MAE for this fold best model:9.67142639078478  06/29/2022 16:20:39\n"
     ]
    },
    {
     "data": {
      "text/html": [
       "Finishing last run (ID:3ot1l57s) before initializing another..."
      ],
      "text/plain": [
       "<IPython.core.display.HTML object>"
      ]
     },
     "metadata": {},
     "output_type": "display_data"
    },
    {
     "data": {
      "text/html": [
       "Waiting for W&B process to finish... <strong style=\"color:green\">(success).</strong>"
      ],
      "text/plain": [
       "<IPython.core.display.HTML object>"
      ]
     },
     "metadata": {},
     "output_type": "display_data"
    },
    {
     "data": {
      "application/vnd.jupyter.widget-view+json": {
       "model_id": "",
       "version_major": 2,
       "version_minor": 0
      },
      "text/plain": [
       "VBox(children=(Label(value='0.001 MB of 0.001 MB uploaded (0.000 MB deduped)\\r'), FloatProgress(value=1.0, max…"
      ]
     },
     "metadata": {},
     "output_type": "display_data"
    },
    {
     "data": {
      "text/html": [
       "<style>\n",
       "    table.wandb td:nth-child(1) { padding: 0 10px; text-align: right }\n",
       "    .wandb-row { display: flex; flex-direction: row; flex-wrap: wrap; width: 100% }\n",
       "    .wandb-col { display: flex; flex-direction: column; flex-basis: 100%; flex: 1; padding: 10px; }\n",
       "    </style>\n",
       "<div class=\"wandb-row\"><div class=\"wandb-col\"><h3>Run history:</h3><br/><table class=\"wandb\"><tr><td>data fold</td><td>▁▁▂▃▃▃▄▅▅▅▆▇▇▇█</td></tr><tr><td>dfold_0_avg_mae</td><td>▁</td></tr><tr><td>dfold_10_avg_mae</td><td>▁</td></tr><tr><td>dfold_11_avg_mae</td><td>▁</td></tr><tr><td>dfold_12_avg_mae</td><td>▁</td></tr><tr><td>dfold_13_avg_mae</td><td>▁</td></tr><tr><td>dfold_14_avg_mae</td><td>▁</td></tr><tr><td>dfold_1_avg_mae</td><td>▁</td></tr><tr><td>dfold_2_avg_mae</td><td>▁</td></tr><tr><td>dfold_3_avg_mae</td><td>▁</td></tr><tr><td>dfold_4_avg_mae</td><td>▁</td></tr><tr><td>dfold_5_avg_mae</td><td>▁</td></tr><tr><td>dfold_6_avg_mae</td><td>▁</td></tr><tr><td>dfold_7_avg_mae</td><td>▁</td></tr><tr><td>dfold_8_avg_mae</td><td>▁</td></tr><tr><td>dfold_9_avg_mae</td><td>▁</td></tr></table><br/></div><div class=\"wandb-col\"><h3>Run summary:</h3><br/><table class=\"wandb\"><tr><td>data fold</td><td>14</td></tr><tr><td>dfold_0_avg_mae</td><td>7.99494</td></tr><tr><td>dfold_10_avg_mae</td><td>12.8742</td></tr><tr><td>dfold_11_avg_mae</td><td>7.11343</td></tr><tr><td>dfold_12_avg_mae</td><td>10.46741</td></tr><tr><td>dfold_13_avg_mae</td><td>10.19452</td></tr><tr><td>dfold_14_avg_mae</td><td>7.41329</td></tr><tr><td>dfold_1_avg_mae</td><td>12.39173</td></tr><tr><td>dfold_2_avg_mae</td><td>6.33437</td></tr><tr><td>dfold_3_avg_mae</td><td>9.76031</td></tr><tr><td>dfold_4_avg_mae</td><td>8.127</td></tr><tr><td>dfold_5_avg_mae</td><td>7.10307</td></tr><tr><td>dfold_6_avg_mae</td><td>12.45677</td></tr><tr><td>dfold_7_avg_mae</td><td>10.57563</td></tr><tr><td>dfold_8_avg_mae</td><td>8.31716</td></tr><tr><td>dfold_9_avg_mae</td><td>13.94757</td></tr></table><br/></div></div>"
      ],
      "text/plain": [
       "<IPython.core.display.HTML object>"
      ]
     },
     "metadata": {},
     "output_type": "display_data"
    },
    {
     "data": {
      "text/html": [
       "Synced <strong style=\"color:#cdcd00\">summer-thunder-6</strong>: <a href=\"https://wandb.ai/synthesis-ai/55_best_checkpoint_model_all_real_data_folds_equalized/runs/3ot1l57s\" target=\"_blank\">https://wandb.ai/synthesis-ai/55_best_checkpoint_model_all_real_data_folds_equalized/runs/3ot1l57s</a><br/>Synced 5 W&B file(s), 0 media file(s), 0 artifact file(s) and 0 other file(s)"
      ],
      "text/plain": [
       "<IPython.core.display.HTML object>"
      ]
     },
     "metadata": {},
     "output_type": "display_data"
    },
    {
     "data": {
      "text/html": [
       "Find logs at: <code>./wandb/run-20220629_231714-3ot1l57s/logs</code>"
      ],
      "text/plain": [
       "<IPython.core.display.HTML object>"
      ]
     },
     "metadata": {},
     "output_type": "display_data"
    },
    {
     "data": {
      "text/html": [
       "Successfully finished last run (ID:3ot1l57s). Initializing new run:<br/>"
      ],
      "text/plain": [
       "<IPython.core.display.HTML object>"
      ]
     },
     "metadata": {},
     "output_type": "display_data"
    },
    {
     "data": {
      "text/html": [
       "wandb version 0.12.20 is available!  To upgrade, please run:\n",
       " $ pip install wandb --upgrade"
      ],
      "text/plain": [
       "<IPython.core.display.HTML object>"
      ]
     },
     "metadata": {},
     "output_type": "display_data"
    },
    {
     "data": {
      "text/html": [
       "Tracking run with wandb version 0.12.15"
      ],
      "text/plain": [
       "<IPython.core.display.HTML object>"
      ]
     },
     "metadata": {},
     "output_type": "display_data"
    },
    {
     "data": {
      "text/html": [
       "Run data is saved locally in <code>/project/notebooks/wandb/run-20220629_232039-2uz3108w</code>"
      ],
      "text/plain": [
       "<IPython.core.display.HTML object>"
      ]
     },
     "metadata": {},
     "output_type": "display_data"
    },
    {
     "data": {
      "text/html": [
       "Syncing run <strong><a href=\"https://wandb.ai/synthesis-ai/55_best_checkpoint_model_all_real_data_folds_equalized/runs/2uz3108w\" target=\"_blank\">wobbly-water-7</a></strong> to <a href=\"https://wandb.ai/synthesis-ai/55_best_checkpoint_model_all_real_data_folds_equalized\" target=\"_blank\">Weights & Biases</a> (<a href=\"https://wandb.me/run\" target=\"_blank\">docs</a>)<br/>"
      ],
      "text/plain": [
       "<IPython.core.display.HTML object>"
      ]
     },
     "metadata": {},
     "output_type": "display_data"
    },
    {
     "name": "stdout",
     "output_type": "stream",
     "text": [
      "cfold=fold05\n",
      "0 items removed from dataset that have an angle > 180\n",
      "\n",
      "test configuration: gpu_id=cuda:0, batch_size=20\n",
      "model_arch=ResNet50 Start testing dataset=mpiigaze\n",
      "cFOLD=5 dFOLD=0--06/29/2022 16:20:47----\n",
      "[cfold5---dfold 0] Total Num:3000, MAE:5.597129616067948  06/29/2022 16:21:00\n",
      "0 items removed from dataset that have an angle > 180\n",
      "\n",
      "test configuration: gpu_id=cuda:0, batch_size=20\n",
      "model_arch=ResNet50 Start testing dataset=mpiigaze\n",
      "cFOLD=5 dFOLD=1--06/29/2022 16:21:00----\n",
      "[cfold5---dfold 1] Total Num:3000, MAE:16.483995188285274  06/29/2022 16:21:14\n",
      "0 items removed from dataset that have an angle > 180\n",
      "\n",
      "test configuration: gpu_id=cuda:0, batch_size=20\n",
      "model_arch=ResNet50 Start testing dataset=mpiigaze\n",
      "cFOLD=5 dFOLD=2--06/29/2022 16:21:14----\n",
      "[cfold5---dfold 2] Total Num:3000, MAE:4.74360402636162  06/29/2022 16:21:27\n",
      "0 items removed from dataset that have an angle > 180\n",
      "\n",
      "test configuration: gpu_id=cuda:0, batch_size=20\n",
      "model_arch=ResNet50 Start testing dataset=mpiigaze\n",
      "cFOLD=5 dFOLD=3--06/29/2022 16:21:27----\n",
      "[cfold5---dfold 3] Total Num:3000, MAE:6.541945039816178  06/29/2022 16:21:40\n",
      "0 items removed from dataset that have an angle > 180\n",
      "\n",
      "test configuration: gpu_id=cuda:0, batch_size=20\n",
      "model_arch=ResNet50 Start testing dataset=mpiigaze\n",
      "cFOLD=5 dFOLD=4--06/29/2022 16:21:40----\n",
      "[cfold5---dfold 4] Total Num:3000, MAE:10.727470761633073  06/29/2022 16:21:53\n",
      "0 items removed from dataset that have an angle > 180\n",
      "\n",
      "test configuration: gpu_id=cuda:0, batch_size=20\n",
      "model_arch=ResNet50 Start testing dataset=mpiigaze\n",
      "cFOLD=5 dFOLD=5--06/29/2022 16:21:53----\n",
      "[cfold5---dfold 5] Total Num:3000, MAE:6.249405524496358  06/29/2022 16:22:06\n",
      "0 items removed from dataset that have an angle > 180\n",
      "\n",
      "test configuration: gpu_id=cuda:0, batch_size=20\n",
      "model_arch=ResNet50 Start testing dataset=mpiigaze\n",
      "cFOLD=5 dFOLD=6--06/29/2022 16:22:06----\n",
      "[cfold5---dfold 6] Total Num:3000, MAE:10.1624682938329  06/29/2022 16:22:19\n",
      "0 items removed from dataset that have an angle > 180\n",
      "\n",
      "test configuration: gpu_id=cuda:0, batch_size=20\n",
      "model_arch=ResNet50 Start testing dataset=mpiigaze\n",
      "cFOLD=5 dFOLD=7--06/29/2022 16:22:19----\n",
      "[cfold5---dfold 7] Total Num:3000, MAE:9.142533413659578  06/29/2022 16:22:32\n",
      "0 items removed from dataset that have an angle > 180\n",
      "\n",
      "test configuration: gpu_id=cuda:0, batch_size=20\n",
      "model_arch=ResNet50 Start testing dataset=mpiigaze\n",
      "cFOLD=5 dFOLD=8--06/29/2022 16:22:32----\n",
      "[cfold5---dfold 8] Total Num:3000, MAE:7.823437255540105  06/29/2022 16:22:45\n",
      "0 items removed from dataset that have an angle > 180\n",
      "\n",
      "test configuration: gpu_id=cuda:0, batch_size=20\n",
      "model_arch=ResNet50 Start testing dataset=mpiigaze\n",
      "cFOLD=5 dFOLD=9--06/29/2022 16:22:45----\n",
      "[cfold5---dfold 9] Total Num:3000, MAE:13.794190798478978  06/29/2022 16:22:58\n",
      "0 items removed from dataset that have an angle > 180\n",
      "\n",
      "test configuration: gpu_id=cuda:0, batch_size=20\n",
      "model_arch=ResNet50 Start testing dataset=mpiigaze\n",
      "cFOLD=5 dFOLD=10--06/29/2022 16:22:58----\n",
      "[cfold5---dfold 10] Total Num:3000, MAE:10.231525501904532  06/29/2022 16:23:11\n",
      "0 items removed from dataset that have an angle > 180\n",
      "\n",
      "test configuration: gpu_id=cuda:0, batch_size=20\n",
      "model_arch=ResNet50 Start testing dataset=mpiigaze\n",
      "cFOLD=5 dFOLD=11--06/29/2022 16:23:11----\n",
      "[cfold5---dfold 11] Total Num:3000, MAE:7.117894677751829  06/29/2022 16:23:24\n",
      "0 items removed from dataset that have an angle > 180\n",
      "\n",
      "test configuration: gpu_id=cuda:0, batch_size=20\n",
      "model_arch=ResNet50 Start testing dataset=mpiigaze\n",
      "cFOLD=5 dFOLD=12--06/29/2022 16:23:24----\n",
      "[cfold5---dfold 12] Total Num:3000, MAE:9.781712156802365  06/29/2022 16:23:37\n",
      "0 items removed from dataset that have an angle > 180\n",
      "\n",
      "test configuration: gpu_id=cuda:0, batch_size=20\n",
      "model_arch=ResNet50 Start testing dataset=mpiigaze\n",
      "cFOLD=5 dFOLD=13--06/29/2022 16:23:37----\n",
      "[cfold5---dfold 13] Total Num:3000, MAE:9.78666295912298  06/29/2022 16:23:50\n",
      "0 items removed from dataset that have an angle > 180\n",
      "\n",
      "test configuration: gpu_id=cuda:0, batch_size=20\n",
      "model_arch=ResNet50 Start testing dataset=mpiigaze\n",
      "cFOLD=5 dFOLD=14--06/29/2022 16:23:50----\n",
      "[cfold5---dfold 14] Total Num:3000, MAE:4.992496629986688  06/29/2022 16:24:03\n",
      "[cfold5--] MAE for this fold best model:8.87843145624936  06/29/2022 16:24:03\n"
     ]
    },
    {
     "data": {
      "text/html": [
       "Finishing last run (ID:2uz3108w) before initializing another..."
      ],
      "text/plain": [
       "<IPython.core.display.HTML object>"
      ]
     },
     "metadata": {},
     "output_type": "display_data"
    },
    {
     "data": {
      "text/html": [
       "Waiting for W&B process to finish... <strong style=\"color:green\">(success).</strong>"
      ],
      "text/plain": [
       "<IPython.core.display.HTML object>"
      ]
     },
     "metadata": {},
     "output_type": "display_data"
    },
    {
     "data": {
      "application/vnd.jupyter.widget-view+json": {
       "model_id": "",
       "version_major": 2,
       "version_minor": 0
      },
      "text/plain": [
       "VBox(children=(Label(value='0.001 MB of 0.001 MB uploaded (0.000 MB deduped)\\r'), FloatProgress(value=1.0, max…"
      ]
     },
     "metadata": {},
     "output_type": "display_data"
    },
    {
     "data": {
      "text/html": [
       "<style>\n",
       "    table.wandb td:nth-child(1) { padding: 0 10px; text-align: right }\n",
       "    .wandb-row { display: flex; flex-direction: row; flex-wrap: wrap; width: 100% }\n",
       "    .wandb-col { display: flex; flex-direction: column; flex-basis: 100%; flex: 1; padding: 10px; }\n",
       "    </style>\n",
       "<div class=\"wandb-row\"><div class=\"wandb-col\"><h3>Run history:</h3><br/><table class=\"wandb\"><tr><td>data fold</td><td>▁▁▂▃▃▃▄▅▅▅▆▇▇▇█</td></tr><tr><td>dfold_0_avg_mae</td><td>▁</td></tr><tr><td>dfold_10_avg_mae</td><td>▁</td></tr><tr><td>dfold_11_avg_mae</td><td>▁</td></tr><tr><td>dfold_12_avg_mae</td><td>▁</td></tr><tr><td>dfold_13_avg_mae</td><td>▁</td></tr><tr><td>dfold_14_avg_mae</td><td>▁</td></tr><tr><td>dfold_1_avg_mae</td><td>▁</td></tr><tr><td>dfold_2_avg_mae</td><td>▁</td></tr><tr><td>dfold_3_avg_mae</td><td>▁</td></tr><tr><td>dfold_4_avg_mae</td><td>▁</td></tr><tr><td>dfold_5_avg_mae</td><td>▁</td></tr><tr><td>dfold_6_avg_mae</td><td>▁</td></tr><tr><td>dfold_7_avg_mae</td><td>▁</td></tr><tr><td>dfold_8_avg_mae</td><td>▁</td></tr><tr><td>dfold_9_avg_mae</td><td>▁</td></tr></table><br/></div><div class=\"wandb-col\"><h3>Run summary:</h3><br/><table class=\"wandb\"><tr><td>data fold</td><td>14</td></tr><tr><td>dfold_0_avg_mae</td><td>5.59713</td></tr><tr><td>dfold_10_avg_mae</td><td>10.23153</td></tr><tr><td>dfold_11_avg_mae</td><td>7.11789</td></tr><tr><td>dfold_12_avg_mae</td><td>9.78171</td></tr><tr><td>dfold_13_avg_mae</td><td>9.78666</td></tr><tr><td>dfold_14_avg_mae</td><td>4.9925</td></tr><tr><td>dfold_1_avg_mae</td><td>16.484</td></tr><tr><td>dfold_2_avg_mae</td><td>4.7436</td></tr><tr><td>dfold_3_avg_mae</td><td>6.54195</td></tr><tr><td>dfold_4_avg_mae</td><td>10.72747</td></tr><tr><td>dfold_5_avg_mae</td><td>6.24941</td></tr><tr><td>dfold_6_avg_mae</td><td>10.16247</td></tr><tr><td>dfold_7_avg_mae</td><td>9.14253</td></tr><tr><td>dfold_8_avg_mae</td><td>7.82344</td></tr><tr><td>dfold_9_avg_mae</td><td>13.79419</td></tr></table><br/></div></div>"
      ],
      "text/plain": [
       "<IPython.core.display.HTML object>"
      ]
     },
     "metadata": {},
     "output_type": "display_data"
    },
    {
     "data": {
      "text/html": [
       "Synced <strong style=\"color:#cdcd00\">wobbly-water-7</strong>: <a href=\"https://wandb.ai/synthesis-ai/55_best_checkpoint_model_all_real_data_folds_equalized/runs/2uz3108w\" target=\"_blank\">https://wandb.ai/synthesis-ai/55_best_checkpoint_model_all_real_data_folds_equalized/runs/2uz3108w</a><br/>Synced 5 W&B file(s), 0 media file(s), 0 artifact file(s) and 0 other file(s)"
      ],
      "text/plain": [
       "<IPython.core.display.HTML object>"
      ]
     },
     "metadata": {},
     "output_type": "display_data"
    },
    {
     "data": {
      "text/html": [
       "Find logs at: <code>./wandb/run-20220629_232039-2uz3108w/logs</code>"
      ],
      "text/plain": [
       "<IPython.core.display.HTML object>"
      ]
     },
     "metadata": {},
     "output_type": "display_data"
    },
    {
     "data": {
      "text/html": [
       "Successfully finished last run (ID:2uz3108w). Initializing new run:<br/>"
      ],
      "text/plain": [
       "<IPython.core.display.HTML object>"
      ]
     },
     "metadata": {},
     "output_type": "display_data"
    },
    {
     "data": {
      "text/html": [
       "wandb version 0.12.20 is available!  To upgrade, please run:\n",
       " $ pip install wandb --upgrade"
      ],
      "text/plain": [
       "<IPython.core.display.HTML object>"
      ]
     },
     "metadata": {},
     "output_type": "display_data"
    },
    {
     "data": {
      "text/html": [
       "Tracking run with wandb version 0.12.15"
      ],
      "text/plain": [
       "<IPython.core.display.HTML object>"
      ]
     },
     "metadata": {},
     "output_type": "display_data"
    },
    {
     "data": {
      "text/html": [
       "Run data is saved locally in <code>/project/notebooks/wandb/run-20220629_232403-2vpypnaa</code>"
      ],
      "text/plain": [
       "<IPython.core.display.HTML object>"
      ]
     },
     "metadata": {},
     "output_type": "display_data"
    },
    {
     "data": {
      "text/html": [
       "Syncing run <strong><a href=\"https://wandb.ai/synthesis-ai/55_best_checkpoint_model_all_real_data_folds_equalized/runs/2vpypnaa\" target=\"_blank\">pretty-dragon-8</a></strong> to <a href=\"https://wandb.ai/synthesis-ai/55_best_checkpoint_model_all_real_data_folds_equalized\" target=\"_blank\">Weights & Biases</a> (<a href=\"https://wandb.me/run\" target=\"_blank\">docs</a>)<br/>"
      ],
      "text/plain": [
       "<IPython.core.display.HTML object>"
      ]
     },
     "metadata": {},
     "output_type": "display_data"
    },
    {
     "name": "stdout",
     "output_type": "stream",
     "text": [
      "cfold=fold06\n",
      "0 items removed from dataset that have an angle > 180\n",
      "\n",
      "test configuration: gpu_id=cuda:0, batch_size=20\n",
      "model_arch=ResNet50 Start testing dataset=mpiigaze\n",
      "cFOLD=6 dFOLD=0--06/29/2022 16:24:13----\n",
      "[cfold6---dfold 0] Total Num:3000, MAE:6.685616983407574  06/29/2022 16:24:26\n",
      "0 items removed from dataset that have an angle > 180\n",
      "\n",
      "test configuration: gpu_id=cuda:0, batch_size=20\n",
      "model_arch=ResNet50 Start testing dataset=mpiigaze\n",
      "cFOLD=6 dFOLD=1--06/29/2022 16:24:26----\n",
      "[cfold6---dfold 1] Total Num:3000, MAE:9.39880427316256  06/29/2022 16:24:39\n",
      "0 items removed from dataset that have an angle > 180\n",
      "\n",
      "test configuration: gpu_id=cuda:0, batch_size=20\n",
      "model_arch=ResNet50 Start testing dataset=mpiigaze\n",
      "cFOLD=6 dFOLD=2--06/29/2022 16:24:39----\n",
      "[cfold6---dfold 2] Total Num:3000, MAE:4.82589752839338  06/29/2022 16:24:52\n",
      "0 items removed from dataset that have an angle > 180\n",
      "\n",
      "test configuration: gpu_id=cuda:0, batch_size=20\n",
      "model_arch=ResNet50 Start testing dataset=mpiigaze\n",
      "cFOLD=6 dFOLD=3--06/29/2022 16:24:52----\n",
      "[cfold6---dfold 3] Total Num:3000, MAE:7.005309796481421  06/29/2022 16:25:05\n",
      "0 items removed from dataset that have an angle > 180\n",
      "\n",
      "test configuration: gpu_id=cuda:0, batch_size=20\n",
      "model_arch=ResNet50 Start testing dataset=mpiigaze\n",
      "cFOLD=6 dFOLD=4--06/29/2022 16:25:05----\n",
      "[cfold6---dfold 4] Total Num:3000, MAE:6.644730015212535  06/29/2022 16:25:18\n",
      "0 items removed from dataset that have an angle > 180\n",
      "\n",
      "test configuration: gpu_id=cuda:0, batch_size=20\n",
      "model_arch=ResNet50 Start testing dataset=mpiigaze\n",
      "cFOLD=6 dFOLD=5--06/29/2022 16:25:18----\n",
      "[cfold6---dfold 5] Total Num:3000, MAE:6.631741279487531  06/29/2022 16:25:31\n",
      "0 items removed from dataset that have an angle > 180\n",
      "\n",
      "test configuration: gpu_id=cuda:0, batch_size=20\n",
      "model_arch=ResNet50 Start testing dataset=mpiigaze\n",
      "cFOLD=6 dFOLD=6--06/29/2022 16:25:31----\n",
      "[cfold6---dfold 6] Total Num:3000, MAE:11.14335892442632  06/29/2022 16:25:44\n",
      "0 items removed from dataset that have an angle > 180\n",
      "\n",
      "test configuration: gpu_id=cuda:0, batch_size=20\n",
      "model_arch=ResNet50 Start testing dataset=mpiigaze\n",
      "cFOLD=6 dFOLD=7--06/29/2022 16:25:44----\n",
      "[cfold6---dfold 7] Total Num:3000, MAE:8.569955658694058  06/29/2022 16:25:57\n",
      "0 items removed from dataset that have an angle > 180\n",
      "\n",
      "test configuration: gpu_id=cuda:0, batch_size=20\n",
      "model_arch=ResNet50 Start testing dataset=mpiigaze\n",
      "cFOLD=6 dFOLD=8--06/29/2022 16:25:57----\n",
      "[cfold6---dfold 8] Total Num:3000, MAE:7.460569344117594  06/29/2022 16:26:10\n",
      "0 items removed from dataset that have an angle > 180\n",
      "\n",
      "test configuration: gpu_id=cuda:0, batch_size=20\n",
      "model_arch=ResNet50 Start testing dataset=mpiigaze\n",
      "cFOLD=6 dFOLD=9--06/29/2022 16:26:10----\n",
      "[cfold6---dfold 9] Total Num:3000, MAE:12.259454246446387  06/29/2022 16:26:23\n",
      "0 items removed from dataset that have an angle > 180\n",
      "\n",
      "test configuration: gpu_id=cuda:0, batch_size=20\n",
      "model_arch=ResNet50 Start testing dataset=mpiigaze\n",
      "cFOLD=6 dFOLD=10--06/29/2022 16:26:23----\n",
      "[cfold6---dfold 10] Total Num:3000, MAE:10.590358712322974  06/29/2022 16:26:36\n",
      "0 items removed from dataset that have an angle > 180\n",
      "\n",
      "test configuration: gpu_id=cuda:0, batch_size=20\n",
      "model_arch=ResNet50 Start testing dataset=mpiigaze\n",
      "cFOLD=6 dFOLD=11--06/29/2022 16:26:36----\n",
      "[cfold6---dfold 11] Total Num:3000, MAE:7.4339626758511255  06/29/2022 16:26:49\n",
      "0 items removed from dataset that have an angle > 180\n",
      "\n",
      "test configuration: gpu_id=cuda:0, batch_size=20\n",
      "model_arch=ResNet50 Start testing dataset=mpiigaze\n",
      "cFOLD=6 dFOLD=12--06/29/2022 16:26:49----\n",
      "[cfold6---dfold 12] Total Num:3000, MAE:9.005115285439091  06/29/2022 16:27:02\n",
      "0 items removed from dataset that have an angle > 180\n",
      "\n",
      "test configuration: gpu_id=cuda:0, batch_size=20\n",
      "model_arch=ResNet50 Start testing dataset=mpiigaze\n",
      "cFOLD=6 dFOLD=13--06/29/2022 16:27:02----\n",
      "[cfold6---dfold 13] Total Num:3000, MAE:8.970525624287196  06/29/2022 16:27:15\n",
      "0 items removed from dataset that have an angle > 180\n",
      "\n",
      "test configuration: gpu_id=cuda:0, batch_size=20\n",
      "model_arch=ResNet50 Start testing dataset=mpiigaze\n",
      "cFOLD=6 dFOLD=14--06/29/2022 16:27:15----\n",
      "[cfold6---dfold 14] Total Num:3000, MAE:5.795270540085285  06/29/2022 16:27:28\n",
      "[cfold6--] MAE for this fold best model:8.161378059187665  06/29/2022 16:27:28\n"
     ]
    },
    {
     "data": {
      "text/html": [
       "Finishing last run (ID:2vpypnaa) before initializing another..."
      ],
      "text/plain": [
       "<IPython.core.display.HTML object>"
      ]
     },
     "metadata": {},
     "output_type": "display_data"
    },
    {
     "data": {
      "text/html": [
       "Waiting for W&B process to finish... <strong style=\"color:green\">(success).</strong>"
      ],
      "text/plain": [
       "<IPython.core.display.HTML object>"
      ]
     },
     "metadata": {},
     "output_type": "display_data"
    },
    {
     "data": {
      "application/vnd.jupyter.widget-view+json": {
       "model_id": "",
       "version_major": 2,
       "version_minor": 0
      },
      "text/plain": [
       "VBox(children=(Label(value='0.001 MB of 0.001 MB uploaded (0.000 MB deduped)\\r'), FloatProgress(value=1.0, max…"
      ]
     },
     "metadata": {},
     "output_type": "display_data"
    },
    {
     "data": {
      "text/html": [
       "<style>\n",
       "    table.wandb td:nth-child(1) { padding: 0 10px; text-align: right }\n",
       "    .wandb-row { display: flex; flex-direction: row; flex-wrap: wrap; width: 100% }\n",
       "    .wandb-col { display: flex; flex-direction: column; flex-basis: 100%; flex: 1; padding: 10px; }\n",
       "    </style>\n",
       "<div class=\"wandb-row\"><div class=\"wandb-col\"><h3>Run history:</h3><br/><table class=\"wandb\"><tr><td>data fold</td><td>▁▁▂▃▃▃▄▅▅▅▆▇▇▇█</td></tr><tr><td>dfold_0_avg_mae</td><td>▁</td></tr><tr><td>dfold_10_avg_mae</td><td>▁</td></tr><tr><td>dfold_11_avg_mae</td><td>▁</td></tr><tr><td>dfold_12_avg_mae</td><td>▁</td></tr><tr><td>dfold_13_avg_mae</td><td>▁</td></tr><tr><td>dfold_14_avg_mae</td><td>▁</td></tr><tr><td>dfold_1_avg_mae</td><td>▁</td></tr><tr><td>dfold_2_avg_mae</td><td>▁</td></tr><tr><td>dfold_3_avg_mae</td><td>▁</td></tr><tr><td>dfold_4_avg_mae</td><td>▁</td></tr><tr><td>dfold_5_avg_mae</td><td>▁</td></tr><tr><td>dfold_6_avg_mae</td><td>▁</td></tr><tr><td>dfold_7_avg_mae</td><td>▁</td></tr><tr><td>dfold_8_avg_mae</td><td>▁</td></tr><tr><td>dfold_9_avg_mae</td><td>▁</td></tr></table><br/></div><div class=\"wandb-col\"><h3>Run summary:</h3><br/><table class=\"wandb\"><tr><td>data fold</td><td>14</td></tr><tr><td>dfold_0_avg_mae</td><td>6.68562</td></tr><tr><td>dfold_10_avg_mae</td><td>10.59036</td></tr><tr><td>dfold_11_avg_mae</td><td>7.43396</td></tr><tr><td>dfold_12_avg_mae</td><td>9.00512</td></tr><tr><td>dfold_13_avg_mae</td><td>8.97053</td></tr><tr><td>dfold_14_avg_mae</td><td>5.79527</td></tr><tr><td>dfold_1_avg_mae</td><td>9.3988</td></tr><tr><td>dfold_2_avg_mae</td><td>4.8259</td></tr><tr><td>dfold_3_avg_mae</td><td>7.00531</td></tr><tr><td>dfold_4_avg_mae</td><td>6.64473</td></tr><tr><td>dfold_5_avg_mae</td><td>6.63174</td></tr><tr><td>dfold_6_avg_mae</td><td>11.14336</td></tr><tr><td>dfold_7_avg_mae</td><td>8.56996</td></tr><tr><td>dfold_8_avg_mae</td><td>7.46057</td></tr><tr><td>dfold_9_avg_mae</td><td>12.25945</td></tr></table><br/></div></div>"
      ],
      "text/plain": [
       "<IPython.core.display.HTML object>"
      ]
     },
     "metadata": {},
     "output_type": "display_data"
    },
    {
     "data": {
      "text/html": [
       "Synced <strong style=\"color:#cdcd00\">pretty-dragon-8</strong>: <a href=\"https://wandb.ai/synthesis-ai/55_best_checkpoint_model_all_real_data_folds_equalized/runs/2vpypnaa\" target=\"_blank\">https://wandb.ai/synthesis-ai/55_best_checkpoint_model_all_real_data_folds_equalized/runs/2vpypnaa</a><br/>Synced 5 W&B file(s), 0 media file(s), 0 artifact file(s) and 0 other file(s)"
      ],
      "text/plain": [
       "<IPython.core.display.HTML object>"
      ]
     },
     "metadata": {},
     "output_type": "display_data"
    },
    {
     "data": {
      "text/html": [
       "Find logs at: <code>./wandb/run-20220629_232403-2vpypnaa/logs</code>"
      ],
      "text/plain": [
       "<IPython.core.display.HTML object>"
      ]
     },
     "metadata": {},
     "output_type": "display_data"
    },
    {
     "data": {
      "text/html": [
       "Successfully finished last run (ID:2vpypnaa). Initializing new run:<br/>"
      ],
      "text/plain": [
       "<IPython.core.display.HTML object>"
      ]
     },
     "metadata": {},
     "output_type": "display_data"
    },
    {
     "data": {
      "text/html": [
       "wandb version 0.12.20 is available!  To upgrade, please run:\n",
       " $ pip install wandb --upgrade"
      ],
      "text/plain": [
       "<IPython.core.display.HTML object>"
      ]
     },
     "metadata": {},
     "output_type": "display_data"
    },
    {
     "data": {
      "text/html": [
       "Tracking run with wandb version 0.12.15"
      ],
      "text/plain": [
       "<IPython.core.display.HTML object>"
      ]
     },
     "metadata": {},
     "output_type": "display_data"
    },
    {
     "data": {
      "text/html": [
       "Run data is saved locally in <code>/project/notebooks/wandb/run-20220629_232728-o8t7dws3</code>"
      ],
      "text/plain": [
       "<IPython.core.display.HTML object>"
      ]
     },
     "metadata": {},
     "output_type": "display_data"
    },
    {
     "data": {
      "text/html": [
       "Syncing run <strong><a href=\"https://wandb.ai/synthesis-ai/55_best_checkpoint_model_all_real_data_folds_equalized/runs/o8t7dws3\" target=\"_blank\">visionary-wind-9</a></strong> to <a href=\"https://wandb.ai/synthesis-ai/55_best_checkpoint_model_all_real_data_folds_equalized\" target=\"_blank\">Weights & Biases</a> (<a href=\"https://wandb.me/run\" target=\"_blank\">docs</a>)<br/>"
      ],
      "text/plain": [
       "<IPython.core.display.HTML object>"
      ]
     },
     "metadata": {},
     "output_type": "display_data"
    },
    {
     "name": "stdout",
     "output_type": "stream",
     "text": [
      "cfold=fold07\n",
      "0 items removed from dataset that have an angle > 180\n",
      "\n",
      "test configuration: gpu_id=cuda:0, batch_size=20\n",
      "model_arch=ResNet50 Start testing dataset=mpiigaze\n",
      "cFOLD=7 dFOLD=0--06/29/2022 16:27:36----\n",
      "[cfold7---dfold 0] Total Num:3000, MAE:6.497965049101714  06/29/2022 16:27:50\n",
      "0 items removed from dataset that have an angle > 180\n",
      "\n",
      "test configuration: gpu_id=cuda:0, batch_size=20\n",
      "model_arch=ResNet50 Start testing dataset=mpiigaze\n",
      "cFOLD=7 dFOLD=1--06/29/2022 16:27:50----\n",
      "[cfold7---dfold 1] Total Num:3000, MAE:8.56076508892711  06/29/2022 16:28:03\n",
      "0 items removed from dataset that have an angle > 180\n",
      "\n",
      "test configuration: gpu_id=cuda:0, batch_size=20\n",
      "model_arch=ResNet50 Start testing dataset=mpiigaze\n",
      "cFOLD=7 dFOLD=2--06/29/2022 16:28:03----\n",
      "[cfold7---dfold 2] Total Num:3000, MAE:4.664661952019443  06/29/2022 16:28:16\n",
      "0 items removed from dataset that have an angle > 180\n",
      "\n",
      "test configuration: gpu_id=cuda:0, batch_size=20\n",
      "model_arch=ResNet50 Start testing dataset=mpiigaze\n",
      "cFOLD=7 dFOLD=3--06/29/2022 16:28:16----\n",
      "[cfold7---dfold 3] Total Num:3000, MAE:7.410584131289666  06/29/2022 16:28:28\n",
      "0 items removed from dataset that have an angle > 180\n",
      "\n",
      "test configuration: gpu_id=cuda:0, batch_size=20\n",
      "model_arch=ResNet50 Start testing dataset=mpiigaze\n",
      "cFOLD=7 dFOLD=4--06/29/2022 16:28:29----\n",
      "[cfold7---dfold 4] Total Num:3000, MAE:6.510451349873543  06/29/2022 16:28:41\n",
      "0 items removed from dataset that have an angle > 180\n",
      "\n",
      "test configuration: gpu_id=cuda:0, batch_size=20\n",
      "model_arch=ResNet50 Start testing dataset=mpiigaze\n",
      "cFOLD=7 dFOLD=5--06/29/2022 16:28:41----\n",
      "[cfold7---dfold 5] Total Num:3000, MAE:6.34366219605242  06/29/2022 16:28:55\n",
      "0 items removed from dataset that have an angle > 180\n",
      "\n",
      "test configuration: gpu_id=cuda:0, batch_size=20\n",
      "model_arch=ResNet50 Start testing dataset=mpiigaze\n",
      "cFOLD=7 dFOLD=6--06/29/2022 16:28:55----\n",
      "[cfold7---dfold 6] Total Num:3000, MAE:11.028533926056431  06/29/2022 16:29:08\n",
      "0 items removed from dataset that have an angle > 180\n",
      "\n",
      "test configuration: gpu_id=cuda:0, batch_size=20\n",
      "model_arch=ResNet50 Start testing dataset=mpiigaze\n",
      "cFOLD=7 dFOLD=7--06/29/2022 16:29:08----\n",
      "[cfold7---dfold 7] Total Num:3000, MAE:8.074459449993828  06/29/2022 16:29:21\n",
      "0 items removed from dataset that have an angle > 180\n",
      "\n",
      "test configuration: gpu_id=cuda:0, batch_size=20\n",
      "model_arch=ResNet50 Start testing dataset=mpiigaze\n",
      "cFOLD=7 dFOLD=8--06/29/2022 16:29:21----\n",
      "[cfold7---dfold 8] Total Num:3000, MAE:7.231986211975408  06/29/2022 16:29:34\n",
      "0 items removed from dataset that have an angle > 180\n",
      "\n",
      "test configuration: gpu_id=cuda:0, batch_size=20\n",
      "model_arch=ResNet50 Start testing dataset=mpiigaze\n",
      "cFOLD=7 dFOLD=9--06/29/2022 16:29:34----\n",
      "[cfold7---dfold 9] Total Num:3000, MAE:9.136837869970872  06/29/2022 16:29:47\n",
      "0 items removed from dataset that have an angle > 180\n",
      "\n",
      "test configuration: gpu_id=cuda:0, batch_size=20\n",
      "model_arch=ResNet50 Start testing dataset=mpiigaze\n",
      "cFOLD=7 dFOLD=10--06/29/2022 16:29:47----\n",
      "[cfold7---dfold 10] Total Num:3000, MAE:10.903455732585652  06/29/2022 16:30:00\n",
      "0 items removed from dataset that have an angle > 180\n",
      "\n",
      "test configuration: gpu_id=cuda:0, batch_size=20\n",
      "model_arch=ResNet50 Start testing dataset=mpiigaze\n",
      "cFOLD=7 dFOLD=11--06/29/2022 16:30:00----\n",
      "[cfold7---dfold 11] Total Num:3000, MAE:5.921533637259466  06/29/2022 16:30:13\n",
      "0 items removed from dataset that have an angle > 180\n",
      "\n",
      "test configuration: gpu_id=cuda:0, batch_size=20\n",
      "model_arch=ResNet50 Start testing dataset=mpiigaze\n",
      "cFOLD=7 dFOLD=12--06/29/2022 16:30:13----\n",
      "[cfold7---dfold 12] Total Num:3000, MAE:8.71360105352154  06/29/2022 16:30:26\n",
      "0 items removed from dataset that have an angle > 180\n",
      "\n",
      "test configuration: gpu_id=cuda:0, batch_size=20\n",
      "model_arch=ResNet50 Start testing dataset=mpiigaze\n",
      "cFOLD=7 dFOLD=13--06/29/2022 16:30:26----\n",
      "[cfold7---dfold 13] Total Num:3000, MAE:9.718169188975777  06/29/2022 16:30:39\n",
      "0 items removed from dataset that have an angle > 180\n",
      "\n",
      "test configuration: gpu_id=cuda:0, batch_size=20\n",
      "model_arch=ResNet50 Start testing dataset=mpiigaze\n",
      "cFOLD=7 dFOLD=14--06/29/2022 16:30:39----\n",
      "[cfold7---dfold 14] Total Num:3000, MAE:5.207512743796572  06/29/2022 16:30:52\n",
      "[cfold7--] MAE for this fold best model:7.728278638759964  06/29/2022 16:30:52\n"
     ]
    },
    {
     "data": {
      "text/html": [
       "Finishing last run (ID:o8t7dws3) before initializing another..."
      ],
      "text/plain": [
       "<IPython.core.display.HTML object>"
      ]
     },
     "metadata": {},
     "output_type": "display_data"
    },
    {
     "data": {
      "text/html": [
       "Waiting for W&B process to finish... <strong style=\"color:green\">(success).</strong>"
      ],
      "text/plain": [
       "<IPython.core.display.HTML object>"
      ]
     },
     "metadata": {},
     "output_type": "display_data"
    },
    {
     "data": {
      "application/vnd.jupyter.widget-view+json": {
       "model_id": "",
       "version_major": 2,
       "version_minor": 0
      },
      "text/plain": [
       "VBox(children=(Label(value='0.001 MB of 0.001 MB uploaded (0.000 MB deduped)\\r'), FloatProgress(value=1.0, max…"
      ]
     },
     "metadata": {},
     "output_type": "display_data"
    },
    {
     "data": {
      "text/html": [
       "<style>\n",
       "    table.wandb td:nth-child(1) { padding: 0 10px; text-align: right }\n",
       "    .wandb-row { display: flex; flex-direction: row; flex-wrap: wrap; width: 100% }\n",
       "    .wandb-col { display: flex; flex-direction: column; flex-basis: 100%; flex: 1; padding: 10px; }\n",
       "    </style>\n",
       "<div class=\"wandb-row\"><div class=\"wandb-col\"><h3>Run history:</h3><br/><table class=\"wandb\"><tr><td>data fold</td><td>▁▁▂▃▃▃▄▅▅▅▆▇▇▇█</td></tr><tr><td>dfold_0_avg_mae</td><td>▁</td></tr><tr><td>dfold_10_avg_mae</td><td>▁</td></tr><tr><td>dfold_11_avg_mae</td><td>▁</td></tr><tr><td>dfold_12_avg_mae</td><td>▁</td></tr><tr><td>dfold_13_avg_mae</td><td>▁</td></tr><tr><td>dfold_14_avg_mae</td><td>▁</td></tr><tr><td>dfold_1_avg_mae</td><td>▁</td></tr><tr><td>dfold_2_avg_mae</td><td>▁</td></tr><tr><td>dfold_3_avg_mae</td><td>▁</td></tr><tr><td>dfold_4_avg_mae</td><td>▁</td></tr><tr><td>dfold_5_avg_mae</td><td>▁</td></tr><tr><td>dfold_6_avg_mae</td><td>▁</td></tr><tr><td>dfold_7_avg_mae</td><td>▁</td></tr><tr><td>dfold_8_avg_mae</td><td>▁</td></tr><tr><td>dfold_9_avg_mae</td><td>▁</td></tr></table><br/></div><div class=\"wandb-col\"><h3>Run summary:</h3><br/><table class=\"wandb\"><tr><td>data fold</td><td>14</td></tr><tr><td>dfold_0_avg_mae</td><td>6.49797</td></tr><tr><td>dfold_10_avg_mae</td><td>10.90346</td></tr><tr><td>dfold_11_avg_mae</td><td>5.92153</td></tr><tr><td>dfold_12_avg_mae</td><td>8.7136</td></tr><tr><td>dfold_13_avg_mae</td><td>9.71817</td></tr><tr><td>dfold_14_avg_mae</td><td>5.20751</td></tr><tr><td>dfold_1_avg_mae</td><td>8.56077</td></tr><tr><td>dfold_2_avg_mae</td><td>4.66466</td></tr><tr><td>dfold_3_avg_mae</td><td>7.41058</td></tr><tr><td>dfold_4_avg_mae</td><td>6.51045</td></tr><tr><td>dfold_5_avg_mae</td><td>6.34366</td></tr><tr><td>dfold_6_avg_mae</td><td>11.02853</td></tr><tr><td>dfold_7_avg_mae</td><td>8.07446</td></tr><tr><td>dfold_8_avg_mae</td><td>7.23199</td></tr><tr><td>dfold_9_avg_mae</td><td>9.13684</td></tr></table><br/></div></div>"
      ],
      "text/plain": [
       "<IPython.core.display.HTML object>"
      ]
     },
     "metadata": {},
     "output_type": "display_data"
    },
    {
     "data": {
      "text/html": [
       "Synced <strong style=\"color:#cdcd00\">visionary-wind-9</strong>: <a href=\"https://wandb.ai/synthesis-ai/55_best_checkpoint_model_all_real_data_folds_equalized/runs/o8t7dws3\" target=\"_blank\">https://wandb.ai/synthesis-ai/55_best_checkpoint_model_all_real_data_folds_equalized/runs/o8t7dws3</a><br/>Synced 5 W&B file(s), 0 media file(s), 0 artifact file(s) and 0 other file(s)"
      ],
      "text/plain": [
       "<IPython.core.display.HTML object>"
      ]
     },
     "metadata": {},
     "output_type": "display_data"
    },
    {
     "data": {
      "text/html": [
       "Find logs at: <code>./wandb/run-20220629_232728-o8t7dws3/logs</code>"
      ],
      "text/plain": [
       "<IPython.core.display.HTML object>"
      ]
     },
     "metadata": {},
     "output_type": "display_data"
    },
    {
     "data": {
      "text/html": [
       "Successfully finished last run (ID:o8t7dws3). Initializing new run:<br/>"
      ],
      "text/plain": [
       "<IPython.core.display.HTML object>"
      ]
     },
     "metadata": {},
     "output_type": "display_data"
    },
    {
     "data": {
      "text/html": [
       "wandb version 0.12.20 is available!  To upgrade, please run:\n",
       " $ pip install wandb --upgrade"
      ],
      "text/plain": [
       "<IPython.core.display.HTML object>"
      ]
     },
     "metadata": {},
     "output_type": "display_data"
    },
    {
     "data": {
      "text/html": [
       "Tracking run with wandb version 0.12.15"
      ],
      "text/plain": [
       "<IPython.core.display.HTML object>"
      ]
     },
     "metadata": {},
     "output_type": "display_data"
    },
    {
     "data": {
      "text/html": [
       "Run data is saved locally in <code>/project/notebooks/wandb/run-20220629_233052-1eixzt2l</code>"
      ],
      "text/plain": [
       "<IPython.core.display.HTML object>"
      ]
     },
     "metadata": {},
     "output_type": "display_data"
    },
    {
     "data": {
      "text/html": [
       "Syncing run <strong><a href=\"https://wandb.ai/synthesis-ai/55_best_checkpoint_model_all_real_data_folds_equalized/runs/1eixzt2l\" target=\"_blank\">dainty-tree-10</a></strong> to <a href=\"https://wandb.ai/synthesis-ai/55_best_checkpoint_model_all_real_data_folds_equalized\" target=\"_blank\">Weights & Biases</a> (<a href=\"https://wandb.me/run\" target=\"_blank\">docs</a>)<br/>"
      ],
      "text/plain": [
       "<IPython.core.display.HTML object>"
      ]
     },
     "metadata": {},
     "output_type": "display_data"
    },
    {
     "name": "stdout",
     "output_type": "stream",
     "text": [
      "cfold=fold08\n",
      "0 items removed from dataset that have an angle > 180\n",
      "\n",
      "test configuration: gpu_id=cuda:0, batch_size=20\n",
      "model_arch=ResNet50 Start testing dataset=mpiigaze\n",
      "cFOLD=8 dFOLD=0--06/29/2022 16:31:01----\n",
      "[cfold8---dfold 0] Total Num:3000, MAE:5.829784951240215  06/29/2022 16:31:14\n",
      "0 items removed from dataset that have an angle > 180\n",
      "\n",
      "test configuration: gpu_id=cuda:0, batch_size=20\n",
      "model_arch=ResNet50 Start testing dataset=mpiigaze\n",
      "cFOLD=8 dFOLD=1--06/29/2022 16:31:14----\n",
      "[cfold8---dfold 1] Total Num:3000, MAE:9.15726242616706  06/29/2022 16:31:27\n",
      "0 items removed from dataset that have an angle > 180\n",
      "\n",
      "test configuration: gpu_id=cuda:0, batch_size=20\n",
      "model_arch=ResNet50 Start testing dataset=mpiigaze\n",
      "cFOLD=8 dFOLD=2--06/29/2022 16:31:27----\n",
      "[cfold8---dfold 2] Total Num:3000, MAE:5.391141156079027  06/29/2022 16:31:40\n",
      "0 items removed from dataset that have an angle > 180\n",
      "\n",
      "test configuration: gpu_id=cuda:0, batch_size=20\n",
      "model_arch=ResNet50 Start testing dataset=mpiigaze\n",
      "cFOLD=8 dFOLD=3--06/29/2022 16:31:40----\n",
      "[cfold8---dfold 3] Total Num:3000, MAE:6.133470850412578  06/29/2022 16:31:53\n",
      "0 items removed from dataset that have an angle > 180\n",
      "\n",
      "test configuration: gpu_id=cuda:0, batch_size=20\n",
      "model_arch=ResNet50 Start testing dataset=mpiigaze\n",
      "cFOLD=8 dFOLD=4--06/29/2022 16:31:53----\n",
      "[cfold8---dfold 4] Total Num:3000, MAE:5.814607225342357  06/29/2022 16:32:06\n",
      "0 items removed from dataset that have an angle > 180\n",
      "\n",
      "test configuration: gpu_id=cuda:0, batch_size=20\n",
      "model_arch=ResNet50 Start testing dataset=mpiigaze\n",
      "cFOLD=8 dFOLD=5--06/29/2022 16:32:06----\n",
      "[cfold8---dfold 5] Total Num:3000, MAE:6.445673935314129  06/29/2022 16:32:19\n",
      "0 items removed from dataset that have an angle > 180\n",
      "\n",
      "test configuration: gpu_id=cuda:0, batch_size=20\n",
      "model_arch=ResNet50 Start testing dataset=mpiigaze\n",
      "cFOLD=8 dFOLD=6--06/29/2022 16:32:20----\n",
      "[cfold8---dfold 6] Total Num:3000, MAE:10.670706807927363  06/29/2022 16:32:33\n",
      "0 items removed from dataset that have an angle > 180\n",
      "\n",
      "test configuration: gpu_id=cuda:0, batch_size=20\n",
      "model_arch=ResNet50 Start testing dataset=mpiigaze\n",
      "cFOLD=8 dFOLD=7--06/29/2022 16:32:33----\n",
      "[cfold8---dfold 7] Total Num:3000, MAE:8.405214975725249  06/29/2022 16:32:46\n",
      "0 items removed from dataset that have an angle > 180\n",
      "\n",
      "test configuration: gpu_id=cuda:0, batch_size=20\n",
      "model_arch=ResNet50 Start testing dataset=mpiigaze\n",
      "cFOLD=8 dFOLD=8--06/29/2022 16:32:46----\n",
      "[cfold8---dfold 8] Total Num:3000, MAE:7.695184873532665  06/29/2022 16:32:59\n",
      "0 items removed from dataset that have an angle > 180\n",
      "\n",
      "test configuration: gpu_id=cuda:0, batch_size=20\n",
      "model_arch=ResNet50 Start testing dataset=mpiigaze\n",
      "cFOLD=8 dFOLD=9--06/29/2022 16:32:59----\n",
      "[cfold8---dfold 9] Total Num:3000, MAE:10.726203488397877  06/29/2022 16:33:12\n",
      "0 items removed from dataset that have an angle > 180\n",
      "\n",
      "test configuration: gpu_id=cuda:0, batch_size=20\n",
      "model_arch=ResNet50 Start testing dataset=mpiigaze\n",
      "cFOLD=8 dFOLD=10--06/29/2022 16:33:12----\n",
      "[cfold8---dfold 10] Total Num:3000, MAE:10.912284198090397  06/29/2022 16:33:25\n",
      "0 items removed from dataset that have an angle > 180\n",
      "\n",
      "test configuration: gpu_id=cuda:0, batch_size=20\n",
      "model_arch=ResNet50 Start testing dataset=mpiigaze\n",
      "cFOLD=8 dFOLD=11--06/29/2022 16:33:25----\n",
      "[cfold8---dfold 11] Total Num:3000, MAE:6.665788092709929  06/29/2022 16:33:38\n",
      "0 items removed from dataset that have an angle > 180\n",
      "\n",
      "test configuration: gpu_id=cuda:0, batch_size=20\n",
      "model_arch=ResNet50 Start testing dataset=mpiigaze\n",
      "cFOLD=8 dFOLD=12--06/29/2022 16:33:38----\n",
      "[cfold8---dfold 12] Total Num:3000, MAE:7.5300530815739135  06/29/2022 16:33:51\n",
      "0 items removed from dataset that have an angle > 180\n",
      "\n",
      "test configuration: gpu_id=cuda:0, batch_size=20\n",
      "model_arch=ResNet50 Start testing dataset=mpiigaze\n",
      "cFOLD=8 dFOLD=13--06/29/2022 16:33:51----\n",
      "[cfold8---dfold 13] Total Num:3000, MAE:7.926805585162779  06/29/2022 16:34:04\n",
      "0 items removed from dataset that have an angle > 180\n",
      "\n",
      "test configuration: gpu_id=cuda:0, batch_size=20\n",
      "model_arch=ResNet50 Start testing dataset=mpiigaze\n",
      "cFOLD=8 dFOLD=14--06/29/2022 16:34:04----\n",
      "[cfold8---dfold 14] Total Num:3000, MAE:5.230430681134937  06/29/2022 16:34:17\n",
      "[cfold8--] MAE for this fold best model:7.635640821920699  06/29/2022 16:34:17\n"
     ]
    },
    {
     "data": {
      "text/html": [
       "Finishing last run (ID:1eixzt2l) before initializing another..."
      ],
      "text/plain": [
       "<IPython.core.display.HTML object>"
      ]
     },
     "metadata": {},
     "output_type": "display_data"
    },
    {
     "data": {
      "text/html": [
       "Waiting for W&B process to finish... <strong style=\"color:green\">(success).</strong>"
      ],
      "text/plain": [
       "<IPython.core.display.HTML object>"
      ]
     },
     "metadata": {},
     "output_type": "display_data"
    },
    {
     "data": {
      "application/vnd.jupyter.widget-view+json": {
       "model_id": "",
       "version_major": 2,
       "version_minor": 0
      },
      "text/plain": [
       "VBox(children=(Label(value='0.001 MB of 0.001 MB uploaded (0.000 MB deduped)\\r'), FloatProgress(value=1.0, max…"
      ]
     },
     "metadata": {},
     "output_type": "display_data"
    },
    {
     "data": {
      "text/html": [
       "<style>\n",
       "    table.wandb td:nth-child(1) { padding: 0 10px; text-align: right }\n",
       "    .wandb-row { display: flex; flex-direction: row; flex-wrap: wrap; width: 100% }\n",
       "    .wandb-col { display: flex; flex-direction: column; flex-basis: 100%; flex: 1; padding: 10px; }\n",
       "    </style>\n",
       "<div class=\"wandb-row\"><div class=\"wandb-col\"><h3>Run history:</h3><br/><table class=\"wandb\"><tr><td>data fold</td><td>▁▁▂▃▃▃▄▅▅▅▆▇▇▇█</td></tr><tr><td>dfold_0_avg_mae</td><td>▁</td></tr><tr><td>dfold_10_avg_mae</td><td>▁</td></tr><tr><td>dfold_11_avg_mae</td><td>▁</td></tr><tr><td>dfold_12_avg_mae</td><td>▁</td></tr><tr><td>dfold_13_avg_mae</td><td>▁</td></tr><tr><td>dfold_14_avg_mae</td><td>▁</td></tr><tr><td>dfold_1_avg_mae</td><td>▁</td></tr><tr><td>dfold_2_avg_mae</td><td>▁</td></tr><tr><td>dfold_3_avg_mae</td><td>▁</td></tr><tr><td>dfold_4_avg_mae</td><td>▁</td></tr><tr><td>dfold_5_avg_mae</td><td>▁</td></tr><tr><td>dfold_6_avg_mae</td><td>▁</td></tr><tr><td>dfold_7_avg_mae</td><td>▁</td></tr><tr><td>dfold_8_avg_mae</td><td>▁</td></tr><tr><td>dfold_9_avg_mae</td><td>▁</td></tr></table><br/></div><div class=\"wandb-col\"><h3>Run summary:</h3><br/><table class=\"wandb\"><tr><td>data fold</td><td>14</td></tr><tr><td>dfold_0_avg_mae</td><td>5.82978</td></tr><tr><td>dfold_10_avg_mae</td><td>10.91228</td></tr><tr><td>dfold_11_avg_mae</td><td>6.66579</td></tr><tr><td>dfold_12_avg_mae</td><td>7.53005</td></tr><tr><td>dfold_13_avg_mae</td><td>7.92681</td></tr><tr><td>dfold_14_avg_mae</td><td>5.23043</td></tr><tr><td>dfold_1_avg_mae</td><td>9.15726</td></tr><tr><td>dfold_2_avg_mae</td><td>5.39114</td></tr><tr><td>dfold_3_avg_mae</td><td>6.13347</td></tr><tr><td>dfold_4_avg_mae</td><td>5.81461</td></tr><tr><td>dfold_5_avg_mae</td><td>6.44567</td></tr><tr><td>dfold_6_avg_mae</td><td>10.67071</td></tr><tr><td>dfold_7_avg_mae</td><td>8.40521</td></tr><tr><td>dfold_8_avg_mae</td><td>7.69518</td></tr><tr><td>dfold_9_avg_mae</td><td>10.7262</td></tr></table><br/></div></div>"
      ],
      "text/plain": [
       "<IPython.core.display.HTML object>"
      ]
     },
     "metadata": {},
     "output_type": "display_data"
    },
    {
     "data": {
      "text/html": [
       "Synced <strong style=\"color:#cdcd00\">dainty-tree-10</strong>: <a href=\"https://wandb.ai/synthesis-ai/55_best_checkpoint_model_all_real_data_folds_equalized/runs/1eixzt2l\" target=\"_blank\">https://wandb.ai/synthesis-ai/55_best_checkpoint_model_all_real_data_folds_equalized/runs/1eixzt2l</a><br/>Synced 5 W&B file(s), 0 media file(s), 0 artifact file(s) and 0 other file(s)"
      ],
      "text/plain": [
       "<IPython.core.display.HTML object>"
      ]
     },
     "metadata": {},
     "output_type": "display_data"
    },
    {
     "data": {
      "text/html": [
       "Find logs at: <code>./wandb/run-20220629_233052-1eixzt2l/logs</code>"
      ],
      "text/plain": [
       "<IPython.core.display.HTML object>"
      ]
     },
     "metadata": {},
     "output_type": "display_data"
    },
    {
     "data": {
      "text/html": [
       "Successfully finished last run (ID:1eixzt2l). Initializing new run:<br/>"
      ],
      "text/plain": [
       "<IPython.core.display.HTML object>"
      ]
     },
     "metadata": {},
     "output_type": "display_data"
    },
    {
     "data": {
      "text/html": [
       "wandb version 0.12.20 is available!  To upgrade, please run:\n",
       " $ pip install wandb --upgrade"
      ],
      "text/plain": [
       "<IPython.core.display.HTML object>"
      ]
     },
     "metadata": {},
     "output_type": "display_data"
    },
    {
     "data": {
      "text/html": [
       "Tracking run with wandb version 0.12.15"
      ],
      "text/plain": [
       "<IPython.core.display.HTML object>"
      ]
     },
     "metadata": {},
     "output_type": "display_data"
    },
    {
     "data": {
      "text/html": [
       "Run data is saved locally in <code>/project/notebooks/wandb/run-20220629_233417-18mm479z</code>"
      ],
      "text/plain": [
       "<IPython.core.display.HTML object>"
      ]
     },
     "metadata": {},
     "output_type": "display_data"
    },
    {
     "data": {
      "text/html": [
       "Syncing run <strong><a href=\"https://wandb.ai/synthesis-ai/55_best_checkpoint_model_all_real_data_folds_equalized/runs/18mm479z\" target=\"_blank\">flowing-dew-11</a></strong> to <a href=\"https://wandb.ai/synthesis-ai/55_best_checkpoint_model_all_real_data_folds_equalized\" target=\"_blank\">Weights & Biases</a> (<a href=\"https://wandb.me/run\" target=\"_blank\">docs</a>)<br/>"
      ],
      "text/plain": [
       "<IPython.core.display.HTML object>"
      ]
     },
     "metadata": {},
     "output_type": "display_data"
    },
    {
     "name": "stdout",
     "output_type": "stream",
     "text": [
      "cfold=fold09\n",
      "0 items removed from dataset that have an angle > 180\n",
      "\n",
      "test configuration: gpu_id=cuda:0, batch_size=20\n",
      "model_arch=ResNet50 Start testing dataset=mpiigaze\n",
      "cFOLD=9 dFOLD=0--06/29/2022 16:34:26----\n",
      "[cfold9---dfold 0] Total Num:3000, MAE:5.395390117876466  06/29/2022 16:34:39\n",
      "0 items removed from dataset that have an angle > 180\n",
      "\n",
      "test configuration: gpu_id=cuda:0, batch_size=20\n",
      "model_arch=ResNet50 Start testing dataset=mpiigaze\n",
      "cFOLD=9 dFOLD=1--06/29/2022 16:34:39----\n",
      "[cfold9---dfold 1] Total Num:3000, MAE:7.657406554948211  06/29/2022 16:34:52\n",
      "0 items removed from dataset that have an angle > 180\n",
      "\n",
      "test configuration: gpu_id=cuda:0, batch_size=20\n",
      "model_arch=ResNet50 Start testing dataset=mpiigaze\n",
      "cFOLD=9 dFOLD=2--06/29/2022 16:34:52----\n",
      "[cfold9---dfold 2] Total Num:3000, MAE:4.455606982071284  06/29/2022 16:35:05\n",
      "0 items removed from dataset that have an angle > 180\n",
      "\n",
      "test configuration: gpu_id=cuda:0, batch_size=20\n",
      "model_arch=ResNet50 Start testing dataset=mpiigaze\n",
      "cFOLD=9 dFOLD=3--06/29/2022 16:35:05----\n",
      "[cfold9---dfold 3] Total Num:3000, MAE:6.844230061507301  06/29/2022 16:35:20\n",
      "0 items removed from dataset that have an angle > 180\n",
      "\n",
      "test configuration: gpu_id=cuda:0, batch_size=20\n",
      "model_arch=ResNet50 Start testing dataset=mpiigaze\n",
      "cFOLD=9 dFOLD=4--06/29/2022 16:35:20----\n",
      "[cfold9---dfold 4] Total Num:3000, MAE:5.9252309704538515  06/29/2022 16:35:33\n",
      "0 items removed from dataset that have an angle > 180\n",
      "\n",
      "test configuration: gpu_id=cuda:0, batch_size=20\n",
      "model_arch=ResNet50 Start testing dataset=mpiigaze\n",
      "cFOLD=9 dFOLD=5--06/29/2022 16:35:33----\n",
      "[cfold9---dfold 5] Total Num:3000, MAE:6.110834481295629  06/29/2022 16:35:46\n",
      "0 items removed from dataset that have an angle > 180\n",
      "\n",
      "test configuration: gpu_id=cuda:0, batch_size=20\n",
      "model_arch=ResNet50 Start testing dataset=mpiigaze\n",
      "cFOLD=9 dFOLD=6--06/29/2022 16:35:46----\n",
      "[cfold9---dfold 6] Total Num:3000, MAE:10.780135859287784  06/29/2022 16:35:59\n",
      "0 items removed from dataset that have an angle > 180\n",
      "\n",
      "test configuration: gpu_id=cuda:0, batch_size=20\n",
      "model_arch=ResNet50 Start testing dataset=mpiigaze\n",
      "cFOLD=9 dFOLD=7--06/29/2022 16:35:59----\n",
      "[cfold9---dfold 7] Total Num:3000, MAE:8.018489716814  06/29/2022 16:36:12\n",
      "0 items removed from dataset that have an angle > 180\n",
      "\n",
      "test configuration: gpu_id=cuda:0, batch_size=20\n",
      "model_arch=ResNet50 Start testing dataset=mpiigaze\n",
      "cFOLD=9 dFOLD=8--06/29/2022 16:36:12----\n",
      "[cfold9---dfold 8] Total Num:3000, MAE:7.769779372740059  06/29/2022 16:36:25\n",
      "0 items removed from dataset that have an angle > 180\n",
      "\n",
      "test configuration: gpu_id=cuda:0, batch_size=20\n",
      "model_arch=ResNet50 Start testing dataset=mpiigaze\n",
      "cFOLD=9 dFOLD=9--06/29/2022 16:36:25----\n",
      "[cfold9---dfold 9] Total Num:3000, MAE:9.77662511304286  06/29/2022 16:36:38\n",
      "0 items removed from dataset that have an angle > 180\n",
      "\n",
      "test configuration: gpu_id=cuda:0, batch_size=20\n",
      "model_arch=ResNet50 Start testing dataset=mpiigaze\n",
      "cFOLD=9 dFOLD=10--06/29/2022 16:36:38----\n",
      "[cfold9---dfold 10] Total Num:3000, MAE:9.082485385728079  06/29/2022 16:36:51\n",
      "0 items removed from dataset that have an angle > 180\n",
      "\n",
      "test configuration: gpu_id=cuda:0, batch_size=20\n",
      "model_arch=ResNet50 Start testing dataset=mpiigaze\n",
      "cFOLD=9 dFOLD=11--06/29/2022 16:36:51----\n",
      "[cfold9---dfold 11] Total Num:3000, MAE:5.7684493723672166  06/29/2022 16:37:04\n",
      "0 items removed from dataset that have an angle > 180\n",
      "\n",
      "test configuration: gpu_id=cuda:0, batch_size=20\n",
      "model_arch=ResNet50 Start testing dataset=mpiigaze\n",
      "cFOLD=9 dFOLD=12--06/29/2022 16:37:04----\n",
      "[cfold9---dfold 12] Total Num:3000, MAE:8.630518078653347  06/29/2022 16:37:17\n",
      "0 items removed from dataset that have an angle > 180\n",
      "\n",
      "test configuration: gpu_id=cuda:0, batch_size=20\n",
      "model_arch=ResNet50 Start testing dataset=mpiigaze\n",
      "cFOLD=9 dFOLD=13--06/29/2022 16:37:17----\n",
      "[cfold9---dfold 13] Total Num:3000, MAE:9.737003656982365  06/29/2022 16:37:30\n",
      "0 items removed from dataset that have an angle > 180\n",
      "\n",
      "test configuration: gpu_id=cuda:0, batch_size=20\n",
      "model_arch=ResNet50 Start testing dataset=mpiigaze\n",
      "cFOLD=9 dFOLD=14--06/29/2022 16:37:30----\n",
      "[cfold9---dfold 14] Total Num:3000, MAE:5.566571885424045  06/29/2022 16:37:43\n",
      "[cfold9--] MAE for this fold best model:7.434583840612833  06/29/2022 16:37:43\n"
     ]
    },
    {
     "data": {
      "text/html": [
       "Finishing last run (ID:18mm479z) before initializing another..."
      ],
      "text/plain": [
       "<IPython.core.display.HTML object>"
      ]
     },
     "metadata": {},
     "output_type": "display_data"
    },
    {
     "data": {
      "text/html": [
       "Waiting for W&B process to finish... <strong style=\"color:green\">(success).</strong>"
      ],
      "text/plain": [
       "<IPython.core.display.HTML object>"
      ]
     },
     "metadata": {},
     "output_type": "display_data"
    },
    {
     "data": {
      "application/vnd.jupyter.widget-view+json": {
       "model_id": "",
       "version_major": 2,
       "version_minor": 0
      },
      "text/plain": [
       "VBox(children=(Label(value='0.001 MB of 0.001 MB uploaded (0.000 MB deduped)\\r'), FloatProgress(value=1.0, max…"
      ]
     },
     "metadata": {},
     "output_type": "display_data"
    },
    {
     "data": {
      "text/html": [
       "<style>\n",
       "    table.wandb td:nth-child(1) { padding: 0 10px; text-align: right }\n",
       "    .wandb-row { display: flex; flex-direction: row; flex-wrap: wrap; width: 100% }\n",
       "    .wandb-col { display: flex; flex-direction: column; flex-basis: 100%; flex: 1; padding: 10px; }\n",
       "    </style>\n",
       "<div class=\"wandb-row\"><div class=\"wandb-col\"><h3>Run history:</h3><br/><table class=\"wandb\"><tr><td>data fold</td><td>▁▁▂▃▃▃▄▅▅▅▆▇▇▇█</td></tr><tr><td>dfold_0_avg_mae</td><td>▁</td></tr><tr><td>dfold_10_avg_mae</td><td>▁</td></tr><tr><td>dfold_11_avg_mae</td><td>▁</td></tr><tr><td>dfold_12_avg_mae</td><td>▁</td></tr><tr><td>dfold_13_avg_mae</td><td>▁</td></tr><tr><td>dfold_14_avg_mae</td><td>▁</td></tr><tr><td>dfold_1_avg_mae</td><td>▁</td></tr><tr><td>dfold_2_avg_mae</td><td>▁</td></tr><tr><td>dfold_3_avg_mae</td><td>▁</td></tr><tr><td>dfold_4_avg_mae</td><td>▁</td></tr><tr><td>dfold_5_avg_mae</td><td>▁</td></tr><tr><td>dfold_6_avg_mae</td><td>▁</td></tr><tr><td>dfold_7_avg_mae</td><td>▁</td></tr><tr><td>dfold_8_avg_mae</td><td>▁</td></tr><tr><td>dfold_9_avg_mae</td><td>▁</td></tr></table><br/></div><div class=\"wandb-col\"><h3>Run summary:</h3><br/><table class=\"wandb\"><tr><td>data fold</td><td>14</td></tr><tr><td>dfold_0_avg_mae</td><td>5.39539</td></tr><tr><td>dfold_10_avg_mae</td><td>9.08249</td></tr><tr><td>dfold_11_avg_mae</td><td>5.76845</td></tr><tr><td>dfold_12_avg_mae</td><td>8.63052</td></tr><tr><td>dfold_13_avg_mae</td><td>9.737</td></tr><tr><td>dfold_14_avg_mae</td><td>5.56657</td></tr><tr><td>dfold_1_avg_mae</td><td>7.65741</td></tr><tr><td>dfold_2_avg_mae</td><td>4.45561</td></tr><tr><td>dfold_3_avg_mae</td><td>6.84423</td></tr><tr><td>dfold_4_avg_mae</td><td>5.92523</td></tr><tr><td>dfold_5_avg_mae</td><td>6.11083</td></tr><tr><td>dfold_6_avg_mae</td><td>10.78014</td></tr><tr><td>dfold_7_avg_mae</td><td>8.01849</td></tr><tr><td>dfold_8_avg_mae</td><td>7.76978</td></tr><tr><td>dfold_9_avg_mae</td><td>9.77663</td></tr></table><br/></div></div>"
      ],
      "text/plain": [
       "<IPython.core.display.HTML object>"
      ]
     },
     "metadata": {},
     "output_type": "display_data"
    },
    {
     "data": {
      "text/html": [
       "Synced <strong style=\"color:#cdcd00\">flowing-dew-11</strong>: <a href=\"https://wandb.ai/synthesis-ai/55_best_checkpoint_model_all_real_data_folds_equalized/runs/18mm479z\" target=\"_blank\">https://wandb.ai/synthesis-ai/55_best_checkpoint_model_all_real_data_folds_equalized/runs/18mm479z</a><br/>Synced 5 W&B file(s), 0 media file(s), 0 artifact file(s) and 0 other file(s)"
      ],
      "text/plain": [
       "<IPython.core.display.HTML object>"
      ]
     },
     "metadata": {},
     "output_type": "display_data"
    },
    {
     "data": {
      "text/html": [
       "Find logs at: <code>./wandb/run-20220629_233417-18mm479z/logs</code>"
      ],
      "text/plain": [
       "<IPython.core.display.HTML object>"
      ]
     },
     "metadata": {},
     "output_type": "display_data"
    },
    {
     "data": {
      "text/html": [
       "Successfully finished last run (ID:18mm479z). Initializing new run:<br/>"
      ],
      "text/plain": [
       "<IPython.core.display.HTML object>"
      ]
     },
     "metadata": {},
     "output_type": "display_data"
    },
    {
     "data": {
      "text/html": [
       "wandb version 0.12.20 is available!  To upgrade, please run:\n",
       " $ pip install wandb --upgrade"
      ],
      "text/plain": [
       "<IPython.core.display.HTML object>"
      ]
     },
     "metadata": {},
     "output_type": "display_data"
    },
    {
     "data": {
      "text/html": [
       "Tracking run with wandb version 0.12.15"
      ],
      "text/plain": [
       "<IPython.core.display.HTML object>"
      ]
     },
     "metadata": {},
     "output_type": "display_data"
    },
    {
     "data": {
      "text/html": [
       "Run data is saved locally in <code>/project/notebooks/wandb/run-20220629_233744-1rlwr8nf</code>"
      ],
      "text/plain": [
       "<IPython.core.display.HTML object>"
      ]
     },
     "metadata": {},
     "output_type": "display_data"
    },
    {
     "data": {
      "text/html": [
       "Syncing run <strong><a href=\"https://wandb.ai/synthesis-ai/55_best_checkpoint_model_all_real_data_folds_equalized/runs/1rlwr8nf\" target=\"_blank\">visionary-firefly-12</a></strong> to <a href=\"https://wandb.ai/synthesis-ai/55_best_checkpoint_model_all_real_data_folds_equalized\" target=\"_blank\">Weights & Biases</a> (<a href=\"https://wandb.me/run\" target=\"_blank\">docs</a>)<br/>"
      ],
      "text/plain": [
       "<IPython.core.display.HTML object>"
      ]
     },
     "metadata": {},
     "output_type": "display_data"
    },
    {
     "name": "stdout",
     "output_type": "stream",
     "text": [
      "cfold=fold10\n",
      "0 items removed from dataset that have an angle > 180\n",
      "\n",
      "test configuration: gpu_id=cuda:0, batch_size=20\n",
      "model_arch=ResNet50 Start testing dataset=mpiigaze\n",
      "cFOLD=10 dFOLD=0--06/29/2022 16:37:52----\n",
      "[cfold10---dfold 0] Total Num:3000, MAE:7.6925329140958505  06/29/2022 16:38:05\n",
      "0 items removed from dataset that have an angle > 180\n",
      "\n",
      "test configuration: gpu_id=cuda:0, batch_size=20\n",
      "model_arch=ResNet50 Start testing dataset=mpiigaze\n",
      "cFOLD=10 dFOLD=1--06/29/2022 16:38:05----\n",
      "[cfold10---dfold 1] Total Num:3000, MAE:9.003813839222705  06/29/2022 16:38:18\n",
      "0 items removed from dataset that have an angle > 180\n",
      "\n",
      "test configuration: gpu_id=cuda:0, batch_size=20\n",
      "model_arch=ResNet50 Start testing dataset=mpiigaze\n",
      "cFOLD=10 dFOLD=2--06/29/2022 16:38:18----\n",
      "[cfold10---dfold 2] Total Num:3000, MAE:5.20560198011702  06/29/2022 16:38:31\n",
      "0 items removed from dataset that have an angle > 180\n",
      "\n",
      "test configuration: gpu_id=cuda:0, batch_size=20\n",
      "model_arch=ResNet50 Start testing dataset=mpiigaze\n",
      "cFOLD=10 dFOLD=3--06/29/2022 16:38:31----\n",
      "[cfold10---dfold 3] Total Num:3000, MAE:9.393339745689726  06/29/2022 16:38:45\n",
      "0 items removed from dataset that have an angle > 180\n",
      "\n",
      "test configuration: gpu_id=cuda:0, batch_size=20\n",
      "model_arch=ResNet50 Start testing dataset=mpiigaze\n",
      "cFOLD=10 dFOLD=4--06/29/2022 16:38:45----\n",
      "[cfold10---dfold 4] Total Num:3000, MAE:6.687897528597098  06/29/2022 16:38:58\n",
      "0 items removed from dataset that have an angle > 180\n",
      "\n",
      "test configuration: gpu_id=cuda:0, batch_size=20\n",
      "model_arch=ResNet50 Start testing dataset=mpiigaze\n",
      "cFOLD=10 dFOLD=5--06/29/2022 16:38:58----\n",
      "[cfold10---dfold 5] Total Num:3000, MAE:6.252867482715829  06/29/2022 16:39:11\n",
      "0 items removed from dataset that have an angle > 180\n",
      "\n",
      "test configuration: gpu_id=cuda:0, batch_size=20\n",
      "model_arch=ResNet50 Start testing dataset=mpiigaze\n",
      "cFOLD=10 dFOLD=6--06/29/2022 16:39:11----\n",
      "[cfold10---dfold 6] Total Num:3000, MAE:12.94157997523603  06/29/2022 16:39:24\n",
      "0 items removed from dataset that have an angle > 180\n",
      "\n",
      "test configuration: gpu_id=cuda:0, batch_size=20\n",
      "model_arch=ResNet50 Start testing dataset=mpiigaze\n",
      "cFOLD=10 dFOLD=7--06/29/2022 16:39:24----\n",
      "[cfold10---dfold 7] Total Num:3000, MAE:8.475620774805694  06/29/2022 16:39:37\n",
      "0 items removed from dataset that have an angle > 180\n",
      "\n",
      "test configuration: gpu_id=cuda:0, batch_size=20\n",
      "model_arch=ResNet50 Start testing dataset=mpiigaze\n",
      "cFOLD=10 dFOLD=8--06/29/2022 16:39:38----\n",
      "[cfold10---dfold 9] Total Num:3000, MAE:10.229810302840862  06/29/2022 16:40:04\n",
      "0 items removed from dataset that have an angle > 180\n",
      "\n",
      "test configuration: gpu_id=cuda:0, batch_size=20\n",
      "model_arch=ResNet50 Start testing dataset=mpiigaze\n",
      "cFOLD=10 dFOLD=10--06/29/2022 16:40:04----\n",
      "[cfold10---dfold 10] Total Num:3000, MAE:10.986655222600408  06/29/2022 16:40:17\n",
      "0 items removed from dataset that have an angle > 180\n",
      "\n",
      "test configuration: gpu_id=cuda:0, batch_size=20\n",
      "model_arch=ResNet50 Start testing dataset=mpiigaze\n",
      "cFOLD=10 dFOLD=11--06/29/2022 16:40:17----\n",
      "[cfold10---dfold 11] Total Num:3000, MAE:6.739991169568714  06/29/2022 16:40:30\n",
      "0 items removed from dataset that have an angle > 180\n",
      "\n",
      "test configuration: gpu_id=cuda:0, batch_size=20\n",
      "model_arch=ResNet50 Start testing dataset=mpiigaze\n",
      "cFOLD=10 dFOLD=12--06/29/2022 16:40:30----\n",
      "[cfold10---dfold 12] Total Num:3000, MAE:11.56251523058285  06/29/2022 16:40:44\n",
      "0 items removed from dataset that have an angle > 180\n",
      "\n",
      "test configuration: gpu_id=cuda:0, batch_size=20\n",
      "model_arch=ResNet50 Start testing dataset=mpiigaze\n",
      "cFOLD=10 dFOLD=13--06/29/2022 16:40:44----\n",
      "[cfold10---dfold 13] Total Num:3000, MAE:10.590541673337382  06/29/2022 16:40:57\n",
      "0 items removed from dataset that have an angle > 180\n",
      "\n",
      "test configuration: gpu_id=cuda:0, batch_size=20\n",
      "model_arch=ResNet50 Start testing dataset=mpiigaze\n",
      "cFOLD=10 dFOLD=14--06/29/2022 16:40:57----\n",
      "[cfold10---dfold 14] Total Num:3000, MAE:5.432589866336985  06/29/2022 16:41:10\n",
      "[cfold10--] MAE for this fold best model:8.611957528840941  06/29/2022 16:41:10\n"
     ]
    },
    {
     "data": {
      "text/html": [
       "Finishing last run (ID:1rlwr8nf) before initializing another..."
      ],
      "text/plain": [
       "<IPython.core.display.HTML object>"
      ]
     },
     "metadata": {},
     "output_type": "display_data"
    },
    {
     "data": {
      "text/html": [
       "Waiting for W&B process to finish... <strong style=\"color:green\">(success).</strong>"
      ],
      "text/plain": [
       "<IPython.core.display.HTML object>"
      ]
     },
     "metadata": {},
     "output_type": "display_data"
    },
    {
     "data": {
      "application/vnd.jupyter.widget-view+json": {
       "model_id": "",
       "version_major": 2,
       "version_minor": 0
      },
      "text/plain": [
       "VBox(children=(Label(value='0.001 MB of 0.001 MB uploaded (0.000 MB deduped)\\r'), FloatProgress(value=1.0, max…"
      ]
     },
     "metadata": {},
     "output_type": "display_data"
    },
    {
     "data": {
      "text/html": [
       "<style>\n",
       "    table.wandb td:nth-child(1) { padding: 0 10px; text-align: right }\n",
       "    .wandb-row { display: flex; flex-direction: row; flex-wrap: wrap; width: 100% }\n",
       "    .wandb-col { display: flex; flex-direction: column; flex-basis: 100%; flex: 1; padding: 10px; }\n",
       "    </style>\n",
       "<div class=\"wandb-row\"><div class=\"wandb-col\"><h3>Run history:</h3><br/><table class=\"wandb\"><tr><td>data fold</td><td>▁▁▂▃▃▃▄▅▅▅▆▇▇▇█</td></tr><tr><td>dfold_0_avg_mae</td><td>▁</td></tr><tr><td>dfold_10_avg_mae</td><td>▁</td></tr><tr><td>dfold_11_avg_mae</td><td>▁</td></tr><tr><td>dfold_12_avg_mae</td><td>▁</td></tr><tr><td>dfold_13_avg_mae</td><td>▁</td></tr><tr><td>dfold_14_avg_mae</td><td>▁</td></tr><tr><td>dfold_1_avg_mae</td><td>▁</td></tr><tr><td>dfold_2_avg_mae</td><td>▁</td></tr><tr><td>dfold_3_avg_mae</td><td>▁</td></tr><tr><td>dfold_4_avg_mae</td><td>▁</td></tr><tr><td>dfold_5_avg_mae</td><td>▁</td></tr><tr><td>dfold_6_avg_mae</td><td>▁</td></tr><tr><td>dfold_7_avg_mae</td><td>▁</td></tr><tr><td>dfold_8_avg_mae</td><td>▁</td></tr><tr><td>dfold_9_avg_mae</td><td>▁</td></tr></table><br/></div><div class=\"wandb-col\"><h3>Run summary:</h3><br/><table class=\"wandb\"><tr><td>data fold</td><td>14</td></tr><tr><td>dfold_0_avg_mae</td><td>7.69253</td></tr><tr><td>dfold_10_avg_mae</td><td>10.98666</td></tr><tr><td>dfold_11_avg_mae</td><td>6.73999</td></tr><tr><td>dfold_12_avg_mae</td><td>11.56252</td></tr><tr><td>dfold_13_avg_mae</td><td>10.59054</td></tr><tr><td>dfold_14_avg_mae</td><td>5.43259</td></tr><tr><td>dfold_1_avg_mae</td><td>9.00381</td></tr><tr><td>dfold_2_avg_mae</td><td>5.2056</td></tr><tr><td>dfold_3_avg_mae</td><td>9.39334</td></tr><tr><td>dfold_4_avg_mae</td><td>6.6879</td></tr><tr><td>dfold_5_avg_mae</td><td>6.25287</td></tr><tr><td>dfold_6_avg_mae</td><td>12.94158</td></tr><tr><td>dfold_7_avg_mae</td><td>8.47562</td></tr><tr><td>dfold_8_avg_mae</td><td>7.98401</td></tr><tr><td>dfold_9_avg_mae</td><td>10.22981</td></tr></table><br/></div></div>"
      ],
      "text/plain": [
       "<IPython.core.display.HTML object>"
      ]
     },
     "metadata": {},
     "output_type": "display_data"
    },
    {
     "data": {
      "text/html": [
       "Synced <strong style=\"color:#cdcd00\">visionary-firefly-12</strong>: <a href=\"https://wandb.ai/synthesis-ai/55_best_checkpoint_model_all_real_data_folds_equalized/runs/1rlwr8nf\" target=\"_blank\">https://wandb.ai/synthesis-ai/55_best_checkpoint_model_all_real_data_folds_equalized/runs/1rlwr8nf</a><br/>Synced 5 W&B file(s), 0 media file(s), 0 artifact file(s) and 0 other file(s)"
      ],
      "text/plain": [
       "<IPython.core.display.HTML object>"
      ]
     },
     "metadata": {},
     "output_type": "display_data"
    },
    {
     "data": {
      "text/html": [
       "Find logs at: <code>./wandb/run-20220629_233744-1rlwr8nf/logs</code>"
      ],
      "text/plain": [
       "<IPython.core.display.HTML object>"
      ]
     },
     "metadata": {},
     "output_type": "display_data"
    },
    {
     "data": {
      "text/html": [
       "Successfully finished last run (ID:1rlwr8nf). Initializing new run:<br/>"
      ],
      "text/plain": [
       "<IPython.core.display.HTML object>"
      ]
     },
     "metadata": {},
     "output_type": "display_data"
    },
    {
     "data": {
      "text/html": [
       "wandb version 0.12.20 is available!  To upgrade, please run:\n",
       " $ pip install wandb --upgrade"
      ],
      "text/plain": [
       "<IPython.core.display.HTML object>"
      ]
     },
     "metadata": {},
     "output_type": "display_data"
    },
    {
     "data": {
      "text/html": [
       "Tracking run with wandb version 0.12.15"
      ],
      "text/plain": [
       "<IPython.core.display.HTML object>"
      ]
     },
     "metadata": {},
     "output_type": "display_data"
    },
    {
     "data": {
      "text/html": [
       "Run data is saved locally in <code>/project/notebooks/wandb/run-20220629_234110-1nbe6ubj</code>"
      ],
      "text/plain": [
       "<IPython.core.display.HTML object>"
      ]
     },
     "metadata": {},
     "output_type": "display_data"
    },
    {
     "data": {
      "text/html": [
       "Syncing run <strong><a href=\"https://wandb.ai/synthesis-ai/55_best_checkpoint_model_all_real_data_folds_equalized/runs/1nbe6ubj\" target=\"_blank\">eternal-cosmos-13</a></strong> to <a href=\"https://wandb.ai/synthesis-ai/55_best_checkpoint_model_all_real_data_folds_equalized\" target=\"_blank\">Weights & Biases</a> (<a href=\"https://wandb.me/run\" target=\"_blank\">docs</a>)<br/>"
      ],
      "text/plain": [
       "<IPython.core.display.HTML object>"
      ]
     },
     "metadata": {},
     "output_type": "display_data"
    },
    {
     "name": "stdout",
     "output_type": "stream",
     "text": [
      "cfold=fold11\n",
      "0 items removed from dataset that have an angle > 180\n",
      "\n",
      "test configuration: gpu_id=cuda:0, batch_size=20\n",
      "model_arch=ResNet50 Start testing dataset=mpiigaze\n",
      "cFOLD=11 dFOLD=0--06/29/2022 16:41:19----\n",
      "[cfold11---dfold 0] Total Num:3000, MAE:5.835095130583264  06/29/2022 16:41:32\n",
      "0 items removed from dataset that have an angle > 180\n",
      "\n",
      "test configuration: gpu_id=cuda:0, batch_size=20\n",
      "model_arch=ResNet50 Start testing dataset=mpiigaze\n",
      "cFOLD=11 dFOLD=1--06/29/2022 16:41:32----\n",
      "[cfold11---dfold 1] Total Num:3000, MAE:10.393942772253808  06/29/2022 16:41:45\n",
      "0 items removed from dataset that have an angle > 180\n",
      "\n",
      "test configuration: gpu_id=cuda:0, batch_size=20\n",
      "model_arch=ResNet50 Start testing dataset=mpiigaze\n",
      "cFOLD=11 dFOLD=2--06/29/2022 16:41:45----\n",
      "[cfold11---dfold 2] Total Num:3000, MAE:4.61698155916602  06/29/2022 16:41:58\n",
      "0 items removed from dataset that have an angle > 180\n",
      "\n",
      "test configuration: gpu_id=cuda:0, batch_size=20\n",
      "model_arch=ResNet50 Start testing dataset=mpiigaze\n",
      "cFOLD=11 dFOLD=3--06/29/2022 16:41:58----\n",
      "[cfold11---dfold 3] Total Num:3000, MAE:6.660073092826102  06/29/2022 16:42:11\n",
      "0 items removed from dataset that have an angle > 180\n",
      "\n",
      "test configuration: gpu_id=cuda:0, batch_size=20\n",
      "model_arch=ResNet50 Start testing dataset=mpiigaze\n",
      "cFOLD=11 dFOLD=4--06/29/2022 16:42:11----\n",
      "[cfold11---dfold 4] Total Num:3000, MAE:5.937367080021948  06/29/2022 16:42:25\n",
      "0 items removed from dataset that have an angle > 180\n",
      "\n",
      "test configuration: gpu_id=cuda:0, batch_size=20\n",
      "model_arch=ResNet50 Start testing dataset=mpiigaze\n",
      "cFOLD=11 dFOLD=5--06/29/2022 16:42:25----\n",
      "[cfold11---dfold 5] Total Num:3000, MAE:6.542879336977512  06/29/2022 16:42:38\n",
      "0 items removed from dataset that have an angle > 180\n",
      "\n",
      "test configuration: gpu_id=cuda:0, batch_size=20\n",
      "model_arch=ResNet50 Start testing dataset=mpiigaze\n",
      "cFOLD=11 dFOLD=6--06/29/2022 16:42:38----\n",
      "[cfold11---dfold 6] Total Num:3000, MAE:10.03109716032045  06/29/2022 16:42:51\n",
      "0 items removed from dataset that have an angle > 180\n",
      "\n",
      "test configuration: gpu_id=cuda:0, batch_size=20\n",
      "model_arch=ResNet50 Start testing dataset=mpiigaze\n",
      "cFOLD=11 dFOLD=7--06/29/2022 16:42:51----\n",
      "[cfold11---dfold 7] Total Num:3000, MAE:7.604572296617616  06/29/2022 16:43:04\n",
      "0 items removed from dataset that have an angle > 180\n",
      "\n",
      "test configuration: gpu_id=cuda:0, batch_size=20\n",
      "model_arch=ResNet50 Start testing dataset=mpiigaze\n",
      "cFOLD=11 dFOLD=8--06/29/2022 16:43:04----\n",
      "[cfold11---dfold 8] Total Num:3000, MAE:7.650578481201791  06/29/2022 16:43:17\n",
      "0 items removed from dataset that have an angle > 180\n",
      "\n",
      "test configuration: gpu_id=cuda:0, batch_size=20\n",
      "model_arch=ResNet50 Start testing dataset=mpiigaze\n",
      "cFOLD=11 dFOLD=9--06/29/2022 16:43:17----\n",
      "[cfold11---dfold 9] Total Num:3000, MAE:13.260937146205848  06/29/2022 16:43:30\n",
      "0 items removed from dataset that have an angle > 180\n",
      "\n",
      "test configuration: gpu_id=cuda:0, batch_size=20\n",
      "model_arch=ResNet50 Start testing dataset=mpiigaze\n",
      "cFOLD=11 dFOLD=10--06/29/2022 16:43:30----\n",
      "[cfold11---dfold 10] Total Num:3000, MAE:9.972145999804917  06/29/2022 16:43:43\n",
      "0 items removed from dataset that have an angle > 180\n",
      "\n",
      "test configuration: gpu_id=cuda:0, batch_size=20\n",
      "model_arch=ResNet50 Start testing dataset=mpiigaze\n",
      "cFOLD=11 dFOLD=11--06/29/2022 16:43:43----\n",
      "[cfold11---dfold 11] Total Num:3000, MAE:6.5095221074400715  06/29/2022 16:43:57\n",
      "0 items removed from dataset that have an angle > 180\n",
      "\n",
      "test configuration: gpu_id=cuda:0, batch_size=20\n",
      "model_arch=ResNet50 Start testing dataset=mpiigaze\n",
      "cFOLD=11 dFOLD=12--06/29/2022 16:43:57----\n",
      "[cfold11---dfold 12] Total Num:3000, MAE:9.392283337094238  06/29/2022 16:44:10\n",
      "0 items removed from dataset that have an angle > 180\n",
      "\n",
      "test configuration: gpu_id=cuda:0, batch_size=20\n",
      "model_arch=ResNet50 Start testing dataset=mpiigaze\n",
      "cFOLD=11 dFOLD=13--06/29/2022 16:44:10----\n",
      "[cfold11---dfold 13] Total Num:3000, MAE:8.380900820233373  06/29/2022 16:44:23\n",
      "0 items removed from dataset that have an angle > 180\n",
      "\n",
      "test configuration: gpu_id=cuda:0, batch_size=20\n",
      "model_arch=ResNet50 Start testing dataset=mpiigaze\n",
      "cFOLD=11 dFOLD=14--06/29/2022 16:44:23----\n",
      "[cfold11---dfold 14] Total Num:3000, MAE:5.441104613944502  06/29/2022 16:44:36\n",
      "[cfold11--] MAE for this fold best model:7.881965395646099  06/29/2022 16:44:36\n"
     ]
    },
    {
     "data": {
      "text/html": [
       "Finishing last run (ID:1nbe6ubj) before initializing another..."
      ],
      "text/plain": [
       "<IPython.core.display.HTML object>"
      ]
     },
     "metadata": {},
     "output_type": "display_data"
    },
    {
     "data": {
      "text/html": [
       "Waiting for W&B process to finish... <strong style=\"color:green\">(success).</strong>"
      ],
      "text/plain": [
       "<IPython.core.display.HTML object>"
      ]
     },
     "metadata": {},
     "output_type": "display_data"
    },
    {
     "data": {
      "application/vnd.jupyter.widget-view+json": {
       "model_id": "",
       "version_major": 2,
       "version_minor": 0
      },
      "text/plain": [
       "VBox(children=(Label(value='0.001 MB of 0.001 MB uploaded (0.000 MB deduped)\\r'), FloatProgress(value=1.0, max…"
      ]
     },
     "metadata": {},
     "output_type": "display_data"
    },
    {
     "data": {
      "text/html": [
       "<style>\n",
       "    table.wandb td:nth-child(1) { padding: 0 10px; text-align: right }\n",
       "    .wandb-row { display: flex; flex-direction: row; flex-wrap: wrap; width: 100% }\n",
       "    .wandb-col { display: flex; flex-direction: column; flex-basis: 100%; flex: 1; padding: 10px; }\n",
       "    </style>\n",
       "<div class=\"wandb-row\"><div class=\"wandb-col\"><h3>Run history:</h3><br/><table class=\"wandb\"><tr><td>data fold</td><td>▁▁▂▃▃▃▄▅▅▅▆▇▇▇█</td></tr><tr><td>dfold_0_avg_mae</td><td>▁</td></tr><tr><td>dfold_10_avg_mae</td><td>▁</td></tr><tr><td>dfold_11_avg_mae</td><td>▁</td></tr><tr><td>dfold_12_avg_mae</td><td>▁</td></tr><tr><td>dfold_13_avg_mae</td><td>▁</td></tr><tr><td>dfold_14_avg_mae</td><td>▁</td></tr><tr><td>dfold_1_avg_mae</td><td>▁</td></tr><tr><td>dfold_2_avg_mae</td><td>▁</td></tr><tr><td>dfold_3_avg_mae</td><td>▁</td></tr><tr><td>dfold_4_avg_mae</td><td>▁</td></tr><tr><td>dfold_5_avg_mae</td><td>▁</td></tr><tr><td>dfold_6_avg_mae</td><td>▁</td></tr><tr><td>dfold_7_avg_mae</td><td>▁</td></tr><tr><td>dfold_8_avg_mae</td><td>▁</td></tr><tr><td>dfold_9_avg_mae</td><td>▁</td></tr></table><br/></div><div class=\"wandb-col\"><h3>Run summary:</h3><br/><table class=\"wandb\"><tr><td>data fold</td><td>14</td></tr><tr><td>dfold_0_avg_mae</td><td>5.8351</td></tr><tr><td>dfold_10_avg_mae</td><td>9.97215</td></tr><tr><td>dfold_11_avg_mae</td><td>6.50952</td></tr><tr><td>dfold_12_avg_mae</td><td>9.39228</td></tr><tr><td>dfold_13_avg_mae</td><td>8.3809</td></tr><tr><td>dfold_14_avg_mae</td><td>5.4411</td></tr><tr><td>dfold_1_avg_mae</td><td>10.39394</td></tr><tr><td>dfold_2_avg_mae</td><td>4.61698</td></tr><tr><td>dfold_3_avg_mae</td><td>6.66007</td></tr><tr><td>dfold_4_avg_mae</td><td>5.93737</td></tr><tr><td>dfold_5_avg_mae</td><td>6.54288</td></tr><tr><td>dfold_6_avg_mae</td><td>10.0311</td></tr><tr><td>dfold_7_avg_mae</td><td>7.60457</td></tr><tr><td>dfold_8_avg_mae</td><td>7.65058</td></tr><tr><td>dfold_9_avg_mae</td><td>13.26094</td></tr></table><br/></div></div>"
      ],
      "text/plain": [
       "<IPython.core.display.HTML object>"
      ]
     },
     "metadata": {},
     "output_type": "display_data"
    },
    {
     "data": {
      "text/html": [
       "Synced <strong style=\"color:#cdcd00\">eternal-cosmos-13</strong>: <a href=\"https://wandb.ai/synthesis-ai/55_best_checkpoint_model_all_real_data_folds_equalized/runs/1nbe6ubj\" target=\"_blank\">https://wandb.ai/synthesis-ai/55_best_checkpoint_model_all_real_data_folds_equalized/runs/1nbe6ubj</a><br/>Synced 5 W&B file(s), 0 media file(s), 0 artifact file(s) and 0 other file(s)"
      ],
      "text/plain": [
       "<IPython.core.display.HTML object>"
      ]
     },
     "metadata": {},
     "output_type": "display_data"
    },
    {
     "data": {
      "text/html": [
       "Find logs at: <code>./wandb/run-20220629_234110-1nbe6ubj/logs</code>"
      ],
      "text/plain": [
       "<IPython.core.display.HTML object>"
      ]
     },
     "metadata": {},
     "output_type": "display_data"
    },
    {
     "data": {
      "text/html": [
       "Successfully finished last run (ID:1nbe6ubj). Initializing new run:<br/>"
      ],
      "text/plain": [
       "<IPython.core.display.HTML object>"
      ]
     },
     "metadata": {},
     "output_type": "display_data"
    },
    {
     "data": {
      "text/html": [
       "wandb version 0.12.20 is available!  To upgrade, please run:\n",
       " $ pip install wandb --upgrade"
      ],
      "text/plain": [
       "<IPython.core.display.HTML object>"
      ]
     },
     "metadata": {},
     "output_type": "display_data"
    },
    {
     "data": {
      "text/html": [
       "Tracking run with wandb version 0.12.15"
      ],
      "text/plain": [
       "<IPython.core.display.HTML object>"
      ]
     },
     "metadata": {},
     "output_type": "display_data"
    },
    {
     "data": {
      "text/html": [
       "Run data is saved locally in <code>/project/notebooks/wandb/run-20220629_234436-2zsm8e3r</code>"
      ],
      "text/plain": [
       "<IPython.core.display.HTML object>"
      ]
     },
     "metadata": {},
     "output_type": "display_data"
    },
    {
     "data": {
      "text/html": [
       "Syncing run <strong><a href=\"https://wandb.ai/synthesis-ai/55_best_checkpoint_model_all_real_data_folds_equalized/runs/2zsm8e3r\" target=\"_blank\">vibrant-brook-14</a></strong> to <a href=\"https://wandb.ai/synthesis-ai/55_best_checkpoint_model_all_real_data_folds_equalized\" target=\"_blank\">Weights & Biases</a> (<a href=\"https://wandb.me/run\" target=\"_blank\">docs</a>)<br/>"
      ],
      "text/plain": [
       "<IPython.core.display.HTML object>"
      ]
     },
     "metadata": {},
     "output_type": "display_data"
    },
    {
     "name": "stdout",
     "output_type": "stream",
     "text": [
      "cfold=fold12\n",
      "0 items removed from dataset that have an angle > 180\n",
      "\n",
      "test configuration: gpu_id=cuda:0, batch_size=20\n",
      "model_arch=ResNet50 Start testing dataset=mpiigaze\n",
      "cFOLD=12 dFOLD=0--06/29/2022 16:44:45----\n",
      "[cfold12---dfold 0] Total Num:3000, MAE:6.039533735839656  06/29/2022 16:44:59\n",
      "0 items removed from dataset that have an angle > 180\n",
      "\n",
      "test configuration: gpu_id=cuda:0, batch_size=20\n",
      "model_arch=ResNet50 Start testing dataset=mpiigaze\n",
      "cFOLD=12 dFOLD=1--06/29/2022 16:44:59----\n",
      "[cfold12---dfold 1] Total Num:3000, MAE:8.658634258689135  06/29/2022 16:45:12\n",
      "0 items removed from dataset that have an angle > 180\n",
      "\n",
      "test configuration: gpu_id=cuda:0, batch_size=20\n",
      "model_arch=ResNet50 Start testing dataset=mpiigaze\n",
      "cFOLD=12 dFOLD=2--06/29/2022 16:45:12----\n",
      "[cfold12---dfold 2] Total Num:3000, MAE:4.774343934948088  06/29/2022 16:45:25\n",
      "0 items removed from dataset that have an angle > 180\n",
      "\n",
      "test configuration: gpu_id=cuda:0, batch_size=20\n",
      "model_arch=ResNet50 Start testing dataset=mpiigaze\n",
      "cFOLD=12 dFOLD=3--06/29/2022 16:45:25----\n",
      "[cfold12---dfold 3] Total Num:3000, MAE:8.269465008909943  06/29/2022 16:45:38\n",
      "0 items removed from dataset that have an angle > 180\n",
      "\n",
      "test configuration: gpu_id=cuda:0, batch_size=20\n",
      "model_arch=ResNet50 Start testing dataset=mpiigaze\n",
      "cFOLD=12 dFOLD=4--06/29/2022 16:45:38----\n",
      "[cfold12---dfold 4] Total Num:3000, MAE:6.283066517349592  06/29/2022 16:45:52\n",
      "0 items removed from dataset that have an angle > 180\n",
      "\n",
      "test configuration: gpu_id=cuda:0, batch_size=20\n",
      "model_arch=ResNet50 Start testing dataset=mpiigaze\n",
      "cFOLD=12 dFOLD=5--06/29/2022 16:45:52----\n",
      "[cfold12---dfold 5] Total Num:3000, MAE:6.814070093230846  06/29/2022 16:46:05\n",
      "0 items removed from dataset that have an angle > 180\n",
      "\n",
      "test configuration: gpu_id=cuda:0, batch_size=20\n",
      "model_arch=ResNet50 Start testing dataset=mpiigaze\n",
      "cFOLD=12 dFOLD=6--06/29/2022 16:46:05----\n",
      "[cfold12---dfold 6] Total Num:3000, MAE:12.308721377895024  06/29/2022 16:46:18\n",
      "0 items removed from dataset that have an angle > 180\n",
      "\n",
      "test configuration: gpu_id=cuda:0, batch_size=20\n",
      "model_arch=ResNet50 Start testing dataset=mpiigaze\n",
      "cFOLD=12 dFOLD=7--06/29/2022 16:46:18----\n",
      "[cfold12---dfold 7] Total Num:3000, MAE:7.91899146503242  06/29/2022 16:46:31\n",
      "0 items removed from dataset that have an angle > 180\n",
      "\n",
      "test configuration: gpu_id=cuda:0, batch_size=20\n",
      "model_arch=ResNet50 Start testing dataset=mpiigaze\n",
      "cFOLD=12 dFOLD=8--06/29/2022 16:46:31----\n",
      "[cfold12---dfold 8] Total Num:3000, MAE:8.156000254807939  06/29/2022 16:46:44\n",
      "0 items removed from dataset that have an angle > 180\n",
      "\n",
      "test configuration: gpu_id=cuda:0, batch_size=20\n",
      "model_arch=ResNet50 Start testing dataset=mpiigaze\n",
      "cFOLD=12 dFOLD=9--06/29/2022 16:46:44----\n",
      "[cfold12---dfold 9] Total Num:3000, MAE:12.22321769028347  06/29/2022 16:46:57\n",
      "0 items removed from dataset that have an angle > 180\n",
      "\n",
      "test configuration: gpu_id=cuda:0, batch_size=20\n",
      "model_arch=ResNet50 Start testing dataset=mpiigaze\n",
      "cFOLD=12 dFOLD=10--06/29/2022 16:46:57----\n",
      "[cfold12---dfold 10] Total Num:3000, MAE:11.698564096542674  06/29/2022 16:47:11\n",
      "0 items removed from dataset that have an angle > 180\n",
      "\n",
      "test configuration: gpu_id=cuda:0, batch_size=20\n",
      "model_arch=ResNet50 Start testing dataset=mpiigaze\n",
      "cFOLD=12 dFOLD=11--06/29/2022 16:47:11----\n",
      "[cfold12---dfold 11] Total Num:3000, MAE:6.701611293811493  06/29/2022 16:47:24\n",
      "0 items removed from dataset that have an angle > 180\n",
      "\n",
      "test configuration: gpu_id=cuda:0, batch_size=20\n",
      "model_arch=ResNet50 Start testing dataset=mpiigaze\n",
      "cFOLD=12 dFOLD=12--06/29/2022 16:47:24----\n",
      "[cfold12---dfold 12] Total Num:3000, MAE:9.02601349105745  06/29/2022 16:47:37\n",
      "0 items removed from dataset that have an angle > 180\n",
      "\n",
      "test configuration: gpu_id=cuda:0, batch_size=20\n",
      "model_arch=ResNet50 Start testing dataset=mpiigaze\n",
      "cFOLD=12 dFOLD=13--06/29/2022 16:47:37----\n",
      "[cfold12---dfold 13] Total Num:3000, MAE:8.88144705829916  06/29/2022 16:47:50\n",
      "0 items removed from dataset that have an angle > 180\n",
      "\n",
      "test configuration: gpu_id=cuda:0, batch_size=20\n",
      "model_arch=ResNet50 Start testing dataset=mpiigaze\n",
      "cFOLD=12 dFOLD=14--06/29/2022 16:47:50----\n",
      "[cfold12---dfold 14] Total Num:3000, MAE:5.208782659943176  06/29/2022 16:48:03\n",
      "[cfold12--] MAE for this fold best model:8.197497529109338  06/29/2022 16:48:03\n"
     ]
    },
    {
     "data": {
      "text/html": [
       "Finishing last run (ID:2zsm8e3r) before initializing another..."
      ],
      "text/plain": [
       "<IPython.core.display.HTML object>"
      ]
     },
     "metadata": {},
     "output_type": "display_data"
    },
    {
     "data": {
      "text/html": [
       "Waiting for W&B process to finish... <strong style=\"color:green\">(success).</strong>"
      ],
      "text/plain": [
       "<IPython.core.display.HTML object>"
      ]
     },
     "metadata": {},
     "output_type": "display_data"
    },
    {
     "data": {
      "application/vnd.jupyter.widget-view+json": {
       "model_id": "",
       "version_major": 2,
       "version_minor": 0
      },
      "text/plain": [
       "VBox(children=(Label(value='0.001 MB of 0.001 MB uploaded (0.000 MB deduped)\\r'), FloatProgress(value=1.0, max…"
      ]
     },
     "metadata": {},
     "output_type": "display_data"
    },
    {
     "data": {
      "text/html": [
       "<style>\n",
       "    table.wandb td:nth-child(1) { padding: 0 10px; text-align: right }\n",
       "    .wandb-row { display: flex; flex-direction: row; flex-wrap: wrap; width: 100% }\n",
       "    .wandb-col { display: flex; flex-direction: column; flex-basis: 100%; flex: 1; padding: 10px; }\n",
       "    </style>\n",
       "<div class=\"wandb-row\"><div class=\"wandb-col\"><h3>Run history:</h3><br/><table class=\"wandb\"><tr><td>data fold</td><td>▁▁▂▃▃▃▄▅▅▅▆▇▇▇█</td></tr><tr><td>dfold_0_avg_mae</td><td>▁</td></tr><tr><td>dfold_10_avg_mae</td><td>▁</td></tr><tr><td>dfold_11_avg_mae</td><td>▁</td></tr><tr><td>dfold_12_avg_mae</td><td>▁</td></tr><tr><td>dfold_13_avg_mae</td><td>▁</td></tr><tr><td>dfold_14_avg_mae</td><td>▁</td></tr><tr><td>dfold_1_avg_mae</td><td>▁</td></tr><tr><td>dfold_2_avg_mae</td><td>▁</td></tr><tr><td>dfold_3_avg_mae</td><td>▁</td></tr><tr><td>dfold_4_avg_mae</td><td>▁</td></tr><tr><td>dfold_5_avg_mae</td><td>▁</td></tr><tr><td>dfold_6_avg_mae</td><td>▁</td></tr><tr><td>dfold_7_avg_mae</td><td>▁</td></tr><tr><td>dfold_8_avg_mae</td><td>▁</td></tr><tr><td>dfold_9_avg_mae</td><td>▁</td></tr></table><br/></div><div class=\"wandb-col\"><h3>Run summary:</h3><br/><table class=\"wandb\"><tr><td>data fold</td><td>14</td></tr><tr><td>dfold_0_avg_mae</td><td>6.03953</td></tr><tr><td>dfold_10_avg_mae</td><td>11.69856</td></tr><tr><td>dfold_11_avg_mae</td><td>6.70161</td></tr><tr><td>dfold_12_avg_mae</td><td>9.02601</td></tr><tr><td>dfold_13_avg_mae</td><td>8.88145</td></tr><tr><td>dfold_14_avg_mae</td><td>5.20878</td></tr><tr><td>dfold_1_avg_mae</td><td>8.65863</td></tr><tr><td>dfold_2_avg_mae</td><td>4.77434</td></tr><tr><td>dfold_3_avg_mae</td><td>8.26947</td></tr><tr><td>dfold_4_avg_mae</td><td>6.28307</td></tr><tr><td>dfold_5_avg_mae</td><td>6.81407</td></tr><tr><td>dfold_6_avg_mae</td><td>12.30872</td></tr><tr><td>dfold_7_avg_mae</td><td>7.91899</td></tr><tr><td>dfold_8_avg_mae</td><td>8.156</td></tr><tr><td>dfold_9_avg_mae</td><td>12.22322</td></tr></table><br/></div></div>"
      ],
      "text/plain": [
       "<IPython.core.display.HTML object>"
      ]
     },
     "metadata": {},
     "output_type": "display_data"
    },
    {
     "data": {
      "text/html": [
       "Synced <strong style=\"color:#cdcd00\">vibrant-brook-14</strong>: <a href=\"https://wandb.ai/synthesis-ai/55_best_checkpoint_model_all_real_data_folds_equalized/runs/2zsm8e3r\" target=\"_blank\">https://wandb.ai/synthesis-ai/55_best_checkpoint_model_all_real_data_folds_equalized/runs/2zsm8e3r</a><br/>Synced 5 W&B file(s), 0 media file(s), 0 artifact file(s) and 0 other file(s)"
      ],
      "text/plain": [
       "<IPython.core.display.HTML object>"
      ]
     },
     "metadata": {},
     "output_type": "display_data"
    },
    {
     "data": {
      "text/html": [
       "Find logs at: <code>./wandb/run-20220629_234436-2zsm8e3r/logs</code>"
      ],
      "text/plain": [
       "<IPython.core.display.HTML object>"
      ]
     },
     "metadata": {},
     "output_type": "display_data"
    },
    {
     "data": {
      "text/html": [
       "Successfully finished last run (ID:2zsm8e3r). Initializing new run:<br/>"
      ],
      "text/plain": [
       "<IPython.core.display.HTML object>"
      ]
     },
     "metadata": {},
     "output_type": "display_data"
    },
    {
     "data": {
      "text/html": [
       "wandb version 0.12.20 is available!  To upgrade, please run:\n",
       " $ pip install wandb --upgrade"
      ],
      "text/plain": [
       "<IPython.core.display.HTML object>"
      ]
     },
     "metadata": {},
     "output_type": "display_data"
    },
    {
     "data": {
      "text/html": [
       "Tracking run with wandb version 0.12.15"
      ],
      "text/plain": [
       "<IPython.core.display.HTML object>"
      ]
     },
     "metadata": {},
     "output_type": "display_data"
    },
    {
     "data": {
      "text/html": [
       "Run data is saved locally in <code>/project/notebooks/wandb/run-20220629_234803-2oo5vc5w</code>"
      ],
      "text/plain": [
       "<IPython.core.display.HTML object>"
      ]
     },
     "metadata": {},
     "output_type": "display_data"
    },
    {
     "data": {
      "text/html": [
       "Syncing run <strong><a href=\"https://wandb.ai/synthesis-ai/55_best_checkpoint_model_all_real_data_folds_equalized/runs/2oo5vc5w\" target=\"_blank\">blooming-glitter-15</a></strong> to <a href=\"https://wandb.ai/synthesis-ai/55_best_checkpoint_model_all_real_data_folds_equalized\" target=\"_blank\">Weights & Biases</a> (<a href=\"https://wandb.me/run\" target=\"_blank\">docs</a>)<br/>"
      ],
      "text/plain": [
       "<IPython.core.display.HTML object>"
      ]
     },
     "metadata": {},
     "output_type": "display_data"
    },
    {
     "name": "stdout",
     "output_type": "stream",
     "text": [
      "cfold=fold13\n",
      "0 items removed from dataset that have an angle > 180\n",
      "\n",
      "test configuration: gpu_id=cuda:0, batch_size=20\n",
      "model_arch=ResNet50 Start testing dataset=mpiigaze\n",
      "cFOLD=13 dFOLD=0--06/29/2022 16:48:12----\n",
      "[cfold13---dfold 0] Total Num:3000, MAE:6.35587446494755  06/29/2022 16:48:25\n",
      "0 items removed from dataset that have an angle > 180\n",
      "\n",
      "test configuration: gpu_id=cuda:0, batch_size=20\n",
      "model_arch=ResNet50 Start testing dataset=mpiigaze\n",
      "cFOLD=13 dFOLD=1--06/29/2022 16:48:25----\n",
      "[cfold13---dfold 1] Total Num:3000, MAE:9.68523862002878  06/29/2022 16:48:38\n",
      "0 items removed from dataset that have an angle > 180\n",
      "\n",
      "test configuration: gpu_id=cuda:0, batch_size=20\n",
      "model_arch=ResNet50 Start testing dataset=mpiigaze\n",
      "cFOLD=13 dFOLD=2--06/29/2022 16:48:38----\n",
      "[cfold13---dfold 2] Total Num:3000, MAE:4.4834976429237825  06/29/2022 16:48:52\n",
      "0 items removed from dataset that have an angle > 180\n",
      "\n",
      "test configuration: gpu_id=cuda:0, batch_size=20\n",
      "model_arch=ResNet50 Start testing dataset=mpiigaze\n",
      "cFOLD=13 dFOLD=3--06/29/2022 16:48:52----\n",
      "[cfold13---dfold 3] Total Num:3000, MAE:7.585799991169333  06/29/2022 16:49:05\n",
      "0 items removed from dataset that have an angle > 180\n",
      "\n",
      "test configuration: gpu_id=cuda:0, batch_size=20\n",
      "model_arch=ResNet50 Start testing dataset=mpiigaze\n",
      "cFOLD=13 dFOLD=4--06/29/2022 16:49:05----\n",
      "[cfold13---dfold 4] Total Num:3000, MAE:6.100060359862062  06/29/2022 16:49:18\n",
      "0 items removed from dataset that have an angle > 180\n",
      "\n",
      "test configuration: gpu_id=cuda:0, batch_size=20\n",
      "model_arch=ResNet50 Start testing dataset=mpiigaze\n",
      "cFOLD=13 dFOLD=5--06/29/2022 16:49:18----\n",
      "[cfold13---dfold 5] Total Num:3000, MAE:5.536897653049294  06/29/2022 16:49:33\n",
      "0 items removed from dataset that have an angle > 180\n",
      "\n",
      "test configuration: gpu_id=cuda:0, batch_size=20\n",
      "model_arch=ResNet50 Start testing dataset=mpiigaze\n",
      "cFOLD=13 dFOLD=6--06/29/2022 16:49:33----\n",
      "[cfold13---dfold 6] Total Num:3000, MAE:11.685748354335207  06/29/2022 16:49:46\n",
      "0 items removed from dataset that have an angle > 180\n",
      "\n",
      "test configuration: gpu_id=cuda:0, batch_size=20\n",
      "model_arch=ResNet50 Start testing dataset=mpiigaze\n",
      "cFOLD=13 dFOLD=7--06/29/2022 16:49:46----\n",
      "[cfold13---dfold 7] Total Num:3000, MAE:8.017454291007585  06/29/2022 16:49:59\n",
      "0 items removed from dataset that have an angle > 180\n",
      "\n",
      "test configuration: gpu_id=cuda:0, batch_size=20\n",
      "model_arch=ResNet50 Start testing dataset=mpiigaze\n",
      "cFOLD=13 dFOLD=8--06/29/2022 16:49:59----\n",
      "[cfold13---dfold 8] Total Num:3000, MAE:7.49206073082189  06/29/2022 16:50:12\n",
      "0 items removed from dataset that have an angle > 180\n",
      "\n",
      "test configuration: gpu_id=cuda:0, batch_size=20\n",
      "model_arch=ResNet50 Start testing dataset=mpiigaze\n",
      "cFOLD=13 dFOLD=9--06/29/2022 16:50:12----\n",
      "[cfold13---dfold 9] Total Num:3000, MAE:10.113916083484733  06/29/2022 16:50:25\n",
      "0 items removed from dataset that have an angle > 180\n",
      "\n",
      "test configuration: gpu_id=cuda:0, batch_size=20\n",
      "model_arch=ResNet50 Start testing dataset=mpiigaze\n",
      "cFOLD=13 dFOLD=10--06/29/2022 16:50:25----\n",
      "[cfold13---dfold 10] Total Num:3000, MAE:10.813027046397124  06/29/2022 16:50:39\n",
      "0 items removed from dataset that have an angle > 180\n",
      "\n",
      "test configuration: gpu_id=cuda:0, batch_size=20\n",
      "model_arch=ResNet50 Start testing dataset=mpiigaze\n",
      "cFOLD=13 dFOLD=11--06/29/2022 16:50:39----\n",
      "[cfold13---dfold 11] Total Num:3000, MAE:5.832254830575517  06/29/2022 16:50:52\n",
      "0 items removed from dataset that have an angle > 180\n",
      "\n",
      "test configuration: gpu_id=cuda:0, batch_size=20\n",
      "model_arch=ResNet50 Start testing dataset=mpiigaze\n",
      "cFOLD=13 dFOLD=12--06/29/2022 16:50:52----\n",
      "[cfold13---dfold 12] Total Num:3000, MAE:9.247387068504782  06/29/2022 16:51:05\n",
      "0 items removed from dataset that have an angle > 180\n",
      "\n",
      "test configuration: gpu_id=cuda:0, batch_size=20\n",
      "model_arch=ResNet50 Start testing dataset=mpiigaze\n",
      "cFOLD=13 dFOLD=13--06/29/2022 16:51:05----\n",
      "[cfold13---dfold 13] Total Num:3000, MAE:9.010659777885275  06/29/2022 16:51:18\n",
      "0 items removed from dataset that have an angle > 180\n",
      "\n",
      "test configuration: gpu_id=cuda:0, batch_size=20\n",
      "model_arch=ResNet50 Start testing dataset=mpiigaze\n",
      "cFOLD=13 dFOLD=14--06/29/2022 16:51:18----\n",
      "[cfold13---dfold 14] Total Num:3000, MAE:5.714815593117313  06/29/2022 16:51:31\n",
      "[cfold13--] MAE for this fold best model:7.844979500540683  06/29/2022 16:51:31\n"
     ]
    },
    {
     "data": {
      "text/html": [
       "Finishing last run (ID:2oo5vc5w) before initializing another..."
      ],
      "text/plain": [
       "<IPython.core.display.HTML object>"
      ]
     },
     "metadata": {},
     "output_type": "display_data"
    },
    {
     "data": {
      "text/html": [
       "Waiting for W&B process to finish... <strong style=\"color:green\">(success).</strong>"
      ],
      "text/plain": [
       "<IPython.core.display.HTML object>"
      ]
     },
     "metadata": {},
     "output_type": "display_data"
    },
    {
     "data": {
      "application/vnd.jupyter.widget-view+json": {
       "model_id": "",
       "version_major": 2,
       "version_minor": 0
      },
      "text/plain": [
       "VBox(children=(Label(value='0.001 MB of 0.001 MB uploaded (0.000 MB deduped)\\r'), FloatProgress(value=1.0, max…"
      ]
     },
     "metadata": {},
     "output_type": "display_data"
    },
    {
     "data": {
      "text/html": [
       "<style>\n",
       "    table.wandb td:nth-child(1) { padding: 0 10px; text-align: right }\n",
       "    .wandb-row { display: flex; flex-direction: row; flex-wrap: wrap; width: 100% }\n",
       "    .wandb-col { display: flex; flex-direction: column; flex-basis: 100%; flex: 1; padding: 10px; }\n",
       "    </style>\n",
       "<div class=\"wandb-row\"><div class=\"wandb-col\"><h3>Run history:</h3><br/><table class=\"wandb\"><tr><td>data fold</td><td>▁▁▂▃▃▃▄▅▅▅▆▇▇▇█</td></tr><tr><td>dfold_0_avg_mae</td><td>▁</td></tr><tr><td>dfold_10_avg_mae</td><td>▁</td></tr><tr><td>dfold_11_avg_mae</td><td>▁</td></tr><tr><td>dfold_12_avg_mae</td><td>▁</td></tr><tr><td>dfold_13_avg_mae</td><td>▁</td></tr><tr><td>dfold_14_avg_mae</td><td>▁</td></tr><tr><td>dfold_1_avg_mae</td><td>▁</td></tr><tr><td>dfold_2_avg_mae</td><td>▁</td></tr><tr><td>dfold_3_avg_mae</td><td>▁</td></tr><tr><td>dfold_4_avg_mae</td><td>▁</td></tr><tr><td>dfold_5_avg_mae</td><td>▁</td></tr><tr><td>dfold_6_avg_mae</td><td>▁</td></tr><tr><td>dfold_7_avg_mae</td><td>▁</td></tr><tr><td>dfold_8_avg_mae</td><td>▁</td></tr><tr><td>dfold_9_avg_mae</td><td>▁</td></tr></table><br/></div><div class=\"wandb-col\"><h3>Run summary:</h3><br/><table class=\"wandb\"><tr><td>data fold</td><td>14</td></tr><tr><td>dfold_0_avg_mae</td><td>6.35587</td></tr><tr><td>dfold_10_avg_mae</td><td>10.81303</td></tr><tr><td>dfold_11_avg_mae</td><td>5.83225</td></tr><tr><td>dfold_12_avg_mae</td><td>9.24739</td></tr><tr><td>dfold_13_avg_mae</td><td>9.01066</td></tr><tr><td>dfold_14_avg_mae</td><td>5.71482</td></tr><tr><td>dfold_1_avg_mae</td><td>9.68524</td></tr><tr><td>dfold_2_avg_mae</td><td>4.4835</td></tr><tr><td>dfold_3_avg_mae</td><td>7.5858</td></tr><tr><td>dfold_4_avg_mae</td><td>6.10006</td></tr><tr><td>dfold_5_avg_mae</td><td>5.5369</td></tr><tr><td>dfold_6_avg_mae</td><td>11.68575</td></tr><tr><td>dfold_7_avg_mae</td><td>8.01745</td></tr><tr><td>dfold_8_avg_mae</td><td>7.49206</td></tr><tr><td>dfold_9_avg_mae</td><td>10.11392</td></tr></table><br/></div></div>"
      ],
      "text/plain": [
       "<IPython.core.display.HTML object>"
      ]
     },
     "metadata": {},
     "output_type": "display_data"
    },
    {
     "data": {
      "text/html": [
       "Synced <strong style=\"color:#cdcd00\">blooming-glitter-15</strong>: <a href=\"https://wandb.ai/synthesis-ai/55_best_checkpoint_model_all_real_data_folds_equalized/runs/2oo5vc5w\" target=\"_blank\">https://wandb.ai/synthesis-ai/55_best_checkpoint_model_all_real_data_folds_equalized/runs/2oo5vc5w</a><br/>Synced 5 W&B file(s), 0 media file(s), 0 artifact file(s) and 0 other file(s)"
      ],
      "text/plain": [
       "<IPython.core.display.HTML object>"
      ]
     },
     "metadata": {},
     "output_type": "display_data"
    },
    {
     "data": {
      "text/html": [
       "Find logs at: <code>./wandb/run-20220629_234803-2oo5vc5w/logs</code>"
      ],
      "text/plain": [
       "<IPython.core.display.HTML object>"
      ]
     },
     "metadata": {},
     "output_type": "display_data"
    },
    {
     "data": {
      "text/html": [
       "Successfully finished last run (ID:2oo5vc5w). Initializing new run:<br/>"
      ],
      "text/plain": [
       "<IPython.core.display.HTML object>"
      ]
     },
     "metadata": {},
     "output_type": "display_data"
    },
    {
     "data": {
      "text/html": [
       "wandb version 0.12.20 is available!  To upgrade, please run:\n",
       " $ pip install wandb --upgrade"
      ],
      "text/plain": [
       "<IPython.core.display.HTML object>"
      ]
     },
     "metadata": {},
     "output_type": "display_data"
    },
    {
     "data": {
      "text/html": [
       "Tracking run with wandb version 0.12.15"
      ],
      "text/plain": [
       "<IPython.core.display.HTML object>"
      ]
     },
     "metadata": {},
     "output_type": "display_data"
    },
    {
     "data": {
      "text/html": [
       "Run data is saved locally in <code>/project/notebooks/wandb/run-20220629_235131-2sgkoi5m</code>"
      ],
      "text/plain": [
       "<IPython.core.display.HTML object>"
      ]
     },
     "metadata": {},
     "output_type": "display_data"
    },
    {
     "data": {
      "text/html": [
       "Syncing run <strong><a href=\"https://wandb.ai/synthesis-ai/55_best_checkpoint_model_all_real_data_folds_equalized/runs/2sgkoi5m\" target=\"_blank\">apricot-leaf-16</a></strong> to <a href=\"https://wandb.ai/synthesis-ai/55_best_checkpoint_model_all_real_data_folds_equalized\" target=\"_blank\">Weights & Biases</a> (<a href=\"https://wandb.me/run\" target=\"_blank\">docs</a>)<br/>"
      ],
      "text/plain": [
       "<IPython.core.display.HTML object>"
      ]
     },
     "metadata": {},
     "output_type": "display_data"
    },
    {
     "name": "stdout",
     "output_type": "stream",
     "text": [
      "cfold=fold14\n",
      "0 items removed from dataset that have an angle > 180\n",
      "\n",
      "test configuration: gpu_id=cuda:0, batch_size=20\n",
      "model_arch=ResNet50 Start testing dataset=mpiigaze\n",
      "cFOLD=14 dFOLD=0--06/29/2022 16:51:40----\n",
      "[cfold14---dfold 0] Total Num:3000, MAE:4.270303307732273  06/29/2022 16:51:53\n",
      "0 items removed from dataset that have an angle > 180\n",
      "\n",
      "test configuration: gpu_id=cuda:0, batch_size=20\n",
      "model_arch=ResNet50 Start testing dataset=mpiigaze\n",
      "cFOLD=14 dFOLD=1--06/29/2022 16:51:53----\n",
      "[cfold14---dfold 1] Total Num:3000, MAE:8.671045155942695  06/29/2022 16:52:06\n",
      "0 items removed from dataset that have an angle > 180\n",
      "\n",
      "test configuration: gpu_id=cuda:0, batch_size=20\n",
      "model_arch=ResNet50 Start testing dataset=mpiigaze\n",
      "cFOLD=14 dFOLD=2--06/29/2022 16:52:06----\n",
      "[cfold14---dfold 2] Total Num:3000, MAE:5.1881977167487126  06/29/2022 16:52:19\n",
      "0 items removed from dataset that have an angle > 180\n",
      "\n",
      "test configuration: gpu_id=cuda:0, batch_size=20\n",
      "model_arch=ResNet50 Start testing dataset=mpiigaze\n",
      "cFOLD=14 dFOLD=3--06/29/2022 16:52:19----\n",
      "[cfold14---dfold 3] Total Num:3000, MAE:5.2002596237679635  06/29/2022 16:52:32\n",
      "0 items removed from dataset that have an angle > 180\n",
      "\n",
      "test configuration: gpu_id=cuda:0, batch_size=20\n",
      "model_arch=ResNet50 Start testing dataset=mpiigaze\n",
      "cFOLD=14 dFOLD=4--06/29/2022 16:52:32----\n",
      "[cfold14---dfold 4] Total Num:3000, MAE:7.691919162797721  06/29/2022 16:52:45\n",
      "0 items removed from dataset that have an angle > 180\n",
      "\n",
      "test configuration: gpu_id=cuda:0, batch_size=20\n",
      "model_arch=ResNet50 Start testing dataset=mpiigaze\n",
      "cFOLD=14 dFOLD=5--06/29/2022 16:52:45----\n",
      "[cfold14---dfold 5] Total Num:3000, MAE:7.482629802657961  06/29/2022 16:52:58\n",
      "0 items removed from dataset that have an angle > 180\n",
      "\n",
      "test configuration: gpu_id=cuda:0, batch_size=20\n",
      "model_arch=ResNet50 Start testing dataset=mpiigaze\n",
      "cFOLD=14 dFOLD=6--06/29/2022 16:52:58----\n",
      "[cfold14---dfold 6] Total Num:3000, MAE:8.83971860372758  06/29/2022 16:53:11\n",
      "0 items removed from dataset that have an angle > 180\n",
      "\n",
      "test configuration: gpu_id=cuda:0, batch_size=20\n",
      "model_arch=ResNet50 Start testing dataset=mpiigaze\n",
      "cFOLD=14 dFOLD=7--06/29/2022 16:53:11----\n",
      "[cfold14---dfold 7] Total Num:3000, MAE:8.944326810577046  06/29/2022 16:53:24\n",
      "0 items removed from dataset that have an angle > 180\n",
      "\n",
      "test configuration: gpu_id=cuda:0, batch_size=20\n",
      "model_arch=ResNet50 Start testing dataset=mpiigaze\n",
      "cFOLD=14 dFOLD=8--06/29/2022 16:53:25----\n",
      "[cfold14---dfold 8] Total Num:3000, MAE:9.810840229456053  06/29/2022 16:53:38\n",
      "0 items removed from dataset that have an angle > 180\n",
      "\n",
      "test configuration: gpu_id=cuda:0, batch_size=20\n",
      "model_arch=ResNet50 Start testing dataset=mpiigaze\n",
      "cFOLD=14 dFOLD=9--06/29/2022 16:53:38----\n",
      "[cfold14---dfold 9] Total Num:3000, MAE:11.618433490170414  06/29/2022 16:53:51\n",
      "0 items removed from dataset that have an angle > 180\n",
      "\n",
      "test configuration: gpu_id=cuda:0, batch_size=20\n",
      "model_arch=ResNet50 Start testing dataset=mpiigaze\n",
      "cFOLD=14 dFOLD=10--06/29/2022 16:53:51----\n",
      "[cfold14---dfold 10] Total Num:3000, MAE:8.607796114430009  06/29/2022 16:54:04\n",
      "0 items removed from dataset that have an angle > 180\n",
      "\n",
      "test configuration: gpu_id=cuda:0, batch_size=20\n",
      "model_arch=ResNet50 Start testing dataset=mpiigaze\n",
      "cFOLD=14 dFOLD=11--06/29/2022 16:54:04----\n",
      "[cfold14---dfold 11] Total Num:3000, MAE:8.297951138939508  06/29/2022 16:54:17\n",
      "0 items removed from dataset that have an angle > 180\n",
      "\n",
      "test configuration: gpu_id=cuda:0, batch_size=20\n",
      "model_arch=ResNet50 Start testing dataset=mpiigaze\n",
      "cFOLD=14 dFOLD=12--06/29/2022 16:54:17----\n",
      "[cfold14---dfold 12] Total Num:3000, MAE:8.377639694526229  06/29/2022 16:54:30\n",
      "0 items removed from dataset that have an angle > 180\n",
      "\n",
      "test configuration: gpu_id=cuda:0, batch_size=20\n",
      "model_arch=ResNet50 Start testing dataset=mpiigaze\n",
      "cFOLD=14 dFOLD=13--06/29/2022 16:54:30----\n",
      "[cfold14---dfold 13] Total Num:3000, MAE:6.824737587020693  06/29/2022 16:54:43\n",
      "0 items removed from dataset that have an angle > 180\n",
      "\n",
      "test configuration: gpu_id=cuda:0, batch_size=20\n",
      "model_arch=ResNet50 Start testing dataset=mpiigaze\n",
      "cFOLD=14 dFOLD=14--06/29/2022 16:54:43----\n",
      "[cfold14---dfold 14] Total Num:3000, MAE:6.476430218234016  06/29/2022 16:54:56\n",
      "[cfold14--] MAE for this fold best model:7.75348191044859  06/29/2022 16:54:56\n",
      "CPU times: user 43min 34s, sys: 16min 57s, total: 1h 32s\n",
      "Wall time: 51min 31s\n"
     ]
    }
   ],
   "source": [
    "%%time\n",
    "all_MAE = []\n",
    "# tosave={}\n",
    "lfolder = os.listdir(gazeMpiilabel_dir)\n",
    "lfolder.sort()  #individual label files\n",
    "testlabelpathcombined = [os.path.join(gazeMpiilabel_dir, j) for j in lfolder] \n",
    "print(testlabelpathcombined)\n",
    "model = model_used\n",
    "model= nn.DataParallel(model,device_ids=[0])  #important to load state dict\n",
    "for cfold in range(15):  #checkpoint folds\n",
    "    frun = wandb.init(project=\"55_best_checkpoint_model_all_real_data_folds_equalized\")\n",
    "    frun.name = f'checkpoint fold{cfold}_mae'\n",
    "    \n",
    "    cfoldstr = f\"fold{cfold:0>2}\"\n",
    "    print(f\"cfold={cfoldstr}\")\n",
    "    idx = cfold + 1\n",
    "    b_epoch = best_epoch[idx]\n",
    "    \n",
    "    checkpoint_path = Path(snapshot_path)/cfoldstr\n",
    "    best_checkpoint_file = 'epoch_'+str(b_epoch)+'.pkl'\n",
    "    best_checkpoint_file = checkpoint_path/best_checkpoint_file\n",
    "#     print(best_checkpoint_file, type(best_checkpoint_file))\n",
    "    checkpoint = torch.load(best_checkpoint_file)\n",
    "    saved_state_dict = checkpoint['model_state_dict']\n",
    "    model.load_state_dict(saved_state_dict)\n",
    "\n",
    "    model.cuda(gpu)\n",
    "    model.eval()\n",
    "    idx_tensor = [idx for idx in range(35)]\n",
    "    idx_tensor = torch.FloatTensor(idx_tensor).cuda(gpu)\n",
    "    softmax = nn.Softmax(dim=1)\n",
    "    best_model_maes =[]  # error for each data fold\n",
    "    for dfold in range(15):  #data folds\n",
    "        gaze_dataset=datasets.Mpiigaze(testlabelpathcombined, gazeMpiimage_dir, transformations, False, angle, dfold)\n",
    "        test_loader = torch.utils.data.DataLoader(\n",
    "            dataset=gaze_dataset,\n",
    "            batch_size=batch_size,\n",
    "            shuffle=True,\n",
    "            num_workers=4,\n",
    "            pin_memory=True)\n",
    "        now = get_now()\n",
    "        configuration = f\"\\ntest configuration: gpu_id={gpu}, batch_size={batch_size}\\n\"\n",
    "        configuration += f\"model_arch={arch} Start testing dataset={data_set}\\n\"\n",
    "        configuration +=  f\"cFOLD={cfold} dFOLD={dfold}--{now}----\"\n",
    "        print(configuration)\n",
    "        \n",
    "        total = 0  \n",
    "        avg_error = .0\n",
    "        with torch.no_grad():\n",
    "            for j, (images, labels, cont_labels, name) in enumerate(test_loader):\n",
    "                images = Variable(images).cuda(gpu)\n",
    "                total += cont_labels.size(0)\n",
    "\n",
    "                label_pitch = cont_labels[:,0].float()*np.pi/180\n",
    "                label_yaw = cont_labels[:,1].float()*np.pi/180\n",
    "\n",
    "                gaze_pitch, gaze_yaw = model(images)\n",
    "\n",
    "                # Binned predictions\n",
    "                _, pitch_bpred = torch.max(gaze_pitch.data, 1)\n",
    "                _, yaw_bpred = torch.max(gaze_yaw.data, 1)\n",
    "\n",
    "                # Continuous predictions\n",
    "                pitch_predicted = softmax(gaze_pitch)\n",
    "                yaw_predicted = softmax(gaze_yaw)\n",
    "\n",
    "                # mapping from binned (0 to 28) to angels (-42 to 42)                \n",
    "                pitch_predicted = \\\n",
    "                    torch.sum(pitch_predicted * idx_tensor, 1).cpu() * 3 - 52\n",
    "                yaw_predicted = \\\n",
    "                    torch.sum(yaw_predicted * idx_tensor, 1).cpu() * 3 - 52\n",
    "\n",
    "                pitch_predicted = pitch_predicted*np.pi/180\n",
    "                yaw_predicted = yaw_predicted*np.pi/180\n",
    "\n",
    "                for p,y,pl,yl in zip(pitch_predicted, yaw_predicted, label_pitch, label_yaw):\n",
    "                    pl, yl = yl, pl*(-1.0)\n",
    "                    avg_error += angular(gazeto3d([p,y]), gazeto3d([pl,yl])) #accumulate over all batches\n",
    "                    \n",
    "        mean_mae = avg_error/total  \n",
    "        now = get_now()\n",
    "        msg = f\"[cfold{cfold}---dfold {dfold}] Total Num:{total}, MAE:{mean_mae}  {now}\"\n",
    "#         outfile.write(loger)\n",
    "        print(msg)\n",
    "        best_model_maes.append(mean_mae)  # a row of maes for each data fold\n",
    "        # log the mean error for the data fold for diagnostic purposes\n",
    "        frun.log({'data fold': dfold, f'dfold_{dfold}_avg_mae':mean_mae}, step=dfold)\n",
    "    bestmodel_mean = np.mean(best_model_maes)  # the mean mae for the model  \n",
    "    msg = f\"[cfold{cfold}--] MAE for this fold best model:{bestmodel_mean}  {now}\"\n",
    "    print(msg)\n",
    "    all_MAE.append(best_model_maes)  # append the whole row of data fold maes for each best fold model\n",
    "    # log for each best model\n",
    "    "
   ]
  },
  {
   "cell_type": "code",
   "execution_count": 10,
   "id": "065622ef",
   "metadata": {},
   "outputs": [],
   "source": [
    "all_MAE=np.array(all_MAE)"
   ]
  },
  {
   "cell_type": "code",
   "execution_count": 11,
   "id": "0872f6ce",
   "metadata": {},
   "outputs": [
    {
     "name": "stdout",
     "output_type": "stream",
     "text": [
      "(15, 15)\n",
      "data fold means, which data fold is bad or good:\n",
      " [ 6.14917591  9.87022369  5.02660846  7.33451367  6.72268234  6.47736597\n",
      " 10.95452298  8.39708474  7.76092285 11.34258817 10.44561965  6.54733524\n",
      "  9.07444316  8.90867856  5.69580478]\n",
      "model means, which model ot choose:\n",
      " [7.47963197 8.01445856 7.50173654 7.91212203 9.67142639 8.87843146\n",
      " 8.16137806 7.72827864 7.63564082 7.43458384 8.61195753 7.8819654\n",
      " 8.19749753 7.8449795  7.75348191]\n"
     ]
    }
   ],
   "source": [
    "print(all_MAE.shape)\n",
    "print(\"data fold means, which data fold is bad or good:\\n\",all_MAE.mean(axis=0))\n",
    "print(\"model means, which model ot choose:\\n\", all_MAE.mean(axis=1))\n",
    "# print(\"data fold min:\", all_MAE.min(axis=0))\n",
    "# print(\"model min:\", all_MAE.min(axis=1))\n",
    "# print(\"data fold max:\", all_MAE.max(axis=0))\n",
    "# print(\"model max:\", all_MAE.max(axis=1))"
   ]
  },
  {
   "cell_type": "code",
   "execution_count": null,
   "id": "752e7dd4",
   "metadata": {},
   "outputs": [],
   "source": []
  },
  {
   "cell_type": "code",
   "execution_count": 12,
   "id": "257cf58e",
   "metadata": {},
   "outputs": [],
   "source": [
    "save_file = Path(snapshot_path).parent/\"cfold_dfold_all_MAE.npy\"\n",
    "with open(save_file, 'wb') as f:\n",
    "    np.save(f, all_MAE)"
   ]
  }
 ],
 "metadata": {
  "kernelspec": {
   "display_name": "Python 3 (ipykernel)",
   "language": "python",
   "name": "python3"
  },
  "language_info": {
   "codemirror_mode": {
    "name": "ipython",
    "version": 3
   },
   "file_extension": ".py",
   "mimetype": "text/x-python",
   "name": "python",
   "nbconvert_exporter": "python",
   "pygments_lexer": "ipython3",
   "version": "3.8.10"
  }
 },
 "nbformat": 4,
 "nbformat_minor": 5
}
