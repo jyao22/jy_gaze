{
 "cells": [
  {
   "cell_type": "code",
   "execution_count": 2,
   "id": "9011ea63",
   "metadata": {},
   "outputs": [],
   "source": [
    "import numpy as np"
   ]
  },
  {
   "cell_type": "code",
   "execution_count": 3,
   "id": "35e4a9e8",
   "metadata": {},
   "outputs": [],
   "source": [
    "yaw = 25\n",
    "pitch = -5"
   ]
  },
  {
   "cell_type": "code",
   "execution_count": 4,
   "id": "b736e764",
   "metadata": {},
   "outputs": [],
   "source": [
    "bins = np.array(range(-42, 42, 2))\n",
    "binned_pose = np.digitize([pitch, yaw], bins) - 1"
   ]
  },
  {
   "cell_type": "code",
   "execution_count": 5,
   "id": "a7669d7b",
   "metadata": {},
   "outputs": [
    {
     "name": "stdout",
     "output_type": "stream",
     "text": [
      "[-42 -40 -38 -36 -34 -32 -30 -28 -26 -24 -22 -20 -18 -16 -14 -12 -10  -8\n",
      "  -6  -4  -2   0   2   4   6   8  10  12  14  16  18  20  22  24  26  28\n",
      "  30  32  34  36  38  40] 42\n"
     ]
    }
   ],
   "source": [
    "print(bins, len(bins))"
   ]
  },
  {
   "cell_type": "code",
   "execution_count": 6,
   "id": "4aaf7aa4",
   "metadata": {},
   "outputs": [
    {
     "name": "stdout",
     "output_type": "stream",
     "text": [
      "[18 33]\n"
     ]
    }
   ],
   "source": [
    "print(binned_pose)"
   ]
  },
  {
   "cell_type": "code",
   "execution_count": 7,
   "id": "a4b0a4c0",
   "metadata": {},
   "outputs": [],
   "source": [
    "import timeit\n",
    "import time"
   ]
  },
  {
   "cell_type": "code",
   "execution_count": 8,
   "id": "23df1d51",
   "metadata": {},
   "outputs": [
    {
     "name": "stdout",
     "output_type": "stream",
     "text": [
      "fold00\n",
      "fold01\n",
      "fold02\n",
      "fold03\n",
      "fold04\n"
     ]
    }
   ],
   "source": [
    "for fold in range(5):\n",
    "    print(f\"fold{fold:0>2}\")"
   ]
  },
  {
   "cell_type": "code",
   "execution_count": 9,
   "id": "585ff7a7",
   "metadata": {},
   "outputs": [
    {
     "name": "stdout",
     "output_type": "stream",
     "text": [
      "100\n"
     ]
    }
   ],
   "source": [
    "y=\"price100.txt\"\n",
    "x = ''.join(filter(lambda i: i.isdigit(), y))\n",
    "print(x)"
   ]
  },
  {
   "cell_type": "code",
   "execution_count": null,
   "id": "fd01a17a",
   "metadata": {},
   "outputs": [],
   "source": []
  },
  {
   "cell_type": "code",
   "execution_count": 10,
   "id": "e1cb371c",
   "metadata": {},
   "outputs": [
    {
     "name": "stdout",
     "output_type": "stream",
     "text": [
      "Current date & time is: 06/15/2022 22:04:49 UTC\n",
      "Local date & time is  : 06/15/2022 15:04:49 PDT\n"
     ]
    }
   ],
   "source": [
    "from datetime import datetime\n",
    "from pytz import timezone\n",
    "import pytz\n",
    "\n",
    "date_format='%m/%d/%Y %H:%M:%S %Z'\n",
    "date = datetime.now(tz=pytz.utc)\n",
    "print('Current date & time is:', date.strftime(date_format))\n",
    "\n",
    "date = date.astimezone(timezone('US/Pacific'))\n",
    "\n",
    "print('Local date & time is  :', date.strftime(date_format))"
   ]
  },
  {
   "cell_type": "code",
   "execution_count": 11,
   "id": "7bcadfdd",
   "metadata": {},
   "outputs": [
    {
     "name": "stdout",
     "output_type": "stream",
     "text": [
      "06/15/2022 15:04:49\n"
     ]
    }
   ],
   "source": [
    "now = datetime.utcnow()\n",
    "now = now.astimezone(timezone('US/Pacific'))\n",
    "# print(now)\n",
    "# date_format='%m_%d_%Y_%H_%M_%S'\n",
    "date_format='%m/%d/%Y %H:%M:%S'\n",
    "now = now.strftime(date_format)\n",
    "print(now)\n",
    "\n",
    "    \n",
    "    "
   ]
  },
  {
   "cell_type": "code",
   "execution_count": 12,
   "id": "93e3c03f",
   "metadata": {},
   "outputs": [
    {
     "name": "stdout",
     "output_type": "stream",
     "text": [
      "fold00\tfold02\tfold04\tfold06\tfold08\tfold10\tfold12\tfold14\r\n",
      "fold01\tfold03\tfold05\tfold07\tfold09\tfold11\tfold13\r\n"
     ]
    }
   ],
   "source": [
    "!ls ../results/output/snapshots/"
   ]
  },
  {
   "cell_type": "code",
   "execution_count": 13,
   "id": "7169f27f",
   "metadata": {},
   "outputs": [
    {
     "name": "stderr",
     "output_type": "stream",
     "text": [
      "UsageError: Line magic function `%tensorboard` not found.\n"
     ]
    }
   ],
   "source": [
    "%tensorboard --logdir='/project/results/output/snapshots/fold13/'"
   ]
  }
 ],
 "metadata": {
  "kernelspec": {
   "display_name": "Python 3 (ipykernel)",
   "language": "python",
   "name": "python3"
  },
  "language_info": {
   "codemirror_mode": {
    "name": "ipython",
    "version": 3
   },
   "file_extension": ".py",
   "mimetype": "text/x-python",
   "name": "python",
   "nbconvert_exporter": "python",
   "pygments_lexer": "ipython3",
   "version": "3.8.10"
  }
 },
 "nbformat": 4,
 "nbformat_minor": 5
}
