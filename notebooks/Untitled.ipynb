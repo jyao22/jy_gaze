{
 "cells": [
  {
   "cell_type": "code",
   "execution_count": 41,
   "id": "09d0ded0",
   "metadata": {},
   "outputs": [
    {
     "name": "stderr",
     "output_type": "stream",
     "text": [
      "\u001b[34m\u001b[1mwandb\u001b[0m: Currently logged in as: \u001b[33msynthesis-ai\u001b[0m (use `wandb login --relogin` to force relogin)\n"
     ]
    },
    {
     "data": {
      "text/html": [
       "wandb version 0.12.18 is available!  To upgrade, please run:\n",
       " $ pip install wandb --upgrade"
      ],
      "text/plain": [
       "<IPython.core.display.HTML object>"
      ]
     },
     "metadata": {},
     "output_type": "display_data"
    },
    {
     "data": {
      "text/html": [
       "Tracking run with wandb version 0.12.15"
      ],
      "text/plain": [
       "<IPython.core.display.HTML object>"
      ]
     },
     "metadata": {},
     "output_type": "display_data"
    },
    {
     "data": {
      "text/html": [
       "Run data is saved locally in <code>/project/notebooks/wandb/run-20220616_220925-3un13o1j</code>"
      ],
      "text/plain": [
       "<IPython.core.display.HTML object>"
      ]
     },
     "metadata": {},
     "output_type": "display_data"
    },
    {
     "data": {
      "text/html": [
       "Syncing run <strong><a href=\"https://wandb.ai/synthesis-ai/testgaze/runs/3un13o1j\" target=\"_blank\">honest-fire-3</a></strong> to <a href=\"https://wandb.ai/synthesis-ai/testgaze\" target=\"_blank\">Weights & Biases</a> (<a href=\"https://wandb.me/run\" target=\"_blank\">docs</a>)<br/>"
      ],
      "text/plain": [
       "<IPython.core.display.HTML object>"
      ]
     },
     "metadata": {},
     "output_type": "display_data"
    },
    {
     "data": {
      "text/html": [
       "<button onClick=\"this.nextSibling.style.display='block';this.style.display='none';\">Display W&B run</button><iframe src=\"https://wandb.ai/synthesis-ai/testgaze/runs/3un13o1j?jupyter=true\" style=\"border:none;width:100%;height:420px;display:none;\"></iframe>"
      ],
      "text/plain": [
       "<wandb.sdk.wandb_run.Run at 0x7fd20d2b8910>"
      ]
     },
     "execution_count": 41,
     "metadata": {},
     "output_type": "execute_result"
    }
   ],
   "source": [
    "# import wandb\n",
    "\n",
    "\n",
    "# wandb.init(project='testgaze')"
   ]
  },
  {
   "cell_type": "code",
   "execution_count": 44,
   "id": "3eafa6d1",
   "metadata": {},
   "outputs": [],
   "source": [
    "import math\n",
    "import numpy as np\n",
    "from matplotlib import pyplot as plt"
   ]
  },
  {
   "cell_type": "code",
   "execution_count": 49,
   "id": "0b9a0c73",
   "metadata": {},
   "outputs": [],
   "source": [
    "ims_errs = {}\n",
    "abcs = list(\"ABCDE\")\n",
    "vs = [3,1,5,4,9]"
   ]
  },
  {
   "cell_type": "code",
   "execution_count": 47,
   "id": "375bf7c4",
   "metadata": {},
   "outputs": [],
   "source": [
    "saved = dict(zip(abcs, vs))"
   ]
  },
  {
   "cell_type": "code",
   "execution_count": 48,
   "id": "28918caa",
   "metadata": {},
   "outputs": [
    {
     "data": {
      "text/plain": [
       "{'A': 3, 'B': 1, 'C': 5, 'D': 4, 'E': 9}"
      ]
     },
     "execution_count": 48,
     "metadata": {},
     "output_type": "execute_result"
    }
   ],
   "source": [
    "saved"
   ]
  },
  {
   "cell_type": "code",
   "execution_count": 50,
   "id": "0591677e",
   "metadata": {},
   "outputs": [],
   "source": [
    "ims_errs.update(saved)"
   ]
  },
  {
   "cell_type": "code",
   "execution_count": 51,
   "id": "915f40bf",
   "metadata": {},
   "outputs": [
    {
     "name": "stdout",
     "output_type": "stream",
     "text": [
      "{'A': 3, 'B': 1, 'C': 5, 'D': 4, 'E': 9}\n"
     ]
    }
   ],
   "source": [
    "print(ims_errs)"
   ]
  },
  {
   "cell_type": "code",
   "execution_count": 43,
   "id": "532e9646",
   "metadata": {},
   "outputs": [
    {
     "data": {
      "image/png": "[encoded data removed]",
      "text/plain": [
       "<Figure size 432x288 with 1 Axes>"
      ]
     },
     "metadata": {
      "needs_background": "light"
     },
     "output_type": "display_data"
    }
   ],
   "source": [
    "for fold  in range(3):\n",
    "    c = 10.0*np.random.random()\n",
    "    xs = []\n",
    "    ys =[]\n",
    "    for epoch in range(60):\n",
    "        loss = c-c/(1+math.exp(-0.1*epoch))\n",
    "        wandb.log({'epoch':epoch, 'loss':loss})\n",
    "        xs.append(epoch)\n",
    "        ys.append(loss)\n",
    "    plt.plot(xs, ys)"
   ]
  },
  {
   "cell_type": "code",
   "execution_count": 40,
   "id": "798e7aab",
   "metadata": {},
   "outputs": [
    {
     "ename": "NameError",
     "evalue": "name 'sys' is not defined",
     "output_type": "error",
     "traceback": [
      "\u001b[0;31m---------------------------------------------------------------------------\u001b[0m",
      "\u001b[0;31mNameError\u001b[0m                                 Traceback (most recent call last)",
      "Input \u001b[0;32mIn [40]\u001b[0m, in \u001b[0;36m<cell line: 1>\u001b[0;34m()\u001b[0m\n\u001b[0;32m----> 1\u001b[0m \u001b[43msys\u001b[49m\u001b[38;5;241m.\u001b[39mexit()\n",
      "\u001b[0;31mNameError\u001b[0m: name 'sys' is not defined"
     ]
    }
   ],
   "source": [
    "sys.exit()"
   ]
  },
  {
   "cell_type": "code",
   "execution_count": 13,
   "id": "cb742feb",
   "metadata": {},
   "outputs": [],
   "source": [
    "# wandb.log({\"x\": 6, \"y\": 10})"
   ]
  },
  {
   "cell_type": "code",
   "execution_count": 12,
   "id": "0e4039d9",
   "metadata": {},
   "outputs": [],
   "source": [
    "# wandb.log({\"x\": 8, \"y\": 12})"
   ]
  },
  {
   "cell_type": "code",
   "execution_count": null,
   "id": "9011ea63",
   "metadata": {},
   "outputs": [],
   "source": [
    "# import numpy as np"
   ]
  },
  {
   "cell_type": "code",
   "execution_count": null,
   "id": "84ec5f68",
   "metadata": {},
   "outputs": [],
   "source": [
    "!ls .."
   ]
  },
  {
   "cell_type": "code",
   "execution_count": null,
   "id": "6989232b",
   "metadata": {},
   "outputs": [],
   "source": []
  },
  {
   "cell_type": "code",
   "execution_count": null,
   "id": "8baf4ccd",
   "metadata": {},
   "outputs": [],
   "source": [
    "!df -m . "
   ]
  },
  {
   "cell_type": "code",
   "execution_count": null,
   "id": "35e4a9e8",
   "metadata": {},
   "outputs": [],
   "source": [
    "yaw = 25\n",
    "pitch = -5"
   ]
  },
  {
   "cell_type": "code",
   "execution_count": null,
   "id": "b736e764",
   "metadata": {},
   "outputs": [],
   "source": [
    "bins = np.array(range(-42, 42, 2))\n",
    "binned_pose = np.digitize([pitch, yaw], bins) - 1"
   ]
  },
  {
   "cell_type": "code",
   "execution_count": null,
   "id": "a7669d7b",
   "metadata": {},
   "outputs": [],
   "source": [
    "print(bins, len(bins))"
   ]
  },
  {
   "cell_type": "code",
   "execution_count": null,
   "id": "4aaf7aa4",
   "metadata": {},
   "outputs": [],
   "source": [
    "print(binned_pose)"
   ]
  },
  {
   "cell_type": "code",
   "execution_count": null,
   "id": "a4b0a4c0",
   "metadata": {},
   "outputs": [],
   "source": [
    "import timeit\n",
    "import time"
   ]
  },
  {
   "cell_type": "code",
   "execution_count": null,
   "id": "23df1d51",
   "metadata": {},
   "outputs": [],
   "source": [
    "for fold in range(5):\n",
    "    print(f\"fold{fold:0>2}\")"
   ]
  },
  {
   "cell_type": "code",
   "execution_count": null,
   "id": "585ff7a7",
   "metadata": {},
   "outputs": [],
   "source": [
    "y=\"price100.txt\"\n",
    "x = ''.join(filter(lambda i: i.isdigit(), y))\n",
    "print(x)"
   ]
  },
  {
   "cell_type": "code",
   "execution_count": null,
   "id": "23e3557a",
   "metadata": {},
   "outputs": [],
   "source": []
  },
  {
   "cell_type": "code",
   "execution_count": null,
   "id": "e1cb371c",
   "metadata": {},
   "outputs": [],
   "source": [
    "from datetime import datetime\n",
    "from pytz import timezone\n",
    "import pytz\n",
    "\n",
    "date_format='%m/%d/%Y %H:%M:%S %Z'\n",
    "date = datetime.now(tz=pytz.utc)\n",
    "print('Current date & time is:', date.strftime(date_format))\n",
    "\n",
    "date = date.astimezone(timezone('US/Pacific'))\n",
    "\n",
    "print('Local date & time is  :', date.strftime(date_format))"
   ]
  },
  {
   "cell_type": "code",
   "execution_count": null,
   "id": "73152349",
   "metadata": {},
   "outputs": [],
   "source": [
    "now = datetime.utcnow()\n",
    "now = now.astimezone(timezone('US/Pacific'))\n",
    "# print(now)\n",
    "# date_format='%m_%d_%Y_%H_%M_%S'\n",
    "date_format='%m/%d/%Y %H:%M:%S'\n",
    "now = now.strftime(date_format)\n",
    "print(now)\n",
    "\n",
    "    \n",
    "    "
   ]
  },
  {
   "cell_type": "code",
   "execution_count": null,
   "id": "93e3c03f",
   "metadata": {},
   "outputs": [],
   "source": [
    "!ls ../results/output/snapshots/"
   ]
  },
  {
   "cell_type": "code",
   "execution_count": null,
   "id": "7169f27f",
   "metadata": {},
   "outputs": [],
   "source": [
    "%tensorboard --logdir='/project/results/output/snapshots/fold13/'"
   ]
  }
 ],
 "metadata": {
  "kernelspec": {
   "display_name": "Python 3 (ipykernel)",
   "language": "python",
   "name": "python3"
  },
  "language_info": {
   "codemirror_mode": {
    "name": "ipython",
    "version": 3
   },
   "file_extension": ".py",
   "mimetype": "text/x-python",
   "name": "python",
   "nbconvert_exporter": "python",
   "pygments_lexer": "ipython3",
   "version": "3.8.10"
  }
 },
 "nbformat": 4,
 "nbformat_minor": 5
}
