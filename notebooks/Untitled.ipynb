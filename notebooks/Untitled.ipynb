{
 "cells": [
  {
   "cell_type": "code",
   "execution_count": 1,
   "id": "9011ea63",
   "metadata": {},
   "outputs": [],
   "source": [
    "import numpy as np"
   ]
  },
  {
   "cell_type": "code",
   "execution_count": 3,
   "id": "35e4a9e8",
   "metadata": {},
   "outputs": [],
   "source": [
    "yaw = 25\n",
    "pitch = -5"
   ]
  },
  {
   "cell_type": "code",
   "execution_count": 4,
   "id": "b736e764",
   "metadata": {},
   "outputs": [],
   "source": [
    "bins = np.array(range(-42, 42, 3))\n",
    "binned_pose = np.digitize([pitch, yaw], bins) - 1"
   ]
  },
  {
   "cell_type": "code",
   "execution_count": 6,
   "id": "a7669d7b",
   "metadata": {},
   "outputs": [
    {
     "name": "stdout",
     "output_type": "stream",
     "text": [
      "[-42 -39 -36 -33 -30 -27 -24 -21 -18 -15 -12  -9  -6  -3   0   3   6   9\n",
      "  12  15  18  21  24  27  30  33  36  39]\n"
     ]
    }
   ],
   "source": [
    "print(bins)"
   ]
  },
  {
   "cell_type": "code",
   "execution_count": 5,
   "id": "4aaf7aa4",
   "metadata": {},
   "outputs": [
    {
     "name": "stdout",
     "output_type": "stream",
     "text": [
      "[12 22]\n"
     ]
    }
   ],
   "source": [
    "print(binned_pose)"
   ]
  },
  {
   "cell_type": "code",
   "execution_count": 2,
   "id": "a4b0a4c0",
   "metadata": {},
   "outputs": [],
   "source": [
    "import timeit\n",
    "import time"
   ]
  },
  {
   "cell_type": "code",
   "execution_count": 2,
   "id": "585ff7a7",
   "metadata": {},
   "outputs": [
    {
     "data": {
      "text/plain": [
       "23.75"
      ]
     },
     "execution_count": 2,
     "metadata": {},
     "output_type": "execute_result"
    }
   ],
   "source": [
    "95*15/60\n"
   ]
  },
  {
   "cell_type": "code",
   "execution_count": 3,
   "id": "e1cb371c",
   "metadata": {},
   "outputs": [],
   "source": [
    "%load_ext tensorboard"
   ]
  },
  {
   "cell_type": "code",
   "execution_count": 15,
   "id": "93e3c03f",
   "metadata": {},
   "outputs": [
    {
     "name": "stdout",
     "output_type": "stream",
     "text": [
      "fold00\tfold01\tfold02\tfold03\tfold04\tfold05\tfold06\tfold07\r\n"
     ]
    }
   ],
   "source": [
    "!ls ../results/output/snapshots/"
   ]
  },
  {
   "cell_type": "code",
   "execution_count": 4,
   "id": "7169f27f",
   "metadata": {},
   "outputs": [
    {
     "data": {
      "text/html": [
       "\n",
       "      <iframe id=\"tensorboard-frame-aeea1bce309d50d3\" width=\"100%\" height=\"800\" frameborder=\"0\">\n",
       "      </iframe>\n",
       "      <script>\n",
       "        (function() {\n",
       "          const frame = document.getElementById(\"tensorboard-frame-aeea1bce309d50d3\");\n",
       "          const url = new URL(\"/\", window.location);\n",
       "          const port = 6006;\n",
       "          if (port) {\n",
       "            url.port = port;\n",
       "          }\n",
       "          frame.src = url;\n",
       "        })();\n",
       "      </script>\n",
       "    "
      ],
      "text/plain": [
       "<IPython.core.display.HTML object>"
      ]
     },
     "metadata": {},
     "output_type": "display_data"
    }
   ],
   "source": [
    "%tensorboard --logdir='/project/results/output/snapshots/fold13/'"
   ]
  }
 ],
 "metadata": {
  "kernelspec": {
   "display_name": "Python 3 (ipykernel)",
   "language": "python",
   "name": "python3"
  },
  "language_info": {
   "codemirror_mode": {
    "name": "ipython",
    "version": 3
   },
   "file_extension": ".py",
   "mimetype": "text/x-python",
   "name": "python",
   "nbconvert_exporter": "python",
   "pygments_lexer": "ipython3",
   "version": "3.9.7"
  }
 },
 "nbformat": 4,
 "nbformat_minor": 5
}
